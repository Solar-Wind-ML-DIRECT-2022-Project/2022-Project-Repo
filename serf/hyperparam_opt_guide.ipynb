{
 "cells": [
  {
   "cell_type": "markdown",
   "id": "729adb0a",
   "metadata": {},
   "source": [
    "### how to use the hyperparam_opt \n",
    "to optimize hyperparameters"
   ]
  },
  {
   "cell_type": "code",
   "execution_count": null,
   "id": "860a6b1c",
   "metadata": {},
   "outputs": [],
   "source": [
    "import geopandas as gp\n",
    "import pandas as pd\n",
    "import matplotlib\n",
    "from matplotlib import pyplot as plt\n",
    "\n",
    "import optuna\n",
    "from statsmodels.tsa.statespace.sarimax import SARIMAX\n",
    "import numpy as np\n",
    "import sklearn\n",
    "from sklearn.model_selection import TimeSeriesSplit\n",
    "from sklearn.metrics import r2_score\n",
    "\n",
    "from hyperparam_opt import *"
   ]
  },
  {
   "cell_type": "code",
   "execution_count": null,
   "id": "caa4b723",
   "metadata": {},
   "outputs": [],
   "source": []
  },
  {
   "cell_type": "code",
   "execution_count": 13,
   "id": "f334116e",
   "metadata": {},
   "outputs": [],
   "source": [
    "#pick the location of the geojson\n",
    "filename = '../../POWER_Point_Monthly_Timeseries_1981_2020_046d2199N_119d0837W_LST.json'"
   ]
  },
  {
   "cell_type": "code",
   "execution_count": 14,
   "id": "58c6cb5f",
   "metadata": {},
   "outputs": [],
   "source": [
    "# this section is to prepare the data\n",
    "df = loadjson(filename)\n",
    "df = rm13(df)\n",
    "df = Prophet_preproc(df)"
   ]
  },
  {
   "cell_type": "code",
   "execution_count": null,
   "id": "5641dcf4",
   "metadata": {},
   "outputs": [],
   "source": []
  },
  {
   "cell_type": "code",
   "execution_count": 15,
   "id": "2b9084f4",
   "metadata": {},
   "outputs": [],
   "source": [
    "# extract the train, validation, and test data using time series splits\n",
    "X_dict, y_dict = TSS(df)"
   ]
  },
  {
   "cell_type": "code",
   "execution_count": null,
   "id": "dc3a5aab",
   "metadata": {
    "scrolled": true
   },
   "outputs": [],
   "source": []
  },
  {
   "cell_type": "code",
   "execution_count": 16,
   "id": "abf1d434",
   "metadata": {},
   "outputs": [],
   "source": [
    "# extract just the tain and validation data\n",
    "y_train = y_dict['y_train']\n",
    "y_val = y_dict['y_val']"
   ]
  },
  {
   "cell_type": "code",
   "execution_count": 17,
   "id": "90aee7bf",
   "metadata": {
    "scrolled": true
   },
   "outputs": [
    {
     "name": "stderr",
     "output_type": "stream",
     "text": [
      "\u001b[32m[I 2022-03-08 21:28:47,673]\u001b[0m A new study created in memory with name: no-name-f961499b-0cd2-41a5-84e6-651fdab2abed\u001b[0m\n"
     ]
    },
    {
     "name": "stdout",
     "output_type": "stream",
     "text": [
      "Optimization terminated successfully.\n",
      "         Current function value: -1.451767\n",
      "         Iterations: 27\n",
      "         Function evaluations: 4916\n"
     ]
    },
    {
     "name": "stderr",
     "output_type": "stream",
     "text": [
      "\u001b[32m[I 2022-03-08 21:29:18,289]\u001b[0m Trial 0 finished with value: 0.7357497900655356 and parameters: {'p': 6, 'd': 3, 'q': 5, 'P': 2, 'D': 0, 'Q': 1}. Best is trial 0 with value: 0.7357497900655356.\u001b[0m\n"
     ]
    },
    {
     "name": "stdout",
     "output_type": "stream",
     "text": [
      "Optimization terminated successfully.\n",
      "         Current function value: -1.483059\n",
      "         Iterations: 4\n",
      "         Function evaluations: 508\n"
     ]
    },
    {
     "name": "stderr",
     "output_type": "stream",
     "text": [
      "\u001b[32m[I 2022-03-08 21:29:24,681]\u001b[0m Trial 1 finished with value: 0.8363155474276592 and parameters: {'p': 0, 'd': 1, 'q': 4, 'P': 1, 'D': 1, 'Q': 3}. Best is trial 1 with value: 0.8363155474276592.\u001b[0m\n",
      "\u001b[32m[I 2022-03-08 21:29:27,797]\u001b[0m Trial 2 finished with value: 0.14518864682078458 and parameters: {'p': 1, 'd': 0, 'q': 5, 'P': 0, 'D': 0, 'Q': 1}. Best is trial 1 with value: 0.8363155474276592.\u001b[0m\n"
     ]
    },
    {
     "name": "stdout",
     "output_type": "stream",
     "text": [
      "Optimization terminated successfully.\n",
      "         Current function value: -1.328977\n",
      "         Iterations: 10\n",
      "         Function evaluations: 1054\n",
      "Optimization terminated successfully.\n",
      "         Current function value: -1.540620\n",
      "         Iterations: 22\n",
      "         Function evaluations: 4627\n"
     ]
    },
    {
     "name": "stderr",
     "output_type": "stream",
     "text": [
      "\u001b[32m[I 2022-03-08 21:30:06,603]\u001b[0m Trial 3 finished with value: 0.8336901010501897 and parameters: {'p': 8, 'd': 0, 'q': 5, 'P': 2, 'D': 1, 'Q': 1}. Best is trial 1 with value: 0.8363155474276592.\u001b[0m\n"
     ]
    },
    {
     "name": "stdout",
     "output_type": "stream",
     "text": [
      "Optimization terminated successfully.\n",
      "         Current function value: -1.507495\n",
      "         Iterations: 17\n",
      "         Function evaluations: 2440\n"
     ]
    },
    {
     "name": "stderr",
     "output_type": "stream",
     "text": [
      "\u001b[32m[I 2022-03-08 21:30:29,317]\u001b[0m Trial 4 finished with value: 0.8115855404465977 and parameters: {'p': 0, 'd': 2, 'q': 4, 'P': 2, 'D': 0, 'Q': 3}. Best is trial 1 with value: 0.8363155474276592.\u001b[0m\n"
     ]
    },
    {
     "name": "stdout",
     "output_type": "stream",
     "text": [
      "Optimization terminated successfully.\n",
      "         Current function value: -1.184971\n",
      "         Iterations: 3\n",
      "         Function evaluations: 367\n"
     ]
    },
    {
     "name": "stderr",
     "output_type": "stream",
     "text": [
      "\u001b[32m[I 2022-03-08 21:30:31,699]\u001b[0m Trial 5 finished with value: 0.5476721693051104 and parameters: {'p': 8, 'd': 0, 'q': 0, 'P': 2, 'D': 2, 'Q': 0}. Best is trial 1 with value: 0.8363155474276592.\u001b[0m\n"
     ]
    },
    {
     "name": "stdout",
     "output_type": "stream",
     "text": [
      "Optimization terminated successfully.\n",
      "         Current function value: -1.442936\n",
      "         Iterations: 25\n",
      "         Function evaluations: 6145\n"
     ]
    },
    {
     "name": "stderr",
     "output_type": "stream",
     "text": [
      "\u001b[32m[I 2022-03-08 21:31:12,805]\u001b[0m Trial 6 finished with value: 0.777426000106528 and parameters: {'p': 7, 'd': 3, 'q': 6, 'P': 2, 'D': 0, 'Q': 1}. Best is trial 1 with value: 0.8363155474276592.\u001b[0m\n"
     ]
    },
    {
     "name": "stdout",
     "output_type": "stream",
     "text": [
      "Optimization terminated successfully.\n",
      "         Current function value: -1.468570\n",
      "         Iterations: 12\n",
      "         Function evaluations: 3330\n"
     ]
    },
    {
     "name": "stderr",
     "output_type": "stream",
     "text": [
      "\u001b[32m[I 2022-03-08 21:31:55,960]\u001b[0m Trial 7 finished with value: 0.828261448936386 and parameters: {'p': 9, 'd': 1, 'q': 5, 'P': 3, 'D': 1, 'Q': 2}. Best is trial 1 with value: 0.8363155474276592.\u001b[0m\n",
      "\u001b[32m[I 2022-03-08 21:31:59,189]\u001b[0m Trial 8 finished with value: -497.0666375008218 and parameters: {'p': 2, 'd': 3, 'q': 0, 'P': 2, 'D': 0, 'Q': 2}. Best is trial 1 with value: 0.8363155474276592.\u001b[0m\n"
     ]
    },
    {
     "name": "stdout",
     "output_type": "stream",
     "text": [
      "Optimization terminated successfully.\n",
      "         Current function value: -0.804406\n",
      "         Iterations: 8\n",
      "         Function evaluations: 690\n"
     ]
    },
    {
     "name": "stderr",
     "output_type": "stream",
     "text": [
      "\u001b[32m[I 2022-03-08 21:32:01,077]\u001b[0m Trial 9 finished with value: 0.7879114275090604 and parameters: {'p': 4, 'd': 2, 'q': 1, 'P': 0, 'D': 1, 'Q': 1}. Best is trial 1 with value: 0.8363155474276592.\u001b[0m\n"
     ]
    },
    {
     "name": "stdout",
     "output_type": "stream",
     "text": [
      "Optimization terminated successfully.\n",
      "         Current function value: -1.490650\n",
      "         Iterations: 4\n",
      "         Function evaluations: 382\n",
      "Optimization terminated successfully.\n",
      "         Current function value: -1.366886\n",
      "         Iterations: 17\n",
      "         Function evaluations: 2096\n"
     ]
    },
    {
     "name": "stderr",
     "output_type": "stream",
     "text": [
      "\u001b[32m[I 2022-03-08 21:32:41,718]\u001b[0m Trial 10 finished with value: 0.8197865565155643 and parameters: {'p': 3, 'd': 1, 'q': 2, 'P': 1, 'D': 2, 'Q': 3}. Best is trial 1 with value: 0.8363155474276592.\u001b[0m\n",
      "\u001b[32m[I 2022-03-08 21:32:46,498]\u001b[0m Trial 11 finished with value: 0.8334561701391381 and parameters: {'p': 6, 'd': 0, 'q': 3, 'P': 1, 'D': 1, 'Q': 0}. Best is trial 1 with value: 0.8363155474276592.\u001b[0m\n"
     ]
    },
    {
     "name": "stdout",
     "output_type": "stream",
     "text": [
      "Optimization terminated successfully.\n",
      "         Current function value: -1.522385\n",
      "         Iterations: 11\n",
      "         Function evaluations: 1559\n",
      "Optimization terminated successfully.\n",
      "         Current function value: -1.481182\n",
      "         Iterations: 6\n",
      "         Function evaluations: 978\n"
     ]
    },
    {
     "name": "stderr",
     "output_type": "stream",
     "text": [
      "\u001b[32m[I 2022-03-08 21:32:58,500]\u001b[0m Trial 12 finished with value: 0.832119430652335 and parameters: {'p': 5, 'd': 1, 'q': 3, 'P': 3, 'D': 1, 'Q': 2}. Best is trial 1 with value: 0.8363155474276592.\u001b[0m\n"
     ]
    },
    {
     "name": "stdout",
     "output_type": "stream",
     "text": [
      "Optimization terminated successfully.\n",
      "         Current function value: -1.374779\n",
      "         Iterations: 7\n",
      "         Function evaluations: 864\n"
     ]
    },
    {
     "name": "stderr",
     "output_type": "stream",
     "text": [
      "\u001b[32m[I 2022-03-08 21:33:15,866]\u001b[0m Trial 13 finished with value: 0.8295771016304412 and parameters: {'p': 0, 'd': 0, 'q': 4, 'P': 1, 'D': 2, 'Q': 3}. Best is trial 1 with value: 0.8363155474276592.\u001b[0m\n"
     ]
    },
    {
     "name": "stdout",
     "output_type": "stream",
     "text": [
      "Optimization terminated successfully.\n",
      "         Current function value: -1.504290\n",
      "         Iterations: 25\n",
      "         Function evaluations: 5898\n"
     ]
    },
    {
     "name": "stderr",
     "output_type": "stream",
     "text": [
      "\u001b[32m[I 2022-03-08 21:34:06,256]\u001b[0m Trial 14 finished with value: 0.8403786535811981 and parameters: {'p': 9, 'd': 1, 'q': 6, 'P': 1, 'D': 1, 'Q': 2}. Best is trial 14 with value: 0.8403786535811981.\u001b[0m\n"
     ]
    },
    {
     "name": "stdout",
     "output_type": "stream",
     "text": [
      "Optimization terminated successfully.\n",
      "         Current function value: -1.448774\n",
      "         Iterations: 11\n",
      "         Function evaluations: 2057\n"
     ]
    },
    {
     "name": "stderr",
     "output_type": "stream",
     "text": [
      "\u001b[32m[I 2022-03-08 21:34:34,663]\u001b[0m Trial 15 finished with value: 0.8356841062217534 and parameters: {'p': 3, 'd': 2, 'q': 6, 'P': 0, 'D': 1, 'Q': 3}. Best is trial 14 with value: 0.8403786535811981.\u001b[0m\n"
     ]
    },
    {
     "name": "stdout",
     "output_type": "stream",
     "text": [
      "Optimization terminated successfully.\n",
      "         Current function value: -1.392957\n",
      "         Iterations: 20\n",
      "         Function evaluations: 4413\n"
     ]
    },
    {
     "name": "stderr",
     "output_type": "stream",
     "text": [
      "\u001b[32m[I 2022-03-08 21:35:26,944]\u001b[0m Trial 16 finished with value: 0.820698144755392 and parameters: {'p': 9, 'd': 1, 'q': 4, 'P': 1, 'D': 2, 'Q': 2}. Best is trial 14 with value: 0.8403786535811981.\u001b[0m\n"
     ]
    },
    {
     "name": "stdout",
     "output_type": "stream",
     "text": [
      "Optimization terminated successfully.\n",
      "         Current function value: -1.473071\n",
      "         Iterations: 5\n",
      "         Function evaluations: 929\n"
     ]
    },
    {
     "name": "stderr",
     "output_type": "stream",
     "text": [
      "\u001b[32m[I 2022-03-08 21:35:39,012]\u001b[0m Trial 17 finished with value: 0.8364934363184522 and parameters: {'p': 4, 'd': 1, 'q': 6, 'P': 1, 'D': 1, 'Q': 3}. Best is trial 14 with value: 0.8403786535811981.\u001b[0m\n"
     ]
    },
    {
     "name": "stdout",
     "output_type": "stream",
     "text": [
      "Optimization terminated successfully.\n",
      "         Current function value: -1.379662\n",
      "         Iterations: 13\n",
      "         Function evaluations: 2917\n"
     ]
    },
    {
     "name": "stderr",
     "output_type": "stream",
     "text": [
      "\u001b[32m[I 2022-03-08 21:36:18,972]\u001b[0m Trial 18 finished with value: 0.8180579395132577 and parameters: {'p': 5, 'd': 2, 'q': 6, 'P': 0, 'D': 2, 'Q': 2}. Best is trial 14 with value: 0.8403786535811981.\u001b[0m\n"
     ]
    },
    {
     "name": "stdout",
     "output_type": "stream",
     "text": [
      "Optimization terminated successfully.\n",
      "         Current function value: -1.473071\n",
      "         Iterations: 5\n",
      "         Function evaluations: 929\n"
     ]
    },
    {
     "name": "stderr",
     "output_type": "stream",
     "text": [
      "\u001b[32m[I 2022-03-08 21:36:30,481]\u001b[0m Trial 19 finished with value: 0.8364934363184522 and parameters: {'p': 4, 'd': 1, 'q': 6, 'P': 1, 'D': 1, 'Q': 3}. Best is trial 14 with value: 0.8403786535811981.\u001b[0m\n"
     ]
    },
    {
     "name": "stdout",
     "output_type": "stream",
     "text": [
      "Optimization terminated successfully.\n",
      "         Current function value: -1.452081\n",
      "         Iterations: 8\n",
      "         Function evaluations: 1098\n"
     ]
    },
    {
     "name": "stderr",
     "output_type": "stream",
     "text": [
      "\u001b[32m[I 2022-03-08 21:36:39,098]\u001b[0m Trial 20 finished with value: 0.8211264340816209 and parameters: {'p': 6, 'd': 2, 'q': 2, 'P': 0, 'D': 1, 'Q': 2}. Best is trial 14 with value: 0.8403786535811981.\u001b[0m\n"
     ]
    },
    {
     "name": "stdout",
     "output_type": "stream",
     "text": [
      "Optimization terminated successfully.\n",
      "         Current function value: -1.473071\n",
      "         Iterations: 5\n",
      "         Function evaluations: 929\n"
     ]
    },
    {
     "name": "stderr",
     "output_type": "stream",
     "text": [
      "\u001b[32m[I 2022-03-08 21:36:50,525]\u001b[0m Trial 21 finished with value: 0.8364934363184522 and parameters: {'p': 4, 'd': 1, 'q': 6, 'P': 1, 'D': 1, 'Q': 3}. Best is trial 14 with value: 0.8403786535811981.\u001b[0m\n"
     ]
    },
    {
     "name": "stdout",
     "output_type": "stream",
     "text": [
      "Optimization terminated successfully.\n",
      "         Current function value: -1.472902\n",
      "         Iterations: 4\n",
      "         Function evaluations: 677\n"
     ]
    },
    {
     "name": "stderr",
     "output_type": "stream",
     "text": [
      "\u001b[32m[I 2022-03-08 21:36:58,933]\u001b[0m Trial 22 finished with value: 0.8366886933876555 and parameters: {'p': 3, 'd': 1, 'q': 6, 'P': 1, 'D': 1, 'Q': 3}. Best is trial 14 with value: 0.8403786535811981.\u001b[0m\n"
     ]
    },
    {
     "name": "stdout",
     "output_type": "stream",
     "text": [
      "Optimization terminated successfully.\n",
      "         Current function value: -1.480803\n",
      "         Iterations: 7\n",
      "         Function evaluations: 1164\n"
     ]
    },
    {
     "name": "stderr",
     "output_type": "stream",
     "text": [
      "\u001b[32m[I 2022-03-08 21:37:13,742]\u001b[0m Trial 23 finished with value: 0.8360116439569971 and parameters: {'p': 2, 'd': 1, 'q': 5, 'P': 1, 'D': 1, 'Q': 3}. Best is trial 14 with value: 0.8403786535811981.\u001b[0m\n"
     ]
    },
    {
     "name": "stdout",
     "output_type": "stream",
     "text": [
      "Optimization terminated successfully.\n",
      "         Current function value: -1.521634\n",
      "         Iterations: 5\n",
      "         Function evaluations: 794\n"
     ]
    },
    {
     "name": "stderr",
     "output_type": "stream",
     "text": [
      "\u001b[32m[I 2022-03-08 21:37:20,579]\u001b[0m Trial 24 finished with value: 0.8373005797441747 and parameters: {'p': 3, 'd': 1, 'q': 6, 'P': 1, 'D': 1, 'Q': 2}. Best is trial 14 with value: 0.8403786535811981.\u001b[0m\n",
      "\u001b[32m[I 2022-03-08 21:37:34,254]\u001b[0m Trial 25 finished with value: 0.8135303088266924 and parameters: {'p': 2, 'd': 2, 'q': 5, 'P': 1, 'D': 0, 'Q': 2}. Best is trial 14 with value: 0.8403786535811981.\u001b[0m\n"
     ]
    },
    {
     "name": "stdout",
     "output_type": "stream",
     "text": [
      "Optimization terminated successfully.\n",
      "         Current function value: -1.553036\n",
      "         Iterations: 16\n",
      "         Function evaluations: 2525\n",
      "Optimization terminated successfully.\n",
      "         Current function value: -1.399303\n",
      "         Iterations: 8\n",
      "         Function evaluations: 1229\n"
     ]
    },
    {
     "name": "stderr",
     "output_type": "stream",
     "text": [
      "\u001b[32m[I 2022-03-08 21:37:49,156]\u001b[0m Trial 26 finished with value: 0.820367888912484 and parameters: {'p': 3, 'd': 1, 'q': 6, 'P': 0, 'D': 2, 'Q': 2}. Best is trial 14 with value: 0.8403786535811981.\u001b[0m\n"
     ]
    },
    {
     "name": "stdout",
     "output_type": "stream",
     "text": [
      "Optimization terminated successfully.\n",
      "         Current function value: -1.543003\n",
      "         Iterations: 4\n",
      "         Function evaluations: 587\n"
     ]
    },
    {
     "name": "stderr",
     "output_type": "stream",
     "text": [
      "\u001b[32m[I 2022-03-08 21:37:53,741]\u001b[0m Trial 27 finished with value: 0.8400302472465953 and parameters: {'p': 1, 'd': 0, 'q': 5, 'P': 1, 'D': 1, 'Q': 2}. Best is trial 14 with value: 0.8403786535811981.\u001b[0m\n"
     ]
    },
    {
     "name": "stdout",
     "output_type": "stream",
     "text": [
      "Optimization terminated successfully.\n",
      "         Current function value: -1.543648\n",
      "         Iterations: 6\n",
      "         Function evaluations: 1001\n"
     ]
    },
    {
     "name": "stderr",
     "output_type": "stream",
     "text": [
      "\u001b[32m[I 2022-03-08 21:38:01,283]\u001b[0m Trial 28 finished with value: 0.8402319118306592 and parameters: {'p': 1, 'd': 0, 'q': 5, 'P': 2, 'D': 1, 'Q': 2}. Best is trial 14 with value: 0.8403786535811981.\u001b[0m\n",
      "\u001b[32m[I 2022-03-08 21:38:04,666]\u001b[0m Trial 29 finished with value: 0.8393275899829942 and parameters: {'p': 1, 'd': 0, 'q': 4, 'P': 3, 'D': 0, 'Q': 1}. Best is trial 14 with value: 0.8403786535811981.\u001b[0m\n"
     ]
    },
    {
     "name": "stdout",
     "output_type": "stream",
     "text": [
      "Optimization terminated successfully.\n",
      "         Current function value: -1.562493\n",
      "         Iterations: 4\n",
      "         Function evaluations: 485\n",
      "Optimization terminated successfully.\n",
      "         Current function value: -1.543648\n",
      "         Iterations: 6\n",
      "         Function evaluations: 1001\n"
     ]
    },
    {
     "name": "stderr",
     "output_type": "stream",
     "text": [
      "\u001b[32m[I 2022-03-08 21:38:12,063]\u001b[0m Trial 30 finished with value: 0.8402319118306592 and parameters: {'p': 1, 'd': 0, 'q': 5, 'P': 2, 'D': 1, 'Q': 2}. Best is trial 14 with value: 0.8403786535811981.\u001b[0m\n"
     ]
    },
    {
     "name": "stdout",
     "output_type": "stream",
     "text": [
      "Optimization terminated successfully.\n",
      "         Current function value: -1.543648\n",
      "         Iterations: 6\n",
      "         Function evaluations: 1001\n"
     ]
    },
    {
     "name": "stderr",
     "output_type": "stream",
     "text": [
      "\u001b[32m[I 2022-03-08 21:38:19,519]\u001b[0m Trial 31 finished with value: 0.8402319118306592 and parameters: {'p': 1, 'd': 0, 'q': 5, 'P': 2, 'D': 1, 'Q': 2}. Best is trial 14 with value: 0.8403786535811981.\u001b[0m\n"
     ]
    },
    {
     "name": "stdout",
     "output_type": "stream",
     "text": [
      "Optimization terminated successfully.\n",
      "         Current function value: -1.543648\n",
      "         Iterations: 6\n",
      "         Function evaluations: 1001\n"
     ]
    },
    {
     "name": "stderr",
     "output_type": "stream",
     "text": [
      "\u001b[32m[I 2022-03-08 21:38:27,016]\u001b[0m Trial 32 finished with value: 0.8402319118306592 and parameters: {'p': 1, 'd': 0, 'q': 5, 'P': 2, 'D': 1, 'Q': 2}. Best is trial 14 with value: 0.8403786535811981.\u001b[0m\n",
      "\u001b[32m[I 2022-03-08 21:38:30,363]\u001b[0m Trial 33 finished with value: 0.8393459637845149 and parameters: {'p': 0, 'd': 0, 'q': 4, 'P': 2, 'D': 1, 'Q': 2}. Best is trial 14 with value: 0.8403786535811981.\u001b[0m\n"
     ]
    },
    {
     "name": "stdout",
     "output_type": "stream",
     "text": [
      "Optimization terminated successfully.\n",
      "         Current function value: -1.543994\n",
      "         Iterations: 4\n",
      "         Function evaluations: 448\n",
      "Optimization terminated successfully.\n",
      "         Current function value: -1.499583\n",
      "         Iterations: 8\n",
      "         Function evaluations: 1263\n"
     ]
    },
    {
     "name": "stderr",
     "output_type": "stream",
     "text": [
      "\u001b[32m[I 2022-03-08 21:38:39,372]\u001b[0m Trial 34 finished with value: 0.8355439939570148 and parameters: {'p': 2, 'd': 0, 'q': 5, 'P': 3, 'D': 1, 'Q': 1}. Best is trial 14 with value: 0.8403786535811981.\u001b[0m\n",
      "\u001b[32m[I 2022-03-08 21:38:42,145]\u001b[0m Trial 35 finished with value: 0.8388559312068379 and parameters: {'p': 1, 'd': 0, 'q': 3, 'P': 2, 'D': 1, 'Q': 2}. Best is trial 14 with value: 0.8403786535811981.\u001b[0m\n"
     ]
    },
    {
     "name": "stdout",
     "output_type": "stream",
     "text": [
      "Optimization terminated successfully.\n",
      "         Current function value: -1.549273\n",
      "         Iterations: 4\n",
      "         Function evaluations: 430\n"
     ]
    },
    {
     "name": "stderr",
     "output_type": "stream",
     "text": [
      "\u001b[32m[I 2022-03-08 21:38:44,290]\u001b[0m Trial 36 finished with value: 0.8348634622960696 and parameters: {'p': 0, 'd': 0, 'q': 4, 'P': 2, 'D': 0, 'Q': 1}. Best is trial 14 with value: 0.8403786535811981.\u001b[0m\n"
     ]
    },
    {
     "name": "stdout",
     "output_type": "stream",
     "text": [
      "Optimization terminated successfully.\n",
      "         Current function value: -1.613964\n",
      "         Iterations: 6\n",
      "         Function evaluations: 584\n",
      "Optimization terminated successfully.\n",
      "         Current function value: -0.658266\n",
      "         Iterations: 24\n",
      "         Function evaluations: 5898\n"
     ]
    },
    {
     "name": "stderr",
     "output_type": "stream",
     "text": [
      "\u001b[32m[I 2022-03-08 21:39:37,035]\u001b[0m Trial 37 finished with value: -3.0335765236210605e+28 and parameters: {'p': 7, 'd': 0, 'q': 5, 'P': 2, 'D': 1, 'Q': 2}. Best is trial 14 with value: 0.8403786535811981.\u001b[0m\n",
      "\u001b[32m[I 2022-03-08 21:39:42,456]\u001b[0m Trial 38 finished with value: 0.8390799371538129 and parameters: {'p': 1, 'd': 0, 'q': 5, 'P': 2, 'D': 1, 'Q': 1}. Best is trial 14 with value: 0.8403786535811981.\u001b[0m\n"
     ]
    },
    {
     "name": "stdout",
     "output_type": "stream",
     "text": [
      "Optimization terminated successfully.\n",
      "         Current function value: -1.568475\n",
      "         Iterations: 6\n",
      "         Function evaluations: 941\n",
      "Optimization terminated successfully.\n",
      "         Current function value: -1.349061\n",
      "         Iterations: 51\n",
      "         Function evaluations: 8094\n"
     ]
    },
    {
     "name": "stderr",
     "output_type": "stream",
     "text": [
      "\u001b[32m[I 2022-03-08 21:40:50,472]\u001b[0m Trial 39 finished with value: 0.8090371674824713 and parameters: {'p': 8, 'd': 0, 'q': 3, 'P': 3, 'D': 0, 'Q': 0}. Best is trial 14 with value: 0.8403786535811981.\u001b[0m\n"
     ]
    },
    {
     "name": "stdout",
     "output_type": "stream",
     "text": [
      "Optimization terminated successfully.\n",
      "         Current function value: -1.400579\n",
      "         Iterations: 9\n",
      "         Function evaluations: 1014\n"
     ]
    },
    {
     "name": "stderr",
     "output_type": "stream",
     "text": [
      "\u001b[32m[I 2022-03-08 21:41:02,464]\u001b[0m Trial 40 finished with value: 0.829178193339726 and parameters: {'p': 0, 'd': 0, 'q': 4, 'P': 2, 'D': 2, 'Q': 2}. Best is trial 14 with value: 0.8403786535811981.\u001b[0m\n"
     ]
    },
    {
     "name": "stdout",
     "output_type": "stream",
     "text": [
      "Optimization terminated successfully.\n",
      "         Current function value: -1.541758\n",
      "         Iterations: 9\n",
      "         Function evaluations: 1575\n"
     ]
    },
    {
     "name": "stderr",
     "output_type": "stream",
     "text": [
      "\u001b[32m[I 2022-03-08 21:41:15,263]\u001b[0m Trial 41 finished with value: 0.8393076205914691 and parameters: {'p': 2, 'd': 0, 'q': 5, 'P': 2, 'D': 1, 'Q': 2}. Best is trial 14 with value: 0.8403786535811981.\u001b[0m\n"
     ]
    },
    {
     "name": "stdout",
     "output_type": "stream",
     "text": [
      "Optimization terminated successfully.\n",
      "         Current function value: -1.543648\n",
      "         Iterations: 6\n",
      "         Function evaluations: 1001\n"
     ]
    },
    {
     "name": "stderr",
     "output_type": "stream",
     "text": [
      "\u001b[32m[I 2022-03-08 21:41:23,159]\u001b[0m Trial 42 finished with value: 0.8402319118306592 and parameters: {'p': 1, 'd': 0, 'q': 5, 'P': 2, 'D': 1, 'Q': 2}. Best is trial 14 with value: 0.8403786535811981.\u001b[0m\n"
     ]
    },
    {
     "name": "stdout",
     "output_type": "stream",
     "text": [
      "Optimization terminated successfully.\n",
      "         Current function value: -1.541758\n",
      "         Iterations: 9\n",
      "         Function evaluations: 1575\n"
     ]
    },
    {
     "name": "stderr",
     "output_type": "stream",
     "text": [
      "\u001b[32m[I 2022-03-08 21:41:35,902]\u001b[0m Trial 43 finished with value: 0.8393076205914691 and parameters: {'p': 2, 'd': 0, 'q': 5, 'P': 2, 'D': 1, 'Q': 2}. Best is trial 14 with value: 0.8403786535811981.\u001b[0m\n"
     ]
    },
    {
     "name": "stdout",
     "output_type": "stream",
     "text": [
      "Optimization terminated successfully.\n",
      "         Current function value: -1.538844\n",
      "         Iterations: 4\n",
      "         Function evaluations: 615\n"
     ]
    },
    {
     "name": "stderr",
     "output_type": "stream",
     "text": [
      "\u001b[32m[I 2022-03-08 21:41:41,038]\u001b[0m Trial 44 finished with value: 0.8396922110493824 and parameters: {'p': 1, 'd': 0, 'q': 6, 'P': 2, 'D': 1, 'Q': 2}. Best is trial 14 with value: 0.8403786535811981.\u001b[0m\n"
     ]
    },
    {
     "name": "stdout",
     "output_type": "stream",
     "text": [
      "Optimization terminated successfully.\n",
      "         Current function value: -1.452355\n",
      "         Iterations: 21\n",
      "         Function evaluations: 2820\n"
     ]
    },
    {
     "name": "stderr",
     "output_type": "stream",
     "text": [
      "\u001b[32m[I 2022-03-08 21:42:05,726]\u001b[0m Trial 45 finished with value: 0.7776152865590984 and parameters: {'p': 0, 'd': 3, 'q': 4, 'P': 2, 'D': 1, 'Q': 2}. Best is trial 14 with value: 0.8403786535811981.\u001b[0m\n",
      "\u001b[32m[I 2022-03-08 21:42:11,116]\u001b[0m Trial 46 finished with value: 0.8390799371538129 and parameters: {'p': 1, 'd': 0, 'q': 5, 'P': 2, 'D': 1, 'Q': 1}. Best is trial 14 with value: 0.8403786535811981.\u001b[0m\n"
     ]
    },
    {
     "name": "stdout",
     "output_type": "stream",
     "text": [
      "Optimization terminated successfully.\n",
      "         Current function value: -1.568475\n",
      "         Iterations: 6\n",
      "         Function evaluations: 941\n",
      "Optimization terminated successfully.\n",
      "         Current function value: -1.510802\n",
      "         Iterations: 5\n",
      "         Function evaluations: 482\n"
     ]
    },
    {
     "name": "stderr",
     "output_type": "stream",
     "text": [
      "\u001b[32m[I 2022-03-08 21:42:14,864]\u001b[0m Trial 47 finished with value: 0.8362010317360907 and parameters: {'p': 0, 'd': 0, 'q': 2, 'P': 3, 'D': 1, 'Q': 2}. Best is trial 14 with value: 0.8403786535811981.\u001b[0m\n"
     ]
    },
    {
     "name": "stdout",
     "output_type": "stream",
     "text": [
      "Optimization terminated successfully.\n",
      "         Current function value: -1.541758\n",
      "         Iterations: 9\n",
      "         Function evaluations: 1575\n"
     ]
    },
    {
     "name": "stderr",
     "output_type": "stream",
     "text": [
      "\u001b[32m[I 2022-03-08 21:42:27,157]\u001b[0m Trial 48 finished with value: 0.8393076205914691 and parameters: {'p': 2, 'd': 0, 'q': 5, 'P': 2, 'D': 1, 'Q': 2}. Best is trial 14 with value: 0.8403786535811981.\u001b[0m\n"
     ]
    },
    {
     "name": "stdout",
     "output_type": "stream",
     "text": [
      "Optimization terminated successfully.\n",
      "         Current function value: -1.472806\n",
      "         Iterations: 15\n",
      "         Function evaluations: 2780\n"
     ]
    },
    {
     "name": "stderr",
     "output_type": "stream",
     "text": [
      "\u001b[32m[I 2022-03-08 21:42:59,454]\u001b[0m Trial 49 finished with value: 0.8347209765328292 and parameters: {'p': 7, 'd': 1, 'q': 1, 'P': 3, 'D': 1, 'Q': 2}. Best is trial 14 with value: 0.8403786535811981.\u001b[0m\n"
     ]
    }
   ],
   "source": [
    "Use this code to optimize the hyperparameters\n",
    "\n",
    "\n",
    "argfunction = lambda trial: objective(trial,y_train,y_val)\n",
    "study = optuna.create_study(sampler=optuna.samplers.TPESampler(), direction='maximize')\n",
    "study.optimize(argfunction, n_trials=50)\n",
    "        #,y_train=y_train,y_val=y_val)\n",
    "\n",
    "results = study.trials_dataframe()"
   ]
  },
  {
   "cell_type": "code",
   "execution_count": 18,
   "id": "75be3f1e",
   "metadata": {},
   "outputs": [],
   "source": [
    "#load the results into a csv in the location of your choosing\n",
    "results.to_csv('../../SARIMAX_hyperparameter_results_3.csv')"
   ]
  },
  {
   "cell_type": "code",
   "execution_count": null,
   "id": "d378944d",
   "metadata": {},
   "outputs": [],
   "source": []
  }
 ],
 "metadata": {
  "kernelspec": {
   "display_name": "Python 3 (ipykernel)",
   "language": "python",
   "name": "python3"
  },
  "language_info": {
   "codemirror_mode": {
    "name": "ipython",
    "version": 3
   },
   "file_extension": ".py",
   "mimetype": "text/x-python",
   "name": "python",
   "nbconvert_exporter": "python",
   "pygments_lexer": "ipython3",
   "version": "3.7.11"
  }
 },
 "nbformat": 4,
 "nbformat_minor": 5
}
