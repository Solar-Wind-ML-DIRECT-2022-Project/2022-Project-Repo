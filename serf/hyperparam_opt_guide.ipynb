{
 "cells": [
  {
   "cell_type": "markdown",
   "id": "729adb0a",
   "metadata": {},
   "source": [
    "### how to use the hyperparam_opt \n",
    "to optimize hyperparameters"
   ]
  },
  {
   "cell_type": "code",
   "execution_count": 1,
   "id": "860a6b1c",
   "metadata": {},
   "outputs": [],
   "source": [
    "import geopandas as gp\n",
    "import pandas as pd\n",
    "import matplotlib\n",
    "from matplotlib import pyplot as plt\n",
    "\n",
    "import optuna\n",
    "from statsmodels.tsa.statespace.sarimax import SARIMAX\n",
    "import numpy as np\n",
    "import sklearn\n",
    "from sklearn.model_selection import TimeSeriesSplit\n",
    "from sklearn.metrics import r2_score\n",
    "\n",
    "from hyperparam_opt import *"
   ]
  },
  {
   "cell_type": "code",
   "execution_count": null,
   "id": "caa4b723",
   "metadata": {},
   "outputs": [],
   "source": []
  },
  {
   "cell_type": "code",
   "execution_count": 4,
   "id": "f334116e",
   "metadata": {},
   "outputs": [],
   "source": [
    "#pick the location of the geojson\n",
    "filename = 'NASA/POWER_Point_Monthly_Timeseries_1981_2020_045d4969N_122d5938W_LST.json'"
   ]
  },
  {
   "cell_type": "code",
   "execution_count": 5,
   "id": "58c6cb5f",
   "metadata": {},
   "outputs": [],
   "source": [
    "# this section is to prepare the data\n",
    "df = loadjson(filename)\n",
    "df = rm13(df)\n",
    "df = Prophet_preproc(df)"
   ]
  },
  {
   "cell_type": "code",
   "execution_count": null,
   "id": "5641dcf4",
   "metadata": {},
   "outputs": [],
   "source": []
  },
  {
   "cell_type": "code",
   "execution_count": 6,
   "id": "2b9084f4",
   "metadata": {},
   "outputs": [],
   "source": [
    "# extract the train, validation, and test data using time series splits\n",
    "X_dict, y_dict = TSS(df)"
   ]
  },
  {
   "cell_type": "code",
   "execution_count": null,
   "id": "dc3a5aab",
   "metadata": {
    "scrolled": true
   },
   "outputs": [],
   "source": []
  },
  {
   "cell_type": "code",
   "execution_count": 7,
   "id": "abf1d434",
   "metadata": {},
   "outputs": [],
   "source": [
    "# extract just the tain and validation data\n",
    "y_train = y_dict['y_train']\n",
    "y_val = y_dict['y_val']"
   ]
  },
  {
   "cell_type": "code",
   "execution_count": null,
   "id": "90aee7bf",
   "metadata": {
    "scrolled": true
   },
   "outputs": [
    {
     "name": "stderr",
     "output_type": "stream",
     "text": [
      "\u001b[32m[I 2022-03-11 09:25:33,594]\u001b[0m A new study created in memory with name: no-name-42179033-deda-4996-874a-5a53774fc2ab\u001b[0m\n"
     ]
    },
    {
     "name": "stdout",
     "output_type": "stream",
     "text": [
      "Optimization terminated successfully.\n",
      "         Current function value: -1.411315\n",
      "         Iterations: 7\n",
      "         Function evaluations: 1178\n"
     ]
    },
    {
     "name": "stderr",
     "output_type": "stream",
     "text": [
      "\u001b[32m[I 2022-03-11 09:25:45,698]\u001b[0m Trial 0 finished with value: 0.6893967634392913 and parameters: {'p': 1, 'd': 0, 'q': 8, 'P': 1, 'D': 0, 'Q': 1}. Best is trial 0 with value: 0.6893967634392913.\u001b[0m\n"
     ]
    },
    {
     "name": "stdout",
     "output_type": "stream",
     "text": [
      "Optimization terminated successfully.\n",
      "         Current function value: -1.342892\n",
      "         Iterations: 4\n",
      "         Function evaluations: 628\n"
     ]
    },
    {
     "name": "stderr",
     "output_type": "stream",
     "text": [
      "\u001b[32m[I 2022-03-11 09:25:58,733]\u001b[0m Trial 1 finished with value: 0.6929676833202749 and parameters: {'p': 7, 'd': 0, 'q': 2, 'P': 3, 'D': 0, 'Q': 2}. Best is trial 1 with value: 0.6929676833202749.\u001b[0m\n"
     ]
    },
    {
     "name": "stdout",
     "output_type": "stream",
     "text": [
      "Optimization terminated successfully.\n",
      "         Current function value: -1.258879\n",
      "         Iterations: 9\n",
      "         Function evaluations: 1318\n"
     ]
    },
    {
     "name": "stderr",
     "output_type": "stream",
     "text": [
      "\u001b[32m[I 2022-03-11 09:26:20,957]\u001b[0m Trial 2 finished with value: 0.6021037978918113 and parameters: {'p': 5, 'd': 0, 'q': 4, 'P': 3, 'D': 0, 'Q': 0}. Best is trial 1 with value: 0.6929676833202749.\u001b[0m\n",
      "\u001b[32m[I 2022-03-11 09:26:25,701]\u001b[0m Trial 3 finished with value: -0.4633413533098689 and parameters: {'p': 3, 'd': 0, 'q': 1, 'P': 0, 'D': 0, 'Q': 2}. Best is trial 1 with value: 0.6929676833202749.\u001b[0m\n"
     ]
    },
    {
     "name": "stdout",
     "output_type": "stream",
     "text": [
      "Optimization terminated successfully.\n",
      "         Current function value: -1.126293\n",
      "         Iterations: 7\n",
      "         Function evaluations: 582\n"
     ]
    },
    {
     "name": "stderr",
     "output_type": "stream",
     "text": [
      "\u001b[32m[I 2022-03-11 09:26:28,606]\u001b[0m Trial 4 finished with value: 0.07024051629826045 and parameters: {'p': 2, 'd': 1, 'q': 3, 'P': 0, 'D': 0, 'Q': 1}. Best is trial 1 with value: 0.6929676833202749.\u001b[0m\n"
     ]
    },
    {
     "name": "stdout",
     "output_type": "stream",
     "text": [
      "Optimization terminated successfully.\n",
      "         Current function value: -1.199585\n",
      "         Iterations: 4\n",
      "         Function evaluations: 378\n",
      "Optimization terminated successfully.\n",
      "         Current function value: -1.323997\n",
      "         Iterations: 13\n",
      "         Function evaluations: 1900\n"
     ]
    },
    {
     "name": "stderr",
     "output_type": "stream",
     "text": [
      "\u001b[32m[I 2022-03-11 09:26:54,013]\u001b[0m Trial 5 finished with value: 0.5791981241375633 and parameters: {'p': 7, 'd': 1, 'q': 3, 'P': 2, 'D': 0, 'Q': 0}. Best is trial 1 with value: 0.6929676833202749.\u001b[0m\n",
      "\u001b[32m[I 2022-03-11 09:26:54,348]\u001b[0m Trial 6 finished with value: 0.6971215782768774 and parameters: {'p': 0, 'd': 0, 'q': 0, 'P': 2, 'D': 0, 'Q': 0}. Best is trial 6 with value: 0.6971215782768774.\u001b[0m\n"
     ]
    },
    {
     "name": "stdout",
     "output_type": "stream",
     "text": [
      "Optimization terminated successfully.\n",
      "         Current function value: -1.315116\n",
      "         Iterations: 1\n",
      "         Function evaluations: 77\n"
     ]
    },
    {
     "name": "stderr",
     "output_type": "stream",
     "text": [
      "\u001b[32m[I 2022-03-11 09:26:54,834]\u001b[0m Trial 7 finished with value: 0.6970988254358681 and parameters: {'p': 0, 'd': 0, 'q': 2, 'P': 1, 'D': 1, 'Q': 0}. Best is trial 6 with value: 0.6971215782768774.\u001b[0m\n"
     ]
    },
    {
     "name": "stdout",
     "output_type": "stream",
     "text": [
      "Optimization terminated successfully.\n",
      "         Current function value: -1.319952\n",
      "         Iterations: 2\n",
      "         Function evaluations: 109\n",
      "Optimization terminated successfully.\n",
      "         Current function value: -1.348341\n",
      "         Iterations: 17\n",
      "         Function evaluations: 3060\n"
     ]
    },
    {
     "name": "stderr",
     "output_type": "stream",
     "text": [
      "\u001b[32m[I 2022-03-11 09:27:57,974]\u001b[0m Trial 8 finished with value: 0.6974145762445458 and parameters: {'p': 2, 'd': 0, 'q': 6, 'P': 2, 'D': 0, 'Q': 3}. Best is trial 8 with value: 0.6974145762445458.\u001b[0m\n"
     ]
    },
    {
     "name": "stdout",
     "output_type": "stream",
     "text": [
      "Optimization terminated successfully.\n",
      "         Current function value: -1.404926\n",
      "         Iterations: 13\n",
      "         Function evaluations: 3240\n"
     ]
    },
    {
     "name": "stderr",
     "output_type": "stream",
     "text": [
      "\u001b[32m[I 2022-03-11 09:28:26,356]\u001b[0m Trial 9 finished with value: 0.7082846569681813 and parameters: {'p': 8, 'd': 1, 'q': 8, 'P': 1, 'D': 0, 'Q': 1}. Best is trial 9 with value: 0.7082846569681813.\u001b[0m\n"
     ]
    },
    {
     "name": "stdout",
     "output_type": "stream",
     "text": [
      "Optimization terminated successfully.\n",
      "         Current function value: -1.301360\n",
      "         Iterations: 19\n",
      "         Function evaluations: 4768\n"
     ]
    },
    {
     "name": "stderr",
     "output_type": "stream",
     "text": [
      "\u001b[32m[I 2022-03-11 09:30:53,378]\u001b[0m Trial 10 finished with value: 0.6861483248493461 and parameters: {'p': 8, 'd': 1, 'q': 8, 'P': 1, 'D': 1, 'Q': 3}. Best is trial 9 with value: 0.7082846569681813.\u001b[0m\n"
     ]
    },
    {
     "name": "stdout",
     "output_type": "stream",
     "text": [
      "Optimization terminated successfully.\n",
      "         Current function value: -1.298131\n",
      "         Iterations: 11\n",
      "         Function evaluations: 2161\n"
     ]
    },
    {
     "name": "stderr",
     "output_type": "stream",
     "text": [
      "\u001b[32m[I 2022-03-11 09:31:48,776]\u001b[0m Trial 11 finished with value: 0.7088482974672189 and parameters: {'p': 5, 'd': 1, 'q': 6, 'P': 2, 'D': 1, 'Q': 3}. Best is trial 11 with value: 0.7088482974672189.\u001b[0m\n"
     ]
    },
    {
     "name": "stdout",
     "output_type": "stream",
     "text": [
      "Optimization terminated successfully.\n",
      "         Current function value: -1.338515\n",
      "         Iterations: 11\n",
      "         Function evaluations: 2096\n"
     ]
    },
    {
     "name": "stderr",
     "output_type": "stream",
     "text": [
      "\u001b[32m[I 2022-03-11 09:32:03,983]\u001b[0m Trial 12 finished with value: 0.7060113473798366 and parameters: {'p': 5, 'd': 1, 'q': 6, 'P': 2, 'D': 1, 'Q': 2}. Best is trial 11 with value: 0.7088482974672189.\u001b[0m\n"
     ]
    },
    {
     "name": "stdout",
     "output_type": "stream",
     "text": [
      "Optimization terminated successfully.\n",
      "         Current function value: -1.378268\n",
      "         Iterations: 9\n",
      "         Function evaluations: 1533\n"
     ]
    },
    {
     "name": "stderr",
     "output_type": "stream",
     "text": [
      "\u001b[32m[I 2022-03-11 09:32:11,783]\u001b[0m Trial 13 finished with value: 0.6975401633779643 and parameters: {'p': 5, 'd': 1, 'q': 6, 'P': 1, 'D': 1, 'Q': 1}. Best is trial 11 with value: 0.7088482974672189.\u001b[0m\n"
     ]
    },
    {
     "name": "stdout",
     "output_type": "stream",
     "text": [
      "Optimization terminated successfully.\n",
      "         Current function value: -1.304425\n",
      "         Iterations: 14\n",
      "         Function evaluations: 3561\n"
     ]
    },
    {
     "name": "stderr",
     "output_type": "stream",
     "text": [
      "\u001b[32m[I 2022-03-11 09:32:57,642]\u001b[0m Trial 14 finished with value: 0.6692500936488064 and parameters: {'p': 8, 'd': 1, 'q': 7, 'P': 3, 'D': 1, 'Q': 3}. Best is trial 11 with value: 0.7088482974672189.\u001b[0m\n"
     ]
    },
    {
     "name": "stdout",
     "output_type": "stream",
     "text": [
      "Optimization terminated successfully.\n",
      "         Current function value: -1.340238\n",
      "         Iterations: 14\n",
      "         Function evaluations: 2410\n"
     ]
    },
    {
     "name": "stderr",
     "output_type": "stream",
     "text": [
      "\u001b[32m[I 2022-03-11 09:33:15,945]\u001b[0m Trial 15 finished with value: 0.7018285115440419 and parameters: {'p': 6, 'd': 1, 'q': 5, 'P': 0, 'D': 1, 'Q': 2}. Best is trial 11 with value: 0.7088482974672189.\u001b[0m\n"
     ]
    },
    {
     "name": "stdout",
     "output_type": "stream",
     "text": [
      "Optimization terminated successfully.\n",
      "         Current function value: -1.339427\n",
      "         Iterations: 7\n",
      "         Function evaluations: 1297\n"
     ]
    },
    {
     "name": "stderr",
     "output_type": "stream",
     "text": [
      "\u001b[32m[I 2022-03-11 09:33:24,903]\u001b[0m Trial 16 finished with value: 0.6950577242901474 and parameters: {'p': 4, 'd': 1, 'q': 7, 'P': 2, 'D': 1, 'Q': 1}. Best is trial 11 with value: 0.7088482974672189.\u001b[0m\n"
     ]
    },
    {
     "name": "stdout",
     "output_type": "stream",
     "text": [
      "Optimization terminated successfully.\n",
      "         Current function value: -1.302032\n",
      "         Iterations: 16\n",
      "         Function evaluations: 3974\n"
     ]
    },
    {
     "name": "stderr",
     "output_type": "stream",
     "text": [
      "\u001b[32m[I 2022-03-11 09:34:14,522]\u001b[0m Trial 17 finished with value: 0.6903447893609524 and parameters: {'p': 7, 'd': 1, 'q': 8, 'P': 1, 'D': 1, 'Q': 3}. Best is trial 11 with value: 0.7088482974672189.\u001b[0m\n",
      "\u001b[32m[I 2022-03-11 09:34:20,945]\u001b[0m Trial 18 finished with value: 0.6976076827555968 and parameters: {'p': 6, 'd': 1, 'q': 5, 'P': 1, 'D': 0, 'Q': 2}. Best is trial 11 with value: 0.7088482974672189.\u001b[0m\n"
     ]
    },
    {
     "name": "stdout",
     "output_type": "stream",
     "text": [
      "Optimization terminated successfully.\n",
      "         Current function value: -1.374725\n",
      "         Iterations: 7\n",
      "         Function evaluations: 1314\n",
      "Optimization terminated successfully.\n",
      "         Current function value: -1.339427\n",
      "         Iterations: 7\n",
      "         Function evaluations: 1297\n"
     ]
    },
    {
     "name": "stderr",
     "output_type": "stream",
     "text": [
      "\u001b[32m[I 2022-03-11 09:34:29,282]\u001b[0m Trial 19 finished with value: 0.6950577242901474 and parameters: {'p': 4, 'd': 1, 'q': 7, 'P': 2, 'D': 1, 'Q': 1}. Best is trial 11 with value: 0.7088482974672189.\u001b[0m\n"
     ]
    },
    {
     "name": "stdout",
     "output_type": "stream",
     "text": [
      "Optimization terminated successfully.\n",
      "         Current function value: -1.229858\n",
      "         Iterations: 8\n",
      "         Function evaluations: 1487\n"
     ]
    },
    {
     "name": "stderr",
     "output_type": "stream",
     "text": [
      "\u001b[32m[I 2022-03-11 09:34:39,598]\u001b[0m Trial 20 finished with value: 0.3537033822410599 and parameters: {'p': 6, 'd': 1, 'q': 5, 'P': 0, 'D': 0, 'Q': 3}. Best is trial 11 with value: 0.7088482974672189.\u001b[0m\n"
     ]
    },
    {
     "name": "stdout",
     "output_type": "stream",
     "text": [
      "Optimization terminated successfully.\n",
      "         Current function value: -1.338515\n",
      "         Iterations: 11\n",
      "         Function evaluations: 2096\n"
     ]
    },
    {
     "name": "stderr",
     "output_type": "stream",
     "text": [
      "\u001b[32m[I 2022-03-11 09:34:55,198]\u001b[0m Trial 21 finished with value: 0.7060113473798366 and parameters: {'p': 5, 'd': 1, 'q': 6, 'P': 2, 'D': 1, 'Q': 2}. Best is trial 11 with value: 0.7088482974672189.\u001b[0m\n"
     ]
    },
    {
     "name": "stdout",
     "output_type": "stream",
     "text": [
      "Optimization terminated successfully.\n",
      "         Current function value: -1.325463\n",
      "         Iterations: 13\n",
      "         Function evaluations: 2498\n"
     ]
    },
    {
     "name": "stderr",
     "output_type": "stream",
     "text": [
      "\u001b[32m[I 2022-03-11 09:35:16,340]\u001b[0m Trial 22 finished with value: 0.6995861226116935 and parameters: {'p': 3, 'd': 1, 'q': 7, 'P': 2, 'D': 1, 'Q': 2}. Best is trial 11 with value: 0.7088482974672189.\u001b[0m\n"
     ]
    },
    {
     "name": "stdout",
     "output_type": "stream",
     "text": [
      "Optimization terminated successfully.\n",
      "         Current function value: -1.297368\n",
      "         Iterations: 13\n",
      "         Function evaluations: 2480\n"
     ]
    },
    {
     "name": "stderr",
     "output_type": "stream",
     "text": [
      "\u001b[32m[I 2022-03-11 09:35:40,914]\u001b[0m Trial 23 finished with value: 0.6960437792581575 and parameters: {'p': 5, 'd': 1, 'q': 6, 'P': 3, 'D': 1, 'Q': 1}. Best is trial 11 with value: 0.7088482974672189.\u001b[0m\n"
     ]
    },
    {
     "name": "stdout",
     "output_type": "stream",
     "text": [
      "Optimization terminated successfully.\n",
      "         Current function value: -1.294968\n",
      "         Iterations: 13\n",
      "         Function evaluations: 2183\n"
     ]
    },
    {
     "name": "stderr",
     "output_type": "stream",
     "text": [
      "\u001b[32m[I 2022-03-11 09:36:03,500]\u001b[0m Trial 24 finished with value: 0.6928035184980194 and parameters: {'p': 3, 'd': 1, 'q': 4, 'P': 2, 'D': 1, 'Q': 3}. Best is trial 11 with value: 0.7088482974672189.\u001b[0m\n"
     ]
    },
    {
     "name": "stdout",
     "output_type": "stream",
     "text": [
      "Optimization terminated successfully.\n",
      "         Current function value: -1.350070\n",
      "         Iterations: 10\n",
      "         Function evaluations: 2359\n"
     ]
    },
    {
     "name": "stderr",
     "output_type": "stream",
     "text": [
      "\u001b[32m[I 2022-03-11 09:36:23,744]\u001b[0m Trial 25 finished with value: 0.6924152683493083 and parameters: {'p': 8, 'd': 1, 'q': 8, 'P': 1, 'D': 1, 'Q': 2}. Best is trial 11 with value: 0.7088482974672189.\u001b[0m\n"
     ]
    },
    {
     "name": "stdout",
     "output_type": "stream",
     "text": [
      "Optimization terminated successfully.\n",
      "         Current function value: -1.346313\n",
      "         Iterations: 12\n",
      "         Function evaluations: 2310\n"
     ]
    },
    {
     "name": "stderr",
     "output_type": "stream",
     "text": [
      "\u001b[32m[I 2022-03-11 09:36:40,808]\u001b[0m Trial 26 finished with value: 0.6942310326753067 and parameters: {'p': 6, 'd': 1, 'q': 5, 'P': 2, 'D': 1, 'Q': 1}. Best is trial 11 with value: 0.7088482974672189.\u001b[0m\n"
     ]
    },
    {
     "name": "stdout",
     "output_type": "stream",
     "text": [
      "Optimization terminated successfully.\n",
      "         Current function value: -1.296587\n",
      "         Iterations: 6\n",
      "         Function evaluations: 1259\n"
     ]
    },
    {
     "name": "stderr",
     "output_type": "stream",
     "text": [
      "\u001b[32m[I 2022-03-11 09:36:53,237]\u001b[0m Trial 27 finished with value: 0.6822642656642486 and parameters: {'p': 4, 'd': 1, 'q': 7, 'P': 3, 'D': 1, 'Q': 2}. Best is trial 11 with value: 0.7088482974672189.\u001b[0m\n"
     ]
    },
    {
     "name": "stdout",
     "output_type": "stream",
     "text": [
      "Optimization terminated successfully.\n",
      "         Current function value: -1.321914\n",
      "         Iterations: 11\n",
      "         Function evaluations: 2715\n"
     ]
    },
    {
     "name": "stderr",
     "output_type": "stream",
     "text": [
      "\u001b[32m[I 2022-03-11 09:37:12,584]\u001b[0m Trial 28 finished with value: 0.6962621450232049 and parameters: {'p': 7, 'd': 1, 'q': 6, 'P': 1, 'D': 0, 'Q': 3}. Best is trial 11 with value: 0.7088482974672189.\u001b[0m\n"
     ]
    },
    {
     "name": "stdout",
     "output_type": "stream",
     "text": [
      "Optimization terminated successfully.\n",
      "         Current function value: -1.383230\n",
      "         Iterations: 12\n",
      "         Function evaluations: 2381\n"
     ]
    },
    {
     "name": "stderr",
     "output_type": "stream",
     "text": [
      "\u001b[32m[I 2022-03-11 09:37:25,790]\u001b[0m Trial 29 finished with value: 0.6916527174087745 and parameters: {'p': 5, 'd': 1, 'q': 8, 'P': 1, 'D': 1, 'Q': 1}. Best is trial 11 with value: 0.7088482974672189.\u001b[0m\n"
     ]
    },
    {
     "name": "stdout",
     "output_type": "stream",
     "text": [
      "Optimization terminated successfully.\n",
      "         Current function value: -1.385312\n",
      "         Iterations: 21\n",
      "         Function evaluations: 4229\n"
     ]
    },
    {
     "name": "stderr",
     "output_type": "stream",
     "text": [
      "\u001b[32m[I 2022-03-11 09:37:50,145]\u001b[0m Trial 30 finished with value: 0.6937964121947295 and parameters: {'p': 2, 'd': 1, 'q': 8, 'P': 2, 'D': 0, 'Q': 2}. Best is trial 11 with value: 0.7088482974672189.\u001b[0m\n"
     ]
    },
    {
     "name": "stdout",
     "output_type": "stream",
     "text": [
      "Optimization terminated successfully.\n",
      "         Current function value: -1.338515\n",
      "         Iterations: 11\n",
      "         Function evaluations: 2096\n"
     ]
    },
    {
     "name": "stderr",
     "output_type": "stream",
     "text": [
      "\u001b[32m[I 2022-03-11 09:38:05,956]\u001b[0m Trial 31 finished with value: 0.7060113473798366 and parameters: {'p': 5, 'd': 1, 'q': 6, 'P': 2, 'D': 1, 'Q': 2}. Best is trial 11 with value: 0.7088482974672189.\u001b[0m\n"
     ]
    },
    {
     "name": "stdout",
     "output_type": "stream",
     "text": [
      "Optimization terminated successfully.\n",
      "         Current function value: -1.341525\n",
      "         Iterations: 14\n",
      "         Function evaluations: 2673\n"
     ]
    },
    {
     "name": "stderr",
     "output_type": "stream",
     "text": [
      "\u001b[32m[I 2022-03-11 09:38:26,385]\u001b[0m Trial 32 finished with value: 0.6978573231747864 and parameters: {'p': 6, 'd': 1, 'q': 5, 'P': 2, 'D': 1, 'Q': 2}. Best is trial 11 with value: 0.7088482974672189.\u001b[0m\n"
     ]
    },
    {
     "name": "stdout",
     "output_type": "stream",
     "text": [
      "Optimization terminated successfully.\n",
      "         Current function value: -1.291946\n",
      "         Iterations: 7\n",
      "         Function evaluations: 1237\n"
     ]
    },
    {
     "name": "stderr",
     "output_type": "stream",
     "text": [
      "\u001b[32m[I 2022-03-11 09:38:38,618]\u001b[0m Trial 33 finished with value: 0.6819393625902181 and parameters: {'p': 4, 'd': 1, 'q': 4, 'P': 3, 'D': 1, 'Q': 2}. Best is trial 11 with value: 0.7088482974672189.\u001b[0m\n"
     ]
    },
    {
     "name": "stdout",
     "output_type": "stream",
     "text": [
      "Optimization terminated successfully.\n",
      "         Current function value: -1.352104\n",
      "         Iterations: 12\n",
      "         Function evaluations: 2607\n"
     ]
    },
    {
     "name": "stderr",
     "output_type": "stream",
     "text": [
      "\u001b[32m[I 2022-03-11 09:38:57,505]\u001b[0m Trial 34 finished with value: 0.709703721073184 and parameters: {'p': 5, 'd': 0, 'q': 7, 'P': 2, 'D': 1, 'Q': 2}. Best is trial 34 with value: 0.709703721073184.\u001b[0m\n"
     ]
    },
    {
     "name": "stdout",
     "output_type": "stream",
     "text": [
      "Optimization terminated successfully.\n",
      "         Current function value: -1.318538\n",
      "         Iterations: 12\n",
      "         Function evaluations: 2167\n"
     ]
    },
    {
     "name": "stderr",
     "output_type": "stream",
     "text": [
      "\u001b[32m[I 2022-03-11 09:39:11,976]\u001b[0m Trial 35 finished with value: 0.7038503674381102 and parameters: {'p': 3, 'd': 0, 'q': 7, 'P': 3, 'D': 1, 'Q': 1}. Best is trial 34 with value: 0.709703721073184.\u001b[0m\n"
     ]
    },
    {
     "name": "stdout",
     "output_type": "stream",
     "text": [
      "Optimization terminated successfully.\n",
      "         Current function value: -1.339575\n",
      "         Iterations: 14\n",
      "         Function evaluations: 3341\n"
     ]
    },
    {
     "name": "stderr",
     "output_type": "stream",
     "text": [
      "\u001b[32m[I 2022-03-11 09:39:37,121]\u001b[0m Trial 36 finished with value: 0.7075220108189644 and parameters: {'p': 7, 'd': 0, 'q': 7, 'P': 2, 'D': 0, 'Q': 3}. Best is trial 34 with value: 0.709703721073184.\u001b[0m\n"
     ]
    },
    {
     "name": "stdout",
     "output_type": "stream",
     "text": [
      "Optimization terminated successfully.\n",
      "         Current function value: -1.341299\n",
      "         Iterations: 23\n",
      "         Function evaluations: 5992\n"
     ]
    },
    {
     "name": "stderr",
     "output_type": "stream",
     "text": [
      "\u001b[32m[I 2022-03-11 09:40:27,246]\u001b[0m Trial 37 finished with value: 0.7033940775553932 and parameters: {'p': 7, 'd': 0, 'q': 8, 'P': 2, 'D': 0, 'Q': 3}. Best is trial 34 with value: 0.709703721073184.\u001b[0m\n"
     ]
    },
    {
     "name": "stdout",
     "output_type": "stream",
     "text": [
      "Optimization terminated successfully.\n",
      "         Current function value: -1.347391\n",
      "         Iterations: 29\n",
      "         Function evaluations: 7188\n"
     ]
    },
    {
     "name": "stderr",
     "output_type": "stream",
     "text": [
      "\u001b[32m[I 2022-03-11 09:41:22,973]\u001b[0m Trial 38 finished with value: 0.7051327834701941 and parameters: {'p': 8, 'd': 0, 'q': 7, 'P': 1, 'D': 0, 'Q': 3}. Best is trial 34 with value: 0.709703721073184.\u001b[0m\n",
      "\u001b[32m[I 2022-03-11 09:41:23,700]\u001b[0m Trial 39 finished with value: 0.40522071426325934 and parameters: {'p': 7, 'd': 0, 'q': 7, 'P': 0, 'D': 0, 'Q': 0}. Best is trial 34 with value: 0.709703721073184.\u001b[0m\n"
     ]
    },
    {
     "name": "stdout",
     "output_type": "stream",
     "text": [
      "Optimization terminated successfully.\n",
      "         Current function value: -1.382511\n",
      "         Iterations: 6\n",
      "         Function evaluations: 1119\n",
      "Optimization terminated successfully.\n",
      "         Current function value: -1.349547\n",
      "         Iterations: 16\n",
      "         Function evaluations: 2949\n"
     ]
    },
    {
     "name": "stderr",
     "output_type": "stream",
     "text": [
      "\u001b[32m[I 2022-03-11 09:41:42,007]\u001b[0m Trial 40 finished with value: 0.6815756822793713 and parameters: {'p': 8, 'd': 0, 'q': 3, 'P': 1, 'D': 0, 'Q': 3}. Best is trial 34 with value: 0.709703721073184.\u001b[0m\n"
     ]
    },
    {
     "name": "stdout",
     "output_type": "stream",
     "text": [
      "Optimization terminated successfully.\n",
      "         Current function value: -1.346698\n",
      "         Iterations: 15\n",
      "         Function evaluations: 3214\n"
     ]
    },
    {
     "name": "stderr",
     "output_type": "stream",
     "text": [
      "\u001b[32m[I 2022-03-11 09:42:07,268]\u001b[0m Trial 41 finished with value: 0.7064340244935027 and parameters: {'p': 6, 'd': 0, 'q': 6, 'P': 2, 'D': 0, 'Q': 3}. Best is trial 34 with value: 0.709703721073184.\u001b[0m\n"
     ]
    }
   ],
   "source": [
    "#Use this code to optimize the hyperparameters\n",
    "\n",
    "\n",
    "argfunction = lambda trial: objective(trial,y_train,y_val)\n",
    "study = optuna.create_study(sampler=optuna.samplers.TPESampler(), direction='maximize')\n",
    "study.optimize(argfunction, n_trials=50)\n",
    "        #,y_train=y_train,y_val=y_val)\n",
    "\n",
    "results = study.trials_dataframe()"
   ]
  },
  {
   "cell_type": "code",
   "execution_count": 10,
   "id": "9b6a3488",
   "metadata": {},
   "outputs": [
    {
     "data": {
      "text/html": [
       "<div>\n",
       "<style scoped>\n",
       "    .dataframe tbody tr th:only-of-type {\n",
       "        vertical-align: middle;\n",
       "    }\n",
       "\n",
       "    .dataframe tbody tr th {\n",
       "        vertical-align: top;\n",
       "    }\n",
       "\n",
       "    .dataframe thead th {\n",
       "        text-align: right;\n",
       "    }\n",
       "</style>\n",
       "<table border=\"1\" class=\"dataframe\">\n",
       "  <thead>\n",
       "    <tr style=\"text-align: right;\">\n",
       "      <th></th>\n",
       "      <th>number</th>\n",
       "      <th>value</th>\n",
       "      <th>datetime_start</th>\n",
       "      <th>datetime_complete</th>\n",
       "      <th>duration</th>\n",
       "      <th>params_D</th>\n",
       "      <th>params_P</th>\n",
       "      <th>params_Q</th>\n",
       "      <th>params_d</th>\n",
       "      <th>params_p</th>\n",
       "      <th>params_q</th>\n",
       "      <th>state</th>\n",
       "    </tr>\n",
       "  </thead>\n",
       "  <tbody>\n",
       "    <tr>\n",
       "      <th>0</th>\n",
       "      <td>0</td>\n",
       "      <td>0.689397</td>\n",
       "      <td>2022-03-11 09:25:33.598110</td>\n",
       "      <td>2022-03-11 09:25:45.697608</td>\n",
       "      <td>0 days 00:00:12.099498</td>\n",
       "      <td>0</td>\n",
       "      <td>1</td>\n",
       "      <td>1</td>\n",
       "      <td>0</td>\n",
       "      <td>1</td>\n",
       "      <td>8</td>\n",
       "      <td>COMPLETE</td>\n",
       "    </tr>\n",
       "    <tr>\n",
       "      <th>1</th>\n",
       "      <td>1</td>\n",
       "      <td>0.692968</td>\n",
       "      <td>2022-03-11 09:25:45.699423</td>\n",
       "      <td>2022-03-11 09:25:58.732715</td>\n",
       "      <td>0 days 00:00:13.033292</td>\n",
       "      <td>0</td>\n",
       "      <td>3</td>\n",
       "      <td>2</td>\n",
       "      <td>0</td>\n",
       "      <td>7</td>\n",
       "      <td>2</td>\n",
       "      <td>COMPLETE</td>\n",
       "    </tr>\n",
       "    <tr>\n",
       "      <th>2</th>\n",
       "      <td>2</td>\n",
       "      <td>0.602104</td>\n",
       "      <td>2022-03-11 09:25:58.734888</td>\n",
       "      <td>2022-03-11 09:26:20.956779</td>\n",
       "      <td>0 days 00:00:22.221891</td>\n",
       "      <td>0</td>\n",
       "      <td>3</td>\n",
       "      <td>0</td>\n",
       "      <td>0</td>\n",
       "      <td>5</td>\n",
       "      <td>4</td>\n",
       "      <td>COMPLETE</td>\n",
       "    </tr>\n",
       "    <tr>\n",
       "      <th>3</th>\n",
       "      <td>3</td>\n",
       "      <td>-0.463341</td>\n",
       "      <td>2022-03-11 09:26:20.958857</td>\n",
       "      <td>2022-03-11 09:26:25.701080</td>\n",
       "      <td>0 days 00:00:04.742223</td>\n",
       "      <td>0</td>\n",
       "      <td>0</td>\n",
       "      <td>2</td>\n",
       "      <td>0</td>\n",
       "      <td>3</td>\n",
       "      <td>1</td>\n",
       "      <td>COMPLETE</td>\n",
       "    </tr>\n",
       "    <tr>\n",
       "      <th>4</th>\n",
       "      <td>4</td>\n",
       "      <td>0.070241</td>\n",
       "      <td>2022-03-11 09:26:25.703751</td>\n",
       "      <td>2022-03-11 09:26:28.605853</td>\n",
       "      <td>0 days 00:00:02.902102</td>\n",
       "      <td>0</td>\n",
       "      <td>0</td>\n",
       "      <td>1</td>\n",
       "      <td>1</td>\n",
       "      <td>2</td>\n",
       "      <td>3</td>\n",
       "      <td>COMPLETE</td>\n",
       "    </tr>\n",
       "    <tr>\n",
       "      <th>5</th>\n",
       "      <td>5</td>\n",
       "      <td>0.579198</td>\n",
       "      <td>2022-03-11 09:26:28.607591</td>\n",
       "      <td>2022-03-11 09:26:54.013270</td>\n",
       "      <td>0 days 00:00:25.405679</td>\n",
       "      <td>0</td>\n",
       "      <td>2</td>\n",
       "      <td>0</td>\n",
       "      <td>1</td>\n",
       "      <td>7</td>\n",
       "      <td>3</td>\n",
       "      <td>COMPLETE</td>\n",
       "    </tr>\n",
       "    <tr>\n",
       "      <th>6</th>\n",
       "      <td>6</td>\n",
       "      <td>0.697122</td>\n",
       "      <td>2022-03-11 09:26:54.015084</td>\n",
       "      <td>2022-03-11 09:26:54.347442</td>\n",
       "      <td>0 days 00:00:00.332358</td>\n",
       "      <td>0</td>\n",
       "      <td>2</td>\n",
       "      <td>0</td>\n",
       "      <td>0</td>\n",
       "      <td>0</td>\n",
       "      <td>0</td>\n",
       "      <td>COMPLETE</td>\n",
       "    </tr>\n",
       "    <tr>\n",
       "      <th>7</th>\n",
       "      <td>7</td>\n",
       "      <td>0.697099</td>\n",
       "      <td>2022-03-11 09:26:54.349423</td>\n",
       "      <td>2022-03-11 09:26:54.833877</td>\n",
       "      <td>0 days 00:00:00.484454</td>\n",
       "      <td>1</td>\n",
       "      <td>1</td>\n",
       "      <td>0</td>\n",
       "      <td>0</td>\n",
       "      <td>0</td>\n",
       "      <td>2</td>\n",
       "      <td>COMPLETE</td>\n",
       "    </tr>\n",
       "    <tr>\n",
       "      <th>8</th>\n",
       "      <td>8</td>\n",
       "      <td>0.697415</td>\n",
       "      <td>2022-03-11 09:26:54.837162</td>\n",
       "      <td>2022-03-11 09:27:57.973938</td>\n",
       "      <td>0 days 00:01:03.136776</td>\n",
       "      <td>0</td>\n",
       "      <td>2</td>\n",
       "      <td>3</td>\n",
       "      <td>0</td>\n",
       "      <td>2</td>\n",
       "      <td>6</td>\n",
       "      <td>COMPLETE</td>\n",
       "    </tr>\n",
       "    <tr>\n",
       "      <th>9</th>\n",
       "      <td>9</td>\n",
       "      <td>0.708285</td>\n",
       "      <td>2022-03-11 09:27:57.976210</td>\n",
       "      <td>2022-03-11 09:28:26.355569</td>\n",
       "      <td>0 days 00:00:28.379359</td>\n",
       "      <td>0</td>\n",
       "      <td>1</td>\n",
       "      <td>1</td>\n",
       "      <td>1</td>\n",
       "      <td>8</td>\n",
       "      <td>8</td>\n",
       "      <td>COMPLETE</td>\n",
       "    </tr>\n",
       "    <tr>\n",
       "      <th>10</th>\n",
       "      <td>10</td>\n",
       "      <td>0.686148</td>\n",
       "      <td>2022-03-11 09:28:26.357776</td>\n",
       "      <td>2022-03-11 09:30:53.377727</td>\n",
       "      <td>0 days 00:02:27.019951</td>\n",
       "      <td>1</td>\n",
       "      <td>1</td>\n",
       "      <td>3</td>\n",
       "      <td>1</td>\n",
       "      <td>8</td>\n",
       "      <td>8</td>\n",
       "      <td>COMPLETE</td>\n",
       "    </tr>\n",
       "    <tr>\n",
       "      <th>11</th>\n",
       "      <td>11</td>\n",
       "      <td>0.708848</td>\n",
       "      <td>2022-03-11 09:30:53.379780</td>\n",
       "      <td>2022-03-11 09:31:48.776682</td>\n",
       "      <td>0 days 00:00:55.396902</td>\n",
       "      <td>1</td>\n",
       "      <td>2</td>\n",
       "      <td>3</td>\n",
       "      <td>1</td>\n",
       "      <td>5</td>\n",
       "      <td>6</td>\n",
       "      <td>COMPLETE</td>\n",
       "    </tr>\n",
       "    <tr>\n",
       "      <th>12</th>\n",
       "      <td>12</td>\n",
       "      <td>0.706011</td>\n",
       "      <td>2022-03-11 09:31:48.777593</td>\n",
       "      <td>2022-03-11 09:32:03.983562</td>\n",
       "      <td>0 days 00:00:15.205969</td>\n",
       "      <td>1</td>\n",
       "      <td>2</td>\n",
       "      <td>2</td>\n",
       "      <td>1</td>\n",
       "      <td>5</td>\n",
       "      <td>6</td>\n",
       "      <td>COMPLETE</td>\n",
       "    </tr>\n",
       "    <tr>\n",
       "      <th>13</th>\n",
       "      <td>13</td>\n",
       "      <td>0.697540</td>\n",
       "      <td>2022-03-11 09:32:03.984446</td>\n",
       "      <td>2022-03-11 09:32:11.783179</td>\n",
       "      <td>0 days 00:00:07.798733</td>\n",
       "      <td>1</td>\n",
       "      <td>1</td>\n",
       "      <td>1</td>\n",
       "      <td>1</td>\n",
       "      <td>5</td>\n",
       "      <td>6</td>\n",
       "      <td>COMPLETE</td>\n",
       "    </tr>\n",
       "    <tr>\n",
       "      <th>14</th>\n",
       "      <td>14</td>\n",
       "      <td>0.669250</td>\n",
       "      <td>2022-03-11 09:32:11.784149</td>\n",
       "      <td>2022-03-11 09:32:57.642454</td>\n",
       "      <td>0 days 00:00:45.858305</td>\n",
       "      <td>1</td>\n",
       "      <td>3</td>\n",
       "      <td>3</td>\n",
       "      <td>1</td>\n",
       "      <td>8</td>\n",
       "      <td>7</td>\n",
       "      <td>COMPLETE</td>\n",
       "    </tr>\n",
       "    <tr>\n",
       "      <th>15</th>\n",
       "      <td>15</td>\n",
       "      <td>0.701829</td>\n",
       "      <td>2022-03-11 09:32:57.643408</td>\n",
       "      <td>2022-03-11 09:33:15.944765</td>\n",
       "      <td>0 days 00:00:18.301357</td>\n",
       "      <td>1</td>\n",
       "      <td>0</td>\n",
       "      <td>2</td>\n",
       "      <td>1</td>\n",
       "      <td>6</td>\n",
       "      <td>5</td>\n",
       "      <td>COMPLETE</td>\n",
       "    </tr>\n",
       "    <tr>\n",
       "      <th>16</th>\n",
       "      <td>16</td>\n",
       "      <td>0.695058</td>\n",
       "      <td>2022-03-11 09:33:15.945950</td>\n",
       "      <td>2022-03-11 09:33:24.903146</td>\n",
       "      <td>0 days 00:00:08.957196</td>\n",
       "      <td>1</td>\n",
       "      <td>2</td>\n",
       "      <td>1</td>\n",
       "      <td>1</td>\n",
       "      <td>4</td>\n",
       "      <td>7</td>\n",
       "      <td>COMPLETE</td>\n",
       "    </tr>\n",
       "    <tr>\n",
       "      <th>17</th>\n",
       "      <td>17</td>\n",
       "      <td>0.690345</td>\n",
       "      <td>2022-03-11 09:33:24.904053</td>\n",
       "      <td>2022-03-11 09:34:14.522043</td>\n",
       "      <td>0 days 00:00:49.617990</td>\n",
       "      <td>1</td>\n",
       "      <td>1</td>\n",
       "      <td>3</td>\n",
       "      <td>1</td>\n",
       "      <td>7</td>\n",
       "      <td>8</td>\n",
       "      <td>COMPLETE</td>\n",
       "    </tr>\n",
       "    <tr>\n",
       "      <th>18</th>\n",
       "      <td>18</td>\n",
       "      <td>0.697608</td>\n",
       "      <td>2022-03-11 09:34:14.522971</td>\n",
       "      <td>2022-03-11 09:34:20.945165</td>\n",
       "      <td>0 days 00:00:06.422194</td>\n",
       "      <td>0</td>\n",
       "      <td>1</td>\n",
       "      <td>2</td>\n",
       "      <td>1</td>\n",
       "      <td>6</td>\n",
       "      <td>5</td>\n",
       "      <td>COMPLETE</td>\n",
       "    </tr>\n",
       "    <tr>\n",
       "      <th>19</th>\n",
       "      <td>19</td>\n",
       "      <td>0.695058</td>\n",
       "      <td>2022-03-11 09:34:20.946207</td>\n",
       "      <td>2022-03-11 09:34:29.282466</td>\n",
       "      <td>0 days 00:00:08.336259</td>\n",
       "      <td>1</td>\n",
       "      <td>2</td>\n",
       "      <td>1</td>\n",
       "      <td>1</td>\n",
       "      <td>4</td>\n",
       "      <td>7</td>\n",
       "      <td>COMPLETE</td>\n",
       "    </tr>\n",
       "    <tr>\n",
       "      <th>20</th>\n",
       "      <td>20</td>\n",
       "      <td>0.353703</td>\n",
       "      <td>2022-03-11 09:34:29.283302</td>\n",
       "      <td>2022-03-11 09:34:39.598094</td>\n",
       "      <td>0 days 00:00:10.314792</td>\n",
       "      <td>0</td>\n",
       "      <td>0</td>\n",
       "      <td>3</td>\n",
       "      <td>1</td>\n",
       "      <td>6</td>\n",
       "      <td>5</td>\n",
       "      <td>COMPLETE</td>\n",
       "    </tr>\n",
       "    <tr>\n",
       "      <th>21</th>\n",
       "      <td>21</td>\n",
       "      <td>0.706011</td>\n",
       "      <td>2022-03-11 09:34:39.599248</td>\n",
       "      <td>2022-03-11 09:34:55.197909</td>\n",
       "      <td>0 days 00:00:15.598661</td>\n",
       "      <td>1</td>\n",
       "      <td>2</td>\n",
       "      <td>2</td>\n",
       "      <td>1</td>\n",
       "      <td>5</td>\n",
       "      <td>6</td>\n",
       "      <td>COMPLETE</td>\n",
       "    </tr>\n",
       "    <tr>\n",
       "      <th>22</th>\n",
       "      <td>22</td>\n",
       "      <td>0.699586</td>\n",
       "      <td>2022-03-11 09:34:55.198866</td>\n",
       "      <td>2022-03-11 09:35:16.340440</td>\n",
       "      <td>0 days 00:00:21.141574</td>\n",
       "      <td>1</td>\n",
       "      <td>2</td>\n",
       "      <td>2</td>\n",
       "      <td>1</td>\n",
       "      <td>3</td>\n",
       "      <td>7</td>\n",
       "      <td>COMPLETE</td>\n",
       "    </tr>\n",
       "    <tr>\n",
       "      <th>23</th>\n",
       "      <td>23</td>\n",
       "      <td>0.696044</td>\n",
       "      <td>2022-03-11 09:35:16.341451</td>\n",
       "      <td>2022-03-11 09:35:40.914120</td>\n",
       "      <td>0 days 00:00:24.572669</td>\n",
       "      <td>1</td>\n",
       "      <td>3</td>\n",
       "      <td>1</td>\n",
       "      <td>1</td>\n",
       "      <td>5</td>\n",
       "      <td>6</td>\n",
       "      <td>COMPLETE</td>\n",
       "    </tr>\n",
       "    <tr>\n",
       "      <th>24</th>\n",
       "      <td>24</td>\n",
       "      <td>0.692804</td>\n",
       "      <td>2022-03-11 09:35:40.915114</td>\n",
       "      <td>2022-03-11 09:36:03.500720</td>\n",
       "      <td>0 days 00:00:22.585606</td>\n",
       "      <td>1</td>\n",
       "      <td>2</td>\n",
       "      <td>3</td>\n",
       "      <td>1</td>\n",
       "      <td>3</td>\n",
       "      <td>4</td>\n",
       "      <td>COMPLETE</td>\n",
       "    </tr>\n",
       "    <tr>\n",
       "      <th>25</th>\n",
       "      <td>25</td>\n",
       "      <td>0.692415</td>\n",
       "      <td>2022-03-11 09:36:03.501628</td>\n",
       "      <td>2022-03-11 09:36:23.743788</td>\n",
       "      <td>0 days 00:00:20.242160</td>\n",
       "      <td>1</td>\n",
       "      <td>1</td>\n",
       "      <td>2</td>\n",
       "      <td>1</td>\n",
       "      <td>8</td>\n",
       "      <td>8</td>\n",
       "      <td>COMPLETE</td>\n",
       "    </tr>\n",
       "    <tr>\n",
       "      <th>26</th>\n",
       "      <td>26</td>\n",
       "      <td>0.694231</td>\n",
       "      <td>2022-03-11 09:36:23.745046</td>\n",
       "      <td>2022-03-11 09:36:40.808492</td>\n",
       "      <td>0 days 00:00:17.063446</td>\n",
       "      <td>1</td>\n",
       "      <td>2</td>\n",
       "      <td>1</td>\n",
       "      <td>1</td>\n",
       "      <td>6</td>\n",
       "      <td>5</td>\n",
       "      <td>COMPLETE</td>\n",
       "    </tr>\n",
       "    <tr>\n",
       "      <th>27</th>\n",
       "      <td>27</td>\n",
       "      <td>0.682264</td>\n",
       "      <td>2022-03-11 09:36:40.809450</td>\n",
       "      <td>2022-03-11 09:36:53.236793</td>\n",
       "      <td>0 days 00:00:12.427343</td>\n",
       "      <td>1</td>\n",
       "      <td>3</td>\n",
       "      <td>2</td>\n",
       "      <td>1</td>\n",
       "      <td>4</td>\n",
       "      <td>7</td>\n",
       "      <td>COMPLETE</td>\n",
       "    </tr>\n",
       "    <tr>\n",
       "      <th>28</th>\n",
       "      <td>28</td>\n",
       "      <td>0.696262</td>\n",
       "      <td>2022-03-11 09:36:53.237849</td>\n",
       "      <td>2022-03-11 09:37:12.584594</td>\n",
       "      <td>0 days 00:00:19.346745</td>\n",
       "      <td>0</td>\n",
       "      <td>1</td>\n",
       "      <td>3</td>\n",
       "      <td>1</td>\n",
       "      <td>7</td>\n",
       "      <td>6</td>\n",
       "      <td>COMPLETE</td>\n",
       "    </tr>\n",
       "    <tr>\n",
       "      <th>29</th>\n",
       "      <td>29</td>\n",
       "      <td>0.691653</td>\n",
       "      <td>2022-03-11 09:37:12.585948</td>\n",
       "      <td>2022-03-11 09:37:25.790404</td>\n",
       "      <td>0 days 00:00:13.204456</td>\n",
       "      <td>1</td>\n",
       "      <td>1</td>\n",
       "      <td>1</td>\n",
       "      <td>1</td>\n",
       "      <td>5</td>\n",
       "      <td>8</td>\n",
       "      <td>COMPLETE</td>\n",
       "    </tr>\n",
       "    <tr>\n",
       "      <th>30</th>\n",
       "      <td>30</td>\n",
       "      <td>0.693796</td>\n",
       "      <td>2022-03-11 09:37:25.791363</td>\n",
       "      <td>2022-03-11 09:37:50.144716</td>\n",
       "      <td>0 days 00:00:24.353353</td>\n",
       "      <td>0</td>\n",
       "      <td>2</td>\n",
       "      <td>2</td>\n",
       "      <td>1</td>\n",
       "      <td>2</td>\n",
       "      <td>8</td>\n",
       "      <td>COMPLETE</td>\n",
       "    </tr>\n",
       "    <tr>\n",
       "      <th>31</th>\n",
       "      <td>31</td>\n",
       "      <td>0.706011</td>\n",
       "      <td>2022-03-11 09:37:50.145711</td>\n",
       "      <td>2022-03-11 09:38:05.956377</td>\n",
       "      <td>0 days 00:00:15.810666</td>\n",
       "      <td>1</td>\n",
       "      <td>2</td>\n",
       "      <td>2</td>\n",
       "      <td>1</td>\n",
       "      <td>5</td>\n",
       "      <td>6</td>\n",
       "      <td>COMPLETE</td>\n",
       "    </tr>\n",
       "    <tr>\n",
       "      <th>32</th>\n",
       "      <td>32</td>\n",
       "      <td>0.697857</td>\n",
       "      <td>2022-03-11 09:38:05.957480</td>\n",
       "      <td>2022-03-11 09:38:26.385444</td>\n",
       "      <td>0 days 00:00:20.427964</td>\n",
       "      <td>1</td>\n",
       "      <td>2</td>\n",
       "      <td>2</td>\n",
       "      <td>1</td>\n",
       "      <td>6</td>\n",
       "      <td>5</td>\n",
       "      <td>COMPLETE</td>\n",
       "    </tr>\n",
       "    <tr>\n",
       "      <th>33</th>\n",
       "      <td>33</td>\n",
       "      <td>0.681939</td>\n",
       "      <td>2022-03-11 09:38:26.386441</td>\n",
       "      <td>2022-03-11 09:38:38.618272</td>\n",
       "      <td>0 days 00:00:12.231831</td>\n",
       "      <td>1</td>\n",
       "      <td>3</td>\n",
       "      <td>2</td>\n",
       "      <td>1</td>\n",
       "      <td>4</td>\n",
       "      <td>4</td>\n",
       "      <td>COMPLETE</td>\n",
       "    </tr>\n",
       "    <tr>\n",
       "      <th>34</th>\n",
       "      <td>34</td>\n",
       "      <td>0.709704</td>\n",
       "      <td>2022-03-11 09:38:38.619206</td>\n",
       "      <td>2022-03-11 09:38:57.505749</td>\n",
       "      <td>0 days 00:00:18.886543</td>\n",
       "      <td>1</td>\n",
       "      <td>2</td>\n",
       "      <td>2</td>\n",
       "      <td>0</td>\n",
       "      <td>5</td>\n",
       "      <td>7</td>\n",
       "      <td>COMPLETE</td>\n",
       "    </tr>\n",
       "    <tr>\n",
       "      <th>35</th>\n",
       "      <td>35</td>\n",
       "      <td>0.703850</td>\n",
       "      <td>2022-03-11 09:38:57.506927</td>\n",
       "      <td>2022-03-11 09:39:11.976531</td>\n",
       "      <td>0 days 00:00:14.469604</td>\n",
       "      <td>1</td>\n",
       "      <td>3</td>\n",
       "      <td>1</td>\n",
       "      <td>0</td>\n",
       "      <td>3</td>\n",
       "      <td>7</td>\n",
       "      <td>COMPLETE</td>\n",
       "    </tr>\n",
       "    <tr>\n",
       "      <th>36</th>\n",
       "      <td>36</td>\n",
       "      <td>0.707522</td>\n",
       "      <td>2022-03-11 09:39:11.977463</td>\n",
       "      <td>2022-03-11 09:39:37.121086</td>\n",
       "      <td>0 days 00:00:25.143623</td>\n",
       "      <td>0</td>\n",
       "      <td>2</td>\n",
       "      <td>3</td>\n",
       "      <td>0</td>\n",
       "      <td>7</td>\n",
       "      <td>7</td>\n",
       "      <td>COMPLETE</td>\n",
       "    </tr>\n",
       "    <tr>\n",
       "      <th>37</th>\n",
       "      <td>37</td>\n",
       "      <td>0.703394</td>\n",
       "      <td>2022-03-11 09:39:37.122217</td>\n",
       "      <td>2022-03-11 09:40:27.246040</td>\n",
       "      <td>0 days 00:00:50.123823</td>\n",
       "      <td>0</td>\n",
       "      <td>2</td>\n",
       "      <td>3</td>\n",
       "      <td>0</td>\n",
       "      <td>7</td>\n",
       "      <td>8</td>\n",
       "      <td>COMPLETE</td>\n",
       "    </tr>\n",
       "    <tr>\n",
       "      <th>38</th>\n",
       "      <td>38</td>\n",
       "      <td>0.705133</td>\n",
       "      <td>2022-03-11 09:40:27.247331</td>\n",
       "      <td>2022-03-11 09:41:22.973058</td>\n",
       "      <td>0 days 00:00:55.725727</td>\n",
       "      <td>0</td>\n",
       "      <td>1</td>\n",
       "      <td>3</td>\n",
       "      <td>0</td>\n",
       "      <td>8</td>\n",
       "      <td>7</td>\n",
       "      <td>COMPLETE</td>\n",
       "    </tr>\n",
       "    <tr>\n",
       "      <th>39</th>\n",
       "      <td>39</td>\n",
       "      <td>0.405221</td>\n",
       "      <td>2022-03-11 09:41:22.974008</td>\n",
       "      <td>2022-03-11 09:41:23.700032</td>\n",
       "      <td>0 days 00:00:00.726024</td>\n",
       "      <td>0</td>\n",
       "      <td>0</td>\n",
       "      <td>0</td>\n",
       "      <td>0</td>\n",
       "      <td>7</td>\n",
       "      <td>7</td>\n",
       "      <td>COMPLETE</td>\n",
       "    </tr>\n",
       "    <tr>\n",
       "      <th>40</th>\n",
       "      <td>40</td>\n",
       "      <td>0.681576</td>\n",
       "      <td>2022-03-11 09:41:23.700890</td>\n",
       "      <td>2022-03-11 09:41:42.007296</td>\n",
       "      <td>0 days 00:00:18.306406</td>\n",
       "      <td>0</td>\n",
       "      <td>1</td>\n",
       "      <td>3</td>\n",
       "      <td>0</td>\n",
       "      <td>8</td>\n",
       "      <td>3</td>\n",
       "      <td>COMPLETE</td>\n",
       "    </tr>\n",
       "    <tr>\n",
       "      <th>41</th>\n",
       "      <td>41</td>\n",
       "      <td>0.706434</td>\n",
       "      <td>2022-03-11 09:41:42.008203</td>\n",
       "      <td>2022-03-11 09:42:07.268417</td>\n",
       "      <td>0 days 00:00:25.260214</td>\n",
       "      <td>0</td>\n",
       "      <td>2</td>\n",
       "      <td>3</td>\n",
       "      <td>0</td>\n",
       "      <td>6</td>\n",
       "      <td>6</td>\n",
       "      <td>COMPLETE</td>\n",
       "    </tr>\n",
       "    <tr>\n",
       "      <th>42</th>\n",
       "      <td>42</td>\n",
       "      <td>0.703394</td>\n",
       "      <td>2022-03-11 09:42:07.269340</td>\n",
       "      <td>2022-03-11 09:42:57.412947</td>\n",
       "      <td>0 days 00:00:50.143607</td>\n",
       "      <td>0</td>\n",
       "      <td>2</td>\n",
       "      <td>3</td>\n",
       "      <td>0</td>\n",
       "      <td>7</td>\n",
       "      <td>8</td>\n",
       "      <td>COMPLETE</td>\n",
       "    </tr>\n",
       "    <tr>\n",
       "      <th>43</th>\n",
       "      <td>43</td>\n",
       "      <td>0.713561</td>\n",
       "      <td>2022-03-11 09:42:57.414037</td>\n",
       "      <td>2022-03-11 09:43:18.081941</td>\n",
       "      <td>0 days 00:00:20.667904</td>\n",
       "      <td>0</td>\n",
       "      <td>2</td>\n",
       "      <td>3</td>\n",
       "      <td>0</td>\n",
       "      <td>6</td>\n",
       "      <td>7</td>\n",
       "      <td>COMPLETE</td>\n",
       "    </tr>\n",
       "    <tr>\n",
       "      <th>44</th>\n",
       "      <td>44</td>\n",
       "      <td>0.707522</td>\n",
       "      <td>2022-03-11 09:43:18.082863</td>\n",
       "      <td>2022-03-11 09:43:43.401411</td>\n",
       "      <td>0 days 00:00:25.318548</td>\n",
       "      <td>0</td>\n",
       "      <td>2</td>\n",
       "      <td>3</td>\n",
       "      <td>0</td>\n",
       "      <td>7</td>\n",
       "      <td>7</td>\n",
       "      <td>COMPLETE</td>\n",
       "    </tr>\n",
       "    <tr>\n",
       "      <th>45</th>\n",
       "      <td>45</td>\n",
       "      <td>0.715984</td>\n",
       "      <td>2022-03-11 09:43:43.402498</td>\n",
       "      <td>2022-03-11 09:44:34.471388</td>\n",
       "      <td>0 days 00:00:51.068890</td>\n",
       "      <td>0</td>\n",
       "      <td>2</td>\n",
       "      <td>3</td>\n",
       "      <td>0</td>\n",
       "      <td>6</td>\n",
       "      <td>8</td>\n",
       "      <td>COMPLETE</td>\n",
       "    </tr>\n",
       "    <tr>\n",
       "      <th>46</th>\n",
       "      <td>46</td>\n",
       "      <td>0.733778</td>\n",
       "      <td>2022-03-11 09:44:34.472429</td>\n",
       "      <td>2022-03-11 09:45:32.916359</td>\n",
       "      <td>0 days 00:00:58.443930</td>\n",
       "      <td>0</td>\n",
       "      <td>3</td>\n",
       "      <td>3</td>\n",
       "      <td>0</td>\n",
       "      <td>6</td>\n",
       "      <td>8</td>\n",
       "      <td>COMPLETE</td>\n",
       "    </tr>\n",
       "    <tr>\n",
       "      <th>47</th>\n",
       "      <td>47</td>\n",
       "      <td>0.696848</td>\n",
       "      <td>2022-03-11 09:45:32.917495</td>\n",
       "      <td>2022-03-11 09:45:36.106257</td>\n",
       "      <td>0 days 00:00:03.188762</td>\n",
       "      <td>0</td>\n",
       "      <td>3</td>\n",
       "      <td>3</td>\n",
       "      <td>0</td>\n",
       "      <td>6</td>\n",
       "      <td>0</td>\n",
       "      <td>COMPLETE</td>\n",
       "    </tr>\n",
       "    <tr>\n",
       "      <th>48</th>\n",
       "      <td>48</td>\n",
       "      <td>0.715241</td>\n",
       "      <td>2022-03-11 09:45:36.107472</td>\n",
       "      <td>2022-03-11 09:46:26.646427</td>\n",
       "      <td>0 days 00:00:50.538955</td>\n",
       "      <td>0</td>\n",
       "      <td>3</td>\n",
       "      <td>3</td>\n",
       "      <td>0</td>\n",
       "      <td>5</td>\n",
       "      <td>8</td>\n",
       "      <td>COMPLETE</td>\n",
       "    </tr>\n",
       "    <tr>\n",
       "      <th>49</th>\n",
       "      <td>49</td>\n",
       "      <td>0.715241</td>\n",
       "      <td>2022-03-11 09:46:26.647502</td>\n",
       "      <td>2022-03-11 09:47:16.988684</td>\n",
       "      <td>0 days 00:00:50.341182</td>\n",
       "      <td>0</td>\n",
       "      <td>3</td>\n",
       "      <td>3</td>\n",
       "      <td>0</td>\n",
       "      <td>5</td>\n",
       "      <td>8</td>\n",
       "      <td>COMPLETE</td>\n",
       "    </tr>\n",
       "  </tbody>\n",
       "</table>\n",
       "</div>"
      ],
      "text/plain": [
       "    number     value             datetime_start          datetime_complete  \\\n",
       "0        0  0.689397 2022-03-11 09:25:33.598110 2022-03-11 09:25:45.697608   \n",
       "1        1  0.692968 2022-03-11 09:25:45.699423 2022-03-11 09:25:58.732715   \n",
       "2        2  0.602104 2022-03-11 09:25:58.734888 2022-03-11 09:26:20.956779   \n",
       "3        3 -0.463341 2022-03-11 09:26:20.958857 2022-03-11 09:26:25.701080   \n",
       "4        4  0.070241 2022-03-11 09:26:25.703751 2022-03-11 09:26:28.605853   \n",
       "5        5  0.579198 2022-03-11 09:26:28.607591 2022-03-11 09:26:54.013270   \n",
       "6        6  0.697122 2022-03-11 09:26:54.015084 2022-03-11 09:26:54.347442   \n",
       "7        7  0.697099 2022-03-11 09:26:54.349423 2022-03-11 09:26:54.833877   \n",
       "8        8  0.697415 2022-03-11 09:26:54.837162 2022-03-11 09:27:57.973938   \n",
       "9        9  0.708285 2022-03-11 09:27:57.976210 2022-03-11 09:28:26.355569   \n",
       "10      10  0.686148 2022-03-11 09:28:26.357776 2022-03-11 09:30:53.377727   \n",
       "11      11  0.708848 2022-03-11 09:30:53.379780 2022-03-11 09:31:48.776682   \n",
       "12      12  0.706011 2022-03-11 09:31:48.777593 2022-03-11 09:32:03.983562   \n",
       "13      13  0.697540 2022-03-11 09:32:03.984446 2022-03-11 09:32:11.783179   \n",
       "14      14  0.669250 2022-03-11 09:32:11.784149 2022-03-11 09:32:57.642454   \n",
       "15      15  0.701829 2022-03-11 09:32:57.643408 2022-03-11 09:33:15.944765   \n",
       "16      16  0.695058 2022-03-11 09:33:15.945950 2022-03-11 09:33:24.903146   \n",
       "17      17  0.690345 2022-03-11 09:33:24.904053 2022-03-11 09:34:14.522043   \n",
       "18      18  0.697608 2022-03-11 09:34:14.522971 2022-03-11 09:34:20.945165   \n",
       "19      19  0.695058 2022-03-11 09:34:20.946207 2022-03-11 09:34:29.282466   \n",
       "20      20  0.353703 2022-03-11 09:34:29.283302 2022-03-11 09:34:39.598094   \n",
       "21      21  0.706011 2022-03-11 09:34:39.599248 2022-03-11 09:34:55.197909   \n",
       "22      22  0.699586 2022-03-11 09:34:55.198866 2022-03-11 09:35:16.340440   \n",
       "23      23  0.696044 2022-03-11 09:35:16.341451 2022-03-11 09:35:40.914120   \n",
       "24      24  0.692804 2022-03-11 09:35:40.915114 2022-03-11 09:36:03.500720   \n",
       "25      25  0.692415 2022-03-11 09:36:03.501628 2022-03-11 09:36:23.743788   \n",
       "26      26  0.694231 2022-03-11 09:36:23.745046 2022-03-11 09:36:40.808492   \n",
       "27      27  0.682264 2022-03-11 09:36:40.809450 2022-03-11 09:36:53.236793   \n",
       "28      28  0.696262 2022-03-11 09:36:53.237849 2022-03-11 09:37:12.584594   \n",
       "29      29  0.691653 2022-03-11 09:37:12.585948 2022-03-11 09:37:25.790404   \n",
       "30      30  0.693796 2022-03-11 09:37:25.791363 2022-03-11 09:37:50.144716   \n",
       "31      31  0.706011 2022-03-11 09:37:50.145711 2022-03-11 09:38:05.956377   \n",
       "32      32  0.697857 2022-03-11 09:38:05.957480 2022-03-11 09:38:26.385444   \n",
       "33      33  0.681939 2022-03-11 09:38:26.386441 2022-03-11 09:38:38.618272   \n",
       "34      34  0.709704 2022-03-11 09:38:38.619206 2022-03-11 09:38:57.505749   \n",
       "35      35  0.703850 2022-03-11 09:38:57.506927 2022-03-11 09:39:11.976531   \n",
       "36      36  0.707522 2022-03-11 09:39:11.977463 2022-03-11 09:39:37.121086   \n",
       "37      37  0.703394 2022-03-11 09:39:37.122217 2022-03-11 09:40:27.246040   \n",
       "38      38  0.705133 2022-03-11 09:40:27.247331 2022-03-11 09:41:22.973058   \n",
       "39      39  0.405221 2022-03-11 09:41:22.974008 2022-03-11 09:41:23.700032   \n",
       "40      40  0.681576 2022-03-11 09:41:23.700890 2022-03-11 09:41:42.007296   \n",
       "41      41  0.706434 2022-03-11 09:41:42.008203 2022-03-11 09:42:07.268417   \n",
       "42      42  0.703394 2022-03-11 09:42:07.269340 2022-03-11 09:42:57.412947   \n",
       "43      43  0.713561 2022-03-11 09:42:57.414037 2022-03-11 09:43:18.081941   \n",
       "44      44  0.707522 2022-03-11 09:43:18.082863 2022-03-11 09:43:43.401411   \n",
       "45      45  0.715984 2022-03-11 09:43:43.402498 2022-03-11 09:44:34.471388   \n",
       "46      46  0.733778 2022-03-11 09:44:34.472429 2022-03-11 09:45:32.916359   \n",
       "47      47  0.696848 2022-03-11 09:45:32.917495 2022-03-11 09:45:36.106257   \n",
       "48      48  0.715241 2022-03-11 09:45:36.107472 2022-03-11 09:46:26.646427   \n",
       "49      49  0.715241 2022-03-11 09:46:26.647502 2022-03-11 09:47:16.988684   \n",
       "\n",
       "                 duration  params_D  params_P  params_Q  params_d  params_p  \\\n",
       "0  0 days 00:00:12.099498         0         1         1         0         1   \n",
       "1  0 days 00:00:13.033292         0         3         2         0         7   \n",
       "2  0 days 00:00:22.221891         0         3         0         0         5   \n",
       "3  0 days 00:00:04.742223         0         0         2         0         3   \n",
       "4  0 days 00:00:02.902102         0         0         1         1         2   \n",
       "5  0 days 00:00:25.405679         0         2         0         1         7   \n",
       "6  0 days 00:00:00.332358         0         2         0         0         0   \n",
       "7  0 days 00:00:00.484454         1         1         0         0         0   \n",
       "8  0 days 00:01:03.136776         0         2         3         0         2   \n",
       "9  0 days 00:00:28.379359         0         1         1         1         8   \n",
       "10 0 days 00:02:27.019951         1         1         3         1         8   \n",
       "11 0 days 00:00:55.396902         1         2         3         1         5   \n",
       "12 0 days 00:00:15.205969         1         2         2         1         5   \n",
       "13 0 days 00:00:07.798733         1         1         1         1         5   \n",
       "14 0 days 00:00:45.858305         1         3         3         1         8   \n",
       "15 0 days 00:00:18.301357         1         0         2         1         6   \n",
       "16 0 days 00:00:08.957196         1         2         1         1         4   \n",
       "17 0 days 00:00:49.617990         1         1         3         1         7   \n",
       "18 0 days 00:00:06.422194         0         1         2         1         6   \n",
       "19 0 days 00:00:08.336259         1         2         1         1         4   \n",
       "20 0 days 00:00:10.314792         0         0         3         1         6   \n",
       "21 0 days 00:00:15.598661         1         2         2         1         5   \n",
       "22 0 days 00:00:21.141574         1         2         2         1         3   \n",
       "23 0 days 00:00:24.572669         1         3         1         1         5   \n",
       "24 0 days 00:00:22.585606         1         2         3         1         3   \n",
       "25 0 days 00:00:20.242160         1         1         2         1         8   \n",
       "26 0 days 00:00:17.063446         1         2         1         1         6   \n",
       "27 0 days 00:00:12.427343         1         3         2         1         4   \n",
       "28 0 days 00:00:19.346745         0         1         3         1         7   \n",
       "29 0 days 00:00:13.204456         1         1         1         1         5   \n",
       "30 0 days 00:00:24.353353         0         2         2         1         2   \n",
       "31 0 days 00:00:15.810666         1         2         2         1         5   \n",
       "32 0 days 00:00:20.427964         1         2         2         1         6   \n",
       "33 0 days 00:00:12.231831         1         3         2         1         4   \n",
       "34 0 days 00:00:18.886543         1         2         2         0         5   \n",
       "35 0 days 00:00:14.469604         1         3         1         0         3   \n",
       "36 0 days 00:00:25.143623         0         2         3         0         7   \n",
       "37 0 days 00:00:50.123823         0         2         3         0         7   \n",
       "38 0 days 00:00:55.725727         0         1         3         0         8   \n",
       "39 0 days 00:00:00.726024         0         0         0         0         7   \n",
       "40 0 days 00:00:18.306406         0         1         3         0         8   \n",
       "41 0 days 00:00:25.260214         0         2         3         0         6   \n",
       "42 0 days 00:00:50.143607         0         2         3         0         7   \n",
       "43 0 days 00:00:20.667904         0         2         3         0         6   \n",
       "44 0 days 00:00:25.318548         0         2         3         0         7   \n",
       "45 0 days 00:00:51.068890         0         2         3         0         6   \n",
       "46 0 days 00:00:58.443930         0         3         3         0         6   \n",
       "47 0 days 00:00:03.188762         0         3         3         0         6   \n",
       "48 0 days 00:00:50.538955         0         3         3         0         5   \n",
       "49 0 days 00:00:50.341182         0         3         3         0         5   \n",
       "\n",
       "    params_q     state  \n",
       "0          8  COMPLETE  \n",
       "1          2  COMPLETE  \n",
       "2          4  COMPLETE  \n",
       "3          1  COMPLETE  \n",
       "4          3  COMPLETE  \n",
       "5          3  COMPLETE  \n",
       "6          0  COMPLETE  \n",
       "7          2  COMPLETE  \n",
       "8          6  COMPLETE  \n",
       "9          8  COMPLETE  \n",
       "10         8  COMPLETE  \n",
       "11         6  COMPLETE  \n",
       "12         6  COMPLETE  \n",
       "13         6  COMPLETE  \n",
       "14         7  COMPLETE  \n",
       "15         5  COMPLETE  \n",
       "16         7  COMPLETE  \n",
       "17         8  COMPLETE  \n",
       "18         5  COMPLETE  \n",
       "19         7  COMPLETE  \n",
       "20         5  COMPLETE  \n",
       "21         6  COMPLETE  \n",
       "22         7  COMPLETE  \n",
       "23         6  COMPLETE  \n",
       "24         4  COMPLETE  \n",
       "25         8  COMPLETE  \n",
       "26         5  COMPLETE  \n",
       "27         7  COMPLETE  \n",
       "28         6  COMPLETE  \n",
       "29         8  COMPLETE  \n",
       "30         8  COMPLETE  \n",
       "31         6  COMPLETE  \n",
       "32         5  COMPLETE  \n",
       "33         4  COMPLETE  \n",
       "34         7  COMPLETE  \n",
       "35         7  COMPLETE  \n",
       "36         7  COMPLETE  \n",
       "37         8  COMPLETE  \n",
       "38         7  COMPLETE  \n",
       "39         7  COMPLETE  \n",
       "40         3  COMPLETE  \n",
       "41         6  COMPLETE  \n",
       "42         8  COMPLETE  \n",
       "43         7  COMPLETE  \n",
       "44         7  COMPLETE  \n",
       "45         8  COMPLETE  \n",
       "46         8  COMPLETE  \n",
       "47         0  COMPLETE  \n",
       "48         8  COMPLETE  \n",
       "49         8  COMPLETE  "
      ]
     },
     "execution_count": 10,
     "metadata": {},
     "output_type": "execute_result"
    }
   ],
   "source": [
    "results"
   ]
  },
  {
   "cell_type": "code",
   "execution_count": 12,
   "id": "75be3f1e",
   "metadata": {},
   "outputs": [],
   "source": [
    "#load the results into a csv in the location of your choosing\n",
    "results.to_csv('../../hyperparameters/SARIMAX_hyperparameter_results_-1.csv')"
   ]
  },
  {
   "cell_type": "code",
   "execution_count": null,
   "id": "d378944d",
   "metadata": {},
   "outputs": [],
   "source": []
  }
 ],
 "metadata": {
  "kernelspec": {
   "display_name": "Python 3 (ipykernel)",
   "language": "python",
   "name": "python3"
  },
  "language_info": {
   "codemirror_mode": {
    "name": "ipython",
    "version": 3
   },
   "file_extension": ".py",
   "mimetype": "text/x-python",
   "name": "python",
   "nbconvert_exporter": "python",
   "pygments_lexer": "ipython3",
   "version": "3.7.11"
  }
 },
 "nbformat": 4,
 "nbformat_minor": 5
}
