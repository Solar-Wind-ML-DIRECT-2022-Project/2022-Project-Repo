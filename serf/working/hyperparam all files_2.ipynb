{
 "cells": [
  {
   "cell_type": "markdown",
   "id": "729adb0a",
   "metadata": {},
   "source": [
    "### how to use the hyperparam_opt \n",
    "to optimize hyperparameters"
   ]
  },
  {
   "cell_type": "code",
   "execution_count": 1,
   "id": "860a6b1c",
   "metadata": {},
   "outputs": [],
   "source": [
    "import geopandas as gp\n",
    "import pandas as pd\n",
    "import matplotlib\n",
    "from matplotlib import pyplot as plt\n",
    "\n",
    "import optuna\n",
    "from statsmodels.tsa.statespace.sarimax import SARIMAX\n",
    "import numpy as np\n",
    "import sklearn\n",
    "from sklearn.model_selection import TimeSeriesSplit\n",
    "from sklearn.metrics import r2_score\n",
    "\n",
    "from hyperparam_opt_2 import *\n",
    "import os"
   ]
  },
  {
   "cell_type": "code",
   "execution_count": null,
   "id": "ccfb99c7",
   "metadata": {},
   "outputs": [],
   "source": []
  },
  {
   "cell_type": "code",
   "execution_count": 2,
   "id": "f334116e",
   "metadata": {
    "scrolled": true
   },
   "outputs": [
    {
     "name": "stderr",
     "output_type": "stream",
     "text": [
      "\u001b[32m[I 2022-03-13 16:48:33,272]\u001b[0m A new study created in memory with name: no-name-a1183085-3f6c-49b3-bcf2-8d5691650ce0\u001b[0m\n"
     ]
    },
    {
     "name": "stdout",
     "output_type": "stream",
     "text": [
      "Optimization terminated successfully.\n",
      "         Current function value: -1.384811\n",
      "         Iterations: 5\n",
      "         Function evaluations: 567\n"
     ]
    },
    {
     "name": "stderr",
     "output_type": "stream",
     "text": [
      "\u001b[32m[I 2022-03-13 16:48:37,613]\u001b[0m Trial 0 finished with value: 0.26184860346068184 and parameters: {'p': 1, 'd': 1, 'q': 1, 'P': 3, 'D': 0, 'Q': 3}. Best is trial 0 with value: 0.26184860346068184.\u001b[0m\n",
      "\u001b[32m[I 2022-03-13 16:48:38,875]\u001b[0m Trial 1 finished with value: 0.052776440815770376 and parameters: {'p': 8, 'd': 0, 'q': 0, 'P': 3, 'D': 0, 'Q': 0}. Best is trial 0 with value: 0.26184860346068184.\u001b[0m\n"
     ]
    },
    {
     "name": "stdout",
     "output_type": "stream",
     "text": [
      "Optimization terminated successfully.\n",
      "         Current function value: -1.334464\n",
      "         Iterations: 3\n",
      "         Function evaluations: 367\n"
     ]
    },
    {
     "name": "stderr",
     "output_type": "stream",
     "text": [
      "\u001b[32m[I 2022-03-13 16:48:39,663]\u001b[0m Trial 2 finished with value: -0.0838955109721804 and parameters: {'p': 1, 'd': 1, 'q': 1, 'P': 1, 'D': 1, 'Q': 0}. Best is trial 0 with value: 0.26184860346068184.\u001b[0m\n"
     ]
    },
    {
     "name": "stdout",
     "output_type": "stream",
     "text": [
      "Optimization terminated successfully.\n",
      "         Current function value: -1.373900\n",
      "         Iterations: 3\n",
      "         Function evaluations: 167\n"
     ]
    },
    {
     "name": "stderr",
     "output_type": "stream",
     "text": [
      "\u001b[32m[I 2022-03-13 16:48:40,197]\u001b[0m Trial 3 finished with value: -0.4251704585967817 and parameters: {'p': 3, 'd': 1, 'q': 0, 'P': 1, 'D': 0, 'Q': 1}. Best is trial 0 with value: 0.26184860346068184.\u001b[0m\n"
     ]
    },
    {
     "name": "stdout",
     "output_type": "stream",
     "text": [
      "Optimization terminated successfully.\n",
      "         Current function value: -1.399072\n",
      "         Iterations: 5\n",
      "         Function evaluations: 363\n"
     ]
    },
    {
     "name": "stderr",
     "output_type": "stream",
     "text": [
      "\u001b[32m[I 2022-03-13 16:48:40,753]\u001b[0m Trial 4 finished with value: -0.028673401221407158 and parameters: {'p': 1, 'd': 0, 'q': 7, 'P': 1, 'D': 1, 'Q': 0}. Best is trial 0 with value: 0.26184860346068184.\u001b[0m\n"
     ]
    },
    {
     "name": "stdout",
     "output_type": "stream",
     "text": [
      "Optimization terminated successfully.\n",
      "         Current function value: -1.390804\n",
      "         Iterations: 2\n",
      "         Function evaluations: 239\n",
      "Optimization terminated successfully.\n",
      "         Current function value: -1.337410\n",
      "         Iterations: 15\n",
      "         Function evaluations: 2945\n"
     ]
    },
    {
     "name": "stderr",
     "output_type": "stream",
     "text": [
      "\u001b[32m[I 2022-03-13 16:49:14,875]\u001b[0m Trial 5 finished with value: 0.38329825398935546 and parameters: {'p': 6, 'd': 0, 'q': 5, 'P': 1, 'D': 1, 'Q': 3}. Best is trial 5 with value: 0.38329825398935546.\u001b[0m\n"
     ]
    },
    {
     "name": "stdout",
     "output_type": "stream",
     "text": [
      "Optimization terminated successfully.\n",
      "         Current function value: -1.330008\n",
      "         Iterations: 9\n",
      "         Function evaluations: 1540\n"
     ]
    },
    {
     "name": "stderr",
     "output_type": "stream",
     "text": [
      "\u001b[32m[I 2022-03-13 16:49:23,655]\u001b[0m Trial 6 finished with value: 0.004127490806677625 and parameters: {'p': 5, 'd': 0, 'q': 6, 'P': 0, 'D': 0, 'Q': 2}. Best is trial 5 with value: 0.38329825398935546.\u001b[0m\n",
      "\u001b[32m[I 2022-03-13 16:49:39,875]\u001b[0m Trial 7 finished with value: 0.2651364401664935 and parameters: {'p': 5, 'd': 1, 'q': 3, 'P': 2, 'D': 0, 'Q': 0}. Best is trial 5 with value: 0.38329825398935546.\u001b[0m\n"
     ]
    },
    {
     "name": "stdout",
     "output_type": "stream",
     "text": [
      "Optimization terminated successfully.\n",
      "         Current function value: -1.393350\n",
      "         Iterations: 23\n",
      "         Function evaluations: 2960\n",
      "Optimization terminated successfully.\n",
      "         Current function value: -1.340942\n",
      "         Iterations: 5\n",
      "         Function evaluations: 619\n"
     ]
    },
    {
     "name": "stderr",
     "output_type": "stream",
     "text": [
      "\u001b[32m[I 2022-03-13 16:49:44,524]\u001b[0m Trial 8 finished with value: 0.2516127045943417 and parameters: {'p': 5, 'd': 1, 'q': 2, 'P': 3, 'D': 0, 'Q': 0}. Best is trial 5 with value: 0.38329825398935546.\u001b[0m\n"
     ]
    },
    {
     "name": "stdout",
     "output_type": "stream",
     "text": [
      "Optimization terminated successfully.\n",
      "         Current function value: -1.367458\n",
      "         Iterations: 15\n",
      "         Function evaluations: 2435\n"
     ]
    },
    {
     "name": "stderr",
     "output_type": "stream",
     "text": [
      "\u001b[32m[I 2022-03-13 16:50:07,627]\u001b[0m Trial 9 finished with value: 0.3259635279626958 and parameters: {'p': 4, 'd': 1, 'q': 5, 'P': 0, 'D': 1, 'Q': 2}. Best is trial 5 with value: 0.38329825398935546.\u001b[0m\n"
     ]
    },
    {
     "name": "stdout",
     "output_type": "stream",
     "text": [
      "Optimization terminated successfully.\n",
      "         Current function value: -1.335920\n",
      "         Iterations: 13\n",
      "         Function evaluations: 3351\n"
     ]
    },
    {
     "name": "stderr",
     "output_type": "stream",
     "text": [
      "\u001b[32m[I 2022-03-13 16:50:57,995]\u001b[0m Trial 10 finished with value: 0.3999876313529115 and parameters: {'p': 8, 'd': 0, 'q': 8, 'P': 2, 'D': 1, 'Q': 3}. Best is trial 10 with value: 0.3999876313529115.\u001b[0m\n"
     ]
    },
    {
     "name": "stdout",
     "output_type": "stream",
     "text": [
      "Optimization terminated successfully.\n",
      "         Current function value: -1.335920\n",
      "         Iterations: 13\n",
      "         Function evaluations: 3351\n"
     ]
    },
    {
     "name": "stderr",
     "output_type": "stream",
     "text": [
      "\u001b[32m[I 2022-03-13 16:51:51,782]\u001b[0m Trial 11 finished with value: 0.3999876313529115 and parameters: {'p': 8, 'd': 0, 'q': 8, 'P': 2, 'D': 1, 'Q': 3}. Best is trial 10 with value: 0.3999876313529115.\u001b[0m\n"
     ]
    },
    {
     "name": "stdout",
     "output_type": "stream",
     "text": [
      "Optimization terminated successfully.\n",
      "         Current function value: -1.335920\n",
      "         Iterations: 13\n",
      "         Function evaluations: 3351\n"
     ]
    },
    {
     "name": "stderr",
     "output_type": "stream",
     "text": [
      "\u001b[32m[I 2022-03-13 16:52:46,734]\u001b[0m Trial 12 finished with value: 0.3999876313529115 and parameters: {'p': 8, 'd': 0, 'q': 8, 'P': 2, 'D': 1, 'Q': 3}. Best is trial 10 with value: 0.3999876313529115.\u001b[0m\n"
     ]
    },
    {
     "name": "stdout",
     "output_type": "stream",
     "text": [
      "Optimization terminated successfully.\n",
      "         Current function value: -1.384106\n",
      "         Iterations: 12\n",
      "         Function evaluations: 3128\n"
     ]
    },
    {
     "name": "stderr",
     "output_type": "stream",
     "text": [
      "\u001b[32m[I 2022-03-13 16:53:19,982]\u001b[0m Trial 13 finished with value: 0.30924654860095546 and parameters: {'p': 7, 'd': 0, 'q': 8, 'P': 2, 'D': 1, 'Q': 2}. Best is trial 10 with value: 0.3999876313529115.\u001b[0m\n"
     ]
    },
    {
     "name": "stdout",
     "output_type": "stream",
     "text": [
      "Optimization terminated successfully.\n",
      "         Current function value: -1.333758\n",
      "         Iterations: 9\n",
      "         Function evaluations: 2168\n"
     ]
    },
    {
     "name": "stderr",
     "output_type": "stream",
     "text": [
      "\u001b[32m[I 2022-03-13 16:53:53,253]\u001b[0m Trial 14 finished with value: 0.32332602432652213 and parameters: {'p': 7, 'd': 0, 'q': 7, 'P': 2, 'D': 1, 'Q': 3}. Best is trial 10 with value: 0.3999876313529115.\u001b[0m\n"
     ]
    },
    {
     "name": "stdout",
     "output_type": "stream",
     "text": [
      "Optimization terminated successfully.\n",
      "         Current function value: -1.372061\n",
      "         Iterations: 8\n",
      "         Function evaluations: 1796\n"
     ]
    },
    {
     "name": "stderr",
     "output_type": "stream",
     "text": [
      "\u001b[32m[I 2022-03-13 16:54:06,976]\u001b[0m Trial 15 finished with value: 0.37713672995636194 and parameters: {'p': 8, 'd': 0, 'q': 6, 'P': 2, 'D': 1, 'Q': 1}. Best is trial 10 with value: 0.3999876313529115.\u001b[0m\n"
     ]
    },
    {
     "name": "stdout",
     "output_type": "stream",
     "text": [
      "Optimization terminated successfully.\n",
      "         Current function value: -1.345759\n",
      "         Iterations: 18\n",
      "         Function evaluations: 4556\n"
     ]
    },
    {
     "name": "stderr",
     "output_type": "stream",
     "text": [
      "\u001b[32m[I 2022-03-13 16:55:14,535]\u001b[0m Trial 16 finished with value: 0.3981635499050633 and parameters: {'p': 7, 'd': 0, 'q': 8, 'P': 3, 'D': 1, 'Q': 2}. Best is trial 10 with value: 0.3999876313529115.\u001b[0m\n"
     ]
    },
    {
     "name": "stdout",
     "output_type": "stream",
     "text": [
      "Optimization terminated successfully.\n",
      "         Current function value: -1.338583\n",
      "         Iterations: 6\n",
      "         Function evaluations: 964\n"
     ]
    },
    {
     "name": "stderr",
     "output_type": "stream",
     "text": [
      "\u001b[32m[I 2022-03-13 16:55:28,612]\u001b[0m Trial 17 finished with value: 0.37876860490690545 and parameters: {'p': 3, 'd': 0, 'q': 4, 'P': 2, 'D': 1, 'Q': 3}. Best is trial 10 with value: 0.3999876313529115.\u001b[0m\n"
     ]
    },
    {
     "name": "stdout",
     "output_type": "stream",
     "text": [
      "Optimization terminated successfully.\n",
      "         Current function value: -1.323951\n",
      "         Iterations: 6\n",
      "         Function evaluations: 1301\n"
     ]
    },
    {
     "name": "stderr",
     "output_type": "stream",
     "text": [
      "\u001b[32m[I 2022-03-13 16:55:48,486]\u001b[0m Trial 18 finished with value: 0.40024651034525605 and parameters: {'p': 6, 'd': 0, 'q': 7, 'P': 1, 'D': 1, 'Q': 3}. Best is trial 18 with value: 0.40024651034525605.\u001b[0m\n"
     ]
    },
    {
     "name": "stdout",
     "output_type": "stream",
     "text": [
      "Optimization terminated successfully.\n",
      "         Current function value: -1.426106\n",
      "         Iterations: 6\n",
      "         Function evaluations: 1041\n"
     ]
    },
    {
     "name": "stderr",
     "output_type": "stream",
     "text": [
      "\u001b[32m[I 2022-03-13 16:55:55,488]\u001b[0m Trial 19 finished with value: 0.42408941853923243 and parameters: {'p': 6, 'd': 0, 'q': 6, 'P': 0, 'D': 1, 'Q': 1}. Best is trial 19 with value: 0.42408941853923243.\u001b[0m\n"
     ]
    },
    {
     "name": "stdout",
     "output_type": "stream",
     "text": [
      "Optimization terminated successfully.\n",
      "         Current function value: -1.426106\n",
      "         Iterations: 6\n",
      "         Function evaluations: 1041\n"
     ]
    },
    {
     "name": "stderr",
     "output_type": "stream",
     "text": [
      "\u001b[32m[I 2022-03-13 16:56:02,355]\u001b[0m Trial 20 finished with value: 0.42408941853923243 and parameters: {'p': 6, 'd': 0, 'q': 6, 'P': 0, 'D': 1, 'Q': 1}. Best is trial 19 with value: 0.42408941853923243.\u001b[0m\n"
     ]
    },
    {
     "name": "stdout",
     "output_type": "stream",
     "text": [
      "Optimization terminated successfully.\n",
      "         Current function value: -1.426106\n",
      "         Iterations: 6\n",
      "         Function evaluations: 1041\n"
     ]
    },
    {
     "name": "stderr",
     "output_type": "stream",
     "text": [
      "\u001b[32m[I 2022-03-13 16:56:09,250]\u001b[0m Trial 21 finished with value: 0.42408941853923243 and parameters: {'p': 6, 'd': 0, 'q': 6, 'P': 0, 'D': 1, 'Q': 1}. Best is trial 19 with value: 0.42408941853923243.\u001b[0m\n"
     ]
    },
    {
     "name": "stdout",
     "output_type": "stream",
     "text": [
      "Optimization terminated successfully.\n",
      "         Current function value: -1.413906\n",
      "         Iterations: 17\n",
      "         Function evaluations: 2909\n"
     ]
    },
    {
     "name": "stderr",
     "output_type": "stream",
     "text": [
      "\u001b[32m[I 2022-03-13 16:56:29,435]\u001b[0m Trial 22 finished with value: 0.4298253846838692 and parameters: {'p': 6, 'd': 0, 'q': 5, 'P': 0, 'D': 1, 'Q': 1}. Best is trial 22 with value: 0.4298253846838692.\u001b[0m\n"
     ]
    },
    {
     "name": "stdout",
     "output_type": "stream",
     "text": [
      "Optimization terminated successfully.\n",
      "         Current function value: -1.413830\n",
      "         Iterations: 7\n",
      "         Function evaluations: 918\n"
     ]
    },
    {
     "name": "stderr",
     "output_type": "stream",
     "text": [
      "\u001b[32m[I 2022-03-13 16:56:35,457]\u001b[0m Trial 23 finished with value: 0.36821504243326586 and parameters: {'p': 4, 'd': 0, 'q': 4, 'P': 0, 'D': 1, 'Q': 1}. Best is trial 22 with value: 0.4298253846838692.\u001b[0m\n"
     ]
    },
    {
     "name": "stdout",
     "output_type": "stream",
     "text": [
      "Optimization terminated successfully.\n",
      "         Current function value: -1.413906\n",
      "         Iterations: 17\n",
      "         Function evaluations: 2909\n"
     ]
    },
    {
     "name": "stderr",
     "output_type": "stream",
     "text": [
      "\u001b[32m[I 2022-03-13 16:56:55,266]\u001b[0m Trial 24 finished with value: 0.4298253846838692 and parameters: {'p': 6, 'd': 0, 'q': 5, 'P': 0, 'D': 1, 'Q': 1}. Best is trial 22 with value: 0.4298253846838692.\u001b[0m\n"
     ]
    },
    {
     "name": "stdout",
     "output_type": "stream",
     "text": [
      "Optimization terminated successfully.\n",
      "         Current function value: -1.411395\n",
      "         Iterations: 14\n",
      "         Function evaluations: 2249\n"
     ]
    },
    {
     "name": "stderr",
     "output_type": "stream",
     "text": [
      "\u001b[32m[I 2022-03-13 16:57:10,390]\u001b[0m Trial 25 finished with value: 0.4353270325032954 and parameters: {'p': 5, 'd': 0, 'q': 5, 'P': 0, 'D': 1, 'Q': 1}. Best is trial 25 with value: 0.4353270325032954.\u001b[0m\n"
     ]
    },
    {
     "name": "stdout",
     "output_type": "stream",
     "text": [
      "Optimization terminated successfully.\n",
      "         Current function value: -1.411395\n",
      "         Iterations: 14\n",
      "         Function evaluations: 2249\n"
     ]
    },
    {
     "name": "stderr",
     "output_type": "stream",
     "text": [
      "\u001b[32m[I 2022-03-13 16:57:25,286]\u001b[0m Trial 26 finished with value: 0.4353270325032954 and parameters: {'p': 5, 'd': 0, 'q': 5, 'P': 0, 'D': 1, 'Q': 1}. Best is trial 25 with value: 0.4353270325032954.\u001b[0m\n",
      "\u001b[32m[I 2022-03-13 16:57:30,388]\u001b[0m Trial 27 finished with value: 0.3299910664569796 and parameters: {'p': 3, 'd': 0, 'q': 3, 'P': 0, 'D': 1, 'Q': 1}. Best is trial 25 with value: 0.4353270325032954.\u001b[0m\n"
     ]
    },
    {
     "name": "stdout",
     "output_type": "stream",
     "text": [
      "Optimization terminated successfully.\n",
      "         Current function value: -1.435474\n",
      "         Iterations: 8\n",
      "         Function evaluations: 857\n",
      "Optimization terminated successfully.\n",
      "         Current function value: -1.394581\n",
      "         Iterations: 5\n",
      "         Function evaluations: 804\n"
     ]
    },
    {
     "name": "stderr",
     "output_type": "stream",
     "text": [
      "\u001b[32m[I 2022-03-13 16:57:36,584]\u001b[0m Trial 28 finished with value: 0.4022502227003728 and parameters: {'p': 5, 'd': 0, 'q': 3, 'P': 1, 'D': 1, 'Q': 2}. Best is trial 25 with value: 0.4353270325032954.\u001b[0m\n",
      "\u001b[32m[I 2022-03-13 16:57:39,829]\u001b[0m Trial 29 finished with value: 0.017556188374590387 and parameters: {'p': 2, 'd': 1, 'q': 5, 'P': 0, 'D': 0, 'Q': 1}. Best is trial 25 with value: 0.4353270325032954.\u001b[0m\n"
     ]
    },
    {
     "name": "stdout",
     "output_type": "stream",
     "text": [
      "Optimization terminated successfully.\n",
      "         Current function value: -1.290650\n",
      "         Iterations: 7\n",
      "         Function evaluations: 927\n"
     ]
    },
    {
     "name": "stderr",
     "output_type": "stream",
     "text": [
      "\u001b[32m[I 2022-03-13 16:57:42,303]\u001b[0m Trial 30 finished with value: 0.4195466134983644 and parameters: {'p': 0, 'd': 0, 'q': 4, 'P': 0, 'D': 1, 'Q': 2}. Best is trial 25 with value: 0.4353270325032954.\u001b[0m\n"
     ]
    },
    {
     "name": "stdout",
     "output_type": "stream",
     "text": [
      "Optimization terminated successfully.\n",
      "         Current function value: -1.372738\n",
      "         Iterations: 3\n",
      "         Function evaluations: 286\n"
     ]
    },
    {
     "name": "stderr",
     "output_type": "stream",
     "text": [
      "\u001b[32m[I 2022-03-13 16:57:51,272]\u001b[0m Trial 31 finished with value: 0.44244237949136633 and parameters: {'p': 4, 'd': 0, 'q': 5, 'P': 0, 'D': 1, 'Q': 1}. Best is trial 31 with value: 0.44244237949136633.\u001b[0m\n"
     ]
    },
    {
     "name": "stdout",
     "output_type": "stream",
     "text": [
      "Optimization terminated successfully.\n",
      "         Current function value: -1.413454\n",
      "         Iterations: 10\n",
      "         Function evaluations: 1421\n",
      "Optimization terminated successfully.\n",
      "         Current function value: -1.413454\n",
      "         Iterations: 10\n",
      "         Function evaluations: 1421\n"
     ]
    },
    {
     "name": "stderr",
     "output_type": "stream",
     "text": [
      "\u001b[32m[I 2022-03-13 16:57:59,975]\u001b[0m Trial 32 finished with value: 0.44244237949136633 and parameters: {'p': 4, 'd': 0, 'q': 5, 'P': 0, 'D': 1, 'Q': 1}. Best is trial 31 with value: 0.44244237949136633.\u001b[0m\n",
      "\u001b[32m[I 2022-03-13 16:58:03,443]\u001b[0m Trial 33 finished with value: -0.4825139190245482 and parameters: {'p': 4, 'd': 0, 'q': 4, 'P': 0, 'D': 1, 'Q': 0}. Best is trial 31 with value: 0.44244237949136633.\u001b[0m\n"
     ]
    },
    {
     "name": "stdout",
     "output_type": "stream",
     "text": [
      "Optimization terminated successfully.\n",
      "         Current function value: -1.300904\n",
      "         Iterations: 9\n",
      "         Function evaluations: 1080\n",
      "Optimization terminated successfully.\n",
      "         Current function value: -1.425187\n",
      "         Iterations: 10\n",
      "         Function evaluations: 1493\n"
     ]
    },
    {
     "name": "stderr",
     "output_type": "stream",
     "text": [
      "\u001b[32m[I 2022-03-13 16:58:11,585]\u001b[0m Trial 34 finished with value: 0.4282899870307918 and parameters: {'p': 4, 'd': 0, 'q': 5, 'P': 1, 'D': 1, 'Q': 1}. Best is trial 31 with value: 0.44244237949136633.\u001b[0m\n",
      "\u001b[32m[I 2022-03-13 16:58:13,688]\u001b[0m Trial 35 finished with value: -0.017664986977871555 and parameters: {'p': 2, 'd': 0, 'q': 3, 'P': 1, 'D': 1, 'Q': 0}. Best is trial 31 with value: 0.44244237949136633.\u001b[0m\n"
     ]
    },
    {
     "name": "stdout",
     "output_type": "stream",
     "text": [
      "Optimization terminated successfully.\n",
      "         Current function value: -1.385118\n",
      "         Iterations: 9\n",
      "         Function evaluations: 814\n"
     ]
    },
    {
     "name": "stderr",
     "output_type": "stream",
     "text": [
      "\u001b[32m[I 2022-03-13 16:58:18,957]\u001b[0m Trial 36 finished with value: -2.698717331501135e+58 and parameters: {'p': 4, 'd': 0, 'q': 4, 'P': 0, 'D': 0, 'Q': 1}. Best is trial 31 with value: 0.44244237949136633.\u001b[0m\n"
     ]
    },
    {
     "name": "stdout",
     "output_type": "stream",
     "text": [
      "Optimization terminated successfully.\n",
      "         Current function value: 0.065234\n",
      "         Iterations: 10\n",
      "         Function evaluations: 1202\n",
      "Optimization terminated successfully.\n",
      "         Current function value: -1.402548\n",
      "         Iterations: 7\n",
      "         Function evaluations: 1044\n"
     ]
    },
    {
     "name": "stderr",
     "output_type": "stream",
     "text": [
      "\u001b[32m[I 2022-03-13 16:58:26,525]\u001b[0m Trial 37 finished with value: 0.3276764641517351 and parameters: {'p': 3, 'd': 1, 'q': 5, 'P': 1, 'D': 1, 'Q': 1}. Best is trial 31 with value: 0.44244237949136633.\u001b[0m\n",
      "\u001b[32m[I 2022-03-13 16:58:41,802]\u001b[0m Trial 38 finished with value: -0.22699000652390922 and parameters: {'p': 5, 'd': 0, 'q': 7, 'P': 0, 'D': 1, 'Q': 0}. Best is trial 31 with value: 0.44244237949136633.\u001b[0m\n"
     ]
    },
    {
     "name": "stdout",
     "output_type": "stream",
     "text": [
      "Optimization terminated successfully.\n",
      "         Current function value: -1.347913\n",
      "         Iterations: 21\n",
      "         Function evaluations: 3464\n"
     ]
    },
    {
     "name": "stderr",
     "output_type": "stream",
     "text": [
      "\u001b[32m[I 2022-03-13 16:58:48,651]\u001b[0m Trial 39 finished with value: 0.3134129722647856 and parameters: {'p': 2, 'd': 0, 'q': 2, 'P': 1, 'D': 0, 'Q': 2}. Best is trial 31 with value: 0.44244237949136633.\u001b[0m\n"
     ]
    },
    {
     "name": "stdout",
     "output_type": "stream",
     "text": [
      "Optimization terminated successfully.\n",
      "         Current function value: -1.412207\n",
      "         Iterations: 10\n",
      "         Function evaluations: 1062\n"
     ]
    },
    {
     "name": "stderr",
     "output_type": "stream",
     "text": [
      "\u001b[32m[I 2022-03-13 16:59:05,530]\u001b[0m Trial 40 finished with value: -0.13417683952609116 and parameters: {'p': 5, 'd': 1, 'q': 6, 'P': 0, 'D': 1, 'Q': 0}. Best is trial 31 with value: 0.44244237949136633.\u001b[0m\n"
     ]
    },
    {
     "name": "stdout",
     "output_type": "stream",
     "text": [
      "Optimization terminated successfully.\n",
      "         Current function value: -1.334817\n",
      "         Iterations: 26\n",
      "         Function evaluations: 3765\n",
      "Optimization terminated successfully.\n",
      "         Current function value: -1.411395\n",
      "         Iterations: 14\n",
      "         Function evaluations: 2249\n"
     ]
    },
    {
     "name": "stderr",
     "output_type": "stream",
     "text": [
      "\u001b[32m[I 2022-03-13 16:59:20,913]\u001b[0m Trial 41 finished with value: 0.4353270325032954 and parameters: {'p': 5, 'd': 0, 'q': 5, 'P': 0, 'D': 1, 'Q': 1}. Best is trial 31 with value: 0.44244237949136633.\u001b[0m\n"
     ]
    },
    {
     "name": "stdout",
     "output_type": "stream",
     "text": [
      "Optimization terminated successfully.\n",
      "         Current function value: -1.413454\n",
      "         Iterations: 10\n",
      "         Function evaluations: 1421\n"
     ]
    },
    {
     "name": "stderr",
     "output_type": "stream",
     "text": [
      "\u001b[32m[I 2022-03-13 16:59:29,734]\u001b[0m Trial 42 finished with value: 0.44244237949136633 and parameters: {'p': 4, 'd': 0, 'q': 5, 'P': 0, 'D': 1, 'Q': 1}. Best is trial 31 with value: 0.44244237949136633.\u001b[0m\n"
     ]
    },
    {
     "name": "stdout",
     "output_type": "stream",
     "text": [
      "Optimization terminated successfully.\n",
      "         Current function value: -1.420905\n",
      "         Iterations: 6\n",
      "         Function evaluations: 898\n"
     ]
    },
    {
     "name": "stderr",
     "output_type": "stream",
     "text": [
      "\u001b[32m[I 2022-03-13 16:59:35,899]\u001b[0m Trial 43 finished with value: 0.4469246711867061 and parameters: {'p': 4, 'd': 0, 'q': 6, 'P': 0, 'D': 1, 'Q': 1}. Best is trial 43 with value: 0.4469246711867061.\u001b[0m\n"
     ]
    },
    {
     "name": "stdout",
     "output_type": "stream",
     "text": [
      "Optimization terminated successfully.\n",
      "         Current function value: -1.420905\n",
      "         Iterations: 6\n",
      "         Function evaluations: 898\n"
     ]
    },
    {
     "name": "stderr",
     "output_type": "stream",
     "text": [
      "\u001b[32m[I 2022-03-13 16:59:41,840]\u001b[0m Trial 44 finished with value: 0.4469246711867061 and parameters: {'p': 4, 'd': 0, 'q': 6, 'P': 0, 'D': 1, 'Q': 1}. Best is trial 43 with value: 0.4469246711867061.\u001b[0m\n"
     ]
    },
    {
     "name": "stdout",
     "output_type": "stream",
     "text": [
      "Optimization terminated successfully.\n",
      "         Current function value: -1.435256\n",
      "         Iterations: 14\n",
      "         Function evaluations: 2092\n"
     ]
    },
    {
     "name": "stderr",
     "output_type": "stream",
     "text": [
      "\u001b[32m[I 2022-03-13 16:59:56,099]\u001b[0m Trial 45 finished with value: 0.312209972324337 and parameters: {'p': 3, 'd': 0, 'q': 6, 'P': 0, 'D': 1, 'Q': 1}. Best is trial 43 with value: 0.4469246711867061.\u001b[0m\n"
     ]
    },
    {
     "name": "stdout",
     "output_type": "stream",
     "text": [
      "Optimization terminated successfully.\n",
      "         Current function value: -1.408447\n",
      "         Iterations: 5\n",
      "         Function evaluations: 835\n"
     ]
    },
    {
     "name": "stderr",
     "output_type": "stream",
     "text": [
      "\u001b[32m[I 2022-03-13 17:00:00,349]\u001b[0m Trial 46 finished with value: 0.4133973372203964 and parameters: {'p': 4, 'd': 0, 'q': 7, 'P': 1, 'D': 1, 'Q': 1}. Best is trial 43 with value: 0.4469246711867061.\u001b[0m\n",
      "\u001b[32m[I 2022-03-13 17:00:03,463]\u001b[0m Trial 47 finished with value: -0.29805853882898536 and parameters: {'p': 3, 'd': 0, 'q': 7, 'P': 0, 'D': 1, 'Q': 0}. Best is trial 43 with value: 0.4469246711867061.\u001b[0m\n"
     ]
    },
    {
     "name": "stdout",
     "output_type": "stream",
     "text": [
      "Optimization terminated successfully.\n",
      "         Current function value: -1.304589\n",
      "         Iterations: 5\n",
      "         Function evaluations: 697\n",
      "Optimization terminated successfully.\n",
      "         Current function value: -1.374619\n",
      "         Iterations: 6\n",
      "         Function evaluations: 1006\n"
     ]
    },
    {
     "name": "stderr",
     "output_type": "stream",
     "text": [
      "\u001b[32m[I 2022-03-13 17:00:12,804]\u001b[0m Trial 48 finished with value: 0.4337322848625689 and parameters: {'p': 4, 'd': 0, 'q': 6, 'P': 0, 'D': 1, 'Q': 2}. Best is trial 43 with value: 0.4469246711867061.\u001b[0m\n",
      "\u001b[32m[I 2022-03-13 17:00:22,295]\u001b[0m Trial 49 finished with value: 0.41044250644570957 and parameters: {'p': 3, 'd': 0, 'q': 6, 'P': 1, 'D': 0, 'Q': 1}. Best is trial 43 with value: 0.4469246711867061.\u001b[0m\n",
      "\u001b[32m[I 2022-03-13 17:00:22,314]\u001b[0m A new study created in memory with name: no-name-49aa133e-178d-401b-a71f-3d30d8c7ac8c\u001b[0m\n"
     ]
    },
    {
     "name": "stdout",
     "output_type": "stream",
     "text": [
      "Optimization terminated successfully.\n",
      "         Current function value: -1.461672\n",
      "         Iterations: 12\n",
      "         Function evaluations: 1892\n"
     ]
    },
    {
     "name": "stderr",
     "output_type": "stream",
     "text": [
      "\u001b[32m[I 2022-03-13 17:00:22,424]\u001b[0m Trial 0 finished with value: -5.2738732800527295 and parameters: {'p': 0, 'd': 1, 'q': 0, 'P': 0, 'D': 0, 'Q': 0}. Best is trial 0 with value: -5.2738732800527295.\u001b[0m\n"
     ]
    },
    {
     "name": "stdout",
     "output_type": "stream",
     "text": [
      "Optimization terminated successfully.\n",
      "         Current function value: -1.176684\n",
      "         Iterations: 1\n",
      "         Function evaluations: 19\n",
      "Optimization terminated successfully.\n",
      "         Current function value: -1.334291\n",
      "         Iterations: 18\n",
      "         Function evaluations: 2751\n"
     ]
    },
    {
     "name": "stderr",
     "output_type": "stream",
     "text": [
      "\u001b[32m[I 2022-03-13 17:00:38,247]\u001b[0m Trial 1 finished with value: 0.3910866584936442 and parameters: {'p': 8, 'd': 0, 'q': 3, 'P': 2, 'D': 0, 'Q': 0}. Best is trial 1 with value: 0.3910866584936442.\u001b[0m\n"
     ]
    },
    {
     "name": "stdout",
     "output_type": "stream",
     "text": [
      "Optimization terminated successfully.\n",
      "         Current function value: -1.496104\n",
      "         Iterations: 9\n",
      "         Function evaluations: 1884\n"
     ]
    },
    {
     "name": "stderr",
     "output_type": "stream",
     "text": [
      "\u001b[32m[I 2022-03-13 17:00:46,250]\u001b[0m Trial 2 finished with value: 0.7115186021014253 and parameters: {'p': 7, 'd': 1, 'q': 8, 'P': 0, 'D': 0, 'Q': 1}. Best is trial 2 with value: 0.7115186021014253.\u001b[0m\n"
     ]
    },
    {
     "name": "stdout",
     "output_type": "stream",
     "text": [
      "Optimization terminated successfully.\n",
      "         Current function value: -1.431385\n",
      "         Iterations: 3\n",
      "         Function evaluations: 517\n"
     ]
    },
    {
     "name": "stderr",
     "output_type": "stream",
     "text": [
      "\u001b[32m[I 2022-03-13 17:00:52,232]\u001b[0m Trial 3 finished with value: 0.7203192462388146 and parameters: {'p': 5, 'd': 0, 'q': 6, 'P': 1, 'D': 1, 'Q': 2}. Best is trial 3 with value: 0.7203192462388146.\u001b[0m\n"
     ]
    },
    {
     "name": "stdout",
     "output_type": "stream",
     "text": [
      "Optimization terminated successfully.\n",
      "         Current function value: -1.399425\n",
      "         Iterations: 22\n",
      "         Function evaluations: 5616\n"
     ]
    },
    {
     "name": "stderr",
     "output_type": "stream",
     "text": [
      "\u001b[32m[I 2022-03-13 17:02:17,420]\u001b[0m Trial 4 finished with value: 0.6785308894945392 and parameters: {'p': 8, 'd': 0, 'q': 7, 'P': 3, 'D': 1, 'Q': 3}. Best is trial 3 with value: 0.7203192462388146.\u001b[0m\n",
      "\u001b[32m[I 2022-03-13 17:02:35,411]\u001b[0m Trial 5 finished with value: 0.7015611946143021 and parameters: {'p': 6, 'd': 0, 'q': 7, 'P': 1, 'D': 0, 'Q': 1}. Best is trial 3 with value: 0.7203192462388146.\u001b[0m\n"
     ]
    },
    {
     "name": "stdout",
     "output_type": "stream",
     "text": [
      "Optimization terminated successfully.\n",
      "         Current function value: -1.542805\n",
      "         Iterations: 17\n",
      "         Function evaluations: 3506\n",
      "Optimization terminated successfully.\n",
      "         Current function value: -1.375409\n",
      "         Iterations: 8\n",
      "         Function evaluations: 1560\n"
     ]
    },
    {
     "name": "stderr",
     "output_type": "stream",
     "text": [
      "\u001b[32m[I 2022-03-13 17:03:01,688]\u001b[0m Trial 6 finished with value: 0.6284380707984996 and parameters: {'p': 0, 'd': 1, 'q': 7, 'P': 3, 'D': 1, 'Q': 3}. Best is trial 3 with value: 0.7203192462388146.\u001b[0m\n"
     ]
    },
    {
     "name": "stdout",
     "output_type": "stream",
     "text": [
      "Optimization terminated successfully.\n",
      "         Current function value: -1.300335\n",
      "         Iterations: 3\n",
      "         Function evaluations: 322\n"
     ]
    },
    {
     "name": "stderr",
     "output_type": "stream",
     "text": [
      "\u001b[32m[I 2022-03-13 17:03:04,077]\u001b[0m Trial 7 finished with value: 0.4224149919337401 and parameters: {'p': 6, 'd': 1, 'q': 0, 'P': 3, 'D': 1, 'Q': 0}. Best is trial 3 with value: 0.7203192462388146.\u001b[0m\n"
     ]
    },
    {
     "name": "stdout",
     "output_type": "stream",
     "text": [
      "Optimization terminated successfully.\n",
      "         Current function value: -1.384556\n",
      "         Iterations: 3\n",
      "         Function evaluations: 451\n"
     ]
    },
    {
     "name": "stderr",
     "output_type": "stream",
     "text": [
      "\u001b[32m[I 2022-03-13 17:03:07,174]\u001b[0m Trial 8 finished with value: 0.6456008752129994 and parameters: {'p': 2, 'd': 0, 'q': 7, 'P': 3, 'D': 1, 'Q': 0}. Best is trial 3 with value: 0.7203192462388146.\u001b[0m\n",
      "\u001b[32m[I 2022-03-13 17:03:11,531]\u001b[0m Trial 9 finished with value: 0.6328959185164335 and parameters: {'p': 3, 'd': 1, 'q': 1, 'P': 2, 'D': 0, 'Q': 1}. Best is trial 3 with value: 0.7203192462388146.\u001b[0m\n"
     ]
    },
    {
     "name": "stdout",
     "output_type": "stream",
     "text": [
      "Optimization terminated successfully.\n",
      "         Current function value: -1.479757\n",
      "         Iterations: 8\n",
      "         Function evaluations: 760\n",
      "Optimization terminated successfully.\n",
      "         Current function value: -1.437293\n",
      "         Iterations: 7\n",
      "         Function evaluations: 1024\n"
     ]
    },
    {
     "name": "stderr",
     "output_type": "stream",
     "text": [
      "\u001b[32m[I 2022-03-13 17:03:21,835]\u001b[0m Trial 10 finished with value: 0.7190750823515095 and parameters: {'p': 4, 'd': 0, 'q': 4, 'P': 1, 'D': 1, 'Q': 2}. Best is trial 3 with value: 0.7203192462388146.\u001b[0m\n"
     ]
    },
    {
     "name": "stdout",
     "output_type": "stream",
     "text": [
      "Optimization terminated successfully.\n",
      "         Current function value: -1.437293\n",
      "         Iterations: 7\n",
      "         Function evaluations: 1024\n"
     ]
    },
    {
     "name": "stderr",
     "output_type": "stream",
     "text": [
      "\u001b[32m[I 2022-03-13 17:03:31,700]\u001b[0m Trial 11 finished with value: 0.7190750823515095 and parameters: {'p': 4, 'd': 0, 'q': 4, 'P': 1, 'D': 1, 'Q': 2}. Best is trial 3 with value: 0.7203192462388146.\u001b[0m\n"
     ]
    },
    {
     "name": "stdout",
     "output_type": "stream",
     "text": [
      "Optimization terminated successfully.\n",
      "         Current function value: -1.437666\n",
      "         Iterations: 9\n",
      "         Function evaluations: 1507\n"
     ]
    },
    {
     "name": "stderr",
     "output_type": "stream",
     "text": [
      "\u001b[32m[I 2022-03-13 17:03:47,246]\u001b[0m Trial 12 finished with value: 0.728111364722885 and parameters: {'p': 5, 'd': 0, 'q': 5, 'P': 1, 'D': 1, 'Q': 2}. Best is trial 12 with value: 0.728111364722885.\u001b[0m\n"
     ]
    },
    {
     "name": "stdout",
     "output_type": "stream",
     "text": [
      "Optimization terminated successfully.\n",
      "         Current function value: -1.437666\n",
      "         Iterations: 9\n",
      "         Function evaluations: 1507\n"
     ]
    },
    {
     "name": "stderr",
     "output_type": "stream",
     "text": [
      "\u001b[32m[I 2022-03-13 17:04:02,616]\u001b[0m Trial 13 finished with value: 0.728111364722885 and parameters: {'p': 5, 'd': 0, 'q': 5, 'P': 1, 'D': 1, 'Q': 2}. Best is trial 12 with value: 0.728111364722885.\u001b[0m\n"
     ]
    },
    {
     "name": "stdout",
     "output_type": "stream",
     "text": [
      "Optimization terminated successfully.\n",
      "         Current function value: -1.433491\n",
      "         Iterations: 10\n",
      "         Function evaluations: 1586\n"
     ]
    },
    {
     "name": "stderr",
     "output_type": "stream",
     "text": [
      "\u001b[32m[I 2022-03-13 17:04:18,920]\u001b[0m Trial 14 finished with value: 0.7319645492412976 and parameters: {'p': 5, 'd': 0, 'q': 5, 'P': 0, 'D': 1, 'Q': 2}. Best is trial 14 with value: 0.7319645492412976.\u001b[0m\n"
     ]
    },
    {
     "name": "stdout",
     "output_type": "stream",
     "text": [
      "Optimization terminated successfully.\n",
      "         Current function value: -1.385874\n",
      "         Iterations: 4\n",
      "         Function evaluations: 404\n"
     ]
    },
    {
     "name": "stderr",
     "output_type": "stream",
     "text": [
      "\u001b[32m[I 2022-03-13 17:04:24,764]\u001b[0m Trial 15 finished with value: 0.7229552700941942 and parameters: {'p': 2, 'd': 0, 'q': 2, 'P': 0, 'D': 1, 'Q': 3}. Best is trial 14 with value: 0.7319645492412976.\u001b[0m\n"
     ]
    },
    {
     "name": "stdout",
     "output_type": "stream",
     "text": [
      "Optimization terminated successfully.\n",
      "         Current function value: -1.439382\n",
      "         Iterations: 10\n",
      "         Function evaluations: 1723\n"
     ]
    },
    {
     "name": "stderr",
     "output_type": "stream",
     "text": [
      "\u001b[32m[I 2022-03-13 17:04:42,394]\u001b[0m Trial 16 finished with value: 0.7406920378965496 and parameters: {'p': 6, 'd': 0, 'q': 5, 'P': 0, 'D': 1, 'Q': 2}. Best is trial 16 with value: 0.7406920378965496.\u001b[0m\n"
     ]
    },
    {
     "name": "stdout",
     "output_type": "stream",
     "text": [
      "Optimization terminated successfully.\n",
      "         Current function value: -1.494466\n",
      "         Iterations: 13\n",
      "         Function evaluations: 2214\n"
     ]
    },
    {
     "name": "stderr",
     "output_type": "stream",
     "text": [
      "\u001b[32m[I 2022-03-13 17:04:57,924]\u001b[0m Trial 17 finished with value: 0.7474892305434215 and parameters: {'p': 7, 'd': 0, 'q': 5, 'P': 0, 'D': 1, 'Q': 1}. Best is trial 17 with value: 0.7474892305434215.\u001b[0m\n"
     ]
    },
    {
     "name": "stdout",
     "output_type": "stream",
     "text": [
      "Optimization terminated successfully.\n",
      "         Current function value: -1.495487\n",
      "         Iterations: 8\n",
      "         Function evaluations: 1266\n"
     ]
    },
    {
     "name": "stderr",
     "output_type": "stream",
     "text": [
      "\u001b[32m[I 2022-03-13 17:05:05,927]\u001b[0m Trial 18 finished with value: 0.72791070700966 and parameters: {'p': 7, 'd': 0, 'q': 3, 'P': 0, 'D': 1, 'Q': 1}. Best is trial 17 with value: 0.7474892305434215.\u001b[0m\n"
     ]
    },
    {
     "name": "stdout",
     "output_type": "stream",
     "text": [
      "Optimization terminated successfully.\n",
      "         Current function value: -1.426911\n",
      "         Iterations: 7\n",
      "         Function evaluations: 1461\n"
     ]
    },
    {
     "name": "stderr",
     "output_type": "stream",
     "text": [
      "\u001b[32m[I 2022-03-13 17:05:21,596]\u001b[0m Trial 19 finished with value: 0.7210466474024015 and parameters: {'p': 7, 'd': 0, 'q': 6, 'P': 2, 'D': 1, 'Q': 1}. Best is trial 17 with value: 0.7474892305434215.\u001b[0m\n",
      "\u001b[32m[I 2022-03-13 17:05:35,506]\u001b[0m Trial 20 finished with value: 0.11433106992142128 and parameters: {'p': 6, 'd': 1, 'q': 3, 'P': 0, 'D': 0, 'Q': 1}. Best is trial 17 with value: 0.7474892305434215.\u001b[0m\n"
     ]
    },
    {
     "name": "stdout",
     "output_type": "stream",
     "text": [
      "Optimization terminated successfully.\n",
      "         Current function value: -1.328243\n",
      "         Iterations: 23\n",
      "         Function evaluations: 3180\n",
      "Optimization terminated successfully.\n",
      "         Current function value: -1.439382\n",
      "         Iterations: 10\n",
      "         Function evaluations: 1723\n"
     ]
    },
    {
     "name": "stderr",
     "output_type": "stream",
     "text": [
      "\u001b[32m[I 2022-03-13 17:05:53,001]\u001b[0m Trial 21 finished with value: 0.7406920378965496 and parameters: {'p': 6, 'd': 0, 'q': 5, 'P': 0, 'D': 1, 'Q': 2}. Best is trial 17 with value: 0.7474892305434215.\u001b[0m\n"
     ]
    },
    {
     "name": "stdout",
     "output_type": "stream",
     "text": [
      "Optimization terminated successfully.\n",
      "         Current function value: -1.433413\n",
      "         Iterations: 13\n",
      "         Function evaluations: 2407\n"
     ]
    },
    {
     "name": "stderr",
     "output_type": "stream",
     "text": [
      "\u001b[32m[I 2022-03-13 17:06:19,165]\u001b[0m Trial 22 finished with value: 0.7301703668902819 and parameters: {'p': 7, 'd': 0, 'q': 6, 'P': 0, 'D': 1, 'Q': 2}. Best is trial 17 with value: 0.7474892305434215.\u001b[0m\n"
     ]
    },
    {
     "name": "stdout",
     "output_type": "stream",
     "text": [
      "Optimization terminated successfully.\n",
      "         Current function value: -1.381270\n",
      "         Iterations: 13\n",
      "         Function evaluations: 2629\n"
     ]
    },
    {
     "name": "stderr",
     "output_type": "stream",
     "text": [
      "\u001b[32m[I 2022-03-13 17:06:58,605]\u001b[0m Trial 23 finished with value: 0.7290710532275286 and parameters: {'p': 8, 'd': 0, 'q': 5, 'P': 0, 'D': 1, 'Q': 3}. Best is trial 17 with value: 0.7474892305434215.\u001b[0m\n"
     ]
    },
    {
     "name": "stdout",
     "output_type": "stream",
     "text": [
      "Optimization terminated successfully.\n",
      "         Current function value: -1.433173\n",
      "         Iterations: 34\n",
      "         Function evaluations: 5572\n"
     ]
    },
    {
     "name": "stderr",
     "output_type": "stream",
     "text": [
      "\u001b[32m[I 2022-03-13 17:07:52,799]\u001b[0m Trial 24 finished with value: 0.6712472253162634 and parameters: {'p': 6, 'd': 0, 'q': 4, 'P': 0, 'D': 1, 'Q': 2}. Best is trial 17 with value: 0.7474892305434215.\u001b[0m\n"
     ]
    },
    {
     "name": "stdout",
     "output_type": "stream",
     "text": [
      "Optimization terminated successfully.\n",
      "         Current function value: -1.489649\n",
      "         Iterations: 7\n",
      "         Function evaluations: 1233\n"
     ]
    },
    {
     "name": "stderr",
     "output_type": "stream",
     "text": [
      "\u001b[32m[I 2022-03-13 17:08:02,107]\u001b[0m Trial 25 finished with value: 0.7293152467097084 and parameters: {'p': 7, 'd': 0, 'q': 6, 'P': 0, 'D': 1, 'Q': 1}. Best is trial 17 with value: 0.7474892305434215.\u001b[0m\n"
     ]
    },
    {
     "name": "stdout",
     "output_type": "stream",
     "text": [
      "Optimization terminated successfully.\n",
      "         Current function value: -1.440527\n",
      "         Iterations: 8\n",
      "         Function evaluations: 1460\n"
     ]
    },
    {
     "name": "stderr",
     "output_type": "stream",
     "text": [
      "\u001b[32m[I 2022-03-13 17:08:16,725]\u001b[0m Trial 26 finished with value: 0.7272493343973387 and parameters: {'p': 6, 'd': 0, 'q': 5, 'P': 1, 'D': 1, 'Q': 2}. Best is trial 17 with value: 0.7474892305434215.\u001b[0m\n"
     ]
    },
    {
     "name": "stdout",
     "output_type": "stream",
     "text": [
      "Optimization terminated successfully.\n",
      "         Current function value: -1.385936\n",
      "         Iterations: 5\n",
      "         Function evaluations: 569\n"
     ]
    },
    {
     "name": "stderr",
     "output_type": "stream",
     "text": [
      "\u001b[32m[I 2022-03-13 17:08:24,560]\u001b[0m Trial 27 finished with value: 0.7239586908813498 and parameters: {'p': 3, 'd': 0, 'q': 2, 'P': 0, 'D': 1, 'Q': 3}. Best is trial 17 with value: 0.7474892305434215.\u001b[0m\n"
     ]
    },
    {
     "name": "stdout",
     "output_type": "stream",
     "text": [
      "Optimization terminated successfully.\n",
      "         Current function value: 0.223171\n",
      "         Iterations: 31\n",
      "         Function evaluations: 7050\n"
     ]
    },
    {
     "name": "stderr",
     "output_type": "stream",
     "text": [
      "\u001b[32m[I 2022-03-13 17:09:15,314]\u001b[0m Trial 28 finished with value: -6.429258687035476e+60 and parameters: {'p': 8, 'd': 0, 'q': 4, 'P': 1, 'D': 1, 'Q': 1}. Best is trial 17 with value: 0.7474892305434215.\u001b[0m\n",
      "\u001b[32m[I 2022-03-13 17:09:18,955]\u001b[0m Trial 29 finished with value: 0.718854580981954 and parameters: {'p': 5, 'd': 1, 'q': 8, 'P': 0, 'D': 0, 'Q': 0}. Best is trial 17 with value: 0.7474892305434215.\u001b[0m\n"
     ]
    },
    {
     "name": "stdout",
     "output_type": "stream",
     "text": [
      "Optimization terminated successfully.\n",
      "         Current function value: -1.504164\n",
      "         Iterations: 22\n",
      "         Function evaluations: 4353\n",
      "Optimization terminated successfully.\n",
      "         Current function value: -1.379807\n",
      "         Iterations: 31\n",
      "         Function evaluations: 5905\n"
     ]
    },
    {
     "name": "stderr",
     "output_type": "stream",
     "text": [
      "\u001b[32m[I 2022-03-13 17:10:16,988]\u001b[0m Trial 30 finished with value: 0.6703867435547504 and parameters: {'p': 7, 'd': 0, 'q': 4, 'P': 0, 'D': 1, 'Q': 2}. Best is trial 17 with value: 0.7474892305434215.\u001b[0m\n"
     ]
    },
    {
     "name": "stdout",
     "output_type": "stream",
     "text": [
      "Optimization terminated successfully.\n",
      "         Current function value: -1.433491\n",
      "         Iterations: 10\n",
      "         Function evaluations: 1586\n"
     ]
    },
    {
     "name": "stderr",
     "output_type": "stream",
     "text": [
      "\u001b[32m[I 2022-03-13 17:10:32,874]\u001b[0m Trial 31 finished with value: 0.7319645492412976 and parameters: {'p': 5, 'd': 0, 'q': 5, 'P': 0, 'D': 1, 'Q': 2}. Best is trial 17 with value: 0.7474892305434215.\u001b[0m\n"
     ]
    },
    {
     "name": "stdout",
     "output_type": "stream",
     "text": [
      "Optimization terminated successfully.\n",
      "         Current function value: -1.424737\n",
      "         Iterations: 4\n",
      "         Function evaluations: 669\n"
     ]
    },
    {
     "name": "stderr",
     "output_type": "stream",
     "text": [
      "\u001b[32m[I 2022-03-13 17:10:40,356]\u001b[0m Trial 32 finished with value: 0.724850219522009 and parameters: {'p': 6, 'd': 0, 'q': 6, 'P': 0, 'D': 1, 'Q': 2}. Best is trial 17 with value: 0.7474892305434215.\u001b[0m\n"
     ]
    },
    {
     "name": "stdout",
     "output_type": "stream",
     "text": [
      "Optimization terminated successfully.\n",
      "         Current function value: -1.426659\n",
      "         Iterations: 11\n",
      "         Function evaluations: 1676\n"
     ]
    },
    {
     "name": "stderr",
     "output_type": "stream",
     "text": [
      "\u001b[32m[I 2022-03-13 17:10:57,655]\u001b[0m Trial 33 finished with value: 0.7190890718930675 and parameters: {'p': 4, 'd': 0, 'q': 5, 'P': 0, 'D': 1, 'Q': 2}. Best is trial 17 with value: 0.7474892305434215.\u001b[0m\n",
      "\u001b[32m[I 2022-03-13 17:11:06,084]\u001b[0m Trial 34 finished with value: 0.7293123119667508 and parameters: {'p': 5, 'd': 0, 'q': 3, 'P': 0, 'D': 1, 'Q': 1}. Best is trial 17 with value: 0.7474892305434215.\u001b[0m\n"
     ]
    },
    {
     "name": "stdout",
     "output_type": "stream",
     "text": [
      "Optimization terminated successfully.\n",
      "         Current function value: -1.500981\n",
      "         Iterations: 10\n",
      "         Function evaluations: 1276\n",
      "Optimization terminated successfully.\n",
      "         Current function value: -1.475412\n",
      "         Iterations: 12\n",
      "         Function evaluations: 2372\n"
     ]
    },
    {
     "name": "stderr",
     "output_type": "stream",
     "text": [
      "\u001b[32m[I 2022-03-13 17:11:24,374]\u001b[0m Trial 35 finished with value: 0.6579514908123434 and parameters: {'p': 6, 'd': 0, 'q': 6, 'P': 1, 'D': 0, 'Q': 2}. Best is trial 17 with value: 0.7474892305434215.\u001b[0m\n"
     ]
    },
    {
     "name": "stdout",
     "output_type": "stream",
     "text": [
      "Optimization terminated successfully.\n",
      "         Current function value: 0.317530\n",
      "         Iterations: 29\n",
      "         Function evaluations: 6030\n"
     ]
    },
    {
     "name": "stderr",
     "output_type": "stream",
     "text": [
      "\u001b[32m[I 2022-03-13 17:12:49,020]\u001b[0m Trial 36 finished with value: -1.3076322815783036e+70 and parameters: {'p': 8, 'd': 0, 'q': 4, 'P': 0, 'D': 1, 'Q': 3}. Best is trial 17 with value: 0.7474892305434215.\u001b[0m\n"
     ]
    },
    {
     "name": "stdout",
     "output_type": "stream",
     "text": [
      "Optimization terminated successfully.\n",
      "         Current function value: -1.438636\n",
      "         Iterations: 14\n",
      "         Function evaluations: 3011\n"
     ]
    },
    {
     "name": "stderr",
     "output_type": "stream",
     "text": [
      "\u001b[32m[I 2022-03-13 17:13:19,958]\u001b[0m Trial 37 finished with value: 0.7279817216910764 and parameters: {'p': 7, 'd': 0, 'q': 5, 'P': 2, 'D': 1, 'Q': 1}. Best is trial 17 with value: 0.7474892305434215.\u001b[0m\n"
     ]
    },
    {
     "name": "stdout",
     "output_type": "stream",
     "text": [
      "Optimization terminated successfully.\n",
      "         Current function value: -1.419995\n",
      "         Iterations: 12\n",
      "         Function evaluations: 2256\n"
     ]
    },
    {
     "name": "stderr",
     "output_type": "stream",
     "text": [
      "\u001b[32m[I 2022-03-13 17:13:45,761]\u001b[0m Trial 38 finished with value: 0.6474225308244562 and parameters: {'p': 5, 'd': 1, 'q': 7, 'P': 0, 'D': 1, 'Q': 2}. Best is trial 17 with value: 0.7474892305434215.\u001b[0m\n"
     ]
    },
    {
     "name": "stdout",
     "output_type": "stream",
     "text": [
      "Optimization terminated successfully.\n",
      "         Current function value: -1.425499\n",
      "         Iterations: 12\n",
      "         Function evaluations: 2490\n"
     ]
    },
    {
     "name": "stderr",
     "output_type": "stream",
     "text": [
      "\u001b[32m[I 2022-03-13 17:14:12,463]\u001b[0m Trial 39 finished with value: 0.6608208251503798 and parameters: {'p': 6, 'd': 0, 'q': 6, 'P': 1, 'D': 0, 'Q': 3}. Best is trial 17 with value: 0.7474892305434215.\u001b[0m\n",
      "\u001b[32m[I 2022-03-13 17:14:15,537]\u001b[0m Trial 40 finished with value: 0.3186843094046189 and parameters: {'p': 3, 'd': 0, 'q': 5, 'P': 0, 'D': 1, 'Q': 0}. Best is trial 17 with value: 0.7474892305434215.\u001b[0m\n"
     ]
    },
    {
     "name": "stdout",
     "output_type": "stream",
     "text": [
      "Optimization terminated successfully.\n",
      "         Current function value: -1.319933\n",
      "         Iterations: 15\n",
      "         Function evaluations: 1772\n",
      "Optimization terminated successfully.\n",
      "         Current function value: -1.433491\n",
      "         Iterations: 10\n",
      "         Function evaluations: 1586\n"
     ]
    },
    {
     "name": "stderr",
     "output_type": "stream",
     "text": [
      "\u001b[32m[I 2022-03-13 17:14:31,326]\u001b[0m Trial 41 finished with value: 0.7319645492412976 and parameters: {'p': 5, 'd': 0, 'q': 5, 'P': 0, 'D': 1, 'Q': 2}. Best is trial 17 with value: 0.7474892305434215.\u001b[0m\n"
     ]
    },
    {
     "name": "stdout",
     "output_type": "stream",
     "text": [
      "Optimization terminated successfully.\n",
      "         Current function value: -1.426659\n",
      "         Iterations: 11\n",
      "         Function evaluations: 1676\n"
     ]
    },
    {
     "name": "stderr",
     "output_type": "stream",
     "text": [
      "\u001b[32m[I 2022-03-13 17:14:48,039]\u001b[0m Trial 42 finished with value: 0.7190890718930675 and parameters: {'p': 4, 'd': 0, 'q': 5, 'P': 0, 'D': 1, 'Q': 2}. Best is trial 17 with value: 0.7474892305434215.\u001b[0m\n"
     ]
    },
    {
     "name": "stdout",
     "output_type": "stream",
     "text": [
      "Optimization terminated successfully.\n",
      "         Current function value: -1.434658\n",
      "         Iterations: 3\n",
      "         Function evaluations: 272\n"
     ]
    },
    {
     "name": "stderr",
     "output_type": "stream",
     "text": [
      "\u001b[32m[I 2022-03-13 17:14:50,830]\u001b[0m Trial 43 finished with value: 0.7233110569319084 and parameters: {'p': 0, 'd': 0, 'q': 4, 'P': 0, 'D': 1, 'Q': 2}. Best is trial 17 with value: 0.7474892305434215.\u001b[0m\n"
     ]
    },
    {
     "name": "stdout",
     "output_type": "stream",
     "text": [
      "Optimization terminated successfully.\n",
      "         Current function value: -1.426467\n",
      "         Iterations: 4\n",
      "         Function evaluations: 631\n"
     ]
    },
    {
     "name": "stderr",
     "output_type": "stream",
     "text": [
      "\u001b[32m[I 2022-03-13 17:14:57,986]\u001b[0m Trial 44 finished with value: 0.7238989431015264 and parameters: {'p': 4, 'd': 0, 'q': 6, 'P': 0, 'D': 1, 'Q': 2}. Best is trial 17 with value: 0.7474892305434215.\u001b[0m\n"
     ]
    },
    {
     "name": "stdout",
     "output_type": "stream",
     "text": [
      "Optimization terminated successfully.\n",
      "         Current function value: -1.431484\n",
      "         Iterations: 12\n",
      "         Function evaluations: 2449\n"
     ]
    },
    {
     "name": "stderr",
     "output_type": "stream",
     "text": [
      "\u001b[32m[I 2022-03-13 17:15:24,755]\u001b[0m Trial 45 finished with value: 0.7283245324130392 and parameters: {'p': 6, 'd': 0, 'q': 7, 'P': 1, 'D': 1, 'Q': 2}. Best is trial 17 with value: 0.7474892305434215.\u001b[0m\n"
     ]
    },
    {
     "name": "stdout",
     "output_type": "stream",
     "text": [
      "Optimization terminated successfully.\n",
      "         Current function value: -1.440263\n",
      "         Iterations: 24\n",
      "         Function evaluations: 4044\n"
     ]
    },
    {
     "name": "stderr",
     "output_type": "stream",
     "text": [
      "\u001b[32m[I 2022-03-13 17:16:02,982]\u001b[0m Trial 46 finished with value: 0.6845956061949048 and parameters: {'p': 5, 'd': 0, 'q': 4, 'P': 2, 'D': 1, 'Q': 1}. Best is trial 17 with value: 0.7474892305434215.\u001b[0m\n"
     ]
    },
    {
     "name": "stdout",
     "output_type": "stream",
     "text": [
      "Optimization terminated successfully.\n",
      "         Current function value: -1.441308\n",
      "         Iterations: 12\n",
      "         Function evaluations: 2249\n"
     ]
    },
    {
     "name": "stderr",
     "output_type": "stream",
     "text": [
      "\u001b[32m[I 2022-03-13 17:16:24,839]\u001b[0m Trial 47 finished with value: 0.74078222350356 and parameters: {'p': 7, 'd': 0, 'q': 5, 'P': 0, 'D': 1, 'Q': 2}. Best is trial 17 with value: 0.7474892305434215.\u001b[0m\n"
     ]
    },
    {
     "name": "stdout",
     "output_type": "stream",
     "text": [
      "Optimization terminated successfully.\n",
      "         Current function value: -1.475544\n",
      "         Iterations: 19\n",
      "         Function evaluations: 3863\n"
     ]
    },
    {
     "name": "stderr",
     "output_type": "stream",
     "text": [
      "\u001b[32m[I 2022-03-13 17:16:54,752]\u001b[0m Trial 48 finished with value: 0.6415645763557314 and parameters: {'p': 8, 'd': 1, 'q': 6, 'P': 1, 'D': 1, 'Q': 1}. Best is trial 17 with value: 0.7474892305434215.\u001b[0m\n"
     ]
    },
    {
     "name": "stdout",
     "output_type": "stream",
     "text": [
      "Optimization terminated successfully.\n",
      "         Current function value: -1.373133\n",
      "         Iterations: 8\n",
      "         Function evaluations: 1793\n"
     ]
    },
    {
     "name": "stderr",
     "output_type": "stream",
     "text": [
      "\u001b[32m[I 2022-03-13 17:17:27,292]\u001b[0m Trial 49 finished with value: 0.7165380486279878 and parameters: {'p': 7, 'd': 0, 'q': 8, 'P': 0, 'D': 1, 'Q': 3}. Best is trial 17 with value: 0.7474892305434215.\u001b[0m\n",
      "\u001b[32m[I 2022-03-13 17:17:27,303]\u001b[0m A new study created in memory with name: no-name-7752b0cc-018e-478a-bb69-1405b7ce6362\u001b[0m\n"
     ]
    },
    {
     "name": "stdout",
     "output_type": "stream",
     "text": [
      "Optimization terminated successfully.\n",
      "         Current function value: -1.290108\n",
      "         Iterations: 8\n",
      "         Function evaluations: 1179\n"
     ]
    },
    {
     "name": "stderr",
     "output_type": "stream",
     "text": [
      "\u001b[32m[I 2022-03-13 17:17:35,338]\u001b[0m Trial 0 finished with value: 0.501705624780874 and parameters: {'p': 7, 'd': 0, 'q': 0, 'P': 2, 'D': 1, 'Q': 1}. Best is trial 0 with value: 0.501705624780874.\u001b[0m\n"
     ]
    },
    {
     "name": "stdout",
     "output_type": "stream",
     "text": [
      "Optimization terminated successfully.\n",
      "         Current function value: -1.304611\n",
      "         Iterations: 15\n",
      "         Function evaluations: 2847\n"
     ]
    },
    {
     "name": "stderr",
     "output_type": "stream",
     "text": [
      "\u001b[32m[I 2022-03-13 17:18:05,784]\u001b[0m Trial 1 finished with value: 0.47743197340480203 and parameters: {'p': 4, 'd': 1, 'q': 7, 'P': 1, 'D': 1, 'Q': 2}. Best is trial 0 with value: 0.501705624780874.\u001b[0m\n",
      "\u001b[32m[I 2022-03-13 17:18:08,900]\u001b[0m Trial 2 finished with value: 0.4874639350134783 and parameters: {'p': 0, 'd': 1, 'q': 2, 'P': 0, 'D': 1, 'Q': 2}. Best is trial 0 with value: 0.501705624780874.\u001b[0m\n"
     ]
    },
    {
     "name": "stdout",
     "output_type": "stream",
     "text": [
      "Optimization terminated successfully.\n",
      "         Current function value: -1.308816\n",
      "         Iterations: 5\n",
      "         Function evaluations: 369\n",
      "Optimization terminated successfully.\n",
      "         Current function value: -1.269592\n",
      "         Iterations: 3\n",
      "         Function evaluations: 376\n"
     ]
    },
    {
     "name": "stderr",
     "output_type": "stream",
     "text": [
      "\u001b[32m[I 2022-03-13 17:18:12,704]\u001b[0m Trial 3 finished with value: 0.5138759713415313 and parameters: {'p': 3, 'd': 0, 'q': 1, 'P': 3, 'D': 1, 'Q': 3}. Best is trial 3 with value: 0.5138759713415313.\u001b[0m\n"
     ]
    },
    {
     "name": "stdout",
     "output_type": "stream",
     "text": [
      "Optimization terminated successfully.\n",
      "         Current function value: -1.358269\n",
      "         Iterations: 19\n",
      "         Function evaluations: 4502\n"
     ]
    },
    {
     "name": "stderr",
     "output_type": "stream",
     "text": [
      "\u001b[32m[I 2022-03-13 17:18:42,807]\u001b[0m Trial 4 finished with value: 0.46939859435038067 and parameters: {'p': 7, 'd': 1, 'q': 8, 'P': 1, 'D': 1, 'Q': 1}. Best is trial 3 with value: 0.5138759713415313.\u001b[0m\n",
      "\u001b[32m[I 2022-03-13 17:18:43,011]\u001b[0m Trial 5 finished with value: 0.1547675044290595 and parameters: {'p': 1, 'd': 0, 'q': 3, 'P': 0, 'D': 1, 'Q': 0}. Best is trial 3 with value: 0.5138759713415313.\u001b[0m\n"
     ]
    },
    {
     "name": "stdout",
     "output_type": "stream",
     "text": [
      "Optimization terminated successfully.\n",
      "         Current function value: -1.232586\n",
      "         Iterations: 2\n",
      "         Function evaluations: 138\n"
     ]
    },
    {
     "name": "stderr",
     "output_type": "stream",
     "text": [
      "\u001b[32m[I 2022-03-13 17:18:44,871]\u001b[0m Trial 6 finished with value: 0.5360743118328674 and parameters: {'p': 6, 'd': 0, 'q': 0, 'P': 1, 'D': 0, 'Q': 2}. Best is trial 6 with value: 0.5360743118328674.\u001b[0m\n"
     ]
    },
    {
     "name": "stdout",
     "output_type": "stream",
     "text": [
      "Optimization terminated successfully.\n",
      "         Current function value: -1.365393\n",
      "         Iterations: 4\n",
      "         Function evaluations: 436\n",
      "Optimization terminated successfully.\n",
      "         Current function value: -1.293180\n",
      "         Iterations: 8\n",
      "         Function evaluations: 1547\n"
     ]
    },
    {
     "name": "stderr",
     "output_type": "stream",
     "text": [
      "\u001b[32m[I 2022-03-13 17:18:57,026]\u001b[0m Trial 7 finished with value: 0.4574987562212457 and parameters: {'p': 4, 'd': 1, 'q': 8, 'P': 2, 'D': 1, 'Q': 1}. Best is trial 6 with value: 0.5360743118328674.\u001b[0m\n"
     ]
    },
    {
     "name": "stdout",
     "output_type": "stream",
     "text": [
      "Optimization terminated successfully.\n",
      "         Current function value: -1.255402\n",
      "         Iterations: 3\n",
      "         Function evaluations: 528\n"
     ]
    },
    {
     "name": "stderr",
     "output_type": "stream",
     "text": [
      "\u001b[32m[I 2022-03-13 17:19:00,784]\u001b[0m Trial 8 finished with value: 0.4312184234558216 and parameters: {'p': 5, 'd': 0, 'q': 7, 'P': 3, 'D': 1, 'Q': 0}. Best is trial 6 with value: 0.5360743118328674.\u001b[0m\n"
     ]
    },
    {
     "name": "stdout",
     "output_type": "stream",
     "text": [
      "Optimization terminated successfully.\n",
      "         Current function value: -1.304243\n",
      "         Iterations: 8\n",
      "         Function evaluations: 1821\n"
     ]
    },
    {
     "name": "stderr",
     "output_type": "stream",
     "text": [
      "\u001b[32m[I 2022-03-13 17:19:15,618]\u001b[0m Trial 9 finished with value: 0.4540417829177502 and parameters: {'p': 5, 'd': 1, 'q': 7, 'P': 3, 'D': 0, 'Q': 2}. Best is trial 6 with value: 0.5360743118328674.\u001b[0m\n"
     ]
    },
    {
     "name": "stdout",
     "output_type": "stream",
     "text": [
      "Optimization terminated successfully.\n",
      "         Current function value: -1.304734\n",
      "         Iterations: 10\n",
      "         Function evaluations: 2057\n"
     ]
    },
    {
     "name": "stderr",
     "output_type": "stream",
     "text": [
      "\u001b[32m[I 2022-03-13 17:19:33,141]\u001b[0m Trial 10 finished with value: 0.535271583151095 and parameters: {'p': 8, 'd': 0, 'q': 5, 'P': 1, 'D': 0, 'Q': 3}. Best is trial 6 with value: 0.5360743118328674.\u001b[0m\n"
     ]
    },
    {
     "name": "stdout",
     "output_type": "stream",
     "text": [
      "Optimization terminated successfully.\n",
      "         Current function value: -1.304734\n",
      "         Iterations: 10\n",
      "         Function evaluations: 2057\n"
     ]
    },
    {
     "name": "stderr",
     "output_type": "stream",
     "text": [
      "\u001b[32m[I 2022-03-13 17:19:50,274]\u001b[0m Trial 11 finished with value: 0.535271583151095 and parameters: {'p': 8, 'd': 0, 'q': 5, 'P': 1, 'D': 0, 'Q': 3}. Best is trial 6 with value: 0.5360743118328674.\u001b[0m\n"
     ]
    },
    {
     "name": "stdout",
     "output_type": "stream",
     "text": [
      "Optimization terminated successfully.\n",
      "         Current function value: -1.304734\n",
      "         Iterations: 10\n",
      "         Function evaluations: 2057\n"
     ]
    },
    {
     "name": "stderr",
     "output_type": "stream",
     "text": [
      "\u001b[32m[I 2022-03-13 17:20:07,624]\u001b[0m Trial 12 finished with value: 0.535271583151095 and parameters: {'p': 8, 'd': 0, 'q': 5, 'P': 1, 'D': 0, 'Q': 3}. Best is trial 6 with value: 0.5360743118328674.\u001b[0m\n"
     ]
    },
    {
     "name": "stdout",
     "output_type": "stream",
     "text": [
      "Optimization terminated successfully.\n",
      "         Current function value: -0.551955\n",
      "         Iterations: 32\n",
      "         Function evaluations: 4911\n"
     ]
    },
    {
     "name": "stderr",
     "output_type": "stream",
     "text": [
      "\u001b[32m[I 2022-03-13 17:20:46,288]\u001b[0m Trial 13 finished with value: -4.947436916388488e+23 and parameters: {'p': 6, 'd': 0, 'q': 4, 'P': 0, 'D': 0, 'Q': 3}. Best is trial 6 with value: 0.5360743118328674.\u001b[0m\n"
     ]
    },
    {
     "name": "stdout",
     "output_type": "stream",
     "text": [
      "Optimization terminated successfully.\n",
      "         Current function value: -1.351002\n",
      "         Iterations: 7\n",
      "         Function evaluations: 1264\n"
     ]
    },
    {
     "name": "stderr",
     "output_type": "stream",
     "text": [
      "\u001b[32m[I 2022-03-13 17:20:52,473]\u001b[0m Trial 14 finished with value: 0.5030733441108209 and parameters: {'p': 6, 'd': 0, 'q': 5, 'P': 2, 'D': 0, 'Q': 2}. Best is trial 6 with value: 0.5360743118328674.\u001b[0m\n"
     ]
    },
    {
     "name": "stdout",
     "output_type": "stream",
     "text": [
      "Optimization terminated successfully.\n",
      "         Current function value: -1.327286\n",
      "         Iterations: 4\n",
      "         Function evaluations: 551\n"
     ]
    },
    {
     "name": "stderr",
     "output_type": "stream",
     "text": [
      "\u001b[32m[I 2022-03-13 17:20:56,549]\u001b[0m Trial 15 finished with value: 0.528751458837893 and parameters: {'p': 8, 'd': 0, 'q': 0, 'P': 1, 'D': 0, 'Q': 3}. Best is trial 6 with value: 0.5360743118328674.\u001b[0m\n"
     ]
    },
    {
     "name": "stdout",
     "output_type": "stream",
     "text": [
      "Optimization terminated successfully.\n",
      "         Current function value: -0.885787\n",
      "         Iterations: 22\n",
      "         Function evaluations: 3675\n"
     ]
    },
    {
     "name": "stderr",
     "output_type": "stream",
     "text": [
      "\u001b[32m[I 2022-03-13 17:21:18,139]\u001b[0m Trial 16 finished with value: 0.5287027543334047 and parameters: {'p': 6, 'd': 0, 'q': 3, 'P': 2, 'D': 0, 'Q': 2}. Best is trial 6 with value: 0.5360743118328674.\u001b[0m\n",
      "\u001b[32m[I 2022-03-13 17:21:23,430]\u001b[0m Trial 17 finished with value: -16036025.530461945 and parameters: {'p': 2, 'd': 0, 'q': 2, 'P': 0, 'D': 0, 'Q': 3}. Best is trial 6 with value: 0.5360743118328674.\u001b[0m\n"
     ]
    },
    {
     "name": "stdout",
     "output_type": "stream",
     "text": [
      "Optimization terminated successfully.\n",
      "         Current function value: -0.990020\n",
      "         Iterations: 7\n",
      "         Function evaluations: 710\n",
      "Optimization terminated successfully.\n",
      "         Current function value: -1.349065\n",
      "         Iterations: 13\n",
      "         Function evaluations: 2712\n"
     ]
    },
    {
     "name": "stderr",
     "output_type": "stream",
     "text": [
      "\u001b[32m[I 2022-03-13 17:21:40,080]\u001b[0m Trial 18 finished with value: 0.5513197610794813 and parameters: {'p': 7, 'd': 0, 'q': 6, 'P': 1, 'D': 0, 'Q': 2}. Best is trial 18 with value: 0.5513197610794813.\u001b[0m\n",
      "\u001b[32m[I 2022-03-13 17:21:45,349]\u001b[0m Trial 19 finished with value: 0.5003185358524318 and parameters: {'p': 5, 'd': 0, 'q': 6, 'P': 2, 'D': 0, 'Q': 1}. Best is trial 18 with value: 0.5513197610794813.\u001b[0m\n"
     ]
    },
    {
     "name": "stdout",
     "output_type": "stream",
     "text": [
      "Optimization terminated successfully.\n",
      "         Current function value: -1.346007\n",
      "         Iterations: 7\n",
      "         Function evaluations: 1238\n",
      "Optimization terminated successfully.\n",
      "         Current function value: -1.273998\n",
      "         Iterations: 17\n",
      "         Function evaluations: 2933\n"
     ]
    },
    {
     "name": "stderr",
     "output_type": "stream",
     "text": [
      "\u001b[32m[I 2022-03-13 17:21:58,644]\u001b[0m Trial 20 finished with value: 0.37632884836957137 and parameters: {'p': 7, 'd': 1, 'q': 4, 'P': 0, 'D': 0, 'Q': 2}. Best is trial 18 with value: 0.5513197610794813.\u001b[0m\n"
     ]
    },
    {
     "name": "stdout",
     "output_type": "stream",
     "text": [
      "Optimization terminated successfully.\n",
      "         Current function value: -1.349065\n",
      "         Iterations: 13\n",
      "         Function evaluations: 2712\n"
     ]
    },
    {
     "name": "stderr",
     "output_type": "stream",
     "text": [
      "\u001b[32m[I 2022-03-13 17:22:15,327]\u001b[0m Trial 21 finished with value: 0.5513197610794813 and parameters: {'p': 7, 'd': 0, 'q': 6, 'P': 1, 'D': 0, 'Q': 2}. Best is trial 18 with value: 0.5513197610794813.\u001b[0m\n"
     ]
    },
    {
     "name": "stdout",
     "output_type": "stream",
     "text": [
      "Optimization terminated successfully.\n",
      "         Current function value: -1.349065\n",
      "         Iterations: 13\n",
      "         Function evaluations: 2712\n"
     ]
    },
    {
     "name": "stderr",
     "output_type": "stream",
     "text": [
      "\u001b[32m[I 2022-03-13 17:22:31,821]\u001b[0m Trial 22 finished with value: 0.5513197610794813 and parameters: {'p': 7, 'd': 0, 'q': 6, 'P': 1, 'D': 0, 'Q': 2}. Best is trial 18 with value: 0.5513197610794813.\u001b[0m\n"
     ]
    },
    {
     "name": "stdout",
     "output_type": "stream",
     "text": [
      "Optimization terminated successfully.\n",
      "         Current function value: -1.349065\n",
      "         Iterations: 13\n",
      "         Function evaluations: 2712\n"
     ]
    },
    {
     "name": "stderr",
     "output_type": "stream",
     "text": [
      "\u001b[32m[I 2022-03-13 17:22:48,549]\u001b[0m Trial 23 finished with value: 0.5513197610794813 and parameters: {'p': 7, 'd': 0, 'q': 6, 'P': 1, 'D': 0, 'Q': 2}. Best is trial 18 with value: 0.5513197610794813.\u001b[0m\n",
      "\u001b[32m[I 2022-03-13 17:23:01,480]\u001b[0m Trial 24 finished with value: 0.5490297740079673 and parameters: {'p': 7, 'd': 0, 'q': 6, 'P': 1, 'D': 0, 'Q': 1}. Best is trial 18 with value: 0.5513197610794813.\u001b[0m\n"
     ]
    },
    {
     "name": "stdout",
     "output_type": "stream",
     "text": [
      "Optimization terminated successfully.\n",
      "         Current function value: -1.410190\n",
      "         Iterations: 16\n",
      "         Function evaluations: 3138\n",
      "Optimization terminated successfully.\n",
      "         Current function value: -1.351779\n",
      "         Iterations: 10\n",
      "         Function evaluations: 1898\n"
     ]
    },
    {
     "name": "stderr",
     "output_type": "stream",
     "text": [
      "\u001b[32m[I 2022-03-13 17:23:12,179]\u001b[0m Trial 25 finished with value: 0.5494379716561273 and parameters: {'p': 5, 'd': 0, 'q': 6, 'P': 2, 'D': 0, 'Q': 2}. Best is trial 18 with value: 0.5513197610794813.\u001b[0m\n",
      "\u001b[32m[I 2022-03-13 17:23:22,020]\u001b[0m Trial 26 finished with value: 0.5540387789012573 and parameters: {'p': 4, 'd': 0, 'q': 7, 'P': 1, 'D': 0, 'Q': 1}. Best is trial 26 with value: 0.5540387789012573.\u001b[0m\n"
     ]
    },
    {
     "name": "stdout",
     "output_type": "stream",
     "text": [
      "Optimization terminated successfully.\n",
      "         Current function value: -1.402243\n",
      "         Iterations: 14\n",
      "         Function evaluations: 2575\n"
     ]
    },
    {
     "name": "stderr",
     "output_type": "stream",
     "text": [
      "\u001b[32m[I 2022-03-13 17:23:23,606]\u001b[0m Trial 27 finished with value: -0.11625992891638903 and parameters: {'p': 3, 'd': 0, 'q': 8, 'P': 0, 'D': 0, 'Q': 0}. Best is trial 26 with value: 0.5540387789012573.\u001b[0m\n"
     ]
    },
    {
     "name": "stdout",
     "output_type": "stream",
     "text": [
      "Optimization terminated successfully.\n",
      "         Current function value: -1.228711\n",
      "         Iterations: 15\n",
      "         Function evaluations: 2648\n"
     ]
    },
    {
     "name": "stderr",
     "output_type": "stream",
     "text": [
      "\u001b[32m[I 2022-03-13 17:23:34,422]\u001b[0m Trial 28 finished with value: 0.5461555437637124 and parameters: {'p': 3, 'd': 0, 'q': 7, 'P': 1, 'D': 0, 'Q': 1}. Best is trial 26 with value: 0.5540387789012573.\u001b[0m\n"
     ]
    },
    {
     "name": "stdout",
     "output_type": "stream",
     "text": [
      "Optimization terminated successfully.\n",
      "         Current function value: -1.403199\n",
      "         Iterations: 18\n",
      "         Function evaluations: 3068\n"
     ]
    },
    {
     "name": "stderr",
     "output_type": "stream",
     "text": [
      "\u001b[32m[I 2022-03-13 17:23:42,048]\u001b[0m Trial 29 finished with value: 0.5187710585252847 and parameters: {'p': 2, 'd': 0, 'q': 7, 'P': 2, 'D': 0, 'Q': 1}. Best is trial 26 with value: 0.5540387789012573.\u001b[0m\n"
     ]
    },
    {
     "name": "stdout",
     "output_type": "stream",
     "text": [
      "Optimization terminated successfully.\n",
      "         Current function value: -1.372529\n",
      "         Iterations: 11\n",
      "         Function evaluations: 2015\n"
     ]
    },
    {
     "name": "stderr",
     "output_type": "stream",
     "text": [
      "\u001b[32m[I 2022-03-13 17:23:49,235]\u001b[0m Trial 30 finished with value: 0.08119577570125913 and parameters: {'p': 4, 'd': 0, 'q': 8, 'P': 0, 'D': 0, 'Q': 1}. Best is trial 26 with value: 0.5540387789012573.\u001b[0m\n"
     ]
    },
    {
     "name": "stdout",
     "output_type": "stream",
     "text": [
      "Optimization terminated successfully.\n",
      "         Current function value: -1.240209\n",
      "         Iterations: 13\n",
      "         Function evaluations: 2540\n",
      "Optimization terminated successfully.\n",
      "         Current function value: -1.337183\n",
      "         Iterations: 9\n",
      "         Function evaluations: 1711\n"
     ]
    },
    {
     "name": "stderr",
     "output_type": "stream",
     "text": [
      "\u001b[32m[I 2022-03-13 17:23:58,307]\u001b[0m Trial 31 finished with value: 0.533184448510057 and parameters: {'p': 6, 'd': 0, 'q': 6, 'P': 1, 'D': 0, 'Q': 2}. Best is trial 26 with value: 0.5540387789012573.\u001b[0m\n"
     ]
    },
    {
     "name": "stdout",
     "output_type": "stream",
     "text": [
      "Optimization terminated successfully.\n",
      "         Current function value: -1.334890\n",
      "         Iterations: 17\n",
      "         Function evaluations: 3904\n"
     ]
    },
    {
     "name": "stderr",
     "output_type": "stream",
     "text": [
      "\u001b[32m[I 2022-03-13 17:24:18,937]\u001b[0m Trial 32 finished with value: 0.5303718307950558 and parameters: {'p': 7, 'd': 0, 'q': 7, 'P': 1, 'D': 0, 'Q': 2}. Best is trial 26 with value: 0.5540387789012573.\u001b[0m\n"
     ]
    },
    {
     "name": "stdout",
     "output_type": "stream",
     "text": [
      "Optimization terminated successfully.\n",
      "         Current function value: -1.351079\n",
      "         Iterations: 10\n",
      "         Function evaluations: 2137\n"
     ]
    },
    {
     "name": "stderr",
     "output_type": "stream",
     "text": [
      "\u001b[32m[I 2022-03-13 17:24:32,110]\u001b[0m Trial 33 finished with value: 0.5540941780480071 and parameters: {'p': 8, 'd': 0, 'q': 6, 'P': 1, 'D': 0, 'Q': 2}. Best is trial 33 with value: 0.5540941780480071.\u001b[0m\n",
      "\u001b[32m[I 2022-03-13 17:24:35,677]\u001b[0m Trial 34 finished with value: 0.5254096258584569 and parameters: {'p': 8, 'd': 0, 'q': 5, 'P': 1, 'D': 0, 'Q': 2}. Best is trial 33 with value: 0.5540941780480071.\u001b[0m\n"
     ]
    },
    {
     "name": "stdout",
     "output_type": "stream",
     "text": [
      "Optimization terminated successfully.\n",
      "         Current function value: -1.338437\n",
      "         Iterations: 4\n",
      "         Function evaluations: 753\n"
     ]
    },
    {
     "name": "stderr",
     "output_type": "stream",
     "text": [
      "\u001b[32m[I 2022-03-13 17:24:44,151]\u001b[0m Trial 35 finished with value: 0.4460325073580289 and parameters: {'p': 4, 'd': 1, 'q': 6, 'P': 1, 'D': 0, 'Q': 1}. Best is trial 33 with value: 0.5540941780480071.\u001b[0m\n"
     ]
    },
    {
     "name": "stdout",
     "output_type": "stream",
     "text": [
      "Optimization terminated successfully.\n",
      "         Current function value: -1.383056\n",
      "         Iterations: 14\n",
      "         Function evaluations: 2414\n"
     ]
    },
    {
     "name": "stderr",
     "output_type": "stream",
     "text": [
      "\u001b[32m[I 2022-03-13 17:24:48,409]\u001b[0m Trial 36 finished with value: 0.5237865278058862 and parameters: {'p': 0, 'd': 0, 'q': 4, 'P': 2, 'D': 1, 'Q': 2}. Best is trial 33 with value: 0.5540941780480071.\u001b[0m\n"
     ]
    },
    {
     "name": "stdout",
     "output_type": "stream",
     "text": [
      "Optimization terminated successfully.\n",
      "         Current function value: -1.298269\n",
      "         Iterations: 6\n",
      "         Function evaluations: 669\n"
     ]
    },
    {
     "name": "stderr",
     "output_type": "stream",
     "text": [
      "\u001b[32m[I 2022-03-13 17:25:01,359]\u001b[0m Trial 37 finished with value: 0.40241708032936685 and parameters: {'p': 8, 'd': 0, 'q': 8, 'P': 1, 'D': 0, 'Q': 0}. Best is trial 33 with value: 0.5540941780480071.\u001b[0m\n"
     ]
    },
    {
     "name": "stdout",
     "output_type": "stream",
     "text": [
      "Optimization terminated successfully.\n",
      "         Current function value: -1.277864\n",
      "         Iterations: 16\n",
      "         Function evaluations: 3436\n",
      "Optimization terminated successfully.\n",
      "         Current function value: -1.346624\n",
      "         Iterations: 11\n",
      "         Function evaluations: 2225\n"
     ]
    },
    {
     "name": "stderr",
     "output_type": "stream",
     "text": [
      "\u001b[32m[I 2022-03-13 17:25:14,984]\u001b[0m Trial 38 finished with value: 0.49445872659901813 and parameters: {'p': 7, 'd': 1, 'q': 7, 'P': 0, 'D': 1, 'Q': 1}. Best is trial 33 with value: 0.5540941780480071.\u001b[0m\n",
      "\u001b[32m[I 2022-03-13 17:25:28,539]\u001b[0m Trial 39 finished with value: 0.5138028231008489 and parameters: {'p': 4, 'd': 0, 'q': 3, 'P': 1, 'D': 0, 'Q': 2}. Best is trial 33 with value: 0.5540941780480071.\u001b[0m\n"
     ]
    },
    {
     "name": "stdout",
     "output_type": "stream",
     "text": [
      "Optimization terminated successfully.\n",
      "         Current function value: -1.323435\n",
      "         Iterations: 21\n",
      "         Function evaluations: 2978\n",
      "Optimization terminated successfully.\n",
      "         Current function value: -1.302723\n",
      "         Iterations: 11\n",
      "         Function evaluations: 2124\n"
     ]
    },
    {
     "name": "stderr",
     "output_type": "stream",
     "text": [
      "\u001b[32m[I 2022-03-13 17:25:43,407]\u001b[0m Trial 40 finished with value: 0.5291736632033166 and parameters: {'p': 5, 'd': 0, 'q': 7, 'P': 1, 'D': 1, 'Q': 2}. Best is trial 33 with value: 0.5540941780480071.\u001b[0m\n"
     ]
    },
    {
     "name": "stdout",
     "output_type": "stream",
     "text": [
      "Optimization terminated successfully.\n",
      "         Current function value: -1.349065\n",
      "         Iterations: 13\n",
      "         Function evaluations: 2712\n"
     ]
    },
    {
     "name": "stderr",
     "output_type": "stream",
     "text": [
      "\u001b[32m[I 2022-03-13 17:25:58,635]\u001b[0m Trial 41 finished with value: 0.5513197610794813 and parameters: {'p': 7, 'd': 0, 'q': 6, 'P': 1, 'D': 0, 'Q': 2}. Best is trial 33 with value: 0.5540941780480071.\u001b[0m\n",
      "\u001b[32m[I 2022-03-13 17:26:01,930]\u001b[0m Trial 42 finished with value: 0.5154980500885076 and parameters: {'p': 6, 'd': 0, 'q': 5, 'P': 1, 'D': 0, 'Q': 2}. Best is trial 33 with value: 0.5540941780480071.\u001b[0m\n"
     ]
    },
    {
     "name": "stdout",
     "output_type": "stream",
     "text": [
      "Optimization terminated successfully.\n",
      "         Current function value: -1.337489\n",
      "         Iterations: 4\n",
      "         Function evaluations: 699\n",
      "Optimization terminated successfully.\n",
      "         Current function value: -1.349065\n",
      "         Iterations: 13\n",
      "         Function evaluations: 2712\n"
     ]
    },
    {
     "name": "stderr",
     "output_type": "stream",
     "text": [
      "\u001b[32m[I 2022-03-13 17:26:17,242]\u001b[0m Trial 43 finished with value: 0.5513197610794813 and parameters: {'p': 7, 'd': 0, 'q': 6, 'P': 1, 'D': 0, 'Q': 2}. Best is trial 33 with value: 0.5540941780480071.\u001b[0m\n"
     ]
    },
    {
     "name": "stdout",
     "output_type": "stream",
     "text": [
      "Optimization terminated successfully.\n",
      "         Current function value: -1.341914\n",
      "         Iterations: 24\n",
      "         Function evaluations: 5616\n"
     ]
    },
    {
     "name": "stderr",
     "output_type": "stream",
     "text": [
      "\u001b[32m[I 2022-03-13 17:26:46,248]\u001b[0m Trial 44 finished with value: 0.5371436356925738 and parameters: {'p': 8, 'd': 0, 'q': 7, 'P': 1, 'D': 0, 'Q': 2}. Best is trial 33 with value: 0.5540941780480071.\u001b[0m\n",
      "\u001b[32m[I 2022-03-13 17:26:48,818]\u001b[0m Trial 45 finished with value: 0.5230509787808059 and parameters: {'p': 3, 'd': 0, 'q': 5, 'P': 1, 'D': 0, 'Q': 1}. Best is trial 33 with value: 0.5540941780480071.\u001b[0m\n"
     ]
    },
    {
     "name": "stdout",
     "output_type": "stream",
     "text": [
      "Optimization terminated successfully.\n",
      "         Current function value: -1.396649\n",
      "         Iterations: 7\n",
      "         Function evaluations: 922\n",
      "Optimization terminated successfully.\n",
      "         Current function value: -1.341914\n",
      "         Iterations: 24\n",
      "         Function evaluations: 5616\n"
     ]
    },
    {
     "name": "stderr",
     "output_type": "stream",
     "text": [
      "\u001b[32m[I 2022-03-13 17:27:18,792]\u001b[0m Trial 46 finished with value: 0.5371436356925738 and parameters: {'p': 8, 'd': 0, 'q': 7, 'P': 1, 'D': 0, 'Q': 2}. Best is trial 33 with value: 0.5540941780480071.\u001b[0m\n"
     ]
    },
    {
     "name": "stdout",
     "output_type": "stream",
     "text": [
      "Optimization terminated successfully.\n",
      "         Current function value: -1.268361\n",
      "         Iterations: 11\n",
      "         Function evaluations: 2551\n"
     ]
    },
    {
     "name": "stderr",
     "output_type": "stream",
     "text": [
      "\u001b[32m[I 2022-03-13 17:27:38,615]\u001b[0m Trial 47 finished with value: 0.2441685768142492 and parameters: {'p': 6, 'd': 1, 'q': 8, 'P': 0, 'D': 0, 'Q': 3}. Best is trial 33 with value: 0.5540941780480071.\u001b[0m\n"
     ]
    },
    {
     "name": "stdout",
     "output_type": "stream",
     "text": [
      "Optimization terminated successfully.\n",
      "         Current function value: -1.313797\n",
      "         Iterations: 7\n",
      "         Function evaluations: 1429\n"
     ]
    },
    {
     "name": "stderr",
     "output_type": "stream",
     "text": [
      "\u001b[32m[I 2022-03-13 17:27:48,724]\u001b[0m Trial 48 finished with value: 0.5166203825206863 and parameters: {'p': 5, 'd': 0, 'q': 6, 'P': 3, 'D': 0, 'Q': 2}. Best is trial 33 with value: 0.5540941780480071.\u001b[0m\n",
      "\u001b[32m[I 2022-03-13 17:27:55,758]\u001b[0m Trial 49 finished with value: 0.4688016005822675 and parameters: {'p': 8, 'd': 0, 'q': 5, 'P': 2, 'D': 0, 'Q': 1}. Best is trial 33 with value: 0.5540941780480071.\u001b[0m\n"
     ]
    },
    {
     "name": "stdout",
     "output_type": "stream",
     "text": [
      "Optimization terminated successfully.\n",
      "         Current function value: -1.348948\n",
      "         Iterations: 10\n",
      "         Function evaluations: 1882\n"
     ]
    },
    {
     "name": "stderr",
     "output_type": "stream",
     "text": [
      "\u001b[32m[I 2022-03-13 17:27:55,766]\u001b[0m A new study created in memory with name: no-name-8760e7ec-1e93-47a0-b4d8-3c4c7a09ea5f\u001b[0m\n",
      "\u001b[32m[I 2022-03-13 17:27:55,886]\u001b[0m Trial 0 finished with value: 0.29062370340151156 and parameters: {'p': 1, 'd': 0, 'q': 0, 'P': 0, 'D': 1, 'Q': 0}. Best is trial 0 with value: 0.29062370340151156.\u001b[0m\n"
     ]
    },
    {
     "name": "stdout",
     "output_type": "stream",
     "text": [
      "Optimization terminated successfully.\n",
      "         Current function value: -1.318346\n",
      "         Iterations: 1\n",
      "         Function evaluations: 54\n",
      "Optimization terminated successfully.\n",
      "         Current function value: -1.424850\n",
      "         Iterations: 10\n",
      "         Function evaluations: 1410\n"
     ]
    },
    {
     "name": "stderr",
     "output_type": "stream",
     "text": [
      "\u001b[32m[I 2022-03-13 17:28:06,009]\u001b[0m Trial 1 finished with value: 0.6458443035075521 and parameters: {'p': 1, 'd': 1, 'q': 4, 'P': 1, 'D': 0, 'Q': 3}. Best is trial 1 with value: 0.6458443035075521.\u001b[0m\n"
     ]
    },
    {
     "name": "stdout",
     "output_type": "stream",
     "text": [
      "Optimization terminated successfully.\n",
      "         Current function value: -1.419369\n",
      "         Iterations: 10\n",
      "         Function evaluations: 2309\n"
     ]
    },
    {
     "name": "stderr",
     "output_type": "stream",
     "text": [
      "\u001b[32m[I 2022-03-13 17:28:26,335]\u001b[0m Trial 2 finished with value: 0.6405766336805221 and parameters: {'p': 5, 'd': 1, 'q': 7, 'P': 2, 'D': 0, 'Q': 3}. Best is trial 1 with value: 0.6458443035075521.\u001b[0m\n"
     ]
    },
    {
     "name": "stdout",
     "output_type": "stream",
     "text": [
      "Optimization terminated successfully.\n",
      "         Current function value: -1.290033\n",
      "         Iterations: 13\n",
      "         Function evaluations: 2030\n"
     ]
    },
    {
     "name": "stderr",
     "output_type": "stream",
     "text": [
      "\u001b[32m[I 2022-03-13 17:28:39,375]\u001b[0m Trial 3 finished with value: 0.3910821649003382 and parameters: {'p': 8, 'd': 0, 'q': 2, 'P': 0, 'D': 0, 'Q': 3}. Best is trial 1 with value: 0.6458443035075521.\u001b[0m\n",
      "\u001b[32m[I 2022-03-13 17:28:39,691]\u001b[0m Trial 4 finished with value: 0.3914780785562607 and parameters: {'p': 1, 'd': 1, 'q': 1, 'P': 1, 'D': 0, 'Q': 0}. Best is trial 1 with value: 0.6458443035075521.\u001b[0m\n"
     ]
    },
    {
     "name": "stdout",
     "output_type": "stream",
     "text": [
      "Optimization terminated successfully.\n",
      "         Current function value: -1.386798\n",
      "         Iterations: 4\n",
      "         Function evaluations: 216\n"
     ]
    },
    {
     "name": "stderr",
     "output_type": "stream",
     "text": [
      "\u001b[32m[I 2022-03-13 17:28:42,829]\u001b[0m Trial 5 finished with value: 0.7009337648395499 and parameters: {'p': 2, 'd': 0, 'q': 3, 'P': 2, 'D': 0, 'Q': 2}. Best is trial 5 with value: 0.7009337648395499.\u001b[0m\n"
     ]
    },
    {
     "name": "stdout",
     "output_type": "stream",
     "text": [
      "Optimization terminated successfully.\n",
      "         Current function value: -1.500393\n",
      "         Iterations: 5\n",
      "         Function evaluations: 618\n",
      "Optimization terminated successfully.\n",
      "         Current function value: -1.387971\n",
      "         Iterations: 13\n",
      "         Function evaluations: 2586\n"
     ]
    },
    {
     "name": "stderr",
     "output_type": "stream",
     "text": [
      "\u001b[32m[I 2022-03-13 17:29:14,320]\u001b[0m Trial 6 finished with value: 0.6384382679314875 and parameters: {'p': 5, 'd': 1, 'q': 6, 'P': 2, 'D': 1, 'Q': 3}. Best is trial 5 with value: 0.7009337648395499.\u001b[0m\n"
     ]
    },
    {
     "name": "stdout",
     "output_type": "stream",
     "text": [
      "Optimization terminated successfully.\n",
      "         Current function value: -1.372935\n",
      "         Iterations: 4\n",
      "         Function evaluations: 461\n"
     ]
    },
    {
     "name": "stderr",
     "output_type": "stream",
     "text": [
      "\u001b[32m[I 2022-03-13 17:29:16,909]\u001b[0m Trial 7 finished with value: 0.6444734732278892 and parameters: {'p': 4, 'd': 0, 'q': 2, 'P': 3, 'D': 1, 'Q': 0}. Best is trial 5 with value: 0.7009337648395499.\u001b[0m\n"
     ]
    },
    {
     "name": "stdout",
     "output_type": "stream",
     "text": [
      "Optimization terminated successfully.\n",
      "         Current function value: -1.497223\n",
      "         Iterations: 16\n",
      "         Function evaluations: 2821\n"
     ]
    },
    {
     "name": "stderr",
     "output_type": "stream",
     "text": [
      "\u001b[32m[I 2022-03-13 17:29:33,204]\u001b[0m Trial 8 finished with value: 0.6426718003737567 and parameters: {'p': 8, 'd': 1, 'q': 5, 'P': 0, 'D': 1, 'Q': 1}. Best is trial 5 with value: 0.7009337648395499.\u001b[0m\n",
      "\u001b[32m[I 2022-03-13 17:29:34,084]\u001b[0m Trial 9 finished with value: -0.16600924975917652 and parameters: {'p': 4, 'd': 1, 'q': 0, 'P': 2, 'D': 0, 'Q': 0}. Best is trial 5 with value: 0.7009337648395499.\u001b[0m\n"
     ]
    },
    {
     "name": "stdout",
     "output_type": "stream",
     "text": [
      "Optimization terminated successfully.\n",
      "         Current function value: -1.343559\n",
      "         Iterations: 5\n",
      "         Function evaluations: 400\n",
      "Optimization terminated successfully.\n",
      "         Current function value: -1.446733\n",
      "         Iterations: 4\n",
      "         Function evaluations: 579\n"
     ]
    },
    {
     "name": "stderr",
     "output_type": "stream",
     "text": [
      "\u001b[32m[I 2022-03-13 17:29:38,684]\u001b[0m Trial 10 finished with value: 0.6981094450027019 and parameters: {'p': 3, 'd': 0, 'q': 4, 'P': 3, 'D': 0, 'Q': 2}. Best is trial 5 with value: 0.7009337648395499.\u001b[0m\n"
     ]
    },
    {
     "name": "stdout",
     "output_type": "stream",
     "text": [
      "Optimization terminated successfully.\n",
      "         Current function value: -1.446733\n",
      "         Iterations: 4\n",
      "         Function evaluations: 579\n"
     ]
    },
    {
     "name": "stderr",
     "output_type": "stream",
     "text": [
      "\u001b[32m[I 2022-03-13 17:29:43,215]\u001b[0m Trial 11 finished with value: 0.6981094450027019 and parameters: {'p': 3, 'd': 0, 'q': 4, 'P': 3, 'D': 0, 'Q': 2}. Best is trial 5 with value: 0.7009337648395499.\u001b[0m\n",
      "\u001b[32m[I 2022-03-13 17:29:47,844]\u001b[0m Trial 12 finished with value: 0.6963259567498952 and parameters: {'p': 2, 'd': 0, 'q': 3, 'P': 3, 'D': 0, 'Q': 2}. Best is trial 5 with value: 0.7009337648395499.\u001b[0m\n"
     ]
    },
    {
     "name": "stdout",
     "output_type": "stream",
     "text": [
      "Optimization terminated successfully.\n",
      "         Current function value: -1.453878\n",
      "         Iterations: 5\n",
      "         Function evaluations: 666\n",
      "Optimization terminated successfully.\n",
      "         Current function value: -1.461448\n",
      "         Iterations: 10\n",
      "         Function evaluations: 2122\n"
     ]
    },
    {
     "name": "stderr",
     "output_type": "stream",
     "text": [
      "\u001b[32m[I 2022-03-13 17:30:02,386]\u001b[0m Trial 13 finished with value: 0.716076737838049 and parameters: {'p': 3, 'd': 0, 'q': 8, 'P': 3, 'D': 0, 'Q': 2}. Best is trial 13 with value: 0.716076737838049.\u001b[0m\n",
      "\u001b[32m[I 2022-03-13 17:30:04,675]\u001b[0m Trial 14 finished with value: 0.6951828194831766 and parameters: {'p': 0, 'd': 0, 'q': 8, 'P': 2, 'D': 0, 'Q': 1}. Best is trial 13 with value: 0.716076737838049.\u001b[0m\n"
     ]
    },
    {
     "name": "stdout",
     "output_type": "stream",
     "text": [
      "Optimization terminated successfully.\n",
      "         Current function value: -1.513371\n",
      "         Iterations: 5\n",
      "         Function evaluations: 712\n",
      "Optimization terminated successfully.\n",
      "         Current function value: -1.479975\n",
      "         Iterations: 16\n",
      "         Function evaluations: 3734\n"
     ]
    },
    {
     "name": "stderr",
     "output_type": "stream",
     "text": [
      "\u001b[32m[I 2022-03-13 17:30:26,034]\u001b[0m Trial 15 finished with value: 0.7155349117822541 and parameters: {'p': 6, 'd': 0, 'q': 8, 'P': 1, 'D': 0, 'Q': 2}. Best is trial 13 with value: 0.716076737838049.\u001b[0m\n",
      "\u001b[32m[I 2022-03-13 17:30:35,946]\u001b[0m Trial 16 finished with value: 0.7048203904622408 and parameters: {'p': 6, 'd': 0, 'q': 8, 'P': 1, 'D': 0, 'Q': 1}. Best is trial 13 with value: 0.716076737838049.\u001b[0m\n"
     ]
    },
    {
     "name": "stdout",
     "output_type": "stream",
     "text": [
      "Optimization terminated successfully.\n",
      "         Current function value: -1.527347\n",
      "         Iterations: 12\n",
      "         Function evaluations: 2615\n",
      "Optimization terminated successfully.\n",
      "         Current function value: -1.437430\n",
      "         Iterations: 11\n",
      "         Function evaluations: 2123\n"
     ]
    },
    {
     "name": "stderr",
     "output_type": "stream",
     "text": [
      "\u001b[32m[I 2022-03-13 17:30:53,011]\u001b[0m Trial 17 finished with value: 0.7287124772960495 and parameters: {'p': 6, 'd': 0, 'q': 6, 'P': 1, 'D': 1, 'Q': 2}. Best is trial 17 with value: 0.7287124772960495.\u001b[0m\n"
     ]
    },
    {
     "name": "stdout",
     "output_type": "stream",
     "text": [
      "Optimization terminated successfully.\n",
      "         Current function value: -1.481555\n",
      "         Iterations: 4\n",
      "         Function evaluations: 770\n"
     ]
    },
    {
     "name": "stderr",
     "output_type": "stream",
     "text": [
      "\u001b[32m[I 2022-03-13 17:30:56,882]\u001b[0m Trial 18 finished with value: 0.721678788456235 and parameters: {'p': 7, 'd': 0, 'q': 6, 'P': 1, 'D': 1, 'Q': 1}. Best is trial 17 with value: 0.7287124772960495.\u001b[0m\n"
     ]
    },
    {
     "name": "stdout",
     "output_type": "stream",
     "text": [
      "Optimization terminated successfully.\n",
      "         Current function value: -1.481555\n",
      "         Iterations: 4\n",
      "         Function evaluations: 770\n"
     ]
    },
    {
     "name": "stderr",
     "output_type": "stream",
     "text": [
      "\u001b[32m[I 2022-03-13 17:31:00,740]\u001b[0m Trial 19 finished with value: 0.721678788456235 and parameters: {'p': 7, 'd': 0, 'q': 6, 'P': 1, 'D': 1, 'Q': 1}. Best is trial 17 with value: 0.7287124772960495.\u001b[0m\n"
     ]
    },
    {
     "name": "stdout",
     "output_type": "stream",
     "text": [
      "Optimization terminated successfully.\n",
      "         Current function value: -1.489649\n",
      "         Iterations: 7\n",
      "         Function evaluations: 1233\n"
     ]
    },
    {
     "name": "stderr",
     "output_type": "stream",
     "text": [
      "\u001b[32m[I 2022-03-13 17:31:07,553]\u001b[0m Trial 20 finished with value: 0.7293152467097084 and parameters: {'p': 7, 'd': 0, 'q': 6, 'P': 0, 'D': 1, 'Q': 1}. Best is trial 20 with value: 0.7293152467097084.\u001b[0m\n"
     ]
    },
    {
     "name": "stdout",
     "output_type": "stream",
     "text": [
      "Optimization terminated successfully.\n",
      "         Current function value: -1.489649\n",
      "         Iterations: 7\n",
      "         Function evaluations: 1233\n"
     ]
    },
    {
     "name": "stderr",
     "output_type": "stream",
     "text": [
      "\u001b[32m[I 2022-03-13 17:31:14,403]\u001b[0m Trial 21 finished with value: 0.7293152467097084 and parameters: {'p': 7, 'd': 0, 'q': 6, 'P': 0, 'D': 1, 'Q': 1}. Best is trial 20 with value: 0.7293152467097084.\u001b[0m\n",
      "\u001b[32m[I 2022-03-13 17:31:25,390]\u001b[0m Trial 22 finished with value: 0.7474892305434215 and parameters: {'p': 7, 'd': 0, 'q': 5, 'P': 0, 'D': 1, 'Q': 1}. Best is trial 22 with value: 0.7474892305434215.\u001b[0m\n"
     ]
    },
    {
     "name": "stdout",
     "output_type": "stream",
     "text": [
      "Optimization terminated successfully.\n",
      "         Current function value: -1.494466\n",
      "         Iterations: 13\n",
      "         Function evaluations: 2214\n"
     ]
    },
    {
     "name": "stderr",
     "output_type": "stream",
     "text": [
      "\u001b[32m[I 2022-03-13 17:31:36,304]\u001b[0m Trial 23 finished with value: 0.7474892305434215 and parameters: {'p': 7, 'd': 0, 'q': 5, 'P': 0, 'D': 1, 'Q': 1}. Best is trial 22 with value: 0.7474892305434215.\u001b[0m\n"
     ]
    },
    {
     "name": "stdout",
     "output_type": "stream",
     "text": [
      "Optimization terminated successfully.\n",
      "         Current function value: -1.494466\n",
      "         Iterations: 13\n",
      "         Function evaluations: 2214\n",
      "Optimization terminated successfully.\n",
      "         Current function value: -1.482188\n",
      "         Iterations: 12\n",
      "         Function evaluations: 2218\n"
     ]
    },
    {
     "name": "stderr",
     "output_type": "stream",
     "text": [
      "\u001b[32m[I 2022-03-13 17:31:47,252]\u001b[0m Trial 24 finished with value: 0.7322793865593977 and parameters: {'p': 8, 'd': 0, 'q': 5, 'P': 0, 'D': 1, 'Q': 1}. Best is trial 22 with value: 0.7474892305434215.\u001b[0m\n"
     ]
    },
    {
     "name": "stdout",
     "output_type": "stream",
     "text": [
      "Optimization terminated successfully.\n",
      "         Current function value: -1.482188\n",
      "         Iterations: 12\n",
      "         Function evaluations: 2218\n"
     ]
    },
    {
     "name": "stderr",
     "output_type": "stream",
     "text": [
      "\u001b[32m[I 2022-03-13 17:31:58,163]\u001b[0m Trial 25 finished with value: 0.7322793865593977 and parameters: {'p': 8, 'd': 0, 'q': 5, 'P': 0, 'D': 1, 'Q': 1}. Best is trial 22 with value: 0.7474892305434215.\u001b[0m\n",
      "\u001b[32m[I 2022-03-13 17:32:03,376]\u001b[0m Trial 26 finished with value: 0.35726229025332334 and parameters: {'p': 8, 'd': 0, 'q': 5, 'P': 0, 'D': 1, 'Q': 0}. Best is trial 22 with value: 0.7474892305434215.\u001b[0m\n"
     ]
    },
    {
     "name": "stdout",
     "output_type": "stream",
     "text": [
      "Optimization terminated successfully.\n",
      "         Current function value: -1.328779\n",
      "         Iterations: 16\n",
      "         Function evaluations: 2760\n"
     ]
    },
    {
     "name": "stderr",
     "output_type": "stream",
     "text": [
      "\u001b[32m[I 2022-03-13 17:32:13,425]\u001b[0m Trial 27 finished with value: 0.723418833677462 and parameters: {'p': 5, 'd': 0, 'q': 5, 'P': 0, 'D': 1, 'Q': 1}. Best is trial 22 with value: 0.7474892305434215.\u001b[0m\n"
     ]
    },
    {
     "name": "stdout",
     "output_type": "stream",
     "text": [
      "Optimization terminated successfully.\n",
      "         Current function value: -1.483840\n",
      "         Iterations: 13\n",
      "         Function evaluations: 2032\n"
     ]
    },
    {
     "name": "stderr",
     "output_type": "stream",
     "text": [
      "\u001b[32m[I 2022-03-13 17:32:22,370]\u001b[0m Trial 28 finished with value: 0.6870160565804266 and parameters: {'p': 6, 'd': 0, 'q': 3, 'P': 0, 'D': 1, 'Q': 1}. Best is trial 22 with value: 0.7474892305434215.\u001b[0m\n"
     ]
    },
    {
     "name": "stdout",
     "output_type": "stream",
     "text": [
      "Optimization terminated successfully.\n",
      "         Current function value: -1.490485\n",
      "         Iterations: 14\n",
      "         Function evaluations: 2032\n"
     ]
    },
    {
     "name": "stderr",
     "output_type": "stream",
     "text": [
      "\u001b[32m[I 2022-03-13 17:32:28,126]\u001b[0m Trial 29 finished with value: 0.2296487755593125 and parameters: {'p': 7, 'd': 0, 'q': 7, 'P': 0, 'D': 1, 'Q': 0}. Best is trial 22 with value: 0.7474892305434215.\u001b[0m\n"
     ]
    },
    {
     "name": "stdout",
     "output_type": "stream",
     "text": [
      "Optimization terminated successfully.\n",
      "         Current function value: -1.319666\n",
      "         Iterations: 11\n",
      "         Function evaluations: 1975\n"
     ]
    },
    {
     "name": "stderr",
     "output_type": "stream",
     "text": [
      "\u001b[32m[I 2022-03-13 17:32:36,687]\u001b[0m Trial 30 finished with value: -6.320804461165429e+69 and parameters: {'p': 8, 'd': 0, 'q': 4, 'P': 0, 'D': 1, 'Q': 0}. Best is trial 22 with value: 0.7474892305434215.\u001b[0m\n"
     ]
    },
    {
     "name": "stdout",
     "output_type": "stream",
     "text": [
      "Optimization terminated successfully.\n",
      "         Current function value: 0.542126\n",
      "         Iterations: 18\n",
      "         Function evaluations: 3305\n",
      "Optimization terminated successfully.\n",
      "         Current function value: -1.482188\n",
      "         Iterations: 12\n",
      "         Function evaluations: 2218\n"
     ]
    },
    {
     "name": "stderr",
     "output_type": "stream",
     "text": [
      "\u001b[32m[I 2022-03-13 17:32:47,683]\u001b[0m Trial 31 finished with value: 0.7322793865593977 and parameters: {'p': 8, 'd': 0, 'q': 5, 'P': 0, 'D': 1, 'Q': 1}. Best is trial 22 with value: 0.7474892305434215.\u001b[0m\n"
     ]
    },
    {
     "name": "stdout",
     "output_type": "stream",
     "text": [
      "Optimization terminated successfully.\n",
      "         Current function value: -1.494466\n",
      "         Iterations: 13\n",
      "         Function evaluations: 2214\n"
     ]
    },
    {
     "name": "stderr",
     "output_type": "stream",
     "text": [
      "\u001b[32m[I 2022-03-13 17:32:58,688]\u001b[0m Trial 32 finished with value: 0.7474892305434215 and parameters: {'p': 7, 'd': 0, 'q': 5, 'P': 0, 'D': 1, 'Q': 1}. Best is trial 22 with value: 0.7474892305434215.\u001b[0m\n",
      "\u001b[32m[I 2022-03-13 17:33:25,402]\u001b[0m Trial 33 finished with value: 0.6815152948845771 and parameters: {'p': 7, 'd': 0, 'q': 4, 'P': 0, 'D': 1, 'Q': 1}. Best is trial 22 with value: 0.7474892305434215.\u001b[0m\n"
     ]
    },
    {
     "name": "stdout",
     "output_type": "stream",
     "text": [
      "Optimization terminated successfully.\n",
      "         Current function value: -1.493221\n",
      "         Iterations: 33\n",
      "         Function evaluations: 5673\n",
      "Optimization terminated successfully.\n",
      "         Current function value: -1.480508\n",
      "         Iterations: 4\n",
      "         Function evaluations: 631\n"
     ]
    },
    {
     "name": "stderr",
     "output_type": "stream",
     "text": [
      "\u001b[32m[I 2022-03-13 17:33:28,823]\u001b[0m Trial 34 finished with value: 0.7255355949650095 and parameters: {'p': 5, 'd': 0, 'q': 7, 'P': 0, 'D': 1, 'Q': 1}. Best is trial 22 with value: 0.7474892305434215.\u001b[0m\n"
     ]
    },
    {
     "name": "stdout",
     "output_type": "stream",
     "text": [
      "Optimization terminated successfully.\n",
      "         Current function value: -1.479474\n",
      "         Iterations: 6\n",
      "         Function evaluations: 1112\n"
     ]
    },
    {
     "name": "stderr",
     "output_type": "stream",
     "text": [
      "\u001b[32m[I 2022-03-13 17:33:34,367]\u001b[0m Trial 35 finished with value: 0.6444922500998562 and parameters: {'p': 6, 'd': 1, 'q': 5, 'P': 1, 'D': 1, 'Q': 1}. Best is trial 22 with value: 0.7474892305434215.\u001b[0m\n",
      "\u001b[32m[I 2022-03-13 17:33:40,145]\u001b[0m Trial 36 finished with value: 0.2296487755593125 and parameters: {'p': 7, 'd': 0, 'q': 7, 'P': 0, 'D': 1, 'Q': 0}. Best is trial 22 with value: 0.7474892305434215.\u001b[0m\n"
     ]
    },
    {
     "name": "stdout",
     "output_type": "stream",
     "text": [
      "Optimization terminated successfully.\n",
      "         Current function value: -1.319666\n",
      "         Iterations: 11\n",
      "         Function evaluations: 1975\n",
      "Optimization terminated successfully.\n",
      "         Current function value: 0.223171\n",
      "         Iterations: 31\n",
      "         Function evaluations: 7050\n"
     ]
    },
    {
     "name": "stderr",
     "output_type": "stream",
     "text": [
      "\u001b[32m[I 2022-03-13 17:34:16,219]\u001b[0m Trial 37 finished with value: -6.429258687035476e+60 and parameters: {'p': 8, 'd': 0, 'q': 4, 'P': 1, 'D': 1, 'Q': 1}. Best is trial 22 with value: 0.7474892305434215.\u001b[0m\n"
     ]
    },
    {
     "name": "stdout",
     "output_type": "stream",
     "text": [
      "Optimization terminated successfully.\n",
      "         Current function value: -1.438257\n",
      "         Iterations: 8\n",
      "         Function evaluations: 1165\n"
     ]
    },
    {
     "name": "stderr",
     "output_type": "stream",
     "text": [
      "\u001b[32m[I 2022-03-13 17:34:24,444]\u001b[0m Trial 38 finished with value: 0.6412079719632948 and parameters: {'p': 6, 'd': 1, 'q': 3, 'P': 0, 'D': 1, 'Q': 2}. Best is trial 22 with value: 0.7474892305434215.\u001b[0m\n",
      "\u001b[32m[I 2022-03-13 17:34:24,751]\u001b[0m Trial 39 finished with value: 0.2930938948962606 and parameters: {'p': 5, 'd': 0, 'q': 2, 'P': 0, 'D': 1, 'Q': 0}. Best is trial 22 with value: 0.7474892305434215.\u001b[0m\n"
     ]
    },
    {
     "name": "stdout",
     "output_type": "stream",
     "text": [
      "Optimization terminated successfully.\n",
      "         Current function value: -1.302104\n",
      "         Iterations: 2\n",
      "         Function evaluations: 210\n",
      "Optimization terminated successfully.\n",
      "         Current function value: -1.387832\n",
      "         Iterations: 14\n",
      "         Function evaluations: 2838\n"
     ]
    },
    {
     "name": "stderr",
     "output_type": "stream",
     "text": [
      "\u001b[32m[I 2022-03-13 17:34:59,304]\u001b[0m Trial 40 finished with value: 0.6309226678102493 and parameters: {'p': 8, 'd': 1, 'q': 5, 'P': 1, 'D': 1, 'Q': 3}. Best is trial 22 with value: 0.7474892305434215.\u001b[0m\n"
     ]
    },
    {
     "name": "stdout",
     "output_type": "stream",
     "text": [
      "Optimization terminated successfully.\n",
      "         Current function value: -1.482188\n",
      "         Iterations: 12\n",
      "         Function evaluations: 2218\n"
     ]
    },
    {
     "name": "stderr",
     "output_type": "stream",
     "text": [
      "\u001b[32m[I 2022-03-13 17:35:10,350]\u001b[0m Trial 41 finished with value: 0.7322793865593977 and parameters: {'p': 8, 'd': 0, 'q': 5, 'P': 0, 'D': 1, 'Q': 1}. Best is trial 22 with value: 0.7474892305434215.\u001b[0m\n",
      "\u001b[32m[I 2022-03-13 17:35:37,491]\u001b[0m Trial 42 finished with value: 0.6815152948845771 and parameters: {'p': 7, 'd': 0, 'q': 4, 'P': 0, 'D': 1, 'Q': 1}. Best is trial 22 with value: 0.7474892305434215.\u001b[0m\n"
     ]
    },
    {
     "name": "stdout",
     "output_type": "stream",
     "text": [
      "Optimization terminated successfully.\n",
      "         Current function value: -1.493221\n",
      "         Iterations: 33\n",
      "         Function evaluations: 5673\n",
      "Optimization terminated successfully.\n",
      "         Current function value: -1.482188\n",
      "         Iterations: 12\n",
      "         Function evaluations: 2218\n"
     ]
    },
    {
     "name": "stderr",
     "output_type": "stream",
     "text": [
      "\u001b[32m[I 2022-03-13 17:35:48,578]\u001b[0m Trial 43 finished with value: 0.7322793865593977 and parameters: {'p': 8, 'd': 0, 'q': 5, 'P': 0, 'D': 1, 'Q': 1}. Best is trial 22 with value: 0.7474892305434215.\u001b[0m\n"
     ]
    },
    {
     "name": "stdout",
     "output_type": "stream",
     "text": [
      "Optimization terminated successfully.\n",
      "         Current function value: -1.489649\n",
      "         Iterations: 7\n",
      "         Function evaluations: 1233\n"
     ]
    },
    {
     "name": "stderr",
     "output_type": "stream",
     "text": [
      "\u001b[32m[I 2022-03-13 17:35:55,631]\u001b[0m Trial 44 finished with value: 0.7293152467097084 and parameters: {'p': 7, 'd': 0, 'q': 6, 'P': 0, 'D': 1, 'Q': 1}. Best is trial 22 with value: 0.7474892305434215.\u001b[0m\n"
     ]
    },
    {
     "name": "stdout",
     "output_type": "stream",
     "text": [
      "Optimization terminated successfully.\n",
      "         Current function value: -1.482188\n",
      "         Iterations: 12\n",
      "         Function evaluations: 2218\n"
     ]
    },
    {
     "name": "stderr",
     "output_type": "stream",
     "text": [
      "\u001b[32m[I 2022-03-13 17:36:06,628]\u001b[0m Trial 45 finished with value: 0.7322793865593977 and parameters: {'p': 8, 'd': 0, 'q': 5, 'P': 0, 'D': 1, 'Q': 1}. Best is trial 22 with value: 0.7474892305434215.\u001b[0m\n",
      "\u001b[32m[I 2022-03-13 17:36:26,442]\u001b[0m Trial 46 finished with value: -9.346924096085855e+64 and parameters: {'p': 8, 'd': 0, 'q': 4, 'P': 0, 'D': 1, 'Q': 1}. Best is trial 22 with value: 0.7474892305434215.\u001b[0m\n"
     ]
    },
    {
     "name": "stdout",
     "output_type": "stream",
     "text": [
      "Optimization terminated successfully.\n",
      "         Current function value: 0.267286\n",
      "         Iterations: 21\n",
      "         Function evaluations: 4107\n",
      "Optimization terminated successfully.\n",
      "         Current function value: -1.438211\n",
      "         Iterations: 10\n",
      "         Function evaluations: 1978\n"
     ]
    },
    {
     "name": "stderr",
     "output_type": "stream",
     "text": [
      "\u001b[32m[I 2022-03-13 17:36:42,453]\u001b[0m Trial 47 finished with value: 0.7285363690846023 and parameters: {'p': 7, 'd': 0, 'q': 6, 'P': 1, 'D': 1, 'Q': 2}. Best is trial 22 with value: 0.7474892305434215.\u001b[0m\n",
      "\u001b[32m[I 2022-03-13 17:36:58,376]\u001b[0m Trial 48 finished with value: 0.2763273358513131 and parameters: {'p': 6, 'd': 0, 'q': 4, 'P': 0, 'D': 1, 'Q': 0}. Best is trial 22 with value: 0.7474892305434215.\u001b[0m\n"
     ]
    },
    {
     "name": "stdout",
     "output_type": "stream",
     "text": [
      "Optimization terminated successfully.\n",
      "         Current function value: -1.302210\n",
      "         Iterations: 41\n",
      "         Function evaluations: 5700\n",
      "Optimization terminated successfully.\n",
      "         Current function value: -1.438177\n",
      "         Iterations: 7\n",
      "         Function evaluations: 993\n"
     ]
    },
    {
     "name": "stderr",
     "output_type": "stream",
     "text": [
      "\u001b[32m[I 2022-03-13 17:37:04,145]\u001b[0m Trial 49 finished with value: 0.7236874792123402 and parameters: {'p': 4, 'd': 0, 'q': 3, 'P': 2, 'D': 1, 'Q': 1}. Best is trial 22 with value: 0.7474892305434215.\u001b[0m\n",
      "\u001b[32m[I 2022-03-13 17:37:04,153]\u001b[0m A new study created in memory with name: no-name-5e6aba68-c0dc-41bd-b370-546d82bda515\u001b[0m\n",
      "\u001b[32m[I 2022-03-13 17:37:10,334]\u001b[0m Trial 0 finished with value: 0.7195490029735094 and parameters: {'p': 2, 'd': 0, 'q': 5, 'P': 1, 'D': 1, 'Q': 1}. Best is trial 0 with value: 0.7195490029735094.\u001b[0m\n"
     ]
    },
    {
     "name": "stdout",
     "output_type": "stream",
     "text": [
      "Optimization terminated successfully.\n",
      "         Current function value: -1.480322\n",
      "         Iterations: 10\n",
      "         Function evaluations: 1267\n"
     ]
    },
    {
     "name": "stderr",
     "output_type": "stream",
     "text": [
      "\u001b[32m[I 2022-03-13 17:37:12,988]\u001b[0m Trial 1 finished with value: 0.7016701288495852 and parameters: {'p': 1, 'd': 0, 'q': 2, 'P': 3, 'D': 0, 'Q': 2}. Best is trial 0 with value: 0.7195490029735094.\u001b[0m\n"
     ]
    },
    {
     "name": "stdout",
     "output_type": "stream",
     "text": [
      "Optimization terminated successfully.\n",
      "         Current function value: -1.456280\n",
      "         Iterations: 4\n",
      "         Function evaluations: 418\n",
      "Optimization terminated successfully.\n",
      "         Current function value: -1.450882\n",
      "         Iterations: 11\n",
      "         Function evaluations: 1549\n"
     ]
    },
    {
     "name": "stderr",
     "output_type": "stream",
     "text": [
      "\u001b[32m[I 2022-03-13 17:37:22,387]\u001b[0m Trial 2 finished with value: 0.6409378343973089 and parameters: {'p': 1, 'd': 1, 'q': 4, 'P': 3, 'D': 0, 'Q': 2}. Best is trial 0 with value: 0.7195490029735094.\u001b[0m\n"
     ]
    },
    {
     "name": "stdout",
     "output_type": "stream",
     "text": [
      "Optimization terminated successfully.\n",
      "         Current function value: -1.443582\n",
      "         Iterations: 11\n",
      "         Function evaluations: 2438\n"
     ]
    },
    {
     "name": "stderr",
     "output_type": "stream",
     "text": [
      "\u001b[32m[I 2022-03-13 17:37:42,007]\u001b[0m Trial 3 finished with value: 0.7226834663928776 and parameters: {'p': 7, 'd': 0, 'q': 5, 'P': 2, 'D': 1, 'Q': 2}. Best is trial 3 with value: 0.7226834663928776.\u001b[0m\n"
     ]
    },
    {
     "name": "stdout",
     "output_type": "stream",
     "text": [
      "Optimization terminated successfully.\n",
      "         Current function value: -1.383347\n",
      "         Iterations: 7\n",
      "         Function evaluations: 1140\n"
     ]
    },
    {
     "name": "stderr",
     "output_type": "stream",
     "text": [
      "\u001b[32m[I 2022-03-13 17:37:55,388]\u001b[0m Trial 4 finished with value: 0.7164529919077868 and parameters: {'p': 1, 'd': 0, 'q': 6, 'P': 3, 'D': 1, 'Q': 3}. Best is trial 3 with value: 0.7226834663928776.\u001b[0m\n",
      "\u001b[32m[I 2022-03-13 17:37:58,071]\u001b[0m Trial 5 finished with value: 0.5179721776061192 and parameters: {'p': 1, 'd': 1, 'q': 6, 'P': 2, 'D': 1, 'Q': 0}. Best is trial 3 with value: 0.7226834663928776.\u001b[0m\n"
     ]
    },
    {
     "name": "stdout",
     "output_type": "stream",
     "text": [
      "Optimization terminated successfully.\n",
      "         Current function value: -1.384416\n",
      "         Iterations: 3\n",
      "         Function evaluations: 448\n",
      "Optimization terminated successfully.\n",
      "         Current function value: -1.372486\n",
      "         Iterations: 3\n",
      "         Function evaluations: 529\n"
     ]
    },
    {
     "name": "stderr",
     "output_type": "stream",
     "text": [
      "\u001b[32m[I 2022-03-13 17:38:04,827]\u001b[0m Trial 6 finished with value: 0.7210522666553701 and parameters: {'p': 5, 'd': 0, 'q': 6, 'P': 1, 'D': 1, 'Q': 3}. Best is trial 3 with value: 0.7226834663928776.\u001b[0m\n"
     ]
    },
    {
     "name": "stdout",
     "output_type": "stream",
     "text": [
      "Optimization terminated successfully.\n",
      "         Current function value: -1.409755\n",
      "         Iterations: 3\n",
      "         Function evaluations: 442\n"
     ]
    },
    {
     "name": "stderr",
     "output_type": "stream",
     "text": [
      "\u001b[32m[I 2022-03-13 17:38:09,153]\u001b[0m Trial 7 finished with value: 0.7211304562167622 and parameters: {'p': 6, 'd': 0, 'q': 0, 'P': 2, 'D': 1, 'Q': 3}. Best is trial 3 with value: 0.7226834663928776.\u001b[0m\n"
     ]
    },
    {
     "name": "stdout",
     "output_type": "stream",
     "text": [
      "Optimization terminated successfully.\n",
      "         Current function value: -1.409391\n",
      "         Iterations: 13\n",
      "         Function evaluations: 2991\n"
     ]
    },
    {
     "name": "stderr",
     "output_type": "stream",
     "text": [
      "\u001b[32m[I 2022-03-13 17:38:34,065]\u001b[0m Trial 8 finished with value: 0.6251675436789352 and parameters: {'p': 8, 'd': 1, 'q': 7, 'P': 2, 'D': 1, 'Q': 1}. Best is trial 3 with value: 0.7226834663928776.\u001b[0m\n"
     ]
    },
    {
     "name": "stdout",
     "output_type": "stream",
     "text": [
      "Optimization terminated successfully.\n",
      "         Current function value: -1.379087\n",
      "         Iterations: 7\n",
      "         Function evaluations: 1100\n"
     ]
    },
    {
     "name": "stderr",
     "output_type": "stream",
     "text": [
      "\u001b[32m[I 2022-03-13 17:38:46,458]\u001b[0m Trial 9 finished with value: 0.638261396517048 and parameters: {'p': 3, 'd': 1, 'q': 4, 'P': 1, 'D': 1, 'Q': 3}. Best is trial 3 with value: 0.7226834663928776.\u001b[0m\n",
      "\u001b[32m[I 2022-03-13 17:38:47,658]\u001b[0m Trial 10 finished with value: 0.5232648925484136 and parameters: {'p': 8, 'd': 0, 'q': 8, 'P': 0, 'D': 0, 'Q': 0}. Best is trial 3 with value: 0.7226834663928776.\u001b[0m\n"
     ]
    },
    {
     "name": "stdout",
     "output_type": "stream",
     "text": [
      "Optimization terminated successfully.\n",
      "         Current function value: -1.525632\n",
      "         Iterations: 9\n",
      "         Function evaluations: 1946\n",
      "Optimization terminated successfully.\n",
      "         Current function value: -1.430787\n",
      "         Iterations: 6\n",
      "         Function evaluations: 842\n"
     ]
    },
    {
     "name": "stderr",
     "output_type": "stream",
     "text": [
      "\u001b[32m[I 2022-03-13 17:38:53,835]\u001b[0m Trial 11 finished with value: 0.7163835133539743 and parameters: {'p': 6, 'd': 0, 'q': 0, 'P': 2, 'D': 1, 'Q': 2}. Best is trial 3 with value: 0.7226834663928776.\u001b[0m\n"
     ]
    },
    {
     "name": "stdout",
     "output_type": "stream",
     "text": [
      "Optimization terminated successfully.\n",
      "         Current function value: -1.398941\n",
      "         Iterations: 3\n",
      "         Function evaluations: 512\n"
     ]
    },
    {
     "name": "stderr",
     "output_type": "stream",
     "text": [
      "\u001b[32m[I 2022-03-13 17:38:59,377]\u001b[0m Trial 12 finished with value: 0.7209076079149072 and parameters: {'p': 6, 'd': 0, 'q': 2, 'P': 2, 'D': 1, 'Q': 3}. Best is trial 3 with value: 0.7226834663928776.\u001b[0m\n",
      "\u001b[32m[I 2022-03-13 17:39:01,402]\u001b[0m Trial 13 finished with value: 0.7239177063399048 and parameters: {'p': 6, 'd': 0, 'q': 0, 'P': 0, 'D': 1, 'Q': 2}. Best is trial 13 with value: 0.7239177063399048.\u001b[0m\n"
     ]
    },
    {
     "name": "stdout",
     "output_type": "stream",
     "text": [
      "Optimization terminated successfully.\n",
      "         Current function value: -1.454856\n",
      "         Iterations: 3\n",
      "         Function evaluations: 315\n"
     ]
    },
    {
     "name": "stderr",
     "output_type": "stream",
     "text": [
      "\u001b[32m[I 2022-03-13 17:39:02,052]\u001b[0m Trial 14 finished with value: -2.488233455011165 and parameters: {'p': 7, 'd': 0, 'q': 2, 'P': 0, 'D': 0, 'Q': 1}. Best is trial 13 with value: 0.7239177063399048.\u001b[0m\n"
     ]
    },
    {
     "name": "stdout",
     "output_type": "stream",
     "text": [
      "Optimization terminated successfully.\n",
      "         Current function value: -1.227219\n",
      "         Iterations: 5\n",
      "         Function evaluations: 589\n"
     ]
    },
    {
     "name": "stderr",
     "output_type": "stream",
     "text": [
      "\u001b[32m[I 2022-03-13 17:39:05,835]\u001b[0m Trial 15 finished with value: 0.7247317602913947 and parameters: {'p': 4, 'd': 0, 'q': 3, 'P': 0, 'D': 1, 'Q': 2}. Best is trial 15 with value: 0.7247317602913947.\u001b[0m\n"
     ]
    },
    {
     "name": "stdout",
     "output_type": "stream",
     "text": [
      "Optimization terminated successfully.\n",
      "         Current function value: -1.437157\n",
      "         Iterations: 5\n",
      "         Function evaluations: 583\n"
     ]
    },
    {
     "name": "stderr",
     "output_type": "stream",
     "text": [
      "\u001b[32m[I 2022-03-13 17:39:07,841]\u001b[0m Trial 16 finished with value: 0.7247200355699137 and parameters: {'p': 4, 'd': 0, 'q': 1, 'P': 0, 'D': 1, 'Q': 2}. Best is trial 15 with value: 0.7247317602913947.\u001b[0m\n"
     ]
    },
    {
     "name": "stdout",
     "output_type": "stream",
     "text": [
      "Optimization terminated successfully.\n",
      "         Current function value: -1.448144\n",
      "         Iterations: 3\n",
      "         Function evaluations: 296\n"
     ]
    },
    {
     "name": "stderr",
     "output_type": "stream",
     "text": [
      "\u001b[32m[I 2022-03-13 17:39:11,388]\u001b[0m Trial 17 finished with value: 0.11824581270695877 and parameters: {'p': 4, 'd': 1, 'q': 3, 'P': 0, 'D': 0, 'Q': 1}. Best is trial 15 with value: 0.7247317602913947.\u001b[0m\n"
     ]
    },
    {
     "name": "stdout",
     "output_type": "stream",
     "text": [
      "Optimization terminated successfully.\n",
      "         Current function value: -1.298899\n",
      "         Iterations: 10\n",
      "         Function evaluations: 1137\n"
     ]
    },
    {
     "name": "stderr",
     "output_type": "stream",
     "text": [
      "\u001b[32m[I 2022-03-13 17:39:13,689]\u001b[0m Trial 18 finished with value: 0.7219449317347838 and parameters: {'p': 4, 'd': 0, 'q': 1, 'P': 1, 'D': 1, 'Q': 2}. Best is trial 15 with value: 0.7247317602913947.\u001b[0m\n"
     ]
    },
    {
     "name": "stdout",
     "output_type": "stream",
     "text": [
      "Optimization terminated successfully.\n",
      "         Current function value: -1.452447\n",
      "         Iterations: 3\n",
      "         Function evaluations: 344\n"
     ]
    },
    {
     "name": "stderr",
     "output_type": "stream",
     "text": [
      "\u001b[32m[I 2022-03-13 17:39:15,327]\u001b[0m Trial 19 finished with value: 0.7118400796464217 and parameters: {'p': 3, 'd': 0, 'q': 3, 'P': 0, 'D': 1, 'Q': 1}. Best is trial 15 with value: 0.7247317602913947.\u001b[0m\n"
     ]
    },
    {
     "name": "stdout",
     "output_type": "stream",
     "text": [
      "Optimization terminated successfully.\n",
      "         Current function value: -1.495454\n",
      "         Iterations: 3\n",
      "         Function evaluations: 333\n"
     ]
    },
    {
     "name": "stderr",
     "output_type": "stream",
     "text": [
      "\u001b[32m[I 2022-03-13 17:39:17,906]\u001b[0m Trial 20 finished with value: 0.1765451171121385 and parameters: {'p': 3, 'd': 1, 'q': 1, 'P': 0, 'D': 0, 'Q': 2}. Best is trial 15 with value: 0.7247317602913947.\u001b[0m\n"
     ]
    },
    {
     "name": "stdout",
     "output_type": "stream",
     "text": [
      "Optimization terminated successfully.\n",
      "         Current function value: -1.322899\n",
      "         Iterations: 8\n",
      "         Function evaluations: 646\n"
     ]
    },
    {
     "name": "stderr",
     "output_type": "stream",
     "text": [
      "\u001b[32m[I 2022-03-13 17:39:20,080]\u001b[0m Trial 21 finished with value: 0.7231322599709984 and parameters: {'p': 5, 'd': 0, 'q': 1, 'P': 0, 'D': 1, 'Q': 2}. Best is trial 15 with value: 0.7247317602913947.\u001b[0m\n"
     ]
    },
    {
     "name": "stdout",
     "output_type": "stream",
     "text": [
      "Optimization terminated successfully.\n",
      "         Current function value: -1.448620\n",
      "         Iterations: 3\n",
      "         Function evaluations: 324\n"
     ]
    },
    {
     "name": "stderr",
     "output_type": "stream",
     "text": [
      "\u001b[32m[I 2022-03-13 17:39:21,821]\u001b[0m Trial 22 finished with value: 0.7227982389945167 and parameters: {'p': 5, 'd': 0, 'q': 0, 'P': 0, 'D': 1, 'Q': 2}. Best is trial 15 with value: 0.7247317602913947.\u001b[0m\n"
     ]
    },
    {
     "name": "stdout",
     "output_type": "stream",
     "text": [
      "Optimization terminated successfully.\n",
      "         Current function value: -1.454085\n",
      "         Iterations: 3\n",
      "         Function evaluations: 272\n"
     ]
    },
    {
     "name": "stderr",
     "output_type": "stream",
     "text": [
      "\u001b[32m[I 2022-03-13 17:39:25,215]\u001b[0m Trial 23 finished with value: 0.7209890195204121 and parameters: {'p': 4, 'd': 0, 'q': 3, 'P': 1, 'D': 1, 'Q': 2}. Best is trial 15 with value: 0.7247317602913947.\u001b[0m\n"
     ]
    },
    {
     "name": "stdout",
     "output_type": "stream",
     "text": [
      "Optimization terminated successfully.\n",
      "         Current function value: -1.441474\n",
      "         Iterations: 4\n",
      "         Function evaluations: 494\n"
     ]
    },
    {
     "name": "stderr",
     "output_type": "stream",
     "text": [
      "\u001b[32m[I 2022-03-13 17:39:26,364]\u001b[0m Trial 24 finished with value: 0.7280333193315943 and parameters: {'p': 4, 'd': 0, 'q': 1, 'P': 0, 'D': 1, 'Q': 1}. Best is trial 24 with value: 0.7280333193315943.\u001b[0m\n"
     ]
    },
    {
     "name": "stdout",
     "output_type": "stream",
     "text": [
      "Optimization terminated successfully.\n",
      "         Current function value: -1.503270\n",
      "         Iterations: 3\n",
      "         Function evaluations: 251\n"
     ]
    },
    {
     "name": "stderr",
     "output_type": "stream",
     "text": [
      "\u001b[32m[I 2022-03-13 17:39:26,712]\u001b[0m Trial 25 finished with value: 0.4623941272271138 and parameters: {'p': 2, 'd': 0, 'q': 2, 'P': 1, 'D': 1, 'Q': 0}. Best is trial 24 with value: 0.7280333193315943.\u001b[0m\n"
     ]
    },
    {
     "name": "stdout",
     "output_type": "stream",
     "text": [
      "Optimization terminated successfully.\n",
      "         Current function value: -1.416695\n",
      "         Iterations: 2\n",
      "         Function evaluations: 149\n"
     ]
    },
    {
     "name": "stderr",
     "output_type": "stream",
     "text": [
      "\u001b[32m[I 2022-03-13 17:39:28,191]\u001b[0m Trial 26 finished with value: 0.7287807951575507 and parameters: {'p': 3, 'd': 0, 'q': 1, 'P': 0, 'D': 1, 'Q': 1}. Best is trial 26 with value: 0.7287807951575507.\u001b[0m\n"
     ]
    },
    {
     "name": "stdout",
     "output_type": "stream",
     "text": [
      "Optimization terminated successfully.\n",
      "         Current function value: -1.506219\n",
      "         Iterations: 4\n",
      "         Function evaluations: 329\n"
     ]
    },
    {
     "name": "stderr",
     "output_type": "stream",
     "text": [
      "\u001b[32m[I 2022-03-13 17:39:29,188]\u001b[0m Trial 27 finished with value: 0.7269820839926777 and parameters: {'p': 0, 'd': 0, 'q': 3, 'P': 0, 'D': 1, 'Q': 1}. Best is trial 26 with value: 0.7287807951575507.\u001b[0m\n"
     ]
    },
    {
     "name": "stdout",
     "output_type": "stream",
     "text": [
      "Optimization terminated successfully.\n",
      "         Current function value: -1.495806\n",
      "         Iterations: 3\n",
      "         Function evaluations: 200\n"
     ]
    },
    {
     "name": "stderr",
     "output_type": "stream",
     "text": [
      "\u001b[32m[I 2022-03-13 17:39:30,133]\u001b[0m Trial 28 finished with value: 0.7194943471384571 and parameters: {'p': 0, 'd': 0, 'q': 1, 'P': 1, 'D': 1, 'Q': 1}. Best is trial 26 with value: 0.7287807951575507.\u001b[0m\n"
     ]
    },
    {
     "name": "stdout",
     "output_type": "stream",
     "text": [
      "Optimization terminated successfully.\n",
      "         Current function value: -1.500430\n",
      "         Iterations: 4\n",
      "         Function evaluations: 222\n"
     ]
    },
    {
     "name": "stderr",
     "output_type": "stream",
     "text": [
      "\u001b[32m[I 2022-03-13 17:39:30,488]\u001b[0m Trial 29 finished with value: 0.4608746393265116 and parameters: {'p': 0, 'd': 0, 'q': 5, 'P': 1, 'D': 1, 'Q': 0}. Best is trial 26 with value: 0.7287807951575507.\u001b[0m\n"
     ]
    },
    {
     "name": "stdout",
     "output_type": "stream",
     "text": [
      "Optimization terminated successfully.\n",
      "         Current function value: -1.424970\n",
      "         Iterations: 2\n",
      "         Function evaluations: 167\n"
     ]
    },
    {
     "name": "stderr",
     "output_type": "stream",
     "text": [
      "\u001b[32m[I 2022-03-13 17:39:31,796]\u001b[0m Trial 30 finished with value: 0.7275686725302757 and parameters: {'p': 3, 'd': 0, 'q': 2, 'P': 0, 'D': 1, 'Q': 1}. Best is trial 26 with value: 0.7287807951575507.\u001b[0m\n"
     ]
    },
    {
     "name": "stdout",
     "output_type": "stream",
     "text": [
      "Optimization terminated successfully.\n",
      "         Current function value: -1.501544\n",
      "         Iterations: 3\n",
      "         Function evaluations: 257\n"
     ]
    },
    {
     "name": "stderr",
     "output_type": "stream",
     "text": [
      "\u001b[32m[I 2022-03-13 17:39:32,938]\u001b[0m Trial 31 finished with value: 0.727755601032222 and parameters: {'p': 2, 'd': 0, 'q': 2, 'P': 0, 'D': 1, 'Q': 1}. Best is trial 26 with value: 0.7287807951575507.\u001b[0m\n"
     ]
    },
    {
     "name": "stdout",
     "output_type": "stream",
     "text": [
      "Optimization terminated successfully.\n",
      "         Current function value: -1.501547\n",
      "         Iterations: 3\n",
      "         Function evaluations: 228\n"
     ]
    },
    {
     "name": "stderr",
     "output_type": "stream",
     "text": [
      "\u001b[32m[I 2022-03-13 17:39:34,089]\u001b[0m Trial 32 finished with value: 0.727755601032222 and parameters: {'p': 2, 'd': 0, 'q': 2, 'P': 0, 'D': 1, 'Q': 1}. Best is trial 26 with value: 0.7287807951575507.\u001b[0m\n"
     ]
    },
    {
     "name": "stdout",
     "output_type": "stream",
     "text": [
      "Optimization terminated successfully.\n",
      "         Current function value: -1.501547\n",
      "         Iterations: 3\n",
      "         Function evaluations: 228\n"
     ]
    },
    {
     "name": "stderr",
     "output_type": "stream",
     "text": [
      "\u001b[32m[I 2022-03-13 17:39:35,236]\u001b[0m Trial 33 finished with value: 0.727755601032222 and parameters: {'p': 2, 'd': 0, 'q': 2, 'P': 0, 'D': 1, 'Q': 1}. Best is trial 26 with value: 0.7287807951575507.\u001b[0m\n"
     ]
    },
    {
     "name": "stdout",
     "output_type": "stream",
     "text": [
      "Optimization terminated successfully.\n",
      "         Current function value: -1.501547\n",
      "         Iterations: 3\n",
      "         Function evaluations: 228\n"
     ]
    },
    {
     "name": "stderr",
     "output_type": "stream",
     "text": [
      "\u001b[32m[I 2022-03-13 17:39:37,290]\u001b[0m Trial 34 finished with value: 0.731353475789547 and parameters: {'p': 2, 'd': 0, 'q': 1, 'P': 0, 'D': 1, 'Q': 1}. Best is trial 34 with value: 0.731353475789547.\u001b[0m\n"
     ]
    },
    {
     "name": "stdout",
     "output_type": "stream",
     "text": [
      "Optimization terminated successfully.\n",
      "         Current function value: -1.505843\n",
      "         Iterations: 7\n",
      "         Function evaluations: 477\n"
     ]
    },
    {
     "name": "stderr",
     "output_type": "stream",
     "text": [
      "\u001b[32m[I 2022-03-13 17:39:37,538]\u001b[0m Trial 35 finished with value: 0.20381503021519287 and parameters: {'p': 2, 'd': 0, 'q': 1, 'P': 1, 'D': 0, 'Q': 0}. Best is trial 34 with value: 0.731353475789547.\u001b[0m\n"
     ]
    },
    {
     "name": "stdout",
     "output_type": "stream",
     "text": [
      "Optimization terminated successfully.\n",
      "         Current function value: -1.317087\n",
      "         Iterations: 3\n",
      "         Function evaluations: 181\n"
     ]
    },
    {
     "name": "stderr",
     "output_type": "stream",
     "text": [
      "\u001b[32m[I 2022-03-13 17:39:40,021]\u001b[0m Trial 36 finished with value: 0.6989924965605769 and parameters: {'p': 1, 'd': 0, 'q': 0, 'P': 3, 'D': 1, 'Q': 1}. Best is trial 34 with value: 0.731353475789547.\u001b[0m\n"
     ]
    },
    {
     "name": "stdout",
     "output_type": "stream",
     "text": [
      "Optimization terminated successfully.\n",
      "         Current function value: -1.399455\n",
      "         Iterations: 6\n",
      "         Function evaluations: 413\n"
     ]
    },
    {
     "name": "stderr",
     "output_type": "stream",
     "text": [
      "\u001b[32m[I 2022-03-13 17:39:40,173]\u001b[0m Trial 37 finished with value: 0.2895879399431257 and parameters: {'p': 3, 'd': 0, 'q': 1, 'P': 0, 'D': 1, 'Q': 0}. Best is trial 34 with value: 0.731353475789547.\u001b[0m\n"
     ]
    },
    {
     "name": "stdout",
     "output_type": "stream",
     "text": [
      "Optimization terminated successfully.\n",
      "         Current function value: -1.311175\n",
      "         Iterations: 1\n",
      "         Function evaluations: 67\n"
     ]
    },
    {
     "name": "stderr",
     "output_type": "stream",
     "text": [
      "\u001b[32m[I 2022-03-13 17:39:41,386]\u001b[0m Trial 38 finished with value: -0.1638801809392001 and parameters: {'p': 1, 'd': 1, 'q': 0, 'P': 1, 'D': 1, 'Q': 1}. Best is trial 34 with value: 0.731353475789547.\u001b[0m\n"
     ]
    },
    {
     "name": "stdout",
     "output_type": "stream",
     "text": [
      "Optimization terminated successfully.\n",
      "         Current function value: -1.350893\n",
      "         Iterations: 5\n",
      "         Function evaluations: 291\n"
     ]
    },
    {
     "name": "stderr",
     "output_type": "stream",
     "text": [
      "\u001b[32m[I 2022-03-13 17:39:42,839]\u001b[0m Trial 39 finished with value: 0.7287807951575507 and parameters: {'p': 3, 'd': 0, 'q': 1, 'P': 0, 'D': 1, 'Q': 1}. Best is trial 34 with value: 0.731353475789547.\u001b[0m\n"
     ]
    },
    {
     "name": "stdout",
     "output_type": "stream",
     "text": [
      "Optimization terminated successfully.\n",
      "         Current function value: -1.506219\n",
      "         Iterations: 4\n",
      "         Function evaluations: 329\n"
     ]
    },
    {
     "name": "stderr",
     "output_type": "stream",
     "text": [
      "\u001b[32m[I 2022-03-13 17:39:43,044]\u001b[0m Trial 40 finished with value: 0.2904351983143816 and parameters: {'p': 5, 'd': 0, 'q': 1, 'P': 0, 'D': 1, 'Q': 0}. Best is trial 34 with value: 0.731353475789547.\u001b[0m\n"
     ]
    },
    {
     "name": "stdout",
     "output_type": "stream",
     "text": [
      "Optimization terminated successfully.\n",
      "         Current function value: -1.301286\n",
      "         Iterations: 1\n",
      "         Function evaluations: 114\n"
     ]
    },
    {
     "name": "stderr",
     "output_type": "stream",
     "text": [
      "\u001b[32m[I 2022-03-13 17:39:44,351]\u001b[0m Trial 41 finished with value: 0.7275686725302757 and parameters: {'p': 3, 'd': 0, 'q': 2, 'P': 0, 'D': 1, 'Q': 1}. Best is trial 34 with value: 0.731353475789547.\u001b[0m\n"
     ]
    },
    {
     "name": "stdout",
     "output_type": "stream",
     "text": [
      "Optimization terminated successfully.\n",
      "         Current function value: -1.501544\n",
      "         Iterations: 3\n",
      "         Function evaluations: 257\n"
     ]
    },
    {
     "name": "stderr",
     "output_type": "stream",
     "text": [
      "\u001b[32m[I 2022-03-13 17:39:46,498]\u001b[0m Trial 42 finished with value: 0.731353475789547 and parameters: {'p': 2, 'd': 0, 'q': 1, 'P': 0, 'D': 1, 'Q': 1}. Best is trial 34 with value: 0.731353475789547.\u001b[0m\n"
     ]
    },
    {
     "name": "stdout",
     "output_type": "stream",
     "text": [
      "Optimization terminated successfully.\n",
      "         Current function value: -1.505843\n",
      "         Iterations: 7\n",
      "         Function evaluations: 477\n"
     ]
    },
    {
     "name": "stderr",
     "output_type": "stream",
     "text": [
      "\u001b[32m[I 2022-03-13 17:39:47,482]\u001b[0m Trial 43 finished with value: 0.7283650899498411 and parameters: {'p': 3, 'd': 0, 'q': 0, 'P': 0, 'D': 1, 'Q': 1}. Best is trial 34 with value: 0.731353475789547.\u001b[0m\n"
     ]
    },
    {
     "name": "stdout",
     "output_type": "stream",
     "text": [
      "Optimization terminated successfully.\n",
      "         Current function value: -1.511458\n",
      "         Iterations: 3\n",
      "         Function evaluations: 222\n"
     ]
    },
    {
     "name": "stderr",
     "output_type": "stream",
     "text": [
      "\u001b[32m[I 2022-03-13 17:39:48,087]\u001b[0m Trial 44 finished with value: 0.7251590530834318 and parameters: {'p': 1, 'd': 0, 'q': 0, 'P': 0, 'D': 1, 'Q': 1}. Best is trial 34 with value: 0.731353475789547.\u001b[0m\n"
     ]
    },
    {
     "name": "stdout",
     "output_type": "stream",
     "text": [
      "Optimization terminated successfully.\n",
      "         Current function value: -1.509070\n",
      "         Iterations: 3\n",
      "         Function evaluations: 130\n"
     ]
    },
    {
     "name": "stderr",
     "output_type": "stream",
     "text": [
      "\u001b[32m[I 2022-03-13 17:39:49,173]\u001b[0m Trial 45 finished with value: 0.7248983744450954 and parameters: {'p': 2, 'd': 0, 'q': 0, 'P': 1, 'D': 1, 'Q': 1}. Best is trial 34 with value: 0.731353475789547.\u001b[0m\n"
     ]
    },
    {
     "name": "stdout",
     "output_type": "stream",
     "text": [
      "Optimization terminated successfully.\n",
      "         Current function value: -1.501531\n",
      "         Iterations: 4\n",
      "         Function evaluations: 254\n"
     ]
    },
    {
     "name": "stderr",
     "output_type": "stream",
     "text": [
      "\u001b[32m[I 2022-03-13 17:39:55,515]\u001b[0m Trial 46 finished with value: 0.7003637302465946 and parameters: {'p': 3, 'd': 0, 'q': 4, 'P': 0, 'D': 1, 'Q': 1}. Best is trial 34 with value: 0.731353475789547.\u001b[0m\n"
     ]
    },
    {
     "name": "stdout",
     "output_type": "stream",
     "text": [
      "Optimization terminated successfully.\n",
      "         Current function value: -1.439745\n",
      "         Iterations: 10\n",
      "         Function evaluations: 1299\n"
     ]
    },
    {
     "name": "stderr",
     "output_type": "stream",
     "text": [
      "\u001b[32m[I 2022-03-13 17:39:56,206]\u001b[0m Trial 47 finished with value: 0.6438714372632055 and parameters: {'p': 2, 'd': 0, 'q': 0, 'P': 3, 'D': 1, 'Q': 0}. Best is trial 34 with value: 0.731353475789547.\u001b[0m\n"
     ]
    },
    {
     "name": "stdout",
     "output_type": "stream",
     "text": [
      "Optimization terminated successfully.\n",
      "         Current function value: -1.382865\n",
      "         Iterations: 2\n",
      "         Function evaluations: 130\n",
      "Optimization terminated successfully.\n",
      "         Current function value: -1.478016\n",
      "         Iterations: 5\n",
      "         Function evaluations: 826\n"
     ]
    },
    {
     "name": "stderr",
     "output_type": "stream",
     "text": [
      "\u001b[32m[I 2022-03-13 17:40:01,289]\u001b[0m Trial 48 finished with value: 0.6393780320849763 and parameters: {'p': 3, 'd': 1, 'q': 7, 'P': 0, 'D': 1, 'Q': 1}. Best is trial 34 with value: 0.731353475789547.\u001b[0m\n",
      "\u001b[32m[I 2022-03-13 17:40:01,549]\u001b[0m Trial 49 finished with value: -8.384271801266912 and parameters: {'p': 1, 'd': 0, 'q': 1, 'P': 0, 'D': 0, 'Q': 1}. Best is trial 34 with value: 0.731353475789547.\u001b[0m\n",
      "\u001b[32m[I 2022-03-13 17:40:01,556]\u001b[0m A new study created in memory with name: no-name-3eb86bfb-6463-475a-bf53-1a108db4e85d\u001b[0m\n"
     ]
    },
    {
     "name": "stdout",
     "output_type": "stream",
     "text": [
      "Optimization terminated successfully.\n",
      "         Current function value: -1.199038\n",
      "         Iterations: 3\n",
      "         Function evaluations: 160\n",
      "Optimization terminated successfully.\n",
      "         Current function value: -1.352837\n",
      "         Iterations: 20\n",
      "         Function evaluations: 3891\n"
     ]
    },
    {
     "name": "stderr",
     "output_type": "stream",
     "text": [
      "\u001b[32m[I 2022-03-13 17:40:30,153]\u001b[0m Trial 0 finished with value: 0.5182259415300194 and parameters: {'p': 5, 'd': 1, 'q': 6, 'P': 0, 'D': 0, 'Q': 3}. Best is trial 0 with value: 0.5182259415300194.\u001b[0m\n"
     ]
    },
    {
     "name": "stdout",
     "output_type": "stream",
     "text": [
      "Optimization terminated successfully.\n",
      "         Current function value: -1.265761\n",
      "         Iterations: 11\n",
      "         Function evaluations: 2163\n"
     ]
    },
    {
     "name": "stderr",
     "output_type": "stream",
     "text": [
      "\u001b[32m[I 2022-03-13 17:40:44,816]\u001b[0m Trial 1 finished with value: 0.09896472685216051 and parameters: {'p': 4, 'd': 0, 'q': 7, 'P': 0, 'D': 0, 'Q': 3}. Best is trial 0 with value: 0.5182259415300194.\u001b[0m\n"
     ]
    },
    {
     "name": "stdout",
     "output_type": "stream",
     "text": [
      "Optimization terminated successfully.\n",
      "         Current function value: -1.336410\n",
      "         Iterations: 7\n",
      "         Function evaluations: 996\n"
     ]
    },
    {
     "name": "stderr",
     "output_type": "stream",
     "text": [
      "\u001b[32m[I 2022-03-13 17:40:54,515]\u001b[0m Trial 2 finished with value: 0.4411850436693886 and parameters: {'p': 6, 'd': 1, 'q': 2, 'P': 3, 'D': 1, 'Q': 0}. Best is trial 0 with value: 0.5182259415300194.\u001b[0m\n",
      "\u001b[32m[I 2022-03-13 17:41:06,255]\u001b[0m Trial 3 finished with value: 0.5826911746872978 and parameters: {'p': 8, 'd': 0, 'q': 6, 'P': 1, 'D': 0, 'Q': 1}. Best is trial 3 with value: 0.5826911746872978.\u001b[0m\n"
     ]
    },
    {
     "name": "stdout",
     "output_type": "stream",
     "text": [
      "Optimization terminated successfully.\n",
      "         Current function value: -1.507951\n",
      "         Iterations: 16\n",
      "         Function evaluations: 3220\n"
     ]
    },
    {
     "name": "stderr",
     "output_type": "stream",
     "text": [
      "\u001b[32m[I 2022-03-13 17:41:06,456]\u001b[0m Trial 4 finished with value: 0.5885584090730436 and parameters: {'p': 0, 'd': 0, 'q': 0, 'P': 1, 'D': 0, 'Q': 1}. Best is trial 4 with value: 0.5885584090730436.\u001b[0m\n"
     ]
    },
    {
     "name": "stdout",
     "output_type": "stream",
     "text": [
      "Optimization terminated successfully.\n",
      "         Current function value: -1.517533\n",
      "         Iterations: 2\n",
      "         Function evaluations: 83\n"
     ]
    },
    {
     "name": "stderr",
     "output_type": "stream",
     "text": [
      "\u001b[32m[I 2022-03-13 17:41:08,460]\u001b[0m Trial 5 finished with value: 0.34831182000870686 and parameters: {'p': 0, 'd': 1, 'q': 4, 'P': 2, 'D': 1, 'Q': 0}. Best is trial 4 with value: 0.5885584090730436.\u001b[0m\n"
     ]
    },
    {
     "name": "stdout",
     "output_type": "stream",
     "text": [
      "Optimization terminated successfully.\n",
      "         Current function value: -1.354892\n",
      "         Iterations: 3\n",
      "         Function evaluations: 317\n"
     ]
    },
    {
     "name": "stderr",
     "output_type": "stream",
     "text": [
      "\u001b[32m[I 2022-03-13 17:41:10,024]\u001b[0m Trial 6 finished with value: 0.25503606706219617 and parameters: {'p': 1, 'd': 1, 'q': 3, 'P': 1, 'D': 1, 'Q': 0}. Best is trial 4 with value: 0.5885584090730436.\u001b[0m\n"
     ]
    },
    {
     "name": "stdout",
     "output_type": "stream",
     "text": [
      "Optimization terminated successfully.\n",
      "         Current function value: -1.371029\n",
      "         Iterations: 4\n",
      "         Function evaluations: 358\n",
      "Optimization terminated successfully.\n",
      "         Current function value: -1.356773\n",
      "         Iterations: 11\n",
      "         Function evaluations: 2391\n"
     ]
    },
    {
     "name": "stderr",
     "output_type": "stream",
     "text": [
      "\u001b[32m[I 2022-03-13 17:41:38,459]\u001b[0m Trial 7 finished with value: 0.5094433720553546 and parameters: {'p': 7, 'd': 1, 'q': 6, 'P': 1, 'D': 1, 'Q': 3}. Best is trial 4 with value: 0.5885584090730436.\u001b[0m\n",
      "\u001b[32m[I 2022-03-13 17:41:41,882]\u001b[0m Trial 8 finished with value: -0.03212503282931589 and parameters: {'p': 3, 'd': 1, 'q': 5, 'P': 0, 'D': 0, 'Q': 1}. Best is trial 4 with value: 0.5885584090730436.\u001b[0m\n"
     ]
    },
    {
     "name": "stdout",
     "output_type": "stream",
     "text": [
      "Optimization terminated successfully.\n",
      "         Current function value: -1.333101\n",
      "         Iterations: 10\n",
      "         Function evaluations: 1431\n",
      "Optimization terminated successfully.\n",
      "         Current function value: -1.443561\n",
      "         Iterations: 6\n",
      "         Function evaluations: 1211\n"
     ]
    },
    {
     "name": "stderr",
     "output_type": "stream",
     "text": [
      "\u001b[32m[I 2022-03-13 17:41:48,457]\u001b[0m Trial 9 finished with value: 0.506409916162657 and parameters: {'p': 6, 'd': 1, 'q': 4, 'P': 1, 'D': 1, 'Q': 1}. Best is trial 4 with value: 0.5885584090730436.\u001b[0m\n",
      "\u001b[32m[I 2022-03-13 17:41:50,884]\u001b[0m Trial 10 finished with value: 0.5893885206257755 and parameters: {'p': 2, 'd': 0, 'q': 0, 'P': 3, 'D': 0, 'Q': 2}. Best is trial 10 with value: 0.5893885206257755.\u001b[0m\n"
     ]
    },
    {
     "name": "stdout",
     "output_type": "stream",
     "text": [
      "Optimization terminated successfully.\n",
      "         Current function value: -1.427023\n",
      "         Iterations: 4\n",
      "         Function evaluations: 360\n"
     ]
    },
    {
     "name": "stderr",
     "output_type": "stream",
     "text": [
      "\u001b[32m[I 2022-03-13 17:41:53,306]\u001b[0m Trial 11 finished with value: 0.5893885206257755 and parameters: {'p': 2, 'd': 0, 'q': 0, 'P': 3, 'D': 0, 'Q': 2}. Best is trial 10 with value: 0.5893885206257755.\u001b[0m\n"
     ]
    },
    {
     "name": "stdout",
     "output_type": "stream",
     "text": [
      "Optimization terminated successfully.\n",
      "         Current function value: -1.427023\n",
      "         Iterations: 4\n",
      "         Function evaluations: 360\n"
     ]
    },
    {
     "name": "stderr",
     "output_type": "stream",
     "text": [
      "\u001b[32m[I 2022-03-13 17:41:55,704]\u001b[0m Trial 12 finished with value: 0.5893885206257755 and parameters: {'p': 2, 'd': 0, 'q': 0, 'P': 3, 'D': 0, 'Q': 2}. Best is trial 10 with value: 0.5893885206257755.\u001b[0m\n"
     ]
    },
    {
     "name": "stdout",
     "output_type": "stream",
     "text": [
      "Optimization terminated successfully.\n",
      "         Current function value: -1.427023\n",
      "         Iterations: 4\n",
      "         Function evaluations: 360\n"
     ]
    },
    {
     "name": "stderr",
     "output_type": "stream",
     "text": [
      "\u001b[32m[I 2022-03-13 17:41:58,407]\u001b[0m Trial 13 finished with value: 0.5895378634165656 and parameters: {'p': 2, 'd': 0, 'q': 1, 'P': 3, 'D': 0, 'Q': 2}. Best is trial 13 with value: 0.5895378634165656.\u001b[0m\n"
     ]
    },
    {
     "name": "stdout",
     "output_type": "stream",
     "text": [
      "Optimization terminated successfully.\n",
      "         Current function value: -1.427070\n",
      "         Iterations: 4\n",
      "         Function evaluations: 406\n"
     ]
    },
    {
     "name": "stderr",
     "output_type": "stream",
     "text": [
      "\u001b[32m[I 2022-03-13 17:42:03,433]\u001b[0m Trial 14 finished with value: 0.5896195652343745 and parameters: {'p': 3, 'd': 0, 'q': 2, 'P': 2, 'D': 0, 'Q': 2}. Best is trial 14 with value: 0.5896195652343745.\u001b[0m\n"
     ]
    },
    {
     "name": "stdout",
     "output_type": "stream",
     "text": [
      "Optimization terminated successfully.\n",
      "         Current function value: -1.475470\n",
      "         Iterations: 9\n",
      "         Function evaluations: 1071\n"
     ]
    },
    {
     "name": "stderr",
     "output_type": "stream",
     "text": [
      "\u001b[32m[I 2022-03-13 17:42:08,901]\u001b[0m Trial 15 finished with value: 0.5302563140367171 and parameters: {'p': 4, 'd': 0, 'q': 2, 'P': 2, 'D': 0, 'Q': 2}. Best is trial 14 with value: 0.5896195652343745.\u001b[0m\n"
     ]
    },
    {
     "name": "stdout",
     "output_type": "stream",
     "text": [
      "Optimization terminated successfully.\n",
      "         Current function value: -1.464341\n",
      "         Iterations: 9\n",
      "         Function evaluations: 1212\n"
     ]
    },
    {
     "name": "stderr",
     "output_type": "stream",
     "text": [
      "\u001b[32m[I 2022-03-13 17:42:13,932]\u001b[0m Trial 16 finished with value: 0.5896195652343745 and parameters: {'p': 3, 'd': 0, 'q': 2, 'P': 2, 'D': 0, 'Q': 2}. Best is trial 14 with value: 0.5896195652343745.\u001b[0m\n"
     ]
    },
    {
     "name": "stdout",
     "output_type": "stream",
     "text": [
      "Optimization terminated successfully.\n",
      "         Current function value: -1.475470\n",
      "         Iterations: 9\n",
      "         Function evaluations: 1071\n"
     ]
    },
    {
     "name": "stderr",
     "output_type": "stream",
     "text": [
      "\u001b[32m[I 2022-03-13 17:42:20,312]\u001b[0m Trial 17 finished with value: 0.5202823604538616 and parameters: {'p': 3, 'd': 0, 'q': 2, 'P': 2, 'D': 0, 'Q': 3}. Best is trial 14 with value: 0.5896195652343745.\u001b[0m\n"
     ]
    },
    {
     "name": "stdout",
     "output_type": "stream",
     "text": [
      "Optimization terminated successfully.\n",
      "         Current function value: -1.421031\n",
      "         Iterations: 7\n",
      "         Function evaluations: 911\n"
     ]
    },
    {
     "name": "stderr",
     "output_type": "stream",
     "text": [
      "\u001b[32m[I 2022-03-13 17:42:36,108]\u001b[0m Trial 18 finished with value: 0.3346658197983673 and parameters: {'p': 4, 'd': 0, 'q': 3, 'P': 2, 'D': 0, 'Q': 2}. Best is trial 14 with value: 0.5896195652343745.\u001b[0m\n"
     ]
    },
    {
     "name": "stdout",
     "output_type": "stream",
     "text": [
      "Optimization terminated successfully.\n",
      "         Current function value: -1.469491\n",
      "         Iterations: 24\n",
      "         Function evaluations: 3563\n",
      "Optimization terminated successfully.\n",
      "         Current function value: -1.460375\n",
      "         Iterations: 19\n",
      "         Function evaluations: 4006\n"
     ]
    },
    {
     "name": "stderr",
     "output_type": "stream",
     "text": [
      "\u001b[32m[I 2022-03-13 17:42:55,303]\u001b[0m Trial 19 finished with value: 0.6074579630685566 and parameters: {'p': 5, 'd': 0, 'q': 8, 'P': 2, 'D': 0, 'Q': 1}. Best is trial 19 with value: 0.6074579630685566.\u001b[0m\n"
     ]
    },
    {
     "name": "stdout",
     "output_type": "stream",
     "text": [
      "Optimization terminated successfully.\n",
      "         Current function value: -1.443913\n",
      "         Iterations: 29\n",
      "         Function evaluations: 7183\n"
     ]
    },
    {
     "name": "stderr",
     "output_type": "stream",
     "text": [
      "\u001b[32m[I 2022-03-13 17:43:45,724]\u001b[0m Trial 20 finished with value: 0.626508704666942 and parameters: {'p': 5, 'd': 0, 'q': 8, 'P': 2, 'D': 1, 'Q': 1}. Best is trial 20 with value: 0.626508704666942.\u001b[0m\n"
     ]
    },
    {
     "name": "stdout",
     "output_type": "stream",
     "text": [
      "Optimization terminated successfully.\n",
      "         Current function value: -1.443913\n",
      "         Iterations: 29\n",
      "         Function evaluations: 7183\n"
     ]
    },
    {
     "name": "stderr",
     "output_type": "stream",
     "text": [
      "\u001b[32m[I 2022-03-13 17:44:34,483]\u001b[0m Trial 21 finished with value: 0.626508704666942 and parameters: {'p': 5, 'd': 0, 'q': 8, 'P': 2, 'D': 1, 'Q': 1}. Best is trial 20 with value: 0.626508704666942.\u001b[0m\n"
     ]
    },
    {
     "name": "stdout",
     "output_type": "stream",
     "text": [
      "Optimization terminated successfully.\n",
      "         Current function value: -1.443913\n",
      "         Iterations: 29\n",
      "         Function evaluations: 7183\n"
     ]
    },
    {
     "name": "stderr",
     "output_type": "stream",
     "text": [
      "\u001b[32m[I 2022-03-13 17:45:24,158]\u001b[0m Trial 22 finished with value: 0.626508704666942 and parameters: {'p': 5, 'd': 0, 'q': 8, 'P': 2, 'D': 1, 'Q': 1}. Best is trial 20 with value: 0.626508704666942.\u001b[0m\n"
     ]
    },
    {
     "name": "stdout",
     "output_type": "stream",
     "text": [
      "Optimization terminated successfully.\n",
      "         Current function value: -1.406029\n",
      "         Iterations: 6\n",
      "         Function evaluations: 1370\n"
     ]
    },
    {
     "name": "stderr",
     "output_type": "stream",
     "text": [
      "\u001b[32m[I 2022-03-13 17:45:32,840]\u001b[0m Trial 23 finished with value: 0.6378712466690752 and parameters: {'p': 6, 'd': 0, 'q': 8, 'P': 2, 'D': 1, 'Q': 1}. Best is trial 23 with value: 0.6378712466690752.\u001b[0m\n"
     ]
    },
    {
     "name": "stdout",
     "output_type": "stream",
     "text": [
      "Optimization terminated successfully.\n",
      "         Current function value: -1.358387\n",
      "         Iterations: 11\n",
      "         Function evaluations: 2160\n"
     ]
    },
    {
     "name": "stderr",
     "output_type": "stream",
     "text": [
      "\u001b[32m[I 2022-03-13 17:45:43,708]\u001b[0m Trial 24 finished with value: 0.44825978244850473 and parameters: {'p': 6, 'd': 0, 'q': 7, 'P': 2, 'D': 1, 'Q': 0}. Best is trial 23 with value: 0.6378712466690752.\u001b[0m\n"
     ]
    },
    {
     "name": "stdout",
     "output_type": "stream",
     "text": [
      "Optimization terminated successfully.\n",
      "         Current function value: -1.448738\n",
      "         Iterations: 13\n",
      "         Function evaluations: 3015\n"
     ]
    },
    {
     "name": "stderr",
     "output_type": "stream",
     "text": [
      "\u001b[32m[I 2022-03-13 17:46:00,470]\u001b[0m Trial 25 finished with value: 0.6611693227448079 and parameters: {'p': 7, 'd': 0, 'q': 8, 'P': 1, 'D': 1, 'Q': 1}. Best is trial 25 with value: 0.6611693227448079.\u001b[0m\n"
     ]
    },
    {
     "name": "stdout",
     "output_type": "stream",
     "text": [
      "Optimization terminated successfully.\n",
      "         Current function value: -1.436407\n",
      "         Iterations: 5\n",
      "         Function evaluations: 994\n"
     ]
    },
    {
     "name": "stderr",
     "output_type": "stream",
     "text": [
      "\u001b[32m[I 2022-03-13 17:46:05,341]\u001b[0m Trial 26 finished with value: 0.6469670233624242 and parameters: {'p': 7, 'd': 0, 'q': 7, 'P': 1, 'D': 1, 'Q': 1}. Best is trial 25 with value: 0.6611693227448079.\u001b[0m\n"
     ]
    },
    {
     "name": "stdout",
     "output_type": "stream",
     "text": [
      "Optimization terminated successfully.\n",
      "         Current function value: -1.405546\n",
      "         Iterations: 18\n",
      "         Function evaluations: 3840\n"
     ]
    },
    {
     "name": "stderr",
     "output_type": "stream",
     "text": [
      "\u001b[32m[I 2022-03-13 17:46:20,653]\u001b[0m Trial 27 finished with value: 0.3514224935768695 and parameters: {'p': 8, 'd': 0, 'q': 7, 'P': 1, 'D': 1, 'Q': 0}. Best is trial 25 with value: 0.6611693227448079.\u001b[0m\n"
     ]
    },
    {
     "name": "stdout",
     "output_type": "stream",
     "text": [
      "Optimization terminated successfully.\n",
      "         Current function value: -1.436407\n",
      "         Iterations: 5\n",
      "         Function evaluations: 994\n"
     ]
    },
    {
     "name": "stderr",
     "output_type": "stream",
     "text": [
      "\u001b[32m[I 2022-03-13 17:46:25,438]\u001b[0m Trial 28 finished with value: 0.6469670233624242 and parameters: {'p': 7, 'd': 0, 'q': 7, 'P': 1, 'D': 1, 'Q': 1}. Best is trial 25 with value: 0.6611693227448079.\u001b[0m\n"
     ]
    },
    {
     "name": "stdout",
     "output_type": "stream",
     "text": [
      "Optimization terminated successfully.\n",
      "         Current function value: -1.424624\n",
      "         Iterations: 36\n",
      "         Function evaluations: 6262\n"
     ]
    },
    {
     "name": "stderr",
     "output_type": "stream",
     "text": [
      "\u001b[32m[I 2022-03-13 17:46:57,052]\u001b[0m Trial 29 finished with value: 0.5203582241463728 and parameters: {'p': 7, 'd': 0, 'q': 5, 'P': 0, 'D': 1, 'Q': 1}. Best is trial 25 with value: 0.6611693227448079.\u001b[0m\n",
      "\u001b[32m[I 2022-03-13 17:47:05,866]\u001b[0m Trial 30 finished with value: 0.27925441737454204 and parameters: {'p': 7, 'd': 0, 'q': 7, 'P': 0, 'D': 1, 'Q': 0}. Best is trial 25 with value: 0.6611693227448079.\u001b[0m\n"
     ]
    },
    {
     "name": "stdout",
     "output_type": "stream",
     "text": [
      "Optimization terminated successfully.\n",
      "         Current function value: -1.331136\n",
      "         Iterations: 16\n",
      "         Function evaluations: 2807\n",
      "Optimization terminated successfully.\n",
      "         Current function value: -1.436407\n",
      "         Iterations: 5\n",
      "         Function evaluations: 994\n"
     ]
    },
    {
     "name": "stderr",
     "output_type": "stream",
     "text": [
      "\u001b[32m[I 2022-03-13 17:47:10,655]\u001b[0m Trial 31 finished with value: 0.6469670233624242 and parameters: {'p': 7, 'd': 0, 'q': 7, 'P': 1, 'D': 1, 'Q': 1}. Best is trial 25 with value: 0.6611693227448079.\u001b[0m\n"
     ]
    },
    {
     "name": "stdout",
     "output_type": "stream",
     "text": [
      "Optimization terminated successfully.\n",
      "         Current function value: -1.450067\n",
      "         Iterations: 11\n",
      "         Function evaluations: 2400\n"
     ]
    },
    {
     "name": "stderr",
     "output_type": "stream",
     "text": [
      "\u001b[32m[I 2022-03-13 17:47:22,794]\u001b[0m Trial 32 finished with value: 0.6441849820204715 and parameters: {'p': 8, 'd': 0, 'q': 7, 'P': 1, 'D': 1, 'Q': 1}. Best is trial 25 with value: 0.6611693227448079.\u001b[0m\n"
     ]
    },
    {
     "name": "stdout",
     "output_type": "stream",
     "text": [
      "Optimization terminated successfully.\n",
      "         Current function value: -1.450774\n",
      "         Iterations: 12\n",
      "         Function evaluations: 2310\n"
     ]
    },
    {
     "name": "stderr",
     "output_type": "stream",
     "text": [
      "\u001b[32m[I 2022-03-13 17:47:34,975]\u001b[0m Trial 33 finished with value: 0.6401042977737226 and parameters: {'p': 7, 'd': 0, 'q': 6, 'P': 1, 'D': 1, 'Q': 1}. Best is trial 25 with value: 0.6611693227448079.\u001b[0m\n"
     ]
    },
    {
     "name": "stdout",
     "output_type": "stream",
     "text": [
      "Optimization terminated successfully.\n",
      "         Current function value: -1.329545\n",
      "         Iterations: 17\n",
      "         Function evaluations: 3225\n"
     ]
    },
    {
     "name": "stderr",
     "output_type": "stream",
     "text": [
      "\u001b[32m[I 2022-03-13 17:47:52,310]\u001b[0m Trial 34 finished with value: 0.3592946520187388 and parameters: {'p': 7, 'd': 0, 'q': 5, 'P': 1, 'D': 1, 'Q': 1}. Best is trial 25 with value: 0.6611693227448079.\u001b[0m\n"
     ]
    },
    {
     "name": "stdout",
     "output_type": "stream",
     "text": [
      "Optimization terminated successfully.\n",
      "         Current function value: -1.477030\n",
      "         Iterations: 15\n",
      "         Function evaluations: 2932\n"
     ]
    },
    {
     "name": "stderr",
     "output_type": "stream",
     "text": [
      "\u001b[32m[I 2022-03-13 17:48:08,439]\u001b[0m Trial 35 finished with value: 0.6305406329659231 and parameters: {'p': 8, 'd': 0, 'q': 6, 'P': 0, 'D': 1, 'Q': 1}. Best is trial 25 with value: 0.6611693227448079.\u001b[0m\n",
      "\u001b[32m[I 2022-03-13 17:48:13,218]\u001b[0m Trial 36 finished with value: 0.376149819245829 and parameters: {'p': 6, 'd': 0, 'q': 6, 'P': 1, 'D': 1, 'Q': 0}. Best is trial 25 with value: 0.6611693227448079.\u001b[0m\n"
     ]
    },
    {
     "name": "stdout",
     "output_type": "stream",
     "text": [
      "Optimization terminated successfully.\n",
      "         Current function value: -1.387509\n",
      "         Iterations: 8\n",
      "         Function evaluations: 1312\n",
      "Optimization terminated successfully.\n",
      "         Current function value: -1.440521\n",
      "         Iterations: 15\n",
      "         Function evaluations: 3080\n"
     ]
    },
    {
     "name": "stderr",
     "output_type": "stream",
     "text": [
      "\u001b[32m[I 2022-03-13 17:48:31,049]\u001b[0m Trial 37 finished with value: 0.5179966292390272 and parameters: {'p': 7, 'd': 1, 'q': 7, 'P': 1, 'D': 1, 'Q': 1}. Best is trial 25 with value: 0.6611693227448079.\u001b[0m\n"
     ]
    },
    {
     "name": "stdout",
     "output_type": "stream",
     "text": [
      "Optimization terminated successfully.\n",
      "         Current function value: -1.405546\n",
      "         Iterations: 18\n",
      "         Function evaluations: 3840\n"
     ]
    },
    {
     "name": "stderr",
     "output_type": "stream",
     "text": [
      "\u001b[32m[I 2022-03-13 17:48:46,387]\u001b[0m Trial 38 finished with value: 0.3514224935768695 and parameters: {'p': 8, 'd': 0, 'q': 7, 'P': 1, 'D': 1, 'Q': 0}. Best is trial 25 with value: 0.6611693227448079.\u001b[0m\n"
     ]
    },
    {
     "name": "stdout",
     "output_type": "stream",
     "text": [
      "Optimization terminated successfully.\n",
      "         Current function value: -1.469026\n",
      "         Iterations: 19\n",
      "         Function evaluations: 4145\n"
     ]
    },
    {
     "name": "stderr",
     "output_type": "stream",
     "text": [
      "\u001b[32m[I 2022-03-13 17:49:09,992]\u001b[0m Trial 39 finished with value: 0.6226815777462569 and parameters: {'p': 6, 'd': 0, 'q': 8, 'P': 1, 'D': 1, 'Q': 1}. Best is trial 25 with value: 0.6611693227448079.\u001b[0m\n"
     ]
    },
    {
     "name": "stdout",
     "output_type": "stream",
     "text": [
      "Optimization terminated successfully.\n",
      "         Current function value: -1.460531\n",
      "         Iterations: 16\n",
      "         Function evaluations: 2943\n"
     ]
    },
    {
     "name": "stderr",
     "output_type": "stream",
     "text": [
      "\u001b[32m[I 2022-03-13 17:49:25,219]\u001b[0m Trial 40 finished with value: 0.5339593125921868 and parameters: {'p': 7, 'd': 1, 'q': 6, 'P': 0, 'D': 1, 'Q': 1}. Best is trial 25 with value: 0.6611693227448079.\u001b[0m\n"
     ]
    },
    {
     "name": "stdout",
     "output_type": "stream",
     "text": [
      "Optimization terminated successfully.\n",
      "         Current function value: -1.450067\n",
      "         Iterations: 11\n",
      "         Function evaluations: 2400\n"
     ]
    },
    {
     "name": "stderr",
     "output_type": "stream",
     "text": [
      "\u001b[32m[I 2022-03-13 17:49:37,198]\u001b[0m Trial 41 finished with value: 0.6441849820204715 and parameters: {'p': 8, 'd': 0, 'q': 7, 'P': 1, 'D': 1, 'Q': 1}. Best is trial 25 with value: 0.6611693227448079.\u001b[0m\n"
     ]
    },
    {
     "name": "stdout",
     "output_type": "stream",
     "text": [
      "Optimization terminated successfully.\n",
      "         Current function value: -1.450067\n",
      "         Iterations: 11\n",
      "         Function evaluations: 2400\n"
     ]
    },
    {
     "name": "stderr",
     "output_type": "stream",
     "text": [
      "\u001b[32m[I 2022-03-13 17:49:49,264]\u001b[0m Trial 42 finished with value: 0.6441849820204715 and parameters: {'p': 8, 'd': 0, 'q': 7, 'P': 1, 'D': 1, 'Q': 1}. Best is trial 25 with value: 0.6611693227448079.\u001b[0m\n"
     ]
    },
    {
     "name": "stdout",
     "output_type": "stream",
     "text": [
      "Optimization terminated successfully.\n",
      "         Current function value: -1.407753\n",
      "         Iterations: 51\n",
      "         Function evaluations: 11061\n"
     ]
    },
    {
     "name": "stderr",
     "output_type": "stream",
     "text": [
      "\u001b[32m[I 2022-03-13 17:50:45,693]\u001b[0m Trial 43 finished with value: 0.6155486049454781 and parameters: {'p': 8, 'd': 0, 'q': 5, 'P': 1, 'D': 1, 'Q': 1}. Best is trial 25 with value: 0.6611693227448079.\u001b[0m\n"
     ]
    },
    {
     "name": "stdout",
     "output_type": "stream",
     "text": [
      "Optimization terminated successfully.\n",
      "         Current function value: -1.436407\n",
      "         Iterations: 5\n",
      "         Function evaluations: 994\n"
     ]
    },
    {
     "name": "stderr",
     "output_type": "stream",
     "text": [
      "\u001b[32m[I 2022-03-13 17:50:50,729]\u001b[0m Trial 44 finished with value: 0.6469670233624242 and parameters: {'p': 7, 'd': 0, 'q': 7, 'P': 1, 'D': 1, 'Q': 1}. Best is trial 25 with value: 0.6611693227448079.\u001b[0m\n"
     ]
    },
    {
     "name": "stdout",
     "output_type": "stream",
     "text": [
      "Optimization terminated successfully.\n",
      "         Current function value: -1.408040\n",
      "         Iterations: 14\n",
      "         Function evaluations: 2466\n"
     ]
    },
    {
     "name": "stderr",
     "output_type": "stream",
     "text": [
      "\u001b[32m[I 2022-03-13 17:51:01,415]\u001b[0m Trial 45 finished with value: 0.44412120417432266 and parameters: {'p': 7, 'd': 0, 'q': 6, 'P': 1, 'D': 1, 'Q': 0}. Best is trial 25 with value: 0.6611693227448079.\u001b[0m\n"
     ]
    },
    {
     "name": "stdout",
     "output_type": "stream",
     "text": [
      "Optimization terminated successfully.\n",
      "         Current function value: -1.469026\n",
      "         Iterations: 19\n",
      "         Function evaluations: 4145\n"
     ]
    },
    {
     "name": "stderr",
     "output_type": "stream",
     "text": [
      "\u001b[32m[I 2022-03-13 17:51:24,604]\u001b[0m Trial 46 finished with value: 0.6226815777462569 and parameters: {'p': 6, 'd': 0, 'q': 8, 'P': 1, 'D': 1, 'Q': 1}. Best is trial 25 with value: 0.6611693227448079.\u001b[0m\n"
     ]
    },
    {
     "name": "stdout",
     "output_type": "stream",
     "text": [
      "Optimization terminated successfully.\n",
      "         Current function value: -1.452242\n",
      "         Iterations: 7\n",
      "         Function evaluations: 1352\n"
     ]
    },
    {
     "name": "stderr",
     "output_type": "stream",
     "text": [
      "\u001b[32m[I 2022-03-13 17:51:31,716]\u001b[0m Trial 47 finished with value: 0.5138152218699832 and parameters: {'p': 7, 'd': 0, 'q': 7, 'P': 0, 'D': 1, 'Q': 1}. Best is trial 25 with value: 0.6611693227448079.\u001b[0m\n"
     ]
    },
    {
     "name": "stdout",
     "output_type": "stream",
     "text": [
      "Optimization terminated successfully.\n",
      "         Current function value: -1.402166\n",
      "         Iterations: 5\n",
      "         Function evaluations: 1097\n"
     ]
    },
    {
     "name": "stderr",
     "output_type": "stream",
     "text": [
      "\u001b[32m[I 2022-03-13 17:51:41,843]\u001b[0m Trial 48 finished with value: 0.5073351179886374 and parameters: {'p': 6, 'd': 1, 'q': 8, 'P': 1, 'D': 1, 'Q': 2}. Best is trial 25 with value: 0.6611693227448079.\u001b[0m\n"
     ]
    },
    {
     "name": "stdout",
     "output_type": "stream",
     "text": [
      "Optimization terminated successfully.\n",
      "         Current function value: -1.447796\n",
      "         Iterations: 3\n",
      "         Function evaluations: 445\n"
     ]
    },
    {
     "name": "stderr",
     "output_type": "stream",
     "text": [
      "\u001b[32m[I 2022-03-13 17:51:44,492]\u001b[0m Trial 49 finished with value: 0.6398008801250608 and parameters: {'p': 5, 'd': 0, 'q': 6, 'P': 0, 'D': 1, 'Q': 1}. Best is trial 25 with value: 0.6611693227448079.\u001b[0m\n",
      "\u001b[32m[I 2022-03-13 17:51:44,501]\u001b[0m A new study created in memory with name: no-name-d12f5c79-8b97-483e-9543-cb163be14940\u001b[0m\n"
     ]
    },
    {
     "name": "stdout",
     "output_type": "stream",
     "text": [
      "Optimization terminated successfully.\n",
      "         Current function value: -1.524418\n",
      "         Iterations: 3\n",
      "         Function evaluations: 508\n"
     ]
    },
    {
     "name": "stderr",
     "output_type": "stream",
     "text": [
      "\u001b[32m[I 2022-03-13 17:51:47,207]\u001b[0m Trial 0 finished with value: 0.7630108862275364 and parameters: {'p': 6, 'd': 0, 'q': 7, 'P': 0, 'D': 1, 'Q': 1}. Best is trial 0 with value: 0.7630108862275364.\u001b[0m\n",
      "\u001b[32m[I 2022-03-13 17:51:48,128]\u001b[0m Trial 1 finished with value: 0.6771087459656466 and parameters: {'p': 4, 'd': 0, 'q': 1, 'P': 3, 'D': 0, 'Q': 0}. Best is trial 0 with value: 0.7630108862275364.\u001b[0m\n"
     ]
    },
    {
     "name": "stdout",
     "output_type": "stream",
     "text": [
      "Optimization terminated successfully.\n",
      "         Current function value: -1.442001\n",
      "         Iterations: 3\n",
      "         Function evaluations: 295\n"
     ]
    },
    {
     "name": "stderr",
     "output_type": "stream",
     "text": [
      "\u001b[32m[I 2022-03-13 17:51:49,617]\u001b[0m Trial 2 finished with value: 0.7703451972913484 and parameters: {'p': 7, 'd': 0, 'q': 1, 'P': 0, 'D': 1, 'Q': 1}. Best is trial 2 with value: 0.7703451972913484.\u001b[0m\n"
     ]
    },
    {
     "name": "stdout",
     "output_type": "stream",
     "text": [
      "Optimization terminated successfully.\n",
      "         Current function value: -1.550419\n",
      "         Iterations: 3\n",
      "         Function evaluations: 335\n"
     ]
    },
    {
     "name": "stderr",
     "output_type": "stream",
     "text": [
      "\u001b[32m[I 2022-03-13 17:51:50,522]\u001b[0m Trial 3 finished with value: 0.41064196067359815 and parameters: {'p': 6, 'd': 1, 'q': 5, 'P': 0, 'D': 0, 'Q': 0}. Best is trial 2 with value: 0.7703451972913484.\u001b[0m\n"
     ]
    },
    {
     "name": "stdout",
     "output_type": "stream",
     "text": [
      "Optimization terminated successfully.\n",
      "         Current function value: -1.443127\n",
      "         Iterations: 10\n",
      "         Function evaluations: 1550\n"
     ]
    },
    {
     "name": "stderr",
     "output_type": "stream",
     "text": [
      "\u001b[32m[I 2022-03-13 17:51:56,068]\u001b[0m Trial 4 finished with value: 0.7442905666707085 and parameters: {'p': 6, 'd': 0, 'q': 4, 'P': 1, 'D': 1, 'Q': 1}. Best is trial 2 with value: 0.7703451972913484.\u001b[0m\n"
     ]
    },
    {
     "name": "stdout",
     "output_type": "stream",
     "text": [
      "Optimization terminated successfully.\n",
      "         Current function value: -1.529510\n",
      "         Iterations: 9\n",
      "         Function evaluations: 1430\n",
      "Optimization terminated successfully.\n",
      "         Current function value: -1.391232\n",
      "         Iterations: 13\n",
      "         Function evaluations: 2054\n"
     ]
    },
    {
     "name": "stderr",
     "output_type": "stream",
     "text": [
      "\u001b[32m[I 2022-03-13 17:52:16,031]\u001b[0m Trial 5 finished with value: 0.6981670190226674 and parameters: {'p': 6, 'd': 0, 'q': 3, 'P': 3, 'D': 1, 'Q': 0}. Best is trial 2 with value: 0.7703451972913484.\u001b[0m\n",
      "\u001b[32m[I 2022-03-13 17:52:21,130]\u001b[0m Trial 6 finished with value: 0.6284359279786093 and parameters: {'p': 5, 'd': 0, 'q': 3, 'P': 1, 'D': 1, 'Q': 0}. Best is trial 2 with value: 0.7703451972913484.\u001b[0m\n"
     ]
    },
    {
     "name": "stdout",
     "output_type": "stream",
     "text": [
      "Optimization terminated successfully.\n",
      "         Current function value: -1.479982\n",
      "         Iterations: 14\n",
      "         Function evaluations: 1709\n",
      "Optimization terminated successfully.\n",
      "         Current function value: -1.455298\n",
      "         Iterations: 13\n",
      "         Function evaluations: 2828\n"
     ]
    },
    {
     "name": "stderr",
     "output_type": "stream",
     "text": [
      "\u001b[32m[I 2022-03-13 17:52:36,336]\u001b[0m Trial 7 finished with value: 0.7089600495836594 and parameters: {'p': 8, 'd': 0, 'q': 7, 'P': 2, 'D': 1, 'Q': 0}. Best is trial 2 with value: 0.7703451972913484.\u001b[0m\n"
     ]
    },
    {
     "name": "stdout",
     "output_type": "stream",
     "text": [
      "Optimization terminated successfully.\n",
      "         Current function value: -1.452814\n",
      "         Iterations: 5\n",
      "         Function evaluations: 859\n"
     ]
    },
    {
     "name": "stderr",
     "output_type": "stream",
     "text": [
      "\u001b[32m[I 2022-03-13 17:52:43,636]\u001b[0m Trial 8 finished with value: 0.7032545386910275 and parameters: {'p': 2, 'd': 1, 'q': 5, 'P': 2, 'D': 0, 'Q': 3}. Best is trial 2 with value: 0.7703451972913484.\u001b[0m\n",
      "\u001b[32m[I 2022-03-13 17:52:44,240]\u001b[0m Trial 9 finished with value: 0.4146615453496405 and parameters: {'p': 7, 'd': 0, 'q': 2, 'P': 1, 'D': 0, 'Q': 0}. Best is trial 2 with value: 0.7703451972913484.\u001b[0m\n"
     ]
    },
    {
     "name": "stdout",
     "output_type": "stream",
     "text": [
      "Optimization terminated successfully.\n",
      "         Current function value: -1.356448\n",
      "         Iterations: 4\n",
      "         Function evaluations: 452\n"
     ]
    },
    {
     "name": "stderr",
     "output_type": "stream",
     "text": [
      "\u001b[32m[I 2022-03-13 17:52:46,287]\u001b[0m Trial 10 finished with value: -0.3604127694259385 and parameters: {'p': 1, 'd': 1, 'q': 0, 'P': 0, 'D': 1, 'Q': 3}. Best is trial 2 with value: 0.7703451972913484.\u001b[0m\n"
     ]
    },
    {
     "name": "stdout",
     "output_type": "stream",
     "text": [
      "Optimization terminated successfully.\n",
      "         Current function value: -1.238642\n",
      "         Iterations: 3\n",
      "         Function evaluations: 198\n",
      "Optimization terminated successfully.\n",
      "         Current function value: -1.476939\n",
      "         Iterations: 15\n",
      "         Function evaluations: 3481\n"
     ]
    },
    {
     "name": "stderr",
     "output_type": "stream",
     "text": [
      "\u001b[32m[I 2022-03-13 17:53:13,297]\u001b[0m Trial 11 finished with value: 0.7618576672508944 and parameters: {'p': 8, 'd': 0, 'q': 8, 'P': 0, 'D': 1, 'Q': 2}. Best is trial 2 with value: 0.7703451972913484.\u001b[0m\n",
      "\u001b[32m[I 2022-03-13 17:53:17,506]\u001b[0m Trial 12 finished with value: 0.7629692453080897 and parameters: {'p': 4, 'd': 0, 'q': 6, 'P': 0, 'D': 1, 'Q': 1}. Best is trial 2 with value: 0.7703451972913484.\u001b[0m\n"
     ]
    },
    {
     "name": "stdout",
     "output_type": "stream",
     "text": [
      "Optimization terminated successfully.\n",
      "         Current function value: -1.525980\n",
      "         Iterations: 5\n",
      "         Function evaluations: 730\n"
     ]
    },
    {
     "name": "stderr",
     "output_type": "stream",
     "text": [
      "\u001b[32m[I 2022-03-13 17:53:20,365]\u001b[0m Trial 13 finished with value: 0.7692895656928912 and parameters: {'p': 7, 'd': 0, 'q': 0, 'P': 0, 'D': 1, 'Q': 2}. Best is trial 2 with value: 0.7703451972913484.\u001b[0m\n"
     ]
    },
    {
     "name": "stdout",
     "output_type": "stream",
     "text": [
      "Optimization terminated successfully.\n",
      "         Current function value: -1.502008\n",
      "         Iterations: 4\n",
      "         Function evaluations: 487\n"
     ]
    },
    {
     "name": "stderr",
     "output_type": "stream",
     "text": [
      "\u001b[32m[I 2022-03-13 17:53:21,941]\u001b[0m Trial 14 finished with value: 0.22248051494369814 and parameters: {'p': 3, 'd': 1, 'q': 0, 'P': 1, 'D': 1, 'Q': 2}. Best is trial 2 with value: 0.7703451972913484.\u001b[0m\n"
     ]
    },
    {
     "name": "stdout",
     "output_type": "stream",
     "text": [
      "Optimization terminated successfully.\n",
      "         Current function value: -1.367418\n",
      "         Iterations: 3\n",
      "         Function evaluations: 249\n"
     ]
    },
    {
     "name": "stderr",
     "output_type": "stream",
     "text": [
      "\u001b[32m[I 2022-03-13 17:53:23,354]\u001b[0m Trial 15 finished with value: 0.7657770342772974 and parameters: {'p': 0, 'd': 0, 'q': 1, 'P': 0, 'D': 1, 'Q': 2}. Best is trial 2 with value: 0.7703451972913484.\u001b[0m\n"
     ]
    },
    {
     "name": "stdout",
     "output_type": "stream",
     "text": [
      "Optimization terminated successfully.\n",
      "         Current function value: -1.475062\n",
      "         Iterations: 4\n",
      "         Function evaluations: 227\n",
      "Optimization terminated successfully.\n",
      "         Current function value: -1.466379\n",
      "         Iterations: 6\n",
      "         Function evaluations: 1067\n"
     ]
    },
    {
     "name": "stderr",
     "output_type": "stream",
     "text": [
      "\u001b[32m[I 2022-03-13 17:53:31,166]\u001b[0m Trial 16 finished with value: 0.7634300736158124 and parameters: {'p': 8, 'd': 0, 'q': 1, 'P': 2, 'D': 1, 'Q': 2}. Best is trial 2 with value: 0.7703451972913484.\u001b[0m\n",
      "\u001b[32m[I 2022-03-13 17:53:33,999]\u001b[0m Trial 17 finished with value: 0.7193009243142019 and parameters: {'p': 7, 'd': 1, 'q': 2, 'P': 1, 'D': 0, 'Q': 1}. Best is trial 2 with value: 0.7703451972913484.\u001b[0m\n"
     ]
    },
    {
     "name": "stdout",
     "output_type": "stream",
     "text": [
      "Optimization terminated successfully.\n",
      "         Current function value: -1.567591\n",
      "         Iterations: 6\n",
      "         Function evaluations: 823\n",
      "Optimization terminated successfully.\n",
      "         Current function value: -1.425942\n",
      "         Iterations: 4\n",
      "         Function evaluations: 448\n"
     ]
    },
    {
     "name": "stderr",
     "output_type": "stream",
     "text": [
      "\u001b[32m[I 2022-03-13 17:53:38,052]\u001b[0m Trial 18 finished with value: 0.759874331342951 and parameters: {'p': 5, 'd': 0, 'q': 0, 'P': 0, 'D': 1, 'Q': 3}. Best is trial 2 with value: 0.7703451972913484.\u001b[0m\n"
     ]
    },
    {
     "name": "stdout",
     "output_type": "stream",
     "text": [
      "Optimization terminated successfully.\n",
      "         Current function value: -1.493444\n",
      "         Iterations: 3\n",
      "         Function evaluations: 426\n"
     ]
    },
    {
     "name": "stderr",
     "output_type": "stream",
     "text": [
      "\u001b[32m[I 2022-03-13 17:53:40,944]\u001b[0m Trial 19 finished with value: 0.7663711047165178 and parameters: {'p': 7, 'd': 0, 'q': 2, 'P': 1, 'D': 1, 'Q': 2}. Best is trial 2 with value: 0.7703451972913484.\u001b[0m\n",
      "\u001b[32m[I 2022-03-13 17:53:47,234]\u001b[0m Trial 20 finished with value: 0.16984543076608305 and parameters: {'p': 5, 'd': 1, 'q': 3, 'P': 0, 'D': 0, 'Q': 1}. Best is trial 2 with value: 0.7703451972913484.\u001b[0m\n"
     ]
    },
    {
     "name": "stdout",
     "output_type": "stream",
     "text": [
      "Optimization terminated successfully.\n",
      "         Current function value: -1.320235\n",
      "         Iterations: 18\n",
      "         Function evaluations: 2118\n",
      "Optimization terminated successfully.\n",
      "         Current function value: -1.493444\n",
      "         Iterations: 3\n",
      "         Function evaluations: 426\n"
     ]
    },
    {
     "name": "stderr",
     "output_type": "stream",
     "text": [
      "\u001b[32m[I 2022-03-13 17:53:50,050]\u001b[0m Trial 21 finished with value: 0.7663711047165178 and parameters: {'p': 7, 'd': 0, 'q': 2, 'P': 1, 'D': 1, 'Q': 2}. Best is trial 2 with value: 0.7703451972913484.\u001b[0m\n",
      "\u001b[32m[I 2022-03-13 17:53:52,541]\u001b[0m Trial 22 finished with value: 0.7659261816854177 and parameters: {'p': 7, 'd': 0, 'q': 1, 'P': 1, 'D': 1, 'Q': 2}. Best is trial 2 with value: 0.7703451972913484.\u001b[0m\n"
     ]
    },
    {
     "name": "stdout",
     "output_type": "stream",
     "text": [
      "Optimization terminated successfully.\n",
      "         Current function value: -1.499709\n",
      "         Iterations: 3\n",
      "         Function evaluations: 412\n"
     ]
    },
    {
     "name": "stderr",
     "output_type": "stream",
     "text": [
      "\u001b[32m[I 2022-03-13 17:53:55,307]\u001b[0m Trial 23 finished with value: 0.7692206360146499 and parameters: {'p': 8, 'd': 0, 'q': 0, 'P': 0, 'D': 1, 'Q': 2}. Best is trial 2 with value: 0.7703451972913484.\u001b[0m\n"
     ]
    },
    {
     "name": "stdout",
     "output_type": "stream",
     "text": [
      "Optimization terminated successfully.\n",
      "         Current function value: -1.502023\n",
      "         Iterations: 4\n",
      "         Function evaluations: 488\n"
     ]
    },
    {
     "name": "stderr",
     "output_type": "stream",
     "text": [
      "\u001b[32m[I 2022-03-13 17:53:56,877]\u001b[0m Trial 24 finished with value: 0.7698073226763826 and parameters: {'p': 8, 'd': 0, 'q': 0, 'P': 0, 'D': 1, 'Q': 1}. Best is trial 2 with value: 0.7703451972913484.\u001b[0m\n"
     ]
    },
    {
     "name": "stdout",
     "output_type": "stream",
     "text": [
      "Optimization terminated successfully.\n",
      "         Current function value: -1.556227\n",
      "         Iterations: 3\n",
      "         Function evaluations: 338\n"
     ]
    },
    {
     "name": "stderr",
     "output_type": "stream",
     "text": [
      "\u001b[32m[I 2022-03-13 17:53:58,326]\u001b[0m Trial 25 finished with value: 0.7698073226763826 and parameters: {'p': 8, 'd': 0, 'q': 0, 'P': 0, 'D': 1, 'Q': 1}. Best is trial 2 with value: 0.7703451972913484.\u001b[0m\n"
     ]
    },
    {
     "name": "stdout",
     "output_type": "stream",
     "text": [
      "Optimization terminated successfully.\n",
      "         Current function value: -1.556227\n",
      "         Iterations: 3\n",
      "         Function evaluations: 338\n"
     ]
    },
    {
     "name": "stderr",
     "output_type": "stream",
     "text": [
      "\u001b[32m[I 2022-03-13 17:53:59,985]\u001b[0m Trial 26 finished with value: 0.769782238109095 and parameters: {'p': 8, 'd': 0, 'q': 1, 'P': 0, 'D': 1, 'Q': 1}. Best is trial 2 with value: 0.7703451972913484.\u001b[0m\n"
     ]
    },
    {
     "name": "stdout",
     "output_type": "stream",
     "text": [
      "Optimization terminated successfully.\n",
      "         Current function value: -1.550659\n",
      "         Iterations: 3\n",
      "         Function evaluations: 375\n"
     ]
    },
    {
     "name": "stderr",
     "output_type": "stream",
     "text": [
      "\u001b[32m[I 2022-03-13 17:54:01,432]\u001b[0m Trial 27 finished with value: 0.7698073226763826 and parameters: {'p': 8, 'd': 0, 'q': 0, 'P': 0, 'D': 1, 'Q': 1}. Best is trial 2 with value: 0.7703451972913484.\u001b[0m\n"
     ]
    },
    {
     "name": "stdout",
     "output_type": "stream",
     "text": [
      "Optimization terminated successfully.\n",
      "         Current function value: -1.556227\n",
      "         Iterations: 3\n",
      "         Function evaluations: 338\n"
     ]
    },
    {
     "name": "stderr",
     "output_type": "stream",
     "text": [
      "\u001b[32m[I 2022-03-13 17:54:03,945]\u001b[0m Trial 28 finished with value: 0.7541134142799975 and parameters: {'p': 3, 'd': 0, 'q': 1, 'P': 2, 'D': 1, 'Q': 1}. Best is trial 2 with value: 0.7703451972913484.\u001b[0m\n"
     ]
    },
    {
     "name": "stdout",
     "output_type": "stream",
     "text": [
      "Optimization terminated successfully.\n",
      "         Current function value: -1.472363\n",
      "         Iterations: 5\n",
      "         Function evaluations: 465\n"
     ]
    },
    {
     "name": "stderr",
     "output_type": "stream",
     "text": [
      "\u001b[32m[I 2022-03-13 17:54:11,634]\u001b[0m Trial 29 finished with value: 0.7600902163093959 and parameters: {'p': 6, 'd': 0, 'q': 4, 'P': 0, 'D': 1, 'Q': 1}. Best is trial 2 with value: 0.7703451972913484.\u001b[0m\n"
     ]
    },
    {
     "name": "stdout",
     "output_type": "stream",
     "text": [
      "Optimization terminated successfully.\n",
      "         Current function value: -1.546414\n",
      "         Iterations: 11\n",
      "         Function evaluations: 1649\n"
     ]
    },
    {
     "name": "stderr",
     "output_type": "stream",
     "text": [
      "\u001b[32m[I 2022-03-13 17:54:13,655]\u001b[0m Trial 30 finished with value: 0.7699133213079971 and parameters: {'p': 8, 'd': 0, 'q': 2, 'P': 0, 'D': 1, 'Q': 1}. Best is trial 2 with value: 0.7703451972913484.\u001b[0m\n"
     ]
    },
    {
     "name": "stdout",
     "output_type": "stream",
     "text": [
      "Optimization terminated successfully.\n",
      "         Current function value: -1.545131\n",
      "         Iterations: 3\n",
      "         Function evaluations: 406\n"
     ]
    },
    {
     "name": "stderr",
     "output_type": "stream",
     "text": [
      "\u001b[32m[I 2022-03-13 17:54:15,775]\u001b[0m Trial 31 finished with value: 0.7699133213079971 and parameters: {'p': 8, 'd': 0, 'q': 2, 'P': 0, 'D': 1, 'Q': 1}. Best is trial 2 with value: 0.7703451972913484.\u001b[0m\n"
     ]
    },
    {
     "name": "stdout",
     "output_type": "stream",
     "text": [
      "Optimization terminated successfully.\n",
      "         Current function value: -1.545131\n",
      "         Iterations: 3\n",
      "         Function evaluations: 406\n"
     ]
    },
    {
     "name": "stderr",
     "output_type": "stream",
     "text": [
      "\u001b[32m[I 2022-03-13 17:54:17,667]\u001b[0m Trial 32 finished with value: 0.7703307500604516 and parameters: {'p': 7, 'd': 0, 'q': 2, 'P': 0, 'D': 1, 'Q': 1}. Best is trial 2 with value: 0.7703451972913484.\u001b[0m\n"
     ]
    },
    {
     "name": "stdout",
     "output_type": "stream",
     "text": [
      "Optimization terminated successfully.\n",
      "         Current function value: -1.544847\n",
      "         Iterations: 3\n",
      "         Function evaluations: 376\n"
     ]
    },
    {
     "name": "stderr",
     "output_type": "stream",
     "text": [
      "\u001b[32m[I 2022-03-13 17:54:27,034]\u001b[0m Trial 33 finished with value: 0.7529810700903805 and parameters: {'p': 6, 'd': 0, 'q': 3, 'P': 0, 'D': 1, 'Q': 1}. Best is trial 2 with value: 0.7703451972913484.\u001b[0m\n"
     ]
    },
    {
     "name": "stdout",
     "output_type": "stream",
     "text": [
      "Optimization terminated successfully.\n",
      "         Current function value: -1.524899\n",
      "         Iterations: 14\n",
      "         Function evaluations: 2040\n",
      "Optimization terminated successfully.\n",
      "         Current function value: -1.407563\n",
      "         Iterations: 12\n",
      "         Function evaluations: 2284\n"
     ]
    },
    {
     "name": "stderr",
     "output_type": "stream",
     "text": [
      "\u001b[32m[I 2022-03-13 17:54:47,920]\u001b[0m Trial 34 finished with value: 0.7541882574243719 and parameters: {'p': 7, 'd': 0, 'q': 4, 'P': 3, 'D': 1, 'Q': 1}. Best is trial 2 with value: 0.7703451972913484.\u001b[0m\n",
      "\u001b[32m[I 2022-03-13 17:54:48,091]\u001b[0m Trial 35 finished with value: -3.9256384418787755 and parameters: {'p': 6, 'd': 0, 'q': 2, 'P': 0, 'D': 0, 'Q': 0}. Best is trial 2 with value: 0.7703451972913484.\u001b[0m\n"
     ]
    },
    {
     "name": "stdout",
     "output_type": "stream",
     "text": [
      "Optimization terminated successfully.\n",
      "         Current function value: -1.174137\n",
      "         Iterations: 2\n",
      "         Function evaluations: 196\n"
     ]
    },
    {
     "name": "stderr",
     "output_type": "stream",
     "text": [
      "\u001b[32m[I 2022-03-13 17:54:53,259]\u001b[0m Trial 36 finished with value: 0.7444749823818645 and parameters: {'p': 5, 'd': 0, 'q': 3, 'P': 1, 'D': 1, 'Q': 1}. Best is trial 2 with value: 0.7703451972913484.\u001b[0m\n"
     ]
    },
    {
     "name": "stdout",
     "output_type": "stream",
     "text": [
      "Optimization terminated successfully.\n",
      "         Current function value: -1.519134\n",
      "         Iterations: 8\n",
      "         Function evaluations: 1092\n"
     ]
    },
    {
     "name": "stderr",
     "output_type": "stream",
     "text": [
      "\u001b[32m[I 2022-03-13 17:54:53,491]\u001b[0m Trial 37 finished with value: 0.4346778140940406 and parameters: {'p': 6, 'd': 0, 'q': 2, 'P': 0, 'D': 1, 'Q': 0}. Best is trial 2 with value: 0.7703451972913484.\u001b[0m\n"
     ]
    },
    {
     "name": "stdout",
     "output_type": "stream",
     "text": [
      "Optimization terminated successfully.\n",
      "         Current function value: -1.357218\n",
      "         Iterations: 1\n",
      "         Function evaluations: 123\n"
     ]
    },
    {
     "name": "stderr",
     "output_type": "stream",
     "text": [
      "\u001b[32m[I 2022-03-13 17:54:56,473]\u001b[0m Trial 38 finished with value: 0.6150509920978597 and parameters: {'p': 7, 'd': 0, 'q': 3, 'P': 1, 'D': 1, 'Q': 0}. Best is trial 2 with value: 0.7703451972913484.\u001b[0m\n"
     ]
    },
    {
     "name": "stdout",
     "output_type": "stream",
     "text": [
      "Optimization terminated successfully.\n",
      "         Current function value: -1.463451\n",
      "         Iterations: 9\n",
      "         Function evaluations: 1286\n",
      "Optimization terminated successfully.\n",
      "         Current function value: -1.453039\n",
      "         Iterations: 6\n",
      "         Function evaluations: 1158\n"
     ]
    },
    {
     "name": "stderr",
     "output_type": "stream",
     "text": [
      "\u001b[32m[I 2022-03-13 17:55:04,676]\u001b[0m Trial 39 finished with value: 0.7335187527835485 and parameters: {'p': 4, 'd': 1, 'q': 5, 'P': 3, 'D': 0, 'Q': 1}. Best is trial 2 with value: 0.7703451972913484.\u001b[0m\n",
      "\u001b[32m[I 2022-03-13 17:55:04,922]\u001b[0m Trial 40 finished with value: 0.4519272035942039 and parameters: {'p': 8, 'd': 0, 'q': 2, 'P': 0, 'D': 1, 'Q': 0}. Best is trial 2 with value: 0.7703451972913484.\u001b[0m\n"
     ]
    },
    {
     "name": "stdout",
     "output_type": "stream",
     "text": [
      "Optimization terminated successfully.\n",
      "         Current function value: -1.349491\n",
      "         Iterations: 1\n",
      "         Function evaluations: 125\n"
     ]
    },
    {
     "name": "stderr",
     "output_type": "stream",
     "text": [
      "\u001b[32m[I 2022-03-13 17:55:06,640]\u001b[0m Trial 41 finished with value: 0.769782238109095 and parameters: {'p': 8, 'd': 0, 'q': 1, 'P': 0, 'D': 1, 'Q': 1}. Best is trial 2 with value: 0.7703451972913484.\u001b[0m\n"
     ]
    },
    {
     "name": "stdout",
     "output_type": "stream",
     "text": [
      "Optimization terminated successfully.\n",
      "         Current function value: -1.550659\n",
      "         Iterations: 3\n",
      "         Function evaluations: 375\n"
     ]
    },
    {
     "name": "stderr",
     "output_type": "stream",
     "text": [
      "\u001b[32m[I 2022-03-13 17:55:08,166]\u001b[0m Trial 42 finished with value: 0.7703451972913484 and parameters: {'p': 7, 'd': 0, 'q': 1, 'P': 0, 'D': 1, 'Q': 1}. Best is trial 2 with value: 0.7703451972913484.\u001b[0m\n"
     ]
    },
    {
     "name": "stdout",
     "output_type": "stream",
     "text": [
      "Optimization terminated successfully.\n",
      "         Current function value: -1.550419\n",
      "         Iterations: 3\n",
      "         Function evaluations: 335\n"
     ]
    },
    {
     "name": "stderr",
     "output_type": "stream",
     "text": [
      "\u001b[32m[I 2022-03-13 17:55:11,990]\u001b[0m Trial 43 finished with value: 0.7676544673976 and parameters: {'p': 7, 'd': 0, 'q': 4, 'P': 0, 'D': 1, 'Q': 1}. Best is trial 2 with value: 0.7703451972913484.\u001b[0m\n"
     ]
    },
    {
     "name": "stdout",
     "output_type": "stream",
     "text": [
      "Optimization terminated successfully.\n",
      "         Current function value: -1.540295\n",
      "         Iterations: 5\n",
      "         Function evaluations: 766\n"
     ]
    },
    {
     "name": "stderr",
     "output_type": "stream",
     "text": [
      "\u001b[32m[I 2022-03-13 17:55:13,483]\u001b[0m Trial 44 finished with value: 0.7703451972913484 and parameters: {'p': 7, 'd': 0, 'q': 1, 'P': 0, 'D': 1, 'Q': 1}. Best is trial 2 with value: 0.7703451972913484.\u001b[0m\n"
     ]
    },
    {
     "name": "stdout",
     "output_type": "stream",
     "text": [
      "Optimization terminated successfully.\n",
      "         Current function value: -1.550419\n",
      "         Iterations: 3\n",
      "         Function evaluations: 335\n"
     ]
    },
    {
     "name": "stderr",
     "output_type": "stream",
     "text": [
      "\u001b[32m[I 2022-03-13 17:55:14,812]\u001b[0m Trial 45 finished with value: 0.7668699074891614 and parameters: {'p': 6, 'd': 0, 'q': 1, 'P': 0, 'D': 1, 'Q': 1}. Best is trial 2 with value: 0.7703451972913484.\u001b[0m\n"
     ]
    },
    {
     "name": "stdout",
     "output_type": "stream",
     "text": [
      "Optimization terminated successfully.\n",
      "         Current function value: -1.543149\n",
      "         Iterations: 3\n",
      "         Function evaluations: 306\n"
     ]
    },
    {
     "name": "stderr",
     "output_type": "stream",
     "text": [
      "\u001b[32m[I 2022-03-13 17:55:17,016]\u001b[0m Trial 46 finished with value: 0.7595633236388455 and parameters: {'p': 7, 'd': 0, 'q': 1, 'P': 1, 'D': 1, 'Q': 1}. Best is trial 2 with value: 0.7703451972913484.\u001b[0m\n"
     ]
    },
    {
     "name": "stdout",
     "output_type": "stream",
     "text": [
      "Optimization terminated successfully.\n",
      "         Current function value: -1.529857\n",
      "         Iterations: 4\n",
      "         Function evaluations: 495\n"
     ]
    },
    {
     "name": "stderr",
     "output_type": "stream",
     "text": [
      "\u001b[32m[I 2022-03-13 17:55:18,340]\u001b[0m Trial 47 finished with value: 0.7626230714463339 and parameters: {'p': 5, 'd': 0, 'q': 1, 'P': 0, 'D': 1, 'Q': 1}. Best is trial 2 with value: 0.7703451972913484.\u001b[0m\n"
     ]
    },
    {
     "name": "stdout",
     "output_type": "stream",
     "text": [
      "Optimization terminated successfully.\n",
      "         Current function value: -1.541880\n",
      "         Iterations: 3\n",
      "         Function evaluations: 312\n"
     ]
    },
    {
     "name": "stderr",
     "output_type": "stream",
     "text": [
      "\u001b[32m[I 2022-03-13 17:55:18,574]\u001b[0m Trial 48 finished with value: 0.4346778140940406 and parameters: {'p': 6, 'd': 0, 'q': 2, 'P': 0, 'D': 1, 'Q': 0}. Best is trial 2 with value: 0.7703451972913484.\u001b[0m\n"
     ]
    },
    {
     "name": "stdout",
     "output_type": "stream",
     "text": [
      "Optimization terminated successfully.\n",
      "         Current function value: -1.357218\n",
      "         Iterations: 1\n",
      "         Function evaluations: 123\n"
     ]
    },
    {
     "name": "stderr",
     "output_type": "stream",
     "text": [
      "\u001b[32m[I 2022-03-13 17:55:27,271]\u001b[0m Trial 49 finished with value: 0.6498918451313889 and parameters: {'p': 7, 'd': 0, 'q': 8, 'P': 1, 'D': 1, 'Q': 0}. Best is trial 2 with value: 0.7703451972913484.\u001b[0m\n",
      "\u001b[32m[I 2022-03-13 17:55:27,280]\u001b[0m A new study created in memory with name: no-name-f5322622-93ce-4196-913f-f6acbc147272\u001b[0m\n"
     ]
    },
    {
     "name": "stdout",
     "output_type": "stream",
     "text": [
      "Optimization terminated successfully.\n",
      "         Current function value: -1.482737\n",
      "         Iterations: 12\n",
      "         Function evaluations: 2712\n"
     ]
    },
    {
     "name": "stderr",
     "output_type": "stream",
     "text": [
      "\u001b[32m[I 2022-03-13 17:55:27,717]\u001b[0m Trial 0 finished with value: 0.35209469806531135 and parameters: {'p': 0, 'd': 1, 'q': 3, 'P': 0, 'D': 1, 'Q': 0}. Best is trial 0 with value: 0.35209469806531135.\u001b[0m\n"
     ]
    },
    {
     "name": "stdout",
     "output_type": "stream",
     "text": [
      "Optimization terminated successfully.\n",
      "         Current function value: -1.247284\n",
      "         Iterations: 2\n",
      "         Function evaluations: 117\n"
     ]
    },
    {
     "name": "stderr",
     "output_type": "stream",
     "text": [
      "\u001b[32m[I 2022-03-13 17:55:31,163]\u001b[0m Trial 1 finished with value: 0.4785914048439226 and parameters: {'p': 0, 'd': 1, 'q': 4, 'P': 2, 'D': 1, 'Q': 0}. Best is trial 1 with value: 0.4785914048439226.\u001b[0m\n"
     ]
    },
    {
     "name": "stdout",
     "output_type": "stream",
     "text": [
      "Optimization terminated successfully.\n",
      "         Current function value: -1.334047\n",
      "         Iterations: 6\n",
      "         Function evaluations: 613\n",
      "Optimization terminated successfully.\n",
      "         Current function value: -1.387803\n",
      "         Iterations: 10\n",
      "         Function evaluations: 1515\n"
     ]
    },
    {
     "name": "stderr",
     "output_type": "stream",
     "text": [
      "\u001b[32m[I 2022-03-13 17:55:38,327]\u001b[0m Trial 2 finished with value: 0.6002987125352128 and parameters: {'p': 7, 'd': 1, 'q': 2, 'P': 2, 'D': 0, 'Q': 1}. Best is trial 2 with value: 0.6002987125352128.\u001b[0m\n",
      "\u001b[32m[I 2022-03-13 17:55:44,339]\u001b[0m Trial 3 finished with value: 0.653620861239651 and parameters: {'p': 5, 'd': 0, 'q': 6, 'P': 1, 'D': 1, 'Q': 1}. Best is trial 3 with value: 0.653620861239651.\u001b[0m\n"
     ]
    },
    {
     "name": "stdout",
     "output_type": "stream",
     "text": [
      "Optimization terminated successfully.\n",
      "         Current function value: -1.399862\n",
      "         Iterations: 8\n",
      "         Function evaluations: 1347\n",
      "Optimization terminated successfully.\n",
      "         Current function value: -1.284392\n",
      "         Iterations: 12\n",
      "         Function evaluations: 2072\n"
     ]
    },
    {
     "name": "stderr",
     "output_type": "stream",
     "text": [
      "\u001b[32m[I 2022-03-13 17:56:01,801]\u001b[0m Trial 4 finished with value: 0.528804724416249 and parameters: {'p': 5, 'd': 1, 'q': 4, 'P': 3, 'D': 1, 'Q': 0}. Best is trial 3 with value: 0.653620861239651.\u001b[0m\n"
     ]
    },
    {
     "name": "stdout",
     "output_type": "stream",
     "text": [
      "Optimization terminated successfully.\n",
      "         Current function value: -1.355190\n",
      "         Iterations: 8\n",
      "         Function evaluations: 1502\n"
     ]
    },
    {
     "name": "stderr",
     "output_type": "stream",
     "text": [
      "\u001b[32m[I 2022-03-13 17:56:11,715]\u001b[0m Trial 5 finished with value: 0.5667064610124526 and parameters: {'p': 3, 'd': 1, 'q': 5, 'P': 3, 'D': 0, 'Q': 2}. Best is trial 3 with value: 0.653620861239651.\u001b[0m\n"
     ]
    },
    {
     "name": "stdout",
     "output_type": "stream",
     "text": [
      "Optimization terminated successfully.\n",
      "         Current function value: -1.345664\n",
      "         Iterations: 10\n",
      "         Function evaluations: 1670\n"
     ]
    },
    {
     "name": "stderr",
     "output_type": "stream",
     "text": [
      "\u001b[32m[I 2022-03-13 17:56:20,889]\u001b[0m Trial 6 finished with value: 0.5991740022110192 and parameters: {'p': 0, 'd': 1, 'q': 8, 'P': 3, 'D': 0, 'Q': 0}. Best is trial 3 with value: 0.653620861239651.\u001b[0m\n"
     ]
    },
    {
     "name": "stdout",
     "output_type": "stream",
     "text": [
      "Optimization terminated successfully.\n",
      "         Current function value: -1.393779\n",
      "         Iterations: 4\n",
      "         Function evaluations: 736\n"
     ]
    },
    {
     "name": "stderr",
     "output_type": "stream",
     "text": [
      "\u001b[32m[I 2022-03-13 17:56:25,233]\u001b[0m Trial 7 finished with value: 0.6389254772168775 and parameters: {'p': 5, 'd': 1, 'q': 8, 'P': 0, 'D': 1, 'Q': 1}. Best is trial 3 with value: 0.653620861239651.\u001b[0m\n",
      "\u001b[32m[I 2022-03-13 17:56:29,950]\u001b[0m Trial 8 finished with value: 0.5070622794748156 and parameters: {'p': 3, 'd': 0, 'q': 5, 'P': 2, 'D': 1, 'Q': 0}. Best is trial 3 with value: 0.653620861239651.\u001b[0m\n"
     ]
    },
    {
     "name": "stdout",
     "output_type": "stream",
     "text": [
      "Optimization terminated successfully.\n",
      "         Current function value: -1.339804\n",
      "         Iterations: 11\n",
      "         Function evaluations: 1480\n"
     ]
    },
    {
     "name": "stderr",
     "output_type": "stream",
     "text": [
      "\u001b[32m[I 2022-03-13 17:56:37,800]\u001b[0m Trial 9 finished with value: 0.5088765425423447 and parameters: {'p': 4, 'd': 0, 'q': 8, 'P': 3, 'D': 0, 'Q': 0}. Best is trial 3 with value: 0.653620861239651.\u001b[0m\n"
     ]
    },
    {
     "name": "stdout",
     "output_type": "stream",
     "text": [
      "Optimization terminated successfully.\n",
      "         Current function value: -1.338708\n",
      "         Iterations: 11\n",
      "         Function evaluations: 2112\n",
      "Optimization terminated successfully.\n",
      "         Current function value: -1.320218\n",
      "         Iterations: 10\n",
      "         Function evaluations: 2203\n"
     ]
    },
    {
     "name": "stderr",
     "output_type": "stream",
     "text": [
      "\u001b[32m[I 2022-03-13 17:57:03,462]\u001b[0m Trial 10 finished with value: 0.6469690429269379 and parameters: {'p': 8, 'd': 0, 'q': 6, 'P': 1, 'D': 1, 'Q': 3}. Best is trial 3 with value: 0.653620861239651.\u001b[0m\n"
     ]
    },
    {
     "name": "stdout",
     "output_type": "stream",
     "text": [
      "Optimization terminated successfully.\n",
      "         Current function value: -1.320218\n",
      "         Iterations: 10\n",
      "         Function evaluations: 2203\n"
     ]
    },
    {
     "name": "stderr",
     "output_type": "stream",
     "text": [
      "\u001b[32m[I 2022-03-13 17:57:28,820]\u001b[0m Trial 11 finished with value: 0.6469690429269379 and parameters: {'p': 8, 'd': 0, 'q': 6, 'P': 1, 'D': 1, 'Q': 3}. Best is trial 3 with value: 0.653620861239651.\u001b[0m\n"
     ]
    },
    {
     "name": "stdout",
     "output_type": "stream",
     "text": [
      "Optimization terminated successfully.\n",
      "         Current function value: -1.332807\n",
      "         Iterations: 3\n",
      "         Function evaluations: 401\n"
     ]
    },
    {
     "name": "stderr",
     "output_type": "stream",
     "text": [
      "\u001b[32m[I 2022-03-13 17:57:32,598]\u001b[0m Trial 12 finished with value: 0.6530217156190063 and parameters: {'p': 7, 'd': 0, 'q': 0, 'P': 1, 'D': 1, 'Q': 3}. Best is trial 3 with value: 0.653620861239651.\u001b[0m\n",
      "\u001b[32m[I 2022-03-13 17:57:34,750]\u001b[0m Trial 13 finished with value: 0.6573025845960392 and parameters: {'p': 6, 'd': 0, 'q': 0, 'P': 1, 'D': 1, 'Q': 2}. Best is trial 13 with value: 0.6573025845960392.\u001b[0m\n"
     ]
    },
    {
     "name": "stdout",
     "output_type": "stream",
     "text": [
      "Optimization terminated successfully.\n",
      "         Current function value: -1.381239\n",
      "         Iterations: 3\n",
      "         Function evaluations: 363\n"
     ]
    },
    {
     "name": "stderr",
     "output_type": "stream",
     "text": [
      "\u001b[32m[I 2022-03-13 17:57:36,897]\u001b[0m Trial 14 finished with value: 0.6573025845960392 and parameters: {'p': 6, 'd': 0, 'q': 0, 'P': 1, 'D': 1, 'Q': 2}. Best is trial 13 with value: 0.6573025845960392.\u001b[0m\n"
     ]
    },
    {
     "name": "stdout",
     "output_type": "stream",
     "text": [
      "Optimization terminated successfully.\n",
      "         Current function value: -1.381239\n",
      "         Iterations: 3\n",
      "         Function evaluations: 363\n"
     ]
    },
    {
     "name": "stderr",
     "output_type": "stream",
     "text": [
      "\u001b[32m[I 2022-03-13 17:57:38,924]\u001b[0m Trial 15 finished with value: 0.6630846649179579 and parameters: {'p': 6, 'd': 0, 'q': 0, 'P': 0, 'D': 1, 'Q': 2}. Best is trial 15 with value: 0.6630846649179579.\u001b[0m\n"
     ]
    },
    {
     "name": "stdout",
     "output_type": "stream",
     "text": [
      "Optimization terminated successfully.\n",
      "         Current function value: -1.380031\n",
      "         Iterations: 3\n",
      "         Function evaluations: 336\n"
     ]
    },
    {
     "name": "stderr",
     "output_type": "stream",
     "text": [
      "\u001b[32m[I 2022-03-13 17:57:41,180]\u001b[0m Trial 16 finished with value: 0.6628893185706968 and parameters: {'p': 6, 'd': 0, 'q': 1, 'P': 0, 'D': 1, 'Q': 2}. Best is trial 15 with value: 0.6630846649179579.\u001b[0m\n"
     ]
    },
    {
     "name": "stdout",
     "output_type": "stream",
     "text": [
      "Optimization terminated successfully.\n",
      "         Current function value: -1.374622\n",
      "         Iterations: 3\n",
      "         Function evaluations: 372\n"
     ]
    },
    {
     "name": "stderr",
     "output_type": "stream",
     "text": [
      "\u001b[32m[I 2022-03-13 17:57:43,649]\u001b[0m Trial 17 finished with value: -13769197367297.084 and parameters: {'p': 2, 'd': 0, 'q': 2, 'P': 0, 'D': 0, 'Q': 2}. Best is trial 15 with value: 0.6630846649179579.\u001b[0m\n"
     ]
    },
    {
     "name": "stdout",
     "output_type": "stream",
     "text": [
      "Optimization terminated successfully.\n",
      "         Current function value: -0.927052\n",
      "         Iterations: 6\n",
      "         Function evaluations: 534\n"
     ]
    },
    {
     "name": "stderr",
     "output_type": "stream",
     "text": [
      "\u001b[32m[I 2022-03-13 17:57:45,819]\u001b[0m Trial 18 finished with value: 0.6628893185706968 and parameters: {'p': 6, 'd': 0, 'q': 1, 'P': 0, 'D': 1, 'Q': 2}. Best is trial 15 with value: 0.6630846649179579.\u001b[0m\n"
     ]
    },
    {
     "name": "stdout",
     "output_type": "stream",
     "text": [
      "Optimization terminated successfully.\n",
      "         Current function value: -1.374622\n",
      "         Iterations: 3\n",
      "         Function evaluations: 372\n"
     ]
    },
    {
     "name": "stderr",
     "output_type": "stream",
     "text": [
      "\u001b[32m[I 2022-03-13 17:57:47,845]\u001b[0m Trial 19 finished with value: 0.6662023580577153 and parameters: {'p': 7, 'd': 0, 'q': 1, 'P': 0, 'D': 1, 'Q': 1}. Best is trial 19 with value: 0.6662023580577153.\u001b[0m\n"
     ]
    },
    {
     "name": "stdout",
     "output_type": "stream",
     "text": [
      "Optimization terminated successfully.\n",
      "         Current function value: -1.419868\n",
      "         Iterations: 4\n",
      "         Function evaluations: 525\n"
     ]
    },
    {
     "name": "stderr",
     "output_type": "stream",
     "text": [
      "\u001b[32m[I 2022-03-13 17:57:50,338]\u001b[0m Trial 20 finished with value: 0.20220778751471746 and parameters: {'p': 7, 'd': 0, 'q': 2, 'P': 0, 'D': 0, 'Q': 1}. Best is trial 19 with value: 0.6662023580577153.\u001b[0m\n"
     ]
    },
    {
     "name": "stdout",
     "output_type": "stream",
     "text": [
      "Optimization terminated successfully.\n",
      "         Current function value: -1.289037\n",
      "         Iterations: 16\n",
      "         Function evaluations: 2016\n"
     ]
    },
    {
     "name": "stderr",
     "output_type": "stream",
     "text": [
      "\u001b[32m[I 2022-03-13 17:57:52,307]\u001b[0m Trial 21 finished with value: 0.6662023580577153 and parameters: {'p': 7, 'd': 0, 'q': 1, 'P': 0, 'D': 1, 'Q': 1}. Best is trial 19 with value: 0.6662023580577153.\u001b[0m\n"
     ]
    },
    {
     "name": "stdout",
     "output_type": "stream",
     "text": [
      "Optimization terminated successfully.\n",
      "         Current function value: -1.419868\n",
      "         Iterations: 4\n",
      "         Function evaluations: 525\n"
     ]
    },
    {
     "name": "stderr",
     "output_type": "stream",
     "text": [
      "\u001b[32m[I 2022-03-13 17:57:53,886]\u001b[0m Trial 22 finished with value: 0.6684620737779083 and parameters: {'p': 8, 'd': 0, 'q': 1, 'P': 0, 'D': 1, 'Q': 1}. Best is trial 22 with value: 0.6684620737779083.\u001b[0m\n"
     ]
    },
    {
     "name": "stdout",
     "output_type": "stream",
     "text": [
      "Optimization terminated successfully.\n",
      "         Current function value: -1.420509\n",
      "         Iterations: 3\n",
      "         Function evaluations: 410\n"
     ]
    },
    {
     "name": "stderr",
     "output_type": "stream",
     "text": [
      "\u001b[32m[I 2022-03-13 17:57:55,476]\u001b[0m Trial 23 finished with value: 0.6684620737779083 and parameters: {'p': 8, 'd': 0, 'q': 1, 'P': 0, 'D': 1, 'Q': 1}. Best is trial 22 with value: 0.6684620737779083.\u001b[0m\n"
     ]
    },
    {
     "name": "stdout",
     "output_type": "stream",
     "text": [
      "Optimization terminated successfully.\n",
      "         Current function value: -1.420509\n",
      "         Iterations: 3\n",
      "         Function evaluations: 410\n"
     ]
    },
    {
     "name": "stderr",
     "output_type": "stream",
     "text": [
      "\u001b[32m[I 2022-03-13 17:57:59,563]\u001b[0m Trial 24 finished with value: 0.6666976751933564 and parameters: {'p': 8, 'd': 0, 'q': 3, 'P': 0, 'D': 1, 'Q': 1}. Best is trial 22 with value: 0.6684620737779083.\u001b[0m\n"
     ]
    },
    {
     "name": "stdout",
     "output_type": "stream",
     "text": [
      "Optimization terminated successfully.\n",
      "         Current function value: -1.420978\n",
      "         Iterations: 7\n",
      "         Function evaluations: 1034\n"
     ]
    },
    {
     "name": "stderr",
     "output_type": "stream",
     "text": [
      "\u001b[32m[I 2022-03-13 17:58:03,628]\u001b[0m Trial 25 finished with value: 0.6666976751933564 and parameters: {'p': 8, 'd': 0, 'q': 3, 'P': 0, 'D': 1, 'Q': 1}. Best is trial 22 with value: 0.6684620737779083.\u001b[0m\n"
     ]
    },
    {
     "name": "stdout",
     "output_type": "stream",
     "text": [
      "Optimization terminated successfully.\n",
      "         Current function value: -1.420978\n",
      "         Iterations: 7\n",
      "         Function evaluations: 1034\n"
     ]
    },
    {
     "name": "stderr",
     "output_type": "stream",
     "text": [
      "\u001b[32m[I 2022-03-13 17:58:08,227]\u001b[0m Trial 26 finished with value: 0.6573485348120065 and parameters: {'p': 8, 'd': 0, 'q': 3, 'P': 1, 'D': 1, 'Q': 1}. Best is trial 22 with value: 0.6684620737779083.\u001b[0m\n"
     ]
    },
    {
     "name": "stdout",
     "output_type": "stream",
     "text": [
      "Optimization terminated successfully.\n",
      "         Current function value: -1.397381\n",
      "         Iterations: 7\n",
      "         Function evaluations: 1150\n"
     ]
    },
    {
     "name": "stderr",
     "output_type": "stream",
     "text": [
      "\u001b[32m[I 2022-03-13 17:58:09,917]\u001b[0m Trial 27 finished with value: 0.6701681712756655 and parameters: {'p': 8, 'd': 0, 'q': 2, 'P': 0, 'D': 1, 'Q': 1}. Best is trial 27 with value: 0.6701681712756655.\u001b[0m\n"
     ]
    },
    {
     "name": "stdout",
     "output_type": "stream",
     "text": [
      "Optimization terminated successfully.\n",
      "         Current function value: -1.416131\n",
      "         Iterations: 3\n",
      "         Function evaluations: 405\n"
     ]
    },
    {
     "name": "stderr",
     "output_type": "stream",
     "text": [
      "\u001b[32m[I 2022-03-13 17:58:12,970]\u001b[0m Trial 28 finished with value: 0.6510529917956388 and parameters: {'p': 8, 'd': 0, 'q': 2, 'P': 1, 'D': 1, 'Q': 1}. Best is trial 27 with value: 0.6701681712756655.\u001b[0m\n"
     ]
    },
    {
     "name": "stdout",
     "output_type": "stream",
     "text": [
      "Optimization terminated successfully.\n",
      "         Current function value: -1.391265\n",
      "         Iterations: 5\n",
      "         Function evaluations: 747\n"
     ]
    },
    {
     "name": "stderr",
     "output_type": "stream",
     "text": [
      "\u001b[32m[I 2022-03-13 17:58:13,199]\u001b[0m Trial 29 finished with value: 0.35972282884660844 and parameters: {'p': 7, 'd': 0, 'q': 1, 'P': 0, 'D': 1, 'Q': 0}. Best is trial 27 with value: 0.6701681712756655.\u001b[0m\n"
     ]
    },
    {
     "name": "stdout",
     "output_type": "stream",
     "text": [
      "Optimization terminated successfully.\n",
      "         Current function value: -1.252333\n",
      "         Iterations: 1\n",
      "         Function evaluations: 110\n"
     ]
    },
    {
     "name": "stderr",
     "output_type": "stream",
     "text": [
      "\u001b[32m[I 2022-03-13 17:58:15,086]\u001b[0m Trial 30 finished with value: 0.6701681712756655 and parameters: {'p': 8, 'd': 0, 'q': 2, 'P': 0, 'D': 1, 'Q': 1}. Best is trial 27 with value: 0.6701681712756655.\u001b[0m\n"
     ]
    },
    {
     "name": "stdout",
     "output_type": "stream",
     "text": [
      "Optimization terminated successfully.\n",
      "         Current function value: -1.416131\n",
      "         Iterations: 3\n",
      "         Function evaluations: 405\n"
     ]
    },
    {
     "name": "stderr",
     "output_type": "stream",
     "text": [
      "\u001b[32m[I 2022-03-13 17:58:16,821]\u001b[0m Trial 31 finished with value: 0.6701681712756655 and parameters: {'p': 8, 'd': 0, 'q': 2, 'P': 0, 'D': 1, 'Q': 1}. Best is trial 27 with value: 0.6701681712756655.\u001b[0m\n"
     ]
    },
    {
     "name": "stdout",
     "output_type": "stream",
     "text": [
      "Optimization terminated successfully.\n",
      "         Current function value: -1.416131\n",
      "         Iterations: 3\n",
      "         Function evaluations: 405\n"
     ]
    },
    {
     "name": "stderr",
     "output_type": "stream",
     "text": [
      "\u001b[32m[I 2022-03-13 17:58:18,457]\u001b[0m Trial 32 finished with value: 0.6658513488924347 and parameters: {'p': 7, 'd': 0, 'q': 2, 'P': 0, 'D': 1, 'Q': 1}. Best is trial 27 with value: 0.6701681712756655.\u001b[0m\n"
     ]
    },
    {
     "name": "stdout",
     "output_type": "stream",
     "text": [
      "Optimization terminated successfully.\n",
      "         Current function value: -1.415383\n",
      "         Iterations: 3\n",
      "         Function evaluations: 385\n"
     ]
    },
    {
     "name": "stderr",
     "output_type": "stream",
     "text": [
      "\u001b[32m[I 2022-03-13 17:58:28,027]\u001b[0m Trial 33 finished with value: 0.6669226259879356 and parameters: {'p': 8, 'd': 0, 'q': 4, 'P': 0, 'D': 1, 'Q': 1}. Best is trial 27 with value: 0.6701681712756655.\u001b[0m\n"
     ]
    },
    {
     "name": "stdout",
     "output_type": "stream",
     "text": [
      "Optimization terminated successfully.\n",
      "         Current function value: -1.413884\n",
      "         Iterations: 11\n",
      "         Function evaluations: 2009\n"
     ]
    },
    {
     "name": "stderr",
     "output_type": "stream",
     "text": [
      "\u001b[32m[I 2022-03-13 17:58:28,151]\u001b[0m Trial 34 finished with value: 0.3625445717360706 and parameters: {'p': 1, 'd': 0, 'q': 2, 'P': 0, 'D': 1, 'Q': 0}. Best is trial 27 with value: 0.6701681712756655.\u001b[0m\n"
     ]
    },
    {
     "name": "stdout",
     "output_type": "stream",
     "text": [
      "Optimization terminated successfully.\n",
      "         Current function value: -1.268202\n",
      "         Iterations: 1\n",
      "         Function evaluations: 49\n",
      "Optimization terminated successfully.\n",
      "         Current function value: -1.342758\n",
      "         Iterations: 14\n",
      "         Function evaluations: 2487\n"
     ]
    },
    {
     "name": "stderr",
     "output_type": "stream",
     "text": [
      "\u001b[32m[I 2022-03-13 17:58:47,169]\u001b[0m Trial 35 finished with value: 0.6274980548787312 and parameters: {'p': 7, 'd': 1, 'q': 3, 'P': 2, 'D': 1, 'Q': 1}. Best is trial 27 with value: 0.6701681712756655.\u001b[0m\n"
     ]
    },
    {
     "name": "stdout",
     "output_type": "stream",
     "text": [
      "Optimization terminated successfully.\n",
      "         Current function value: -1.397381\n",
      "         Iterations: 7\n",
      "         Function evaluations: 1150\n"
     ]
    },
    {
     "name": "stderr",
     "output_type": "stream",
     "text": [
      "\u001b[32m[I 2022-03-13 17:58:51,723]\u001b[0m Trial 36 finished with value: 0.6573485348120065 and parameters: {'p': 8, 'd': 0, 'q': 3, 'P': 1, 'D': 1, 'Q': 1}. Best is trial 27 with value: 0.6701681712756655.\u001b[0m\n"
     ]
    },
    {
     "name": "stdout",
     "output_type": "stream",
     "text": [
      "Optimization terminated successfully.\n",
      "         Current function value: -1.314889\n",
      "         Iterations: 5\n",
      "         Function evaluations: 531\n"
     ]
    },
    {
     "name": "stderr",
     "output_type": "stream",
     "text": [
      "\u001b[32m[I 2022-03-13 17:58:55,503]\u001b[0m Trial 37 finished with value: 0.48004139611055974 and parameters: {'p': 4, 'd': 1, 'q': 2, 'P': 2, 'D': 1, 'Q': 0}. Best is trial 27 with value: 0.6701681712756655.\u001b[0m\n",
      "\u001b[32m[I 2022-03-13 17:58:59,308]\u001b[0m Trial 38 finished with value: -3223880722.8826203 and parameters: {'p': 5, 'd': 0, 'q': 4, 'P': 0, 'D': 0, 'Q': 1}. Best is trial 27 with value: 0.6701681712756655.\u001b[0m\n"
     ]
    },
    {
     "name": "stdout",
     "output_type": "stream",
     "text": [
      "Optimization terminated successfully.\n",
      "         Current function value: -0.762289\n",
      "         Iterations: 10\n",
      "         Function evaluations: 1253\n",
      "Optimization terminated successfully.\n",
      "         Current function value: -1.348270\n",
      "         Iterations: 12\n",
      "         Function evaluations: 2368\n"
     ]
    },
    {
     "name": "stderr",
     "output_type": "stream",
     "text": [
      "\u001b[32m[I 2022-03-13 17:59:19,519]\u001b[0m Trial 39 finished with value: 0.6457422588724315 and parameters: {'p': 7, 'd': 1, 'q': 5, 'P': 0, 'D': 1, 'Q': 2}. Best is trial 27 with value: 0.6701681712756655.\u001b[0m\n",
      "\u001b[32m[I 2022-03-13 17:59:20,681]\u001b[0m Trial 40 finished with value: 0.4319427700395063 and parameters: {'p': 5, 'd': 0, 'q': 2, 'P': 1, 'D': 1, 'Q': 0}. Best is trial 27 with value: 0.6701681712756655.\u001b[0m\n"
     ]
    },
    {
     "name": "stdout",
     "output_type": "stream",
     "text": [
      "Optimization terminated successfully.\n",
      "         Current function value: -1.353219\n",
      "         Iterations: 4\n",
      "         Function evaluations: 441\n"
     ]
    },
    {
     "name": "stderr",
     "output_type": "stream",
     "text": [
      "\u001b[32m[I 2022-03-13 17:59:22,324]\u001b[0m Trial 41 finished with value: 0.6684620737779083 and parameters: {'p': 8, 'd': 0, 'q': 1, 'P': 0, 'D': 1, 'Q': 1}. Best is trial 27 with value: 0.6701681712756655.\u001b[0m\n"
     ]
    },
    {
     "name": "stdout",
     "output_type": "stream",
     "text": [
      "Optimization terminated successfully.\n",
      "         Current function value: -1.420509\n",
      "         Iterations: 3\n",
      "         Function evaluations: 410\n"
     ]
    },
    {
     "name": "stderr",
     "output_type": "stream",
     "text": [
      "\u001b[32m[I 2022-03-13 17:59:23,919]\u001b[0m Trial 42 finished with value: 0.6684620737779083 and parameters: {'p': 8, 'd': 0, 'q': 1, 'P': 0, 'D': 1, 'Q': 1}. Best is trial 27 with value: 0.6701681712756655.\u001b[0m\n"
     ]
    },
    {
     "name": "stdout",
     "output_type": "stream",
     "text": [
      "Optimization terminated successfully.\n",
      "         Current function value: -1.420509\n",
      "         Iterations: 3\n",
      "         Function evaluations: 410\n"
     ]
    },
    {
     "name": "stderr",
     "output_type": "stream",
     "text": [
      "\u001b[32m[I 2022-03-13 17:59:25,384]\u001b[0m Trial 43 finished with value: 0.6688393370285101 and parameters: {'p': 8, 'd': 0, 'q': 0, 'P': 0, 'D': 1, 'Q': 1}. Best is trial 27 with value: 0.6701681712756655.\u001b[0m\n"
     ]
    },
    {
     "name": "stdout",
     "output_type": "stream",
     "text": [
      "Optimization terminated successfully.\n",
      "         Current function value: -1.425230\n",
      "         Iterations: 3\n",
      "         Function evaluations: 384\n"
     ]
    },
    {
     "name": "stderr",
     "output_type": "stream",
     "text": [
      "\u001b[32m[I 2022-03-13 17:59:26,722]\u001b[0m Trial 44 finished with value: 0.6657220530088365 and parameters: {'p': 7, 'd': 0, 'q': 0, 'P': 0, 'D': 1, 'Q': 1}. Best is trial 27 with value: 0.6701681712756655.\u001b[0m\n"
     ]
    },
    {
     "name": "stdout",
     "output_type": "stream",
     "text": [
      "Optimization terminated successfully.\n",
      "         Current function value: -1.424379\n",
      "         Iterations: 3\n",
      "         Function evaluations: 361\n"
     ]
    },
    {
     "name": "stderr",
     "output_type": "stream",
     "text": [
      "\u001b[32m[I 2022-03-13 17:59:28,165]\u001b[0m Trial 45 finished with value: 0.6688393370285101 and parameters: {'p': 8, 'd': 0, 'q': 0, 'P': 0, 'D': 1, 'Q': 1}. Best is trial 27 with value: 0.6701681712756655.\u001b[0m\n"
     ]
    },
    {
     "name": "stdout",
     "output_type": "stream",
     "text": [
      "Optimization terminated successfully.\n",
      "         Current function value: -1.425230\n",
      "         Iterations: 3\n",
      "         Function evaluations: 384\n"
     ]
    },
    {
     "name": "stderr",
     "output_type": "stream",
     "text": [
      "\u001b[32m[I 2022-03-13 17:59:28,588]\u001b[0m Trial 46 finished with value: 0.35966895227043527 and parameters: {'p': 7, 'd': 0, 'q': 0, 'P': 0, 'D': 1, 'Q': 0}. Best is trial 27 with value: 0.6701681712756655.\u001b[0m\n"
     ]
    },
    {
     "name": "stdout",
     "output_type": "stream",
     "text": [
      "Optimization terminated successfully.\n",
      "         Current function value: -1.252326\n",
      "         Iterations: 1\n",
      "         Function evaluations: 290\n"
     ]
    },
    {
     "name": "stderr",
     "output_type": "stream",
     "text": [
      "\u001b[32m[I 2022-03-13 17:59:29,888]\u001b[0m Trial 47 finished with value: 0.6540801217767922 and parameters: {'p': 6, 'd': 0, 'q': 0, 'P': 1, 'D': 0, 'Q': 1}. Best is trial 27 with value: 0.6701681712756655.\u001b[0m\n"
     ]
    },
    {
     "name": "stdout",
     "output_type": "stream",
     "text": [
      "Optimization terminated successfully.\n",
      "         Current function value: -1.459753\n",
      "         Iterations: 4\n",
      "         Function evaluations: 398\n"
     ]
    },
    {
     "name": "stderr",
     "output_type": "stream",
     "text": [
      "\u001b[32m[I 2022-03-13 17:59:30,882]\u001b[0m Trial 48 finished with value: 0.6618661812385518 and parameters: {'p': 3, 'd': 0, 'q': 0, 'P': 0, 'D': 1, 'Q': 1}. Best is trial 27 with value: 0.6701681712756655.\u001b[0m\n"
     ]
    },
    {
     "name": "stdout",
     "output_type": "stream",
     "text": [
      "Optimization terminated successfully.\n",
      "         Current function value: -1.425036\n",
      "         Iterations: 3\n",
      "         Function evaluations: 236\n",
      "Optimization terminated successfully.\n",
      "         Current function value: -1.295343\n",
      "         Iterations: 13\n",
      "         Function evaluations: 3036\n"
     ]
    },
    {
     "name": "stderr",
     "output_type": "stream",
     "text": [
      "\u001b[32m[I 2022-03-13 18:00:10,469]\u001b[0m Trial 49 finished with value: 0.6376204211067227 and parameters: {'p': 8, 'd': 1, 'q': 4, 'P': 3, 'D': 1, 'Q': 2}. Best is trial 27 with value: 0.6701681712756655.\u001b[0m\n",
      "\u001b[32m[I 2022-03-13 18:00:10,479]\u001b[0m A new study created in memory with name: no-name-cbaf24ff-421b-4a26-a531-ceb6ece35c68\u001b[0m\n",
      "\u001b[32m[I 2022-03-13 18:00:14,401]\u001b[0m Trial 0 finished with value: 0.33819097918561836 and parameters: {'p': 0, 'd': 1, 'q': 5, 'P': 2, 'D': 1, 'Q': 0}. Best is trial 0 with value: 0.33819097918561836.\u001b[0m\n"
     ]
    },
    {
     "name": "stdout",
     "output_type": "stream",
     "text": [
      "Optimization terminated successfully.\n",
      "         Current function value: -1.356764\n",
      "         Iterations: 6\n",
      "         Function evaluations: 713\n",
      "Optimization terminated successfully.\n",
      "         Current function value: -1.372353\n",
      "         Iterations: 6\n",
      "         Function evaluations: 1243\n"
     ]
    },
    {
     "name": "stderr",
     "output_type": "stream",
     "text": [
      "\u001b[32m[I 2022-03-13 18:00:27,479]\u001b[0m Trial 1 finished with value: 0.4896538914654439 and parameters: {'p': 5, 'd': 1, 'q': 6, 'P': 3, 'D': 1, 'Q': 2}. Best is trial 1 with value: 0.4896538914654439.\u001b[0m\n",
      "\u001b[32m[I 2022-03-13 18:00:27,689]\u001b[0m Trial 2 finished with value: -0.05206750611874411 and parameters: {'p': 3, 'd': 0, 'q': 0, 'P': 1, 'D': 0, 'Q': 0}. Best is trial 1 with value: 0.4896538914654439.\u001b[0m\n"
     ]
    },
    {
     "name": "stdout",
     "output_type": "stream",
     "text": [
      "Optimization terminated successfully.\n",
      "         Current function value: -1.288622\n",
      "         Iterations: 3\n",
      "         Function evaluations: 172\n"
     ]
    },
    {
     "name": "stderr",
     "output_type": "stream",
     "text": [
      "\u001b[32m[I 2022-03-13 18:00:32,133]\u001b[0m Trial 3 finished with value: 0.6368854841165201 and parameters: {'p': 1, 'd': 0, 'q': 1, 'P': 2, 'D': 1, 'Q': 2}. Best is trial 3 with value: 0.6368854841165201.\u001b[0m\n"
     ]
    },
    {
     "name": "stdout",
     "output_type": "stream",
     "text": [
      "Optimization terminated successfully.\n",
      "         Current function value: -1.418669\n",
      "         Iterations: 8\n",
      "         Function evaluations: 677\n"
     ]
    },
    {
     "name": "stderr",
     "output_type": "stream",
     "text": [
      "\u001b[32m[I 2022-03-13 18:00:45,605]\u001b[0m Trial 4 finished with value: -0.033160380984922355 and parameters: {'p': 6, 'd': 1, 'q': 3, 'P': 0, 'D': 0, 'Q': 1}. Best is trial 3 with value: 0.6368854841165201.\u001b[0m\n"
     ]
    },
    {
     "name": "stdout",
     "output_type": "stream",
     "text": [
      "Optimization terminated successfully.\n",
      "         Current function value: -1.231630\n",
      "         Iterations: 32\n",
      "         Function evaluations: 4355\n",
      "Optimization terminated successfully.\n",
      "         Current function value: -1.346272\n",
      "         Iterations: 5\n",
      "         Function evaluations: 885\n"
     ]
    },
    {
     "name": "stderr",
     "output_type": "stream",
     "text": [
      "\u001b[32m[I 2022-03-13 18:00:51,044]\u001b[0m Trial 5 finished with value: 0.5289728288685056 and parameters: {'p': 6, 'd': 0, 'q': 6, 'P': 3, 'D': 1, 'Q': 0}. Best is trial 3 with value: 0.6368854841165201.\u001b[0m\n",
      "\u001b[32m[I 2022-03-13 18:01:00,601]\u001b[0m Trial 6 finished with value: 0.4894386177352603 and parameters: {'p': 7, 'd': 1, 'q': 7, 'P': 1, 'D': 0, 'Q': 1}. Best is trial 3 with value: 0.6368854841165201.\u001b[0m\n"
     ]
    },
    {
     "name": "stdout",
     "output_type": "stream",
     "text": [
      "Optimization terminated successfully.\n",
      "         Current function value: -1.491095\n",
      "         Iterations: 13\n",
      "         Function evaluations: 2843\n"
     ]
    },
    {
     "name": "stderr",
     "output_type": "stream",
     "text": [
      "\u001b[32m[I 2022-03-13 18:01:01,289]\u001b[0m Trial 7 finished with value: 0.24310789881835004 and parameters: {'p': 0, 'd': 0, 'q': 7, 'P': 2, 'D': 0, 'Q': 0}. Best is trial 3 with value: 0.6368854841165201.\u001b[0m\n"
     ]
    },
    {
     "name": "stdout",
     "output_type": "stream",
     "text": [
      "Optimization terminated successfully.\n",
      "         Current function value: -1.392378\n",
      "         Iterations: 3\n",
      "         Function evaluations: 353\n",
      "Optimization terminated successfully.\n",
      "         Current function value: -1.437949\n",
      "         Iterations: 8\n",
      "         Function evaluations: 1519\n"
     ]
    },
    {
     "name": "stderr",
     "output_type": "stream",
     "text": [
      "\u001b[32m[I 2022-03-13 18:01:09,452]\u001b[0m Trial 8 finished with value: 0.5952658617267694 and parameters: {'p': 5, 'd': 0, 'q': 7, 'P': 1, 'D': 0, 'Q': 2}. Best is trial 3 with value: 0.6368854841165201.\u001b[0m\n",
      "\u001b[32m[I 2022-03-13 18:01:11,975]\u001b[0m Trial 9 finished with value: 0.5814615747235516 and parameters: {'p': 1, 'd': 0, 'q': 1, 'P': 1, 'D': 0, 'Q': 3}. Best is trial 3 with value: 0.6368854841165201.\u001b[0m\n"
     ]
    },
    {
     "name": "stdout",
     "output_type": "stream",
     "text": [
      "Optimization terminated successfully.\n",
      "         Current function value: -1.421186\n",
      "         Iterations: 4\n",
      "         Function evaluations: 348\n",
      "Optimization terminated successfully.\n",
      "         Current function value: -1.356835\n",
      "         Iterations: 7\n",
      "         Function evaluations: 872\n"
     ]
    },
    {
     "name": "stderr",
     "output_type": "stream",
     "text": [
      "\u001b[32m[I 2022-03-13 18:01:20,572]\u001b[0m Trial 10 finished with value: 0.6327084194414996 and parameters: {'p': 2, 'd': 0, 'q': 3, 'P': 0, 'D': 1, 'Q': 3}. Best is trial 3 with value: 0.6368854841165201.\u001b[0m\n"
     ]
    },
    {
     "name": "stdout",
     "output_type": "stream",
     "text": [
      "Optimization terminated successfully.\n",
      "         Current function value: -1.356835\n",
      "         Iterations: 7\n",
      "         Function evaluations: 872\n"
     ]
    },
    {
     "name": "stderr",
     "output_type": "stream",
     "text": [
      "\u001b[32m[I 2022-03-13 18:01:29,107]\u001b[0m Trial 11 finished with value: 0.6327084194414996 and parameters: {'p': 2, 'd': 0, 'q': 3, 'P': 0, 'D': 1, 'Q': 3}. Best is trial 3 with value: 0.6368854841165201.\u001b[0m\n"
     ]
    },
    {
     "name": "stdout",
     "output_type": "stream",
     "text": [
      "Optimization terminated successfully.\n",
      "         Current function value: -1.377396\n",
      "         Iterations: 7\n",
      "         Function evaluations: 934\n"
     ]
    },
    {
     "name": "stderr",
     "output_type": "stream",
     "text": [
      "\u001b[32m[I 2022-03-13 18:01:38,979]\u001b[0m Trial 12 finished with value: 0.6409810837928098 and parameters: {'p': 3, 'd': 0, 'q': 2, 'P': 2, 'D': 1, 'Q': 3}. Best is trial 12 with value: 0.6409810837928098.\u001b[0m\n",
      "\u001b[32m[I 2022-03-13 18:01:45,615]\u001b[0m Trial 13 finished with value: 0.6420467026653656 and parameters: {'p': 3, 'd': 0, 'q': 1, 'P': 2, 'D': 1, 'Q': 2}. Best is trial 13 with value: 0.6420467026653656.\u001b[0m\n"
     ]
    },
    {
     "name": "stdout",
     "output_type": "stream",
     "text": [
      "Optimization terminated successfully.\n",
      "         Current function value: -1.415240\n",
      "         Iterations: 8\n",
      "         Function evaluations: 927\n",
      "Optimization terminated successfully.\n",
      "         Current function value: -1.375649\n",
      "         Iterations: 4\n",
      "         Function evaluations: 556\n"
     ]
    },
    {
     "name": "stderr",
     "output_type": "stream",
     "text": [
      "\u001b[32m[I 2022-03-13 18:01:50,575]\u001b[0m Trial 14 finished with value: 0.6152543477507333 and parameters: {'p': 4, 'd': 0, 'q': 1, 'P': 3, 'D': 1, 'Q': 3}. Best is trial 13 with value: 0.6420467026653656.\u001b[0m\n"
     ]
    },
    {
     "name": "stdout",
     "output_type": "stream",
     "text": [
      "Optimization terminated successfully.\n",
      "         Current function value: -1.412542\n",
      "         Iterations: 3\n",
      "         Function evaluations: 391\n"
     ]
    },
    {
     "name": "stderr",
     "output_type": "stream",
     "text": [
      "\u001b[32m[I 2022-03-13 18:01:53,483]\u001b[0m Trial 15 finished with value: 0.637748051603589 and parameters: {'p': 3, 'd': 0, 'q': 2, 'P': 2, 'D': 1, 'Q': 2}. Best is trial 13 with value: 0.6420467026653656.\u001b[0m\n"
     ]
    },
    {
     "name": "stdout",
     "output_type": "stream",
     "text": [
      "Optimization terminated successfully.\n",
      "         Current function value: -1.391235\n",
      "         Iterations: 6\n",
      "         Function evaluations: 953\n"
     ]
    },
    {
     "name": "stderr",
     "output_type": "stream",
     "text": [
      "\u001b[32m[I 2022-03-13 18:01:59,926]\u001b[0m Trial 16 finished with value: 0.64611485915418 and parameters: {'p': 8, 'd': 0, 'q': 0, 'P': 2, 'D': 1, 'Q': 1}. Best is trial 16 with value: 0.64611485915418.\u001b[0m\n"
     ]
    },
    {
     "name": "stdout",
     "output_type": "stream",
     "text": [
      "Optimization terminated successfully.\n",
      "         Current function value: -1.322891\n",
      "         Iterations: 11\n",
      "         Function evaluations: 1956\n"
     ]
    },
    {
     "name": "stderr",
     "output_type": "stream",
     "text": [
      "\u001b[32m[I 2022-03-13 18:02:16,737]\u001b[0m Trial 17 finished with value: 0.5724564888352901 and parameters: {'p': 8, 'd': 1, 'q': 0, 'P': 3, 'D': 1, 'Q': 1}. Best is trial 16 with value: 0.64611485915418.\u001b[0m\n"
     ]
    },
    {
     "name": "stdout",
     "output_type": "stream",
     "text": [
      "Optimization terminated successfully.\n",
      "         Current function value: -1.391235\n",
      "         Iterations: 6\n",
      "         Function evaluations: 953\n"
     ]
    },
    {
     "name": "stderr",
     "output_type": "stream",
     "text": [
      "\u001b[32m[I 2022-03-13 18:02:23,187]\u001b[0m Trial 18 finished with value: 0.64611485915418 and parameters: {'p': 8, 'd': 0, 'q': 0, 'P': 2, 'D': 1, 'Q': 1}. Best is trial 16 with value: 0.64611485915418.\u001b[0m\n",
      "\u001b[32m[I 2022-03-13 18:02:26,588]\u001b[0m Trial 19 finished with value: 0.642623592631089 and parameters: {'p': 8, 'd': 0, 'q': 0, 'P': 1, 'D': 1, 'Q': 1}. Best is trial 16 with value: 0.64611485915418.\u001b[0m\n"
     ]
    },
    {
     "name": "stdout",
     "output_type": "stream",
     "text": [
      "Optimization terminated successfully.\n",
      "         Current function value: -1.442761\n",
      "         Iterations: 5\n",
      "         Function evaluations: 674\n",
      "Optimization terminated successfully.\n",
      "         Current function value: -1.366293\n",
      "         Iterations: 17\n",
      "         Function evaluations: 2855\n"
     ]
    },
    {
     "name": "stderr",
     "output_type": "stream",
     "text": [
      "\u001b[32m[I 2022-03-13 18:02:55,458]\u001b[0m Trial 20 finished with value: 0.49575155599464926 and parameters: {'p': 7, 'd': 1, 'q': 2, 'P': 3, 'D': 1, 'Q': 1}. Best is trial 16 with value: 0.64611485915418.\u001b[0m\n",
      "\u001b[32m[I 2022-03-13 18:02:58,757]\u001b[0m Trial 21 finished with value: 0.642623592631089 and parameters: {'p': 8, 'd': 0, 'q': 0, 'P': 1, 'D': 1, 'Q': 1}. Best is trial 16 with value: 0.64611485915418.\u001b[0m\n"
     ]
    },
    {
     "name": "stdout",
     "output_type": "stream",
     "text": [
      "Optimization terminated successfully.\n",
      "         Current function value: -1.442761\n",
      "         Iterations: 5\n",
      "         Function evaluations: 674\n",
      "Optimization terminated successfully.\n",
      "         Current function value: -1.391235\n",
      "         Iterations: 6\n",
      "         Function evaluations: 953\n"
     ]
    },
    {
     "name": "stderr",
     "output_type": "stream",
     "text": [
      "\u001b[32m[I 2022-03-13 18:03:05,084]\u001b[0m Trial 22 finished with value: 0.64611485915418 and parameters: {'p': 8, 'd': 0, 'q': 0, 'P': 2, 'D': 1, 'Q': 1}. Best is trial 16 with value: 0.64611485915418.\u001b[0m\n"
     ]
    },
    {
     "name": "stdout",
     "output_type": "stream",
     "text": [
      "Optimization terminated successfully.\n",
      "         Current function value: -1.396231\n",
      "         Iterations: 6\n",
      "         Function evaluations: 889\n"
     ]
    },
    {
     "name": "stderr",
     "output_type": "stream",
     "text": [
      "\u001b[32m[I 2022-03-13 18:03:11,272]\u001b[0m Trial 23 finished with value: 0.6312526167359711 and parameters: {'p': 7, 'd': 0, 'q': 0, 'P': 2, 'D': 1, 'Q': 1}. Best is trial 16 with value: 0.64611485915418.\u001b[0m\n"
     ]
    },
    {
     "name": "stdout",
     "output_type": "stream",
     "text": [
      "Optimization terminated successfully.\n",
      "         Current function value: -0.102976\n",
      "         Iterations: 57\n",
      "         Function evaluations: 12801\n"
     ]
    },
    {
     "name": "stderr",
     "output_type": "stream",
     "text": [
      "\u001b[32m[I 2022-03-13 18:04:50,148]\u001b[0m Trial 24 finished with value: -6.582362098521064e+16 and parameters: {'p': 8, 'd': 0, 'q': 4, 'P': 2, 'D': 1, 'Q': 1}. Best is trial 16 with value: 0.64611485915418.\u001b[0m\n",
      "\u001b[32m[I 2022-03-13 18:04:50,939]\u001b[0m Trial 25 finished with value: 0.4331178205965305 and parameters: {'p': 6, 'd': 0, 'q': 1, 'P': 2, 'D': 1, 'Q': 0}. Best is trial 16 with value: 0.64611485915418.\u001b[0m\n"
     ]
    },
    {
     "name": "stdout",
     "output_type": "stream",
     "text": [
      "Optimization terminated successfully.\n",
      "         Current function value: -1.342362\n",
      "         Iterations: 2\n",
      "         Function evaluations: 230\n",
      "Optimization terminated successfully.\n",
      "         Current function value: -1.396316\n",
      "         Iterations: 6\n",
      "         Function evaluations: 1031\n"
     ]
    },
    {
     "name": "stderr",
     "output_type": "stream",
     "text": [
      "\u001b[32m[I 2022-03-13 18:04:57,953]\u001b[0m Trial 26 finished with value: 0.6325239875834135 and parameters: {'p': 7, 'd': 0, 'q': 2, 'P': 2, 'D': 1, 'Q': 1}. Best is trial 16 with value: 0.64611485915418.\u001b[0m\n"
     ]
    },
    {
     "name": "stdout",
     "output_type": "stream",
     "text": [
      "Optimization terminated successfully.\n",
      "         Current function value: -1.362341\n",
      "         Iterations: 4\n",
      "         Function evaluations: 609\n"
     ]
    },
    {
     "name": "stderr",
     "output_type": "stream",
     "text": [
      "\u001b[32m[I 2022-03-13 18:05:04,085]\u001b[0m Trial 27 finished with value: 0.6191883199306354 and parameters: {'p': 8, 'd': 0, 'q': 0, 'P': 3, 'D': 1, 'Q': 2}. Best is trial 16 with value: 0.64611485915418.\u001b[0m\n"
     ]
    },
    {
     "name": "stdout",
     "output_type": "stream",
     "text": [
      "Optimization terminated successfully.\n",
      "         Current function value: -1.411528\n",
      "         Iterations: 12\n",
      "         Function evaluations: 3133\n"
     ]
    },
    {
     "name": "stderr",
     "output_type": "stream",
     "text": [
      "\u001b[32m[I 2022-03-13 18:05:28,145]\u001b[0m Trial 28 finished with value: 0.5449310061834097 and parameters: {'p': 7, 'd': 0, 'q': 8, 'P': 2, 'D': 1, 'Q': 1}. Best is trial 16 with value: 0.64611485915418.\u001b[0m\n"
     ]
    },
    {
     "name": "stdout",
     "output_type": "stream",
     "text": [
      "Optimization terminated successfully.\n",
      "         Current function value: -1.332032\n",
      "         Iterations: 5\n",
      "         Function evaluations: 899\n"
     ]
    },
    {
     "name": "stderr",
     "output_type": "stream",
     "text": [
      "\u001b[32m[I 2022-03-13 18:05:34,525]\u001b[0m Trial 29 finished with value: 0.3379734898348675 and parameters: {'p': 5, 'd': 1, 'q': 4, 'P': 2, 'D': 1, 'Q': 0}. Best is trial 16 with value: 0.64611485915418.\u001b[0m\n",
      "\u001b[32m[I 2022-03-13 18:05:35,038]\u001b[0m Trial 30 finished with value: 0.3296455409096851 and parameters: {'p': 6, 'd': 0, 'q': 1, 'P': 1, 'D': 1, 'Q': 0}. Best is trial 16 with value: 0.64611485915418.\u001b[0m\n"
     ]
    },
    {
     "name": "stdout",
     "output_type": "stream",
     "text": [
      "Optimization terminated successfully.\n",
      "         Current function value: -1.362031\n",
      "         Iterations: 2\n",
      "         Function evaluations: 221\n"
     ]
    },
    {
     "name": "stderr",
     "output_type": "stream",
     "text": [
      "\u001b[32m[I 2022-03-13 18:05:38,324]\u001b[0m Trial 31 finished with value: 0.642623592631089 and parameters: {'p': 8, 'd': 0, 'q': 0, 'P': 1, 'D': 1, 'Q': 1}. Best is trial 16 with value: 0.64611485915418.\u001b[0m\n"
     ]
    },
    {
     "name": "stdout",
     "output_type": "stream",
     "text": [
      "Optimization terminated successfully.\n",
      "         Current function value: -1.442761\n",
      "         Iterations: 5\n",
      "         Function evaluations: 674\n"
     ]
    },
    {
     "name": "stderr",
     "output_type": "stream",
     "text": [
      "\u001b[32m[I 2022-03-13 18:05:41,524]\u001b[0m Trial 32 finished with value: 0.642623592631089 and parameters: {'p': 8, 'd': 0, 'q': 0, 'P': 1, 'D': 1, 'Q': 1}. Best is trial 16 with value: 0.64611485915418.\u001b[0m\n"
     ]
    },
    {
     "name": "stdout",
     "output_type": "stream",
     "text": [
      "Optimization terminated successfully.\n",
      "         Current function value: -1.442761\n",
      "         Iterations: 5\n",
      "         Function evaluations: 674\n",
      "Optimization terminated successfully.\n",
      "         Current function value: -1.396231\n",
      "         Iterations: 6\n",
      "         Function evaluations: 889\n"
     ]
    },
    {
     "name": "stderr",
     "output_type": "stream",
     "text": [
      "\u001b[32m[I 2022-03-13 18:05:47,435]\u001b[0m Trial 33 finished with value: 0.6312526167359711 and parameters: {'p': 7, 'd': 0, 'q': 0, 'P': 2, 'D': 1, 'Q': 1}. Best is trial 16 with value: 0.64611485915418.\u001b[0m\n"
     ]
    },
    {
     "name": "stdout",
     "output_type": "stream",
     "text": [
      "Optimization terminated successfully.\n",
      "         Current function value: -1.423459\n",
      "         Iterations: 4\n",
      "         Function evaluations: 618\n"
     ]
    },
    {
     "name": "stderr",
     "output_type": "stream",
     "text": [
      "\u001b[32m[I 2022-03-13 18:05:51,526]\u001b[0m Trial 34 finished with value: 0.6436045309633385 and parameters: {'p': 8, 'd': 0, 'q': 1, 'P': 1, 'D': 1, 'Q': 2}. Best is trial 16 with value: 0.64611485915418.\u001b[0m\n"
     ]
    },
    {
     "name": "stdout",
     "output_type": "stream",
     "text": [
      "Optimization terminated successfully.\n",
      "         Current function value: -1.398892\n",
      "         Iterations: 3\n",
      "         Function evaluations: 475\n"
     ]
    },
    {
     "name": "stderr",
     "output_type": "stream",
     "text": [
      "\u001b[32m[I 2022-03-13 18:05:55,600]\u001b[0m Trial 35 finished with value: 0.6343649852745454 and parameters: {'p': 7, 'd': 0, 'q': 1, 'P': 2, 'D': 1, 'Q': 2}. Best is trial 16 with value: 0.64611485915418.\u001b[0m\n"
     ]
    },
    {
     "name": "stdout",
     "output_type": "stream",
     "text": [
      "Optimization terminated successfully.\n",
      "         Current function value: -1.416415\n",
      "         Iterations: 3\n",
      "         Function evaluations: 405\n"
     ]
    },
    {
     "name": "stderr",
     "output_type": "stream",
     "text": [
      "\u001b[32m[I 2022-03-13 18:05:58,631]\u001b[0m Trial 36 finished with value: 0.6357093462582453 and parameters: {'p': 6, 'd': 0, 'q': 2, 'P': 1, 'D': 1, 'Q': 2}. Best is trial 16 with value: 0.64611485915418.\u001b[0m\n"
     ]
    },
    {
     "name": "stdout",
     "output_type": "stream",
     "text": [
      "Optimization terminated successfully.\n",
      "         Current function value: -1.396673\n",
      "         Iterations: 14\n",
      "         Function evaluations: 2327\n"
     ]
    },
    {
     "name": "stderr",
     "output_type": "stream",
     "text": [
      "\u001b[32m[I 2022-03-13 18:06:18,785]\u001b[0m Trial 37 finished with value: 0.4947380037722535 and parameters: {'p': 8, 'd': 1, 'q': 1, 'P': 3, 'D': 0, 'Q': 2}. Best is trial 16 with value: 0.64611485915418.\u001b[0m\n"
     ]
    },
    {
     "name": "stdout",
     "output_type": "stream",
     "text": [
      "Optimization terminated successfully.\n",
      "         Current function value: -1.396317\n",
      "         Iterations: 49\n",
      "         Function evaluations: 9808\n"
     ]
    },
    {
     "name": "stderr",
     "output_type": "stream",
     "text": [
      "\u001b[32m[I 2022-03-13 18:07:31,139]\u001b[0m Trial 38 finished with value: 0.5540326223739724 and parameters: {'p': 7, 'd': 0, 'q': 5, 'P': 0, 'D': 1, 'Q': 2}. Best is trial 16 with value: 0.64611485915418.\u001b[0m\n",
      "\u001b[32m[I 2022-03-13 18:07:31,523]\u001b[0m Trial 39 finished with value: -0.048982958733201576 and parameters: {'p': 6, 'd': 0, 'q': 1, 'P': 1, 'D': 0, 'Q': 0}. Best is trial 16 with value: 0.64611485915418.\u001b[0m\n"
     ]
    },
    {
     "name": "stdout",
     "output_type": "stream",
     "text": [
      "Optimization terminated successfully.\n",
      "         Current function value: -1.275445\n",
      "         Iterations: 3\n",
      "         Function evaluations: 275\n",
      "Optimization terminated successfully.\n",
      "         Current function value: -1.358047\n",
      "         Iterations: 7\n",
      "         Function evaluations: 1180\n"
     ]
    },
    {
     "name": "stderr",
     "output_type": "stream",
     "text": [
      "\u001b[32m[I 2022-03-13 18:07:40,885]\u001b[0m Trial 40 finished with value: 0.5397663689274765 and parameters: {'p': 8, 'd': 1, 'q': 0, 'P': 2, 'D': 1, 'Q': 1}. Best is trial 16 with value: 0.64611485915418.\u001b[0m\n",
      "\u001b[32m[I 2022-03-13 18:07:44,131]\u001b[0m Trial 41 finished with value: 0.642623592631089 and parameters: {'p': 8, 'd': 0, 'q': 0, 'P': 1, 'D': 1, 'Q': 1}. Best is trial 16 with value: 0.64611485915418.\u001b[0m\n"
     ]
    },
    {
     "name": "stdout",
     "output_type": "stream",
     "text": [
      "Optimization terminated successfully.\n",
      "         Current function value: -1.442761\n",
      "         Iterations: 5\n",
      "         Function evaluations: 674\n"
     ]
    },
    {
     "name": "stderr",
     "output_type": "stream",
     "text": [
      "\u001b[32m[I 2022-03-13 18:07:47,355]\u001b[0m Trial 42 finished with value: 0.642623592631089 and parameters: {'p': 8, 'd': 0, 'q': 0, 'P': 1, 'D': 1, 'Q': 1}. Best is trial 16 with value: 0.64611485915418.\u001b[0m\n"
     ]
    },
    {
     "name": "stdout",
     "output_type": "stream",
     "text": [
      "Optimization terminated successfully.\n",
      "         Current function value: -1.442761\n",
      "         Iterations: 5\n",
      "         Function evaluations: 674\n"
     ]
    },
    {
     "name": "stderr",
     "output_type": "stream",
     "text": [
      "\u001b[32m[I 2022-03-13 18:07:51,073]\u001b[0m Trial 43 finished with value: 0.6385485924634509 and parameters: {'p': 7, 'd': 0, 'q': 1, 'P': 1, 'D': 1, 'Q': 1}. Best is trial 16 with value: 0.64611485915418.\u001b[0m\n"
     ]
    },
    {
     "name": "stdout",
     "output_type": "stream",
     "text": [
      "Optimization terminated successfully.\n",
      "         Current function value: -1.446339\n",
      "         Iterations: 5\n",
      "         Function evaluations: 751\n"
     ]
    },
    {
     "name": "stderr",
     "output_type": "stream",
     "text": [
      "\u001b[32m[I 2022-03-13 18:07:54,509]\u001b[0m Trial 44 finished with value: 0.6321815662791289 and parameters: {'p': 5, 'd': 0, 'q': 0, 'P': 2, 'D': 1, 'Q': 1}. Best is trial 16 with value: 0.64611485915418.\u001b[0m\n"
     ]
    },
    {
     "name": "stdout",
     "output_type": "stream",
     "text": [
      "Optimization terminated successfully.\n",
      "         Current function value: -1.406183\n",
      "         Iterations: 5\n",
      "         Function evaluations: 559\n",
      "Optimization terminated successfully.\n",
      "         Current function value: -1.426185\n",
      "         Iterations: 4\n",
      "         Function evaluations: 530\n"
     ]
    },
    {
     "name": "stderr",
     "output_type": "stream",
     "text": [
      "\u001b[32m[I 2022-03-13 18:07:58,022]\u001b[0m Trial 45 finished with value: 0.6511711241468647 and parameters: {'p': 8, 'd': 0, 'q': 1, 'P': 0, 'D': 1, 'Q': 2}. Best is trial 45 with value: 0.6511711241468647.\u001b[0m\n"
     ]
    },
    {
     "name": "stdout",
     "output_type": "stream",
     "text": [
      "Optimization terminated successfully.\n",
      "         Current function value: -1.415396\n",
      "         Iterations: 4\n",
      "         Function evaluations: 539\n"
     ]
    },
    {
     "name": "stderr",
     "output_type": "stream",
     "text": [
      "\u001b[32m[I 2022-03-13 18:08:01,867]\u001b[0m Trial 46 finished with value: 0.6411893822459855 and parameters: {'p': 7, 'd': 0, 'q': 2, 'P': 0, 'D': 1, 'Q': 2}. Best is trial 45 with value: 0.6511711241468647.\u001b[0m\n",
      "\u001b[32m[I 2022-03-13 18:08:04,628]\u001b[0m Trial 47 finished with value: -1.2935745652401284e+151 and parameters: {'p': 6, 'd': 0, 'q': 3, 'P': 0, 'D': 0, 'Q': 2}. Best is trial 45 with value: 0.6511711241468647.\u001b[0m\n"
     ]
    },
    {
     "name": "stdout",
     "output_type": "stream",
     "text": [
      "Optimization terminated successfully.\n",
      "         Current function value: 2.069828\n",
      "         Iterations: 5\n",
      "         Function evaluations: 638\n"
     ]
    },
    {
     "name": "stderr",
     "output_type": "stream",
     "text": [
      "\u001b[32m[I 2022-03-13 18:08:07,293]\u001b[0m Trial 48 finished with value: 0.640946018803375 and parameters: {'p': 4, 'd': 0, 'q': 1, 'P': 0, 'D': 1, 'Q': 2}. Best is trial 45 with value: 0.6511711241468647.\u001b[0m\n"
     ]
    },
    {
     "name": "stdout",
     "output_type": "stream",
     "text": [
      "Optimization terminated successfully.\n",
      "         Current function value: -1.419247\n",
      "         Iterations: 4\n",
      "         Function evaluations: 405\n",
      "Optimization terminated successfully.\n",
      "         Current function value: -1.383154\n",
      "         Iterations: 41\n",
      "         Function evaluations: 10068\n"
     ]
    },
    {
     "name": "stderr",
     "output_type": "stream",
     "text": [
      "\u001b[32m[I 2022-03-13 18:09:23,951]\u001b[0m Trial 49 finished with value: 0.6247155613997837 and parameters: {'p': 8, 'd': 0, 'q': 5, 'P': 2, 'D': 1, 'Q': 2}. Best is trial 45 with value: 0.6511711241468647.\u001b[0m\n",
      "\u001b[32m[I 2022-03-13 18:09:23,959]\u001b[0m A new study created in memory with name: no-name-78e78b18-8a01-411e-8eba-9f74a016d042\u001b[0m\n",
      "\u001b[32m[I 2022-03-13 18:09:25,709]\u001b[0m Trial 0 finished with value: 0.06456422736992207 and parameters: {'p': 1, 'd': 1, 'q': 4, 'P': 0, 'D': 0, 'Q': 1}. Best is trial 0 with value: 0.06456422736992207.\u001b[0m\n"
     ]
    },
    {
     "name": "stdout",
     "output_type": "stream",
     "text": [
      "Optimization terminated successfully.\n",
      "         Current function value: -1.307149\n",
      "         Iterations: 6\n",
      "         Function evaluations: 578\n"
     ]
    },
    {
     "name": "stderr",
     "output_type": "stream",
     "text": [
      "\u001b[32m[I 2022-03-13 18:09:32,980]\u001b[0m Trial 1 finished with value: 0.6132471834059275 and parameters: {'p': 5, 'd': 0, 'q': 3, 'P': 1, 'D': 1, 'Q': 1}. Best is trial 1 with value: 0.6132471834059275.\u001b[0m\n"
     ]
    },
    {
     "name": "stdout",
     "output_type": "stream",
     "text": [
      "Optimization terminated successfully.\n",
      "         Current function value: -1.447928\n",
      "         Iterations: 11\n",
      "         Function evaluations: 1551\n"
     ]
    },
    {
     "name": "stderr",
     "output_type": "stream",
     "text": [
      "\u001b[32m[I 2022-03-13 18:09:34,316]\u001b[0m Trial 2 finished with value: 0.34724329769544593 and parameters: {'p': 0, 'd': 1, 'q': 2, 'P': 2, 'D': 1, 'Q': 0}. Best is trial 1 with value: 0.6132471834059275.\u001b[0m\n"
     ]
    },
    {
     "name": "stdout",
     "output_type": "stream",
     "text": [
      "Optimization terminated successfully.\n",
      "         Current function value: -1.355732\n",
      "         Iterations: 3\n",
      "         Function evaluations: 218\n"
     ]
    },
    {
     "name": "stderr",
     "output_type": "stream",
     "text": [
      "\u001b[32m[I 2022-03-13 18:09:35,959]\u001b[0m Trial 3 finished with value: 0.5209877770911651 and parameters: {'p': 5, 'd': 0, 'q': 0, 'P': 3, 'D': 1, 'Q': 0}. Best is trial 1 with value: 0.6132471834059275.\u001b[0m\n"
     ]
    },
    {
     "name": "stdout",
     "output_type": "stream",
     "text": [
      "Optimization terminated successfully.\n",
      "         Current function value: -1.350801\n",
      "         Iterations: 3\n",
      "         Function evaluations: 324\n",
      "Optimization terminated successfully.\n",
      "         Current function value: -1.252426\n",
      "         Iterations: 5\n",
      "         Function evaluations: 353\n"
     ]
    },
    {
     "name": "stderr",
     "output_type": "stream",
     "text": [
      "\u001b[32m[I 2022-03-13 18:09:38,715]\u001b[0m Trial 4 finished with value: 0.03780774010338506 and parameters: {'p': 1, 'd': 1, 'q': 0, 'P': 3, 'D': 1, 'Q': 1}. Best is trial 1 with value: 0.6132471834059275.\u001b[0m\n",
      "\u001b[32m[I 2022-03-13 18:09:39,189]\u001b[0m Trial 5 finished with value: 0.33062701734765065 and parameters: {'p': 1, 'd': 0, 'q': 6, 'P': 1, 'D': 1, 'Q': 0}. Best is trial 1 with value: 0.6132471834059275.\u001b[0m\n"
     ]
    },
    {
     "name": "stdout",
     "output_type": "stream",
     "text": [
      "Optimization terminated successfully.\n",
      "         Current function value: -1.384084\n",
      "         Iterations: 2\n",
      "         Function evaluations: 212\n"
     ]
    },
    {
     "name": "stderr",
     "output_type": "stream",
     "text": [
      "\u001b[32m[I 2022-03-13 18:09:41,285]\u001b[0m Trial 6 finished with value: 0.24947283826887545 and parameters: {'p': 0, 'd': 1, 'q': 5, 'P': 1, 'D': 1, 'Q': 0}. Best is trial 1 with value: 0.6132471834059275.\u001b[0m\n"
     ]
    },
    {
     "name": "stdout",
     "output_type": "stream",
     "text": [
      "Optimization terminated successfully.\n",
      "         Current function value: -1.373061\n",
      "         Iterations: 6\n",
      "         Function evaluations: 629\n",
      "Optimization terminated successfully.\n",
      "         Current function value: -1.385078\n",
      "         Iterations: 15\n",
      "         Function evaluations: 3221\n"
     ]
    },
    {
     "name": "stderr",
     "output_type": "stream",
     "text": [
      "\u001b[32m[I 2022-03-13 18:09:58,276]\u001b[0m Trial 7 finished with value: 0.2511295322381196 and parameters: {'p': 8, 'd': 1, 'q': 8, 'P': 1, 'D': 1, 'Q': 0}. Best is trial 1 with value: 0.6132471834059275.\u001b[0m\n"
     ]
    },
    {
     "name": "stdout",
     "output_type": "stream",
     "text": [
      "Optimization terminated successfully.\n",
      "         Current function value: -1.372421\n",
      "         Iterations: 9\n",
      "         Function evaluations: 1003\n"
     ]
    },
    {
     "name": "stderr",
     "output_type": "stream",
     "text": [
      "\u001b[32m[I 2022-03-13 18:10:06,341]\u001b[0m Trial 8 finished with value: 0.4881408516287742 and parameters: {'p': 3, 'd': 1, 'q': 1, 'P': 3, 'D': 1, 'Q': 1}. Best is trial 1 with value: 0.6132471834059275.\u001b[0m\n",
      "\u001b[32m[I 2022-03-13 18:10:07,869]\u001b[0m Trial 9 finished with value: 0.5208035752914084 and parameters: {'p': 1, 'd': 0, 'q': 4, 'P': 3, 'D': 1, 'Q': 0}. Best is trial 1 with value: 0.6132471834059275.\u001b[0m\n"
     ]
    },
    {
     "name": "stdout",
     "output_type": "stream",
     "text": [
      "Optimization terminated successfully.\n",
      "         Current function value: -1.367799\n",
      "         Iterations: 3\n",
      "         Function evaluations: 338\n",
      "Optimization terminated successfully.\n",
      "         Current function value: 1.987516\n",
      "         Iterations: 7\n",
      "         Function evaluations: 991\n"
     ]
    },
    {
     "name": "stderr",
     "output_type": "stream",
     "text": [
      "\u001b[32m[I 2022-03-13 18:10:14,170]\u001b[0m Trial 10 finished with value: -1.1346831461959658e+151 and parameters: {'p': 6, 'd': 0, 'q': 3, 'P': 0, 'D': 0, 'Q': 3}. Best is trial 1 with value: 0.6132471834059275.\u001b[0m\n",
      "\u001b[32m[I 2022-03-13 18:10:16,460]\u001b[0m Trial 11 finished with value: 0.5876633386355625 and parameters: {'p': 5, 'd': 0, 'q': 0, 'P': 2, 'D': 0, 'Q': 2}. Best is trial 1 with value: 0.6132471834059275.\u001b[0m\n"
     ]
    },
    {
     "name": "stdout",
     "output_type": "stream",
     "text": [
      "Optimization terminated successfully.\n",
      "         Current function value: -1.464928\n",
      "         Iterations: 4\n",
      "         Function evaluations: 450\n"
     ]
    },
    {
     "name": "stderr",
     "output_type": "stream",
     "text": [
      "\u001b[32m[I 2022-03-13 18:10:22,069]\u001b[0m Trial 12 finished with value: 0.5302563140367171 and parameters: {'p': 4, 'd': 0, 'q': 2, 'P': 2, 'D': 0, 'Q': 2}. Best is trial 1 with value: 0.6132471834059275.\u001b[0m\n"
     ]
    },
    {
     "name": "stdout",
     "output_type": "stream",
     "text": [
      "Optimization terminated successfully.\n",
      "         Current function value: -1.464341\n",
      "         Iterations: 9\n",
      "         Function evaluations: 1212\n",
      "Optimization terminated successfully.\n",
      "         Current function value: -1.461262\n",
      "         Iterations: 14\n",
      "         Function evaluations: 3028\n"
     ]
    },
    {
     "name": "stderr",
     "output_type": "stream",
     "text": [
      "\u001b[32m[I 2022-03-13 18:10:38,937]\u001b[0m Trial 13 finished with value: 0.5892136737374158 and parameters: {'p': 7, 'd': 0, 'q': 6, 'P': 2, 'D': 0, 'Q': 2}. Best is trial 1 with value: 0.6132471834059275.\u001b[0m\n"
     ]
    },
    {
     "name": "stdout",
     "output_type": "stream",
     "text": [
      "Optimization terminated successfully.\n",
      "         Current function value: -1.414189\n",
      "         Iterations: 24\n",
      "         Function evaluations: 5825\n"
     ]
    },
    {
     "name": "stderr",
     "output_type": "stream",
     "text": [
      "\u001b[32m[I 2022-03-13 18:11:24,400]\u001b[0m Trial 14 finished with value: 0.5829645867625107 and parameters: {'p': 8, 'd': 0, 'q': 7, 'P': 1, 'D': 0, 'Q': 3}. Best is trial 1 with value: 0.6132471834059275.\u001b[0m\n"
     ]
    },
    {
     "name": "stdout",
     "output_type": "stream",
     "text": [
      "Optimization terminated successfully.\n",
      "         Current function value: -1.461262\n",
      "         Iterations: 14\n",
      "         Function evaluations: 3028\n"
     ]
    },
    {
     "name": "stderr",
     "output_type": "stream",
     "text": [
      "\u001b[32m[I 2022-03-13 18:11:41,277]\u001b[0m Trial 15 finished with value: 0.5892136737374158 and parameters: {'p': 7, 'd': 0, 'q': 6, 'P': 2, 'D': 0, 'Q': 2}. Best is trial 1 with value: 0.6132471834059275.\u001b[0m\n",
      "\u001b[32m[I 2022-03-13 18:11:51,941]\u001b[0m Trial 16 finished with value: 0.051015157269881706 and parameters: {'p': 6, 'd': 0, 'q': 5, 'P': 0, 'D': 0, 'Q': 2}. Best is trial 1 with value: 0.6132471834059275.\u001b[0m\n"
     ]
    },
    {
     "name": "stdout",
     "output_type": "stream",
     "text": [
      "Optimization terminated successfully.\n",
      "         Current function value: -1.328681\n",
      "         Iterations: 13\n",
      "         Function evaluations: 2271\n"
     ]
    },
    {
     "name": "stderr",
     "output_type": "stream",
     "text": [
      "\u001b[32m[I 2022-03-13 18:12:03,923]\u001b[0m Trial 17 finished with value: 0.5874789680403201 and parameters: {'p': 4, 'd': 0, 'q': 8, 'P': 1, 'D': 0, 'Q': 1}. Best is trial 1 with value: 0.6132471834059275.\u001b[0m\n"
     ]
    },
    {
     "name": "stdout",
     "output_type": "stream",
     "text": [
      "Optimization terminated successfully.\n",
      "         Current function value: -1.496398\n",
      "         Iterations: 17\n",
      "         Function evaluations: 3191\n",
      "Optimization terminated successfully.\n",
      "         Current function value: -1.184057\n",
      "         Iterations: 19\n",
      "         Function evaluations: 3565\n"
     ]
    },
    {
     "name": "stderr",
     "output_type": "stream",
     "text": [
      "\u001b[32m[I 2022-03-13 18:12:26,690]\u001b[0m Trial 18 finished with value: 0.5039088336160888 and parameters: {'p': 7, 'd': 0, 'q': 3, 'P': 2, 'D': 0, 'Q': 3}. Best is trial 1 with value: 0.6132471834059275.\u001b[0m\n"
     ]
    },
    {
     "name": "stdout",
     "output_type": "stream",
     "text": [
      "Optimization terminated successfully.\n",
      "         Current function value: -1.401193\n",
      "         Iterations: 3\n",
      "         Function evaluations: 464\n"
     ]
    },
    {
     "name": "stderr",
     "output_type": "stream",
     "text": [
      "\u001b[32m[I 2022-03-13 18:12:30,691]\u001b[0m Trial 19 finished with value: 0.6366723450534941 and parameters: {'p': 3, 'd': 0, 'q': 6, 'P': 1, 'D': 1, 'Q': 2}. Best is trial 19 with value: 0.6366723450534941.\u001b[0m\n",
      "\u001b[32m[I 2022-03-13 18:12:36,414]\u001b[0m Trial 20 finished with value: 0.6379145156378517 and parameters: {'p': 3, 'd': 0, 'q': 5, 'P': 0, 'D': 1, 'Q': 1}. Best is trial 20 with value: 0.6379145156378517.\u001b[0m\n"
     ]
    },
    {
     "name": "stdout",
     "output_type": "stream",
     "text": [
      "Optimization terminated successfully.\n",
      "         Current function value: -1.450172\n",
      "         Iterations: 9\n",
      "         Function evaluations: 1147\n"
     ]
    },
    {
     "name": "stderr",
     "output_type": "stream",
     "text": [
      "\u001b[32m[I 2022-03-13 18:12:42,265]\u001b[0m Trial 21 finished with value: 0.6379145156378517 and parameters: {'p': 3, 'd': 0, 'q': 5, 'P': 0, 'D': 1, 'Q': 1}. Best is trial 20 with value: 0.6379145156378517.\u001b[0m\n"
     ]
    },
    {
     "name": "stdout",
     "output_type": "stream",
     "text": [
      "Optimization terminated successfully.\n",
      "         Current function value: -1.450172\n",
      "         Iterations: 9\n",
      "         Function evaluations: 1147\n"
     ]
    },
    {
     "name": "stderr",
     "output_type": "stream",
     "text": [
      "\u001b[32m[I 2022-03-13 18:12:48,052]\u001b[0m Trial 22 finished with value: 0.6379145156378517 and parameters: {'p': 3, 'd': 0, 'q': 5, 'P': 0, 'D': 1, 'Q': 1}. Best is trial 20 with value: 0.6379145156378517.\u001b[0m\n"
     ]
    },
    {
     "name": "stdout",
     "output_type": "stream",
     "text": [
      "Optimization terminated successfully.\n",
      "         Current function value: -1.450172\n",
      "         Iterations: 9\n",
      "         Function evaluations: 1147\n"
     ]
    },
    {
     "name": "stderr",
     "output_type": "stream",
     "text": [
      "\u001b[32m[I 2022-03-13 18:12:53,958]\u001b[0m Trial 23 finished with value: 0.6379145156378517 and parameters: {'p': 3, 'd': 0, 'q': 5, 'P': 0, 'D': 1, 'Q': 1}. Best is trial 20 with value: 0.6379145156378517.\u001b[0m\n"
     ]
    },
    {
     "name": "stdout",
     "output_type": "stream",
     "text": [
      "Optimization terminated successfully.\n",
      "         Current function value: -1.450172\n",
      "         Iterations: 9\n",
      "         Function evaluations: 1147\n"
     ]
    },
    {
     "name": "stderr",
     "output_type": "stream",
     "text": [
      "\u001b[32m[I 2022-03-13 18:12:58,560]\u001b[0m Trial 24 finished with value: 0.644386409028487 and parameters: {'p': 2, 'd': 0, 'q': 5, 'P': 0, 'D': 1, 'Q': 1}. Best is trial 24 with value: 0.644386409028487.\u001b[0m\n"
     ]
    },
    {
     "name": "stdout",
     "output_type": "stream",
     "text": [
      "Optimization terminated successfully.\n",
      "         Current function value: -1.446288\n",
      "         Iterations: 8\n",
      "         Function evaluations: 902\n"
     ]
    },
    {
     "name": "stderr",
     "output_type": "stream",
     "text": [
      "\u001b[32m[I 2022-03-13 18:13:00,829]\u001b[0m Trial 25 finished with value: 0.6400590729241534 and parameters: {'p': 2, 'd': 0, 'q': 7, 'P': 0, 'D': 1, 'Q': 1}. Best is trial 24 with value: 0.644386409028487.\u001b[0m\n"
     ]
    },
    {
     "name": "stdout",
     "output_type": "stream",
     "text": [
      "Optimization terminated successfully.\n",
      "         Current function value: -1.443629\n",
      "         Iterations: 3\n",
      "         Function evaluations: 399\n"
     ]
    },
    {
     "name": "stderr",
     "output_type": "stream",
     "text": [
      "\u001b[32m[I 2022-03-13 18:13:03,041]\u001b[0m Trial 26 finished with value: 0.6400590729241534 and parameters: {'p': 2, 'd': 0, 'q': 7, 'P': 0, 'D': 1, 'Q': 1}. Best is trial 24 with value: 0.644386409028487.\u001b[0m\n"
     ]
    },
    {
     "name": "stdout",
     "output_type": "stream",
     "text": [
      "Optimization terminated successfully.\n",
      "         Current function value: -1.443629\n",
      "         Iterations: 3\n",
      "         Function evaluations: 399\n"
     ]
    },
    {
     "name": "stderr",
     "output_type": "stream",
     "text": [
      "\u001b[32m[I 2022-03-13 18:13:05,330]\u001b[0m Trial 27 finished with value: 0.6400590729241534 and parameters: {'p': 2, 'd': 0, 'q': 7, 'P': 0, 'D': 1, 'Q': 1}. Best is trial 24 with value: 0.644386409028487.\u001b[0m\n"
     ]
    },
    {
     "name": "stdout",
     "output_type": "stream",
     "text": [
      "Optimization terminated successfully.\n",
      "         Current function value: -1.443629\n",
      "         Iterations: 3\n",
      "         Function evaluations: 399\n"
     ]
    },
    {
     "name": "stderr",
     "output_type": "stream",
     "text": [
      "\u001b[32m[I 2022-03-13 18:13:07,621]\u001b[0m Trial 28 finished with value: 0.6400590729241534 and parameters: {'p': 2, 'd': 0, 'q': 7, 'P': 0, 'D': 1, 'Q': 1}. Best is trial 24 with value: 0.644386409028487.\u001b[0m\n"
     ]
    },
    {
     "name": "stdout",
     "output_type": "stream",
     "text": [
      "Optimization terminated successfully.\n",
      "         Current function value: -1.443629\n",
      "         Iterations: 3\n",
      "         Function evaluations: 399\n",
      "Optimization terminated successfully.\n",
      "         Current function value: -1.393703\n",
      "         Iterations: 5\n",
      "         Function evaluations: 935\n"
     ]
    },
    {
     "name": "stderr",
     "output_type": "stream",
     "text": [
      "\u001b[32m[I 2022-03-13 18:13:16,221]\u001b[0m Trial 29 finished with value: 0.5006724259618013 and parameters: {'p': 2, 'd': 1, 'q': 8, 'P': 0, 'D': 1, 'Q': 2}. Best is trial 24 with value: 0.644386409028487.\u001b[0m\n",
      "\u001b[32m[I 2022-03-13 18:13:17,919]\u001b[0m Trial 30 finished with value: 0.16448239589829572 and parameters: {'p': 2, 'd': 0, 'q': 4, 'P': 0, 'D': 1, 'Q': 0}. Best is trial 24 with value: 0.644386409028487.\u001b[0m\n"
     ]
    },
    {
     "name": "stdout",
     "output_type": "stream",
     "text": [
      "Optimization terminated successfully.\n",
      "         Current function value: -1.290853\n",
      "         Iterations: 8\n",
      "         Function evaluations: 756\n"
     ]
    },
    {
     "name": "stderr",
     "output_type": "stream",
     "text": [
      "\u001b[32m[I 2022-03-13 18:13:20,121]\u001b[0m Trial 31 finished with value: 0.6400590729241534 and parameters: {'p': 2, 'd': 0, 'q': 7, 'P': 0, 'D': 1, 'Q': 1}. Best is trial 24 with value: 0.644386409028487.\u001b[0m\n"
     ]
    },
    {
     "name": "stdout",
     "output_type": "stream",
     "text": [
      "Optimization terminated successfully.\n",
      "         Current function value: -1.443629\n",
      "         Iterations: 3\n",
      "         Function evaluations: 399\n"
     ]
    },
    {
     "name": "stderr",
     "output_type": "stream",
     "text": [
      "\u001b[32m[I 2022-03-13 18:13:22,367]\u001b[0m Trial 32 finished with value: 0.6400590729241534 and parameters: {'p': 2, 'd': 0, 'q': 7, 'P': 0, 'D': 1, 'Q': 1}. Best is trial 24 with value: 0.644386409028487.\u001b[0m\n"
     ]
    },
    {
     "name": "stdout",
     "output_type": "stream",
     "text": [
      "Optimization terminated successfully.\n",
      "         Current function value: -1.443629\n",
      "         Iterations: 3\n",
      "         Function evaluations: 399\n"
     ]
    },
    {
     "name": "stderr",
     "output_type": "stream",
     "text": [
      "\u001b[32m[I 2022-03-13 18:13:24,268]\u001b[0m Trial 33 finished with value: 0.6427631302650139 and parameters: {'p': 0, 'd': 0, 'q': 7, 'P': 0, 'D': 1, 'Q': 1}. Best is trial 24 with value: 0.644386409028487.\u001b[0m\n"
     ]
    },
    {
     "name": "stdout",
     "output_type": "stream",
     "text": [
      "Optimization terminated successfully.\n",
      "         Current function value: -1.443709\n",
      "         Iterations: 3\n",
      "         Function evaluations: 340\n"
     ]
    },
    {
     "name": "stderr",
     "output_type": "stream",
     "text": [
      "\u001b[32m[I 2022-03-13 18:13:26,703]\u001b[0m Trial 34 finished with value: 0.6453320527668929 and parameters: {'p': 0, 'd': 0, 'q': 8, 'P': 0, 'D': 1, 'Q': 1}. Best is trial 34 with value: 0.6453320527668929.\u001b[0m\n"
     ]
    },
    {
     "name": "stdout",
     "output_type": "stream",
     "text": [
      "Optimization terminated successfully.\n",
      "         Current function value: -1.441652\n",
      "         Iterations: 3\n",
      "         Function evaluations: 389\n"
     ]
    },
    {
     "name": "stderr",
     "output_type": "stream",
     "text": [
      "\u001b[32m[I 2022-03-13 18:13:29,620]\u001b[0m Trial 35 finished with value: 0.6428808095300258 and parameters: {'p': 0, 'd': 0, 'q': 8, 'P': 1, 'D': 1, 'Q': 1}. Best is trial 34 with value: 0.6453320527668929.\u001b[0m\n"
     ]
    },
    {
     "name": "stdout",
     "output_type": "stream",
     "text": [
      "Optimization terminated successfully.\n",
      "         Current function value: -1.443819\n",
      "         Iterations: 4\n",
      "         Function evaluations: 541\n"
     ]
    },
    {
     "name": "stderr",
     "output_type": "stream",
     "text": [
      "\u001b[32m[I 2022-03-13 18:13:30,140]\u001b[0m Trial 36 finished with value: 0.33814923717331324 and parameters: {'p': 0, 'd': 0, 'q': 8, 'P': 1, 'D': 1, 'Q': 0}. Best is trial 34 with value: 0.6453320527668929.\u001b[0m\n"
     ]
    },
    {
     "name": "stdout",
     "output_type": "stream",
     "text": [
      "Optimization terminated successfully.\n",
      "         Current function value: -1.388699\n",
      "         Iterations: 2\n",
      "         Function evaluations: 238\n",
      "Optimization terminated successfully.\n",
      "         Current function value: -1.439206\n",
      "         Iterations: 6\n",
      "         Function evaluations: 988\n"
     ]
    },
    {
     "name": "stderr",
     "output_type": "stream",
     "text": [
      "\u001b[32m[I 2022-03-13 18:13:35,987]\u001b[0m Trial 37 finished with value: 0.5051782403170312 and parameters: {'p': 0, 'd': 1, 'q': 8, 'P': 1, 'D': 1, 'Q': 1}. Best is trial 34 with value: 0.6453320527668929.\u001b[0m\n",
      "\u001b[32m[I 2022-03-13 18:13:36,585]\u001b[0m Trial 38 finished with value: 0.34175604372975976 and parameters: {'p': 1, 'd': 0, 'q': 8, 'P': 1, 'D': 1, 'Q': 0}. Best is trial 34 with value: 0.6453320527668929.\u001b[0m\n"
     ]
    },
    {
     "name": "stdout",
     "output_type": "stream",
     "text": [
      "Optimization terminated successfully.\n",
      "         Current function value: -1.385620\n",
      "         Iterations: 2\n",
      "         Function evaluations: 263\n"
     ]
    },
    {
     "name": "stderr",
     "output_type": "stream",
     "text": [
      "\u001b[32m[I 2022-03-13 18:13:42,524]\u001b[0m Trial 39 finished with value: 0.5026654693591397 and parameters: {'p': 0, 'd': 1, 'q': 6, 'P': 1, 'D': 1, 'Q': 1}. Best is trial 34 with value: 0.6453320527668929.\u001b[0m\n"
     ]
    },
    {
     "name": "stdout",
     "output_type": "stream",
     "text": [
      "Optimization terminated successfully.\n",
      "         Current function value: -1.441238\n",
      "         Iterations: 8\n",
      "         Function evaluations: 1088\n"
     ]
    },
    {
     "name": "stderr",
     "output_type": "stream",
     "text": [
      "\u001b[32m[I 2022-03-13 18:13:49,545]\u001b[0m Trial 40 finished with value: 0.6608542881459912 and parameters: {'p': 1, 'd': 0, 'q': 8, 'P': 0, 'D': 1, 'Q': 1}. Best is trial 40 with value: 0.6608542881459912.\u001b[0m\n"
     ]
    },
    {
     "name": "stdout",
     "output_type": "stream",
     "text": [
      "Optimization terminated successfully.\n",
      "         Current function value: -1.446420\n",
      "         Iterations: 8\n",
      "         Function evaluations: 1161\n"
     ]
    },
    {
     "name": "stderr",
     "output_type": "stream",
     "text": [
      "\u001b[32m[I 2022-03-13 18:13:51,981]\u001b[0m Trial 41 finished with value: 0.6453320527668929 and parameters: {'p': 0, 'd': 0, 'q': 8, 'P': 0, 'D': 1, 'Q': 1}. Best is trial 40 with value: 0.6608542881459912.\u001b[0m\n"
     ]
    },
    {
     "name": "stdout",
     "output_type": "stream",
     "text": [
      "Optimization terminated successfully.\n",
      "         Current function value: -1.441652\n",
      "         Iterations: 3\n",
      "         Function evaluations: 389\n",
      "Optimization terminated successfully.\n",
      "         Current function value: -1.446420\n",
      "         Iterations: 8\n",
      "         Function evaluations: 1161\n"
     ]
    },
    {
     "name": "stderr",
     "output_type": "stream",
     "text": [
      "\u001b[32m[I 2022-03-13 18:13:58,999]\u001b[0m Trial 42 finished with value: 0.6608542881459912 and parameters: {'p': 1, 'd': 0, 'q': 8, 'P': 0, 'D': 1, 'Q': 1}. Best is trial 40 with value: 0.6608542881459912.\u001b[0m\n",
      "\u001b[32m[I 2022-03-13 18:14:06,265]\u001b[0m Trial 43 finished with value: 0.6608542881459912 and parameters: {'p': 1, 'd': 0, 'q': 8, 'P': 0, 'D': 1, 'Q': 1}. Best is trial 40 with value: 0.6608542881459912.\u001b[0m\n"
     ]
    },
    {
     "name": "stdout",
     "output_type": "stream",
     "text": [
      "Optimization terminated successfully.\n",
      "         Current function value: -1.446420\n",
      "         Iterations: 8\n",
      "         Function evaluations: 1161\n"
     ]
    },
    {
     "name": "stderr",
     "output_type": "stream",
     "text": [
      "\u001b[32m[I 2022-03-13 18:14:08,891]\u001b[0m Trial 44 finished with value: 0.20667233229214843 and parameters: {'p': 1, 'd': 0, 'q': 8, 'P': 0, 'D': 1, 'Q': 0}. Best is trial 40 with value: 0.6608542881459912.\u001b[0m\n"
     ]
    },
    {
     "name": "stdout",
     "output_type": "stream",
     "text": [
      "Optimization terminated successfully.\n",
      "         Current function value: -1.280289\n",
      "         Iterations: 6\n",
      "         Function evaluations: 822\n"
     ]
    },
    {
     "name": "stderr",
     "output_type": "stream",
     "text": [
      "\u001b[32m[I 2022-03-13 18:14:15,705]\u001b[0m Trial 45 finished with value: 0.6608542881459912 and parameters: {'p': 1, 'd': 0, 'q': 8, 'P': 0, 'D': 1, 'Q': 1}. Best is trial 40 with value: 0.6608542881459912.\u001b[0m\n"
     ]
    },
    {
     "name": "stdout",
     "output_type": "stream",
     "text": [
      "Optimization terminated successfully.\n",
      "         Current function value: -1.446420\n",
      "         Iterations: 8\n",
      "         Function evaluations: 1161\n",
      "Optimization terminated successfully.\n",
      "         Current function value: -1.391511\n",
      "         Iterations: 4\n",
      "         Function evaluations: 590\n"
     ]
    },
    {
     "name": "stderr",
     "output_type": "stream",
     "text": [
      "\u001b[32m[I 2022-03-13 18:14:20,977]\u001b[0m Trial 46 finished with value: 0.6468735086087719 and parameters: {'p': 1, 'd': 0, 'q': 8, 'P': 0, 'D': 1, 'Q': 2}. Best is trial 40 with value: 0.6608542881459912.\u001b[0m\n"
     ]
    },
    {
     "name": "stdout",
     "output_type": "stream",
     "text": [
      "Optimization terminated successfully.\n",
      "         Current function value: -1.388733\n",
      "         Iterations: 4\n",
      "         Function evaluations: 551\n"
     ]
    },
    {
     "name": "stderr",
     "output_type": "stream",
     "text": [
      "\u001b[32m[I 2022-03-13 18:14:25,483]\u001b[0m Trial 47 finished with value: 0.6388092148161266 and parameters: {'p': 1, 'd': 0, 'q': 7, 'P': 0, 'D': 1, 'Q': 2}. Best is trial 40 with value: 0.6608542881459912.\u001b[0m\n"
     ]
    },
    {
     "name": "stdout",
     "output_type": "stream",
     "text": [
      "Optimization terminated successfully.\n",
      "         Current function value: -1.391511\n",
      "         Iterations: 4\n",
      "         Function evaluations: 590\n"
     ]
    },
    {
     "name": "stderr",
     "output_type": "stream",
     "text": [
      "\u001b[32m[I 2022-03-13 18:14:30,769]\u001b[0m Trial 48 finished with value: 0.6468735086087719 and parameters: {'p': 1, 'd': 0, 'q': 8, 'P': 0, 'D': 1, 'Q': 2}. Best is trial 40 with value: 0.6608542881459912.\u001b[0m\n",
      "\u001b[32m[I 2022-03-13 18:14:33,020]\u001b[0m Trial 49 finished with value: 0.637761879407712 and parameters: {'p': 1, 'd': 0, 'q': 2, 'P': 0, 'D': 1, 'Q': 2}. Best is trial 40 with value: 0.6608542881459912.\u001b[0m\n",
      "\u001b[32m[I 2022-03-13 18:14:33,028]\u001b[0m A new study created in memory with name: no-name-a8e52f72-b04c-42e5-8500-a17ece9d3db7\u001b[0m\n"
     ]
    },
    {
     "name": "stdout",
     "output_type": "stream",
     "text": [
      "Optimization terminated successfully.\n",
      "         Current function value: -1.414098\n",
      "         Iterations: 4\n",
      "         Function evaluations: 304\n",
      "Optimization terminated successfully.\n",
      "         Current function value: -1.468348\n",
      "         Iterations: 16\n",
      "         Function evaluations: 3293\n"
     ]
    },
    {
     "name": "stderr",
     "output_type": "stream",
     "text": [
      "\u001b[32m[I 2022-03-13 18:14:52,576]\u001b[0m Trial 0 finished with value: 0.49161718656315134 and parameters: {'p': 7, 'd': 1, 'q': 8, 'P': 0, 'D': 1, 'Q': 1}. Best is trial 0 with value: 0.49161718656315134.\u001b[0m\n",
      "\u001b[32m[I 2022-03-13 18:14:59,510]\u001b[0m Trial 1 finished with value: 0.6335383286275778 and parameters: {'p': 4, 'd': 0, 'q': 3, 'P': 1, 'D': 1, 'Q': 1}. Best is trial 1 with value: 0.6335383286275778.\u001b[0m\n"
     ]
    },
    {
     "name": "stdout",
     "output_type": "stream",
     "text": [
      "Optimization terminated successfully.\n",
      "         Current function value: -1.449907\n",
      "         Iterations: 12\n",
      "         Function evaluations: 1549\n",
      "Optimization terminated successfully.\n",
      "         Current function value: -1.335902\n",
      "         Iterations: 15\n",
      "         Function evaluations: 3210\n"
     ]
    },
    {
     "name": "stderr",
     "output_type": "stream",
     "text": [
      "\u001b[32m[I 2022-03-13 18:15:37,394]\u001b[0m Trial 2 finished with value: 0.46299848644801933 and parameters: {'p': 8, 'd': 1, 'q': 6, 'P': 3, 'D': 1, 'Q': 0}. Best is trial 1 with value: 0.6335383286275778.\u001b[0m\n"
     ]
    },
    {
     "name": "stdout",
     "output_type": "stream",
     "text": [
      "Optimization terminated successfully.\n",
      "         Current function value: -1.380749\n",
      "         Iterations: 10\n",
      "         Function evaluations: 1422\n"
     ]
    },
    {
     "name": "stderr",
     "output_type": "stream",
     "text": [
      "\u001b[32m[I 2022-03-13 18:15:45,708]\u001b[0m Trial 3 finished with value: 0.5974306450480376 and parameters: {'p': 1, 'd': 0, 'q': 5, 'P': 3, 'D': 1, 'Q': 1}. Best is trial 1 with value: 0.6335383286275778.\u001b[0m\n",
      "\u001b[32m[I 2022-03-13 18:15:46,206]\u001b[0m Trial 4 finished with value: 0.42522134225033625 and parameters: {'p': 1, 'd': 0, 'q': 2, 'P': 2, 'D': 1, 'Q': 0}. Best is trial 1 with value: 0.6335383286275778.\u001b[0m\n"
     ]
    },
    {
     "name": "stdout",
     "output_type": "stream",
     "text": [
      "Optimization terminated successfully.\n",
      "         Current function value: -1.361951\n",
      "         Iterations: 2\n",
      "         Function evaluations: 142\n",
      "Optimization terminated successfully.\n",
      "         Current function value: -1.408965\n",
      "         Iterations: 5\n",
      "         Function evaluations: 805\n"
     ]
    },
    {
     "name": "stderr",
     "output_type": "stream",
     "text": [
      "\u001b[32m[I 2022-03-13 18:15:52,635]\u001b[0m Trial 5 finished with value: 0.4927446035313404 and parameters: {'p': 5, 'd': 1, 'q': 2, 'P': 3, 'D': 0, 'Q': 3}. Best is trial 1 with value: 0.6335383286275778.\u001b[0m\n",
      "\u001b[32m[I 2022-03-13 18:15:53,171]\u001b[0m Trial 6 finished with value: -4.887922492577101 and parameters: {'p': 1, 'd': 1, 'q': 0, 'P': 0, 'D': 0, 'Q': 2}. Best is trial 1 with value: 0.6335383286275778.\u001b[0m\n"
     ]
    },
    {
     "name": "stdout",
     "output_type": "stream",
     "text": [
      "Optimization terminated successfully.\n",
      "         Current function value: -1.219665\n",
      "         Iterations: 3\n",
      "         Function evaluations: 150\n"
     ]
    },
    {
     "name": "stderr",
     "output_type": "stream",
     "text": [
      "\u001b[32m[I 2022-03-13 18:15:54,009]\u001b[0m Trial 7 finished with value: 0.06922809059909019 and parameters: {'p': 8, 'd': 0, 'q': 2, 'P': 0, 'D': 0, 'Q': 0}. Best is trial 1 with value: 0.6335383286275778.\u001b[0m\n"
     ]
    },
    {
     "name": "stdout",
     "output_type": "stream",
     "text": [
      "Optimization terminated successfully.\n",
      "         Current function value: -1.335153\n",
      "         Iterations: 13\n",
      "         Function evaluations: 1597\n",
      "Optimization terminated successfully.\n",
      "         Current function value: -1.358949\n",
      "         Iterations: 8\n",
      "         Function evaluations: 1647\n"
     ]
    },
    {
     "name": "stderr",
     "output_type": "stream",
     "text": [
      "\u001b[32m[I 2022-03-13 18:16:14,020]\u001b[0m Trial 8 finished with value: 0.5107227105005093 and parameters: {'p': 6, 'd': 1, 'q': 5, 'P': 1, 'D': 1, 'Q': 3}. Best is trial 1 with value: 0.6335383286275778.\u001b[0m\n"
     ]
    },
    {
     "name": "stdout",
     "output_type": "stream",
     "text": [
      "Optimization terminated successfully.\n",
      "         Current function value: -1.429096\n",
      "         Iterations: 9\n",
      "         Function evaluations: 1457\n"
     ]
    },
    {
     "name": "stderr",
     "output_type": "stream",
     "text": [
      "\u001b[32m[I 2022-03-13 18:16:22,480]\u001b[0m Trial 9 finished with value: 0.656717786087676 and parameters: {'p': 2, 'd': 0, 'q': 8, 'P': 2, 'D': 1, 'Q': 1}. Best is trial 9 with value: 0.656717786087676.\u001b[0m\n"
     ]
    },
    {
     "name": "stdout",
     "output_type": "stream",
     "text": [
      "Optimization terminated successfully.\n",
      "         Current function value: -1.447750\n",
      "         Iterations: 7\n",
      "         Function evaluations: 1502\n"
     ]
    },
    {
     "name": "stderr",
     "output_type": "stream",
     "text": [
      "\u001b[32m[I 2022-03-13 18:16:31,412]\u001b[0m Trial 10 finished with value: 0.5513957345958036 and parameters: {'p': 3, 'd': 0, 'q': 8, 'P': 2, 'D': 0, 'Q': 2}. Best is trial 9 with value: 0.656717786087676.\u001b[0m\n",
      "\u001b[32m[I 2022-03-13 18:16:38,270]\u001b[0m Trial 11 finished with value: 0.6335383286275778 and parameters: {'p': 4, 'd': 0, 'q': 3, 'P': 1, 'D': 1, 'Q': 1}. Best is trial 9 with value: 0.656717786087676.\u001b[0m\n"
     ]
    },
    {
     "name": "stdout",
     "output_type": "stream",
     "text": [
      "Optimization terminated successfully.\n",
      "         Current function value: -1.449907\n",
      "         Iterations: 12\n",
      "         Function evaluations: 1549\n",
      "Optimization terminated successfully.\n",
      "         Current function value: -1.413468\n",
      "         Iterations: 5\n",
      "         Function evaluations: 796\n"
     ]
    },
    {
     "name": "stderr",
     "output_type": "stream",
     "text": [
      "\u001b[32m[I 2022-03-13 18:16:43,207]\u001b[0m Trial 12 finished with value: 0.633653846879429 and parameters: {'p': 3, 'd': 0, 'q': 6, 'P': 2, 'D': 1, 'Q': 1}. Best is trial 9 with value: 0.656717786087676.\u001b[0m\n"
     ]
    },
    {
     "name": "stdout",
     "output_type": "stream",
     "text": [
      "Optimization terminated successfully.\n",
      "         Current function value: -1.404110\n",
      "         Iterations: 12\n",
      "         Function evaluations: 2520\n"
     ]
    },
    {
     "name": "stderr",
     "output_type": "stream",
     "text": [
      "\u001b[32m[I 2022-03-13 18:17:02,974]\u001b[0m Trial 13 finished with value: 0.5217228424506994 and parameters: {'p': 3, 'd': 0, 'q': 7, 'P': 2, 'D': 1, 'Q': 2}. Best is trial 9 with value: 0.656717786087676.\u001b[0m\n",
      "\u001b[32m[I 2022-03-13 18:17:06,128]\u001b[0m Trial 14 finished with value: 0.6343623535904839 and parameters: {'p': 0, 'd': 0, 'q': 7, 'P': 2, 'D': 1, 'Q': 1}. Best is trial 9 with value: 0.656717786087676.\u001b[0m\n"
     ]
    },
    {
     "name": "stdout",
     "output_type": "stream",
     "text": [
      "Optimization terminated successfully.\n",
      "         Current function value: -1.428040\n",
      "         Iterations: 5\n",
      "         Function evaluations: 638\n",
      "Optimization terminated successfully.\n",
      "         Current function value: -1.393211\n",
      "         Iterations: 4\n",
      "         Function evaluations: 616\n"
     ]
    },
    {
     "name": "stderr",
     "output_type": "stream",
     "text": [
      "\u001b[32m[I 2022-03-13 18:17:11,120]\u001b[0m Trial 15 finished with value: 0.6392206834333494 and parameters: {'p': 0, 'd': 0, 'q': 7, 'P': 2, 'D': 1, 'Q': 2}. Best is trial 9 with value: 0.656717786087676.\u001b[0m\n"
     ]
    },
    {
     "name": "stdout",
     "output_type": "stream",
     "text": [
      "Optimization terminated successfully.\n",
      "         Current function value: -1.391742\n",
      "         Iterations: 3\n",
      "         Function evaluations: 436\n"
     ]
    },
    {
     "name": "stderr",
     "output_type": "stream",
     "text": [
      "\u001b[32m[I 2022-03-13 18:17:15,143]\u001b[0m Trial 16 finished with value: 0.6386438586332877 and parameters: {'p': 0, 'd': 0, 'q': 8, 'P': 1, 'D': 1, 'Q': 2}. Best is trial 9 with value: 0.656717786087676.\u001b[0m\n"
     ]
    },
    {
     "name": "stdout",
     "output_type": "stream",
     "text": [
      "Optimization terminated successfully.\n",
      "         Current function value: -1.414986\n",
      "         Iterations: 23\n",
      "         Function evaluations: 4584\n"
     ]
    },
    {
     "name": "stderr",
     "output_type": "stream",
     "text": [
      "\u001b[32m[I 2022-03-13 18:17:51,024]\u001b[0m Trial 17 finished with value: 0.5940649615001361 and parameters: {'p': 2, 'd': 0, 'q': 7, 'P': 3, 'D': 0, 'Q': 3}. Best is trial 9 with value: 0.656717786087676.\u001b[0m\n"
     ]
    },
    {
     "name": "stdout",
     "output_type": "stream",
     "text": [
      "Optimization terminated successfully.\n",
      "         Current function value: -1.402887\n",
      "         Iterations: 8\n",
      "         Function evaluations: 1303\n"
     ]
    },
    {
     "name": "stderr",
     "output_type": "stream",
     "text": [
      "\u001b[32m[I 2022-03-13 18:18:00,818]\u001b[0m Trial 18 finished with value: 0.6351965879952399 and parameters: {'p': 2, 'd': 0, 'q': 5, 'P': 2, 'D': 1, 'Q': 2}. Best is trial 9 with value: 0.656717786087676.\u001b[0m\n"
     ]
    },
    {
     "name": "stdout",
     "output_type": "stream",
     "text": [
      "Optimization terminated successfully.\n",
      "         Current function value: -1.398873\n",
      "         Iterations: 3\n",
      "         Function evaluations: 377\n"
     ]
    },
    {
     "name": "stderr",
     "output_type": "stream",
     "text": [
      "\u001b[32m[I 2022-03-13 18:18:04,136]\u001b[0m Trial 19 finished with value: 0.636500186360042 and parameters: {'p': 0, 'd': 0, 'q': 6, 'P': 1, 'D': 1, 'Q': 2}. Best is trial 9 with value: 0.656717786087676.\u001b[0m\n"
     ]
    },
    {
     "name": "stdout",
     "output_type": "stream",
     "text": [
      "Optimization terminated successfully.\n",
      "         Current function value: -1.360184\n",
      "         Iterations: 5\n",
      "         Function evaluations: 1022\n"
     ]
    },
    {
     "name": "stderr",
     "output_type": "stream",
     "text": [
      "\u001b[32m[I 2022-03-13 18:18:10,326]\u001b[0m Trial 20 finished with value: 0.45629711754648206 and parameters: {'p': 2, 'd': 1, 'q': 8, 'P': 3, 'D': 0, 'Q': 0}. Best is trial 9 with value: 0.656717786087676.\u001b[0m\n"
     ]
    },
    {
     "name": "stdout",
     "output_type": "stream",
     "text": [
      "Optimization terminated successfully.\n",
      "         Current function value: -1.391742\n",
      "         Iterations: 3\n",
      "         Function evaluations: 436\n"
     ]
    },
    {
     "name": "stderr",
     "output_type": "stream",
     "text": [
      "\u001b[32m[I 2022-03-13 18:18:14,417]\u001b[0m Trial 21 finished with value: 0.6386438586332877 and parameters: {'p': 0, 'd': 0, 'q': 8, 'P': 1, 'D': 1, 'Q': 2}. Best is trial 9 with value: 0.656717786087676.\u001b[0m\n"
     ]
    },
    {
     "name": "stdout",
     "output_type": "stream",
     "text": [
      "Optimization terminated successfully.\n",
      "         Current function value: -1.392975\n",
      "         Iterations: 3\n",
      "         Function evaluations: 487\n"
     ]
    },
    {
     "name": "stderr",
     "output_type": "stream",
     "text": [
      "\u001b[32m[I 2022-03-13 18:18:18,585]\u001b[0m Trial 22 finished with value: 0.6382529855267781 and parameters: {'p': 1, 'd': 0, 'q': 7, 'P': 2, 'D': 1, 'Q': 2}. Best is trial 9 with value: 0.656717786087676.\u001b[0m\n"
     ]
    },
    {
     "name": "stdout",
     "output_type": "stream",
     "text": [
      "Optimization terminated successfully.\n",
      "         Current function value: -1.343550\n",
      "         Iterations: 3\n",
      "         Function evaluations: 470\n"
     ]
    },
    {
     "name": "stderr",
     "output_type": "stream",
     "text": [
      "\u001b[32m[I 2022-03-13 18:18:25,023]\u001b[0m Trial 23 finished with value: 0.6432848326898506 and parameters: {'p': 0, 'd': 0, 'q': 8, 'P': 1, 'D': 1, 'Q': 3}. Best is trial 9 with value: 0.656717786087676.\u001b[0m\n"
     ]
    },
    {
     "name": "stdout",
     "output_type": "stream",
     "text": [
      "Optimization terminated successfully.\n",
      "         Current function value: -1.344812\n",
      "         Iterations: 3\n",
      "         Function evaluations: 492\n"
     ]
    },
    {
     "name": "stderr",
     "output_type": "stream",
     "text": [
      "\u001b[32m[I 2022-03-13 18:18:31,203]\u001b[0m Trial 24 finished with value: 0.6401526741740748 and parameters: {'p': 1, 'd': 0, 'q': 7, 'P': 2, 'D': 1, 'Q': 3}. Best is trial 9 with value: 0.656717786087676.\u001b[0m\n"
     ]
    },
    {
     "name": "stdout",
     "output_type": "stream",
     "text": [
      "Optimization terminated successfully.\n",
      "         Current function value: -1.347192\n",
      "         Iterations: 3\n",
      "         Function evaluations: 454\n"
     ]
    },
    {
     "name": "stderr",
     "output_type": "stream",
     "text": [
      "\u001b[32m[I 2022-03-13 18:18:37,154]\u001b[0m Trial 25 finished with value: 0.6425630363011199 and parameters: {'p': 2, 'd': 0, 'q': 6, 'P': 1, 'D': 1, 'Q': 3}. Best is trial 9 with value: 0.656717786087676.\u001b[0m\n"
     ]
    },
    {
     "name": "stdout",
     "output_type": "stream",
     "text": [
      "Optimization terminated successfully.\n",
      "         Current function value: -1.347192\n",
      "         Iterations: 3\n",
      "         Function evaluations: 454\n"
     ]
    },
    {
     "name": "stderr",
     "output_type": "stream",
     "text": [
      "\u001b[32m[I 2022-03-13 18:18:43,202]\u001b[0m Trial 26 finished with value: 0.6425630363011199 and parameters: {'p': 2, 'd': 0, 'q': 6, 'P': 1, 'D': 1, 'Q': 3}. Best is trial 9 with value: 0.656717786087676.\u001b[0m\n"
     ]
    },
    {
     "name": "stdout",
     "output_type": "stream",
     "text": [
      "Optimization terminated successfully.\n",
      "         Current function value: -1.357115\n",
      "         Iterations: 15\n",
      "         Function evaluations: 2455\n"
     ]
    },
    {
     "name": "stderr",
     "output_type": "stream",
     "text": [
      "\u001b[32m[I 2022-03-13 18:19:09,627]\u001b[0m Trial 27 finished with value: 0.6278410853819761 and parameters: {'p': 5, 'd': 0, 'q': 4, 'P': 0, 'D': 1, 'Q': 3}. Best is trial 9 with value: 0.656717786087676.\u001b[0m\n"
     ]
    },
    {
     "name": "stdout",
     "output_type": "stream",
     "text": [
      "Optimization terminated successfully.\n",
      "         Current function value: -1.347672\n",
      "         Iterations: 4\n",
      "         Function evaluations: 684\n"
     ]
    },
    {
     "name": "stderr",
     "output_type": "stream",
     "text": [
      "\u001b[32m[I 2022-03-13 18:19:18,311]\u001b[0m Trial 28 finished with value: 0.6411569922983096 and parameters: {'p': 3, 'd': 0, 'q': 6, 'P': 1, 'D': 1, 'Q': 3}. Best is trial 9 with value: 0.656717786087676.\u001b[0m\n"
     ]
    },
    {
     "name": "stdout",
     "output_type": "stream",
     "text": [
      "Optimization terminated successfully.\n",
      "         Current function value: -1.343869\n",
      "         Iterations: 9\n",
      "         Function evaluations: 1818\n"
     ]
    },
    {
     "name": "stderr",
     "output_type": "stream",
     "text": [
      "\u001b[32m[I 2022-03-13 18:19:41,989]\u001b[0m Trial 29 finished with value: 0.4991933201458144 and parameters: {'p': 2, 'd': 1, 'q': 8, 'P': 0, 'D': 1, 'Q': 3}. Best is trial 9 with value: 0.656717786087676.\u001b[0m\n"
     ]
    },
    {
     "name": "stdout",
     "output_type": "stream",
     "text": [
      "Optimization terminated successfully.\n",
      "         Current function value: -1.443736\n",
      "         Iterations: 5\n",
      "         Function evaluations: 993\n"
     ]
    },
    {
     "name": "stderr",
     "output_type": "stream",
     "text": [
      "\u001b[32m[I 2022-03-13 18:19:47,458]\u001b[0m Trial 30 finished with value: 0.6470199509933053 and parameters: {'p': 4, 'd': 0, 'q': 8, 'P': 1, 'D': 1, 'Q': 1}. Best is trial 9 with value: 0.656717786087676.\u001b[0m\n"
     ]
    },
    {
     "name": "stdout",
     "output_type": "stream",
     "text": [
      "Optimization terminated successfully.\n",
      "         Current function value: -1.469026\n",
      "         Iterations: 19\n",
      "         Function evaluations: 4145\n"
     ]
    },
    {
     "name": "stderr",
     "output_type": "stream",
     "text": [
      "\u001b[32m[I 2022-03-13 18:20:11,118]\u001b[0m Trial 31 finished with value: 0.6226815777462569 and parameters: {'p': 6, 'd': 0, 'q': 8, 'P': 1, 'D': 1, 'Q': 1}. Best is trial 9 with value: 0.656717786087676.\u001b[0m\n"
     ]
    },
    {
     "name": "stdout",
     "output_type": "stream",
     "text": [
      "Optimization terminated successfully.\n",
      "         Current function value: -1.445335\n",
      "         Iterations: 8\n",
      "         Function evaluations: 1581\n"
     ]
    },
    {
     "name": "stderr",
     "output_type": "stream",
     "text": [
      "\u001b[32m[I 2022-03-13 18:20:20,336]\u001b[0m Trial 32 finished with value: 0.6579636550203969 and parameters: {'p': 5, 'd': 0, 'q': 8, 'P': 1, 'D': 1, 'Q': 1}. Best is trial 32 with value: 0.6579636550203969.\u001b[0m\n"
     ]
    },
    {
     "name": "stdout",
     "output_type": "stream",
     "text": [
      "Optimization terminated successfully.\n",
      "         Current function value: -1.465777\n",
      "         Iterations: 19\n",
      "         Function evaluations: 3626\n"
     ]
    },
    {
     "name": "stderr",
     "output_type": "stream",
     "text": [
      "\u001b[32m[I 2022-03-13 18:20:41,250]\u001b[0m Trial 33 finished with value: 0.6324385728795883 and parameters: {'p': 5, 'd': 0, 'q': 8, 'P': 0, 'D': 1, 'Q': 1}. Best is trial 32 with value: 0.6579636550203969.\u001b[0m\n"
     ]
    },
    {
     "name": "stdout",
     "output_type": "stream",
     "text": [
      "Optimization terminated successfully.\n",
      "         Current function value: -1.438115\n",
      "         Iterations: 5\n",
      "         Function evaluations: 957\n"
     ]
    },
    {
     "name": "stderr",
     "output_type": "stream",
     "text": [
      "\u001b[32m[I 2022-03-13 18:20:46,021]\u001b[0m Trial 34 finished with value: 0.6433668097334435 and parameters: {'p': 6, 'd': 0, 'q': 7, 'P': 1, 'D': 1, 'Q': 1}. Best is trial 32 with value: 0.6579636550203969.\u001b[0m\n"
     ]
    },
    {
     "name": "stdout",
     "output_type": "stream",
     "text": [
      "Optimization terminated successfully.\n",
      "         Current function value: -1.438115\n",
      "         Iterations: 5\n",
      "         Function evaluations: 957\n"
     ]
    },
    {
     "name": "stderr",
     "output_type": "stream",
     "text": [
      "\u001b[32m[I 2022-03-13 18:20:50,637]\u001b[0m Trial 35 finished with value: 0.6433668097334435 and parameters: {'p': 6, 'd': 0, 'q': 7, 'P': 1, 'D': 1, 'Q': 1}. Best is trial 32 with value: 0.6579636550203969.\u001b[0m\n",
      "\u001b[32m[I 2022-03-13 18:20:54,397]\u001b[0m Trial 36 finished with value: 0.3431442526196127 and parameters: {'p': 7, 'd': 0, 'q': 7, 'P': 1, 'D': 1, 'Q': 0}. Best is trial 32 with value: 0.6579636550203969.\u001b[0m\n"
     ]
    },
    {
     "name": "stdout",
     "output_type": "stream",
     "text": [
      "Optimization terminated successfully.\n",
      "         Current function value: -1.370718\n",
      "         Iterations: 7\n",
      "         Function evaluations: 1311\n"
     ]
    },
    {
     "name": "stderr",
     "output_type": "stream",
     "text": [
      "\u001b[32m[I 2022-03-13 18:20:56,238]\u001b[0m Trial 37 finished with value: 0.5220465501814047 and parameters: {'p': 7, 'd': 1, 'q': 0, 'P': 0, 'D': 1, 'Q': 1}. Best is trial 32 with value: 0.6579636550203969.\u001b[0m\n"
     ]
    },
    {
     "name": "stdout",
     "output_type": "stream",
     "text": [
      "Optimization terminated successfully.\n",
      "         Current function value: -1.432845\n",
      "         Iterations: 4\n",
      "         Function evaluations: 407\n"
     ]
    },
    {
     "name": "stderr",
     "output_type": "stream",
     "text": [
      "\u001b[32m[I 2022-03-13 18:21:01,010]\u001b[0m Trial 38 finished with value: 0.33057141995762995 and parameters: {'p': 5, 'd': 0, 'q': 4, 'P': 1, 'D': 1, 'Q': 0}. Best is trial 32 with value: 0.6579636550203969.\u001b[0m\n"
     ]
    },
    {
     "name": "stdout",
     "output_type": "stream",
     "text": [
      "Optimization terminated successfully.\n",
      "         Current function value: -1.368277\n",
      "         Iterations: 11\n",
      "         Function evaluations: 1427\n"
     ]
    },
    {
     "name": "stderr",
     "output_type": "stream",
     "text": [
      "\u001b[32m[I 2022-03-13 18:21:04,355]\u001b[0m Trial 39 finished with value: 0.5784655659256306 and parameters: {'p': 4, 'd': 0, 'q': 5, 'P': 2, 'D': 0, 'Q': 1}. Best is trial 32 with value: 0.6579636550203969.\u001b[0m\n"
     ]
    },
    {
     "name": "stdout",
     "output_type": "stream",
     "text": [
      "Optimization terminated successfully.\n",
      "         Current function value: -1.457317\n",
      "         Iterations: 5\n",
      "         Function evaluations: 749\n",
      "Optimization terminated successfully.\n",
      "         Current function value: -1.459009\n",
      "         Iterations: 14\n",
      "         Function evaluations: 2963\n"
     ]
    },
    {
     "name": "stderr",
     "output_type": "stream",
     "text": [
      "\u001b[32m[I 2022-03-13 18:21:21,756]\u001b[0m Trial 40 finished with value: 0.47703852539029 and parameters: {'p': 6, 'd': 1, 'q': 8, 'P': 1, 'D': 1, 'Q': 1}. Best is trial 32 with value: 0.6579636550203969.\u001b[0m\n"
     ]
    },
    {
     "name": "stdout",
     "output_type": "stream",
     "text": [
      "Optimization terminated successfully.\n",
      "         Current function value: -1.438115\n",
      "         Iterations: 5\n",
      "         Function evaluations: 957\n"
     ]
    },
    {
     "name": "stderr",
     "output_type": "stream",
     "text": [
      "\u001b[32m[I 2022-03-13 18:21:26,485]\u001b[0m Trial 41 finished with value: 0.6433668097334435 and parameters: {'p': 6, 'd': 0, 'q': 7, 'P': 1, 'D': 1, 'Q': 1}. Best is trial 32 with value: 0.6579636550203969.\u001b[0m\n",
      "\u001b[32m[I 2022-03-13 18:21:28,796]\u001b[0m Trial 42 finished with value: 0.6409776944038372 and parameters: {'p': 5, 'd': 0, 'q': 1, 'P': 1, 'D': 1, 'Q': 1}. Best is trial 32 with value: 0.6579636550203969.\u001b[0m\n"
     ]
    },
    {
     "name": "stdout",
     "output_type": "stream",
     "text": [
      "Optimization terminated successfully.\n",
      "         Current function value: -1.451887\n",
      "         Iterations: 4\n",
      "         Function evaluations: 494\n",
      "Optimization terminated successfully.\n",
      "         Current function value: -1.450067\n",
      "         Iterations: 11\n",
      "         Function evaluations: 2400\n"
     ]
    },
    {
     "name": "stderr",
     "output_type": "stream",
     "text": [
      "\u001b[32m[I 2022-03-13 18:21:40,929]\u001b[0m Trial 43 finished with value: 0.6441849820204715 and parameters: {'p': 8, 'd': 0, 'q': 7, 'P': 1, 'D': 1, 'Q': 1}. Best is trial 32 with value: 0.6579636550203969.\u001b[0m\n"
     ]
    },
    {
     "name": "stdout",
     "output_type": "stream",
     "text": [
      "Optimization terminated successfully.\n",
      "         Current function value: -1.446223\n",
      "         Iterations: 11\n",
      "         Function evaluations: 2636\n"
     ]
    },
    {
     "name": "stderr",
     "output_type": "stream",
     "text": [
      "\u001b[32m[I 2022-03-13 18:21:55,708]\u001b[0m Trial 44 finished with value: 0.6574056194314151 and parameters: {'p': 8, 'd': 0, 'q': 8, 'P': 1, 'D': 1, 'Q': 1}. Best is trial 32 with value: 0.6579636550203969.\u001b[0m\n",
      "\u001b[32m[I 2022-03-13 18:22:02,505]\u001b[0m Trial 45 finished with value: 0.260953927035541 and parameters: {'p': 8, 'd': 0, 'q': 8, 'P': 0, 'D': 1, 'Q': 0}. Best is trial 32 with value: 0.6579636550203969.\u001b[0m\n"
     ]
    },
    {
     "name": "stdout",
     "output_type": "stream",
     "text": [
      "Optimization terminated successfully.\n",
      "         Current function value: -1.324244\n",
      "         Iterations: 10\n",
      "         Function evaluations: 2027\n",
      "Optimization terminated successfully.\n",
      "         Current function value: -1.403138\n",
      "         Iterations: 13\n",
      "         Function evaluations: 3251\n"
     ]
    },
    {
     "name": "stderr",
     "output_type": "stream",
     "text": [
      "\u001b[32m[I 2022-03-13 18:22:27,133]\u001b[0m Trial 46 finished with value: 0.6619971021193016 and parameters: {'p': 8, 'd': 0, 'q': 8, 'P': 2, 'D': 1, 'Q': 1}. Best is trial 46 with value: 0.6619971021193016.\u001b[0m\n"
     ]
    },
    {
     "name": "stdout",
     "output_type": "stream",
     "text": [
      "Optimization terminated successfully.\n",
      "         Current function value: -1.411528\n",
      "         Iterations: 12\n",
      "         Function evaluations: 3133\n"
     ]
    },
    {
     "name": "stderr",
     "output_type": "stream",
     "text": [
      "\u001b[32m[I 2022-03-13 18:22:52,085]\u001b[0m Trial 47 finished with value: 0.5449310061834097 and parameters: {'p': 7, 'd': 0, 'q': 8, 'P': 2, 'D': 1, 'Q': 1}. Best is trial 46 with value: 0.6619971021193016.\u001b[0m\n"
     ]
    },
    {
     "name": "stdout",
     "output_type": "stream",
     "text": [
      "Optimization terminated successfully.\n",
      "         Current function value: -1.358354\n",
      "         Iterations: 13\n",
      "         Function evaluations: 1604\n"
     ]
    },
    {
     "name": "stderr",
     "output_type": "stream",
     "text": [
      "\u001b[32m[I 2022-03-13 18:23:00,396]\u001b[0m Trial 48 finished with value: 0.460917122837736 and parameters: {'p': 4, 'd': 0, 'q': 3, 'P': 2, 'D': 1, 'Q': 0}. Best is trial 46 with value: 0.6619971021193016.\u001b[0m\n"
     ]
    },
    {
     "name": "stdout",
     "output_type": "stream",
     "text": [
      "Optimization terminated successfully.\n",
      "         Current function value: -1.415662\n",
      "         Iterations: 25\n",
      "         Function evaluations: 6165\n"
     ]
    },
    {
     "name": "stderr",
     "output_type": "stream",
     "text": [
      "\u001b[32m[I 2022-03-13 18:23:48,888]\u001b[0m Trial 49 finished with value: 0.5895634647907817 and parameters: {'p': 8, 'd': 0, 'q': 8, 'P': 3, 'D': 0, 'Q': 1}. Best is trial 46 with value: 0.6619971021193016.\u001b[0m\n",
      "\u001b[32m[I 2022-03-13 18:23:48,904]\u001b[0m A new study created in memory with name: no-name-76139a54-764f-4aae-b7bc-d82326e470e6\u001b[0m\n",
      "\u001b[32m[I 2022-03-13 18:23:54,837]\u001b[0m Trial 0 finished with value: 0.5175539047634181 and parameters: {'p': 2, 'd': 0, 'q': 5, 'P': 3, 'D': 1, 'Q': 0}. Best is trial 0 with value: 0.5175539047634181.\u001b[0m\n"
     ]
    },
    {
     "name": "stdout",
     "output_type": "stream",
     "text": [
      "Optimization terminated successfully.\n",
      "         Current function value: -1.360539\n",
      "         Iterations: 10\n",
      "         Function evaluations: 1323\n",
      "Optimization terminated successfully.\n",
      "         Current function value: -1.390223\n",
      "         Iterations: 9\n",
      "         Function evaluations: 2150\n"
     ]
    },
    {
     "name": "stderr",
     "output_type": "stream",
     "text": [
      "\u001b[32m[I 2022-03-13 18:24:14,183]\u001b[0m Trial 1 finished with value: 0.532954308928709 and parameters: {'p': 3, 'd': 1, 'q': 8, 'P': 2, 'D': 0, 'Q': 3}. Best is trial 1 with value: 0.532954308928709.\u001b[0m\n",
      "\u001b[32m[I 2022-03-13 18:24:18,339]\u001b[0m Trial 2 finished with value: 0.4824128014877739 and parameters: {'p': 0, 'd': 1, 'q': 6, 'P': 2, 'D': 0, 'Q': 0}. Best is trial 1 with value: 0.532954308928709.\u001b[0m\n"
     ]
    },
    {
     "name": "stdout",
     "output_type": "stream",
     "text": [
      "Optimization terminated successfully.\n",
      "         Current function value: -1.417083\n",
      "         Iterations: 9\n",
      "         Function evaluations: 1097\n",
      "Optimization terminated successfully.\n",
      "         Current function value: -1.449762\n",
      "         Iterations: 14\n",
      "         Function evaluations: 2500\n"
     ]
    },
    {
     "name": "stderr",
     "output_type": "stream",
     "text": [
      "\u001b[32m[I 2022-03-13 18:24:32,785]\u001b[0m Trial 3 finished with value: 0.5949422817131182 and parameters: {'p': 5, 'd': 1, 'q': 7, 'P': 0, 'D': 1, 'Q': 1}. Best is trial 3 with value: 0.5949422817131182.\u001b[0m\n"
     ]
    },
    {
     "name": "stdout",
     "output_type": "stream",
     "text": [
      "Optimization terminated successfully.\n",
      "         Current function value: -1.381549\n",
      "         Iterations: 11\n",
      "         Function evaluations: 1739\n"
     ]
    },
    {
     "name": "stderr",
     "output_type": "stream",
     "text": [
      "\u001b[32m[I 2022-03-13 18:24:42,105]\u001b[0m Trial 4 finished with value: 0.4592480601405974 and parameters: {'p': 4, 'd': 0, 'q': 5, 'P': 2, 'D': 1, 'Q': 0}. Best is trial 3 with value: 0.5949422817131182.\u001b[0m\n"
     ]
    },
    {
     "name": "stdout",
     "output_type": "stream",
     "text": [
      "Optimization terminated successfully.\n",
      "         Current function value: -1.414688\n",
      "         Iterations: 7\n",
      "         Function evaluations: 1629\n"
     ]
    },
    {
     "name": "stderr",
     "output_type": "stream",
     "text": [
      "\u001b[32m[I 2022-03-13 18:24:56,836]\u001b[0m Trial 5 finished with value: 0.6054324316120794 and parameters: {'p': 8, 'd': 0, 'q': 8, 'P': 0, 'D': 1, 'Q': 2}. Best is trial 5 with value: 0.6054324316120794.\u001b[0m\n",
      "\u001b[32m[I 2022-03-13 18:24:57,284]\u001b[0m Trial 6 finished with value: -0.7276020959106797 and parameters: {'p': 7, 'd': 1, 'q': 1, 'P': 0, 'D': 1, 'Q': 0}. Best is trial 5 with value: 0.6054324316120794.\u001b[0m\n"
     ]
    },
    {
     "name": "stdout",
     "output_type": "stream",
     "text": [
      "Optimization terminated successfully.\n",
      "         Current function value: -1.237481\n",
      "         Iterations: 3\n",
      "         Function evaluations: 291\n",
      "Optimization terminated successfully.\n",
      "         Current function value: -1.439278\n",
      "         Iterations: 40\n",
      "         Function evaluations: 10009\n"
     ]
    },
    {
     "name": "stderr",
     "output_type": "stream",
     "text": [
      "\u001b[32m[I 2022-03-13 18:26:18,630]\u001b[0m Trial 7 finished with value: 0.5309047514928666 and parameters: {'p': 8, 'd': 1, 'q': 8, 'P': 1, 'D': 0, 'Q': 3}. Best is trial 5 with value: 0.6054324316120794.\u001b[0m\n",
      "\u001b[32m[I 2022-03-13 18:26:19,702]\u001b[0m Trial 8 finished with value: 0.0810608358225019 and parameters: {'p': 4, 'd': 1, 'q': 2, 'P': 0, 'D': 1, 'Q': 0}. Best is trial 5 with value: 0.6054324316120794.\u001b[0m\n"
     ]
    },
    {
     "name": "stdout",
     "output_type": "stream",
     "text": [
      "Optimization terminated successfully.\n",
      "         Current function value: -1.280158\n",
      "         Iterations: 4\n",
      "         Function evaluations: 356\n"
     ]
    },
    {
     "name": "stderr",
     "output_type": "stream",
     "text": [
      "\u001b[32m[I 2022-03-13 18:26:32,590]\u001b[0m Trial 9 finished with value: 0.33704706638648085 and parameters: {'p': 7, 'd': 0, 'q': 8, 'P': 1, 'D': 0, 'Q': 0}. Best is trial 5 with value: 0.6054324316120794.\u001b[0m\n"
     ]
    },
    {
     "name": "stdout",
     "output_type": "stream",
     "text": [
      "Optimization terminated successfully.\n",
      "         Current function value: -1.331945\n",
      "         Iterations: 19\n",
      "         Function evaluations: 3969\n",
      "Optimization terminated successfully.\n",
      "         Current function value: -1.434304\n",
      "         Iterations: 12\n",
      "         Function evaluations: 1705\n"
     ]
    },
    {
     "name": "stderr",
     "output_type": "stream",
     "text": [
      "\u001b[32m[I 2022-03-13 18:26:44,277]\u001b[0m Trial 10 finished with value: 0.6390815004220924 and parameters: {'p': 6, 'd': 0, 'q': 2, 'P': 1, 'D': 1, 'Q': 2}. Best is trial 10 with value: 0.6390815004220924.\u001b[0m\n"
     ]
    },
    {
     "name": "stdout",
     "output_type": "stream",
     "text": [
      "Optimization terminated successfully.\n",
      "         Current function value: -1.426568\n",
      "         Iterations: 10\n",
      "         Function evaluations: 1553\n"
     ]
    },
    {
     "name": "stderr",
     "output_type": "stream",
     "text": [
      "\u001b[32m[I 2022-03-13 18:26:53,517]\u001b[0m Trial 11 finished with value: 0.6206105636594961 and parameters: {'p': 6, 'd': 0, 'q': 3, 'P': 1, 'D': 1, 'Q': 2}. Best is trial 10 with value: 0.6390815004220924.\u001b[0m\n"
     ]
    },
    {
     "name": "stdout",
     "output_type": "stream",
     "text": [
      "Optimization terminated successfully.\n",
      "         Current function value: -1.426568\n",
      "         Iterations: 10\n",
      "         Function evaluations: 1553\n"
     ]
    },
    {
     "name": "stderr",
     "output_type": "stream",
     "text": [
      "\u001b[32m[I 2022-03-13 18:27:02,800]\u001b[0m Trial 12 finished with value: 0.6206105636594961 and parameters: {'p': 6, 'd': 0, 'q': 3, 'P': 1, 'D': 1, 'Q': 2}. Best is trial 10 with value: 0.6390815004220924.\u001b[0m\n",
      "\u001b[32m[I 2022-03-13 18:27:04,854]\u001b[0m Trial 13 finished with value: 0.6278821742766765 and parameters: {'p': 6, 'd': 0, 'q': 0, 'P': 1, 'D': 1, 'Q': 2}. Best is trial 10 with value: 0.6390815004220924.\u001b[0m\n"
     ]
    },
    {
     "name": "stdout",
     "output_type": "stream",
     "text": [
      "Optimization terminated successfully.\n",
      "         Current function value: -1.432103\n",
      "         Iterations: 3\n",
      "         Function evaluations: 330\n",
      "Optimization terminated successfully.\n",
      "         Current function value: -1.360130\n",
      "         Iterations: 9\n",
      "         Function evaluations: 1173\n"
     ]
    },
    {
     "name": "stderr",
     "output_type": "stream",
     "text": [
      "\u001b[32m[I 2022-03-13 18:27:12,754]\u001b[0m Trial 14 finished with value: 0.6204785399479646 and parameters: {'p': 5, 'd': 0, 'q': 0, 'P': 3, 'D': 1, 'Q': 1}. Best is trial 10 with value: 0.6390815004220924.\u001b[0m\n",
      "\u001b[32m[I 2022-03-13 18:27:14,822]\u001b[0m Trial 15 finished with value: 0.6278821742766765 and parameters: {'p': 6, 'd': 0, 'q': 0, 'P': 1, 'D': 1, 'Q': 2}. Best is trial 10 with value: 0.6390815004220924.\u001b[0m\n"
     ]
    },
    {
     "name": "stdout",
     "output_type": "stream",
     "text": [
      "Optimization terminated successfully.\n",
      "         Current function value: -1.432103\n",
      "         Iterations: 3\n",
      "         Function evaluations: 330\n",
      "Optimization terminated successfully.\n",
      "         Current function value: -1.372135\n",
      "         Iterations: 3\n",
      "         Function evaluations: 328\n"
     ]
    },
    {
     "name": "stderr",
     "output_type": "stream",
     "text": [
      "\u001b[32m[I 2022-03-13 18:27:17,953]\u001b[0m Trial 16 finished with value: 0.617185134328856 and parameters: {'p': 2, 'd': 0, 'q': 1, 'P': 2, 'D': 1, 'Q': 3}. Best is trial 10 with value: 0.6390815004220924.\u001b[0m\n",
      "\u001b[32m[I 2022-03-13 18:27:22,893]\u001b[0m Trial 17 finished with value: 0.6181198061275746 and parameters: {'p': 5, 'd': 0, 'q': 2, 'P': 1, 'D': 0, 'Q': 1}. Best is trial 10 with value: 0.6390815004220924.\u001b[0m\n"
     ]
    },
    {
     "name": "stdout",
     "output_type": "stream",
     "text": [
      "Optimization terminated successfully.\n",
      "         Current function value: -1.492987\n",
      "         Iterations: 12\n",
      "         Function evaluations: 1470\n",
      "Optimization terminated successfully.\n",
      "         Current function value: -1.405297\n",
      "         Iterations: 3\n",
      "         Function evaluations: 476\n"
     ]
    },
    {
     "name": "stderr",
     "output_type": "stream",
     "text": [
      "\u001b[32m[I 2022-03-13 18:27:26,696]\u001b[0m Trial 18 finished with value: 0.6299451790021053 and parameters: {'p': 7, 'd': 0, 'q': 1, 'P': 2, 'D': 1, 'Q': 2}. Best is trial 10 with value: 0.6390815004220924.\u001b[0m\n"
     ]
    },
    {
     "name": "stdout",
     "output_type": "stream",
     "text": [
      "Optimization terminated successfully.\n",
      "         Current function value: -1.367093\n",
      "         Iterations: 12\n",
      "         Function evaluations: 2089\n"
     ]
    },
    {
     "name": "stderr",
     "output_type": "stream",
     "text": [
      "\u001b[32m[I 2022-03-13 18:27:43,371]\u001b[0m Trial 19 finished with value: 0.6271191644951832 and parameters: {'p': 7, 'd': 0, 'q': 3, 'P': 3, 'D': 1, 'Q': 1}. Best is trial 10 with value: 0.6390815004220924.\u001b[0m\n"
     ]
    },
    {
     "name": "stdout",
     "output_type": "stream",
     "text": [
      "Optimization terminated successfully.\n",
      "         Current function value: -1.430377\n",
      "         Iterations: 8\n",
      "         Function evaluations: 1426\n"
     ]
    },
    {
     "name": "stderr",
     "output_type": "stream",
     "text": [
      "\u001b[32m[I 2022-03-13 18:27:53,567]\u001b[0m Trial 20 finished with value: 0.6196369957143828 and parameters: {'p': 8, 'd': 0, 'q': 2, 'P': 2, 'D': 0, 'Q': 3}. Best is trial 10 with value: 0.6390815004220924.\u001b[0m\n",
      "\u001b[32m[I 2022-03-13 18:27:58,433]\u001b[0m Trial 21 finished with value: 0.6314789460381394 and parameters: {'p': 6, 'd': 0, 'q': 1, 'P': 1, 'D': 1, 'Q': 2}. Best is trial 10 with value: 0.6390815004220924.\u001b[0m\n"
     ]
    },
    {
     "name": "stdout",
     "output_type": "stream",
     "text": [
      "Optimization terminated successfully.\n",
      "         Current function value: -1.427495\n",
      "         Iterations: 6\n",
      "         Function evaluations: 801\n",
      "Optimization terminated successfully.\n",
      "         Current function value: -1.405297\n",
      "         Iterations: 3\n",
      "         Function evaluations: 476\n"
     ]
    },
    {
     "name": "stderr",
     "output_type": "stream",
     "text": [
      "\u001b[32m[I 2022-03-13 18:28:02,289]\u001b[0m Trial 22 finished with value: 0.6299451790021053 and parameters: {'p': 7, 'd': 0, 'q': 1, 'P': 2, 'D': 1, 'Q': 2}. Best is trial 10 with value: 0.6390815004220924.\u001b[0m\n",
      "\u001b[32m[I 2022-03-13 18:28:04,402]\u001b[0m Trial 23 finished with value: 0.6193021754387535 and parameters: {'p': 4, 'd': 0, 'q': 1, 'P': 1, 'D': 1, 'Q': 2}. Best is trial 10 with value: 0.6390815004220924.\u001b[0m\n"
     ]
    },
    {
     "name": "stdout",
     "output_type": "stream",
     "text": [
      "Optimization terminated successfully.\n",
      "         Current function value: -1.420697\n",
      "         Iterations: 3\n",
      "         Function evaluations: 346\n",
      "Optimization terminated successfully.\n",
      "         Current function value: -1.423296\n",
      "         Iterations: 12\n",
      "         Function evaluations: 2133\n"
     ]
    },
    {
     "name": "stderr",
     "output_type": "stream",
     "text": [
      "\u001b[32m[I 2022-03-13 18:28:18,530]\u001b[0m Trial 24 finished with value: 0.6236185274076869 and parameters: {'p': 5, 'd': 0, 'q': 4, 'P': 2, 'D': 1, 'Q': 2}. Best is trial 10 with value: 0.6390815004220924.\u001b[0m\n",
      "\u001b[32m[I 2022-03-13 18:28:22,494]\u001b[0m Trial 25 finished with value: 0.6356333100743479 and parameters: {'p': 7, 'd': 0, 'q': 2, 'P': 1, 'D': 1, 'Q': 1}. Best is trial 10 with value: 0.6390815004220924.\u001b[0m\n"
     ]
    },
    {
     "name": "stdout",
     "output_type": "stream",
     "text": [
      "Optimization terminated successfully.\n",
      "         Current function value: -1.451319\n",
      "         Iterations: 6\n",
      "         Function evaluations: 889\n"
     ]
    },
    {
     "name": "stderr",
     "output_type": "stream",
     "text": [
      "\u001b[32m[I 2022-03-13 18:28:36,698]\u001b[0m Trial 26 finished with value: 0.6189278456325573 and parameters: {'p': 6, 'd': 0, 'q': 4, 'P': 0, 'D': 1, 'Q': 1}. Best is trial 10 with value: 0.6390815004220924.\u001b[0m\n"
     ]
    },
    {
     "name": "stdout",
     "output_type": "stream",
     "text": [
      "Optimization terminated successfully.\n",
      "         Current function value: -1.455728\n",
      "         Iterations: 19\n",
      "         Function evaluations: 2920\n"
     ]
    },
    {
     "name": "stderr",
     "output_type": "stream",
     "text": [
      "\u001b[32m[I 2022-03-13 18:28:39,816]\u001b[0m Trial 27 finished with value: 0.6307523070991552 and parameters: {'p': 8, 'd': 0, 'q': 2, 'P': 1, 'D': 1, 'Q': 1}. Best is trial 10 with value: 0.6390815004220924.\u001b[0m\n"
     ]
    },
    {
     "name": "stdout",
     "output_type": "stream",
     "text": [
      "Optimization terminated successfully.\n",
      "         Current function value: -1.449747\n",
      "         Iterations: 5\n",
      "         Function evaluations: 739\n"
     ]
    },
    {
     "name": "stderr",
     "output_type": "stream",
     "text": [
      "\u001b[32m[I 2022-03-13 18:28:40,920]\u001b[0m Trial 28 finished with value: 0.6276397168096703 and parameters: {'p': 0, 'd': 0, 'q': 3, 'P': 1, 'D': 1, 'Q': 1}. Best is trial 10 with value: 0.6390815004220924.\u001b[0m\n"
     ]
    },
    {
     "name": "stdout",
     "output_type": "stream",
     "text": [
      "Optimization terminated successfully.\n",
      "         Current function value: -1.450407\n",
      "         Iterations: 4\n",
      "         Function evaluations: 298\n",
      "Optimization terminated successfully.\n",
      "         Current function value: -1.351635\n",
      "         Iterations: 10\n",
      "         Function evaluations: 1567\n"
     ]
    },
    {
     "name": "stderr",
     "output_type": "stream",
     "text": [
      "\u001b[32m[I 2022-03-13 18:28:57,675]\u001b[0m Trial 29 finished with value: 0.623260172671543 and parameters: {'p': 3, 'd': 0, 'q': 5, 'P': 0, 'D': 1, 'Q': 3}. Best is trial 10 with value: 0.6390815004220924.\u001b[0m\n",
      "\u001b[32m[I 2022-03-13 18:29:00,568]\u001b[0m Trial 30 finished with value: 0.628039619272512 and parameters: {'p': 5, 'd': 0, 'q': 2, 'P': 1, 'D': 1, 'Q': 1}. Best is trial 10 with value: 0.6390815004220924.\u001b[0m\n"
     ]
    },
    {
     "name": "stdout",
     "output_type": "stream",
     "text": [
      "Optimization terminated successfully.\n",
      "         Current function value: -1.450315\n",
      "         Iterations: 6\n",
      "         Function evaluations: 737\n"
     ]
    },
    {
     "name": "stderr",
     "output_type": "stream",
     "text": [
      "\u001b[32m[I 2022-03-13 18:29:03,677]\u001b[0m Trial 31 finished with value: 0.6307523070991552 and parameters: {'p': 8, 'd': 0, 'q': 2, 'P': 1, 'D': 1, 'Q': 1}. Best is trial 10 with value: 0.6390815004220924.\u001b[0m\n"
     ]
    },
    {
     "name": "stdout",
     "output_type": "stream",
     "text": [
      "Optimization terminated successfully.\n",
      "         Current function value: -1.449747\n",
      "         Iterations: 5\n",
      "         Function evaluations: 739\n"
     ]
    },
    {
     "name": "stderr",
     "output_type": "stream",
     "text": [
      "\u001b[32m[I 2022-03-13 18:29:13,651]\u001b[0m Trial 32 finished with value: 0.6293557392789118 and parameters: {'p': 8, 'd': 0, 'q': 3, 'P': 1, 'D': 1, 'Q': 1}. Best is trial 10 with value: 0.6390815004220924.\u001b[0m\n"
     ]
    },
    {
     "name": "stdout",
     "output_type": "stream",
     "text": [
      "Optimization terminated successfully.\n",
      "         Current function value: -1.461559\n",
      "         Iterations: 14\n",
      "         Function evaluations: 2284\n",
      "Optimization terminated successfully.\n",
      "         Current function value: -1.424815\n",
      "         Iterations: 6\n",
      "         Function evaluations: 882\n"
     ]
    },
    {
     "name": "stderr",
     "output_type": "stream",
     "text": [
      "\u001b[32m[I 2022-03-13 18:29:19,731]\u001b[0m Trial 33 finished with value: 0.6347848984102589 and parameters: {'p': 7, 'd': 0, 'q': 2, 'P': 1, 'D': 1, 'Q': 2}. Best is trial 10 with value: 0.6390815004220924.\u001b[0m\n",
      "\u001b[32m[I 2022-03-13 18:29:22,668]\u001b[0m Trial 34 finished with value: 0.4495488106522174 and parameters: {'p': 7, 'd': 1, 'q': 0, 'P': 1, 'D': 1, 'Q': 2}. Best is trial 10 with value: 0.6390815004220924.\u001b[0m\n"
     ]
    },
    {
     "name": "stdout",
     "output_type": "stream",
     "text": [
      "Optimization terminated successfully.\n",
      "         Current function value: -1.374186\n",
      "         Iterations: 4\n",
      "         Function evaluations: 490\n"
     ]
    },
    {
     "name": "stderr",
     "output_type": "stream",
     "text": [
      "\u001b[32m[I 2022-03-13 18:29:47,391]\u001b[0m Trial 35 finished with value: -5.257563213937632e+22 and parameters: {'p': 6, 'd': 0, 'q': 4, 'P': 0, 'D': 0, 'Q': 2}. Best is trial 10 with value: 0.6390815004220924.\u001b[0m\n"
     ]
    },
    {
     "name": "stdout",
     "output_type": "stream",
     "text": [
      "Optimization terminated successfully.\n",
      "         Current function value: -0.642418\n",
      "         Iterations: 35\n",
      "         Function evaluations: 5055\n",
      "Optimization terminated successfully.\n",
      "         Current function value: -1.382703\n",
      "         Iterations: 3\n",
      "         Function evaluations: 486\n"
     ]
    },
    {
     "name": "stderr",
     "output_type": "stream",
     "text": [
      "\u001b[32m[I 2022-03-13 18:29:52,097]\u001b[0m Trial 36 finished with value: 0.6285217397299276 and parameters: {'p': 7, 'd': 0, 'q': 1, 'P': 2, 'D': 1, 'Q': 3}. Best is trial 10 with value: 0.6390815004220924.\u001b[0m\n"
     ]
    },
    {
     "name": "stdout",
     "output_type": "stream",
     "text": [
      "Optimization terminated successfully.\n",
      "         Current function value: -1.407271\n",
      "         Iterations: 12\n",
      "         Function evaluations: 2229\n"
     ]
    },
    {
     "name": "stderr",
     "output_type": "stream",
     "text": [
      "\u001b[32m[I 2022-03-13 18:30:09,868]\u001b[0m Trial 37 finished with value: 0.5973823741661399 and parameters: {'p': 6, 'd': 1, 'q': 6, 'P': 0, 'D': 1, 'Q': 2}. Best is trial 10 with value: 0.6390815004220924.\u001b[0m\n",
      "\u001b[32m[I 2022-03-13 18:30:12,080]\u001b[0m Trial 38 finished with value: 0.6238279309868991 and parameters: {'p': 5, 'd': 0, 'q': 1, 'P': 1, 'D': 1, 'Q': 2}. Best is trial 10 with value: 0.6390815004220924.\u001b[0m\n"
     ]
    },
    {
     "name": "stdout",
     "output_type": "stream",
     "text": [
      "Optimization terminated successfully.\n",
      "         Current function value: -1.422138\n",
      "         Iterations: 3\n",
      "         Function evaluations: 337\n",
      "Optimization terminated successfully.\n",
      "         Current function value: -1.355345\n",
      "         Iterations: 6\n",
      "         Function evaluations: 762\n"
     ]
    },
    {
     "name": "stderr",
     "output_type": "stream",
     "text": [
      "\u001b[32m[I 2022-03-13 18:30:19,852]\u001b[0m Trial 39 finished with value: 0.5625853795642315 and parameters: {'p': 4, 'd': 1, 'q': 2, 'P': 1, 'D': 1, 'Q': 3}. Best is trial 10 with value: 0.6390815004220924.\u001b[0m\n",
      "\u001b[32m[I 2022-03-13 18:30:52,859]\u001b[0m Trial 40 finished with value: -2.546193624385134e+21 and parameters: {'p': 7, 'd': 0, 'q': 4, 'P': 0, 'D': 0, 'Q': 2}. Best is trial 10 with value: 0.6390815004220924.\u001b[0m\n"
     ]
    },
    {
     "name": "stdout",
     "output_type": "stream",
     "text": [
      "Optimization terminated successfully.\n",
      "         Current function value: -0.676109\n",
      "         Iterations: 45\n",
      "         Function evaluations: 6755\n"
     ]
    },
    {
     "name": "stderr",
     "output_type": "stream",
     "text": [
      "\u001b[32m[I 2022-03-13 18:30:55,993]\u001b[0m Trial 41 finished with value: 0.6307523070991552 and parameters: {'p': 8, 'd': 0, 'q': 2, 'P': 1, 'D': 1, 'Q': 1}. Best is trial 10 with value: 0.6390815004220924.\u001b[0m\n"
     ]
    },
    {
     "name": "stdout",
     "output_type": "stream",
     "text": [
      "Optimization terminated successfully.\n",
      "         Current function value: -1.449747\n",
      "         Iterations: 5\n",
      "         Function evaluations: 739\n"
     ]
    },
    {
     "name": "stderr",
     "output_type": "stream",
     "text": [
      "\u001b[32m[I 2022-03-13 18:31:06,220]\u001b[0m Trial 42 finished with value: 0.6293557392789118 and parameters: {'p': 8, 'd': 0, 'q': 3, 'P': 1, 'D': 1, 'Q': 1}. Best is trial 10 with value: 0.6390815004220924.\u001b[0m\n"
     ]
    },
    {
     "name": "stdout",
     "output_type": "stream",
     "text": [
      "Optimization terminated successfully.\n",
      "         Current function value: -1.461559\n",
      "         Iterations: 14\n",
      "         Function evaluations: 2284\n",
      "Optimization terminated successfully.\n",
      "         Current function value: -1.451319\n",
      "         Iterations: 6\n",
      "         Function evaluations: 889\n"
     ]
    },
    {
     "name": "stderr",
     "output_type": "stream",
     "text": [
      "\u001b[32m[I 2022-03-13 18:31:10,330]\u001b[0m Trial 43 finished with value: 0.6356333100743479 and parameters: {'p': 7, 'd': 0, 'q': 2, 'P': 1, 'D': 1, 'Q': 1}. Best is trial 10 with value: 0.6390815004220924.\u001b[0m\n",
      "\u001b[32m[I 2022-03-13 18:31:11,173]\u001b[0m Trial 44 finished with value: 0.35923076580941304 and parameters: {'p': 7, 'd': 0, 'q': 1, 'P': 1, 'D': 1, 'Q': 0}. Best is trial 10 with value: 0.6390815004220924.\u001b[0m\n"
     ]
    },
    {
     "name": "stdout",
     "output_type": "stream",
     "text": [
      "Optimization terminated successfully.\n",
      "         Current function value: -1.393339\n",
      "         Iterations: 3\n",
      "         Function evaluations: 359\n",
      "Optimization terminated successfully.\n",
      "         Current function value: -1.426568\n",
      "         Iterations: 10\n",
      "         Function evaluations: 1553\n"
     ]
    },
    {
     "name": "stderr",
     "output_type": "stream",
     "text": [
      "\u001b[32m[I 2022-03-13 18:31:20,608]\u001b[0m Trial 45 finished with value: 0.6206105636594961 and parameters: {'p': 6, 'd': 0, 'q': 3, 'P': 1, 'D': 1, 'Q': 2}. Best is trial 10 with value: 0.6390815004220924.\u001b[0m\n",
      "\u001b[32m[I 2022-03-13 18:31:21,523]\u001b[0m Trial 46 finished with value: 0.3576897569804225 and parameters: {'p': 7, 'd': 0, 'q': 0, 'P': 1, 'D': 1, 'Q': 0}. Best is trial 10 with value: 0.6390815004220924.\u001b[0m\n"
     ]
    },
    {
     "name": "stdout",
     "output_type": "stream",
     "text": [
      "Optimization terminated successfully.\n",
      "         Current function value: -1.392664\n",
      "         Iterations: 3\n",
      "         Function evaluations: 409\n",
      "Optimization terminated successfully.\n",
      "         Current function value: -1.420868\n",
      "         Iterations: 11\n",
      "         Function evaluations: 1875\n"
     ]
    },
    {
     "name": "stderr",
     "output_type": "stream",
     "text": [
      "\u001b[32m[I 2022-03-13 18:31:35,319]\u001b[0m Trial 47 finished with value: 0.6395964292713061 and parameters: {'p': 6, 'd': 0, 'q': 2, 'P': 2, 'D': 1, 'Q': 2}. Best is trial 47 with value: 0.6395964292713061.\u001b[0m\n"
     ]
    },
    {
     "name": "stdout",
     "output_type": "stream",
     "text": [
      "Optimization terminated successfully.\n",
      "         Current function value: -1.404479\n",
      "         Iterations: 7\n",
      "         Function evaluations: 1017\n"
     ]
    },
    {
     "name": "stderr",
     "output_type": "stream",
     "text": [
      "\u001b[32m[I 2022-03-13 18:31:40,918]\u001b[0m Trial 48 finished with value: 0.6219637773935799 and parameters: {'p': 5, 'd': 0, 'q': 2, 'P': 2, 'D': 1, 'Q': 1}. Best is trial 47 with value: 0.6395964292713061.\u001b[0m\n"
     ]
    },
    {
     "name": "stdout",
     "output_type": "stream",
     "text": [
      "Optimization terminated successfully.\n",
      "         Current function value: -1.402416\n",
      "         Iterations: 14\n",
      "         Function evaluations: 2487\n"
     ]
    },
    {
     "name": "stderr",
     "output_type": "stream",
     "text": [
      "\u001b[32m[I 2022-03-13 18:32:01,335]\u001b[0m Trial 49 finished with value: 0.5787348676227508 and parameters: {'p': 6, 'd': 1, 'q': 3, 'P': 2, 'D': 1, 'Q': 2}. Best is trial 47 with value: 0.6395964292713061.\u001b[0m\n",
      "\u001b[32m[I 2022-03-13 18:32:01,343]\u001b[0m A new study created in memory with name: no-name-019518bf-fcb2-4a38-9cf9-94f1c52e5b6d\u001b[0m\n",
      "\u001b[32m[I 2022-03-13 18:32:02,292]\u001b[0m Trial 0 finished with value: 0.16825590251187017 and parameters: {'p': 7, 'd': 1, 'q': 0, 'P': 1, 'D': 1, 'Q': 0}. Best is trial 0 with value: 0.16825590251187017.\u001b[0m\n"
     ]
    },
    {
     "name": "stdout",
     "output_type": "stream",
     "text": [
      "Optimization terminated successfully.\n",
      "         Current function value: -1.336171\n",
      "         Iterations: 4\n",
      "         Function evaluations: 429\n"
     ]
    },
    {
     "name": "stderr",
     "output_type": "stream",
     "text": [
      "\u001b[32m[I 2022-03-13 18:32:05,146]\u001b[0m Trial 1 finished with value: -0.6748208967685205 and parameters: {'p': 0, 'd': 1, 'q': 0, 'P': 1, 'D': 1, 'Q': 3}. Best is trial 0 with value: 0.16825590251187017.\u001b[0m\n"
     ]
    },
    {
     "name": "stdout",
     "output_type": "stream",
     "text": [
      "Optimization terminated successfully.\n",
      "         Current function value: -1.134243\n",
      "         Iterations: 4\n",
      "         Function evaluations: 267\n",
      "Optimization terminated successfully.\n",
      "         Current function value: -1.342885\n",
      "         Iterations: 3\n",
      "         Function evaluations: 427\n"
     ]
    },
    {
     "name": "stderr",
     "output_type": "stream",
     "text": [
      "\u001b[32m[I 2022-03-13 18:32:07,534]\u001b[0m Trial 2 finished with value: 0.5248537885087315 and parameters: {'p': 8, 'd': 0, 'q': 1, 'P': 3, 'D': 1, 'Q': 0}. Best is trial 2 with value: 0.5248537885087315.\u001b[0m\n",
      "\u001b[32m[I 2022-03-13 18:32:09,921]\u001b[0m Trial 3 finished with value: 0.6229455378791604 and parameters: {'p': 0, 'd': 0, 'q': 1, 'P': 2, 'D': 1, 'Q': 2}. Best is trial 3 with value: 0.6229455378791604.\u001b[0m\n"
     ]
    },
    {
     "name": "stdout",
     "output_type": "stream",
     "text": [
      "Optimization terminated successfully.\n",
      "         Current function value: -1.420556\n",
      "         Iterations: 4\n",
      "         Function evaluations: 379\n"
     ]
    },
    {
     "name": "stderr",
     "output_type": "stream",
     "text": [
      "\u001b[32m[I 2022-03-13 18:32:12,619]\u001b[0m Trial 4 finished with value: 0.49199478225207827 and parameters: {'p': 3, 'd': 1, 'q': 3, 'P': 2, 'D': 0, 'Q': 0}. Best is trial 3 with value: 0.6229455378791604.\u001b[0m\n"
     ]
    },
    {
     "name": "stdout",
     "output_type": "stream",
     "text": [
      "Optimization terminated successfully.\n",
      "         Current function value: -1.403468\n",
      "         Iterations: 6\n",
      "         Function evaluations: 656\n"
     ]
    },
    {
     "name": "stderr",
     "output_type": "stream",
     "text": [
      "\u001b[32m[I 2022-03-13 18:32:19,313]\u001b[0m Trial 5 finished with value: 0.6067418697506638 and parameters: {'p': 6, 'd': 0, 'q': 4, 'P': 1, 'D': 0, 'Q': 1}. Best is trial 3 with value: 0.6229455378791604.\u001b[0m\n"
     ]
    },
    {
     "name": "stdout",
     "output_type": "stream",
     "text": [
      "Optimization terminated successfully.\n",
      "         Current function value: -1.494033\n",
      "         Iterations: 13\n",
      "         Function evaluations: 1958\n",
      "Optimization terminated successfully.\n",
      "         Current function value: -1.412606\n",
      "         Iterations: 11\n",
      "         Function evaluations: 2079\n"
     ]
    },
    {
     "name": "stderr",
     "output_type": "stream",
     "text": [
      "\u001b[32m[I 2022-03-13 18:32:35,908]\u001b[0m Trial 6 finished with value: 0.6278020414038912 and parameters: {'p': 2, 'd': 0, 'q': 7, 'P': 2, 'D': 0, 'Q': 3}. Best is trial 6 with value: 0.6278020414038912.\u001b[0m\n"
     ]
    },
    {
     "name": "stdout",
     "output_type": "stream",
     "text": [
      "Optimization terminated successfully.\n",
      "         Current function value: -1.288197\n",
      "         Iterations: 22\n",
      "         Function evaluations: 3346\n"
     ]
    },
    {
     "name": "stderr",
     "output_type": "stream",
     "text": [
      "\u001b[32m[I 2022-03-13 18:32:58,376]\u001b[0m Trial 7 finished with value: 0.20266019817891034 and parameters: {'p': 4, 'd': 1, 'q': 4, 'P': 0, 'D': 0, 'Q': 3}. Best is trial 6 with value: 0.6278020414038912.\u001b[0m\n",
      "\u001b[32m[I 2022-03-13 18:33:00,005]\u001b[0m Trial 8 finished with value: 0.5930736328652059 and parameters: {'p': 2, 'd': 0, 'q': 4, 'P': 2, 'D': 0, 'Q': 1}. Best is trial 6 with value: 0.6278020414038912.\u001b[0m\n"
     ]
    },
    {
     "name": "stdout",
     "output_type": "stream",
     "text": [
      "Optimization terminated successfully.\n",
      "         Current function value: -1.458336\n",
      "         Iterations: 4\n",
      "         Function evaluations: 477\n",
      "Optimization terminated successfully.\n",
      "         Current function value: -1.396900\n",
      "         Iterations: 8\n",
      "         Function evaluations: 1300\n"
     ]
    },
    {
     "name": "stderr",
     "output_type": "stream",
     "text": [
      "\u001b[32m[I 2022-03-13 18:33:08,357]\u001b[0m Trial 9 finished with value: 0.6263480407168633 and parameters: {'p': 1, 'd': 0, 'q': 8, 'P': 3, 'D': 1, 'Q': 1}. Best is trial 6 with value: 0.6278020414038912.\u001b[0m\n"
     ]
    },
    {
     "name": "stdout",
     "output_type": "stream",
     "text": [
      "Optimization terminated successfully.\n",
      "         Current function value: -1.331451\n",
      "         Iterations: 8\n",
      "         Function evaluations: 1661\n"
     ]
    },
    {
     "name": "stderr",
     "output_type": "stream",
     "text": [
      "\u001b[32m[I 2022-03-13 18:33:17,878]\u001b[0m Trial 10 finished with value: 0.15045968974216628 and parameters: {'p': 5, 'd': 0, 'q': 8, 'P': 0, 'D': 0, 'Q': 2}. Best is trial 6 with value: 0.6278020414038912.\u001b[0m\n"
     ]
    },
    {
     "name": "stdout",
     "output_type": "stream",
     "text": [
      "Optimization terminated successfully.\n",
      "         Current function value: -1.397603\n",
      "         Iterations: 8\n",
      "         Function evaluations: 1489\n"
     ]
    },
    {
     "name": "stderr",
     "output_type": "stream",
     "text": [
      "\u001b[32m[I 2022-03-13 18:33:29,661]\u001b[0m Trial 11 finished with value: 0.6246084573404773 and parameters: {'p': 2, 'd': 0, 'q': 8, 'P': 3, 'D': 1, 'Q': 2}. Best is trial 6 with value: 0.6278020414038912.\u001b[0m\n",
      "\u001b[32m[I 2022-03-13 18:33:33,377]\u001b[0m Trial 12 finished with value: 0.5949547037642223 and parameters: {'p': 1, 'd': 0, 'q': 6, 'P': 3, 'D': 0, 'Q': 1}. Best is trial 6 with value: 0.6278020414038912.\u001b[0m\n"
     ]
    },
    {
     "name": "stdout",
     "output_type": "stream",
     "text": [
      "Optimization terminated successfully.\n",
      "         Current function value: -1.428165\n",
      "         Iterations: 5\n",
      "         Function evaluations: 709\n",
      "Optimization terminated successfully.\n",
      "         Current function value: -1.367279\n",
      "         Iterations: 13\n",
      "         Function evaluations: 2402\n"
     ]
    },
    {
     "name": "stderr",
     "output_type": "stream",
     "text": [
      "\u001b[32m[I 2022-03-13 18:33:58,931]\u001b[0m Trial 13 finished with value: 0.625955942220522 and parameters: {'p': 3, 'd': 0, 'q': 6, 'P': 3, 'D': 1, 'Q': 3}. Best is trial 6 with value: 0.6278020414038912.\u001b[0m\n"
     ]
    },
    {
     "name": "stdout",
     "output_type": "stream",
     "text": [
      "Optimization terminated successfully.\n",
      "         Current function value: -1.403874\n",
      "         Iterations: 5\n",
      "         Function evaluations: 783\n"
     ]
    },
    {
     "name": "stderr",
     "output_type": "stream",
     "text": [
      "\u001b[32m[I 2022-03-13 18:34:04,974]\u001b[0m Trial 14 finished with value: 0.6241970655904229 and parameters: {'p': 1, 'd': 0, 'q': 6, 'P': 2, 'D': 1, 'Q': 2}. Best is trial 6 with value: 0.6278020414038912.\u001b[0m\n"
     ]
    },
    {
     "name": "stdout",
     "output_type": "stream",
     "text": [
      "Optimization terminated successfully.\n",
      "         Current function value: -1.436466\n",
      "         Iterations: 9\n",
      "         Function evaluations: 1602\n"
     ]
    },
    {
     "name": "stderr",
     "output_type": "stream",
     "text": [
      "\u001b[32m[I 2022-03-13 18:34:14,552]\u001b[0m Trial 15 finished with value: 0.6216693813158093 and parameters: {'p': 2, 'd': 0, 'q': 7, 'P': 3, 'D': 0, 'Q': 1}. Best is trial 6 with value: 0.6278020414038912.\u001b[0m\n"
     ]
    },
    {
     "name": "stdout",
     "output_type": "stream",
     "text": [
      "Optimization terminated successfully.\n",
      "         Current function value: -1.407850\n",
      "         Iterations: 18\n",
      "         Function evaluations: 3821\n"
     ]
    },
    {
     "name": "stderr",
     "output_type": "stream",
     "text": [
      "\u001b[32m[I 2022-03-13 18:34:44,583]\u001b[0m Trial 16 finished with value: 0.6554635026099782 and parameters: {'p': 4, 'd': 0, 'q': 7, 'P': 2, 'D': 0, 'Q': 3}. Best is trial 16 with value: 0.6554635026099782.\u001b[0m\n"
     ]
    },
    {
     "name": "stdout",
     "output_type": "stream",
     "text": [
      "Optimization terminated successfully.\n",
      "         Current function value: -1.396927\n",
      "         Iterations: 10\n",
      "         Function evaluations: 2279\n"
     ]
    },
    {
     "name": "stderr",
     "output_type": "stream",
     "text": [
      "\u001b[32m[I 2022-03-13 18:35:04,538]\u001b[0m Trial 17 finished with value: 0.5400620960385769 and parameters: {'p': 5, 'd': 1, 'q': 7, 'P': 2, 'D': 0, 'Q': 3}. Best is trial 16 with value: 0.6554635026099782.\u001b[0m\n"
     ]
    },
    {
     "name": "stdout",
     "output_type": "stream",
     "text": [
      "Optimization terminated successfully.\n",
      "         Current function value: -1.407397\n",
      "         Iterations: 17\n",
      "         Function evaluations: 3060\n"
     ]
    },
    {
     "name": "stderr",
     "output_type": "stream",
     "text": [
      "\u001b[32m[I 2022-03-13 18:35:27,313]\u001b[0m Trial 18 finished with value: 0.6296959076920408 and parameters: {'p': 4, 'd': 0, 'q': 5, 'P': 1, 'D': 0, 'Q': 3}. Best is trial 16 with value: 0.6554635026099782.\u001b[0m\n"
     ]
    },
    {
     "name": "stdout",
     "output_type": "stream",
     "text": [
      "Optimization terminated successfully.\n",
      "         Current function value: -1.407397\n",
      "         Iterations: 17\n",
      "         Function evaluations: 3060\n"
     ]
    },
    {
     "name": "stderr",
     "output_type": "stream",
     "text": [
      "\u001b[32m[I 2022-03-13 18:35:49,964]\u001b[0m Trial 19 finished with value: 0.6296959076920408 and parameters: {'p': 4, 'd': 0, 'q': 5, 'P': 1, 'D': 0, 'Q': 3}. Best is trial 16 with value: 0.6554635026099782.\u001b[0m\n",
      "\u001b[32m[I 2022-03-13 18:36:02,570]\u001b[0m Trial 20 finished with value: 0.14076094076663748 and parameters: {'p': 5, 'd': 1, 'q': 3, 'P': 0, 'D': 0, 'Q': 2}. Best is trial 16 with value: 0.6554635026099782.\u001b[0m\n"
     ]
    },
    {
     "name": "stdout",
     "output_type": "stream",
     "text": [
      "Optimization terminated successfully.\n",
      "         Current function value: -1.329385\n",
      "         Iterations: 20\n",
      "         Function evaluations: 2708\n",
      "Optimization terminated successfully.\n",
      "         Current function value: -1.407397\n",
      "         Iterations: 17\n",
      "         Function evaluations: 3060\n"
     ]
    },
    {
     "name": "stderr",
     "output_type": "stream",
     "text": [
      "\u001b[32m[I 2022-03-13 18:36:25,305]\u001b[0m Trial 21 finished with value: 0.6296959076920408 and parameters: {'p': 4, 'd': 0, 'q': 5, 'P': 1, 'D': 0, 'Q': 3}. Best is trial 16 with value: 0.6554635026099782.\u001b[0m\n"
     ]
    },
    {
     "name": "stdout",
     "output_type": "stream",
     "text": [
      "Optimization terminated successfully.\n",
      "         Current function value: -1.407397\n",
      "         Iterations: 17\n",
      "         Function evaluations: 3060\n"
     ]
    },
    {
     "name": "stderr",
     "output_type": "stream",
     "text": [
      "\u001b[32m[I 2022-03-13 18:36:47,886]\u001b[0m Trial 22 finished with value: 0.6296959076920408 and parameters: {'p': 4, 'd': 0, 'q': 5, 'P': 1, 'D': 0, 'Q': 3}. Best is trial 16 with value: 0.6554635026099782.\u001b[0m\n"
     ]
    },
    {
     "name": "stdout",
     "output_type": "stream",
     "text": [
      "Optimization terminated successfully.\n",
      "         Current function value: -1.411970\n",
      "         Iterations: 18\n",
      "         Function evaluations: 3430\n"
     ]
    },
    {
     "name": "stderr",
     "output_type": "stream",
     "text": [
      "\u001b[32m[I 2022-03-13 18:37:13,330]\u001b[0m Trial 23 finished with value: 0.6269315228657856 and parameters: {'p': 6, 'd': 0, 'q': 5, 'P': 1, 'D': 0, 'Q': 3}. Best is trial 16 with value: 0.6554635026099782.\u001b[0m\n",
      "\u001b[32m[I 2022-03-13 18:37:18,879]\u001b[0m Trial 24 finished with value: 0.62322345622643 and parameters: {'p': 3, 'd': 0, 'q': 3, 'P': 1, 'D': 0, 'Q': 2}. Best is trial 16 with value: 0.6554635026099782.\u001b[0m\n"
     ]
    },
    {
     "name": "stdout",
     "output_type": "stream",
     "text": [
      "Optimization terminated successfully.\n",
      "         Current function value: -1.449546\n",
      "         Iterations: 10\n",
      "         Function evaluations: 1257\n",
      "Optimization terminated successfully.\n",
      "         Current function value: -1.267253\n",
      "         Iterations: 9\n",
      "         Function evaluations: 1625\n"
     ]
    },
    {
     "name": "stderr",
     "output_type": "stream",
     "text": [
      "\u001b[32m[I 2022-03-13 18:37:31,826]\u001b[0m Trial 25 finished with value: 0.16065607610307064 and parameters: {'p': 4, 'd': 0, 'q': 6, 'P': 0, 'D': 0, 'Q': 3}. Best is trial 16 with value: 0.6554635026099782.\u001b[0m\n"
     ]
    },
    {
     "name": "stdout",
     "output_type": "stream",
     "text": [
      "Optimization terminated successfully.\n",
      "         Current function value: -1.419107\n",
      "         Iterations: 21\n",
      "         Function evaluations: 3775\n"
     ]
    },
    {
     "name": "stderr",
     "output_type": "stream",
     "text": [
      "\u001b[32m[I 2022-03-13 18:37:59,933]\u001b[0m Trial 26 finished with value: 0.6092194335492261 and parameters: {'p': 5, 'd': 0, 'q': 5, 'P': 1, 'D': 0, 'Q': 3}. Best is trial 16 with value: 0.6554635026099782.\u001b[0m\n"
     ]
    },
    {
     "name": "stdout",
     "output_type": "stream",
     "text": [
      "Optimization terminated successfully.\n",
      "         Current function value: -1.462754\n",
      "         Iterations: 15\n",
      "         Function evaluations: 3321\n"
     ]
    },
    {
     "name": "stderr",
     "output_type": "stream",
     "text": [
      "\u001b[32m[I 2022-03-13 18:38:17,382]\u001b[0m Trial 27 finished with value: 0.6397214008245049 and parameters: {'p': 6, 'd': 0, 'q': 7, 'P': 2, 'D': 0, 'Q': 2}. Best is trial 16 with value: 0.6554635026099782.\u001b[0m\n"
     ]
    },
    {
     "name": "stdout",
     "output_type": "stream",
     "text": [
      "Optimization terminated successfully.\n",
      "         Current function value: -1.462754\n",
      "         Iterations: 15\n",
      "         Function evaluations: 3321\n"
     ]
    },
    {
     "name": "stderr",
     "output_type": "stream",
     "text": [
      "\u001b[32m[I 2022-03-13 18:38:34,941]\u001b[0m Trial 28 finished with value: 0.6397214008245049 and parameters: {'p': 6, 'd': 0, 'q': 7, 'P': 2, 'D': 0, 'Q': 2}. Best is trial 16 with value: 0.6554635026099782.\u001b[0m\n"
     ]
    },
    {
     "name": "stdout",
     "output_type": "stream",
     "text": [
      "Optimization terminated successfully.\n",
      "         Current function value: -1.460167\n",
      "         Iterations: 21\n",
      "         Function evaluations: 4989\n"
     ]
    },
    {
     "name": "stderr",
     "output_type": "stream",
     "text": [
      "\u001b[32m[I 2022-03-13 18:39:03,475]\u001b[0m Trial 29 finished with value: 0.5508064606439309 and parameters: {'p': 7, 'd': 1, 'q': 7, 'P': 2, 'D': 0, 'Q': 2}. Best is trial 16 with value: 0.6554635026099782.\u001b[0m\n"
     ]
    },
    {
     "name": "stdout",
     "output_type": "stream",
     "text": [
      "Optimization terminated successfully.\n",
      "         Current function value: -1.465560\n",
      "         Iterations: 19\n",
      "         Function evaluations: 4451\n"
     ]
    },
    {
     "name": "stderr",
     "output_type": "stream",
     "text": [
      "\u001b[32m[I 2022-03-13 18:39:29,335]\u001b[0m Trial 30 finished with value: 0.6450302479346732 and parameters: {'p': 7, 'd': 0, 'q': 8, 'P': 2, 'D': 0, 'Q': 2}. Best is trial 16 with value: 0.6554635026099782.\u001b[0m\n"
     ]
    },
    {
     "name": "stdout",
     "output_type": "stream",
     "text": [
      "Optimization terminated successfully.\n",
      "         Current function value: -1.465560\n",
      "         Iterations: 19\n",
      "         Function evaluations: 4451\n"
     ]
    },
    {
     "name": "stderr",
     "output_type": "stream",
     "text": [
      "\u001b[32m[I 2022-03-13 18:39:55,216]\u001b[0m Trial 31 finished with value: 0.6450302479346732 and parameters: {'p': 7, 'd': 0, 'q': 8, 'P': 2, 'D': 0, 'Q': 2}. Best is trial 16 with value: 0.6554635026099782.\u001b[0m\n"
     ]
    },
    {
     "name": "stdout",
     "output_type": "stream",
     "text": [
      "Optimization terminated successfully.\n",
      "         Current function value: -1.466429\n",
      "         Iterations: 15\n",
      "         Function evaluations: 3708\n"
     ]
    },
    {
     "name": "stderr",
     "output_type": "stream",
     "text": [
      "\u001b[32m[I 2022-03-13 18:40:16,798]\u001b[0m Trial 32 finished with value: 0.631839992989294 and parameters: {'p': 8, 'd': 0, 'q': 8, 'P': 2, 'D': 0, 'Q': 2}. Best is trial 16 with value: 0.6554635026099782.\u001b[0m\n"
     ]
    },
    {
     "name": "stdout",
     "output_type": "stream",
     "text": [
      "Optimization terminated successfully.\n",
      "         Current function value: -1.465560\n",
      "         Iterations: 19\n",
      "         Function evaluations: 4451\n"
     ]
    },
    {
     "name": "stderr",
     "output_type": "stream",
     "text": [
      "\u001b[32m[I 2022-03-13 18:40:42,754]\u001b[0m Trial 33 finished with value: 0.6450302479346732 and parameters: {'p': 7, 'd': 0, 'q': 8, 'P': 2, 'D': 0, 'Q': 2}. Best is trial 16 with value: 0.6554635026099782.\u001b[0m\n"
     ]
    },
    {
     "name": "stdout",
     "output_type": "stream",
     "text": [
      "Optimization terminated successfully.\n",
      "         Current function value: -1.465560\n",
      "         Iterations: 19\n",
      "         Function evaluations: 4451\n"
     ]
    },
    {
     "name": "stderr",
     "output_type": "stream",
     "text": [
      "\u001b[32m[I 2022-03-13 18:41:08,762]\u001b[0m Trial 34 finished with value: 0.6450302479346732 and parameters: {'p': 7, 'd': 0, 'q': 8, 'P': 2, 'D': 0, 'Q': 2}. Best is trial 16 with value: 0.6554635026099782.\u001b[0m\n",
      "\u001b[32m[I 2022-03-13 18:41:22,301]\u001b[0m Trial 35 finished with value: 0.3487863373815383 and parameters: {'p': 8, 'd': 0, 'q': 8, 'P': 2, 'D': 0, 'Q': 0}. Best is trial 16 with value: 0.6554635026099782.\u001b[0m\n"
     ]
    },
    {
     "name": "stdout",
     "output_type": "stream",
     "text": [
      "Optimization terminated successfully.\n",
      "         Current function value: -1.390528\n",
      "         Iterations: 14\n",
      "         Function evaluations: 3120\n",
      "Optimization terminated successfully.\n",
      "         Current function value: -1.459948\n",
      "         Iterations: 19\n",
      "         Function evaluations: 4276\n"
     ]
    },
    {
     "name": "stderr",
     "output_type": "stream",
     "text": [
      "\u001b[32m[I 2022-03-13 18:41:46,311]\u001b[0m Trial 36 finished with value: 0.6312238604997427 and parameters: {'p': 7, 'd': 0, 'q': 8, 'P': 2, 'D': 0, 'Q': 1}. Best is trial 16 with value: 0.6554635026099782.\u001b[0m\n"
     ]
    },
    {
     "name": "stdout",
     "output_type": "stream",
     "text": [
      "Optimization terminated successfully.\n",
      "         Current function value: -1.459003\n",
      "         Iterations: 20\n",
      "         Function evaluations: 4963\n"
     ]
    },
    {
     "name": "stderr",
     "output_type": "stream",
     "text": [
      "\u001b[32m[I 2022-03-13 18:42:15,387]\u001b[0m Trial 37 finished with value: 0.5480859523884472 and parameters: {'p': 8, 'd': 1, 'q': 7, 'P': 2, 'D': 0, 'Q': 2}. Best is trial 16 with value: 0.6554635026099782.\u001b[0m\n"
     ]
    },
    {
     "name": "stdout",
     "output_type": "stream",
     "text": [
      "Optimization terminated successfully.\n",
      "         Current function value: -1.358041\n",
      "         Iterations: 8\n",
      "         Function evaluations: 1259\n"
     ]
    },
    {
     "name": "stderr",
     "output_type": "stream",
     "text": [
      "\u001b[32m[I 2022-03-13 18:42:28,476]\u001b[0m Trial 38 finished with value: 0.6232338583694108 and parameters: {'p': 7, 'd': 0, 'q': 0, 'P': 3, 'D': 1, 'Q': 2}. Best is trial 16 with value: 0.6554635026099782.\u001b[0m\n",
      "\u001b[32m[I 2022-03-13 18:42:32,217]\u001b[0m Trial 39 finished with value: 0.6033035019767506 and parameters: {'p': 6, 'd': 0, 'q': 2, 'P': 2, 'D': 0, 'Q': 1}. Best is trial 16 with value: 0.6554635026099782.\u001b[0m\n"
     ]
    },
    {
     "name": "stdout",
     "output_type": "stream",
     "text": [
      "Optimization terminated successfully.\n",
      "         Current function value: -1.442469\n",
      "         Iterations: 7\n",
      "         Function evaluations: 945\n",
      "Optimization terminated successfully.\n",
      "         Current function value: -1.466429\n",
      "         Iterations: 15\n",
      "         Function evaluations: 3708\n"
     ]
    },
    {
     "name": "stderr",
     "output_type": "stream",
     "text": [
      "\u001b[32m[I 2022-03-13 18:42:54,169]\u001b[0m Trial 40 finished with value: 0.631839992989294 and parameters: {'p': 8, 'd': 0, 'q': 8, 'P': 2, 'D': 0, 'Q': 2}. Best is trial 16 with value: 0.6554635026099782.\u001b[0m\n"
     ]
    },
    {
     "name": "stdout",
     "output_type": "stream",
     "text": [
      "Optimization terminated successfully.\n",
      "         Current function value: -1.465560\n",
      "         Iterations: 19\n",
      "         Function evaluations: 4451\n"
     ]
    },
    {
     "name": "stderr",
     "output_type": "stream",
     "text": [
      "\u001b[32m[I 2022-03-13 18:43:19,970]\u001b[0m Trial 41 finished with value: 0.6450302479346732 and parameters: {'p': 7, 'd': 0, 'q': 8, 'P': 2, 'D': 0, 'Q': 2}. Best is trial 16 with value: 0.6554635026099782.\u001b[0m\n"
     ]
    },
    {
     "name": "stdout",
     "output_type": "stream",
     "text": [
      "Optimization terminated successfully.\n",
      "         Current function value: -1.465560\n",
      "         Iterations: 19\n",
      "         Function evaluations: 4451\n"
     ]
    },
    {
     "name": "stderr",
     "output_type": "stream",
     "text": [
      "\u001b[32m[I 2022-03-13 18:43:45,736]\u001b[0m Trial 42 finished with value: 0.6450302479346732 and parameters: {'p': 7, 'd': 0, 'q': 8, 'P': 2, 'D': 0, 'Q': 2}. Best is trial 16 with value: 0.6554635026099782.\u001b[0m\n"
     ]
    },
    {
     "name": "stdout",
     "output_type": "stream",
     "text": [
      "Optimization terminated successfully.\n",
      "         Current function value: -1.462754\n",
      "         Iterations: 15\n",
      "         Function evaluations: 3321\n"
     ]
    },
    {
     "name": "stderr",
     "output_type": "stream",
     "text": [
      "\u001b[32m[I 2022-03-13 18:44:03,260]\u001b[0m Trial 43 finished with value: 0.6397214008245049 and parameters: {'p': 6, 'd': 0, 'q': 7, 'P': 2, 'D': 0, 'Q': 2}. Best is trial 16 with value: 0.6554635026099782.\u001b[0m\n"
     ]
    },
    {
     "name": "stdout",
     "output_type": "stream",
     "text": [
      "Optimization terminated successfully.\n",
      "         Current function value: -1.459948\n",
      "         Iterations: 19\n",
      "         Function evaluations: 4276\n"
     ]
    },
    {
     "name": "stderr",
     "output_type": "stream",
     "text": [
      "\u001b[32m[I 2022-03-13 18:44:26,818]\u001b[0m Trial 44 finished with value: 0.6312238604997427 and parameters: {'p': 7, 'd': 0, 'q': 8, 'P': 2, 'D': 0, 'Q': 1}. Best is trial 16 with value: 0.6554635026099782.\u001b[0m\n"
     ]
    },
    {
     "name": "stdout",
     "output_type": "stream",
     "text": [
      "Optimization terminated successfully.\n",
      "         Current function value: -1.470178\n",
      "         Iterations: 10\n",
      "         Function evaluations: 2153\n"
     ]
    },
    {
     "name": "stderr",
     "output_type": "stream",
     "text": [
      "\u001b[32m[I 2022-03-13 18:44:38,557]\u001b[0m Trial 45 finished with value: 0.6463891894809817 and parameters: {'p': 8, 'd': 0, 'q': 6, 'P': 2, 'D': 0, 'Q': 2}. Best is trial 16 with value: 0.6554635026099782.\u001b[0m\n"
     ]
    },
    {
     "name": "stdout",
     "output_type": "stream",
     "text": [
      "Optimization terminated successfully.\n",
      "         Current function value: -1.383800\n",
      "         Iterations: 22\n",
      "         Function evaluations: 4754\n"
     ]
    },
    {
     "name": "stderr",
     "output_type": "stream",
     "text": [
      "\u001b[32m[I 2022-03-13 18:45:08,492]\u001b[0m Trial 46 finished with value: 0.4558321971645708 and parameters: {'p': 8, 'd': 0, 'q': 6, 'P': 3, 'D': 0, 'Q': 0}. Best is trial 16 with value: 0.6554635026099782.\u001b[0m\n"
     ]
    },
    {
     "name": "stdout",
     "output_type": "stream",
     "text": [
      "Optimization terminated successfully.\n",
      "         Current function value: -1.462214\n",
      "         Iterations: 22\n",
      "         Function evaluations: 4913\n"
     ]
    },
    {
     "name": "stderr",
     "output_type": "stream",
     "text": [
      "\u001b[32m[I 2022-03-13 18:45:34,164]\u001b[0m Trial 47 finished with value: 0.6480304386459905 and parameters: {'p': 8, 'd': 0, 'q': 7, 'P': 2, 'D': 0, 'Q': 1}. Best is trial 16 with value: 0.6554635026099782.\u001b[0m\n"
     ]
    },
    {
     "name": "stdout",
     "output_type": "stream",
     "text": [
      "Optimization terminated successfully.\n",
      "         Current function value: -1.411083\n",
      "         Iterations: 8\n",
      "         Function evaluations: 1818\n"
     ]
    },
    {
     "name": "stderr",
     "output_type": "stream",
     "text": [
      "\u001b[32m[I 2022-03-13 18:45:44,988]\u001b[0m Trial 48 finished with value: 0.6094261419788509 and parameters: {'p': 8, 'd': 0, 'q': 6, 'P': 2, 'D': 1, 'Q': 1}. Best is trial 16 with value: 0.6554635026099782.\u001b[0m\n"
     ]
    },
    {
     "name": "stdout",
     "output_type": "stream",
     "text": [
      "Optimization terminated successfully.\n",
      "         Current function value: -1.409808\n",
      "         Iterations: 19\n",
      "         Function evaluations: 4371\n"
     ]
    },
    {
     "name": "stderr",
     "output_type": "stream",
     "text": [
      "\u001b[32m[I 2022-03-13 18:46:19,446]\u001b[0m Trial 49 finished with value: 0.6625161647994989 and parameters: {'p': 8, 'd': 0, 'q': 7, 'P': 3, 'D': 0, 'Q': 1}. Best is trial 49 with value: 0.6625161647994989.\u001b[0m\n",
      "\u001b[32m[I 2022-03-13 18:46:19,454]\u001b[0m A new study created in memory with name: no-name-828b570a-7014-4c5d-aac0-20dde3722f83\u001b[0m\n"
     ]
    },
    {
     "name": "stdout",
     "output_type": "stream",
     "text": [
      "Optimization terminated successfully.\n",
      "         Current function value: -1.368990\n",
      "         Iterations: 8\n",
      "         Function evaluations: 1278\n"
     ]
    },
    {
     "name": "stderr",
     "output_type": "stream",
     "text": [
      "\u001b[32m[I 2022-03-13 18:46:34,012]\u001b[0m Trial 0 finished with value: 0.4952751858888309 and parameters: {'p': 1, 'd': 1, 'q': 4, 'P': 3, 'D': 1, 'Q': 3}. Best is trial 0 with value: 0.4952751858888309.\u001b[0m\n",
      "\u001b[32m[I 2022-03-13 18:46:42,766]\u001b[0m Trial 1 finished with value: 0.48935111067404113 and parameters: {'p': 1, 'd': 1, 'q': 3, 'P': 3, 'D': 0, 'Q': 2}. Best is trial 0 with value: 0.4952751858888309.\u001b[0m\n"
     ]
    },
    {
     "name": "stdout",
     "output_type": "stream",
     "text": [
      "Optimization terminated successfully.\n",
      "         Current function value: -1.426944\n",
      "         Iterations: 10\n",
      "         Function evaluations: 1358\n"
     ]
    },
    {
     "name": "stderr",
     "output_type": "stream",
     "text": [
      "\u001b[32m[I 2022-03-13 18:46:44,817]\u001b[0m Trial 2 finished with value: 0.5236127988558423 and parameters: {'p': 1, 'd': 0, 'q': 7, 'P': 3, 'D': 1, 'Q': 0}. Best is trial 2 with value: 0.5236127988558423.\u001b[0m\n"
     ]
    },
    {
     "name": "stdout",
     "output_type": "stream",
     "text": [
      "Optimization terminated successfully.\n",
      "         Current function value: -1.368652\n",
      "         Iterations: 3\n",
      "         Function evaluations: 420\n"
     ]
    },
    {
     "name": "stderr",
     "output_type": "stream",
     "text": [
      "\u001b[32m[I 2022-03-13 18:46:46,545]\u001b[0m Trial 3 finished with value: 0.5763078755926416 and parameters: {'p': 2, 'd': 0, 'q': 1, 'P': 3, 'D': 0, 'Q': 1}. Best is trial 3 with value: 0.5763078755926416.\u001b[0m\n"
     ]
    },
    {
     "name": "stdout",
     "output_type": "stream",
     "text": [
      "Optimization terminated successfully.\n",
      "         Current function value: -1.422689\n",
      "         Iterations: 3\n",
      "         Function evaluations: 270\n",
      "Optimization terminated successfully.\n",
      "         Current function value: -1.409966\n",
      "         Iterations: 7\n",
      "         Function evaluations: 1247\n"
     ]
    },
    {
     "name": "stderr",
     "output_type": "stream",
     "text": [
      "\u001b[32m[I 2022-03-13 18:46:56,470]\u001b[0m Trial 4 finished with value: 0.5770507101291951 and parameters: {'p': 3, 'd': 0, 'q': 5, 'P': 3, 'D': 0, 'Q': 3}. Best is trial 4 with value: 0.5770507101291951.\u001b[0m\n"
     ]
    },
    {
     "name": "stdout",
     "output_type": "stream",
     "text": [
      "Optimization terminated successfully.\n",
      "         Current function value: -1.383630\n",
      "         Iterations: 6\n",
      "         Function evaluations: 916\n"
     ]
    },
    {
     "name": "stderr",
     "output_type": "stream",
     "text": [
      "\u001b[32m[I 2022-03-13 18:47:01,102]\u001b[0m Trial 5 finished with value: 0.42408775043103597 and parameters: {'p': 6, 'd': 1, 'q': 4, 'P': 2, 'D': 0, 'Q': 0}. Best is trial 4 with value: 0.5770507101291951.\u001b[0m\n"
     ]
    },
    {
     "name": "stdout",
     "output_type": "stream",
     "text": [
      "Optimization terminated successfully.\n",
      "         Current function value: -1.397635\n",
      "         Iterations: 5\n",
      "         Function evaluations: 743\n"
     ]
    },
    {
     "name": "stderr",
     "output_type": "stream",
     "text": [
      "\u001b[32m[I 2022-03-13 18:47:07,638]\u001b[0m Trial 6 finished with value: 0.5754932655755974 and parameters: {'p': 1, 'd': 0, 'q': 6, 'P': 1, 'D': 0, 'Q': 3}. Best is trial 4 with value: 0.5770507101291951.\u001b[0m\n",
      "\u001b[32m[I 2022-03-13 18:47:08,260]\u001b[0m Trial 7 finished with value: 0.34175604372975976 and parameters: {'p': 1, 'd': 0, 'q': 8, 'P': 1, 'D': 1, 'Q': 0}. Best is trial 4 with value: 0.5770507101291951.\u001b[0m\n"
     ]
    },
    {
     "name": "stdout",
     "output_type": "stream",
     "text": [
      "Optimization terminated successfully.\n",
      "         Current function value: -1.385620\n",
      "         Iterations: 2\n",
      "         Function evaluations: 263\n",
      "Optimization terminated successfully.\n",
      "         Current function value: -1.367234\n",
      "         Iterations: 2\n",
      "         Function evaluations: 149\n"
     ]
    },
    {
     "name": "stderr",
     "output_type": "stream",
     "text": [
      "\u001b[32m[I 2022-03-13 18:47:09,846]\u001b[0m Trial 8 finished with value: 0.6258949208991391 and parameters: {'p': 0, 'd': 0, 'q': 0, 'P': 2, 'D': 1, 'Q': 3}. Best is trial 8 with value: 0.6258949208991391.\u001b[0m\n"
     ]
    },
    {
     "name": "stdout",
     "output_type": "stream",
     "text": [
      "Optimization terminated successfully.\n",
      "         Current function value: -1.345548\n",
      "         Iterations: 8\n",
      "         Function evaluations: 1453\n"
     ]
    },
    {
     "name": "stderr",
     "output_type": "stream",
     "text": [
      "\u001b[32m[I 2022-03-13 18:47:29,311]\u001b[0m Trial 9 finished with value: 0.6592732277769164 and parameters: {'p': 3, 'd': 0, 'q': 8, 'P': 0, 'D': 1, 'Q': 3}. Best is trial 9 with value: 0.6592732277769164.\u001b[0m\n"
     ]
    },
    {
     "name": "stdout",
     "output_type": "stream",
     "text": [
      "Optimization terminated successfully.\n",
      "         Current function value: -1.401517\n",
      "         Iterations: 10\n",
      "         Function evaluations: 2015\n"
     ]
    },
    {
     "name": "stderr",
     "output_type": "stream",
     "text": [
      "\u001b[32m[I 2022-03-13 18:47:47,291]\u001b[0m Trial 10 finished with value: 0.5135505040906012 and parameters: {'p': 5, 'd': 1, 'q': 8, 'P': 0, 'D': 1, 'Q': 2}. Best is trial 9 with value: 0.6592732277769164.\u001b[0m\n",
      "\u001b[32m[I 2022-03-13 18:47:50,430]\u001b[0m Trial 11 finished with value: 0.6516264891848496 and parameters: {'p': 8, 'd': 0, 'q': 0, 'P': 0, 'D': 1, 'Q': 2}. Best is trial 9 with value: 0.6592732277769164.\u001b[0m\n"
     ]
    },
    {
     "name": "stdout",
     "output_type": "stream",
     "text": [
      "Optimization terminated successfully.\n",
      "         Current function value: -1.432542\n",
      "         Iterations: 4\n",
      "         Function evaluations: 483\n",
      "Optimization terminated successfully.\n",
      "         Current function value: -1.426772\n",
      "         Iterations: 8\n",
      "         Function evaluations: 1185\n"
     ]
    },
    {
     "name": "stderr",
     "output_type": "stream",
     "text": [
      "\u001b[32m[I 2022-03-13 18:47:58,934]\u001b[0m Trial 12 finished with value: 0.6623390268882541 and parameters: {'p': 8, 'd': 0, 'q': 2, 'P': 0, 'D': 1, 'Q': 2}. Best is trial 12 with value: 0.6623390268882541.\u001b[0m\n",
      "\u001b[32m[I 2022-03-13 18:48:03,674]\u001b[0m Trial 13 finished with value: 0.6615334971081395 and parameters: {'p': 8, 'd': 0, 'q': 2, 'P': 0, 'D': 1, 'Q': 1}. Best is trial 12 with value: 0.6623390268882541.\u001b[0m\n"
     ]
    },
    {
     "name": "stdout",
     "output_type": "stream",
     "text": [
      "Optimization terminated successfully.\n",
      "         Current function value: -1.468329\n",
      "         Iterations: 7\n",
      "         Function evaluations: 980\n",
      "Optimization terminated successfully.\n",
      "         Current function value: -1.442004\n",
      "         Iterations: 5\n",
      "         Function evaluations: 772\n"
     ]
    },
    {
     "name": "stderr",
     "output_type": "stream",
     "text": [
      "\u001b[32m[I 2022-03-13 18:48:07,361]\u001b[0m Trial 14 finished with value: 0.6430606601561748 and parameters: {'p': 8, 'd': 0, 'q': 2, 'P': 1, 'D': 1, 'Q': 1}. Best is trial 12 with value: 0.6623390268882541.\u001b[0m\n",
      "\u001b[32m[I 2022-03-13 18:48:09,371]\u001b[0m Trial 15 finished with value: 0.645114990226012 and parameters: {'p': 7, 'd': 0, 'q': 2, 'P': 0, 'D': 1, 'Q': 1}. Best is trial 12 with value: 0.6623390268882541.\u001b[0m\n"
     ]
    },
    {
     "name": "stdout",
     "output_type": "stream",
     "text": [
      "Optimization terminated successfully.\n",
      "         Current function value: -1.461762\n",
      "         Iterations: 3\n",
      "         Function evaluations: 406\n"
     ]
    },
    {
     "name": "stderr",
     "output_type": "stream",
     "text": [
      "\u001b[32m[I 2022-03-13 18:48:12,294]\u001b[0m Trial 16 finished with value: 0.6408474633035981 and parameters: {'p': 6, 'd': 0, 'q': 2, 'P': 1, 'D': 1, 'Q': 1}. Best is trial 12 with value: 0.6623390268882541.\u001b[0m\n"
     ]
    },
    {
     "name": "stdout",
     "output_type": "stream",
     "text": [
      "Optimization terminated successfully.\n",
      "         Current function value: -1.446195\n",
      "         Iterations: 4\n",
      "         Function evaluations: 603\n",
      "Optimization terminated successfully.\n",
      "         Current function value: -1.417505\n",
      "         Iterations: 7\n",
      "         Function evaluations: 1088\n"
     ]
    },
    {
     "name": "stderr",
     "output_type": "stream",
     "text": [
      "\u001b[32m[I 2022-03-13 18:48:20,432]\u001b[0m Trial 17 finished with value: 0.5068319223605966 and parameters: {'p': 7, 'd': 1, 'q': 3, 'P': 0, 'D': 1, 'Q': 2}. Best is trial 12 with value: 0.6623390268882541.\u001b[0m\n",
      "\u001b[32m[I 2022-03-13 18:48:21,751]\u001b[0m Trial 18 finished with value: 0.6465909262746112 and parameters: {'p': 5, 'd': 0, 'q': 1, 'P': 0, 'D': 1, 'Q': 1}. Best is trial 12 with value: 0.6623390268882541.\u001b[0m\n"
     ]
    },
    {
     "name": "stdout",
     "output_type": "stream",
     "text": [
      "Optimization terminated successfully.\n",
      "         Current function value: -1.463848\n",
      "         Iterations: 3\n",
      "         Function evaluations: 289\n",
      "Optimization terminated successfully.\n",
      "         Current function value: -1.400596\n",
      "         Iterations: 5\n",
      "         Function evaluations: 993\n"
     ]
    },
    {
     "name": "stderr",
     "output_type": "stream",
     "text": [
      "\u001b[32m[I 2022-03-13 18:48:30,081]\u001b[0m Trial 19 finished with value: 0.6561912568388937 and parameters: {'p': 8, 'd': 0, 'q': 3, 'P': 2, 'D': 1, 'Q': 2}. Best is trial 12 with value: 0.6623390268882541.\u001b[0m\n",
      "\u001b[32m[I 2022-03-13 18:48:34,253]\u001b[0m Trial 20 finished with value: 0.49655521273810443 and parameters: {'p': 7, 'd': 1, 'q': 1, 'P': 1, 'D': 0, 'Q': 1}. Best is trial 12 with value: 0.6623390268882541.\u001b[0m\n"
     ]
    },
    {
     "name": "stdout",
     "output_type": "stream",
     "text": [
      "Optimization terminated successfully.\n",
      "         Current function value: -1.494930\n",
      "         Iterations: 10\n",
      "         Function evaluations: 1238\n",
      "Optimization terminated successfully.\n",
      "         Current function value: -1.340693\n",
      "         Iterations: 7\n",
      "         Function evaluations: 1086\n"
     ]
    },
    {
     "name": "stderr",
     "output_type": "stream",
     "text": [
      "\u001b[32m[I 2022-03-13 18:48:46,783]\u001b[0m Trial 21 finished with value: 0.6350685653211705 and parameters: {'p': 4, 'd': 0, 'q': 5, 'P': 0, 'D': 1, 'Q': 3}. Best is trial 12 with value: 0.6623390268882541.\u001b[0m\n"
     ]
    },
    {
     "name": "stdout",
     "output_type": "stream",
     "text": [
      "Optimization terminated successfully.\n",
      "         Current function value: -1.403500\n",
      "         Iterations: 5\n",
      "         Function evaluations: 621\n"
     ]
    },
    {
     "name": "stderr",
     "output_type": "stream",
     "text": [
      "\u001b[32m[I 2022-03-13 18:48:51,575]\u001b[0m Trial 22 finished with value: 0.6363386947581264 and parameters: {'p': 3, 'd': 0, 'q': 4, 'P': 0, 'D': 1, 'Q': 2}. Best is trial 12 with value: 0.6623390268882541.\u001b[0m\n"
     ]
    },
    {
     "name": "stdout",
     "output_type": "stream",
     "text": [
      "Optimization terminated successfully.\n",
      "         Current function value: -1.339438\n",
      "         Iterations: 4\n",
      "         Function evaluations: 658\n"
     ]
    },
    {
     "name": "stderr",
     "output_type": "stream",
     "text": [
      "\u001b[32m[I 2022-03-13 18:49:00,336]\u001b[0m Trial 23 finished with value: 0.6388296988616267 and parameters: {'p': 4, 'd': 0, 'q': 6, 'P': 0, 'D': 1, 'Q': 3}. Best is trial 12 with value: 0.6623390268882541.\u001b[0m\n"
     ]
    },
    {
     "name": "stdout",
     "output_type": "stream",
     "text": [
      "Optimization terminated successfully.\n",
      "         Current function value: -1.416415\n",
      "         Iterations: 3\n",
      "         Function evaluations: 405\n"
     ]
    },
    {
     "name": "stderr",
     "output_type": "stream",
     "text": [
      "\u001b[32m[I 2022-03-13 18:49:03,517]\u001b[0m Trial 24 finished with value: 0.6357093462582453 and parameters: {'p': 6, 'd': 0, 'q': 2, 'P': 1, 'D': 1, 'Q': 2}. Best is trial 12 with value: 0.6623390268882541.\u001b[0m\n",
      "\u001b[32m[I 2022-03-13 18:49:06,368]\u001b[0m Trial 25 finished with value: 0.6409353281824067 and parameters: {'p': 3, 'd': 0, 'q': 3, 'P': 0, 'D': 1, 'Q': 1}. Best is trial 12 with value: 0.6623390268882541.\u001b[0m\n"
     ]
    },
    {
     "name": "stdout",
     "output_type": "stream",
     "text": [
      "Optimization terminated successfully.\n",
      "         Current function value: -1.455298\n",
      "         Iterations: 5\n",
      "         Function evaluations: 573\n",
      "Optimization terminated successfully.\n",
      "         Current function value: -1.407287\n",
      "         Iterations: 11\n",
      "         Function evaluations: 1779\n"
     ]
    },
    {
     "name": "stderr",
     "output_type": "stream",
     "text": [
      "\u001b[32m[I 2022-03-13 18:49:20,164]\u001b[0m Trial 26 finished with value: 0.6369489902322505 and parameters: {'p': 5, 'd': 0, 'q': 5, 'P': 0, 'D': 1, 'Q': 2}. Best is trial 12 with value: 0.6623390268882541.\u001b[0m\n"
     ]
    },
    {
     "name": "stdout",
     "output_type": "stream",
     "text": [
      "Optimization terminated successfully.\n",
      "         Current function value: -1.352921\n",
      "         Iterations: 7\n",
      "         Function evaluations: 1589\n"
     ]
    },
    {
     "name": "stderr",
     "output_type": "stream",
     "text": [
      "\u001b[32m[I 2022-03-13 18:49:39,699]\u001b[0m Trial 27 finished with value: 0.5040905464416796 and parameters: {'p': 7, 'd': 0, 'q': 7, 'P': 1, 'D': 1, 'Q': 3}. Best is trial 12 with value: 0.6623390268882541.\u001b[0m\n",
      "\u001b[32m[I 2022-03-13 18:49:39,981]\u001b[0m Trial 28 finished with value: 0.12218900533540844 and parameters: {'p': 8, 'd': 0, 'q': 1, 'P': 0, 'D': 1, 'Q': 0}. Best is trial 12 with value: 0.6623390268882541.\u001b[0m\n"
     ]
    },
    {
     "name": "stdout",
     "output_type": "stream",
     "text": [
      "Optimization terminated successfully.\n",
      "         Current function value: -1.260220\n",
      "         Iterations: 1\n",
      "         Function evaluations: 134\n",
      "Optimization terminated successfully.\n",
      "         Current function value: -1.354230\n",
      "         Iterations: 5\n",
      "         Function evaluations: 717\n"
     ]
    },
    {
     "name": "stderr",
     "output_type": "stream",
     "text": [
      "\u001b[32m[I 2022-03-13 18:49:48,475]\u001b[0m Trial 29 finished with value: 0.5062264832338341 and parameters: {'p': 2, 'd': 1, 'q': 4, 'P': 1, 'D': 1, 'Q': 3}. Best is trial 12 with value: 0.6623390268882541.\u001b[0m\n",
      "\u001b[32m[I 2022-03-13 18:49:50,233]\u001b[0m Trial 30 finished with value: 0.6400850006753942 and parameters: {'p': 2, 'd': 0, 'q': 0, 'P': 0, 'D': 1, 'Q': 2}. Best is trial 12 with value: 0.6623390268882541.\u001b[0m\n"
     ]
    },
    {
     "name": "stdout",
     "output_type": "stream",
     "text": [
      "Optimization terminated successfully.\n",
      "         Current function value: -1.425570\n",
      "         Iterations: 4\n",
      "         Function evaluations: 260\n",
      "Optimization terminated successfully.\n",
      "         Current function value: -1.400596\n",
      "         Iterations: 5\n",
      "         Function evaluations: 993\n"
     ]
    },
    {
     "name": "stderr",
     "output_type": "stream",
     "text": [
      "\u001b[32m[I 2022-03-13 18:49:58,476]\u001b[0m Trial 31 finished with value: 0.6561912568388937 and parameters: {'p': 8, 'd': 0, 'q': 3, 'P': 2, 'D': 1, 'Q': 2}. Best is trial 12 with value: 0.6623390268882541.\u001b[0m\n"
     ]
    },
    {
     "name": "stdout",
     "output_type": "stream",
     "text": [
      "Optimization terminated successfully.\n",
      "         Current function value: -1.400596\n",
      "         Iterations: 5\n",
      "         Function evaluations: 993\n"
     ]
    },
    {
     "name": "stderr",
     "output_type": "stream",
     "text": [
      "\u001b[32m[I 2022-03-13 18:50:06,515]\u001b[0m Trial 32 finished with value: 0.6561912568388937 and parameters: {'p': 8, 'd': 0, 'q': 3, 'P': 2, 'D': 1, 'Q': 2}. Best is trial 12 with value: 0.6623390268882541.\u001b[0m\n"
     ]
    },
    {
     "name": "stdout",
     "output_type": "stream",
     "text": [
      "Optimization terminated successfully.\n",
      "         Current function value: -1.396316\n",
      "         Iterations: 6\n",
      "         Function evaluations: 1031\n"
     ]
    },
    {
     "name": "stderr",
     "output_type": "stream",
     "text": [
      "\u001b[32m[I 2022-03-13 18:50:13,604]\u001b[0m Trial 33 finished with value: 0.6325239875834135 and parameters: {'p': 7, 'd': 0, 'q': 2, 'P': 2, 'D': 1, 'Q': 1}. Best is trial 12 with value: 0.6623390268882541.\u001b[0m\n"
     ]
    },
    {
     "name": "stdout",
     "output_type": "stream",
     "text": [
      "Optimization terminated successfully.\n",
      "         Current function value: -1.227659\n",
      "         Iterations: 9\n",
      "         Function evaluations: 1758\n"
     ]
    },
    {
     "name": "stderr",
     "output_type": "stream",
     "text": [
      "\u001b[32m[I 2022-03-13 18:50:26,929]\u001b[0m Trial 34 finished with value: 0.6278773859495443 and parameters: {'p': 6, 'd': 0, 'q': 3, 'P': 2, 'D': 1, 'Q': 2}. Best is trial 12 with value: 0.6623390268882541.\u001b[0m\n"
     ]
    },
    {
     "name": "stdout",
     "output_type": "stream",
     "text": [
      "Optimization terminated successfully.\n",
      "         Current function value: -1.405811\n",
      "         Iterations: 3\n",
      "         Function evaluations: 492\n"
     ]
    },
    {
     "name": "stderr",
     "output_type": "stream",
     "text": [
      "\u001b[32m[I 2022-03-13 18:50:31,137]\u001b[0m Trial 35 finished with value: 0.5949007307031848 and parameters: {'p': 8, 'd': 0, 'q': 1, 'P': 3, 'D': 0, 'Q': 3}. Best is trial 12 with value: 0.6623390268882541.\u001b[0m\n"
     ]
    },
    {
     "name": "stdout",
     "output_type": "stream",
     "text": [
      "Optimization terminated successfully.\n",
      "         Current function value: -1.203454\n",
      "         Iterations: 53\n",
      "         Function evaluations: 10478\n"
     ]
    },
    {
     "name": "stderr",
     "output_type": "stream",
     "text": [
      "\u001b[32m[I 2022-03-13 18:51:53,809]\u001b[0m Trial 36 finished with value: -35.50198127835345 and parameters: {'p': 7, 'd': 0, 'q': 4, 'P': 2, 'D': 1, 'Q': 1}. Best is trial 12 with value: 0.6623390268882541.\u001b[0m\n"
     ]
    },
    {
     "name": "stdout",
     "output_type": "stream",
     "text": [
      "Optimization terminated successfully.\n",
      "         Current function value: -1.410165\n",
      "         Iterations: 10\n",
      "         Function evaluations: 2162\n"
     ]
    },
    {
     "name": "stderr",
     "output_type": "stream",
     "text": [
      "\u001b[32m[I 2022-03-13 18:52:09,622]\u001b[0m Trial 37 finished with value: 0.4885278041327228 and parameters: {'p': 4, 'd': 1, 'q': 6, 'P': 3, 'D': 0, 'Q': 2}. Best is trial 12 with value: 0.6623390268882541.\u001b[0m\n",
      "\u001b[32m[I 2022-03-13 18:52:10,298]\u001b[0m Trial 38 finished with value: 0.32309708654390756 and parameters: {'p': 3, 'd': 0, 'q': 2, 'P': 1, 'D': 1, 'Q': 0}. Best is trial 12 with value: 0.6623390268882541.\u001b[0m\n"
     ]
    },
    {
     "name": "stdout",
     "output_type": "stream",
     "text": [
      "Optimization terminated successfully.\n",
      "         Current function value: -1.374385\n",
      "         Iterations: 3\n",
      "         Function evaluations: 279\n",
      "Optimization terminated successfully.\n",
      "         Current function value: -1.337206\n",
      "         Iterations: 4\n",
      "         Function evaluations: 555\n"
     ]
    },
    {
     "name": "stderr",
     "output_type": "stream",
     "text": [
      "\u001b[32m[I 2022-03-13 18:52:16,951]\u001b[0m Trial 39 finished with value: 0.638398576565128 and parameters: {'p': 0, 'd': 0, 'q': 7, 'P': 0, 'D': 1, 'Q': 3}. Best is trial 12 with value: 0.6623390268882541.\u001b[0m\n",
      "\u001b[32m[I 2022-03-13 18:52:37,570]\u001b[0m Trial 40 finished with value: 0.5619463808493479 and parameters: {'p': 6, 'd': 0, 'q': 3, 'P': 1, 'D': 0, 'Q': 1}. Best is trial 12 with value: 0.6623390268882541.\u001b[0m\n"
     ]
    },
    {
     "name": "stdout",
     "output_type": "stream",
     "text": [
      "Optimization terminated successfully.\n",
      "         Current function value: -1.481478\n",
      "         Iterations: 41\n",
      "         Function evaluations: 6104\n",
      "Optimization terminated successfully.\n",
      "         Current function value: -1.400596\n",
      "         Iterations: 5\n",
      "         Function evaluations: 993\n"
     ]
    },
    {
     "name": "stderr",
     "output_type": "stream",
     "text": [
      "\u001b[32m[I 2022-03-13 18:52:45,688]\u001b[0m Trial 41 finished with value: 0.6561912568388937 and parameters: {'p': 8, 'd': 0, 'q': 3, 'P': 2, 'D': 1, 'Q': 2}. Best is trial 12 with value: 0.6623390268882541.\u001b[0m\n"
     ]
    },
    {
     "name": "stdout",
     "output_type": "stream",
     "text": [
      "Optimization terminated successfully.\n",
      "         Current function value: 0.240640\n",
      "         Iterations: 52\n",
      "         Function evaluations: 13380\n"
     ]
    },
    {
     "name": "stderr",
     "output_type": "stream",
     "text": [
      "\u001b[32m[I 2022-03-13 18:54:30,036]\u001b[0m Trial 42 finished with value: -2.5180879867494436e+59 and parameters: {'p': 8, 'd': 0, 'q': 4, 'P': 2, 'D': 1, 'Q': 2}. Best is trial 12 with value: 0.6623390268882541.\u001b[0m\n"
     ]
    },
    {
     "name": "stdout",
     "output_type": "stream",
     "text": [
      "Optimization terminated successfully.\n",
      "         Current function value: -1.400596\n",
      "         Iterations: 5\n",
      "         Function evaluations: 993\n"
     ]
    },
    {
     "name": "stderr",
     "output_type": "stream",
     "text": [
      "\u001b[32m[I 2022-03-13 18:54:38,129]\u001b[0m Trial 43 finished with value: 0.6561912568388937 and parameters: {'p': 8, 'd': 0, 'q': 3, 'P': 2, 'D': 1, 'Q': 2}. Best is trial 12 with value: 0.6623390268882541.\u001b[0m\n"
     ]
    },
    {
     "name": "stdout",
     "output_type": "stream",
     "text": [
      "Optimization terminated successfully.\n",
      "         Current function value: -1.399079\n",
      "         Iterations: 3\n",
      "         Function evaluations: 487\n"
     ]
    },
    {
     "name": "stderr",
     "output_type": "stream",
     "text": [
      "\u001b[32m[I 2022-03-13 18:54:42,400]\u001b[0m Trial 44 finished with value: 0.6358057918985611 and parameters: {'p': 7, 'd': 0, 'q': 2, 'P': 2, 'D': 1, 'Q': 2}. Best is trial 12 with value: 0.6623390268882541.\u001b[0m\n"
     ]
    },
    {
     "name": "stdout",
     "output_type": "stream",
     "text": [
      "Optimization terminated successfully.\n",
      "         Current function value: 0.103517\n",
      "         Iterations: 52\n",
      "         Function evaluations: 12527\n"
     ]
    },
    {
     "name": "stderr",
     "output_type": "stream",
     "text": [
      "\u001b[32m[I 2022-03-13 18:57:05,303]\u001b[0m Trial 45 finished with value: -3.0763785936373747e+43 and parameters: {'p': 8, 'd': 0, 'q': 4, 'P': 3, 'D': 1, 'Q': 3}. Best is trial 12 with value: 0.6623390268882541.\u001b[0m\n"
     ]
    },
    {
     "name": "stdout",
     "output_type": "stream",
     "text": [
      "Optimization terminated successfully.\n",
      "         Current function value: -1.401575\n",
      "         Iterations: 8\n",
      "         Function evaluations: 2027\n"
     ]
    },
    {
     "name": "stderr",
     "output_type": "stream",
     "text": [
      "\u001b[32m[I 2022-03-13 18:57:23,574]\u001b[0m Trial 46 finished with value: 0.5335575154084178 and parameters: {'p': 7, 'd': 0, 'q': 8, 'P': 2, 'D': 1, 'Q': 2}. Best is trial 12 with value: 0.6623390268882541.\u001b[0m\n",
      "\u001b[32m[I 2022-03-13 18:57:25,288]\u001b[0m Trial 47 finished with value: 0.6554722957096213 and parameters: {'p': 8, 'd': 0, 'q': 1, 'P': 0, 'D': 1, 'Q': 1}. Best is trial 12 with value: 0.6623390268882541.\u001b[0m\n"
     ]
    },
    {
     "name": "stdout",
     "output_type": "stream",
     "text": [
      "Optimization terminated successfully.\n",
      "         Current function value: -1.469451\n",
      "         Iterations: 3\n",
      "         Function evaluations: 375\n",
      "Optimization terminated successfully.\n",
      "         Current function value: -1.357496\n",
      "         Iterations: 12\n",
      "         Function evaluations: 2621\n"
     ]
    },
    {
     "name": "stderr",
     "output_type": "stream",
     "text": [
      "\u001b[32m[I 2022-03-13 18:57:54,641]\u001b[0m Trial 48 finished with value: 0.6262081441114354 and parameters: {'p': 6, 'd': 0, 'q': 5, 'P': 3, 'D': 1, 'Q': 3}. Best is trial 12 with value: 0.6623390268882541.\u001b[0m\n"
     ]
    },
    {
     "name": "stdout",
     "output_type": "stream",
     "text": [
      "Optimization terminated successfully.\n",
      "         Current function value: -1.445378\n",
      "         Iterations: 6\n",
      "         Function evaluations: 870\n"
     ]
    },
    {
     "name": "stderr",
     "output_type": "stream",
     "text": [
      "\u001b[32m[I 2022-03-13 18:57:59,016]\u001b[0m Trial 49 finished with value: 0.5060013636127209 and parameters: {'p': 7, 'd': 1, 'q': 2, 'P': 1, 'D': 1, 'Q': 1}. Best is trial 12 with value: 0.6623390268882541.\u001b[0m\n",
      "\u001b[32m[I 2022-03-13 18:57:59,024]\u001b[0m A new study created in memory with name: no-name-57a1b5bb-0407-42dc-bb4c-d5738d9664c3\u001b[0m\n",
      "\u001b[32m[I 2022-03-13 18:58:01,967]\u001b[0m Trial 0 finished with value: 0.49196058997368186 and parameters: {'p': 6, 'd': 1, 'q': 2, 'P': 1, 'D': 0, 'Q': 1}. Best is trial 0 with value: 0.49196058997368186.\u001b[0m\n"
     ]
    },
    {
     "name": "stdout",
     "output_type": "stream",
     "text": [
      "Optimization terminated successfully.\n",
      "         Current function value: -1.497994\n",
      "         Iterations: 7\n",
      "         Function evaluations: 916\n",
      "Optimization terminated successfully.\n",
      "         Current function value: -1.410479\n",
      "         Iterations: 23\n",
      "         Function evaluations: 5727\n"
     ]
    },
    {
     "name": "stderr",
     "output_type": "stream",
     "text": [
      "\u001b[32m[I 2022-03-13 18:58:47,318]\u001b[0m Trial 1 finished with value: 0.5963178810958216 and parameters: {'p': 8, 'd': 0, 'q': 7, 'P': 2, 'D': 0, 'Q': 3}. Best is trial 1 with value: 0.5963178810958216.\u001b[0m\n"
     ]
    },
    {
     "name": "stdout",
     "output_type": "stream",
     "text": [
      "Optimization terminated successfully.\n",
      "         Current function value: -1.392896\n",
      "         Iterations: 8\n",
      "         Function evaluations: 1843\n"
     ]
    },
    {
     "name": "stderr",
     "output_type": "stream",
     "text": [
      "\u001b[32m[I 2022-03-13 18:59:03,447]\u001b[0m Trial 2 finished with value: 0.49269707163105514 and parameters: {'p': 8, 'd': 1, 'q': 5, 'P': 3, 'D': 0, 'Q': 2}. Best is trial 1 with value: 0.5963178810958216.\u001b[0m\n"
     ]
    },
    {
     "name": "stdout",
     "output_type": "stream",
     "text": [
      "Optimization terminated successfully.\n",
      "         Current function value: -1.364024\n",
      "         Iterations: 11\n",
      "         Function evaluations: 2059\n"
     ]
    },
    {
     "name": "stderr",
     "output_type": "stream",
     "text": [
      "\u001b[32m[I 2022-03-13 18:59:24,149]\u001b[0m Trial 3 finished with value: 0.48746909502735325 and parameters: {'p': 4, 'd': 1, 'q': 5, 'P': 3, 'D': 1, 'Q': 1}. Best is trial 1 with value: 0.5963178810958216.\u001b[0m\n"
     ]
    },
    {
     "name": "stdout",
     "output_type": "stream",
     "text": [
      "Optimization terminated successfully.\n",
      "         Current function value: -1.361074\n",
      "         Iterations: 4\n",
      "         Function evaluations: 477\n"
     ]
    },
    {
     "name": "stderr",
     "output_type": "stream",
     "text": [
      "\u001b[32m[I 2022-03-13 18:59:29,576]\u001b[0m Trial 4 finished with value: 0.5067764884126218 and parameters: {'p': 1, 'd': 1, 'q': 3, 'P': 1, 'D': 1, 'Q': 3}. Best is trial 1 with value: 0.5963178810958216.\u001b[0m\n",
      "\u001b[32m[I 2022-03-13 18:59:29,761]\u001b[0m Trial 5 finished with value: 0.331271772740115 and parameters: {'p': 0, 'd': 0, 'q': 1, 'P': 1, 'D': 1, 'Q': 0}. Best is trial 1 with value: 0.5963178810958216.\u001b[0m\n"
     ]
    },
    {
     "name": "stdout",
     "output_type": "stream",
     "text": [
      "Optimization terminated successfully.\n",
      "         Current function value: -1.382983\n",
      "         Iterations: 2\n",
      "         Function evaluations: 80\n",
      "Optimization terminated successfully.\n",
      "         Current function value: -1.342453\n",
      "         Iterations: 9\n",
      "         Function evaluations: 1863\n"
     ]
    },
    {
     "name": "stderr",
     "output_type": "stream",
     "text": [
      "\u001b[32m[I 2022-03-13 18:59:42,250]\u001b[0m Trial 6 finished with value: 0.44124430425687566 and parameters: {'p': 6, 'd': 1, 'q': 6, 'P': 3, 'D': 0, 'Q': 0}. Best is trial 1 with value: 0.5963178810958216.\u001b[0m\n",
      "\u001b[32m[I 2022-03-13 18:59:45,590]\u001b[0m Trial 7 finished with value: 0.15497447034139067 and parameters: {'p': 3, 'd': 1, 'q': 2, 'P': 0, 'D': 0, 'Q': 3}. Best is trial 1 with value: 0.5963178810958216.\u001b[0m\n"
     ]
    },
    {
     "name": "stdout",
     "output_type": "stream",
     "text": [
      "Optimization terminated successfully.\n",
      "         Current function value: -1.265303\n",
      "         Iterations: 5\n",
      "         Function evaluations: 534\n"
     ]
    },
    {
     "name": "stderr",
     "output_type": "stream",
     "text": [
      "\u001b[32m[I 2022-03-13 18:59:48,451]\u001b[0m Trial 8 finished with value: -0.12223091072902004 and parameters: {'p': 2, 'd': 1, 'q': 0, 'P': 2, 'D': 1, 'Q': 1}. Best is trial 1 with value: 0.5963178810958216.\u001b[0m\n"
     ]
    },
    {
     "name": "stdout",
     "output_type": "stream",
     "text": [
      "Optimization terminated successfully.\n",
      "         Current function value: -1.311824\n",
      "         Iterations: 6\n",
      "         Function evaluations: 443\n",
      "Optimization terminated successfully.\n",
      "         Current function value: -1.409576\n",
      "         Iterations: 12\n",
      "         Function evaluations: 1770\n"
     ]
    },
    {
     "name": "stderr",
     "output_type": "stream",
     "text": [
      "\u001b[32m[I 2022-03-13 19:00:02,797]\u001b[0m Trial 9 finished with value: 0.5090710832867659 and parameters: {'p': 2, 'd': 1, 'q': 5, 'P': 0, 'D': 1, 'Q': 2}. Best is trial 1 with value: 0.5963178810958216.\u001b[0m\n"
     ]
    },
    {
     "name": "stdout",
     "output_type": "stream",
     "text": [
      "Optimization terminated successfully.\n",
      "         Current function value: -1.404379\n",
      "         Iterations: 20\n",
      "         Function evaluations: 5308\n"
     ]
    },
    {
     "name": "stderr",
     "output_type": "stream",
     "text": [
      "\u001b[32m[I 2022-03-13 19:00:49,743]\u001b[0m Trial 10 finished with value: 0.6009498997974478 and parameters: {'p': 8, 'd': 0, 'q': 8, 'P': 2, 'D': 0, 'Q': 3}. Best is trial 10 with value: 0.6009498997974478.\u001b[0m\n"
     ]
    },
    {
     "name": "stdout",
     "output_type": "stream",
     "text": [
      "Optimization terminated successfully.\n",
      "         Current function value: -1.404379\n",
      "         Iterations: 20\n",
      "         Function evaluations: 5308\n"
     ]
    },
    {
     "name": "stderr",
     "output_type": "stream",
     "text": [
      "\u001b[32m[I 2022-03-13 19:01:36,831]\u001b[0m Trial 11 finished with value: 0.6009498997974478 and parameters: {'p': 8, 'd': 0, 'q': 8, 'P': 2, 'D': 0, 'Q': 3}. Best is trial 10 with value: 0.6009498997974478.\u001b[0m\n"
     ]
    },
    {
     "name": "stdout",
     "output_type": "stream",
     "text": [
      "Optimization terminated successfully.\n",
      "         Current function value: -1.444511\n",
      "         Iterations: 10\n",
      "         Function evaluations: 2369\n"
     ]
    },
    {
     "name": "stderr",
     "output_type": "stream",
     "text": [
      "\u001b[32m[I 2022-03-13 19:01:50,784]\u001b[0m Trial 12 finished with value: 0.352490363464383 and parameters: {'p': 6, 'd': 0, 'q': 8, 'P': 2, 'D': 0, 'Q': 2}. Best is trial 10 with value: 0.6009498997974478.\u001b[0m\n"
     ]
    },
    {
     "name": "stdout",
     "output_type": "stream",
     "text": [
      "Optimization terminated successfully.\n",
      "         Current function value: -1.401657\n",
      "         Iterations: 14\n",
      "         Function evaluations: 3559\n"
     ]
    },
    {
     "name": "stderr",
     "output_type": "stream",
     "text": [
      "\u001b[32m[I 2022-03-13 19:02:22,058]\u001b[0m Trial 13 finished with value: 0.5947718985143656 and parameters: {'p': 7, 'd': 0, 'q': 8, 'P': 2, 'D': 0, 'Q': 3}. Best is trial 10 with value: 0.6009498997974478.\u001b[0m\n"
     ]
    },
    {
     "name": "stdout",
     "output_type": "stream",
     "text": [
      "Optimization terminated successfully.\n",
      "         Current function value: -1.405818\n",
      "         Iterations: 10\n",
      "         Function evaluations: 2118\n"
     ]
    },
    {
     "name": "stderr",
     "output_type": "stream",
     "text": [
      "\u001b[32m[I 2022-03-13 19:02:38,904]\u001b[0m Trial 14 finished with value: 0.5966856019119591 and parameters: {'p': 5, 'd': 0, 'q': 7, 'P': 2, 'D': 0, 'Q': 3}. Best is trial 10 with value: 0.6009498997974478.\u001b[0m\n"
     ]
    },
    {
     "name": "stdout",
     "output_type": "stream",
     "text": [
      "Optimization terminated successfully.\n",
      "         Current function value: -1.446531\n",
      "         Iterations: 20\n",
      "         Function evaluations: 4761\n"
     ]
    },
    {
     "name": "stderr",
     "output_type": "stream",
     "text": [
      "\u001b[32m[I 2022-03-13 19:03:04,204]\u001b[0m Trial 15 finished with value: 0.5910762477461071 and parameters: {'p': 8, 'd': 0, 'q': 7, 'P': 1, 'D': 0, 'Q': 2}. Best is trial 10 with value: 0.6009498997974478.\u001b[0m\n"
     ]
    },
    {
     "name": "stdout",
     "output_type": "stream",
     "text": [
      "Optimization terminated successfully.\n",
      "         Current function value: -1.403039\n",
      "         Iterations: 16\n",
      "         Function evaluations: 4243\n"
     ]
    },
    {
     "name": "stderr",
     "output_type": "stream",
     "text": [
      "\u001b[32m[I 2022-03-13 19:03:41,603]\u001b[0m Trial 16 finished with value: 0.6018080889151592 and parameters: {'p': 7, 'd': 0, 'q': 8, 'P': 3, 'D': 0, 'Q': 3}. Best is trial 16 with value: 0.6018080889151592.\u001b[0m\n"
     ]
    },
    {
     "name": "stdout",
     "output_type": "stream",
     "text": [
      "Optimization terminated successfully.\n",
      "         Current function value: -1.414059\n",
      "         Iterations: 14\n",
      "         Function evaluations: 3215\n"
     ]
    },
    {
     "name": "stderr",
     "output_type": "stream",
     "text": [
      "\u001b[32m[I 2022-03-13 19:04:07,719]\u001b[0m Trial 17 finished with value: 0.5975038907573408 and parameters: {'p': 7, 'd': 0, 'q': 6, 'P': 3, 'D': 0, 'Q': 2}. Best is trial 16 with value: 0.6018080889151592.\u001b[0m\n"
     ]
    },
    {
     "name": "stdout",
     "output_type": "stream",
     "text": [
      "Optimization terminated successfully.\n",
      "         Current function value: -1.419638\n",
      "         Iterations: 9\n",
      "         Function evaluations: 1651\n"
     ]
    },
    {
     "name": "stderr",
     "output_type": "stream",
     "text": [
      "\u001b[32m[I 2022-03-13 19:04:19,713]\u001b[0m Trial 18 finished with value: 0.5777312241040482 and parameters: {'p': 5, 'd': 0, 'q': 4, 'P': 3, 'D': 0, 'Q': 3}. Best is trial 16 with value: 0.6018080889151592.\u001b[0m\n"
     ]
    },
    {
     "name": "stdout",
     "output_type": "stream",
     "text": [
      "Optimization terminated successfully.\n",
      "         Current function value: -1.414059\n",
      "         Iterations: 14\n",
      "         Function evaluations: 3215\n"
     ]
    },
    {
     "name": "stderr",
     "output_type": "stream",
     "text": [
      "\u001b[32m[I 2022-03-13 19:04:45,957]\u001b[0m Trial 19 finished with value: 0.5975038907573408 and parameters: {'p': 7, 'd': 0, 'q': 6, 'P': 3, 'D': 0, 'Q': 2}. Best is trial 16 with value: 0.6018080889151592.\u001b[0m\n"
     ]
    },
    {
     "name": "stdout",
     "output_type": "stream",
     "text": [
      "Optimization terminated successfully.\n",
      "         Current function value: -1.372504\n",
      "         Iterations: 16\n",
      "         Function evaluations: 3771\n"
     ]
    },
    {
     "name": "stderr",
     "output_type": "stream",
     "text": [
      "\u001b[32m[I 2022-03-13 19:05:32,396]\u001b[0m Trial 20 finished with value: 0.6521396591722063 and parameters: {'p': 5, 'd': 0, 'q': 8, 'P': 3, 'D': 1, 'Q': 3}. Best is trial 20 with value: 0.6521396591722063.\u001b[0m\n"
     ]
    },
    {
     "name": "stdout",
     "output_type": "stream",
     "text": [
      "Optimization terminated successfully.\n",
      "         Current function value: -1.372504\n",
      "         Iterations: 16\n",
      "         Function evaluations: 3771\n"
     ]
    },
    {
     "name": "stderr",
     "output_type": "stream",
     "text": [
      "\u001b[32m[I 2022-03-13 19:06:19,168]\u001b[0m Trial 21 finished with value: 0.6521396591722063 and parameters: {'p': 5, 'd': 0, 'q': 8, 'P': 3, 'D': 1, 'Q': 3}. Best is trial 20 with value: 0.6521396591722063.\u001b[0m\n"
     ]
    },
    {
     "name": "stdout",
     "output_type": "stream",
     "text": [
      "Optimization terminated successfully.\n",
      "         Current function value: -1.367608\n",
      "         Iterations: 17\n",
      "         Function evaluations: 3799\n"
     ]
    },
    {
     "name": "stderr",
     "output_type": "stream",
     "text": [
      "\u001b[32m[I 2022-03-13 19:07:00,670]\u001b[0m Trial 22 finished with value: 0.6222120991273108 and parameters: {'p': 4, 'd': 0, 'q': 7, 'P': 3, 'D': 1, 'Q': 3}. Best is trial 20 with value: 0.6521396591722063.\u001b[0m\n"
     ]
    },
    {
     "name": "stdout",
     "output_type": "stream",
     "text": [
      "Optimization terminated successfully.\n",
      "         Current function value: -1.367608\n",
      "         Iterations: 17\n",
      "         Function evaluations: 3799\n"
     ]
    },
    {
     "name": "stderr",
     "output_type": "stream",
     "text": [
      "\u001b[32m[I 2022-03-13 19:07:41,933]\u001b[0m Trial 23 finished with value: 0.6222120991273108 and parameters: {'p': 4, 'd': 0, 'q': 7, 'P': 3, 'D': 1, 'Q': 3}. Best is trial 20 with value: 0.6521396591722063.\u001b[0m\n"
     ]
    },
    {
     "name": "stdout",
     "output_type": "stream",
     "text": [
      "Optimization terminated successfully.\n",
      "         Current function value: -1.370606\n",
      "         Iterations: 7\n",
      "         Function evaluations: 1475\n"
     ]
    },
    {
     "name": "stderr",
     "output_type": "stream",
     "text": [
      "\u001b[32m[I 2022-03-13 19:07:55,159]\u001b[0m Trial 24 finished with value: 0.6102693137702052 and parameters: {'p': 5, 'd': 0, 'q': 7, 'P': 3, 'D': 1, 'Q': 2}. Best is trial 20 with value: 0.6521396591722063.\u001b[0m\n"
     ]
    },
    {
     "name": "stdout",
     "output_type": "stream",
     "text": [
      "Optimization terminated successfully.\n",
      "         Current function value: -1.370630\n",
      "         Iterations: 14\n",
      "         Function evaluations: 3013\n"
     ]
    },
    {
     "name": "stderr",
     "output_type": "stream",
     "text": [
      "\u001b[32m[I 2022-03-13 19:08:32,911]\u001b[0m Trial 25 finished with value: 0.6518510485942606 and parameters: {'p': 3, 'd': 0, 'q': 8, 'P': 3, 'D': 1, 'Q': 3}. Best is trial 20 with value: 0.6521396591722063.\u001b[0m\n"
     ]
    },
    {
     "name": "stdout",
     "output_type": "stream",
     "text": [
      "Optimization terminated successfully.\n",
      "         Current function value: -1.377172\n",
      "         Iterations: 3\n",
      "         Function evaluations: 520\n"
     ]
    },
    {
     "name": "stderr",
     "output_type": "stream",
     "text": [
      "\u001b[32m[I 2022-03-13 19:08:37,677]\u001b[0m Trial 26 finished with value: 0.6077976470886159 and parameters: {'p': 3, 'd': 0, 'q': 6, 'P': 3, 'D': 1, 'Q': 2}. Best is trial 20 with value: 0.6521396591722063.\u001b[0m\n"
     ]
    },
    {
     "name": "stdout",
     "output_type": "stream",
     "text": [
      "Optimization terminated successfully.\n",
      "         Current function value: -1.358188\n",
      "         Iterations: 11\n",
      "         Function evaluations: 2203\n"
     ]
    },
    {
     "name": "stderr",
     "output_type": "stream",
     "text": [
      "\u001b[32m[I 2022-03-13 19:09:06,776]\u001b[0m Trial 27 finished with value: 0.6591412454238055 and parameters: {'p': 3, 'd': 0, 'q': 8, 'P': 2, 'D': 1, 'Q': 3}. Best is trial 27 with value: 0.6591412454238055.\u001b[0m\n"
     ]
    },
    {
     "name": "stdout",
     "output_type": "stream",
     "text": [
      "Optimization terminated successfully.\n",
      "         Current function value: -1.418062\n",
      "         Iterations: 14\n",
      "         Function evaluations: 2256\n"
     ]
    },
    {
     "name": "stderr",
     "output_type": "stream",
     "text": [
      "\u001b[32m[I 2022-03-13 19:09:22,780]\u001b[0m Trial 28 finished with value: 0.6381223638850987 and parameters: {'p': 5, 'd': 0, 'q': 4, 'P': 2, 'D': 1, 'Q': 1}. Best is trial 27 with value: 0.6591412454238055.\u001b[0m\n"
     ]
    },
    {
     "name": "stdout",
     "output_type": "stream",
     "text": [
      "Optimization terminated successfully.\n",
      "         Current function value: -1.347192\n",
      "         Iterations: 3\n",
      "         Function evaluations: 454\n"
     ]
    },
    {
     "name": "stderr",
     "output_type": "stream",
     "text": [
      "\u001b[32m[I 2022-03-13 19:09:28,742]\u001b[0m Trial 29 finished with value: 0.6425630363011199 and parameters: {'p': 2, 'd': 0, 'q': 6, 'P': 1, 'D': 1, 'Q': 3}. Best is trial 27 with value: 0.6591412454238055.\u001b[0m\n"
     ]
    },
    {
     "name": "stdout",
     "output_type": "stream",
     "text": [
      "Optimization terminated successfully.\n",
      "         Current function value: -1.409754\n",
      "         Iterations: 7\n",
      "         Function evaluations: 976\n"
     ]
    },
    {
     "name": "stderr",
     "output_type": "stream",
     "text": [
      "\u001b[32m[I 2022-03-13 19:09:35,302]\u001b[0m Trial 30 finished with value: 0.6386435628168541 and parameters: {'p': 3, 'd': 0, 'q': 3, 'P': 2, 'D': 1, 'Q': 2}. Best is trial 27 with value: 0.6591412454238055.\u001b[0m\n"
     ]
    },
    {
     "name": "stdout",
     "output_type": "stream",
     "text": [
      "Optimization terminated successfully.\n",
      "         Current function value: -1.370630\n",
      "         Iterations: 14\n",
      "         Function evaluations: 3013\n"
     ]
    },
    {
     "name": "stderr",
     "output_type": "stream",
     "text": [
      "\u001b[32m[I 2022-03-13 19:10:12,976]\u001b[0m Trial 31 finished with value: 0.6518510485942606 and parameters: {'p': 3, 'd': 0, 'q': 8, 'P': 3, 'D': 1, 'Q': 3}. Best is trial 27 with value: 0.6591412454238055.\u001b[0m\n"
     ]
    },
    {
     "name": "stdout",
     "output_type": "stream",
     "text": [
      "Optimization terminated successfully.\n",
      "         Current function value: -1.369194\n",
      "         Iterations: 16\n",
      "         Function evaluations: 3740\n"
     ]
    },
    {
     "name": "stderr",
     "output_type": "stream",
     "text": [
      "\u001b[32m[I 2022-03-13 19:11:00,568]\u001b[0m Trial 32 finished with value: 0.6311690001536088 and parameters: {'p': 4, 'd': 0, 'q': 8, 'P': 3, 'D': 1, 'Q': 3}. Best is trial 27 with value: 0.6591412454238055.\u001b[0m\n"
     ]
    },
    {
     "name": "stdout",
     "output_type": "stream",
     "text": [
      "Optimization terminated successfully.\n",
      "         Current function value: -1.367608\n",
      "         Iterations: 17\n",
      "         Function evaluations: 3799\n"
     ]
    },
    {
     "name": "stderr",
     "output_type": "stream",
     "text": [
      "\u001b[32m[I 2022-03-13 19:11:42,913]\u001b[0m Trial 33 finished with value: 0.6222120991273108 and parameters: {'p': 4, 'd': 0, 'q': 7, 'P': 3, 'D': 1, 'Q': 3}. Best is trial 27 with value: 0.6591412454238055.\u001b[0m\n"
     ]
    },
    {
     "name": "stdout",
     "output_type": "stream",
     "text": [
      "Optimization terminated successfully.\n",
      "         Current function value: -1.355880\n",
      "         Iterations: 10\n",
      "         Function evaluations: 1849\n"
     ]
    },
    {
     "name": "stderr",
     "output_type": "stream",
     "text": [
      "\u001b[32m[I 2022-03-13 19:12:07,208]\u001b[0m Trial 34 finished with value: 0.6550643176062624 and parameters: {'p': 1, 'd': 0, 'q': 8, 'P': 2, 'D': 1, 'Q': 3}. Best is trial 27 with value: 0.6591412454238055.\u001b[0m\n"
     ]
    },
    {
     "name": "stdout",
     "output_type": "stream",
     "text": [
      "Optimization terminated successfully.\n",
      "         Current function value: -1.354672\n",
      "         Iterations: 4\n",
      "         Function evaluations: 529\n"
     ]
    },
    {
     "name": "stderr",
     "output_type": "stream",
     "text": [
      "\u001b[32m[I 2022-03-13 19:12:13,549]\u001b[0m Trial 35 finished with value: 0.6429091601793558 and parameters: {'p': 0, 'd': 0, 'q': 5, 'P': 2, 'D': 1, 'Q': 3}. Best is trial 27 with value: 0.6591412454238055.\u001b[0m\n"
     ]
    },
    {
     "name": "stdout",
     "output_type": "stream",
     "text": [
      "Optimization terminated successfully.\n",
      "         Current function value: -1.392975\n",
      "         Iterations: 3\n",
      "         Function evaluations: 487\n"
     ]
    },
    {
     "name": "stderr",
     "output_type": "stream",
     "text": [
      "\u001b[32m[I 2022-03-13 19:12:17,643]\u001b[0m Trial 36 finished with value: 0.6382529855267781 and parameters: {'p': 1, 'd': 0, 'q': 7, 'P': 2, 'D': 1, 'Q': 2}. Best is trial 27 with value: 0.6591412454238055.\u001b[0m\n",
      "\u001b[32m[I 2022-03-13 19:12:18,253]\u001b[0m Trial 37 finished with value: 0.34175604372975976 and parameters: {'p': 1, 'd': 0, 'q': 8, 'P': 1, 'D': 1, 'Q': 0}. Best is trial 27 with value: 0.6591412454238055.\u001b[0m\n"
     ]
    },
    {
     "name": "stdout",
     "output_type": "stream",
     "text": [
      "Optimization terminated successfully.\n",
      "         Current function value: -1.385620\n",
      "         Iterations: 2\n",
      "         Function evaluations: 263\n",
      "Optimization terminated successfully.\n",
      "         Current function value: -1.361498\n",
      "         Iterations: 10\n",
      "         Function evaluations: 2154\n"
     ]
    },
    {
     "name": "stderr",
     "output_type": "stream",
     "text": [
      "\u001b[32m[I 2022-03-13 19:12:43,591]\u001b[0m Trial 38 finished with value: 0.5323852421828315 and parameters: {'p': 6, 'd': 1, 'q': 6, 'P': 2, 'D': 1, 'Q': 3}. Best is trial 27 with value: 0.6591412454238055.\u001b[0m\n"
     ]
    },
    {
     "name": "stdout",
     "output_type": "stream",
     "text": [
      "Optimization terminated successfully.\n",
      "         Current function value: -1.405982\n",
      "         Iterations: 5\n",
      "         Function evaluations: 998\n"
     ]
    },
    {
     "name": "stderr",
     "output_type": "stream",
     "text": [
      "\u001b[32m[I 2022-03-13 19:12:49,821]\u001b[0m Trial 39 finished with value: 0.6338831502071621 and parameters: {'p': 5, 'd': 0, 'q': 7, 'P': 2, 'D': 1, 'Q': 1}. Best is trial 27 with value: 0.6591412454238055.\u001b[0m\n"
     ]
    },
    {
     "name": "stdout",
     "output_type": "stream",
     "text": [
      "Optimization terminated successfully.\n",
      "         Current function value: -1.346091\n",
      "         Iterations: 8\n",
      "         Function evaluations: 1091\n"
     ]
    },
    {
     "name": "stderr",
     "output_type": "stream",
     "text": [
      "\u001b[32m[I 2022-03-13 19:13:03,548]\u001b[0m Trial 40 finished with value: 0.49587089406693485 and parameters: {'p': 0, 'd': 1, 'q': 5, 'P': 0, 'D': 1, 'Q': 3}. Best is trial 27 with value: 0.6591412454238055.\u001b[0m\n"
     ]
    },
    {
     "name": "stdout",
     "output_type": "stream",
     "text": [
      "Optimization terminated successfully.\n",
      "         Current function value: -1.362094\n",
      "         Iterations: 7\n",
      "         Function evaluations: 1380\n"
     ]
    },
    {
     "name": "stderr",
     "output_type": "stream",
     "text": [
      "\u001b[32m[I 2022-03-13 19:13:20,548]\u001b[0m Trial 41 finished with value: 0.6377039613480662 and parameters: {'p': 2, 'd': 0, 'q': 8, 'P': 3, 'D': 1, 'Q': 3}. Best is trial 27 with value: 0.6591412454238055.\u001b[0m\n"
     ]
    },
    {
     "name": "stdout",
     "output_type": "stream",
     "text": [
      "Optimization terminated successfully.\n",
      "         Current function value: -1.370630\n",
      "         Iterations: 14\n",
      "         Function evaluations: 3013\n"
     ]
    },
    {
     "name": "stderr",
     "output_type": "stream",
     "text": [
      "\u001b[32m[I 2022-03-13 19:13:58,386]\u001b[0m Trial 42 finished with value: 0.6518510485942606 and parameters: {'p': 3, 'd': 0, 'q': 8, 'P': 3, 'D': 1, 'Q': 3}. Best is trial 27 with value: 0.6591412454238055.\u001b[0m\n"
     ]
    },
    {
     "name": "stdout",
     "output_type": "stream",
     "text": [
      "Optimization terminated successfully.\n",
      "         Current function value: -1.369194\n",
      "         Iterations: 16\n",
      "         Function evaluations: 3740\n"
     ]
    },
    {
     "name": "stderr",
     "output_type": "stream",
     "text": [
      "\u001b[32m[I 2022-03-13 19:14:45,762]\u001b[0m Trial 43 finished with value: 0.6311690001536088 and parameters: {'p': 4, 'd': 0, 'q': 8, 'P': 3, 'D': 1, 'Q': 3}. Best is trial 27 with value: 0.6591412454238055.\u001b[0m\n"
     ]
    },
    {
     "name": "stdout",
     "output_type": "stream",
     "text": [
      "Optimization terminated successfully.\n",
      "         Current function value: -1.379328\n",
      "         Iterations: 4\n",
      "         Function evaluations: 345\n"
     ]
    },
    {
     "name": "stderr",
     "output_type": "stream",
     "text": [
      "\u001b[32m[I 2022-03-13 19:14:49,157]\u001b[0m Trial 44 finished with value: 0.635985667379559 and parameters: {'p': 1, 'd': 0, 'q': 0, 'P': 2, 'D': 1, 'Q': 3}. Best is trial 27 with value: 0.6591412454238055.\u001b[0m\n"
     ]
    },
    {
     "name": "stdout",
     "output_type": "stream",
     "text": [
      "Optimization terminated successfully.\n",
      "         Current function value: -1.371832\n",
      "         Iterations: 4\n",
      "         Function evaluations: 399\n"
     ]
    },
    {
     "name": "stderr",
     "output_type": "stream",
     "text": [
      "\u001b[32m[I 2022-03-13 19:14:53,239]\u001b[0m Trial 45 finished with value: 0.6423261285497321 and parameters: {'p': 2, 'd': 0, 'q': 1, 'P': 1, 'D': 1, 'Q': 3}. Best is trial 27 with value: 0.6591412454238055.\u001b[0m\n"
     ]
    },
    {
     "name": "stdout",
     "output_type": "stream",
     "text": [
      "Optimization terminated successfully.\n",
      "         Current function value: -1.370630\n",
      "         Iterations: 14\n",
      "         Function evaluations: 3013\n"
     ]
    },
    {
     "name": "stderr",
     "output_type": "stream",
     "text": [
      "\u001b[32m[I 2022-03-13 19:15:31,174]\u001b[0m Trial 46 finished with value: 0.6518510485942606 and parameters: {'p': 3, 'd': 0, 'q': 8, 'P': 3, 'D': 1, 'Q': 3}. Best is trial 27 with value: 0.6591412454238055.\u001b[0m\n"
     ]
    },
    {
     "name": "stdout",
     "output_type": "stream",
     "text": [
      "Optimization terminated successfully.\n",
      "         Current function value: -1.403827\n",
      "         Iterations: 9\n",
      "         Function evaluations: 1992\n"
     ]
    },
    {
     "name": "stderr",
     "output_type": "stream",
     "text": [
      "\u001b[32m[I 2022-03-13 19:15:47,214]\u001b[0m Trial 47 finished with value: 0.5135724669394149 and parameters: {'p': 5, 'd': 0, 'q': 7, 'P': 2, 'D': 1, 'Q': 2}. Best is trial 27 with value: 0.6591412454238055.\u001b[0m\n"
     ]
    },
    {
     "name": "stdout",
     "output_type": "stream",
     "text": [
      "Optimization terminated successfully.\n",
      "         Current function value: -1.380160\n",
      "         Iterations: 23\n",
      "         Function evaluations: 5785\n"
     ]
    },
    {
     "name": "stderr",
     "output_type": "stream",
     "text": [
      "\u001b[32m[I 2022-03-13 19:17:02,639]\u001b[0m Trial 48 finished with value: 0.5026532277017586 and parameters: {'p': 6, 'd': 1, 'q': 8, 'P': 3, 'D': 1, 'Q': 3}. Best is trial 27 with value: 0.6591412454238055.\u001b[0m\n"
     ]
    },
    {
     "name": "stdout",
     "output_type": "stream",
     "text": [
      "Optimization terminated successfully.\n",
      "         Current function value: -1.358739\n",
      "         Iterations: 10\n",
      "         Function evaluations: 2282\n"
     ]
    },
    {
     "name": "stderr",
     "output_type": "stream",
     "text": [
      "\u001b[32m[I 2022-03-13 19:17:29,399]\u001b[0m Trial 49 finished with value: 0.471701640727204 and parameters: {'p': 6, 'd': 0, 'q': 7, 'P': 2, 'D': 1, 'Q': 3}. Best is trial 27 with value: 0.6591412454238055.\u001b[0m\n",
      "\u001b[32m[I 2022-03-13 19:17:29,408]\u001b[0m A new study created in memory with name: no-name-b746967e-020d-4e31-9068-bc507cdec08d\u001b[0m\n",
      "\u001b[32m[I 2022-03-13 19:17:30,561]\u001b[0m Trial 0 finished with value: -4.1029270020992753e+18 and parameters: {'p': 3, 'd': 0, 'q': 2, 'P': 0, 'D': 0, 'Q': 1}. Best is trial 0 with value: -4.1029270020992753e+18.\u001b[0m\n"
     ]
    },
    {
     "name": "stdout",
     "output_type": "stream",
     "text": [
      "Optimization terminated successfully.\n",
      "         Current function value: -0.844468\n",
      "         Iterations: 9\n",
      "         Function evaluations: 784\n"
     ]
    },
    {
     "name": "stderr",
     "output_type": "stream",
     "text": [
      "\u001b[32m[I 2022-03-13 19:17:31,613]\u001b[0m Trial 1 finished with value: 0.05829613887474838 and parameters: {'p': 5, 'd': 1, 'q': 0, 'P': 2, 'D': 0, 'Q': 0}. Best is trial 1 with value: 0.05829613887474838.\u001b[0m\n"
     ]
    },
    {
     "name": "stdout",
     "output_type": "stream",
     "text": [
      "Optimization terminated successfully.\n",
      "         Current function value: -1.382456\n",
      "         Iterations: 6\n",
      "         Function evaluations: 533\n",
      "Optimization terminated successfully.\n",
      "         Current function value: -1.456367\n",
      "         Iterations: 13\n",
      "         Function evaluations: 3211\n"
     ]
    },
    {
     "name": "stderr",
     "output_type": "stream",
     "text": [
      "\u001b[32m[I 2022-03-13 19:17:56,757]\u001b[0m Trial 2 finished with value: 0.7217082929592544 and parameters: {'p': 7, 'd': 1, 'q': 6, 'P': 3, 'D': 0, 'Q': 2}. Best is trial 2 with value: 0.7217082929592544.\u001b[0m\n",
      "\u001b[32m[I 2022-03-13 19:18:03,597]\u001b[0m Trial 3 finished with value: 0.7127870894524553 and parameters: {'p': 1, 'd': 1, 'q': 6, 'P': 1, 'D': 0, 'Q': 2}. Best is trial 2 with value: 0.7217082929592544.\u001b[0m\n"
     ]
    },
    {
     "name": "stdout",
     "output_type": "stream",
     "text": [
      "Optimization terminated successfully.\n",
      "         Current function value: -1.500716\n",
      "         Iterations: 8\n",
      "         Function evaluations: 1339\n",
      "Optimization terminated successfully.\n",
      "         Current function value: -1.305990\n",
      "         Iterations: 10\n",
      "         Function evaluations: 1603\n"
     ]
    },
    {
     "name": "stderr",
     "output_type": "stream",
     "text": [
      "\u001b[32m[I 2022-03-13 19:18:16,887]\u001b[0m Trial 4 finished with value: 0.3826591716132911 and parameters: {'p': 0, 'd': 1, 'q': 7, 'P': 0, 'D': 0, 'Q': 3}. Best is trial 2 with value: 0.7217082929592544.\u001b[0m\n",
      "\u001b[32m[I 2022-03-13 19:18:19,334]\u001b[0m Trial 5 finished with value: 0.719786867345255 and parameters: {'p': 1, 'd': 1, 'q': 2, 'P': 2, 'D': 0, 'Q': 2}. Best is trial 2 with value: 0.7217082929592544.\u001b[0m\n"
     ]
    },
    {
     "name": "stdout",
     "output_type": "stream",
     "text": [
      "Optimization terminated successfully.\n",
      "         Current function value: -1.523429\n",
      "         Iterations: 5\n",
      "         Function evaluations: 506\n"
     ]
    },
    {
     "name": "stderr",
     "output_type": "stream",
     "text": [
      "\u001b[32m[I 2022-03-13 19:18:19,892]\u001b[0m Trial 6 finished with value: -6.160629583760164 and parameters: {'p': 1, 'd': 1, 'q': 0, 'P': 0, 'D': 0, 'Q': 2}. Best is trial 2 with value: 0.7217082929592544.\u001b[0m\n"
     ]
    },
    {
     "name": "stdout",
     "output_type": "stream",
     "text": [
      "Optimization terminated successfully.\n",
      "         Current function value: -1.188724\n",
      "         Iterations: 3\n",
      "         Function evaluations: 155\n",
      "Optimization terminated successfully.\n",
      "         Current function value: -1.444680\n",
      "         Iterations: 8\n",
      "         Function evaluations: 1521\n"
     ]
    },
    {
     "name": "stderr",
     "output_type": "stream",
     "text": [
      "\u001b[32m[I 2022-03-13 19:18:33,317]\u001b[0m Trial 7 finished with value: 0.7414817492644561 and parameters: {'p': 3, 'd': 1, 'q': 7, 'P': 2, 'D': 1, 'Q': 2}. Best is trial 7 with value: 0.7414817492644561.\u001b[0m\n"
     ]
    },
    {
     "name": "stdout",
     "output_type": "stream",
     "text": [
      "Optimization terminated successfully.\n",
      "         Current function value: -1.424149\n",
      "         Iterations: 6\n",
      "         Function evaluations: 1060\n"
     ]
    },
    {
     "name": "stderr",
     "output_type": "stream",
     "text": [
      "\u001b[32m[I 2022-03-13 19:18:41,477]\u001b[0m Trial 8 finished with value: 0.7059541771056697 and parameters: {'p': 6, 'd': 1, 'q': 5, 'P': 3, 'D': 0, 'Q': 0}. Best is trial 7 with value: 0.7414817492644561.\u001b[0m\n",
      "\u001b[32m[I 2022-03-13 19:18:50,606]\u001b[0m Trial 9 finished with value: 0.5663045682688416 and parameters: {'p': 5, 'd': 1, 'q': 3, 'P': 1, 'D': 0, 'Q': 0}. Best is trial 7 with value: 0.7414817492644561.\u001b[0m\n"
     ]
    },
    {
     "name": "stdout",
     "output_type": "stream",
     "text": [
      "Optimization terminated successfully.\n",
      "         Current function value: -1.396025\n",
      "         Iterations: 23\n",
      "         Function evaluations: 2741\n",
      "Optimization terminated successfully.\n",
      "         Current function value: -1.414191\n",
      "         Iterations: 7\n",
      "         Function evaluations: 1271\n"
     ]
    },
    {
     "name": "stderr",
     "output_type": "stream",
     "text": [
      "\u001b[32m[I 2022-03-13 19:19:06,112]\u001b[0m Trial 10 finished with value: 0.7634365657762806 and parameters: {'p': 3, 'd': 0, 'q': 7, 'P': 2, 'D': 1, 'Q': 3}. Best is trial 10 with value: 0.7634365657762806.\u001b[0m\n"
     ]
    },
    {
     "name": "stdout",
     "output_type": "stream",
     "text": [
      "Optimization terminated successfully.\n",
      "         Current function value: -1.409238\n",
      "         Iterations: 3\n",
      "         Function evaluations: 563\n"
     ]
    },
    {
     "name": "stderr",
     "output_type": "stream",
     "text": [
      "\u001b[32m[I 2022-03-13 19:19:13,822]\u001b[0m Trial 11 finished with value: 0.7625331281352167 and parameters: {'p': 3, 'd': 0, 'q': 8, 'P': 2, 'D': 1, 'Q': 3}. Best is trial 10 with value: 0.7634365657762806.\u001b[0m\n"
     ]
    },
    {
     "name": "stdout",
     "output_type": "stream",
     "text": [
      "Optimization terminated successfully.\n",
      "         Current function value: -1.409238\n",
      "         Iterations: 3\n",
      "         Function evaluations: 563\n"
     ]
    },
    {
     "name": "stderr",
     "output_type": "stream",
     "text": [
      "\u001b[32m[I 2022-03-13 19:19:23,119]\u001b[0m Trial 12 finished with value: 0.7625331281352167 and parameters: {'p': 3, 'd': 0, 'q': 8, 'P': 2, 'D': 1, 'Q': 3}. Best is trial 10 with value: 0.7634365657762806.\u001b[0m\n"
     ]
    },
    {
     "name": "stdout",
     "output_type": "stream",
     "text": [
      "Optimization terminated successfully.\n",
      "         Current function value: -1.408013\n",
      "         Iterations: 5\n",
      "         Function evaluations: 1129\n"
     ]
    },
    {
     "name": "stderr",
     "output_type": "stream",
     "text": [
      "\u001b[32m[I 2022-03-13 19:19:37,556]\u001b[0m Trial 13 finished with value: 0.7623287520991111 and parameters: {'p': 4, 'd': 0, 'q': 8, 'P': 3, 'D': 1, 'Q': 3}. Best is trial 10 with value: 0.7634365657762806.\u001b[0m\n"
     ]
    },
    {
     "name": "stdout",
     "output_type": "stream",
     "text": [
      "Optimization terminated successfully.\n",
      "         Current function value: -1.412286\n",
      "         Iterations: 10\n",
      "         Function evaluations: 1464\n"
     ]
    },
    {
     "name": "stderr",
     "output_type": "stream",
     "text": [
      "\u001b[32m[I 2022-03-13 19:19:55,449]\u001b[0m Trial 14 finished with value: 0.7514759907710371 and parameters: {'p': 2, 'd': 0, 'q': 5, 'P': 1, 'D': 1, 'Q': 3}. Best is trial 10 with value: 0.7634365657762806.\u001b[0m\n"
     ]
    },
    {
     "name": "stdout",
     "output_type": "stream",
     "text": [
      "Optimization terminated successfully.\n",
      "         Current function value: -1.465515\n",
      "         Iterations: 10\n",
      "         Function evaluations: 2493\n"
     ]
    },
    {
     "name": "stderr",
     "output_type": "stream",
     "text": [
      "\u001b[32m[I 2022-03-13 19:20:13,118]\u001b[0m Trial 15 finished with value: 0.7534230518046215 and parameters: {'p': 8, 'd': 0, 'q': 8, 'P': 2, 'D': 1, 'Q': 1}. Best is trial 10 with value: 0.7634365657762806.\u001b[0m\n"
     ]
    },
    {
     "name": "stdout",
     "output_type": "stream",
     "text": [
      "Optimization terminated successfully.\n",
      "         Current function value: -1.418626\n",
      "         Iterations: 12\n",
      "         Function evaluations: 2257\n"
     ]
    },
    {
     "name": "stderr",
     "output_type": "stream",
     "text": [
      "\u001b[32m[I 2022-03-13 19:20:41,215]\u001b[0m Trial 16 finished with value: 0.7618898845575771 and parameters: {'p': 4, 'd': 0, 'q': 6, 'P': 1, 'D': 1, 'Q': 3}. Best is trial 10 with value: 0.7634365657762806.\u001b[0m\n"
     ]
    },
    {
     "name": "stdout",
     "output_type": "stream",
     "text": [
      "Optimization terminated successfully.\n",
      "         Current function value: -1.418591\n",
      "         Iterations: 10\n",
      "         Function evaluations: 1783\n"
     ]
    },
    {
     "name": "stderr",
     "output_type": "stream",
     "text": [
      "\u001b[32m[I 2022-03-13 19:20:59,666]\u001b[0m Trial 17 finished with value: 0.754920173166681 and parameters: {'p': 2, 'd': 0, 'q': 4, 'P': 3, 'D': 1, 'Q': 3}. Best is trial 10 with value: 0.7634365657762806.\u001b[0m\n"
     ]
    },
    {
     "name": "stdout",
     "output_type": "stream",
     "text": [
      "Optimization terminated successfully.\n",
      "         Current function value: -1.479534\n",
      "         Iterations: 7\n",
      "         Function evaluations: 1365\n"
     ]
    },
    {
     "name": "stderr",
     "output_type": "stream",
     "text": [
      "\u001b[32m[I 2022-03-13 19:21:07,960]\u001b[0m Trial 18 finished with value: 0.7578238675534783 and parameters: {'p': 5, 'd': 0, 'q': 7, 'P': 2, 'D': 1, 'Q': 1}. Best is trial 10 with value: 0.7634365657762806.\u001b[0m\n"
     ]
    },
    {
     "name": "stdout",
     "output_type": "stream",
     "text": [
      "Optimization terminated successfully.\n",
      "         Current function value: -1.412286\n",
      "         Iterations: 10\n",
      "         Function evaluations: 1464\n"
     ]
    },
    {
     "name": "stderr",
     "output_type": "stream",
     "text": [
      "\u001b[32m[I 2022-03-13 19:21:24,275]\u001b[0m Trial 19 finished with value: 0.7514759907710371 and parameters: {'p': 2, 'd': 0, 'q': 5, 'P': 1, 'D': 1, 'Q': 3}. Best is trial 10 with value: 0.7634365657762806.\u001b[0m\n"
     ]
    },
    {
     "name": "stdout",
     "output_type": "stream",
     "text": [
      "Optimization terminated successfully.\n",
      "         Current function value: -1.432248\n",
      "         Iterations: 7\n",
      "         Function evaluations: 1584\n"
     ]
    },
    {
     "name": "stderr",
     "output_type": "stream",
     "text": [
      "\u001b[32m[I 2022-03-13 19:21:38,071]\u001b[0m Trial 20 finished with value: 0.7594019708863035 and parameters: {'p': 4, 'd': 0, 'q': 8, 'P': 3, 'D': 1, 'Q': 2}. Best is trial 10 with value: 0.7634365657762806.\u001b[0m\n"
     ]
    },
    {
     "name": "stdout",
     "output_type": "stream",
     "text": [
      "Optimization terminated successfully.\n",
      "         Current function value: -1.409238\n",
      "         Iterations: 3\n",
      "         Function evaluations: 563\n"
     ]
    },
    {
     "name": "stderr",
     "output_type": "stream",
     "text": [
      "\u001b[32m[I 2022-03-13 19:21:45,585]\u001b[0m Trial 21 finished with value: 0.7625331281352167 and parameters: {'p': 3, 'd': 0, 'q': 8, 'P': 2, 'D': 1, 'Q': 3}. Best is trial 10 with value: 0.7634365657762806.\u001b[0m\n"
     ]
    },
    {
     "name": "stdout",
     "output_type": "stream",
     "text": [
      "Optimization terminated successfully.\n",
      "         Current function value: -1.414191\n",
      "         Iterations: 7\n",
      "         Function evaluations: 1271\n"
     ]
    },
    {
     "name": "stderr",
     "output_type": "stream",
     "text": [
      "\u001b[32m[I 2022-03-13 19:22:00,590]\u001b[0m Trial 22 finished with value: 0.7634365657762806 and parameters: {'p': 3, 'd': 0, 'q': 7, 'P': 2, 'D': 1, 'Q': 3}. Best is trial 10 with value: 0.7634365657762806.\u001b[0m\n"
     ]
    },
    {
     "name": "stdout",
     "output_type": "stream",
     "text": [
      "Optimization terminated successfully.\n",
      "         Current function value: -1.413955\n",
      "         Iterations: 6\n",
      "         Function evaluations: 1065\n"
     ]
    },
    {
     "name": "stderr",
     "output_type": "stream",
     "text": [
      "\u001b[32m[I 2022-03-13 19:22:14,086]\u001b[0m Trial 23 finished with value: 0.7618048136983575 and parameters: {'p': 2, 'd': 0, 'q': 7, 'P': 2, 'D': 1, 'Q': 3}. Best is trial 10 with value: 0.7634365657762806.\u001b[0m\n"
     ]
    },
    {
     "name": "stdout",
     "output_type": "stream",
     "text": [
      "Optimization terminated successfully.\n",
      "         Current function value: -1.419987\n",
      "         Iterations: 12\n",
      "         Function evaluations: 2162\n"
     ]
    },
    {
     "name": "stderr",
     "output_type": "stream",
     "text": [
      "\u001b[32m[I 2022-03-13 19:22:40,805]\u001b[0m Trial 24 finished with value: 0.7615741206053162 and parameters: {'p': 3, 'd': 0, 'q': 6, 'P': 2, 'D': 1, 'Q': 3}. Best is trial 10 with value: 0.7634365657762806.\u001b[0m\n"
     ]
    },
    {
     "name": "stdout",
     "output_type": "stream",
     "text": [
      "Optimization terminated successfully.\n",
      "         Current function value: -1.465721\n",
      "         Iterations: 3\n",
      "         Function evaluations: 412\n"
     ]
    },
    {
     "name": "stderr",
     "output_type": "stream",
     "text": [
      "\u001b[32m[I 2022-03-13 19:22:44,219]\u001b[0m Trial 25 finished with value: 0.759425219233631 and parameters: {'p': 0, 'd': 0, 'q': 7, 'P': 1, 'D': 1, 'Q': 2}. Best is trial 10 with value: 0.7634365657762806.\u001b[0m\n"
     ]
    },
    {
     "name": "stdout",
     "output_type": "stream",
     "text": [
      "Optimization terminated successfully.\n",
      "         Current function value: -1.428907\n",
      "         Iterations: 9\n",
      "         Function evaluations: 1660\n"
     ]
    },
    {
     "name": "stderr",
     "output_type": "stream",
     "text": [
      "\u001b[32m[I 2022-03-13 19:23:01,368]\u001b[0m Trial 26 finished with value: 0.7498577775383696 and parameters: {'p': 6, 'd': 0, 'q': 4, 'P': 2, 'D': 1, 'Q': 3}. Best is trial 10 with value: 0.7634365657762806.\u001b[0m\n"
     ]
    },
    {
     "name": "stdout",
     "output_type": "stream",
     "text": [
      "Optimization terminated successfully.\n",
      "         Current function value: -1.432221\n",
      "         Iterations: 6\n",
      "         Function evaluations: 1278\n"
     ]
    },
    {
     "name": "stderr",
     "output_type": "stream",
     "text": [
      "\u001b[32m[I 2022-03-13 19:23:12,112]\u001b[0m Trial 27 finished with value: 0.7618830113435883 and parameters: {'p': 4, 'd': 0, 'q': 7, 'P': 3, 'D': 1, 'Q': 2}. Best is trial 10 with value: 0.7634365657762806.\u001b[0m\n"
     ]
    },
    {
     "name": "stdout",
     "output_type": "stream",
     "text": [
      "Optimization terminated successfully.\n",
      "         Current function value: -1.419416\n",
      "         Iterations: 11\n",
      "         Function evaluations: 1852\n"
     ]
    },
    {
     "name": "stderr",
     "output_type": "stream",
     "text": [
      "\u001b[32m[I 2022-03-13 19:23:35,364]\u001b[0m Trial 28 finished with value: 0.764596423947675 and parameters: {'p': 2, 'd': 0, 'q': 6, 'P': 2, 'D': 1, 'Q': 3}. Best is trial 28 with value: 0.764596423947675.\u001b[0m\n",
      "\u001b[32m[I 2022-03-13 19:23:37,284]\u001b[0m Trial 29 finished with value: 0.7591973521582506 and parameters: {'p': 1, 'd': 0, 'q': 5, 'P': 1, 'D': 1, 'Q': 1}. Best is trial 28 with value: 0.764596423947675.\u001b[0m\n"
     ]
    },
    {
     "name": "stdout",
     "output_type": "stream",
     "text": [
      "Optimization terminated successfully.\n",
      "         Current function value: -1.519801\n",
      "         Iterations: 4\n",
      "         Function evaluations: 445\n",
      "Optimization terminated successfully.\n",
      "         Current function value: -1.418755\n",
      "         Iterations: 12\n",
      "         Function evaluations: 2238\n"
     ]
    },
    {
     "name": "stderr",
     "output_type": "stream",
     "text": [
      "\u001b[32m[I 2022-03-13 19:24:07,434]\u001b[0m Trial 30 finished with value: 0.7650451703924934 and parameters: {'p': 2, 'd': 0, 'q': 6, 'P': 3, 'D': 1, 'Q': 3}. Best is trial 30 with value: 0.7650451703924934.\u001b[0m\n"
     ]
    },
    {
     "name": "stdout",
     "output_type": "stream",
     "text": [
      "Optimization terminated successfully.\n",
      "         Current function value: -1.418755\n",
      "         Iterations: 12\n",
      "         Function evaluations: 2238\n"
     ]
    },
    {
     "name": "stderr",
     "output_type": "stream",
     "text": [
      "\u001b[32m[I 2022-03-13 19:24:36,689]\u001b[0m Trial 31 finished with value: 0.7650451703924934 and parameters: {'p': 2, 'd': 0, 'q': 6, 'P': 3, 'D': 1, 'Q': 3}. Best is trial 30 with value: 0.7650451703924934.\u001b[0m\n"
     ]
    },
    {
     "name": "stdout",
     "output_type": "stream",
     "text": [
      "Optimization terminated successfully.\n",
      "         Current function value: -1.418755\n",
      "         Iterations: 12\n",
      "         Function evaluations: 2238\n"
     ]
    },
    {
     "name": "stderr",
     "output_type": "stream",
     "text": [
      "\u001b[32m[I 2022-03-13 19:25:04,805]\u001b[0m Trial 32 finished with value: 0.7650451703924934 and parameters: {'p': 2, 'd': 0, 'q': 6, 'P': 3, 'D': 1, 'Q': 3}. Best is trial 30 with value: 0.7650451703924934.\u001b[0m\n"
     ]
    },
    {
     "name": "stdout",
     "output_type": "stream",
     "text": [
      "Optimization terminated successfully.\n",
      "         Current function value: -1.418755\n",
      "         Iterations: 12\n",
      "         Function evaluations: 2238\n"
     ]
    },
    {
     "name": "stderr",
     "output_type": "stream",
     "text": [
      "\u001b[32m[I 2022-03-13 19:25:34,288]\u001b[0m Trial 33 finished with value: 0.7650451703924934 and parameters: {'p': 2, 'd': 0, 'q': 6, 'P': 3, 'D': 1, 'Q': 3}. Best is trial 30 with value: 0.7650451703924934.\u001b[0m\n"
     ]
    },
    {
     "name": "stdout",
     "output_type": "stream",
     "text": [
      "Optimization terminated successfully.\n",
      "         Current function value: -1.437476\n",
      "         Iterations: 5\n",
      "         Function evaluations: 713\n"
     ]
    },
    {
     "name": "stderr",
     "output_type": "stream",
     "text": [
      "\u001b[32m[I 2022-03-13 19:25:39,349]\u001b[0m Trial 34 finished with value: 0.759709498636544 and parameters: {'p': 0, 'd': 0, 'q': 6, 'P': 3, 'D': 1, 'Q': 2}. Best is trial 30 with value: 0.7650451703924934.\u001b[0m\n"
     ]
    },
    {
     "name": "stdout",
     "output_type": "stream",
     "text": [
      "Optimization terminated successfully.\n",
      "         Current function value: -1.415043\n",
      "         Iterations: 5\n",
      "         Function evaluations: 747\n"
     ]
    },
    {
     "name": "stderr",
     "output_type": "stream",
     "text": [
      "\u001b[32m[I 2022-03-13 19:25:47,510]\u001b[0m Trial 35 finished with value: 0.7629079047507321 and parameters: {'p': 1, 'd': 0, 'q': 5, 'P': 3, 'D': 1, 'Q': 3}. Best is trial 30 with value: 0.7650451703924934.\u001b[0m\n"
     ]
    },
    {
     "name": "stdout",
     "output_type": "stream",
     "text": [
      "Optimization terminated successfully.\n",
      "         Current function value: -1.426810\n",
      "         Iterations: 6\n",
      "         Function evaluations: 803\n"
     ]
    },
    {
     "name": "stderr",
     "output_type": "stream",
     "text": [
      "\u001b[32m[I 2022-03-13 19:25:53,749]\u001b[0m Trial 36 finished with value: 0.751094221461198 and parameters: {'p': 2, 'd': 0, 'q': 3, 'P': 3, 'D': 1, 'Q': 2}. Best is trial 30 with value: 0.7650451703924934.\u001b[0m\n"
     ]
    },
    {
     "name": "stdout",
     "output_type": "stream",
     "text": [
      "Optimization terminated successfully.\n",
      "         Current function value: -1.415551\n",
      "         Iterations: 8\n",
      "         Function evaluations: 1322\n"
     ]
    },
    {
     "name": "stderr",
     "output_type": "stream",
     "text": [
      "\u001b[32m[I 2022-03-13 19:26:09,995]\u001b[0m Trial 37 finished with value: 0.7615841828564008 and parameters: {'p': 1, 'd': 0, 'q': 6, 'P': 3, 'D': 1, 'Q': 3}. Best is trial 30 with value: 0.7650451703924934.\u001b[0m\n",
      "\u001b[32m[I 2022-03-13 19:26:15,451]\u001b[0m Trial 38 finished with value: 0.7544562472104994 and parameters: {'p': 1, 'd': 0, 'q': 4, 'P': 3, 'D': 0, 'Q': 2}. Best is trial 30 with value: 0.7650451703924934.\u001b[0m\n"
     ]
    },
    {
     "name": "stdout",
     "output_type": "stream",
     "text": [
      "Optimization terminated successfully.\n",
      "         Current function value: -1.488880\n",
      "         Iterations: 7\n",
      "         Function evaluations: 920\n",
      "Optimization terminated successfully.\n",
      "         Current function value: -1.416786\n",
      "         Iterations: 4\n",
      "         Function evaluations: 334\n"
     ]
    },
    {
     "name": "stderr",
     "output_type": "stream",
     "text": [
      "\u001b[32m[I 2022-03-13 19:26:18,366]\u001b[0m Trial 39 finished with value: 0.7542563478488618 and parameters: {'p': 0, 'd': 0, 'q': 0, 'P': 3, 'D': 1, 'Q': 3}. Best is trial 30 with value: 0.7650451703924934.\u001b[0m\n"
     ]
    },
    {
     "name": "stdout",
     "output_type": "stream",
     "text": [
      "Optimization terminated successfully.\n",
      "         Current function value: -1.472970\n",
      "         Iterations: 8\n",
      "         Function evaluations: 1442\n"
     ]
    },
    {
     "name": "stderr",
     "output_type": "stream",
     "text": [
      "\u001b[32m[I 2022-03-13 19:26:29,156]\u001b[0m Trial 40 finished with value: 0.7217004516643024 and parameters: {'p': 2, 'd': 1, 'q': 5, 'P': 3, 'D': 0, 'Q': 2}. Best is trial 30 with value: 0.7650451703924934.\u001b[0m\n"
     ]
    },
    {
     "name": "stdout",
     "output_type": "stream",
     "text": [
      "Optimization terminated successfully.\n",
      "         Current function value: -1.418755\n",
      "         Iterations: 12\n",
      "         Function evaluations: 2238\n"
     ]
    },
    {
     "name": "stderr",
     "output_type": "stream",
     "text": [
      "\u001b[32m[I 2022-03-13 19:26:57,081]\u001b[0m Trial 41 finished with value: 0.7650451703924934 and parameters: {'p': 2, 'd': 0, 'q': 6, 'P': 3, 'D': 1, 'Q': 3}. Best is trial 30 with value: 0.7650451703924934.\u001b[0m\n"
     ]
    },
    {
     "name": "stdout",
     "output_type": "stream",
     "text": [
      "Optimization terminated successfully.\n",
      "         Current function value: -1.415551\n",
      "         Iterations: 8\n",
      "         Function evaluations: 1322\n"
     ]
    },
    {
     "name": "stderr",
     "output_type": "stream",
     "text": [
      "\u001b[32m[I 2022-03-13 19:27:14,473]\u001b[0m Trial 42 finished with value: 0.7615841828564008 and parameters: {'p': 1, 'd': 0, 'q': 6, 'P': 3, 'D': 1, 'Q': 3}. Best is trial 30 with value: 0.7650451703924934.\u001b[0m\n"
     ]
    },
    {
     "name": "stdout",
     "output_type": "stream",
     "text": [
      "Optimization terminated successfully.\n",
      "         Current function value: -1.426843\n",
      "         Iterations: 4\n",
      "         Function evaluations: 477\n"
     ]
    },
    {
     "name": "stderr",
     "output_type": "stream",
     "text": [
      "\u001b[32m[I 2022-03-13 19:27:18,896]\u001b[0m Trial 43 finished with value: 0.7546336035887824 and parameters: {'p': 2, 'd': 0, 'q': 1, 'P': 3, 'D': 1, 'Q': 3}. Best is trial 30 with value: 0.7650451703924934.\u001b[0m\n"
     ]
    },
    {
     "name": "stdout",
     "output_type": "stream",
     "text": [
      "Optimization terminated successfully.\n",
      "         Current function value: -1.420567\n",
      "         Iterations: 12\n",
      "         Function evaluations: 2382\n"
     ]
    },
    {
     "name": "stderr",
     "output_type": "stream",
     "text": [
      "\u001b[32m[I 2022-03-13 19:27:48,254]\u001b[0m Trial 44 finished with value: 0.763220446668625 and parameters: {'p': 3, 'd': 0, 'q': 6, 'P': 3, 'D': 1, 'Q': 3}. Best is trial 30 with value: 0.7650451703924934.\u001b[0m\n",
      "\u001b[32m[I 2022-03-13 19:27:50,038]\u001b[0m Trial 45 finished with value: 0.7109047672303119 and parameters: {'p': 1, 'd': 0, 'q': 5, 'P': 3, 'D': 1, 'Q': 0}. Best is trial 30 with value: 0.7650451703924934.\u001b[0m\n"
     ]
    },
    {
     "name": "stdout",
     "output_type": "stream",
     "text": [
      "Optimization terminated successfully.\n",
      "         Current function value: -1.415771\n",
      "         Iterations: 3\n",
      "         Function evaluations: 351\n",
      "Optimization terminated successfully.\n",
      "         Current function value: -1.399803\n",
      "         Iterations: 5\n",
      "         Function evaluations: 587\n"
     ]
    },
    {
     "name": "stderr",
     "output_type": "stream",
     "text": [
      "\u001b[32m[I 2022-03-13 19:27:57,132]\u001b[0m Trial 46 finished with value: 0.7465495353438183 and parameters: {'p': 2, 'd': 1, 'q': 3, 'P': 0, 'D': 1, 'Q': 3}. Best is trial 30 with value: 0.7650451703924934.\u001b[0m\n"
     ]
    },
    {
     "name": "stdout",
     "output_type": "stream",
     "text": [
      "Optimization terminated successfully.\n",
      "         Current function value: -1.415295\n",
      "         Iterations: 8\n",
      "         Function evaluations: 1616\n"
     ]
    },
    {
     "name": "stderr",
     "output_type": "stream",
     "text": [
      "\u001b[32m[I 2022-03-13 19:28:15,492]\u001b[0m Trial 47 finished with value: 0.7651808884449679 and parameters: {'p': 3, 'd': 0, 'q': 7, 'P': 3, 'D': 1, 'Q': 3}. Best is trial 47 with value: 0.7651808884449679.\u001b[0m\n"
     ]
    },
    {
     "name": "stdout",
     "output_type": "stream",
     "text": [
      "Optimization terminated successfully.\n",
      "         Current function value: -1.457688\n",
      "         Iterations: 11\n",
      "         Function evaluations: 2426\n"
     ]
    },
    {
     "name": "stderr",
     "output_type": "stream",
     "text": [
      "\u001b[32m[I 2022-03-13 19:28:36,703]\u001b[0m Trial 48 finished with value: 0.7643563430241666 and parameters: {'p': 3, 'd': 0, 'q': 7, 'P': 3, 'D': 0, 'Q': 3}. Best is trial 47 with value: 0.7651808884449679.\u001b[0m\n"
     ]
    },
    {
     "name": "stdout",
     "output_type": "stream",
     "text": [
      "Optimization terminated successfully.\n",
      "         Current function value: -1.414810\n",
      "         Iterations: 5\n",
      "         Function evaluations: 995\n"
     ]
    },
    {
     "name": "stderr",
     "output_type": "stream",
     "text": [
      "\u001b[32m[I 2022-03-13 19:28:48,285]\u001b[0m Trial 49 finished with value: 0.7613865676225295 and parameters: {'p': 4, 'd': 0, 'q': 6, 'P': 3, 'D': 1, 'Q': 3}. Best is trial 47 with value: 0.7651808884449679.\u001b[0m\n",
      "\u001b[32m[I 2022-03-13 19:28:48,295]\u001b[0m A new study created in memory with name: no-name-868cbae3-686c-44ed-9a0d-5db9b5f486f7\u001b[0m\n"
     ]
    },
    {
     "name": "stdout",
     "output_type": "stream",
     "text": [
      "Optimization terminated successfully.\n",
      "         Current function value: -1.403153\n",
      "         Iterations: 10\n",
      "         Function evaluations: 2233\n"
     ]
    },
    {
     "name": "stderr",
     "output_type": "stream",
     "text": [
      "\u001b[32m[I 2022-03-13 19:29:08,654]\u001b[0m Trial 0 finished with value: 0.48240606093026517 and parameters: {'p': 6, 'd': 1, 'q': 6, 'P': 3, 'D': 0, 'Q': 2}. Best is trial 0 with value: 0.48240606093026517.\u001b[0m\n",
      "\u001b[32m[I 2022-03-13 19:29:09,925]\u001b[0m Trial 1 finished with value: 0.42427846256225443 and parameters: {'p': 3, 'd': 0, 'q': 2, 'P': 2, 'D': 1, 'Q': 0}. Best is trial 0 with value: 0.48240606093026517.\u001b[0m\n"
     ]
    },
    {
     "name": "stdout",
     "output_type": "stream",
     "text": [
      "Optimization terminated successfully.\n",
      "         Current function value: -1.351188\n",
      "         Iterations: 3\n",
      "         Function evaluations: 290\n"
     ]
    },
    {
     "name": "stderr",
     "output_type": "stream",
     "text": [
      "\u001b[32m[I 2022-03-13 19:29:13,874]\u001b[0m Trial 2 finished with value: 0.6291568770030518 and parameters: {'p': 0, 'd': 0, 'q': 1, 'P': 2, 'D': 1, 'Q': 2}. Best is trial 2 with value: 0.6291568770030518.\u001b[0m\n"
     ]
    },
    {
     "name": "stdout",
     "output_type": "stream",
     "text": [
      "Optimization terminated successfully.\n",
      "         Current function value: -1.416401\n",
      "         Iterations: 7\n",
      "         Function evaluations: 528\n",
      "Optimization terminated successfully.\n",
      "         Current function value: -1.405802\n",
      "         Iterations: 13\n",
      "         Function evaluations: 1751\n"
     ]
    },
    {
     "name": "stderr",
     "output_type": "stream",
     "text": [
      "\u001b[32m[I 2022-03-13 19:29:25,989]\u001b[0m Trial 3 finished with value: 0.6325368663990776 and parameters: {'p': 4, 'd': 0, 'q': 3, 'P': 0, 'D': 1, 'Q': 2}. Best is trial 3 with value: 0.6325368663990776.\u001b[0m\n"
     ]
    },
    {
     "name": "stdout",
     "output_type": "stream",
     "text": [
      "Optimization terminated successfully.\n",
      "         Current function value: -1.445831\n",
      "         Iterations: 10\n",
      "         Function evaluations: 2091\n"
     ]
    },
    {
     "name": "stderr",
     "output_type": "stream",
     "text": [
      "\u001b[32m[I 2022-03-13 19:29:39,222]\u001b[0m Trial 4 finished with value: 0.2835813234529143 and parameters: {'p': 4, 'd': 0, 'q': 8, 'P': 2, 'D': 0, 'Q': 2}. Best is trial 3 with value: 0.6325368663990776.\u001b[0m\n"
     ]
    },
    {
     "name": "stdout",
     "output_type": "stream",
     "text": [
      "Optimization terminated successfully.\n",
      "         Current function value: -1.398873\n",
      "         Iterations: 4\n",
      "         Function evaluations: 500\n"
     ]
    },
    {
     "name": "stderr",
     "output_type": "stream",
     "text": [
      "\u001b[32m[I 2022-03-13 19:29:43,501]\u001b[0m Trial 5 finished with value: 0.5745181609280715 and parameters: {'p': 7, 'd': 0, 'q': 0, 'P': 3, 'D': 0, 'Q': 1}. Best is trial 3 with value: 0.6325368663990776.\u001b[0m\n",
      "\u001b[32m[I 2022-03-13 19:29:45,495]\u001b[0m Trial 6 finished with value: -1.0020935615617694 and parameters: {'p': 5, 'd': 1, 'q': 0, 'P': 0, 'D': 0, 'Q': 3}. Best is trial 3 with value: 0.6325368663990776.\u001b[0m\n"
     ]
    },
    {
     "name": "stdout",
     "output_type": "stream",
     "text": [
      "Optimization terminated successfully.\n",
      "         Current function value: -1.200343\n",
      "         Iterations: 4\n",
      "         Function evaluations: 400\n",
      "Optimization terminated successfully.\n",
      "         Current function value: -1.410176\n",
      "         Iterations: 4\n",
      "         Function evaluations: 476\n"
     ]
    },
    {
     "name": "stderr",
     "output_type": "stream",
     "text": [
      "\u001b[32m[I 2022-03-13 19:29:49,363]\u001b[0m Trial 7 finished with value: 0.5037535289580966 and parameters: {'p': 2, 'd': 1, 'q': 3, 'P': 1, 'D': 1, 'Q': 2}. Best is trial 3 with value: 0.6325368663990776.\u001b[0m\n"
     ]
    },
    {
     "name": "stdout",
     "output_type": "stream",
     "text": [
      "Optimization terminated successfully.\n",
      "         Current function value: -1.357510\n",
      "         Iterations: 16\n",
      "         Function evaluations: 3306\n"
     ]
    },
    {
     "name": "stderr",
     "output_type": "stream",
     "text": [
      "\u001b[32m[I 2022-03-13 19:30:35,600]\u001b[0m Trial 8 finished with value: 0.6610391538651873 and parameters: {'p': 5, 'd': 0, 'q': 8, 'P': 0, 'D': 1, 'Q': 3}. Best is trial 8 with value: 0.6610391538651873.\u001b[0m\n",
      "\u001b[32m[I 2022-03-13 19:30:38,721]\u001b[0m Trial 9 finished with value: 0.0464759290321457 and parameters: {'p': 2, 'd': 0, 'q': 7, 'P': 1, 'D': 0, 'Q': 0}. Best is trial 8 with value: 0.6610391538651873.\u001b[0m\n"
     ]
    },
    {
     "name": "stdout",
     "output_type": "stream",
     "text": [
      "Optimization terminated successfully.\n",
      "         Current function value: -1.321794\n",
      "         Iterations: 20\n",
      "         Function evaluations: 3053\n",
      "Optimization terminated successfully.\n",
      "         Current function value: -1.350668\n",
      "         Iterations: 8\n",
      "         Function evaluations: 1695\n"
     ]
    },
    {
     "name": "stderr",
     "output_type": "stream",
     "text": [
      "\u001b[32m[I 2022-03-13 19:31:00,378]\u001b[0m Trial 10 finished with value: 0.5107592384805713 and parameters: {'p': 8, 'd': 1, 'q': 5, 'P': 0, 'D': 1, 'Q': 3}. Best is trial 8 with value: 0.6610391538651873.\u001b[0m\n"
     ]
    },
    {
     "name": "stdout",
     "output_type": "stream",
     "text": [
      "Optimization terminated successfully.\n",
      "         Current function value: -1.357115\n",
      "         Iterations: 15\n",
      "         Function evaluations: 2455\n"
     ]
    },
    {
     "name": "stderr",
     "output_type": "stream",
     "text": [
      "\u001b[32m[I 2022-03-13 19:31:30,053]\u001b[0m Trial 11 finished with value: 0.6278410853819761 and parameters: {'p': 5, 'd': 0, 'q': 4, 'P': 0, 'D': 1, 'Q': 3}. Best is trial 8 with value: 0.6610391538651873.\u001b[0m\n",
      "\u001b[32m[I 2022-03-13 19:31:45,736]\u001b[0m Trial 12 finished with value: 0.6386538724139816 and parameters: {'p': 4, 'd': 0, 'q': 4, 'P': 1, 'D': 1, 'Q': 1}. Best is trial 8 with value: 0.6610391538651873.\u001b[0m\n"
     ]
    },
    {
     "name": "stdout",
     "output_type": "stream",
     "text": [
      "Optimization terminated successfully.\n",
      "         Current function value: -1.445679\n",
      "         Iterations: 17\n",
      "         Function evaluations: 2995\n",
      "Optimization terminated successfully.\n",
      "         Current function value: -1.447542\n",
      "         Iterations: 14\n",
      "         Function evaluations: 2711\n"
     ]
    },
    {
     "name": "stderr",
     "output_type": "stream",
     "text": [
      "\u001b[32m[I 2022-03-13 19:32:00,837]\u001b[0m Trial 13 finished with value: 0.6506029815855527 and parameters: {'p': 6, 'd': 0, 'q': 5, 'P': 1, 'D': 1, 'Q': 1}. Best is trial 8 with value: 0.6610391538651873.\u001b[0m\n"
     ]
    },
    {
     "name": "stdout",
     "output_type": "stream",
     "text": [
      "Optimization terminated successfully.\n",
      "         Current function value: -1.448738\n",
      "         Iterations: 13\n",
      "         Function evaluations: 3015\n"
     ]
    },
    {
     "name": "stderr",
     "output_type": "stream",
     "text": [
      "\u001b[32m[I 2022-03-13 19:32:18,883]\u001b[0m Trial 14 finished with value: 0.6611693227448079 and parameters: {'p': 7, 'd': 0, 'q': 8, 'P': 1, 'D': 1, 'Q': 1}. Best is trial 14 with value: 0.6611693227448079.\u001b[0m\n"
     ]
    },
    {
     "name": "stdout",
     "output_type": "stream",
     "text": [
      "Optimization terminated successfully.\n",
      "         Current function value: -1.451587\n",
      "         Iterations: 9\n",
      "         Function evaluations: 1872\n"
     ]
    },
    {
     "name": "stderr",
     "output_type": "stream",
     "text": [
      "\u001b[32m[I 2022-03-13 19:32:30,670]\u001b[0m Trial 15 finished with value: 0.653617433455573 and parameters: {'p': 8, 'd': 0, 'q': 8, 'P': 0, 'D': 1, 'Q': 1}. Best is trial 14 with value: 0.6611693227448079.\u001b[0m\n",
      "\u001b[32m[I 2022-03-13 19:32:34,740]\u001b[0m Trial 16 finished with value: 0.3431442526196127 and parameters: {'p': 7, 'd': 0, 'q': 7, 'P': 1, 'D': 1, 'Q': 0}. Best is trial 14 with value: 0.6611693227448079.\u001b[0m\n"
     ]
    },
    {
     "name": "stdout",
     "output_type": "stream",
     "text": [
      "Optimization terminated successfully.\n",
      "         Current function value: -1.370718\n",
      "         Iterations: 7\n",
      "         Function evaluations: 1311\n",
      "Optimization terminated successfully.\n",
      "         Current function value: -1.341243\n",
      "         Iterations: 6\n",
      "         Function evaluations: 1254\n"
     ]
    },
    {
     "name": "stderr",
     "output_type": "stream",
     "text": [
      "\u001b[32m[I 2022-03-13 19:32:52,462]\u001b[0m Trial 17 finished with value: 0.5052057728181494 and parameters: {'p': 6, 'd': 1, 'q': 7, 'P': 0, 'D': 1, 'Q': 3}. Best is trial 14 with value: 0.6611693227448079.\u001b[0m\n"
     ]
    },
    {
     "name": "stdout",
     "output_type": "stream",
     "text": [
      "Optimization terminated successfully.\n",
      "         Current function value: -1.448738\n",
      "         Iterations: 13\n",
      "         Function evaluations: 3015\n"
     ]
    },
    {
     "name": "stderr",
     "output_type": "stream",
     "text": [
      "\u001b[32m[I 2022-03-13 19:33:10,770]\u001b[0m Trial 18 finished with value: 0.6611693227448079 and parameters: {'p': 7, 'd': 0, 'q': 8, 'P': 1, 'D': 1, 'Q': 1}. Best is trial 14 with value: 0.6611693227448079.\u001b[0m\n"
     ]
    },
    {
     "name": "stdout",
     "output_type": "stream",
     "text": [
      "Optimization terminated successfully.\n",
      "         Current function value: -1.392535\n",
      "         Iterations: 5\n",
      "         Function evaluations: 961\n"
     ]
    },
    {
     "name": "stderr",
     "output_type": "stream",
     "text": [
      "\u001b[32m[I 2022-03-13 19:33:17,919]\u001b[0m Trial 19 finished with value: 0.6400200979218161 and parameters: {'p': 7, 'd': 0, 'q': 6, 'P': 2, 'D': 1, 'Q': 1}. Best is trial 14 with value: 0.6611693227448079.\u001b[0m\n",
      "\u001b[32m[I 2022-03-13 19:33:25,385]\u001b[0m Trial 20 finished with value: 0.4964809286726364 and parameters: {'p': 8, 'd': 1, 'q': 6, 'P': 1, 'D': 0, 'Q': 0}. Best is trial 14 with value: 0.6611693227448079.\u001b[0m\n"
     ]
    },
    {
     "name": "stdout",
     "output_type": "stream",
     "text": [
      "Optimization terminated successfully.\n",
      "         Current function value: -1.435409\n",
      "         Iterations: 19\n",
      "         Function evaluations: 3534\n",
      "Optimization terminated successfully.\n",
      "         Current function value: -1.445335\n",
      "         Iterations: 8\n",
      "         Function evaluations: 1581\n"
     ]
    },
    {
     "name": "stderr",
     "output_type": "stream",
     "text": [
      "\u001b[32m[I 2022-03-13 19:33:34,897]\u001b[0m Trial 21 finished with value: 0.6579636550203969 and parameters: {'p': 5, 'd': 0, 'q': 8, 'P': 1, 'D': 1, 'Q': 1}. Best is trial 14 with value: 0.6611693227448079.\u001b[0m\n"
     ]
    },
    {
     "name": "stdout",
     "output_type": "stream",
     "text": [
      "Optimization terminated successfully.\n",
      "         Current function value: -1.448738\n",
      "         Iterations: 13\n",
      "         Function evaluations: 3015\n"
     ]
    },
    {
     "name": "stderr",
     "output_type": "stream",
     "text": [
      "\u001b[32m[I 2022-03-13 19:33:53,222]\u001b[0m Trial 22 finished with value: 0.6611693227448079 and parameters: {'p': 7, 'd': 0, 'q': 8, 'P': 1, 'D': 1, 'Q': 1}. Best is trial 14 with value: 0.6611693227448079.\u001b[0m\n"
     ]
    },
    {
     "name": "stdout",
     "output_type": "stream",
     "text": [
      "Optimization terminated successfully.\n",
      "         Current function value: -1.436407\n",
      "         Iterations: 5\n",
      "         Function evaluations: 994\n"
     ]
    },
    {
     "name": "stderr",
     "output_type": "stream",
     "text": [
      "\u001b[32m[I 2022-03-13 19:33:58,755]\u001b[0m Trial 23 finished with value: 0.6469670233624242 and parameters: {'p': 7, 'd': 0, 'q': 7, 'P': 1, 'D': 1, 'Q': 1}. Best is trial 14 with value: 0.6611693227448079.\u001b[0m\n"
     ]
    },
    {
     "name": "stdout",
     "output_type": "stream",
     "text": [
      "Optimization terminated successfully.\n",
      "         Current function value: -1.406029\n",
      "         Iterations: 6\n",
      "         Function evaluations: 1370\n"
     ]
    },
    {
     "name": "stderr",
     "output_type": "stream",
     "text": [
      "\u001b[32m[I 2022-03-13 19:34:08,305]\u001b[0m Trial 24 finished with value: 0.6378712466690752 and parameters: {'p': 6, 'd': 0, 'q': 8, 'P': 2, 'D': 1, 'Q': 1}. Best is trial 14 with value: 0.6611693227448079.\u001b[0m\n"
     ]
    },
    {
     "name": "stdout",
     "output_type": "stream",
     "text": [
      "Optimization terminated successfully.\n",
      "         Current function value: -1.405546\n",
      "         Iterations: 18\n",
      "         Function evaluations: 3840\n"
     ]
    },
    {
     "name": "stderr",
     "output_type": "stream",
     "text": [
      "\u001b[32m[I 2022-03-13 19:34:25,105]\u001b[0m Trial 25 finished with value: 0.3514224935768695 and parameters: {'p': 8, 'd': 0, 'q': 7, 'P': 1, 'D': 1, 'Q': 0}. Best is trial 14 with value: 0.6611693227448079.\u001b[0m\n"
     ]
    },
    {
     "name": "stdout",
     "output_type": "stream",
     "text": [
      "Optimization terminated successfully.\n",
      "         Current function value: -1.349435\n",
      "         Iterations: 40\n",
      "         Function evaluations: 8726\n"
     ]
    },
    {
     "name": "stderr",
     "output_type": "stream",
     "text": [
      "\u001b[32m[I 2022-03-13 19:35:40,034]\u001b[0m Trial 26 finished with value: 0.510211406317955 and parameters: {'p': 7, 'd': 0, 'q': 5, 'P': 2, 'D': 1, 'Q': 1}. Best is trial 14 with value: 0.6611693227448079.\u001b[0m\n"
     ]
    },
    {
     "name": "stdout",
     "output_type": "stream",
     "text": [
      "Optimization terminated successfully.\n",
      "         Current function value: -1.398873\n",
      "         Iterations: 3\n",
      "         Function evaluations: 377\n"
     ]
    },
    {
     "name": "stderr",
     "output_type": "stream",
     "text": [
      "\u001b[32m[I 2022-03-13 19:35:43,553]\u001b[0m Trial 27 finished with value: 0.636500186360042 and parameters: {'p': 0, 'd': 0, 'q': 6, 'P': 1, 'D': 1, 'Q': 2}. Best is trial 14 with value: 0.6611693227448079.\u001b[0m\n"
     ]
    },
    {
     "name": "stdout",
     "output_type": "stream",
     "text": [
      "Optimization terminated successfully.\n",
      "         Current function value: -1.469026\n",
      "         Iterations: 19\n",
      "         Function evaluations: 4145\n"
     ]
    },
    {
     "name": "stderr",
     "output_type": "stream",
     "text": [
      "\u001b[32m[I 2022-03-13 19:36:09,318]\u001b[0m Trial 28 finished with value: 0.6226815777462569 and parameters: {'p': 6, 'd': 0, 'q': 8, 'P': 1, 'D': 1, 'Q': 1}. Best is trial 14 with value: 0.6611693227448079.\u001b[0m\n"
     ]
    },
    {
     "name": "stdout",
     "output_type": "stream",
     "text": [
      "Optimization terminated successfully.\n",
      "         Current function value: -1.342581\n",
      "         Iterations: 8\n",
      "         Function evaluations: 1749\n"
     ]
    },
    {
     "name": "stderr",
     "output_type": "stream",
     "text": [
      "\u001b[32m[I 2022-03-13 19:36:23,092]\u001b[0m Trial 29 finished with value: 0.45861485644279343 and parameters: {'p': 6, 'd': 1, 'q': 7, 'P': 3, 'D': 0, 'Q': 0}. Best is trial 14 with value: 0.6611693227448079.\u001b[0m\n"
     ]
    },
    {
     "name": "stdout",
     "output_type": "stream",
     "text": [
      "Optimization terminated successfully.\n",
      "         Current function value: -1.401046\n",
      "         Iterations: 10\n",
      "         Function evaluations: 2463\n"
     ]
    },
    {
     "name": "stderr",
     "output_type": "stream",
     "text": [
      "\u001b[32m[I 2022-03-13 19:36:41,751]\u001b[0m Trial 30 finished with value: 0.5566785284959339 and parameters: {'p': 8, 'd': 0, 'q': 6, 'P': 2, 'D': 1, 'Q': 1}. Best is trial 14 with value: 0.6611693227448079.\u001b[0m\n"
     ]
    },
    {
     "name": "stdout",
     "output_type": "stream",
     "text": [
      "Optimization terminated successfully.\n",
      "         Current function value: -1.395930\n",
      "         Iterations: 9\n",
      "         Function evaluations: 1716\n"
     ]
    },
    {
     "name": "stderr",
     "output_type": "stream",
     "text": [
      "\u001b[32m[I 2022-03-13 19:36:56,859]\u001b[0m Trial 31 finished with value: 0.6590902886673768 and parameters: {'p': 5, 'd': 0, 'q': 8, 'P': 0, 'D': 1, 'Q': 2}. Best is trial 14 with value: 0.6611693227448079.\u001b[0m\n"
     ]
    },
    {
     "name": "stdout",
     "output_type": "stream",
     "text": [
      "Optimization terminated successfully.\n",
      "         Current function value: -1.466830\n",
      "         Iterations: 18\n",
      "         Function evaluations: 3821\n"
     ]
    },
    {
     "name": "stderr",
     "output_type": "stream",
     "text": [
      "\u001b[32m[I 2022-03-13 19:37:19,387]\u001b[0m Trial 32 finished with value: 0.5306537671481018 and parameters: {'p': 7, 'd': 0, 'q': 8, 'P': 0, 'D': 1, 'Q': 1}. Best is trial 14 with value: 0.6611693227448079.\u001b[0m\n"
     ]
    },
    {
     "name": "stdout",
     "output_type": "stream",
     "text": [
      "Optimization terminated successfully.\n",
      "         Current function value: -1.402447\n",
      "         Iterations: 8\n",
      "         Function evaluations: 1678\n"
     ]
    },
    {
     "name": "stderr",
     "output_type": "stream",
     "text": [
      "\u001b[32m[I 2022-03-13 19:37:32,876]\u001b[0m Trial 33 finished with value: 0.5033604654713266 and parameters: {'p': 6, 'd': 0, 'q': 7, 'P': 1, 'D': 1, 'Q': 2}. Best is trial 14 with value: 0.6611693227448079.\u001b[0m\n"
     ]
    },
    {
     "name": "stdout",
     "output_type": "stream",
     "text": [
      "Optimization terminated successfully.\n",
      "         Current function value: -1.396829\n",
      "         Iterations: 9\n",
      "         Function evaluations: 1571\n"
     ]
    },
    {
     "name": "stderr",
     "output_type": "stream",
     "text": [
      "\u001b[32m[I 2022-03-13 19:37:46,761]\u001b[0m Trial 34 finished with value: 0.6617377618764279 and parameters: {'p': 3, 'd': 0, 'q': 8, 'P': 0, 'D': 1, 'Q': 2}. Best is trial 34 with value: 0.6617377618764279.\u001b[0m\n",
      "\u001b[32m[I 2022-03-13 19:37:49,712]\u001b[0m Trial 35 finished with value: 0.637748051603589 and parameters: {'p': 3, 'd': 0, 'q': 2, 'P': 2, 'D': 1, 'Q': 2}. Best is trial 34 with value: 0.6617377618764279.\u001b[0m\n"
     ]
    },
    {
     "name": "stdout",
     "output_type": "stream",
     "text": [
      "Optimization terminated successfully.\n",
      "         Current function value: -1.412542\n",
      "         Iterations: 3\n",
      "         Function evaluations: 391\n",
      "Optimization terminated successfully.\n",
      "         Current function value: -1.398382\n",
      "         Iterations: 7\n",
      "         Function evaluations: 1284\n"
     ]
    },
    {
     "name": "stderr",
     "output_type": "stream",
     "text": [
      "\u001b[32m[I 2022-03-13 19:38:01,334]\u001b[0m Trial 36 finished with value: 0.6586719751101879 and parameters: {'p': 3, 'd': 0, 'q': 8, 'P': 1, 'D': 1, 'Q': 2}. Best is trial 34 with value: 0.6617377618764279.\u001b[0m\n"
     ]
    },
    {
     "name": "stdout",
     "output_type": "stream",
     "text": [
      "Optimization terminated successfully.\n",
      "         Current function value: -1.388383\n",
      "         Iterations: 5\n",
      "         Function evaluations: 767\n"
     ]
    },
    {
     "name": "stderr",
     "output_type": "stream",
     "text": [
      "\u001b[32m[I 2022-03-13 19:38:07,785]\u001b[0m Trial 37 finished with value: 0.6387086696189526 and parameters: {'p': 2, 'd': 0, 'q': 7, 'P': 0, 'D': 1, 'Q': 2}. Best is trial 34 with value: 0.6617377618764279.\u001b[0m\n"
     ]
    },
    {
     "name": "stdout",
     "output_type": "stream",
     "text": [
      "Optimization terminated successfully.\n",
      "         Current function value: -1.430753\n",
      "         Iterations: 4\n",
      "         Function evaluations: 580\n"
     ]
    },
    {
     "name": "stderr",
     "output_type": "stream",
     "text": [
      "\u001b[32m[I 2022-03-13 19:38:11,398]\u001b[0m Trial 38 finished with value: 0.5723192324859683 and parameters: {'p': 1, 'd': 0, 'q': 6, 'P': 3, 'D': 0, 'Q': 1}. Best is trial 34 with value: 0.6617377618764279.\u001b[0m\n",
      "\u001b[32m[I 2022-03-13 19:38:13,104]\u001b[0m Trial 39 finished with value: 0.6423469541277838 and parameters: {'p': 4, 'd': 0, 'q': 1, 'P': 1, 'D': 1, 'Q': 1}. Best is trial 34 with value: 0.6617377618764279.\u001b[0m\n"
     ]
    },
    {
     "name": "stdout",
     "output_type": "stream",
     "text": [
      "Optimization terminated successfully.\n",
      "         Current function value: -1.455012\n",
      "         Iterations: 4\n",
      "         Function evaluations: 405\n",
      "Optimization terminated successfully.\n",
      "         Current function value: -1.408496\n",
      "         Iterations: 15\n",
      "         Function evaluations: 3140\n"
     ]
    },
    {
     "name": "stderr",
     "output_type": "stream",
     "text": [
      "\u001b[32m[I 2022-03-13 19:38:40,546]\u001b[0m Trial 40 finished with value: 0.6722430782838933 and parameters: {'p': 3, 'd': 0, 'q': 8, 'P': 2, 'D': 1, 'Q': 2}. Best is trial 40 with value: 0.6722430782838933.\u001b[0m\n"
     ]
    },
    {
     "name": "stdout",
     "output_type": "stream",
     "text": [
      "Optimization terminated successfully.\n",
      "         Current function value: -1.408496\n",
      "         Iterations: 15\n",
      "         Function evaluations: 3140\n"
     ]
    },
    {
     "name": "stderr",
     "output_type": "stream",
     "text": [
      "\u001b[32m[I 2022-03-13 19:39:09,017]\u001b[0m Trial 41 finished with value: 0.6722430782838933 and parameters: {'p': 3, 'd': 0, 'q': 8, 'P': 2, 'D': 1, 'Q': 2}. Best is trial 40 with value: 0.6722430782838933.\u001b[0m\n"
     ]
    },
    {
     "name": "stdout",
     "output_type": "stream",
     "text": [
      "Optimization terminated successfully.\n",
      "         Current function value: -1.408496\n",
      "         Iterations: 15\n",
      "         Function evaluations: 3140\n"
     ]
    },
    {
     "name": "stderr",
     "output_type": "stream",
     "text": [
      "\u001b[32m[I 2022-03-13 19:39:37,016]\u001b[0m Trial 42 finished with value: 0.6722430782838933 and parameters: {'p': 3, 'd': 0, 'q': 8, 'P': 2, 'D': 1, 'Q': 2}. Best is trial 40 with value: 0.6722430782838933.\u001b[0m\n"
     ]
    },
    {
     "name": "stdout",
     "output_type": "stream",
     "text": [
      "Optimization terminated successfully.\n",
      "         Current function value: -1.404110\n",
      "         Iterations: 12\n",
      "         Function evaluations: 2520\n"
     ]
    },
    {
     "name": "stderr",
     "output_type": "stream",
     "text": [
      "\u001b[32m[I 2022-03-13 19:39:57,317]\u001b[0m Trial 43 finished with value: 0.5217228424506994 and parameters: {'p': 3, 'd': 0, 'q': 7, 'P': 2, 'D': 1, 'Q': 2}. Best is trial 40 with value: 0.6722430782838933.\u001b[0m\n"
     ]
    },
    {
     "name": "stdout",
     "output_type": "stream",
     "text": [
      "Optimization terminated successfully.\n",
      "         Current function value: -1.402126\n",
      "         Iterations: 8\n",
      "         Function evaluations: 1565\n"
     ]
    },
    {
     "name": "stderr",
     "output_type": "stream",
     "text": [
      "\u001b[32m[I 2022-03-13 19:40:11,674]\u001b[0m Trial 44 finished with value: 0.6640172303594856 and parameters: {'p': 2, 'd': 0, 'q': 8, 'P': 2, 'D': 1, 'Q': 2}. Best is trial 40 with value: 0.6722430782838933.\u001b[0m\n"
     ]
    },
    {
     "name": "stdout",
     "output_type": "stream",
     "text": [
      "Optimization terminated successfully.\n",
      "         Current function value: -1.392504\n",
      "         Iterations: 3\n",
      "         Function evaluations: 519\n"
     ]
    },
    {
     "name": "stderr",
     "output_type": "stream",
     "text": [
      "\u001b[32m[I 2022-03-13 19:40:15,975]\u001b[0m Trial 45 finished with value: 0.6374016642683529 and parameters: {'p': 2, 'd': 0, 'q': 7, 'P': 2, 'D': 1, 'Q': 2}. Best is trial 40 with value: 0.6722430782838933.\u001b[0m\n"
     ]
    },
    {
     "name": "stdout",
     "output_type": "stream",
     "text": [
      "Optimization terminated successfully.\n",
      "         Current function value: -1.393679\n",
      "         Iterations: 3\n",
      "         Function evaluations: 511\n"
     ]
    },
    {
     "name": "stderr",
     "output_type": "stream",
     "text": [
      "\u001b[32m[I 2022-03-13 19:40:20,184]\u001b[0m Trial 46 finished with value: 0.6112429249822373 and parameters: {'p': 1, 'd': 0, 'q': 8, 'P': 3, 'D': 1, 'Q': 2}. Best is trial 40 with value: 0.6722430782838933.\u001b[0m\n"
     ]
    },
    {
     "name": "stdout",
     "output_type": "stream",
     "text": [
      "Optimization terminated successfully.\n",
      "         Current function value: -1.362860\n",
      "         Iterations: 5\n",
      "         Function evaluations: 681\n"
     ]
    },
    {
     "name": "stderr",
     "output_type": "stream",
     "text": [
      "\u001b[32m[I 2022-03-13 19:40:27,190]\u001b[0m Trial 47 finished with value: 0.6384317767963916 and parameters: {'p': 2, 'd': 0, 'q': 3, 'P': 2, 'D': 1, 'Q': 3}. Best is trial 40 with value: 0.6722430782838933.\u001b[0m\n"
     ]
    },
    {
     "name": "stdout",
     "output_type": "stream",
     "text": [
      "Optimization terminated successfully.\n",
      "         Current function value: -1.446967\n",
      "         Iterations: 14\n",
      "         Function evaluations: 3122\n"
     ]
    },
    {
     "name": "stderr",
     "output_type": "stream",
     "text": [
      "\u001b[32m[I 2022-03-13 19:40:45,848]\u001b[0m Trial 48 finished with value: 0.4862749011954919 and parameters: {'p': 3, 'd': 1, 'q': 8, 'P': 2, 'D': 0, 'Q': 2}. Best is trial 40 with value: 0.6722430782838933.\u001b[0m\n"
     ]
    },
    {
     "name": "stdout",
     "output_type": "stream",
     "text": [
      "Optimization terminated successfully.\n",
      "         Current function value: -1.404124\n",
      "         Iterations: 13\n",
      "         Function evaluations: 2824\n"
     ]
    },
    {
     "name": "stderr",
     "output_type": "stream",
     "text": [
      "\u001b[32m[I 2022-03-13 19:41:08,282]\u001b[0m Trial 49 finished with value: 0.511037679250874 and parameters: {'p': 4, 'd': 0, 'q': 7, 'P': 2, 'D': 1, 'Q': 2}. Best is trial 40 with value: 0.6722430782838933.\u001b[0m\n",
      "\u001b[32m[I 2022-03-13 19:41:08,291]\u001b[0m A new study created in memory with name: no-name-929d1254-5958-451f-a6f6-4f070e5ff013\u001b[0m\n",
      "\u001b[32m[I 2022-03-13 19:41:08,392]\u001b[0m Trial 0 finished with value: -4.868119178264656 and parameters: {'p': 1, 'd': 1, 'q': 0, 'P': 0, 'D': 0, 'Q': 0}. Best is trial 0 with value: -4.868119178264656.\u001b[0m\n"
     ]
    },
    {
     "name": "stdout",
     "output_type": "stream",
     "text": [
      "Optimization terminated successfully.\n",
      "         Current function value: -1.210958\n",
      "         Iterations: 1\n",
      "         Function evaluations: 64\n",
      "Optimization terminated successfully.\n",
      "         Current function value: -1.457647\n",
      "         Iterations: 8\n",
      "         Function evaluations: 997\n"
     ]
    },
    {
     "name": "stderr",
     "output_type": "stream",
     "text": [
      "\u001b[32m[I 2022-03-13 19:41:16,946]\u001b[0m Trial 1 finished with value: 0.6722892117118922 and parameters: {'p': 0, 'd': 1, 'q': 5, 'P': 0, 'D': 1, 'Q': 2}. Best is trial 1 with value: 0.6722892117118922.\u001b[0m\n"
     ]
    },
    {
     "name": "stdout",
     "output_type": "stream",
     "text": [
      "Optimization terminated successfully.\n",
      "         Current function value: -1.386263\n",
      "         Iterations: 11\n",
      "         Function evaluations: 2099\n"
     ]
    },
    {
     "name": "stderr",
     "output_type": "stream",
     "text": [
      "\u001b[32m[I 2022-03-13 19:41:27,125]\u001b[0m Trial 2 finished with value: 0.21833289168944936 and parameters: {'p': 8, 'd': 0, 'q': 5, 'P': 0, 'D': 0, 'Q': 2}. Best is trial 1 with value: 0.6722892117118922.\u001b[0m\n"
     ]
    },
    {
     "name": "stdout",
     "output_type": "stream",
     "text": [
      "Optimization terminated successfully.\n",
      "         Current function value: -1.467493\n",
      "         Iterations: 18\n",
      "         Function evaluations: 4276\n"
     ]
    },
    {
     "name": "stderr",
     "output_type": "stream",
     "text": [
      "\u001b[32m[I 2022-03-13 19:42:02,340]\u001b[0m Trial 3 finished with value: 0.6689634725564706 and parameters: {'p': 8, 'd': 1, 'q': 6, 'P': 2, 'D': 1, 'Q': 1}. Best is trial 1 with value: 0.6722892117118922.\u001b[0m\n"
     ]
    },
    {
     "name": "stdout",
     "output_type": "stream",
     "text": [
      "Optimization terminated successfully.\n",
      "         Current function value: -1.445509\n",
      "         Iterations: 10\n",
      "         Function evaluations: 2147\n"
     ]
    },
    {
     "name": "stderr",
     "output_type": "stream",
     "text": [
      "\u001b[32m[I 2022-03-13 19:42:17,876]\u001b[0m Trial 4 finished with value: 0.5518927639895266 and parameters: {'p': 6, 'd': 1, 'q': 7, 'P': 0, 'D': 0, 'Q': 3}. Best is trial 1 with value: 0.6722892117118922.\u001b[0m\n",
      "\u001b[32m[I 2022-03-13 19:42:18,569]\u001b[0m Trial 5 finished with value: 0.5233513884443597 and parameters: {'p': 8, 'd': 0, 'q': 2, 'P': 1, 'D': 1, 'Q': 0}. Best is trial 1 with value: 0.6722892117118922.\u001b[0m\n"
     ]
    },
    {
     "name": "stdout",
     "output_type": "stream",
     "text": [
      "Optimization terminated successfully.\n",
      "         Current function value: -1.456703\n",
      "         Iterations: 2\n",
      "         Function evaluations: 291\n"
     ]
    },
    {
     "name": "stderr",
     "output_type": "stream",
     "text": [
      "\u001b[32m[I 2022-03-13 19:42:22,348]\u001b[0m Trial 6 finished with value: 0.6792710939186757 and parameters: {'p': 4, 'd': 0, 'q': 3, 'P': 2, 'D': 1, 'Q': 1}. Best is trial 6 with value: 0.6792710939186757.\u001b[0m\n"
     ]
    },
    {
     "name": "stdout",
     "output_type": "stream",
     "text": [
      "Optimization terminated successfully.\n",
      "         Current function value: -1.479020\n",
      "         Iterations: 6\n",
      "         Function evaluations: 774\n",
      "Optimization terminated successfully.\n",
      "         Current function value: -1.424239\n",
      "         Iterations: 13\n",
      "         Function evaluations: 2735\n"
     ]
    },
    {
     "name": "stderr",
     "output_type": "stream",
     "text": [
      "\u001b[32m[I 2022-03-13 19:42:54,699]\u001b[0m Trial 7 finished with value: 0.6579354865855591 and parameters: {'p': 6, 'd': 1, 'q': 6, 'P': 2, 'D': 1, 'Q': 3}. Best is trial 6 with value: 0.6792710939186757.\u001b[0m\n"
     ]
    },
    {
     "name": "stdout",
     "output_type": "stream",
     "text": [
      "Optimization terminated successfully.\n",
      "         Current function value: -1.433200\n",
      "         Iterations: 7\n",
      "         Function evaluations: 1154\n"
     ]
    },
    {
     "name": "stderr",
     "output_type": "stream",
     "text": [
      "\u001b[32m[I 2022-03-13 19:43:07,375]\u001b[0m Trial 8 finished with value: 0.6689150198608802 and parameters: {'p': 8, 'd': 1, 'q': 2, 'P': 1, 'D': 1, 'Q': 3}. Best is trial 6 with value: 0.6792710939186757.\u001b[0m\n"
     ]
    },
    {
     "name": "stdout",
     "output_type": "stream",
     "text": [
      "Optimization terminated successfully.\n",
      "         Current function value: -1.467208\n",
      "         Iterations: 4\n",
      "         Function evaluations: 678\n"
     ]
    },
    {
     "name": "stderr",
     "output_type": "stream",
     "text": [
      "\u001b[32m[I 2022-03-13 19:43:13,258]\u001b[0m Trial 9 finished with value: 0.6860982152540811 and parameters: {'p': 8, 'd': 0, 'q': 1, 'P': 3, 'D': 0, 'Q': 3}. Best is trial 9 with value: 0.6860982152540811.\u001b[0m\n",
      "\u001b[32m[I 2022-03-13 19:43:15,284]\u001b[0m Trial 10 finished with value: 0.6700255626851627 and parameters: {'p': 4, 'd': 0, 'q': 0, 'P': 3, 'D': 0, 'Q': 2}. Best is trial 9 with value: 0.6860982152540811.\u001b[0m\n"
     ]
    },
    {
     "name": "stdout",
     "output_type": "stream",
     "text": [
      "Optimization terminated successfully.\n",
      "         Current function value: -1.480033\n",
      "         Iterations: 3\n",
      "         Function evaluations: 319\n"
     ]
    },
    {
     "name": "stderr",
     "output_type": "stream",
     "text": [
      "\u001b[32m[I 2022-03-13 19:43:18,373]\u001b[0m Trial 11 finished with value: 0.6538718893228159 and parameters: {'p': 3, 'd': 0, 'q': 3, 'P': 3, 'D': 0, 'Q': 1}. Best is trial 9 with value: 0.6860982152540811.\u001b[0m\n"
     ]
    },
    {
     "name": "stdout",
     "output_type": "stream",
     "text": [
      "Optimization terminated successfully.\n",
      "         Current function value: -1.485906\n",
      "         Iterations: 4\n",
      "         Function evaluations: 514\n",
      "Optimization terminated successfully.\n",
      "         Current function value: -1.295548\n",
      "         Iterations: 8\n",
      "         Function evaluations: 1070\n"
     ]
    },
    {
     "name": "stderr",
     "output_type": "stream",
     "text": [
      "\u001b[32m[I 2022-03-13 19:43:26,317]\u001b[0m Trial 12 finished with value: 0.5692190592303259 and parameters: {'p': 5, 'd': 0, 'q': 2, 'P': 3, 'D': 0, 'Q': 1}. Best is trial 9 with value: 0.6860982152540811.\u001b[0m\n",
      "\u001b[32m[I 2022-03-13 19:43:29,023]\u001b[0m Trial 13 finished with value: 0.6795496575580213 and parameters: {'p': 2, 'd': 0, 'q': 1, 'P': 2, 'D': 1, 'Q': 1}. Best is trial 9 with value: 0.6860982152540811.\u001b[0m\n"
     ]
    },
    {
     "name": "stdout",
     "output_type": "stream",
     "text": [
      "Optimization terminated successfully.\n",
      "         Current function value: -1.488284\n",
      "         Iterations: 6\n",
      "         Function evaluations: 549\n"
     ]
    },
    {
     "name": "stderr",
     "output_type": "stream",
     "text": [
      "\u001b[32m[I 2022-03-13 19:43:30,997]\u001b[0m Trial 14 finished with value: 0.6695453790104438 and parameters: {'p': 2, 'd': 0, 'q': 1, 'P': 3, 'D': 0, 'Q': 2}. Best is trial 9 with value: 0.6860982152540811.\u001b[0m\n"
     ]
    },
    {
     "name": "stdout",
     "output_type": "stream",
     "text": [
      "Optimization terminated successfully.\n",
      "         Current function value: -1.491892\n",
      "         Iterations: 3\n",
      "         Function evaluations: 311\n"
     ]
    },
    {
     "name": "stderr",
     "output_type": "stream",
     "text": [
      "\u001b[32m[I 2022-03-13 19:43:31,688]\u001b[0m Trial 15 finished with value: 0.5774151045097772 and parameters: {'p': 2, 'd': 0, 'q': 1, 'P': 2, 'D': 1, 'Q': 0}. Best is trial 9 with value: 0.6860982152540811.\u001b[0m\n"
     ]
    },
    {
     "name": "stdout",
     "output_type": "stream",
     "text": [
      "Optimization terminated successfully.\n",
      "         Current function value: -1.449961\n",
      "         Iterations: 3\n",
      "         Function evaluations: 213\n",
      "Optimization terminated successfully.\n",
      "         Current function value: -1.488799\n",
      "         Iterations: 15\n",
      "         Function evaluations: 2556\n"
     ]
    },
    {
     "name": "stderr",
     "output_type": "stream",
     "text": [
      "\u001b[32m[I 2022-03-13 19:43:51,102]\u001b[0m Trial 16 finished with value: 0.6784581035317028 and parameters: {'p': 6, 'd': 0, 'q': 4, 'P': 1, 'D': 0, 'Q': 3}. Best is trial 9 with value: 0.6860982152540811.\u001b[0m\n"
     ]
    },
    {
     "name": "stdout",
     "output_type": "stream",
     "text": [
      "Optimization terminated successfully.\n",
      "         Current function value: -1.460463\n",
      "         Iterations: 6\n",
      "         Function evaluations: 991\n"
     ]
    },
    {
     "name": "stderr",
     "output_type": "stream",
     "text": [
      "\u001b[32m[I 2022-03-13 19:43:57,460]\u001b[0m Trial 17 finished with value: 0.668185551723685 and parameters: {'p': 0, 'd': 0, 'q': 8, 'P': 3, 'D': 1, 'Q': 2}. Best is trial 9 with value: 0.6860982152540811.\u001b[0m\n",
      "\u001b[32m[I 2022-03-13 19:43:58,466]\u001b[0m Trial 18 finished with value: 0.6583772063470663 and parameters: {'p': 2, 'd': 0, 'q': 1, 'P': 2, 'D': 0, 'Q': 1}. Best is trial 9 with value: 0.6860982152540811.\u001b[0m\n"
     ]
    },
    {
     "name": "stdout",
     "output_type": "stream",
     "text": [
      "Optimization terminated successfully.\n",
      "         Current function value: -1.537638\n",
      "         Iterations: 3\n",
      "         Function evaluations: 253\n"
     ]
    },
    {
     "name": "stderr",
     "output_type": "stream",
     "text": [
      "\u001b[32m[I 2022-03-13 19:43:59,510]\u001b[0m Trial 19 finished with value: 0.603590506411241 and parameters: {'p': 4, 'd': 0, 'q': 0, 'P': 3, 'D': 1, 'Q': 0}. Best is trial 9 with value: 0.6860982152540811.\u001b[0m\n"
     ]
    },
    {
     "name": "stdout",
     "output_type": "stream",
     "text": [
      "Optimization terminated successfully.\n",
      "         Current function value: -1.422802\n",
      "         Iterations: 2\n",
      "         Function evaluations: 181\n",
      "Optimization terminated successfully.\n",
      "         Current function value: -1.483995\n",
      "         Iterations: 5\n",
      "         Function evaluations: 704\n"
     ]
    },
    {
     "name": "stderr",
     "output_type": "stream",
     "text": [
      "\u001b[32m[I 2022-03-13 19:44:04,500]\u001b[0m Trial 20 finished with value: 0.6744557903757913 and parameters: {'p': 3, 'd': 0, 'q': 3, 'P': 2, 'D': 0, 'Q': 3}. Best is trial 9 with value: 0.6860982152540811.\u001b[0m\n"
     ]
    },
    {
     "name": "stdout",
     "output_type": "stream",
     "text": [
      "Optimization terminated successfully.\n",
      "         Current function value: -1.473489\n",
      "         Iterations: 6\n",
      "         Function evaluations: 842\n"
     ]
    },
    {
     "name": "stderr",
     "output_type": "stream",
     "text": [
      "\u001b[32m[I 2022-03-13 19:44:09,100]\u001b[0m Trial 21 finished with value: 0.679448095086775 and parameters: {'p': 5, 'd': 0, 'q': 3, 'P': 2, 'D': 1, 'Q': 1}. Best is trial 9 with value: 0.6860982152540811.\u001b[0m\n",
      "\u001b[32m[I 2022-03-13 19:44:12,686]\u001b[0m Trial 22 finished with value: 0.6895643251236248 and parameters: {'p': 7, 'd': 0, 'q': 1, 'P': 1, 'D': 1, 'Q': 1}. Best is trial 22 with value: 0.6895643251236248.\u001b[0m\n"
     ]
    },
    {
     "name": "stdout",
     "output_type": "stream",
     "text": [
      "Optimization terminated successfully.\n",
      "         Current function value: -1.518075\n",
      "         Iterations: 6\n",
      "         Function evaluations: 788\n"
     ]
    },
    {
     "name": "stderr",
     "output_type": "stream",
     "text": [
      "\u001b[32m[I 2022-03-13 19:44:16,391]\u001b[0m Trial 23 finished with value: 0.6895643251236248 and parameters: {'p': 7, 'd': 0, 'q': 1, 'P': 1, 'D': 1, 'Q': 1}. Best is trial 22 with value: 0.6895643251236248.\u001b[0m\n"
     ]
    },
    {
     "name": "stdout",
     "output_type": "stream",
     "text": [
      "Optimization terminated successfully.\n",
      "         Current function value: -1.518075\n",
      "         Iterations: 6\n",
      "         Function evaluations: 788\n",
      "Optimization terminated successfully.\n",
      "         Current function value: -1.491336\n",
      "         Iterations: 6\n",
      "         Function evaluations: 906\n"
     ]
    },
    {
     "name": "stderr",
     "output_type": "stream",
     "text": [
      "\u001b[32m[I 2022-03-13 19:44:22,588]\u001b[0m Trial 24 finished with value: 0.6939183238661444 and parameters: {'p': 7, 'd': 0, 'q': 2, 'P': 1, 'D': 1, 'Q': 2}. Best is trial 24 with value: 0.6939183238661444.\u001b[0m\n"
     ]
    },
    {
     "name": "stdout",
     "output_type": "stream",
     "text": [
      "Optimization terminated successfully.\n",
      "         Current function value: -1.491336\n",
      "         Iterations: 6\n",
      "         Function evaluations: 906\n"
     ]
    },
    {
     "name": "stderr",
     "output_type": "stream",
     "text": [
      "\u001b[32m[I 2022-03-13 19:44:28,646]\u001b[0m Trial 25 finished with value: 0.6939183238661444 and parameters: {'p': 7, 'd': 0, 'q': 2, 'P': 1, 'D': 1, 'Q': 2}. Best is trial 24 with value: 0.6939183238661444.\u001b[0m\n"
     ]
    },
    {
     "name": "stdout",
     "output_type": "stream",
     "text": [
      "Optimization terminated successfully.\n",
      "         Current function value: -1.491336\n",
      "         Iterations: 6\n",
      "         Function evaluations: 906\n"
     ]
    },
    {
     "name": "stderr",
     "output_type": "stream",
     "text": [
      "\u001b[32m[I 2022-03-13 19:44:34,567]\u001b[0m Trial 26 finished with value: 0.6939183238661444 and parameters: {'p': 7, 'd': 0, 'q': 2, 'P': 1, 'D': 1, 'Q': 2}. Best is trial 24 with value: 0.6939183238661444.\u001b[0m\n"
     ]
    },
    {
     "name": "stdout",
     "output_type": "stream",
     "text": [
      "Optimization terminated successfully.\n",
      "         Current function value: -1.475780\n",
      "         Iterations: 8\n",
      "         Function evaluations: 1392\n"
     ]
    },
    {
     "name": "stderr",
     "output_type": "stream",
     "text": [
      "\u001b[32m[I 2022-03-13 19:44:44,562]\u001b[0m Trial 27 finished with value: 0.6894424308648077 and parameters: {'p': 7, 'd': 0, 'q': 4, 'P': 1, 'D': 1, 'Q': 2}. Best is trial 24 with value: 0.6939183238661444.\u001b[0m\n"
     ]
    },
    {
     "name": "stdout",
     "output_type": "stream",
     "text": [
      "Optimization terminated successfully.\n",
      "         Current function value: -1.491336\n",
      "         Iterations: 6\n",
      "         Function evaluations: 906\n"
     ]
    },
    {
     "name": "stderr",
     "output_type": "stream",
     "text": [
      "\u001b[32m[I 2022-03-13 19:44:50,636]\u001b[0m Trial 28 finished with value: 0.6939183238661444 and parameters: {'p': 7, 'd': 0, 'q': 2, 'P': 1, 'D': 1, 'Q': 2}. Best is trial 24 with value: 0.6939183238661444.\u001b[0m\n",
      "\u001b[32m[I 2022-03-13 19:44:52,946]\u001b[0m Trial 29 finished with value: 0.5316787080929897 and parameters: {'p': 5, 'd': 1, 'q': 0, 'P': 0, 'D': 1, 'Q': 2}. Best is trial 24 with value: 0.6939183238661444.\u001b[0m\n"
     ]
    },
    {
     "name": "stdout",
     "output_type": "stream",
     "text": [
      "Optimization terminated successfully.\n",
      "         Current function value: -1.408969\n",
      "         Iterations: 4\n",
      "         Function evaluations: 377\n",
      "Optimization terminated successfully.\n",
      "         Current function value: -1.475524\n",
      "         Iterations: 4\n",
      "         Function evaluations: 628\n"
     ]
    },
    {
     "name": "stderr",
     "output_type": "stream",
     "text": [
      "\u001b[32m[I 2022-03-13 19:44:57,533]\u001b[0m Trial 30 finished with value: 0.6898452909808203 and parameters: {'p': 6, 'd': 0, 'q': 4, 'P': 1, 'D': 1, 'Q': 2}. Best is trial 24 with value: 0.6939183238661444.\u001b[0m\n"
     ]
    },
    {
     "name": "stdout",
     "output_type": "stream",
     "text": [
      "Optimization terminated successfully.\n",
      "         Current function value: -1.491336\n",
      "         Iterations: 6\n",
      "         Function evaluations: 906\n"
     ]
    },
    {
     "name": "stderr",
     "output_type": "stream",
     "text": [
      "\u001b[32m[I 2022-03-13 19:45:03,669]\u001b[0m Trial 31 finished with value: 0.6939183238661444 and parameters: {'p': 7, 'd': 0, 'q': 2, 'P': 1, 'D': 1, 'Q': 2}. Best is trial 24 with value: 0.6939183238661444.\u001b[0m\n"
     ]
    },
    {
     "name": "stdout",
     "output_type": "stream",
     "text": [
      "Optimization terminated successfully.\n",
      "         Current function value: -1.491336\n",
      "         Iterations: 6\n",
      "         Function evaluations: 906\n"
     ]
    },
    {
     "name": "stderr",
     "output_type": "stream",
     "text": [
      "\u001b[32m[I 2022-03-13 19:45:09,623]\u001b[0m Trial 32 finished with value: 0.6939183238661444 and parameters: {'p': 7, 'd': 0, 'q': 2, 'P': 1, 'D': 1, 'Q': 2}. Best is trial 24 with value: 0.6939183238661444.\u001b[0m\n"
     ]
    },
    {
     "name": "stdout",
     "output_type": "stream",
     "text": [
      "Optimization terminated successfully.\n",
      "         Current function value: -1.489388\n",
      "         Iterations: 19\n",
      "         Function evaluations: 2755\n"
     ]
    },
    {
     "name": "stderr",
     "output_type": "stream",
     "text": [
      "\u001b[32m[I 2022-03-13 19:45:26,840]\u001b[0m Trial 33 finished with value: 0.699904538002504 and parameters: {'p': 6, 'd': 0, 'q': 3, 'P': 0, 'D': 1, 'Q': 2}. Best is trial 33 with value: 0.699904538002504.\u001b[0m\n"
     ]
    },
    {
     "name": "stdout",
     "output_type": "stream",
     "text": [
      "Optimization terminated successfully.\n",
      "         Current function value: -1.489388\n",
      "         Iterations: 19\n",
      "         Function evaluations: 2755\n"
     ]
    },
    {
     "name": "stderr",
     "output_type": "stream",
     "text": [
      "\u001b[32m[I 2022-03-13 19:45:44,139]\u001b[0m Trial 34 finished with value: 0.699904538002504 and parameters: {'p': 6, 'd': 0, 'q': 3, 'P': 0, 'D': 1, 'Q': 2}. Best is trial 33 with value: 0.699904538002504.\u001b[0m\n"
     ]
    },
    {
     "name": "stdout",
     "output_type": "stream",
     "text": [
      "Optimization terminated successfully.\n",
      "         Current function value: -1.458653\n",
      "         Iterations: 10\n",
      "         Function evaluations: 1879\n"
     ]
    },
    {
     "name": "stderr",
     "output_type": "stream",
     "text": [
      "\u001b[32m[I 2022-03-13 19:46:00,164]\u001b[0m Trial 35 finished with value: 0.669527461841581 and parameters: {'p': 6, 'd': 1, 'q': 5, 'P': 0, 'D': 1, 'Q': 2}. Best is trial 33 with value: 0.699904538002504.\u001b[0m\n",
      "\u001b[32m[I 2022-03-13 19:46:02,520]\u001b[0m Trial 36 finished with value: 0.6913290464306887 and parameters: {'p': 5, 'd': 0, 'q': 3, 'P': 0, 'D': 1, 'Q': 2}. Best is trial 33 with value: 0.699904538002504.\u001b[0m\n"
     ]
    },
    {
     "name": "stdout",
     "output_type": "stream",
     "text": [
      "Optimization terminated successfully.\n",
      "         Current function value: -1.477674\n",
      "         Iterations: 3\n",
      "         Function evaluations: 384\n",
      "Optimization terminated successfully.\n",
      "         Current function value: -1.464300\n",
      "         Iterations: 28\n",
      "         Function evaluations: 5102\n"
     ]
    },
    {
     "name": "stderr",
     "output_type": "stream",
     "text": [
      "\u001b[32m[I 2022-03-13 19:46:40,122]\u001b[0m Trial 37 finished with value: 0.6855764258010036 and parameters: {'p': 6, 'd': 0, 'q': 5, 'P': 0, 'D': 1, 'Q': 2}. Best is trial 33 with value: 0.699904538002504.\u001b[0m\n"
     ]
    },
    {
     "name": "stdout",
     "output_type": "stream",
     "text": [
      "Optimization terminated successfully.\n",
      "         Current function value: -1.403261\n",
      "         Iterations: 10\n",
      "         Function evaluations: 1958\n"
     ]
    },
    {
     "name": "stderr",
     "output_type": "stream",
     "text": [
      "\u001b[32m[I 2022-03-13 19:47:02,107]\u001b[0m Trial 38 finished with value: 0.6981523336193995 and parameters: {'p': 8, 'd': 1, 'q': 4, 'P': 0, 'D': 1, 'Q': 3}. Best is trial 33 with value: 0.699904538002504.\u001b[0m\n"
     ]
    },
    {
     "name": "stdout",
     "output_type": "stream",
     "text": [
      "Optimization terminated successfully.\n",
      "         Current function value: -1.403261\n",
      "         Iterations: 10\n",
      "         Function evaluations: 1958\n"
     ]
    },
    {
     "name": "stderr",
     "output_type": "stream",
     "text": [
      "\u001b[32m[I 2022-03-13 19:47:23,616]\u001b[0m Trial 39 finished with value: 0.6981523336193995 and parameters: {'p': 8, 'd': 1, 'q': 4, 'P': 0, 'D': 1, 'Q': 3}. Best is trial 33 with value: 0.699904538002504.\u001b[0m\n"
     ]
    },
    {
     "name": "stdout",
     "output_type": "stream",
     "text": [
      "Optimization terminated successfully.\n",
      "         Current function value: -1.415435\n",
      "         Iterations: 18\n",
      "         Function evaluations: 3868\n"
     ]
    },
    {
     "name": "stderr",
     "output_type": "stream",
     "text": [
      "\u001b[32m[I 2022-03-13 19:48:09,272]\u001b[0m Trial 40 finished with value: 0.666316396723664 and parameters: {'p': 8, 'd': 1, 'q': 6, 'P': 0, 'D': 1, 'Q': 3}. Best is trial 33 with value: 0.699904538002504.\u001b[0m\n"
     ]
    },
    {
     "name": "stdout",
     "output_type": "stream",
     "text": [
      "Optimization terminated successfully.\n",
      "         Current function value: -1.403261\n",
      "         Iterations: 10\n",
      "         Function evaluations: 1958\n"
     ]
    },
    {
     "name": "stderr",
     "output_type": "stream",
     "text": [
      "\u001b[32m[I 2022-03-13 19:48:30,959]\u001b[0m Trial 41 finished with value: 0.6981523336193995 and parameters: {'p': 8, 'd': 1, 'q': 4, 'P': 0, 'D': 1, 'Q': 3}. Best is trial 33 with value: 0.699904538002504.\u001b[0m\n"
     ]
    },
    {
     "name": "stdout",
     "output_type": "stream",
     "text": [
      "Optimization terminated successfully.\n",
      "         Current function value: -1.403261\n",
      "         Iterations: 10\n",
      "         Function evaluations: 1958\n"
     ]
    },
    {
     "name": "stderr",
     "output_type": "stream",
     "text": [
      "\u001b[32m[I 2022-03-13 19:48:52,701]\u001b[0m Trial 42 finished with value: 0.6981523336193995 and parameters: {'p': 8, 'd': 1, 'q': 4, 'P': 0, 'D': 1, 'Q': 3}. Best is trial 33 with value: 0.699904538002504.\u001b[0m\n"
     ]
    },
    {
     "name": "stdout",
     "output_type": "stream",
     "text": [
      "Optimization terminated successfully.\n",
      "         Current function value: -1.403261\n",
      "         Iterations: 10\n",
      "         Function evaluations: 1958\n"
     ]
    },
    {
     "name": "stderr",
     "output_type": "stream",
     "text": [
      "\u001b[32m[I 2022-03-13 19:49:14,494]\u001b[0m Trial 43 finished with value: 0.6981523336193995 and parameters: {'p': 8, 'd': 1, 'q': 4, 'P': 0, 'D': 1, 'Q': 3}. Best is trial 33 with value: 0.699904538002504.\u001b[0m\n"
     ]
    },
    {
     "name": "stdout",
     "output_type": "stream",
     "text": [
      "Optimization terminated successfully.\n",
      "         Current function value: -1.417263\n",
      "         Iterations: 18\n",
      "         Function evaluations: 4015\n"
     ]
    },
    {
     "name": "stderr",
     "output_type": "stream",
     "text": [
      "\u001b[32m[I 2022-03-13 19:50:04,012]\u001b[0m Trial 44 finished with value: 0.686717036957526 and parameters: {'p': 8, 'd': 1, 'q': 5, 'P': 0, 'D': 1, 'Q': 3}. Best is trial 33 with value: 0.699904538002504.\u001b[0m\n"
     ]
    },
    {
     "name": "stdout",
     "output_type": "stream",
     "text": [
      "Optimization terminated successfully.\n",
      "         Current function value: -1.417263\n",
      "         Iterations: 18\n",
      "         Function evaluations: 4015\n"
     ]
    },
    {
     "name": "stderr",
     "output_type": "stream",
     "text": [
      "\u001b[32m[I 2022-03-13 19:50:53,174]\u001b[0m Trial 45 finished with value: 0.686717036957526 and parameters: {'p': 8, 'd': 1, 'q': 5, 'P': 0, 'D': 1, 'Q': 3}. Best is trial 33 with value: 0.699904538002504.\u001b[0m\n"
     ]
    },
    {
     "name": "stdout",
     "output_type": "stream",
     "text": [
      "Optimization terminated successfully.\n",
      "         Current function value: -1.418322\n",
      "         Iterations: 10\n",
      "         Function evaluations: 1776\n"
     ]
    },
    {
     "name": "stderr",
     "output_type": "stream",
     "text": [
      "\u001b[32m[I 2022-03-13 19:51:14,304]\u001b[0m Trial 46 finished with value: 0.6769258528895601 and parameters: {'p': 8, 'd': 1, 'q': 3, 'P': 0, 'D': 1, 'Q': 3}. Best is trial 33 with value: 0.699904538002504.\u001b[0m\n"
     ]
    },
    {
     "name": "stdout",
     "output_type": "stream",
     "text": [
      "Optimization terminated successfully.\n",
      "         Current function value: -1.413593\n",
      "         Iterations: 9\n",
      "         Function evaluations: 1647\n"
     ]
    },
    {
     "name": "stderr",
     "output_type": "stream",
     "text": [
      "\u001b[32m[I 2022-03-13 19:51:33,599]\u001b[0m Trial 47 finished with value: 0.6689645356232046 and parameters: {'p': 6, 'd': 1, 'q': 4, 'P': 0, 'D': 1, 'Q': 3}. Best is trial 33 with value: 0.699904538002504.\u001b[0m\n"
     ]
    },
    {
     "name": "stdout",
     "output_type": "stream",
     "text": [
      "Optimization terminated successfully.\n",
      "         Current function value: -1.407939\n",
      "         Iterations: 9\n",
      "         Function evaluations: 1677\n"
     ]
    },
    {
     "name": "stderr",
     "output_type": "stream",
     "text": [
      "\u001b[32m[I 2022-03-13 19:51:53,424]\u001b[0m Trial 48 finished with value: 0.6572131371547609 and parameters: {'p': 4, 'd': 1, 'q': 4, 'P': 0, 'D': 1, 'Q': 3}. Best is trial 33 with value: 0.699904538002504.\u001b[0m\n"
     ]
    },
    {
     "name": "stdout",
     "output_type": "stream",
     "text": [
      "Optimization terminated successfully.\n",
      "         Current function value: -1.418322\n",
      "         Iterations: 10\n",
      "         Function evaluations: 1776\n"
     ]
    },
    {
     "name": "stderr",
     "output_type": "stream",
     "text": [
      "\u001b[32m[I 2022-03-13 19:52:14,362]\u001b[0m Trial 49 finished with value: 0.6769258528895601 and parameters: {'p': 8, 'd': 1, 'q': 3, 'P': 0, 'D': 1, 'Q': 3}. Best is trial 33 with value: 0.699904538002504.\u001b[0m\n",
      "\u001b[32m[I 2022-03-13 19:52:14,371]\u001b[0m A new study created in memory with name: no-name-83719daf-75f2-4760-8f81-87baa7befa78\u001b[0m\n",
      "\u001b[32m[I 2022-03-13 19:52:23,685]\u001b[0m Trial 0 finished with value: 0.6537028737138894 and parameters: {'p': 8, 'd': 1, 'q': 4, 'P': 0, 'D': 0, 'Q': 2}. Best is trial 0 with value: 0.6537028737138894.\u001b[0m\n"
     ]
    },
    {
     "name": "stdout",
     "output_type": "stream",
     "text": [
      "Optimization terminated successfully.\n",
      "         Current function value: -1.460089\n",
      "         Iterations: 12\n",
      "         Function evaluations: 2064\n",
      "Optimization terminated successfully.\n",
      "         Current function value: -1.464591\n",
      "         Iterations: 8\n",
      "         Function evaluations: 1581\n"
     ]
    },
    {
     "name": "stderr",
     "output_type": "stream",
     "text": [
      "\u001b[32m[I 2022-03-13 19:52:35,884]\u001b[0m Trial 1 finished with value: 0.747101641105858 and parameters: {'p': 7, 'd': 0, 'q': 6, 'P': 3, 'D': 1, 'Q': 0}. Best is trial 1 with value: 0.747101641105858.\u001b[0m\n",
      "\u001b[32m[I 2022-03-13 19:52:41,442]\u001b[0m Trial 2 finished with value: 0.779316447772528 and parameters: {'p': 6, 'd': 1, 'q': 1, 'P': 1, 'D': 1, 'Q': 1}. Best is trial 2 with value: 0.779316447772528.\u001b[0m\n"
     ]
    },
    {
     "name": "stdout",
     "output_type": "stream",
     "text": [
      "Optimization terminated successfully.\n",
      "         Current function value: -1.564517\n",
      "         Iterations: 8\n",
      "         Function evaluations: 1078\n",
      "Optimization terminated successfully.\n",
      "         Current function value: -1.530405\n",
      "         Iterations: 8\n",
      "         Function evaluations: 1436\n"
     ]
    },
    {
     "name": "stderr",
     "output_type": "stream",
     "text": [
      "\u001b[32m[I 2022-03-13 19:52:52,472]\u001b[0m Trial 3 finished with value: 0.80546408249679 and parameters: {'p': 5, 'd': 0, 'q': 7, 'P': 0, 'D': 1, 'Q': 2}. Best is trial 3 with value: 0.80546408249679.\u001b[0m\n",
      "\u001b[32m[I 2022-03-13 19:52:53,264]\u001b[0m Trial 4 finished with value: 0.8019716218011766 and parameters: {'p': 2, 'd': 0, 'q': 2, 'P': 1, 'D': 0, 'Q': 1}. Best is trial 3 with value: 0.80546408249679.\u001b[0m\n"
     ]
    },
    {
     "name": "stdout",
     "output_type": "stream",
     "text": [
      "Optimization terminated successfully.\n",
      "         Current function value: -1.661586\n",
      "         Iterations: 5\n",
      "         Function evaluations: 461\n"
     ]
    },
    {
     "name": "stderr",
     "output_type": "stream",
     "text": [
      "\u001b[32m[I 2022-03-13 19:52:57,451]\u001b[0m Trial 5 finished with value: 0.6244619728887175 and parameters: {'p': 3, 'd': 0, 'q': 7, 'P': 1, 'D': 0, 'Q': 0}. Best is trial 3 with value: 0.80546408249679.\u001b[0m\n"
     ]
    },
    {
     "name": "stdout",
     "output_type": "stream",
     "text": [
      "Optimization terminated successfully.\n",
      "         Current function value: -1.483888\n",
      "         Iterations: 18\n",
      "         Function evaluations: 3080\n",
      "Optimization terminated successfully.\n",
      "         Current function value: -1.485350\n",
      "         Iterations: 5\n",
      "         Function evaluations: 794\n"
     ]
    },
    {
     "name": "stderr",
     "output_type": "stream",
     "text": [
      "\u001b[32m[I 2022-03-13 19:53:06,744]\u001b[0m Trial 6 finished with value: 0.8034755656543927 and parameters: {'p': 6, 'd': 0, 'q': 1, 'P': 3, 'D': 1, 'Q': 3}. Best is trial 3 with value: 0.80546408249679.\u001b[0m\n",
      "\u001b[32m[I 2022-03-13 19:53:22,925]\u001b[0m Trial 7 finished with value: 0.6406702496732875 and parameters: {'p': 7, 'd': 1, 'q': 7, 'P': 0, 'D': 1, 'Q': 0}. Best is trial 3 with value: 0.80546408249679.\u001b[0m\n"
     ]
    },
    {
     "name": "stdout",
     "output_type": "stream",
     "text": [
      "Optimization terminated successfully.\n",
      "         Current function value: -1.477304\n",
      "         Iterations: 23\n",
      "         Function evaluations: 4233\n",
      "Optimization terminated successfully.\n",
      "         Current function value: -1.533249\n",
      "         Iterations: 7\n",
      "         Function evaluations: 942\n"
     ]
    },
    {
     "name": "stderr",
     "output_type": "stream",
     "text": [
      "\u001b[32m[I 2022-03-13 19:53:30,141]\u001b[0m Trial 8 finished with value: 0.7841858292995022 and parameters: {'p': 1, 'd': 1, 'q': 3, 'P': 3, 'D': 0, 'Q': 3}. Best is trial 3 with value: 0.80546408249679.\u001b[0m\n",
      "\u001b[32m[I 2022-03-13 19:53:31,802]\u001b[0m Trial 9 finished with value: 0.6948115853829919 and parameters: {'p': 2, 'd': 0, 'q': 2, 'P': 2, 'D': 0, 'Q': 0}. Best is trial 3 with value: 0.80546408249679.\u001b[0m\n"
     ]
    },
    {
     "name": "stdout",
     "output_type": "stream",
     "text": [
      "Optimization terminated successfully.\n",
      "         Current function value: -1.540312\n",
      "         Iterations: 6\n",
      "         Function evaluations: 511\n",
      "Optimization terminated successfully.\n",
      "         Current function value: -1.528066\n",
      "         Iterations: 3\n",
      "         Function evaluations: 524\n"
     ]
    },
    {
     "name": "stderr",
     "output_type": "stream",
     "text": [
      "\u001b[32m[I 2022-03-13 19:53:36,669]\u001b[0m Trial 10 finished with value: 0.8025161973672776 and parameters: {'p': 4, 'd': 0, 'q': 8, 'P': 0, 'D': 1, 'Q': 2}. Best is trial 3 with value: 0.80546408249679.\u001b[0m\n"
     ]
    },
    {
     "name": "stdout",
     "output_type": "stream",
     "text": [
      "Optimization terminated successfully.\n",
      "         Current function value: -1.482532\n",
      "         Iterations: 14\n",
      "         Function evaluations: 2694\n"
     ]
    },
    {
     "name": "stderr",
     "output_type": "stream",
     "text": [
      "\u001b[32m[I 2022-03-13 19:54:08,011]\u001b[0m Trial 11 finished with value: 0.8046733132896797 and parameters: {'p': 5, 'd': 0, 'q': 5, 'P': 2, 'D': 1, 'Q': 3}. Best is trial 3 with value: 0.80546408249679.\u001b[0m\n"
     ]
    },
    {
     "name": "stdout",
     "output_type": "stream",
     "text": [
      "Optimization terminated successfully.\n",
      "         Current function value: -1.482532\n",
      "         Iterations: 14\n",
      "         Function evaluations: 2694\n"
     ]
    },
    {
     "name": "stderr",
     "output_type": "stream",
     "text": [
      "\u001b[32m[I 2022-03-13 19:54:38,901]\u001b[0m Trial 12 finished with value: 0.8046733132896797 and parameters: {'p': 5, 'd': 0, 'q': 5, 'P': 2, 'D': 1, 'Q': 3}. Best is trial 3 with value: 0.80546408249679.\u001b[0m\n"
     ]
    },
    {
     "name": "stdout",
     "output_type": "stream",
     "text": [
      "Optimization terminated successfully.\n",
      "         Current function value: -1.528851\n",
      "         Iterations: 14\n",
      "         Function evaluations: 2503\n"
     ]
    },
    {
     "name": "stderr",
     "output_type": "stream",
     "text": [
      "\u001b[32m[I 2022-03-13 19:54:58,044]\u001b[0m Trial 13 finished with value: 0.7971923358893005 and parameters: {'p': 4, 'd': 0, 'q': 5, 'P': 2, 'D': 1, 'Q': 2}. Best is trial 3 with value: 0.80546408249679.\u001b[0m\n"
     ]
    },
    {
     "name": "stdout",
     "output_type": "stream",
     "text": [
      "Optimization terminated successfully.\n",
      "         Current function value: -1.474969\n",
      "         Iterations: 12\n",
      "         Function evaluations: 2676\n"
     ]
    },
    {
     "name": "stderr",
     "output_type": "stream",
     "text": [
      "\u001b[32m[I 2022-03-13 19:55:33,849]\u001b[0m Trial 14 finished with value: 0.8026719989338615 and parameters: {'p': 5, 'd': 0, 'q': 8, 'P': 1, 'D': 1, 'Q': 3}. Best is trial 3 with value: 0.80546408249679.\u001b[0m\n"
     ]
    },
    {
     "name": "stdout",
     "output_type": "stream",
     "text": [
      "Optimization terminated successfully.\n",
      "         Current function value: -1.528658\n",
      "         Iterations: 7\n",
      "         Function evaluations: 995\n"
     ]
    },
    {
     "name": "stderr",
     "output_type": "stream",
     "text": [
      "\u001b[32m[I 2022-03-13 19:55:42,088]\u001b[0m Trial 15 finished with value: 0.8047354971456923 and parameters: {'p': 0, 'd': 0, 'q': 6, 'P': 2, 'D': 1, 'Q': 2}. Best is trial 3 with value: 0.80546408249679.\u001b[0m\n",
      "\u001b[32m[I 2022-03-13 19:55:44,033]\u001b[0m Trial 16 finished with value: 0.8048342618410466 and parameters: {'p': 0, 'd': 0, 'q': 6, 'P': 0, 'D': 1, 'Q': 1}. Best is trial 3 with value: 0.80546408249679.\u001b[0m\n"
     ]
    },
    {
     "name": "stdout",
     "output_type": "stream",
     "text": [
      "Optimization terminated successfully.\n",
      "         Current function value: -1.587189\n",
      "         Iterations: 3\n",
      "         Function evaluations: 315\n"
     ]
    },
    {
     "name": "stderr",
     "output_type": "stream",
     "text": [
      "\u001b[32m[I 2022-03-13 19:55:52,471]\u001b[0m Trial 17 finished with value: 0.8008081420126468 and parameters: {'p': 0, 'd': 1, 'q': 7, 'P': 0, 'D': 1, 'Q': 1}. Best is trial 3 with value: 0.80546408249679.\u001b[0m\n"
     ]
    },
    {
     "name": "stdout",
     "output_type": "stream",
     "text": [
      "Optimization terminated successfully.\n",
      "         Current function value: -1.564329\n",
      "         Iterations: 10\n",
      "         Function evaluations: 1386\n"
     ]
    },
    {
     "name": "stderr",
     "output_type": "stream",
     "text": [
      "\u001b[32m[I 2022-03-13 19:55:54,817]\u001b[0m Trial 18 finished with value: 0.8019168626659393 and parameters: {'p': 3, 'd': 0, 'q': 6, 'P': 0, 'D': 1, 'Q': 1}. Best is trial 3 with value: 0.80546408249679.\u001b[0m\n"
     ]
    },
    {
     "name": "stdout",
     "output_type": "stream",
     "text": [
      "Optimization terminated successfully.\n",
      "         Current function value: -1.589634\n",
      "         Iterations: 3\n",
      "         Function evaluations: 398\n"
     ]
    },
    {
     "name": "stderr",
     "output_type": "stream",
     "text": [
      "\u001b[32m[I 2022-03-13 19:55:56,302]\u001b[0m Trial 19 finished with value: 0.801083497089821 and parameters: {'p': 1, 'd': 0, 'q': 4, 'P': 0, 'D': 1, 'Q': 1}. Best is trial 3 with value: 0.80546408249679.\u001b[0m\n"
     ]
    },
    {
     "name": "stdout",
     "output_type": "stream",
     "text": [
      "Optimization terminated successfully.\n",
      "         Current function value: -1.592090\n",
      "         Iterations: 3\n",
      "         Function evaluations: 277\n",
      "Optimization terminated successfully.\n",
      "         Current function value: -1.565738\n",
      "         Iterations: 13\n",
      "         Function evaluations: 2907\n"
     ]
    },
    {
     "name": "stderr",
     "output_type": "stream",
     "text": [
      "\u001b[32m[I 2022-03-13 19:56:14,454]\u001b[0m Trial 20 finished with value: 0.7742256181458264 and parameters: {'p': 3, 'd': 1, 'q': 8, 'P': 1, 'D': 0, 'Q': 2}. Best is trial 3 with value: 0.80546408249679.\u001b[0m\n"
     ]
    },
    {
     "name": "stdout",
     "output_type": "stream",
     "text": [
      "Optimization terminated successfully.\n",
      "         Current function value: -1.528658\n",
      "         Iterations: 7\n",
      "         Function evaluations: 995\n"
     ]
    },
    {
     "name": "stderr",
     "output_type": "stream",
     "text": [
      "\u001b[32m[I 2022-03-13 19:56:23,200]\u001b[0m Trial 21 finished with value: 0.8047354971456923 and parameters: {'p': 0, 'd': 0, 'q': 6, 'P': 2, 'D': 1, 'Q': 2}. Best is trial 3 with value: 0.80546408249679.\u001b[0m\n"
     ]
    },
    {
     "name": "stdout",
     "output_type": "stream",
     "text": [
      "Optimization terminated successfully.\n",
      "         Current function value: -1.530786\n",
      "         Iterations: 6\n",
      "         Function evaluations: 847\n"
     ]
    },
    {
     "name": "stderr",
     "output_type": "stream",
     "text": [
      "\u001b[32m[I 2022-03-13 19:56:30,717]\u001b[0m Trial 22 finished with value: 0.8033625947533647 and parameters: {'p': 1, 'd': 0, 'q': 6, 'P': 1, 'D': 1, 'Q': 2}. Best is trial 3 with value: 0.80546408249679.\u001b[0m\n"
     ]
    },
    {
     "name": "stdout",
     "output_type": "stream",
     "text": [
      "Optimization terminated successfully.\n",
      "         Current function value: -1.524557\n",
      "         Iterations: 3\n",
      "         Function evaluations: 387\n"
     ]
    },
    {
     "name": "stderr",
     "output_type": "stream",
     "text": [
      "\u001b[32m[I 2022-03-13 19:56:34,184]\u001b[0m Trial 23 finished with value: 0.8047642814974822 and parameters: {'p': 0, 'd': 0, 'q': 7, 'P': 0, 'D': 1, 'Q': 2}. Best is trial 3 with value: 0.80546408249679.\u001b[0m\n",
      "\u001b[32m[I 2022-03-13 19:56:36,523]\u001b[0m Trial 24 finished with value: 0.8043559132648105 and parameters: {'p': 2, 'd': 0, 'q': 7, 'P': 0, 'D': 1, 'Q': 1}. Best is trial 3 with value: 0.80546408249679.\u001b[0m\n"
     ]
    },
    {
     "name": "stdout",
     "output_type": "stream",
     "text": [
      "Optimization terminated successfully.\n",
      "         Current function value: -1.583817\n",
      "         Iterations: 3\n",
      "         Function evaluations: 421\n",
      "Optimization terminated successfully.\n",
      "         Current function value: -1.528130\n",
      "         Iterations: 3\n",
      "         Function evaluations: 456\n"
     ]
    },
    {
     "name": "stderr",
     "output_type": "stream",
     "text": [
      "\u001b[32m[I 2022-03-13 19:56:40,738]\u001b[0m Trial 25 finished with value: 0.8046179506001521 and parameters: {'p': 1, 'd': 0, 'q': 8, 'P': 0, 'D': 1, 'Q': 2}. Best is trial 3 with value: 0.80546408249679.\u001b[0m\n",
      "\u001b[32m[I 2022-03-13 19:56:42,714]\u001b[0m Trial 26 finished with value: 0.8048073891400378 and parameters: {'p': 0, 'd': 0, 'q': 7, 'P': 0, 'D': 1, 'Q': 1}. Best is trial 3 with value: 0.80546408249679.\u001b[0m\n"
     ]
    },
    {
     "name": "stdout",
     "output_type": "stream",
     "text": [
      "Optimization terminated successfully.\n",
      "         Current function value: -1.584184\n",
      "         Iterations: 3\n",
      "         Function evaluations: 356\n"
     ]
    },
    {
     "name": "stderr",
     "output_type": "stream",
     "text": [
      "\u001b[32m[I 2022-03-13 19:56:48,751]\u001b[0m Trial 27 finished with value: 0.7987476874328043 and parameters: {'p': 4, 'd': 0, 'q': 5, 'P': 0, 'D': 1, 'Q': 1}. Best is trial 3 with value: 0.80546408249679.\u001b[0m\n"
     ]
    },
    {
     "name": "stdout",
     "output_type": "stream",
     "text": [
      "Optimization terminated successfully.\n",
      "         Current function value: -1.587797\n",
      "         Iterations: 8\n",
      "         Function evaluations: 1165\n"
     ]
    },
    {
     "name": "stderr",
     "output_type": "stream",
     "text": [
      "\u001b[32m[I 2022-03-13 19:56:51,441]\u001b[0m Trial 28 finished with value: 0.8047756457839522 and parameters: {'p': 6, 'd': 0, 'q': 0, 'P': 1, 'D': 1, 'Q': 1}. Best is trial 3 with value: 0.80546408249679.\u001b[0m\n"
     ]
    },
    {
     "name": "stdout",
     "output_type": "stream",
     "text": [
      "Optimization terminated successfully.\n",
      "         Current function value: -1.588911\n",
      "         Iterations: 5\n",
      "         Function evaluations: 569\n"
     ]
    },
    {
     "name": "stderr",
     "output_type": "stream",
     "text": [
      "\u001b[32m[I 2022-03-13 19:56:55,331]\u001b[0m Trial 29 finished with value: 0.6783534221526261 and parameters: {'p': 8, 'd': 1, 'q': 4, 'P': 0, 'D': 0, 'Q': 1}. Best is trial 3 with value: 0.80546408249679.\u001b[0m\n"
     ]
    },
    {
     "name": "stdout",
     "output_type": "stream",
     "text": [
      "Optimization terminated successfully.\n",
      "         Current function value: -1.488225\n",
      "         Iterations: 10\n",
      "         Function evaluations: 1594\n"
     ]
    },
    {
     "name": "stderr",
     "output_type": "stream",
     "text": [
      "\u001b[32m[I 2022-03-13 19:56:59,730]\u001b[0m Trial 30 finished with value: 0.632428993955446 and parameters: {'p': 2, 'd': 0, 'q': 7, 'P': 0, 'D': 1, 'Q': 0}. Best is trial 3 with value: 0.80546408249679.\u001b[0m\n"
     ]
    },
    {
     "name": "stdout",
     "output_type": "stream",
     "text": [
      "Optimization terminated successfully.\n",
      "         Current function value: -1.435649\n",
      "         Iterations: 11\n",
      "         Function evaluations: 1558\n"
     ]
    },
    {
     "name": "stderr",
     "output_type": "stream",
     "text": [
      "\u001b[32m[I 2022-03-13 19:57:02,396]\u001b[0m Trial 31 finished with value: 0.8047756457839522 and parameters: {'p': 6, 'd': 0, 'q': 0, 'P': 1, 'D': 1, 'Q': 1}. Best is trial 3 with value: 0.80546408249679.\u001b[0m\n"
     ]
    },
    {
     "name": "stdout",
     "output_type": "stream",
     "text": [
      "Optimization terminated successfully.\n",
      "         Current function value: -1.588911\n",
      "         Iterations: 5\n",
      "         Function evaluations: 569\n",
      "Optimization terminated successfully.\n",
      "         Current function value: -1.583705\n",
      "         Iterations: 8\n",
      "         Function evaluations: 1302\n"
     ]
    },
    {
     "name": "stderr",
     "output_type": "stream",
     "text": [
      "\u001b[32m[I 2022-03-13 19:57:09,094]\u001b[0m Trial 32 finished with value: 0.8019494025926246 and parameters: {'p': 7, 'd': 0, 'q': 3, 'P': 1, 'D': 1, 'Q': 1}. Best is trial 3 with value: 0.80546408249679.\u001b[0m\n",
      "\u001b[32m[I 2022-03-13 19:57:15,619]\u001b[0m Trial 33 finished with value: 0.8006902669526594 and parameters: {'p': 6, 'd': 0, 'q': 3, 'P': 0, 'D': 1, 'Q': 1}. Best is trial 3 with value: 0.80546408249679.\u001b[0m\n"
     ]
    },
    {
     "name": "stdout",
     "output_type": "stream",
     "text": [
      "Optimization terminated successfully.\n",
      "         Current function value: -1.603336\n",
      "         Iterations: 11\n",
      "         Function evaluations: 1454\n",
      "Optimization terminated successfully.\n",
      "         Current function value: -1.586540\n",
      "         Iterations: 5\n",
      "         Function evaluations: 850\n"
     ]
    },
    {
     "name": "stderr",
     "output_type": "stream",
     "text": [
      "\u001b[32m[I 2022-03-13 19:57:20,091]\u001b[0m Trial 34 finished with value: 0.8030454218050456 and parameters: {'p': 5, 'd': 0, 'q': 6, 'P': 1, 'D': 1, 'Q': 1}. Best is trial 3 with value: 0.80546408249679.\u001b[0m\n",
      "\u001b[32m[I 2022-03-13 19:57:20,512]\u001b[0m Trial 35 finished with value: 0.5827376518933871 and parameters: {'p': 7, 'd': 0, 'q': 0, 'P': 0, 'D': 1, 'Q': 0}. Best is trial 3 with value: 0.80546408249679.\u001b[0m\n"
     ]
    },
    {
     "name": "stdout",
     "output_type": "stream",
     "text": [
      "Optimization terminated successfully.\n",
      "         Current function value: -1.411381\n",
      "         Iterations: 1\n",
      "         Function evaluations: 296\n"
     ]
    },
    {
     "name": "stderr",
     "output_type": "stream",
     "text": [
      "\u001b[32m[I 2022-03-13 19:57:24,337]\u001b[0m Trial 36 finished with value: 0.804896825111489 and parameters: {'p': 8, 'd': 0, 'q': 1, 'P': 1, 'D': 1, 'Q': 1}. Best is trial 3 with value: 0.80546408249679.\u001b[0m\n"
     ]
    },
    {
     "name": "stdout",
     "output_type": "stream",
     "text": [
      "Optimization terminated successfully.\n",
      "         Current function value: -1.581946\n",
      "         Iterations: 5\n",
      "         Function evaluations: 786\n"
     ]
    },
    {
     "name": "stderr",
     "output_type": "stream",
     "text": [
      "\u001b[32m[I 2022-03-13 19:57:24,604]\u001b[0m Trial 37 finished with value: 0.5832224778401708 and parameters: {'p': 8, 'd': 0, 'q': 1, 'P': 0, 'D': 1, 'Q': 0}. Best is trial 3 with value: 0.80546408249679.\u001b[0m\n"
     ]
    },
    {
     "name": "stdout",
     "output_type": "stream",
     "text": [
      "Optimization terminated successfully.\n",
      "         Current function value: -1.405722\n",
      "         Iterations: 1\n",
      "         Function evaluations: 145\n"
     ]
    },
    {
     "name": "stderr",
     "output_type": "stream",
     "text": [
      "\u001b[32m[I 2022-03-13 19:57:28,141]\u001b[0m Trial 38 finished with value: 0.7828184634873083 and parameters: {'p': 8, 'd': 1, 'q': 2, 'P': 1, 'D': 0, 'Q': 1}. Best is trial 3 with value: 0.80546408249679.\u001b[0m\n"
     ]
    },
    {
     "name": "stdout",
     "output_type": "stream",
     "text": [
      "Optimization terminated successfully.\n",
      "         Current function value: -1.623104\n",
      "         Iterations: 6\n",
      "         Function evaluations: 898\n"
     ]
    },
    {
     "name": "stderr",
     "output_type": "stream",
     "text": [
      "\u001b[32m[I 2022-03-13 19:57:30,331]\u001b[0m Trial 39 finished with value: 0.8046670348692126 and parameters: {'p': 1, 'd': 0, 'q': 7, 'P': 0, 'D': 1, 'Q': 1}. Best is trial 3 with value: 0.80546408249679.\u001b[0m\n"
     ]
    },
    {
     "name": "stdout",
     "output_type": "stream",
     "text": [
      "Optimization terminated successfully.\n",
      "         Current function value: -1.583967\n",
      "         Iterations: 3\n",
      "         Function evaluations: 394\n",
      "Optimization terminated successfully.\n",
      "         Current function value: -1.480835\n",
      "         Iterations: 10\n",
      "         Function evaluations: 1774\n"
     ]
    },
    {
     "name": "stderr",
     "output_type": "stream",
     "text": [
      "\u001b[32m[I 2022-03-13 19:57:48,194]\u001b[0m Trial 40 finished with value: 0.7971096053836728 and parameters: {'p': 3, 'd': 0, 'q': 5, 'P': 3, 'D': 1, 'Q': 2}. Best is trial 3 with value: 0.80546408249679.\u001b[0m\n",
      "\u001b[32m[I 2022-03-13 19:57:50,875]\u001b[0m Trial 41 finished with value: 0.8047756457839522 and parameters: {'p': 6, 'd': 0, 'q': 0, 'P': 1, 'D': 1, 'Q': 1}. Best is trial 3 with value: 0.80546408249679.\u001b[0m\n"
     ]
    },
    {
     "name": "stdout",
     "output_type": "stream",
     "text": [
      "Optimization terminated successfully.\n",
      "         Current function value: -1.588911\n",
      "         Iterations: 5\n",
      "         Function evaluations: 569\n"
     ]
    },
    {
     "name": "stderr",
     "output_type": "stream",
     "text": [
      "\u001b[32m[I 2022-03-13 19:57:54,323]\u001b[0m Trial 42 finished with value: 0.8053406664946408 and parameters: {'p': 7, 'd': 0, 'q': 1, 'P': 1, 'D': 1, 'Q': 1}. Best is trial 3 with value: 0.80546408249679.\u001b[0m\n"
     ]
    },
    {
     "name": "stdout",
     "output_type": "stream",
     "text": [
      "Optimization terminated successfully.\n",
      "         Current function value: -1.587397\n",
      "         Iterations: 5\n",
      "         Function evaluations: 667\n"
     ]
    },
    {
     "name": "stderr",
     "output_type": "stream",
     "text": [
      "\u001b[32m[I 2022-03-13 19:57:54,925]\u001b[0m Trial 43 finished with value: 0.6811467884690727 and parameters: {'p': 7, 'd': 0, 'q': 1, 'P': 1, 'D': 1, 'Q': 0}. Best is trial 3 with value: 0.80546408249679.\u001b[0m\n"
     ]
    },
    {
     "name": "stdout",
     "output_type": "stream",
     "text": [
      "Optimization terminated successfully.\n",
      "         Current function value: -1.506144\n",
      "         Iterations: 2\n",
      "         Function evaluations: 226\n",
      "Optimization terminated successfully.\n",
      "         Current function value: -1.581826\n",
      "         Iterations: 5\n",
      "         Function evaluations: 826\n"
     ]
    },
    {
     "name": "stderr",
     "output_type": "stream",
     "text": [
      "\u001b[32m[I 2022-03-13 19:57:59,018]\u001b[0m Trial 44 finished with value: 0.8046248414033754 and parameters: {'p': 8, 'd': 0, 'q': 2, 'P': 1, 'D': 1, 'Q': 1}. Best is trial 3 with value: 0.80546408249679.\u001b[0m\n",
      "\u001b[32m[I 2022-03-13 19:58:00,534]\u001b[0m Trial 45 finished with value: 0.8065950147233666 and parameters: {'p': 7, 'd': 0, 'q': 1, 'P': 0, 'D': 1, 'Q': 1}. Best is trial 45 with value: 0.8065950147233666.\u001b[0m\n"
     ]
    },
    {
     "name": "stdout",
     "output_type": "stream",
     "text": [
      "Optimization terminated successfully.\n",
      "         Current function value: -1.609114\n",
      "         Iterations: 3\n",
      "         Function evaluations: 336\n",
      "Optimization terminated successfully.\n",
      "         Current function value: -1.560463\n",
      "         Iterations: 7\n",
      "         Function evaluations: 1044\n"
     ]
    },
    {
     "name": "stderr",
     "output_type": "stream",
     "text": [
      "\u001b[32m[I 2022-03-13 19:58:07,399]\u001b[0m Trial 46 finished with value: 0.8063644703112891 and parameters: {'p': 7, 'd': 0, 'q': 1, 'P': 1, 'D': 1, 'Q': 2}. Best is trial 45 with value: 0.8065950147233666.\u001b[0m\n"
     ]
    },
    {
     "name": "stdout",
     "output_type": "stream",
     "text": [
      "Optimization terminated successfully.\n",
      "         Current function value: -1.560463\n",
      "         Iterations: 7\n",
      "         Function evaluations: 1044\n"
     ]
    },
    {
     "name": "stderr",
     "output_type": "stream",
     "text": [
      "\u001b[32m[I 2022-03-13 19:58:14,275]\u001b[0m Trial 47 finished with value: 0.8063644703112891 and parameters: {'p': 7, 'd': 0, 'q': 1, 'P': 1, 'D': 1, 'Q': 2}. Best is trial 45 with value: 0.8065950147233666.\u001b[0m\n"
     ]
    },
    {
     "name": "stdout",
     "output_type": "stream",
     "text": [
      "Optimization terminated successfully.\n",
      "         Current function value: -1.592845\n",
      "         Iterations: 4\n",
      "         Function evaluations: 555\n"
     ]
    },
    {
     "name": "stderr",
     "output_type": "stream",
     "text": [
      "\u001b[32m[I 2022-03-13 19:58:17,479]\u001b[0m Trial 48 finished with value: 0.8017856114434723 and parameters: {'p': 7, 'd': 0, 'q': 1, 'P': 2, 'D': 0, 'Q': 2}. Best is trial 45 with value: 0.8065950147233666.\u001b[0m\n"
     ]
    },
    {
     "name": "stdout",
     "output_type": "stream",
     "text": [
      "Optimization terminated successfully.\n",
      "         Current function value: -1.554429\n",
      "         Iterations: 6\n",
      "         Function evaluations: 978\n"
     ]
    },
    {
     "name": "stderr",
     "output_type": "stream",
     "text": [
      "\u001b[32m[I 2022-03-13 19:58:24,541]\u001b[0m Trial 49 finished with value: 0.8070952512975006 and parameters: {'p': 7, 'd': 0, 'q': 2, 'P': 1, 'D': 1, 'Q': 2}. Best is trial 49 with value: 0.8070952512975006.\u001b[0m\n",
      "\u001b[32m[I 2022-03-13 19:58:24,550]\u001b[0m A new study created in memory with name: no-name-7c2314ba-98a3-4a9d-8c06-dd2ba46d8dc0\u001b[0m\n"
     ]
    },
    {
     "name": "stdout",
     "output_type": "stream",
     "text": [
      "Optimization terminated successfully.\n",
      "         Current function value: -1.342710\n",
      "         Iterations: 14\n",
      "         Function evaluations: 2970\n"
     ]
    },
    {
     "name": "stderr",
     "output_type": "stream",
     "text": [
      "\u001b[32m[I 2022-03-13 19:58:48,644]\u001b[0m Trial 0 finished with value: 0.3608486548031362 and parameters: {'p': 8, 'd': 1, 'q': 4, 'P': 3, 'D': 0, 'Q': 1}. Best is trial 0 with value: 0.3608486548031362.\u001b[0m\n"
     ]
    },
    {
     "name": "stdout",
     "output_type": "stream",
     "text": [
      "Optimization terminated successfully.\n",
      "         Current function value: -1.243632\n",
      "         Iterations: 3\n",
      "         Function evaluations: 279\n"
     ]
    },
    {
     "name": "stderr",
     "output_type": "stream",
     "text": [
      "\u001b[32m[I 2022-03-13 19:58:51,612]\u001b[0m Trial 1 finished with value: -0.008268260688168327 and parameters: {'p': 3, 'd': 1, 'q': 0, 'P': 1, 'D': 1, 'Q': 3}. Best is trial 0 with value: 0.3608486548031362.\u001b[0m\n"
     ]
    },
    {
     "name": "stdout",
     "output_type": "stream",
     "text": [
      "Optimization terminated successfully.\n",
      "         Current function value: -1.269791\n",
      "         Iterations: 8\n",
      "         Function evaluations: 1767\n"
     ]
    },
    {
     "name": "stderr",
     "output_type": "stream",
     "text": [
      "\u001b[32m[I 2022-03-13 19:59:04,054]\u001b[0m Trial 2 finished with value: 0.17470357773191725 and parameters: {'p': 8, 'd': 0, 'q': 6, 'P': 0, 'D': 0, 'Q': 3}. Best is trial 0 with value: 0.3608486548031362.\u001b[0m\n",
      "\u001b[32m[I 2022-03-13 19:59:04,910]\u001b[0m Trial 3 finished with value: 0.2910810628589694 and parameters: {'p': 0, 'd': 0, 'q': 5, 'P': 2, 'D': 1, 'Q': 0}. Best is trial 0 with value: 0.3608486548031362.\u001b[0m\n"
     ]
    },
    {
     "name": "stdout",
     "output_type": "stream",
     "text": [
      "Optimization terminated successfully.\n",
      "         Current function value: -1.332174\n",
      "         Iterations: 3\n",
      "         Function evaluations: 295\n"
     ]
    },
    {
     "name": "stderr",
     "output_type": "stream",
     "text": [
      "\u001b[32m[I 2022-03-13 19:59:06,639]\u001b[0m Trial 4 finished with value: 0.4734278437195638 and parameters: {'p': 0, 'd': 0, 'q': 0, 'P': 3, 'D': 0, 'Q': 3}. Best is trial 4 with value: 0.4734278437195638.\u001b[0m\n"
     ]
    },
    {
     "name": "stdout",
     "output_type": "stream",
     "text": [
      "Optimization terminated successfully.\n",
      "         Current function value: -1.382683\n",
      "         Iterations: 3\n",
      "         Function evaluations: 259\n"
     ]
    },
    {
     "name": "stderr",
     "output_type": "stream",
     "text": [
      "\u001b[32m[I 2022-03-13 19:59:08,795]\u001b[0m Trial 5 finished with value: -0.11341152083513895 and parameters: {'p': 4, 'd': 0, 'q': 8, 'P': 0, 'D': 0, 'Q': 1}. Best is trial 4 with value: 0.4734278437195638.\u001b[0m\n"
     ]
    },
    {
     "name": "stdout",
     "output_type": "stream",
     "text": [
      "Optimization terminated successfully.\n",
      "         Current function value: -1.285492\n",
      "         Iterations: 4\n",
      "         Function evaluations: 835\n",
      "Optimization terminated successfully.\n",
      "         Current function value: -1.292933\n",
      "         Iterations: 27\n",
      "         Function evaluations: 5742\n"
     ]
    },
    {
     "name": "stderr",
     "output_type": "stream",
     "text": [
      "\u001b[32m[I 2022-03-13 20:00:16,199]\u001b[0m Trial 6 finished with value: 0.3077553447884914 and parameters: {'p': 8, 'd': 1, 'q': 6, 'P': 3, 'D': 1, 'Q': 0}. Best is trial 4 with value: 0.4734278437195638.\u001b[0m\n"
     ]
    },
    {
     "name": "stdout",
     "output_type": "stream",
     "text": [
      "Optimization terminated successfully.\n",
      "         Current function value: -1.318438\n",
      "         Iterations: 17\n",
      "         Function evaluations: 3529\n"
     ]
    },
    {
     "name": "stderr",
     "output_type": "stream",
     "text": [
      "\u001b[32m[I 2022-03-13 20:00:57,053]\u001b[0m Trial 7 finished with value: 0.39925871380319944 and parameters: {'p': 6, 'd': 1, 'q': 6, 'P': 1, 'D': 1, 'Q': 3}. Best is trial 4 with value: 0.4734278437195638.\u001b[0m\n"
     ]
    },
    {
     "name": "stdout",
     "output_type": "stream",
     "text": [
      "Optimization terminated successfully.\n",
      "         Current function value: -1.334267\n",
      "         Iterations: 12\n",
      "         Function evaluations: 3039\n"
     ]
    },
    {
     "name": "stderr",
     "output_type": "stream",
     "text": [
      "\u001b[32m[I 2022-03-13 20:01:22,886]\u001b[0m Trial 8 finished with value: 0.5157216872327254 and parameters: {'p': 8, 'd': 0, 'q': 8, 'P': 3, 'D': 1, 'Q': 1}. Best is trial 8 with value: 0.5157216872327254.\u001b[0m\n",
      "\u001b[32m[I 2022-03-13 20:01:25,711]\u001b[0m Trial 9 finished with value: 0.10944640424840157 and parameters: {'p': 2, 'd': 1, 'q': 8, 'P': 1, 'D': 1, 'Q': 0}. Best is trial 8 with value: 0.5157216872327254.\u001b[0m\n"
     ]
    },
    {
     "name": "stdout",
     "output_type": "stream",
     "text": [
      "Optimization terminated successfully.\n",
      "         Current function value: -1.324010\n",
      "         Iterations: 4\n",
      "         Function evaluations: 641\n",
      "Optimization terminated successfully.\n",
      "         Current function value: -1.363692\n",
      "         Iterations: 13\n",
      "         Function evaluations: 2369\n"
     ]
    },
    {
     "name": "stderr",
     "output_type": "stream",
     "text": [
      "\u001b[32m[I 2022-03-13 20:01:43,482]\u001b[0m Trial 10 finished with value: 0.5411736735067976 and parameters: {'p': 6, 'd': 0, 'q': 3, 'P': 2, 'D': 1, 'Q': 2}. Best is trial 10 with value: 0.5411736735067976.\u001b[0m\n"
     ]
    },
    {
     "name": "stdout",
     "output_type": "stream",
     "text": [
      "Optimization terminated successfully.\n",
      "         Current function value: -1.363692\n",
      "         Iterations: 13\n",
      "         Function evaluations: 2369\n"
     ]
    },
    {
     "name": "stderr",
     "output_type": "stream",
     "text": [
      "\u001b[32m[I 2022-03-13 20:02:00,983]\u001b[0m Trial 11 finished with value: 0.5411736735067976 and parameters: {'p': 6, 'd': 0, 'q': 3, 'P': 2, 'D': 1, 'Q': 2}. Best is trial 10 with value: 0.5411736735067976.\u001b[0m\n"
     ]
    },
    {
     "name": "stdout",
     "output_type": "stream",
     "text": [
      "Optimization terminated successfully.\n",
      "         Current function value: -1.364968\n",
      "         Iterations: 4\n",
      "         Function evaluations: 655\n"
     ]
    },
    {
     "name": "stderr",
     "output_type": "stream",
     "text": [
      "\u001b[32m[I 2022-03-13 20:02:06,064]\u001b[0m Trial 12 finished with value: 0.533348459241061 and parameters: {'p': 6, 'd': 0, 'q': 2, 'P': 2, 'D': 1, 'Q': 2}. Best is trial 10 with value: 0.5411736735067976.\u001b[0m\n"
     ]
    },
    {
     "name": "stdout",
     "output_type": "stream",
     "text": [
      "Optimization terminated successfully.\n",
      "         Current function value: -1.363692\n",
      "         Iterations: 13\n",
      "         Function evaluations: 2369\n"
     ]
    },
    {
     "name": "stderr",
     "output_type": "stream",
     "text": [
      "\u001b[32m[I 2022-03-13 20:02:23,658]\u001b[0m Trial 13 finished with value: 0.5411736735067976 and parameters: {'p': 6, 'd': 0, 'q': 3, 'P': 2, 'D': 1, 'Q': 2}. Best is trial 10 with value: 0.5411736735067976.\u001b[0m\n"
     ]
    },
    {
     "name": "stdout",
     "output_type": "stream",
     "text": [
      "Optimization terminated successfully.\n",
      "         Current function value: -1.364076\n",
      "         Iterations: 5\n",
      "         Function evaluations: 764\n"
     ]
    },
    {
     "name": "stderr",
     "output_type": "stream",
     "text": [
      "\u001b[32m[I 2022-03-13 20:02:29,363]\u001b[0m Trial 14 finished with value: 0.5343307361101723 and parameters: {'p': 5, 'd': 0, 'q': 2, 'P': 2, 'D': 1, 'Q': 2}. Best is trial 10 with value: 0.5411736735067976.\u001b[0m\n"
     ]
    },
    {
     "name": "stdout",
     "output_type": "stream",
     "text": [
      "Optimization terminated successfully.\n",
      "         Current function value: -1.364076\n",
      "         Iterations: 5\n",
      "         Function evaluations: 764\n"
     ]
    },
    {
     "name": "stderr",
     "output_type": "stream",
     "text": [
      "\u001b[32m[I 2022-03-13 20:02:35,148]\u001b[0m Trial 15 finished with value: 0.5343307361101723 and parameters: {'p': 5, 'd': 0, 'q': 2, 'P': 2, 'D': 1, 'Q': 2}. Best is trial 10 with value: 0.5411736735067976.\u001b[0m\n"
     ]
    },
    {
     "name": "stdout",
     "output_type": "stream",
     "text": [
      "Optimization terminated successfully.\n",
      "         Current function value: -1.343007\n",
      "         Iterations: 41\n",
      "         Function evaluations: 7468\n"
     ]
    },
    {
     "name": "stderr",
     "output_type": "stream",
     "text": [
      "\u001b[32m[I 2022-03-13 20:03:29,745]\u001b[0m Trial 16 finished with value: 0.5248874118642669 and parameters: {'p': 7, 'd': 0, 'q': 4, 'P': 1, 'D': 1, 'Q': 2}. Best is trial 10 with value: 0.5411736735067976.\u001b[0m\n",
      "\u001b[32m[I 2022-03-13 20:03:31,143]\u001b[0m Trial 17 finished with value: 0.45332070322757845 and parameters: {'p': 4, 'd': 0, 'q': 1, 'P': 2, 'D': 0, 'Q': 1}. Best is trial 10 with value: 0.5411736735067976.\u001b[0m\n"
     ]
    },
    {
     "name": "stdout",
     "output_type": "stream",
     "text": [
      "Optimization terminated successfully.\n",
      "         Current function value: -1.412138\n",
      "         Iterations: 3\n",
      "         Function evaluations: 302\n"
     ]
    },
    {
     "name": "stderr",
     "output_type": "stream",
     "text": [
      "\u001b[32m[I 2022-03-13 20:03:36,645]\u001b[0m Trial 18 finished with value: 0.5348093812668592 and parameters: {'p': 2, 'd': 0, 'q': 3, 'P': 1, 'D': 1, 'Q': 2}. Best is trial 10 with value: 0.5411736735067976.\u001b[0m\n"
     ]
    },
    {
     "name": "stdout",
     "output_type": "stream",
     "text": [
      "Optimization terminated successfully.\n",
      "         Current function value: -1.370502\n",
      "         Iterations: 7\n",
      "         Function evaluations: 822\n",
      "Optimization terminated successfully.\n",
      "         Current function value: -1.315778\n",
      "         Iterations: 16\n",
      "         Function evaluations: 2502\n"
     ]
    },
    {
     "name": "stderr",
     "output_type": "stream",
     "text": [
      "\u001b[32m[I 2022-03-13 20:04:01,459]\u001b[0m Trial 19 finished with value: 0.5016554014516788 and parameters: {'p': 5, 'd': 0, 'q': 3, 'P': 3, 'D': 1, 'Q': 1}. Best is trial 10 with value: 0.5411736735067976.\u001b[0m\n"
     ]
    },
    {
     "name": "stdout",
     "output_type": "stream",
     "text": [
      "Optimization terminated successfully.\n",
      "         Current function value: -1.359438\n",
      "         Iterations: 6\n",
      "         Function evaluations: 1410\n"
     ]
    },
    {
     "name": "stderr",
     "output_type": "stream",
     "text": [
      "\u001b[32m[I 2022-03-13 20:04:13,417]\u001b[0m Trial 20 finished with value: 0.3639396223521386 and parameters: {'p': 7, 'd': 1, 'q': 5, 'P': 2, 'D': 0, 'Q': 3}. Best is trial 10 with value: 0.5411736735067976.\u001b[0m\n"
     ]
    },
    {
     "name": "stdout",
     "output_type": "stream",
     "text": [
      "Optimization terminated successfully.\n",
      "         Current function value: -1.363692\n",
      "         Iterations: 13\n",
      "         Function evaluations: 2369\n"
     ]
    },
    {
     "name": "stderr",
     "output_type": "stream",
     "text": [
      "\u001b[32m[I 2022-03-13 20:04:30,977]\u001b[0m Trial 21 finished with value: 0.5411736735067976 and parameters: {'p': 6, 'd': 0, 'q': 3, 'P': 2, 'D': 1, 'Q': 2}. Best is trial 10 with value: 0.5411736735067976.\u001b[0m\n"
     ]
    },
    {
     "name": "stdout",
     "output_type": "stream",
     "text": [
      "Optimization terminated successfully.\n",
      "         Current function value: -1.361323\n",
      "         Iterations: 5\n",
      "         Function evaluations: 812\n"
     ]
    },
    {
     "name": "stderr",
     "output_type": "stream",
     "text": [
      "\u001b[32m[I 2022-03-13 20:04:37,855]\u001b[0m Trial 22 finished with value: 0.5291838963537 and parameters: {'p': 7, 'd': 0, 'q': 1, 'P': 2, 'D': 1, 'Q': 2}. Best is trial 10 with value: 0.5411736735067976.\u001b[0m\n"
     ]
    },
    {
     "name": "stdout",
     "output_type": "stream",
     "text": [
      "Optimization terminated successfully.\n",
      "         Current function value: -1.363692\n",
      "         Iterations: 13\n",
      "         Function evaluations: 2369\n"
     ]
    },
    {
     "name": "stderr",
     "output_type": "stream",
     "text": [
      "\u001b[32m[I 2022-03-13 20:04:55,497]\u001b[0m Trial 23 finished with value: 0.5411736735067976 and parameters: {'p': 6, 'd': 0, 'q': 3, 'P': 2, 'D': 1, 'Q': 2}. Best is trial 10 with value: 0.5411736735067976.\u001b[0m\n"
     ]
    },
    {
     "name": "stdout",
     "output_type": "stream",
     "text": [
      "Optimization terminated successfully.\n",
      "         Current function value: -1.364998\n",
      "         Iterations: 34\n",
      "         Function evaluations: 5829\n"
     ]
    },
    {
     "name": "stderr",
     "output_type": "stream",
     "text": [
      "\u001b[32m[I 2022-03-13 20:05:37,776]\u001b[0m Trial 24 finished with value: 0.5060663891563727 and parameters: {'p': 5, 'd': 0, 'q': 4, 'P': 1, 'D': 1, 'Q': 2}. Best is trial 10 with value: 0.5411736735067976.\u001b[0m\n"
     ]
    },
    {
     "name": "stdout",
     "output_type": "stream",
     "text": [
      "Optimization terminated successfully.\n",
      "         Current function value: -1.360576\n",
      "         Iterations: 9\n",
      "         Function evaluations: 1643\n"
     ]
    },
    {
     "name": "stderr",
     "output_type": "stream",
     "text": [
      "\u001b[32m[I 2022-03-13 20:05:49,463]\u001b[0m Trial 25 finished with value: 0.5333685016877665 and parameters: {'p': 7, 'd': 0, 'q': 5, 'P': 2, 'D': 1, 'Q': 1}. Best is trial 10 with value: 0.5411736735067976.\u001b[0m\n"
     ]
    },
    {
     "name": "stdout",
     "output_type": "stream",
     "text": [
      "Optimization terminated successfully.\n",
      "         Current function value: -1.314384\n",
      "         Iterations: 3\n",
      "         Function evaluations: 471\n"
     ]
    },
    {
     "name": "stderr",
     "output_type": "stream",
     "text": [
      "\u001b[32m[I 2022-03-13 20:05:54,220]\u001b[0m Trial 26 finished with value: 0.49076012139144376 and parameters: {'p': 6, 'd': 0, 'q': 1, 'P': 3, 'D': 1, 'Q': 2}. Best is trial 10 with value: 0.5411736735067976.\u001b[0m\n"
     ]
    },
    {
     "name": "stdout",
     "output_type": "stream",
     "text": [
      "Optimization terminated successfully.\n",
      "         Current function value: -1.324488\n",
      "         Iterations: 6\n",
      "         Function evaluations: 833\n"
     ]
    },
    {
     "name": "stderr",
     "output_type": "stream",
     "text": [
      "\u001b[32m[I 2022-03-13 20:06:03,228]\u001b[0m Trial 27 finished with value: 0.5441039932767322 and parameters: {'p': 3, 'd': 0, 'q': 2, 'P': 2, 'D': 1, 'Q': 3}. Best is trial 27 with value: 0.5441039932767322.\u001b[0m\n"
     ]
    },
    {
     "name": "stdout",
     "output_type": "stream",
     "text": [
      "Optimization terminated successfully.\n",
      "         Current function value: -1.322010\n",
      "         Iterations: 5\n",
      "         Function evaluations: 628\n"
     ]
    },
    {
     "name": "stderr",
     "output_type": "stream",
     "text": [
      "\u001b[32m[I 2022-03-13 20:06:10,340]\u001b[0m Trial 28 finished with value: 0.5358880409795538 and parameters: {'p': 3, 'd': 0, 'q': 2, 'P': 1, 'D': 1, 'Q': 3}. Best is trial 27 with value: 0.5441039932767322.\u001b[0m\n"
     ]
    },
    {
     "name": "stdout",
     "output_type": "stream",
     "text": [
      "Optimization terminated successfully.\n",
      "         Current function value: -1.352539\n",
      "         Iterations: 5\n",
      "         Function evaluations: 882\n"
     ]
    },
    {
     "name": "stderr",
     "output_type": "stream",
     "text": [
      "\u001b[32m[I 2022-03-13 20:06:17,407]\u001b[0m Trial 29 finished with value: 0.3770465411322611 and parameters: {'p': 3, 'd': 1, 'q': 4, 'P': 3, 'D': 0, 'Q': 3}. Best is trial 27 with value: 0.5441039932767322.\u001b[0m\n"
     ]
    },
    {
     "name": "stdout",
     "output_type": "stream",
     "text": [
      "Optimization terminated successfully.\n",
      "         Current function value: -1.333229\n",
      "         Iterations: 4\n",
      "         Function evaluations: 433\n"
     ]
    },
    {
     "name": "stderr",
     "output_type": "stream",
     "text": [
      "\u001b[32m[I 2022-03-13 20:06:21,281]\u001b[0m Trial 30 finished with value: 0.5047783912301776 and parameters: {'p': 1, 'd': 0, 'q': 1, 'P': 3, 'D': 1, 'Q': 3}. Best is trial 27 with value: 0.5441039932767322.\u001b[0m\n"
     ]
    },
    {
     "name": "stdout",
     "output_type": "stream",
     "text": [
      "Optimization terminated successfully.\n",
      "         Current function value: -1.368307\n",
      "         Iterations: 12\n",
      "         Function evaluations: 1956\n"
     ]
    },
    {
     "name": "stderr",
     "output_type": "stream",
     "text": [
      "\u001b[32m[I 2022-03-13 20:06:34,340]\u001b[0m Trial 31 finished with value: 0.5269663261898057 and parameters: {'p': 4, 'd': 0, 'q': 3, 'P': 2, 'D': 1, 'Q': 2}. Best is trial 27 with value: 0.5441039932767322.\u001b[0m\n"
     ]
    },
    {
     "name": "stdout",
     "output_type": "stream",
     "text": [
      "Optimization terminated successfully.\n",
      "         Current function value: -1.364076\n",
      "         Iterations: 5\n",
      "         Function evaluations: 764\n"
     ]
    },
    {
     "name": "stderr",
     "output_type": "stream",
     "text": [
      "\u001b[32m[I 2022-03-13 20:06:40,144]\u001b[0m Trial 32 finished with value: 0.5343307361101723 and parameters: {'p': 5, 'd': 0, 'q': 2, 'P': 2, 'D': 1, 'Q': 2}. Best is trial 27 with value: 0.5441039932767322.\u001b[0m\n"
     ]
    },
    {
     "name": "stdout",
     "output_type": "stream",
     "text": [
      "Optimization terminated successfully.\n",
      "         Current function value: -1.326209\n",
      "         Iterations: 8\n",
      "         Function evaluations: 1087\n"
     ]
    },
    {
     "name": "stderr",
     "output_type": "stream",
     "text": [
      "\u001b[32m[I 2022-03-13 20:06:51,143]\u001b[0m Trial 33 finished with value: 0.5434198320196921 and parameters: {'p': 2, 'd': 0, 'q': 3, 'P': 2, 'D': 1, 'Q': 3}. Best is trial 27 with value: 0.5441039932767322.\u001b[0m\n"
     ]
    },
    {
     "name": "stdout",
     "output_type": "stream",
     "text": [
      "Optimization terminated successfully.\n",
      "         Current function value: -1.320442\n",
      "         Iterations: 6\n",
      "         Function evaluations: 869\n"
     ]
    },
    {
     "name": "stderr",
     "output_type": "stream",
     "text": [
      "\u001b[32m[I 2022-03-13 20:07:00,870]\u001b[0m Trial 34 finished with value: 0.540945256135229 and parameters: {'p': 2, 'd': 0, 'q': 4, 'P': 2, 'D': 1, 'Q': 3}. Best is trial 27 with value: 0.5441039932767322.\u001b[0m\n"
     ]
    },
    {
     "name": "stdout",
     "output_type": "stream",
     "text": [
      "Optimization terminated successfully.\n",
      "         Current function value: -1.309274\n",
      "         Iterations: 7\n",
      "         Function evaluations: 1164\n"
     ]
    },
    {
     "name": "stderr",
     "output_type": "stream",
     "text": [
      "\u001b[32m[I 2022-03-13 20:07:14,209]\u001b[0m Trial 35 finished with value: 0.5387004392016099 and parameters: {'p': 1, 'd': 0, 'q': 5, 'P': 2, 'D': 1, 'Q': 3}. Best is trial 27 with value: 0.5441039932767322.\u001b[0m\n"
     ]
    },
    {
     "name": "stdout",
     "output_type": "stream",
     "text": [
      "Optimization terminated successfully.\n",
      "         Current function value: -1.325149\n",
      "         Iterations: 3\n",
      "         Function evaluations: 260\n"
     ]
    },
    {
     "name": "stderr",
     "output_type": "stream",
     "text": [
      "\u001b[32m[I 2022-03-13 20:07:16,793]\u001b[0m Trial 36 finished with value: 0.5318017332682534 and parameters: {'p': 3, 'd': 0, 'q': 0, 'P': 0, 'D': 1, 'Q': 3}. Best is trial 27 with value: 0.5441039932767322.\u001b[0m\n",
      "\u001b[32m[I 2022-03-13 20:07:19,868]\u001b[0m Trial 37 finished with value: 0.46712606426598025 and parameters: {'p': 1, 'd': 0, 'q': 2, 'P': 1, 'D': 0, 'Q': 3}. Best is trial 27 with value: 0.5441039932767322.\u001b[0m\n"
     ]
    },
    {
     "name": "stdout",
     "output_type": "stream",
     "text": [
      "Optimization terminated successfully.\n",
      "         Current function value: -1.369656\n",
      "         Iterations: 4\n",
      "         Function evaluations: 412\n",
      "Optimization terminated successfully.\n",
      "         Current function value: -1.340663\n",
      "         Iterations: 5\n",
      "         Function evaluations: 841\n"
     ]
    },
    {
     "name": "stderr",
     "output_type": "stream",
     "text": [
      "\u001b[32m[I 2022-03-13 20:07:28,343]\u001b[0m Trial 38 finished with value: 0.5029565870249583 and parameters: {'p': 4, 'd': 0, 'q': 3, 'P': 3, 'D': 1, 'Q': 3}. Best is trial 27 with value: 0.5441039932767322.\u001b[0m\n"
     ]
    },
    {
     "name": "stdout",
     "output_type": "stream",
     "text": [
      "Optimization terminated successfully.\n",
      "         Current function value: -1.310912\n",
      "         Iterations: 4\n",
      "         Function evaluations: 611\n"
     ]
    },
    {
     "name": "stderr",
     "output_type": "stream",
     "text": [
      "\u001b[32m[I 2022-03-13 20:07:35,614]\u001b[0m Trial 39 finished with value: 0.3843334465317926 and parameters: {'p': 2, 'd': 1, 'q': 4, 'P': 2, 'D': 1, 'Q': 3}. Best is trial 27 with value: 0.5441039932767322.\u001b[0m\n",
      "\u001b[32m[I 2022-03-13 20:07:38,363]\u001b[0m Trial 40 finished with value: 0.47010609056648567 and parameters: {'p': 4, 'd': 0, 'q': 0, 'P': 1, 'D': 0, 'Q': 3}. Best is trial 27 with value: 0.5441039932767322.\u001b[0m\n"
     ]
    },
    {
     "name": "stdout",
     "output_type": "stream",
     "text": [
      "Optimization terminated successfully.\n",
      "         Current function value: -1.380370\n",
      "         Iterations: 4\n",
      "         Function evaluations: 418\n",
      "Optimization terminated successfully.\n",
      "         Current function value: -1.372361\n",
      "         Iterations: 13\n",
      "         Function evaluations: 2200\n"
     ]
    },
    {
     "name": "stderr",
     "output_type": "stream",
     "text": [
      "\u001b[32m[I 2022-03-13 20:07:52,777]\u001b[0m Trial 41 finished with value: 0.539573789697877 and parameters: {'p': 3, 'd': 0, 'q': 3, 'P': 2, 'D': 1, 'Q': 2}. Best is trial 27 with value: 0.5441039932767322.\u001b[0m\n"
     ]
    },
    {
     "name": "stdout",
     "output_type": "stream",
     "text": [
      "Optimization terminated successfully.\n",
      "         Current function value: -1.362386\n",
      "         Iterations: 6\n",
      "         Function evaluations: 1156\n"
     ]
    },
    {
     "name": "stderr",
     "output_type": "stream",
     "text": [
      "\u001b[32m[I 2022-03-13 20:08:00,969]\u001b[0m Trial 42 finished with value: 0.5461432632951189 and parameters: {'p': 8, 'd': 0, 'q': 3, 'P': 2, 'D': 1, 'Q': 1}. Best is trial 42 with value: 0.5461432632951189.\u001b[0m\n"
     ]
    },
    {
     "name": "stdout",
     "output_type": "stream",
     "text": [
      "Warning: Maximum number of iterations has been exceeded.\n"
     ]
    },
    {
     "name": "stderr",
     "output_type": "stream",
     "text": [
      "/home/elasive/miniconda3/envs/SERF/lib/python3.7/site-packages/statsmodels/base/model.py:606: ConvergenceWarning: Maximum Likelihood optimization failed to converge. Check mle_retvals\n",
      "  ConvergenceWarning)\n",
      "\u001b[32m[I 2022-03-13 20:09:43,751]\u001b[0m Trial 43 finished with value: 0.5289305393825565 and parameters: {'p': 8, 'd': 0, 'q': 4, 'P': 2, 'D': 1, 'Q': 1}. Best is trial 42 with value: 0.5461432632951189.\u001b[0m\n",
      "\u001b[32m[I 2022-03-13 20:09:44,827]\u001b[0m Trial 44 finished with value: 0.31583731699091366 and parameters: {'p': 8, 'd': 0, 'q': 2, 'P': 2, 'D': 1, 'Q': 0}. Best is trial 42 with value: 0.5461432632951189.\u001b[0m\n"
     ]
    },
    {
     "name": "stdout",
     "output_type": "stream",
     "text": [
      "Optimization terminated successfully.\n",
      "         Current function value: -1.305309\n",
      "         Iterations: 2\n",
      "         Function evaluations: 279\n",
      "Optimization terminated successfully.\n",
      "         Current function value: -1.370201\n",
      "         Iterations: 19\n",
      "         Function evaluations: 3979\n"
     ]
    },
    {
     "name": "stderr",
     "output_type": "stream",
     "text": [
      "\u001b[32m[I 2022-03-13 20:10:15,756]\u001b[0m Trial 45 finished with value: 0.5152081690730862 and parameters: {'p': 7, 'd': 0, 'q': 7, 'P': 2, 'D': 1, 'Q': 1}. Best is trial 42 with value: 0.5461432632951189.\u001b[0m\n",
      "\u001b[32m[I 2022-03-13 20:10:18,867]\u001b[0m Trial 46 finished with value: 0.5188392536815482 and parameters: {'p': 2, 'd': 0, 'q': 3, 'P': 2, 'D': 1, 'Q': 1}. Best is trial 42 with value: 0.5461432632951189.\u001b[0m\n"
     ]
    },
    {
     "name": "stdout",
     "output_type": "stream",
     "text": [
      "Optimization terminated successfully.\n",
      "         Current function value: -1.373076\n",
      "         Iterations: 5\n",
      "         Function evaluations: 563\n"
     ]
    },
    {
     "name": "stderr",
     "output_type": "stream",
     "text": [
      "\u001b[32m[I 2022-03-13 20:10:19,312]\u001b[0m Trial 47 finished with value: 0.29555691023925534 and parameters: {'p': 0, 'd': 0, 'q': 2, 'P': 2, 'D': 1, 'Q': 0}. Best is trial 42 with value: 0.5461432632951189.\u001b[0m\n"
     ]
    },
    {
     "name": "stdout",
     "output_type": "stream",
     "text": [
      "Optimization terminated successfully.\n",
      "         Current function value: -1.330386\n",
      "         Iterations: 2\n",
      "         Function evaluations: 133\n",
      "Optimization terminated successfully.\n",
      "         Current function value: -1.299896\n",
      "         Iterations: 9\n",
      "         Function evaluations: 1912\n"
     ]
    },
    {
     "name": "stderr",
     "output_type": "stream",
     "text": [
      "\u001b[32m[I 2022-03-13 20:10:43,629]\u001b[0m Trial 48 finished with value: 0.34666611748522236 and parameters: {'p': 8, 'd': 1, 'q': 3, 'P': 3, 'D': 1, 'Q': 1}. Best is trial 42 with value: 0.5461432632951189.\u001b[0m\n",
      "\u001b[32m[I 2022-03-13 20:10:45,993]\u001b[0m Trial 49 finished with value: 0.5199234562964985 and parameters: {'p': 3, 'd': 0, 'q': 1, 'P': 2, 'D': 1, 'Q': 1}. Best is trial 42 with value: 0.5461432632951189.\u001b[0m\n",
      "\u001b[32m[I 2022-03-13 20:10:46,001]\u001b[0m A new study created in memory with name: no-name-965a3195-3e6d-4dc4-b3f1-412664be7ba7\u001b[0m\n"
     ]
    },
    {
     "name": "stdout",
     "output_type": "stream",
     "text": [
      "Optimization terminated successfully.\n",
      "         Current function value: -1.369967\n",
      "         Iterations: 4\n",
      "         Function evaluations: 384\n",
      "Optimization terminated successfully.\n",
      "         Current function value: -1.332795\n",
      "         Iterations: 8\n",
      "         Function evaluations: 974\n"
     ]
    },
    {
     "name": "stderr",
     "output_type": "stream",
     "text": [
      "\u001b[32m[I 2022-03-13 20:10:51,971]\u001b[0m Trial 0 finished with value: 0.4925980182282894 and parameters: {'p': 1, 'd': 0, 'q': 4, 'P': 3, 'D': 1, 'Q': 1}. Best is trial 0 with value: 0.4925980182282894.\u001b[0m\n"
     ]
    },
    {
     "name": "stdout",
     "output_type": "stream",
     "text": [
      "Optimization terminated successfully.\n",
      "         Current function value: -1.367008\n",
      "         Iterations: 3\n",
      "         Function evaluations: 367\n"
     ]
    },
    {
     "name": "stderr",
     "output_type": "stream",
     "text": [
      "\u001b[32m[I 2022-03-13 20:10:54,823]\u001b[0m Trial 1 finished with value: 0.466975778773568 and parameters: {'p': 5, 'd': 0, 'q': 0, 'P': 3, 'D': 0, 'Q': 2}. Best is trial 0 with value: 0.4925980182282894.\u001b[0m\n",
      "\u001b[32m[I 2022-03-13 20:11:01,748]\u001b[0m Trial 2 finished with value: 0.14904879553295447 and parameters: {'p': 5, 'd': 1, 'q': 7, 'P': 0, 'D': 1, 'Q': 0}. Best is trial 0 with value: 0.4925980182282894.\u001b[0m\n"
     ]
    },
    {
     "name": "stdout",
     "output_type": "stream",
     "text": [
      "Optimization terminated successfully.\n",
      "         Current function value: -1.290084\n",
      "         Iterations: 12\n",
      "         Function evaluations: 1913\n",
      "Optimization terminated successfully.\n",
      "         Current function value: -1.331047\n",
      "         Iterations: 4\n",
      "         Function evaluations: 592\n"
     ]
    },
    {
     "name": "stderr",
     "output_type": "stream",
     "text": [
      "\u001b[32m[I 2022-03-13 20:11:07,634]\u001b[0m Trial 3 finished with value: 0.5361264344771821 and parameters: {'p': 7, 'd': 0, 'q': 1, 'P': 1, 'D': 1, 'Q': 3}. Best is trial 3 with value: 0.5361264344771821.\u001b[0m\n"
     ]
    },
    {
     "name": "stdout",
     "output_type": "stream",
     "text": [
      "Optimization terminated successfully.\n",
      "         Current function value: -1.289421\n",
      "         Iterations: 8\n",
      "         Function evaluations: 1663\n"
     ]
    },
    {
     "name": "stderr",
     "output_type": "stream",
     "text": [
      "\u001b[32m[I 2022-03-13 20:11:20,762]\u001b[0m Trial 4 finished with value: 0.22020178342593688 and parameters: {'p': 8, 'd': 1, 'q': 7, 'P': 2, 'D': 1, 'Q': 0}. Best is trial 3 with value: 0.5361264344771821.\u001b[0m\n"
     ]
    },
    {
     "name": "stdout",
     "output_type": "stream",
     "text": [
      "Optimization terminated successfully.\n",
      "         Current function value: -1.372361\n",
      "         Iterations: 13\n",
      "         Function evaluations: 2200\n"
     ]
    },
    {
     "name": "stderr",
     "output_type": "stream",
     "text": [
      "\u001b[32m[I 2022-03-13 20:11:35,127]\u001b[0m Trial 5 finished with value: 0.539573789697877 and parameters: {'p': 3, 'd': 0, 'q': 3, 'P': 2, 'D': 1, 'Q': 2}. Best is trial 5 with value: 0.539573789697877.\u001b[0m\n"
     ]
    },
    {
     "name": "stdout",
     "output_type": "stream",
     "text": [
      "Optimization terminated successfully.\n",
      "         Current function value: -1.367285\n",
      "         Iterations: 12\n",
      "         Function evaluations: 1999\n"
     ]
    },
    {
     "name": "stderr",
     "output_type": "stream",
     "text": [
      "\u001b[32m[I 2022-03-13 20:11:51,043]\u001b[0m Trial 6 finished with value: 0.5203385036028132 and parameters: {'p': 3, 'd': 0, 'q': 5, 'P': 2, 'D': 1, 'Q': 2}. Best is trial 5 with value: 0.539573789697877.\u001b[0m\n",
      "\u001b[32m[I 2022-03-13 20:11:51,594]\u001b[0m Trial 7 finished with value: -3.6786248928636036 and parameters: {'p': 0, 'd': 1, 'q': 0, 'P': 3, 'D': 1, 'Q': 0}. Best is trial 5 with value: 0.539573789697877.\u001b[0m\n"
     ]
    },
    {
     "name": "stdout",
     "output_type": "stream",
     "text": [
      "Optimization terminated successfully.\n",
      "         Current function value: -1.076808\n",
      "         Iterations: 1\n",
      "         Function evaluations: 107\n"
     ]
    },
    {
     "name": "stderr",
     "output_type": "stream",
     "text": [
      "\u001b[32m[I 2022-03-13 20:12:01,309]\u001b[0m Trial 8 finished with value: 0.37650555118186424 and parameters: {'p': 1, 'd': 1, 'q': 2, 'P': 2, 'D': 1, 'Q': 2}. Best is trial 5 with value: 0.539573789697877.\u001b[0m\n"
     ]
    },
    {
     "name": "stdout",
     "output_type": "stream",
     "text": [
      "Optimization terminated successfully.\n",
      "         Current function value: -1.371423\n",
      "         Iterations: 13\n",
      "         Function evaluations: 1490\n"
     ]
    },
    {
     "name": "stderr",
     "output_type": "stream",
     "text": [
      "\u001b[32m[I 2022-03-13 20:12:11,157]\u001b[0m Trial 9 finished with value: 0.12889472083705278 and parameters: {'p': 6, 'd': 0, 'q': 4, 'P': 1, 'D': 0, 'Q': 0}. Best is trial 5 with value: 0.539573789697877.\u001b[0m\n"
     ]
    },
    {
     "name": "stdout",
     "output_type": "stream",
     "text": [
      "Optimization terminated successfully.\n",
      "         Current function value: -1.279124\n",
      "         Iterations: 23\n",
      "         Function evaluations: 3190\n"
     ]
    },
    {
     "name": "stderr",
     "output_type": "stream",
     "text": [
      "\u001b[32m[I 2022-03-13 20:12:20,573]\u001b[0m Trial 10 finished with value: 0.00503391349689275 and parameters: {'p': 3, 'd': 0, 'q': 3, 'P': 0, 'D': 0, 'Q': 3}. Best is trial 5 with value: 0.539573789697877.\u001b[0m\n"
     ]
    },
    {
     "name": "stdout",
     "output_type": "stream",
     "text": [
      "Optimization terminated successfully.\n",
      "         Current function value: -1.221807\n",
      "         Iterations: 12\n",
      "         Function evaluations: 1470\n",
      "Optimization terminated successfully.\n",
      "         Current function value: -1.336062\n",
      "         Iterations: 8\n",
      "         Function evaluations: 1379\n"
     ]
    },
    {
     "name": "stderr",
     "output_type": "stream",
     "text": [
      "\u001b[32m[I 2022-03-13 20:12:35,300]\u001b[0m Trial 11 finished with value: 0.5510449478465795 and parameters: {'p': 8, 'd': 0, 'q': 2, 'P': 1, 'D': 1, 'Q': 3}. Best is trial 11 with value: 0.5510449478465795.\u001b[0m\n"
     ]
    },
    {
     "name": "stdout",
     "output_type": "stream",
     "text": [
      "Optimization terminated successfully.\n",
      "         Current function value: -1.322010\n",
      "         Iterations: 5\n",
      "         Function evaluations: 628\n"
     ]
    },
    {
     "name": "stderr",
     "output_type": "stream",
     "text": [
      "\u001b[32m[I 2022-03-13 20:12:42,252]\u001b[0m Trial 12 finished with value: 0.5358880409795538 and parameters: {'p': 3, 'd': 0, 'q': 2, 'P': 1, 'D': 1, 'Q': 3}. Best is trial 11 with value: 0.5510449478465795.\u001b[0m\n"
     ]
    },
    {
     "name": "stdout",
     "output_type": "stream",
     "text": [
      "Optimization terminated successfully.\n",
      "         Current function value: -1.416366\n",
      "         Iterations: 28\n",
      "         Function evaluations: 6597\n"
     ]
    },
    {
     "name": "stderr",
     "output_type": "stream",
     "text": [
      "\u001b[32m[I 2022-03-13 20:13:16,908]\u001b[0m Trial 13 finished with value: 0.5115214496755975 and parameters: {'p': 8, 'd': 0, 'q': 5, 'P': 1, 'D': 1, 'Q': 1}. Best is trial 11 with value: 0.5510449478465795.\u001b[0m\n"
     ]
    },
    {
     "name": "stdout",
     "output_type": "stream",
     "text": [
      "Optimization terminated successfully.\n",
      "         Current function value: -1.373931\n",
      "         Iterations: 7\n",
      "         Function evaluations: 986\n"
     ]
    },
    {
     "name": "stderr",
     "output_type": "stream",
     "text": [
      "\u001b[32m[I 2022-03-13 20:13:24,070]\u001b[0m Trial 14 finished with value: 0.44069200484529036 and parameters: {'p': 4, 'd': 0, 'q': 2, 'P': 2, 'D': 0, 'Q': 3}. Best is trial 11 with value: 0.5510449478465795.\u001b[0m\n",
      "\u001b[32m[I 2022-03-13 20:13:26,834]\u001b[0m Trial 15 finished with value: 0.5335058880161319 and parameters: {'p': 2, 'd': 0, 'q': 3, 'P': 0, 'D': 1, 'Q': 2}. Best is trial 11 with value: 0.5510449478465795.\u001b[0m\n"
     ]
    },
    {
     "name": "stdout",
     "output_type": "stream",
     "text": [
      "Optimization terminated successfully.\n",
      "         Current function value: -1.367273\n",
      "         Iterations: 4\n",
      "         Function evaluations: 410\n",
      "Optimization terminated successfully.\n",
      "         Current function value: -1.401895\n",
      "         Iterations: 10\n",
      "         Function evaluations: 1833\n"
     ]
    },
    {
     "name": "stderr",
     "output_type": "stream",
     "text": [
      "\u001b[32m[I 2022-03-13 20:13:35,819]\u001b[0m Trial 16 finished with value: 0.5383516882757563 and parameters: {'p': 6, 'd': 0, 'q': 5, 'P': 1, 'D': 1, 'Q': 1}. Best is trial 11 with value: 0.5510449478465795.\u001b[0m\n"
     ]
    },
    {
     "name": "stdout",
     "output_type": "stream",
     "text": [
      "Optimization terminated successfully.\n",
      "         Current function value: -1.372289\n",
      "         Iterations: 9\n",
      "         Function evaluations: 1175\n"
     ]
    },
    {
     "name": "stderr",
     "output_type": "stream",
     "text": [
      "\u001b[32m[I 2022-03-13 20:13:44,161]\u001b[0m Trial 17 finished with value: 0.35657196982783523 and parameters: {'p': 4, 'd': 1, 'q': 1, 'P': 2, 'D': 0, 'Q': 3}. Best is trial 11 with value: 0.5510449478465795.\u001b[0m\n"
     ]
    },
    {
     "name": "stdout",
     "output_type": "stream",
     "text": [
      "Optimization terminated successfully.\n",
      "         Current function value: -1.371884\n",
      "         Iterations: 6\n",
      "         Function evaluations: 936\n"
     ]
    },
    {
     "name": "stderr",
     "output_type": "stream",
     "text": [
      "\u001b[32m[I 2022-03-13 20:13:50,222]\u001b[0m Trial 18 finished with value: 0.529983725454037 and parameters: {'p': 7, 'd': 0, 'q': 3, 'P': 1, 'D': 1, 'Q': 2}. Best is trial 11 with value: 0.5510449478465795.\u001b[0m\n"
     ]
    },
    {
     "name": "stdout",
     "output_type": "stream",
     "text": [
      "Optimization terminated successfully.\n",
      "         Current function value: -1.310610\n",
      "         Iterations: 7\n",
      "         Function evaluations: 1409\n"
     ]
    },
    {
     "name": "stderr",
     "output_type": "stream",
     "text": [
      "\u001b[32m[I 2022-03-13 20:14:08,818]\u001b[0m Trial 19 finished with value: 0.556485881874643 and parameters: {'p': 2, 'd': 0, 'q': 8, 'P': 2, 'D': 1, 'Q': 3}. Best is trial 19 with value: 0.556485881874643.\u001b[0m\n"
     ]
    },
    {
     "name": "stdout",
     "output_type": "stream",
     "text": [
      "Optimization terminated successfully.\n",
      "         Current function value: -1.230637\n",
      "         Iterations: 7\n",
      "         Function evaluations: 1266\n"
     ]
    },
    {
     "name": "stderr",
     "output_type": "stream",
     "text": [
      "\u001b[32m[I 2022-03-13 20:14:17,859]\u001b[0m Trial 20 finished with value: 0.0627562029693085 and parameters: {'p': 0, 'd': 1, 'q': 8, 'P': 0, 'D': 0, 'Q': 3}. Best is trial 19 with value: 0.556485881874643.\u001b[0m\n"
     ]
    },
    {
     "name": "stdout",
     "output_type": "stream",
     "text": [
      "Optimization terminated successfully.\n",
      "         Current function value: -1.307343\n",
      "         Iterations: 6\n",
      "         Function evaluations: 1040\n"
     ]
    },
    {
     "name": "stderr",
     "output_type": "stream",
     "text": [
      "\u001b[32m[I 2022-03-13 20:14:30,779]\u001b[0m Trial 21 finished with value: 0.5382357843898817 and parameters: {'p': 2, 'd': 0, 'q': 6, 'P': 2, 'D': 1, 'Q': 3}. Best is trial 19 with value: 0.556485881874643.\u001b[0m\n",
      "\u001b[32m[I 2022-03-13 20:14:34,529]\u001b[0m Trial 22 finished with value: 0.5352718214963879 and parameters: {'p': 2, 'd': 0, 'q': 1, 'P': 2, 'D': 1, 'Q': 2}. Best is trial 19 with value: 0.556485881874643.\u001b[0m\n"
     ]
    },
    {
     "name": "stdout",
     "output_type": "stream",
     "text": [
      "Optimization terminated successfully.\n",
      "         Current function value: -1.379303\n",
      "         Iterations: 5\n",
      "         Function evaluations: 561\n",
      "Optimization terminated successfully.\n",
      "         Current function value: -1.315097\n",
      "         Iterations: 7\n",
      "         Function evaluations: 1342\n"
     ]
    },
    {
     "name": "stderr",
     "output_type": "stream",
     "text": [
      "\u001b[32m[I 2022-03-13 20:14:51,099]\u001b[0m Trial 23 finished with value: 0.5270433716751302 and parameters: {'p': 1, 'd': 0, 'q': 8, 'P': 3, 'D': 1, 'Q': 3}. Best is trial 19 with value: 0.556485881874643.\u001b[0m\n"
     ]
    },
    {
     "name": "stdout",
     "output_type": "stream",
     "text": [
      "Optimization terminated successfully.\n",
      "         Current function value: -1.355308\n",
      "         Iterations: 20\n",
      "         Function evaluations: 3720\n"
     ]
    },
    {
     "name": "stderr",
     "output_type": "stream",
     "text": [
      "\u001b[32m[I 2022-03-13 20:15:18,123]\u001b[0m Trial 24 finished with value: 0.32636761063865194 and parameters: {'p': 5, 'd': 0, 'q': 3, 'P': 2, 'D': 1, 'Q': 2}. Best is trial 19 with value: 0.556485881874643.\u001b[0m\n"
     ]
    },
    {
     "name": "stdout",
     "output_type": "stream",
     "text": [
      "Optimization terminated successfully.\n",
      "         Current function value: -1.310158\n",
      "         Iterations: 22\n",
      "         Function evaluations: 3807\n"
     ]
    },
    {
     "name": "stderr",
     "output_type": "stream",
     "text": [
      "\u001b[32m[I 2022-03-13 20:15:59,669]\u001b[0m Trial 25 finished with value: 0.30071985312713534 and parameters: {'p': 4, 'd': 0, 'q': 4, 'P': 1, 'D': 1, 'Q': 3}. Best is trial 19 with value: 0.556485881874643.\u001b[0m\n"
     ]
    },
    {
     "name": "stdout",
     "output_type": "stream",
     "text": [
      "Optimization terminated successfully.\n",
      "         Current function value: -1.370972\n",
      "         Iterations: 4\n",
      "         Function evaluations: 612\n"
     ]
    },
    {
     "name": "stderr",
     "output_type": "stream",
     "text": [
      "\u001b[32m[I 2022-03-13 20:16:03,211]\u001b[0m Trial 26 finished with value: 0.5185213233905027 and parameters: {'p': 3, 'd': 0, 'q': 6, 'P': 2, 'D': 1, 'Q': 1}. Best is trial 19 with value: 0.556485881874643.\u001b[0m\n"
     ]
    },
    {
     "name": "stdout",
     "output_type": "stream",
     "text": [
      "Optimization terminated successfully.\n",
      "         Current function value: -1.330597\n",
      "         Iterations: 6\n",
      "         Function evaluations: 761\n"
     ]
    },
    {
     "name": "stderr",
     "output_type": "stream",
     "text": [
      "\u001b[32m[I 2022-03-13 20:16:09,978]\u001b[0m Trial 27 finished with value: 0.5080194690826756 and parameters: {'p': 2, 'd': 0, 'q': 2, 'P': 3, 'D': 1, 'Q': 2}. Best is trial 19 with value: 0.556485881874643.\u001b[0m\n"
     ]
    },
    {
     "name": "stdout",
     "output_type": "stream",
     "text": [
      "Optimization terminated successfully.\n",
      "         Current function value: -1.308698\n",
      "         Iterations: 9\n",
      "         Function evaluations: 1896\n"
     ]
    },
    {
     "name": "stderr",
     "output_type": "stream",
     "text": [
      "\u001b[32m[I 2022-03-13 20:16:33,423]\u001b[0m Trial 28 finished with value: 0.38470497714137286 and parameters: {'p': 6, 'd': 0, 'q': 6, 'P': 1, 'D': 1, 'Q': 3}. Best is trial 19 with value: 0.556485881874643.\u001b[0m\n"
     ]
    },
    {
     "name": "stdout",
     "output_type": "stream",
     "text": [
      "Optimization terminated successfully.\n",
      "         Current function value: -1.332795\n",
      "         Iterations: 8\n",
      "         Function evaluations: 974\n"
     ]
    },
    {
     "name": "stderr",
     "output_type": "stream",
     "text": [
      "\u001b[32m[I 2022-03-13 20:16:39,517]\u001b[0m Trial 29 finished with value: 0.4925980182282894 and parameters: {'p': 1, 'd': 0, 'q': 4, 'P': 3, 'D': 1, 'Q': 1}. Best is trial 19 with value: 0.556485881874643.\u001b[0m\n"
     ]
    },
    {
     "name": "stdout",
     "output_type": "stream",
     "text": [
      "Optimization terminated successfully.\n",
      "         Current function value: -1.368307\n",
      "         Iterations: 12\n",
      "         Function evaluations: 1956\n"
     ]
    },
    {
     "name": "stderr",
     "output_type": "stream",
     "text": [
      "\u001b[32m[I 2022-03-13 20:16:52,486]\u001b[0m Trial 30 finished with value: 0.5269663261898057 and parameters: {'p': 4, 'd': 0, 'q': 3, 'P': 2, 'D': 1, 'Q': 2}. Best is trial 19 with value: 0.556485881874643.\u001b[0m\n"
     ]
    },
    {
     "name": "stdout",
     "output_type": "stream",
     "text": [
      "Optimization terminated successfully.\n",
      "         Current function value: -1.410601\n",
      "         Iterations: 12\n",
      "         Function evaluations: 2145\n"
     ]
    },
    {
     "name": "stderr",
     "output_type": "stream",
     "text": [
      "\u001b[32m[I 2022-03-13 20:17:03,736]\u001b[0m Trial 31 finished with value: 0.523434813094459 and parameters: {'p': 7, 'd': 0, 'q': 5, 'P': 1, 'D': 1, 'Q': 1}. Best is trial 19 with value: 0.556485881874643.\u001b[0m\n"
     ]
    },
    {
     "name": "stdout",
     "output_type": "stream",
     "text": [
      "Optimization terminated successfully.\n",
      "         Current function value: -1.402529\n",
      "         Iterations: 11\n",
      "         Function evaluations: 2334\n"
     ]
    },
    {
     "name": "stderr",
     "output_type": "stream",
     "text": [
      "\u001b[32m[I 2022-03-13 20:17:15,725]\u001b[0m Trial 32 finished with value: 0.5327798779752531 and parameters: {'p': 6, 'd': 0, 'q': 7, 'P': 1, 'D': 1, 'Q': 1}. Best is trial 19 with value: 0.556485881874643.\u001b[0m\n"
     ]
    },
    {
     "name": "stdout",
     "output_type": "stream",
     "text": [
      "Optimization terminated successfully.\n",
      "         Current function value: -1.416366\n",
      "         Iterations: 28\n",
      "         Function evaluations: 6597\n"
     ]
    },
    {
     "name": "stderr",
     "output_type": "stream",
     "text": [
      "\u001b[32m[I 2022-03-13 20:17:50,241]\u001b[0m Trial 33 finished with value: 0.5115214496755975 and parameters: {'p': 8, 'd': 0, 'q': 5, 'P': 1, 'D': 1, 'Q': 1}. Best is trial 19 with value: 0.556485881874643.\u001b[0m\n",
      "\u001b[32m[I 2022-03-13 20:17:52,833]\u001b[0m Trial 34 finished with value: 0.5309647907744737 and parameters: {'p': 5, 'd': 0, 'q': 0, 'P': 0, 'D': 1, 'Q': 2}. Best is trial 19 with value: 0.556485881874643.\u001b[0m\n"
     ]
    },
    {
     "name": "stdout",
     "output_type": "stream",
     "text": [
      "Optimization terminated successfully.\n",
      "         Current function value: -1.385555\n",
      "         Iterations: 4\n",
      "         Function evaluations: 411\n",
      "Optimization terminated successfully.\n",
      "         Current function value: -1.305631\n",
      "         Iterations: 7\n",
      "         Function evaluations: 1642\n"
     ]
    },
    {
     "name": "stderr",
     "output_type": "stream",
     "text": [
      "\u001b[32m[I 2022-03-13 20:18:11,812]\u001b[0m Trial 35 finished with value: 0.32787761954623973 and parameters: {'p': 7, 'd': 0, 'q': 7, 'P': 1, 'D': 1, 'Q': 3}. Best is trial 19 with value: 0.556485881874643.\u001b[0m\n",
      "\u001b[32m[I 2022-03-13 20:18:33,893]\u001b[0m Trial 36 finished with value: 0.2957569439336456 and parameters: {'p': 5, 'd': 0, 'q': 4, 'P': 2, 'D': 1, 'Q': 0}. Best is trial 19 with value: 0.556485881874643.\u001b[0m\n"
     ]
    },
    {
     "name": "stdout",
     "output_type": "stream",
     "text": [
      "Optimization terminated successfully.\n",
      "         Current function value: -1.308391\n",
      "         Iterations: 30\n",
      "         Function evaluations: 4439\n",
      "Optimization terminated successfully.\n",
      "         Current function value: -1.335105\n",
      "         Iterations: 8\n",
      "         Function evaluations: 1404\n"
     ]
    },
    {
     "name": "stderr",
     "output_type": "stream",
     "text": [
      "\u001b[32m[I 2022-03-13 20:18:45,043]\u001b[0m Trial 37 finished with value: 0.4482260002020507 and parameters: {'p': 8, 'd': 1, 'q': 1, 'P': 2, 'D': 1, 'Q': 1}. Best is trial 19 with value: 0.556485881874643.\u001b[0m\n"
     ]
    },
    {
     "name": "stdout",
     "output_type": "stream",
     "text": [
      "Optimization terminated successfully.\n",
      "         Current function value: -1.366895\n",
      "         Iterations: 14\n",
      "         Function evaluations: 3275\n"
     ]
    },
    {
     "name": "stderr",
     "output_type": "stream",
     "text": [
      "\u001b[32m[I 2022-03-13 20:19:14,001]\u001b[0m Trial 38 finished with value: 0.5571789659435915 and parameters: {'p': 6, 'd': 0, 'q': 8, 'P': 1, 'D': 1, 'Q': 2}. Best is trial 38 with value: 0.5571789659435915.\u001b[0m\n"
     ]
    },
    {
     "name": "stdout",
     "output_type": "stream",
     "text": [
      "Optimization terminated successfully.\n",
      "         Current function value: -1.401222\n",
      "         Iterations: 12\n",
      "         Function evaluations: 2659\n"
     ]
    },
    {
     "name": "stderr",
     "output_type": "stream",
     "text": [
      "\u001b[32m[I 2022-03-13 20:19:29,743]\u001b[0m Trial 39 finished with value: 0.4332902450439178 and parameters: {'p': 3, 'd': 0, 'q': 8, 'P': 2, 'D': 0, 'Q': 2}. Best is trial 38 with value: 0.5571789659435915.\u001b[0m\n"
     ]
    },
    {
     "name": "stdout",
     "output_type": "stream",
     "text": [
      "Optimization terminated successfully.\n",
      "         Current function value: -1.333431\n",
      "         Iterations: 7\n",
      "         Function evaluations: 1539\n"
     ]
    },
    {
     "name": "stderr",
     "output_type": "stream",
     "text": [
      "\u001b[32m[I 2022-03-13 20:19:45,535]\u001b[0m Trial 40 finished with value: 0.34767710380340344 and parameters: {'p': 2, 'd': 1, 'q': 8, 'P': 3, 'D': 1, 'Q': 2}. Best is trial 38 with value: 0.5571789659435915.\u001b[0m\n"
     ]
    },
    {
     "name": "stdout",
     "output_type": "stream",
     "text": [
      "Optimization terminated successfully.\n",
      "         Current function value: -1.362353\n",
      "         Iterations: 9\n",
      "         Function evaluations: 1971\n"
     ]
    },
    {
     "name": "stderr",
     "output_type": "stream",
     "text": [
      "\u001b[32m[I 2022-03-13 20:20:01,544]\u001b[0m Trial 41 finished with value: 0.5278574468752872 and parameters: {'p': 6, 'd': 0, 'q': 7, 'P': 1, 'D': 1, 'Q': 2}. Best is trial 38 with value: 0.5571789659435915.\u001b[0m\n"
     ]
    },
    {
     "name": "stdout",
     "output_type": "stream",
     "text": [
      "Optimization terminated successfully.\n",
      "         Current function value: -1.308698\n",
      "         Iterations: 9\n",
      "         Function evaluations: 1896\n"
     ]
    },
    {
     "name": "stderr",
     "output_type": "stream",
     "text": [
      "\u001b[32m[I 2022-03-13 20:20:25,479]\u001b[0m Trial 42 finished with value: 0.38470497714137286 and parameters: {'p': 6, 'd': 0, 'q': 6, 'P': 1, 'D': 1, 'Q': 3}. Best is trial 38 with value: 0.5571789659435915.\u001b[0m\n"
     ]
    },
    {
     "name": "stdout",
     "output_type": "stream",
     "text": [
      "Optimization terminated successfully.\n",
      "         Current function value: -1.414034\n",
      "         Iterations: 14\n",
      "         Function evaluations: 2883\n"
     ]
    },
    {
     "name": "stderr",
     "output_type": "stream",
     "text": [
      "\u001b[32m[I 2022-03-13 20:20:41,080]\u001b[0m Trial 43 finished with value: 0.5285774318332688 and parameters: {'p': 7, 'd': 0, 'q': 7, 'P': 1, 'D': 1, 'Q': 1}. Best is trial 38 with value: 0.5571789659435915.\u001b[0m\n"
     ]
    },
    {
     "name": "stdout",
     "output_type": "stream",
     "text": [
      "Optimization terminated successfully.\n",
      "         Current function value: -1.375476\n",
      "         Iterations: 5\n",
      "         Function evaluations: 755\n"
     ]
    },
    {
     "name": "stderr",
     "output_type": "stream",
     "text": [
      "\u001b[32m[I 2022-03-13 20:20:46,650]\u001b[0m Trial 44 finished with value: 0.5315535474368651 and parameters: {'p': 5, 'd': 0, 'q': 2, 'P': 1, 'D': 1, 'Q': 2}. Best is trial 38 with value: 0.5571789659435915.\u001b[0m\n"
     ]
    },
    {
     "name": "stdout",
     "output_type": "stream",
     "text": [
      "Optimization terminated successfully.\n",
      "         Current function value: -1.317881\n",
      "         Iterations: 21\n",
      "         Function evaluations: 4963\n"
     ]
    },
    {
     "name": "stderr",
     "output_type": "stream",
     "text": [
      "\u001b[32m[I 2022-03-13 20:21:51,081]\u001b[0m Trial 45 finished with value: 0.5548999636102091 and parameters: {'p': 8, 'd': 0, 'q': 8, 'P': 0, 'D': 1, 'Q': 3}. Best is trial 38 with value: 0.5571789659435915.\u001b[0m\n"
     ]
    },
    {
     "name": "stdout",
     "output_type": "stream",
     "text": [
      "Optimization terminated successfully.\n",
      "         Current function value: -1.317881\n",
      "         Iterations: 21\n",
      "         Function evaluations: 4963\n"
     ]
    },
    {
     "name": "stderr",
     "output_type": "stream",
     "text": [
      "\u001b[32m[I 2022-03-13 20:22:55,419]\u001b[0m Trial 46 finished with value: 0.5548999636102091 and parameters: {'p': 8, 'd': 0, 'q': 8, 'P': 0, 'D': 1, 'Q': 3}. Best is trial 38 with value: 0.5571789659435915.\u001b[0m\n"
     ]
    },
    {
     "name": "stdout",
     "output_type": "stream",
     "text": [
      "Optimization terminated successfully.\n",
      "         Current function value: -1.317881\n",
      "         Iterations: 21\n",
      "         Function evaluations: 4963\n"
     ]
    },
    {
     "name": "stderr",
     "output_type": "stream",
     "text": [
      "\u001b[32m[I 2022-03-13 20:24:00,164]\u001b[0m Trial 47 finished with value: 0.5548999636102091 and parameters: {'p': 8, 'd': 0, 'q': 8, 'P': 0, 'D': 1, 'Q': 3}. Best is trial 38 with value: 0.5571789659435915.\u001b[0m\n"
     ]
    },
    {
     "name": "stdout",
     "output_type": "stream",
     "text": [
      "Optimization terminated successfully.\n",
      "         Current function value: -1.317881\n",
      "         Iterations: 21\n",
      "         Function evaluations: 4963\n"
     ]
    },
    {
     "name": "stderr",
     "output_type": "stream",
     "text": [
      "\u001b[32m[I 2022-03-13 20:25:04,357]\u001b[0m Trial 48 finished with value: 0.5548999636102091 and parameters: {'p': 8, 'd': 0, 'q': 8, 'P': 0, 'D': 1, 'Q': 3}. Best is trial 38 with value: 0.5571789659435915.\u001b[0m\n"
     ]
    },
    {
     "name": "stdout",
     "output_type": "stream",
     "text": [
      "Optimization terminated successfully.\n",
      "         Current function value: -1.317881\n",
      "         Iterations: 21\n",
      "         Function evaluations: 4963\n"
     ]
    },
    {
     "name": "stderr",
     "output_type": "stream",
     "text": [
      "\u001b[32m[I 2022-03-13 20:26:09,043]\u001b[0m Trial 49 finished with value: 0.5548999636102091 and parameters: {'p': 8, 'd': 0, 'q': 8, 'P': 0, 'D': 1, 'Q': 3}. Best is trial 38 with value: 0.5571789659435915.\u001b[0m\n",
      "\u001b[32m[I 2022-03-13 20:26:09,051]\u001b[0m A new study created in memory with name: no-name-5494f1b7-0b45-432c-bb0a-bfee134db5d6\u001b[0m\n",
      "\u001b[32m[I 2022-03-13 20:26:09,787]\u001b[0m Trial 0 finished with value: 0.0382086466899374 and parameters: {'p': 2, 'd': 0, 'q': 5, 'P': 0, 'D': 0, 'Q': 0}. Best is trial 0 with value: 0.0382086466899374.\u001b[0m\n"
     ]
    },
    {
     "name": "stdout",
     "output_type": "stream",
     "text": [
      "Optimization terminated successfully.\n",
      "         Current function value: -1.369337\n",
      "         Iterations: 10\n",
      "         Function evaluations: 1222\n",
      "Optimization terminated successfully.\n",
      "         Current function value: -1.575919\n",
      "         Iterations: 5\n",
      "         Function evaluations: 891\n"
     ]
    },
    {
     "name": "stderr",
     "output_type": "stream",
     "text": [
      "\u001b[32m[I 2022-03-13 20:26:14,825]\u001b[0m Trial 1 finished with value: 0.7797180112089397 and parameters: {'p': 1, 'd': 1, 'q': 6, 'P': 2, 'D': 0, 'Q': 2}. Best is trial 1 with value: 0.7797180112089397.\u001b[0m\n"
     ]
    },
    {
     "name": "stdout",
     "output_type": "stream",
     "text": [
      "Optimization terminated successfully.\n",
      "         Current function value: -1.511344\n",
      "         Iterations: 12\n",
      "         Function evaluations: 3118\n"
     ]
    },
    {
     "name": "stderr",
     "output_type": "stream",
     "text": [
      "\u001b[32m[I 2022-03-13 20:26:42,607]\u001b[0m Trial 2 finished with value: 0.7985122854267651 and parameters: {'p': 8, 'd': 0, 'q': 8, 'P': 2, 'D': 0, 'Q': 3}. Best is trial 2 with value: 0.7985122854267651.\u001b[0m\n",
      "\u001b[32m[I 2022-03-13 20:26:42,779]\u001b[0m Trial 3 finished with value: 0.5871658812047125 and parameters: {'p': 0, 'd': 0, 'q': 3, 'P': 0, 'D': 1, 'Q': 0}. Best is trial 2 with value: 0.7985122854267651.\u001b[0m\n"
     ]
    },
    {
     "name": "stdout",
     "output_type": "stream",
     "text": [
      "Optimization terminated successfully.\n",
      "         Current function value: -1.420323\n",
      "         Iterations: 2\n",
      "         Function evaluations: 120\n",
      "Optimization terminated successfully.\n",
      "         Current function value: -1.484286\n",
      "         Iterations: 9\n",
      "         Function evaluations: 1823\n"
     ]
    },
    {
     "name": "stderr",
     "output_type": "stream",
     "text": [
      "\u001b[32m[I 2022-03-13 20:26:50,976]\u001b[0m Trial 4 finished with value: 0.7185593191054799 and parameters: {'p': 7, 'd': 0, 'q': 6, 'P': 3, 'D': 0, 'Q': 0}. Best is trial 2 with value: 0.7985122854267651.\u001b[0m\n",
      "\u001b[32m[I 2022-03-13 20:26:57,581]\u001b[0m Trial 5 finished with value: 0.7998061997084309 and parameters: {'p': 3, 'd': 0, 'q': 2, 'P': 1, 'D': 0, 'Q': 3}. Best is trial 5 with value: 0.7998061997084309.\u001b[0m\n"
     ]
    },
    {
     "name": "stdout",
     "output_type": "stream",
     "text": [
      "Optimization terminated successfully.\n",
      "         Current function value: -1.545894\n",
      "         Iterations: 7\n",
      "         Function evaluations: 879\n",
      "Optimization terminated successfully.\n",
      "         Current function value: -1.554773\n",
      "         Iterations: 20\n",
      "         Function evaluations: 4119\n"
     ]
    },
    {
     "name": "stderr",
     "output_type": "stream",
     "text": [
      "\u001b[32m[I 2022-03-13 20:27:24,332]\u001b[0m Trial 6 finished with value: 0.7973964286804095 and parameters: {'p': 2, 'd': 0, 'q': 7, 'P': 3, 'D': 0, 'Q': 2}. Best is trial 5 with value: 0.7998061997084309.\u001b[0m\n"
     ]
    },
    {
     "name": "stdout",
     "output_type": "stream",
     "text": [
      "Optimization terminated successfully.\n",
      "         Current function value: -1.512993\n",
      "         Iterations: 8\n",
      "         Function evaluations: 2054\n"
     ]
    },
    {
     "name": "stderr",
     "output_type": "stream",
     "text": [
      "\u001b[32m[I 2022-03-13 20:27:43,318]\u001b[0m Trial 7 finished with value: 0.7859173993296141 and parameters: {'p': 4, 'd': 1, 'q': 8, 'P': 3, 'D': 0, 'Q': 3}. Best is trial 5 with value: 0.7998061997084309.\u001b[0m\n",
      "\u001b[32m[I 2022-03-13 20:27:44,905]\u001b[0m Trial 8 finished with value: 0.8059863187354099 and parameters: {'p': 8, 'd': 0, 'q': 0, 'P': 0, 'D': 1, 'Q': 1}. Best is trial 8 with value: 0.8059863187354099.\u001b[0m\n"
     ]
    },
    {
     "name": "stdout",
     "output_type": "stream",
     "text": [
      "Optimization terminated successfully.\n",
      "         Current function value: -1.614843\n",
      "         Iterations: 3\n",
      "         Function evaluations: 365\n"
     ]
    },
    {
     "name": "stderr",
     "output_type": "stream",
     "text": [
      "\u001b[32m[I 2022-03-13 20:27:45,958]\u001b[0m Trial 9 finished with value: 0.6233403219898167 and parameters: {'p': 3, 'd': 0, 'q': 3, 'P': 0, 'D': 1, 'Q': 0}. Best is trial 8 with value: 0.8059863187354099.\u001b[0m\n"
     ]
    },
    {
     "name": "stdout",
     "output_type": "stream",
     "text": [
      "Optimization terminated successfully.\n",
      "         Current function value: -1.468514\n",
      "         Iterations: 9\n",
      "         Function evaluations: 861\n"
     ]
    },
    {
     "name": "stderr",
     "output_type": "stream",
     "text": [
      "\u001b[32m[I 2022-03-13 20:27:49,392]\u001b[0m Trial 10 finished with value: 0.6213719446509849 and parameters: {'p': 6, 'd': 1, 'q': 0, 'P': 1, 'D': 1, 'Q': 1}. Best is trial 8 with value: 0.8059863187354099.\u001b[0m\n"
     ]
    },
    {
     "name": "stdout",
     "output_type": "stream",
     "text": [
      "Optimization terminated successfully.\n",
      "         Current function value: -1.502717\n",
      "         Iterations: 6\n",
      "         Function evaluations: 711\n"
     ]
    },
    {
     "name": "stderr",
     "output_type": "stream",
     "text": [
      "\u001b[32m[I 2022-03-13 20:27:52,315]\u001b[0m Trial 11 finished with value: 0.7998262869495513 and parameters: {'p': 5, 'd': 0, 'q': 0, 'P': 1, 'D': 1, 'Q': 1}. Best is trial 8 with value: 0.8059863187354099.\u001b[0m\n"
     ]
    },
    {
     "name": "stdout",
     "output_type": "stream",
     "text": [
      "Optimization terminated successfully.\n",
      "         Current function value: -1.591368\n",
      "         Iterations: 6\n",
      "         Function evaluations: 665\n"
     ]
    },
    {
     "name": "stderr",
     "output_type": "stream",
     "text": [
      "\u001b[32m[I 2022-03-13 20:27:55,065]\u001b[0m Trial 12 finished with value: 0.8047756457839522 and parameters: {'p': 6, 'd': 0, 'q': 0, 'P': 1, 'D': 1, 'Q': 1}. Best is trial 8 with value: 0.8059863187354099.\u001b[0m\n"
     ]
    },
    {
     "name": "stdout",
     "output_type": "stream",
     "text": [
      "Optimization terminated successfully.\n",
      "         Current function value: -1.588911\n",
      "         Iterations: 5\n",
      "         Function evaluations: 569\n"
     ]
    },
    {
     "name": "stderr",
     "output_type": "stream",
     "text": [
      "\u001b[32m[I 2022-03-13 20:27:56,855]\u001b[0m Trial 13 finished with value: 0.8061081785107787 and parameters: {'p': 8, 'd': 0, 'q': 1, 'P': 0, 'D': 1, 'Q': 1}. Best is trial 13 with value: 0.8061081785107787.\u001b[0m\n"
     ]
    },
    {
     "name": "stdout",
     "output_type": "stream",
     "text": [
      "Optimization terminated successfully.\n",
      "         Current function value: -1.609429\n",
      "         Iterations: 3\n",
      "         Function evaluations: 399\n",
      "Optimization terminated successfully.\n",
      "         Current function value: -1.542091\n",
      "         Iterations: 5\n",
      "         Function evaluations: 759\n"
     ]
    },
    {
     "name": "stderr",
     "output_type": "stream",
     "text": [
      "\u001b[32m[I 2022-03-13 20:28:02,061]\u001b[0m Trial 14 finished with value: 0.7999332437643081 and parameters: {'p': 8, 'd': 1, 'q': 2, 'P': 0, 'D': 1, 'Q': 2}. Best is trial 13 with value: 0.8061081785107787.\u001b[0m\n",
      "\u001b[32m[I 2022-03-13 20:28:03,599]\u001b[0m Trial 15 finished with value: 0.8065950147233666 and parameters: {'p': 7, 'd': 0, 'q': 1, 'P': 0, 'D': 1, 'Q': 1}. Best is trial 15 with value: 0.8065950147233666.\u001b[0m\n"
     ]
    },
    {
     "name": "stdout",
     "output_type": "stream",
     "text": [
      "Optimization terminated successfully.\n",
      "         Current function value: -1.609114\n",
      "         Iterations: 3\n",
      "         Function evaluations: 336\n"
     ]
    },
    {
     "name": "stderr",
     "output_type": "stream",
     "text": [
      "\u001b[32m[I 2022-03-13 20:28:05,285]\u001b[0m Trial 16 finished with value: 0.8054257425611393 and parameters: {'p': 6, 'd': 0, 'q': 2, 'P': 0, 'D': 1, 'Q': 1}. Best is trial 15 with value: 0.8065950147233666.\u001b[0m\n"
     ]
    },
    {
     "name": "stdout",
     "output_type": "stream",
     "text": [
      "Optimization terminated successfully.\n",
      "         Current function value: -1.605416\n",
      "         Iterations: 3\n",
      "         Function evaluations: 346\n",
      "Optimization terminated successfully.\n",
      "         Current function value: -1.518473\n",
      "         Iterations: 7\n",
      "         Function evaluations: 1153\n"
     ]
    },
    {
     "name": "stderr",
     "output_type": "stream",
     "text": [
      "\u001b[32m[I 2022-03-13 20:28:14,200]\u001b[0m Trial 17 finished with value: 0.7962784039778807 and parameters: {'p': 7, 'd': 1, 'q': 1, 'P': 2, 'D': 1, 'Q': 2}. Best is trial 15 with value: 0.8065950147233666.\u001b[0m\n"
     ]
    },
    {
     "name": "stdout",
     "output_type": "stream",
     "text": [
      "Optimization terminated successfully.\n",
      "         Current function value: -1.585523\n",
      "         Iterations: 19\n",
      "         Function evaluations: 3342\n"
     ]
    },
    {
     "name": "stderr",
     "output_type": "stream",
     "text": [
      "\u001b[32m[I 2022-03-13 20:28:32,587]\u001b[0m Trial 18 finished with value: 0.79807877656506 and parameters: {'p': 7, 'd': 0, 'q': 4, 'P': 1, 'D': 1, 'Q': 1}. Best is trial 15 with value: 0.8065950147233666.\u001b[0m\n",
      "\u001b[32m[I 2022-03-13 20:28:34,749]\u001b[0m Trial 19 finished with value: 0.8027401231050414 and parameters: {'p': 5, 'd': 0, 'q': 1, 'P': 0, 'D': 1, 'Q': 2}. Best is trial 15 with value: 0.8065950147233666.\u001b[0m\n"
     ]
    },
    {
     "name": "stdout",
     "output_type": "stream",
     "text": [
      "Optimization terminated successfully.\n",
      "         Current function value: -1.551662\n",
      "         Iterations: 3\n",
      "         Function evaluations: 321\n"
     ]
    },
    {
     "name": "stderr",
     "output_type": "stream",
     "text": [
      "\u001b[32m[I 2022-03-13 20:28:37,824]\u001b[0m Trial 20 finished with value: 0.6822661692087806 and parameters: {'p': 5, 'd': 1, 'q': 4, 'P': 1, 'D': 1, 'Q': 0}. Best is trial 15 with value: 0.8065950147233666.\u001b[0m\n"
     ]
    },
    {
     "name": "stdout",
     "output_type": "stream",
     "text": [
      "Optimization terminated successfully.\n",
      "         Current function value: -1.500351\n",
      "         Iterations: 4\n",
      "         Function evaluations: 650\n"
     ]
    },
    {
     "name": "stderr",
     "output_type": "stream",
     "text": [
      "\u001b[32m[I 2022-03-13 20:28:39,610]\u001b[0m Trial 21 finished with value: 0.8061081785107787 and parameters: {'p': 8, 'd': 0, 'q': 1, 'P': 0, 'D': 1, 'Q': 1}. Best is trial 15 with value: 0.8065950147233666.\u001b[0m\n"
     ]
    },
    {
     "name": "stdout",
     "output_type": "stream",
     "text": [
      "Optimization terminated successfully.\n",
      "         Current function value: -1.609429\n",
      "         Iterations: 3\n",
      "         Function evaluations: 399\n"
     ]
    },
    {
     "name": "stderr",
     "output_type": "stream",
     "text": [
      "\u001b[32m[I 2022-03-13 20:28:41,439]\u001b[0m Trial 22 finished with value: 0.8061081785107787 and parameters: {'p': 8, 'd': 0, 'q': 1, 'P': 0, 'D': 1, 'Q': 1}. Best is trial 15 with value: 0.8065950147233666.\u001b[0m\n"
     ]
    },
    {
     "name": "stdout",
     "output_type": "stream",
     "text": [
      "Optimization terminated successfully.\n",
      "         Current function value: -1.609429\n",
      "         Iterations: 3\n",
      "         Function evaluations: 399\n"
     ]
    },
    {
     "name": "stderr",
     "output_type": "stream",
     "text": [
      "\u001b[32m[I 2022-03-13 20:28:46,224]\u001b[0m Trial 23 finished with value: 0.8031967188954798 and parameters: {'p': 7, 'd': 0, 'q': 3, 'P': 0, 'D': 1, 'Q': 1}. Best is trial 15 with value: 0.8065950147233666.\u001b[0m\n"
     ]
    },
    {
     "name": "stdout",
     "output_type": "stream",
     "text": [
      "Optimization terminated successfully.\n",
      "         Current function value: -1.601151\n",
      "         Iterations: 7\n",
      "         Function evaluations: 1025\n"
     ]
    },
    {
     "name": "stderr",
     "output_type": "stream",
     "text": [
      "\u001b[32m[I 2022-03-13 20:28:48,045]\u001b[0m Trial 24 finished with value: 0.8061081785107787 and parameters: {'p': 8, 'd': 0, 'q': 1, 'P': 0, 'D': 1, 'Q': 1}. Best is trial 15 with value: 0.8065950147233666.\u001b[0m\n"
     ]
    },
    {
     "name": "stdout",
     "output_type": "stream",
     "text": [
      "Optimization terminated successfully.\n",
      "         Current function value: -1.609429\n",
      "         Iterations: 3\n",
      "         Function evaluations: 399\n",
      "Optimization terminated successfully.\n",
      "         Current function value: -1.554429\n",
      "         Iterations: 6\n",
      "         Function evaluations: 978\n"
     ]
    },
    {
     "name": "stderr",
     "output_type": "stream",
     "text": [
      "\u001b[32m[I 2022-03-13 20:28:55,115]\u001b[0m Trial 25 finished with value: 0.8070952512975006 and parameters: {'p': 7, 'd': 0, 'q': 2, 'P': 1, 'D': 1, 'Q': 2}. Best is trial 25 with value: 0.8070952512975006.\u001b[0m\n"
     ]
    },
    {
     "name": "stdout",
     "output_type": "stream",
     "text": [
      "Optimization terminated successfully.\n",
      "         Current function value: -1.554122\n",
      "         Iterations: 7\n",
      "         Function evaluations: 999\n"
     ]
    },
    {
     "name": "stderr",
     "output_type": "stream",
     "text": [
      "\u001b[32m[I 2022-03-13 20:29:02,311]\u001b[0m Trial 26 finished with value: 0.8064393655821024 and parameters: {'p': 6, 'd': 0, 'q': 2, 'P': 1, 'D': 1, 'Q': 2}. Best is trial 25 with value: 0.8070952512975006.\u001b[0m\n"
     ]
    },
    {
     "name": "stdout",
     "output_type": "stream",
     "text": [
      "Optimization terminated successfully.\n",
      "         Current function value: -1.534807\n",
      "         Iterations: 7\n",
      "         Function evaluations: 1068\n"
     ]
    },
    {
     "name": "stderr",
     "output_type": "stream",
     "text": [
      "\u001b[32m[I 2022-03-13 20:29:10,170]\u001b[0m Trial 27 finished with value: 0.8051802982652136 and parameters: {'p': 6, 'd': 0, 'q': 2, 'P': 2, 'D': 1, 'Q': 2}. Best is trial 25 with value: 0.8070952512975006.\u001b[0m\n"
     ]
    },
    {
     "name": "stdout",
     "output_type": "stream",
     "text": [
      "Optimization terminated successfully.\n",
      "         Current function value: -1.548468\n",
      "         Iterations: 9\n",
      "         Function evaluations: 1381\n"
     ]
    },
    {
     "name": "stderr",
     "output_type": "stream",
     "text": [
      "\u001b[32m[I 2022-03-13 20:29:20,569]\u001b[0m Trial 28 finished with value: 0.8014102910248972 and parameters: {'p': 4, 'd': 0, 'q': 4, 'P': 1, 'D': 1, 'Q': 2}. Best is trial 25 with value: 0.8070952512975006.\u001b[0m\n"
     ]
    },
    {
     "name": "stdout",
     "output_type": "stream",
     "text": [
      "Optimization terminated successfully.\n",
      "         Current function value: -1.489209\n",
      "         Iterations: 8\n",
      "         Function evaluations: 1355\n"
     ]
    },
    {
     "name": "stderr",
     "output_type": "stream",
     "text": [
      "\u001b[32m[I 2022-03-13 20:29:34,599]\u001b[0m Trial 29 finished with value: 0.8020042558393805 and parameters: {'p': 7, 'd': 0, 'q': 3, 'P': 1, 'D': 1, 'Q': 3}. Best is trial 25 with value: 0.8070952512975006.\u001b[0m\n"
     ]
    },
    {
     "name": "stdout",
     "output_type": "stream",
     "text": [
      "Optimization terminated successfully.\n",
      "         Current function value: -1.536111\n",
      "         Iterations: 20\n",
      "         Function evaluations: 3969\n"
     ]
    },
    {
     "name": "stderr",
     "output_type": "stream",
     "text": [
      "\u001b[32m[I 2022-03-13 20:30:04,892]\u001b[0m Trial 30 finished with value: 0.807296602636766 and parameters: {'p': 6, 'd': 0, 'q': 5, 'P': 2, 'D': 1, 'Q': 2}. Best is trial 30 with value: 0.807296602636766.\u001b[0m\n"
     ]
    },
    {
     "name": "stdout",
     "output_type": "stream",
     "text": [
      "Optimization terminated successfully.\n",
      "         Current function value: -1.536111\n",
      "         Iterations: 20\n",
      "         Function evaluations: 3969\n"
     ]
    },
    {
     "name": "stderr",
     "output_type": "stream",
     "text": [
      "\u001b[32m[I 2022-03-13 20:30:35,122]\u001b[0m Trial 31 finished with value: 0.807296602636766 and parameters: {'p': 6, 'd': 0, 'q': 5, 'P': 2, 'D': 1, 'Q': 2}. Best is trial 30 with value: 0.807296602636766.\u001b[0m\n"
     ]
    },
    {
     "name": "stdout",
     "output_type": "stream",
     "text": [
      "Optimization terminated successfully.\n",
      "         Current function value: -1.532510\n",
      "         Iterations: 12\n",
      "         Function evaluations: 2236\n"
     ]
    },
    {
     "name": "stderr",
     "output_type": "stream",
     "text": [
      "\u001b[32m[I 2022-03-13 20:30:51,635]\u001b[0m Trial 32 finished with value: 0.8035425036644317 and parameters: {'p': 5, 'd': 0, 'q': 5, 'P': 2, 'D': 1, 'Q': 2}. Best is trial 30 with value: 0.807296602636766.\u001b[0m\n"
     ]
    },
    {
     "name": "stdout",
     "output_type": "stream",
     "text": [
      "Optimization terminated successfully.\n",
      "         Current function value: -1.524748\n",
      "         Iterations: 42\n",
      "         Function evaluations: 8852\n"
     ]
    },
    {
     "name": "stderr",
     "output_type": "stream",
     "text": [
      "\u001b[32m[I 2022-03-13 20:32:04,856]\u001b[0m Trial 33 finished with value: 0.7820937030993069 and parameters: {'p': 7, 'd': 0, 'q': 5, 'P': 2, 'D': 1, 'Q': 2}. Best is trial 30 with value: 0.807296602636766.\u001b[0m\n"
     ]
    },
    {
     "name": "stdout",
     "output_type": "stream",
     "text": [
      "Optimization terminated successfully.\n",
      "         Current function value: -1.484162\n",
      "         Iterations: 6\n",
      "         Function evaluations: 1272\n"
     ]
    },
    {
     "name": "stderr",
     "output_type": "stream",
     "text": [
      "\u001b[32m[I 2022-03-13 20:32:20,910]\u001b[0m Trial 34 finished with value: 0.8010222906358978 and parameters: {'p': 6, 'd': 0, 'q': 6, 'P': 2, 'D': 1, 'Q': 3}. Best is trial 30 with value: 0.807296602636766.\u001b[0m\n"
     ]
    },
    {
     "name": "stdout",
     "output_type": "stream",
     "text": [
      "Optimization terminated successfully.\n",
      "         Current function value: -1.596594\n",
      "         Iterations: 6\n",
      "         Function evaluations: 987\n"
     ]
    },
    {
     "name": "stderr",
     "output_type": "stream",
     "text": [
      "\u001b[32m[I 2022-03-13 20:32:26,169]\u001b[0m Trial 35 finished with value: 0.7972695092467024 and parameters: {'p': 4, 'd': 0, 'q': 5, 'P': 2, 'D': 0, 'Q': 2}. Best is trial 30 with value: 0.807296602636766.\u001b[0m\n"
     ]
    },
    {
     "name": "stdout",
     "output_type": "stream",
     "text": [
      "Optimization terminated successfully.\n",
      "         Current function value: -1.535429\n",
      "         Iterations: 8\n",
      "         Function evaluations: 1019\n"
     ]
    },
    {
     "name": "stderr",
     "output_type": "stream",
     "text": [
      "\u001b[32m[I 2022-03-13 20:32:33,498]\u001b[0m Trial 36 finished with value: 0.8013249856748227 and parameters: {'p': 0, 'd': 0, 'q': 4, 'P': 2, 'D': 1, 'Q': 2}. Best is trial 30 with value: 0.807296602636766.\u001b[0m\n"
     ]
    },
    {
     "name": "stdout",
     "output_type": "stream",
     "text": [
      "Optimization terminated successfully.\n",
      "         Current function value: -1.531426\n",
      "         Iterations: 7\n",
      "         Function evaluations: 1628\n"
     ]
    },
    {
     "name": "stderr",
     "output_type": "stream",
     "text": [
      "\u001b[32m[I 2022-03-13 20:32:47,372]\u001b[0m Trial 37 finished with value: 0.8161100510968271 and parameters: {'p': 7, 'd': 0, 'q': 6, 'P': 3, 'D': 0, 'Q': 3}. Best is trial 37 with value: 0.8161100510968271.\u001b[0m\n"
     ]
    },
    {
     "name": "stdout",
     "output_type": "stream",
     "text": [
      "Optimization terminated successfully.\n",
      "         Current function value: -1.532060\n",
      "         Iterations: 7\n",
      "         Function evaluations: 1462\n"
     ]
    },
    {
     "name": "stderr",
     "output_type": "stream",
     "text": [
      "\u001b[32m[I 2022-03-13 20:32:59,773]\u001b[0m Trial 38 finished with value: 0.8068350366958553 and parameters: {'p': 5, 'd': 0, 'q': 6, 'P': 3, 'D': 0, 'Q': 3}. Best is trial 37 with value: 0.8161100510968271.\u001b[0m\n"
     ]
    },
    {
     "name": "stdout",
     "output_type": "stream",
     "text": [
      "Optimization terminated successfully.\n",
      "         Current function value: -1.514930\n",
      "         Iterations: 11\n",
      "         Function evaluations: 2887\n"
     ]
    },
    {
     "name": "stderr",
     "output_type": "stream",
     "text": [
      "\u001b[32m[I 2022-03-13 20:33:25,346]\u001b[0m Trial 39 finished with value: 0.7929882315210626 and parameters: {'p': 6, 'd': 1, 'q': 7, 'P': 3, 'D': 0, 'Q': 3}. Best is trial 37 with value: 0.8161100510968271.\u001b[0m\n"
     ]
    },
    {
     "name": "stdout",
     "output_type": "stream",
     "text": [
      "Optimization terminated successfully.\n",
      "         Current function value: -1.529198\n",
      "         Iterations: 10\n",
      "         Function evaluations: 1875\n"
     ]
    },
    {
     "name": "stderr",
     "output_type": "stream",
     "text": [
      "\u001b[32m[I 2022-03-13 20:33:40,500]\u001b[0m Trial 40 finished with value: 0.7995233992954006 and parameters: {'p': 1, 'd': 0, 'q': 7, 'P': 3, 'D': 0, 'Q': 3}. Best is trial 37 with value: 0.8161100510968271.\u001b[0m\n"
     ]
    },
    {
     "name": "stdout",
     "output_type": "stream",
     "text": [
      "Optimization terminated successfully.\n",
      "         Current function value: -1.532060\n",
      "         Iterations: 7\n",
      "         Function evaluations: 1462\n"
     ]
    },
    {
     "name": "stderr",
     "output_type": "stream",
     "text": [
      "\u001b[32m[I 2022-03-13 20:33:52,967]\u001b[0m Trial 41 finished with value: 0.8068350366958553 and parameters: {'p': 5, 'd': 0, 'q': 6, 'P': 3, 'D': 0, 'Q': 3}. Best is trial 37 with value: 0.8161100510968271.\u001b[0m\n"
     ]
    },
    {
     "name": "stdout",
     "output_type": "stream",
     "text": [
      "Optimization terminated successfully.\n",
      "         Current function value: -1.532060\n",
      "         Iterations: 7\n",
      "         Function evaluations: 1462\n"
     ]
    },
    {
     "name": "stderr",
     "output_type": "stream",
     "text": [
      "\u001b[32m[I 2022-03-13 20:34:05,226]\u001b[0m Trial 42 finished with value: 0.8068350366958553 and parameters: {'p': 5, 'd': 0, 'q': 6, 'P': 3, 'D': 0, 'Q': 3}. Best is trial 37 with value: 0.8161100510968271.\u001b[0m\n"
     ]
    },
    {
     "name": "stdout",
     "output_type": "stream",
     "text": [
      "Optimization terminated successfully.\n",
      "         Current function value: -1.531426\n",
      "         Iterations: 7\n",
      "         Function evaluations: 1628\n"
     ]
    },
    {
     "name": "stderr",
     "output_type": "stream",
     "text": [
      "\u001b[32m[I 2022-03-13 20:34:18,953]\u001b[0m Trial 43 finished with value: 0.8161100510968271 and parameters: {'p': 7, 'd': 0, 'q': 6, 'P': 3, 'D': 0, 'Q': 3}. Best is trial 37 with value: 0.8161100510968271.\u001b[0m\n"
     ]
    },
    {
     "name": "stdout",
     "output_type": "stream",
     "text": [
      "Optimization terminated successfully.\n",
      "         Current function value: -1.531987\n",
      "         Iterations: 7\n",
      "         Function evaluations: 1476\n"
     ]
    },
    {
     "name": "stderr",
     "output_type": "stream",
     "text": [
      "\u001b[32m[I 2022-03-13 20:34:31,508]\u001b[0m Trial 44 finished with value: 0.7992992889714059 and parameters: {'p': 7, 'd': 0, 'q': 5, 'P': 3, 'D': 0, 'Q': 3}. Best is trial 37 with value: 0.8161100510968271.\u001b[0m\n"
     ]
    },
    {
     "name": "stdout",
     "output_type": "stream",
     "text": [
      "Optimization terminated successfully.\n",
      "         Current function value: -1.529715\n",
      "         Iterations: 18\n",
      "         Function evaluations: 4590\n"
     ]
    },
    {
     "name": "stderr",
     "output_type": "stream",
     "text": [
      "\u001b[32m[I 2022-03-13 20:35:09,634]\u001b[0m Trial 45 finished with value: 0.8252929784350668 and parameters: {'p': 7, 'd': 0, 'q': 8, 'P': 3, 'D': 0, 'Q': 2}. Best is trial 45 with value: 0.8252929784350668.\u001b[0m\n"
     ]
    },
    {
     "name": "stdout",
     "output_type": "stream",
     "text": [
      "Optimization terminated successfully.\n",
      "         Current function value: -1.525241\n",
      "         Iterations: 14\n",
      "         Function evaluations: 3666\n"
     ]
    },
    {
     "name": "stderr",
     "output_type": "stream",
     "text": [
      "\u001b[32m[I 2022-03-13 20:35:42,422]\u001b[0m Trial 46 finished with value: 0.805694352735726 and parameters: {'p': 6, 'd': 0, 'q': 8, 'P': 3, 'D': 0, 'Q': 3}. Best is trial 45 with value: 0.8252929784350668.\u001b[0m\n"
     ]
    },
    {
     "name": "stdout",
     "output_type": "stream",
     "text": [
      "Optimization terminated successfully.\n",
      "         Current function value: -1.541250\n",
      "         Iterations: 11\n",
      "         Function evaluations: 2343\n"
     ]
    },
    {
     "name": "stderr",
     "output_type": "stream",
     "text": [
      "\u001b[32m[I 2022-03-13 20:35:58,964]\u001b[0m Trial 47 finished with value: 0.7982182026144911 and parameters: {'p': 3, 'd': 0, 'q': 7, 'P': 3, 'D': 0, 'Q': 2}. Best is trial 45 with value: 0.8252929784350668.\u001b[0m\n"
     ]
    },
    {
     "name": "stdout",
     "output_type": "stream",
     "text": [
      "Optimization terminated successfully.\n",
      "         Current function value: -1.511344\n",
      "         Iterations: 12\n",
      "         Function evaluations: 3118\n"
     ]
    },
    {
     "name": "stderr",
     "output_type": "stream",
     "text": [
      "\u001b[32m[I 2022-03-13 20:36:26,959]\u001b[0m Trial 48 finished with value: 0.7985122854267651 and parameters: {'p': 8, 'd': 0, 'q': 8, 'P': 2, 'D': 0, 'Q': 3}. Best is trial 45 with value: 0.8252929784350668.\u001b[0m\n"
     ]
    },
    {
     "name": "stdout",
     "output_type": "stream",
     "text": [
      "Optimization terminated successfully.\n",
      "         Current function value: -1.527249\n",
      "         Iterations: 11\n",
      "         Function evaluations: 2602\n"
     ]
    },
    {
     "name": "stderr",
     "output_type": "stream",
     "text": [
      "\u001b[32m[I 2022-03-13 20:36:48,886]\u001b[0m Trial 49 finished with value: 0.8041295007061394 and parameters: {'p': 7, 'd': 0, 'q': 7, 'P': 3, 'D': 0, 'Q': 2}. Best is trial 45 with value: 0.8252929784350668.\u001b[0m\n",
      "\u001b[32m[I 2022-03-13 20:36:48,894]\u001b[0m A new study created in memory with name: no-name-0cf3a0f0-6ef9-4922-b83f-1705de3dc5f1\u001b[0m\n"
     ]
    },
    {
     "name": "stdout",
     "output_type": "stream",
     "text": [
      "Optimization terminated successfully.\n",
      "         Current function value: -1.351408\n",
      "         Iterations: 3\n",
      "         Function evaluations: 358\n"
     ]
    },
    {
     "name": "stderr",
     "output_type": "stream",
     "text": [
      "\u001b[32m[I 2022-03-13 20:36:51,516]\u001b[0m Trial 0 finished with value: 0.5534800385661633 and parameters: {'p': 1, 'd': 0, 'q': 2, 'P': 3, 'D': 0, 'Q': 3}. Best is trial 0 with value: 0.5534800385661633.\u001b[0m\n",
      "\u001b[32m[I 2022-03-13 20:36:54,362]\u001b[0m Trial 1 finished with value: 0.5530117644472488 and parameters: {'p': 4, 'd': 0, 'q': 2, 'P': 1, 'D': 0, 'Q': 2}. Best is trial 0 with value: 0.5534800385661633.\u001b[0m\n"
     ]
    },
    {
     "name": "stdout",
     "output_type": "stream",
     "text": [
      "Optimization terminated successfully.\n",
      "         Current function value: -1.397198\n",
      "         Iterations: 5\n",
      "         Function evaluations: 609\n",
      "Optimization terminated successfully.\n",
      "         Current function value: -1.321811\n",
      "         Iterations: 16\n",
      "         Function evaluations: 4414\n"
     ]
    },
    {
     "name": "stderr",
     "output_type": "stream",
     "text": [
      "\u001b[32m[I 2022-03-13 20:37:33,008]\u001b[0m Trial 2 finished with value: 0.5129333892443331 and parameters: {'p': 7, 'd': 1, 'q': 8, 'P': 2, 'D': 0, 'Q': 3}. Best is trial 0 with value: 0.5534800385661633.\u001b[0m\n",
      "\u001b[32m[I 2022-03-13 20:37:37,325]\u001b[0m Trial 3 finished with value: 0.5529857598447452 and parameters: {'p': 1, 'd': 0, 'q': 5, 'P': 1, 'D': 0, 'Q': 2}. Best is trial 0 with value: 0.5534800385661633.\u001b[0m\n"
     ]
    },
    {
     "name": "stdout",
     "output_type": "stream",
     "text": [
      "Optimization terminated successfully.\n",
      "         Current function value: -1.378676\n",
      "         Iterations: 7\n",
      "         Function evaluations: 865\n"
     ]
    },
    {
     "name": "stderr",
     "output_type": "stream",
     "text": [
      "\u001b[32m[I 2022-03-13 20:37:41,493]\u001b[0m Trial 4 finished with value: 0.5868042670988807 and parameters: {'p': 0, 'd': 0, 'q': 3, 'P': 2, 'D': 1, 'Q': 2}. Best is trial 4 with value: 0.5868042670988807.\u001b[0m\n"
     ]
    },
    {
     "name": "stdout",
     "output_type": "stream",
     "text": [
      "Optimization terminated successfully.\n",
      "         Current function value: -1.344526\n",
      "         Iterations: 6\n",
      "         Function evaluations: 654\n",
      "Optimization terminated successfully.\n",
      "         Current function value: -1.374988\n",
      "         Iterations: 16\n",
      "         Function evaluations: 3777\n"
     ]
    },
    {
     "name": "stderr",
     "output_type": "stream",
     "text": [
      "\u001b[32m[I 2022-03-13 20:38:02,215]\u001b[0m Trial 5 finished with value: 0.4823610324759523 and parameters: {'p': 6, 'd': 1, 'q': 7, 'P': 2, 'D': 0, 'Q': 1}. Best is trial 4 with value: 0.5868042670988807.\u001b[0m\n"
     ]
    },
    {
     "name": "stdout",
     "output_type": "stream",
     "text": [
      "Optimization terminated successfully.\n",
      "         Current function value: -1.380102\n",
      "         Iterations: 9\n",
      "         Function evaluations: 1973\n"
     ]
    },
    {
     "name": "stderr",
     "output_type": "stream",
     "text": [
      "\u001b[32m[I 2022-03-13 20:38:12,852]\u001b[0m Trial 6 finished with value: 0.5906006000066296 and parameters: {'p': 5, 'd': 0, 'q': 7, 'P': 2, 'D': 0, 'Q': 2}. Best is trial 6 with value: 0.5906006000066296.\u001b[0m\n"
     ]
    },
    {
     "name": "stdout",
     "output_type": "stream",
     "text": [
      "Optimization terminated successfully.\n",
      "         Current function value: -1.301707\n",
      "         Iterations: 7\n",
      "         Function evaluations: 1081\n"
     ]
    },
    {
     "name": "stderr",
     "output_type": "stream",
     "text": [
      "\u001b[32m[I 2022-03-13 20:38:22,653]\u001b[0m Trial 7 finished with value: 0.5750779314661313 and parameters: {'p': 3, 'd': 0, 'q': 3, 'P': 3, 'D': 1, 'Q': 3}. Best is trial 6 with value: 0.5906006000066296.\u001b[0m\n"
     ]
    },
    {
     "name": "stdout",
     "output_type": "stream",
     "text": [
      "Optimization terminated successfully.\n",
      "         Current function value: -1.373265\n",
      "         Iterations: 11\n",
      "         Function evaluations: 1848\n"
     ]
    },
    {
     "name": "stderr",
     "output_type": "stream",
     "text": [
      "\u001b[32m[I 2022-03-13 20:38:32,570]\u001b[0m Trial 8 finished with value: 0.5141035499411213 and parameters: {'p': 7, 'd': 1, 'q': 3, 'P': 1, 'D': 1, 'Q': 1}. Best is trial 6 with value: 0.5906006000066296.\u001b[0m\n"
     ]
    },
    {
     "name": "stdout",
     "output_type": "stream",
     "text": [
      "Optimization terminated successfully.\n",
      "         Current function value: -1.320388\n",
      "         Iterations: 8\n",
      "         Function evaluations: 1311\n"
     ]
    },
    {
     "name": "stderr",
     "output_type": "stream",
     "text": [
      "\u001b[32m[I 2022-03-13 20:38:38,919]\u001b[0m Trial 9 finished with value: 0.4623603612394016 and parameters: {'p': 6, 'd': 1, 'q': 4, 'P': 2, 'D': 0, 'Q': 0}. Best is trial 6 with value: 0.5906006000066296.\u001b[0m\n",
      "\u001b[32m[I 2022-03-13 20:38:39,066]\u001b[0m Trial 10 finished with value: 0.2452836062674968 and parameters: {'p': 3, 'd': 0, 'q': 0, 'P': 0, 'D': 1, 'Q': 0}. Best is trial 6 with value: 0.5906006000066296.\u001b[0m\n"
     ]
    },
    {
     "name": "stdout",
     "output_type": "stream",
     "text": [
      "Optimization terminated successfully.\n",
      "         Current function value: -1.173859\n",
      "         Iterations: 1\n",
      "         Function evaluations: 92\n",
      "Optimization terminated successfully.\n",
      "         Current function value: -1.334884\n",
      "         Iterations: 4\n",
      "         Function evaluations: 530\n"
     ]
    },
    {
     "name": "stderr",
     "output_type": "stream",
     "text": [
      "\u001b[32m[I 2022-03-13 20:38:43,596]\u001b[0m Trial 11 finished with value: 0.5914699185211226 and parameters: {'p': 0, 'd': 0, 'q': 6, 'P': 2, 'D': 1, 'Q': 2}. Best is trial 11 with value: 0.5914699185211226.\u001b[0m\n"
     ]
    },
    {
     "name": "stdout",
     "output_type": "stream",
     "text": [
      "Optimization terminated successfully.\n",
      "         Current function value: -1.310373\n",
      "         Iterations: 15\n",
      "         Function evaluations: 3068\n"
     ]
    },
    {
     "name": "stderr",
     "output_type": "stream",
     "text": [
      "\u001b[32m[I 2022-03-13 20:39:14,750]\u001b[0m Trial 12 finished with value: 0.5590016340648858 and parameters: {'p': 5, 'd': 0, 'q': 6, 'P': 3, 'D': 1, 'Q': 2}. Best is trial 11 with value: 0.5914699185211226.\u001b[0m\n"
     ]
    },
    {
     "name": "stdout",
     "output_type": "stream",
     "text": [
      "Optimization terminated successfully.\n",
      "         Current function value: -1.382398\n",
      "         Iterations: 15\n",
      "         Function evaluations: 2506\n"
     ]
    },
    {
     "name": "stderr",
     "output_type": "stream",
     "text": [
      "\u001b[32m[I 2022-03-13 20:39:29,957]\u001b[0m Trial 13 finished with value: 0.624483324090887 and parameters: {'p': 3, 'd': 0, 'q': 8, 'P': 0, 'D': 1, 'Q': 1}. Best is trial 13 with value: 0.624483324090887.\u001b[0m\n",
      "\u001b[32m[I 2022-03-13 20:39:35,725]\u001b[0m Trial 14 finished with value: 0.6174765936614336 and parameters: {'p': 2, 'd': 0, 'q': 8, 'P': 0, 'D': 1, 'Q': 1}. Best is trial 13 with value: 0.624483324090887.\u001b[0m\n"
     ]
    },
    {
     "name": "stdout",
     "output_type": "stream",
     "text": [
      "Optimization terminated successfully.\n",
      "         Current function value: -1.377078\n",
      "         Iterations: 6\n",
      "         Function evaluations: 945\n"
     ]
    },
    {
     "name": "stderr",
     "output_type": "stream",
     "text": [
      "\u001b[32m[I 2022-03-13 20:39:41,330]\u001b[0m Trial 15 finished with value: 0.6174765936614336 and parameters: {'p': 2, 'd': 0, 'q': 8, 'P': 0, 'D': 1, 'Q': 1}. Best is trial 13 with value: 0.624483324090887.\u001b[0m\n"
     ]
    },
    {
     "name": "stdout",
     "output_type": "stream",
     "text": [
      "Optimization terminated successfully.\n",
      "         Current function value: -1.377078\n",
      "         Iterations: 6\n",
      "         Function evaluations: 945\n"
     ]
    },
    {
     "name": "stderr",
     "output_type": "stream",
     "text": [
      "\u001b[32m[I 2022-03-13 20:39:51,998]\u001b[0m Trial 16 finished with value: 0.26226204983843415 and parameters: {'p': 3, 'd': 0, 'q': 8, 'P': 0, 'D': 1, 'Q': 0}. Best is trial 13 with value: 0.624483324090887.\u001b[0m\n"
     ]
    },
    {
     "name": "stdout",
     "output_type": "stream",
     "text": [
      "Optimization terminated successfully.\n",
      "         Current function value: -1.245625\n",
      "         Iterations: 19\n",
      "         Function evaluations: 2939\n"
     ]
    },
    {
     "name": "stderr",
     "output_type": "stream",
     "text": [
      "\u001b[32m[I 2022-03-13 20:39:55,262]\u001b[0m Trial 17 finished with value: 0.535967470785126 and parameters: {'p': 2, 'd': 1, 'q': 6, 'P': 0, 'D': 1, 'Q': 1}. Best is trial 13 with value: 0.624483324090887.\u001b[0m\n"
     ]
    },
    {
     "name": "stdout",
     "output_type": "stream",
     "text": [
      "Optimization terminated successfully.\n",
      "         Current function value: -1.365064\n",
      "         Iterations: 4\n",
      "         Function evaluations: 581\n",
      "Optimization terminated successfully.\n",
      "         Current function value: -1.398285\n",
      "         Iterations: 25\n",
      "         Function evaluations: 4535\n"
     ]
    },
    {
     "name": "stderr",
     "output_type": "stream",
     "text": [
      "\u001b[32m[I 2022-03-13 20:40:17,863]\u001b[0m Trial 18 finished with value: 0.5750553060390822 and parameters: {'p': 4, 'd': 0, 'q': 7, 'P': 1, 'D': 1, 'Q': 1}. Best is trial 13 with value: 0.624483324090887.\u001b[0m\n",
      "\u001b[32m[I 2022-03-13 20:40:18,709]\u001b[0m Trial 19 finished with value: 0.2344703381496409 and parameters: {'p': 2, 'd': 0, 'q': 5, 'P': 0, 'D': 1, 'Q': 0}. Best is trial 13 with value: 0.624483324090887.\u001b[0m\n"
     ]
    },
    {
     "name": "stdout",
     "output_type": "stream",
     "text": [
      "Optimization terminated successfully.\n",
      "         Current function value: -1.165218\n",
      "         Iterations: 6\n",
      "         Function evaluations: 609\n"
     ]
    },
    {
     "name": "stderr",
     "output_type": "stream",
     "text": [
      "\u001b[32m[I 2022-03-13 20:40:19,375]\u001b[0m Trial 20 finished with value: -0.5427324653124324 and parameters: {'p': 1, 'd': 1, 'q': 0, 'P': 0, 'D': 1, 'Q': 1}. Best is trial 13 with value: 0.624483324090887.\u001b[0m\n"
     ]
    },
    {
     "name": "stdout",
     "output_type": "stream",
     "text": [
      "Optimization terminated successfully.\n",
      "         Current function value: -1.208860\n",
      "         Iterations: 3\n",
      "         Function evaluations: 137\n"
     ]
    },
    {
     "name": "stderr",
     "output_type": "stream",
     "text": [
      "\u001b[32m[I 2022-03-13 20:40:25,065]\u001b[0m Trial 21 finished with value: 0.6174765936614336 and parameters: {'p': 2, 'd': 0, 'q': 8, 'P': 0, 'D': 1, 'Q': 1}. Best is trial 13 with value: 0.624483324090887.\u001b[0m\n"
     ]
    },
    {
     "name": "stdout",
     "output_type": "stream",
     "text": [
      "Optimization terminated successfully.\n",
      "         Current function value: -1.377078\n",
      "         Iterations: 6\n",
      "         Function evaluations: 945\n",
      "Optimization terminated successfully.\n",
      "         Current function value: -1.384376\n",
      "         Iterations: 8\n",
      "         Function evaluations: 1380\n"
     ]
    },
    {
     "name": "stderr",
     "output_type": "stream",
     "text": [
      "\u001b[32m[I 2022-03-13 20:40:33,227]\u001b[0m Trial 22 finished with value: 0.6131982771312829 and parameters: {'p': 4, 'd': 0, 'q': 8, 'P': 0, 'D': 1, 'Q': 1}. Best is trial 13 with value: 0.624483324090887.\u001b[0m\n",
      "\u001b[32m[I 2022-03-13 20:40:35,991]\u001b[0m Trial 23 finished with value: 0.5930260111785028 and parameters: {'p': 2, 'd': 0, 'q': 7, 'P': 1, 'D': 1, 'Q': 1}. Best is trial 13 with value: 0.624483324090887.\u001b[0m\n"
     ]
    },
    {
     "name": "stdout",
     "output_type": "stream",
     "text": [
      "Optimization terminated successfully.\n",
      "         Current function value: -1.382556\n",
      "         Iterations: 4\n",
      "         Function evaluations: 598\n"
     ]
    },
    {
     "name": "stderr",
     "output_type": "stream",
     "text": [
      "\u001b[32m[I 2022-03-13 20:40:46,671]\u001b[0m Trial 24 finished with value: 0.26226204983843415 and parameters: {'p': 3, 'd': 0, 'q': 8, 'P': 0, 'D': 1, 'Q': 0}. Best is trial 13 with value: 0.624483324090887.\u001b[0m\n"
     ]
    },
    {
     "name": "stdout",
     "output_type": "stream",
     "text": [
      "Optimization terminated successfully.\n",
      "         Current function value: -1.245625\n",
      "         Iterations: 19\n",
      "         Function evaluations: 2939\n"
     ]
    },
    {
     "name": "stderr",
     "output_type": "stream",
     "text": [
      "\u001b[32m[I 2022-03-13 20:40:49,309]\u001b[0m Trial 25 finished with value: 0.5926156969466564 and parameters: {'p': 1, 'd': 0, 'q': 7, 'P': 1, 'D': 1, 'Q': 1}. Best is trial 13 with value: 0.624483324090887.\u001b[0m\n"
     ]
    },
    {
     "name": "stdout",
     "output_type": "stream",
     "text": [
      "Optimization terminated successfully.\n",
      "         Current function value: -1.382371\n",
      "         Iterations: 4\n",
      "         Function evaluations: 547\n",
      "Optimization terminated successfully.\n",
      "         Current function value: -1.378400\n",
      "         Iterations: 10\n",
      "         Function evaluations: 1896\n"
     ]
    },
    {
     "name": "stderr",
     "output_type": "stream",
     "text": [
      "\u001b[32m[I 2022-03-13 20:40:59,174]\u001b[0m Trial 26 finished with value: 0.5933140153663221 and parameters: {'p': 8, 'd': 0, 'q': 5, 'P': 0, 'D': 1, 'Q': 1}. Best is trial 13 with value: 0.624483324090887.\u001b[0m\n",
      "\u001b[32m[I 2022-03-13 20:41:02,457]\u001b[0m Trial 27 finished with value: 0.26446277528180173 and parameters: {'p': 2, 'd': 0, 'q': 6, 'P': 0, 'D': 1, 'Q': 0}. Best is trial 13 with value: 0.624483324090887.\u001b[0m\n"
     ]
    },
    {
     "name": "stdout",
     "output_type": "stream",
     "text": [
      "Optimization terminated successfully.\n",
      "         Current function value: -1.198928\n",
      "         Iterations: 9\n",
      "         Function evaluations: 1094\n",
      "Optimization terminated successfully.\n",
      "         Current function value: -1.384914\n",
      "         Iterations: 6\n",
      "         Function evaluations: 1106\n"
     ]
    },
    {
     "name": "stderr",
     "output_type": "stream",
     "text": [
      "\u001b[32m[I 2022-03-13 20:41:08,340]\u001b[0m Trial 28 finished with value: 0.5985320740331488 and parameters: {'p': 4, 'd': 0, 'q': 8, 'P': 1, 'D': 1, 'Q': 1}. Best is trial 13 with value: 0.624483324090887.\u001b[0m\n"
     ]
    },
    {
     "name": "stdout",
     "output_type": "stream",
     "text": [
      "Optimization terminated successfully.\n",
      "         Current function value: -1.324714\n",
      "         Iterations: 3\n",
      "         Function evaluations: 375\n"
     ]
    },
    {
     "name": "stderr",
     "output_type": "stream",
     "text": [
      "\u001b[32m[I 2022-03-13 20:41:11,211]\u001b[0m Trial 29 finished with value: 0.5923293070012 and parameters: {'p': 0, 'd': 0, 'q': 7, 'P': 0, 'D': 1, 'Q': 2}. Best is trial 13 with value: 0.624483324090887.\u001b[0m\n",
      "\u001b[32m[I 2022-03-13 20:41:11,555]\u001b[0m Trial 30 finished with value: 0.34754723183397684 and parameters: {'p': 3, 'd': 0, 'q': 1, 'P': 1, 'D': 1, 'Q': 0}. Best is trial 13 with value: 0.624483324090887.\u001b[0m\n"
     ]
    },
    {
     "name": "stdout",
     "output_type": "stream",
     "text": [
      "Optimization terminated successfully.\n",
      "         Current function value: -1.312238\n",
      "         Iterations: 2\n",
      "         Function evaluations: 141\n"
     ]
    },
    {
     "name": "stderr",
     "output_type": "stream",
     "text": [
      "\u001b[32m[I 2022-03-13 20:41:17,256]\u001b[0m Trial 31 finished with value: 0.6174765936614336 and parameters: {'p': 2, 'd': 0, 'q': 8, 'P': 0, 'D': 1, 'Q': 1}. Best is trial 13 with value: 0.624483324090887.\u001b[0m\n"
     ]
    },
    {
     "name": "stdout",
     "output_type": "stream",
     "text": [
      "Optimization terminated successfully.\n",
      "         Current function value: -1.377078\n",
      "         Iterations: 6\n",
      "         Function evaluations: 945\n"
     ]
    },
    {
     "name": "stderr",
     "output_type": "stream",
     "text": [
      "\u001b[32m[I 2022-03-13 20:41:24,287]\u001b[0m Trial 32 finished with value: 0.6205857921479982 and parameters: {'p': 1, 'd': 0, 'q': 8, 'P': 0, 'D': 1, 'Q': 1}. Best is trial 13 with value: 0.624483324090887.\u001b[0m\n"
     ]
    },
    {
     "name": "stdout",
     "output_type": "stream",
     "text": [
      "Optimization terminated successfully.\n",
      "         Current function value: -1.378428\n",
      "         Iterations: 8\n",
      "         Function evaluations: 1195\n"
     ]
    },
    {
     "name": "stderr",
     "output_type": "stream",
     "text": [
      "\u001b[32m[I 2022-03-13 20:41:31,354]\u001b[0m Trial 33 finished with value: 0.6205857921479982 and parameters: {'p': 1, 'd': 0, 'q': 8, 'P': 0, 'D': 1, 'Q': 1}. Best is trial 13 with value: 0.624483324090887.\u001b[0m\n"
     ]
    },
    {
     "name": "stdout",
     "output_type": "stream",
     "text": [
      "Optimization terminated successfully.\n",
      "         Current function value: -1.378428\n",
      "         Iterations: 8\n",
      "         Function evaluations: 1195\n"
     ]
    },
    {
     "name": "stderr",
     "output_type": "stream",
     "text": [
      "\u001b[32m[I 2022-03-13 20:41:37,141]\u001b[0m Trial 34 finished with value: -0.1157950743775713 and parameters: {'p': 1, 'd': 0, 'q': 7, 'P': 0, 'D': 0, 'Q': 1}. Best is trial 13 with value: 0.624483324090887.\u001b[0m\n"
     ]
    },
    {
     "name": "stdout",
     "output_type": "stream",
     "text": [
      "Optimization terminated successfully.\n",
      "         Current function value: -1.245658\n",
      "         Iterations: 15\n",
      "         Function evaluations: 2226\n",
      "Optimization terminated successfully.\n",
      "         Current function value: -1.332588\n",
      "         Iterations: 3\n",
      "         Function evaluations: 455\n"
     ]
    },
    {
     "name": "stderr",
     "output_type": "stream",
     "text": [
      "\u001b[32m[I 2022-03-13 20:41:41,365]\u001b[0m Trial 35 finished with value: 0.5924657518090776 and parameters: {'p': 0, 'd': 0, 'q': 8, 'P': 1, 'D': 1, 'Q': 2}. Best is trial 13 with value: 0.624483324090887.\u001b[0m\n",
      "\u001b[32m[I 2022-03-13 20:41:43,514]\u001b[0m Trial 36 finished with value: 0.605305948680456 and parameters: {'p': 1, 'd': 0, 'q': 6, 'P': 0, 'D': 1, 'Q': 1}. Best is trial 13 with value: 0.624483324090887.\u001b[0m\n"
     ]
    },
    {
     "name": "stdout",
     "output_type": "stream",
     "text": [
      "Optimization terminated successfully.\n",
      "         Current function value: -1.378244\n",
      "         Iterations: 3\n",
      "         Function evaluations: 350\n",
      "Optimization terminated successfully.\n",
      "         Current function value: -1.249655\n",
      "         Iterations: 8\n",
      "         Function evaluations: 1309\n"
     ]
    },
    {
     "name": "stderr",
     "output_type": "stream",
     "text": [
      "\u001b[32m[I 2022-03-13 20:41:50,130]\u001b[0m Trial 37 finished with value: 0.08887919263741517 and parameters: {'p': 1, 'd': 0, 'q': 7, 'P': 0, 'D': 0, 'Q': 2}. Best is trial 13 with value: 0.624483324090887.\u001b[0m\n"
     ]
    },
    {
     "name": "stdout",
     "output_type": "stream",
     "text": [
      "Optimization terminated successfully.\n",
      "         Current function value: -1.281172\n",
      "         Iterations: 8\n",
      "         Function evaluations: 1159\n"
     ]
    },
    {
     "name": "stderr",
     "output_type": "stream",
     "text": [
      "\u001b[32m[I 2022-03-13 20:42:05,542]\u001b[0m Trial 38 finished with value: 0.5017897942793136 and parameters: {'p': 0, 'd': 1, 'q': 5, 'P': 1, 'D': 1, 'Q': 3}. Best is trial 13 with value: 0.624483324090887.\u001b[0m\n",
      "\u001b[32m[I 2022-03-13 20:42:06,342]\u001b[0m Trial 39 finished with value: -0.00830593989518813 and parameters: {'p': 1, 'd': 0, 'q': 2, 'P': 0, 'D': 0, 'Q': 1}. Best is trial 13 with value: 0.624483324090887.\u001b[0m\n"
     ]
    },
    {
     "name": "stdout",
     "output_type": "stream",
     "text": [
      "Optimization terminated successfully.\n",
      "         Current function value: -1.195181\n",
      "         Iterations: 8\n",
      "         Function evaluations: 556\n",
      "Optimization terminated successfully.\n",
      "         Current function value: -1.336045\n",
      "         Iterations: 8\n",
      "         Function evaluations: 1390\n"
     ]
    },
    {
     "name": "stderr",
     "output_type": "stream",
     "text": [
      "\u001b[32m[I 2022-03-13 20:42:17,554]\u001b[0m Trial 40 finished with value: 0.5865571385948832 and parameters: {'p': 3, 'd': 0, 'q': 7, 'P': 1, 'D': 1, 'Q': 2}. Best is trial 13 with value: 0.624483324090887.\u001b[0m\n",
      "\u001b[32m[I 2022-03-13 20:42:23,324]\u001b[0m Trial 41 finished with value: 0.6174765936614336 and parameters: {'p': 2, 'd': 0, 'q': 8, 'P': 0, 'D': 1, 'Q': 1}. Best is trial 13 with value: 0.624483324090887.\u001b[0m\n"
     ]
    },
    {
     "name": "stdout",
     "output_type": "stream",
     "text": [
      "Optimization terminated successfully.\n",
      "         Current function value: -1.377078\n",
      "         Iterations: 6\n",
      "         Function evaluations: 945\n",
      "Optimization terminated successfully.\n",
      "         Current function value: -1.377078\n",
      "         Iterations: 6\n",
      "         Function evaluations: 945\n"
     ]
    },
    {
     "name": "stderr",
     "output_type": "stream",
     "text": [
      "\u001b[32m[I 2022-03-13 20:42:29,192]\u001b[0m Trial 42 finished with value: 0.6174765936614336 and parameters: {'p': 2, 'd': 0, 'q': 8, 'P': 0, 'D': 1, 'Q': 1}. Best is trial 13 with value: 0.624483324090887.\u001b[0m\n"
     ]
    },
    {
     "name": "stdout",
     "output_type": "stream",
     "text": [
      "Optimization terminated successfully.\n",
      "         Current function value: -1.382398\n",
      "         Iterations: 15\n",
      "         Function evaluations: 2506\n"
     ]
    },
    {
     "name": "stderr",
     "output_type": "stream",
     "text": [
      "\u001b[32m[I 2022-03-13 20:42:44,555]\u001b[0m Trial 43 finished with value: 0.624483324090887 and parameters: {'p': 3, 'd': 0, 'q': 8, 'P': 0, 'D': 1, 'Q': 1}. Best is trial 13 with value: 0.624483324090887.\u001b[0m\n"
     ]
    },
    {
     "name": "stdout",
     "output_type": "stream",
     "text": [
      "Optimization terminated successfully.\n",
      "         Current function value: -1.391776\n",
      "         Iterations: 10\n",
      "         Function evaluations: 1715\n"
     ]
    },
    {
     "name": "stderr",
     "output_type": "stream",
     "text": [
      "\u001b[32m[I 2022-03-13 20:42:53,933]\u001b[0m Trial 44 finished with value: 0.6167701511062174 and parameters: {'p': 5, 'd': 0, 'q': 7, 'P': 0, 'D': 1, 'Q': 1}. Best is trial 13 with value: 0.624483324090887.\u001b[0m\n",
      "\u001b[32m[I 2022-03-13 20:42:57,774]\u001b[0m Trial 45 finished with value: 0.5926772390610664 and parameters: {'p': 3, 'd': 0, 'q': 4, 'P': 0, 'D': 1, 'Q': 1}. Best is trial 13 with value: 0.624483324090887.\u001b[0m\n"
     ]
    },
    {
     "name": "stdout",
     "output_type": "stream",
     "text": [
      "Optimization terminated successfully.\n",
      "         Current function value: -1.376572\n",
      "         Iterations: 6\n",
      "         Function evaluations: 722\n",
      "Optimization terminated successfully.\n",
      "         Current function value: -1.309709\n",
      "         Iterations: 3\n",
      "         Function evaluations: 450\n"
     ]
    },
    {
     "name": "stderr",
     "output_type": "stream",
     "text": [
      "\u001b[32m[I 2022-03-13 20:43:00,184]\u001b[0m Trial 46 finished with value: 0.4823530015338299 and parameters: {'p': 1, 'd': 0, 'q': 8, 'P': 3, 'D': 1, 'Q': 0}. Best is trial 13 with value: 0.624483324090887.\u001b[0m\n"
     ]
    },
    {
     "name": "stdout",
     "output_type": "stream",
     "text": [
      "Optimization terminated successfully.\n",
      "         Current function value: -1.337633\n",
      "         Iterations: 12\n",
      "         Function evaluations: 1974\n"
     ]
    },
    {
     "name": "stderr",
     "output_type": "stream",
     "text": [
      "\u001b[32m[I 2022-03-13 20:43:14,262]\u001b[0m Trial 47 finished with value: 0.5848910393611682 and parameters: {'p': 3, 'd': 0, 'q': 7, 'P': 0, 'D': 1, 'Q': 2}. Best is trial 13 with value: 0.624483324090887.\u001b[0m\n"
     ]
    },
    {
     "name": "stdout",
     "output_type": "stream",
     "text": [
      "Optimization terminated successfully.\n",
      "         Current function value: -1.376228\n",
      "         Iterations: 12\n",
      "         Function evaluations: 2078\n"
     ]
    },
    {
     "name": "stderr",
     "output_type": "stream",
     "text": [
      "\u001b[32m[I 2022-03-13 20:43:25,390]\u001b[0m Trial 48 finished with value: 0.5326094172631637 and parameters: {'p': 5, 'd': 1, 'q': 6, 'P': 1, 'D': 1, 'Q': 1}. Best is trial 13 with value: 0.624483324090887.\u001b[0m\n",
      "\u001b[32m[I 2022-03-13 20:43:27,886]\u001b[0m Trial 49 finished with value: 0.6091733089152724 and parameters: {'p': 0, 'd': 0, 'q': 8, 'P': 0, 'D': 1, 'Q': 1}. Best is trial 13 with value: 0.624483324090887.\u001b[0m\n"
     ]
    },
    {
     "name": "stdout",
     "output_type": "stream",
     "text": [
      "Optimization terminated successfully.\n",
      "         Current function value: -1.373425\n",
      "         Iterations: 3\n",
      "         Function evaluations: 392\n"
     ]
    }
   ],
   "source": [
    "locations = pd.read_csv('Locations.csv')\n",
    "for k in range(4,27):\n",
    "    \n",
    "    argfunction = lambda trial: objective(trial,k,locations)\n",
    "\n",
    "    study = optuna.create_study(\n",
    "        sampler=optuna.samplers.TPESampler(), direction='maximize')\n",
    "    study.optimize(argfunction, n_trials=50)\n",
    "\n",
    "    results = study.trials_dataframe()\n",
    "\n",
    "#load the results into a csv in the location of your choosing\n",
    "    results.to_csv('../../hyperparameters_2/SARIMAX_hyperparameter_results_' + str(k) + '.csv')"
   ]
  },
  {
   "cell_type": "code",
   "execution_count": 3,
   "id": "f14eee56",
   "metadata": {},
   "outputs": [
    {
     "name": "stdout",
     "output_type": "stream",
     "text": [
      "2\n",
      "3\n",
      "4\n"
     ]
    }
   ],
   "source": []
  },
  {
   "cell_type": "code",
   "execution_count": null,
   "id": "58c6cb5f",
   "metadata": {},
   "outputs": [],
   "source": [
    "\n"
   ]
  },
  {
   "cell_type": "code",
   "execution_count": null,
   "id": "5641dcf4",
   "metadata": {},
   "outputs": [],
   "source": [
    "\n"
   ]
  },
  {
   "cell_type": "code",
   "execution_count": null,
   "id": "2b9084f4",
   "metadata": {},
   "outputs": [],
   "source": []
  },
  {
   "cell_type": "code",
   "execution_count": null,
   "id": "dc3a5aab",
   "metadata": {
    "scrolled": true
   },
   "outputs": [],
   "source": []
  },
  {
   "cell_type": "code",
   "execution_count": null,
   "id": "abf1d434",
   "metadata": {},
   "outputs": [],
   "source": []
  },
  {
   "cell_type": "code",
   "execution_count": null,
   "id": "90aee7bf",
   "metadata": {
    "scrolled": true
   },
   "outputs": [],
   "source": []
  },
  {
   "cell_type": "code",
   "execution_count": null,
   "id": "75be3f1e",
   "metadata": {},
   "outputs": [],
   "source": []
  },
  {
   "cell_type": "code",
   "execution_count": null,
   "id": "d378944d",
   "metadata": {},
   "outputs": [],
   "source": []
  }
 ],
 "metadata": {
  "kernelspec": {
   "display_name": "Python 3 (ipykernel)",
   "language": "python",
   "name": "python3"
  },
  "language_info": {
   "codemirror_mode": {
    "name": "ipython",
    "version": 3
   },
   "file_extension": ".py",
   "mimetype": "text/x-python",
   "name": "python",
   "nbconvert_exporter": "python",
   "pygments_lexer": "ipython3",
   "version": "3.7.11"
  }
 },
 "nbformat": 4,
 "nbformat_minor": 5
}
