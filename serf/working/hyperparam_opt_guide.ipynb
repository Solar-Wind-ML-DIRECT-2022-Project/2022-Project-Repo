{
 "cells": [
  {
   "cell_type": "markdown",
   "id": "729adb0a",
   "metadata": {},
   "source": [
    "### how to use the hyperparam_opt \n",
    "to optimize hyperparameters"
   ]
  },
  {
   "cell_type": "code",
   "execution_count": 1,
   "id": "860a6b1c",
   "metadata": {},
   "outputs": [],
   "source": [
    "import geopandas as gp\n",
    "import pandas as pd\n",
    "import matplotlib\n",
    "from matplotlib import pyplot as plt\n",
    "\n",
    "import optuna\n",
    "from statsmodels.tsa.statespace.sarimax import SARIMAX\n",
    "import numpy as np\n",
    "import sklearn\n",
    "from sklearn.model_selection import TimeSeriesSplit\n",
    "from sklearn.metrics import r2_score\n",
    "\n",
    "from hyperparam_opt import *"
   ]
  },
  {
   "cell_type": "code",
   "execution_count": null,
   "id": "caa4b723",
   "metadata": {},
   "outputs": [],
   "source": []
  },
  {
   "cell_type": "code",
   "execution_count": 2,
   "id": "f334116e",
   "metadata": {},
   "outputs": [],
   "source": [
    "#pick the location of the geojson\n",
    "filename = 'NASA/POWER_Point_Monthly_Timeseries_1981_2020_046d1514N_122d8191W_LST.json'"
   ]
  },
  {
   "cell_type": "code",
   "execution_count": 3,
   "id": "58c6cb5f",
   "metadata": {},
   "outputs": [],
   "source": [
    "# this section is to prepare the data\n",
    "df = loadjson(filename)\n",
    "df = rm13(df)\n",
    "df = Prophet_preproc(df)"
   ]
  },
  {
   "cell_type": "code",
   "execution_count": null,
   "id": "5641dcf4",
   "metadata": {},
   "outputs": [],
   "source": []
  },
  {
   "cell_type": "code",
   "execution_count": 4,
   "id": "2b9084f4",
   "metadata": {},
   "outputs": [],
   "source": [
    "# extract the train, validation, and test data using time series splits\n",
    "X_dict, y_dict = TSS(df)"
   ]
  },
  {
   "cell_type": "code",
   "execution_count": null,
   "id": "dc3a5aab",
   "metadata": {
    "scrolled": true
   },
   "outputs": [],
   "source": []
  },
  {
   "cell_type": "code",
   "execution_count": 5,
   "id": "abf1d434",
   "metadata": {},
   "outputs": [],
   "source": [
    "# extract just the tain and validation data\n",
    "y_train = y_dict['y_train']\n",
    "y_val = y_dict['y_val']"
   ]
  },
  {
   "cell_type": "code",
   "execution_count": 6,
   "id": "90aee7bf",
   "metadata": {
    "scrolled": true
   },
   "outputs": [
    {
     "name": "stderr",
     "output_type": "stream",
     "text": [
      "\u001b[32m[I 2022-03-13 13:38:07,226]\u001b[0m A new study created in memory with name: no-name-420fbd72-ad7f-4582-95c9-bdb59bf76c96\u001b[0m\n"
     ]
    },
    {
     "name": "stdout",
     "output_type": "stream",
     "text": [
      "Optimization terminated successfully.\n",
      "         Current function value: -1.398321\n",
      "         Iterations: 6\n",
      "         Function evaluations: 1132\n"
     ]
    },
    {
     "name": "stderr",
     "output_type": "stream",
     "text": [
      "\u001b[32m[I 2022-03-13 13:38:13,587]\u001b[0m Trial 0 finished with value: 0.643640462190487 and parameters: {'p': 2, 'd': 1, 'q': 6, 'P': 2, 'D': 0, 'Q': 2}. Best is trial 0 with value: 0.643640462190487.\u001b[0m\n",
      "\u001b[32m[I 2022-03-13 13:38:19,148]\u001b[0m Trial 1 finished with value: 0.5972249693088296 and parameters: {'p': 6, 'd': 0, 'q': 4, 'P': 1, 'D': 0, 'Q': 1}. Best is trial 0 with value: 0.643640462190487.\u001b[0m\n"
     ]
    },
    {
     "name": "stdout",
     "output_type": "stream",
     "text": [
      "Optimization terminated successfully.\n",
      "         Current function value: -1.461872\n",
      "         Iterations: 10\n",
      "         Function evaluations: 1494\n",
      "Optimization terminated successfully.\n",
      "         Current function value: -1.306487\n",
      "         Iterations: 6\n",
      "         Function evaluations: 743\n"
     ]
    },
    {
     "name": "stderr",
     "output_type": "stream",
     "text": [
      "\u001b[32m[I 2022-03-13 13:38:24,937]\u001b[0m Trial 2 finished with value: 0.6704855565641403 and parameters: {'p': 5, 'd': 1, 'q': 0, 'P': 3, 'D': 0, 'Q': 2}. Best is trial 2 with value: 0.6704855565641403.\u001b[0m\n"
     ]
    },
    {
     "name": "stdout",
     "output_type": "stream",
     "text": [
      "Optimization terminated successfully.\n",
      "         Current function value: -1.276468\n",
      "         Iterations: 4\n",
      "         Function evaluations: 417\n"
     ]
    },
    {
     "name": "stderr",
     "output_type": "stream",
     "text": [
      "\u001b[32m[I 2022-03-13 13:38:29,390]\u001b[0m Trial 3 finished with value: 0.6739670771790642 and parameters: {'p': 4, 'd': 1, 'q': 0, 'P': 1, 'D': 1, 'Q': 3}. Best is trial 3 with value: 0.6739670771790642.\u001b[0m\n"
     ]
    },
    {
     "name": "stdout",
     "output_type": "stream",
     "text": [
      "Optimization terminated successfully.\n",
      "         Current function value: -1.385088\n",
      "         Iterations: 15\n",
      "         Function evaluations: 3649\n"
     ]
    },
    {
     "name": "stderr",
     "output_type": "stream",
     "text": [
      "\u001b[32m[I 2022-03-13 13:39:01,399]\u001b[0m Trial 4 finished with value: 0.6435088119694613 and parameters: {'p': 8, 'd': 0, 'q': 6, 'P': 2, 'D': 0, 'Q': 3}. Best is trial 3 with value: 0.6739670771790642.\u001b[0m\n",
      "\u001b[32m[I 2022-03-13 13:39:04,447]\u001b[0m Trial 5 finished with value: 0.6565022494666903 and parameters: {'p': 5, 'd': 1, 'q': 1, 'P': 1, 'D': 1, 'Q': 1}. Best is trial 3 with value: 0.6739670771790642.\u001b[0m\n"
     ]
    },
    {
     "name": "stdout",
     "output_type": "stream",
     "text": [
      "Optimization terminated successfully.\n",
      "         Current function value: -1.377064\n",
      "         Iterations: 5\n",
      "         Function evaluations: 611\n"
     ]
    },
    {
     "name": "stderr",
     "output_type": "stream",
     "text": [
      "\u001b[32m[I 2022-03-13 13:39:14,815]\u001b[0m Trial 6 finished with value: 0.5867614719825616 and parameters: {'p': 7, 'd': 0, 'q': 4, 'P': 1, 'D': 0, 'Q': 2}. Best is trial 3 with value: 0.6739670771790642.\u001b[0m\n"
     ]
    },
    {
     "name": "stdout",
     "output_type": "stream",
     "text": [
      "Optimization terminated successfully.\n",
      "         Current function value: -1.413991\n",
      "         Iterations: 11\n",
      "         Function evaluations: 1919\n"
     ]
    },
    {
     "name": "stderr",
     "output_type": "stream",
     "text": [
      "\u001b[32m[I 2022-03-13 13:39:14,876]\u001b[0m Trial 7 finished with value: -0.025025260964963936 and parameters: {'p': 6, 'd': 0, 'q': 1, 'P': 0, 'D': 0, 'Q': 0}. Best is trial 3 with value: 0.6739670771790642.\u001b[0m\n"
     ]
    },
    {
     "name": "stdout",
     "output_type": "stream",
     "text": [
      "Optimization terminated successfully.\n",
      "         Current function value: -1.181844\n",
      "         Iterations: 1\n",
      "         Function evaluations: 86\n",
      "Optimization terminated successfully.\n",
      "         Current function value: -1.342039\n",
      "         Iterations: 5\n",
      "         Function evaluations: 652\n"
     ]
    },
    {
     "name": "stderr",
     "output_type": "stream",
     "text": [
      "\u001b[32m[I 2022-03-13 13:39:21,131]\u001b[0m Trial 8 finished with value: 0.6413280443587681 and parameters: {'p': 1, 'd': 0, 'q': 3, 'P': 3, 'D': 1, 'Q': 3}. Best is trial 3 with value: 0.6739670771790642.\u001b[0m\n"
     ]
    },
    {
     "name": "stdout",
     "output_type": "stream",
     "text": [
      "Optimization terminated successfully.\n",
      "         Current function value: -1.334598\n",
      "         Iterations: 4\n",
      "         Function evaluations: 515\n"
     ]
    },
    {
     "name": "stderr",
     "output_type": "stream",
     "text": [
      "\u001b[32m[I 2022-03-13 13:39:26,662]\u001b[0m Trial 9 finished with value: 0.6561752727000413 and parameters: {'p': 2, 'd': 0, 'q': 3, 'P': 1, 'D': 1, 'Q': 3}. Best is trial 3 with value: 0.6739670771790642.\u001b[0m\n",
      "\u001b[32m[I 2022-03-13 13:39:31,082]\u001b[0m Trial 10 finished with value: 0.6953741680918417 and parameters: {'p': 3, 'd': 1, 'q': 8, 'P': 0, 'D': 1, 'Q': 0}. Best is trial 10 with value: 0.6953741680918417.\u001b[0m\n"
     ]
    },
    {
     "name": "stdout",
     "output_type": "stream",
     "text": [
      "Optimization terminated successfully.\n",
      "         Current function value: -1.191782\n",
      "         Iterations: 7\n",
      "         Function evaluations: 1174\n"
     ]
    },
    {
     "name": "stderr",
     "output_type": "stream",
     "text": [
      "\u001b[32m[I 2022-03-13 13:39:35,537]\u001b[0m Trial 11 finished with value: 0.6953741680918417 and parameters: {'p': 3, 'd': 1, 'q': 8, 'P': 0, 'D': 1, 'Q': 0}. Best is trial 10 with value: 0.6953741680918417.\u001b[0m\n"
     ]
    },
    {
     "name": "stdout",
     "output_type": "stream",
     "text": [
      "Optimization terminated successfully.\n",
      "         Current function value: -1.191782\n",
      "         Iterations: 7\n",
      "         Function evaluations: 1174\n"
     ]
    },
    {
     "name": "stderr",
     "output_type": "stream",
     "text": [
      "\u001b[32m[I 2022-03-13 13:39:39,976]\u001b[0m Trial 12 finished with value: 0.6953741680918417 and parameters: {'p': 3, 'd': 1, 'q': 8, 'P': 0, 'D': 1, 'Q': 0}. Best is trial 10 with value: 0.6953741680918417.\u001b[0m\n"
     ]
    },
    {
     "name": "stdout",
     "output_type": "stream",
     "text": [
      "Optimization terminated successfully.\n",
      "         Current function value: -1.191782\n",
      "         Iterations: 7\n",
      "         Function evaluations: 1174\n"
     ]
    },
    {
     "name": "stderr",
     "output_type": "stream",
     "text": [
      "\u001b[32m[I 2022-03-13 13:39:42,054]\u001b[0m Trial 13 finished with value: 0.700463647279844 and parameters: {'p': 0, 'd': 1, 'q': 8, 'P': 0, 'D': 1, 'Q': 0}. Best is trial 13 with value: 0.700463647279844.\u001b[0m\n"
     ]
    },
    {
     "name": "stdout",
     "output_type": "stream",
     "text": [
      "Optimization terminated successfully.\n",
      "         Current function value: -1.189614\n",
      "         Iterations: 4\n",
      "         Function evaluations: 554\n"
     ]
    },
    {
     "name": "stderr",
     "output_type": "stream",
     "text": [
      "\u001b[32m[I 2022-03-13 13:39:47,422]\u001b[0m Trial 14 finished with value: 0.6269291889267546 and parameters: {'p': 0, 'd': 1, 'q': 6, 'P': 0, 'D': 1, 'Q': 1}. Best is trial 13 with value: 0.700463647279844.\u001b[0m\n"
     ]
    },
    {
     "name": "stdout",
     "output_type": "stream",
     "text": [
      "Optimization terminated successfully.\n",
      "         Current function value: -1.406142\n",
      "         Iterations: 8\n",
      "         Function evaluations: 944\n"
     ]
    },
    {
     "name": "stderr",
     "output_type": "stream",
     "text": [
      "\u001b[32m[I 2022-03-13 13:39:48,375]\u001b[0m Trial 15 finished with value: 0.695560039815561 and parameters: {'p': 0, 'd': 1, 'q': 7, 'P': 0, 'D': 1, 'Q': 0}. Best is trial 13 with value: 0.700463647279844.\u001b[0m\n"
     ]
    },
    {
     "name": "stdout",
     "output_type": "stream",
     "text": [
      "Optimization terminated successfully.\n",
      "         Current function value: -1.193004\n",
      "         Iterations: 2\n",
      "         Function evaluations: 256\n"
     ]
    },
    {
     "name": "stderr",
     "output_type": "stream",
     "text": [
      "\u001b[32m[I 2022-03-13 13:39:53,721]\u001b[0m Trial 16 finished with value: 0.6308323261567967 and parameters: {'p': 0, 'd': 1, 'q': 7, 'P': 0, 'D': 1, 'Q': 1}. Best is trial 13 with value: 0.700463647279844.\u001b[0m\n"
     ]
    },
    {
     "name": "stdout",
     "output_type": "stream",
     "text": [
      "Optimization terminated successfully.\n",
      "         Current function value: -1.402443\n",
      "         Iterations: 6\n",
      "         Function evaluations: 850\n"
     ]
    },
    {
     "name": "stderr",
     "output_type": "stream",
     "text": [
      "\u001b[32m[I 2022-03-13 13:39:56,627]\u001b[0m Trial 17 finished with value: 0.6454082920530332 and parameters: {'p': 1, 'd': 1, 'q': 7, 'P': 2, 'D': 1, 'Q': 0}. Best is trial 13 with value: 0.700463647279844.\u001b[0m\n"
     ]
    },
    {
     "name": "stdout",
     "output_type": "stream",
     "text": [
      "Optimization terminated successfully.\n",
      "         Current function value: -1.321404\n",
      "         Iterations: 3\n",
      "         Function evaluations: 452\n"
     ]
    },
    {
     "name": "stderr",
     "output_type": "stream",
     "text": [
      "\u001b[32m[I 2022-03-13 13:39:59,069]\u001b[0m Trial 18 finished with value: 0.6929829474489642 and parameters: {'p': 0, 'd': 1, 'q': 5, 'P': 0, 'D': 1, 'Q': 0}. Best is trial 13 with value: 0.700463647279844.\u001b[0m\n"
     ]
    },
    {
     "name": "stdout",
     "output_type": "stream",
     "text": [
      "Optimization terminated successfully.\n",
      "         Current function value: -1.200266\n",
      "         Iterations: 8\n",
      "         Function evaluations: 712\n"
     ]
    },
    {
     "name": "stderr",
     "output_type": "stream",
     "text": [
      "\u001b[32m[I 2022-03-13 13:40:05,111]\u001b[0m Trial 19 finished with value: 0.616840042242861 and parameters: {'p': 1, 'd': 1, 'q': 7, 'P': 1, 'D': 1, 'Q': 1}. Best is trial 13 with value: 0.700463647279844.\u001b[0m\n"
     ]
    },
    {
     "name": "stdout",
     "output_type": "stream",
     "text": [
      "Optimization terminated successfully.\n",
      "         Current function value: -1.399233\n",
      "         Iterations: 6\n",
      "         Function evaluations: 958\n"
     ]
    },
    {
     "name": "stderr",
     "output_type": "stream",
     "text": [
      "\u001b[32m[I 2022-03-13 13:40:06,705]\u001b[0m Trial 20 finished with value: 0.6986834945679239 and parameters: {'p': 2, 'd': 1, 'q': 5, 'P': 0, 'D': 1, 'Q': 0}. Best is trial 13 with value: 0.700463647279844.\u001b[0m\n"
     ]
    },
    {
     "name": "stdout",
     "output_type": "stream",
     "text": [
      "Optimization terminated successfully.\n",
      "         Current function value: -1.200677\n",
      "         Iterations: 4\n",
      "         Function evaluations: 494\n"
     ]
    },
    {
     "name": "stderr",
     "output_type": "stream",
     "text": [
      "\u001b[32m[I 2022-03-13 13:40:08,310]\u001b[0m Trial 21 finished with value: 0.6986834945679239 and parameters: {'p': 2, 'd': 1, 'q': 5, 'P': 0, 'D': 1, 'Q': 0}. Best is trial 13 with value: 0.700463647279844.\u001b[0m\n"
     ]
    },
    {
     "name": "stdout",
     "output_type": "stream",
     "text": [
      "Optimization terminated successfully.\n",
      "         Current function value: -1.200677\n",
      "         Iterations: 4\n",
      "         Function evaluations: 494\n"
     ]
    },
    {
     "name": "stderr",
     "output_type": "stream",
     "text": [
      "\u001b[32m[I 2022-03-13 13:40:09,877]\u001b[0m Trial 22 finished with value: 0.6986834945679239 and parameters: {'p': 2, 'd': 1, 'q': 5, 'P': 0, 'D': 1, 'Q': 0}. Best is trial 13 with value: 0.700463647279844.\u001b[0m\n"
     ]
    },
    {
     "name": "stdout",
     "output_type": "stream",
     "text": [
      "Optimization terminated successfully.\n",
      "         Current function value: -1.200677\n",
      "         Iterations: 4\n",
      "         Function evaluations: 494\n"
     ]
    },
    {
     "name": "stderr",
     "output_type": "stream",
     "text": [
      "\u001b[32m[I 2022-03-13 13:40:12,832]\u001b[0m Trial 23 finished with value: 0.6321570993933617 and parameters: {'p': 1, 'd': 1, 'q': 3, 'P': 0, 'D': 1, 'Q': 1}. Best is trial 13 with value: 0.700463647279844.\u001b[0m\n"
     ]
    },
    {
     "name": "stdout",
     "output_type": "stream",
     "text": [
      "Optimization terminated successfully.\n",
      "         Current function value: -1.414138\n",
      "         Iterations: 6\n",
      "         Function evaluations: 546\n"
     ]
    },
    {
     "name": "stderr",
     "output_type": "stream",
     "text": [
      "\u001b[32m[I 2022-03-13 13:40:15,127]\u001b[0m Trial 24 finished with value: 0.6626811857408101 and parameters: {'p': 2, 'd': 1, 'q': 5, 'P': 1, 'D': 1, 'Q': 0}. Best is trial 13 with value: 0.700463647279844.\u001b[0m\n"
     ]
    },
    {
     "name": "stdout",
     "output_type": "stream",
     "text": [
      "Optimization terminated successfully.\n",
      "         Current function value: -1.319109\n",
      "         Iterations: 4\n",
      "         Function evaluations: 527\n"
     ]
    },
    {
     "name": "stderr",
     "output_type": "stream",
     "text": [
      "\u001b[32m[I 2022-03-13 13:40:17,969]\u001b[0m Trial 25 finished with value: 0.7121192277730154 and parameters: {'p': 4, 'd': 1, 'q': 2, 'P': 0, 'D': 1, 'Q': 0}. Best is trial 25 with value: 0.7121192277730154.\u001b[0m\n"
     ]
    },
    {
     "name": "stdout",
     "output_type": "stream",
     "text": [
      "Optimization terminated successfully.\n",
      "         Current function value: -1.222731\n",
      "         Iterations: 10\n",
      "         Function evaluations: 927\n"
     ]
    },
    {
     "name": "stderr",
     "output_type": "stream",
     "text": [
      "\u001b[32m[I 2022-03-13 13:40:21,424]\u001b[0m Trial 26 finished with value: 0.6150195633490586 and parameters: {'p': 4, 'd': 1, 'q': 2, 'P': 1, 'D': 1, 'Q': 1}. Best is trial 25 with value: 0.7121192277730154.\u001b[0m\n"
     ]
    },
    {
     "name": "stdout",
     "output_type": "stream",
     "text": [
      "Optimization terminated successfully.\n",
      "         Current function value: -1.410006\n",
      "         Iterations: 6\n",
      "         Function evaluations: 692\n"
     ]
    },
    {
     "name": "stderr",
     "output_type": "stream",
     "text": [
      "\u001b[32m[I 2022-03-13 13:40:22,031]\u001b[0m Trial 27 finished with value: 0.697862232791961 and parameters: {'p': 3, 'd': 1, 'q': 2, 'P': 0, 'D': 1, 'Q': 0}. Best is trial 25 with value: 0.7121192277730154.\u001b[0m\n"
     ]
    },
    {
     "name": "stdout",
     "output_type": "stream",
     "text": [
      "Optimization terminated successfully.\n",
      "         Current function value: -1.214739\n",
      "         Iterations: 5\n",
      "         Function evaluations: 407\n",
      "Optimization terminated successfully.\n",
      "         Current function value: -1.362203\n",
      "         Iterations: 7\n",
      "         Function evaluations: 1063\n"
     ]
    },
    {
     "name": "stderr",
     "output_type": "stream",
     "text": [
      "\u001b[32m[I 2022-03-13 13:40:30,308]\u001b[0m Trial 28 finished with value: 0.6176341831791016 and parameters: {'p': 5, 'd': 1, 'q': 2, 'P': 2, 'D': 1, 'Q': 1}. Best is trial 25 with value: 0.7121192277730154.\u001b[0m\n",
      "\u001b[32m[I 2022-03-13 13:40:31,677]\u001b[0m Trial 29 finished with value: 0.1861231990386859 and parameters: {'p': 1, 'd': 1, 'q': 1, 'P': 0, 'D': 0, 'Q': 2}. Best is trial 25 with value: 0.7121192277730154.\u001b[0m\n"
     ]
    },
    {
     "name": "stdout",
     "output_type": "stream",
     "text": [
      "Optimization terminated successfully.\n",
      "         Current function value: -1.291369\n",
      "         Iterations: 4\n",
      "         Function evaluations: 275\n"
     ]
    },
    {
     "name": "stderr",
     "output_type": "stream",
     "text": [
      "\u001b[32m[I 2022-03-13 13:40:35,094]\u001b[0m Trial 30 finished with value: 0.6638463925737869 and parameters: {'p': 4, 'd': 1, 'q': 4, 'P': 1, 'D': 1, 'Q': 0}. Best is trial 25 with value: 0.7121192277730154.\u001b[0m\n"
     ]
    },
    {
     "name": "stdout",
     "output_type": "stream",
     "text": [
      "Optimization terminated successfully.\n",
      "         Current function value: -1.317251\n",
      "         Iterations: 5\n",
      "         Function evaluations: 686\n"
     ]
    },
    {
     "name": "stderr",
     "output_type": "stream",
     "text": [
      "\u001b[32m[I 2022-03-13 13:40:36,682]\u001b[0m Trial 31 finished with value: 0.6986834945679239 and parameters: {'p': 2, 'd': 1, 'q': 5, 'P': 0, 'D': 1, 'Q': 0}. Best is trial 25 with value: 0.7121192277730154.\u001b[0m\n"
     ]
    },
    {
     "name": "stdout",
     "output_type": "stream",
     "text": [
      "Optimization terminated successfully.\n",
      "         Current function value: -1.200677\n",
      "         Iterations: 4\n",
      "         Function evaluations: 494\n"
     ]
    },
    {
     "name": "stderr",
     "output_type": "stream",
     "text": [
      "\u001b[32m[I 2022-03-13 13:40:43,744]\u001b[0m Trial 32 finished with value: 0.6589469509862588 and parameters: {'p': 2, 'd': 1, 'q': 6, 'P': 0, 'D': 1, 'Q': 0}. Best is trial 25 with value: 0.7121192277730154.\u001b[0m\n"
     ]
    },
    {
     "name": "stdout",
     "output_type": "stream",
     "text": [
      "Optimization terminated successfully.\n",
      "         Current function value: -1.238298\n",
      "         Iterations: 16\n",
      "         Function evaluations: 1925\n"
     ]
    },
    {
     "name": "stderr",
     "output_type": "stream",
     "text": [
      "\u001b[32m[I 2022-03-13 13:40:47,815]\u001b[0m Trial 33 finished with value: 0.6786033254226487 and parameters: {'p': 3, 'd': 1, 'q': 3, 'P': 0, 'D': 1, 'Q': 0}. Best is trial 25 with value: 0.7121192277730154.\u001b[0m\n"
     ]
    },
    {
     "name": "stdout",
     "output_type": "stream",
     "text": [
      "Optimization terminated successfully.\n",
      "         Current function value: -1.222894\n",
      "         Iterations: 14\n",
      "         Function evaluations: 1260\n",
      "Optimization terminated successfully.\n",
      "         Current function value: -1.328257\n",
      "         Iterations: 16\n",
      "         Function evaluations: 3199\n"
     ]
    },
    {
     "name": "stderr",
     "output_type": "stream",
     "text": [
      "\u001b[32m[I 2022-03-13 13:41:25,485]\u001b[0m Trial 34 finished with value: 0.6002368267948331 and parameters: {'p': 6, 'd': 1, 'q': 6, 'P': 3, 'D': 1, 'Q': 1}. Best is trial 25 with value: 0.7121192277730154.\u001b[0m\n",
      "\u001b[32m[I 2022-03-13 13:41:28,203]\u001b[0m Trial 35 finished with value: 0.2838780823805793 and parameters: {'p': 4, 'd': 1, 'q': 4, 'P': 1, 'D': 0, 'Q': 0}. Best is trial 25 with value: 0.7121192277730154.\u001b[0m\n"
     ]
    },
    {
     "name": "stdout",
     "output_type": "stream",
     "text": [
      "Optimization terminated successfully.\n",
      "         Current function value: -1.335599\n",
      "         Iterations: 7\n",
      "         Function evaluations: 921\n"
     ]
    },
    {
     "name": "stderr",
     "output_type": "stream",
     "text": [
      "\u001b[32m[I 2022-03-13 13:41:30,080]\u001b[0m Trial 36 finished with value: 0.7010122821860312 and parameters: {'p': 5, 'd': 1, 'q': 4, 'P': 0, 'D': 1, 'Q': 0}. Best is trial 25 with value: 0.7121192277730154.\u001b[0m\n"
     ]
    },
    {
     "name": "stdout",
     "output_type": "stream",
     "text": [
      "Optimization terminated successfully.\n",
      "         Current function value: -1.210392\n",
      "         Iterations: 4\n",
      "         Function evaluations: 558\n"
     ]
    },
    {
     "name": "stderr",
     "output_type": "stream",
     "text": [
      "\u001b[32m[I 2022-03-13 13:41:33,309]\u001b[0m Trial 37 finished with value: 0.6528664422347894 and parameters: {'p': 6, 'd': 0, 'q': 0, 'P': 1, 'D': 1, 'Q': 1}. Best is trial 25 with value: 0.7121192277730154.\u001b[0m\n"
     ]
    },
    {
     "name": "stdout",
     "output_type": "stream",
     "text": [
      "Optimization terminated successfully.\n",
      "         Current function value: -1.415200\n",
      "         Iterations: 5\n",
      "         Function evaluations: 636\n"
     ]
    },
    {
     "name": "stderr",
     "output_type": "stream",
     "text": [
      "\u001b[32m[I 2022-03-13 13:41:33,761]\u001b[0m Trial 38 finished with value: 0.03681313647278417 and parameters: {'p': 5, 'd': 1, 'q': 2, 'P': 0, 'D': 0, 'Q': 0}. Best is trial 25 with value: 0.7121192277730154.\u001b[0m\n"
     ]
    },
    {
     "name": "stdout",
     "output_type": "stream",
     "text": [
      "Optimization terminated successfully.\n",
      "         Current function value: -1.307327\n",
      "         Iterations: 6\n",
      "         Function evaluations: 583\n",
      "Optimization terminated successfully.\n",
      "         Current function value: -1.347875\n",
      "         Iterations: 23\n",
      "         Function evaluations: 4093\n"
     ]
    },
    {
     "name": "stderr",
     "output_type": "stream",
     "text": [
      "\u001b[32m[I 2022-03-13 13:42:05,597]\u001b[0m Trial 39 finished with value: 0.6658387239255008 and parameters: {'p': 7, 'd': 0, 'q': 4, 'P': 1, 'D': 1, 'Q': 2}. Best is trial 25 with value: 0.7121192277730154.\u001b[0m\n",
      "\u001b[32m[I 2022-03-13 13:42:06,430]\u001b[0m Trial 40 finished with value: 0.2648546882406029 and parameters: {'p': 7, 'd': 1, 'q': 1, 'P': 0, 'D': 0, 'Q': 1}. Best is trial 25 with value: 0.7121192277730154.\u001b[0m\n"
     ]
    },
    {
     "name": "stdout",
     "output_type": "stream",
     "text": [
      "Optimization terminated successfully.\n",
      "         Current function value: -1.348197\n",
      "         Iterations: 7\n",
      "         Function evaluations: 753\n"
     ]
    },
    {
     "name": "stderr",
     "output_type": "stream",
     "text": [
      "\u001b[32m[I 2022-03-13 13:42:12,814]\u001b[0m Trial 41 finished with value: 0.6946757397873911 and parameters: {'p': 5, 'd': 1, 'q': 5, 'P': 0, 'D': 1, 'Q': 0}. Best is trial 25 with value: 0.7121192277730154.\u001b[0m\n"
     ]
    },
    {
     "name": "stdout",
     "output_type": "stream",
     "text": [
      "Optimization terminated successfully.\n",
      "         Current function value: -1.203873\n",
      "         Iterations: 11\n",
      "         Function evaluations: 1917\n"
     ]
    },
    {
     "name": "stderr",
     "output_type": "stream",
     "text": [
      "\u001b[32m[I 2022-03-13 13:42:15,141]\u001b[0m Trial 42 finished with value: 0.7048812514069029 and parameters: {'p': 4, 'd': 1, 'q': 6, 'P': 0, 'D': 1, 'Q': 0}. Best is trial 25 with value: 0.7121192277730154.\u001b[0m\n"
     ]
    },
    {
     "name": "stdout",
     "output_type": "stream",
     "text": [
      "Optimization terminated successfully.\n",
      "         Current function value: -1.201455\n",
      "         Iterations: 5\n",
      "         Function evaluations: 688\n"
     ]
    },
    {
     "name": "stderr",
     "output_type": "stream",
     "text": [
      "\u001b[32m[I 2022-03-13 13:42:17,433]\u001b[0m Trial 43 finished with value: 0.7048812514069029 and parameters: {'p': 4, 'd': 1, 'q': 6, 'P': 0, 'D': 1, 'Q': 0}. Best is trial 25 with value: 0.7121192277730154.\u001b[0m\n"
     ]
    },
    {
     "name": "stdout",
     "output_type": "stream",
     "text": [
      "Optimization terminated successfully.\n",
      "         Current function value: -1.201455\n",
      "         Iterations: 5\n",
      "         Function evaluations: 688\n"
     ]
    },
    {
     "name": "stderr",
     "output_type": "stream",
     "text": [
      "\u001b[32m[I 2022-03-13 13:42:25,362]\u001b[0m Trial 44 finished with value: 0.6920672901753377 and parameters: {'p': 5, 'd': 1, 'q': 8, 'P': 0, 'D': 1, 'Q': 0}. Best is trial 25 with value: 0.7121192277730154.\u001b[0m\n"
     ]
    },
    {
     "name": "stdout",
     "output_type": "stream",
     "text": [
      "Optimization terminated successfully.\n",
      "         Current function value: -1.282722\n",
      "         Iterations: 12\n",
      "         Function evaluations: 2006\n"
     ]
    },
    {
     "name": "stderr",
     "output_type": "stream",
     "text": [
      "\u001b[32m[I 2022-03-13 13:42:41,058]\u001b[0m Trial 45 finished with value: 0.698072098152044 and parameters: {'p': 4, 'd': 1, 'q': 7, 'P': 0, 'D': 1, 'Q': 0}. Best is trial 25 with value: 0.7121192277730154.\u001b[0m\n"
     ]
    },
    {
     "name": "stdout",
     "output_type": "stream",
     "text": [
      "Optimization terminated successfully.\n",
      "         Current function value: -1.283328\n",
      "         Iterations: 27\n",
      "         Function evaluations: 4080\n"
     ]
    },
    {
     "name": "stderr",
     "output_type": "stream",
     "text": [
      "\u001b[32m[I 2022-03-13 13:42:51,256]\u001b[0m Trial 46 finished with value: 0.6923682809790965 and parameters: {'p': 8, 'd': 1, 'q': 4, 'P': 0, 'D': 1, 'Q': 0}. Best is trial 25 with value: 0.7121192277730154.\u001b[0m\n"
     ]
    },
    {
     "name": "stdout",
     "output_type": "stream",
     "text": [
      "Optimization terminated successfully.\n",
      "         Current function value: -1.197637\n",
      "         Iterations: 18\n",
      "         Function evaluations: 3203\n"
     ]
    },
    {
     "name": "stderr",
     "output_type": "stream",
     "text": [
      "\u001b[32m[I 2022-03-13 13:42:56,013]\u001b[0m Trial 47 finished with value: 0.6582509719067884 and parameters: {'p': 4, 'd': 0, 'q': 6, 'P': 0, 'D': 1, 'Q': 0}. Best is trial 25 with value: 0.7121192277730154.\u001b[0m\n"
     ]
    },
    {
     "name": "stdout",
     "output_type": "stream",
     "text": [
      "Optimization terminated successfully.\n",
      "         Current function value: -1.258808\n",
      "         Iterations: 12\n",
      "         Function evaluations: 1644\n",
      "Optimization terminated successfully.\n",
      "         Current function value: -1.324274\n",
      "         Iterations: 15\n",
      "         Function evaluations: 2722\n"
     ]
    },
    {
     "name": "stderr",
     "output_type": "stream",
     "text": [
      "\u001b[32m[I 2022-03-13 13:43:28,946]\u001b[0m Trial 48 finished with value: 0.6277175360373302 and parameters: {'p': 4, 'd': 1, 'q': 6, 'P': 1, 'D': 1, 'Q': 3}. Best is trial 25 with value: 0.7121192277730154.\u001b[0m\n",
      "\u001b[32m[I 2022-03-13 13:43:36,499]\u001b[0m Trial 49 finished with value: 0.7018620624666418 and parameters: {'p': 6, 'd': 1, 'q': 8, 'P': 0, 'D': 1, 'Q': 0}. Best is trial 25 with value: 0.7121192277730154.\u001b[0m\n"
     ]
    },
    {
     "name": "stdout",
     "output_type": "stream",
     "text": [
      "Optimization terminated successfully.\n",
      "         Current function value: -1.292110\n",
      "         Iterations: 11\n",
      "         Function evaluations: 1933\n"
     ]
    }
   ],
   "source": [
    "#Use this code to optimize the hyperparameters\n",
    "\n",
    "\n",
    "argfunction = lambda trial: objective(trial,y_train,y_val)\n",
    "study = optuna.create_study(sampler=optuna.samplers.TPESampler(), direction='maximize')\n",
    "study.optimize(argfunction, n_trials=50)\n",
    "        #,y_train=y_train,y_val=y_val)\n",
    "\n",
    "results = study.trials_dataframe()"
   ]
  },
  {
   "cell_type": "code",
   "execution_count": 7,
   "id": "9b6a3488",
   "metadata": {},
   "outputs": [
    {
     "data": {
      "text/html": [
       "<div>\n",
       "<style scoped>\n",
       "    .dataframe tbody tr th:only-of-type {\n",
       "        vertical-align: middle;\n",
       "    }\n",
       "\n",
       "    .dataframe tbody tr th {\n",
       "        vertical-align: top;\n",
       "    }\n",
       "\n",
       "    .dataframe thead th {\n",
       "        text-align: right;\n",
       "    }\n",
       "</style>\n",
       "<table border=\"1\" class=\"dataframe\">\n",
       "  <thead>\n",
       "    <tr style=\"text-align: right;\">\n",
       "      <th></th>\n",
       "      <th>number</th>\n",
       "      <th>value</th>\n",
       "      <th>datetime_start</th>\n",
       "      <th>datetime_complete</th>\n",
       "      <th>duration</th>\n",
       "      <th>params_D</th>\n",
       "      <th>params_P</th>\n",
       "      <th>params_Q</th>\n",
       "      <th>params_d</th>\n",
       "      <th>params_p</th>\n",
       "      <th>params_q</th>\n",
       "      <th>state</th>\n",
       "    </tr>\n",
       "  </thead>\n",
       "  <tbody>\n",
       "    <tr>\n",
       "      <th>0</th>\n",
       "      <td>0</td>\n",
       "      <td>0.643640</td>\n",
       "      <td>2022-03-13 13:38:07.227928</td>\n",
       "      <td>2022-03-13 13:38:13.587118</td>\n",
       "      <td>0 days 00:00:06.359190</td>\n",
       "      <td>0</td>\n",
       "      <td>2</td>\n",
       "      <td>2</td>\n",
       "      <td>1</td>\n",
       "      <td>2</td>\n",
       "      <td>6</td>\n",
       "      <td>COMPLETE</td>\n",
       "    </tr>\n",
       "    <tr>\n",
       "      <th>1</th>\n",
       "      <td>1</td>\n",
       "      <td>0.597225</td>\n",
       "      <td>2022-03-13 13:38:13.589084</td>\n",
       "      <td>2022-03-13 13:38:19.148624</td>\n",
       "      <td>0 days 00:00:05.559540</td>\n",
       "      <td>0</td>\n",
       "      <td>1</td>\n",
       "      <td>1</td>\n",
       "      <td>0</td>\n",
       "      <td>6</td>\n",
       "      <td>4</td>\n",
       "      <td>COMPLETE</td>\n",
       "    </tr>\n",
       "    <tr>\n",
       "      <th>2</th>\n",
       "      <td>2</td>\n",
       "      <td>0.670486</td>\n",
       "      <td>2022-03-13 13:38:19.150118</td>\n",
       "      <td>2022-03-13 13:38:24.937470</td>\n",
       "      <td>0 days 00:00:05.787352</td>\n",
       "      <td>0</td>\n",
       "      <td>3</td>\n",
       "      <td>2</td>\n",
       "      <td>1</td>\n",
       "      <td>5</td>\n",
       "      <td>0</td>\n",
       "      <td>COMPLETE</td>\n",
       "    </tr>\n",
       "    <tr>\n",
       "      <th>3</th>\n",
       "      <td>3</td>\n",
       "      <td>0.673967</td>\n",
       "      <td>2022-03-13 13:38:24.938559</td>\n",
       "      <td>2022-03-13 13:38:29.390502</td>\n",
       "      <td>0 days 00:00:04.451943</td>\n",
       "      <td>1</td>\n",
       "      <td>1</td>\n",
       "      <td>3</td>\n",
       "      <td>1</td>\n",
       "      <td>4</td>\n",
       "      <td>0</td>\n",
       "      <td>COMPLETE</td>\n",
       "    </tr>\n",
       "    <tr>\n",
       "      <th>4</th>\n",
       "      <td>4</td>\n",
       "      <td>0.643509</td>\n",
       "      <td>2022-03-13 13:38:29.391492</td>\n",
       "      <td>2022-03-13 13:39:01.398827</td>\n",
       "      <td>0 days 00:00:32.007335</td>\n",
       "      <td>0</td>\n",
       "      <td>2</td>\n",
       "      <td>3</td>\n",
       "      <td>0</td>\n",
       "      <td>8</td>\n",
       "      <td>6</td>\n",
       "      <td>COMPLETE</td>\n",
       "    </tr>\n",
       "    <tr>\n",
       "      <th>5</th>\n",
       "      <td>5</td>\n",
       "      <td>0.656502</td>\n",
       "      <td>2022-03-13 13:39:01.400001</td>\n",
       "      <td>2022-03-13 13:39:04.446821</td>\n",
       "      <td>0 days 00:00:03.046820</td>\n",
       "      <td>1</td>\n",
       "      <td>1</td>\n",
       "      <td>1</td>\n",
       "      <td>1</td>\n",
       "      <td>5</td>\n",
       "      <td>1</td>\n",
       "      <td>COMPLETE</td>\n",
       "    </tr>\n",
       "    <tr>\n",
       "      <th>6</th>\n",
       "      <td>6</td>\n",
       "      <td>0.586761</td>\n",
       "      <td>2022-03-13 13:39:04.447706</td>\n",
       "      <td>2022-03-13 13:39:14.815146</td>\n",
       "      <td>0 days 00:00:10.367440</td>\n",
       "      <td>0</td>\n",
       "      <td>1</td>\n",
       "      <td>2</td>\n",
       "      <td>0</td>\n",
       "      <td>7</td>\n",
       "      <td>4</td>\n",
       "      <td>COMPLETE</td>\n",
       "    </tr>\n",
       "    <tr>\n",
       "      <th>7</th>\n",
       "      <td>7</td>\n",
       "      <td>-0.025025</td>\n",
       "      <td>2022-03-13 13:39:14.816514</td>\n",
       "      <td>2022-03-13 13:39:14.875818</td>\n",
       "      <td>0 days 00:00:00.059304</td>\n",
       "      <td>0</td>\n",
       "      <td>0</td>\n",
       "      <td>0</td>\n",
       "      <td>0</td>\n",
       "      <td>6</td>\n",
       "      <td>1</td>\n",
       "      <td>COMPLETE</td>\n",
       "    </tr>\n",
       "    <tr>\n",
       "      <th>8</th>\n",
       "      <td>8</td>\n",
       "      <td>0.641328</td>\n",
       "      <td>2022-03-13 13:39:14.876791</td>\n",
       "      <td>2022-03-13 13:39:21.130984</td>\n",
       "      <td>0 days 00:00:06.254193</td>\n",
       "      <td>1</td>\n",
       "      <td>3</td>\n",
       "      <td>3</td>\n",
       "      <td>0</td>\n",
       "      <td>1</td>\n",
       "      <td>3</td>\n",
       "      <td>COMPLETE</td>\n",
       "    </tr>\n",
       "    <tr>\n",
       "      <th>9</th>\n",
       "      <td>9</td>\n",
       "      <td>0.656175</td>\n",
       "      <td>2022-03-13 13:39:21.132111</td>\n",
       "      <td>2022-03-13 13:39:26.662656</td>\n",
       "      <td>0 days 00:00:05.530545</td>\n",
       "      <td>1</td>\n",
       "      <td>1</td>\n",
       "      <td>3</td>\n",
       "      <td>0</td>\n",
       "      <td>2</td>\n",
       "      <td>3</td>\n",
       "      <td>COMPLETE</td>\n",
       "    </tr>\n",
       "    <tr>\n",
       "      <th>10</th>\n",
       "      <td>10</td>\n",
       "      <td>0.695374</td>\n",
       "      <td>2022-03-13 13:39:26.663836</td>\n",
       "      <td>2022-03-13 13:39:31.082712</td>\n",
       "      <td>0 days 00:00:04.418876</td>\n",
       "      <td>1</td>\n",
       "      <td>0</td>\n",
       "      <td>0</td>\n",
       "      <td>1</td>\n",
       "      <td>3</td>\n",
       "      <td>8</td>\n",
       "      <td>COMPLETE</td>\n",
       "    </tr>\n",
       "    <tr>\n",
       "      <th>11</th>\n",
       "      <td>11</td>\n",
       "      <td>0.695374</td>\n",
       "      <td>2022-03-13 13:39:31.083745</td>\n",
       "      <td>2022-03-13 13:39:35.537315</td>\n",
       "      <td>0 days 00:00:04.453570</td>\n",
       "      <td>1</td>\n",
       "      <td>0</td>\n",
       "      <td>0</td>\n",
       "      <td>1</td>\n",
       "      <td>3</td>\n",
       "      <td>8</td>\n",
       "      <td>COMPLETE</td>\n",
       "    </tr>\n",
       "    <tr>\n",
       "      <th>12</th>\n",
       "      <td>12</td>\n",
       "      <td>0.695374</td>\n",
       "      <td>2022-03-13 13:39:35.538215</td>\n",
       "      <td>2022-03-13 13:39:39.976398</td>\n",
       "      <td>0 days 00:00:04.438183</td>\n",
       "      <td>1</td>\n",
       "      <td>0</td>\n",
       "      <td>0</td>\n",
       "      <td>1</td>\n",
       "      <td>3</td>\n",
       "      <td>8</td>\n",
       "      <td>COMPLETE</td>\n",
       "    </tr>\n",
       "    <tr>\n",
       "      <th>13</th>\n",
       "      <td>13</td>\n",
       "      <td>0.700464</td>\n",
       "      <td>2022-03-13 13:39:39.977609</td>\n",
       "      <td>2022-03-13 13:39:42.054647</td>\n",
       "      <td>0 days 00:00:02.077038</td>\n",
       "      <td>1</td>\n",
       "      <td>0</td>\n",
       "      <td>0</td>\n",
       "      <td>1</td>\n",
       "      <td>0</td>\n",
       "      <td>8</td>\n",
       "      <td>COMPLETE</td>\n",
       "    </tr>\n",
       "    <tr>\n",
       "      <th>14</th>\n",
       "      <td>14</td>\n",
       "      <td>0.626929</td>\n",
       "      <td>2022-03-13 13:39:42.055742</td>\n",
       "      <td>2022-03-13 13:39:47.421833</td>\n",
       "      <td>0 days 00:00:05.366091</td>\n",
       "      <td>1</td>\n",
       "      <td>0</td>\n",
       "      <td>1</td>\n",
       "      <td>1</td>\n",
       "      <td>0</td>\n",
       "      <td>6</td>\n",
       "      <td>COMPLETE</td>\n",
       "    </tr>\n",
       "    <tr>\n",
       "      <th>15</th>\n",
       "      <td>15</td>\n",
       "      <td>0.695560</td>\n",
       "      <td>2022-03-13 13:39:47.423271</td>\n",
       "      <td>2022-03-13 13:39:48.375228</td>\n",
       "      <td>0 days 00:00:00.951957</td>\n",
       "      <td>1</td>\n",
       "      <td>0</td>\n",
       "      <td>0</td>\n",
       "      <td>1</td>\n",
       "      <td>0</td>\n",
       "      <td>7</td>\n",
       "      <td>COMPLETE</td>\n",
       "    </tr>\n",
       "    <tr>\n",
       "      <th>16</th>\n",
       "      <td>16</td>\n",
       "      <td>0.630832</td>\n",
       "      <td>2022-03-13 13:39:48.376340</td>\n",
       "      <td>2022-03-13 13:39:53.721054</td>\n",
       "      <td>0 days 00:00:05.344714</td>\n",
       "      <td>1</td>\n",
       "      <td>0</td>\n",
       "      <td>1</td>\n",
       "      <td>1</td>\n",
       "      <td>0</td>\n",
       "      <td>7</td>\n",
       "      <td>COMPLETE</td>\n",
       "    </tr>\n",
       "    <tr>\n",
       "      <th>17</th>\n",
       "      <td>17</td>\n",
       "      <td>0.645408</td>\n",
       "      <td>2022-03-13 13:39:53.722082</td>\n",
       "      <td>2022-03-13 13:39:56.626855</td>\n",
       "      <td>0 days 00:00:02.904773</td>\n",
       "      <td>1</td>\n",
       "      <td>2</td>\n",
       "      <td>0</td>\n",
       "      <td>1</td>\n",
       "      <td>1</td>\n",
       "      <td>7</td>\n",
       "      <td>COMPLETE</td>\n",
       "    </tr>\n",
       "    <tr>\n",
       "      <th>18</th>\n",
       "      <td>18</td>\n",
       "      <td>0.692983</td>\n",
       "      <td>2022-03-13 13:39:56.627870</td>\n",
       "      <td>2022-03-13 13:39:59.069332</td>\n",
       "      <td>0 days 00:00:02.441462</td>\n",
       "      <td>1</td>\n",
       "      <td>0</td>\n",
       "      <td>0</td>\n",
       "      <td>1</td>\n",
       "      <td>0</td>\n",
       "      <td>5</td>\n",
       "      <td>COMPLETE</td>\n",
       "    </tr>\n",
       "    <tr>\n",
       "      <th>19</th>\n",
       "      <td>19</td>\n",
       "      <td>0.616840</td>\n",
       "      <td>2022-03-13 13:39:59.070267</td>\n",
       "      <td>2022-03-13 13:40:05.110878</td>\n",
       "      <td>0 days 00:00:06.040611</td>\n",
       "      <td>1</td>\n",
       "      <td>1</td>\n",
       "      <td>1</td>\n",
       "      <td>1</td>\n",
       "      <td>1</td>\n",
       "      <td>7</td>\n",
       "      <td>COMPLETE</td>\n",
       "    </tr>\n",
       "    <tr>\n",
       "      <th>20</th>\n",
       "      <td>20</td>\n",
       "      <td>0.698683</td>\n",
       "      <td>2022-03-13 13:40:05.112135</td>\n",
       "      <td>2022-03-13 13:40:06.704991</td>\n",
       "      <td>0 days 00:00:01.592856</td>\n",
       "      <td>1</td>\n",
       "      <td>0</td>\n",
       "      <td>0</td>\n",
       "      <td>1</td>\n",
       "      <td>2</td>\n",
       "      <td>5</td>\n",
       "      <td>COMPLETE</td>\n",
       "    </tr>\n",
       "    <tr>\n",
       "      <th>21</th>\n",
       "      <td>21</td>\n",
       "      <td>0.698683</td>\n",
       "      <td>2022-03-13 13:40:06.706166</td>\n",
       "      <td>2022-03-13 13:40:08.310069</td>\n",
       "      <td>0 days 00:00:01.603903</td>\n",
       "      <td>1</td>\n",
       "      <td>0</td>\n",
       "      <td>0</td>\n",
       "      <td>1</td>\n",
       "      <td>2</td>\n",
       "      <td>5</td>\n",
       "      <td>COMPLETE</td>\n",
       "    </tr>\n",
       "    <tr>\n",
       "      <th>22</th>\n",
       "      <td>22</td>\n",
       "      <td>0.698683</td>\n",
       "      <td>2022-03-13 13:40:08.311139</td>\n",
       "      <td>2022-03-13 13:40:09.877341</td>\n",
       "      <td>0 days 00:00:01.566202</td>\n",
       "      <td>1</td>\n",
       "      <td>0</td>\n",
       "      <td>0</td>\n",
       "      <td>1</td>\n",
       "      <td>2</td>\n",
       "      <td>5</td>\n",
       "      <td>COMPLETE</td>\n",
       "    </tr>\n",
       "    <tr>\n",
       "      <th>23</th>\n",
       "      <td>23</td>\n",
       "      <td>0.632157</td>\n",
       "      <td>2022-03-13 13:40:09.878690</td>\n",
       "      <td>2022-03-13 13:40:12.832574</td>\n",
       "      <td>0 days 00:00:02.953884</td>\n",
       "      <td>1</td>\n",
       "      <td>0</td>\n",
       "      <td>1</td>\n",
       "      <td>1</td>\n",
       "      <td>1</td>\n",
       "      <td>3</td>\n",
       "      <td>COMPLETE</td>\n",
       "    </tr>\n",
       "    <tr>\n",
       "      <th>24</th>\n",
       "      <td>24</td>\n",
       "      <td>0.662681</td>\n",
       "      <td>2022-03-13 13:40:12.833891</td>\n",
       "      <td>2022-03-13 13:40:15.127293</td>\n",
       "      <td>0 days 00:00:02.293402</td>\n",
       "      <td>1</td>\n",
       "      <td>1</td>\n",
       "      <td>0</td>\n",
       "      <td>1</td>\n",
       "      <td>2</td>\n",
       "      <td>5</td>\n",
       "      <td>COMPLETE</td>\n",
       "    </tr>\n",
       "    <tr>\n",
       "      <th>25</th>\n",
       "      <td>25</td>\n",
       "      <td>0.712119</td>\n",
       "      <td>2022-03-13 13:40:15.128537</td>\n",
       "      <td>2022-03-13 13:40:17.968881</td>\n",
       "      <td>0 days 00:00:02.840344</td>\n",
       "      <td>1</td>\n",
       "      <td>0</td>\n",
       "      <td>0</td>\n",
       "      <td>1</td>\n",
       "      <td>4</td>\n",
       "      <td>2</td>\n",
       "      <td>COMPLETE</td>\n",
       "    </tr>\n",
       "    <tr>\n",
       "      <th>26</th>\n",
       "      <td>26</td>\n",
       "      <td>0.615020</td>\n",
       "      <td>2022-03-13 13:40:17.970096</td>\n",
       "      <td>2022-03-13 13:40:21.424413</td>\n",
       "      <td>0 days 00:00:03.454317</td>\n",
       "      <td>1</td>\n",
       "      <td>1</td>\n",
       "      <td>1</td>\n",
       "      <td>1</td>\n",
       "      <td>4</td>\n",
       "      <td>2</td>\n",
       "      <td>COMPLETE</td>\n",
       "    </tr>\n",
       "    <tr>\n",
       "      <th>27</th>\n",
       "      <td>27</td>\n",
       "      <td>0.697862</td>\n",
       "      <td>2022-03-13 13:40:21.425330</td>\n",
       "      <td>2022-03-13 13:40:22.031750</td>\n",
       "      <td>0 days 00:00:00.606420</td>\n",
       "      <td>1</td>\n",
       "      <td>0</td>\n",
       "      <td>0</td>\n",
       "      <td>1</td>\n",
       "      <td>3</td>\n",
       "      <td>2</td>\n",
       "      <td>COMPLETE</td>\n",
       "    </tr>\n",
       "    <tr>\n",
       "      <th>28</th>\n",
       "      <td>28</td>\n",
       "      <td>0.617634</td>\n",
       "      <td>2022-03-13 13:40:22.032776</td>\n",
       "      <td>2022-03-13 13:40:30.308235</td>\n",
       "      <td>0 days 00:00:08.275459</td>\n",
       "      <td>1</td>\n",
       "      <td>2</td>\n",
       "      <td>1</td>\n",
       "      <td>1</td>\n",
       "      <td>5</td>\n",
       "      <td>2</td>\n",
       "      <td>COMPLETE</td>\n",
       "    </tr>\n",
       "    <tr>\n",
       "      <th>29</th>\n",
       "      <td>29</td>\n",
       "      <td>0.186123</td>\n",
       "      <td>2022-03-13 13:40:30.309509</td>\n",
       "      <td>2022-03-13 13:40:31.677646</td>\n",
       "      <td>0 days 00:00:01.368137</td>\n",
       "      <td>0</td>\n",
       "      <td>0</td>\n",
       "      <td>2</td>\n",
       "      <td>1</td>\n",
       "      <td>1</td>\n",
       "      <td>1</td>\n",
       "      <td>COMPLETE</td>\n",
       "    </tr>\n",
       "    <tr>\n",
       "      <th>30</th>\n",
       "      <td>30</td>\n",
       "      <td>0.663846</td>\n",
       "      <td>2022-03-13 13:40:31.678803</td>\n",
       "      <td>2022-03-13 13:40:35.093658</td>\n",
       "      <td>0 days 00:00:03.414855</td>\n",
       "      <td>1</td>\n",
       "      <td>1</td>\n",
       "      <td>0</td>\n",
       "      <td>1</td>\n",
       "      <td>4</td>\n",
       "      <td>4</td>\n",
       "      <td>COMPLETE</td>\n",
       "    </tr>\n",
       "    <tr>\n",
       "      <th>31</th>\n",
       "      <td>31</td>\n",
       "      <td>0.698683</td>\n",
       "      <td>2022-03-13 13:40:35.095086</td>\n",
       "      <td>2022-03-13 13:40:36.681907</td>\n",
       "      <td>0 days 00:00:01.586821</td>\n",
       "      <td>1</td>\n",
       "      <td>0</td>\n",
       "      <td>0</td>\n",
       "      <td>1</td>\n",
       "      <td>2</td>\n",
       "      <td>5</td>\n",
       "      <td>COMPLETE</td>\n",
       "    </tr>\n",
       "    <tr>\n",
       "      <th>32</th>\n",
       "      <td>32</td>\n",
       "      <td>0.658947</td>\n",
       "      <td>2022-03-13 13:40:36.683147</td>\n",
       "      <td>2022-03-13 13:40:43.744120</td>\n",
       "      <td>0 days 00:00:07.060973</td>\n",
       "      <td>1</td>\n",
       "      <td>0</td>\n",
       "      <td>0</td>\n",
       "      <td>1</td>\n",
       "      <td>2</td>\n",
       "      <td>6</td>\n",
       "      <td>COMPLETE</td>\n",
       "    </tr>\n",
       "    <tr>\n",
       "      <th>33</th>\n",
       "      <td>33</td>\n",
       "      <td>0.678603</td>\n",
       "      <td>2022-03-13 13:40:43.745270</td>\n",
       "      <td>2022-03-13 13:40:47.815203</td>\n",
       "      <td>0 days 00:00:04.069933</td>\n",
       "      <td>1</td>\n",
       "      <td>0</td>\n",
       "      <td>0</td>\n",
       "      <td>1</td>\n",
       "      <td>3</td>\n",
       "      <td>3</td>\n",
       "      <td>COMPLETE</td>\n",
       "    </tr>\n",
       "    <tr>\n",
       "      <th>34</th>\n",
       "      <td>34</td>\n",
       "      <td>0.600237</td>\n",
       "      <td>2022-03-13 13:40:47.816279</td>\n",
       "      <td>2022-03-13 13:41:25.484862</td>\n",
       "      <td>0 days 00:00:37.668583</td>\n",
       "      <td>1</td>\n",
       "      <td>3</td>\n",
       "      <td>1</td>\n",
       "      <td>1</td>\n",
       "      <td>6</td>\n",
       "      <td>6</td>\n",
       "      <td>COMPLETE</td>\n",
       "    </tr>\n",
       "    <tr>\n",
       "      <th>35</th>\n",
       "      <td>35</td>\n",
       "      <td>0.283878</td>\n",
       "      <td>2022-03-13 13:41:25.486221</td>\n",
       "      <td>2022-03-13 13:41:28.203438</td>\n",
       "      <td>0 days 00:00:02.717217</td>\n",
       "      <td>0</td>\n",
       "      <td>1</td>\n",
       "      <td>0</td>\n",
       "      <td>1</td>\n",
       "      <td>4</td>\n",
       "      <td>4</td>\n",
       "      <td>COMPLETE</td>\n",
       "    </tr>\n",
       "    <tr>\n",
       "      <th>36</th>\n",
       "      <td>36</td>\n",
       "      <td>0.701012</td>\n",
       "      <td>2022-03-13 13:41:28.204356</td>\n",
       "      <td>2022-03-13 13:41:30.080405</td>\n",
       "      <td>0 days 00:00:01.876049</td>\n",
       "      <td>1</td>\n",
       "      <td>0</td>\n",
       "      <td>0</td>\n",
       "      <td>1</td>\n",
       "      <td>5</td>\n",
       "      <td>4</td>\n",
       "      <td>COMPLETE</td>\n",
       "    </tr>\n",
       "    <tr>\n",
       "      <th>37</th>\n",
       "      <td>37</td>\n",
       "      <td>0.652866</td>\n",
       "      <td>2022-03-13 13:41:30.081468</td>\n",
       "      <td>2022-03-13 13:41:33.308842</td>\n",
       "      <td>0 days 00:00:03.227374</td>\n",
       "      <td>1</td>\n",
       "      <td>1</td>\n",
       "      <td>1</td>\n",
       "      <td>0</td>\n",
       "      <td>6</td>\n",
       "      <td>0</td>\n",
       "      <td>COMPLETE</td>\n",
       "    </tr>\n",
       "    <tr>\n",
       "      <th>38</th>\n",
       "      <td>38</td>\n",
       "      <td>0.036813</td>\n",
       "      <td>2022-03-13 13:41:33.309851</td>\n",
       "      <td>2022-03-13 13:41:33.761654</td>\n",
       "      <td>0 days 00:00:00.451803</td>\n",
       "      <td>0</td>\n",
       "      <td>0</td>\n",
       "      <td>0</td>\n",
       "      <td>1</td>\n",
       "      <td>5</td>\n",
       "      <td>2</td>\n",
       "      <td>COMPLETE</td>\n",
       "    </tr>\n",
       "    <tr>\n",
       "      <th>39</th>\n",
       "      <td>39</td>\n",
       "      <td>0.665839</td>\n",
       "      <td>2022-03-13 13:41:33.762618</td>\n",
       "      <td>2022-03-13 13:42:05.596947</td>\n",
       "      <td>0 days 00:00:31.834329</td>\n",
       "      <td>1</td>\n",
       "      <td>1</td>\n",
       "      <td>2</td>\n",
       "      <td>0</td>\n",
       "      <td>7</td>\n",
       "      <td>4</td>\n",
       "      <td>COMPLETE</td>\n",
       "    </tr>\n",
       "    <tr>\n",
       "      <th>40</th>\n",
       "      <td>40</td>\n",
       "      <td>0.264855</td>\n",
       "      <td>2022-03-13 13:42:05.597934</td>\n",
       "      <td>2022-03-13 13:42:06.430636</td>\n",
       "      <td>0 days 00:00:00.832702</td>\n",
       "      <td>0</td>\n",
       "      <td>0</td>\n",
       "      <td>1</td>\n",
       "      <td>1</td>\n",
       "      <td>7</td>\n",
       "      <td>1</td>\n",
       "      <td>COMPLETE</td>\n",
       "    </tr>\n",
       "    <tr>\n",
       "      <th>41</th>\n",
       "      <td>41</td>\n",
       "      <td>0.694676</td>\n",
       "      <td>2022-03-13 13:42:06.431557</td>\n",
       "      <td>2022-03-13 13:42:12.813791</td>\n",
       "      <td>0 days 00:00:06.382234</td>\n",
       "      <td>1</td>\n",
       "      <td>0</td>\n",
       "      <td>0</td>\n",
       "      <td>1</td>\n",
       "      <td>5</td>\n",
       "      <td>5</td>\n",
       "      <td>COMPLETE</td>\n",
       "    </tr>\n",
       "    <tr>\n",
       "      <th>42</th>\n",
       "      <td>42</td>\n",
       "      <td>0.704881</td>\n",
       "      <td>2022-03-13 13:42:12.814823</td>\n",
       "      <td>2022-03-13 13:42:15.140803</td>\n",
       "      <td>0 days 00:00:02.325980</td>\n",
       "      <td>1</td>\n",
       "      <td>0</td>\n",
       "      <td>0</td>\n",
       "      <td>1</td>\n",
       "      <td>4</td>\n",
       "      <td>6</td>\n",
       "      <td>COMPLETE</td>\n",
       "    </tr>\n",
       "    <tr>\n",
       "      <th>43</th>\n",
       "      <td>43</td>\n",
       "      <td>0.704881</td>\n",
       "      <td>2022-03-13 13:42:15.142077</td>\n",
       "      <td>2022-03-13 13:42:17.433284</td>\n",
       "      <td>0 days 00:00:02.291207</td>\n",
       "      <td>1</td>\n",
       "      <td>0</td>\n",
       "      <td>0</td>\n",
       "      <td>1</td>\n",
       "      <td>4</td>\n",
       "      <td>6</td>\n",
       "      <td>COMPLETE</td>\n",
       "    </tr>\n",
       "    <tr>\n",
       "      <th>44</th>\n",
       "      <td>44</td>\n",
       "      <td>0.692067</td>\n",
       "      <td>2022-03-13 13:42:17.434223</td>\n",
       "      <td>2022-03-13 13:42:25.362699</td>\n",
       "      <td>0 days 00:00:07.928476</td>\n",
       "      <td>1</td>\n",
       "      <td>0</td>\n",
       "      <td>0</td>\n",
       "      <td>1</td>\n",
       "      <td>5</td>\n",
       "      <td>8</td>\n",
       "      <td>COMPLETE</td>\n",
       "    </tr>\n",
       "    <tr>\n",
       "      <th>45</th>\n",
       "      <td>45</td>\n",
       "      <td>0.698072</td>\n",
       "      <td>2022-03-13 13:42:25.363921</td>\n",
       "      <td>2022-03-13 13:42:41.058282</td>\n",
       "      <td>0 days 00:00:15.694361</td>\n",
       "      <td>1</td>\n",
       "      <td>0</td>\n",
       "      <td>0</td>\n",
       "      <td>1</td>\n",
       "      <td>4</td>\n",
       "      <td>7</td>\n",
       "      <td>COMPLETE</td>\n",
       "    </tr>\n",
       "    <tr>\n",
       "      <th>46</th>\n",
       "      <td>46</td>\n",
       "      <td>0.692368</td>\n",
       "      <td>2022-03-13 13:42:41.059355</td>\n",
       "      <td>2022-03-13 13:42:51.256161</td>\n",
       "      <td>0 days 00:00:10.196806</td>\n",
       "      <td>1</td>\n",
       "      <td>0</td>\n",
       "      <td>0</td>\n",
       "      <td>1</td>\n",
       "      <td>8</td>\n",
       "      <td>4</td>\n",
       "      <td>COMPLETE</td>\n",
       "    </tr>\n",
       "    <tr>\n",
       "      <th>47</th>\n",
       "      <td>47</td>\n",
       "      <td>0.658251</td>\n",
       "      <td>2022-03-13 13:42:51.257448</td>\n",
       "      <td>2022-03-13 13:42:56.012760</td>\n",
       "      <td>0 days 00:00:04.755312</td>\n",
       "      <td>1</td>\n",
       "      <td>0</td>\n",
       "      <td>0</td>\n",
       "      <td>0</td>\n",
       "      <td>4</td>\n",
       "      <td>6</td>\n",
       "      <td>COMPLETE</td>\n",
       "    </tr>\n",
       "    <tr>\n",
       "      <th>48</th>\n",
       "      <td>48</td>\n",
       "      <td>0.627718</td>\n",
       "      <td>2022-03-13 13:42:56.014165</td>\n",
       "      <td>2022-03-13 13:43:28.945882</td>\n",
       "      <td>0 days 00:00:32.931717</td>\n",
       "      <td>1</td>\n",
       "      <td>1</td>\n",
       "      <td>3</td>\n",
       "      <td>1</td>\n",
       "      <td>4</td>\n",
       "      <td>6</td>\n",
       "      <td>COMPLETE</td>\n",
       "    </tr>\n",
       "    <tr>\n",
       "      <th>49</th>\n",
       "      <td>49</td>\n",
       "      <td>0.701862</td>\n",
       "      <td>2022-03-13 13:43:28.946838</td>\n",
       "      <td>2022-03-13 13:43:36.499657</td>\n",
       "      <td>0 days 00:00:07.552819</td>\n",
       "      <td>1</td>\n",
       "      <td>0</td>\n",
       "      <td>0</td>\n",
       "      <td>1</td>\n",
       "      <td>6</td>\n",
       "      <td>8</td>\n",
       "      <td>COMPLETE</td>\n",
       "    </tr>\n",
       "  </tbody>\n",
       "</table>\n",
       "</div>"
      ],
      "text/plain": [
       "    number     value             datetime_start          datetime_complete  \\\n",
       "0        0  0.643640 2022-03-13 13:38:07.227928 2022-03-13 13:38:13.587118   \n",
       "1        1  0.597225 2022-03-13 13:38:13.589084 2022-03-13 13:38:19.148624   \n",
       "2        2  0.670486 2022-03-13 13:38:19.150118 2022-03-13 13:38:24.937470   \n",
       "3        3  0.673967 2022-03-13 13:38:24.938559 2022-03-13 13:38:29.390502   \n",
       "4        4  0.643509 2022-03-13 13:38:29.391492 2022-03-13 13:39:01.398827   \n",
       "5        5  0.656502 2022-03-13 13:39:01.400001 2022-03-13 13:39:04.446821   \n",
       "6        6  0.586761 2022-03-13 13:39:04.447706 2022-03-13 13:39:14.815146   \n",
       "7        7 -0.025025 2022-03-13 13:39:14.816514 2022-03-13 13:39:14.875818   \n",
       "8        8  0.641328 2022-03-13 13:39:14.876791 2022-03-13 13:39:21.130984   \n",
       "9        9  0.656175 2022-03-13 13:39:21.132111 2022-03-13 13:39:26.662656   \n",
       "10      10  0.695374 2022-03-13 13:39:26.663836 2022-03-13 13:39:31.082712   \n",
       "11      11  0.695374 2022-03-13 13:39:31.083745 2022-03-13 13:39:35.537315   \n",
       "12      12  0.695374 2022-03-13 13:39:35.538215 2022-03-13 13:39:39.976398   \n",
       "13      13  0.700464 2022-03-13 13:39:39.977609 2022-03-13 13:39:42.054647   \n",
       "14      14  0.626929 2022-03-13 13:39:42.055742 2022-03-13 13:39:47.421833   \n",
       "15      15  0.695560 2022-03-13 13:39:47.423271 2022-03-13 13:39:48.375228   \n",
       "16      16  0.630832 2022-03-13 13:39:48.376340 2022-03-13 13:39:53.721054   \n",
       "17      17  0.645408 2022-03-13 13:39:53.722082 2022-03-13 13:39:56.626855   \n",
       "18      18  0.692983 2022-03-13 13:39:56.627870 2022-03-13 13:39:59.069332   \n",
       "19      19  0.616840 2022-03-13 13:39:59.070267 2022-03-13 13:40:05.110878   \n",
       "20      20  0.698683 2022-03-13 13:40:05.112135 2022-03-13 13:40:06.704991   \n",
       "21      21  0.698683 2022-03-13 13:40:06.706166 2022-03-13 13:40:08.310069   \n",
       "22      22  0.698683 2022-03-13 13:40:08.311139 2022-03-13 13:40:09.877341   \n",
       "23      23  0.632157 2022-03-13 13:40:09.878690 2022-03-13 13:40:12.832574   \n",
       "24      24  0.662681 2022-03-13 13:40:12.833891 2022-03-13 13:40:15.127293   \n",
       "25      25  0.712119 2022-03-13 13:40:15.128537 2022-03-13 13:40:17.968881   \n",
       "26      26  0.615020 2022-03-13 13:40:17.970096 2022-03-13 13:40:21.424413   \n",
       "27      27  0.697862 2022-03-13 13:40:21.425330 2022-03-13 13:40:22.031750   \n",
       "28      28  0.617634 2022-03-13 13:40:22.032776 2022-03-13 13:40:30.308235   \n",
       "29      29  0.186123 2022-03-13 13:40:30.309509 2022-03-13 13:40:31.677646   \n",
       "30      30  0.663846 2022-03-13 13:40:31.678803 2022-03-13 13:40:35.093658   \n",
       "31      31  0.698683 2022-03-13 13:40:35.095086 2022-03-13 13:40:36.681907   \n",
       "32      32  0.658947 2022-03-13 13:40:36.683147 2022-03-13 13:40:43.744120   \n",
       "33      33  0.678603 2022-03-13 13:40:43.745270 2022-03-13 13:40:47.815203   \n",
       "34      34  0.600237 2022-03-13 13:40:47.816279 2022-03-13 13:41:25.484862   \n",
       "35      35  0.283878 2022-03-13 13:41:25.486221 2022-03-13 13:41:28.203438   \n",
       "36      36  0.701012 2022-03-13 13:41:28.204356 2022-03-13 13:41:30.080405   \n",
       "37      37  0.652866 2022-03-13 13:41:30.081468 2022-03-13 13:41:33.308842   \n",
       "38      38  0.036813 2022-03-13 13:41:33.309851 2022-03-13 13:41:33.761654   \n",
       "39      39  0.665839 2022-03-13 13:41:33.762618 2022-03-13 13:42:05.596947   \n",
       "40      40  0.264855 2022-03-13 13:42:05.597934 2022-03-13 13:42:06.430636   \n",
       "41      41  0.694676 2022-03-13 13:42:06.431557 2022-03-13 13:42:12.813791   \n",
       "42      42  0.704881 2022-03-13 13:42:12.814823 2022-03-13 13:42:15.140803   \n",
       "43      43  0.704881 2022-03-13 13:42:15.142077 2022-03-13 13:42:17.433284   \n",
       "44      44  0.692067 2022-03-13 13:42:17.434223 2022-03-13 13:42:25.362699   \n",
       "45      45  0.698072 2022-03-13 13:42:25.363921 2022-03-13 13:42:41.058282   \n",
       "46      46  0.692368 2022-03-13 13:42:41.059355 2022-03-13 13:42:51.256161   \n",
       "47      47  0.658251 2022-03-13 13:42:51.257448 2022-03-13 13:42:56.012760   \n",
       "48      48  0.627718 2022-03-13 13:42:56.014165 2022-03-13 13:43:28.945882   \n",
       "49      49  0.701862 2022-03-13 13:43:28.946838 2022-03-13 13:43:36.499657   \n",
       "\n",
       "                 duration  params_D  params_P  params_Q  params_d  params_p  \\\n",
       "0  0 days 00:00:06.359190         0         2         2         1         2   \n",
       "1  0 days 00:00:05.559540         0         1         1         0         6   \n",
       "2  0 days 00:00:05.787352         0         3         2         1         5   \n",
       "3  0 days 00:00:04.451943         1         1         3         1         4   \n",
       "4  0 days 00:00:32.007335         0         2         3         0         8   \n",
       "5  0 days 00:00:03.046820         1         1         1         1         5   \n",
       "6  0 days 00:00:10.367440         0         1         2         0         7   \n",
       "7  0 days 00:00:00.059304         0         0         0         0         6   \n",
       "8  0 days 00:00:06.254193         1         3         3         0         1   \n",
       "9  0 days 00:00:05.530545         1         1         3         0         2   \n",
       "10 0 days 00:00:04.418876         1         0         0         1         3   \n",
       "11 0 days 00:00:04.453570         1         0         0         1         3   \n",
       "12 0 days 00:00:04.438183         1         0         0         1         3   \n",
       "13 0 days 00:00:02.077038         1         0         0         1         0   \n",
       "14 0 days 00:00:05.366091         1         0         1         1         0   \n",
       "15 0 days 00:00:00.951957         1         0         0         1         0   \n",
       "16 0 days 00:00:05.344714         1         0         1         1         0   \n",
       "17 0 days 00:00:02.904773         1         2         0         1         1   \n",
       "18 0 days 00:00:02.441462         1         0         0         1         0   \n",
       "19 0 days 00:00:06.040611         1         1         1         1         1   \n",
       "20 0 days 00:00:01.592856         1         0         0         1         2   \n",
       "21 0 days 00:00:01.603903         1         0         0         1         2   \n",
       "22 0 days 00:00:01.566202         1         0         0         1         2   \n",
       "23 0 days 00:00:02.953884         1         0         1         1         1   \n",
       "24 0 days 00:00:02.293402         1         1         0         1         2   \n",
       "25 0 days 00:00:02.840344         1         0         0         1         4   \n",
       "26 0 days 00:00:03.454317         1         1         1         1         4   \n",
       "27 0 days 00:00:00.606420         1         0         0         1         3   \n",
       "28 0 days 00:00:08.275459         1         2         1         1         5   \n",
       "29 0 days 00:00:01.368137         0         0         2         1         1   \n",
       "30 0 days 00:00:03.414855         1         1         0         1         4   \n",
       "31 0 days 00:00:01.586821         1         0         0         1         2   \n",
       "32 0 days 00:00:07.060973         1         0         0         1         2   \n",
       "33 0 days 00:00:04.069933         1         0         0         1         3   \n",
       "34 0 days 00:00:37.668583         1         3         1         1         6   \n",
       "35 0 days 00:00:02.717217         0         1         0         1         4   \n",
       "36 0 days 00:00:01.876049         1         0         0         1         5   \n",
       "37 0 days 00:00:03.227374         1         1         1         0         6   \n",
       "38 0 days 00:00:00.451803         0         0         0         1         5   \n",
       "39 0 days 00:00:31.834329         1         1         2         0         7   \n",
       "40 0 days 00:00:00.832702         0         0         1         1         7   \n",
       "41 0 days 00:00:06.382234         1         0         0         1         5   \n",
       "42 0 days 00:00:02.325980         1         0         0         1         4   \n",
       "43 0 days 00:00:02.291207         1         0         0         1         4   \n",
       "44 0 days 00:00:07.928476         1         0         0         1         5   \n",
       "45 0 days 00:00:15.694361         1         0         0         1         4   \n",
       "46 0 days 00:00:10.196806         1         0         0         1         8   \n",
       "47 0 days 00:00:04.755312         1         0         0         0         4   \n",
       "48 0 days 00:00:32.931717         1         1         3         1         4   \n",
       "49 0 days 00:00:07.552819         1         0         0         1         6   \n",
       "\n",
       "    params_q     state  \n",
       "0          6  COMPLETE  \n",
       "1          4  COMPLETE  \n",
       "2          0  COMPLETE  \n",
       "3          0  COMPLETE  \n",
       "4          6  COMPLETE  \n",
       "5          1  COMPLETE  \n",
       "6          4  COMPLETE  \n",
       "7          1  COMPLETE  \n",
       "8          3  COMPLETE  \n",
       "9          3  COMPLETE  \n",
       "10         8  COMPLETE  \n",
       "11         8  COMPLETE  \n",
       "12         8  COMPLETE  \n",
       "13         8  COMPLETE  \n",
       "14         6  COMPLETE  \n",
       "15         7  COMPLETE  \n",
       "16         7  COMPLETE  \n",
       "17         7  COMPLETE  \n",
       "18         5  COMPLETE  \n",
       "19         7  COMPLETE  \n",
       "20         5  COMPLETE  \n",
       "21         5  COMPLETE  \n",
       "22         5  COMPLETE  \n",
       "23         3  COMPLETE  \n",
       "24         5  COMPLETE  \n",
       "25         2  COMPLETE  \n",
       "26         2  COMPLETE  \n",
       "27         2  COMPLETE  \n",
       "28         2  COMPLETE  \n",
       "29         1  COMPLETE  \n",
       "30         4  COMPLETE  \n",
       "31         5  COMPLETE  \n",
       "32         6  COMPLETE  \n",
       "33         3  COMPLETE  \n",
       "34         6  COMPLETE  \n",
       "35         4  COMPLETE  \n",
       "36         4  COMPLETE  \n",
       "37         0  COMPLETE  \n",
       "38         2  COMPLETE  \n",
       "39         4  COMPLETE  \n",
       "40         1  COMPLETE  \n",
       "41         5  COMPLETE  \n",
       "42         6  COMPLETE  \n",
       "43         6  COMPLETE  \n",
       "44         8  COMPLETE  \n",
       "45         7  COMPLETE  \n",
       "46         4  COMPLETE  \n",
       "47         6  COMPLETE  \n",
       "48         6  COMPLETE  \n",
       "49         8  COMPLETE  "
      ]
     },
     "execution_count": 7,
     "metadata": {},
     "output_type": "execute_result"
    }
   ],
   "source": [
    "results"
   ]
  },
  {
   "cell_type": "code",
   "execution_count": 8,
   "id": "75be3f1e",
   "metadata": {},
   "outputs": [],
   "source": [
    "#load the results into a csv in the location of your choosing\n",
    "results.to_csv('../../hyperparameters/SARIMAX_hyperparameter_results_kelso.csv')"
   ]
  },
  {
   "cell_type": "code",
   "execution_count": null,
   "id": "d378944d",
   "metadata": {},
   "outputs": [],
   "source": []
  }
 ],
 "metadata": {
  "kernelspec": {
   "display_name": "Python 3 (ipykernel)",
   "language": "python",
   "name": "python3"
  },
  "language_info": {
   "codemirror_mode": {
    "name": "ipython",
    "version": 3
   },
   "file_extension": ".py",
   "mimetype": "text/x-python",
   "name": "python",
   "nbconvert_exporter": "python",
   "pygments_lexer": "ipython3",
   "version": "3.7.11"
  }
 },
 "nbformat": 4,
 "nbformat_minor": 5
}
