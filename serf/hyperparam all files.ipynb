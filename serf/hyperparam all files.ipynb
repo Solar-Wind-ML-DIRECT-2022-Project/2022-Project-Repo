{
 "cells": [
  {
   "cell_type": "markdown",
   "id": "729adb0a",
   "metadata": {},
   "source": [
    "### how to use the hyperparam_opt \n",
    "to optimize hyperparameters"
   ]
  },
  {
   "cell_type": "code",
   "execution_count": 40,
   "id": "860a6b1c",
   "metadata": {},
   "outputs": [],
   "source": [
    "import geopandas as gp\n",
    "import pandas as pd\n",
    "import matplotlib\n",
    "from matplotlib import pyplot as plt\n",
    "\n",
    "import optuna\n",
    "from statsmodels.tsa.statespace.sarimax import SARIMAX\n",
    "import numpy as np\n",
    "import sklearn\n",
    "from sklearn.model_selection import TimeSeriesSplit\n",
    "from sklearn.metrics import r2_score\n",
    "\n",
    "from hyperparam_opt import *\n",
    "import os"
   ]
  },
  {
   "cell_type": "code",
   "execution_count": 41,
   "id": "caa4b723",
   "metadata": {},
   "outputs": [
    {
     "data": {
      "text/plain": [
       "'POWER_Point_Monthly_Timeseries_1981_2020_046d0562N_118d3476W_LST.json'"
      ]
     },
     "execution_count": 41,
     "metadata": {},
     "output_type": "execute_result"
    }
   ],
   "source": [
    "arr = os.listdir('NASA/')\n",
    "arr[1]"
   ]
  },
  {
   "cell_type": "code",
   "execution_count": 42,
   "id": "f8553e24",
   "metadata": {},
   "outputs": [
    {
     "data": {
      "text/plain": [
       "[]"
      ]
     },
     "execution_count": 42,
     "metadata": {},
     "output_type": "execute_result"
    }
   ],
   "source": [
    "os.listdir('../../hyperparameters/')"
   ]
  },
  {
   "cell_type": "code",
   "execution_count": 43,
   "id": "7b303710",
   "metadata": {},
   "outputs": [],
   "source": [
    "for k in range(len(arr)):\n",
    "    arr[k] = 'NASA/'+ arr[k]"
   ]
  },
  {
   "cell_type": "code",
   "execution_count": 44,
   "id": "5d4e3c6a",
   "metadata": {},
   "outputs": [],
   "source": [
    "arr.remove('NASA/POWER_Point_Monthly_Timeseries_1981_2020_047d6155N_122d2917W_LST.csv')\n",
    "arr.remove('NASA/POWER_Point_Monthly_Timeseries_1981_2020_047d6155N_122d2917W_LST.xlsx')\n",
    "arr.remove('NASA/POWER_Point_Monthly_Timeseries_1981_2020_045d4969N_122d5938W_LST.json')"
   ]
  },
  {
   "cell_type": "code",
   "execution_count": 45,
   "id": "ca59b3d7",
   "metadata": {},
   "outputs": [
    {
     "data": {
      "text/plain": [
       "['NASA/POWER_Point_Monthly_Timeseries_1981_2020_046d0562N_118d3476W_LST.json',\n",
       " 'NASA/POWER_Point_Monthly_Timeseries_1981_2020_046d1514N_122d8191W_LST.json',\n",
       " 'NASA/POWER_Point_Monthly_Timeseries_1981_2020_046d1704N_123d7804W_LST.json',\n",
       " 'NASA/POWER_Point_Monthly_Timeseries_1981_2020_046d2199N_119d0837W_LST.json',\n",
       " 'NASA/POWER_Point_Monthly_Timeseries_1981_2020_046d4134N_117d0293W_LST.json',\n",
       " 'NASA/POWER_Point_Monthly_Timeseries_1981_2020_047d0347N_122d8630W_LST.json',\n",
       " 'NASA/POWER_Point_Monthly_Timeseries_1981_2020_047d1095N_119d2320W_LST.json',\n",
       " 'NASA/POWER_Point_Monthly_Timeseries_1981_2020_047d2402N_122d4345W_LST.json',\n",
       " 'NASA/POWER_Point_Monthly_Timeseries_1981_2020_047d3855N_122d1983W_LST.json',\n",
       " 'NASA/POWER_Point_Monthly_Timeseries_1981_2020_047d4189N_120d3032W_LST.json',\n",
       " 'NASA/POWER_Point_Monthly_Timeseries_1981_2020_047d5053N_121d8406W_LST.json',\n",
       " 'NASA/POWER_Point_Monthly_Timeseries_1981_2020_047d5590N_122d7195W_LST.json',\n",
       " 'NASA/POWER_Point_Monthly_Timeseries_1981_2020_047d6155N_122d2917W_LST (1).json',\n",
       " 'NASA/POWER_Point_Monthly_Timeseries_1981_2020_047d6202N_122d1400W_LST.json',\n",
       " 'NASA/POWER_Point_Monthly_Timeseries_1981_2020_047d6748N_117d3698W_LST.json',\n",
       " 'NASA/POWER_Point_Monthly_Timeseries_1981_2020_047d8695N_118d8001W_LST.json',\n",
       " 'NASA/POWER_Point_Monthly_Timeseries_1981_2020_047d9735N_122d2038W_LST.json',\n",
       " 'NASA/POWER_Point_Monthly_Timeseries_1981_2020_048d0139N_123d4453W_LST.json',\n",
       " 'NASA/POWER_Point_Monthly_Timeseries_1981_2020_048d4093N_123d5716W_LST.json',\n",
       " 'NASA/POWER_Point_Monthly_Timeseries_1981_2020_048d5085N_117d3252W_LST.json',\n",
       " 'NASA/POWER_Point_Monthly_Timeseries_1981_2020_048d5767N_122d9509W_LST.json',\n",
       " 'NASA/POWER_Point_Monthly_Timeseries_1981_2020_048d7826N_121d7994W_LST.json',\n",
       " 'NASA/POWER_Point_Monthly_Timeseries_1981_2020_048d7835N_122d3357W_LST.json',\n",
       " 'NASA/POWER_Point_Monthly_Timeseries_1981_2020_048d9289N_117d8306W_LST.json',\n",
       " 'NASA/POWER_Point_Monthly_Timeseries_1981_2020_049d0362N_118d4245W_LST.json',\n",
       " 'NASA/POWER_Point_Monthly_Timeseries_1981_2020_049d0362N_122d3247W_LST.json']"
      ]
     },
     "execution_count": 45,
     "metadata": {},
     "output_type": "execute_result"
    }
   ],
   "source": [
    "arr"
   ]
  },
  {
   "cell_type": "code",
   "execution_count": 46,
   "id": "732ad976",
   "metadata": {},
   "outputs": [
    {
     "data": {
      "text/plain": [
       "'NASA/POWER_Point_Monthly_Timeseries_1981_2020_046d0562N_118d3476W_LST.json'"
      ]
     },
     "execution_count": 46,
     "metadata": {},
     "output_type": "execute_result"
    }
   ],
   "source": [
    "arr[0]"
   ]
  },
  {
   "cell_type": "code",
   "execution_count": 47,
   "id": "72eb6eab",
   "metadata": {},
   "outputs": [
    {
     "data": {
      "text/plain": [
       "'NASA/POWER_Point_Monthly_Timeseries_1981_2020_046d1514N_122d8191W_LST.json'"
      ]
     },
     "execution_count": 47,
     "metadata": {},
     "output_type": "execute_result"
    }
   ],
   "source": [
    "arr[1]"
   ]
  },
  {
   "cell_type": "code",
   "execution_count": 49,
   "id": "fff31c8f",
   "metadata": {},
   "outputs": [
    {
     "data": {
      "text/html": [
       "<div>\n",
       "<style scoped>\n",
       "    .dataframe tbody tr th:only-of-type {\n",
       "        vertical-align: middle;\n",
       "    }\n",
       "\n",
       "    .dataframe tbody tr th {\n",
       "        vertical-align: top;\n",
       "    }\n",
       "\n",
       "    .dataframe thead th {\n",
       "        text-align: right;\n",
       "    }\n",
       "</style>\n",
       "<table border=\"1\" class=\"dataframe\">\n",
       "  <thead>\n",
       "    <tr style=\"text-align: right;\">\n",
       "      <th></th>\n",
       "      <th>ALLSKY_KT</th>\n",
       "    </tr>\n",
       "  </thead>\n",
       "  <tbody>\n",
       "    <tr>\n",
       "      <th>198401</th>\n",
       "      <td>0.48</td>\n",
       "    </tr>\n",
       "    <tr>\n",
       "      <th>198402</th>\n",
       "      <td>0.46</td>\n",
       "    </tr>\n",
       "    <tr>\n",
       "      <th>198403</th>\n",
       "      <td>0.53</td>\n",
       "    </tr>\n",
       "    <tr>\n",
       "      <th>198404</th>\n",
       "      <td>0.55</td>\n",
       "    </tr>\n",
       "    <tr>\n",
       "      <th>198405</th>\n",
       "      <td>0.55</td>\n",
       "    </tr>\n",
       "    <tr>\n",
       "      <th>...</th>\n",
       "      <td>...</td>\n",
       "    </tr>\n",
       "    <tr>\n",
       "      <th>202009</th>\n",
       "      <td>0.57</td>\n",
       "    </tr>\n",
       "    <tr>\n",
       "      <th>202010</th>\n",
       "      <td>0.59</td>\n",
       "    </tr>\n",
       "    <tr>\n",
       "      <th>202011</th>\n",
       "      <td>0.48</td>\n",
       "    </tr>\n",
       "    <tr>\n",
       "      <th>202012</th>\n",
       "      <td>0.38</td>\n",
       "    </tr>\n",
       "    <tr>\n",
       "      <th>202013</th>\n",
       "      <td>0.60</td>\n",
       "    </tr>\n",
       "  </tbody>\n",
       "</table>\n",
       "<p>481 rows × 1 columns</p>\n",
       "</div>"
      ],
      "text/plain": [
       "        ALLSKY_KT\n",
       "198401       0.48\n",
       "198402       0.46\n",
       "198403       0.53\n",
       "198404       0.55\n",
       "198405       0.55\n",
       "...           ...\n",
       "202009       0.57\n",
       "202010       0.59\n",
       "202011       0.48\n",
       "202012       0.38\n",
       "202013       0.60\n",
       "\n",
       "[481 rows x 1 columns]"
      ]
     },
     "execution_count": 49,
     "metadata": {},
     "output_type": "execute_result"
    }
   ],
   "source": [
    "loadjson(arr[0])"
   ]
  },
  {
   "cell_type": "code",
   "execution_count": 50,
   "id": "ccfb99c7",
   "metadata": {},
   "outputs": [
    {
     "data": {
      "text/html": [
       "<div>\n",
       "<style scoped>\n",
       "    .dataframe tbody tr th:only-of-type {\n",
       "        vertical-align: middle;\n",
       "    }\n",
       "\n",
       "    .dataframe tbody tr th {\n",
       "        vertical-align: top;\n",
       "    }\n",
       "\n",
       "    .dataframe thead th {\n",
       "        text-align: right;\n",
       "    }\n",
       "</style>\n",
       "<table border=\"1\" class=\"dataframe\">\n",
       "  <thead>\n",
       "    <tr style=\"text-align: right;\">\n",
       "      <th></th>\n",
       "      <th>ALLSKY_KT</th>\n",
       "    </tr>\n",
       "  </thead>\n",
       "  <tbody>\n",
       "    <tr>\n",
       "      <th>198401</th>\n",
       "      <td>0.48</td>\n",
       "    </tr>\n",
       "    <tr>\n",
       "      <th>198402</th>\n",
       "      <td>0.37</td>\n",
       "    </tr>\n",
       "    <tr>\n",
       "      <th>198403</th>\n",
       "      <td>0.51</td>\n",
       "    </tr>\n",
       "    <tr>\n",
       "      <th>198404</th>\n",
       "      <td>0.49</td>\n",
       "    </tr>\n",
       "    <tr>\n",
       "      <th>198405</th>\n",
       "      <td>0.52</td>\n",
       "    </tr>\n",
       "    <tr>\n",
       "      <th>...</th>\n",
       "      <td>...</td>\n",
       "    </tr>\n",
       "    <tr>\n",
       "      <th>202009</th>\n",
       "      <td>0.50</td>\n",
       "    </tr>\n",
       "    <tr>\n",
       "      <th>202010</th>\n",
       "      <td>0.50</td>\n",
       "    </tr>\n",
       "    <tr>\n",
       "      <th>202011</th>\n",
       "      <td>0.38</td>\n",
       "    </tr>\n",
       "    <tr>\n",
       "      <th>202012</th>\n",
       "      <td>0.38</td>\n",
       "    </tr>\n",
       "    <tr>\n",
       "      <th>202013</th>\n",
       "      <td>0.50</td>\n",
       "    </tr>\n",
       "  </tbody>\n",
       "</table>\n",
       "<p>481 rows × 1 columns</p>\n",
       "</div>"
      ],
      "text/plain": [
       "        ALLSKY_KT\n",
       "198401       0.48\n",
       "198402       0.37\n",
       "198403       0.51\n",
       "198404       0.49\n",
       "198405       0.52\n",
       "...           ...\n",
       "202009       0.50\n",
       "202010       0.50\n",
       "202011       0.38\n",
       "202012       0.38\n",
       "202013       0.50\n",
       "\n",
       "[481 rows x 1 columns]"
      ]
     },
     "execution_count": 50,
     "metadata": {},
     "output_type": "execute_result"
    }
   ],
   "source": [
    "loadjson(arr[1])"
   ]
  },
  {
   "cell_type": "code",
   "execution_count": 51,
   "id": "f334116e",
   "metadata": {
    "scrolled": true
   },
   "outputs": [
    {
     "name": "stderr",
     "output_type": "stream",
     "text": [
      "\u001b[32m[I 2022-03-09 21:07:26,285]\u001b[0m A new study created in memory with name: no-name-5259ea0d-7e15-48ac-9239-b049960efd2f\u001b[0m\n"
     ]
    },
    {
     "name": "stdout",
     "output_type": "stream",
     "text": [
      "Optimization terminated successfully.\n",
      "         Current function value: 0.677253\n",
      "         Iterations: 28\n",
      "         Function evaluations: 5773\n"
     ]
    },
    {
     "name": "stderr",
     "output_type": "stream",
     "text": [
      "\u001b[32m[I 2022-03-09 21:08:14,838]\u001b[0m Trial 0 finished with value: -6.806476641778367e+62 and parameters: {'p': 8, 'd': 0, 'q': 4, 'P': 2, 'D': 1, 'Q': 1}. Best is trial 0 with value: -6.806476641778367e+62.\u001b[0m\n"
     ]
    },
    {
     "name": "stdout",
     "output_type": "stream",
     "text": [
      "Optimization terminated successfully.\n",
      "         Current function value: -1.523258\n",
      "         Iterations: 8\n",
      "         Function evaluations: 2121\n"
     ]
    },
    {
     "name": "stderr",
     "output_type": "stream",
     "text": [
      "\u001b[32m[I 2022-03-09 21:08:35,972]\u001b[0m Trial 1 finished with value: 0.8322858373263375 and parameters: {'p': 4, 'd': 1, 'q': 8, 'P': 3, 'D': 0, 'Q': 3}. Best is trial 1 with value: 0.8322858373263375.\u001b[0m\n",
      "\u001b[32m[I 2022-03-09 21:08:38,556]\u001b[0m Trial 2 finished with value: 0.8411712622359263 and parameters: {'p': 0, 'd': 0, 'q': 0, 'P': 2, 'D': 1, 'Q': 3}. Best is trial 2 with value: 0.8411712622359263.\u001b[0m\n"
     ]
    },
    {
     "name": "stdout",
     "output_type": "stream",
     "text": [
      "Optimization terminated successfully.\n",
      "         Current function value: -1.502302\n",
      "         Iterations: 3\n",
      "         Function evaluations: 234\n"
     ]
    },
    {
     "name": "stderr",
     "output_type": "stream",
     "text": [
      "\u001b[32m[I 2022-03-09 21:08:44,556]\u001b[0m Trial 3 finished with value: 0.8380582312714095 and parameters: {'p': 8, 'd': 0, 'q': 4, 'P': 1, 'D': 0, 'Q': 1}. Best is trial 2 with value: 0.8411712622359263.\u001b[0m\n"
     ]
    },
    {
     "name": "stdout",
     "output_type": "stream",
     "text": [
      "Optimization terminated successfully.\n",
      "         Current function value: -1.638754\n",
      "         Iterations: 9\n",
      "         Function evaluations: 1499\n",
      "Optimization terminated successfully.\n",
      "         Current function value: -1.538757\n",
      "         Iterations: 11\n",
      "         Function evaluations: 1530\n"
     ]
    },
    {
     "name": "stderr",
     "output_type": "stream",
     "text": [
      "\u001b[32m[I 2022-03-09 21:08:57,222]\u001b[0m Trial 4 finished with value: 0.8307024538118157 and parameters: {'p': 0, 'd': 1, 'q': 4, 'P': 3, 'D': 0, 'Q': 3}. Best is trial 2 with value: 0.8411712622359263.\u001b[0m\n",
      "\u001b[32m[I 2022-03-09 21:08:59,144]\u001b[0m Trial 5 finished with value: 0.8365433399101122 and parameters: {'p': 1, 'd': 0, 'q': 3, 'P': 1, 'D': 0, 'Q': 2}. Best is trial 2 with value: 0.8411712622359263.\u001b[0m\n"
     ]
    },
    {
     "name": "stdout",
     "output_type": "stream",
     "text": [
      "Optimization terminated successfully.\n",
      "         Current function value: -1.600999\n",
      "         Iterations: 4\n",
      "         Function evaluations: 405\n",
      "Optimization terminated successfully.\n",
      "         Current function value: -1.476386\n",
      "         Iterations: 4\n",
      "         Function evaluations: 565\n"
     ]
    },
    {
     "name": "stderr",
     "output_type": "stream",
     "text": [
      "\u001b[32m[I 2022-03-09 21:09:06,517]\u001b[0m Trial 6 finished with value: 0.835996326714094 and parameters: {'p': 0, 'd': 1, 'q': 5, 'P': 1, 'D': 1, 'Q': 3}. Best is trial 2 with value: 0.8411712622359263.\u001b[0m\n"
     ]
    },
    {
     "name": "stdout",
     "output_type": "stream",
     "text": [
      "Optimization terminated successfully.\n",
      "         Current function value: -1.558513\n",
      "         Iterations: 5\n",
      "         Function evaluations: 871\n"
     ]
    },
    {
     "name": "stderr",
     "output_type": "stream",
     "text": [
      "\u001b[32m[I 2022-03-09 21:09:13,411]\u001b[0m Trial 7 finished with value: 0.8374683477049227 and parameters: {'p': 3, 'd': 0, 'q': 6, 'P': 3, 'D': 0, 'Q': 1}. Best is trial 2 with value: 0.8411712622359263.\u001b[0m\n"
     ]
    },
    {
     "name": "stdout",
     "output_type": "stream",
     "text": [
      "Optimization terminated successfully.\n",
      "         Current function value: -1.534564\n",
      "         Iterations: 6\n",
      "         Function evaluations: 941\n"
     ]
    },
    {
     "name": "stderr",
     "output_type": "stream",
     "text": [
      "\u001b[32m[I 2022-03-09 21:09:20,991]\u001b[0m Trial 8 finished with value: 0.8365896613693664 and parameters: {'p': 4, 'd': 1, 'q': 4, 'P': 0, 'D': 1, 'Q': 2}. Best is trial 2 with value: 0.8411712622359263.\u001b[0m\n",
      "\u001b[32m[I 2022-03-09 21:09:23,562]\u001b[0m Trial 9 finished with value: 0.7812648700856126 and parameters: {'p': 3, 'd': 0, 'q': 4, 'P': 0, 'D': 1, 'Q': 0}. Best is trial 2 with value: 0.8411712622359263.\u001b[0m\n"
     ]
    },
    {
     "name": "stdout",
     "output_type": "stream",
     "text": [
      "Optimization terminated successfully.\n",
      "         Current function value: -1.442591\n",
      "         Iterations: 8\n",
      "         Function evaluations: 949\n",
      "Optimization terminated successfully.\n",
      "         Current function value: -1.543234\n",
      "         Iterations: 4\n",
      "         Function evaluations: 516\n"
     ]
    },
    {
     "name": "stderr",
     "output_type": "stream",
     "text": [
      "\u001b[32m[I 2022-03-09 21:09:27,505]\u001b[0m Trial 10 finished with value: 0.8375443250421964 and parameters: {'p': 6, 'd': 0, 'q': 0, 'P': 2, 'D': 1, 'Q': 2}. Best is trial 2 with value: 0.8411712622359263.\u001b[0m\n",
      "\u001b[32m[I 2022-03-09 21:09:27,888]\u001b[0m Trial 11 finished with value: 0.7609653693412268 and parameters: {'p': 8, 'd': 0, 'q': 0, 'P': 1, 'D': 0, 'Q': 0}. Best is trial 2 with value: 0.8411712622359263.\u001b[0m\n"
     ]
    },
    {
     "name": "stdout",
     "output_type": "stream",
     "text": [
      "Optimization terminated successfully.\n",
      "         Current function value: -1.401178\n",
      "         Iterations: 3\n",
      "         Function evaluations: 305\n"
     ]
    },
    {
     "name": "stderr",
     "output_type": "stream",
     "text": [
      "\u001b[32m[I 2022-03-09 21:09:33,435]\u001b[0m Trial 12 finished with value: 0.8357921832612109 and parameters: {'p': 6, 'd': 0, 'q': 2, 'P': 2, 'D': 0, 'Q': 1}. Best is trial 2 with value: 0.8411712622359263.\u001b[0m\n"
     ]
    },
    {
     "name": "stdout",
     "output_type": "stream",
     "text": [
      "Optimization terminated successfully.\n",
      "         Current function value: -1.599040\n",
      "         Iterations: 8\n",
      "         Function evaluations: 1070\n"
     ]
    },
    {
     "name": "stderr",
     "output_type": "stream",
     "text": [
      "\u001b[32m[I 2022-03-09 21:09:35,006]\u001b[0m Trial 13 finished with value: 0.8376160250091106 and parameters: {'p': 2, 'd': 0, 'q': 2, 'P': 1, 'D': 1, 'Q': 1}. Best is trial 2 with value: 0.8411712622359263.\u001b[0m\n"
     ]
    },
    {
     "name": "stdout",
     "output_type": "stream",
     "text": [
      "Optimization terminated successfully.\n",
      "         Current function value: -1.601528\n",
      "         Iterations: 4\n",
      "         Function evaluations: 366\n",
      "Optimization terminated successfully.\n",
      "         Current function value: -1.596734\n",
      "         Iterations: 15\n",
      "         Function evaluations: 3408\n"
     ]
    },
    {
     "name": "stderr",
     "output_type": "stream",
     "text": [
      "\u001b[32m[I 2022-03-09 21:09:54,521]\u001b[0m Trial 14 finished with value: 0.8454217358331759 and parameters: {'p': 6, 'd': 0, 'q': 7, 'P': 2, 'D': 0, 'Q': 2}. Best is trial 14 with value: 0.8454217358331759.\u001b[0m\n"
     ]
    },
    {
     "name": "stdout",
     "output_type": "stream",
     "text": [
      "Optimization terminated successfully.\n",
      "         Current function value: -1.491591\n",
      "         Iterations: 11\n",
      "         Function evaluations: 2595\n"
     ]
    },
    {
     "name": "stderr",
     "output_type": "stream",
     "text": [
      "\u001b[32m[I 2022-03-09 21:10:32,081]\u001b[0m Trial 15 finished with value: 0.8382915532560505 and parameters: {'p': 6, 'd': 0, 'q': 8, 'P': 2, 'D': 1, 'Q': 3}. Best is trial 14 with value: 0.8454217358331759.\u001b[0m\n"
     ]
    },
    {
     "name": "stdout",
     "output_type": "stream",
     "text": [
      "Optimization terminated successfully.\n",
      "         Current function value: -1.597772\n",
      "         Iterations: 7\n",
      "         Function evaluations: 1351\n"
     ]
    },
    {
     "name": "stderr",
     "output_type": "stream",
     "text": [
      "\u001b[32m[I 2022-03-09 21:10:40,683]\u001b[0m Trial 16 finished with value: 0.8381646535133851 and parameters: {'p': 5, 'd': 0, 'q': 6, 'P': 2, 'D': 0, 'Q': 2}. Best is trial 14 with value: 0.8454217358331759.\u001b[0m\n"
     ]
    },
    {
     "name": "stdout",
     "output_type": "stream",
     "text": [
      "Optimization terminated successfully.\n",
      "         Current function value: -1.469820\n",
      "         Iterations: 6\n",
      "         Function evaluations: 1199\n"
     ]
    },
    {
     "name": "stderr",
     "output_type": "stream",
     "text": [
      "\u001b[32m[I 2022-03-09 21:10:57,587]\u001b[0m Trial 17 finished with value: 0.8351257223912119 and parameters: {'p': 2, 'd': 1, 'q': 7, 'P': 3, 'D': 1, 'Q': 3}. Best is trial 14 with value: 0.8454217358331759.\u001b[0m\n",
      "\u001b[32m[I 2022-03-09 21:11:01,025]\u001b[0m Trial 18 finished with value: 0.8364517548852526 and parameters: {'p': 7, 'd': 0, 'q': 1, 'P': 2, 'D': 0, 'Q': 2}. Best is trial 14 with value: 0.8454217358331759.\u001b[0m\n"
     ]
    },
    {
     "name": "stdout",
     "output_type": "stream",
     "text": [
      "Optimization terminated successfully.\n",
      "         Current function value: -1.599869\n",
      "         Iterations: 4\n",
      "         Function evaluations: 556\n",
      "Optimization terminated successfully.\n",
      "         Current function value: -1.492809\n",
      "         Iterations: 7\n",
      "         Function evaluations: 1501\n"
     ]
    },
    {
     "name": "stderr",
     "output_type": "stream",
     "text": [
      "\u001b[32m[I 2022-03-09 21:11:21,304]\u001b[0m Trial 19 finished with value: 0.8394045058645767 and parameters: {'p': 5, 'd': 0, 'q': 6, 'P': 3, 'D': 1, 'Q': 3}. Best is trial 14 with value: 0.8454217358331759.\u001b[0m\n",
      "\u001b[32m[I 2022-03-09 21:11:30,549]\u001b[0m Trial 20 finished with value: 0.8311431222570312 and parameters: {'p': 5, 'd': 1, 'q': 2, 'P': 2, 'D': 0, 'Q': 2}. Best is trial 14 with value: 0.8454217358331759.\u001b[0m\n"
     ]
    },
    {
     "name": "stdout",
     "output_type": "stream",
     "text": [
      "Optimization terminated successfully.\n",
      "         Current function value: -1.595019\n",
      "         Iterations: 11\n",
      "         Function evaluations: 1575\n",
      "Optimization terminated successfully.\n",
      "         Current function value: -1.492809\n",
      "         Iterations: 7\n",
      "         Function evaluations: 1501\n"
     ]
    },
    {
     "name": "stderr",
     "output_type": "stream",
     "text": [
      "\u001b[32m[I 2022-03-09 21:11:50,471]\u001b[0m Trial 21 finished with value: 0.8394045058645767 and parameters: {'p': 5, 'd': 0, 'q': 6, 'P': 3, 'D': 1, 'Q': 3}. Best is trial 14 with value: 0.8454217358331759.\u001b[0m\n"
     ]
    },
    {
     "name": "stdout",
     "output_type": "stream",
     "text": [
      "Optimization terminated successfully.\n",
      "         Current function value: -1.496312\n",
      "         Iterations: 12\n",
      "         Function evaluations: 2901\n"
     ]
    },
    {
     "name": "stderr",
     "output_type": "stream",
     "text": [
      "\u001b[32m[I 2022-03-09 21:12:25,645]\u001b[0m Trial 22 finished with value: 0.841196419996814 and parameters: {'p': 7, 'd': 0, 'q': 7, 'P': 3, 'D': 1, 'Q': 3}. Best is trial 14 with value: 0.8454217358331759.\u001b[0m\n"
     ]
    },
    {
     "name": "stdout",
     "output_type": "stream",
     "text": [
      "Optimization terminated successfully.\n",
      "         Current function value: -1.494255\n",
      "         Iterations: 10\n",
      "         Function evaluations: 2286\n"
     ]
    },
    {
     "name": "stderr",
     "output_type": "stream",
     "text": [
      "\u001b[32m[I 2022-03-09 21:12:54,240]\u001b[0m Trial 23 finished with value: 0.8422866768928154 and parameters: {'p': 6, 'd': 0, 'q': 7, 'P': 2, 'D': 1, 'Q': 3}. Best is trial 14 with value: 0.8454217358331759.\u001b[0m\n"
     ]
    },
    {
     "name": "stdout",
     "output_type": "stream",
     "text": [
      "Optimization terminated successfully.\n",
      "         Current function value: -1.491157\n",
      "         Iterations: 7\n",
      "         Function evaluations: 1593\n"
     ]
    },
    {
     "name": "stderr",
     "output_type": "stream",
     "text": [
      "\u001b[32m[I 2022-03-09 21:13:11,717]\u001b[0m Trial 24 finished with value: 0.834673091552386 and parameters: {'p': 7, 'd': 0, 'q': 7, 'P': 3, 'D': 1, 'Q': 2}. Best is trial 14 with value: 0.8454217358331759.\u001b[0m\n"
     ]
    },
    {
     "name": "stdout",
     "output_type": "stream",
     "text": [
      "Optimization terminated successfully.\n",
      "         Current function value: -1.494139\n",
      "         Iterations: 11\n",
      "         Function evaluations: 2551\n"
     ]
    },
    {
     "name": "stderr",
     "output_type": "stream",
     "text": [
      "\u001b[32m[I 2022-03-09 21:13:43,807]\u001b[0m Trial 25 finished with value: 0.8427234100380088 and parameters: {'p': 7, 'd': 0, 'q': 7, 'P': 2, 'D': 1, 'Q': 3}. Best is trial 14 with value: 0.8454217358331759.\u001b[0m\n"
     ]
    },
    {
     "name": "stdout",
     "output_type": "stream",
     "text": [
      "Optimization terminated successfully.\n",
      "         Current function value: -1.538435\n",
      "         Iterations: 9\n",
      "         Function evaluations: 2133\n"
     ]
    },
    {
     "name": "stderr",
     "output_type": "stream",
     "text": [
      "\u001b[32m[I 2022-03-09 21:14:03,855]\u001b[0m Trial 26 finished with value: 0.8367585843309967 and parameters: {'p': 7, 'd': 0, 'q': 8, 'P': 2, 'D': 1, 'Q': 2}. Best is trial 14 with value: 0.8454217358331759.\u001b[0m\n"
     ]
    },
    {
     "name": "stdout",
     "output_type": "stream",
     "text": [
      "Optimization terminated successfully.\n",
      "         Current function value: -1.494784\n",
      "         Iterations: 9\n",
      "         Function evaluations: 1605\n"
     ]
    },
    {
     "name": "stderr",
     "output_type": "stream",
     "text": [
      "\u001b[32m[I 2022-03-09 21:14:21,606]\u001b[0m Trial 27 finished with value: 0.8374215543887277 and parameters: {'p': 6, 'd': 0, 'q': 5, 'P': 1, 'D': 1, 'Q': 3}. Best is trial 14 with value: 0.8454217358331759.\u001b[0m\n"
     ]
    },
    {
     "name": "stdout",
     "output_type": "stream",
     "text": [
      "Optimization terminated successfully.\n",
      "         Current function value: -1.539224\n",
      "         Iterations: 18\n",
      "         Function evaluations: 4392\n"
     ]
    },
    {
     "name": "stderr",
     "output_type": "stream",
     "text": [
      "\u001b[32m[I 2022-03-09 21:14:58,768]\u001b[0m Trial 28 finished with value: 0.8422669080261346 and parameters: {'p': 7, 'd': 0, 'q': 7, 'P': 2, 'D': 0, 'Q': 3}. Best is trial 14 with value: 0.8454217358331759.\u001b[0m\n"
     ]
    },
    {
     "name": "stdout",
     "output_type": "stream",
     "text": [
      "Optimization terminated successfully.\n",
      "         Current function value: -1.529585\n",
      "         Iterations: 18\n",
      "         Function evaluations: 3973\n"
     ]
    },
    {
     "name": "stderr",
     "output_type": "stream",
     "text": [
      "\u001b[32m[I 2022-03-09 21:15:32,423]\u001b[0m Trial 29 finished with value: 0.843739816316789 and parameters: {'p': 8, 'd': 0, 'q': 5, 'P': 2, 'D': 1, 'Q': 2}. Best is trial 14 with value: 0.8454217358331759.\u001b[0m\n"
     ]
    },
    {
     "name": "stdout",
     "output_type": "stream",
     "text": [
      "Optimization terminated successfully.\n",
      "         Current function value: -1.546356\n",
      "         Iterations: 40\n",
      "         Function evaluations: 8483\n"
     ]
    },
    {
     "name": "stderr",
     "output_type": "stream",
     "text": [
      "\u001b[32m[I 2022-03-09 21:16:42,704]\u001b[0m Trial 30 finished with value: 0.8372015678977471 and parameters: {'p': 8, 'd': 0, 'q': 5, 'P': 1, 'D': 1, 'Q': 2}. Best is trial 14 with value: 0.8454217358331759.\u001b[0m\n"
     ]
    },
    {
     "name": "stdout",
     "output_type": "stream",
     "text": [
      "Optimization terminated successfully.\n",
      "         Current function value: -1.538881\n",
      "         Iterations: 8\n",
      "         Function evaluations: 1886\n"
     ]
    },
    {
     "name": "stderr",
     "output_type": "stream",
     "text": [
      "\u001b[32m[I 2022-03-09 21:16:58,223]\u001b[0m Trial 31 finished with value: 0.8390569450067337 and parameters: {'p': 8, 'd': 0, 'q': 7, 'P': 2, 'D': 1, 'Q': 2}. Best is trial 14 with value: 0.8454217358331759.\u001b[0m\n"
     ]
    },
    {
     "name": "stdout",
     "output_type": "stream",
     "text": [
      "Optimization terminated successfully.\n",
      "         Current function value: -1.545336\n",
      "         Iterations: 14\n",
      "         Function evaluations: 3244\n"
     ]
    },
    {
     "name": "stderr",
     "output_type": "stream",
     "text": [
      "\u001b[32m[I 2022-03-09 21:17:27,943]\u001b[0m Trial 32 finished with value: 0.8397858107505751 and parameters: {'p': 6, 'd': 0, 'q': 8, 'P': 2, 'D': 1, 'Q': 2}. Best is trial 14 with value: 0.8454217358331759.\u001b[0m\n"
     ]
    },
    {
     "name": "stdout",
     "output_type": "stream",
     "text": [
      "Optimization terminated successfully.\n",
      "         Current function value: -1.499902\n",
      "         Iterations: 11\n",
      "         Function evaluations: 2566\n"
     ]
    },
    {
     "name": "stderr",
     "output_type": "stream",
     "text": [
      "\u001b[32m[I 2022-03-09 21:18:01,725]\u001b[0m Trial 33 finished with value: 0.8423858823469843 and parameters: {'p': 7, 'd': 0, 'q': 6, 'P': 2, 'D': 1, 'Q': 3}. Best is trial 14 with value: 0.8454217358331759.\u001b[0m\n"
     ]
    },
    {
     "name": "stdout",
     "output_type": "stream",
     "text": [
      "Optimization terminated successfully.\n",
      "         Current function value: -1.540620\n",
      "         Iterations: 22\n",
      "         Function evaluations: 4627\n"
     ]
    },
    {
     "name": "stderr",
     "output_type": "stream",
     "text": [
      "\u001b[32m[I 2022-03-09 21:18:39,719]\u001b[0m Trial 34 finished with value: 0.8336901010501897 and parameters: {'p': 8, 'd': 0, 'q': 5, 'P': 2, 'D': 1, 'Q': 1}. Best is trial 14 with value: 0.8454217358331759.\u001b[0m\n"
     ]
    },
    {
     "name": "stdout",
     "output_type": "stream",
     "text": [
      "Optimization terminated successfully.\n",
      "         Current function value: -1.499902\n",
      "         Iterations: 11\n",
      "         Function evaluations: 2566\n"
     ]
    },
    {
     "name": "stderr",
     "output_type": "stream",
     "text": [
      "\u001b[32m[I 2022-03-09 21:19:15,171]\u001b[0m Trial 35 finished with value: 0.8423858823469843 and parameters: {'p': 7, 'd': 0, 'q': 6, 'P': 2, 'D': 1, 'Q': 3}. Best is trial 14 with value: 0.8454217358331759.\u001b[0m\n"
     ]
    },
    {
     "name": "stdout",
     "output_type": "stream",
     "text": [
      "Optimization terminated successfully.\n",
      "         Current function value: -1.547018\n",
      "         Iterations: 4\n",
      "         Function evaluations: 835\n"
     ]
    },
    {
     "name": "stderr",
     "output_type": "stream",
     "text": [
      "\u001b[32m[I 2022-03-09 21:19:22,516]\u001b[0m Trial 36 finished with value: 0.8363406521585374 and parameters: {'p': 8, 'd': 0, 'q': 5, 'P': 2, 'D': 0, 'Q': 3}. Best is trial 14 with value: 0.8454217358331759.\u001b[0m\n"
     ]
    },
    {
     "name": "stdout",
     "output_type": "stream",
     "text": [
      "Optimization terminated successfully.\n",
      "         Current function value: -1.531230\n",
      "         Iterations: 9\n",
      "         Function evaluations: 1815\n"
     ]
    },
    {
     "name": "stderr",
     "output_type": "stream",
     "text": [
      "\u001b[32m[I 2022-03-09 21:19:38,686]\u001b[0m Trial 37 finished with value: 0.836272183149917 and parameters: {'p': 7, 'd': 1, 'q': 6, 'P': 1, 'D': 1, 'Q': 2}. Best is trial 14 with value: 0.8454217358331759.\u001b[0m\n"
     ]
    },
    {
     "name": "stdout",
     "output_type": "stream",
     "text": [
      "Optimization terminated successfully.\n",
      "         Current function value: 0.554408\n",
      "         Iterations: 39\n",
      "         Function evaluations: 9296\n"
     ]
    },
    {
     "name": "stderr",
     "output_type": "stream",
     "text": [
      "\u001b[32m[I 2022-03-09 21:21:28,256]\u001b[0m Trial 38 finished with value: -5.196997818401911e+59 and parameters: {'p': 8, 'd': 0, 'q': 4, 'P': 2, 'D': 1, 'Q': 3}. Best is trial 14 with value: 0.8454217358331759.\u001b[0m\n"
     ]
    },
    {
     "name": "stdout",
     "output_type": "stream",
     "text": [
      "Optimization terminated successfully.\n",
      "         Current function value: -1.552210\n",
      "         Iterations: 14\n",
      "         Function evaluations: 3073\n"
     ]
    },
    {
     "name": "stderr",
     "output_type": "stream",
     "text": [
      "\u001b[32m[I 2022-03-09 21:21:50,647]\u001b[0m Trial 39 finished with value: 0.8386483901257429 and parameters: {'p': 4, 'd': 0, 'q': 8, 'P': 3, 'D': 0, 'Q': 1}. Best is trial 14 with value: 0.8454217358331759.\u001b[0m\n"
     ]
    },
    {
     "name": "stdout",
     "output_type": "stream",
     "text": [
      "Optimization terminated successfully.\n",
      "         Current function value: -1.525449\n",
      "         Iterations: 8\n",
      "         Function evaluations: 1445\n"
     ]
    },
    {
     "name": "stderr",
     "output_type": "stream",
     "text": [
      "\u001b[32m[I 2022-03-09 21:21:58,351]\u001b[0m Trial 40 finished with value: 0.8391120366592563 and parameters: {'p': 7, 'd': 1, 'q': 6, 'P': 1, 'D': 1, 'Q': 0}. Best is trial 14 with value: 0.8454217358331759.\u001b[0m\n"
     ]
    },
    {
     "name": "stdout",
     "output_type": "stream",
     "text": [
      "Optimization terminated successfully.\n",
      "         Current function value: -1.499902\n",
      "         Iterations: 11\n",
      "         Function evaluations: 2566\n"
     ]
    },
    {
     "name": "stderr",
     "output_type": "stream",
     "text": [
      "\u001b[32m[I 2022-03-09 21:22:33,131]\u001b[0m Trial 41 finished with value: 0.8423858823469843 and parameters: {'p': 7, 'd': 0, 'q': 6, 'P': 2, 'D': 1, 'Q': 3}. Best is trial 14 with value: 0.8454217358331759.\u001b[0m\n"
     ]
    },
    {
     "name": "stdout",
     "output_type": "stream",
     "text": [
      "Optimization terminated successfully.\n",
      "         Current function value: -1.491465\n",
      "         Iterations: 25\n",
      "         Function evaluations: 5554\n"
     ]
    },
    {
     "name": "stderr",
     "output_type": "stream",
     "text": [
      "\u001b[32m[I 2022-03-09 21:23:39,913]\u001b[0m Trial 42 finished with value: 0.8429495891016968 and parameters: {'p': 8, 'd': 0, 'q': 5, 'P': 2, 'D': 1, 'Q': 3}. Best is trial 14 with value: 0.8454217358331759.\u001b[0m\n"
     ]
    },
    {
     "name": "stdout",
     "output_type": "stream",
     "text": [
      "Optimization terminated successfully.\n",
      "         Current function value: -1.491465\n",
      "         Iterations: 25\n",
      "         Function evaluations: 5554\n"
     ]
    },
    {
     "name": "stderr",
     "output_type": "stream",
     "text": [
      "\u001b[32m[I 2022-03-09 21:24:45,253]\u001b[0m Trial 43 finished with value: 0.8429495891016968 and parameters: {'p': 8, 'd': 0, 'q': 5, 'P': 2, 'D': 1, 'Q': 3}. Best is trial 14 with value: 0.8454217358331759.\u001b[0m\n"
     ]
    },
    {
     "name": "stdout",
     "output_type": "stream",
     "text": [
      "Optimization terminated successfully.\n",
      "         Current function value: -1.538967\n",
      "         Iterations: 16\n",
      "         Function evaluations: 3156\n"
     ]
    },
    {
     "name": "stderr",
     "output_type": "stream",
     "text": [
      "\u001b[32m[I 2022-03-09 21:25:10,843]\u001b[0m Trial 44 finished with value: 0.8349529645062979 and parameters: {'p': 8, 'd': 0, 'q': 3, 'P': 2, 'D': 1, 'Q': 2}. Best is trial 14 with value: 0.8454217358331759.\u001b[0m\n"
     ]
    },
    {
     "name": "stdout",
     "output_type": "stream",
     "text": [
      "Optimization terminated successfully.\n",
      "         Current function value: -1.506135\n",
      "         Iterations: 8\n",
      "         Function evaluations: 1657\n"
     ]
    },
    {
     "name": "stderr",
     "output_type": "stream",
     "text": [
      "\u001b[32m[I 2022-03-09 21:25:28,490]\u001b[0m Trial 45 finished with value: 0.8390661411402432 and parameters: {'p': 8, 'd': 0, 'q': 3, 'P': 2, 'D': 1, 'Q': 3}. Best is trial 14 with value: 0.8454217358331759.\u001b[0m\n"
     ]
    },
    {
     "name": "stdout",
     "output_type": "stream",
     "text": [
      "Optimization terminated successfully.\n",
      "         Current function value: -1.491465\n",
      "         Iterations: 25\n",
      "         Function evaluations: 5554\n"
     ]
    },
    {
     "name": "stderr",
     "output_type": "stream",
     "text": [
      "\u001b[32m[I 2022-03-09 21:26:33,700]\u001b[0m Trial 46 finished with value: 0.8429495891016968 and parameters: {'p': 8, 'd': 0, 'q': 5, 'P': 2, 'D': 1, 'Q': 3}. Best is trial 14 with value: 0.8454217358331759.\u001b[0m\n"
     ]
    },
    {
     "name": "stdout",
     "output_type": "stream",
     "text": [
      "Optimization terminated successfully.\n",
      "         Current function value: -1.597706\n",
      "         Iterations: 5\n",
      "         Function evaluations: 937\n"
     ]
    },
    {
     "name": "stderr",
     "output_type": "stream",
     "text": [
      "\u001b[32m[I 2022-03-09 21:26:39,185]\u001b[0m Trial 47 finished with value: 0.8358052905622658 and parameters: {'p': 8, 'd': 0, 'q': 5, 'P': 1, 'D': 0, 'Q': 2}. Best is trial 14 with value: 0.8454217358331759.\u001b[0m\n"
     ]
    },
    {
     "name": "stdout",
     "output_type": "stream",
     "text": [
      "Optimization terminated successfully.\n",
      "         Current function value: 0.770209\n",
      "         Iterations: 42\n",
      "         Function evaluations: 8707\n"
     ]
    },
    {
     "name": "stderr",
     "output_type": "stream",
     "text": [
      "\u001b[32m[I 2022-03-09 21:27:45,608]\u001b[0m Trial 48 finished with value: -1.2624194821483693e+74 and parameters: {'p': 8, 'd': 0, 'q': 4, 'P': 0, 'D': 1, 'Q': 2}. Best is trial 14 with value: 0.8454217358331759.\u001b[0m\n"
     ]
    },
    {
     "name": "stdout",
     "output_type": "stream",
     "text": [
      "Optimization terminated successfully.\n",
      "         Current function value: -1.491465\n",
      "         Iterations: 25\n",
      "         Function evaluations: 5554\n"
     ]
    },
    {
     "name": "stderr",
     "output_type": "stream",
     "text": [
      "\u001b[32m[I 2022-03-09 21:28:48,006]\u001b[0m Trial 49 finished with value: 0.8429495891016968 and parameters: {'p': 8, 'd': 0, 'q': 5, 'P': 2, 'D': 1, 'Q': 3}. Best is trial 14 with value: 0.8454217358331759.\u001b[0m\n",
      "\u001b[32m[I 2022-03-09 21:28:48,057]\u001b[0m A new study created in memory with name: no-name-dbb34219-e81c-4dc1-a3db-ab764bf5d0f8\u001b[0m\n"
     ]
    },
    {
     "name": "stdout",
     "output_type": "stream",
     "text": [
      "Optimization terminated successfully.\n",
      "         Current function value: -1.373544\n",
      "         Iterations: 10\n",
      "         Function evaluations: 1502\n"
     ]
    },
    {
     "name": "stderr",
     "output_type": "stream",
     "text": [
      "\u001b[32m[I 2022-03-09 21:28:59,565]\u001b[0m Trial 0 finished with value: 0.6367846588943921 and parameters: {'p': 3, 'd': 1, 'q': 3, 'P': 3, 'D': 0, 'Q': 3}. Best is trial 0 with value: 0.6367846588943921.\u001b[0m\n",
      "\u001b[32m[I 2022-03-09 21:28:59,685]\u001b[0m Trial 1 finished with value: 0.6549063334831188 and parameters: {'p': 0, 'd': 0, 'q': 0, 'P': 2, 'D': 0, 'Q': 0}. Best is trial 1 with value: 0.6549063334831188.\u001b[0m\n"
     ]
    },
    {
     "name": "stdout",
     "output_type": "stream",
     "text": [
      "Optimization terminated successfully.\n",
      "         Current function value: -1.340149\n",
      "         Iterations: 1\n",
      "         Function evaluations: 73\n"
     ]
    },
    {
     "name": "stderr",
     "output_type": "stream",
     "text": [
      "\u001b[32m[I 2022-03-09 21:29:16,142]\u001b[0m Trial 2 finished with value: 0.6607057982623048 and parameters: {'p': 5, 'd': 1, 'q': 7, 'P': 1, 'D': 1, 'Q': 0}. Best is trial 2 with value: 0.6607057982623048.\u001b[0m\n"
     ]
    },
    {
     "name": "stdout",
     "output_type": "stream",
     "text": [
      "Optimization terminated successfully.\n",
      "         Current function value: -1.360884\n",
      "         Iterations: 19\n",
      "         Function evaluations: 3295\n",
      "Optimization terminated successfully.\n",
      "         Current function value: -1.366459\n",
      "         Iterations: 7\n",
      "         Function evaluations: 1333\n"
     ]
    },
    {
     "name": "stderr",
     "output_type": "stream",
     "text": [
      "\u001b[32m[I 2022-03-09 21:29:26,540]\u001b[0m Trial 3 finished with value: 0.6319093264614084 and parameters: {'p': 6, 'd': 1, 'q': 4, 'P': 2, 'D': 0, 'Q': 3}. Best is trial 2 with value: 0.6607057982623048.\u001b[0m\n"
     ]
    },
    {
     "name": "stdout",
     "output_type": "stream",
     "text": [
      "Optimization terminated successfully.\n",
      "         Current function value: -1.331531\n",
      "         Iterations: 8\n",
      "         Function evaluations: 1426\n"
     ]
    },
    {
     "name": "stderr",
     "output_type": "stream",
     "text": [
      "\u001b[32m[I 2022-03-09 21:29:42,509]\u001b[0m Trial 4 finished with value: 0.6338627802850083 and parameters: {'p': 7, 'd': 1, 'q': 3, 'P': 1, 'D': 1, 'Q': 3}. Best is trial 2 with value: 0.6607057982623048.\u001b[0m\n"
     ]
    },
    {
     "name": "stdout",
     "output_type": "stream",
     "text": [
      "Optimization terminated successfully.\n",
      "         Current function value: -1.348642\n",
      "         Iterations: 25\n",
      "         Function evaluations: 4432\n"
     ]
    },
    {
     "name": "stderr",
     "output_type": "stream",
     "text": [
      "\u001b[32m[I 2022-03-09 21:30:26,007]\u001b[0m Trial 5 finished with value: 0.635343512860993 and parameters: {'p': 6, 'd': 0, 'q': 3, 'P': 1, 'D': 1, 'Q': 3}. Best is trial 2 with value: 0.6607057982623048.\u001b[0m\n"
     ]
    },
    {
     "name": "stdout",
     "output_type": "stream",
     "text": [
      "Optimization terminated successfully.\n",
      "         Current function value: -1.370277\n",
      "         Iterations: 4\n",
      "         Function evaluations: 537\n"
     ]
    },
    {
     "name": "stderr",
     "output_type": "stream",
     "text": [
      "\u001b[32m[I 2022-03-09 21:30:30,588]\u001b[0m Trial 6 finished with value: 0.6491889913341475 and parameters: {'p': 1, 'd': 0, 'q': 6, 'P': 0, 'D': 1, 'Q': 2}. Best is trial 2 with value: 0.6607057982623048.\u001b[0m\n"
     ]
    },
    {
     "name": "stdout",
     "output_type": "stream",
     "text": [
      "Optimization terminated successfully.\n",
      "         Current function value: -1.373721\n",
      "         Iterations: 10\n",
      "         Function evaluations: 1655\n"
     ]
    },
    {
     "name": "stderr",
     "output_type": "stream",
     "text": [
      "\u001b[32m[I 2022-03-09 21:30:43,194]\u001b[0m Trial 7 finished with value: 0.63706987224139 and parameters: {'p': 4, 'd': 1, 'q': 3, 'P': 3, 'D': 0, 'Q': 3}. Best is trial 2 with value: 0.6607057982623048.\u001b[0m\n"
     ]
    },
    {
     "name": "stdout",
     "output_type": "stream",
     "text": [
      "Optimization terminated successfully.\n",
      "         Current function value: -1.273634\n",
      "         Iterations: 6\n",
      "         Function evaluations: 818\n"
     ]
    },
    {
     "name": "stderr",
     "output_type": "stream",
     "text": [
      "\u001b[32m[I 2022-03-09 21:30:51,486]\u001b[0m Trial 8 finished with value: 0.6620438414599237 and parameters: {'p': 6, 'd': 1, 'q': 0, 'P': 3, 'D': 1, 'Q': 2}. Best is trial 8 with value: 0.6620438414599237.\u001b[0m\n"
     ]
    },
    {
     "name": "stdout",
     "output_type": "stream",
     "text": [
      "Optimization terminated successfully.\n",
      "         Current function value: -1.307137\n",
      "         Iterations: 7\n",
      "         Function evaluations: 1260\n"
     ]
    },
    {
     "name": "stderr",
     "output_type": "stream",
     "text": [
      "\u001b[32m[I 2022-03-09 21:31:08,824]\u001b[0m Trial 9 finished with value: 0.6200709527229828 and parameters: {'p': 3, 'd': 1, 'q': 7, 'P': 0, 'D': 1, 'Q': 3}. Best is trial 8 with value: 0.6620438414599237.\u001b[0m\n"
     ]
    },
    {
     "name": "stdout",
     "output_type": "stream",
     "text": [
      "Optimization terminated successfully.\n",
      "         Current function value: -1.329072\n",
      "         Iterations: 7\n",
      "         Function evaluations: 989\n"
     ]
    },
    {
     "name": "stderr",
     "output_type": "stream",
     "text": [
      "\u001b[32m[I 2022-03-09 21:31:16,144]\u001b[0m Trial 10 finished with value: 0.631748419833417 and parameters: {'p': 8, 'd': 0, 'q': 0, 'P': 3, 'D': 1, 'Q': 1}. Best is trial 8 with value: 0.6620438414599237.\u001b[0m\n",
      "\u001b[32m[I 2022-03-09 21:31:41,494]\u001b[0m Trial 11 finished with value: 0.6736420762981419 and parameters: {'p': 5, 'd': 1, 'q': 8, 'P': 1, 'D': 1, 'Q': 0}. Best is trial 11 with value: 0.6736420762981419.\u001b[0m\n"
     ]
    },
    {
     "name": "stdout",
     "output_type": "stream",
     "text": [
      "Optimization terminated successfully.\n",
      "         Current function value: -1.362810\n",
      "         Iterations: 27\n",
      "         Function evaluations: 5033\n",
      "Optimization terminated successfully.\n",
      "         Current function value: -1.362552\n",
      "         Iterations: 7\n",
      "         Function evaluations: 877\n"
     ]
    },
    {
     "name": "stderr",
     "output_type": "stream",
     "text": [
      "\u001b[32m[I 2022-03-09 21:31:47,423]\u001b[0m Trial 12 finished with value: 0.6164153664479178 and parameters: {'p': 5, 'd': 1, 'q': 1, 'P': 2, 'D': 1, 'Q': 1}. Best is trial 11 with value: 0.6736420762981419.\u001b[0m\n"
     ]
    },
    {
     "name": "stdout",
     "output_type": "stream",
     "text": [
      "Optimization terminated successfully.\n",
      "         Current function value: -1.395777\n",
      "         Iterations: 17\n",
      "         Function evaluations: 4005\n"
     ]
    },
    {
     "name": "stderr",
     "output_type": "stream",
     "text": [
      "\u001b[32m[I 2022-03-09 21:32:26,461]\u001b[0m Trial 13 finished with value: 0.6113102408552014 and parameters: {'p': 8, 'd': 1, 'q': 8, 'P': 1, 'D': 1, 'Q': 2}. Best is trial 11 with value: 0.6736420762981419.\u001b[0m\n"
     ]
    },
    {
     "name": "stdout",
     "output_type": "stream",
     "text": [
      "Optimization terminated successfully.\n",
      "         Current function value: -1.378758\n",
      "         Iterations: 10\n",
      "         Function evaluations: 1781\n"
     ]
    },
    {
     "name": "stderr",
     "output_type": "stream",
     "text": [
      "\u001b[32m[I 2022-03-09 21:32:38,664]\u001b[0m Trial 14 finished with value: 0.6325517314811757 and parameters: {'p': 3, 'd': 1, 'q': 5, 'P': 2, 'D': 1, 'Q': 1}. Best is trial 11 with value: 0.6736420762981419.\u001b[0m\n",
      "\u001b[32m[I 2022-03-09 21:32:46,807]\u001b[0m Trial 15 finished with value: 0.621504293498635 and parameters: {'p': 6, 'd': 1, 'q': 1, 'P': 0, 'D': 1, 'Q': 2}. Best is trial 11 with value: 0.6736420762981419.\u001b[0m\n"
     ]
    },
    {
     "name": "stdout",
     "output_type": "stream",
     "text": [
      "Optimization terminated successfully.\n",
      "         Current function value: -1.385261\n",
      "         Iterations: 9\n",
      "         Function evaluations: 1120\n",
      "Optimization terminated successfully.\n",
      "         Current function value: -1.305969\n",
      "         Iterations: 12\n",
      "         Function evaluations: 2043\n"
     ]
    },
    {
     "name": "stderr",
     "output_type": "stream",
     "text": [
      "\u001b[32m[I 2022-03-09 21:33:02,636]\u001b[0m Trial 16 finished with value: 0.6120709961885099 and parameters: {'p': 4, 'd': 1, 'q': 5, 'P': 3, 'D': 1, 'Q': 0}. Best is trial 11 with value: 0.6736420762981419.\u001b[0m\n"
     ]
    },
    {
     "name": "stdout",
     "output_type": "stream",
     "text": [
      "Optimization terminated successfully.\n",
      "         Current function value: -1.415803\n",
      "         Iterations: 23\n",
      "         Function evaluations: 5399\n"
     ]
    },
    {
     "name": "stderr",
     "output_type": "stream",
     "text": [
      "\u001b[32m[I 2022-03-09 21:33:36,089]\u001b[0m Trial 17 finished with value: 0.6458579445288923 and parameters: {'p': 7, 'd': 0, 'q': 8, 'P': 2, 'D': 0, 'Q': 1}. Best is trial 11 with value: 0.6736420762981419.\u001b[0m\n"
     ]
    },
    {
     "name": "stdout",
     "output_type": "stream",
     "text": [
      "Optimization terminated successfully.\n",
      "         Current function value: -1.379488\n",
      "         Iterations: 3\n",
      "         Function evaluations: 439\n"
     ]
    },
    {
     "name": "stderr",
     "output_type": "stream",
     "text": [
      "\u001b[32m[I 2022-03-09 21:33:39,295]\u001b[0m Trial 18 finished with value: 0.6232914527719643 and parameters: {'p': 5, 'd': 1, 'q': 2, 'P': 1, 'D': 1, 'Q': 2}. Best is trial 11 with value: 0.6736420762981419.\u001b[0m\n",
      "\u001b[32m[I 2022-03-09 21:33:41,046]\u001b[0m Trial 19 finished with value: 0.6986834945679239 and parameters: {'p': 2, 'd': 1, 'q': 5, 'P': 0, 'D': 1, 'Q': 0}. Best is trial 19 with value: 0.6986834945679239.\u001b[0m\n"
     ]
    },
    {
     "name": "stdout",
     "output_type": "stream",
     "text": [
      "Optimization terminated successfully.\n",
      "         Current function value: -1.200677\n",
      "         Iterations: 4\n",
      "         Function evaluations: 494\n"
     ]
    },
    {
     "name": "stderr",
     "output_type": "stream",
     "text": [
      "\u001b[32m[I 2022-03-09 21:33:41,631]\u001b[0m Trial 20 finished with value: -0.038879458117418775 and parameters: {'p': 2, 'd': 0, 'q': 6, 'P': 0, 'D': 0, 'Q': 0}. Best is trial 19 with value: 0.6986834945679239.\u001b[0m\n"
     ]
    },
    {
     "name": "stdout",
     "output_type": "stream",
     "text": [
      "Optimization terminated successfully.\n",
      "         Current function value: -1.307029\n",
      "         Iterations: 7\n",
      "         Function evaluations: 940\n"
     ]
    },
    {
     "name": "stderr",
     "output_type": "stream",
     "text": [
      "\u001b[32m[I 2022-03-09 21:33:42,943]\u001b[0m Trial 21 finished with value: 0.7035295686954248 and parameters: {'p': 1, 'd': 1, 'q': 5, 'P': 0, 'D': 1, 'Q': 0}. Best is trial 21 with value: 0.7035295686954248.\u001b[0m\n"
     ]
    },
    {
     "name": "stdout",
     "output_type": "stream",
     "text": [
      "Optimization terminated successfully.\n",
      "         Current function value: -1.200597\n",
      "         Iterations: 3\n",
      "         Function evaluations: 337\n"
     ]
    },
    {
     "name": "stderr",
     "output_type": "stream",
     "text": [
      "\u001b[32m[I 2022-03-09 21:33:45,768]\u001b[0m Trial 22 finished with value: 0.6929829474489642 and parameters: {'p': 0, 'd': 1, 'q': 5, 'P': 0, 'D': 1, 'Q': 0}. Best is trial 21 with value: 0.7035295686954248.\u001b[0m\n"
     ]
    },
    {
     "name": "stdout",
     "output_type": "stream",
     "text": [
      "Optimization terminated successfully.\n",
      "         Current function value: -1.200266\n",
      "         Iterations: 8\n",
      "         Function evaluations: 712\n"
     ]
    },
    {
     "name": "stderr",
     "output_type": "stream",
     "text": [
      "\u001b[32m[I 2022-03-09 21:33:48,335]\u001b[0m Trial 23 finished with value: 0.6929829474489642 and parameters: {'p': 0, 'd': 1, 'q': 5, 'P': 0, 'D': 1, 'Q': 0}. Best is trial 21 with value: 0.7035295686954248.\u001b[0m\n"
     ]
    },
    {
     "name": "stdout",
     "output_type": "stream",
     "text": [
      "Optimization terminated successfully.\n",
      "         Current function value: -1.200266\n",
      "         Iterations: 8\n",
      "         Function evaluations: 712\n"
     ]
    },
    {
     "name": "stderr",
     "output_type": "stream",
     "text": [
      "\u001b[32m[I 2022-03-09 21:33:50,022]\u001b[0m Trial 24 finished with value: 0.6971181083066302 and parameters: {'p': 1, 'd': 1, 'q': 4, 'P': 0, 'D': 1, 'Q': 0}. Best is trial 21 with value: 0.7035295686954248.\u001b[0m\n"
     ]
    },
    {
     "name": "stdout",
     "output_type": "stream",
     "text": [
      "Optimization terminated successfully.\n",
      "         Current function value: -1.206177\n",
      "         Iterations: 6\n",
      "         Function evaluations: 555\n"
     ]
    },
    {
     "name": "stderr",
     "output_type": "stream",
     "text": [
      "\u001b[32m[I 2022-03-09 21:33:55,133]\u001b[0m Trial 25 finished with value: 0.6272245798547257 and parameters: {'p': 1, 'd': 1, 'q': 4, 'P': 0, 'D': 1, 'Q': 1}. Best is trial 21 with value: 0.7035295686954248.\u001b[0m\n"
     ]
    },
    {
     "name": "stdout",
     "output_type": "stream",
     "text": [
      "Optimization terminated successfully.\n",
      "         Current function value: -1.408033\n",
      "         Iterations: 8\n",
      "         Function evaluations: 835\n"
     ]
    },
    {
     "name": "stderr",
     "output_type": "stream",
     "text": [
      "\u001b[32m[I 2022-03-09 21:33:56,882]\u001b[0m Trial 26 finished with value: 0.6971181083066302 and parameters: {'p': 1, 'd': 1, 'q': 4, 'P': 0, 'D': 1, 'Q': 0}. Best is trial 21 with value: 0.7035295686954248.\u001b[0m\n"
     ]
    },
    {
     "name": "stdout",
     "output_type": "stream",
     "text": [
      "Optimization terminated successfully.\n",
      "         Current function value: -1.206177\n",
      "         Iterations: 6\n",
      "         Function evaluations: 555\n"
     ]
    },
    {
     "name": "stderr",
     "output_type": "stream",
     "text": [
      "\u001b[32m[I 2022-03-09 21:34:02,835]\u001b[0m Trial 27 finished with value: 0.6288527933299044 and parameters: {'p': 2, 'd': 1, 'q': 6, 'P': 0, 'D': 1, 'Q': 1}. Best is trial 21 with value: 0.7035295686954248.\u001b[0m\n"
     ]
    },
    {
     "name": "stdout",
     "output_type": "stream",
     "text": [
      "Optimization terminated successfully.\n",
      "         Current function value: -1.408875\n",
      "         Iterations: 7\n",
      "         Function evaluations: 967\n"
     ]
    },
    {
     "name": "stderr",
     "output_type": "stream",
     "text": [
      "\u001b[32m[I 2022-03-09 21:34:09,959]\u001b[0m Trial 28 finished with value: 0.6589469509862588 and parameters: {'p': 2, 'd': 1, 'q': 6, 'P': 0, 'D': 1, 'Q': 0}. Best is trial 21 with value: 0.7035295686954248.\u001b[0m\n"
     ]
    },
    {
     "name": "stdout",
     "output_type": "stream",
     "text": [
      "Optimization terminated successfully.\n",
      "         Current function value: -1.238298\n",
      "         Iterations: 16\n",
      "         Function evaluations: 1925\n"
     ]
    },
    {
     "name": "stderr",
     "output_type": "stream",
     "text": [
      "\u001b[32m[I 2022-03-09 21:34:10,851]\u001b[0m Trial 29 finished with value: 0.2817847101436086 and parameters: {'p': 1, 'd': 1, 'q': 4, 'P': 1, 'D': 0, 'Q': 0}. Best is trial 21 with value: 0.7035295686954248.\u001b[0m\n"
     ]
    },
    {
     "name": "stdout",
     "output_type": "stream",
     "text": [
      "Optimization terminated successfully.\n",
      "         Current function value: -1.346377\n",
      "         Iterations: 7\n",
      "         Function evaluations: 661\n",
      "Optimization terminated successfully.\n",
      "         Current function value: -1.403114\n",
      "         Iterations: 6\n",
      "         Function evaluations: 897\n"
     ]
    },
    {
     "name": "stderr",
     "output_type": "stream",
     "text": [
      "\u001b[32m[I 2022-03-09 21:34:16,781]\u001b[0m Trial 30 finished with value: 0.6292429128929489 and parameters: {'p': 2, 'd': 1, 'q': 7, 'P': 0, 'D': 1, 'Q': 1}. Best is trial 21 with value: 0.7035295686954248.\u001b[0m\n",
      "\u001b[32m[I 2022-03-09 21:34:18,773]\u001b[0m Trial 31 finished with value: 0.6971181083066302 and parameters: {'p': 1, 'd': 1, 'q': 4, 'P': 0, 'D': 1, 'Q': 0}. Best is trial 21 with value: 0.7035295686954248.\u001b[0m\n"
     ]
    },
    {
     "name": "stdout",
     "output_type": "stream",
     "text": [
      "Optimization terminated successfully.\n",
      "         Current function value: -1.206177\n",
      "         Iterations: 6\n",
      "         Function evaluations: 555\n"
     ]
    },
    {
     "name": "stderr",
     "output_type": "stream",
     "text": [
      "\u001b[32m[I 2022-03-09 21:34:20,113]\u001b[0m Trial 32 finished with value: 0.6933866586659772 and parameters: {'p': 0, 'd': 1, 'q': 4, 'P': 0, 'D': 1, 'Q': 0}. Best is trial 21 with value: 0.7035295686954248.\u001b[0m\n"
     ]
    },
    {
     "name": "stdout",
     "output_type": "stream",
     "text": [
      "Optimization terminated successfully.\n",
      "         Current function value: -1.206369\n",
      "         Iterations: 5\n",
      "         Function evaluations: 401\n"
     ]
    },
    {
     "name": "stderr",
     "output_type": "stream",
     "text": [
      "\u001b[32m[I 2022-03-09 21:34:20,420]\u001b[0m Trial 33 finished with value: 0.6973809521481837 and parameters: {'p': 1, 'd': 1, 'q': 2, 'P': 0, 'D': 1, 'Q': 0}. Best is trial 21 with value: 0.7035295686954248.\u001b[0m\n"
     ]
    },
    {
     "name": "stdout",
     "output_type": "stream",
     "text": [
      "Optimization terminated successfully.\n",
      "         Current function value: -1.212339\n",
      "         Iterations: 3\n",
      "         Function evaluations: 189\n"
     ]
    },
    {
     "name": "stderr",
     "output_type": "stream",
     "text": [
      "\u001b[32m[I 2022-03-09 21:34:21,577]\u001b[0m Trial 34 finished with value: 0.6929046956969437 and parameters: {'p': 2, 'd': 1, 'q': 3, 'P': 0, 'D': 1, 'Q': 0}. Best is trial 21 with value: 0.7035295686954248.\u001b[0m\n"
     ]
    },
    {
     "name": "stdout",
     "output_type": "stream",
     "text": [
      "Optimization terminated successfully.\n",
      "         Current function value: -1.209399\n",
      "         Iterations: 5\n",
      "         Function evaluations: 415\n"
     ]
    },
    {
     "name": "stderr",
     "output_type": "stream",
     "text": [
      "\u001b[32m[I 2022-03-09 21:34:22,937]\u001b[0m Trial 35 finished with value: 0.663675498954903 and parameters: {'p': 0, 'd': 1, 'q': 2, 'P': 1, 'D': 1, 'Q': 0}. Best is trial 21 with value: 0.7035295686954248.\u001b[0m\n"
     ]
    },
    {
     "name": "stdout",
     "output_type": "stream",
     "text": [
      "Optimization terminated successfully.\n",
      "         Current function value: -1.326558\n",
      "         Iterations: 5\n",
      "         Function evaluations: 300\n"
     ]
    },
    {
     "name": "stderr",
     "output_type": "stream",
     "text": [
      "\u001b[32m[I 2022-03-09 21:34:23,507]\u001b[0m Trial 36 finished with value: 0.2934240304054916 and parameters: {'p': 3, 'd': 1, 'q': 2, 'P': 1, 'D': 0, 'Q': 0}. Best is trial 21 with value: 0.7035295686954248.\u001b[0m\n"
     ]
    },
    {
     "name": "stdout",
     "output_type": "stream",
     "text": [
      "Optimization terminated successfully.\n",
      "         Current function value: -1.336420\n",
      "         Iterations: 4\n",
      "         Function evaluations: 380\n"
     ]
    },
    {
     "name": "stderr",
     "output_type": "stream",
     "text": [
      "\u001b[32m[I 2022-03-09 21:34:23,892]\u001b[0m Trial 37 finished with value: 0.6988887442948496 and parameters: {'p': 1, 'd': 0, 'q': 5, 'P': 0, 'D': 1, 'Q': 0}. Best is trial 21 with value: 0.7035295686954248.\u001b[0m\n"
     ]
    },
    {
     "name": "stdout",
     "output_type": "stream",
     "text": [
      "Optimization terminated successfully.\n",
      "         Current function value: -1.215858\n",
      "         Iterations: 3\n",
      "         Function evaluations: 269\n"
     ]
    },
    {
     "name": "stderr",
     "output_type": "stream",
     "text": [
      "\u001b[32m[I 2022-03-09 21:34:32,027]\u001b[0m Trial 38 finished with value: 0.6617981150035462 and parameters: {'p': 3, 'd': 0, 'q': 5, 'P': 1, 'D': 1, 'Q': 1}. Best is trial 21 with value: 0.7035295686954248.\u001b[0m\n"
     ]
    },
    {
     "name": "stdout",
     "output_type": "stream",
     "text": [
      "Optimization terminated successfully.\n",
      "         Current function value: -1.418444\n",
      "         Iterations: 10\n",
      "         Function evaluations: 1535\n"
     ]
    },
    {
     "name": "stderr",
     "output_type": "stream",
     "text": [
      "\u001b[32m[I 2022-03-09 21:34:32,994]\u001b[0m Trial 39 finished with value: 0.6810055528966643 and parameters: {'p': 2, 'd': 0, 'q': 6, 'P': 0, 'D': 1, 'Q': 0}. Best is trial 21 with value: 0.7035295686954248.\u001b[0m\n",
      "\u001b[32m[I 2022-03-09 21:34:33,084]\u001b[0m Trial 40 finished with value: 0.6965026742556472 and parameters: {'p': 1, 'd': 0, 'q': 3, 'P': 0, 'D': 1, 'Q': 0}. Best is trial 21 with value: 0.7035295686954248.\u001b[0m\n"
     ]
    },
    {
     "name": "stdout",
     "output_type": "stream",
     "text": [
      "Optimization terminated successfully.\n",
      "         Current function value: -1.221580\n",
      "         Iterations: 5\n",
      "         Function evaluations: 542\n",
      "Optimization terminated successfully.\n",
      "         Current function value: -1.222616\n",
      "         Iterations: 1\n",
      "         Function evaluations: 68\n"
     ]
    },
    {
     "name": "stderr",
     "output_type": "stream",
     "text": [
      "\u001b[32m[I 2022-03-09 21:34:33,482]\u001b[0m Trial 41 finished with value: 0.6988887442948496 and parameters: {'p': 1, 'd': 0, 'q': 5, 'P': 0, 'D': 1, 'Q': 0}. Best is trial 21 with value: 0.7035295686954248.\u001b[0m\n"
     ]
    },
    {
     "name": "stdout",
     "output_type": "stream",
     "text": [
      "Optimization terminated successfully.\n",
      "         Current function value: -1.215858\n",
      "         Iterations: 3\n",
      "         Function evaluations: 269\n"
     ]
    },
    {
     "name": "stderr",
     "output_type": "stream",
     "text": [
      "\u001b[32m[I 2022-03-09 21:34:33,707]\u001b[0m Trial 42 finished with value: 0.6985554733890463 and parameters: {'p': 0, 'd': 0, 'q': 5, 'P': 0, 'D': 1, 'Q': 0}. Best is trial 21 with value: 0.7035295686954248.\u001b[0m\n"
     ]
    },
    {
     "name": "stdout",
     "output_type": "stream",
     "text": [
      "Optimization terminated successfully.\n",
      "         Current function value: -1.215585\n",
      "         Iterations: 2\n",
      "         Function evaluations: 153\n"
     ]
    },
    {
     "name": "stderr",
     "output_type": "stream",
     "text": [
      "\u001b[32m[I 2022-03-09 21:34:33,940]\u001b[0m Trial 43 finished with value: 0.6985554733890463 and parameters: {'p': 0, 'd': 0, 'q': 5, 'P': 0, 'D': 1, 'Q': 0}. Best is trial 21 with value: 0.7035295686954248.\u001b[0m\n"
     ]
    },
    {
     "name": "stdout",
     "output_type": "stream",
     "text": [
      "Optimization terminated successfully.\n",
      "         Current function value: -1.215585\n",
      "         Iterations: 2\n",
      "         Function evaluations: 153\n"
     ]
    },
    {
     "name": "stderr",
     "output_type": "stream",
     "text": [
      "\u001b[32m[I 2022-03-09 21:34:35,098]\u001b[0m Trial 44 finished with value: 0.7076661197929395 and parameters: {'p': 0, 'd': 0, 'q': 6, 'P': 0, 'D': 1, 'Q': 0}. Best is trial 44 with value: 0.7076661197929395.\u001b[0m\n"
     ]
    },
    {
     "name": "stdout",
     "output_type": "stream",
     "text": [
      "Optimization terminated successfully.\n",
      "         Current function value: -1.225306\n",
      "         Iterations: 5\n",
      "         Function evaluations: 466\n"
     ]
    },
    {
     "name": "stderr",
     "output_type": "stream",
     "text": [
      "\u001b[32m[I 2022-03-09 21:34:37,610]\u001b[0m Trial 45 finished with value: 0.6478483399456128 and parameters: {'p': 0, 'd': 0, 'q': 7, 'P': 1, 'D': 1, 'Q': 1}. Best is trial 44 with value: 0.7076661197929395.\u001b[0m\n"
     ]
    },
    {
     "name": "stdout",
     "output_type": "stream",
     "text": [
      "Optimization terminated successfully.\n",
      "         Current function value: -1.417659\n",
      "         Iterations: 4\n",
      "         Function evaluations: 499\n"
     ]
    },
    {
     "name": "stderr",
     "output_type": "stream",
     "text": [
      "\u001b[32m[I 2022-03-09 21:34:38,692]\u001b[0m Trial 46 finished with value: 0.6815168557875293 and parameters: {'p': 1, 'd': 0, 'q': 6, 'P': 0, 'D': 1, 'Q': 0}. Best is trial 44 with value: 0.7076661197929395.\u001b[0m\n"
     ]
    },
    {
     "name": "stdout",
     "output_type": "stream",
     "text": [
      "Optimization terminated successfully.\n",
      "         Current function value: -1.221680\n",
      "         Iterations: 6\n",
      "         Function evaluations: 600\n"
     ]
    },
    {
     "name": "stderr",
     "output_type": "stream",
     "text": [
      "\u001b[32m[I 2022-03-09 21:34:39,687]\u001b[0m Trial 47 finished with value: 0.6810055528966643 and parameters: {'p': 2, 'd': 0, 'q': 6, 'P': 0, 'D': 1, 'Q': 0}. Best is trial 44 with value: 0.7076661197929395.\u001b[0m\n"
     ]
    },
    {
     "name": "stdout",
     "output_type": "stream",
     "text": [
      "Optimization terminated successfully.\n",
      "         Current function value: -1.221580\n",
      "         Iterations: 5\n",
      "         Function evaluations: 542\n"
     ]
    },
    {
     "name": "stderr",
     "output_type": "stream",
     "text": [
      "\u001b[32m[I 2022-03-09 21:34:41,947]\u001b[0m Trial 48 finished with value: 0.6523402560068567 and parameters: {'p': 1, 'd': 0, 'q': 5, 'P': 1, 'D': 1, 'Q': 1}. Best is trial 44 with value: 0.7076661197929395.\u001b[0m\n"
     ]
    },
    {
     "name": "stdout",
     "output_type": "stream",
     "text": [
      "Optimization terminated successfully.\n",
      "         Current function value: -1.416032\n",
      "         Iterations: 4\n",
      "         Function evaluations: 458\n"
     ]
    },
    {
     "name": "stderr",
     "output_type": "stream",
     "text": [
      "\u001b[32m[I 2022-03-09 21:34:53,420]\u001b[0m Trial 49 finished with value: 0.6640943152018002 and parameters: {'p': 4, 'd': 0, 'q': 7, 'P': 0, 'D': 1, 'Q': 0}. Best is trial 44 with value: 0.7076661197929395.\u001b[0m\n",
      "\u001b[32m[I 2022-03-09 21:34:53,455]\u001b[0m A new study created in memory with name: no-name-1aaa28d0-c72a-4e3d-9a7d-5a3429a5a516\u001b[0m\n"
     ]
    },
    {
     "name": "stdout",
     "output_type": "stream",
     "text": [
      "Optimization terminated successfully.\n",
      "         Current function value: -1.261836\n",
      "         Iterations: 22\n",
      "         Function evaluations: 3518\n"
     ]
    },
    {
     "name": "stderr",
     "output_type": "stream",
     "text": [
      "\u001b[32m[I 2022-03-09 21:34:54,262]\u001b[0m Trial 0 finished with value: 0.07753403374886003 and parameters: {'p': 4, 'd': 1, 'q': 4, 'P': 0, 'D': 0, 'Q': 0}. Best is trial 0 with value: 0.07753403374886003.\u001b[0m\n"
     ]
    },
    {
     "name": "stdout",
     "output_type": "stream",
     "text": [
      "Optimization terminated successfully.\n",
      "         Current function value: -1.339320\n",
      "         Iterations: 12\n",
      "         Function evaluations: 1406\n"
     ]
    },
    {
     "name": "stderr",
     "output_type": "stream",
     "text": [
      "\u001b[32m[I 2022-03-09 21:34:55,943]\u001b[0m Trial 1 finished with value: 0.6253894059930443 and parameters: {'p': 1, 'd': 0, 'q': 3, 'P': 2, 'D': 0, 'Q': 2}. Best is trial 1 with value: 0.6253894059930443.\u001b[0m\n"
     ]
    },
    {
     "name": "stdout",
     "output_type": "stream",
     "text": [
      "Optimization terminated successfully.\n",
      "         Current function value: -1.428541\n",
      "         Iterations: 3\n",
      "         Function evaluations: 325\n"
     ]
    },
    {
     "name": "stderr",
     "output_type": "stream",
     "text": [
      "\u001b[32m[I 2022-03-09 21:34:56,954]\u001b[0m Trial 2 finished with value: 0.607174142041907 and parameters: {'p': 1, 'd': 0, 'q': 1, 'P': 2, 'D': 0, 'Q': 1}. Best is trial 1 with value: 0.6253894059930443.\u001b[0m\n"
     ]
    },
    {
     "name": "stdout",
     "output_type": "stream",
     "text": [
      "Optimization terminated successfully.\n",
      "         Current function value: -1.436593\n",
      "         Iterations: 3\n",
      "         Function evaluations: 231\n"
     ]
    },
    {
     "name": "stderr",
     "output_type": "stream",
     "text": [
      "\u001b[32m[I 2022-03-09 21:35:01,432]\u001b[0m Trial 3 finished with value: 0.6664463296576244 and parameters: {'p': 4, 'd': 0, 'q': 2, 'P': 0, 'D': 1, 'Q': 1}. Best is trial 3 with value: 0.6664463296576244.\u001b[0m\n"
     ]
    },
    {
     "name": "stdout",
     "output_type": "stream",
     "text": [
      "Optimization terminated successfully.\n",
      "         Current function value: -1.425382\n",
      "         Iterations: 9\n",
      "         Function evaluations: 916\n",
      "Optimization terminated successfully.\n",
      "         Current function value: -1.367067\n",
      "         Iterations: 6\n",
      "         Function evaluations: 1120\n"
     ]
    },
    {
     "name": "stderr",
     "output_type": "stream",
     "text": [
      "\u001b[32m[I 2022-03-09 21:35:12,330]\u001b[0m Trial 4 finished with value: 0.6235632844626615 and parameters: {'p': 1, 'd': 1, 'q': 8, 'P': 1, 'D': 1, 'Q': 2}. Best is trial 3 with value: 0.6664463296576244.\u001b[0m\n"
     ]
    },
    {
     "name": "stdout",
     "output_type": "stream",
     "text": [
      "Optimization terminated successfully.\n",
      "         Current function value: -1.383114\n",
      "         Iterations: 16\n",
      "         Function evaluations: 3377\n"
     ]
    },
    {
     "name": "stderr",
     "output_type": "stream",
     "text": [
      "\u001b[32m[I 2022-03-09 21:35:41,056]\u001b[0m Trial 5 finished with value: 0.6515870984571214 and parameters: {'p': 3, 'd': 0, 'q': 7, 'P': 2, 'D': 1, 'Q': 2}. Best is trial 3 with value: 0.6664463296576244.\u001b[0m\n",
      "\u001b[32m[I 2022-03-09 21:35:44,939]\u001b[0m Trial 6 finished with value: 0.6158409081550613 and parameters: {'p': 5, 'd': 1, 'q': 2, 'P': 1, 'D': 1, 'Q': 1}. Best is trial 3 with value: 0.6664463296576244.\u001b[0m\n"
     ]
    },
    {
     "name": "stdout",
     "output_type": "stream",
     "text": [
      "Optimization terminated successfully.\n",
      "         Current function value: -1.406966\n",
      "         Iterations: 5\n",
      "         Function evaluations: 685\n"
     ]
    },
    {
     "name": "stderr",
     "output_type": "stream",
     "text": [
      "\u001b[32m[I 2022-03-09 21:35:57,780]\u001b[0m Trial 7 finished with value: 0.16618230800457012 and parameters: {'p': 1, 'd': 0, 'q': 8, 'P': 0, 'D': 0, 'Q': 2}. Best is trial 3 with value: 0.6664463296576244.\u001b[0m\n"
     ]
    },
    {
     "name": "stdout",
     "output_type": "stream",
     "text": [
      "Optimization terminated successfully.\n",
      "         Current function value: -1.289987\n",
      "         Iterations: 13\n",
      "         Function evaluations: 2197\n",
      "Optimization terminated successfully.\n",
      "         Current function value: -1.339312\n",
      "         Iterations: 15\n",
      "         Function evaluations: 3099\n"
     ]
    },
    {
     "name": "stderr",
     "output_type": "stream",
     "text": [
      "\u001b[32m[I 2022-03-09 21:36:33,812]\u001b[0m Trial 8 finished with value: 0.5929960182714682 and parameters: {'p': 4, 'd': 1, 'q': 8, 'P': 3, 'D': 1, 'Q': 1}. Best is trial 3 with value: 0.6664463296576244.\u001b[0m\n",
      "\u001b[32m[I 2022-03-09 21:36:35,875]\u001b[0m Trial 9 finished with value: 0.6850099151193452 and parameters: {'p': 2, 'd': 0, 'q': 5, 'P': 0, 'D': 1, 'Q': 0}. Best is trial 9 with value: 0.6850099151193452.\u001b[0m\n"
     ]
    },
    {
     "name": "stdout",
     "output_type": "stream",
     "text": [
      "Optimization terminated successfully.\n",
      "         Current function value: -1.244475\n",
      "         Iterations: 9\n",
      "         Function evaluations: 1024\n"
     ]
    },
    {
     "name": "stderr",
     "output_type": "stream",
     "text": [
      "\u001b[32m[I 2022-03-09 21:36:36,914]\u001b[0m Trial 10 finished with value: 0.6622959595509231 and parameters: {'p': 7, 'd': 0, 'q': 6, 'P': 1, 'D': 1, 'Q': 0}. Best is trial 9 with value: 0.6850099151193452.\u001b[0m\n"
     ]
    },
    {
     "name": "stdout",
     "output_type": "stream",
     "text": [
      "Optimization terminated successfully.\n",
      "         Current function value: -1.323831\n",
      "         Iterations: 2\n",
      "         Function evaluations: 370\n"
     ]
    },
    {
     "name": "stderr",
     "output_type": "stream",
     "text": [
      "\u001b[32m[I 2022-03-09 21:36:37,263]\u001b[0m Trial 11 finished with value: 0.6973053998218914 and parameters: {'p': 6, 'd': 0, 'q': 0, 'P': 0, 'D': 1, 'Q': 0}. Best is trial 11 with value: 0.6973053998218914.\u001b[0m\n"
     ]
    },
    {
     "name": "stdout",
     "output_type": "stream",
     "text": [
      "Optimization terminated successfully.\n",
      "         Current function value: -1.215783\n",
      "         Iterations: 1\n",
      "         Function evaluations: 278\n"
     ]
    },
    {
     "name": "stderr",
     "output_type": "stream",
     "text": [
      "\u001b[32m[I 2022-03-09 21:36:37,731]\u001b[0m Trial 12 finished with value: 0.6911477848247956 and parameters: {'p': 8, 'd': 0, 'q': 0, 'P': 0, 'D': 1, 'Q': 0}. Best is trial 11 with value: 0.6973053998218914.\u001b[0m\n"
     ]
    },
    {
     "name": "stdout",
     "output_type": "stream",
     "text": [
      "Optimization terminated successfully.\n",
      "         Current function value: -1.208013\n",
      "         Iterations: 1\n",
      "         Function evaluations: 327\n",
      "Optimization terminated successfully.\n",
      "         Current function value: -1.349559\n",
      "         Iterations: 4\n",
      "         Function evaluations: 559\n"
     ]
    },
    {
     "name": "stderr",
     "output_type": "stream",
     "text": [
      "\u001b[32m[I 2022-03-09 21:36:43,075]\u001b[0m Trial 13 finished with value: 0.6515208725859125 and parameters: {'p': 8, 'd': 0, 'q': 0, 'P': 0, 'D': 1, 'Q': 3}. Best is trial 11 with value: 0.6973053998218914.\u001b[0m\n",
      "\u001b[32m[I 2022-03-09 21:36:43,508]\u001b[0m Trial 14 finished with value: 0.6630685330249959 and parameters: {'p': 6, 'd': 0, 'q': 0, 'P': 1, 'D': 1, 'Q': 0}. Best is trial 11 with value: 0.6973053998218914.\u001b[0m\n"
     ]
    },
    {
     "name": "stdout",
     "output_type": "stream",
     "text": [
      "Optimization terminated successfully.\n",
      "         Current function value: -1.319225\n",
      "         Iterations: 2\n",
      "         Function evaluations: 187\n",
      "Optimization terminated successfully.\n",
      "         Current function value: -1.306669\n",
      "         Iterations: 3\n",
      "         Function evaluations: 460\n"
     ]
    },
    {
     "name": "stderr",
     "output_type": "stream",
     "text": [
      "\u001b[32m[I 2022-03-09 21:36:46,076]\u001b[0m Trial 15 finished with value: 0.6337679350981754 and parameters: {'p': 8, 'd': 0, 'q': 1, 'P': 3, 'D': 1, 'Q': 0}. Best is trial 11 with value: 0.6973053998218914.\u001b[0m\n"
     ]
    },
    {
     "name": "stdout",
     "output_type": "stream",
     "text": [
      "Optimization terminated successfully.\n",
      "         Current function value: -1.343148\n",
      "         Iterations: 4\n",
      "         Function evaluations: 503\n"
     ]
    },
    {
     "name": "stderr",
     "output_type": "stream",
     "text": [
      "\u001b[32m[I 2022-03-09 21:36:50,982]\u001b[0m Trial 16 finished with value: 0.6505394399902449 and parameters: {'p': 6, 'd': 0, 'q': 0, 'P': 0, 'D': 1, 'Q': 3}. Best is trial 11 with value: 0.6973053998218914.\u001b[0m\n",
      "\u001b[32m[I 2022-03-09 21:36:52,463]\u001b[0m Trial 17 finished with value: 0.27166387869286945 and parameters: {'p': 7, 'd': 1, 'q': 2, 'P': 1, 'D': 0, 'Q': 0}. Best is trial 11 with value: 0.6973053998218914.\u001b[0m\n"
     ]
    },
    {
     "name": "stdout",
     "output_type": "stream",
     "text": [
      "Optimization terminated successfully.\n",
      "         Current function value: -1.338849\n",
      "         Iterations: 5\n",
      "         Function evaluations: 591\n"
     ]
    },
    {
     "name": "stderr",
     "output_type": "stream",
     "text": [
      "\u001b[32m[I 2022-03-09 21:37:02,494]\u001b[0m Trial 18 finished with value: 0.6659019433403499 and parameters: {'p': 6, 'd': 0, 'q': 4, 'P': 0, 'D': 1, 'Q': 1}. Best is trial 11 with value: 0.6973053998218914.\u001b[0m\n"
     ]
    },
    {
     "name": "stdout",
     "output_type": "stream",
     "text": [
      "Optimization terminated successfully.\n",
      "         Current function value: -1.419263\n",
      "         Iterations: 13\n",
      "         Function evaluations: 1907\n"
     ]
    },
    {
     "name": "stderr",
     "output_type": "stream",
     "text": [
      "\u001b[32m[I 2022-03-09 21:37:03,075]\u001b[0m Trial 19 finished with value: 0.6631117165632905 and parameters: {'p': 7, 'd': 0, 'q': 1, 'P': 1, 'D': 1, 'Q': 0}. Best is trial 11 with value: 0.6973053998218914.\u001b[0m\n"
     ]
    },
    {
     "name": "stdout",
     "output_type": "stream",
     "text": [
      "Optimization terminated successfully.\n",
      "         Current function value: -1.324755\n",
      "         Iterations: 2\n",
      "         Function evaluations: 250\n"
     ]
    },
    {
     "name": "stderr",
     "output_type": "stream",
     "text": [
      "\u001b[32m[I 2022-03-09 21:37:05,850]\u001b[0m Trial 20 finished with value: 0.20095624685137436 and parameters: {'p': 8, 'd': 1, 'q': 3, 'P': 0, 'D': 0, 'Q': 1}. Best is trial 11 with value: 0.6973053998218914.\u001b[0m\n"
     ]
    },
    {
     "name": "stdout",
     "output_type": "stream",
     "text": [
      "Optimization terminated successfully.\n",
      "         Current function value: -1.325733\n",
      "         Iterations: 7\n",
      "         Function evaluations: 1060\n"
     ]
    },
    {
     "name": "stderr",
     "output_type": "stream",
     "text": [
      "\u001b[32m[I 2022-03-09 21:37:06,844]\u001b[0m Trial 21 finished with value: 0.6810055528966643 and parameters: {'p': 2, 'd': 0, 'q': 6, 'P': 0, 'D': 1, 'Q': 0}. Best is trial 11 with value: 0.6973053998218914.\u001b[0m\n"
     ]
    },
    {
     "name": "stdout",
     "output_type": "stream",
     "text": [
      "Optimization terminated successfully.\n",
      "         Current function value: -1.221580\n",
      "         Iterations: 5\n",
      "         Function evaluations: 542\n"
     ]
    },
    {
     "name": "stderr",
     "output_type": "stream",
     "text": [
      "\u001b[32m[I 2022-03-09 21:37:07,086]\u001b[0m Trial 22 finished with value: 0.6985554733890463 and parameters: {'p': 0, 'd': 0, 'q': 5, 'P': 0, 'D': 1, 'Q': 0}. Best is trial 22 with value: 0.6985554733890463.\u001b[0m\n"
     ]
    },
    {
     "name": "stdout",
     "output_type": "stream",
     "text": [
      "Optimization terminated successfully.\n",
      "         Current function value: -1.215585\n",
      "         Iterations: 2\n",
      "         Function evaluations: 153\n"
     ]
    },
    {
     "name": "stderr",
     "output_type": "stream",
     "text": [
      "\u001b[32m[I 2022-03-09 21:37:07,331]\u001b[0m Trial 23 finished with value: 0.6985554733890463 and parameters: {'p': 0, 'd': 0, 'q': 5, 'P': 0, 'D': 1, 'Q': 0}. Best is trial 22 with value: 0.6985554733890463.\u001b[0m\n"
     ]
    },
    {
     "name": "stdout",
     "output_type": "stream",
     "text": [
      "Optimization terminated successfully.\n",
      "         Current function value: -1.215585\n",
      "         Iterations: 2\n",
      "         Function evaluations: 153\n"
     ]
    },
    {
     "name": "stderr",
     "output_type": "stream",
     "text": [
      "\u001b[32m[I 2022-03-09 21:37:07,670]\u001b[0m Trial 24 finished with value: 0.6639472761820964 and parameters: {'p': 0, 'd': 0, 'q': 5, 'P': 1, 'D': 1, 'Q': 0}. Best is trial 22 with value: 0.6985554733890463.\u001b[0m\n"
     ]
    },
    {
     "name": "stdout",
     "output_type": "stream",
     "text": [
      "Optimization terminated successfully.\n",
      "         Current function value: -1.342997\n",
      "         Iterations: 2\n",
      "         Function evaluations: 175\n"
     ]
    },
    {
     "name": "stderr",
     "output_type": "stream",
     "text": [
      "\u001b[32m[I 2022-03-09 21:37:09,211]\u001b[0m Trial 25 finished with value: 0.6620859777797432 and parameters: {'p': 0, 'd': 0, 'q': 5, 'P': 0, 'D': 1, 'Q': 1}. Best is trial 22 with value: 0.6985554733890463.\u001b[0m\n"
     ]
    },
    {
     "name": "stdout",
     "output_type": "stream",
     "text": [
      "Optimization terminated successfully.\n",
      "         Current function value: -1.412905\n",
      "         Iterations: 3\n",
      "         Function evaluations: 276\n"
     ]
    },
    {
     "name": "stderr",
     "output_type": "stream",
     "text": [
      "\u001b[32m[I 2022-03-09 21:37:09,590]\u001b[0m Trial 26 finished with value: 0.662971495083514 and parameters: {'p': 0, 'd': 0, 'q': 6, 'P': 1, 'D': 1, 'Q': 0}. Best is trial 22 with value: 0.6985554733890463.\u001b[0m\n"
     ]
    },
    {
     "name": "stdout",
     "output_type": "stream",
     "text": [
      "Optimization terminated successfully.\n",
      "         Current function value: -1.343493\n",
      "         Iterations: 2\n",
      "         Function evaluations: 192\n"
     ]
    },
    {
     "name": "stderr",
     "output_type": "stream",
     "text": [
      "\u001b[32m[I 2022-03-09 21:37:11,081]\u001b[0m Trial 27 finished with value: 0.6625434107427397 and parameters: {'p': 2, 'd': 0, 'q': 3, 'P': 0, 'D': 1, 'Q': 1}. Best is trial 22 with value: 0.6985554733890463.\u001b[0m\n"
     ]
    },
    {
     "name": "stdout",
     "output_type": "stream",
     "text": [
      "Optimization terminated successfully.\n",
      "         Current function value: -1.421340\n",
      "         Iterations: 3\n",
      "         Function evaluations: 290\n"
     ]
    },
    {
     "name": "stderr",
     "output_type": "stream",
     "text": [
      "\u001b[32m[I 2022-03-09 21:37:12,688]\u001b[0m Trial 28 finished with value: 0.6471835908961604 and parameters: {'p': 3, 'd': 0, 'q': 7, 'P': 2, 'D': 1, 'Q': 0}. Best is trial 22 with value: 0.6985554733890463.\u001b[0m\n"
     ]
    },
    {
     "name": "stdout",
     "output_type": "stream",
     "text": [
      "Optimization terminated successfully.\n",
      "         Current function value: -1.324955\n",
      "         Iterations: 3\n",
      "         Function evaluations: 458\n"
     ]
    },
    {
     "name": "stderr",
     "output_type": "stream",
     "text": [
      "\u001b[32m[I 2022-03-09 21:37:13,922]\u001b[0m Trial 29 finished with value: 0.14865547105869503 and parameters: {'p': 5, 'd': 1, 'q': 4, 'P': 0, 'D': 0, 'Q': 0}. Best is trial 22 with value: 0.6985554733890463.\u001b[0m\n"
     ]
    },
    {
     "name": "stdout",
     "output_type": "stream",
     "text": [
      "Optimization terminated successfully.\n",
      "         Current function value: -1.338539\n",
      "         Iterations: 17\n",
      "         Function evaluations: 2118\n"
     ]
    },
    {
     "name": "stderr",
     "output_type": "stream",
     "text": [
      "\u001b[32m[I 2022-03-09 21:37:15,088]\u001b[0m Trial 30 finished with value: 0.7083766910387677 and parameters: {'p': 3, 'd': 0, 'q': 5, 'P': 0, 'D': 1, 'Q': 0}. Best is trial 30 with value: 0.7083766910387677.\u001b[0m\n"
     ]
    },
    {
     "name": "stdout",
     "output_type": "stream",
     "text": [
      "Optimization terminated successfully.\n",
      "         Current function value: -1.231625\n",
      "         Iterations: 8\n",
      "         Function evaluations: 854\n"
     ]
    },
    {
     "name": "stderr",
     "output_type": "stream",
     "text": [
      "\u001b[32m[I 2022-03-09 21:37:16,305]\u001b[0m Trial 31 finished with value: 0.7083766910387677 and parameters: {'p': 3, 'd': 0, 'q': 5, 'P': 0, 'D': 1, 'Q': 0}. Best is trial 30 with value: 0.7083766910387677.\u001b[0m\n"
     ]
    },
    {
     "name": "stdout",
     "output_type": "stream",
     "text": [
      "Optimization terminated successfully.\n",
      "         Current function value: -1.231625\n",
      "         Iterations: 8\n",
      "         Function evaluations: 854\n"
     ]
    },
    {
     "name": "stderr",
     "output_type": "stream",
     "text": [
      "\u001b[32m[I 2022-03-09 21:37:17,475]\u001b[0m Trial 32 finished with value: 0.7083766910387677 and parameters: {'p': 3, 'd': 0, 'q': 5, 'P': 0, 'D': 1, 'Q': 0}. Best is trial 30 with value: 0.7083766910387677.\u001b[0m\n"
     ]
    },
    {
     "name": "stdout",
     "output_type": "stream",
     "text": [
      "Optimization terminated successfully.\n",
      "         Current function value: -1.231625\n",
      "         Iterations: 8\n",
      "         Function evaluations: 854\n"
     ]
    },
    {
     "name": "stderr",
     "output_type": "stream",
     "text": [
      "\u001b[32m[I 2022-03-09 21:37:20,581]\u001b[0m Trial 33 finished with value: 0.6831389420648435 and parameters: {'p': 3, 'd': 0, 'q': 4, 'P': 0, 'D': 1, 'Q': 0}. Best is trial 30 with value: 0.7083766910387677.\u001b[0m\n"
     ]
    },
    {
     "name": "stdout",
     "output_type": "stream",
     "text": [
      "Optimization terminated successfully.\n",
      "         Current function value: -1.254592\n",
      "         Iterations: 10\n",
      "         Function evaluations: 1080\n"
     ]
    },
    {
     "name": "stderr",
     "output_type": "stream",
     "text": [
      "\u001b[32m[I 2022-03-09 21:37:23,188]\u001b[0m Trial 34 finished with value: 0.6600797476377713 and parameters: {'p': 3, 'd': 0, 'q': 6, 'P': 0, 'D': 1, 'Q': 1}. Best is trial 30 with value: 0.7083766910387677.\u001b[0m\n"
     ]
    },
    {
     "name": "stdout",
     "output_type": "stream",
     "text": [
      "Optimization terminated successfully.\n",
      "         Current function value: -1.417821\n",
      "         Iterations: 3\n",
      "         Function evaluations: 416\n"
     ]
    },
    {
     "name": "stderr",
     "output_type": "stream",
     "text": [
      "\u001b[32m[I 2022-03-09 21:37:23,899]\u001b[0m Trial 35 finished with value: 0.6998432841342372 and parameters: {'p': 2, 'd': 0, 'q': 5, 'P': 1, 'D': 0, 'Q': 0}. Best is trial 30 with value: 0.7083766910387677.\u001b[0m\n"
     ]
    },
    {
     "name": "stdout",
     "output_type": "stream",
     "text": [
      "Optimization terminated successfully.\n",
      "         Current function value: -1.236661\n",
      "         Iterations: 8\n",
      "         Function evaluations: 918\n"
     ]
    },
    {
     "name": "stderr",
     "output_type": "stream",
     "text": [
      "\u001b[32m[I 2022-03-09 21:37:28,619]\u001b[0m Trial 36 finished with value: 0.6181666996804538 and parameters: {'p': 2, 'd': 0, 'q': 7, 'P': 1, 'D': 0, 'Q': 1}. Best is trial 30 with value: 0.7083766910387677.\u001b[0m\n"
     ]
    },
    {
     "name": "stdout",
     "output_type": "stream",
     "text": [
      "Optimization terminated successfully.\n",
      "         Current function value: -1.452907\n",
      "         Iterations: 7\n",
      "         Function evaluations: 1160\n"
     ]
    },
    {
     "name": "stderr",
     "output_type": "stream",
     "text": [
      "\u001b[32m[I 2022-03-09 21:37:36,492]\u001b[0m Trial 37 finished with value: 0.6194779378192621 and parameters: {'p': 4, 'd': 0, 'q': 4, 'P': 2, 'D': 0, 'Q': 0}. Best is trial 30 with value: 0.7083766910387677.\u001b[0m\n"
     ]
    },
    {
     "name": "stdout",
     "output_type": "stream",
     "text": [
      "Optimization terminated successfully.\n",
      "         Current function value: -1.353781\n",
      "         Iterations: 17\n",
      "         Function evaluations: 2285\n"
     ]
    },
    {
     "name": "stderr",
     "output_type": "stream",
     "text": [
      "\u001b[32m[I 2022-03-09 21:37:38,682]\u001b[0m Trial 38 finished with value: 0.6297006171704784 and parameters: {'p': 3, 'd': 0, 'q': 4, 'P': 1, 'D': 0, 'Q': 1}. Best is trial 30 with value: 0.7083766910387677.\u001b[0m\n"
     ]
    },
    {
     "name": "stdout",
     "output_type": "stream",
     "text": [
      "Optimization terminated successfully.\n",
      "         Current function value: -1.469875\n",
      "         Iterations: 5\n",
      "         Function evaluations: 625\n"
     ]
    },
    {
     "name": "stderr",
     "output_type": "stream",
     "text": [
      "\u001b[32m[I 2022-03-09 21:37:48,366]\u001b[0m Trial 39 finished with value: 0.6273039647041447 and parameters: {'p': 4, 'd': 0, 'q': 3, 'P': 2, 'D': 0, 'Q': 2}. Best is trial 30 with value: 0.7083766910387677.\u001b[0m\n"
     ]
    },
    {
     "name": "stdout",
     "output_type": "stream",
     "text": [
      "Optimization terminated successfully.\n",
      "         Current function value: -1.426600\n",
      "         Iterations: 14\n",
      "         Function evaluations: 2029\n"
     ]
    },
    {
     "name": "stderr",
     "output_type": "stream",
     "text": [
      "\u001b[32m[I 2022-03-09 21:37:49,566]\u001b[0m Trial 40 finished with value: 0.2245950712369208 and parameters: {'p': 1, 'd': 1, 'q': 6, 'P': 1, 'D': 0, 'Q': 0}. Best is trial 30 with value: 0.7083766910387677.\u001b[0m\n"
     ]
    },
    {
     "name": "stdout",
     "output_type": "stream",
     "text": [
      "Optimization terminated successfully.\n",
      "         Current function value: -1.347082\n",
      "         Iterations: 7\n",
      "         Function evaluations: 1045\n"
     ]
    },
    {
     "name": "stderr",
     "output_type": "stream",
     "text": [
      "\u001b[32m[I 2022-03-09 21:37:51,598]\u001b[0m Trial 41 finished with value: 0.6850099151193452 and parameters: {'p': 2, 'd': 0, 'q': 5, 'P': 0, 'D': 1, 'Q': 0}. Best is trial 30 with value: 0.7083766910387677.\u001b[0m\n"
     ]
    },
    {
     "name": "stdout",
     "output_type": "stream",
     "text": [
      "Optimization terminated successfully.\n",
      "         Current function value: -1.244475\n",
      "         Iterations: 9\n",
      "         Function evaluations: 1024\n"
     ]
    },
    {
     "name": "stderr",
     "output_type": "stream",
     "text": [
      "\u001b[32m[I 2022-03-09 21:37:53,880]\u001b[0m Trial 42 finished with value: 0.7052439273716442 and parameters: {'p': 5, 'd': 0, 'q': 5, 'P': 0, 'D': 1, 'Q': 0}. Best is trial 30 with value: 0.7083766910387677.\u001b[0m\n"
     ]
    },
    {
     "name": "stdout",
     "output_type": "stream",
     "text": [
      "Optimization terminated successfully.\n",
      "         Current function value: -1.229383\n",
      "         Iterations: 7\n",
      "         Function evaluations: 991\n"
     ]
    },
    {
     "name": "stderr",
     "output_type": "stream",
     "text": [
      "\u001b[32m[I 2022-03-09 21:37:56,298]\u001b[0m Trial 43 finished with value: 0.7052439273716442 and parameters: {'p': 5, 'd': 0, 'q': 5, 'P': 0, 'D': 1, 'Q': 0}. Best is trial 30 with value: 0.7083766910387677.\u001b[0m\n"
     ]
    },
    {
     "name": "stdout",
     "output_type": "stream",
     "text": [
      "Optimization terminated successfully.\n",
      "         Current function value: -1.229383\n",
      "         Iterations: 7\n",
      "         Function evaluations: 991\n"
     ]
    },
    {
     "name": "stderr",
     "output_type": "stream",
     "text": [
      "\u001b[32m[I 2022-03-09 21:38:04,232]\u001b[0m Trial 44 finished with value: 0.6759512111320626 and parameters: {'p': 5, 'd': 0, 'q': 6, 'P': 0, 'D': 1, 'Q': 0}. Best is trial 30 with value: 0.7083766910387677.\u001b[0m\n"
     ]
    },
    {
     "name": "stdout",
     "output_type": "stream",
     "text": [
      "Optimization terminated successfully.\n",
      "         Current function value: -1.261954\n",
      "         Iterations: 16\n",
      "         Function evaluations: 2385\n"
     ]
    },
    {
     "name": "stderr",
     "output_type": "stream",
     "text": [
      "\u001b[32m[I 2022-03-09 21:38:17,625]\u001b[0m Trial 45 finished with value: 0.6991199257133334 and parameters: {'p': 5, 'd': 0, 'q': 7, 'P': 0, 'D': 1, 'Q': 0}. Best is trial 30 with value: 0.7083766910387677.\u001b[0m\n"
     ]
    },
    {
     "name": "stdout",
     "output_type": "stream",
     "text": [
      "Optimization terminated successfully.\n",
      "         Current function value: -1.300857\n",
      "         Iterations: 26\n",
      "         Function evaluations: 4173\n"
     ]
    },
    {
     "name": "stderr",
     "output_type": "stream",
     "text": [
      "\u001b[32m[I 2022-03-09 21:38:33,973]\u001b[0m Trial 46 finished with value: 0.6598951277941418 and parameters: {'p': 4, 'd': 0, 'q': 4, 'P': 0, 'D': 1, 'Q': 1}. Best is trial 30 with value: 0.7083766910387677.\u001b[0m\n"
     ]
    },
    {
     "name": "stdout",
     "output_type": "stream",
     "text": [
      "Optimization terminated successfully.\n",
      "         Current function value: -1.427350\n",
      "         Iterations: 24\n",
      "         Function evaluations: 3143\n"
     ]
    },
    {
     "name": "stderr",
     "output_type": "stream",
     "text": [
      "\u001b[32m[I 2022-03-09 21:38:38,015]\u001b[0m Trial 47 finished with value: 0.7109161788776484 and parameters: {'p': 4, 'd': 0, 'q': 5, 'P': 0, 'D': 1, 'Q': 0}. Best is trial 47 with value: 0.7109161788776484.\u001b[0m\n"
     ]
    },
    {
     "name": "stdout",
     "output_type": "stream",
     "text": [
      "Optimization terminated successfully.\n",
      "         Current function value: -1.283497\n",
      "         Iterations: 11\n",
      "         Function evaluations: 1389\n",
      "Optimization terminated successfully.\n",
      "         Current function value: -1.319309\n",
      "         Iterations: 2\n",
      "         Function evaluations: 329\n"
     ]
    },
    {
     "name": "stderr",
     "output_type": "stream",
     "text": [
      "\u001b[32m[I 2022-03-09 21:38:39,792]\u001b[0m Trial 48 finished with value: 0.6321871719796835 and parameters: {'p': 4, 'd': 0, 'q': 6, 'P': 3, 'D': 1, 'Q': 0}. Best is trial 47 with value: 0.7109161788776484.\u001b[0m\n"
     ]
    },
    {
     "name": "stdout",
     "output_type": "stream",
     "text": [
      "Optimization terminated successfully.\n",
      "         Current function value: -1.386048\n",
      "         Iterations: 7\n",
      "         Function evaluations: 994\n"
     ]
    },
    {
     "name": "stderr",
     "output_type": "stream",
     "text": [
      "\u001b[32m[I 2022-03-09 21:38:47,793]\u001b[0m Trial 49 finished with value: 0.6543681495693345 and parameters: {'p': 3, 'd': 0, 'q': 5, 'P': 0, 'D': 1, 'Q': 2}. Best is trial 47 with value: 0.7109161788776484.\u001b[0m\n",
      "\u001b[32m[I 2022-03-09 21:38:47,835]\u001b[0m A new study created in memory with name: no-name-47356221-175c-4efe-ba9d-a7814e15fc16\u001b[0m\n",
      "\u001b[32m[I 2022-03-09 21:38:50,793]\u001b[0m Trial 0 finished with value: 0.8305955622789157 and parameters: {'p': 3, 'd': 0, 'q': 6, 'P': 2, 'D': 1, 'Q': 0}. Best is trial 0 with value: 0.8305955622789157.\u001b[0m\n"
     ]
    },
    {
     "name": "stdout",
     "output_type": "stream",
     "text": [
      "Optimization terminated successfully.\n",
      "         Current function value: -1.517632\n",
      "         Iterations: 5\n",
      "         Function evaluations: 716\n"
     ]
    },
    {
     "name": "stderr",
     "output_type": "stream",
     "text": [
      "\u001b[32m[I 2022-03-09 21:38:53,151]\u001b[0m Trial 1 finished with value: 0.8343375369711592 and parameters: {'p': 3, 'd': 0, 'q': 1, 'P': 3, 'D': 0, 'Q': 2}. Best is trial 1 with value: 0.8343375369711592.\u001b[0m\n"
     ]
    },
    {
     "name": "stdout",
     "output_type": "stream",
     "text": [
      "Optimization terminated successfully.\n",
      "         Current function value: -1.555358\n",
      "         Iterations: 3\n",
      "         Function evaluations: 330\n"
     ]
    },
    {
     "name": "stderr",
     "output_type": "stream",
     "text": [
      "\u001b[32m[I 2022-03-09 21:38:56,990]\u001b[0m Trial 2 finished with value: 0.834890135931979 and parameters: {'p': 5, 'd': 0, 'q': 8, 'P': 1, 'D': 1, 'Q': 0}. Best is trial 2 with value: 0.834890135931979.\u001b[0m\n"
     ]
    },
    {
     "name": "stdout",
     "output_type": "stream",
     "text": [
      "Optimization terminated successfully.\n",
      "         Current function value: -1.530244\n",
      "         Iterations: 7\n",
      "         Function evaluations: 1287\n"
     ]
    },
    {
     "name": "stderr",
     "output_type": "stream",
     "text": [
      "\u001b[32m[I 2022-03-09 21:39:04,157]\u001b[0m Trial 3 finished with value: 0.8297640181680899 and parameters: {'p': 8, 'd': 1, 'q': 1, 'P': 1, 'D': 0, 'Q': 2}. Best is trial 2 with value: 0.834890135931979.\u001b[0m\n"
     ]
    },
    {
     "name": "stdout",
     "output_type": "stream",
     "text": [
      "Optimization terminated successfully.\n",
      "         Current function value: -1.606164\n",
      "         Iterations: 10\n",
      "         Function evaluations: 1464\n",
      "Optimization terminated successfully.\n",
      "         Current function value: -1.476040\n",
      "         Iterations: 6\n",
      "         Function evaluations: 983\n"
     ]
    },
    {
     "name": "stderr",
     "output_type": "stream",
     "text": [
      "\u001b[32m[I 2022-03-09 21:39:12,841]\u001b[0m Trial 4 finished with value: 0.8281221160650446 and parameters: {'p': 8, 'd': 1, 'q': 2, 'P': 2, 'D': 1, 'Q': 0}. Best is trial 2 with value: 0.834890135931979.\u001b[0m\n",
      "\u001b[32m[I 2022-03-09 21:39:13,230]\u001b[0m Trial 5 finished with value: 0.7537440795605506 and parameters: {'p': 7, 'd': 1, 'q': 1, 'P': 0, 'D': 1, 'Q': 0}. Best is trial 2 with value: 0.834890135931979.\u001b[0m\n"
     ]
    },
    {
     "name": "stdout",
     "output_type": "stream",
     "text": [
      "Optimization terminated successfully.\n",
      "         Current function value: -1.348024\n",
      "         Iterations: 3\n",
      "         Function evaluations: 284\n"
     ]
    },
    {
     "name": "stderr",
     "output_type": "stream",
     "text": [
      "\u001b[32m[I 2022-03-09 21:39:17,603]\u001b[0m Trial 6 finished with value: 0.8288581301213795 and parameters: {'p': 1, 'd': 1, 'q': 3, 'P': 2, 'D': 0, 'Q': 2}. Best is trial 2 with value: 0.834890135931979.\u001b[0m\n"
     ]
    },
    {
     "name": "stdout",
     "output_type": "stream",
     "text": [
      "Optimization terminated successfully.\n",
      "         Current function value: -1.595815\n",
      "         Iterations: 7\n",
      "         Function evaluations: 793\n"
     ]
    },
    {
     "name": "stderr",
     "output_type": "stream",
     "text": [
      "\u001b[32m[I 2022-03-09 21:39:19,898]\u001b[0m Trial 7 finished with value: 0.8412592565344551 and parameters: {'p': 1, 'd': 0, 'q': 6, 'P': 0, 'D': 1, 'Q': 1}. Best is trial 7 with value: 0.8412592565344551.\u001b[0m\n"
     ]
    },
    {
     "name": "stdout",
     "output_type": "stream",
     "text": [
      "Optimization terminated successfully.\n",
      "         Current function value: -1.595170\n",
      "         Iterations: 3\n",
      "         Function evaluations: 354\n"
     ]
    },
    {
     "name": "stderr",
     "output_type": "stream",
     "text": [
      "\u001b[32m[I 2022-03-09 21:39:20,263]\u001b[0m Trial 8 finished with value: 0.830046786349858 and parameters: {'p': 2, 'd': 0, 'q': 3, 'P': 1, 'D': 1, 'Q': 0}. Best is trial 7 with value: 0.8412592565344551.\u001b[0m\n"
     ]
    },
    {
     "name": "stdout",
     "output_type": "stream",
     "text": [
      "Optimization terminated successfully.\n",
      "         Current function value: -1.529976\n",
      "         Iterations: 2\n",
      "         Function evaluations: 177\n"
     ]
    },
    {
     "name": "stderr",
     "output_type": "stream",
     "text": [
      "\u001b[32m[I 2022-03-09 21:39:24,594]\u001b[0m Trial 9 finished with value: 0.8382678990883414 and parameters: {'p': 3, 'd': 0, 'q': 4, 'P': 1, 'D': 0, 'Q': 1}. Best is trial 7 with value: 0.8412592565344551.\u001b[0m\n"
     ]
    },
    {
     "name": "stdout",
     "output_type": "stream",
     "text": [
      "Optimization terminated successfully.\n",
      "         Current function value: -1.652140\n",
      "         Iterations: 10\n",
      "         Function evaluations: 1237\n",
      "Optimization terminated successfully.\n",
      "         Current function value: -1.484681\n",
      "         Iterations: 4\n",
      "         Function evaluations: 502\n"
     ]
    },
    {
     "name": "stderr",
     "output_type": "stream",
     "text": [
      "\u001b[32m[I 2022-03-09 21:39:31,139]\u001b[0m Trial 10 finished with value: 0.8390366678843462 and parameters: {'p': 0, 'd': 0, 'q': 6, 'P': 0, 'D': 1, 'Q': 3}. Best is trial 7 with value: 0.8412592565344551.\u001b[0m\n"
     ]
    },
    {
     "name": "stdout",
     "output_type": "stream",
     "text": [
      "Optimization terminated successfully.\n",
      "         Current function value: -1.484681\n",
      "         Iterations: 4\n",
      "         Function evaluations: 502\n"
     ]
    },
    {
     "name": "stderr",
     "output_type": "stream",
     "text": [
      "\u001b[32m[I 2022-03-09 21:39:38,156]\u001b[0m Trial 11 finished with value: 0.8390366678843462 and parameters: {'p': 0, 'd': 0, 'q': 6, 'P': 0, 'D': 1, 'Q': 3}. Best is trial 7 with value: 0.8412592565344551.\u001b[0m\n"
     ]
    },
    {
     "name": "stdout",
     "output_type": "stream",
     "text": [
      "Optimization terminated successfully.\n",
      "         Current function value: -1.484681\n",
      "         Iterations: 4\n",
      "         Function evaluations: 502\n"
     ]
    },
    {
     "name": "stderr",
     "output_type": "stream",
     "text": [
      "\u001b[32m[I 2022-03-09 21:39:45,015]\u001b[0m Trial 12 finished with value: 0.8390366678843462 and parameters: {'p': 0, 'd': 0, 'q': 6, 'P': 0, 'D': 1, 'Q': 3}. Best is trial 7 with value: 0.8412592565344551.\u001b[0m\n",
      "\u001b[32m[I 2022-03-09 21:39:47,747]\u001b[0m Trial 13 finished with value: 0.8404401167959796 and parameters: {'p': 1, 'd': 0, 'q': 8, 'P': 0, 'D': 1, 'Q': 1}. Best is trial 7 with value: 0.8412592565344551.\u001b[0m\n"
     ]
    },
    {
     "name": "stdout",
     "output_type": "stream",
     "text": [
      "Optimization terminated successfully.\n",
      "         Current function value: -1.584909\n",
      "         Iterations: 3\n",
      "         Function evaluations: 418\n",
      "Optimization terminated successfully.\n",
      "         Current function value: -1.597097\n",
      "         Iterations: 15\n",
      "         Function evaluations: 2729\n"
     ]
    },
    {
     "name": "stderr",
     "output_type": "stream",
     "text": [
      "\u001b[32m[I 2022-03-09 21:40:04,687]\u001b[0m Trial 14 finished with value: 0.8462643071362471 and parameters: {'p': 5, 'd': 0, 'q': 8, 'P': 0, 'D': 1, 'Q': 1}. Best is trial 14 with value: 0.8462643071362471.\u001b[0m\n"
     ]
    },
    {
     "name": "stdout",
     "output_type": "stream",
     "text": [
      "Optimization terminated successfully.\n",
      "         Current function value: -1.500907\n",
      "         Iterations: 9\n",
      "         Function evaluations: 1876\n"
     ]
    },
    {
     "name": "stderr",
     "output_type": "stream",
     "text": [
      "\u001b[32m[I 2022-03-09 21:40:18,677]\u001b[0m Trial 15 finished with value: 0.8357887667415388 and parameters: {'p': 5, 'd': 0, 'q': 7, 'P': 3, 'D': 1, 'Q': 1}. Best is trial 14 with value: 0.8462643071362471.\u001b[0m\n",
      "\u001b[32m[I 2022-03-09 21:40:27,498]\u001b[0m Trial 16 finished with value: 0.8373556809450471 and parameters: {'p': 5, 'd': 0, 'q': 5, 'P': 0, 'D': 1, 'Q': 1}. Best is trial 14 with value: 0.8462643071362471.\u001b[0m\n"
     ]
    },
    {
     "name": "stdout",
     "output_type": "stream",
     "text": [
      "Optimization terminated successfully.\n",
      "         Current function value: -1.604018\n",
      "         Iterations: 11\n",
      "         Function evaluations: 1624\n"
     ]
    },
    {
     "name": "stderr",
     "output_type": "stream",
     "text": [
      "\u001b[32m[I 2022-03-09 21:40:36,415]\u001b[0m Trial 17 finished with value: 0.8332932766334593 and parameters: {'p': 6, 'd': 1, 'q': 8, 'P': 1, 'D': 0, 'Q': 1}. Best is trial 14 with value: 0.8462643071362471.\u001b[0m\n"
     ]
    },
    {
     "name": "stdout",
     "output_type": "stream",
     "text": [
      "Optimization terminated successfully.\n",
      "         Current function value: -1.619296\n",
      "         Iterations: 9\n",
      "         Function evaluations: 2124\n",
      "Optimization terminated successfully.\n",
      "         Current function value: -1.543417\n",
      "         Iterations: 8\n",
      "         Function evaluations: 1377\n"
     ]
    },
    {
     "name": "stderr",
     "output_type": "stream",
     "text": [
      "\u001b[32m[I 2022-03-09 21:40:47,759]\u001b[0m Trial 18 finished with value: 0.8401625811814379 and parameters: {'p': 4, 'd': 0, 'q': 7, 'P': 0, 'D': 1, 'Q': 2}. Best is trial 14 with value: 0.8462643071362471.\u001b[0m\n",
      "\u001b[32m[I 2022-03-09 21:41:01,750]\u001b[0m Trial 19 finished with value: 0.8339271498539459 and parameters: {'p': 6, 'd': 0, 'q': 5, 'P': 1, 'D': 1, 'Q': 1}. Best is trial 14 with value: 0.8462643071362471.\u001b[0m\n"
     ]
    },
    {
     "name": "stdout",
     "output_type": "stream",
     "text": [
      "Optimization terminated successfully.\n",
      "         Current function value: -1.595384\n",
      "         Iterations: 16\n",
      "         Function evaluations: 2770\n"
     ]
    },
    {
     "name": "stderr",
     "output_type": "stream",
     "text": [
      "\u001b[32m[I 2022-03-09 21:41:13,700]\u001b[0m Trial 20 finished with value: 0.5392954114898973 and parameters: {'p': 4, 'd': 1, 'q': 7, 'P': 0, 'D': 0, 'Q': 2}. Best is trial 14 with value: 0.8462643071362471.\u001b[0m\n"
     ]
    },
    {
     "name": "stdout",
     "output_type": "stream",
     "text": [
      "Optimization terminated successfully.\n",
      "         Current function value: -1.434346\n",
      "         Iterations: 12\n",
      "         Function evaluations: 2403\n"
     ]
    },
    {
     "name": "stderr",
     "output_type": "stream",
     "text": [
      "\u001b[32m[I 2022-03-09 21:41:16,435]\u001b[0m Trial 21 finished with value: 0.8404401167959796 and parameters: {'p': 1, 'd': 0, 'q': 8, 'P': 0, 'D': 1, 'Q': 1}. Best is trial 14 with value: 0.8462643071362471.\u001b[0m\n"
     ]
    },
    {
     "name": "stdout",
     "output_type": "stream",
     "text": [
      "Optimization terminated successfully.\n",
      "         Current function value: -1.584909\n",
      "         Iterations: 3\n",
      "         Function evaluations: 418\n"
     ]
    },
    {
     "name": "stderr",
     "output_type": "stream",
     "text": [
      "\u001b[32m[I 2022-03-09 21:41:19,265]\u001b[0m Trial 22 finished with value: 0.8403828527040956 and parameters: {'p': 2, 'd': 0, 'q': 8, 'P': 0, 'D': 1, 'Q': 1}. Best is trial 14 with value: 0.8462643071362471.\u001b[0m\n"
     ]
    },
    {
     "name": "stdout",
     "output_type": "stream",
     "text": [
      "Optimization terminated successfully.\n",
      "         Current function value: -1.584812\n",
      "         Iterations: 3\n",
      "         Function evaluations: 442\n"
     ]
    },
    {
     "name": "stderr",
     "output_type": "stream",
     "text": [
      "\u001b[32m[I 2022-03-09 21:41:21,464]\u001b[0m Trial 23 finished with value: 0.8419370846401243 and parameters: {'p': 1, 'd': 0, 'q': 7, 'P': 0, 'D': 1, 'Q': 1}. Best is trial 14 with value: 0.8462643071362471.\u001b[0m\n"
     ]
    },
    {
     "name": "stdout",
     "output_type": "stream",
     "text": [
      "Optimization terminated successfully.\n",
      "         Current function value: -1.590683\n",
      "         Iterations: 3\n",
      "         Function evaluations: 384\n"
     ]
    },
    {
     "name": "stderr",
     "output_type": "stream",
     "text": [
      "\u001b[32m[I 2022-03-09 21:41:28,075]\u001b[0m Trial 24 finished with value: 0.8381017405315797 and parameters: {'p': 2, 'd': 0, 'q': 5, 'P': 1, 'D': 1, 'Q': 1}. Best is trial 14 with value: 0.8462643071362471.\u001b[0m\n"
     ]
    },
    {
     "name": "stdout",
     "output_type": "stream",
     "text": [
      "Optimization terminated successfully.\n",
      "         Current function value: -1.583029\n",
      "         Iterations: 9\n",
      "         Function evaluations: 1247\n",
      "Optimization terminated successfully.\n",
      "         Current function value: -1.535178\n",
      "         Iterations: 3\n",
      "         Function evaluations: 421\n"
     ]
    },
    {
     "name": "stderr",
     "output_type": "stream",
     "text": [
      "\u001b[32m[I 2022-03-09 21:41:31,577]\u001b[0m Trial 25 finished with value: 0.8397293311582522 and parameters: {'p': 1, 'd': 0, 'q': 7, 'P': 0, 'D': 1, 'Q': 2}. Best is trial 14 with value: 0.8462643071362471.\u001b[0m\n"
     ]
    },
    {
     "name": "stdout",
     "output_type": "stream",
     "text": [
      "Optimization terminated successfully.\n",
      "         Current function value: -1.592407\n",
      "         Iterations: 7\n",
      "         Function evaluations: 1315\n"
     ]
    },
    {
     "name": "stderr",
     "output_type": "stream",
     "text": [
      "\u001b[32m[I 2022-03-09 21:41:38,419]\u001b[0m Trial 26 finished with value: 0.8379132815994645 and parameters: {'p': 6, 'd': 0, 'q': 7, 'P': 1, 'D': 1, 'Q': 1}. Best is trial 14 with value: 0.8462643071362471.\u001b[0m\n",
      "\u001b[32m[I 2022-03-09 21:41:39,945]\u001b[0m Trial 27 finished with value: 0.7603973558014268 and parameters: {'p': 2, 'd': 0, 'q': 5, 'P': 0, 'D': 1, 'Q': 0}. Best is trial 14 with value: 0.8462643071362471.\u001b[0m\n"
     ]
    },
    {
     "name": "stdout",
     "output_type": "stream",
     "text": [
      "Optimization terminated successfully.\n",
      "         Current function value: -1.432881\n",
      "         Iterations: 6\n",
      "         Function evaluations: 707\n",
      "Optimization terminated successfully.\n",
      "         Current function value: -1.558677\n",
      "         Iterations: 8\n",
      "         Function evaluations: 1378\n"
     ]
    },
    {
     "name": "stderr",
     "output_type": "stream",
     "text": [
      "\u001b[32m[I 2022-03-09 21:41:49,096]\u001b[0m Trial 28 finished with value: 0.8389096206773544 and parameters: {'p': 3, 'd': 0, 'q': 4, 'P': 2, 'D': 1, 'Q': 1}. Best is trial 14 with value: 0.8462643071362471.\u001b[0m\n",
      "\u001b[32m[I 2022-03-09 21:41:55,166]\u001b[0m Trial 29 finished with value: 0.8117212579467963 and parameters: {'p': 4, 'd': 0, 'q': 6, 'P': 0, 'D': 1, 'Q': 0}. Best is trial 14 with value: 0.8462643071362471.\u001b[0m\n"
     ]
    },
    {
     "name": "stdout",
     "output_type": "stream",
     "text": [
      "Optimization terminated successfully.\n",
      "         Current function value: -1.466255\n",
      "         Iterations: 13\n",
      "         Function evaluations: 1903\n"
     ]
    },
    {
     "name": "stderr",
     "output_type": "stream",
     "text": [
      "\u001b[32m[I 2022-03-09 21:41:58,012]\u001b[0m Trial 30 finished with value: 0.838436917597028 and parameters: {'p': 4, 'd': 0, 'q': 0, 'P': 2, 'D': 1, 'Q': 2}. Best is trial 14 with value: 0.8462643071362471.\u001b[0m\n"
     ]
    },
    {
     "name": "stdout",
     "output_type": "stream",
     "text": [
      "Optimization terminated successfully.\n",
      "         Current function value: -1.548332\n",
      "         Iterations: 4\n",
      "         Function evaluations: 457\n"
     ]
    },
    {
     "name": "stderr",
     "output_type": "stream",
     "text": [
      "\u001b[32m[I 2022-03-09 21:42:00,721]\u001b[0m Trial 31 finished with value: 0.8404401167959796 and parameters: {'p': 1, 'd': 0, 'q': 8, 'P': 0, 'D': 1, 'Q': 1}. Best is trial 14 with value: 0.8462643071362471.\u001b[0m\n"
     ]
    },
    {
     "name": "stdout",
     "output_type": "stream",
     "text": [
      "Optimization terminated successfully.\n",
      "         Current function value: -1.584909\n",
      "         Iterations: 3\n",
      "         Function evaluations: 418\n"
     ]
    },
    {
     "name": "stderr",
     "output_type": "stream",
     "text": [
      "\u001b[32m[I 2022-03-09 21:42:02,916]\u001b[0m Trial 32 finished with value: 0.8419370846401243 and parameters: {'p': 1, 'd': 0, 'q': 7, 'P': 0, 'D': 1, 'Q': 1}. Best is trial 14 with value: 0.8462643071362471.\u001b[0m\n"
     ]
    },
    {
     "name": "stdout",
     "output_type": "stream",
     "text": [
      "Optimization terminated successfully.\n",
      "         Current function value: -1.590683\n",
      "         Iterations: 3\n",
      "         Function evaluations: 384\n"
     ]
    },
    {
     "name": "stderr",
     "output_type": "stream",
     "text": [
      "\u001b[32m[I 2022-03-09 21:42:05,030]\u001b[0m Trial 33 finished with value: 0.8413994752718075 and parameters: {'p': 0, 'd': 0, 'q': 7, 'P': 0, 'D': 1, 'Q': 1}. Best is trial 14 with value: 0.8462643071362471.\u001b[0m\n"
     ]
    },
    {
     "name": "stdout",
     "output_type": "stream",
     "text": [
      "Optimization terminated successfully.\n",
      "         Current function value: -1.591045\n",
      "         Iterations: 3\n",
      "         Function evaluations: 353\n"
     ]
    },
    {
     "name": "stderr",
     "output_type": "stream",
     "text": [
      "\u001b[32m[I 2022-03-09 21:42:05,779]\u001b[0m Trial 34 finished with value: 0.8343971691164462 and parameters: {'p': 0, 'd': 0, 'q': 7, 'P': 1, 'D': 1, 'Q': 0}. Best is trial 14 with value: 0.8462643071362471.\u001b[0m\n"
     ]
    },
    {
     "name": "stdout",
     "output_type": "stream",
     "text": [
      "Optimization terminated successfully.\n",
      "         Current function value: -1.546063\n",
      "         Iterations: 3\n",
      "         Function evaluations: 335\n",
      "Optimization terminated successfully.\n",
      "         Current function value: -1.520942\n",
      "         Iterations: 7\n",
      "         Function evaluations: 1004\n"
     ]
    },
    {
     "name": "stderr",
     "output_type": "stream",
     "text": [
      "\u001b[32m[I 2022-03-09 21:42:12,685]\u001b[0m Trial 35 finished with value: 0.8366692745914571 and parameters: {'p': 0, 'd': 0, 'q': 7, 'P': 3, 'D': 1, 'Q': 1}. Best is trial 14 with value: 0.8462643071362471.\u001b[0m\n",
      "\u001b[32m[I 2022-03-09 21:42:13,453]\u001b[0m Trial 36 finished with value: 0.12222862553534719 and parameters: {'p': 2, 'd': 0, 'q': 8, 'P': 0, 'D': 0, 'Q': 0}. Best is trial 14 with value: 0.8462643071362471.\u001b[0m\n"
     ]
    },
    {
     "name": "stdout",
     "output_type": "stream",
     "text": [
      "Optimization terminated successfully.\n",
      "         Current function value: -1.354780\n",
      "         Iterations: 6\n",
      "         Function evaluations: 1076\n",
      "Optimization terminated successfully.\n",
      "         Current function value: -1.531230\n",
      "         Iterations: 9\n",
      "         Function evaluations: 1815\n"
     ]
    },
    {
     "name": "stderr",
     "output_type": "stream",
     "text": [
      "\u001b[32m[I 2022-03-09 21:42:29,259]\u001b[0m Trial 37 finished with value: 0.836272183149917 and parameters: {'p': 7, 'd': 1, 'q': 6, 'P': 1, 'D': 1, 'Q': 2}. Best is trial 14 with value: 0.8462643071362471.\u001b[0m\n",
      "\u001b[32m[I 2022-03-09 21:42:32,261]\u001b[0m Trial 38 finished with value: 0.8404815945702184 and parameters: {'p': 3, 'd': 0, 'q': 8, 'P': 0, 'D': 1, 'Q': 1}. Best is trial 14 with value: 0.8462643071362471.\u001b[0m\n"
     ]
    },
    {
     "name": "stdout",
     "output_type": "stream",
     "text": [
      "Optimization terminated successfully.\n",
      "         Current function value: -1.585179\n",
      "         Iterations: 3\n",
      "         Function evaluations: 459\n",
      "Optimization terminated successfully.\n",
      "         Current function value: -1.528700\n",
      "         Iterations: 9\n",
      "         Function evaluations: 1789\n"
     ]
    },
    {
     "name": "stderr",
     "output_type": "stream",
     "text": [
      "\u001b[32m[I 2022-03-09 21:42:49,134]\u001b[0m Trial 39 finished with value: 0.8393151234737941 and parameters: {'p': 5, 'd': 1, 'q': 7, 'P': 1, 'D': 1, 'Q': 2}. Best is trial 14 with value: 0.8462643071362471.\u001b[0m\n",
      "\u001b[32m[I 2022-03-09 21:42:49,805]\u001b[0m Trial 40 finished with value: 0.1359703032638654 and parameters: {'p': 1, 'd': 0, 'q': 3, 'P': 0, 'D': 0, 'Q': 1}. Best is trial 14 with value: 0.8462643071362471.\u001b[0m\n"
     ]
    },
    {
     "name": "stdout",
     "output_type": "stream",
     "text": [
      "Optimization terminated successfully.\n",
      "         Current function value: -1.327156\n",
      "         Iterations: 6\n",
      "         Function evaluations: 482\n"
     ]
    },
    {
     "name": "stderr",
     "output_type": "stream",
     "text": [
      "\u001b[32m[I 2022-03-09 21:42:51,810]\u001b[0m Trial 41 finished with value: 0.8409613655760129 and parameters: {'p': 0, 'd': 0, 'q': 6, 'P': 0, 'D': 1, 'Q': 1}. Best is trial 14 with value: 0.8462643071362471.\u001b[0m\n"
     ]
    },
    {
     "name": "stdout",
     "output_type": "stream",
     "text": [
      "Optimization terminated successfully.\n",
      "         Current function value: -1.593973\n",
      "         Iterations: 3\n",
      "         Function evaluations: 325\n"
     ]
    },
    {
     "name": "stderr",
     "output_type": "stream",
     "text": [
      "\u001b[32m[I 2022-03-09 21:42:54,062]\u001b[0m Trial 42 finished with value: 0.8419370846401243 and parameters: {'p': 1, 'd': 0, 'q': 7, 'P': 0, 'D': 1, 'Q': 1}. Best is trial 14 with value: 0.8462643071362471.\u001b[0m\n"
     ]
    },
    {
     "name": "stdout",
     "output_type": "stream",
     "text": [
      "Optimization terminated successfully.\n",
      "         Current function value: -1.590683\n",
      "         Iterations: 3\n",
      "         Function evaluations: 384\n"
     ]
    },
    {
     "name": "stderr",
     "output_type": "stream",
     "text": [
      "\u001b[32m[I 2022-03-09 21:42:56,600]\u001b[0m Trial 43 finished with value: 0.8419370846401243 and parameters: {'p': 1, 'd': 0, 'q': 7, 'P': 0, 'D': 1, 'Q': 1}. Best is trial 14 with value: 0.8462643071362471.\u001b[0m\n"
     ]
    },
    {
     "name": "stdout",
     "output_type": "stream",
     "text": [
      "Optimization terminated successfully.\n",
      "         Current function value: -1.590683\n",
      "         Iterations: 3\n",
      "         Function evaluations: 384\n"
     ]
    },
    {
     "name": "stderr",
     "output_type": "stream",
     "text": [
      "\u001b[32m[I 2022-03-09 21:42:58,677]\u001b[0m Trial 44 finished with value: 0.8118204993633874 and parameters: {'p': 2, 'd': 0, 'q': 7, 'P': 0, 'D': 1, 'Q': 0}. Best is trial 14 with value: 0.8462643071362471.\u001b[0m\n"
     ]
    },
    {
     "name": "stdout",
     "output_type": "stream",
     "text": [
      "Optimization terminated successfully.\n",
      "         Current function value: -1.421346\n",
      "         Iterations: 5\n",
      "         Function evaluations: 717\n"
     ]
    },
    {
     "name": "stderr",
     "output_type": "stream",
     "text": [
      "\u001b[32m[I 2022-03-09 21:43:00,859]\u001b[0m Trial 45 finished with value: 0.8412592565344551 and parameters: {'p': 1, 'd': 0, 'q': 6, 'P': 0, 'D': 1, 'Q': 1}. Best is trial 14 with value: 0.8462643071362471.\u001b[0m\n"
     ]
    },
    {
     "name": "stdout",
     "output_type": "stream",
     "text": [
      "Optimization terminated successfully.\n",
      "         Current function value: -1.595170\n",
      "         Iterations: 3\n",
      "         Function evaluations: 354\n"
     ]
    },
    {
     "name": "stderr",
     "output_type": "stream",
     "text": [
      "\u001b[32m[I 2022-03-09 21:43:02,384]\u001b[0m Trial 46 finished with value: 0.8404006536434973 and parameters: {'p': 3, 'd': 0, 'q': 2, 'P': 0, 'D': 1, 'Q': 1}. Best is trial 14 with value: 0.8462643071362471.\u001b[0m\n"
     ]
    },
    {
     "name": "stdout",
     "output_type": "stream",
     "text": [
      "Optimization terminated successfully.\n",
      "         Current function value: -1.612395\n",
      "         Iterations: 3\n",
      "         Function evaluations: 256\n",
      "Optimization terminated successfully.\n",
      "         Current function value: -1.584909\n",
      "         Iterations: 3\n",
      "         Function evaluations: 418\n"
     ]
    },
    {
     "name": "stderr",
     "output_type": "stream",
     "text": [
      "\u001b[32m[I 2022-03-09 21:43:05,469]\u001b[0m Trial 47 finished with value: 0.8404401167959796 and parameters: {'p': 1, 'd': 0, 'q': 8, 'P': 0, 'D': 1, 'Q': 1}. Best is trial 14 with value: 0.8462643071362471.\u001b[0m\n",
      "\u001b[32m[I 2022-03-09 21:43:06,123]\u001b[0m Trial 48 finished with value: 0.8371286179941877 and parameters: {'p': 2, 'd': 0, 'q': 6, 'P': 1, 'D': 1, 'Q': 0}. Best is trial 14 with value: 0.8462643071362471.\u001b[0m\n"
     ]
    },
    {
     "name": "stdout",
     "output_type": "stream",
     "text": [
      "Optimization terminated successfully.\n",
      "         Current function value: -1.534558\n",
      "         Iterations: 2\n",
      "         Function evaluations: 248\n",
      "Optimization terminated successfully.\n",
      "         Current function value: -1.544124\n",
      "         Iterations: 8\n",
      "         Function evaluations: 1735\n"
     ]
    },
    {
     "name": "stderr",
     "output_type": "stream",
     "text": [
      "\u001b[32m[I 2022-03-09 21:43:23,506]\u001b[0m Trial 49 finished with value: 0.8394753470728316 and parameters: {'p': 7, 'd': 0, 'q': 8, 'P': 0, 'D': 1, 'Q': 2}. Best is trial 14 with value: 0.8462643071362471.\u001b[0m\n",
      "\u001b[32m[I 2022-03-09 21:43:23,550]\u001b[0m A new study created in memory with name: no-name-3ba753b6-d551-472a-a6d1-b8f6b1cd3f6f\u001b[0m\n",
      "\u001b[32m[I 2022-03-09 21:43:29,603]\u001b[0m Trial 0 finished with value: 0.7389505700261918 and parameters: {'p': 8, 'd': 1, 'q': 4, 'P': 1, 'D': 0, 'Q': 1}. Best is trial 0 with value: 0.7389505700261918.\u001b[0m\n"
     ]
    },
    {
     "name": "stdout",
     "output_type": "stream",
     "text": [
      "Optimization terminated successfully.\n",
      "         Current function value: -1.563219\n",
      "         Iterations: 8\n",
      "         Function evaluations: 1407\n",
      "Optimization terminated successfully.\n",
      "         Current function value: -1.432175\n",
      "         Iterations: 6\n",
      "         Function evaluations: 636\n"
     ]
    },
    {
     "name": "stderr",
     "output_type": "stream",
     "text": [
      "\u001b[32m[I 2022-03-09 21:43:36,662]\u001b[0m Trial 1 finished with value: 0.7425747301668393 and parameters: {'p': 2, 'd': 1, 'q': 2, 'P': 0, 'D': 1, 'Q': 3}. Best is trial 1 with value: 0.7425747301668393.\u001b[0m\n"
     ]
    },
    {
     "name": "stdout",
     "output_type": "stream",
     "text": [
      "Optimization terminated successfully.\n",
      "         Current function value: -1.440229\n",
      "         Iterations: 9\n",
      "         Function evaluations: 1330\n"
     ]
    },
    {
     "name": "stderr",
     "output_type": "stream",
     "text": [
      "\u001b[32m[I 2022-03-09 21:43:52,483]\u001b[0m Trial 2 finished with value: 0.7488451107655814 and parameters: {'p': 8, 'd': 1, 'q': 1, 'P': 0, 'D': 1, 'Q': 3}. Best is trial 2 with value: 0.7488451107655814.\u001b[0m\n"
     ]
    },
    {
     "name": "stdout",
     "output_type": "stream",
     "text": [
      "Optimization terminated successfully.\n",
      "         Current function value: -1.422120\n",
      "         Iterations: 9\n",
      "         Function evaluations: 1581\n"
     ]
    },
    {
     "name": "stderr",
     "output_type": "stream",
     "text": [
      "\u001b[32m[I 2022-03-09 21:44:12,496]\u001b[0m Trial 3 finished with value: 0.7448012760713079 and parameters: {'p': 2, 'd': 1, 'q': 6, 'P': 2, 'D': 1, 'Q': 3}. Best is trial 2 with value: 0.7488451107655814.\u001b[0m\n"
     ]
    },
    {
     "name": "stdout",
     "output_type": "stream",
     "text": [
      "Optimization terminated successfully.\n",
      "         Current function value: -1.527598\n",
      "         Iterations: 22\n",
      "         Function evaluations: 3795\n"
     ]
    },
    {
     "name": "stderr",
     "output_type": "stream",
     "text": [
      "\u001b[32m[I 2022-03-09 21:44:34,540]\u001b[0m Trial 4 finished with value: 0.7297372731624128 and parameters: {'p': 8, 'd': 0, 'q': 3, 'P': 1, 'D': 0, 'Q': 2}. Best is trial 2 with value: 0.7488451107655814.\u001b[0m\n",
      "\u001b[32m[I 2022-03-09 21:44:35,140]\u001b[0m Trial 5 finished with value: 0.059989913817004026 and parameters: {'p': 1, 'd': 1, 'q': 1, 'P': 0, 'D': 0, 'Q': 1}. Best is trial 2 with value: 0.7488451107655814.\u001b[0m\n"
     ]
    },
    {
     "name": "stdout",
     "output_type": "stream",
     "text": [
      "Optimization terminated successfully.\n",
      "         Current function value: -1.334427\n",
      "         Iterations: 7\n",
      "         Function evaluations: 395\n",
      "Optimization terminated successfully.\n",
      "         Current function value: -1.452332\n",
      "         Iterations: 6\n",
      "         Function evaluations: 813\n"
     ]
    },
    {
     "name": "stderr",
     "output_type": "stream",
     "text": [
      "\u001b[32m[I 2022-03-09 21:44:40,222]\u001b[0m Trial 6 finished with value: 0.7188347638849533 and parameters: {'p': 4, 'd': 0, 'q': 4, 'P': 3, 'D': 0, 'Q': 0}. Best is trial 2 with value: 0.7488451107655814.\u001b[0m\n"
     ]
    },
    {
     "name": "stdout",
     "output_type": "stream",
     "text": [
      "Optimization terminated successfully.\n",
      "         Current function value: -1.448246\n",
      "         Iterations: 9\n",
      "         Function evaluations: 1240\n"
     ]
    },
    {
     "name": "stderr",
     "output_type": "stream",
     "text": [
      "\u001b[32m[I 2022-03-09 21:44:48,556]\u001b[0m Trial 7 finished with value: 0.7280496508175436 and parameters: {'p': 4, 'd': 0, 'q': 2, 'P': 3, 'D': 1, 'Q': 1}. Best is trial 2 with value: 0.7488451107655814.\u001b[0m\n"
     ]
    },
    {
     "name": "stdout",
     "output_type": "stream",
     "text": [
      "Optimization terminated successfully.\n",
      "         Current function value: -1.441308\n",
      "         Iterations: 20\n",
      "         Function evaluations: 4221\n"
     ]
    },
    {
     "name": "stderr",
     "output_type": "stream",
     "text": [
      "\u001b[32m[I 2022-03-09 21:45:29,916]\u001b[0m Trial 8 finished with value: 0.7356616753030776 and parameters: {'p': 7, 'd': 0, 'q': 5, 'P': 3, 'D': 1, 'Q': 1}. Best is trial 2 with value: 0.7488451107655814.\u001b[0m\n"
     ]
    },
    {
     "name": "stdout",
     "output_type": "stream",
     "text": [
      "Optimization terminated successfully.\n",
      "         Current function value: -1.441367\n",
      "         Iterations: 8\n",
      "         Function evaluations: 1709\n"
     ]
    },
    {
     "name": "stderr",
     "output_type": "stream",
     "text": [
      "\u001b[32m[I 2022-03-09 21:45:52,254]\u001b[0m Trial 9 finished with value: 0.7231667134954497 and parameters: {'p': 5, 'd': 1, 'q': 7, 'P': 3, 'D': 1, 'Q': 2}. Best is trial 2 with value: 0.7488451107655814.\u001b[0m\n"
     ]
    },
    {
     "name": "stdout",
     "output_type": "stream",
     "text": [
      "Optimization terminated successfully.\n",
      "         Current function value: -1.373416\n",
      "         Iterations: 6\n",
      "         Function evaluations: 714\n"
     ]
    },
    {
     "name": "stderr",
     "output_type": "stream",
     "text": [
      "\u001b[32m[I 2022-03-09 21:45:59,935]\u001b[0m Trial 10 finished with value: 0.7286156381158395 and parameters: {'p': 6, 'd': 1, 'q': 0, 'P': 0, 'D': 1, 'Q': 3}. Best is trial 2 with value: 0.7488451107655814.\u001b[0m\n"
     ]
    },
    {
     "name": "stdout",
     "output_type": "stream",
     "text": [
      "Optimization terminated successfully.\n",
      "         Current function value: -1.413952\n",
      "         Iterations: 9\n",
      "         Function evaluations: 1558\n"
     ]
    },
    {
     "name": "stderr",
     "output_type": "stream",
     "text": [
      "\u001b[32m[I 2022-03-09 21:46:25,501]\u001b[0m Trial 11 finished with value: 0.745673900828904 and parameters: {'p': 0, 'd': 1, 'q': 7, 'P': 2, 'D': 1, 'Q': 3}. Best is trial 2 with value: 0.7488451107655814.\u001b[0m\n"
     ]
    },
    {
     "name": "stdout",
     "output_type": "stream",
     "text": [
      "Optimization terminated successfully.\n",
      "         Current function value: -1.412443\n",
      "         Iterations: 5\n",
      "         Function evaluations: 964\n"
     ]
    },
    {
     "name": "stderr",
     "output_type": "stream",
     "text": [
      "\u001b[32m[I 2022-03-09 21:46:40,516]\u001b[0m Trial 12 finished with value: 0.7462606709425879 and parameters: {'p': 0, 'd': 1, 'q': 8, 'P': 2, 'D': 1, 'Q': 3}. Best is trial 2 with value: 0.7488451107655814.\u001b[0m\n"
     ]
    },
    {
     "name": "stdout",
     "output_type": "stream",
     "text": [
      "Optimization terminated successfully.\n",
      "         Current function value: -1.469472\n",
      "         Iterations: 5\n",
      "         Function evaluations: 924\n"
     ]
    },
    {
     "name": "stderr",
     "output_type": "stream",
     "text": [
      "\u001b[32m[I 2022-03-09 21:46:50,625]\u001b[0m Trial 13 finished with value: 0.7396200681845592 and parameters: {'p': 3, 'd': 1, 'q': 8, 'P': 1, 'D': 1, 'Q': 2}. Best is trial 2 with value: 0.7488451107655814.\u001b[0m\n"
     ]
    },
    {
     "name": "stdout",
     "output_type": "stream",
     "text": [
      "Optimization terminated successfully.\n",
      "         Current function value: -1.417497\n",
      "         Iterations: 10\n",
      "         Function evaluations: 2293\n"
     ]
    },
    {
     "name": "stderr",
     "output_type": "stream",
     "text": [
      "\u001b[32m[I 2022-03-09 21:47:26,094]\u001b[0m Trial 14 finished with value: 0.740135837782892 and parameters: {'p': 6, 'd': 1, 'q': 8, 'P': 2, 'D': 1, 'Q': 3}. Best is trial 2 with value: 0.7488451107655814.\u001b[0m\n",
      "\u001b[32m[I 2022-03-09 21:47:27,103]\u001b[0m Trial 15 finished with value: 0.7480482588173463 and parameters: {'p': 0, 'd': 1, 'q': 0, 'P': 1, 'D': 1, 'Q': 2}. Best is trial 2 with value: 0.7488451107655814.\u001b[0m\n"
     ]
    },
    {
     "name": "stdout",
     "output_type": "stream",
     "text": [
      "Optimization terminated successfully.\n",
      "         Current function value: -1.257670\n",
      "         Iterations: 2\n",
      "         Function evaluations: 115\n"
     ]
    },
    {
     "name": "stderr",
     "output_type": "stream",
     "text": [
      "\u001b[32m[I 2022-03-09 21:47:28,921]\u001b[0m Trial 16 finished with value: 0.7154492797053675 and parameters: {'p': 3, 'd': 1, 'q': 0, 'P': 0, 'D': 1, 'Q': 2}. Best is trial 2 with value: 0.7488451107655814.\u001b[0m\n"
     ]
    },
    {
     "name": "stdout",
     "output_type": "stream",
     "text": [
      "Optimization terminated successfully.\n",
      "         Current function value: -1.400083\n",
      "         Iterations: 3\n",
      "         Function evaluations: 234\n"
     ]
    },
    {
     "name": "stderr",
     "output_type": "stream",
     "text": [
      "\u001b[32m[I 2022-03-09 21:47:31,381]\u001b[0m Trial 17 finished with value: 0.7406503647687934 and parameters: {'p': 6, 'd': 0, 'q': 1, 'P': 1, 'D': 0, 'Q': 2}. Best is trial 2 with value: 0.7488451107655814.\u001b[0m\n"
     ]
    },
    {
     "name": "stdout",
     "output_type": "stream",
     "text": [
      "Optimization terminated successfully.\n",
      "         Current function value: -1.547586\n",
      "         Iterations: 4\n",
      "         Function evaluations: 480\n"
     ]
    },
    {
     "name": "stderr",
     "output_type": "stream",
     "text": [
      "\u001b[32m[I 2022-03-09 21:47:31,683]\u001b[0m Trial 18 finished with value: 0.702491999012569 and parameters: {'p': 1, 'd': 1, 'q': 1, 'P': 0, 'D': 1, 'Q': 0}. Best is trial 2 with value: 0.7488451107655814.\u001b[0m\n"
     ]
    },
    {
     "name": "stdout",
     "output_type": "stream",
     "text": [
      "Optimization terminated successfully.\n",
      "         Current function value: -1.367812\n",
      "         Iterations: 3\n",
      "         Function evaluations: 151\n"
     ]
    },
    {
     "name": "stderr",
     "output_type": "stream",
     "text": [
      "\u001b[32m[I 2022-03-09 21:47:34,497]\u001b[0m Trial 19 finished with value: 0.7176531794849834 and parameters: {'p': 5, 'd': 1, 'q': 0, 'P': 1, 'D': 1, 'Q': 2}. Best is trial 2 with value: 0.7488451107655814.\u001b[0m\n"
     ]
    },
    {
     "name": "stdout",
     "output_type": "stream",
     "text": [
      "Optimization terminated successfully.\n",
      "         Current function value: -1.420682\n",
      "         Iterations: 4\n",
      "         Function evaluations: 402\n",
      "Optimization terminated successfully.\n",
      "         Current function value: -1.291915\n",
      "         Iterations: 7\n",
      "         Function evaluations: 1005\n"
     ]
    },
    {
     "name": "stderr",
     "output_type": "stream",
     "text": [
      "\u001b[32m[I 2022-03-09 21:47:42,211]\u001b[0m Trial 20 finished with value: 0.332121712083029 and parameters: {'p': 7, 'd': 0, 'q': 2, 'P': 0, 'D': 0, 'Q': 3}. Best is trial 2 with value: 0.7488451107655814.\u001b[0m\n"
     ]
    },
    {
     "name": "stdout",
     "output_type": "stream",
     "text": [
      "Optimization terminated successfully.\n",
      "         Current function value: -1.434821\n",
      "         Iterations: 6\n",
      "         Function evaluations: 709\n"
     ]
    },
    {
     "name": "stderr",
     "output_type": "stream",
     "text": [
      "\u001b[32m[I 2022-03-09 21:47:51,656]\u001b[0m Trial 21 finished with value: 0.7459332659102687 and parameters: {'p': 0, 'd': 1, 'q': 3, 'P': 2, 'D': 1, 'Q': 3}. Best is trial 2 with value: 0.7488451107655814.\u001b[0m\n"
     ]
    },
    {
     "name": "stdout",
     "output_type": "stream",
     "text": [
      "Optimization terminated successfully.\n",
      "         Current function value: -1.429424\n",
      "         Iterations: 10\n",
      "         Function evaluations: 1671\n"
     ]
    },
    {
     "name": "stderr",
     "output_type": "stream",
     "text": [
      "\u001b[32m[I 2022-03-09 21:48:16,220]\u001b[0m Trial 22 finished with value: 0.7420699952870459 and parameters: {'p': 1, 'd': 1, 'q': 5, 'P': 2, 'D': 1, 'Q': 3}. Best is trial 2 with value: 0.7488451107655814.\u001b[0m\n",
      "\u001b[32m[I 2022-03-09 21:48:18,096]\u001b[0m Trial 23 finished with value: 0.7406255451159444 and parameters: {'p': 0, 'd': 1, 'q': 1, 'P': 1, 'D': 1, 'Q': 2}. Best is trial 2 with value: 0.7488451107655814.\u001b[0m\n"
     ]
    },
    {
     "name": "stdout",
     "output_type": "stream",
     "text": [
      "Optimization terminated successfully.\n",
      "         Current function value: -1.482442\n",
      "         Iterations: 3\n",
      "         Function evaluations: 204\n",
      "Optimization terminated successfully.\n",
      "         Current function value: -1.336557\n",
      "         Iterations: 4\n",
      "         Function evaluations: 385\n"
     ]
    },
    {
     "name": "stderr",
     "output_type": "stream",
     "text": [
      "\u001b[32m[I 2022-03-09 21:48:22,670]\u001b[0m Trial 24 finished with value: 0.7290007352151924 and parameters: {'p': 2, 'd': 1, 'q': 0, 'P': 2, 'D': 1, 'Q': 3}. Best is trial 2 with value: 0.7488451107655814.\u001b[0m\n"
     ]
    },
    {
     "name": "stdout",
     "output_type": "stream",
     "text": [
      "Optimization terminated successfully.\n",
      "         Current function value: -1.478924\n",
      "         Iterations: 5\n",
      "         Function evaluations: 531\n"
     ]
    },
    {
     "name": "stderr",
     "output_type": "stream",
     "text": [
      "\u001b[32m[I 2022-03-09 21:48:27,501]\u001b[0m Trial 25 finished with value: 0.7404877011455313 and parameters: {'p': 1, 'd': 1, 'q': 3, 'P': 1, 'D': 1, 'Q': 2}. Best is trial 2 with value: 0.7488451107655814.\u001b[0m\n"
     ]
    },
    {
     "name": "stdout",
     "output_type": "stream",
     "text": [
      "Optimization terminated successfully.\n",
      "         Current function value: -1.420076\n",
      "         Iterations: 7\n",
      "         Function evaluations: 1234\n"
     ]
    },
    {
     "name": "stderr",
     "output_type": "stream",
     "text": [
      "\u001b[32m[I 2022-03-09 21:48:44,656]\u001b[0m Trial 26 finished with value: 0.7455037786288576 and parameters: {'p': 3, 'd': 1, 'q': 6, 'P': 2, 'D': 1, 'Q': 3}. Best is trial 2 with value: 0.7488451107655814.\u001b[0m\n"
     ]
    },
    {
     "name": "stdout",
     "output_type": "stream",
     "text": [
      "Optimization terminated successfully.\n",
      "         Current function value: -1.437893\n",
      "         Iterations: 3\n",
      "         Function evaluations: 277\n"
     ]
    },
    {
     "name": "stderr",
     "output_type": "stream",
     "text": [
      "\u001b[32m[I 2022-03-09 21:48:48,220]\u001b[0m Trial 27 finished with value: 0.7457437306868416 and parameters: {'p': 0, 'd': 1, 'q': 2, 'P': 1, 'D': 1, 'Q': 3}. Best is trial 2 with value: 0.7488451107655814.\u001b[0m\n"
     ]
    },
    {
     "name": "stdout",
     "output_type": "stream",
     "text": [
      "Optimization terminated successfully.\n",
      "         Current function value: -1.490933\n",
      "         Iterations: 5\n",
      "         Function evaluations: 528\n"
     ]
    },
    {
     "name": "stderr",
     "output_type": "stream",
     "text": [
      "\u001b[32m[I 2022-03-09 21:48:52,637]\u001b[0m Trial 28 finished with value: 0.739811279956265 and parameters: {'p': 5, 'd': 1, 'q': 1, 'P': 0, 'D': 1, 'Q': 2}. Best is trial 2 with value: 0.7488451107655814.\u001b[0m\n",
      "\u001b[32m[I 2022-03-09 21:49:00,847]\u001b[0m Trial 29 finished with value: 0.7416867989679605 and parameters: {'p': 8, 'd': 1, 'q': 5, 'P': 1, 'D': 0, 'Q': 1}. Best is trial 2 with value: 0.7488451107655814.\u001b[0m\n"
     ]
    },
    {
     "name": "stdout",
     "output_type": "stream",
     "text": [
      "Optimization terminated successfully.\n",
      "         Current function value: -1.563203\n",
      "         Iterations: 10\n",
      "         Function evaluations: 1904\n"
     ]
    },
    {
     "name": "stderr",
     "output_type": "stream",
     "text": [
      "\u001b[32m[I 2022-03-09 21:49:02,317]\u001b[0m Trial 30 finished with value: 0.7425905115412491 and parameters: {'p': 2, 'd': 1, 'q': 3, 'P': 1, 'D': 1, 'Q': 0}. Best is trial 2 with value: 0.7488451107655814.\u001b[0m\n"
     ]
    },
    {
     "name": "stdout",
     "output_type": "stream",
     "text": [
      "Optimization terminated successfully.\n",
      "         Current function value: -1.465089\n",
      "         Iterations: 3\n",
      "         Function evaluations: 279\n",
      "Optimization terminated successfully.\n",
      "         Current function value: -1.434821\n",
      "         Iterations: 6\n",
      "         Function evaluations: 709\n"
     ]
    },
    {
     "name": "stderr",
     "output_type": "stream",
     "text": [
      "\u001b[32m[I 2022-03-09 21:49:11,693]\u001b[0m Trial 31 finished with value: 0.7459332659102687 and parameters: {'p': 0, 'd': 1, 'q': 3, 'P': 2, 'D': 1, 'Q': 3}. Best is trial 2 with value: 0.7488451107655814.\u001b[0m\n"
     ]
    },
    {
     "name": "stdout",
     "output_type": "stream",
     "text": [
      "Optimization terminated successfully.\n",
      "         Current function value: -1.440179\n",
      "         Iterations: 6\n",
      "         Function evaluations: 618\n"
     ]
    },
    {
     "name": "stderr",
     "output_type": "stream",
     "text": [
      "\u001b[32m[I 2022-03-09 21:49:19,364]\u001b[0m Trial 32 finished with value: 0.7460279417302311 and parameters: {'p': 0, 'd': 1, 'q': 2, 'P': 2, 'D': 1, 'Q': 3}. Best is trial 2 with value: 0.7488451107655814.\u001b[0m\n"
     ]
    },
    {
     "name": "stdout",
     "output_type": "stream",
     "text": [
      "Optimization terminated successfully.\n",
      "         Current function value: -1.439372\n",
      "         Iterations: 6\n",
      "         Function evaluations: 676\n"
     ]
    },
    {
     "name": "stderr",
     "output_type": "stream",
     "text": [
      "\u001b[32m[I 2022-03-09 21:49:27,625]\u001b[0m Trial 33 finished with value: 0.7440533451114357 and parameters: {'p': 1, 'd': 1, 'q': 2, 'P': 2, 'D': 1, 'Q': 3}. Best is trial 2 with value: 0.7488451107655814.\u001b[0m\n"
     ]
    },
    {
     "name": "stdout",
     "output_type": "stream",
     "text": [
      "Optimization terminated successfully.\n",
      "         Current function value: -1.221345\n",
      "         Iterations: 9\n",
      "         Function evaluations: 672\n"
     ]
    },
    {
     "name": "stderr",
     "output_type": "stream",
     "text": [
      "\u001b[32m[I 2022-03-09 21:49:35,421]\u001b[0m Trial 34 finished with value: 0.7106347491475411 and parameters: {'p': 0, 'd': 1, 'q': 0, 'P': 2, 'D': 1, 'Q': 3}. Best is trial 2 with value: 0.7488451107655814.\u001b[0m\n"
     ]
    },
    {
     "name": "stdout",
     "output_type": "stream",
     "text": [
      "Optimization terminated successfully.\n",
      "         Current function value: -1.442876\n",
      "         Iterations: 6\n",
      "         Function evaluations: 653\n"
     ]
    },
    {
     "name": "stderr",
     "output_type": "stream",
     "text": [
      "\u001b[32m[I 2022-03-09 21:49:44,223]\u001b[0m Trial 35 finished with value: 0.7458639273339992 and parameters: {'p': 2, 'd': 1, 'q': 1, 'P': 2, 'D': 1, 'Q': 3}. Best is trial 2 with value: 0.7488451107655814.\u001b[0m\n",
      "\u001b[32m[I 2022-03-09 21:49:46,351]\u001b[0m Trial 36 finished with value: 0.73825224812756 and parameters: {'p': 1, 'd': 1, 'q': 2, 'P': 0, 'D': 1, 'Q': 2}. Best is trial 2 with value: 0.7488451107655814.\u001b[0m\n"
     ]
    },
    {
     "name": "stdout",
     "output_type": "stream",
     "text": [
      "Optimization terminated successfully.\n",
      "         Current function value: -1.483235\n",
      "         Iterations: 3\n",
      "         Function evaluations: 253\n",
      "Optimization terminated successfully.\n",
      "         Current function value: -1.475061\n",
      "         Iterations: 7\n",
      "         Function evaluations: 1047\n"
     ]
    },
    {
     "name": "stderr",
     "output_type": "stream",
     "text": [
      "\u001b[32m[I 2022-03-09 21:49:56,061]\u001b[0m Trial 37 finished with value: 0.7400267574670749 and parameters: {'p': 1, 'd': 1, 'q': 4, 'P': 3, 'D': 0, 'Q': 3}. Best is trial 2 with value: 0.7488451107655814.\u001b[0m\n",
      "\u001b[32m[I 2022-03-09 21:49:57,939]\u001b[0m Trial 38 finished with value: 0.7416441207289552 and parameters: {'p': 2, 'd': 0, 'q': 1, 'P': 1, 'D': 1, 'Q': 2}. Best is trial 2 with value: 0.7488451107655814.\u001b[0m\n"
     ]
    },
    {
     "name": "stdout",
     "output_type": "stream",
     "text": [
      "Optimization terminated successfully.\n",
      "         Current function value: -1.501528\n",
      "         Iterations: 3\n",
      "         Function evaluations: 262\n",
      "Optimization terminated successfully.\n",
      "         Current function value: -1.411027\n",
      "         Iterations: 13\n",
      "         Function evaluations: 2614\n"
     ]
    },
    {
     "name": "stderr",
     "output_type": "stream",
     "text": [
      "\u001b[32m[I 2022-03-09 21:50:23,727]\u001b[0m Trial 39 finished with value: 0.7433051496396266 and parameters: {'p': 7, 'd': 1, 'q': 4, 'P': 3, 'D': 1, 'Q': 1}. Best is trial 2 with value: 0.7488451107655814.\u001b[0m\n"
     ]
    },
    {
     "name": "stdout",
     "output_type": "stream",
     "text": [
      "Optimization terminated successfully.\n",
      "         Current function value: -1.447059\n",
      "         Iterations: 16\n",
      "         Function evaluations: 3724\n"
     ]
    },
    {
     "name": "stderr",
     "output_type": "stream",
     "text": [
      "\u001b[32m[I 2022-03-09 21:51:17,248]\u001b[0m Trial 40 finished with value: 0.738089763286609 and parameters: {'p': 8, 'd': 0, 'q': 6, 'P': 2, 'D': 1, 'Q': 3}. Best is trial 2 with value: 0.7488451107655814.\u001b[0m\n"
     ]
    },
    {
     "name": "stdout",
     "output_type": "stream",
     "text": [
      "Optimization terminated successfully.\n",
      "         Current function value: -1.440179\n",
      "         Iterations: 6\n",
      "         Function evaluations: 618\n"
     ]
    },
    {
     "name": "stderr",
     "output_type": "stream",
     "text": [
      "\u001b[32m[I 2022-03-09 21:51:24,804]\u001b[0m Trial 41 finished with value: 0.7460279417302311 and parameters: {'p': 0, 'd': 1, 'q': 2, 'P': 2, 'D': 1, 'Q': 3}. Best is trial 2 with value: 0.7488451107655814.\u001b[0m\n"
     ]
    },
    {
     "name": "stdout",
     "output_type": "stream",
     "text": [
      "Optimization terminated successfully.\n",
      "         Current function value: -1.440179\n",
      "         Iterations: 6\n",
      "         Function evaluations: 618\n"
     ]
    },
    {
     "name": "stderr",
     "output_type": "stream",
     "text": [
      "\u001b[32m[I 2022-03-09 21:51:32,571]\u001b[0m Trial 42 finished with value: 0.7460279417302311 and parameters: {'p': 0, 'd': 1, 'q': 2, 'P': 2, 'D': 1, 'Q': 3}. Best is trial 2 with value: 0.7488451107655814.\u001b[0m\n"
     ]
    },
    {
     "name": "stdout",
     "output_type": "stream",
     "text": [
      "Optimization terminated successfully.\n",
      "         Current function value: -1.221345\n",
      "         Iterations: 9\n",
      "         Function evaluations: 672\n"
     ]
    },
    {
     "name": "stderr",
     "output_type": "stream",
     "text": [
      "\u001b[32m[I 2022-03-09 21:51:40,474]\u001b[0m Trial 43 finished with value: 0.7106347491475411 and parameters: {'p': 0, 'd': 1, 'q': 0, 'P': 2, 'D': 1, 'Q': 3}. Best is trial 2 with value: 0.7488451107655814.\u001b[0m\n"
     ]
    },
    {
     "name": "stdout",
     "output_type": "stream",
     "text": [
      "Optimization terminated successfully.\n",
      "         Current function value: -1.447477\n",
      "         Iterations: 6\n",
      "         Function evaluations: 640\n"
     ]
    },
    {
     "name": "stderr",
     "output_type": "stream",
     "text": [
      "\u001b[32m[I 2022-03-09 21:51:48,692]\u001b[0m Trial 44 finished with value: 0.7322893333530094 and parameters: {'p': 1, 'd': 1, 'q': 1, 'P': 3, 'D': 1, 'Q': 3}. Best is trial 2 with value: 0.7488451107655814.\u001b[0m\n"
     ]
    },
    {
     "name": "stdout",
     "output_type": "stream",
     "text": [
      "Optimization terminated successfully.\n",
      "         Current function value: -1.413952\n",
      "         Iterations: 9\n",
      "         Function evaluations: 1558\n"
     ]
    },
    {
     "name": "stderr",
     "output_type": "stream",
     "text": [
      "\u001b[32m[I 2022-03-09 21:52:12,898]\u001b[0m Trial 45 finished with value: 0.745673900828904 and parameters: {'p': 0, 'd': 1, 'q': 7, 'P': 2, 'D': 1, 'Q': 3}. Best is trial 2 with value: 0.7488451107655814.\u001b[0m\n"
     ]
    },
    {
     "name": "stdout",
     "output_type": "stream",
     "text": [
      "Optimization terminated successfully.\n",
      "         Current function value: -1.439899\n",
      "         Iterations: 11\n",
      "         Function evaluations: 1680\n"
     ]
    },
    {
     "name": "stderr",
     "output_type": "stream",
     "text": [
      "\u001b[32m[I 2022-03-09 21:52:33,097]\u001b[0m Trial 46 finished with value: 0.7482455466427418 and parameters: {'p': 4, 'd': 1, 'q': 2, 'P': 2, 'D': 1, 'Q': 3}. Best is trial 2 with value: 0.7488451107655814.\u001b[0m\n"
     ]
    },
    {
     "name": "stdout",
     "output_type": "stream",
     "text": [
      "Optimization terminated successfully.\n",
      "         Current function value: -1.478055\n",
      "         Iterations: 4\n",
      "         Function evaluations: 496\n"
     ]
    },
    {
     "name": "stderr",
     "output_type": "stream",
     "text": [
      "\u001b[32m[I 2022-03-09 21:52:37,752]\u001b[0m Trial 47 finished with value: 0.7428529129021912 and parameters: {'p': 4, 'd': 1, 'q': 3, 'P': 0, 'D': 1, 'Q': 2}. Best is trial 2 with value: 0.7488451107655814.\u001b[0m\n"
     ]
    },
    {
     "name": "stdout",
     "output_type": "stream",
     "text": [
      "Optimization terminated successfully.\n",
      "         Current function value: -1.439415\n",
      "         Iterations: 6\n",
      "         Function evaluations: 671\n"
     ]
    },
    {
     "name": "stderr",
     "output_type": "stream",
     "text": [
      "\u001b[32m[I 2022-03-09 21:52:46,182]\u001b[0m Trial 48 finished with value: 0.7460691286418628 and parameters: {'p': 3, 'd': 1, 'q': 1, 'P': 1, 'D': 1, 'Q': 3}. Best is trial 2 with value: 0.7488451107655814.\u001b[0m\n",
      "\u001b[32m[I 2022-03-09 21:52:49,389]\u001b[0m Trial 49 finished with value: 0.6807615344152292 and parameters: {'p': 4, 'd': 1, 'q': 0, 'P': 1, 'D': 0, 'Q': 2}. Best is trial 2 with value: 0.7488451107655814.\u001b[0m\n",
      "\u001b[32m[I 2022-03-09 21:52:49,429]\u001b[0m A new study created in memory with name: no-name-d82f4e12-68da-4854-87f7-77343a372074\u001b[0m\n"
     ]
    },
    {
     "name": "stdout",
     "output_type": "stream",
     "text": [
      "Optimization terminated successfully.\n",
      "         Current function value: -1.455076\n",
      "         Iterations: 7\n",
      "         Function evaluations: 665\n"
     ]
    },
    {
     "name": "stderr",
     "output_type": "stream",
     "text": [
      "\u001b[32m[I 2022-03-09 21:52:51,331]\u001b[0m Trial 0 finished with value: 0.6635565106392913 and parameters: {'p': 4, 'd': 0, 'q': 0, 'P': 1, 'D': 1, 'Q': 1}. Best is trial 0 with value: 0.6635565106392913.\u001b[0m\n"
     ]
    },
    {
     "name": "stdout",
     "output_type": "stream",
     "text": [
      "Optimization terminated successfully.\n",
      "         Current function value: -1.472086\n",
      "         Iterations: 4\n",
      "         Function evaluations: 357\n",
      "Optimization terminated successfully.\n",
      "         Current function value: -1.387634\n",
      "         Iterations: 9\n",
      "         Function evaluations: 1447\n"
     ]
    },
    {
     "name": "stderr",
     "output_type": "stream",
     "text": [
      "\u001b[32m[I 2022-03-09 21:53:10,884]\u001b[0m Trial 1 finished with value: 0.6263585965498472 and parameters: {'p': 5, 'd': 1, 'q': 3, 'P': 1, 'D': 1, 'Q': 3}. Best is trial 0 with value: 0.6635565106392913.\u001b[0m\n"
     ]
    },
    {
     "name": "stdout",
     "output_type": "stream",
     "text": [
      "Optimization terminated successfully.\n",
      "         Current function value: -1.378235\n",
      "         Iterations: 14\n",
      "         Function evaluations: 2725\n"
     ]
    },
    {
     "name": "stderr",
     "output_type": "stream",
     "text": [
      "\u001b[32m[I 2022-03-09 21:53:44,454]\u001b[0m Trial 2 finished with value: 0.6558218522294201 and parameters: {'p': 5, 'd': 0, 'q': 5, 'P': 3, 'D': 1, 'Q': 3}. Best is trial 0 with value: 0.6635565106392913.\u001b[0m\n",
      "\u001b[32m[I 2022-03-09 21:53:50,106]\u001b[0m Trial 3 finished with value: 0.6353249250899742 and parameters: {'p': 1, 'd': 1, 'q': 1, 'P': 3, 'D': 0, 'Q': 3}. Best is trial 0 with value: 0.6635565106392913.\u001b[0m\n"
     ]
    },
    {
     "name": "stdout",
     "output_type": "stream",
     "text": [
      "Optimization terminated successfully.\n",
      "         Current function value: -1.437895\n",
      "         Iterations: 6\n",
      "         Function evaluations: 638\n",
      "Optimization terminated successfully.\n",
      "         Current function value: -1.341721\n",
      "         Iterations: 6\n",
      "         Function evaluations: 1199\n"
     ]
    },
    {
     "name": "stderr",
     "output_type": "stream",
     "text": [
      "\u001b[32m[I 2022-03-09 21:53:59,679]\u001b[0m Trial 4 finished with value: 0.6418681329758349 and parameters: {'p': 7, 'd': 1, 'q': 7, 'P': 2, 'D': 1, 'Q': 0}. Best is trial 0 with value: 0.6635565106392913.\u001b[0m\n"
     ]
    },
    {
     "name": "stdout",
     "output_type": "stream",
     "text": [
      "Optimization terminated successfully.\n",
      "         Current function value: -1.378155\n",
      "         Iterations: 11\n",
      "         Function evaluations: 2266\n"
     ]
    },
    {
     "name": "stderr",
     "output_type": "stream",
     "text": [
      "\u001b[32m[I 2022-03-09 21:54:31,103]\u001b[0m Trial 5 finished with value: 0.6636128331293151 and parameters: {'p': 4, 'd': 0, 'q': 7, 'P': 2, 'D': 1, 'Q': 3}. Best is trial 5 with value: 0.6636128331293151.\u001b[0m\n",
      "\u001b[32m[I 2022-03-09 21:54:31,902]\u001b[0m Trial 6 finished with value: 0.6571312339053091 and parameters: {'p': 0, 'd': 0, 'q': 5, 'P': 2, 'D': 0, 'Q': 0}. Best is trial 5 with value: 0.6636128331293151.\u001b[0m\n"
     ]
    },
    {
     "name": "stdout",
     "output_type": "stream",
     "text": [
      "Optimization terminated successfully.\n",
      "         Current function value: -1.393664\n",
      "         Iterations: 4\n",
      "         Function evaluations: 384\n",
      "Optimization terminated successfully.\n",
      "         Current function value: -1.462873\n",
      "         Iterations: 22\n",
      "         Function evaluations: 4788\n"
     ]
    },
    {
     "name": "stderr",
     "output_type": "stream",
     "text": [
      "\u001b[32m[I 2022-03-09 21:55:06,783]\u001b[0m Trial 7 finished with value: 0.6194486622910549 and parameters: {'p': 5, 'd': 0, 'q': 8, 'P': 1, 'D': 0, 'Q': 2}. Best is trial 5 with value: 0.6636128331293151.\u001b[0m\n"
     ]
    },
    {
     "name": "stdout",
     "output_type": "stream",
     "text": [
      "Optimization terminated successfully.\n",
      "         Current function value: -1.384444\n",
      "         Iterations: 12\n",
      "         Function evaluations: 1880\n"
     ]
    },
    {
     "name": "stderr",
     "output_type": "stream",
     "text": [
      "\u001b[32m[I 2022-03-09 21:55:31,409]\u001b[0m Trial 8 finished with value: 0.5931119592528911 and parameters: {'p': 5, 'd': 1, 'q': 3, 'P': 3, 'D': 1, 'Q': 1}. Best is trial 5 with value: 0.6636128331293151.\u001b[0m\n",
      "\u001b[32m[I 2022-03-09 21:55:32,644]\u001b[0m Trial 9 finished with value: 0.6058236519707885 and parameters: {'p': 0, 'd': 0, 'q': 2, 'P': 2, 'D': 0, 'Q': 1}. Best is trial 5 with value: 0.6636128331293151.\u001b[0m\n"
     ]
    },
    {
     "name": "stdout",
     "output_type": "stream",
     "text": [
      "Optimization terminated successfully.\n",
      "         Current function value: -1.495720\n",
      "         Iterations: 4\n",
      "         Function evaluations: 283\n",
      "Optimization terminated successfully.\n",
      "         Current function value: -1.416285\n",
      "         Iterations: 4\n",
      "         Function evaluations: 543\n"
     ]
    },
    {
     "name": "stderr",
     "output_type": "stream",
     "text": [
      "\u001b[32m[I 2022-03-09 21:55:38,122]\u001b[0m Trial 10 finished with value: 0.662126996295213 and parameters: {'p': 2, 'd': 0, 'q': 6, 'P': 0, 'D': 1, 'Q': 2}. Best is trial 5 with value: 0.6636128331293151.\u001b[0m\n",
      "\u001b[32m[I 2022-03-09 21:55:39,228]\u001b[0m Trial 11 finished with value: 0.6727663919774031 and parameters: {'p': 2, 'd': 0, 'q': 1, 'P': 0, 'D': 1, 'Q': 1}. Best is trial 11 with value: 0.6727663919774031.\u001b[0m\n"
     ]
    },
    {
     "name": "stdout",
     "output_type": "stream",
     "text": [
      "Optimization terminated successfully.\n",
      "         Current function value: -1.481118\n",
      "         Iterations: 3\n",
      "         Function evaluations: 192\n"
     ]
    },
    {
     "name": "stderr",
     "output_type": "stream",
     "text": [
      "\u001b[32m[I 2022-03-09 21:55:41,646]\u001b[0m Trial 12 finished with value: 0.6625243372784622 and parameters: {'p': 3, 'd': 0, 'q': 0, 'P': 0, 'D': 1, 'Q': 2}. Best is trial 11 with value: 0.6727663919774031.\u001b[0m\n"
     ]
    },
    {
     "name": "stdout",
     "output_type": "stream",
     "text": [
      "Optimization terminated successfully.\n",
      "         Current function value: -1.444222\n",
      "         Iterations: 4\n",
      "         Function evaluations: 302\n",
      "Optimization terminated successfully.\n",
      "         Current function value: -1.490901\n",
      "         Iterations: 21\n",
      "         Function evaluations: 4599\n"
     ]
    },
    {
     "name": "stderr",
     "output_type": "stream",
     "text": [
      "\u001b[32m[I 2022-03-09 21:56:15,314]\u001b[0m Trial 13 finished with value: 0.6431456200941772 and parameters: {'p': 8, 'd': 0, 'q': 8, 'P': 0, 'D': 1, 'Q': 1}. Best is trial 11 with value: 0.6727663919774031.\u001b[0m\n"
     ]
    },
    {
     "name": "stdout",
     "output_type": "stream",
     "text": [
      "Optimization terminated successfully.\n",
      "         Current function value: -1.431660\n",
      "         Iterations: 13\n",
      "         Function evaluations: 1963\n"
     ]
    },
    {
     "name": "stderr",
     "output_type": "stream",
     "text": [
      "\u001b[32m[I 2022-03-09 21:56:33,140]\u001b[0m Trial 14 finished with value: 0.6618380969797526 and parameters: {'p': 3, 'd': 0, 'q': 4, 'P': 1, 'D': 1, 'Q': 2}. Best is trial 11 with value: 0.6727663919774031.\u001b[0m\n",
      "\u001b[32m[I 2022-03-09 21:56:34,147]\u001b[0m Trial 15 finished with value: 0.6559539392659715 and parameters: {'p': 2, 'd': 0, 'q': 6, 'P': 2, 'D': 1, 'Q': 0}. Best is trial 11 with value: 0.6727663919774031.\u001b[0m\n"
     ]
    },
    {
     "name": "stdout",
     "output_type": "stream",
     "text": [
      "Optimization terminated successfully.\n",
      "         Current function value: -1.373055\n",
      "         Iterations: 2\n",
      "         Function evaluations: 250\n",
      "Optimization terminated successfully.\n",
      "         Current function value: -1.379229\n",
      "         Iterations: 6\n",
      "         Function evaluations: 667\n"
     ]
    },
    {
     "name": "stderr",
     "output_type": "stream",
     "text": [
      "\u001b[32m[I 2022-03-09 21:56:42,327]\u001b[0m Trial 16 finished with value: 0.6579679362687971 and parameters: {'p': 3, 'd': 0, 'q': 2, 'P': 0, 'D': 1, 'Q': 3}. Best is trial 11 with value: 0.6727663919774031.\u001b[0m\n"
     ]
    },
    {
     "name": "stdout",
     "output_type": "stream",
     "text": [
      "Optimization terminated successfully.\n",
      "         Current function value: -1.461527\n",
      "         Iterations: 8\n",
      "         Function evaluations: 1336\n"
     ]
    },
    {
     "name": "stderr",
     "output_type": "stream",
     "text": [
      "\u001b[32m[I 2022-03-09 21:56:50,125]\u001b[0m Trial 17 finished with value: 0.6283809469642054 and parameters: {'p': 6, 'd': 1, 'q': 4, 'P': 1, 'D': 0, 'Q': 2}. Best is trial 11 with value: 0.6727663919774031.\u001b[0m\n",
      "\u001b[32m[I 2022-03-09 21:56:52,385]\u001b[0m Trial 18 finished with value: 0.6470172544256378 and parameters: {'p': 2, 'd': 0, 'q': 1, 'P': 2, 'D': 1, 'Q': 1}. Best is trial 11 with value: 0.6727663919774031.\u001b[0m\n"
     ]
    },
    {
     "name": "stdout",
     "output_type": "stream",
     "text": [
      "Optimization terminated successfully.\n",
      "         Current function value: -1.435396\n",
      "         Iterations: 4\n",
      "         Function evaluations: 341\n",
      "Optimization terminated successfully.\n",
      "         Current function value: -1.372521\n",
      "         Iterations: 3\n",
      "         Function evaluations: 507\n"
     ]
    },
    {
     "name": "stderr",
     "output_type": "stream",
     "text": [
      "\u001b[32m[I 2022-03-09 21:56:55,468]\u001b[0m Trial 19 finished with value: 0.6423431786931804 and parameters: {'p': 4, 'd': 0, 'q': 7, 'P': 3, 'D': 1, 'Q': 0}. Best is trial 11 with value: 0.6727663919774031.\u001b[0m\n"
     ]
    },
    {
     "name": "stdout",
     "output_type": "stream",
     "text": [
      "Optimization terminated successfully.\n",
      "         Current function value: -1.275252\n",
      "         Iterations: 6\n",
      "         Function evaluations: 632\n"
     ]
    },
    {
     "name": "stderr",
     "output_type": "stream",
     "text": [
      "\u001b[32m[I 2022-03-09 21:57:00,999]\u001b[0m Trial 20 finished with value: 0.23735830769435806 and parameters: {'p': 1, 'd': 1, 'q': 3, 'P': 0, 'D': 0, 'Q': 3}. Best is trial 11 with value: 0.6727663919774031.\u001b[0m\n",
      "\u001b[32m[I 2022-03-09 21:57:02,970]\u001b[0m Trial 21 finished with value: 0.6635565106392913 and parameters: {'p': 4, 'd': 0, 'q': 0, 'P': 1, 'D': 1, 'Q': 1}. Best is trial 11 with value: 0.6727663919774031.\u001b[0m\n"
     ]
    },
    {
     "name": "stdout",
     "output_type": "stream",
     "text": [
      "Optimization terminated successfully.\n",
      "         Current function value: -1.472086\n",
      "         Iterations: 4\n",
      "         Function evaluations: 357\n"
     ]
    },
    {
     "name": "stderr",
     "output_type": "stream",
     "text": [
      "\u001b[32m[I 2022-03-09 21:57:05,110]\u001b[0m Trial 22 finished with value: 0.6635643086626223 and parameters: {'p': 4, 'd': 0, 'q': 1, 'P': 1, 'D': 1, 'Q': 1}. Best is trial 11 with value: 0.6727663919774031.\u001b[0m\n"
     ]
    },
    {
     "name": "stdout",
     "output_type": "stream",
     "text": [
      "Optimization terminated successfully.\n",
      "         Current function value: -1.472071\n",
      "         Iterations: 4\n",
      "         Function evaluations: 405\n",
      "Optimization terminated successfully.\n",
      "         Current function value: -1.422783\n",
      "         Iterations: 5\n",
      "         Function evaluations: 698\n"
     ]
    },
    {
     "name": "stderr",
     "output_type": "stream",
     "text": [
      "\u001b[32m[I 2022-03-09 21:57:10,292]\u001b[0m Trial 23 finished with value: 0.6506187787260523 and parameters: {'p': 6, 'd': 0, 'q': 1, 'P': 2, 'D': 1, 'Q': 1}. Best is trial 11 with value: 0.6727663919774031.\u001b[0m\n",
      "\u001b[32m[I 2022-03-09 21:57:15,556]\u001b[0m Trial 24 finished with value: 0.6484311690784879 and parameters: {'p': 3, 'd': 0, 'q': 2, 'P': 0, 'D': 1, 'Q': 2}. Best is trial 11 with value: 0.6727663919774031.\u001b[0m\n"
     ]
    },
    {
     "name": "stdout",
     "output_type": "stream",
     "text": [
      "Optimization terminated successfully.\n",
      "         Current function value: -1.435378\n",
      "         Iterations: 6\n",
      "         Function evaluations: 614\n"
     ]
    },
    {
     "name": "stderr",
     "output_type": "stream",
     "text": [
      "\u001b[32m[I 2022-03-09 21:57:16,919]\u001b[0m Trial 25 finished with value: 0.6619834349646645 and parameters: {'p': 1, 'd': 0, 'q': 1, 'P': 1, 'D': 1, 'Q': 1}. Best is trial 11 with value: 0.6727663919774031.\u001b[0m\n"
     ]
    },
    {
     "name": "stdout",
     "output_type": "stream",
     "text": [
      "Optimization terminated successfully.\n",
      "         Current function value: -1.477305\n",
      "         Iterations: 4\n",
      "         Function evaluations: 266\n",
      "Optimization terminated successfully.\n",
      "         Current function value: -1.339223\n",
      "         Iterations: 37\n",
      "         Function evaluations: 6014\n"
     ]
    },
    {
     "name": "stderr",
     "output_type": "stream",
     "text": [
      "\u001b[32m[I 2022-03-09 21:58:06,700]\u001b[0m Trial 26 finished with value: 0.641905836165072 and parameters: {'p': 6, 'd': 0, 'q': 4, 'P': 2, 'D': 1, 'Q': 0}. Best is trial 11 with value: 0.6727663919774031.\u001b[0m\n",
      "\u001b[32m[I 2022-03-09 21:58:09,491]\u001b[0m Trial 27 finished with value: 0.6688905074480933 and parameters: {'p': 2, 'd': 0, 'q': 2, 'P': 1, 'D': 1, 'Q': 2}. Best is trial 11 with value: 0.6727663919774031.\u001b[0m\n"
     ]
    },
    {
     "name": "stdout",
     "output_type": "stream",
     "text": [
      "Optimization terminated successfully.\n",
      "         Current function value: -1.432496\n",
      "         Iterations: 3\n",
      "         Function evaluations: 297\n",
      "Optimization terminated successfully.\n",
      "         Current function value: -1.378263\n",
      "         Iterations: 4\n",
      "         Function evaluations: 436\n"
     ]
    },
    {
     "name": "stderr",
     "output_type": "stream",
     "text": [
      "\u001b[32m[I 2022-03-09 21:58:14,620]\u001b[0m Trial 28 finished with value: 0.6525412314160783 and parameters: {'p': 2, 'd': 0, 'q': 2, 'P': 0, 'D': 1, 'Q': 3}. Best is trial 11 with value: 0.6727663919774031.\u001b[0m\n",
      "\u001b[32m[I 2022-03-09 21:58:16,292]\u001b[0m Trial 29 finished with value: 0.6686094071932724 and parameters: {'p': 1, 'd': 0, 'q': 0, 'P': 1, 'D': 1, 'Q': 2}. Best is trial 11 with value: 0.6727663919774031.\u001b[0m\n"
     ]
    },
    {
     "name": "stdout",
     "output_type": "stream",
     "text": [
      "Optimization terminated successfully.\n",
      "         Current function value: -1.443487\n",
      "         Iterations: 3\n",
      "         Function evaluations: 203\n"
     ]
    },
    {
     "name": "stderr",
     "output_type": "stream",
     "text": [
      "\u001b[32m[I 2022-03-09 21:58:17,936]\u001b[0m Trial 30 finished with value: 0.6686094071932724 and parameters: {'p': 1, 'd': 0, 'q': 0, 'P': 1, 'D': 1, 'Q': 2}. Best is trial 11 with value: 0.6727663919774031.\u001b[0m\n"
     ]
    },
    {
     "name": "stdout",
     "output_type": "stream",
     "text": [
      "Optimization terminated successfully.\n",
      "         Current function value: -1.443487\n",
      "         Iterations: 3\n",
      "         Function evaluations: 203\n"
     ]
    },
    {
     "name": "stderr",
     "output_type": "stream",
     "text": [
      "\u001b[32m[I 2022-03-09 21:58:19,575]\u001b[0m Trial 31 finished with value: 0.6686094071932724 and parameters: {'p': 1, 'd': 0, 'q': 0, 'P': 1, 'D': 1, 'Q': 2}. Best is trial 11 with value: 0.6727663919774031.\u001b[0m\n"
     ]
    },
    {
     "name": "stdout",
     "output_type": "stream",
     "text": [
      "Optimization terminated successfully.\n",
      "         Current function value: -1.443487\n",
      "         Iterations: 3\n",
      "         Function evaluations: 203\n"
     ]
    },
    {
     "name": "stderr",
     "output_type": "stream",
     "text": [
      "\u001b[32m[I 2022-03-09 21:58:20,926]\u001b[0m Trial 32 finished with value: 0.6689004053782605 and parameters: {'p': 0, 'd': 0, 'q': 0, 'P': 1, 'D': 1, 'Q': 2}. Best is trial 11 with value: 0.6727663919774031.\u001b[0m\n"
     ]
    },
    {
     "name": "stdout",
     "output_type": "stream",
     "text": [
      "Optimization terminated successfully.\n",
      "         Current function value: -1.432488\n",
      "         Iterations: 3\n",
      "         Function evaluations: 172\n"
     ]
    },
    {
     "name": "stderr",
     "output_type": "stream",
     "text": [
      "\u001b[32m[I 2022-03-09 21:58:22,259]\u001b[0m Trial 33 finished with value: 0.6689004053782605 and parameters: {'p': 0, 'd': 0, 'q': 0, 'P': 1, 'D': 1, 'Q': 2}. Best is trial 11 with value: 0.6727663919774031.\u001b[0m\n"
     ]
    },
    {
     "name": "stdout",
     "output_type": "stream",
     "text": [
      "Optimization terminated successfully.\n",
      "         Current function value: -1.432488\n",
      "         Iterations: 3\n",
      "         Function evaluations: 172\n"
     ]
    },
    {
     "name": "stderr",
     "output_type": "stream",
     "text": [
      "\u001b[32m[I 2022-03-09 21:58:23,925]\u001b[0m Trial 34 finished with value: 0.6682940933456893 and parameters: {'p': 0, 'd': 0, 'q': 1, 'P': 1, 'D': 1, 'Q': 2}. Best is trial 11 with value: 0.6727663919774031.\u001b[0m\n"
     ]
    },
    {
     "name": "stdout",
     "output_type": "stream",
     "text": [
      "Optimization terminated successfully.\n",
      "         Current function value: -1.437403\n",
      "         Iterations: 3\n",
      "         Function evaluations: 203\n"
     ]
    },
    {
     "name": "stderr",
     "output_type": "stream",
     "text": [
      "\u001b[32m[I 2022-03-09 21:58:25,185]\u001b[0m Trial 35 finished with value: 0.4270024000214151 and parameters: {'p': 0, 'd': 1, 'q': 0, 'P': 0, 'D': 1, 'Q': 2}. Best is trial 11 with value: 0.6727663919774031.\u001b[0m\n"
     ]
    },
    {
     "name": "stdout",
     "output_type": "stream",
     "text": [
      "Optimization terminated successfully.\n",
      "         Current function value: -1.201639\n",
      "         Iterations: 3\n",
      "         Function evaluations: 139\n"
     ]
    },
    {
     "name": "stderr",
     "output_type": "stream",
     "text": [
      "\u001b[32m[I 2022-03-09 21:58:27,355]\u001b[0m Trial 36 finished with value: 0.6690021192184084 and parameters: {'p': 0, 'd': 0, 'q': 2, 'P': 1, 'D': 1, 'Q': 2}. Best is trial 11 with value: 0.6727663919774031.\u001b[0m\n"
     ]
    },
    {
     "name": "stdout",
     "output_type": "stream",
     "text": [
      "Optimization terminated successfully.\n",
      "         Current function value: -1.433253\n",
      "         Iterations: 3\n",
      "         Function evaluations: 237\n",
      "Optimization terminated successfully.\n",
      "         Current function value: -1.375615\n",
      "         Iterations: 4\n",
      "         Function evaluations: 363\n"
     ]
    },
    {
     "name": "stderr",
     "output_type": "stream",
     "text": [
      "\u001b[32m[I 2022-03-09 21:58:31,485]\u001b[0m Trial 37 finished with value: 0.6552536392007726 and parameters: {'p': 0, 'd': 0, 'q': 3, 'P': 0, 'D': 1, 'Q': 3}. Best is trial 11 with value: 0.6727663919774031.\u001b[0m\n",
      "\u001b[32m[I 2022-03-09 21:58:33,179]\u001b[0m Trial 38 finished with value: 0.6682940933456893 and parameters: {'p': 0, 'd': 0, 'q': 1, 'P': 1, 'D': 1, 'Q': 2}. Best is trial 11 with value: 0.6727663919774031.\u001b[0m\n"
     ]
    },
    {
     "name": "stdout",
     "output_type": "stream",
     "text": [
      "Optimization terminated successfully.\n",
      "         Current function value: -1.437403\n",
      "         Iterations: 3\n",
      "         Function evaluations: 203\n"
     ]
    },
    {
     "name": "stderr",
     "output_type": "stream",
     "text": [
      "\u001b[32m[I 2022-03-09 21:58:35,276]\u001b[0m Trial 39 finished with value: 0.403916506845288 and parameters: {'p': 0, 'd': 1, 'q': 0, 'P': 1, 'D': 0, 'Q': 2}. Best is trial 11 with value: 0.6727663919774031.\u001b[0m\n"
     ]
    },
    {
     "name": "stdout",
     "output_type": "stream",
     "text": [
      "Optimization terminated successfully.\n",
      "         Current function value: -1.230746\n",
      "         Iterations: 8\n",
      "         Function evaluations: 436\n"
     ]
    },
    {
     "name": "stderr",
     "output_type": "stream",
     "text": [
      "\u001b[32m[I 2022-03-09 21:58:36,595]\u001b[0m Trial 40 finished with value: 0.672433552956991 and parameters: {'p': 1, 'd': 0, 'q': 2, 'P': 0, 'D': 1, 'Q': 1}. Best is trial 11 with value: 0.6727663919774031.\u001b[0m\n"
     ]
    },
    {
     "name": "stdout",
     "output_type": "stream",
     "text": [
      "Optimization terminated successfully.\n",
      "         Current function value: -1.474757\n",
      "         Iterations: 3\n",
      "         Function evaluations: 212\n"
     ]
    },
    {
     "name": "stderr",
     "output_type": "stream",
     "text": [
      "\u001b[32m[I 2022-03-09 21:58:37,933]\u001b[0m Trial 41 finished with value: 0.672433552956991 and parameters: {'p': 1, 'd': 0, 'q': 2, 'P': 0, 'D': 1, 'Q': 1}. Best is trial 11 with value: 0.6727663919774031.\u001b[0m\n"
     ]
    },
    {
     "name": "stdout",
     "output_type": "stream",
     "text": [
      "Optimization terminated successfully.\n",
      "         Current function value: -1.474757\n",
      "         Iterations: 3\n",
      "         Function evaluations: 212\n"
     ]
    },
    {
     "name": "stderr",
     "output_type": "stream",
     "text": [
      "\u001b[32m[I 2022-03-09 21:58:41,068]\u001b[0m Trial 42 finished with value: 0.6725169949378507 and parameters: {'p': 1, 'd': 0, 'q': 3, 'P': 0, 'D': 1, 'Q': 1}. Best is trial 11 with value: 0.6727663919774031.\u001b[0m\n"
     ]
    },
    {
     "name": "stdout",
     "output_type": "stream",
     "text": [
      "Optimization terminated successfully.\n",
      "         Current function value: -1.471263\n",
      "         Iterations: 6\n",
      "         Function evaluations: 547\n"
     ]
    },
    {
     "name": "stderr",
     "output_type": "stream",
     "text": [
      "\u001b[32m[I 2022-03-09 21:58:44,251]\u001b[0m Trial 43 finished with value: 0.6725169949378507 and parameters: {'p': 1, 'd': 0, 'q': 3, 'P': 0, 'D': 1, 'Q': 1}. Best is trial 11 with value: 0.6727663919774031.\u001b[0m\n"
     ]
    },
    {
     "name": "stdout",
     "output_type": "stream",
     "text": [
      "Optimization terminated successfully.\n",
      "         Current function value: -1.471263\n",
      "         Iterations: 6\n",
      "         Function evaluations: 547\n"
     ]
    },
    {
     "name": "stderr",
     "output_type": "stream",
     "text": [
      "\u001b[32m[I 2022-03-09 21:58:47,379]\u001b[0m Trial 44 finished with value: 0.6725169949378507 and parameters: {'p': 1, 'd': 0, 'q': 3, 'P': 0, 'D': 1, 'Q': 1}. Best is trial 11 with value: 0.6727663919774031.\u001b[0m\n"
     ]
    },
    {
     "name": "stdout",
     "output_type": "stream",
     "text": [
      "Optimization terminated successfully.\n",
      "         Current function value: -1.471263\n",
      "         Iterations: 6\n",
      "         Function evaluations: 547\n"
     ]
    },
    {
     "name": "stderr",
     "output_type": "stream",
     "text": [
      "\u001b[32m[I 2022-03-09 21:58:49,076]\u001b[0m Trial 45 finished with value: 0.6718292909307502 and parameters: {'p': 2, 'd': 0, 'q': 3, 'P': 0, 'D': 1, 'Q': 1}. Best is trial 11 with value: 0.6727663919774031.\u001b[0m\n"
     ]
    },
    {
     "name": "stdout",
     "output_type": "stream",
     "text": [
      "Optimization terminated successfully.\n",
      "         Current function value: -1.471237\n",
      "         Iterations: 3\n",
      "         Function evaluations: 283\n"
     ]
    },
    {
     "name": "stderr",
     "output_type": "stream",
     "text": [
      "\u001b[32m[I 2022-03-09 21:58:52,275]\u001b[0m Trial 46 finished with value: 0.6725169949378507 and parameters: {'p': 1, 'd': 0, 'q': 3, 'P': 0, 'D': 1, 'Q': 1}. Best is trial 11 with value: 0.6727663919774031.\u001b[0m\n"
     ]
    },
    {
     "name": "stdout",
     "output_type": "stream",
     "text": [
      "Optimization terminated successfully.\n",
      "         Current function value: -1.471263\n",
      "         Iterations: 6\n",
      "         Function evaluations: 547\n"
     ]
    },
    {
     "name": "stderr",
     "output_type": "stream",
     "text": [
      "\u001b[32m[I 2022-03-09 21:58:54,244]\u001b[0m Trial 47 finished with value: 0.6894702337562156 and parameters: {'p': 2, 'd': 0, 'q': 5, 'P': 0, 'D': 1, 'Q': 0}. Best is trial 47 with value: 0.6894702337562156.\u001b[0m\n"
     ]
    },
    {
     "name": "stdout",
     "output_type": "stream",
     "text": [
      "Optimization terminated successfully.\n",
      "         Current function value: -1.261448\n",
      "         Iterations: 8\n",
      "         Function evaluations: 950\n"
     ]
    },
    {
     "name": "stderr",
     "output_type": "stream",
     "text": [
      "\u001b[32m[I 2022-03-09 21:58:55,090]\u001b[0m Trial 48 finished with value: -0.059788213350320696 and parameters: {'p': 3, 'd': 0, 'q': 5, 'P': 0, 'D': 0, 'Q': 0}. Best is trial 47 with value: 0.6894702337562156.\u001b[0m\n"
     ]
    },
    {
     "name": "stdout",
     "output_type": "stream",
     "text": [
      "Optimization terminated successfully.\n",
      "         Current function value: -1.339136\n",
      "         Iterations: 11\n",
      "         Function evaluations: 1379\n"
     ]
    },
    {
     "name": "stderr",
     "output_type": "stream",
     "text": [
      "\u001b[32m[I 2022-03-09 21:58:57,042]\u001b[0m Trial 49 finished with value: 0.6894702337562156 and parameters: {'p': 2, 'd': 0, 'q': 5, 'P': 0, 'D': 1, 'Q': 0}. Best is trial 47 with value: 0.6894702337562156.\u001b[0m\n",
      "\u001b[32m[I 2022-03-09 21:58:57,086]\u001b[0m A new study created in memory with name: no-name-8acf8112-0f1a-4bea-ab6a-3460ca685d67\u001b[0m\n"
     ]
    },
    {
     "name": "stdout",
     "output_type": "stream",
     "text": [
      "Optimization terminated successfully.\n",
      "         Current function value: -1.261448\n",
      "         Iterations: 8\n",
      "         Function evaluations: 950\n"
     ]
    },
    {
     "name": "stderr",
     "output_type": "stream",
     "text": [
      "\u001b[32m[I 2022-03-09 21:58:57,846]\u001b[0m Trial 0 finished with value: 0.7894010906771004 and parameters: {'p': 2, 'd': 1, 'q': 1, 'P': 1, 'D': 0, 'Q': 1}. Best is trial 0 with value: 0.7894010906771004.\u001b[0m\n",
      "\u001b[32m[I 2022-03-09 21:58:57,978]\u001b[0m Trial 1 finished with value: -0.2570966742533667 and parameters: {'p': 6, 'd': 0, 'q': 2, 'P': 0, 'D': 0, 'Q': 0}. Best is trial 0 with value: 0.7894010906771004.\u001b[0m\n"
     ]
    },
    {
     "name": "stdout",
     "output_type": "stream",
     "text": [
      "Optimization terminated successfully.\n",
      "         Current function value: -1.588372\n",
      "         Iterations: 6\n",
      "         Function evaluations: 434\n",
      "Optimization terminated successfully.\n",
      "         Current function value: -1.170492\n",
      "         Iterations: 2\n",
      "         Function evaluations: 197\n",
      "Optimization terminated successfully.\n",
      "         Current function value: -1.481058\n",
      "         Iterations: 19\n",
      "         Function evaluations: 4532\n"
     ]
    },
    {
     "name": "stderr",
     "output_type": "stream",
     "text": [
      "\u001b[32m[I 2022-03-09 21:59:43,200]\u001b[0m Trial 2 finished with value: 0.8044546712521499 and parameters: {'p': 7, 'd': 0, 'q': 8, 'P': 3, 'D': 0, 'Q': 1}. Best is trial 2 with value: 0.8044546712521499.\u001b[0m\n"
     ]
    },
    {
     "name": "stdout",
     "output_type": "stream",
     "text": [
      "Optimization terminated successfully.\n",
      "         Current function value: -1.346389\n",
      "         Iterations: 19\n",
      "         Function evaluations: 3110\n"
     ]
    },
    {
     "name": "stderr",
     "output_type": "stream",
     "text": [
      "\u001b[32m[I 2022-03-09 22:00:07,972]\u001b[0m Trial 3 finished with value: 0.798883658439093 and parameters: {'p': 4, 'd': 0, 'q': 3, 'P': 3, 'D': 0, 'Q': 2}. Best is trial 2 with value: 0.8044546712521499.\u001b[0m\n"
     ]
    },
    {
     "name": "stdout",
     "output_type": "stream",
     "text": [
      "Optimization terminated successfully.\n",
      "         Current function value: -1.475337\n",
      "         Iterations: 8\n",
      "         Function evaluations: 1210\n"
     ]
    },
    {
     "name": "stderr",
     "output_type": "stream",
     "text": [
      "\u001b[32m[I 2022-03-09 22:00:18,998]\u001b[0m Trial 4 finished with value: 0.7864403151093078 and parameters: {'p': 4, 'd': 1, 'q': 3, 'P': 2, 'D': 0, 'Q': 3}. Best is trial 2 with value: 0.8044546712521499.\u001b[0m\n"
     ]
    },
    {
     "name": "stdout",
     "output_type": "stream",
     "text": [
      "Optimization terminated successfully.\n",
      "         Current function value: -1.463918\n",
      "         Iterations: 9\n",
      "         Function evaluations: 1788\n"
     ]
    },
    {
     "name": "stderr",
     "output_type": "stream",
     "text": [
      "\u001b[32m[I 2022-03-09 22:00:37,698]\u001b[0m Trial 5 finished with value: 0.8007312157389489 and parameters: {'p': 1, 'd': 1, 'q': 7, 'P': 2, 'D': 1, 'Q': 2}. Best is trial 2 with value: 0.8044546712521499.\u001b[0m\n",
      "\u001b[32m[I 2022-03-09 22:00:40,551]\u001b[0m Trial 6 finished with value: 0.7973336638932523 and parameters: {'p': 7, 'd': 0, 'q': 0, 'P': 2, 'D': 0, 'Q': 1}. Best is trial 2 with value: 0.8044546712521499.\u001b[0m\n"
     ]
    },
    {
     "name": "stdout",
     "output_type": "stream",
     "text": [
      "Optimization terminated successfully.\n",
      "         Current function value: -1.541767\n",
      "         Iterations: 4\n",
      "         Function evaluations: 455\n"
     ]
    },
    {
     "name": "stderr",
     "output_type": "stream",
     "text": [
      "\u001b[32m[I 2022-03-09 22:00:42,600]\u001b[0m Trial 7 finished with value: 0.5036219354490525 and parameters: {'p': 0, 'd': 1, 'q': 8, 'P': 1, 'D': 0, 'Q': 0}. Best is trial 2 with value: 0.8044546712521499.\u001b[0m\n"
     ]
    },
    {
     "name": "stdout",
     "output_type": "stream",
     "text": [
      "Optimization terminated successfully.\n",
      "         Current function value: -1.448702\n",
      "         Iterations: 11\n",
      "         Function evaluations: 1856\n",
      "Optimization terminated successfully.\n",
      "         Current function value: -1.415145\n",
      "         Iterations: 6\n",
      "         Function evaluations: 1212\n"
     ]
    },
    {
     "name": "stderr",
     "output_type": "stream",
     "text": [
      "\u001b[32m[I 2022-03-09 22:00:57,780]\u001b[0m Trial 8 finished with value: 0.781490342030937 and parameters: {'p': 4, 'd': 1, 'q': 8, 'P': 3, 'D': 1, 'Q': 0}. Best is trial 2 with value: 0.8044546712521499.\u001b[0m\n"
     ]
    },
    {
     "name": "stdout",
     "output_type": "stream",
     "text": [
      "Optimization terminated successfully.\n",
      "         Current function value: -1.428144\n",
      "         Iterations: 10\n",
      "         Function evaluations: 2389\n"
     ]
    },
    {
     "name": "stderr",
     "output_type": "stream",
     "text": [
      "\u001b[32m[I 2022-03-09 22:01:34,094]\u001b[0m Trial 9 finished with value: 0.7956601474538725 and parameters: {'p': 8, 'd': 1, 'q': 5, 'P': 2, 'D': 1, 'Q': 3}. Best is trial 2 with value: 0.8044546712521499.\u001b[0m\n"
     ]
    },
    {
     "name": "stdout",
     "output_type": "stream",
     "text": [
      "Optimization terminated successfully.\n",
      "         Current function value: -1.437084\n",
      "         Iterations: 8\n",
      "         Function evaluations: 1583\n"
     ]
    },
    {
     "name": "stderr",
     "output_type": "stream",
     "text": [
      "\u001b[32m[I 2022-03-09 22:01:47,756]\u001b[0m Trial 10 finished with value: 0.7960046624199951 and parameters: {'p': 6, 'd': 0, 'q': 6, 'P': 3, 'D': 1, 'Q': 1}. Best is trial 2 with value: 0.8044546712521499.\u001b[0m\n"
     ]
    },
    {
     "name": "stdout",
     "output_type": "stream",
     "text": [
      "Optimization terminated successfully.\n",
      "         Current function value: -1.455286\n",
      "         Iterations: 6\n",
      "         Function evaluations: 865\n"
     ]
    },
    {
     "name": "stderr",
     "output_type": "stream",
     "text": [
      "\u001b[32m[I 2022-03-09 22:01:54,913]\u001b[0m Trial 11 finished with value: 0.8022673055737805 and parameters: {'p': 0, 'd': 0, 'q': 6, 'P': 3, 'D': 1, 'Q': 2}. Best is trial 2 with value: 0.8044546712521499.\u001b[0m\n"
     ]
    },
    {
     "name": "stdout",
     "output_type": "stream",
     "text": [
      "Optimization terminated successfully.\n",
      "         Current function value: -1.453186\n",
      "         Iterations: 6\n",
      "         Function evaluations: 990\n"
     ]
    },
    {
     "name": "stderr",
     "output_type": "stream",
     "text": [
      "\u001b[32m[I 2022-03-09 22:02:04,433]\u001b[0m Trial 12 finished with value: 0.8014240767759541 and parameters: {'p': 2, 'd': 0, 'q': 6, 'P': 3, 'D': 1, 'Q': 2}. Best is trial 2 with value: 0.8044546712521499.\u001b[0m\n"
     ]
    },
    {
     "name": "stdout",
     "output_type": "stream",
     "text": [
      "Optimization terminated successfully.\n",
      "         Current function value: -1.412106\n",
      "         Iterations: 12\n",
      "         Function evaluations: 2662\n"
     ]
    },
    {
     "name": "stderr",
     "output_type": "stream",
     "text": [
      "\u001b[32m[I 2022-03-09 22:02:37,587]\u001b[0m Trial 13 finished with value: 0.7966370279011098 and parameters: {'p': 6, 'd': 0, 'q': 5, 'P': 3, 'D': 1, 'Q': 2}. Best is trial 2 with value: 0.8044546712521499.\u001b[0m\n"
     ]
    },
    {
     "name": "stdout",
     "output_type": "stream",
     "text": [
      "Optimization terminated successfully.\n",
      "         Current function value: -1.548296\n",
      "         Iterations: 14\n",
      "         Function evaluations: 2815\n"
     ]
    },
    {
     "name": "stderr",
     "output_type": "stream",
     "text": [
      "\u001b[32m[I 2022-03-09 22:02:55,592]\u001b[0m Trial 14 finished with value: 0.8059941969450524 and parameters: {'p': 8, 'd': 0, 'q': 7, 'P': 0, 'D': 1, 'Q': 1}. Best is trial 14 with value: 0.8059941969450524.\u001b[0m\n",
      "\u001b[32m[I 2022-03-09 22:03:05,920]\u001b[0m Trial 15 finished with value: 0.5954444006481885 and parameters: {'p': 8, 'd': 0, 'q': 8, 'P': 0, 'D': 0, 'Q': 1}. Best is trial 14 with value: 0.8059941969450524.\u001b[0m\n"
     ]
    },
    {
     "name": "stdout",
     "output_type": "stream",
     "text": [
      "Optimization terminated successfully.\n",
      "         Current function value: -1.502184\n",
      "         Iterations: 13\n",
      "         Function evaluations: 2732\n"
     ]
    },
    {
     "name": "stderr",
     "output_type": "stream",
     "text": [
      "\u001b[32m[I 2022-03-09 22:03:16,053]\u001b[0m Trial 16 finished with value: 0.7870073345739734 and parameters: {'p': 7, 'd': 0, 'q': 7, 'P': 1, 'D': 0, 'Q': 1}. Best is trial 14 with value: 0.8059941969450524.\u001b[0m\n"
     ]
    },
    {
     "name": "stdout",
     "output_type": "stream",
     "text": [
      "Optimization terminated successfully.\n",
      "         Current function value: -1.551626\n",
      "         Iterations: 11\n",
      "         Function evaluations: 2181\n"
     ]
    },
    {
     "name": "stderr",
     "output_type": "stream",
     "text": [
      "\u001b[32m[I 2022-03-09 22:03:25,711]\u001b[0m Trial 17 finished with value: 0.7772227244171297 and parameters: {'p': 5, 'd': 0, 'q': 7, 'P': 0, 'D': 1, 'Q': 0}. Best is trial 14 with value: 0.8059941969450524.\u001b[0m\n"
     ]
    },
    {
     "name": "stdout",
     "output_type": "stream",
     "text": [
      "Optimization terminated successfully.\n",
      "         Current function value: -1.408282\n",
      "         Iterations: 17\n",
      "         Function evaluations: 2822\n"
     ]
    },
    {
     "name": "stderr",
     "output_type": "stream",
     "text": [
      "\u001b[32m[I 2022-03-09 22:03:31,736]\u001b[0m Trial 18 finished with value: 0.7995648036833642 and parameters: {'p': 8, 'd': 0, 'q': 4, 'P': 1, 'D': 0, 'Q': 1}. Best is trial 14 with value: 0.8059941969450524.\u001b[0m\n"
     ]
    },
    {
     "name": "stdout",
     "output_type": "stream",
     "text": [
      "Optimization terminated successfully.\n",
      "         Current function value: -1.586717\n",
      "         Iterations: 8\n",
      "         Function evaluations: 1336\n"
     ]
    },
    {
     "name": "stderr",
     "output_type": "stream",
     "text": [
      "\u001b[32m[I 2022-03-09 22:03:41,300]\u001b[0m Trial 19 finished with value: 0.768870687123639 and parameters: {'p': 7, 'd': 0, 'q': 5, 'P': 0, 'D': 1, 'Q': 0}. Best is trial 14 with value: 0.8059941969450524.\u001b[0m\n"
     ]
    },
    {
     "name": "stdout",
     "output_type": "stream",
     "text": [
      "Optimization terminated successfully.\n",
      "         Current function value: -1.413648\n",
      "         Iterations: 17\n",
      "         Function evaluations: 2874\n"
     ]
    },
    {
     "name": "stderr",
     "output_type": "stream",
     "text": [
      "\u001b[32m[I 2022-03-09 22:03:52,193]\u001b[0m Trial 20 finished with value: 0.8087129921013732 and parameters: {'p': 5, 'd': 0, 'q': 7, 'P': 1, 'D': 0, 'Q': 1}. Best is trial 20 with value: 0.8087129921013732.\u001b[0m\n"
     ]
    },
    {
     "name": "stdout",
     "output_type": "stream",
     "text": [
      "Optimization terminated successfully.\n",
      "         Current function value: -1.568509\n",
      "         Iterations: 12\n",
      "         Function evaluations: 2402\n"
     ]
    },
    {
     "name": "stderr",
     "output_type": "stream",
     "text": [
      "\u001b[32m[I 2022-03-09 22:04:03,103]\u001b[0m Trial 21 finished with value: 0.8087129921013732 and parameters: {'p': 5, 'd': 0, 'q': 7, 'P': 1, 'D': 0, 'Q': 1}. Best is trial 20 with value: 0.8087129921013732.\u001b[0m\n"
     ]
    },
    {
     "name": "stdout",
     "output_type": "stream",
     "text": [
      "Optimization terminated successfully.\n",
      "         Current function value: -1.568509\n",
      "         Iterations: 12\n",
      "         Function evaluations: 2402\n"
     ]
    },
    {
     "name": "stderr",
     "output_type": "stream",
     "text": [
      "\u001b[32m[I 2022-03-09 22:04:13,960]\u001b[0m Trial 22 finished with value: 0.8087129921013732 and parameters: {'p': 5, 'd': 0, 'q': 7, 'P': 1, 'D': 0, 'Q': 1}. Best is trial 20 with value: 0.8087129921013732.\u001b[0m\n"
     ]
    },
    {
     "name": "stdout",
     "output_type": "stream",
     "text": [
      "Optimization terminated successfully.\n",
      "         Current function value: -1.568509\n",
      "         Iterations: 12\n",
      "         Function evaluations: 2402\n"
     ]
    },
    {
     "name": "stderr",
     "output_type": "stream",
     "text": [
      "\u001b[32m[I 2022-03-09 22:04:19,319]\u001b[0m Trial 23 finished with value: 0.8026942155753409 and parameters: {'p': 5, 'd': 0, 'q': 6, 'P': 1, 'D': 0, 'Q': 1}. Best is trial 20 with value: 0.8087129921013732.\u001b[0m\n"
     ]
    },
    {
     "name": "stdout",
     "output_type": "stream",
     "text": [
      "Optimization terminated successfully.\n",
      "         Current function value: -1.586862\n",
      "         Iterations: 7\n",
      "         Function evaluations: 1146\n"
     ]
    },
    {
     "name": "stderr",
     "output_type": "stream",
     "text": [
      "\u001b[32m[I 2022-03-09 22:04:26,039]\u001b[0m Trial 24 finished with value: 0.7974453623526006 and parameters: {'p': 3, 'd': 0, 'q': 4, 'P': 1, 'D': 0, 'Q': 2}. Best is trial 20 with value: 0.8087129921013732.\u001b[0m\n"
     ]
    },
    {
     "name": "stdout",
     "output_type": "stream",
     "text": [
      "Optimization terminated successfully.\n",
      "         Current function value: -1.537727\n",
      "         Iterations: 8\n",
      "         Function evaluations: 1130\n"
     ]
    },
    {
     "name": "stderr",
     "output_type": "stream",
     "text": [
      "\u001b[32m[I 2022-03-09 22:04:36,898]\u001b[0m Trial 25 finished with value: 0.8087129921013732 and parameters: {'p': 5, 'd': 0, 'q': 7, 'P': 1, 'D': 0, 'Q': 1}. Best is trial 20 with value: 0.8087129921013732.\u001b[0m\n"
     ]
    },
    {
     "name": "stdout",
     "output_type": "stream",
     "text": [
      "Optimization terminated successfully.\n",
      "         Current function value: -1.568509\n",
      "         Iterations: 12\n",
      "         Function evaluations: 2402\n"
     ]
    },
    {
     "name": "stderr",
     "output_type": "stream",
     "text": [
      "\u001b[32m[I 2022-03-09 22:04:39,072]\u001b[0m Trial 26 finished with value: 0.7746073899982501 and parameters: {'p': 3, 'd': 0, 'q': 5, 'P': 1, 'D': 0, 'Q': 0}. Best is trial 20 with value: 0.8087129921013732.\u001b[0m\n"
     ]
    },
    {
     "name": "stdout",
     "output_type": "stream",
     "text": [
      "Optimization terminated successfully.\n",
      "         Current function value: -1.390038\n",
      "         Iterations: 12\n",
      "         Function evaluations: 1568\n",
      "Optimization terminated successfully.\n",
      "         Current function value: -1.545733\n",
      "         Iterations: 6\n",
      "         Function evaluations: 1041\n"
     ]
    },
    {
     "name": "stderr",
     "output_type": "stream",
     "text": [
      "\u001b[32m[I 2022-03-09 22:04:45,351]\u001b[0m Trial 27 finished with value: 0.7981205000854218 and parameters: {'p': 5, 'd': 0, 'q': 6, 'P': 2, 'D': 0, 'Q': 1}. Best is trial 20 with value: 0.8087129921013732.\u001b[0m\n"
     ]
    },
    {
     "name": "stdout",
     "output_type": "stream",
     "text": [
      "Optimization terminated successfully.\n",
      "         Current function value: -1.520040\n",
      "         Iterations: 13\n",
      "         Function evaluations: 2662\n"
     ]
    },
    {
     "name": "stderr",
     "output_type": "stream",
     "text": [
      "\u001b[32m[I 2022-03-09 22:05:04,612]\u001b[0m Trial 28 finished with value: 0.8001515180630722 and parameters: {'p': 3, 'd': 0, 'q': 8, 'P': 1, 'D': 0, 'Q': 2}. Best is trial 20 with value: 0.8087129921013732.\u001b[0m\n"
     ]
    },
    {
     "name": "stdout",
     "output_type": "stream",
     "text": [
      "Optimization terminated successfully.\n",
      "         Current function value: -1.524737\n",
      "         Iterations: 15\n",
      "         Function evaluations: 3335\n"
     ]
    },
    {
     "name": "stderr",
     "output_type": "stream",
     "text": [
      "\u001b[32m[I 2022-03-09 22:05:27,018]\u001b[0m Trial 29 finished with value: 0.7918506406122802 and parameters: {'p': 6, 'd': 1, 'q': 7, 'P': 2, 'D': 0, 'Q': 1}. Best is trial 20 with value: 0.8087129921013732.\u001b[0m\n",
      "\u001b[32m[I 2022-03-09 22:05:27,338]\u001b[0m Trial 30 finished with value: 0.7849489944579546 and parameters: {'p': 5, 'd': 0, 'q': 0, 'P': 1, 'D': 0, 'Q': 0}. Best is trial 20 with value: 0.8087129921013732.\u001b[0m\n"
     ]
    },
    {
     "name": "stdout",
     "output_type": "stream",
     "text": [
      "Optimization terminated successfully.\n",
      "         Current function value: -1.357370\n",
      "         Iterations: 3\n",
      "         Function evaluations: 216\n"
     ]
    },
    {
     "name": "stderr",
     "output_type": "stream",
     "text": [
      "\u001b[32m[I 2022-03-09 22:05:38,144]\u001b[0m Trial 31 finished with value: 0.8087129921013732 and parameters: {'p': 5, 'd': 0, 'q': 7, 'P': 1, 'D': 0, 'Q': 1}. Best is trial 20 with value: 0.8087129921013732.\u001b[0m\n"
     ]
    },
    {
     "name": "stdout",
     "output_type": "stream",
     "text": [
      "Optimization terminated successfully.\n",
      "         Current function value: -1.568509\n",
      "         Iterations: 12\n",
      "         Function evaluations: 2402\n"
     ]
    },
    {
     "name": "stderr",
     "output_type": "stream",
     "text": [
      "\u001b[32m[I 2022-03-09 22:05:50,675]\u001b[0m Trial 32 finished with value: 0.8150897568115489 and parameters: {'p': 4, 'd': 0, 'q': 7, 'P': 1, 'D': 0, 'Q': 1}. Best is trial 32 with value: 0.8150897568115489.\u001b[0m\n"
     ]
    },
    {
     "name": "stdout",
     "output_type": "stream",
     "text": [
      "Optimization terminated successfully.\n",
      "         Current function value: -1.584610\n",
      "         Iterations: 15\n",
      "         Function evaluations: 2791\n"
     ]
    },
    {
     "name": "stderr",
     "output_type": "stream",
     "text": [
      "\u001b[32m[I 2022-03-09 22:06:05,926]\u001b[0m Trial 33 finished with value: 0.8032762165303261 and parameters: {'p': 4, 'd': 0, 'q': 8, 'P': 1, 'D': 0, 'Q': 1}. Best is trial 32 with value: 0.8150897568115489.\u001b[0m\n"
     ]
    },
    {
     "name": "stdout",
     "output_type": "stream",
     "text": [
      "Optimization terminated successfully.\n",
      "         Current function value: -1.573562\n",
      "         Iterations: 16\n",
      "         Function evaluations: 3103\n"
     ]
    },
    {
     "name": "stderr",
     "output_type": "stream",
     "text": [
      "\u001b[32m[I 2022-03-09 22:06:11,113]\u001b[0m Trial 34 finished with value: 0.21239817673240535 and parameters: {'p': 4, 'd': 0, 'q': 6, 'P': 0, 'D': 0, 'Q': 1}. Best is trial 32 with value: 0.8150897568115489.\u001b[0m\n"
     ]
    },
    {
     "name": "stdout",
     "output_type": "stream",
     "text": [
      "Optimization terminated successfully.\n",
      "         Current function value: -1.358956\n",
      "         Iterations: 9\n",
      "         Function evaluations: 1478\n"
     ]
    },
    {
     "name": "stderr",
     "output_type": "stream",
     "text": [
      "\u001b[32m[I 2022-03-09 22:06:11,592]\u001b[0m Trial 35 finished with value: 0.7860748601745532 and parameters: {'p': 6, 'd': 0, 'q': 2, 'P': 1, 'D': 0, 'Q': 0}. Best is trial 32 with value: 0.8150897568115489.\u001b[0m\n"
     ]
    },
    {
     "name": "stdout",
     "output_type": "stream",
     "text": [
      "Optimization terminated successfully.\n",
      "         Current function value: -1.353799\n",
      "         Iterations: 3\n",
      "         Function evaluations: 314\n"
     ]
    },
    {
     "name": "stderr",
     "output_type": "stream",
     "text": [
      "\u001b[32m[I 2022-03-09 22:06:14,892]\u001b[0m Trial 36 finished with value: 0.14807346335785865 and parameters: {'p': 3, 'd': 0, 'q': 7, 'P': 0, 'D': 0, 'Q': 1}. Best is trial 32 with value: 0.8150897568115489.\u001b[0m\n"
     ]
    },
    {
     "name": "stdout",
     "output_type": "stream",
     "text": [
      "Optimization terminated successfully.\n",
      "         Current function value: -1.304775\n",
      "         Iterations: 5\n",
      "         Function evaluations: 860\n"
     ]
    },
    {
     "name": "stderr",
     "output_type": "stream",
     "text": [
      "\u001b[32m[I 2022-03-09 22:06:16,025]\u001b[0m Trial 37 finished with value: 0.8005386339463094 and parameters: {'p': 2, 'd': 0, 'q': 3, 'P': 1, 'D': 0, 'Q': 1}. Best is trial 32 with value: 0.8150897568115489.\u001b[0m\n"
     ]
    },
    {
     "name": "stdout",
     "output_type": "stream",
     "text": [
      "Optimization terminated successfully.\n",
      "         Current function value: -1.601882\n",
      "         Iterations: 7\n",
      "         Function evaluations: 711\n",
      "Optimization terminated successfully.\n",
      "         Current function value: -1.525796\n",
      "         Iterations: 16\n",
      "         Function evaluations: 3429\n"
     ]
    },
    {
     "name": "stderr",
     "output_type": "stream",
     "text": [
      "\u001b[32m[I 2022-03-09 22:06:40,770]\u001b[0m Trial 38 finished with value: 0.8012860382209611 and parameters: {'p': 4, 'd': 0, 'q': 8, 'P': 2, 'D': 0, 'Q': 2}. Best is trial 32 with value: 0.8150897568115489.\u001b[0m\n"
     ]
    },
    {
     "name": "stdout",
     "output_type": "stream",
     "text": [
      "Optimization terminated successfully.\n",
      "         Current function value: -1.458246\n",
      "         Iterations: 18\n",
      "         Function evaluations: 3628\n"
     ]
    },
    {
     "name": "stderr",
     "output_type": "stream",
     "text": [
      "\u001b[32m[I 2022-03-09 22:07:15,015]\u001b[0m Trial 39 finished with value: 0.7682982669893206 and parameters: {'p': 4, 'd': 1, 'q': 6, 'P': 1, 'D': 0, 'Q': 3}. Best is trial 32 with value: 0.8150897568115489.\u001b[0m\n",
      "\u001b[32m[I 2022-03-09 22:07:19,261]\u001b[0m Trial 40 finished with value: 0.7939436913581883 and parameters: {'p': 5, 'd': 0, 'q': 5, 'P': 2, 'D': 0, 'Q': 1}. Best is trial 32 with value: 0.8150897568115489.\u001b[0m\n"
     ]
    },
    {
     "name": "stdout",
     "output_type": "stream",
     "text": [
      "Optimization terminated successfully.\n",
      "         Current function value: -1.545148\n",
      "         Iterations: 5\n",
      "         Function evaluations: 804\n"
     ]
    },
    {
     "name": "stderr",
     "output_type": "stream",
     "text": [
      "\u001b[32m[I 2022-03-09 22:07:37,995]\u001b[0m Trial 41 finished with value: 0.8163538665904313 and parameters: {'p': 6, 'd': 0, 'q': 7, 'P': 1, 'D': 0, 'Q': 1}. Best is trial 41 with value: 0.8163538665904313.\u001b[0m\n"
     ]
    },
    {
     "name": "stdout",
     "output_type": "stream",
     "text": [
      "Optimization terminated successfully.\n",
      "         Current function value: -1.585453\n",
      "         Iterations: 20\n",
      "         Function evaluations: 4186\n"
     ]
    },
    {
     "name": "stderr",
     "output_type": "stream",
     "text": [
      "\u001b[32m[I 2022-03-09 22:07:56,928]\u001b[0m Trial 42 finished with value: 0.8163538665904313 and parameters: {'p': 6, 'd': 0, 'q': 7, 'P': 1, 'D': 0, 'Q': 1}. Best is trial 41 with value: 0.8163538665904313.\u001b[0m\n"
     ]
    },
    {
     "name": "stdout",
     "output_type": "stream",
     "text": [
      "Optimization terminated successfully.\n",
      "         Current function value: -1.585453\n",
      "         Iterations: 20\n",
      "         Function evaluations: 4186\n"
     ]
    },
    {
     "name": "stderr",
     "output_type": "stream",
     "text": [
      "\u001b[32m[I 2022-03-09 22:08:17,024]\u001b[0m Trial 43 finished with value: 0.7973953987943524 and parameters: {'p': 6, 'd': 0, 'q': 8, 'P': 1, 'D': 0, 'Q': 1}. Best is trial 41 with value: 0.8163538665904313.\u001b[0m\n"
     ]
    },
    {
     "name": "stdout",
     "output_type": "stream",
     "text": [
      "Optimization terminated successfully.\n",
      "         Current function value: -1.568237\n",
      "         Iterations: 18\n",
      "         Function evaluations: 4098\n"
     ]
    },
    {
     "name": "stderr",
     "output_type": "stream",
     "text": [
      "\u001b[32m[I 2022-03-09 22:08:36,426]\u001b[0m Trial 44 finished with value: 0.8163538665904313 and parameters: {'p': 6, 'd': 0, 'q': 7, 'P': 1, 'D': 0, 'Q': 1}. Best is trial 41 with value: 0.8163538665904313.\u001b[0m\n"
     ]
    },
    {
     "name": "stdout",
     "output_type": "stream",
     "text": [
      "Optimization terminated successfully.\n",
      "         Current function value: -1.585453\n",
      "         Iterations: 20\n",
      "         Function evaluations: 4186\n",
      "Optimization terminated successfully.\n",
      "         Current function value: -1.531832\n",
      "         Iterations: 19\n",
      "         Function evaluations: 4717\n"
     ]
    },
    {
     "name": "stderr",
     "output_type": "stream",
     "text": [
      "\u001b[32m[I 2022-03-09 22:09:10,739]\u001b[0m Trial 45 finished with value: 0.7974480832131073 and parameters: {'p': 7, 'd': 0, 'q': 8, 'P': 2, 'D': 0, 'Q': 2}. Best is trial 41 with value: 0.8163538665904313.\u001b[0m\n",
      "\u001b[32m[I 2022-03-09 22:09:12,508]\u001b[0m Trial 46 finished with value: 0.7990675850871539 and parameters: {'p': 6, 'd': 1, 'q': 6, 'P': 0, 'D': 0, 'Q': 0}. Best is trial 41 with value: 0.8163538665904313.\u001b[0m\n"
     ]
    },
    {
     "name": "stdout",
     "output_type": "stream",
     "text": [
      "Optimization terminated successfully.\n",
      "         Current function value: -1.567098\n",
      "         Iterations: 16\n",
      "         Function evaluations: 2741\n"
     ]
    },
    {
     "name": "stderr",
     "output_type": "stream",
     "text": [
      "\u001b[32m[I 2022-03-09 22:09:22,386]\u001b[0m Trial 47 finished with value: 0.7870073345739734 and parameters: {'p': 7, 'd': 0, 'q': 7, 'P': 1, 'D': 0, 'Q': 1}. Best is trial 41 with value: 0.8163538665904313.\u001b[0m\n"
     ]
    },
    {
     "name": "stdout",
     "output_type": "stream",
     "text": [
      "Optimization terminated successfully.\n",
      "         Current function value: -1.551626\n",
      "         Iterations: 11\n",
      "         Function evaluations: 2181\n",
      "Optimization terminated successfully.\n",
      "         Current function value: -1.539339\n",
      "         Iterations: 6\n",
      "         Function evaluations: 1191\n"
     ]
    },
    {
     "name": "stderr",
     "output_type": "stream",
     "text": [
      "\u001b[32m[I 2022-03-09 22:09:30,900]\u001b[0m Trial 48 finished with value: 0.8023932215046372 and parameters: {'p': 6, 'd': 0, 'q': 6, 'P': 2, 'D': 0, 'Q': 2}. Best is trial 41 with value: 0.8163538665904313.\u001b[0m\n",
      "\u001b[32m[I 2022-03-09 22:09:46,182]\u001b[0m Trial 49 finished with value: 0.7880991557645216 and parameters: {'p': 7, 'd': 0, 'q': 8, 'P': 1, 'D': 0, 'Q': 1}. Best is trial 41 with value: 0.8163538665904313.\u001b[0m\n"
     ]
    },
    {
     "name": "stdout",
     "output_type": "stream",
     "text": [
      "Optimization terminated successfully.\n",
      "         Current function value: -1.544242\n",
      "         Iterations: 14\n",
      "         Function evaluations: 3117\n"
     ]
    },
    {
     "name": "stderr",
     "output_type": "stream",
     "text": [
      "\u001b[32m[I 2022-03-09 22:09:46,238]\u001b[0m A new study created in memory with name: no-name-0d2d2111-5c71-4872-8f49-99bfa5c936d8\u001b[0m\n"
     ]
    },
    {
     "name": "stdout",
     "output_type": "stream",
     "text": [
      "Optimization terminated successfully.\n",
      "         Current function value: -1.332703\n",
      "         Iterations: 18\n",
      "         Function evaluations: 3835\n"
     ]
    },
    {
     "name": "stderr",
     "output_type": "stream",
     "text": [
      "\u001b[32m[I 2022-03-09 22:10:11,496]\u001b[0m Trial 0 finished with value: 0.3489757383953157 and parameters: {'p': 7, 'd': 0, 'q': 7, 'P': 0, 'D': 0, 'Q': 3}. Best is trial 0 with value: 0.3489757383953157.\u001b[0m\n",
      "\u001b[32m[I 2022-03-09 22:10:20,411]\u001b[0m Trial 1 finished with value: 0.6300812490547139 and parameters: {'p': 7, 'd': 1, 'q': 7, 'P': 0, 'D': 0, 'Q': 1}. Best is trial 1 with value: 0.6300812490547139.\u001b[0m\n"
     ]
    },
    {
     "name": "stdout",
     "output_type": "stream",
     "text": [
      "Optimization terminated successfully.\n",
      "         Current function value: -1.440755\n",
      "         Iterations: 17\n",
      "         Function evaluations: 3319\n"
     ]
    },
    {
     "name": "stderr",
     "output_type": "stream",
     "text": [
      "\u001b[32m[I 2022-03-09 22:10:22,531]\u001b[0m Trial 2 finished with value: -0.9483120582669473 and parameters: {'p': 3, 'd': 0, 'q': 1, 'P': 0, 'D': 0, 'Q': 2}. Best is trial 1 with value: 0.6300812490547139.\u001b[0m\n"
     ]
    },
    {
     "name": "stdout",
     "output_type": "stream",
     "text": [
      "Optimization terminated successfully.\n",
      "         Current function value: -1.230405\n",
      "         Iterations: 7\n",
      "         Function evaluations: 569\n",
      "Optimization terminated successfully.\n",
      "         Current function value: -1.422312\n",
      "         Iterations: 6\n",
      "         Function evaluations: 1127\n"
     ]
    },
    {
     "name": "stderr",
     "output_type": "stream",
     "text": [
      "\u001b[32m[I 2022-03-09 22:10:33,119]\u001b[0m Trial 3 finished with value: 0.6408206370546913 and parameters: {'p': 6, 'd': 1, 'q': 4, 'P': 2, 'D': 0, 'Q': 3}. Best is trial 3 with value: 0.6408206370546913.\u001b[0m\n",
      "\u001b[32m[I 2022-03-09 22:10:35,863]\u001b[0m Trial 4 finished with value: 0.31994778464770735 and parameters: {'p': 8, 'd': 1, 'q': 2, 'P': 1, 'D': 0, 'Q': 0}. Best is trial 3 with value: 0.6408206370546913.\u001b[0m\n"
     ]
    },
    {
     "name": "stdout",
     "output_type": "stream",
     "text": [
      "Optimization terminated successfully.\n",
      "         Current function value: -1.388019\n",
      "         Iterations: 8\n",
      "         Function evaluations: 1071\n",
      "Optimization terminated successfully.\n",
      "         Current function value: -1.425691\n",
      "         Iterations: 6\n",
      "         Function evaluations: 1142\n"
     ]
    },
    {
     "name": "stderr",
     "output_type": "stream",
     "text": [
      "\u001b[32m[I 2022-03-09 22:10:46,010]\u001b[0m Trial 5 finished with value: 0.6093641286376967 and parameters: {'p': 6, 'd': 0, 'q': 5, 'P': 3, 'D': 0, 'Q': 2}. Best is trial 3 with value: 0.6408206370546913.\u001b[0m\n"
     ]
    },
    {
     "name": "stdout",
     "output_type": "stream",
     "text": [
      "Optimization terminated successfully.\n",
      "         Current function value: -1.427394\n",
      "         Iterations: 9\n",
      "         Function evaluations: 2041\n"
     ]
    },
    {
     "name": "stderr",
     "output_type": "stream",
     "text": [
      "\u001b[32m[I 2022-03-09 22:11:05,830]\u001b[0m Trial 6 finished with value: 0.6328007015460768 and parameters: {'p': 7, 'd': 1, 'q': 5, 'P': 1, 'D': 1, 'Q': 2}. Best is trial 3 with value: 0.6408206370546913.\u001b[0m\n"
     ]
    },
    {
     "name": "stdout",
     "output_type": "stream",
     "text": [
      "Optimization terminated successfully.\n",
      "         Current function value: -1.360736\n",
      "         Iterations: 5\n",
      "         Function evaluations: 936\n"
     ]
    },
    {
     "name": "stderr",
     "output_type": "stream",
     "text": [
      "\u001b[32m[I 2022-03-09 22:11:20,495]\u001b[0m Trial 7 finished with value: 0.6185638159403662 and parameters: {'p': 4, 'd': 1, 'q': 7, 'P': 0, 'D': 1, 'Q': 3}. Best is trial 3 with value: 0.6408206370546913.\u001b[0m\n",
      "\u001b[32m[I 2022-03-09 22:11:25,270]\u001b[0m Trial 8 finished with value: 0.6242712589752811 and parameters: {'p': 0, 'd': 1, 'q': 6, 'P': 1, 'D': 0, 'Q': 1}. Best is trial 3 with value: 0.6408206370546913.\u001b[0m\n"
     ]
    },
    {
     "name": "stdout",
     "output_type": "stream",
     "text": [
      "Optimization terminated successfully.\n",
      "         Current function value: -1.503068\n",
      "         Iterations: 8\n",
      "         Function evaluations: 1059\n"
     ]
    },
    {
     "name": "stderr",
     "output_type": "stream",
     "text": [
      "\u001b[32m[I 2022-03-09 22:11:25,646]\u001b[0m Trial 9 finished with value: 0.624434994568084 and parameters: {'p': 1, 'd': 0, 'q': 1, 'P': 1, 'D': 0, 'Q': 1}. Best is trial 3 with value: 0.6408206370546913.\u001b[0m\n"
     ]
    },
    {
     "name": "stdout",
     "output_type": "stream",
     "text": [
      "Optimization terminated successfully.\n",
      "         Current function value: -1.541126\n",
      "         Iterations: 3\n",
      "         Function evaluations: 186\n",
      "Optimization terminated successfully.\n",
      "         Current function value: -1.393622\n",
      "         Iterations: 8\n",
      "         Function evaluations: 1325\n"
     ]
    },
    {
     "name": "stderr",
     "output_type": "stream",
     "text": [
      "\u001b[32m[I 2022-03-09 22:11:42,117]\u001b[0m Trial 10 finished with value: 0.626233008383049 and parameters: {'p': 4, 'd': 1, 'q': 3, 'P': 3, 'D': 1, 'Q': 3}. Best is trial 3 with value: 0.6408206370546913.\u001b[0m\n"
     ]
    },
    {
     "name": "stdout",
     "output_type": "stream",
     "text": [
      "Optimization terminated successfully.\n",
      "         Current function value: -1.423327\n",
      "         Iterations: 10\n",
      "         Function evaluations: 2313\n"
     ]
    },
    {
     "name": "stderr",
     "output_type": "stream",
     "text": [
      "\u001b[32m[I 2022-03-09 22:12:03,931]\u001b[0m Trial 11 finished with value: 0.6303604806454605 and parameters: {'p': 6, 'd': 1, 'q': 4, 'P': 2, 'D': 1, 'Q': 2}. Best is trial 3 with value: 0.6408206370546913.\u001b[0m\n"
     ]
    },
    {
     "name": "stdout",
     "output_type": "stream",
     "text": [
      "Optimization terminated successfully.\n",
      "         Current function value: -1.382709\n",
      "         Iterations: 10\n",
      "         Function evaluations: 2032\n"
     ]
    },
    {
     "name": "stderr",
     "output_type": "stream",
     "text": [
      "\u001b[32m[I 2022-03-09 22:12:31,471]\u001b[0m Trial 12 finished with value: 0.6338011072312346 and parameters: {'p': 6, 'd': 1, 'q': 4, 'P': 2, 'D': 1, 'Q': 3}. Best is trial 3 with value: 0.6408206370546913.\u001b[0m\n"
     ]
    },
    {
     "name": "stdout",
     "output_type": "stream",
     "text": [
      "Optimization terminated successfully.\n",
      "         Current function value: -1.403652\n",
      "         Iterations: 21\n",
      "         Function evaluations: 3781\n"
     ]
    },
    {
     "name": "stderr",
     "output_type": "stream",
     "text": [
      "\u001b[32m[I 2022-03-09 22:13:19,700]\u001b[0m Trial 13 finished with value: 0.605061498448696 and parameters: {'p': 5, 'd': 1, 'q': 3, 'P': 2, 'D': 1, 'Q': 3}. Best is trial 3 with value: 0.6408206370546913.\u001b[0m\n"
     ]
    },
    {
     "name": "stdout",
     "output_type": "stream",
     "text": [
      "Optimization terminated successfully.\n",
      "         Current function value: -1.380766\n",
      "         Iterations: 5\n",
      "         Function evaluations: 886\n"
     ]
    },
    {
     "name": "stderr",
     "output_type": "stream",
     "text": [
      "\u001b[32m[I 2022-03-09 22:13:31,629]\u001b[0m Trial 14 finished with value: 0.6326374148945809 and parameters: {'p': 3, 'd': 1, 'q': 4, 'P': 2, 'D': 1, 'Q': 3}. Best is trial 3 with value: 0.6408206370546913.\u001b[0m\n",
      "\u001b[32m[I 2022-03-09 22:13:32,617]\u001b[0m Trial 15 finished with value: 0.6617020957655023 and parameters: {'p': 5, 'd': 1, 'q': 0, 'P': 2, 'D': 1, 'Q': 0}. Best is trial 15 with value: 0.6617020957655023.\u001b[0m\n"
     ]
    },
    {
     "name": "stdout",
     "output_type": "stream",
     "text": [
      "Optimization terminated successfully.\n",
      "         Current function value: -1.282829\n",
      "         Iterations: 3\n",
      "         Function evaluations: 269\n"
     ]
    },
    {
     "name": "stderr",
     "output_type": "stream",
     "text": [
      "\u001b[32m[I 2022-03-09 22:13:33,541]\u001b[0m Trial 16 finished with value: 0.5123440227103757 and parameters: {'p': 2, 'd': 1, 'q': 0, 'P': 3, 'D': 0, 'Q': 0}. Best is trial 15 with value: 0.6617020957655023.\u001b[0m\n"
     ]
    },
    {
     "name": "stdout",
     "output_type": "stream",
     "text": [
      "Optimization terminated successfully.\n",
      "         Current function value: -1.261230\n",
      "         Iterations: 4\n",
      "         Function evaluations: 270\n"
     ]
    },
    {
     "name": "stderr",
     "output_type": "stream",
     "text": [
      "\u001b[32m[I 2022-03-09 22:13:34,318]\u001b[0m Trial 17 finished with value: 0.6583085421439114 and parameters: {'p': 5, 'd': 0, 'q': 0, 'P': 2, 'D': 1, 'Q': 0}. Best is trial 15 with value: 0.6617020957655023.\u001b[0m\n"
     ]
    },
    {
     "name": "stdout",
     "output_type": "stream",
     "text": [
      "Optimization terminated successfully.\n",
      "         Current function value: -1.358445\n",
      "         Iterations: 2\n",
      "         Function evaluations: 187\n"
     ]
    },
    {
     "name": "stderr",
     "output_type": "stream",
     "text": [
      "\u001b[32m[I 2022-03-09 22:13:36,052]\u001b[0m Trial 18 finished with value: 0.6397367009449861 and parameters: {'p': 5, 'd': 0, 'q': 0, 'P': 3, 'D': 1, 'Q': 0}. Best is trial 15 with value: 0.6617020957655023.\u001b[0m\n"
     ]
    },
    {
     "name": "stdout",
     "output_type": "stream",
     "text": [
      "Optimization terminated successfully.\n",
      "         Current function value: -1.367602\n",
      "         Iterations: 3\n",
      "         Function evaluations: 311\n"
     ]
    },
    {
     "name": "stderr",
     "output_type": "stream",
     "text": [
      "\u001b[32m[I 2022-03-09 22:13:36,760]\u001b[0m Trial 19 finished with value: 0.6568855015821016 and parameters: {'p': 3, 'd': 0, 'q': 1, 'P': 2, 'D': 1, 'Q': 0}. Best is trial 15 with value: 0.6617020957655023.\u001b[0m\n"
     ]
    },
    {
     "name": "stdout",
     "output_type": "stream",
     "text": [
      "Optimization terminated successfully.\n",
      "         Current function value: -1.365153\n",
      "         Iterations: 2\n",
      "         Function evaluations: 174\n"
     ]
    },
    {
     "name": "stderr",
     "output_type": "stream",
     "text": [
      "\u001b[32m[I 2022-03-09 22:13:38,656]\u001b[0m Trial 20 finished with value: 0.6635565106392913 and parameters: {'p': 4, 'd': 0, 'q': 0, 'P': 1, 'D': 1, 'Q': 1}. Best is trial 20 with value: 0.6635565106392913.\u001b[0m\n"
     ]
    },
    {
     "name": "stdout",
     "output_type": "stream",
     "text": [
      "Optimization terminated successfully.\n",
      "         Current function value: -1.472086\n",
      "         Iterations: 4\n",
      "         Function evaluations: 357\n"
     ]
    },
    {
     "name": "stderr",
     "output_type": "stream",
     "text": [
      "\u001b[32m[I 2022-03-09 22:13:40,468]\u001b[0m Trial 21 finished with value: 0.6635565106392913 and parameters: {'p': 4, 'd': 0, 'q': 0, 'P': 1, 'D': 1, 'Q': 1}. Best is trial 20 with value: 0.6635565106392913.\u001b[0m\n"
     ]
    },
    {
     "name": "stdout",
     "output_type": "stream",
     "text": [
      "Optimization terminated successfully.\n",
      "         Current function value: -1.472086\n",
      "         Iterations: 4\n",
      "         Function evaluations: 357\n"
     ]
    },
    {
     "name": "stderr",
     "output_type": "stream",
     "text": [
      "\u001b[32m[I 2022-03-09 22:13:42,834]\u001b[0m Trial 22 finished with value: 0.6625686385866405 and parameters: {'p': 4, 'd': 0, 'q': 2, 'P': 1, 'D': 1, 'Q': 1}. Best is trial 20 with value: 0.6635565106392913.\u001b[0m\n"
     ]
    },
    {
     "name": "stdout",
     "output_type": "stream",
     "text": [
      "Optimization terminated successfully.\n",
      "         Current function value: -1.471409\n",
      "         Iterations: 4\n",
      "         Function evaluations: 439\n"
     ]
    },
    {
     "name": "stderr",
     "output_type": "stream",
     "text": [
      "\u001b[32m[I 2022-03-09 22:13:45,138]\u001b[0m Trial 23 finished with value: 0.6625686385866405 and parameters: {'p': 4, 'd': 0, 'q': 2, 'P': 1, 'D': 1, 'Q': 1}. Best is trial 20 with value: 0.6635565106392913.\u001b[0m\n"
     ]
    },
    {
     "name": "stdout",
     "output_type": "stream",
     "text": [
      "Optimization terminated successfully.\n",
      "         Current function value: -1.471409\n",
      "         Iterations: 4\n",
      "         Function evaluations: 439\n"
     ]
    },
    {
     "name": "stderr",
     "output_type": "stream",
     "text": [
      "\u001b[32m[I 2022-03-09 22:13:47,135]\u001b[0m Trial 24 finished with value: 0.6630002135989391 and parameters: {'p': 2, 'd': 0, 'q': 2, 'P': 1, 'D': 1, 'Q': 1}. Best is trial 20 with value: 0.6635565106392913.\u001b[0m\n"
     ]
    },
    {
     "name": "stdout",
     "output_type": "stream",
     "text": [
      "Optimization terminated successfully.\n",
      "         Current function value: -1.475827\n",
      "         Iterations: 4\n",
      "         Function evaluations: 372\n"
     ]
    },
    {
     "name": "stderr",
     "output_type": "stream",
     "text": [
      "\u001b[32m[I 2022-03-09 22:13:48,583]\u001b[0m Trial 25 finished with value: 0.6619486003691242 and parameters: {'p': 2, 'd': 0, 'q': 1, 'P': 1, 'D': 1, 'Q': 1}. Best is trial 20 with value: 0.6635565106392913.\u001b[0m\n"
     ]
    },
    {
     "name": "stdout",
     "output_type": "stream",
     "text": [
      "Optimization terminated successfully.\n",
      "         Current function value: -1.479136\n",
      "         Iterations: 4\n",
      "         Function evaluations: 307\n"
     ]
    },
    {
     "name": "stderr",
     "output_type": "stream",
     "text": [
      "\u001b[32m[I 2022-03-09 22:13:50,071]\u001b[0m Trial 26 finished with value: 0.6619486003691242 and parameters: {'p': 2, 'd': 0, 'q': 1, 'P': 1, 'D': 1, 'Q': 1}. Best is trial 20 with value: 0.6635565106392913.\u001b[0m\n"
     ]
    },
    {
     "name": "stdout",
     "output_type": "stream",
     "text": [
      "Optimization terminated successfully.\n",
      "         Current function value: -1.479136\n",
      "         Iterations: 4\n",
      "         Function evaluations: 307\n"
     ]
    },
    {
     "name": "stderr",
     "output_type": "stream",
     "text": [
      "\u001b[32m[I 2022-03-09 22:13:51,318]\u001b[0m Trial 27 finished with value: 0.672433552956991 and parameters: {'p': 1, 'd': 0, 'q': 2, 'P': 0, 'D': 1, 'Q': 1}. Best is trial 27 with value: 0.672433552956991.\u001b[0m\n"
     ]
    },
    {
     "name": "stdout",
     "output_type": "stream",
     "text": [
      "Optimization terminated successfully.\n",
      "         Current function value: -1.474757\n",
      "         Iterations: 3\n",
      "         Function evaluations: 212\n"
     ]
    },
    {
     "name": "stderr",
     "output_type": "stream",
     "text": [
      "\u001b[32m[I 2022-03-09 22:13:52,614]\u001b[0m Trial 28 finished with value: 0.6589624538618428 and parameters: {'p': 0, 'd': 0, 'q': 0, 'P': 0, 'D': 1, 'Q': 2}. Best is trial 27 with value: 0.672433552956991.\u001b[0m\n"
     ]
    },
    {
     "name": "stdout",
     "output_type": "stream",
     "text": [
      "Optimization terminated successfully.\n",
      "         Current function value: -1.432881\n",
      "         Iterations: 4\n",
      "         Function evaluations: 189\n"
     ]
    },
    {
     "name": "stderr",
     "output_type": "stream",
     "text": [
      "\u001b[32m[I 2022-03-09 22:13:55,604]\u001b[0m Trial 29 finished with value: 0.6725169949378507 and parameters: {'p': 1, 'd': 0, 'q': 3, 'P': 0, 'D': 1, 'Q': 1}. Best is trial 29 with value: 0.6725169949378507.\u001b[0m\n"
     ]
    },
    {
     "name": "stdout",
     "output_type": "stream",
     "text": [
      "Optimization terminated successfully.\n",
      "         Current function value: -1.471263\n",
      "         Iterations: 6\n",
      "         Function evaluations: 547\n"
     ]
    },
    {
     "name": "stderr",
     "output_type": "stream",
     "text": [
      "\u001b[32m[I 2022-03-09 22:14:00,747]\u001b[0m Trial 30 finished with value: 0.6593729960323724 and parameters: {'p': 1, 'd': 0, 'q': 3, 'P': 0, 'D': 1, 'Q': 2}. Best is trial 29 with value: 0.6725169949378507.\u001b[0m\n"
     ]
    },
    {
     "name": "stdout",
     "output_type": "stream",
     "text": [
      "Optimization terminated successfully.\n",
      "         Current function value: -1.429450\n",
      "         Iterations: 7\n",
      "         Function evaluations: 674\n"
     ]
    },
    {
     "name": "stderr",
     "output_type": "stream",
     "text": [
      "\u001b[32m[I 2022-03-09 22:14:02,134]\u001b[0m Trial 31 finished with value: 0.672433552956991 and parameters: {'p': 1, 'd': 0, 'q': 2, 'P': 0, 'D': 1, 'Q': 1}. Best is trial 29 with value: 0.6725169949378507.\u001b[0m\n"
     ]
    },
    {
     "name": "stdout",
     "output_type": "stream",
     "text": [
      "Optimization terminated successfully.\n",
      "         Current function value: -1.474757\n",
      "         Iterations: 3\n",
      "         Function evaluations: 212\n"
     ]
    },
    {
     "name": "stderr",
     "output_type": "stream",
     "text": [
      "\u001b[32m[I 2022-03-09 22:14:05,138]\u001b[0m Trial 32 finished with value: 0.6725169949378507 and parameters: {'p': 1, 'd': 0, 'q': 3, 'P': 0, 'D': 1, 'Q': 1}. Best is trial 29 with value: 0.6725169949378507.\u001b[0m\n"
     ]
    },
    {
     "name": "stdout",
     "output_type": "stream",
     "text": [
      "Optimization terminated successfully.\n",
      "         Current function value: -1.471263\n",
      "         Iterations: 6\n",
      "         Function evaluations: 547\n"
     ]
    },
    {
     "name": "stderr",
     "output_type": "stream",
     "text": [
      "\u001b[32m[I 2022-03-09 22:14:08,147]\u001b[0m Trial 33 finished with value: 0.6725169949378507 and parameters: {'p': 1, 'd': 0, 'q': 3, 'P': 0, 'D': 1, 'Q': 1}. Best is trial 29 with value: 0.6725169949378507.\u001b[0m\n"
     ]
    },
    {
     "name": "stdout",
     "output_type": "stream",
     "text": [
      "Optimization terminated successfully.\n",
      "         Current function value: -1.471263\n",
      "         Iterations: 6\n",
      "         Function evaluations: 547\n"
     ]
    },
    {
     "name": "stderr",
     "output_type": "stream",
     "text": [
      "\u001b[32m[I 2022-03-09 22:14:09,287]\u001b[0m Trial 34 finished with value: 0.6727824512283433 and parameters: {'p': 0, 'd': 0, 'q': 3, 'P': 0, 'D': 1, 'Q': 1}. Best is trial 34 with value: 0.6727824512283433.\u001b[0m\n"
     ]
    },
    {
     "name": "stdout",
     "output_type": "stream",
     "text": [
      "Optimization terminated successfully.\n",
      "         Current function value: -1.470780\n",
      "         Iterations: 3\n",
      "         Function evaluations: 198\n"
     ]
    },
    {
     "name": "stderr",
     "output_type": "stream",
     "text": [
      "\u001b[32m[I 2022-03-09 22:14:10,431]\u001b[0m Trial 35 finished with value: 0.6727824512283433 and parameters: {'p': 0, 'd': 0, 'q': 3, 'P': 0, 'D': 1, 'Q': 1}. Best is trial 34 with value: 0.6727824512283433.\u001b[0m\n"
     ]
    },
    {
     "name": "stdout",
     "output_type": "stream",
     "text": [
      "Optimization terminated successfully.\n",
      "         Current function value: -1.470780\n",
      "         Iterations: 3\n",
      "         Function evaluations: 198\n"
     ]
    },
    {
     "name": "stderr",
     "output_type": "stream",
     "text": [
      "\u001b[32m[I 2022-03-09 22:14:12,218]\u001b[0m Trial 36 finished with value: 0.6728751513619711 and parameters: {'p': 0, 'd': 0, 'q': 5, 'P': 0, 'D': 1, 'Q': 1}. Best is trial 36 with value: 0.6728751513619711.\u001b[0m\n"
     ]
    },
    {
     "name": "stdout",
     "output_type": "stream",
     "text": [
      "Optimization terminated successfully.\n",
      "         Current function value: -1.462619\n",
      "         Iterations: 3\n",
      "         Function evaluations: 268\n",
      "Optimization terminated successfully.\n",
      "         Current function value: -1.415302\n",
      "         Iterations: 4\n",
      "         Function evaluations: 464\n"
     ]
    },
    {
     "name": "stderr",
     "output_type": "stream",
     "text": [
      "\u001b[32m[I 2022-03-09 22:14:16,603]\u001b[0m Trial 37 finished with value: 0.6620678739530308 and parameters: {'p': 0, 'd': 0, 'q': 6, 'P': 0, 'D': 1, 'Q': 2}. Best is trial 36 with value: 0.6728751513619711.\u001b[0m\n",
      "\u001b[32m[I 2022-03-09 22:14:19,742]\u001b[0m Trial 38 finished with value: -13.609445509021569 and parameters: {'p': 0, 'd': 0, 'q': 5, 'P': 0, 'D': 0, 'Q': 2}. Best is trial 36 with value: 0.6728751513619711.\u001b[0m\n"
     ]
    },
    {
     "name": "stdout",
     "output_type": "stream",
     "text": [
      "Optimization terminated successfully.\n",
      "         Current function value: -0.930541\n",
      "         Iterations: 6\n",
      "         Function evaluations: 614\n"
     ]
    },
    {
     "name": "stderr",
     "output_type": "stream",
     "text": [
      "\u001b[32m[I 2022-03-09 22:14:21,442]\u001b[0m Trial 39 finished with value: 0.6728751513619711 and parameters: {'p': 0, 'd': 0, 'q': 5, 'P': 0, 'D': 1, 'Q': 1}. Best is trial 36 with value: 0.6728751513619711.\u001b[0m\n"
     ]
    },
    {
     "name": "stdout",
     "output_type": "stream",
     "text": [
      "Optimization terminated successfully.\n",
      "         Current function value: -1.462619\n",
      "         Iterations: 3\n",
      "         Function evaluations: 268\n"
     ]
    },
    {
     "name": "stderr",
     "output_type": "stream",
     "text": [
      "\u001b[32m[I 2022-03-09 22:14:24,400]\u001b[0m Trial 40 finished with value: 0.6841709324990719 and parameters: {'p': 0, 'd': 0, 'q': 8, 'P': 0, 'D': 1, 'Q': 0}. Best is trial 40 with value: 0.6841709324990719.\u001b[0m\n"
     ]
    },
    {
     "name": "stdout",
     "output_type": "stream",
     "text": [
      "Optimization terminated successfully.\n",
      "         Current function value: -1.282503\n",
      "         Iterations: 6\n",
      "         Function evaluations: 732\n"
     ]
    },
    {
     "name": "stderr",
     "output_type": "stream",
     "text": [
      "\u001b[32m[I 2022-03-09 22:14:29,036]\u001b[0m Trial 41 finished with value: 0.6815025591114151 and parameters: {'p': 0, 'd': 0, 'q': 7, 'P': 0, 'D': 1, 'Q': 0}. Best is trial 40 with value: 0.6841709324990719.\u001b[0m\n"
     ]
    },
    {
     "name": "stdout",
     "output_type": "stream",
     "text": [
      "Optimization terminated successfully.\n",
      "         Current function value: -1.281395\n",
      "         Iterations: 11\n",
      "         Function evaluations: 1243\n"
     ]
    },
    {
     "name": "stderr",
     "output_type": "stream",
     "text": [
      "\u001b[32m[I 2022-03-09 22:14:32,030]\u001b[0m Trial 42 finished with value: 0.6841709324990719 and parameters: {'p': 0, 'd': 0, 'q': 8, 'P': 0, 'D': 1, 'Q': 0}. Best is trial 40 with value: 0.6841709324990719.\u001b[0m\n"
     ]
    },
    {
     "name": "stdout",
     "output_type": "stream",
     "text": [
      "Optimization terminated successfully.\n",
      "         Current function value: -1.282503\n",
      "         Iterations: 6\n",
      "         Function evaluations: 732\n"
     ]
    },
    {
     "name": "stderr",
     "output_type": "stream",
     "text": [
      "\u001b[32m[I 2022-03-09 22:14:34,892]\u001b[0m Trial 43 finished with value: 0.6841709324990719 and parameters: {'p': 0, 'd': 0, 'q': 8, 'P': 0, 'D': 1, 'Q': 0}. Best is trial 40 with value: 0.6841709324990719.\u001b[0m\n"
     ]
    },
    {
     "name": "stdout",
     "output_type": "stream",
     "text": [
      "Optimization terminated successfully.\n",
      "         Current function value: -1.282503\n",
      "         Iterations: 6\n",
      "         Function evaluations: 732\n"
     ]
    },
    {
     "name": "stderr",
     "output_type": "stream",
     "text": [
      "\u001b[32m[I 2022-03-09 22:14:37,847]\u001b[0m Trial 44 finished with value: 0.6841709324990719 and parameters: {'p': 0, 'd': 0, 'q': 8, 'P': 0, 'D': 1, 'Q': 0}. Best is trial 40 with value: 0.6841709324990719.\u001b[0m\n"
     ]
    },
    {
     "name": "stdout",
     "output_type": "stream",
     "text": [
      "Optimization terminated successfully.\n",
      "         Current function value: -1.282503\n",
      "         Iterations: 6\n",
      "         Function evaluations: 732\n"
     ]
    },
    {
     "name": "stderr",
     "output_type": "stream",
     "text": [
      "\u001b[32m[I 2022-03-09 22:14:40,816]\u001b[0m Trial 45 finished with value: 0.6841709324990719 and parameters: {'p': 0, 'd': 0, 'q': 8, 'P': 0, 'D': 1, 'Q': 0}. Best is trial 40 with value: 0.6841709324990719.\u001b[0m\n"
     ]
    },
    {
     "name": "stdout",
     "output_type": "stream",
     "text": [
      "Optimization terminated successfully.\n",
      "         Current function value: -1.282503\n",
      "         Iterations: 6\n",
      "         Function evaluations: 732\n"
     ]
    },
    {
     "name": "stderr",
     "output_type": "stream",
     "text": [
      "\u001b[32m[I 2022-03-09 22:14:42,238]\u001b[0m Trial 46 finished with value: -0.028881005887790412 and parameters: {'p': 1, 'd': 0, 'q': 8, 'P': 0, 'D': 0, 'Q': 0}. Best is trial 40 with value: 0.6841709324990719.\u001b[0m\n"
     ]
    },
    {
     "name": "stdout",
     "output_type": "stream",
     "text": [
      "Optimization terminated successfully.\n",
      "         Current function value: -1.353478\n",
      "         Iterations: 15\n",
      "         Function evaluations: 2221\n"
     ]
    },
    {
     "name": "stderr",
     "output_type": "stream",
     "text": [
      "\u001b[32m[I 2022-03-09 22:14:45,067]\u001b[0m Trial 47 finished with value: 0.6841709324990719 and parameters: {'p': 0, 'd': 0, 'q': 8, 'P': 0, 'D': 1, 'Q': 0}. Best is trial 40 with value: 0.6841709324990719.\u001b[0m\n"
     ]
    },
    {
     "name": "stdout",
     "output_type": "stream",
     "text": [
      "Optimization terminated successfully.\n",
      "         Current function value: -1.282503\n",
      "         Iterations: 6\n",
      "         Function evaluations: 732\n"
     ]
    },
    {
     "name": "stderr",
     "output_type": "stream",
     "text": [
      "\u001b[32m[I 2022-03-09 22:14:56,615]\u001b[0m Trial 48 finished with value: 0.6819747550332462 and parameters: {'p': 8, 'd': 0, 'q': 8, 'P': 0, 'D': 1, 'Q': 0}. Best is trial 40 with value: 0.6841709324990719.\u001b[0m\n"
     ]
    },
    {
     "name": "stdout",
     "output_type": "stream",
     "text": [
      "Optimization terminated successfully.\n",
      "         Current function value: -1.357191\n",
      "         Iterations: 14\n",
      "         Function evaluations: 2748\n"
     ]
    },
    {
     "name": "stderr",
     "output_type": "stream",
     "text": [
      "\u001b[32m[I 2022-03-09 22:14:59,413]\u001b[0m Trial 49 finished with value: 0.6847998354831903 and parameters: {'p': 1, 'd': 0, 'q': 7, 'P': 0, 'D': 1, 'Q': 0}. Best is trial 49 with value: 0.6847998354831903.\u001b[0m\n",
      "\u001b[32m[I 2022-03-09 22:14:59,470]\u001b[0m A new study created in memory with name: no-name-aa6e1a93-f71c-46b7-b9fe-13d17e153fda\u001b[0m\n"
     ]
    },
    {
     "name": "stdout",
     "output_type": "stream",
     "text": [
      "Optimization terminated successfully.\n",
      "         Current function value: -1.276273\n",
      "         Iterations: 7\n",
      "         Function evaluations: 859\n"
     ]
    },
    {
     "name": "stderr",
     "output_type": "stream",
     "text": [
      "\u001b[32m[I 2022-03-09 22:15:06,140]\u001b[0m Trial 0 finished with value: 0.6222065139531963 and parameters: {'p': 1, 'd': 1, 'q': 4, 'P': 1, 'D': 0, 'Q': 2}. Best is trial 0 with value: 0.6222065139531963.\u001b[0m\n"
     ]
    },
    {
     "name": "stdout",
     "output_type": "stream",
     "text": [
      "Optimization terminated successfully.\n",
      "         Current function value: -1.460944\n",
      "         Iterations: 9\n",
      "         Function evaluations: 1167\n",
      "Optimization terminated successfully.\n",
      "         Current function value: -1.440143\n",
      "         Iterations: 4\n",
      "         Function evaluations: 444\n"
     ]
    },
    {
     "name": "stderr",
     "output_type": "stream",
     "text": [
      "\u001b[32m[I 2022-03-09 22:15:10,011]\u001b[0m Trial 1 finished with value: 0.6290702063562743 and parameters: {'p': 3, 'd': 0, 'q': 0, 'P': 3, 'D': 0, 'Q': 3}. Best is trial 1 with value: 0.6290702063562743.\u001b[0m\n"
     ]
    },
    {
     "name": "stdout",
     "output_type": "stream",
     "text": [
      "Optimization terminated successfully.\n",
      "         Current function value: -0.529901\n",
      "         Iterations: 37\n",
      "         Function evaluations: 8199\n"
     ]
    },
    {
     "name": "stderr",
     "output_type": "stream",
     "text": [
      "\u001b[32m[I 2022-03-09 22:16:21,710]\u001b[0m Trial 2 finished with value: -22032160506.593075 and parameters: {'p': 8, 'd': 0, 'q': 4, 'P': 1, 'D': 1, 'Q': 2}. Best is trial 1 with value: 0.6290702063562743.\u001b[0m\n",
      "\u001b[32m[I 2022-03-09 22:16:21,879]\u001b[0m Trial 3 finished with value: 0.006959167508439945 and parameters: {'p': 3, 'd': 1, 'q': 2, 'P': 0, 'D': 0, 'Q': 0}. Best is trial 1 with value: 0.6290702063562743.\u001b[0m\n"
     ]
    },
    {
     "name": "stdout",
     "output_type": "stream",
     "text": [
      "Optimization terminated successfully.\n",
      "         Current function value: -1.322027\n",
      "         Iterations: 3\n",
      "         Function evaluations: 230\n",
      "Optimization terminated successfully.\n",
      "         Current function value: -1.381049\n",
      "         Iterations: 10\n",
      "         Function evaluations: 2145\n"
     ]
    },
    {
     "name": "stderr",
     "output_type": "stream",
     "text": [
      "\u001b[32m[I 2022-03-09 22:16:52,985]\u001b[0m Trial 4 finished with value: 0.636358074139119 and parameters: {'p': 8, 'd': 1, 'q': 5, 'P': 1, 'D': 1, 'Q': 3}. Best is trial 4 with value: 0.636358074139119.\u001b[0m\n"
     ]
    },
    {
     "name": "stdout",
     "output_type": "stream",
     "text": [
      "Optimization terminated successfully.\n",
      "         Current function value: -1.397708\n",
      "         Iterations: 13\n",
      "         Function evaluations: 2529\n"
     ]
    },
    {
     "name": "stderr",
     "output_type": "stream",
     "text": [
      "\u001b[32m[I 2022-03-09 22:17:06,721]\u001b[0m Trial 5 finished with value: 0.5354929486553501 and parameters: {'p': 5, 'd': 1, 'q': 7, 'P': 2, 'D': 0, 'Q': 0}. Best is trial 4 with value: 0.636358074139119.\u001b[0m\n"
     ]
    },
    {
     "name": "stdout",
     "output_type": "stream",
     "text": [
      "Optimization terminated successfully.\n",
      "         Current function value: -1.421893\n",
      "         Iterations: 6\n",
      "         Function evaluations: 1064\n"
     ]
    },
    {
     "name": "stderr",
     "output_type": "stream",
     "text": [
      "\u001b[32m[I 2022-03-09 22:17:15,893]\u001b[0m Trial 6 finished with value: 0.6020182273685092 and parameters: {'p': 6, 'd': 0, 'q': 5, 'P': 3, 'D': 0, 'Q': 1}. Best is trial 4 with value: 0.636358074139119.\u001b[0m\n",
      "\u001b[32m[I 2022-03-09 22:17:20,804]\u001b[0m Trial 7 finished with value: 0.6305974214609009 and parameters: {'p': 8, 'd': 1, 'q': 2, 'P': 1, 'D': 0, 'Q': 1}. Best is trial 4 with value: 0.636358074139119.\u001b[0m\n"
     ]
    },
    {
     "name": "stdout",
     "output_type": "stream",
     "text": [
      "Optimization terminated successfully.\n",
      "         Current function value: -1.502533\n",
      "         Iterations: 8\n",
      "         Function evaluations: 1182\n"
     ]
    },
    {
     "name": "stderr",
     "output_type": "stream",
     "text": [
      "\u001b[32m[I 2022-03-09 22:17:23,168]\u001b[0m Trial 8 finished with value: 0.07801744857042081 and parameters: {'p': 0, 'd': 1, 'q': 6, 'P': 0, 'D': 0, 'Q': 1}. Best is trial 4 with value: 0.636358074139119.\u001b[0m\n"
     ]
    },
    {
     "name": "stdout",
     "output_type": "stream",
     "text": [
      "Optimization terminated successfully.\n",
      "         Current function value: -1.319422\n",
      "         Iterations: 7\n",
      "         Function evaluations: 913\n",
      "Optimization terminated successfully.\n",
      "         Current function value: -1.405220\n",
      "         Iterations: 20\n",
      "         Function evaluations: 3815\n"
     ]
    },
    {
     "name": "stderr",
     "output_type": "stream",
     "text": [
      "\u001b[32m[I 2022-03-09 22:18:10,653]\u001b[0m Trial 9 finished with value: 0.638883781888898 and parameters: {'p': 7, 'd': 1, 'q': 3, 'P': 2, 'D': 1, 'Q': 3}. Best is trial 9 with value: 0.638883781888898.\u001b[0m\n"
     ]
    },
    {
     "name": "stdout",
     "output_type": "stream",
     "text": [
      "Optimization terminated successfully.\n",
      "         Current function value: -1.384733\n",
      "         Iterations: 14\n",
      "         Function evaluations: 3282\n"
     ]
    },
    {
     "name": "stderr",
     "output_type": "stream",
     "text": [
      "\u001b[32m[I 2022-03-09 22:18:58,743]\u001b[0m Trial 10 finished with value: 0.6717290688125355 and parameters: {'p': 6, 'd': 0, 'q': 8, 'P': 2, 'D': 1, 'Q': 3}. Best is trial 10 with value: 0.6717290688125355.\u001b[0m\n"
     ]
    },
    {
     "name": "stdout",
     "output_type": "stream",
     "text": [
      "Optimization terminated successfully.\n",
      "         Current function value: -1.384733\n",
      "         Iterations: 14\n",
      "         Function evaluations: 3282\n"
     ]
    },
    {
     "name": "stderr",
     "output_type": "stream",
     "text": [
      "\u001b[32m[I 2022-03-09 22:19:46,776]\u001b[0m Trial 11 finished with value: 0.6717290688125355 and parameters: {'p': 6, 'd': 0, 'q': 8, 'P': 2, 'D': 1, 'Q': 3}. Best is trial 10 with value: 0.6717290688125355.\u001b[0m\n"
     ]
    },
    {
     "name": "stdout",
     "output_type": "stream",
     "text": [
      "Optimization terminated successfully.\n",
      "         Current function value: -1.422488\n",
      "         Iterations: 10\n",
      "         Function evaluations: 2312\n"
     ]
    },
    {
     "name": "stderr",
     "output_type": "stream",
     "text": [
      "\u001b[32m[I 2022-03-09 22:20:10,645]\u001b[0m Trial 12 finished with value: 0.6671785554277239 and parameters: {'p': 5, 'd': 0, 'q': 8, 'P': 2, 'D': 1, 'Q': 2}. Best is trial 10 with value: 0.6717290688125355.\u001b[0m\n"
     ]
    },
    {
     "name": "stdout",
     "output_type": "stream",
     "text": [
      "Optimization terminated successfully.\n",
      "         Current function value: -1.389361\n",
      "         Iterations: 10\n",
      "         Function evaluations: 2376\n"
     ]
    },
    {
     "name": "stderr",
     "output_type": "stream",
     "text": [
      "\u001b[32m[I 2022-03-09 22:20:43,435]\u001b[0m Trial 13 finished with value: 0.6603767518833088 and parameters: {'p': 6, 'd': 0, 'q': 8, 'P': 3, 'D': 1, 'Q': 3}. Best is trial 10 with value: 0.6717290688125355.\u001b[0m\n"
     ]
    },
    {
     "name": "stdout",
     "output_type": "stream",
     "text": [
      "Optimization terminated successfully.\n",
      "         Current function value: -1.378155\n",
      "         Iterations: 11\n",
      "         Function evaluations: 2266\n"
     ]
    },
    {
     "name": "stderr",
     "output_type": "stream",
     "text": [
      "\u001b[32m[I 2022-03-09 22:21:13,090]\u001b[0m Trial 14 finished with value: 0.6636128331293151 and parameters: {'p': 4, 'd': 0, 'q': 7, 'P': 2, 'D': 1, 'Q': 3}. Best is trial 10 with value: 0.6717290688125355.\u001b[0m\n"
     ]
    },
    {
     "name": "stdout",
     "output_type": "stream",
     "text": [
      "Optimization terminated successfully.\n",
      "         Current function value: -1.422131\n",
      "         Iterations: 10\n",
      "         Function evaluations: 2355\n"
     ]
    },
    {
     "name": "stderr",
     "output_type": "stream",
     "text": [
      "\u001b[32m[I 2022-03-09 22:21:37,502]\u001b[0m Trial 15 finished with value: 0.6636036806716155 and parameters: {'p': 6, 'd': 0, 'q': 8, 'P': 2, 'D': 1, 'Q': 2}. Best is trial 10 with value: 0.6717290688125355.\u001b[0m\n"
     ]
    },
    {
     "name": "stdout",
     "output_type": "stream",
     "text": [
      "Optimization terminated successfully.\n",
      "         Current function value: -1.379648\n",
      "         Iterations: 4\n",
      "         Function evaluations: 817\n"
     ]
    },
    {
     "name": "stderr",
     "output_type": "stream",
     "text": [
      "\u001b[32m[I 2022-03-09 22:21:47,269]\u001b[0m Trial 16 finished with value: 0.6524483422906111 and parameters: {'p': 4, 'd': 0, 'q': 6, 'P': 3, 'D': 1, 'Q': 3}. Best is trial 10 with value: 0.6717290688125355.\u001b[0m\n"
     ]
    },
    {
     "name": "stdout",
     "output_type": "stream",
     "text": [
      "Optimization terminated successfully.\n",
      "         Current function value: -1.419881\n",
      "         Iterations: 7\n",
      "         Function evaluations: 1716\n"
     ]
    },
    {
     "name": "stderr",
     "output_type": "stream",
     "text": [
      "\u001b[32m[I 2022-03-09 22:22:03,565]\u001b[0m Trial 17 finished with value: 0.6563892940909866 and parameters: {'p': 7, 'd': 0, 'q': 7, 'P': 2, 'D': 1, 'Q': 2}. Best is trial 10 with value: 0.6717290688125355.\u001b[0m\n"
     ]
    },
    {
     "name": "stdout",
     "output_type": "stream",
     "text": [
      "Optimization terminated successfully.\n",
      "         Current function value: -1.368537\n",
      "         Iterations: 3\n",
      "         Function evaluations: 455\n"
     ]
    },
    {
     "name": "stderr",
     "output_type": "stream",
     "text": [
      "\u001b[32m[I 2022-03-09 22:22:10,354]\u001b[0m Trial 18 finished with value: 0.6695337905119247 and parameters: {'p': 2, 'd': 0, 'q': 6, 'P': 1, 'D': 1, 'Q': 3}. Best is trial 10 with value: 0.6717290688125355.\u001b[0m\n"
     ]
    },
    {
     "name": "stdout",
     "output_type": "stream",
     "text": [
      "Optimization terminated successfully.\n",
      "         Current function value: -1.401300\n",
      "         Iterations: 10\n",
      "         Function evaluations: 2293\n"
     ]
    },
    {
     "name": "stderr",
     "output_type": "stream",
     "text": [
      "\u001b[32m[I 2022-03-09 22:22:34,530]\u001b[0m Trial 19 finished with value: 0.6548685829004322 and parameters: {'p': 5, 'd': 0, 'q': 8, 'P': 3, 'D': 1, 'Q': 2}. Best is trial 10 with value: 0.6717290688125355.\u001b[0m\n"
     ]
    },
    {
     "name": "stdout",
     "output_type": "stream",
     "text": [
      "Optimization terminated successfully.\n",
      "         Current function value: -1.340222\n",
      "         Iterations: 38\n",
      "         Function evaluations: 8968\n"
     ]
    },
    {
     "name": "stderr",
     "output_type": "stream",
     "text": [
      "\u001b[32m[I 2022-03-09 22:24:26,199]\u001b[0m Trial 20 finished with value: 0.7183321048206581 and parameters: {'p': 7, 'd': 0, 'q': 5, 'P': 2, 'D': 1, 'Q': 3}. Best is trial 20 with value: 0.7183321048206581.\u001b[0m\n"
     ]
    },
    {
     "name": "stdout",
     "output_type": "stream",
     "text": [
      "Optimization terminated successfully.\n",
      "         Current function value: -1.401051\n",
      "         Iterations: 4\n",
      "         Function evaluations: 634\n"
     ]
    },
    {
     "name": "stderr",
     "output_type": "stream",
     "text": [
      "\u001b[32m[I 2022-03-09 22:24:32,817]\u001b[0m Trial 21 finished with value: 0.6740476690305626 and parameters: {'p': 7, 'd': 0, 'q': 0, 'P': 2, 'D': 1, 'Q': 3}. Best is trial 20 with value: 0.7183321048206581.\u001b[0m\n"
     ]
    },
    {
     "name": "stdout",
     "output_type": "stream",
     "text": [
      "Optimization terminated successfully.\n",
      "         Current function value: -1.401051\n",
      "         Iterations: 4\n",
      "         Function evaluations: 634\n"
     ]
    },
    {
     "name": "stderr",
     "output_type": "stream",
     "text": [
      "\u001b[32m[I 2022-03-09 22:24:39,478]\u001b[0m Trial 22 finished with value: 0.6740476690305626 and parameters: {'p': 7, 'd': 0, 'q': 0, 'P': 2, 'D': 1, 'Q': 3}. Best is trial 20 with value: 0.7183321048206581.\u001b[0m\n"
     ]
    },
    {
     "name": "stdout",
     "output_type": "stream",
     "text": [
      "Optimization terminated successfully.\n",
      "         Current function value: -1.401051\n",
      "         Iterations: 4\n",
      "         Function evaluations: 634\n"
     ]
    },
    {
     "name": "stderr",
     "output_type": "stream",
     "text": [
      "\u001b[32m[I 2022-03-09 22:24:46,185]\u001b[0m Trial 23 finished with value: 0.6740476690305626 and parameters: {'p': 7, 'd': 0, 'q': 0, 'P': 2, 'D': 1, 'Q': 3}. Best is trial 20 with value: 0.7183321048206581.\u001b[0m\n"
     ]
    },
    {
     "name": "stdout",
     "output_type": "stream",
     "text": [
      "Optimization terminated successfully.\n",
      "         Current function value: -1.440228\n",
      "         Iterations: 3\n",
      "         Function evaluations: 450\n"
     ]
    },
    {
     "name": "stderr",
     "output_type": "stream",
     "text": [
      "\u001b[32m[I 2022-03-09 22:24:49,540]\u001b[0m Trial 24 finished with value: 0.6699260619522442 and parameters: {'p': 7, 'd': 0, 'q': 1, 'P': 1, 'D': 1, 'Q': 2}. Best is trial 20 with value: 0.7183321048206581.\u001b[0m\n"
     ]
    },
    {
     "name": "stdout",
     "output_type": "stream",
     "text": [
      "Optimization terminated successfully.\n",
      "         Current function value: -1.403862\n",
      "         Iterations: 4\n",
      "         Function evaluations: 642\n"
     ]
    },
    {
     "name": "stderr",
     "output_type": "stream",
     "text": [
      "\u001b[32m[I 2022-03-09 22:24:56,208]\u001b[0m Trial 25 finished with value: 0.6715564605649131 and parameters: {'p': 8, 'd': 0, 'q': 0, 'P': 2, 'D': 1, 'Q': 3}. Best is trial 20 with value: 0.7183321048206581.\u001b[0m\n"
     ]
    },
    {
     "name": "stdout",
     "output_type": "stream",
     "text": [
      "Optimization terminated successfully.\n",
      "         Current function value: -1.380248\n",
      "         Iterations: 4\n",
      "         Function evaluations: 671\n"
     ]
    },
    {
     "name": "stderr",
     "output_type": "stream",
     "text": [
      "\u001b[32m[I 2022-03-09 22:25:03,697]\u001b[0m Trial 26 finished with value: 0.6496793474496552 and parameters: {'p': 7, 'd': 0, 'q': 1, 'P': 3, 'D': 1, 'Q': 2}. Best is trial 20 with value: 0.7183321048206581.\u001b[0m\n"
     ]
    },
    {
     "name": "stdout",
     "output_type": "stream",
     "text": [
      "Optimization terminated successfully.\n",
      "         Current function value: -1.398530\n",
      "         Iterations: 4\n",
      "         Function evaluations: 668\n"
     ]
    },
    {
     "name": "stderr",
     "output_type": "stream",
     "text": [
      "\u001b[32m[I 2022-03-09 22:25:10,869]\u001b[0m Trial 27 finished with value: 0.6711907797918271 and parameters: {'p': 8, 'd': 0, 'q': 1, 'P': 2, 'D': 1, 'Q': 3}. Best is trial 20 with value: 0.7183321048206581.\u001b[0m\n",
      "\u001b[32m[I 2022-03-09 22:25:14,696]\u001b[0m Trial 28 finished with value: 0.6688228554214555 and parameters: {'p': 5, 'd': 0, 'q': 2, 'P': 1, 'D': 1, 'Q': 1}. Best is trial 20 with value: 0.7183321048206581.\u001b[0m\n"
     ]
    },
    {
     "name": "stdout",
     "output_type": "stream",
     "text": [
      "Optimization terminated successfully.\n",
      "         Current function value: -1.468181\n",
      "         Iterations: 6\n",
      "         Function evaluations: 791\n",
      "Warning: Maximum number of iterations has been exceeded.\n"
     ]
    },
    {
     "name": "stderr",
     "output_type": "stream",
     "text": [
      "/home/elasive/miniconda3/envs/SERF/lib/python3.7/site-packages/statsmodels/base/model.py:606: ConvergenceWarning: Maximum Likelihood optimization failed to converge. Check mle_retvals\n",
      "  ConvergenceWarning)\n",
      "\u001b[32m[I 2022-03-09 22:26:23,652]\u001b[0m Trial 29 finished with value: 0.6796435641004088 and parameters: {'p': 7, 'd': 0, 'q': 4, 'P': 0, 'D': 1, 'Q': 2}. Best is trial 20 with value: 0.7183321048206581.\u001b[0m\n",
      "\u001b[32m[I 2022-03-09 22:26:28,550]\u001b[0m Trial 30 finished with value: 0.6593729960323724 and parameters: {'p': 1, 'd': 0, 'q': 3, 'P': 0, 'D': 1, 'Q': 2}. Best is trial 20 with value: 0.7183321048206581.\u001b[0m\n"
     ]
    },
    {
     "name": "stdout",
     "output_type": "stream",
     "text": [
      "Optimization terminated successfully.\n",
      "         Current function value: -1.429450\n",
      "         Iterations: 7\n",
      "         Function evaluations: 674\n",
      "Warning: Maximum number of iterations has been exceeded.\n"
     ]
    },
    {
     "name": "stderr",
     "output_type": "stream",
     "text": [
      "/home/elasive/miniconda3/envs/SERF/lib/python3.7/site-packages/statsmodels/base/model.py:606: ConvergenceWarning: Maximum Likelihood optimization failed to converge. Check mle_retvals\n",
      "  ConvergenceWarning)\n",
      "\u001b[32m[I 2022-03-09 22:28:14,008]\u001b[0m Trial 31 finished with value: 0.6560425235086027 and parameters: {'p': 7, 'd': 0, 'q': 4, 'P': 0, 'D': 1, 'Q': 3}. Best is trial 20 with value: 0.7183321048206581.\u001b[0m\n"
     ]
    },
    {
     "name": "stdout",
     "output_type": "stream",
     "text": [
      "Optimization terminated successfully.\n",
      "         Current function value: -1.340222\n",
      "         Iterations: 38\n",
      "         Function evaluations: 8968\n"
     ]
    },
    {
     "name": "stderr",
     "output_type": "stream",
     "text": [
      "\u001b[32m[I 2022-03-09 22:30:00,545]\u001b[0m Trial 32 finished with value: 0.7183321048206581 and parameters: {'p': 7, 'd': 0, 'q': 5, 'P': 2, 'D': 1, 'Q': 3}. Best is trial 20 with value: 0.7183321048206581.\u001b[0m\n"
     ]
    },
    {
     "name": "stdout",
     "output_type": "stream",
     "text": [
      "Optimization terminated successfully.\n",
      "         Current function value: -1.361971\n",
      "         Iterations: 42\n",
      "         Function evaluations: 9186\n"
     ]
    },
    {
     "name": "stderr",
     "output_type": "stream",
     "text": [
      "\u001b[32m[I 2022-03-09 22:31:14,658]\u001b[0m Trial 33 finished with value: 0.6984829136400749 and parameters: {'p': 8, 'd': 0, 'q': 5, 'P': 1, 'D': 1, 'Q': 2}. Best is trial 20 with value: 0.7183321048206581.\u001b[0m\n"
     ]
    },
    {
     "name": "stdout",
     "output_type": "stream",
     "text": [
      "Optimization terminated successfully.\n",
      "         Current function value: -1.397903\n",
      "         Iterations: 41\n",
      "         Function evaluations: 8287\n"
     ]
    },
    {
     "name": "stderr",
     "output_type": "stream",
     "text": [
      "\u001b[32m[I 2022-03-09 22:32:21,305]\u001b[0m Trial 34 finished with value: 0.6496125169950537 and parameters: {'p': 8, 'd': 0, 'q': 5, 'P': 0, 'D': 1, 'Q': 2}. Best is trial 20 with value: 0.7183321048206581.\u001b[0m\n"
     ]
    },
    {
     "name": "stdout",
     "output_type": "stream",
     "text": [
      "Optimization terminated successfully.\n",
      "         Current function value: -1.416113\n",
      "         Iterations: 30\n",
      "         Function evaluations: 6103\n"
     ]
    },
    {
     "name": "stderr",
     "output_type": "stream",
     "text": [
      "\u001b[32m[I 2022-03-09 22:32:55,057]\u001b[0m Trial 35 finished with value: 0.6997147345998532 and parameters: {'p': 8, 'd': 0, 'q': 5, 'P': 1, 'D': 1, 'Q': 1}. Best is trial 20 with value: 0.7183321048206581.\u001b[0m\n",
      "\u001b[32m[I 2022-03-09 22:33:10,315]\u001b[0m Trial 36 finished with value: 0.665999319503781 and parameters: {'p': 8, 'd': 0, 'q': 5, 'P': 1, 'D': 0, 'Q': 0}. Best is trial 20 with value: 0.7183321048206581.\u001b[0m\n"
     ]
    },
    {
     "name": "stdout",
     "output_type": "stream",
     "text": [
      "Optimization terminated successfully.\n",
      "         Current function value: -1.313722\n",
      "         Iterations: 29\n",
      "         Function evaluations: 4913\n",
      "Optimization terminated successfully.\n",
      "         Current function value: -1.454735\n",
      "         Iterations: 14\n",
      "         Function evaluations: 3099\n"
     ]
    },
    {
     "name": "stderr",
     "output_type": "stream",
     "text": [
      "\u001b[32m[I 2022-03-09 22:33:29,058]\u001b[0m Trial 37 finished with value: 0.632623923148911 and parameters: {'p': 8, 'd': 1, 'q': 5, 'P': 1, 'D': 1, 'Q': 1}. Best is trial 20 with value: 0.7183321048206581.\u001b[0m\n",
      "\u001b[32m[I 2022-03-09 22:33:31,690]\u001b[0m Trial 38 finished with value: 0.6620595997946663 and parameters: {'p': 3, 'd': 0, 'q': 3, 'P': 1, 'D': 1, 'Q': 1}. Best is trial 20 with value: 0.7183321048206581.\u001b[0m\n"
     ]
    },
    {
     "name": "stdout",
     "output_type": "stream",
     "text": [
      "Optimization terminated successfully.\n",
      "         Current function value: -1.471205\n",
      "         Iterations: 4\n",
      "         Function evaluations: 580\n"
     ]
    },
    {
     "name": "stderr",
     "output_type": "stream",
     "text": [
      "\u001b[32m[I 2022-03-09 22:33:38,112]\u001b[0m Trial 39 finished with value: 0.30115409425911066 and parameters: {'p': 8, 'd': 1, 'q': 4, 'P': 1, 'D': 0, 'Q': 0}. Best is trial 20 with value: 0.7183321048206581.\u001b[0m\n"
     ]
    },
    {
     "name": "stdout",
     "output_type": "stream",
     "text": [
      "Optimization terminated successfully.\n",
      "         Current function value: -1.389192\n",
      "         Iterations: 15\n",
      "         Function evaluations: 2454\n"
     ]
    },
    {
     "name": "stderr",
     "output_type": "stream",
     "text": [
      "\u001b[32m[I 2022-03-09 22:33:46,033]\u001b[0m Trial 40 finished with value: 0.6277042664405006 and parameters: {'p': 6, 'd': 0, 'q': 6, 'P': 1, 'D': 0, 'Q': 1}. Best is trial 20 with value: 0.7183321048206581.\u001b[0m\n"
     ]
    },
    {
     "name": "stdout",
     "output_type": "stream",
     "text": [
      "Optimization terminated successfully.\n",
      "         Current function value: -1.514413\n",
      "         Iterations: 11\n",
      "         Function evaluations: 1994\n",
      "Warning: Maximum number of iterations has been exceeded.\n"
     ]
    },
    {
     "name": "stderr",
     "output_type": "stream",
     "text": [
      "/home/elasive/miniconda3/envs/SERF/lib/python3.7/site-packages/statsmodels/base/model.py:606: ConvergenceWarning: Maximum Likelihood optimization failed to converge. Check mle_retvals\n",
      "  ConvergenceWarning)\n",
      "\u001b[32m[I 2022-03-09 22:35:00,592]\u001b[0m Trial 41 finished with value: -702991.2823238821 and parameters: {'p': 8, 'd': 0, 'q': 4, 'P': 0, 'D': 1, 'Q': 2}. Best is trial 20 with value: 0.7183321048206581.\u001b[0m\n",
      "\u001b[32m[I 2022-03-09 22:35:25,558]\u001b[0m Trial 42 finished with value: 0.7057643377470377 and parameters: {'p': 7, 'd': 0, 'q': 5, 'P': 0, 'D': 1, 'Q': 1}. Best is trial 20 with value: 0.7183321048206581.\u001b[0m\n"
     ]
    },
    {
     "name": "stdout",
     "output_type": "stream",
     "text": [
      "Optimization terminated successfully.\n",
      "         Current function value: -1.426448\n",
      "         Iterations: 26\n",
      "         Function evaluations: 4619\n"
     ]
    },
    {
     "name": "stderr",
     "output_type": "stream",
     "text": [
      "\u001b[32m[I 2022-03-09 22:35:33,886]\u001b[0m Trial 43 finished with value: 0.6634866732302465 and parameters: {'p': 6, 'd': 0, 'q': 5, 'P': 0, 'D': 1, 'Q': 1}. Best is trial 20 with value: 0.7183321048206581.\u001b[0m\n"
     ]
    },
    {
     "name": "stdout",
     "output_type": "stream",
     "text": [
      "Optimization terminated successfully.\n",
      "         Current function value: -1.458405\n",
      "         Iterations: 9\n",
      "         Function evaluations: 1492\n",
      "Optimization terminated successfully.\n",
      "         Current function value: -1.458602\n",
      "         Iterations: 4\n",
      "         Function evaluations: 825\n"
     ]
    },
    {
     "name": "stderr",
     "output_type": "stream",
     "text": [
      "\u001b[32m[I 2022-03-09 22:35:38,309]\u001b[0m Trial 44 finished with value: 0.6645329415133939 and parameters: {'p': 8, 'd': 0, 'q': 6, 'P': 1, 'D': 1, 'Q': 1}. Best is trial 20 with value: 0.7183321048206581.\u001b[0m\n"
     ]
    },
    {
     "name": "stdout",
     "output_type": "stream",
     "text": [
      "Optimization terminated successfully.\n",
      "         Current function value: -1.413306\n",
      "         Iterations: 26\n",
      "         Function evaluations: 5370\n"
     ]
    },
    {
     "name": "stderr",
     "output_type": "stream",
     "text": [
      "\u001b[32m[I 2022-03-09 22:36:10,578]\u001b[0m Trial 45 finished with value: 0.7062765563974112 and parameters: {'p': 7, 'd': 0, 'q': 5, 'P': 1, 'D': 1, 'Q': 1}. Best is trial 20 with value: 0.7183321048206581.\u001b[0m\n",
      "\u001b[32m[I 2022-03-09 22:36:19,833]\u001b[0m Trial 46 finished with value: 0.6674543866769038 and parameters: {'p': 5, 'd': 0, 'q': 7, 'P': 0, 'D': 1, 'Q': 0}. Best is trial 20 with value: 0.7183321048206581.\u001b[0m\n"
     ]
    },
    {
     "name": "stdout",
     "output_type": "stream",
     "text": [
      "Optimization terminated successfully.\n",
      "         Current function value: -1.344877\n",
      "         Iterations: 18\n",
      "         Function evaluations: 2912\n",
      "Optimization terminated successfully.\n",
      "         Current function value: -1.415332\n",
      "         Iterations: 7\n",
      "         Function evaluations: 1334\n"
     ]
    },
    {
     "name": "stderr",
     "output_type": "stream",
     "text": [
      "\u001b[32m[I 2022-03-09 22:36:30,199]\u001b[0m Trial 47 finished with value: 0.6184048261526405 and parameters: {'p': 6, 'd': 1, 'q': 5, 'P': 2, 'D': 1, 'Q': 1}. Best is trial 20 with value: 0.7183321048206581.\u001b[0m\n"
     ]
    },
    {
     "name": "stdout",
     "output_type": "stream",
     "text": [
      "Optimization terminated successfully.\n",
      "         Current function value: -1.371074\n",
      "         Iterations: 25\n",
      "         Function evaluations: 4789\n"
     ]
    },
    {
     "name": "stderr",
     "output_type": "stream",
     "text": [
      "\u001b[32m[I 2022-03-09 22:37:11,052]\u001b[0m Trial 48 finished with value: 0.6516433732285036 and parameters: {'p': 7, 'd': 0, 'q': 3, 'P': 2, 'D': 1, 'Q': 1}. Best is trial 20 with value: 0.7183321048206581.\u001b[0m\n"
     ]
    },
    {
     "name": "stdout",
     "output_type": "stream",
     "text": [
      "Optimization terminated successfully.\n",
      "         Current function value: -1.459606\n",
      "         Iterations: 4\n",
      "         Function evaluations: 690\n"
     ]
    },
    {
     "name": "stderr",
     "output_type": "stream",
     "text": [
      "\u001b[32m[I 2022-03-09 22:37:15,184]\u001b[0m Trial 49 finished with value: 0.6631095344865443 and parameters: {'p': 6, 'd': 0, 'q': 6, 'P': 1, 'D': 1, 'Q': 1}. Best is trial 20 with value: 0.7183321048206581.\u001b[0m\n",
      "\u001b[32m[I 2022-03-09 22:37:15,236]\u001b[0m A new study created in memory with name: no-name-0d69023c-f198-412e-9972-35a244e2be68\u001b[0m\n"
     ]
    },
    {
     "name": "stdout",
     "output_type": "stream",
     "text": [
      "Optimization terminated successfully.\n",
      "         Current function value: -1.369466\n",
      "         Iterations: 7\n",
      "         Function evaluations: 1085\n"
     ]
    },
    {
     "name": "stderr",
     "output_type": "stream",
     "text": [
      "\u001b[32m[I 2022-03-09 22:37:24,817]\u001b[0m Trial 0 finished with value: 0.7096222570175205 and parameters: {'p': 8, 'd': 1, 'q': 0, 'P': 3, 'D': 0, 'Q': 2}. Best is trial 0 with value: 0.7096222570175205.\u001b[0m\n"
     ]
    },
    {
     "name": "stdout",
     "output_type": "stream",
     "text": [
      "Optimization terminated successfully.\n",
      "         Current function value: -1.420102\n",
      "         Iterations: 14\n",
      "         Function evaluations: 3135\n"
     ]
    },
    {
     "name": "stderr",
     "output_type": "stream",
     "text": [
      "\u001b[32m[I 2022-03-09 22:37:54,367]\u001b[0m Trial 1 finished with value: 0.7347429371930947 and parameters: {'p': 6, 'd': 1, 'q': 7, 'P': 1, 'D': 0, 'Q': 3}. Best is trial 1 with value: 0.7347429371930947.\u001b[0m\n",
      "\u001b[32m[I 2022-03-09 22:37:59,067]\u001b[0m Trial 2 finished with value: 0.7125691066114364 and parameters: {'p': 2, 'd': 1, 'q': 7, 'P': 1, 'D': 1, 'Q': 0}. Best is trial 1 with value: 0.7347429371930947.\u001b[0m\n"
     ]
    },
    {
     "name": "stdout",
     "output_type": "stream",
     "text": [
      "Optimization terminated successfully.\n",
      "         Current function value: -1.385215\n",
      "         Iterations: 6\n",
      "         Function evaluations: 902\n",
      "Optimization terminated successfully.\n",
      "         Current function value: -1.402433\n",
      "         Iterations: 7\n",
      "         Function evaluations: 938\n"
     ]
    },
    {
     "name": "stderr",
     "output_type": "stream",
     "text": [
      "\u001b[32m[I 2022-03-09 22:38:06,738]\u001b[0m Trial 3 finished with value: 0.7119600194165927 and parameters: {'p': 3, 'd': 1, 'q': 4, 'P': 0, 'D': 1, 'Q': 2}. Best is trial 1 with value: 0.7347429371930947.\u001b[0m\n",
      "\u001b[32m[I 2022-03-09 22:38:08,953]\u001b[0m Trial 4 finished with value: 0.7032544526722484 and parameters: {'p': 0, 'd': 0, 'q': 7, 'P': 2, 'D': 0, 'Q': 1}. Best is trial 1 with value: 0.7347429371930947.\u001b[0m\n"
     ]
    },
    {
     "name": "stdout",
     "output_type": "stream",
     "text": [
      "Optimization terminated successfully.\n",
      "         Current function value: -1.483284\n",
      "         Iterations: 5\n",
      "         Function evaluations: 654\n"
     ]
    },
    {
     "name": "stderr",
     "output_type": "stream",
     "text": [
      "\u001b[32m[I 2022-03-09 22:38:10,138]\u001b[0m Trial 5 finished with value: 0.20909067474171883 and parameters: {'p': 1, 'd': 1, 'q': 2, 'P': 0, 'D': 0, 'Q': 2}. Best is trial 1 with value: 0.7347429371930947.\u001b[0m\n"
     ]
    },
    {
     "name": "stdout",
     "output_type": "stream",
     "text": [
      "Optimization terminated successfully.\n",
      "         Current function value: -1.312907\n",
      "         Iterations: 3\n",
      "         Function evaluations: 243\n"
     ]
    },
    {
     "name": "stderr",
     "output_type": "stream",
     "text": [
      "\u001b[32m[I 2022-03-09 22:38:12,584]\u001b[0m Trial 6 finished with value: 0.6769314947053073 and parameters: {'p': 0, 'd': 1, 'q': 7, 'P': 0, 'D': 1, 'Q': 0}. Best is trial 1 with value: 0.7347429371930947.\u001b[0m\n"
     ]
    },
    {
     "name": "stdout",
     "output_type": "stream",
     "text": [
      "Optimization terminated successfully.\n",
      "         Current function value: -1.248965\n",
      "         Iterations: 5\n",
      "         Function evaluations: 644\n",
      "Optimization terminated successfully.\n",
      "         Current function value: -1.410418\n",
      "         Iterations: 19\n",
      "         Function evaluations: 3771\n"
     ]
    },
    {
     "name": "stderr",
     "output_type": "stream",
     "text": [
      "\u001b[32m[I 2022-03-09 22:38:41,129]\u001b[0m Trial 7 finished with value: 0.7089262663244641 and parameters: {'p': 7, 'd': 0, 'q': 5, 'P': 1, 'D': 1, 'Q': 2}. Best is trial 1 with value: 0.7347429371930947.\u001b[0m\n",
      "\u001b[32m[I 2022-03-09 22:38:48,750]\u001b[0m Trial 8 finished with value: 0.7122310624022434 and parameters: {'p': 2, 'd': 1, 'q': 2, 'P': 2, 'D': 1, 'Q': 1}. Best is trial 1 with value: 0.7347429371930947.\u001b[0m\n"
     ]
    },
    {
     "name": "stdout",
     "output_type": "stream",
     "text": [
      "Optimization terminated successfully.\n",
      "         Current function value: -1.416365\n",
      "         Iterations: 9\n",
      "         Function evaluations: 1044\n"
     ]
    },
    {
     "name": "stderr",
     "output_type": "stream",
     "text": [
      "\u001b[32m[I 2022-03-09 22:38:53,225]\u001b[0m Trial 9 finished with value: 0.7174440432691622 and parameters: {'p': 1, 'd': 1, 'q': 8, 'P': 0, 'D': 1, 'Q': 1}. Best is trial 1 with value: 0.7347429371930947.\u001b[0m\n"
     ]
    },
    {
     "name": "stdout",
     "output_type": "stream",
     "text": [
      "Optimization terminated successfully.\n",
      "         Current function value: -1.450089\n",
      "         Iterations: 4\n",
      "         Function evaluations: 675\n",
      "Optimization terminated successfully.\n",
      "         Current function value: -1.432128\n",
      "         Iterations: 17\n",
      "         Function evaluations: 3243\n"
     ]
    },
    {
     "name": "stderr",
     "output_type": "stream",
     "text": [
      "\u001b[32m[I 2022-03-09 22:39:18,616]\u001b[0m Trial 10 finished with value: 0.7202192344181626 and parameters: {'p': 5, 'd': 0, 'q': 5, 'P': 3, 'D': 0, 'Q': 3}. Best is trial 1 with value: 0.7347429371930947.\u001b[0m\n"
     ]
    },
    {
     "name": "stdout",
     "output_type": "stream",
     "text": [
      "Optimization terminated successfully.\n",
      "         Current function value: -1.432128\n",
      "         Iterations: 17\n",
      "         Function evaluations: 3243\n"
     ]
    },
    {
     "name": "stderr",
     "output_type": "stream",
     "text": [
      "\u001b[32m[I 2022-03-09 22:39:43,786]\u001b[0m Trial 11 finished with value: 0.7202192344181626 and parameters: {'p': 5, 'd': 0, 'q': 5, 'P': 3, 'D': 0, 'Q': 3}. Best is trial 1 with value: 0.7347429371930947.\u001b[0m\n"
     ]
    },
    {
     "name": "stdout",
     "output_type": "stream",
     "text": [
      "Optimization terminated successfully.\n",
      "         Current function value: -1.407105\n",
      "         Iterations: 5\n",
      "         Function evaluations: 901\n"
     ]
    },
    {
     "name": "stderr",
     "output_type": "stream",
     "text": [
      "\u001b[32m[I 2022-03-09 22:39:51,432]\u001b[0m Trial 12 finished with value: 0.7224999187291509 and parameters: {'p': 5, 'd': 0, 'q': 5, 'P': 2, 'D': 0, 'Q': 3}. Best is trial 1 with value: 0.7347429371930947.\u001b[0m\n"
     ]
    },
    {
     "name": "stdout",
     "output_type": "stream",
     "text": [
      "Optimization terminated successfully.\n",
      "         Current function value: -1.429809\n",
      "         Iterations: 15\n",
      "         Function evaluations: 3209\n"
     ]
    },
    {
     "name": "stderr",
     "output_type": "stream",
     "text": [
      "\u001b[32m[I 2022-03-09 22:40:19,839]\u001b[0m Trial 13 finished with value: 0.7375456918003731 and parameters: {'p': 6, 'd': 0, 'q': 6, 'P': 2, 'D': 0, 'Q': 3}. Best is trial 13 with value: 0.7375456918003731.\u001b[0m\n"
     ]
    },
    {
     "name": "stdout",
     "output_type": "stream",
     "text": [
      "Optimization terminated successfully.\n",
      "         Current function value: -1.423356\n",
      "         Iterations: 22\n",
      "         Function evaluations: 5228\n"
     ]
    },
    {
     "name": "stderr",
     "output_type": "stream",
     "text": [
      "\u001b[32m[I 2022-03-09 22:41:08,124]\u001b[0m Trial 14 finished with value: 0.7197539881034973 and parameters: {'p': 7, 'd': 0, 'q': 8, 'P': 1, 'D': 0, 'Q': 3}. Best is trial 13 with value: 0.7375456918003731.\u001b[0m\n"
     ]
    },
    {
     "name": "stdout",
     "output_type": "stream",
     "text": [
      "Optimization terminated successfully.\n",
      "         Current function value: -1.429809\n",
      "         Iterations: 15\n",
      "         Function evaluations: 3209\n"
     ]
    },
    {
     "name": "stderr",
     "output_type": "stream",
     "text": [
      "\u001b[32m[I 2022-03-09 22:41:36,300]\u001b[0m Trial 15 finished with value: 0.7375456918003731 and parameters: {'p': 6, 'd': 0, 'q': 6, 'P': 2, 'D': 0, 'Q': 3}. Best is trial 13 with value: 0.7375456918003731.\u001b[0m\n"
     ]
    },
    {
     "name": "stdout",
     "output_type": "stream",
     "text": [
      "Optimization terminated successfully.\n",
      "         Current function value: -1.428956\n",
      "         Iterations: 11\n",
      "         Function evaluations: 2050\n"
     ]
    },
    {
     "name": "stderr",
     "output_type": "stream",
     "text": [
      "\u001b[32m[I 2022-03-09 22:41:49,988]\u001b[0m Trial 16 finished with value: 0.7265424759007164 and parameters: {'p': 8, 'd': 0, 'q': 3, 'P': 2, 'D': 0, 'Q': 3}. Best is trial 13 with value: 0.7375456918003731.\u001b[0m\n"
     ]
    },
    {
     "name": "stdout",
     "output_type": "stream",
     "text": [
      "Optimization terminated successfully.\n",
      "         Current function value: -1.465937\n",
      "         Iterations: 12\n",
      "         Function evaluations: 2242\n"
     ]
    },
    {
     "name": "stderr",
     "output_type": "stream",
     "text": [
      "\u001b[32m[I 2022-03-09 22:42:03,213]\u001b[0m Trial 17 finished with value: 0.7161072449611181 and parameters: {'p': 4, 'd': 0, 'q': 6, 'P': 2, 'D': 0, 'Q': 2}. Best is trial 13 with value: 0.7375456918003731.\u001b[0m\n"
     ]
    },
    {
     "name": "stdout",
     "output_type": "stream",
     "text": [
      "Optimization terminated successfully.\n",
      "         Current function value: -1.430314\n",
      "         Iterations: 14\n",
      "         Function evaluations: 3044\n"
     ]
    },
    {
     "name": "stderr",
     "output_type": "stream",
     "text": [
      "\u001b[32m[I 2022-03-09 22:42:31,203]\u001b[0m Trial 18 finished with value: 0.7481933802946924 and parameters: {'p': 6, 'd': 0, 'q': 6, 'P': 3, 'D': 0, 'Q': 3}. Best is trial 18 with value: 0.7481933802946924.\u001b[0m\n"
     ]
    },
    {
     "name": "stdout",
     "output_type": "stream",
     "text": [
      "Optimization terminated successfully.\n",
      "         Current function value: -1.418241\n",
      "         Iterations: 6\n",
      "         Function evaluations: 954\n"
     ]
    },
    {
     "name": "stderr",
     "output_type": "stream",
     "text": [
      "\u001b[32m[I 2022-03-09 22:42:37,687]\u001b[0m Trial 19 finished with value: 0.7149952715338921 and parameters: {'p': 4, 'd': 0, 'q': 4, 'P': 3, 'D': 0, 'Q': 2}. Best is trial 18 with value: 0.7481933802946924.\u001b[0m\n"
     ]
    },
    {
     "name": "stdout",
     "output_type": "stream",
     "text": [
      "Optimization terminated successfully.\n",
      "         Current function value: -1.430314\n",
      "         Iterations: 14\n",
      "         Function evaluations: 3044\n"
     ]
    },
    {
     "name": "stderr",
     "output_type": "stream",
     "text": [
      "\u001b[32m[I 2022-03-09 22:43:05,016]\u001b[0m Trial 20 finished with value: 0.7481933802946924 and parameters: {'p': 6, 'd': 0, 'q': 6, 'P': 3, 'D': 0, 'Q': 3}. Best is trial 18 with value: 0.7481933802946924.\u001b[0m\n"
     ]
    },
    {
     "name": "stdout",
     "output_type": "stream",
     "text": [
      "Optimization terminated successfully.\n",
      "         Current function value: -1.430314\n",
      "         Iterations: 14\n",
      "         Function evaluations: 3044\n"
     ]
    },
    {
     "name": "stderr",
     "output_type": "stream",
     "text": [
      "\u001b[32m[I 2022-03-09 22:43:32,395]\u001b[0m Trial 21 finished with value: 0.7481933802946924 and parameters: {'p': 6, 'd': 0, 'q': 6, 'P': 3, 'D': 0, 'Q': 3}. Best is trial 18 with value: 0.7481933802946924.\u001b[0m\n"
     ]
    },
    {
     "name": "stdout",
     "output_type": "stream",
     "text": [
      "Optimization terminated successfully.\n",
      "         Current function value: -1.434950\n",
      "         Iterations: 15\n",
      "         Function evaluations: 3524\n"
     ]
    },
    {
     "name": "stderr",
     "output_type": "stream",
     "text": [
      "\u001b[32m[I 2022-03-09 22:44:03,959]\u001b[0m Trial 22 finished with value: 0.7273609322351433 and parameters: {'p': 7, 'd': 0, 'q': 6, 'P': 3, 'D': 0, 'Q': 3}. Best is trial 18 with value: 0.7481933802946924.\u001b[0m\n"
     ]
    },
    {
     "name": "stdout",
     "output_type": "stream",
     "text": [
      "Optimization terminated successfully.\n",
      "         Current function value: -1.407432\n",
      "         Iterations: 12\n",
      "         Function evaluations: 2305\n"
     ]
    },
    {
     "name": "stderr",
     "output_type": "stream",
     "text": [
      "\u001b[32m[I 2022-03-09 22:44:22,772]\u001b[0m Trial 23 finished with value: 0.7218493747128314 and parameters: {'p': 6, 'd': 0, 'q': 4, 'P': 3, 'D': 0, 'Q': 3}. Best is trial 18 with value: 0.7481933802946924.\u001b[0m\n"
     ]
    },
    {
     "name": "stdout",
     "output_type": "stream",
     "text": [
      "Optimization terminated successfully.\n",
      "         Current function value: -1.435412\n",
      "         Iterations: 17\n",
      "         Function evaluations: 4029\n"
     ]
    },
    {
     "name": "stderr",
     "output_type": "stream",
     "text": [
      "\u001b[32m[I 2022-03-09 22:44:54,627]\u001b[0m Trial 24 finished with value: 0.7289480560820477 and parameters: {'p': 5, 'd': 0, 'q': 8, 'P': 3, 'D': 0, 'Q': 2}. Best is trial 18 with value: 0.7481933802946924.\u001b[0m\n"
     ]
    },
    {
     "name": "stdout",
     "output_type": "stream",
     "text": [
      "Optimization terminated successfully.\n",
      "         Current function value: -1.434950\n",
      "         Iterations: 15\n",
      "         Function evaluations: 3524\n"
     ]
    },
    {
     "name": "stderr",
     "output_type": "stream",
     "text": [
      "\u001b[32m[I 2022-03-09 22:45:27,573]\u001b[0m Trial 25 finished with value: 0.7273609322351433 and parameters: {'p': 7, 'd': 0, 'q': 6, 'P': 3, 'D': 0, 'Q': 3}. Best is trial 18 with value: 0.7481933802946924.\u001b[0m\n"
     ]
    },
    {
     "name": "stdout",
     "output_type": "stream",
     "text": [
      "Optimization terminated successfully.\n",
      "         Current function value: -1.419124\n",
      "         Iterations: 22\n",
      "         Function evaluations: 5417\n"
     ]
    },
    {
     "name": "stderr",
     "output_type": "stream",
     "text": [
      "\u001b[32m[I 2022-03-09 22:46:15,441]\u001b[0m Trial 26 finished with value: 0.7334970853528924 and parameters: {'p': 8, 'd': 0, 'q': 7, 'P': 3, 'D': 0, 'Q': 2}. Best is trial 18 with value: 0.7481933802946924.\u001b[0m\n"
     ]
    },
    {
     "name": "stdout",
     "output_type": "stream",
     "text": [
      "Optimization terminated successfully.\n",
      "         Current function value: -1.437224\n",
      "         Iterations: 18\n",
      "         Function evaluations: 2928\n"
     ]
    },
    {
     "name": "stderr",
     "output_type": "stream",
     "text": [
      "\u001b[32m[I 2022-03-09 22:46:36,208]\u001b[0m Trial 27 finished with value: 0.7200907063990413 and parameters: {'p': 4, 'd': 0, 'q': 3, 'P': 3, 'D': 0, 'Q': 3}. Best is trial 18 with value: 0.7481933802946924.\u001b[0m\n"
     ]
    },
    {
     "name": "stdout",
     "output_type": "stream",
     "text": [
      "Optimization terminated successfully.\n",
      "         Current function value: -1.408968\n",
      "         Iterations: 4\n",
      "         Function evaluations: 468\n"
     ]
    },
    {
     "name": "stderr",
     "output_type": "stream",
     "text": [
      "\u001b[32m[I 2022-03-09 22:46:39,639]\u001b[0m Trial 28 finished with value: 0.7125437377213553 and parameters: {'p': 6, 'd': 0, 'q': 0, 'P': 3, 'D': 0, 'Q': 1}. Best is trial 18 with value: 0.7481933802946924.\u001b[0m\n"
     ]
    },
    {
     "name": "stdout",
     "output_type": "stream",
     "text": [
      "Optimization terminated successfully.\n",
      "         Current function value: -1.430787\n",
      "         Iterations: 12\n",
      "         Function evaluations: 2512\n"
     ]
    },
    {
     "name": "stderr",
     "output_type": "stream",
     "text": [
      "\u001b[32m[I 2022-03-09 22:46:59,857]\u001b[0m Trial 29 finished with value: 0.7072219788143916 and parameters: {'p': 8, 'd': 0, 'q': 5, 'P': 3, 'D': 0, 'Q': 2}. Best is trial 18 with value: 0.7481933802946924.\u001b[0m\n"
     ]
    },
    {
     "name": "stdout",
     "output_type": "stream",
     "text": [
      "Optimization terminated successfully.\n",
      "         Current function value: -1.430231\n",
      "         Iterations: 14\n",
      "         Function evaluations: 3146\n"
     ]
    },
    {
     "name": "stderr",
     "output_type": "stream",
     "text": [
      "\u001b[32m[I 2022-03-09 22:47:28,414]\u001b[0m Trial 30 finished with value: 0.7178740139843756 and parameters: {'p': 7, 'd': 0, 'q': 6, 'P': 2, 'D': 0, 'Q': 3}. Best is trial 18 with value: 0.7481933802946924.\u001b[0m\n"
     ]
    },
    {
     "name": "stdout",
     "output_type": "stream",
     "text": [
      "Optimization terminated successfully.\n",
      "         Current function value: -1.429809\n",
      "         Iterations: 15\n",
      "         Function evaluations: 3209\n"
     ]
    },
    {
     "name": "stderr",
     "output_type": "stream",
     "text": [
      "\u001b[32m[I 2022-03-09 22:47:57,192]\u001b[0m Trial 31 finished with value: 0.7375456918003731 and parameters: {'p': 6, 'd': 0, 'q': 6, 'P': 2, 'D': 0, 'Q': 3}. Best is trial 18 with value: 0.7481933802946924.\u001b[0m\n"
     ]
    },
    {
     "name": "stdout",
     "output_type": "stream",
     "text": [
      "Optimization terminated successfully.\n",
      "         Current function value: -1.418015\n",
      "         Iterations: 8\n",
      "         Function evaluations: 1897\n"
     ]
    },
    {
     "name": "stderr",
     "output_type": "stream",
     "text": [
      "\u001b[32m[I 2022-03-09 22:48:13,825]\u001b[0m Trial 32 finished with value: 0.7368361041233573 and parameters: {'p': 5, 'd': 0, 'q': 7, 'P': 3, 'D': 0, 'Q': 3}. Best is trial 18 with value: 0.7481933802946924.\u001b[0m\n"
     ]
    },
    {
     "name": "stdout",
     "output_type": "stream",
     "text": [
      "Optimization terminated successfully.\n",
      "         Current function value: -1.430314\n",
      "         Iterations: 14\n",
      "         Function evaluations: 3044\n"
     ]
    },
    {
     "name": "stderr",
     "output_type": "stream",
     "text": [
      "\u001b[32m[I 2022-03-09 22:48:40,892]\u001b[0m Trial 33 finished with value: 0.7481933802946924 and parameters: {'p': 6, 'd': 0, 'q': 6, 'P': 3, 'D': 0, 'Q': 3}. Best is trial 18 with value: 0.7481933802946924.\u001b[0m\n"
     ]
    },
    {
     "name": "stdout",
     "output_type": "stream",
     "text": [
      "Optimization terminated successfully.\n",
      "         Current function value: -1.417256\n",
      "         Iterations: 12\n",
      "         Function evaluations: 2632\n"
     ]
    },
    {
     "name": "stderr",
     "output_type": "stream",
     "text": [
      "\u001b[32m[I 2022-03-09 22:49:03,024]\u001b[0m Trial 34 finished with value: 0.7370594365801604 and parameters: {'p': 4, 'd': 0, 'q': 7, 'P': 3, 'D': 0, 'Q': 3}. Best is trial 18 with value: 0.7481933802946924.\u001b[0m\n"
     ]
    },
    {
     "name": "stdout",
     "output_type": "stream",
     "text": [
      "Optimization terminated successfully.\n",
      "         Current function value: -1.402866\n",
      "         Iterations: 11\n",
      "         Function evaluations: 2092\n"
     ]
    },
    {
     "name": "stderr",
     "output_type": "stream",
     "text": [
      "\u001b[32m[I 2022-03-09 22:49:21,951]\u001b[0m Trial 35 finished with value: 0.7082513432772357 and parameters: {'p': 7, 'd': 0, 'q': 4, 'P': 3, 'D': 0, 'Q': 2}. Best is trial 18 with value: 0.7481933802946924.\u001b[0m\n",
      "\u001b[32m[I 2022-03-09 22:49:24,934]\u001b[0m Trial 36 finished with value: 0.6798841183289395 and parameters: {'p': 3, 'd': 0, 'q': 5, 'P': 3, 'D': 0, 'Q': 0}. Best is trial 18 with value: 0.7481933802946924.\u001b[0m\n"
     ]
    },
    {
     "name": "stdout",
     "output_type": "stream",
     "text": [
      "Optimization terminated successfully.\n",
      "         Current function value: -1.378179\n",
      "         Iterations: 6\n",
      "         Function evaluations: 832\n",
      "Optimization terminated successfully.\n",
      "         Current function value: -1.376185\n",
      "         Iterations: 28\n",
      "         Function evaluations: 6554\n"
     ]
    },
    {
     "name": "stderr",
     "output_type": "stream",
     "text": [
      "\u001b[32m[I 2022-03-09 22:50:53,162]\u001b[0m Trial 37 finished with value: 0.6956630047081498 and parameters: {'p': 6, 'd': 1, 'q': 7, 'P': 3, 'D': 1, 'Q': 3}. Best is trial 18 with value: 0.7481933802946924.\u001b[0m\n"
     ]
    },
    {
     "name": "stdout",
     "output_type": "stream",
     "text": [
      "Optimization terminated successfully.\n",
      "         Current function value: -1.441293\n",
      "         Iterations: 8\n",
      "         Function evaluations: 1798\n"
     ]
    },
    {
     "name": "stderr",
     "output_type": "stream",
     "text": [
      "\u001b[32m[I 2022-03-09 22:51:07,354]\u001b[0m Trial 38 finished with value: 0.7180123866118047 and parameters: {'p': 3, 'd': 0, 'q': 8, 'P': 3, 'D': 0, 'Q': 2}. Best is trial 18 with value: 0.7481933802946924.\u001b[0m\n"
     ]
    },
    {
     "name": "stdout",
     "output_type": "stream",
     "text": [
      "Optimization terminated successfully.\n",
      "         Current function value: -1.366756\n",
      "         Iterations: 6\n",
      "         Function evaluations: 1177\n"
     ]
    },
    {
     "name": "stderr",
     "output_type": "stream",
     "text": [
      "\u001b[32m[I 2022-03-09 22:51:22,799]\u001b[0m Trial 39 finished with value: 0.7252170377946032 and parameters: {'p': 5, 'd': 1, 'q': 5, 'P': 2, 'D': 1, 'Q': 3}. Best is trial 18 with value: 0.7481933802946924.\u001b[0m\n",
      "\u001b[32m[I 2022-03-09 22:51:33,350]\u001b[0m Trial 40 finished with value: 0.7098729465242772 and parameters: {'p': 6, 'd': 0, 'q': 3, 'P': 1, 'D': 0, 'Q': 2}. Best is trial 18 with value: 0.7481933802946924.\u001b[0m\n"
     ]
    },
    {
     "name": "stdout",
     "output_type": "stream",
     "text": [
      "Optimization terminated successfully.\n",
      "         Current function value: -1.191298\n",
      "         Iterations: 13\n",
      "         Function evaluations: 2045\n",
      "Optimization terminated successfully.\n",
      "         Current function value: -1.429809\n",
      "         Iterations: 15\n",
      "         Function evaluations: 3209\n"
     ]
    },
    {
     "name": "stderr",
     "output_type": "stream",
     "text": [
      "\u001b[32m[I 2022-03-09 22:52:01,338]\u001b[0m Trial 41 finished with value: 0.7375456918003731 and parameters: {'p': 6, 'd': 0, 'q': 6, 'P': 2, 'D': 0, 'Q': 3}. Best is trial 18 with value: 0.7481933802946924.\u001b[0m\n"
     ]
    },
    {
     "name": "stdout",
     "output_type": "stream",
     "text": [
      "Optimization terminated successfully.\n",
      "         Current function value: -1.430314\n",
      "         Iterations: 14\n",
      "         Function evaluations: 3044\n"
     ]
    },
    {
     "name": "stderr",
     "output_type": "stream",
     "text": [
      "\u001b[32m[I 2022-03-09 22:52:27,799]\u001b[0m Trial 42 finished with value: 0.7481933802946924 and parameters: {'p': 6, 'd': 0, 'q': 6, 'P': 3, 'D': 0, 'Q': 3}. Best is trial 18 with value: 0.7481933802946924.\u001b[0m\n"
     ]
    },
    {
     "name": "stdout",
     "output_type": "stream",
     "text": [
      "Optimization terminated successfully.\n",
      "         Current function value: -1.429671\n",
      "         Iterations: 24\n",
      "         Function evaluations: 6004\n"
     ]
    },
    {
     "name": "stderr",
     "output_type": "stream",
     "text": [
      "\u001b[32m[I 2022-03-09 22:53:17,496]\u001b[0m Trial 43 finished with value: 0.7366918370782208 and parameters: {'p': 7, 'd': 0, 'q': 7, 'P': 3, 'D': 0, 'Q': 3}. Best is trial 18 with value: 0.7481933802946924.\u001b[0m\n"
     ]
    },
    {
     "name": "stdout",
     "output_type": "stream",
     "text": [
      "Optimization terminated successfully.\n",
      "         Current function value: -1.432128\n",
      "         Iterations: 17\n",
      "         Function evaluations: 3243\n"
     ]
    },
    {
     "name": "stderr",
     "output_type": "stream",
     "text": [
      "\u001b[32m[I 2022-03-09 22:53:42,295]\u001b[0m Trial 44 finished with value: 0.7202192344181626 and parameters: {'p': 5, 'd': 0, 'q': 5, 'P': 3, 'D': 0, 'Q': 3}. Best is trial 18 with value: 0.7481933802946924.\u001b[0m\n"
     ]
    },
    {
     "name": "stdout",
     "output_type": "stream",
     "text": [
      "Optimization terminated successfully.\n",
      "         Current function value: -1.417061\n",
      "         Iterations: 16\n",
      "         Function evaluations: 3880\n"
     ]
    },
    {
     "name": "stderr",
     "output_type": "stream",
     "text": [
      "\u001b[32m[I 2022-03-09 22:54:14,586]\u001b[0m Trial 45 finished with value: 0.738363696402015 and parameters: {'p': 6, 'd': 0, 'q': 7, 'P': 3, 'D': 0, 'Q': 3}. Best is trial 18 with value: 0.7481933802946924.\u001b[0m\n"
     ]
    },
    {
     "name": "stdout",
     "output_type": "stream",
     "text": [
      "Optimization terminated successfully.\n",
      "         Current function value: -1.429623\n",
      "         Iterations: 11\n",
      "         Function evaluations: 2402\n"
     ]
    },
    {
     "name": "stderr",
     "output_type": "stream",
     "text": [
      "\u001b[32m[I 2022-03-09 22:54:35,414]\u001b[0m Trial 46 finished with value: 0.7356152879153259 and parameters: {'p': 5, 'd': 0, 'q': 6, 'P': 3, 'D': 0, 'Q': 3}. Best is trial 18 with value: 0.7481933802946924.\u001b[0m\n"
     ]
    },
    {
     "name": "stdout",
     "output_type": "stream",
     "text": [
      "Optimization terminated successfully.\n",
      "         Current function value: -1.379656\n",
      "         Iterations: 12\n",
      "         Function evaluations: 2638\n"
     ]
    },
    {
     "name": "stderr",
     "output_type": "stream",
     "text": [
      "\u001b[32m[I 2022-03-09 22:55:06,714]\u001b[0m Trial 47 finished with value: 0.7130540028227166 and parameters: {'p': 7, 'd': 1, 'q': 5, 'P': 3, 'D': 1, 'Q': 3}. Best is trial 18 with value: 0.7481933802946924.\u001b[0m\n"
     ]
    },
    {
     "name": "stdout",
     "output_type": "stream",
     "text": [
      "Optimization terminated successfully.\n",
      "         Current function value: -1.407930\n",
      "         Iterations: 4\n",
      "         Function evaluations: 539\n"
     ]
    },
    {
     "name": "stderr",
     "output_type": "stream",
     "text": [
      "\u001b[32m[I 2022-03-09 22:55:11,022]\u001b[0m Trial 48 finished with value: 0.7121429807409004 and parameters: {'p': 8, 'd': 0, 'q': 0, 'P': 3, 'D': 0, 'Q': 1}. Best is trial 18 with value: 0.7481933802946924.\u001b[0m\n"
     ]
    },
    {
     "name": "stdout",
     "output_type": "stream",
     "text": [
      "Optimization terminated successfully.\n",
      "         Current function value: -1.276526\n",
      "         Iterations: 23\n",
      "         Function evaluations: 4622\n"
     ]
    },
    {
     "name": "stderr",
     "output_type": "stream",
     "text": [
      "\u001b[32m[I 2022-03-09 22:55:45,590]\u001b[0m Trial 49 finished with value: 0.26305014585775865 and parameters: {'p': 6, 'd': 0, 'q': 6, 'P': 0, 'D': 0, 'Q': 3}. Best is trial 18 with value: 0.7481933802946924.\u001b[0m\n",
      "\u001b[32m[I 2022-03-09 22:55:45,637]\u001b[0m A new study created in memory with name: no-name-de480ac6-55ad-4305-89b2-0547ae7d853f\u001b[0m\n"
     ]
    },
    {
     "name": "stdout",
     "output_type": "stream",
     "text": [
      "Optimization terminated successfully.\n",
      "         Current function value: -1.299626\n",
      "         Iterations: 21\n",
      "         Function evaluations: 3022\n"
     ]
    },
    {
     "name": "stderr",
     "output_type": "stream",
     "text": [
      "\u001b[32m[I 2022-03-09 22:56:08,302]\u001b[0m Trial 0 finished with value: 0.5660926532032657 and parameters: {'p': 5, 'd': 0, 'q': 4, 'P': 3, 'D': 0, 'Q': 0}. Best is trial 0 with value: 0.5660926532032657.\u001b[0m\n",
      "\u001b[32m[I 2022-03-09 22:56:11,873]\u001b[0m Trial 1 finished with value: 0.2831035966783756 and parameters: {'p': 7, 'd': 1, 'q': 5, 'P': 0, 'D': 0, 'Q': 1}. Best is trial 0 with value: 0.5660926532032657.\u001b[0m\n"
     ]
    },
    {
     "name": "stdout",
     "output_type": "stream",
     "text": [
      "Optimization terminated successfully.\n",
      "         Current function value: -1.360651\n",
      "         Iterations: 9\n",
      "         Function evaluations: 1503\n"
     ]
    },
    {
     "name": "stderr",
     "output_type": "stream",
     "text": [
      "\u001b[32m[I 2022-03-09 22:56:12,877]\u001b[0m Trial 2 finished with value: 0.707418408243399 and parameters: {'p': 2, 'd': 0, 'q': 1, 'P': 2, 'D': 0, 'Q': 1}. Best is trial 2 with value: 0.707418408243399.\u001b[0m\n"
     ]
    },
    {
     "name": "stdout",
     "output_type": "stream",
     "text": [
      "Optimization terminated successfully.\n",
      "         Current function value: -1.466594\n",
      "         Iterations: 3\n",
      "         Function evaluations: 252\n"
     ]
    },
    {
     "name": "stderr",
     "output_type": "stream",
     "text": [
      "\u001b[32m[I 2022-03-09 22:56:13,406]\u001b[0m Trial 3 finished with value: 0.02608461946950269 and parameters: {'p': 1, 'd': 1, 'q': 0, 'P': 0, 'D': 0, 'Q': 2}. Best is trial 2 with value: 0.707418408243399.\u001b[0m\n"
     ]
    },
    {
     "name": "stdout",
     "output_type": "stream",
     "text": [
      "Optimization terminated successfully.\n",
      "         Current function value: -1.190396\n",
      "         Iterations: 3\n",
      "         Function evaluations: 156\n"
     ]
    },
    {
     "name": "stderr",
     "output_type": "stream",
     "text": [
      "\u001b[32m[I 2022-03-09 22:56:17,209]\u001b[0m Trial 4 finished with value: -20.621738551206455 and parameters: {'p': 0, 'd': 0, 'q': 8, 'P': 0, 'D': 0, 'Q': 1}. Best is trial 2 with value: 0.707418408243399.\u001b[0m\n"
     ]
    },
    {
     "name": "stdout",
     "output_type": "stream",
     "text": [
      "Optimization terminated successfully.\n",
      "         Current function value: -0.986215\n",
      "         Iterations: 11\n",
      "         Function evaluations: 1365\n"
     ]
    },
    {
     "name": "stderr",
     "output_type": "stream",
     "text": [
      "\u001b[32m[I 2022-03-09 22:56:17,902]\u001b[0m Trial 5 finished with value: 0.7274158458250997 and parameters: {'p': 0, 'd': 0, 'q': 1, 'P': 0, 'D': 1, 'Q': 1}. Best is trial 5 with value: 0.7274158458250997.\u001b[0m\n"
     ]
    },
    {
     "name": "stdout",
     "output_type": "stream",
     "text": [
      "Optimization terminated successfully.\n",
      "         Current function value: -1.470353\n",
      "         Iterations: 3\n",
      "         Function evaluations: 154\n"
     ]
    },
    {
     "name": "stderr",
     "output_type": "stream",
     "text": [
      "\u001b[32m[I 2022-03-09 22:56:18,792]\u001b[0m Trial 6 finished with value: 0.6600258606261582 and parameters: {'p': 1, 'd': 1, 'q': 0, 'P': 1, 'D': 1, 'Q': 1}. Best is trial 5 with value: 0.7274158458250997.\u001b[0m\n"
     ]
    },
    {
     "name": "stdout",
     "output_type": "stream",
     "text": [
      "Optimization terminated successfully.\n",
      "         Current function value: -1.300790\n",
      "         Iterations: 4\n",
      "         Function evaluations: 207\n",
      "Optimization terminated successfully.\n",
      "         Current function value: -1.378854\n",
      "         Iterations: 22\n",
      "         Function evaluations: 4960\n"
     ]
    },
    {
     "name": "stderr",
     "output_type": "stream",
     "text": [
      "\u001b[32m[I 2022-03-09 22:57:26,377]\u001b[0m Trial 7 finished with value: 0.7276702073146832 and parameters: {'p': 5, 'd': 1, 'q': 7, 'P': 2, 'D': 1, 'Q': 3}. Best is trial 7 with value: 0.7276702073146832.\u001b[0m\n",
      "\u001b[32m[I 2022-03-09 22:57:26,629]\u001b[0m Trial 8 finished with value: -22.88333192452537 and parameters: {'p': 0, 'd': 0, 'q': 4, 'P': 0, 'D': 0, 'Q': 0}. Best is trial 7 with value: 0.7276702073146832.\u001b[0m\n",
      "\u001b[32m[I 2022-03-09 22:57:26,817]\u001b[0m Trial 9 finished with value: 0.5480009431058452 and parameters: {'p': 4, 'd': 1, 'q': 0, 'P': 0, 'D': 1, 'Q': 0}. Best is trial 7 with value: 0.7276702073146832.\u001b[0m\n"
     ]
    },
    {
     "name": "stdout",
     "output_type": "stream",
     "text": [
      "Optimization terminated successfully.\n",
      "         Current function value: -0.639422\n",
      "         Iterations: 7\n",
      "         Function evaluations: 488\n",
      "Optimization terminated successfully.\n",
      "         Current function value: -1.190531\n",
      "         Iterations: 1\n",
      "         Function evaluations: 163\n",
      "Optimization terminated successfully.\n",
      "         Current function value: -1.379466\n",
      "         Iterations: 18\n",
      "         Function evaluations: 4997\n"
     ]
    },
    {
     "name": "stderr",
     "output_type": "stream",
     "text": [
      "\u001b[32m[I 2022-03-09 22:58:33,188]\u001b[0m Trial 10 finished with value: 0.7090484125407385 and parameters: {'p': 8, 'd': 1, 'q': 8, 'P': 3, 'D': 1, 'Q': 3}. Best is trial 7 with value: 0.7276702073146832.\u001b[0m\n"
     ]
    },
    {
     "name": "stdout",
     "output_type": "stream",
     "text": [
      "Optimization terminated successfully.\n",
      "         Current function value: -1.388116\n",
      "         Iterations: 12\n",
      "         Function evaluations: 2355\n"
     ]
    },
    {
     "name": "stderr",
     "output_type": "stream",
     "text": [
      "\u001b[32m[I 2022-03-09 22:59:02,083]\u001b[0m Trial 11 finished with value: 0.7318056247788931 and parameters: {'p': 4, 'd': 0, 'q': 6, 'P': 2, 'D': 1, 'Q': 3}. Best is trial 11 with value: 0.7318056247788931.\u001b[0m\n"
     ]
    },
    {
     "name": "stdout",
     "output_type": "stream",
     "text": [
      "Optimization terminated successfully.\n",
      "         Current function value: -1.388116\n",
      "         Iterations: 12\n",
      "         Function evaluations: 2355\n"
     ]
    },
    {
     "name": "stderr",
     "output_type": "stream",
     "text": [
      "\u001b[32m[I 2022-03-09 22:59:30,949]\u001b[0m Trial 12 finished with value: 0.7318056247788931 and parameters: {'p': 4, 'd': 0, 'q': 6, 'P': 2, 'D': 1, 'Q': 3}. Best is trial 11 with value: 0.7318056247788931.\u001b[0m\n"
     ]
    },
    {
     "name": "stdout",
     "output_type": "stream",
     "text": [
      "Optimization terminated successfully.\n",
      "         Current function value: -1.377695\n",
      "         Iterations: 10\n",
      "         Function evaluations: 1816\n"
     ]
    },
    {
     "name": "stderr",
     "output_type": "stream",
     "text": [
      "\u001b[32m[I 2022-03-09 22:59:53,025]\u001b[0m Trial 13 finished with value: 0.7246136329904402 and parameters: {'p': 3, 'd': 0, 'q': 6, 'P': 2, 'D': 1, 'Q': 3}. Best is trial 11 with value: 0.7318056247788931.\u001b[0m\n"
     ]
    },
    {
     "name": "stdout",
     "output_type": "stream",
     "text": [
      "Optimization terminated successfully.\n",
      "         Current function value: -1.441572\n",
      "         Iterations: 22\n",
      "         Function evaluations: 4301\n"
     ]
    },
    {
     "name": "stderr",
     "output_type": "stream",
     "text": [
      "\u001b[32m[I 2022-03-09 23:00:29,030]\u001b[0m Trial 14 finished with value: 0.7178696480791148 and parameters: {'p': 6, 'd': 0, 'q': 6, 'P': 1, 'D': 1, 'Q': 2}. Best is trial 11 with value: 0.7318056247788931.\u001b[0m\n",
      "\u001b[32m[I 2022-03-09 23:00:35,559]\u001b[0m Trial 15 finished with value: 0.7171267828149368 and parameters: {'p': 3, 'd': 0, 'q': 3, 'P': 2, 'D': 1, 'Q': 2}. Best is trial 11 with value: 0.7318056247788931.\u001b[0m\n"
     ]
    },
    {
     "name": "stdout",
     "output_type": "stream",
     "text": [
      "Optimization terminated successfully.\n",
      "         Current function value: -1.422315\n",
      "         Iterations: 8\n",
      "         Function evaluations: 1098\n",
      "Optimization terminated successfully.\n",
      "         Current function value: -1.375830\n",
      "         Iterations: 8\n",
      "         Function evaluations: 1547\n"
     ]
    },
    {
     "name": "stderr",
     "output_type": "stream",
     "text": [
      "\u001b[32m[I 2022-03-09 23:00:53,372]\u001b[0m Trial 16 finished with value: 0.7204463476575031 and parameters: {'p': 4, 'd': 0, 'q': 6, 'P': 3, 'D': 1, 'Q': 3}. Best is trial 11 with value: 0.7318056247788931.\u001b[0m\n"
     ]
    },
    {
     "name": "stdout",
     "output_type": "stream",
     "text": [
      "Optimization terminated successfully.\n",
      "         Current function value: -1.433793\n",
      "         Iterations: 13\n",
      "         Function evaluations: 2002\n"
     ]
    },
    {
     "name": "stderr",
     "output_type": "stream",
     "text": [
      "\u001b[32m[I 2022-03-09 23:01:06,759]\u001b[0m Trial 17 finished with value: 0.7222618208939813 and parameters: {'p': 5, 'd': 0, 'q': 3, 'P': 1, 'D': 1, 'Q': 2}. Best is trial 11 with value: 0.7318056247788931.\u001b[0m\n"
     ]
    },
    {
     "name": "stdout",
     "output_type": "stream",
     "text": [
      "Optimization terminated successfully.\n",
      "         Current function value: -1.375539\n",
      "         Iterations: 11\n",
      "         Function evaluations: 2079\n"
     ]
    },
    {
     "name": "stderr",
     "output_type": "stream",
     "text": [
      "\u001b[32m[I 2022-03-09 23:01:31,344]\u001b[0m Trial 18 finished with value: 0.7303566748787043 and parameters: {'p': 3, 'd': 0, 'q': 7, 'P': 2, 'D': 1, 'Q': 3}. Best is trial 11 with value: 0.7318056247788931.\u001b[0m\n"
     ]
    },
    {
     "name": "stdout",
     "output_type": "stream",
     "text": [
      "Optimization terminated successfully.\n",
      "         Current function value: -1.364482\n",
      "         Iterations: 25\n",
      "         Function evaluations: 5062\n"
     ]
    },
    {
     "name": "stderr",
     "output_type": "stream",
     "text": [
      "\u001b[32m[I 2022-03-09 23:02:29,304]\u001b[0m Trial 19 finished with value: 0.7144075057781134 and parameters: {'p': 6, 'd': 0, 'q': 5, 'P': 1, 'D': 1, 'Q': 3}. Best is trial 11 with value: 0.7318056247788931.\u001b[0m\n"
     ]
    },
    {
     "name": "stdout",
     "output_type": "stream",
     "text": [
      "Optimization terminated successfully.\n",
      "         Current function value: -1.382655\n",
      "         Iterations: 9\n",
      "         Function evaluations: 1390\n"
     ]
    },
    {
     "name": "stderr",
     "output_type": "stream",
     "text": [
      "\u001b[32m[I 2022-03-09 23:02:40,515]\u001b[0m Trial 20 finished with value: 0.7151660280470706 and parameters: {'p': 2, 'd': 0, 'q': 5, 'P': 3, 'D': 1, 'Q': 2}. Best is trial 11 with value: 0.7318056247788931.\u001b[0m\n"
     ]
    },
    {
     "name": "stdout",
     "output_type": "stream",
     "text": [
      "Optimization terminated successfully.\n",
      "         Current function value: -1.375539\n",
      "         Iterations: 11\n",
      "         Function evaluations: 2079\n"
     ]
    },
    {
     "name": "stderr",
     "output_type": "stream",
     "text": [
      "\u001b[32m[I 2022-03-09 23:03:05,128]\u001b[0m Trial 21 finished with value: 0.7303566748787043 and parameters: {'p': 3, 'd': 0, 'q': 7, 'P': 2, 'D': 1, 'Q': 3}. Best is trial 11 with value: 0.7318056247788931.\u001b[0m\n"
     ]
    },
    {
     "name": "stdout",
     "output_type": "stream",
     "text": [
      "Optimization terminated successfully.\n",
      "         Current function value: -1.382827\n",
      "         Iterations: 13\n",
      "         Function evaluations: 2716\n"
     ]
    },
    {
     "name": "stderr",
     "output_type": "stream",
     "text": [
      "\u001b[32m[I 2022-03-09 23:03:36,244]\u001b[0m Trial 22 finished with value: 0.7255082957199821 and parameters: {'p': 4, 'd': 0, 'q': 7, 'P': 2, 'D': 1, 'Q': 3}. Best is trial 11 with value: 0.7318056247788931.\u001b[0m\n"
     ]
    },
    {
     "name": "stdout",
     "output_type": "stream",
     "text": [
      "Optimization terminated successfully.\n",
      "         Current function value: -1.375274\n",
      "         Iterations: 12\n",
      "         Function evaluations: 2161\n"
     ]
    },
    {
     "name": "stderr",
     "output_type": "stream",
     "text": [
      "\u001b[32m[I 2022-03-09 23:04:01,800]\u001b[0m Trial 23 finished with value: 0.7319630251540581 and parameters: {'p': 2, 'd': 0, 'q': 7, 'P': 2, 'D': 1, 'Q': 3}. Best is trial 23 with value: 0.7319630251540581.\u001b[0m\n"
     ]
    },
    {
     "name": "stdout",
     "output_type": "stream",
     "text": [
      "Optimization terminated successfully.\n",
      "         Current function value: -1.423838\n",
      "         Iterations: 11\n",
      "         Function evaluations: 2259\n"
     ]
    },
    {
     "name": "stderr",
     "output_type": "stream",
     "text": [
      "\u001b[32m[I 2022-03-09 23:04:21,583]\u001b[0m Trial 24 finished with value: 0.7164959226542488 and parameters: {'p': 2, 'd': 0, 'q': 8, 'P': 2, 'D': 1, 'Q': 2}. Best is trial 23 with value: 0.7319630251540581.\u001b[0m\n"
     ]
    },
    {
     "name": "stdout",
     "output_type": "stream",
     "text": [
      "Optimization terminated successfully.\n",
      "         Current function value: -1.385687\n",
      "         Iterations: 13\n",
      "         Function evaluations: 2411\n"
     ]
    },
    {
     "name": "stderr",
     "output_type": "stream",
     "text": [
      "\u001b[32m[I 2022-03-09 23:04:51,052]\u001b[0m Trial 25 finished with value: 0.727646384804717 and parameters: {'p': 4, 'd': 0, 'q': 6, 'P': 1, 'D': 1, 'Q': 3}. Best is trial 23 with value: 0.7319630251540581.\u001b[0m\n"
     ]
    },
    {
     "name": "stdout",
     "output_type": "stream",
     "text": [
      "Optimization terminated successfully.\n",
      "         Current function value: -1.384873\n",
      "         Iterations: 24\n",
      "         Function evaluations: 4804\n"
     ]
    },
    {
     "name": "stderr",
     "output_type": "stream",
     "text": [
      "\u001b[32m[I 2022-03-09 23:05:35,925]\u001b[0m Trial 26 finished with value: 0.7146155582961249 and parameters: {'p': 6, 'd': 0, 'q': 4, 'P': 3, 'D': 1, 'Q': 3}. Best is trial 23 with value: 0.7319630251540581.\u001b[0m\n"
     ]
    },
    {
     "name": "stdout",
     "output_type": "stream",
     "text": [
      "Optimization terminated successfully.\n",
      "         Current function value: -1.409033\n",
      "         Iterations: 5\n",
      "         Function evaluations: 743\n"
     ]
    },
    {
     "name": "stderr",
     "output_type": "stream",
     "text": [
      "\u001b[32m[I 2022-03-09 23:05:41,594]\u001b[0m Trial 27 finished with value: 0.7250954884170819 and parameters: {'p': 1, 'd': 0, 'q': 5, 'P': 2, 'D': 1, 'Q': 2}. Best is trial 23 with value: 0.7319630251540581.\u001b[0m\n"
     ]
    },
    {
     "name": "stdout",
     "output_type": "stream",
     "text": [
      "Optimization terminated successfully.\n",
      "         Current function value: -1.380786\n",
      "         Iterations: 15\n",
      "         Function evaluations: 3133\n"
     ]
    },
    {
     "name": "stderr",
     "output_type": "stream",
     "text": [
      "\u001b[32m[I 2022-03-09 23:06:18,471]\u001b[0m Trial 28 finished with value: 0.7326770322181595 and parameters: {'p': 5, 'd': 0, 'q': 7, 'P': 1, 'D': 1, 'Q': 3}. Best is trial 28 with value: 0.7326770322181595.\u001b[0m\n"
     ]
    },
    {
     "name": "stdout",
     "output_type": "stream",
     "text": [
      "Optimization terminated successfully.\n",
      "         Current function value: -1.461260\n",
      "         Iterations: 17\n",
      "         Function evaluations: 3757\n"
     ]
    },
    {
     "name": "stderr",
     "output_type": "stream",
     "text": [
      "\u001b[32m[I 2022-03-09 23:06:42,196]\u001b[0m Trial 29 finished with value: 0.7161263991813481 and parameters: {'p': 5, 'd': 0, 'q': 8, 'P': 1, 'D': 0, 'Q': 2}. Best is trial 28 with value: 0.7326770322181595.\u001b[0m\n"
     ]
    },
    {
     "name": "stdout",
     "output_type": "stream",
     "text": [
      "Optimization terminated successfully.\n",
      "         Current function value: -1.370688\n",
      "         Iterations: 9\n",
      "         Function evaluations: 2012\n"
     ]
    },
    {
     "name": "stderr",
     "output_type": "stream",
     "text": [
      "\u001b[32m[I 2022-03-09 23:07:06,332]\u001b[0m Trial 30 finished with value: 0.7166203350526812 and parameters: {'p': 7, 'd': 0, 'q': 7, 'P': 1, 'D': 1, 'Q': 3}. Best is trial 28 with value: 0.7326770322181595.\u001b[0m\n"
     ]
    },
    {
     "name": "stdout",
     "output_type": "stream",
     "text": [
      "Optimization terminated successfully.\n",
      "         Current function value: -1.388116\n",
      "         Iterations: 12\n",
      "         Function evaluations: 2355\n"
     ]
    },
    {
     "name": "stderr",
     "output_type": "stream",
     "text": [
      "\u001b[32m[I 2022-03-09 23:07:35,118]\u001b[0m Trial 31 finished with value: 0.7318056247788931 and parameters: {'p': 4, 'd': 0, 'q': 6, 'P': 2, 'D': 1, 'Q': 3}. Best is trial 28 with value: 0.7326770322181595.\u001b[0m\n"
     ]
    },
    {
     "name": "stdout",
     "output_type": "stream",
     "text": [
      "Optimization terminated successfully.\n",
      "         Current function value: -1.370948\n",
      "         Iterations: 8\n",
      "         Function evaluations: 1743\n"
     ]
    },
    {
     "name": "stderr",
     "output_type": "stream",
     "text": [
      "\u001b[32m[I 2022-03-09 23:07:54,491]\u001b[0m Trial 32 finished with value: 0.7208467623935437 and parameters: {'p': 5, 'd': 0, 'q': 7, 'P': 3, 'D': 1, 'Q': 3}. Best is trial 28 with value: 0.7326770322181595.\u001b[0m\n"
     ]
    },
    {
     "name": "stdout",
     "output_type": "stream",
     "text": [
      "Optimization terminated successfully.\n",
      "         Current function value: -1.372348\n",
      "         Iterations: 40\n",
      "         Function evaluations: 8469\n"
     ]
    },
    {
     "name": "stderr",
     "output_type": "stream",
     "text": [
      "\u001b[32m[I 2022-03-09 23:09:31,622]\u001b[0m Trial 33 finished with value: 0.7259187638446666 and parameters: {'p': 6, 'd': 0, 'q': 5, 'P': 2, 'D': 1, 'Q': 3}. Best is trial 28 with value: 0.7326770322181595.\u001b[0m\n"
     ]
    },
    {
     "name": "stdout",
     "output_type": "stream",
     "text": [
      "Optimization terminated successfully.\n",
      "         Current function value: -1.432088\n",
      "         Iterations: 12\n",
      "         Function evaluations: 2578\n"
     ]
    },
    {
     "name": "stderr",
     "output_type": "stream",
     "text": [
      "\u001b[32m[I 2022-03-09 23:09:54,210]\u001b[0m Trial 34 finished with value: 0.7220447329452208 and parameters: {'p': 7, 'd': 0, 'q': 6, 'P': 1, 'D': 0, 'Q': 3}. Best is trial 28 with value: 0.7326770322181595.\u001b[0m\n"
     ]
    },
    {
     "name": "stdout",
     "output_type": "stream",
     "text": [
      "Optimization terminated successfully.\n",
      "         Current function value: -1.423838\n",
      "         Iterations: 11\n",
      "         Function evaluations: 2259\n"
     ]
    },
    {
     "name": "stderr",
     "output_type": "stream",
     "text": [
      "\u001b[32m[I 2022-03-09 23:10:14,047]\u001b[0m Trial 35 finished with value: 0.7164959226542488 and parameters: {'p': 2, 'd': 0, 'q': 8, 'P': 2, 'D': 1, 'Q': 2}. Best is trial 28 with value: 0.7326770322181595.\u001b[0m\n"
     ]
    },
    {
     "name": "stdout",
     "output_type": "stream",
     "text": [
      "Optimization terminated successfully.\n",
      "         Current function value: -1.399181\n",
      "         Iterations: 6\n",
      "         Function evaluations: 1085\n"
     ]
    },
    {
     "name": "stderr",
     "output_type": "stream",
     "text": [
      "\u001b[32m[I 2022-03-09 23:10:23,061]\u001b[0m Trial 36 finished with value: 0.7280310391782114 and parameters: {'p': 5, 'd': 1, 'q': 4, 'P': 2, 'D': 0, 'Q': 3}. Best is trial 28 with value: 0.7326770322181595.\u001b[0m\n"
     ]
    },
    {
     "name": "stdout",
     "output_type": "stream",
     "text": [
      "Optimization terminated successfully.\n",
      "         Current function value: -1.373199\n",
      "         Iterations: 11\n",
      "         Function evaluations: 2041\n"
     ]
    },
    {
     "name": "stderr",
     "output_type": "stream",
     "text": [
      "\u001b[32m[I 2022-03-09 23:10:47,026]\u001b[0m Trial 37 finished with value: 0.7284512774207489 and parameters: {'p': 3, 'd': 0, 'q': 7, 'P': 1, 'D': 1, 'Q': 3}. Best is trial 28 with value: 0.7326770322181595.\u001b[0m\n",
      "\u001b[32m[I 2022-03-09 23:10:50,673]\u001b[0m Trial 38 finished with value: 0.725406096427565 and parameters: {'p': 2, 'd': 0, 'q': 3, 'P': 2, 'D': 1, 'Q': 2}. Best is trial 28 with value: 0.7326770322181595.\u001b[0m\n"
     ]
    },
    {
     "name": "stdout",
     "output_type": "stream",
     "text": [
      "Optimization terminated successfully.\n",
      "         Current function value: -1.420365\n",
      "         Iterations: 4\n",
      "         Function evaluations: 547\n",
      "Optimization terminated successfully.\n",
      "         Current function value: -1.376763\n",
      "         Iterations: 10\n",
      "         Function evaluations: 1634\n"
     ]
    },
    {
     "name": "stderr",
     "output_type": "stream",
     "text": [
      "\u001b[32m[I 2022-03-09 23:11:06,728]\u001b[0m Trial 39 finished with value: 0.7117896110154358 and parameters: {'p': 1, 'd': 1, 'q': 6, 'P': 3, 'D': 1, 'Q': 1}. Best is trial 28 with value: 0.7326770322181595.\u001b[0m\n",
      "\u001b[32m[I 2022-03-09 23:11:07,079]\u001b[0m Trial 40 finished with value: 0.6659096030908378 and parameters: {'p': 4, 'd': 0, 'q': 5, 'P': 1, 'D': 0, 'Q': 0}. Best is trial 28 with value: 0.7326770322181595.\u001b[0m\n"
     ]
    },
    {
     "name": "stdout",
     "output_type": "stream",
     "text": [
      "Optimization terminated successfully.\n",
      "         Current function value: -1.287833\n",
      "         Iterations: 3\n",
      "         Function evaluations: 375\n",
      "Optimization terminated successfully.\n",
      "         Current function value: -1.388116\n",
      "         Iterations: 12\n",
      "         Function evaluations: 2355\n"
     ]
    },
    {
     "name": "stderr",
     "output_type": "stream",
     "text": [
      "\u001b[32m[I 2022-03-09 23:11:37,005]\u001b[0m Trial 41 finished with value: 0.7318056247788931 and parameters: {'p': 4, 'd': 0, 'q': 6, 'P': 2, 'D': 1, 'Q': 3}. Best is trial 28 with value: 0.7326770322181595.\u001b[0m\n"
     ]
    },
    {
     "name": "stdout",
     "output_type": "stream",
     "text": [
      "Optimization terminated successfully.\n",
      "         Current function value: -1.383740\n",
      "         Iterations: 15\n",
      "         Function evaluations: 3201\n"
     ]
    },
    {
     "name": "stderr",
     "output_type": "stream",
     "text": [
      "\u001b[32m[I 2022-03-09 23:12:18,115]\u001b[0m Trial 42 finished with value: 0.7333280129979218 and parameters: {'p': 5, 'd': 0, 'q': 7, 'P': 2, 'D': 1, 'Q': 3}. Best is trial 42 with value: 0.7333280129979218.\u001b[0m\n"
     ]
    },
    {
     "name": "stdout",
     "output_type": "stream",
     "text": [
      "Optimization terminated successfully.\n",
      "         Current function value: -1.383415\n",
      "         Iterations: 9\n",
      "         Function evaluations: 1986\n"
     ]
    },
    {
     "name": "stderr",
     "output_type": "stream",
     "text": [
      "\u001b[32m[I 2022-03-09 23:12:45,904]\u001b[0m Trial 43 finished with value: 0.732138155767065 and parameters: {'p': 5, 'd': 0, 'q': 8, 'P': 2, 'D': 1, 'Q': 3}. Best is trial 42 with value: 0.7333280129979218.\u001b[0m\n"
     ]
    },
    {
     "name": "stdout",
     "output_type": "stream",
     "text": [
      "Optimization terminated successfully.\n",
      "         Current function value: -1.383415\n",
      "         Iterations: 9\n",
      "         Function evaluations: 1986\n"
     ]
    },
    {
     "name": "stderr",
     "output_type": "stream",
     "text": [
      "\u001b[32m[I 2022-03-09 23:13:13,395]\u001b[0m Trial 44 finished with value: 0.732138155767065 and parameters: {'p': 5, 'd': 0, 'q': 8, 'P': 2, 'D': 1, 'Q': 3}. Best is trial 42 with value: 0.7333280129979218.\u001b[0m\n"
     ]
    },
    {
     "name": "stdout",
     "output_type": "stream",
     "text": [
      "Optimization terminated successfully.\n",
      "         Current function value: -1.384507\n",
      "         Iterations: 8\n",
      "         Function evaluations: 1859\n"
     ]
    },
    {
     "name": "stderr",
     "output_type": "stream",
     "text": [
      "\u001b[32m[I 2022-03-09 23:13:37,711]\u001b[0m Trial 45 finished with value: 0.7279126766806463 and parameters: {'p': 6, 'd': 0, 'q': 8, 'P': 2, 'D': 1, 'Q': 3}. Best is trial 42 with value: 0.7333280129979218.\u001b[0m\n"
     ]
    },
    {
     "name": "stdout",
     "output_type": "stream",
     "text": [
      "Optimization terminated successfully.\n",
      "         Current function value: -1.384552\n",
      "         Iterations: 11\n",
      "         Function evaluations: 2680\n"
     ]
    },
    {
     "name": "stderr",
     "output_type": "stream",
     "text": [
      "\u001b[32m[I 2022-03-09 23:14:15,482]\u001b[0m Trial 46 finished with value: 0.7303866538996834 and parameters: {'p': 7, 'd': 0, 'q': 8, 'P': 2, 'D': 1, 'Q': 3}. Best is trial 42 with value: 0.7333280129979218.\u001b[0m\n"
     ]
    },
    {
     "name": "stdout",
     "output_type": "stream",
     "text": [
      "Optimization terminated successfully.\n",
      "         Current function value: -1.372561\n",
      "         Iterations: 18\n",
      "         Function evaluations: 3906\n"
     ]
    },
    {
     "name": "stderr",
     "output_type": "stream",
     "text": [
      "\u001b[32m[I 2022-03-09 23:15:08,111]\u001b[0m Trial 47 finished with value: 0.713893963068599 and parameters: {'p': 5, 'd': 1, 'q': 8, 'P': 0, 'D': 1, 'Q': 3}. Best is trial 42 with value: 0.7333280129979218.\u001b[0m\n"
     ]
    },
    {
     "name": "stdout",
     "output_type": "stream",
     "text": [
      "Optimization terminated successfully.\n",
      "         Current function value: -1.380786\n",
      "         Iterations: 15\n",
      "         Function evaluations: 3133\n"
     ]
    },
    {
     "name": "stderr",
     "output_type": "stream",
     "text": [
      "\u001b[32m[I 2022-03-09 23:15:46,302]\u001b[0m Trial 48 finished with value: 0.7326770322181595 and parameters: {'p': 5, 'd': 0, 'q': 7, 'P': 1, 'D': 1, 'Q': 3}. Best is trial 42 with value: 0.7333280129979218.\u001b[0m\n"
     ]
    },
    {
     "name": "stdout",
     "output_type": "stream",
     "text": [
      "Optimization terminated successfully.\n",
      "         Current function value: -1.418721\n",
      "         Iterations: 9\n",
      "         Function evaluations: 1811\n"
     ]
    },
    {
     "name": "stderr",
     "output_type": "stream",
     "text": [
      "\u001b[32m[I 2022-03-09 23:16:01,970]\u001b[0m Trial 49 finished with value: 0.7186317606886283 and parameters: {'p': 5, 'd': 0, 'q': 8, 'P': 1, 'D': 1, 'Q': 2}. Best is trial 42 with value: 0.7333280129979218.\u001b[0m\n",
      "\u001b[32m[I 2022-03-09 23:16:02,008]\u001b[0m A new study created in memory with name: no-name-280b3a85-09c6-4e0d-94ce-d6e5e39823bd\u001b[0m\n",
      "\u001b[32m[I 2022-03-09 23:16:02,286]\u001b[0m Trial 0 finished with value: 0.671452853281647 and parameters: {'p': 6, 'd': 0, 'q': 0, 'P': 1, 'D': 0, 'Q': 0}. Best is trial 0 with value: 0.671452853281647.\u001b[0m\n"
     ]
    },
    {
     "name": "stdout",
     "output_type": "stream",
     "text": [
      "Optimization terminated successfully.\n",
      "         Current function value: -1.270089\n",
      "         Iterations: 3\n",
      "         Function evaluations: 245\n",
      "Optimization terminated successfully.\n",
      "         Current function value: -1.461766\n",
      "         Iterations: 14\n",
      "         Function evaluations: 2185\n"
     ]
    },
    {
     "name": "stderr",
     "output_type": "stream",
     "text": [
      "\u001b[32m[I 2022-03-09 23:16:16,029]\u001b[0m Trial 1 finished with value: 0.6406891957717836 and parameters: {'p': 8, 'd': 1, 'q': 1, 'P': 2, 'D': 0, 'Q': 2}. Best is trial 0 with value: 0.671452853281647.\u001b[0m\n",
      "\u001b[32m[I 2022-03-09 23:16:17,298]\u001b[0m Trial 2 finished with value: 0.38902352650751926 and parameters: {'p': 8, 'd': 0, 'q': 8, 'P': 0, 'D': 0, 'Q': 0}. Best is trial 0 with value: 0.671452853281647.\u001b[0m\n"
     ]
    },
    {
     "name": "stdout",
     "output_type": "stream",
     "text": [
      "Optimization terminated successfully.\n",
      "         Current function value: -1.494159\n",
      "         Iterations: 10\n",
      "         Function evaluations: 2093\n"
     ]
    },
    {
     "name": "stderr",
     "output_type": "stream",
     "text": [
      "\u001b[32m[I 2022-03-09 23:16:19,241]\u001b[0m Trial 3 finished with value: 0.6564631262296226 and parameters: {'p': 2, 'd': 0, 'q': 4, 'P': 2, 'D': 1, 'Q': 0}. Best is trial 0 with value: 0.671452853281647.\u001b[0m\n"
     ]
    },
    {
     "name": "stdout",
     "output_type": "stream",
     "text": [
      "Optimization terminated successfully.\n",
      "         Current function value: -1.372165\n",
      "         Iterations: 5\n",
      "         Function evaluations: 593\n"
     ]
    },
    {
     "name": "stderr",
     "output_type": "stream",
     "text": [
      "\u001b[32m[I 2022-03-09 23:16:20,069]\u001b[0m Trial 4 finished with value: 0.6551029704863109 and parameters: {'p': 7, 'd': 0, 'q': 0, 'P': 2, 'D': 1, 'Q': 0}. Best is trial 0 with value: 0.671452853281647.\u001b[0m\n"
     ]
    },
    {
     "name": "stdout",
     "output_type": "stream",
     "text": [
      "Optimization terminated successfully.\n",
      "         Current function value: -1.355079\n",
      "         Iterations: 2\n",
      "         Function evaluations: 228\n",
      "Optimization terminated successfully.\n",
      "         Current function value: -1.381290\n",
      "         Iterations: 10\n",
      "         Function evaluations: 2228\n"
     ]
    },
    {
     "name": "stderr",
     "output_type": "stream",
     "text": [
      "\u001b[32m[I 2022-03-09 23:16:49,131]\u001b[0m Trial 5 finished with value: 0.6357020301625569 and parameters: {'p': 6, 'd': 1, 'q': 5, 'P': 2, 'D': 1, 'Q': 3}. Best is trial 0 with value: 0.671452853281647.\u001b[0m\n"
     ]
    },
    {
     "name": "stdout",
     "output_type": "stream",
     "text": [
      "Optimization terminated successfully.\n",
      "         Current function value: -1.402145\n",
      "         Iterations: 5\n",
      "         Function evaluations: 907\n"
     ]
    },
    {
     "name": "stderr",
     "output_type": "stream",
     "text": [
      "\u001b[32m[I 2022-03-09 23:16:57,640]\u001b[0m Trial 6 finished with value: 0.6073694671427786 and parameters: {'p': 1, 'd': 1, 'q': 7, 'P': 3, 'D': 1, 'Q': 2}. Best is trial 0 with value: 0.671452853281647.\u001b[0m\n"
     ]
    },
    {
     "name": "stdout",
     "output_type": "stream",
     "text": [
      "Optimization terminated successfully.\n",
      "         Current function value: -1.386812\n",
      "         Iterations: 9\n",
      "         Function evaluations: 2060\n"
     ]
    },
    {
     "name": "stderr",
     "output_type": "stream",
     "text": [
      "\u001b[32m[I 2022-03-09 23:17:20,671]\u001b[0m Trial 7 finished with value: 0.6456753992635995 and parameters: {'p': 6, 'd': 0, 'q': 7, 'P': 3, 'D': 1, 'Q': 3}. Best is trial 0 with value: 0.671452853281647.\u001b[0m\n"
     ]
    },
    {
     "name": "stdout",
     "output_type": "stream",
     "text": [
      "Optimization terminated successfully.\n",
      "         Current function value: -1.368972\n",
      "         Iterations: 6\n",
      "         Function evaluations: 1196\n"
     ]
    },
    {
     "name": "stderr",
     "output_type": "stream",
     "text": [
      "\u001b[32m[I 2022-03-09 23:17:37,052]\u001b[0m Trial 8 finished with value: 0.6355892310014659 and parameters: {'p': 2, 'd': 1, 'q': 8, 'P': 1, 'D': 1, 'Q': 3}. Best is trial 0 with value: 0.671452853281647.\u001b[0m\n"
     ]
    },
    {
     "name": "stdout",
     "output_type": "stream",
     "text": [
      "Optimization terminated successfully.\n",
      "         Current function value: -1.368402\n",
      "         Iterations: 11\n",
      "         Function evaluations: 1679\n"
     ]
    },
    {
     "name": "stderr",
     "output_type": "stream",
     "text": [
      "\u001b[32m[I 2022-03-09 23:17:50,367]\u001b[0m Trial 9 finished with value: 0.6406930655605847 and parameters: {'p': 4, 'd': 0, 'q': 4, 'P': 3, 'D': 1, 'Q': 0}. Best is trial 0 with value: 0.671452853281647.\u001b[0m\n",
      "\u001b[32m[I 2022-03-09 23:17:51,429]\u001b[0m Trial 10 finished with value: -1382135455513.1272 and parameters: {'p': 4, 'd': 0, 'q': 2, 'P': 0, 'D': 0, 'Q': 1}. Best is trial 0 with value: 0.671452853281647.\u001b[0m\n"
     ]
    },
    {
     "name": "stdout",
     "output_type": "stream",
     "text": [
      "Optimization terminated successfully.\n",
      "         Current function value: -0.872729\n",
      "         Iterations: 7\n",
      "         Function evaluations: 733\n"
     ]
    },
    {
     "name": "stderr",
     "output_type": "stream",
     "text": [
      "\u001b[32m[I 2022-03-09 23:17:52,040]\u001b[0m Trial 11 finished with value: 0.6253741291308742 and parameters: {'p': 0, 'd': 0, 'q': 3, 'P': 1, 'D': 0, 'Q': 1}. Best is trial 0 with value: 0.671452853281647.\u001b[0m\n"
     ]
    },
    {
     "name": "stdout",
     "output_type": "stream",
     "text": [
      "Optimization terminated successfully.\n",
      "         Current function value: -1.530638\n",
      "         Iterations: 6\n",
      "         Function evaluations: 452\n"
     ]
    },
    {
     "name": "stderr",
     "output_type": "stream",
     "text": [
      "\u001b[32m[I 2022-03-09 23:17:55,026]\u001b[0m Trial 12 finished with value: 0.6216540667255229 and parameters: {'p': 3, 'd': 0, 'q': 5, 'P': 1, 'D': 0, 'Q': 1}. Best is trial 0 with value: 0.671452853281647.\u001b[0m\n"
     ]
    },
    {
     "name": "stdout",
     "output_type": "stream",
     "text": [
      "Optimization terminated successfully.\n",
      "         Current function value: -1.519232\n",
      "         Iterations: 6\n",
      "         Function evaluations: 821\n"
     ]
    },
    {
     "name": "stderr",
     "output_type": "stream",
     "text": [
      "\u001b[32m[I 2022-03-09 23:17:55,260]\u001b[0m Trial 13 finished with value: 0.6709900356690734 and parameters: {'p': 5, 'd': 0, 'q': 0, 'P': 1, 'D': 0, 'Q': 0}. Best is trial 0 with value: 0.671452853281647.\u001b[0m\n"
     ]
    },
    {
     "name": "stdout",
     "output_type": "stream",
     "text": [
      "Optimization terminated successfully.\n",
      "         Current function value: -1.273166\n",
      "         Iterations: 3\n",
      "         Function evaluations: 216\n"
     ]
    },
    {
     "name": "stderr",
     "output_type": "stream",
     "text": [
      "\u001b[32m[I 2022-03-09 23:17:55,609]\u001b[0m Trial 14 finished with value: -0.261819647732356 and parameters: {'p': 5, 'd': 0, 'q': 0, 'P': 0, 'D': 0, 'Q': 1}. Best is trial 0 with value: 0.671452853281647.\u001b[0m\n"
     ]
    },
    {
     "name": "stdout",
     "output_type": "stream",
     "text": [
      "Optimization terminated successfully.\n",
      "         Current function value: -1.240494\n",
      "         Iterations: 5\n",
      "         Function evaluations: 382\n"
     ]
    },
    {
     "name": "stderr",
     "output_type": "stream",
     "text": [
      "\u001b[32m[I 2022-03-09 23:17:55,967]\u001b[0m Trial 15 finished with value: 0.6718791391388048 and parameters: {'p': 6, 'd': 0, 'q': 1, 'P': 1, 'D': 0, 'Q': 0}. Best is trial 15 with value: 0.6718791391388048.\u001b[0m\n"
     ]
    },
    {
     "name": "stdout",
     "output_type": "stream",
     "text": [
      "Optimization terminated successfully.\n",
      "         Current function value: -1.269880\n",
      "         Iterations: 3\n",
      "         Function evaluations: 284\n"
     ]
    },
    {
     "name": "stderr",
     "output_type": "stream",
     "text": [
      "\u001b[32m[I 2022-03-09 23:17:56,380]\u001b[0m Trial 16 finished with value: 0.6727222749725719 and parameters: {'p': 6, 'd': 0, 'q': 2, 'P': 1, 'D': 0, 'Q': 0}. Best is trial 16 with value: 0.6727222749725719.\u001b[0m\n"
     ]
    },
    {
     "name": "stdout",
     "output_type": "stream",
     "text": [
      "Optimization terminated successfully.\n",
      "         Current function value: -1.269488\n",
      "         Iterations: 3\n",
      "         Function evaluations: 316\n"
     ]
    },
    {
     "name": "stderr",
     "output_type": "stream",
     "text": [
      "\u001b[32m[I 2022-03-09 23:17:58,640]\u001b[0m Trial 17 finished with value: 0.2856476342161338 and parameters: {'p': 7, 'd': 1, 'q': 2, 'P': 0, 'D': 0, 'Q': 2}. Best is trial 16 with value: 0.6727222749725719.\u001b[0m\n"
     ]
    },
    {
     "name": "stdout",
     "output_type": "stream",
     "text": [
      "Optimization terminated successfully.\n",
      "         Current function value: -1.368773\n",
      "         Iterations: 5\n",
      "         Function evaluations: 705\n"
     ]
    },
    {
     "name": "stderr",
     "output_type": "stream",
     "text": [
      "\u001b[32m[I 2022-03-09 23:18:00,262]\u001b[0m Trial 18 finished with value: 0.624240848220244 and parameters: {'p': 5, 'd': 0, 'q': 2, 'P': 1, 'D': 0, 'Q': 1}. Best is trial 16 with value: 0.6727222749725719.\u001b[0m\n"
     ]
    },
    {
     "name": "stdout",
     "output_type": "stream",
     "text": [
      "Optimization terminated successfully.\n",
      "         Current function value: -1.524168\n",
      "         Iterations: 4\n",
      "         Function evaluations: 470\n"
     ]
    },
    {
     "name": "stderr",
     "output_type": "stream",
     "text": [
      "\u001b[32m[I 2022-03-09 23:18:20,859]\u001b[0m Trial 19 finished with value: 0.3529286372040533 and parameters: {'p': 7, 'd': 0, 'q': 3, 'P': 2, 'D': 0, 'Q': 0}. Best is trial 16 with value: 0.6727222749725719.\u001b[0m\n"
     ]
    },
    {
     "name": "stdout",
     "output_type": "stream",
     "text": [
      "Optimization terminated successfully.\n",
      "         Current function value: -1.312446\n",
      "         Iterations: 28\n",
      "         Function evaluations: 4132\n"
     ]
    },
    {
     "name": "stderr",
     "output_type": "stream",
     "text": [
      "\u001b[32m[I 2022-03-09 23:18:21,510]\u001b[0m Trial 20 finished with value: 0.08583879007200013 and parameters: {'p': 3, 'd': 1, 'q': 1, 'P': 0, 'D': 0, 'Q': 1}. Best is trial 16 with value: 0.6727222749725719.\u001b[0m\n"
     ]
    },
    {
     "name": "stdout",
     "output_type": "stream",
     "text": [
      "Optimization terminated successfully.\n",
      "         Current function value: -1.335770\n",
      "         Iterations: 7\n",
      "         Function evaluations: 509\n"
     ]
    },
    {
     "name": "stderr",
     "output_type": "stream",
     "text": [
      "\u001b[32m[I 2022-03-09 23:18:21,849]\u001b[0m Trial 21 finished with value: 0.6718791391388048 and parameters: {'p': 6, 'd': 0, 'q': 1, 'P': 1, 'D': 0, 'Q': 0}. Best is trial 16 with value: 0.6727222749725719.\u001b[0m\n"
     ]
    },
    {
     "name": "stdout",
     "output_type": "stream",
     "text": [
      "Optimization terminated successfully.\n",
      "         Current function value: -1.269880\n",
      "         Iterations: 3\n",
      "         Function evaluations: 284\n"
     ]
    },
    {
     "name": "stderr",
     "output_type": "stream",
     "text": [
      "\u001b[32m[I 2022-03-09 23:18:22,199]\u001b[0m Trial 22 finished with value: 0.6718791391388048 and parameters: {'p': 6, 'd': 0, 'q': 1, 'P': 1, 'D': 0, 'Q': 0}. Best is trial 16 with value: 0.6727222749725719.\u001b[0m\n"
     ]
    },
    {
     "name": "stdout",
     "output_type": "stream",
     "text": [
      "Optimization terminated successfully.\n",
      "         Current function value: -1.269880\n",
      "         Iterations: 3\n",
      "         Function evaluations: 284\n"
     ]
    },
    {
     "name": "stderr",
     "output_type": "stream",
     "text": [
      "\u001b[32m[I 2022-03-09 23:18:25,736]\u001b[0m Trial 23 finished with value: 0.23738628936806583 and parameters: {'p': 5, 'd': 0, 'q': 3, 'P': 1, 'D': 0, 'Q': 0}. Best is trial 16 with value: 0.6727222749725719.\u001b[0m\n"
     ]
    },
    {
     "name": "stdout",
     "output_type": "stream",
     "text": [
      "Optimization terminated successfully.\n",
      "         Current function value: -1.366023\n",
      "         Iterations: 9\n",
      "         Function evaluations: 1084\n"
     ]
    },
    {
     "name": "stderr",
     "output_type": "stream",
     "text": [
      "\u001b[32m[I 2022-03-09 23:18:26,144]\u001b[0m Trial 24 finished with value: 0.6682582734340392 and parameters: {'p': 7, 'd': 0, 'q': 1, 'P': 1, 'D': 0, 'Q': 0}. Best is trial 16 with value: 0.6727222749725719.\u001b[0m\n"
     ]
    },
    {
     "name": "stdout",
     "output_type": "stream",
     "text": [
      "Optimization terminated successfully.\n",
      "         Current function value: -1.265383\n",
      "         Iterations: 3\n",
      "         Function evaluations: 309\n",
      "Optimization terminated successfully.\n",
      "         Current function value: -1.466246\n",
      "         Iterations: 6\n",
      "         Function evaluations: 911\n"
     ]
    },
    {
     "name": "stderr",
     "output_type": "stream",
     "text": [
      "\u001b[32m[I 2022-03-09 23:18:31,078]\u001b[0m Trial 25 finished with value: 0.6167026951854477 and parameters: {'p': 8, 'd': 0, 'q': 2, 'P': 2, 'D': 0, 'Q': 1}. Best is trial 16 with value: 0.6727222749725719.\u001b[0m\n",
      "\u001b[32m[I 2022-03-09 23:18:31,490]\u001b[0m Trial 26 finished with value: 0.6718791391388048 and parameters: {'p': 6, 'd': 0, 'q': 1, 'P': 1, 'D': 0, 'Q': 0}. Best is trial 16 with value: 0.6727222749725719.\u001b[0m\n"
     ]
    },
    {
     "name": "stdout",
     "output_type": "stream",
     "text": [
      "Optimization terminated successfully.\n",
      "         Current function value: -1.269880\n",
      "         Iterations: 3\n",
      "         Function evaluations: 284\n"
     ]
    },
    {
     "name": "stderr",
     "output_type": "stream",
     "text": [
      "\u001b[32m[I 2022-03-09 23:18:32,930]\u001b[0m Trial 27 finished with value: -0.2602501150374863 and parameters: {'p': 4, 'd': 0, 'q': 3, 'P': 0, 'D': 0, 'Q': 1}. Best is trial 16 with value: 0.6727222749725719.\u001b[0m\n"
     ]
    },
    {
     "name": "stdout",
     "output_type": "stream",
     "text": [
      "Optimization terminated successfully.\n",
      "         Current function value: -1.179084\n",
      "         Iterations: 8\n",
      "         Function evaluations: 859\n"
     ]
    },
    {
     "name": "stderr",
     "output_type": "stream",
     "text": [
      "\u001b[32m[I 2022-03-09 23:18:33,456]\u001b[0m Trial 28 finished with value: 0.6742132010350265 and parameters: {'p': 5, 'd': 0, 'q': 2, 'P': 1, 'D': 0, 'Q': 0}. Best is trial 28 with value: 0.6742132010350265.\u001b[0m\n"
     ]
    },
    {
     "name": "stdout",
     "output_type": "stream",
     "text": [
      "Optimization terminated successfully.\n",
      "         Current function value: -1.273263\n",
      "         Iterations: 4\n",
      "         Function evaluations: 400\n"
     ]
    },
    {
     "name": "stderr",
     "output_type": "stream",
     "text": [
      "\u001b[32m[I 2022-03-09 23:18:34,414]\u001b[0m Trial 29 finished with value: 0.6658344255532564 and parameters: {'p': 5, 'd': 0, 'q': 2, 'P': 2, 'D': 0, 'Q': 0}. Best is trial 28 with value: 0.6742132010350265.\u001b[0m\n"
     ]
    },
    {
     "name": "stdout",
     "output_type": "stream",
     "text": [
      "Optimization terminated successfully.\n",
      "         Current function value: -1.375300\n",
      "         Iterations: 4\n",
      "         Function evaluations: 443\n"
     ]
    },
    {
     "name": "stderr",
     "output_type": "stream",
     "text": [
      "\u001b[32m[I 2022-03-09 23:18:40,779]\u001b[0m Trial 30 finished with value: 0.15689707251765306 and parameters: {'p': 3, 'd': 0, 'q': 5, 'P': 0, 'D': 0, 'Q': 2}. Best is trial 28 with value: 0.6742132010350265.\u001b[0m\n"
     ]
    },
    {
     "name": "stdout",
     "output_type": "stream",
     "text": [
      "Optimization terminated successfully.\n",
      "         Current function value: -1.328251\n",
      "         Iterations: 9\n",
      "         Function evaluations: 1317\n"
     ]
    },
    {
     "name": "stderr",
     "output_type": "stream",
     "text": [
      "\u001b[32m[I 2022-03-09 23:18:41,147]\u001b[0m Trial 31 finished with value: 0.6718791391388048 and parameters: {'p': 6, 'd': 0, 'q': 1, 'P': 1, 'D': 0, 'Q': 0}. Best is trial 28 with value: 0.6742132010350265.\u001b[0m\n"
     ]
    },
    {
     "name": "stdout",
     "output_type": "stream",
     "text": [
      "Optimization terminated successfully.\n",
      "         Current function value: -1.269880\n",
      "         Iterations: 3\n",
      "         Function evaluations: 284\n"
     ]
    },
    {
     "name": "stderr",
     "output_type": "stream",
     "text": [
      "\u001b[32m[I 2022-03-09 23:18:41,541]\u001b[0m Trial 32 finished with value: 0.6669031261163336 and parameters: {'p': 7, 'd': 0, 'q': 0, 'P': 1, 'D': 0, 'Q': 0}. Best is trial 28 with value: 0.6742132010350265.\u001b[0m\n"
     ]
    },
    {
     "name": "stdout",
     "output_type": "stream",
     "text": [
      "Optimization terminated successfully.\n",
      "         Current function value: -1.265539\n",
      "         Iterations: 3\n",
      "         Function evaluations: 281\n"
     ]
    },
    {
     "name": "stderr",
     "output_type": "stream",
     "text": [
      "\u001b[32m[I 2022-03-09 23:18:41,836]\u001b[0m Trial 33 finished with value: 0.6716653646402951 and parameters: {'p': 5, 'd': 0, 'q': 1, 'P': 1, 'D': 0, 'Q': 0}. Best is trial 28 with value: 0.6742132010350265.\u001b[0m\n"
     ]
    },
    {
     "name": "stdout",
     "output_type": "stream",
     "text": [
      "Optimization terminated successfully.\n",
      "         Current function value: -1.273122\n",
      "         Iterations: 3\n",
      "         Function evaluations: 248\n"
     ]
    },
    {
     "name": "stderr",
     "output_type": "stream",
     "text": [
      "\u001b[32m[I 2022-03-09 23:18:42,352]\u001b[0m Trial 34 finished with value: 0.6681132371555674 and parameters: {'p': 8, 'd': 0, 'q': 2, 'P': 1, 'D': 0, 'Q': 0}. Best is trial 28 with value: 0.6742132010350265.\u001b[0m\n"
     ]
    },
    {
     "name": "stdout",
     "output_type": "stream",
     "text": [
      "Optimization terminated successfully.\n",
      "         Current function value: -1.260419\n",
      "         Iterations: 3\n",
      "         Function evaluations: 379\n"
     ]
    },
    {
     "name": "stderr",
     "output_type": "stream",
     "text": [
      "\u001b[32m[I 2022-03-09 23:18:47,621]\u001b[0m Trial 35 finished with value: 0.6389603232294783 and parameters: {'p': 6, 'd': 0, 'q': 4, 'P': 2, 'D': 0, 'Q': 0}. Best is trial 28 with value: 0.6742132010350265.\u001b[0m\n"
     ]
    },
    {
     "name": "stdout",
     "output_type": "stream",
     "text": [
      "Optimization terminated successfully.\n",
      "         Current function value: -1.369605\n",
      "         Iterations: 7\n",
      "         Function evaluations: 1018\n"
     ]
    },
    {
     "name": "stderr",
     "output_type": "stream",
     "text": [
      "\u001b[32m[I 2022-03-09 23:18:48,255]\u001b[0m Trial 36 finished with value: 0.6627088393067058 and parameters: {'p': 6, 'd': 0, 'q': 0, 'P': 2, 'D': 0, 'Q': 0}. Best is trial 28 with value: 0.6742132010350265.\u001b[0m\n"
     ]
    },
    {
     "name": "stdout",
     "output_type": "stream",
     "text": [
      "Optimization terminated successfully.\n",
      "         Current function value: -1.369148\n",
      "         Iterations: 3\n",
      "         Function evaluations: 288\n"
     ]
    },
    {
     "name": "stderr",
     "output_type": "stream",
     "text": [
      "\u001b[32m[I 2022-03-09 23:18:51,391]\u001b[0m Trial 37 finished with value: 0.3102979088805382 and parameters: {'p': 4, 'd': 1, 'q': 3, 'P': 1, 'D': 0, 'Q': 0}. Best is trial 28 with value: 0.6742132010350265.\u001b[0m\n"
     ]
    },
    {
     "name": "stdout",
     "output_type": "stream",
     "text": [
      "Optimization terminated successfully.\n",
      "         Current function value: -1.377158\n",
      "         Iterations: 9\n",
      "         Function evaluations: 1022\n"
     ]
    },
    {
     "name": "stderr",
     "output_type": "stream",
     "text": [
      "\u001b[32m[I 2022-03-09 23:18:55,095]\u001b[0m Trial 38 finished with value: -1.5163249224624672e+25 and parameters: {'p': 7, 'd': 0, 'q': 4, 'P': 0, 'D': 0, 'Q': 1}. Best is trial 28 with value: 0.6742132010350265.\u001b[0m\n"
     ]
    },
    {
     "name": "stdout",
     "output_type": "stream",
     "text": [
      "Optimization terminated successfully.\n",
      "         Current function value: -0.454965\n",
      "         Iterations: 8\n",
      "         Function evaluations: 1151\n"
     ]
    },
    {
     "name": "stderr",
     "output_type": "stream",
     "text": [
      "\u001b[32m[I 2022-03-09 23:18:56,514]\u001b[0m Trial 39 finished with value: 0.6785442673911414 and parameters: {'p': 8, 'd': 0, 'q': 2, 'P': 1, 'D': 1, 'Q': 0}. Best is trial 39 with value: 0.6785442673911414.\u001b[0m\n"
     ]
    },
    {
     "name": "stdout",
     "output_type": "stream",
     "text": [
      "Optimization terminated successfully.\n",
      "         Current function value: -1.369596\n",
      "         Iterations: 4\n",
      "         Function evaluations: 567\n",
      "Optimization terminated successfully.\n",
      "         Current function value: -1.419527\n",
      "         Iterations: 8\n",
      "         Function evaluations: 1504\n"
     ]
    },
    {
     "name": "stderr",
     "output_type": "stream",
     "text": [
      "\u001b[32m[I 2022-03-09 23:19:10,745]\u001b[0m Trial 40 finished with value: 0.6257711007328735 and parameters: {'p': 8, 'd': 1, 'q': 2, 'P': 2, 'D': 1, 'Q': 2}. Best is trial 39 with value: 0.6785442673911414.\u001b[0m\n",
      "\u001b[32m[I 2022-03-09 23:19:11,514]\u001b[0m Trial 41 finished with value: 0.6818495796114168 and parameters: {'p': 6, 'd': 0, 'q': 1, 'P': 1, 'D': 1, 'Q': 0}. Best is trial 41 with value: 0.6818495796114168.\u001b[0m\n"
     ]
    },
    {
     "name": "stdout",
     "output_type": "stream",
     "text": [
      "Optimization terminated successfully.\n",
      "         Current function value: -1.367167\n",
      "         Iterations: 3\n",
      "         Function evaluations: 375\n"
     ]
    },
    {
     "name": "stderr",
     "output_type": "stream",
     "text": [
      "\u001b[32m[I 2022-03-09 23:19:12,273]\u001b[0m Trial 42 finished with value: 0.6819629289774505 and parameters: {'p': 7, 'd': 0, 'q': 2, 'P': 1, 'D': 1, 'Q': 0}. Best is trial 42 with value: 0.6819629289774505.\u001b[0m\n"
     ]
    },
    {
     "name": "stdout",
     "output_type": "stream",
     "text": [
      "Optimization terminated successfully.\n",
      "         Current function value: -1.369936\n",
      "         Iterations: 2\n",
      "         Function evaluations: 285\n"
     ]
    },
    {
     "name": "stderr",
     "output_type": "stream",
     "text": [
      "\u001b[32m[I 2022-03-09 23:19:19,255]\u001b[0m Trial 43 finished with value: 0.6548762863540092 and parameters: {'p': 8, 'd': 0, 'q': 3, 'P': 1, 'D': 1, 'Q': 0}. Best is trial 42 with value: 0.6819629289774505.\u001b[0m\n"
     ]
    },
    {
     "name": "stdout",
     "output_type": "stream",
     "text": [
      "Optimization terminated successfully.\n",
      "         Current function value: -1.397269\n",
      "         Iterations: 13\n",
      "         Function evaluations: 1991\n"
     ]
    },
    {
     "name": "stderr",
     "output_type": "stream",
     "text": [
      "\u001b[32m[I 2022-03-09 23:19:19,991]\u001b[0m Trial 44 finished with value: 0.6819629289774505 and parameters: {'p': 7, 'd': 0, 'q': 2, 'P': 1, 'D': 1, 'Q': 0}. Best is trial 42 with value: 0.6819629289774505.\u001b[0m\n"
     ]
    },
    {
     "name": "stdout",
     "output_type": "stream",
     "text": [
      "Optimization terminated successfully.\n",
      "         Current function value: -1.369936\n",
      "         Iterations: 2\n",
      "         Function evaluations: 285\n"
     ]
    },
    {
     "name": "stderr",
     "output_type": "stream",
     "text": [
      "\u001b[32m[I 2022-03-09 23:19:30,443]\u001b[0m Trial 45 finished with value: 0.6731775409269045 and parameters: {'p': 7, 'd': 0, 'q': 3, 'P': 1, 'D': 1, 'Q': 0}. Best is trial 42 with value: 0.6819629289774505.\u001b[0m\n"
     ]
    },
    {
     "name": "stdout",
     "output_type": "stream",
     "text": [
      "Optimization terminated successfully.\n",
      "         Current function value: -1.319260\n",
      "         Iterations: 12\n",
      "         Function evaluations: 2120\n",
      "Optimization terminated successfully.\n",
      "         Current function value: -1.459861\n",
      "         Iterations: 5\n",
      "         Function evaluations: 760\n"
     ]
    },
    {
     "name": "stderr",
     "output_type": "stream",
     "text": [
      "\u001b[32m[I 2022-03-09 23:19:34,242]\u001b[0m Trial 46 finished with value: 0.6591301208127115 and parameters: {'p': 8, 'd': 0, 'q': 2, 'P': 1, 'D': 1, 'Q': 1}. Best is trial 42 with value: 0.6819629289774505.\u001b[0m\n"
     ]
    },
    {
     "name": "stdout",
     "output_type": "stream",
     "text": [
      "Optimization terminated successfully.\n",
      "         Current function value: -1.376991\n",
      "         Iterations: 7\n",
      "         Function evaluations: 1472\n"
     ]
    },
    {
     "name": "stderr",
     "output_type": "stream",
     "text": [
      "\u001b[32m[I 2022-03-09 23:19:54,664]\u001b[0m Trial 47 finished with value: 0.6597641978168725 and parameters: {'p': 7, 'd': 0, 'q': 6, 'P': 1, 'D': 1, 'Q': 3}. Best is trial 42 with value: 0.6819629289774505.\u001b[0m\n",
      "\u001b[32m[I 2022-03-09 23:19:55,670]\u001b[0m Trial 48 finished with value: 0.6551029704863109 and parameters: {'p': 7, 'd': 0, 'q': 0, 'P': 2, 'D': 1, 'Q': 0}. Best is trial 42 with value: 0.6819629289774505.\u001b[0m\n"
     ]
    },
    {
     "name": "stdout",
     "output_type": "stream",
     "text": [
      "Optimization terminated successfully.\n",
      "         Current function value: -1.355079\n",
      "         Iterations: 2\n",
      "         Function evaluations: 228\n",
      "Optimization terminated successfully.\n",
      "         Current function value: -0.608106\n",
      "         Iterations: 41\n",
      "         Function evaluations: 8820\n"
     ]
    },
    {
     "name": "stderr",
     "output_type": "stream",
     "text": [
      "\u001b[32m[I 2022-03-09 23:20:49,136]\u001b[0m Trial 49 finished with value: -68136.34285726195 and parameters: {'p': 8, 'd': 0, 'q': 4, 'P': 1, 'D': 1, 'Q': 1}. Best is trial 42 with value: 0.6819629289774505.\u001b[0m\n",
      "\u001b[32m[I 2022-03-09 23:20:49,173]\u001b[0m A new study created in memory with name: no-name-a1c427a1-ce88-48d5-b42e-d828d2840faa\u001b[0m\n",
      "\u001b[32m[I 2022-03-09 23:20:57,877]\u001b[0m Trial 0 finished with value: 0.6671674743355637 and parameters: {'p': 8, 'd': 1, 'q': 5, 'P': 0, 'D': 0, 'Q': 1}. Best is trial 0 with value: 0.6671674743355637.\u001b[0m\n"
     ]
    },
    {
     "name": "stdout",
     "output_type": "stream",
     "text": [
      "Optimization terminated successfully.\n",
      "         Current function value: -1.462388\n",
      "         Iterations: 21\n",
      "         Function evaluations: 3766\n"
     ]
    },
    {
     "name": "stderr",
     "output_type": "stream",
     "text": [
      "\u001b[32m[I 2022-03-09 23:21:09,049]\u001b[0m Trial 1 finished with value: 0.43729940456347083 and parameters: {'p': 8, 'd': 0, 'q': 8, 'P': 0, 'D': 0, 'Q': 2}. Best is trial 0 with value: 0.6671674743355637.\u001b[0m\n"
     ]
    },
    {
     "name": "stdout",
     "output_type": "stream",
     "text": [
      "Optimization terminated successfully.\n",
      "         Current function value: -1.410155\n",
      "         Iterations: 12\n",
      "         Function evaluations: 2744\n"
     ]
    },
    {
     "name": "stderr",
     "output_type": "stream",
     "text": [
      "\u001b[32m[I 2022-03-09 23:21:09,662]\u001b[0m Trial 2 finished with value: -0.033810661654785745 and parameters: {'p': 1, 'd': 0, 'q': 5, 'P': 0, 'D': 0, 'Q': 0}. Best is trial 0 with value: 0.6671674743355637.\u001b[0m\n"
     ]
    },
    {
     "name": "stdout",
     "output_type": "stream",
     "text": [
      "Optimization terminated successfully.\n",
      "         Current function value: -1.324521\n",
      "         Iterations: 10\n",
      "         Function evaluations: 935\n"
     ]
    },
    {
     "name": "stderr",
     "output_type": "stream",
     "text": [
      "\u001b[32m[I 2022-03-09 23:21:15,557]\u001b[0m Trial 3 finished with value: 0.652432620386185 and parameters: {'p': 3, 'd': 0, 'q': 2, 'P': 1, 'D': 1, 'Q': 2}. Best is trial 0 with value: 0.6671674743355637.\u001b[0m\n"
     ]
    },
    {
     "name": "stdout",
     "output_type": "stream",
     "text": [
      "Optimization terminated successfully.\n",
      "         Current function value: -1.436080\n",
      "         Iterations: 7\n",
      "         Function evaluations: 794\n",
      "Optimization terminated successfully.\n",
      "         Current function value: -1.383156\n",
      "         Iterations: 7\n",
      "         Function evaluations: 778\n"
     ]
    },
    {
     "name": "stderr",
     "output_type": "stream",
     "text": [
      "\u001b[32m[I 2022-03-09 23:21:24,425]\u001b[0m Trial 4 finished with value: 0.6278535871501192 and parameters: {'p': 0, 'd': 1, 'q': 3, 'P': 1, 'D': 1, 'Q': 3}. Best is trial 0 with value: 0.6671674743355637.\u001b[0m\n"
     ]
    },
    {
     "name": "stdout",
     "output_type": "stream",
     "text": [
      "Optimization terminated successfully.\n",
      "         Current function value: -1.288213\n",
      "         Iterations: 12\n",
      "         Function evaluations: 1924\n"
     ]
    },
    {
     "name": "stderr",
     "output_type": "stream",
     "text": [
      "\u001b[32m[I 2022-03-09 23:21:39,418]\u001b[0m Trial 5 finished with value: 0.2180357876016562 and parameters: {'p': 1, 'd': 0, 'q': 7, 'P': 0, 'D': 0, 'Q': 3}. Best is trial 0 with value: 0.6671674743355637.\u001b[0m\n",
      "\u001b[32m[I 2022-03-09 23:21:40,380]\u001b[0m Trial 6 finished with value: 0.6557150429176551 and parameters: {'p': 3, 'd': 0, 'q': 6, 'P': 2, 'D': 1, 'Q': 0}. Best is trial 0 with value: 0.6671674743355637.\u001b[0m\n"
     ]
    },
    {
     "name": "stdout",
     "output_type": "stream",
     "text": [
      "Optimization terminated successfully.\n",
      "         Current function value: -1.367558\n",
      "         Iterations: 2\n",
      "         Function evaluations: 275\n",
      "Optimization terminated successfully.\n",
      "         Current function value: -1.446541\n",
      "         Iterations: 22\n",
      "         Function evaluations: 4346\n"
     ]
    },
    {
     "name": "stderr",
     "output_type": "stream",
     "text": [
      "\u001b[32m[I 2022-03-09 23:22:14,832]\u001b[0m Trial 7 finished with value: 0.6266047294613875 and parameters: {'p': 7, 'd': 0, 'q': 4, 'P': 2, 'D': 0, 'Q': 3}. Best is trial 0 with value: 0.6671674743355637.\u001b[0m\n"
     ]
    },
    {
     "name": "stdout",
     "output_type": "stream",
     "text": [
      "Optimization terminated successfully.\n",
      "         Current function value: -1.297216\n",
      "         Iterations: 24\n",
      "         Function evaluations: 4994\n"
     ]
    },
    {
     "name": "stderr",
     "output_type": "stream",
     "text": [
      "\u001b[32m[I 2022-03-09 23:22:58,148]\u001b[0m Trial 8 finished with value: 0.25219032897041926 and parameters: {'p': 4, 'd': 0, 'q': 8, 'P': 0, 'D': 0, 'Q': 3}. Best is trial 0 with value: 0.6671674743355637.\u001b[0m\n",
      "\u001b[32m[I 2022-03-09 23:22:58,237]\u001b[0m Trial 9 finished with value: -0.5865692421031146 and parameters: {'p': 4, 'd': 0, 'q': 0, 'P': 0, 'D': 0, 'Q': 0}. Best is trial 0 with value: 0.6671674743355637.\u001b[0m\n"
     ]
    },
    {
     "name": "stdout",
     "output_type": "stream",
     "text": [
      "Optimization terminated successfully.\n",
      "         Current function value: -1.208623\n",
      "         Iterations: 1\n",
      "         Function evaluations: 145\n",
      "Optimization terminated successfully.\n",
      "         Current function value: -1.379021\n",
      "         Iterations: 6\n",
      "         Function evaluations: 891\n"
     ]
    },
    {
     "name": "stderr",
     "output_type": "stream",
     "text": [
      "\u001b[32m[I 2022-03-09 23:23:06,454]\u001b[0m Trial 10 finished with value: 0.5951974464063547 and parameters: {'p': 6, 'd': 1, 'q': 1, 'P': 3, 'D': 1, 'Q': 1}. Best is trial 0 with value: 0.6671674743355637.\u001b[0m\n"
     ]
    },
    {
     "name": "stdout",
     "output_type": "stream",
     "text": [
      "Optimization terminated successfully.\n",
      "         Current function value: -1.417059\n",
      "         Iterations: 7\n",
      "         Function evaluations: 1293\n"
     ]
    },
    {
     "name": "stderr",
     "output_type": "stream",
     "text": [
      "\u001b[32m[I 2022-03-09 23:23:16,516]\u001b[0m Trial 11 finished with value: 0.6087209088360721 and parameters: {'p': 6, 'd': 1, 'q': 6, 'P': 2, 'D': 1, 'Q': 1}. Best is trial 0 with value: 0.6671674743355637.\u001b[0m\n"
     ]
    },
    {
     "name": "stdout",
     "output_type": "stream",
     "text": [
      "Optimization terminated successfully.\n",
      "         Current function value: -1.360527\n",
      "         Iterations: 7\n",
      "         Function evaluations: 1040\n"
     ]
    },
    {
     "name": "stderr",
     "output_type": "stream",
     "text": [
      "\u001b[32m[I 2022-03-09 23:23:26,477]\u001b[0m Trial 12 finished with value: 0.6117772817171312 and parameters: {'p': 3, 'd': 1, 'q': 5, 'P': 3, 'D': 1, 'Q': 0}. Best is trial 0 with value: 0.6671674743355637.\u001b[0m\n"
     ]
    },
    {
     "name": "stdout",
     "output_type": "stream",
     "text": [
      "Optimization terminated successfully.\n",
      "         Current function value: -1.418688\n",
      "         Iterations: 8\n",
      "         Function evaluations: 1398\n"
     ]
    },
    {
     "name": "stderr",
     "output_type": "stream",
     "text": [
      "\u001b[32m[I 2022-03-09 23:23:37,049]\u001b[0m Trial 13 finished with value: 0.6198424305841209 and parameters: {'p': 5, 'd': 1, 'q': 6, 'P': 2, 'D': 1, 'Q': 1}. Best is trial 0 with value: 0.6671674743355637.\u001b[0m\n"
     ]
    },
    {
     "name": "stdout",
     "output_type": "stream",
     "text": [
      "Optimization terminated successfully.\n",
      "         Current function value: -1.349494\n",
      "         Iterations: 7\n",
      "         Function evaluations: 1449\n"
     ]
    },
    {
     "name": "stderr",
     "output_type": "stream",
     "text": [
      "\u001b[32m[I 2022-03-09 23:23:45,737]\u001b[0m Trial 14 finished with value: 0.6750729121406412 and parameters: {'p': 8, 'd': 1, 'q': 4, 'P': 1, 'D': 1, 'Q': 0}. Best is trial 14 with value: 0.6750729121406412.\u001b[0m\n",
      "\u001b[32m[I 2022-03-09 23:23:52,913]\u001b[0m Trial 15 finished with value: 0.63055514900106 and parameters: {'p': 8, 'd': 1, 'q': 3, 'P': 1, 'D': 0, 'Q': 1}. Best is trial 14 with value: 0.6750729121406412.\u001b[0m\n"
     ]
    },
    {
     "name": "stdout",
     "output_type": "stream",
     "text": [
      "Optimization terminated successfully.\n",
      "         Current function value: -1.503345\n",
      "         Iterations: 11\n",
      "         Function evaluations: 1811\n",
      "Optimization terminated successfully.\n",
      "         Current function value: -1.463535\n",
      "         Iterations: 8\n",
      "         Function evaluations: 1431\n"
     ]
    },
    {
     "name": "stderr",
     "output_type": "stream",
     "text": [
      "\u001b[32m[I 2022-03-09 23:23:59,879]\u001b[0m Trial 16 finished with value: 0.6277274178350796 and parameters: {'p': 7, 'd': 1, 'q': 4, 'P': 1, 'D': 0, 'Q': 2}. Best is trial 14 with value: 0.6750729121406412.\u001b[0m\n",
      "\u001b[32m[I 2022-03-09 23:24:16,929]\u001b[0m Trial 17 finished with value: 0.6777702851127312 and parameters: {'p': 8, 'd': 1, 'q': 3, 'P': 1, 'D': 1, 'Q': 0}. Best is trial 17 with value: 0.6777702851127312.\u001b[0m\n"
     ]
    },
    {
     "name": "stdout",
     "output_type": "stream",
     "text": [
      "Optimization terminated successfully.\n",
      "         Current function value: -1.371568\n",
      "         Iterations: 17\n",
      "         Function evaluations: 2791\n"
     ]
    },
    {
     "name": "stderr",
     "output_type": "stream",
     "text": [
      "\u001b[32m[I 2022-03-09 23:24:20,964]\u001b[0m Trial 18 finished with value: 0.6733840649129563 and parameters: {'p': 6, 'd': 1, 'q': 2, 'P': 1, 'D': 1, 'Q': 0}. Best is trial 17 with value: 0.6777702851127312.\u001b[0m\n"
     ]
    },
    {
     "name": "stdout",
     "output_type": "stream",
     "text": [
      "Optimization terminated successfully.\n",
      "         Current function value: -1.359815\n",
      "         Iterations: 6\n",
      "         Function evaluations: 803\n"
     ]
    },
    {
     "name": "stderr",
     "output_type": "stream",
     "text": [
      "\u001b[32m[I 2022-03-09 23:24:27,061]\u001b[0m Trial 19 finished with value: 0.6766565007866452 and parameters: {'p': 7, 'd': 1, 'q': 3, 'P': 1, 'D': 1, 'Q': 0}. Best is trial 17 with value: 0.6777702851127312.\u001b[0m\n"
     ]
    },
    {
     "name": "stdout",
     "output_type": "stream",
     "text": [
      "Optimization terminated successfully.\n",
      "         Current function value: -1.374895\n",
      "         Iterations: 7\n",
      "         Function evaluations: 1144\n"
     ]
    },
    {
     "name": "stderr",
     "output_type": "stream",
     "text": [
      "\u001b[32m[I 2022-03-09 23:24:28,580]\u001b[0m Trial 20 finished with value: 0.6561471110637427 and parameters: {'p': 7, 'd': 1, 'q': 0, 'P': 2, 'D': 1, 'Q': 0}. Best is trial 17 with value: 0.6777702851127312.\u001b[0m\n"
     ]
    },
    {
     "name": "stdout",
     "output_type": "stream",
     "text": [
      "Optimization terminated successfully.\n",
      "         Current function value: -1.309412\n",
      "         Iterations: 4\n",
      "         Function evaluations: 429\n",
      "Optimization terminated successfully.\n",
      "         Current function value: -1.371568\n",
      "         Iterations: 17\n",
      "         Function evaluations: 2791\n"
     ]
    },
    {
     "name": "stderr",
     "output_type": "stream",
     "text": [
      "\u001b[32m[I 2022-03-09 23:24:45,356]\u001b[0m Trial 21 finished with value: 0.6777702851127312 and parameters: {'p': 8, 'd': 1, 'q': 3, 'P': 1, 'D': 1, 'Q': 0}. Best is trial 17 with value: 0.6777702851127312.\u001b[0m\n",
      "\u001b[32m[I 2022-03-09 23:24:48,775]\u001b[0m Trial 22 finished with value: 0.6746723168829916 and parameters: {'p': 7, 'd': 1, 'q': 2, 'P': 1, 'D': 1, 'Q': 0}. Best is trial 17 with value: 0.6777702851127312.\u001b[0m\n"
     ]
    },
    {
     "name": "stdout",
     "output_type": "stream",
     "text": [
      "Optimization terminated successfully.\n",
      "         Current function value: -1.359782\n",
      "         Iterations: 5\n",
      "         Function evaluations: 729\n"
     ]
    },
    {
     "name": "stderr",
     "output_type": "stream",
     "text": [
      "\u001b[32m[I 2022-03-09 23:24:57,799]\u001b[0m Trial 23 finished with value: 0.6179925360407131 and parameters: {'p': 5, 'd': 1, 'q': 3, 'P': 1, 'D': 1, 'Q': 1}. Best is trial 17 with value: 0.6777702851127312.\u001b[0m\n"
     ]
    },
    {
     "name": "stdout",
     "output_type": "stream",
     "text": [
      "Optimization terminated successfully.\n",
      "         Current function value: -1.467052\n",
      "         Iterations: 12\n",
      "         Function evaluations: 1640\n"
     ]
    },
    {
     "name": "stderr",
     "output_type": "stream",
     "text": [
      "\u001b[32m[I 2022-03-09 23:25:03,168]\u001b[0m Trial 24 finished with value: 0.6743573870203838 and parameters: {'p': 8, 'd': 1, 'q': 1, 'P': 1, 'D': 1, 'Q': 0}. Best is trial 17 with value: 0.6777702851127312.\u001b[0m\n"
     ]
    },
    {
     "name": "stdout",
     "output_type": "stream",
     "text": [
      "Optimization terminated successfully.\n",
      "         Current function value: -1.353834\n",
      "         Iterations: 9\n",
      "         Function evaluations: 1295\n",
      "Optimization terminated successfully.\n",
      "         Current function value: -1.359830\n",
      "         Iterations: 13\n",
      "         Function evaluations: 2166\n"
     ]
    },
    {
     "name": "stderr",
     "output_type": "stream",
     "text": [
      "\u001b[32m[I 2022-03-09 23:25:19,877]\u001b[0m Trial 25 finished with value: 0.6512803020278252 and parameters: {'p': 7, 'd': 1, 'q': 3, 'P': 2, 'D': 1, 'Q': 0}. Best is trial 17 with value: 0.6777702851127312.\u001b[0m\n",
      "\u001b[32m[I 2022-03-09 23:25:23,478]\u001b[0m Trial 26 finished with value: 0.6896226964385266 and parameters: {'p': 6, 'd': 1, 'q': 1, 'P': 1, 'D': 1, 'Q': 1}. Best is trial 26 with value: 0.6896226964385266.\u001b[0m\n"
     ]
    },
    {
     "name": "stdout",
     "output_type": "stream",
     "text": [
      "Optimization terminated successfully.\n",
      "         Current function value: -1.440297\n",
      "         Iterations: 5\n",
      "         Function evaluations: 664\n"
     ]
    },
    {
     "name": "stderr",
     "output_type": "stream",
     "text": [
      "\u001b[32m[I 2022-03-09 23:25:29,219]\u001b[0m Trial 27 finished with value: 0.6174317194607368 and parameters: {'p': 5, 'd': 1, 'q': 1, 'P': 1, 'D': 1, 'Q': 1}. Best is trial 26 with value: 0.6896226964385266.\u001b[0m\n"
     ]
    },
    {
     "name": "stdout",
     "output_type": "stream",
     "text": [
      "Optimization terminated successfully.\n",
      "         Current function value: -1.460768\n",
      "         Iterations: 9\n",
      "         Function evaluations: 1121\n",
      "Optimization terminated successfully.\n",
      "         Current function value: -1.421731\n",
      "         Iterations: 6\n",
      "         Function evaluations: 1057\n"
     ]
    },
    {
     "name": "stderr",
     "output_type": "stream",
     "text": [
      "\u001b[32m[I 2022-03-09 23:25:38,447]\u001b[0m Trial 28 finished with value: 0.6328381948719417 and parameters: {'p': 6, 'd': 1, 'q': 2, 'P': 2, 'D': 1, 'Q': 2}. Best is trial 26 with value: 0.6896226964385266.\u001b[0m\n",
      "\u001b[32m[I 2022-03-09 23:25:44,343]\u001b[0m Trial 29 finished with value: 0.6324484554171634 and parameters: {'p': 8, 'd': 1, 'q': 1, 'P': 0, 'D': 1, 'Q': 1}. Best is trial 26 with value: 0.6896226964385266.\u001b[0m\n"
     ]
    },
    {
     "name": "stdout",
     "output_type": "stream",
     "text": [
      "Optimization terminated successfully.\n",
      "         Current function value: -1.480731\n",
      "         Iterations: 9\n",
      "         Function evaluations: 1207\n"
     ]
    },
    {
     "name": "stderr",
     "output_type": "stream",
     "text": [
      "\u001b[32m[I 2022-03-09 23:25:46,198]\u001b[0m Trial 30 finished with value: 0.6833251469701589 and parameters: {'p': 6, 'd': 1, 'q': 0, 'P': 0, 'D': 1, 'Q': 1}. Best is trial 26 with value: 0.6896226964385266.\u001b[0m\n"
     ]
    },
    {
     "name": "stdout",
     "output_type": "stream",
     "text": [
      "Optimization terminated successfully.\n",
      "         Current function value: -1.428468\n",
      "         Iterations: 4\n",
      "         Function evaluations: 402\n"
     ]
    },
    {
     "name": "stderr",
     "output_type": "stream",
     "text": [
      "\u001b[32m[I 2022-03-09 23:25:48,044]\u001b[0m Trial 31 finished with value: 0.6833251469701589 and parameters: {'p': 6, 'd': 1, 'q': 0, 'P': 0, 'D': 1, 'Q': 1}. Best is trial 26 with value: 0.6896226964385266.\u001b[0m\n"
     ]
    },
    {
     "name": "stdout",
     "output_type": "stream",
     "text": [
      "Optimization terminated successfully.\n",
      "         Current function value: -1.428468\n",
      "         Iterations: 4\n",
      "         Function evaluations: 402\n"
     ]
    },
    {
     "name": "stderr",
     "output_type": "stream",
     "text": [
      "\u001b[32m[I 2022-03-09 23:25:49,674]\u001b[0m Trial 32 finished with value: 0.6781835049736888 and parameters: {'p': 5, 'd': 1, 'q': 0, 'P': 0, 'D': 1, 'Q': 1}. Best is trial 26 with value: 0.6896226964385266.\u001b[0m\n"
     ]
    },
    {
     "name": "stdout",
     "output_type": "stream",
     "text": [
      "Optimization terminated successfully.\n",
      "         Current function value: -1.417743\n",
      "         Iterations: 4\n",
      "         Function evaluations: 350\n"
     ]
    },
    {
     "name": "stderr",
     "output_type": "stream",
     "text": [
      "\u001b[32m[I 2022-03-09 23:25:51,264]\u001b[0m Trial 33 finished with value: 0.6781835049736888 and parameters: {'p': 5, 'd': 1, 'q': 0, 'P': 0, 'D': 1, 'Q': 1}. Best is trial 26 with value: 0.6896226964385266.\u001b[0m\n"
     ]
    },
    {
     "name": "stdout",
     "output_type": "stream",
     "text": [
      "Optimization terminated successfully.\n",
      "         Current function value: -1.417743\n",
      "         Iterations: 4\n",
      "         Function evaluations: 350\n"
     ]
    },
    {
     "name": "stderr",
     "output_type": "stream",
     "text": [
      "\u001b[32m[I 2022-03-09 23:25:54,061]\u001b[0m Trial 34 finished with value: 0.6802444990729115 and parameters: {'p': 6, 'd': 1, 'q': 0, 'P': 0, 'D': 1, 'Q': 2}. Best is trial 26 with value: 0.6896226964385266.\u001b[0m\n"
     ]
    },
    {
     "name": "stdout",
     "output_type": "stream",
     "text": [
      "Optimization terminated successfully.\n",
      "         Current function value: -1.388304\n",
      "         Iterations: 4\n",
      "         Function evaluations: 407\n"
     ]
    },
    {
     "name": "stderr",
     "output_type": "stream",
     "text": [
      "\u001b[32m[I 2022-03-09 23:25:56,909]\u001b[0m Trial 35 finished with value: 0.6802444990729115 and parameters: {'p': 6, 'd': 1, 'q': 0, 'P': 0, 'D': 1, 'Q': 2}. Best is trial 26 with value: 0.6896226964385266.\u001b[0m\n"
     ]
    },
    {
     "name": "stdout",
     "output_type": "stream",
     "text": [
      "Optimization terminated successfully.\n",
      "         Current function value: -1.388304\n",
      "         Iterations: 4\n",
      "         Function evaluations: 407\n"
     ]
    },
    {
     "name": "stderr",
     "output_type": "stream",
     "text": [
      "\u001b[32m[I 2022-03-09 23:26:01,366]\u001b[0m Trial 36 finished with value: 0.6169408434353667 and parameters: {'p': 4, 'd': 1, 'q': 1, 'P': 0, 'D': 1, 'Q': 2}. Best is trial 26 with value: 0.6896226964385266.\u001b[0m\n"
     ]
    },
    {
     "name": "stdout",
     "output_type": "stream",
     "text": [
      "Optimization terminated successfully.\n",
      "         Current function value: -1.434927\n",
      "         Iterations: 6\n",
      "         Function evaluations: 596\n"
     ]
    },
    {
     "name": "stderr",
     "output_type": "stream",
     "text": [
      "\u001b[32m[I 2022-03-09 23:26:04,235]\u001b[0m Trial 37 finished with value: 0.6802444990729115 and parameters: {'p': 6, 'd': 1, 'q': 0, 'P': 0, 'D': 1, 'Q': 2}. Best is trial 26 with value: 0.6896226964385266.\u001b[0m\n"
     ]
    },
    {
     "name": "stdout",
     "output_type": "stream",
     "text": [
      "Optimization terminated successfully.\n",
      "         Current function value: -1.388304\n",
      "         Iterations: 4\n",
      "         Function evaluations: 407\n"
     ]
    },
    {
     "name": "stderr",
     "output_type": "stream",
     "text": [
      "\u001b[32m[I 2022-03-09 23:26:10,224]\u001b[0m Trial 38 finished with value: 0.6203022206171729 and parameters: {'p': 5, 'd': 1, 'q': 1, 'P': 0, 'D': 1, 'Q': 2}. Best is trial 26 with value: 0.6896226964385266.\u001b[0m\n"
     ]
    },
    {
     "name": "stdout",
     "output_type": "stream",
     "text": [
      "Optimization terminated successfully.\n",
      "         Current function value: -1.433697\n",
      "         Iterations: 7\n",
      "         Function evaluations: 736\n"
     ]
    },
    {
     "name": "stderr",
     "output_type": "stream",
     "text": [
      "\u001b[32m[I 2022-03-09 23:26:10,870]\u001b[0m Trial 39 finished with value: 0.6720190628589546 and parameters: {'p': 1, 'd': 0, 'q': 0, 'P': 0, 'D': 1, 'Q': 1}. Best is trial 26 with value: 0.6896226964385266.\u001b[0m\n"
     ]
    },
    {
     "name": "stdout",
     "output_type": "stream",
     "text": [
      "Optimization terminated successfully.\n",
      "         Current function value: -1.483183\n",
      "         Iterations: 3\n",
      "         Function evaluations: 137\n"
     ]
    },
    {
     "name": "stderr",
     "output_type": "stream",
     "text": [
      "\u001b[32m[I 2022-03-09 23:26:15,455]\u001b[0m Trial 40 finished with value: 0.6484311690784879 and parameters: {'p': 3, 'd': 0, 'q': 2, 'P': 0, 'D': 1, 'Q': 2}. Best is trial 26 with value: 0.6896226964385266.\u001b[0m\n"
     ]
    },
    {
     "name": "stdout",
     "output_type": "stream",
     "text": [
      "Optimization terminated successfully.\n",
      "         Current function value: -1.435378\n",
      "         Iterations: 6\n",
      "         Function evaluations: 614\n"
     ]
    },
    {
     "name": "stderr",
     "output_type": "stream",
     "text": [
      "\u001b[32m[I 2022-03-09 23:26:18,377]\u001b[0m Trial 41 finished with value: 0.6802444990729115 and parameters: {'p': 6, 'd': 1, 'q': 0, 'P': 0, 'D': 1, 'Q': 2}. Best is trial 26 with value: 0.6896226964385266.\u001b[0m\n"
     ]
    },
    {
     "name": "stdout",
     "output_type": "stream",
     "text": [
      "Optimization terminated successfully.\n",
      "         Current function value: -1.388304\n",
      "         Iterations: 4\n",
      "         Function evaluations: 407\n"
     ]
    },
    {
     "name": "stderr",
     "output_type": "stream",
     "text": [
      "\u001b[32m[I 2022-03-09 23:26:21,236]\u001b[0m Trial 42 finished with value: 0.6802444990729115 and parameters: {'p': 6, 'd': 1, 'q': 0, 'P': 0, 'D': 1, 'Q': 2}. Best is trial 26 with value: 0.6896226964385266.\u001b[0m\n"
     ]
    },
    {
     "name": "stdout",
     "output_type": "stream",
     "text": [
      "Optimization terminated successfully.\n",
      "         Current function value: -1.388304\n",
      "         Iterations: 4\n",
      "         Function evaluations: 407\n",
      "Optimization terminated successfully.\n",
      "         Current function value: -1.379381\n",
      "         Iterations: 7\n",
      "         Function evaluations: 755\n"
     ]
    },
    {
     "name": "stderr",
     "output_type": "stream",
     "text": [
      "\u001b[32m[I 2022-03-09 23:26:29,971]\u001b[0m Trial 43 finished with value: 0.6262212304872281 and parameters: {'p': 4, 'd': 1, 'q': 1, 'P': 0, 'D': 1, 'Q': 3}. Best is trial 26 with value: 0.6896226964385266.\u001b[0m\n",
      "\u001b[32m[I 2022-03-09 23:26:31,926]\u001b[0m Trial 44 finished with value: 0.6805589655948282 and parameters: {'p': 7, 'd': 1, 'q': 0, 'P': 0, 'D': 1, 'Q': 1}. Best is trial 26 with value: 0.6896226964385266.\u001b[0m\n"
     ]
    },
    {
     "name": "stdout",
     "output_type": "stream",
     "text": [
      "Optimization terminated successfully.\n",
      "         Current function value: -1.446430\n",
      "         Iterations: 4\n",
      "         Function evaluations: 407\n"
     ]
    },
    {
     "name": "stderr",
     "output_type": "stream",
     "text": [
      "\u001b[32m[I 2022-03-09 23:26:38,022]\u001b[0m Trial 45 finished with value: 0.6322338572474198 and parameters: {'p': 7, 'd': 1, 'q': 1, 'P': 0, 'D': 1, 'Q': 1}. Best is trial 26 with value: 0.6896226964385266.\u001b[0m\n"
     ]
    },
    {
     "name": "stdout",
     "output_type": "stream",
     "text": [
      "Optimization terminated successfully.\n",
      "         Current function value: -1.480296\n",
      "         Iterations: 10\n",
      "         Function evaluations: 1214\n"
     ]
    },
    {
     "name": "stderr",
     "output_type": "stream",
     "text": [
      "\u001b[32m[I 2022-03-09 23:26:38,374]\u001b[0m Trial 46 finished with value: 0.08549715814886771 and parameters: {'p': 7, 'd': 1, 'q': 0, 'P': 0, 'D': 0, 'Q': 1}. Best is trial 26 with value: 0.6896226964385266.\u001b[0m\n"
     ]
    },
    {
     "name": "stdout",
     "output_type": "stream",
     "text": [
      "Optimization terminated successfully.\n",
      "         Current function value: -1.266006\n",
      "         Iterations: 4\n",
      "         Function evaluations: 373\n"
     ]
    },
    {
     "name": "stderr",
     "output_type": "stream",
     "text": [
      "\u001b[32m[I 2022-03-09 23:26:41,106]\u001b[0m Trial 47 finished with value: 0.6286496053338194 and parameters: {'p': 6, 'd': 1, 'q': 1, 'P': 0, 'D': 1, 'Q': 1}. Best is trial 26 with value: 0.6896226964385266.\u001b[0m\n"
     ]
    },
    {
     "name": "stdout",
     "output_type": "stream",
     "text": [
      "Optimization terminated successfully.\n",
      "         Current function value: -1.479310\n",
      "         Iterations: 5\n",
      "         Function evaluations: 535\n"
     ]
    },
    {
     "name": "stderr",
     "output_type": "stream",
     "text": [
      "\u001b[32m[I 2022-03-09 23:26:42,741]\u001b[0m Trial 48 finished with value: 0.6781835049736888 and parameters: {'p': 5, 'd': 1, 'q': 0, 'P': 0, 'D': 1, 'Q': 1}. Best is trial 26 with value: 0.6896226964385266.\u001b[0m\n"
     ]
    },
    {
     "name": "stdout",
     "output_type": "stream",
     "text": [
      "Optimization terminated successfully.\n",
      "         Current function value: -1.417743\n",
      "         Iterations: 4\n",
      "         Function evaluations: 350\n"
     ]
    },
    {
     "name": "stderr",
     "output_type": "stream",
     "text": [
      "\u001b[32m[I 2022-03-09 23:26:45,976]\u001b[0m Trial 49 finished with value: 0.6355631248390082 and parameters: {'p': 2, 'd': 0, 'q': 0, 'P': 3, 'D': 1, 'Q': 1}. Best is trial 26 with value: 0.6896226964385266.\u001b[0m\n"
     ]
    },
    {
     "name": "stdout",
     "output_type": "stream",
     "text": [
      "Optimization terminated successfully.\n",
      "         Current function value: -1.396209\n",
      "         Iterations: 6\n",
      "         Function evaluations: 509\n"
     ]
    },
    {
     "name": "stderr",
     "output_type": "stream",
     "text": [
      "\u001b[32m[I 2022-03-09 23:26:46,012]\u001b[0m A new study created in memory with name: no-name-51cc584d-bc46-4f88-b2d2-e84599724a19\u001b[0m\n"
     ]
    },
    {
     "name": "stdout",
     "output_type": "stream",
     "text": [
      "Optimization terminated successfully.\n",
      "         Current function value: -1.434202\n",
      "         Iterations: 5\n",
      "         Function evaluations: 744\n"
     ]
    },
    {
     "name": "stderr",
     "output_type": "stream",
     "text": [
      "\u001b[32m[I 2022-03-09 23:26:51,360]\u001b[0m Trial 0 finished with value: 0.6318190338880175 and parameters: {'p': 3, 'd': 1, 'q': 2, 'P': 3, 'D': 0, 'Q': 3}. Best is trial 0 with value: 0.6318190338880175.\u001b[0m\n"
     ]
    },
    {
     "name": "stdout",
     "output_type": "stream",
     "text": [
      "Optimization terminated successfully.\n",
      "         Current function value: -1.394503\n",
      "         Iterations: 4\n",
      "         Function evaluations: 550\n"
     ]
    },
    {
     "name": "stderr",
     "output_type": "stream",
     "text": [
      "\u001b[32m[I 2022-03-09 23:26:56,156]\u001b[0m Trial 1 finished with value: 0.6526690507266827 and parameters: {'p': 4, 'd': 0, 'q': 1, 'P': 3, 'D': 1, 'Q': 3}. Best is trial 1 with value: 0.6526690507266827.\u001b[0m\n",
      "\u001b[32m[I 2022-03-09 23:26:56,764]\u001b[0m Trial 2 finished with value: 0.2897312173337323 and parameters: {'p': 7, 'd': 1, 'q': 0, 'P': 1, 'D': 0, 'Q': 0}. Best is trial 1 with value: 0.6526690507266827.\u001b[0m\n"
     ]
    },
    {
     "name": "stdout",
     "output_type": "stream",
     "text": [
      "Optimization terminated successfully.\n",
      "         Current function value: -1.298409\n",
      "         Iterations: 5\n",
      "         Function evaluations: 491\n",
      "Optimization terminated successfully.\n",
      "         Current function value: -1.385616\n",
      "         Iterations: 4\n",
      "         Function evaluations: 406\n"
     ]
    },
    {
     "name": "stderr",
     "output_type": "stream",
     "text": [
      "\u001b[32m[I 2022-03-09 23:27:01,075]\u001b[0m Trial 3 finished with value: 0.6346767404059426 and parameters: {'p': 0, 'd': 1, 'q': 2, 'P': 1, 'D': 1, 'Q': 3}. Best is trial 1 with value: 0.6526690507266827.\u001b[0m\n"
     ]
    },
    {
     "name": "stdout",
     "output_type": "stream",
     "text": [
      "Optimization terminated successfully.\n",
      "         Current function value: -1.422411\n",
      "         Iterations: 9\n",
      "         Function evaluations: 2032\n"
     ]
    },
    {
     "name": "stderr",
     "output_type": "stream",
     "text": [
      "\u001b[32m[I 2022-03-09 23:27:20,406]\u001b[0m Trial 4 finished with value: 0.623821535554623 and parameters: {'p': 8, 'd': 1, 'q': 8, 'P': 0, 'D': 1, 'Q': 2}. Best is trial 1 with value: 0.6526690507266827.\u001b[0m\n",
      "\u001b[32m[I 2022-03-09 23:27:25,522]\u001b[0m Trial 5 finished with value: 0.20501911764742264 and parameters: {'p': 1, 'd': 0, 'q': 2, 'P': 0, 'D': 0, 'Q': 3}. Best is trial 1 with value: 0.6526690507266827.\u001b[0m\n"
     ]
    },
    {
     "name": "stdout",
     "output_type": "stream",
     "text": [
      "Optimization terminated successfully.\n",
      "         Current function value: -1.278896\n",
      "         Iterations: 9\n",
      "         Function evaluations: 786\n",
      "Optimization terminated successfully.\n",
      "         Current function value: -1.427331\n",
      "         Iterations: 4\n",
      "         Function evaluations: 543\n"
     ]
    },
    {
     "name": "stderr",
     "output_type": "stream",
     "text": [
      "\u001b[32m[I 2022-03-09 23:27:30,161]\u001b[0m Trial 6 finished with value: 0.6704572933585246 and parameters: {'p': 1, 'd': 0, 'q': 4, 'P': 2, 'D': 1, 'Q': 2}. Best is trial 6 with value: 0.6704572933585246.\u001b[0m\n"
     ]
    },
    {
     "name": "stdout",
     "output_type": "stream",
     "text": [
      "Optimization terminated successfully.\n",
      "         Current function value: -1.381937\n",
      "         Iterations: 10\n",
      "         Function evaluations: 1927\n"
     ]
    },
    {
     "name": "stderr",
     "output_type": "stream",
     "text": [
      "\u001b[32m[I 2022-03-09 23:27:52,475]\u001b[0m Trial 7 finished with value: 0.6371465031473021 and parameters: {'p': 5, 'd': 1, 'q': 4, 'P': 2, 'D': 1, 'Q': 3}. Best is trial 6 with value: 0.6704572933585246.\u001b[0m\n"
     ]
    },
    {
     "name": "stdout",
     "output_type": "stream",
     "text": [
      "Warning: Maximum number of iterations has been exceeded.\n"
     ]
    },
    {
     "name": "stderr",
     "output_type": "stream",
     "text": [
      "/home/elasive/miniconda3/envs/SERF/lib/python3.7/site-packages/statsmodels/base/model.py:606: ConvergenceWarning: Maximum Likelihood optimization failed to converge. Check mle_retvals\n",
      "  ConvergenceWarning)\n",
      "\u001b[32m[I 2022-03-09 23:29:54,109]\u001b[0m Trial 8 finished with value: 0.6322934452199641 and parameters: {'p': 6, 'd': 0, 'q': 4, 'P': 3, 'D': 1, 'Q': 3}. Best is trial 6 with value: 0.6704572933585246.\u001b[0m\n",
      "\u001b[32m[I 2022-03-09 23:29:56,055]\u001b[0m Trial 9 finished with value: 0.6272948883634268 and parameters: {'p': 2, 'd': 1, 'q': 0, 'P': 1, 'D': 1, 'Q': 1}. Best is trial 6 with value: 0.6704572933585246.\u001b[0m\n"
     ]
    },
    {
     "name": "stdout",
     "output_type": "stream",
     "text": [
      "Optimization terminated successfully.\n",
      "         Current function value: -1.372612\n",
      "         Iterations: 6\n",
      "         Function evaluations: 411\n"
     ]
    },
    {
     "name": "stderr",
     "output_type": "stream",
     "text": [
      "\u001b[32m[I 2022-03-09 23:29:58,301]\u001b[0m Trial 10 finished with value: 0.6027004559254685 and parameters: {'p': 0, 'd': 0, 'q': 7, 'P': 2, 'D': 0, 'Q': 1}. Best is trial 6 with value: 0.6704572933585246.\u001b[0m\n"
     ]
    },
    {
     "name": "stdout",
     "output_type": "stream",
     "text": [
      "Optimization terminated successfully.\n",
      "         Current function value: -1.498193\n",
      "         Iterations: 5\n",
      "         Function evaluations: 624\n",
      "Optimization terminated successfully.\n",
      "         Current function value: -1.393577\n",
      "         Iterations: 4\n",
      "         Function evaluations: 746\n"
     ]
    },
    {
     "name": "stderr",
     "output_type": "stream",
     "text": [
      "\u001b[32m[I 2022-03-09 23:30:05,172]\u001b[0m Trial 11 finished with value: 0.6462563878760719 and parameters: {'p': 4, 'd': 0, 'q': 6, 'P': 3, 'D': 1, 'Q': 2}. Best is trial 6 with value: 0.6704572933585246.\u001b[0m\n"
     ]
    },
    {
     "name": "stdout",
     "output_type": "stream",
     "text": [
      "Optimization terminated successfully.\n",
      "         Current function value: -1.420289\n",
      "         Iterations: 7\n",
      "         Function evaluations: 1198\n"
     ]
    },
    {
     "name": "stderr",
     "output_type": "stream",
     "text": [
      "\u001b[32m[I 2022-03-09 23:30:15,148]\u001b[0m Trial 12 finished with value: 0.6689496082053767 and parameters: {'p': 3, 'd': 0, 'q': 5, 'P': 2, 'D': 1, 'Q': 2}. Best is trial 6 with value: 0.6704572933585246.\u001b[0m\n"
     ]
    },
    {
     "name": "stdout",
     "output_type": "stream",
     "text": [
      "Optimization terminated successfully.\n",
      "         Current function value: -1.423182\n",
      "         Iterations: 8\n",
      "         Function evaluations: 1237\n"
     ]
    },
    {
     "name": "stderr",
     "output_type": "stream",
     "text": [
      "\u001b[32m[I 2022-03-09 23:30:25,224]\u001b[0m Trial 13 finished with value: 0.6683676573702385 and parameters: {'p': 2, 'd': 0, 'q': 5, 'P': 2, 'D': 1, 'Q': 2}. Best is trial 6 with value: 0.6704572933585246.\u001b[0m\n",
      "\u001b[32m[I 2022-03-09 23:30:33,611]\u001b[0m Trial 14 finished with value: 0.6584905072572824 and parameters: {'p': 2, 'd': 0, 'q': 5, 'P': 2, 'D': 1, 'Q': 1}. Best is trial 6 with value: 0.6704572933585246.\u001b[0m\n"
     ]
    },
    {
     "name": "stdout",
     "output_type": "stream",
     "text": [
      "Optimization terminated successfully.\n",
      "         Current function value: -1.440572\n",
      "         Iterations: 10\n",
      "         Function evaluations: 1431\n",
      "Optimization terminated successfully.\n",
      "         Current function value: -1.429922\n",
      "         Iterations: 7\n",
      "         Function evaluations: 999\n"
     ]
    },
    {
     "name": "stderr",
     "output_type": "stream",
     "text": [
      "\u001b[32m[I 2022-03-09 23:30:40,942]\u001b[0m Trial 15 finished with value: 0.6595375223963764 and parameters: {'p': 3, 'd': 0, 'q': 3, 'P': 2, 'D': 1, 'Q': 2}. Best is trial 6 with value: 0.6704572933585246.\u001b[0m\n",
      "\u001b[32m[I 2022-03-09 23:30:41,502]\u001b[0m Trial 16 finished with value: 0.6817541087785193 and parameters: {'p': 1, 'd': 0, 'q': 6, 'P': 1, 'D': 1, 'Q': 0}. Best is trial 16 with value: 0.6817541087785193.\u001b[0m\n"
     ]
    },
    {
     "name": "stdout",
     "output_type": "stream",
     "text": [
      "Optimization terminated successfully.\n",
      "         Current function value: -1.387863\n",
      "         Iterations: 2\n",
      "         Function evaluations: 232\n"
     ]
    },
    {
     "name": "stderr",
     "output_type": "stream",
     "text": [
      "\u001b[32m[I 2022-03-09 23:30:42,961]\u001b[0m Trial 17 finished with value: 0.6543471699264005 and parameters: {'p': 1, 'd': 0, 'q': 7, 'P': 1, 'D': 0, 'Q': 0}. Best is trial 16 with value: 0.6817541087785193.\u001b[0m\n"
     ]
    },
    {
     "name": "stdout",
     "output_type": "stream",
     "text": [
      "Optimization terminated successfully.\n",
      "         Current function value: -1.299908\n",
      "         Iterations: 10\n",
      "         Function evaluations: 1352\n"
     ]
    },
    {
     "name": "stderr",
     "output_type": "stream",
     "text": [
      "\u001b[32m[I 2022-03-09 23:30:45,189]\u001b[0m Trial 18 finished with value: 0.6801762287285065 and parameters: {'p': 1, 'd': 0, 'q': 6, 'P': 0, 'D': 1, 'Q': 0}. Best is trial 16 with value: 0.6817541087785193.\u001b[0m\n"
     ]
    },
    {
     "name": "stdout",
     "output_type": "stream",
     "text": [
      "Optimization terminated successfully.\n",
      "         Current function value: -1.281466\n",
      "         Iterations: 7\n",
      "         Function evaluations: 764\n"
     ]
    },
    {
     "name": "stderr",
     "output_type": "stream",
     "text": [
      "\u001b[32m[I 2022-03-09 23:30:47,811]\u001b[0m Trial 19 finished with value: 0.6841709324990719 and parameters: {'p': 0, 'd': 0, 'q': 8, 'P': 0, 'D': 1, 'Q': 0}. Best is trial 19 with value: 0.6841709324990719.\u001b[0m\n"
     ]
    },
    {
     "name": "stdout",
     "output_type": "stream",
     "text": [
      "Optimization terminated successfully.\n",
      "         Current function value: -1.282503\n",
      "         Iterations: 6\n",
      "         Function evaluations: 732\n"
     ]
    },
    {
     "name": "stderr",
     "output_type": "stream",
     "text": [
      "\u001b[32m[I 2022-03-09 23:30:48,566]\u001b[0m Trial 20 finished with value: -22.521810645900104 and parameters: {'p': 0, 'd': 0, 'q': 8, 'P': 0, 'D': 0, 'Q': 0}. Best is trial 19 with value: 0.6841709324990719.\u001b[0m\n"
     ]
    },
    {
     "name": "stdout",
     "output_type": "stream",
     "text": [
      "Optimization terminated successfully.\n",
      "         Current function value: -0.978594\n",
      "         Iterations: 10\n",
      "         Function evaluations: 1120\n"
     ]
    },
    {
     "name": "stderr",
     "output_type": "stream",
     "text": [
      "\u001b[32m[I 2022-03-09 23:30:51,028]\u001b[0m Trial 21 finished with value: 0.6847998354831903 and parameters: {'p': 1, 'd': 0, 'q': 7, 'P': 0, 'D': 1, 'Q': 0}. Best is trial 21 with value: 0.6847998354831903.\u001b[0m\n"
     ]
    },
    {
     "name": "stdout",
     "output_type": "stream",
     "text": [
      "Optimization terminated successfully.\n",
      "         Current function value: -1.276273\n",
      "         Iterations: 7\n",
      "         Function evaluations: 859\n"
     ]
    },
    {
     "name": "stderr",
     "output_type": "stream",
     "text": [
      "\u001b[32m[I 2022-03-09 23:30:55,006]\u001b[0m Trial 22 finished with value: 0.6815025591114151 and parameters: {'p': 0, 'd': 0, 'q': 7, 'P': 0, 'D': 1, 'Q': 0}. Best is trial 21 with value: 0.6847998354831903.\u001b[0m\n"
     ]
    },
    {
     "name": "stdout",
     "output_type": "stream",
     "text": [
      "Optimization terminated successfully.\n",
      "         Current function value: -1.281395\n",
      "         Iterations: 11\n",
      "         Function evaluations: 1243\n"
     ]
    },
    {
     "name": "stderr",
     "output_type": "stream",
     "text": [
      "\u001b[32m[I 2022-03-09 23:31:00,353]\u001b[0m Trial 23 finished with value: 0.6759718468253079 and parameters: {'p': 2, 'd': 0, 'q': 8, 'P': 0, 'D': 1, 'Q': 1}. Best is trial 21 with value: 0.6847998354831903.\u001b[0m\n"
     ]
    },
    {
     "name": "stdout",
     "output_type": "stream",
     "text": [
      "Optimization terminated successfully.\n",
      "         Current function value: -1.463132\n",
      "         Iterations: 6\n",
      "         Function evaluations: 872\n"
     ]
    },
    {
     "name": "stderr",
     "output_type": "stream",
     "text": [
      "\u001b[32m[I 2022-03-09 23:31:00,817]\u001b[0m Trial 24 finished with value: 0.6817541087785193 and parameters: {'p': 1, 'd': 0, 'q': 6, 'P': 1, 'D': 1, 'Q': 0}. Best is trial 21 with value: 0.6847998354831903.\u001b[0m\n"
     ]
    },
    {
     "name": "stdout",
     "output_type": "stream",
     "text": [
      "Optimization terminated successfully.\n",
      "         Current function value: -1.387863\n",
      "         Iterations: 2\n",
      "         Function evaluations: 232\n"
     ]
    },
    {
     "name": "stderr",
     "output_type": "stream",
     "text": [
      "\u001b[32m[I 2022-03-09 23:31:04,745]\u001b[0m Trial 25 finished with value: 0.6815025591114151 and parameters: {'p': 0, 'd': 0, 'q': 7, 'P': 0, 'D': 1, 'Q': 0}. Best is trial 21 with value: 0.6847998354831903.\u001b[0m\n"
     ]
    },
    {
     "name": "stdout",
     "output_type": "stream",
     "text": [
      "Optimization terminated successfully.\n",
      "         Current function value: -1.281395\n",
      "         Iterations: 11\n",
      "         Function evaluations: 1243\n"
     ]
    },
    {
     "name": "stderr",
     "output_type": "stream",
     "text": [
      "\u001b[32m[I 2022-03-09 23:31:08,434]\u001b[0m Trial 26 finished with value: 0.6606387982926183 and parameters: {'p': 2, 'd': 0, 'q': 8, 'P': 1, 'D': 1, 'Q': 1}. Best is trial 21 with value: 0.6847998354831903.\u001b[0m\n"
     ]
    },
    {
     "name": "stdout",
     "output_type": "stream",
     "text": [
      "Optimization terminated successfully.\n",
      "         Current function value: -1.461902\n",
      "         Iterations: 4\n",
      "         Function evaluations: 665\n"
     ]
    },
    {
     "name": "stderr",
     "output_type": "stream",
     "text": [
      "\u001b[32m[I 2022-03-09 23:31:15,896]\u001b[0m Trial 27 finished with value: 0.7005298958996236 and parameters: {'p': 5, 'd': 0, 'q': 6, 'P': 0, 'D': 1, 'Q': 0}. Best is trial 27 with value: 0.7005298958996236.\u001b[0m\n"
     ]
    },
    {
     "name": "stdout",
     "output_type": "stream",
     "text": [
      "Optimization terminated successfully.\n",
      "         Current function value: -1.328895\n",
      "         Iterations: 17\n",
      "         Function evaluations: 2362\n",
      "Optimization terminated successfully.\n",
      "         Current function value: -1.464621\n",
      "         Iterations: 9\n",
      "         Function evaluations: 1540\n"
     ]
    },
    {
     "name": "stderr",
     "output_type": "stream",
     "text": [
      "\u001b[32m[I 2022-03-09 23:31:24,264]\u001b[0m Trial 28 finished with value: 0.6644134366123956 and parameters: {'p': 5, 'd': 0, 'q': 7, 'P': 0, 'D': 1, 'Q': 1}. Best is trial 27 with value: 0.7005298958996236.\u001b[0m\n",
      "\u001b[32m[I 2022-03-09 23:31:26,747]\u001b[0m Trial 29 finished with value: 0.6412681701586795 and parameters: {'p': 5, 'd': 1, 'q': 8, 'P': 0, 'D': 0, 'Q': 0}. Best is trial 27 with value: 0.7005298958996236.\u001b[0m\n"
     ]
    },
    {
     "name": "stdout",
     "output_type": "stream",
     "text": [
      "Optimization terminated successfully.\n",
      "         Current function value: -1.494481\n",
      "         Iterations: 19\n",
      "         Function evaluations: 3668\n"
     ]
    },
    {
     "name": "stderr",
     "output_type": "stream",
     "text": [
      "\u001b[32m[I 2022-03-09 23:31:32,343]\u001b[0m Trial 30 finished with value: 0.6800769001869281 and parameters: {'p': 6, 'd': 0, 'q': 6, 'P': 0, 'D': 1, 'Q': 0}. Best is trial 27 with value: 0.7005298958996236.\u001b[0m\n"
     ]
    },
    {
     "name": "stdout",
     "output_type": "stream",
     "text": [
      "Optimization terminated successfully.\n",
      "         Current function value: -1.362103\n",
      "         Iterations: 11\n",
      "         Function evaluations: 1677\n"
     ]
    },
    {
     "name": "stderr",
     "output_type": "stream",
     "text": [
      "\u001b[32m[I 2022-03-09 23:31:32,902]\u001b[0m Trial 31 finished with value: 0.6818187937766116 and parameters: {'p': 3, 'd': 0, 'q': 6, 'P': 1, 'D': 1, 'Q': 0}. Best is trial 27 with value: 0.7005298958996236.\u001b[0m\n"
     ]
    },
    {
     "name": "stdout",
     "output_type": "stream",
     "text": [
      "Optimization terminated successfully.\n",
      "         Current function value: -1.379967\n",
      "         Iterations: 2\n",
      "         Function evaluations: 255\n"
     ]
    },
    {
     "name": "stderr",
     "output_type": "stream",
     "text": [
      "\u001b[32m[I 2022-03-09 23:31:38,474]\u001b[0m Trial 32 finished with value: 0.6680495716481254 and parameters: {'p': 4, 'd': 0, 'q': 7, 'P': 0, 'D': 1, 'Q': 0}. Best is trial 27 with value: 0.7005298958996236.\u001b[0m\n"
     ]
    },
    {
     "name": "stdout",
     "output_type": "stream",
     "text": [
      "Optimization terminated successfully.\n",
      "         Current function value: -1.309813\n",
      "         Iterations: 12\n",
      "         Function evaluations: 1845\n"
     ]
    },
    {
     "name": "stderr",
     "output_type": "stream",
     "text": [
      "\u001b[32m[I 2022-03-09 23:31:39,800]\u001b[0m Trial 33 finished with value: 0.6817450316788376 and parameters: {'p': 3, 'd': 0, 'q': 5, 'P': 1, 'D': 1, 'Q': 0}. Best is trial 27 with value: 0.7005298958996236.\u001b[0m\n"
     ]
    },
    {
     "name": "stdout",
     "output_type": "stream",
     "text": [
      "Optimization terminated successfully.\n",
      "         Current function value: -1.379270\n",
      "         Iterations: 6\n",
      "         Function evaluations: 708\n"
     ]
    },
    {
     "name": "stderr",
     "output_type": "stream",
     "text": [
      "\u001b[32m[I 2022-03-09 23:31:45,521]\u001b[0m Trial 34 finished with value: 0.6800769001869281 and parameters: {'p': 6, 'd': 0, 'q': 6, 'P': 0, 'D': 1, 'Q': 0}. Best is trial 27 with value: 0.7005298958996236.\u001b[0m\n"
     ]
    },
    {
     "name": "stdout",
     "output_type": "stream",
     "text": [
      "Optimization terminated successfully.\n",
      "         Current function value: -1.362103\n",
      "         Iterations: 11\n",
      "         Function evaluations: 1677\n"
     ]
    },
    {
     "name": "stderr",
     "output_type": "stream",
     "text": [
      "\u001b[32m[I 2022-03-09 23:31:49,718]\u001b[0m Trial 35 finished with value: 0.6606737238775279 and parameters: {'p': 3, 'd': 0, 'q': 8, 'P': 1, 'D': 1, 'Q': 1}. Best is trial 27 with value: 0.7005298958996236.\u001b[0m\n"
     ]
    },
    {
     "name": "stdout",
     "output_type": "stream",
     "text": [
      "Optimization terminated successfully.\n",
      "         Current function value: -1.462175\n",
      "         Iterations: 4\n",
      "         Function evaluations: 737\n"
     ]
    },
    {
     "name": "stderr",
     "output_type": "stream",
     "text": [
      "\u001b[32m[I 2022-03-09 23:32:00,022]\u001b[0m Trial 36 finished with value: 0.6811559136824409 and parameters: {'p': 7, 'd': 1, 'q': 7, 'P': 0, 'D': 1, 'Q': 0}. Best is trial 27 with value: 0.7005298958996236.\u001b[0m\n"
     ]
    },
    {
     "name": "stdout",
     "output_type": "stream",
     "text": [
      "Optimization terminated successfully.\n",
      "         Current function value: -1.320338\n",
      "         Iterations: 16\n",
      "         Function evaluations: 2789\n"
     ]
    },
    {
     "name": "stderr",
     "output_type": "stream",
     "text": [
      "\u001b[32m[I 2022-03-09 23:32:02,622]\u001b[0m Trial 37 finished with value: 0.6862050070056005 and parameters: {'p': 4, 'd': 0, 'q': 3, 'P': 1, 'D': 1, 'Q': 0}. Best is trial 27 with value: 0.7005298958996236.\u001b[0m\n"
     ]
    },
    {
     "name": "stdout",
     "output_type": "stream",
     "text": [
      "Optimization terminated successfully.\n",
      "         Current function value: -1.393644\n",
      "         Iterations: 6\n",
      "         Function evaluations: 688\n"
     ]
    },
    {
     "name": "stderr",
     "output_type": "stream",
     "text": [
      "\u001b[32m[I 2022-03-09 23:32:20,458]\u001b[0m Trial 38 finished with value: 0.671068419234583 and parameters: {'p': 7, 'd': 0, 'q': 3, 'P': 0, 'D': 1, 'Q': 1}. Best is trial 27 with value: 0.7005298958996236.\u001b[0m\n"
     ]
    },
    {
     "name": "stdout",
     "output_type": "stream",
     "text": [
      "Optimization terminated successfully.\n",
      "         Current function value: -1.439399\n",
      "         Iterations: 23\n",
      "         Function evaluations: 3758\n"
     ]
    },
    {
     "name": "stderr",
     "output_type": "stream",
     "text": [
      "\u001b[32m[I 2022-03-09 23:32:21,068]\u001b[0m Trial 39 finished with value: 0.2144598313785624 and parameters: {'p': 8, 'd': 1, 'q': 3, 'P': 0, 'D': 0, 'Q': 0}. Best is trial 27 with value: 0.7005298958996236.\u001b[0m\n"
     ]
    },
    {
     "name": "stdout",
     "output_type": "stream",
     "text": [
      "Optimization terminated successfully.\n",
      "         Current function value: -1.381032\n",
      "         Iterations: 7\n",
      "         Function evaluations: 935\n"
     ]
    },
    {
     "name": "stderr",
     "output_type": "stream",
     "text": [
      "\u001b[32m[I 2022-03-09 23:32:21,394]\u001b[0m Trial 40 finished with value: 0.6816991017151923 and parameters: {'p': 4, 'd': 0, 'q': 1, 'P': 1, 'D': 1, 'Q': 0}. Best is trial 27 with value: 0.7005298958996236.\u001b[0m\n"
     ]
    },
    {
     "name": "stdout",
     "output_type": "stream",
     "text": [
      "Optimization terminated successfully.\n",
      "         Current function value: -1.372316\n",
      "         Iterations: 2\n",
      "         Function evaluations: 175\n"
     ]
    },
    {
     "name": "stderr",
     "output_type": "stream",
     "text": [
      "\u001b[32m[I 2022-03-09 23:32:22,645]\u001b[0m Trial 41 finished with value: 0.6827380805387322 and parameters: {'p': 5, 'd': 0, 'q': 2, 'P': 1, 'D': 1, 'Q': 0}. Best is trial 27 with value: 0.7005298958996236.\u001b[0m\n"
     ]
    },
    {
     "name": "stdout",
     "output_type": "stream",
     "text": [
      "Optimization terminated successfully.\n",
      "         Current function value: -1.372427\n",
      "         Iterations: 5\n",
      "         Function evaluations: 555\n"
     ]
    },
    {
     "name": "stderr",
     "output_type": "stream",
     "text": [
      "\u001b[32m[I 2022-03-09 23:32:23,951]\u001b[0m Trial 42 finished with value: 0.6827380805387322 and parameters: {'p': 5, 'd': 0, 'q': 2, 'P': 1, 'D': 1, 'Q': 0}. Best is trial 27 with value: 0.7005298958996236.\u001b[0m\n"
     ]
    },
    {
     "name": "stdout",
     "output_type": "stream",
     "text": [
      "Optimization terminated successfully.\n",
      "         Current function value: -1.372427\n",
      "         Iterations: 5\n",
      "         Function evaluations: 555\n"
     ]
    },
    {
     "name": "stderr",
     "output_type": "stream",
     "text": [
      "\u001b[32m[I 2022-03-09 23:32:24,776]\u001b[0m Trial 43 finished with value: 0.6818495796114168 and parameters: {'p': 6, 'd': 0, 'q': 1, 'P': 1, 'D': 1, 'Q': 0}. Best is trial 27 with value: 0.7005298958996236.\u001b[0m\n"
     ]
    },
    {
     "name": "stdout",
     "output_type": "stream",
     "text": [
      "Optimization terminated successfully.\n",
      "         Current function value: -1.367167\n",
      "         Iterations: 3\n",
      "         Function evaluations: 375\n"
     ]
    },
    {
     "name": "stderr",
     "output_type": "stream",
     "text": [
      "\u001b[32m[I 2022-03-09 23:32:27,732]\u001b[0m Trial 44 finished with value: 0.6947146407903173 and parameters: {'p': 5, 'd': 0, 'q': 3, 'P': 0, 'D': 1, 'Q': 0}. Best is trial 27 with value: 0.7005298958996236.\u001b[0m\n"
     ]
    },
    {
     "name": "stdout",
     "output_type": "stream",
     "text": [
      "Optimization terminated successfully.\n",
      "         Current function value: -1.322452\n",
      "         Iterations: 9\n",
      "         Function evaluations: 1019\n"
     ]
    },
    {
     "name": "stderr",
     "output_type": "stream",
     "text": [
      "\u001b[32m[I 2022-03-09 23:32:34,903]\u001b[0m Trial 45 finished with value: 0.6706044613858765 and parameters: {'p': 5, 'd': 0, 'q': 3, 'P': 0, 'D': 1, 'Q': 1}. Best is trial 27 with value: 0.7005298958996236.\u001b[0m\n"
     ]
    },
    {
     "name": "stdout",
     "output_type": "stream",
     "text": [
      "Optimization terminated successfully.\n",
      "         Current function value: -1.476085\n",
      "         Iterations: 12\n",
      "         Function evaluations: 1517\n"
     ]
    },
    {
     "name": "stderr",
     "output_type": "stream",
     "text": [
      "\u001b[32m[I 2022-03-09 23:32:38,619]\u001b[0m Trial 46 finished with value: 0.6831533749145022 and parameters: {'p': 4, 'd': 0, 'q': 4, 'P': 0, 'D': 1, 'Q': 0}. Best is trial 27 with value: 0.7005298958996236.\u001b[0m\n"
     ]
    },
    {
     "name": "stdout",
     "output_type": "stream",
     "text": [
      "Optimization terminated successfully.\n",
      "         Current function value: -1.292056\n",
      "         Iterations: 10\n",
      "         Function evaluations: 1236\n"
     ]
    },
    {
     "name": "stderr",
     "output_type": "stream",
     "text": [
      "/home/elasive/miniconda3/envs/SERF/lib/python3.7/site-packages/statsmodels/base/model.py:606: ConvergenceWarning: Maximum Likelihood optimization failed to converge. Check mle_retvals\n",
      "  ConvergenceWarning)\n",
      "\u001b[32m[I 2022-03-09 23:33:19,886]\u001b[0m Trial 47 finished with value: 0.6688482028167633 and parameters: {'p': 7, 'd': 0, 'q': 4, 'P': 0, 'D': 1, 'Q': 1}. Best is trial 27 with value: 0.7005298958996236.\u001b[0m\n"
     ]
    },
    {
     "name": "stdout",
     "output_type": "stream",
     "text": [
      "Warning: Maximum number of iterations has been exceeded.\n"
     ]
    },
    {
     "name": "stderr",
     "output_type": "stream",
     "text": [
      "\u001b[32m[I 2022-03-09 23:33:21,076]\u001b[0m Trial 48 finished with value: 0.6951880544394509 and parameters: {'p': 4, 'd': 0, 'q': 3, 'P': 0, 'D': 1, 'Q': 0}. Best is trial 27 with value: 0.7005298958996236.\u001b[0m\n"
     ]
    },
    {
     "name": "stdout",
     "output_type": "stream",
     "text": [
      "Optimization terminated successfully.\n",
      "         Current function value: -1.322473\n",
      "         Iterations: 10\n",
      "         Function evaluations: 1002\n",
      "Optimization terminated successfully.\n",
      "         Current function value: -1.380579\n",
      "         Iterations: 18\n",
      "         Function evaluations: 2365\n"
     ]
    },
    {
     "name": "stderr",
     "output_type": "stream",
     "text": [
      "\u001b[32m[I 2022-03-09 23:33:45,110]\u001b[0m Trial 49 finished with value: 0.5784804845294318 and parameters: {'p': 4, 'd': 1, 'q': 3, 'P': 3, 'D': 1, 'Q': 0}. Best is trial 27 with value: 0.7005298958996236.\u001b[0m\n",
      "\u001b[32m[I 2022-03-09 23:33:45,144]\u001b[0m A new study created in memory with name: no-name-5e5dade0-d820-4c4f-8069-9fddd3030869\u001b[0m\n",
      "\u001b[32m[I 2022-03-09 23:33:47,172]\u001b[0m Trial 0 finished with value: 0.3938644205076808 and parameters: {'p': 7, 'd': 1, 'q': 5, 'P': 1, 'D': 0, 'Q': 0}. Best is trial 0 with value: 0.3938644205076808.\u001b[0m\n"
     ]
    },
    {
     "name": "stdout",
     "output_type": "stream",
     "text": [
      "Optimization terminated successfully.\n",
      "         Current function value: -1.335391\n",
      "         Iterations: 5\n",
      "         Function evaluations: 860\n",
      "Optimization terminated successfully.\n",
      "         Current function value: -1.308865\n",
      "         Iterations: 20\n",
      "         Function evaluations: 3888\n"
     ]
    },
    {
     "name": "stderr",
     "output_type": "stream",
     "text": [
      "\u001b[32m[I 2022-03-09 23:34:36,392]\u001b[0m Trial 1 finished with value: 0.7329624384157418 and parameters: {'p': 5, 'd': 1, 'q': 5, 'P': 0, 'D': 1, 'Q': 3}. Best is trial 1 with value: 0.7329624384157418.\u001b[0m\n",
      "\u001b[32m[I 2022-03-09 23:34:39,326]\u001b[0m Trial 2 finished with value: 0.3758523472078864 and parameters: {'p': 6, 'd': 0, 'q': 4, 'P': 1, 'D': 0, 'Q': 0}. Best is trial 1 with value: 0.7329624384157418.\u001b[0m\n"
     ]
    },
    {
     "name": "stdout",
     "output_type": "stream",
     "text": [
      "Optimization terminated successfully.\n",
      "         Current function value: -1.236342\n",
      "         Iterations: 7\n",
      "         Function evaluations: 959\n",
      "Optimization terminated successfully.\n",
      "         Current function value: -1.366459\n",
      "         Iterations: 40\n",
      "         Function evaluations: 6544\n"
     ]
    },
    {
     "name": "stderr",
     "output_type": "stream",
     "text": [
      "\u001b[32m[I 2022-03-09 23:35:29,445]\u001b[0m Trial 3 finished with value: 0.731475024978866 and parameters: {'p': 4, 'd': 0, 'q': 5, 'P': 0, 'D': 1, 'Q': 2}. Best is trial 1 with value: 0.7329624384157418.\u001b[0m\n"
     ]
    },
    {
     "name": "stdout",
     "output_type": "stream",
     "text": [
      "Optimization terminated successfully.\n",
      "         Current function value: -1.369550\n",
      "         Iterations: 4\n",
      "         Function evaluations: 595\n"
     ]
    },
    {
     "name": "stderr",
     "output_type": "stream",
     "text": [
      "\u001b[32m[I 2022-03-09 23:35:34,118]\u001b[0m Trial 4 finished with value: 0.7364340834991421 and parameters: {'p': 6, 'd': 0, 'q': 1, 'P': 3, 'D': 0, 'Q': 3}. Best is trial 4 with value: 0.7364340834991421.\u001b[0m\n",
      "\u001b[32m[I 2022-03-09 23:35:34,575]\u001b[0m Trial 5 finished with value: 0.730186635883293 and parameters: {'p': 4, 'd': 0, 'q': 2, 'P': 1, 'D': 0, 'Q': 1}. Best is trial 4 with value: 0.7364340834991421.\u001b[0m\n"
     ]
    },
    {
     "name": "stdout",
     "output_type": "stream",
     "text": [
      "Optimization terminated successfully.\n",
      "         Current function value: -1.469899\n",
      "         Iterations: 3\n",
      "         Function evaluations: 310\n"
     ]
    },
    {
     "name": "stderr",
     "output_type": "stream",
     "text": [
      "\u001b[32m[I 2022-03-09 23:35:40,831]\u001b[0m Trial 6 finished with value: 0.2325814264284891 and parameters: {'p': 7, 'd': 0, 'q': 2, 'P': 0, 'D': 0, 'Q': 2}. Best is trial 4 with value: 0.7364340834991421.\u001b[0m\n"
     ]
    },
    {
     "name": "stdout",
     "output_type": "stream",
     "text": [
      "Optimization terminated successfully.\n",
      "         Current function value: -1.216490\n",
      "         Iterations: 12\n",
      "         Function evaluations: 1606\n"
     ]
    },
    {
     "name": "stderr",
     "output_type": "stream",
     "text": [
      "\u001b[32m[I 2022-03-09 23:35:44,458]\u001b[0m Trial 7 finished with value: 0.7374284228845147 and parameters: {'p': 6, 'd': 0, 'q': 1, 'P': 1, 'D': 0, 'Q': 3}. Best is trial 7 with value: 0.7374284228845147.\u001b[0m\n"
     ]
    },
    {
     "name": "stdout",
     "output_type": "stream",
     "text": [
      "Optimization terminated successfully.\n",
      "         Current function value: -1.383564\n",
      "         Iterations: 4\n",
      "         Function evaluations: 535\n"
     ]
    },
    {
     "name": "stderr",
     "output_type": "stream",
     "text": [
      "\u001b[32m[I 2022-03-09 23:35:46,470]\u001b[0m Trial 8 finished with value: 0.7103801247298617 and parameters: {'p': 4, 'd': 0, 'q': 5, 'P': 3, 'D': 0, 'Q': 0}. Best is trial 7 with value: 0.7374284228845147.\u001b[0m\n"
     ]
    },
    {
     "name": "stdout",
     "output_type": "stream",
     "text": [
      "Optimization terminated successfully.\n",
      "         Current function value: -1.336081\n",
      "         Iterations: 4\n",
      "         Function evaluations: 590\n"
     ]
    },
    {
     "name": "stderr",
     "output_type": "stream",
     "text": [
      "\u001b[32m[I 2022-03-09 23:35:46,939]\u001b[0m Trial 9 finished with value: 0.6783661749686677 and parameters: {'p': 1, 'd': 1, 'q': 0, 'P': 2, 'D': 1, 'Q': 0}. Best is trial 7 with value: 0.7374284228845147.\u001b[0m\n"
     ]
    },
    {
     "name": "stdout",
     "output_type": "stream",
     "text": [
      "Optimization terminated successfully.\n",
      "         Current function value: -1.155384\n",
      "         Iterations: 3\n",
      "         Function evaluations: 162\n",
      "Optimization terminated successfully.\n",
      "         Current function value: -1.302882\n",
      "         Iterations: 7\n",
      "         Function evaluations: 1288\n"
     ]
    },
    {
     "name": "stderr",
     "output_type": "stream",
     "text": [
      "\u001b[32m[I 2022-03-09 23:36:04,320]\u001b[0m Trial 10 finished with value: 0.7338350629538151 and parameters: {'p': 1, 'd': 1, 'q': 7, 'P': 2, 'D': 1, 'Q': 3}. Best is trial 7 with value: 0.7374284228845147.\u001b[0m\n"
     ]
    },
    {
     "name": "stdout",
     "output_type": "stream",
     "text": [
      "Optimization terminated successfully.\n",
      "         Current function value: -1.364261\n",
      "         Iterations: 4\n",
      "         Function evaluations: 649\n"
     ]
    },
    {
     "name": "stderr",
     "output_type": "stream",
     "text": [
      "\u001b[32m[I 2022-03-09 23:36:09,970]\u001b[0m Trial 11 finished with value: 0.7375838828661755 and parameters: {'p': 8, 'd': 0, 'q': 0, 'P': 3, 'D': 0, 'Q': 3}. Best is trial 11 with value: 0.7375838828661755.\u001b[0m\n",
      "\u001b[32m[I 2022-03-09 23:36:13,087]\u001b[0m Trial 12 finished with value: 0.7278584687292593 and parameters: {'p': 8, 'd': 0, 'q': 0, 'P': 2, 'D': 0, 'Q': 2}. Best is trial 11 with value: 0.7375838828661755.\u001b[0m\n"
     ]
    },
    {
     "name": "stdout",
     "output_type": "stream",
     "text": [
      "Optimization terminated successfully.\n",
      "         Current function value: -1.414229\n",
      "         Iterations: 4\n",
      "         Function evaluations: 550\n",
      "Optimization terminated successfully.\n",
      "         Current function value: -1.369879\n",
      "         Iterations: 8\n",
      "         Function evaluations: 1474\n"
     ]
    },
    {
     "name": "stderr",
     "output_type": "stream",
     "text": [
      "\u001b[32m[I 2022-03-09 23:36:25,305]\u001b[0m Trial 13 finished with value: 0.740389744184961 and parameters: {'p': 8, 'd': 0, 'q': 2, 'P': 3, 'D': 0, 'Q': 3}. Best is trial 13 with value: 0.740389744184961.\u001b[0m\n"
     ]
    },
    {
     "name": "stdout",
     "output_type": "stream",
     "text": [
      "Warning: Maximum number of iterations has been exceeded.\n"
     ]
    },
    {
     "name": "stderr",
     "output_type": "stream",
     "text": [
      "/home/elasive/miniconda3/envs/SERF/lib/python3.7/site-packages/statsmodels/base/model.py:606: ConvergenceWarning: Maximum Likelihood optimization failed to converge. Check mle_retvals\n",
      "  ConvergenceWarning)\n",
      "\u001b[32m[I 2022-03-09 23:37:36,763]\u001b[0m Trial 14 finished with value: 0.7391942853049154 and parameters: {'p': 8, 'd': 0, 'q': 3, 'P': 3, 'D': 0, 'Q': 1}. Best is trial 13 with value: 0.740389744184961.\u001b[0m\n",
      "\u001b[32m[I 2022-03-09 23:37:40,309]\u001b[0m Trial 15 finished with value: 0.7211177581012796 and parameters: {'p': 2, 'd': 0, 'q': 3, 'P': 3, 'D': 0, 'Q': 1}. Best is trial 13 with value: 0.740389744184961.\u001b[0m\n"
     ]
    },
    {
     "name": "stdout",
     "output_type": "stream",
     "text": [
      "Optimization terminated successfully.\n",
      "         Current function value: -1.377933\n",
      "         Iterations: 5\n",
      "         Function evaluations: 597\n",
      "Optimization terminated successfully.\n",
      "         Current function value: -1.400757\n",
      "         Iterations: 14\n",
      "         Function evaluations: 3219\n"
     ]
    },
    {
     "name": "stderr",
     "output_type": "stream",
     "text": [
      "\u001b[32m[I 2022-03-09 23:37:58,415]\u001b[0m Trial 16 finished with value: 0.7384487696958646 and parameters: {'p': 8, 'd': 0, 'q': 8, 'P': 2, 'D': 0, 'Q': 1}. Best is trial 13 with value: 0.740389744184961.\u001b[0m\n"
     ]
    },
    {
     "name": "stdout",
     "output_type": "stream",
     "text": [
      "Optimization terminated successfully.\n",
      "         Current function value: -1.327449\n",
      "         Iterations: 6\n",
      "         Function evaluations: 866\n"
     ]
    },
    {
     "name": "stderr",
     "output_type": "stream",
     "text": [
      "\u001b[32m[I 2022-03-09 23:38:06,918]\u001b[0m Trial 17 finished with value: 0.7121963222815633 and parameters: {'p': 3, 'd': 1, 'q': 3, 'P': 3, 'D': 1, 'Q': 2}. Best is trial 13 with value: 0.740389744184961.\u001b[0m\n"
     ]
    },
    {
     "name": "stdout",
     "output_type": "stream",
     "text": [
      "Optimization terminated successfully.\n",
      "         Current function value: -1.359452\n",
      "         Iterations: 17\n",
      "         Function evaluations: 2912\n"
     ]
    },
    {
     "name": "stderr",
     "output_type": "stream",
     "text": [
      "\u001b[32m[I 2022-03-09 23:38:28,800]\u001b[0m Trial 18 finished with value: 0.730596266398059 and parameters: {'p': 7, 'd': 0, 'q': 3, 'P': 3, 'D': 0, 'Q': 1}. Best is trial 13 with value: 0.740389744184961.\u001b[0m\n",
      "\u001b[32m[I 2022-03-09 23:38:30,671]\u001b[0m Trial 19 finished with value: 0.7285142210843194 and parameters: {'p': 0, 'd': 0, 'q': 2, 'P': 2, 'D': 0, 'Q': 2}. Best is trial 13 with value: 0.740389744184961.\u001b[0m\n"
     ]
    },
    {
     "name": "stdout",
     "output_type": "stream",
     "text": [
      "Optimization terminated successfully.\n",
      "         Current function value: -1.424121\n",
      "         Iterations: 5\n",
      "         Function evaluations: 430\n",
      "Optimization terminated successfully.\n",
      "         Current function value: -1.313197\n",
      "         Iterations: 14\n",
      "         Function evaluations: 2579\n"
     ]
    },
    {
     "name": "stderr",
     "output_type": "stream",
     "text": [
      "\u001b[32m[I 2022-03-09 23:38:58,336]\u001b[0m Trial 20 finished with value: 0.7188309084974774 and parameters: {'p': 5, 'd': 1, 'q': 4, 'P': 3, 'D': 1, 'Q': 1}. Best is trial 13 with value: 0.740389744184961.\u001b[0m\n"
     ]
    },
    {
     "name": "stdout",
     "output_type": "stream",
     "text": [
      "Optimization terminated successfully.\n",
      "         Current function value: -1.400757\n",
      "         Iterations: 14\n",
      "         Function evaluations: 3219\n"
     ]
    },
    {
     "name": "stderr",
     "output_type": "stream",
     "text": [
      "\u001b[32m[I 2022-03-09 23:39:16,080]\u001b[0m Trial 21 finished with value: 0.7384487696958646 and parameters: {'p': 8, 'd': 0, 'q': 8, 'P': 2, 'D': 0, 'Q': 1}. Best is trial 13 with value: 0.740389744184961.\u001b[0m\n"
     ]
    },
    {
     "name": "stdout",
     "output_type": "stream",
     "text": [
      "Optimization terminated successfully.\n",
      "         Current function value: -1.406072\n",
      "         Iterations: 17\n",
      "         Function evaluations: 3789\n"
     ]
    },
    {
     "name": "stderr",
     "output_type": "stream",
     "text": [
      "\u001b[32m[I 2022-03-09 23:39:36,841]\u001b[0m Trial 22 finished with value: 0.7274643910106972 and parameters: {'p': 8, 'd': 0, 'q': 7, 'P': 2, 'D': 0, 'Q': 1}. Best is trial 13 with value: 0.740389744184961.\u001b[0m\n"
     ]
    },
    {
     "name": "stdout",
     "output_type": "stream",
     "text": [
      "Optimization terminated successfully.\n",
      "         Current function value: -1.368202\n",
      "         Iterations: 8\n",
      "         Function evaluations: 1677\n"
     ]
    },
    {
     "name": "stderr",
     "output_type": "stream",
     "text": [
      "\u001b[32m[I 2022-03-09 23:39:50,000]\u001b[0m Trial 23 finished with value: 0.7219377860565146 and parameters: {'p': 7, 'd': 0, 'q': 6, 'P': 3, 'D': 0, 'Q': 1}. Best is trial 13 with value: 0.740389744184961.\u001b[0m\n"
     ]
    },
    {
     "name": "stdout",
     "output_type": "stream",
     "text": [
      "Optimization terminated successfully.\n",
      "         Current function value: -1.401264\n",
      "         Iterations: 6\n",
      "         Function evaluations: 1066\n"
     ]
    },
    {
     "name": "stderr",
     "output_type": "stream",
     "text": [
      "\u001b[32m[I 2022-03-09 23:39:55,980]\u001b[0m Trial 24 finished with value: 0.7245984179892712 and parameters: {'p': 8, 'd': 0, 'q': 3, 'P': 2, 'D': 0, 'Q': 2}. Best is trial 13 with value: 0.740389744184961.\u001b[0m\n"
     ]
    },
    {
     "name": "stdout",
     "output_type": "stream",
     "text": [
      "Optimization terminated successfully.\n",
      "         Current function value: -1.367965\n",
      "         Iterations: 12\n",
      "         Function evaluations: 2842\n"
     ]
    },
    {
     "name": "stderr",
     "output_type": "stream",
     "text": [
      "\u001b[32m[I 2022-03-09 23:40:19,967]\u001b[0m Trial 25 finished with value: 0.7282043998162364 and parameters: {'p': 7, 'd': 0, 'q': 8, 'P': 3, 'D': 0, 'Q': 1}. Best is trial 13 with value: 0.740389744184961.\u001b[0m\n",
      "\u001b[32m[I 2022-03-09 23:40:25,295]\u001b[0m Trial 26 finished with value: 0.7162890025195884 and parameters: {'p': 6, 'd': 0, 'q': 4, 'P': 2, 'D': 0, 'Q': 0}. Best is trial 13 with value: 0.740389744184961.\u001b[0m\n"
     ]
    },
    {
     "name": "stdout",
     "output_type": "stream",
     "text": [
      "Optimization terminated successfully.\n",
      "         Current function value: -1.355520\n",
      "         Iterations: 8\n",
      "         Function evaluations: 1168\n",
      "Optimization terminated successfully.\n",
      "         Current function value: -1.368591\n",
      "         Iterations: 3\n",
      "         Function evaluations: 392\n"
     ]
    },
    {
     "name": "stderr",
     "output_type": "stream",
     "text": [
      "\u001b[32m[I 2022-03-09 23:40:28,232]\u001b[0m Trial 27 finished with value: 0.7290543845891932 and parameters: {'p': 5, 'd': 0, 'q': 1, 'P': 3, 'D': 0, 'Q': 2}. Best is trial 13 with value: 0.740389744184961.\u001b[0m\n"
     ]
    },
    {
     "name": "stdout",
     "output_type": "stream",
     "text": [
      "Optimization terminated successfully.\n",
      "         Current function value: -1.366282\n",
      "         Iterations: 13\n",
      "         Function evaluations: 2822\n"
     ]
    },
    {
     "name": "stderr",
     "output_type": "stream",
     "text": [
      "\u001b[32m[I 2022-03-09 23:40:51,034]\u001b[0m Trial 28 finished with value: 0.7279871834281877 and parameters: {'p': 8, 'd': 0, 'q': 6, 'P': 3, 'D': 0, 'Q': 1}. Best is trial 13 with value: 0.740389744184961.\u001b[0m\n",
      "\u001b[32m[I 2022-03-09 23:40:53,187]\u001b[0m Trial 29 finished with value: 0.39592390199157235 and parameters: {'p': 7, 'd': 1, 'q': 2, 'P': 1, 'D': 0, 'Q': 0}. Best is trial 13 with value: 0.740389744184961.\u001b[0m\n"
     ]
    },
    {
     "name": "stdout",
     "output_type": "stream",
     "text": [
      "Optimization terminated successfully.\n",
      "         Current function value: -1.332890\n",
      "         Iterations: 6\n",
      "         Function evaluations: 752\n"
     ]
    },
    {
     "name": "stderr",
     "output_type": "stream",
     "text": [
      "\u001b[32m[I 2022-03-09 23:40:58,496]\u001b[0m Trial 30 finished with value: 0.7143628125880467 and parameters: {'p': 6, 'd': 0, 'q': 4, 'P': 2, 'D': 0, 'Q': 1}. Best is trial 13 with value: 0.740389744184961.\u001b[0m\n"
     ]
    },
    {
     "name": "stdout",
     "output_type": "stream",
     "text": [
      "Optimization terminated successfully.\n",
      "         Current function value: -1.406358\n",
      "         Iterations: 7\n",
      "         Function evaluations: 1125\n",
      "Optimization terminated successfully.\n",
      "         Current function value: -1.400757\n",
      "         Iterations: 14\n",
      "         Function evaluations: 3219\n"
     ]
    },
    {
     "name": "stderr",
     "output_type": "stream",
     "text": [
      "\u001b[32m[I 2022-03-09 23:41:16,041]\u001b[0m Trial 31 finished with value: 0.7384487696958646 and parameters: {'p': 8, 'd': 0, 'q': 8, 'P': 2, 'D': 0, 'Q': 1}. Best is trial 13 with value: 0.740389744184961.\u001b[0m\n"
     ]
    },
    {
     "name": "stdout",
     "output_type": "stream",
     "text": [
      "Optimization terminated successfully.\n",
      "         Current function value: -1.406072\n",
      "         Iterations: 17\n",
      "         Function evaluations: 3789\n"
     ]
    },
    {
     "name": "stderr",
     "output_type": "stream",
     "text": [
      "\u001b[32m[I 2022-03-09 23:41:36,686]\u001b[0m Trial 32 finished with value: 0.7274643910106972 and parameters: {'p': 8, 'd': 0, 'q': 7, 'P': 2, 'D': 0, 'Q': 1}. Best is trial 13 with value: 0.740389744184961.\u001b[0m\n",
      "\u001b[32m[I 2022-03-09 23:41:55,614]\u001b[0m Trial 33 finished with value: 0.658209545152207 and parameters: {'p': 7, 'd': 0, 'q': 8, 'P': 1, 'D': 0, 'Q': 0}. Best is trial 13 with value: 0.740389744184961.\u001b[0m\n"
     ]
    },
    {
     "name": "stdout",
     "output_type": "stream",
     "text": [
      "Optimization terminated successfully.\n",
      "         Current function value: -1.306443\n",
      "         Iterations: 26\n",
      "         Function evaluations: 5439\n",
      "Optimization terminated successfully.\n",
      "         Current function value: -1.408214\n",
      "         Iterations: 13\n",
      "         Function evaluations: 2597\n"
     ]
    },
    {
     "name": "stderr",
     "output_type": "stream",
     "text": [
      "\u001b[32m[I 2022-03-09 23:42:09,805]\u001b[0m Trial 34 finished with value: 0.7263053711279183 and parameters: {'p': 7, 'd': 0, 'q': 6, 'P': 2, 'D': 0, 'Q': 1}. Best is trial 13 with value: 0.740389744184961.\u001b[0m\n"
     ]
    },
    {
     "name": "stdout",
     "output_type": "stream",
     "text": [
      "Optimization terminated successfully.\n",
      "         Current function value: -1.318195\n",
      "         Iterations: 5\n",
      "         Function evaluations: 1233\n"
     ]
    },
    {
     "name": "stderr",
     "output_type": "stream",
     "text": [
      "\u001b[32m[I 2022-03-09 23:42:21,550]\u001b[0m Trial 35 finished with value: 0.7254406332838134 and parameters: {'p': 8, 'd': 0, 'q': 7, 'P': 3, 'D': 1, 'Q': 2}. Best is trial 13 with value: 0.740389744184961.\u001b[0m\n",
      "\u001b[32m[I 2022-03-09 23:42:29,387]\u001b[0m Trial 36 finished with value: 0.17896307939132117 and parameters: {'p': 5, 'd': 0, 'q': 8, 'P': 0, 'D': 0, 'Q': 1}. Best is trial 13 with value: 0.740389744184961.\u001b[0m\n"
     ]
    },
    {
     "name": "stdout",
     "output_type": "stream",
     "text": [
      "Optimization terminated successfully.\n",
      "         Current function value: -1.273670\n",
      "         Iterations: 11\n",
      "         Function evaluations: 2227\n"
     ]
    },
    {
     "name": "stderr",
     "output_type": "stream",
     "text": [
      "\u001b[32m[I 2022-03-09 23:42:33,078]\u001b[0m Trial 37 finished with value: 0.7374284228845147 and parameters: {'p': 6, 'd': 0, 'q': 1, 'P': 1, 'D': 0, 'Q': 3}. Best is trial 13 with value: 0.740389744184961.\u001b[0m\n"
     ]
    },
    {
     "name": "stdout",
     "output_type": "stream",
     "text": [
      "Optimization terminated successfully.\n",
      "         Current function value: -1.383564\n",
      "         Iterations: 4\n",
      "         Function evaluations: 535\n",
      "Optimization terminated successfully.\n",
      "         Current function value: -1.349563\n",
      "         Iterations: 7\n",
      "         Function evaluations: 1274\n"
     ]
    },
    {
     "name": "stderr",
     "output_type": "stream",
     "text": [
      "\u001b[32m[I 2022-03-09 23:42:38,629]\u001b[0m Trial 38 finished with value: 0.7149994301736928 and parameters: {'p': 8, 'd': 0, 'q': 5, 'P': 2, 'D': 0, 'Q': 0}. Best is trial 13 with value: 0.740389744184961.\u001b[0m\n"
     ]
    },
    {
     "name": "stdout",
     "output_type": "stream",
     "text": [
      "Optimization terminated successfully.\n",
      "         Current function value: -1.365132\n",
      "         Iterations: 4\n",
      "         Function evaluations: 635\n"
     ]
    },
    {
     "name": "stderr",
     "output_type": "stream",
     "text": [
      "\u001b[32m[I 2022-03-09 23:42:43,974]\u001b[0m Trial 39 finished with value: 0.728534518050556 and parameters: {'p': 7, 'd': 0, 'q': 2, 'P': 3, 'D': 0, 'Q': 2}. Best is trial 13 with value: 0.740389744184961.\u001b[0m\n",
      "\u001b[32m[I 2022-03-09 23:42:55,832]\u001b[0m Trial 40 finished with value: 0.7441444188637567 and parameters: {'p': 7, 'd': 0, 'q': 6, 'P': 1, 'D': 0, 'Q': 1}. Best is trial 40 with value: 0.7441444188637567.\u001b[0m\n"
     ]
    },
    {
     "name": "stdout",
     "output_type": "stream",
     "text": [
      "Optimization terminated successfully.\n",
      "         Current function value: -1.467864\n",
      "         Iterations: 16\n",
      "         Function evaluations: 3126\n"
     ]
    },
    {
     "name": "stderr",
     "output_type": "stream",
     "text": [
      "\u001b[32m[I 2022-03-09 23:43:05,229]\u001b[0m Trial 41 finished with value: 0.7365757869299904 and parameters: {'p': 8, 'd': 0, 'q': 6, 'P': 1, 'D': 0, 'Q': 1}. Best is trial 40 with value: 0.7441444188637567.\u001b[0m\n"
     ]
    },
    {
     "name": "stdout",
     "output_type": "stream",
     "text": [
      "Optimization terminated successfully.\n",
      "         Current function value: -1.467741\n",
      "         Iterations: 12\n",
      "         Function evaluations: 2486\n"
     ]
    },
    {
     "name": "stderr",
     "output_type": "stream",
     "text": [
      "\u001b[32m[I 2022-03-09 23:43:17,181]\u001b[0m Trial 42 finished with value: 0.29641330437981284 and parameters: {'p': 7, 'd': 0, 'q': 7, 'P': 0, 'D': 0, 'Q': 1}. Best is trial 40 with value: 0.7441444188637567.\u001b[0m\n"
     ]
    },
    {
     "name": "stdout",
     "output_type": "stream",
     "text": [
      "Optimization terminated successfully.\n",
      "         Current function value: -1.302822\n",
      "         Iterations: 21\n",
      "         Function evaluations: 4068\n"
     ]
    },
    {
     "name": "stderr",
     "output_type": "stream",
     "text": [
      "\u001b[32m[I 2022-03-09 23:43:28,457]\u001b[0m Trial 43 finished with value: 0.7370596951667079 and parameters: {'p': 6, 'd': 0, 'q': 8, 'P': 1, 'D': 0, 'Q': 1}. Best is trial 40 with value: 0.7441444188637567.\u001b[0m\n"
     ]
    },
    {
     "name": "stdout",
     "output_type": "stream",
     "text": [
      "Optimization terminated successfully.\n",
      "         Current function value: -1.457470\n",
      "         Iterations: 13\n",
      "         Function evaluations: 2790\n"
     ]
    },
    {
     "name": "stderr",
     "output_type": "stream",
     "text": [
      "\u001b[32m[I 2022-03-09 23:43:33,776]\u001b[0m Trial 44 finished with value: 0.7303879353213321 and parameters: {'p': 8, 'd': 0, 'q': 5, 'P': 1, 'D': 0, 'Q': 1}. Best is trial 40 with value: 0.7441444188637567.\u001b[0m\n"
     ]
    },
    {
     "name": "stdout",
     "output_type": "stream",
     "text": [
      "Optimization terminated successfully.\n",
      "         Current function value: -1.460915\n",
      "         Iterations: 8\n",
      "         Function evaluations: 1436\n",
      "Optimization terminated successfully.\n",
      "         Current function value: -1.373118\n",
      "         Iterations: 12\n",
      "         Function evaluations: 2843\n"
     ]
    },
    {
     "name": "stderr",
     "output_type": "stream",
     "text": [
      "\u001b[32m[I 2022-03-09 23:43:57,350]\u001b[0m Trial 45 finished with value: 0.7519369357566321 and parameters: {'p': 7, 'd': 0, 'q': 7, 'P': 2, 'D': 0, 'Q': 3}. Best is trial 45 with value: 0.7519369357566321.\u001b[0m\n"
     ]
    },
    {
     "name": "stdout",
     "output_type": "stream",
     "text": [
      "Optimization terminated successfully.\n",
      "         Current function value: -1.331421\n",
      "         Iterations: 11\n",
      "         Function evaluations: 2377\n"
     ]
    },
    {
     "name": "stderr",
     "output_type": "stream",
     "text": [
      "\u001b[32m[I 2022-03-09 23:44:13,572]\u001b[0m Trial 46 finished with value: 0.7283087374482209 and parameters: {'p': 6, 'd': 1, 'q': 7, 'P': 0, 'D': 0, 'Q': 3}. Best is trial 45 with value: 0.7519369357566321.\u001b[0m\n"
     ]
    },
    {
     "name": "stdout",
     "output_type": "stream",
     "text": [
      "Optimization terminated successfully.\n",
      "         Current function value: -1.367541\n",
      "         Iterations: 15\n",
      "         Function evaluations: 2608\n"
     ]
    },
    {
     "name": "stderr",
     "output_type": "stream",
     "text": [
      "\u001b[32m[I 2022-03-09 23:44:32,106]\u001b[0m Trial 47 finished with value: 0.7314579727995563 and parameters: {'p': 7, 'd': 0, 'q': 3, 'P': 1, 'D': 0, 'Q': 3}. Best is trial 45 with value: 0.7519369357566321.\u001b[0m\n"
     ]
    },
    {
     "name": "stdout",
     "output_type": "stream",
     "text": [
      "Optimization terminated successfully.\n",
      "         Current function value: -1.324104\n",
      "         Iterations: 8\n",
      "         Function evaluations: 1925\n"
     ]
    },
    {
     "name": "stderr",
     "output_type": "stream",
     "text": [
      "\u001b[32m[I 2022-03-09 23:44:54,061]\u001b[0m Trial 48 finished with value: 0.7323923277560032 and parameters: {'p': 7, 'd': 0, 'q': 6, 'P': 3, 'D': 1, 'Q': 3}. Best is trial 45 with value: 0.7519369357566321.\u001b[0m\n",
      "\u001b[32m[I 2022-03-09 23:44:57,775]\u001b[0m Trial 49 finished with value: 0.7359463567635993 and parameters: {'p': 3, 'd': 0, 'q': 2, 'P': 2, 'D': 0, 'Q': 3}. Best is trial 45 with value: 0.7519369357566321.\u001b[0m\n"
     ]
    },
    {
     "name": "stdout",
     "output_type": "stream",
     "text": [
      "Optimization terminated successfully.\n",
      "         Current function value: -1.379118\n",
      "         Iterations: 4\n",
      "         Function evaluations: 501\n"
     ]
    },
    {
     "name": "stderr",
     "output_type": "stream",
     "text": [
      "\u001b[32m[I 2022-03-09 23:44:57,811]\u001b[0m A new study created in memory with name: no-name-9abaa1d5-04f5-4f43-bd72-26b34be3f326\u001b[0m\n"
     ]
    },
    {
     "name": "stdout",
     "output_type": "stream",
     "text": [
      "Optimization terminated successfully.\n",
      "         Current function value: -1.438554\n",
      "         Iterations: 20\n",
      "         Function evaluations: 3077\n"
     ]
    },
    {
     "name": "stderr",
     "output_type": "stream",
     "text": [
      "\u001b[32m[I 2022-03-09 23:45:30,630]\u001b[0m Trial 0 finished with value: 0.8062274959957523 and parameters: {'p': 2, 'd': 0, 'q': 5, 'P': 1, 'D': 1, 'Q': 3}. Best is trial 0 with value: 0.8062274959957523.\u001b[0m\n"
     ]
    },
    {
     "name": "stdout",
     "output_type": "stream",
     "text": [
      "Optimization terminated successfully.\n",
      "         Current function value: -1.466479\n",
      "         Iterations: 18\n",
      "         Function evaluations: 3853\n"
     ]
    },
    {
     "name": "stderr",
     "output_type": "stream",
     "text": [
      "\u001b[32m[I 2022-03-09 23:46:06,560]\u001b[0m Trial 1 finished with value: 0.7736343871119715 and parameters: {'p': 4, 'd': 1, 'q': 6, 'P': 3, 'D': 0, 'Q': 3}. Best is trial 0 with value: 0.8062274959957523.\u001b[0m\n",
      "\u001b[32m[I 2022-03-09 23:46:12,297]\u001b[0m Trial 2 finished with value: 0.7913985676894923 and parameters: {'p': 1, 'd': 0, 'q': 7, 'P': 2, 'D': 0, 'Q': 1}. Best is trial 0 with value: 0.8062274959957523.\u001b[0m\n"
     ]
    },
    {
     "name": "stdout",
     "output_type": "stream",
     "text": [
      "Optimization terminated successfully.\n",
      "         Current function value: -1.566072\n",
      "         Iterations: 9\n",
      "         Function evaluations: 1429\n"
     ]
    },
    {
     "name": "stderr",
     "output_type": "stream",
     "text": [
      "/home/elasive/miniconda3/envs/SERF/lib/python3.7/site-packages/statsmodels/base/model.py:606: ConvergenceWarning: Maximum Likelihood optimization failed to converge. Check mle_retvals\n",
      "  ConvergenceWarning)\n",
      "\u001b[32m[I 2022-03-09 23:46:58,780]\u001b[0m Trial 3 finished with value: 0.7877179883131518 and parameters: {'p': 6, 'd': 0, 'q': 3, 'P': 2, 'D': 0, 'Q': 1}. Best is trial 0 with value: 0.8062274959957523.\u001b[0m\n"
     ]
    },
    {
     "name": "stdout",
     "output_type": "stream",
     "text": [
      "Warning: Maximum number of iterations has been exceeded.\n",
      "Optimization terminated successfully.\n",
      "         Current function value: -1.523371\n",
      "         Iterations: 9\n",
      "         Function evaluations: 1899\n"
     ]
    },
    {
     "name": "stderr",
     "output_type": "stream",
     "text": [
      "\u001b[32m[I 2022-03-09 23:47:10,236]\u001b[0m Trial 4 finished with value: 0.789662039511447 and parameters: {'p': 6, 'd': 1, 'q': 6, 'P': 1, 'D': 0, 'Q': 2}. Best is trial 0 with value: 0.8062274959957523.\u001b[0m\n",
      "\u001b[32m[I 2022-03-09 23:47:14,428]\u001b[0m Trial 5 finished with value: 0.7929571902643756 and parameters: {'p': 5, 'd': 1, 'q': 5, 'P': 1, 'D': 0, 'Q': 1}. Best is trial 0 with value: 0.8062274959957523.\u001b[0m\n"
     ]
    },
    {
     "name": "stdout",
     "output_type": "stream",
     "text": [
      "Optimization terminated successfully.\n",
      "         Current function value: -1.573013\n",
      "         Iterations: 6\n",
      "         Function evaluations: 991\n"
     ]
    },
    {
     "name": "stderr",
     "output_type": "stream",
     "text": [
      "\u001b[32m[I 2022-03-09 23:47:18,742]\u001b[0m Trial 6 finished with value: 0.8034457229972218 and parameters: {'p': 3, 'd': 0, 'q': 1, 'P': 2, 'D': 1, 'Q': 2}. Best is trial 0 with value: 0.8062274959957523.\u001b[0m\n"
     ]
    },
    {
     "name": "stdout",
     "output_type": "stream",
     "text": [
      "Optimization terminated successfully.\n",
      "         Current function value: -1.492491\n",
      "         Iterations: 5\n",
      "         Function evaluations: 602\n",
      "Optimization terminated successfully.\n",
      "         Current function value: -1.486485\n",
      "         Iterations: 7\n",
      "         Function evaluations: 1171\n"
     ]
    },
    {
     "name": "stderr",
     "output_type": "stream",
     "text": [
      "\u001b[32m[I 2022-03-09 23:47:28,769]\u001b[0m Trial 7 finished with value: 0.7983413258665963 and parameters: {'p': 3, 'd': 0, 'q': 4, 'P': 3, 'D': 0, 'Q': 3}. Best is trial 0 with value: 0.8062274959957523.\u001b[0m\n"
     ]
    },
    {
     "name": "stdout",
     "output_type": "stream",
     "text": [
      "Optimization terminated successfully.\n",
      "         Current function value: -1.410459\n",
      "         Iterations: 7\n",
      "         Function evaluations: 1297\n"
     ]
    },
    {
     "name": "stderr",
     "output_type": "stream",
     "text": [
      "\u001b[32m[I 2022-03-09 23:47:47,618]\u001b[0m Trial 8 finished with value: 0.8029702474025251 and parameters: {'p': 1, 'd': 1, 'q': 7, 'P': 2, 'D': 1, 'Q': 3}. Best is trial 0 with value: 0.8062274959957523.\u001b[0m\n"
     ]
    },
    {
     "name": "stdout",
     "output_type": "stream",
     "text": [
      "Optimization terminated successfully.\n",
      "         Current function value: -1.486172\n",
      "         Iterations: 11\n",
      "         Function evaluations: 1379\n"
     ]
    },
    {
     "name": "stderr",
     "output_type": "stream",
     "text": [
      "\u001b[32m[I 2022-03-09 23:47:56,968]\u001b[0m Trial 9 finished with value: 0.8029877910095463 and parameters: {'p': 4, 'd': 0, 'q': 3, 'P': 0, 'D': 1, 'Q': 2}. Best is trial 0 with value: 0.8062274959957523.\u001b[0m\n",
      "\u001b[32m[I 2022-03-09 23:47:57,480]\u001b[0m Trial 10 finished with value: 0.782696783498696 and parameters: {'p': 8, 'd': 0, 'q': 0, 'P': 0, 'D': 1, 'Q': 0}. Best is trial 0 with value: 0.8062274959957523.\u001b[0m\n"
     ]
    },
    {
     "name": "stdout",
     "output_type": "stream",
     "text": [
      "Optimization terminated successfully.\n",
      "         Current function value: -1.345758\n",
      "         Iterations: 1\n",
      "         Function evaluations: 326\n"
     ]
    },
    {
     "name": "stderr",
     "output_type": "stream",
     "text": [
      "\u001b[32m[I 2022-03-09 23:47:59,064]\u001b[0m Trial 11 finished with value: 0.8023888199256204 and parameters: {'p': 2, 'd': 0, 'q': 0, 'P': 1, 'D': 1, 'Q': 2}. Best is trial 0 with value: 0.8062274959957523.\u001b[0m\n"
     ]
    },
    {
     "name": "stdout",
     "output_type": "stream",
     "text": [
      "Optimization terminated successfully.\n",
      "         Current function value: -1.502108\n",
      "         Iterations: 3\n",
      "         Function evaluations: 215\n",
      "Optimization terminated successfully.\n",
      "         Current function value: -1.437336\n",
      "         Iterations: 3\n",
      "         Function evaluations: 266\n"
     ]
    },
    {
     "name": "stderr",
     "output_type": "stream",
     "text": [
      "\u001b[32m[I 2022-03-09 23:48:02,602]\u001b[0m Trial 12 finished with value: 0.8029624495741142 and parameters: {'p': 0, 'd': 0, 'q': 2, 'P': 1, 'D': 1, 'Q': 3}. Best is trial 0 with value: 0.8062274959957523.\u001b[0m\n",
      "\u001b[32m[I 2022-03-09 23:48:06,580]\u001b[0m Trial 13 finished with value: 0.8026122756903177 and parameters: {'p': 2, 'd': 0, 'q': 1, 'P': 2, 'D': 1, 'Q': 2}. Best is trial 0 with value: 0.8062274959957523.\u001b[0m\n"
     ]
    },
    {
     "name": "stdout",
     "output_type": "stream",
     "text": [
      "Optimization terminated successfully.\n",
      "         Current function value: -1.497348\n",
      "         Iterations: 5\n",
      "         Function evaluations: 559\n",
      "Optimization terminated successfully.\n",
      "         Current function value: -1.428696\n",
      "         Iterations: 4\n",
      "         Function evaluations: 541\n"
     ]
    },
    {
     "name": "stderr",
     "output_type": "stream",
     "text": [
      "\u001b[32m[I 2022-03-09 23:48:12,802]\u001b[0m Trial 14 finished with value: 0.8031478595598536 and parameters: {'p': 3, 'd': 0, 'q': 4, 'P': 0, 'D': 1, 'Q': 3}. Best is trial 0 with value: 0.8062274959957523.\u001b[0m\n"
     ]
    },
    {
     "name": "stdout",
     "output_type": "stream",
     "text": [
      "Optimization terminated successfully.\n",
      "         Current function value: -1.462058\n",
      "         Iterations: 6\n",
      "         Function evaluations: 1023\n"
     ]
    },
    {
     "name": "stderr",
     "output_type": "stream",
     "text": [
      "\u001b[32m[I 2022-03-09 23:48:20,103]\u001b[0m Trial 15 finished with value: 0.7990101526263189 and parameters: {'p': 0, 'd': 0, 'q': 8, 'P': 3, 'D': 1, 'Q': 2}. Best is trial 0 with value: 0.8062274959957523.\u001b[0m\n",
      "\u001b[32m[I 2022-03-09 23:48:20,951]\u001b[0m Trial 16 finished with value: 0.7860318883769287 and parameters: {'p': 3, 'd': 0, 'q': 2, 'P': 2, 'D': 1, 'Q': 0}. Best is trial 0 with value: 0.8062274959957523.\u001b[0m\n"
     ]
    },
    {
     "name": "stdout",
     "output_type": "stream",
     "text": [
      "Optimization terminated successfully.\n",
      "         Current function value: -1.454544\n",
      "         Iterations: 3\n",
      "         Function evaluations: 273\n",
      "Optimization terminated successfully.\n",
      "         Current function value: -1.417016\n",
      "         Iterations: 5\n",
      "         Function evaluations: 823\n"
     ]
    },
    {
     "name": "stderr",
     "output_type": "stream",
     "text": [
      "\u001b[32m[I 2022-03-09 23:48:31,927]\u001b[0m Trial 17 finished with value: 0.8019980845482536 and parameters: {'p': 2, 'd': 1, 'q': 5, 'P': 1, 'D': 1, 'Q': 3}. Best is trial 0 with value: 0.8062274959957523.\u001b[0m\n"
     ]
    },
    {
     "name": "stdout",
     "output_type": "stream",
     "text": [
      "Optimization terminated successfully.\n",
      "         Current function value: -1.511942\n",
      "         Iterations: 3\n",
      "         Function evaluations: 434\n"
     ]
    },
    {
     "name": "stderr",
     "output_type": "stream",
     "text": [
      "\u001b[32m[I 2022-03-09 23:48:34,788]\u001b[0m Trial 18 finished with value: 0.8029243342619526 and parameters: {'p': 8, 'd': 0, 'q': 1, 'P': 1, 'D': 1, 'Q': 2}. Best is trial 0 with value: 0.8062274959957523.\u001b[0m\n",
      "\u001b[32m[I 2022-03-09 23:48:41,673]\u001b[0m Trial 19 finished with value: 0.7984890633374959 and parameters: {'p': 4, 'd': 0, 'q': 4, 'P': 2, 'D': 1, 'Q': 1}. Best is trial 0 with value: 0.8062274959957523.\u001b[0m\n"
     ]
    },
    {
     "name": "stdout",
     "output_type": "stream",
     "text": [
      "Optimization terminated successfully.\n",
      "         Current function value: -1.485419\n",
      "         Iterations: 8\n",
      "         Function evaluations: 1317\n",
      "Optimization terminated successfully.\n",
      "         Current function value: -1.427498\n",
      "         Iterations: 4\n",
      "         Function evaluations: 537\n"
     ]
    },
    {
     "name": "stderr",
     "output_type": "stream",
     "text": [
      "\u001b[32m[I 2022-03-09 23:48:47,451]\u001b[0m Trial 20 finished with value: 0.8024107316091205 and parameters: {'p': 5, 'd': 1, 'q': 2, 'P': 0, 'D': 1, 'Q': 3}. Best is trial 0 with value: 0.8062274959957523.\u001b[0m\n"
     ]
    },
    {
     "name": "stdout",
     "output_type": "stream",
     "text": [
      "Optimization terminated successfully.\n",
      "         Current function value: -1.428696\n",
      "         Iterations: 4\n",
      "         Function evaluations: 541\n"
     ]
    },
    {
     "name": "stderr",
     "output_type": "stream",
     "text": [
      "\u001b[32m[I 2022-03-09 23:48:53,830]\u001b[0m Trial 21 finished with value: 0.8031478595598536 and parameters: {'p': 3, 'd': 0, 'q': 4, 'P': 0, 'D': 1, 'Q': 3}. Best is trial 0 with value: 0.8062274959957523.\u001b[0m\n"
     ]
    },
    {
     "name": "stdout",
     "output_type": "stream",
     "text": [
      "Optimization terminated successfully.\n",
      "         Current function value: -1.429123\n",
      "         Iterations: 3\n",
      "         Function evaluations: 383\n"
     ]
    },
    {
     "name": "stderr",
     "output_type": "stream",
     "text": [
      "\u001b[32m[I 2022-03-09 23:48:58,329]\u001b[0m Trial 22 finished with value: 0.804916269782111 and parameters: {'p': 1, 'd': 0, 'q': 5, 'P': 0, 'D': 1, 'Q': 3}. Best is trial 0 with value: 0.8062274959957523.\u001b[0m\n",
      "\u001b[32m[I 2022-03-09 23:49:01,513]\u001b[0m Trial 23 finished with value: 0.802880922147797 and parameters: {'p': 1, 'd': 0, 'q': 5, 'P': 0, 'D': 1, 'Q': 2}. Best is trial 0 with value: 0.8062274959957523.\u001b[0m\n"
     ]
    },
    {
     "name": "stdout",
     "output_type": "stream",
     "text": [
      "Optimization terminated successfully.\n",
      "         Current function value: -1.477812\n",
      "         Iterations: 4\n",
      "         Function evaluations: 462\n",
      "Optimization terminated successfully.\n",
      "         Current function value: -1.434005\n",
      "         Iterations: 10\n",
      "         Function evaluations: 1616\n"
     ]
    },
    {
     "name": "stderr",
     "output_type": "stream",
     "text": [
      "\u001b[32m[I 2022-03-09 23:49:20,773]\u001b[0m Trial 24 finished with value: 0.8033973447549514 and parameters: {'p': 2, 'd': 0, 'q': 6, 'P': 1, 'D': 1, 'Q': 3}. Best is trial 0 with value: 0.8062274959957523.\u001b[0m\n",
      "\u001b[32m[I 2022-03-09 23:49:23,343]\u001b[0m Trial 25 finished with value: 0.8033064320600676 and parameters: {'p': 1, 'd': 0, 'q': 3, 'P': 2, 'D': 1, 'Q': 2}. Best is trial 0 with value: 0.8062274959957523.\u001b[0m\n"
     ]
    },
    {
     "name": "stdout",
     "output_type": "stream",
     "text": [
      "Optimization terminated successfully.\n",
      "         Current function value: -1.484432\n",
      "         Iterations: 4\n",
      "         Function evaluations: 426\n",
      "Optimization terminated successfully.\n",
      "         Current function value: -1.430972\n",
      "         Iterations: 3\n",
      "         Function evaluations: 374\n"
     ]
    },
    {
     "name": "stderr",
     "output_type": "stream",
     "text": [
      "\u001b[32m[I 2022-03-09 23:49:27,628]\u001b[0m Trial 26 finished with value: 0.8047629428120635 and parameters: {'p': 0, 'd': 0, 'q': 5, 'P': 1, 'D': 1, 'Q': 3}. Best is trial 0 with value: 0.8062274959957523.\u001b[0m\n"
     ]
    },
    {
     "name": "stdout",
     "output_type": "stream",
     "text": [
      "Optimization terminated successfully.\n",
      "         Current function value: -1.430972\n",
      "         Iterations: 3\n",
      "         Function evaluations: 374\n"
     ]
    },
    {
     "name": "stderr",
     "output_type": "stream",
     "text": [
      "\u001b[32m[I 2022-03-09 23:49:31,777]\u001b[0m Trial 27 finished with value: 0.8047629428120635 and parameters: {'p': 0, 'd': 0, 'q': 5, 'P': 1, 'D': 1, 'Q': 3}. Best is trial 0 with value: 0.8062274959957523.\u001b[0m\n"
     ]
    },
    {
     "name": "stdout",
     "output_type": "stream",
     "text": [
      "Optimization terminated successfully.\n",
      "         Current function value: -1.429023\n",
      "         Iterations: 4\n",
      "         Function evaluations: 587\n"
     ]
    },
    {
     "name": "stderr",
     "output_type": "stream",
     "text": [
      "\u001b[32m[I 2022-03-09 23:49:39,107]\u001b[0m Trial 28 finished with value: 0.8002195881370138 and parameters: {'p': 0, 'd': 0, 'q': 7, 'P': 0, 'D': 1, 'Q': 3}. Best is trial 0 with value: 0.8062274959957523.\u001b[0m\n"
     ]
    },
    {
     "name": "stdout",
     "output_type": "stream",
     "text": [
      "Optimization terminated successfully.\n",
      "         Current function value: -1.435002\n",
      "         Iterations: 13\n",
      "         Function evaluations: 2565\n"
     ]
    },
    {
     "name": "stderr",
     "output_type": "stream",
     "text": [
      "\u001b[32m[I 2022-03-09 23:50:01,651]\u001b[0m Trial 29 finished with value: 0.7675409251801288 and parameters: {'p': 1, 'd': 1, 'q': 6, 'P': 1, 'D': 0, 'Q': 3}. Best is trial 0 with value: 0.8062274959957523.\u001b[0m\n"
     ]
    },
    {
     "name": "stdout",
     "output_type": "stream",
     "text": [
      "Optimization terminated successfully.\n",
      "         Current function value: -1.425895\n",
      "         Iterations: 4\n",
      "         Function evaluations: 623\n"
     ]
    },
    {
     "name": "stderr",
     "output_type": "stream",
     "text": [
      "\u001b[32m[I 2022-03-09 23:50:10,403]\u001b[0m Trial 30 finished with value: 0.7988437000034705 and parameters: {'p': 0, 'd': 0, 'q': 8, 'P': 0, 'D': 1, 'Q': 3}. Best is trial 0 with value: 0.8062274959957523.\u001b[0m\n"
     ]
    },
    {
     "name": "stdout",
     "output_type": "stream",
     "text": [
      "Optimization terminated successfully.\n",
      "         Current function value: -1.430972\n",
      "         Iterations: 3\n",
      "         Function evaluations: 374\n"
     ]
    },
    {
     "name": "stderr",
     "output_type": "stream",
     "text": [
      "\u001b[32m[I 2022-03-09 23:50:14,589]\u001b[0m Trial 31 finished with value: 0.8047629428120635 and parameters: {'p': 0, 'd': 0, 'q': 5, 'P': 1, 'D': 1, 'Q': 3}. Best is trial 0 with value: 0.8062274959957523.\u001b[0m\n"
     ]
    },
    {
     "name": "stdout",
     "output_type": "stream",
     "text": [
      "Optimization terminated successfully.\n",
      "         Current function value: -1.429758\n",
      "         Iterations: 4\n",
      "         Function evaluations: 577\n"
     ]
    },
    {
     "name": "stderr",
     "output_type": "stream",
     "text": [
      "\u001b[32m[I 2022-03-09 23:50:22,402]\u001b[0m Trial 32 finished with value: 0.8029996470119644 and parameters: {'p': 1, 'd': 0, 'q': 6, 'P': 1, 'D': 1, 'Q': 3}. Best is trial 0 with value: 0.8062274959957523.\u001b[0m\n"
     ]
    },
    {
     "name": "stdout",
     "output_type": "stream",
     "text": [
      "Optimization terminated successfully.\n",
      "         Current function value: -1.430972\n",
      "         Iterations: 3\n",
      "         Function evaluations: 374\n"
     ]
    },
    {
     "name": "stderr",
     "output_type": "stream",
     "text": [
      "\u001b[32m[I 2022-03-09 23:50:26,851]\u001b[0m Trial 33 finished with value: 0.8047629428120635 and parameters: {'p': 0, 'd': 0, 'q': 5, 'P': 1, 'D': 1, 'Q': 3}. Best is trial 0 with value: 0.8062274959957523.\u001b[0m\n"
     ]
    },
    {
     "name": "stdout",
     "output_type": "stream",
     "text": [
      "Optimization terminated successfully.\n",
      "         Current function value: -1.481719\n",
      "         Iterations: 11\n",
      "         Function evaluations: 1898\n"
     ]
    },
    {
     "name": "stderr",
     "output_type": "stream",
     "text": [
      "\u001b[32m[I 2022-03-09 23:50:44,637]\u001b[0m Trial 34 finished with value: 0.7981395869398957 and parameters: {'p': 2, 'd': 0, 'q': 6, 'P': 1, 'D': 0, 'Q': 3}. Best is trial 0 with value: 0.8062274959957523.\u001b[0m\n"
     ]
    },
    {
     "name": "stdout",
     "output_type": "stream",
     "text": [
      "Optimization terminated successfully.\n",
      "         Current function value: -1.431019\n",
      "         Iterations: 3\n",
      "         Function evaluations: 407\n"
     ]
    },
    {
     "name": "stderr",
     "output_type": "stream",
     "text": [
      "\u001b[32m[I 2022-03-09 23:50:49,335]\u001b[0m Trial 35 finished with value: 0.804709931050857 and parameters: {'p': 1, 'd': 0, 'q': 5, 'P': 1, 'D': 1, 'Q': 3}. Best is trial 0 with value: 0.8062274959957523.\u001b[0m\n",
      "\u001b[32m[I 2022-03-09 23:50:54,634]\u001b[0m Trial 36 finished with value: -15.778135512100437 and parameters: {'p': 0, 'd': 0, 'q': 7, 'P': 0, 'D': 0, 'Q': 2}. Best is trial 0 with value: 0.8062274959957523.\u001b[0m\n"
     ]
    },
    {
     "name": "stdout",
     "output_type": "stream",
     "text": [
      "Optimization terminated successfully.\n",
      "         Current function value: -0.984505\n",
      "         Iterations: 9\n",
      "         Function evaluations: 1115\n"
     ]
    },
    {
     "name": "stderr",
     "output_type": "stream",
     "text": [
      "\u001b[32m[I 2022-03-09 23:50:56,041]\u001b[0m Trial 37 finished with value: 0.8012114765674514 and parameters: {'p': 1, 'd': 0, 'q': 3, 'P': 1, 'D': 1, 'Q': 1}. Best is trial 0 with value: 0.8062274959957523.\u001b[0m\n"
     ]
    },
    {
     "name": "stdout",
     "output_type": "stream",
     "text": [
      "Optimization terminated successfully.\n",
      "         Current function value: -1.539782\n",
      "         Iterations: 4\n",
      "         Function evaluations: 352\n",
      "Optimization terminated successfully.\n",
      "         Current function value: -1.431463\n",
      "         Iterations: 4\n",
      "         Function evaluations: 671\n"
     ]
    },
    {
     "name": "stderr",
     "output_type": "stream",
     "text": [
      "\u001b[32m[I 2022-03-09 23:51:04,541]\u001b[0m Trial 38 finished with value: 0.7979298093976094 and parameters: {'p': 2, 'd': 1, 'q': 4, 'P': 2, 'D': 1, 'Q': 3}. Best is trial 0 with value: 0.8062274959957523.\u001b[0m\n"
     ]
    },
    {
     "name": "stdout",
     "output_type": "stream",
     "text": [
      "Optimization terminated successfully.\n",
      "         Current function value: -1.477575\n",
      "         Iterations: 5\n",
      "         Function evaluations: 676\n"
     ]
    },
    {
     "name": "stderr",
     "output_type": "stream",
     "text": [
      "\u001b[32m[I 2022-03-09 23:51:09,828]\u001b[0m Trial 39 finished with value: 0.80371806012809 and parameters: {'p': 0, 'd': 0, 'q': 5, 'P': 3, 'D': 0, 'Q': 3}. Best is trial 0 with value: 0.8062274959957523.\u001b[0m\n"
     ]
    },
    {
     "name": "stdout",
     "output_type": "stream",
     "text": [
      "Optimization terminated successfully.\n",
      "         Current function value: -1.488887\n",
      "         Iterations: 17\n",
      "         Function evaluations: 3193\n"
     ]
    },
    {
     "name": "stderr",
     "output_type": "stream",
     "text": [
      "\u001b[32m[I 2022-03-09 23:51:34,919]\u001b[0m Trial 40 finished with value: 0.8010619610196594 and parameters: {'p': 5, 'd': 0, 'q': 7, 'P': 0, 'D': 1, 'Q': 2}. Best is trial 0 with value: 0.8062274959957523.\u001b[0m\n"
     ]
    },
    {
     "name": "stdout",
     "output_type": "stream",
     "text": [
      "Optimization terminated successfully.\n",
      "         Current function value: -1.430972\n",
      "         Iterations: 3\n",
      "         Function evaluations: 374\n"
     ]
    },
    {
     "name": "stderr",
     "output_type": "stream",
     "text": [
      "\u001b[32m[I 2022-03-09 23:51:39,307]\u001b[0m Trial 41 finished with value: 0.8047629428120635 and parameters: {'p': 0, 'd': 0, 'q': 5, 'P': 1, 'D': 1, 'Q': 3}. Best is trial 0 with value: 0.8062274959957523.\u001b[0m\n"
     ]
    },
    {
     "name": "stdout",
     "output_type": "stream",
     "text": [
      "Optimization terminated successfully.\n",
      "         Current function value: -1.431019\n",
      "         Iterations: 3\n",
      "         Function evaluations: 407\n"
     ]
    },
    {
     "name": "stderr",
     "output_type": "stream",
     "text": [
      "\u001b[32m[I 2022-03-09 23:51:43,943]\u001b[0m Trial 42 finished with value: 0.804709931050857 and parameters: {'p': 1, 'd': 0, 'q': 5, 'P': 1, 'D': 1, 'Q': 3}. Best is trial 0 with value: 0.8062274959957523.\u001b[0m\n"
     ]
    },
    {
     "name": "stdout",
     "output_type": "stream",
     "text": [
      "Optimization terminated successfully.\n",
      "         Current function value: -1.434011\n",
      "         Iterations: 3\n",
      "         Function evaluations: 340\n"
     ]
    },
    {
     "name": "stderr",
     "output_type": "stream",
     "text": [
      "\u001b[32m[I 2022-03-09 23:51:47,737]\u001b[0m Trial 43 finished with value: 0.8054276542134259 and parameters: {'p': 0, 'd': 0, 'q': 4, 'P': 1, 'D': 1, 'Q': 3}. Best is trial 0 with value: 0.8062274959957523.\u001b[0m\n"
     ]
    },
    {
     "name": "stdout",
     "output_type": "stream",
     "text": [
      "Optimization terminated successfully.\n",
      "         Current function value: -1.434314\n",
      "         Iterations: 3\n",
      "         Function evaluations: 366\n"
     ]
    },
    {
     "name": "stderr",
     "output_type": "stream",
     "text": [
      "\u001b[32m[I 2022-03-09 23:51:51,917]\u001b[0m Trial 44 finished with value: 0.8051826237303299 and parameters: {'p': 1, 'd': 0, 'q': 4, 'P': 1, 'D': 1, 'Q': 3}. Best is trial 0 with value: 0.8062274959957523.\u001b[0m\n"
     ]
    },
    {
     "name": "stdout",
     "output_type": "stream",
     "text": [
      "Optimization terminated successfully.\n",
      "         Current function value: -1.434314\n",
      "         Iterations: 3\n",
      "         Function evaluations: 366\n"
     ]
    },
    {
     "name": "stderr",
     "output_type": "stream",
     "text": [
      "\u001b[32m[I 2022-03-09 23:51:55,949]\u001b[0m Trial 45 finished with value: 0.8051826237303299 and parameters: {'p': 1, 'd': 0, 'q': 4, 'P': 1, 'D': 1, 'Q': 3}. Best is trial 0 with value: 0.8062274959957523.\u001b[0m\n"
     ]
    },
    {
     "name": "stdout",
     "output_type": "stream",
     "text": [
      "Optimization terminated successfully.\n",
      "         Current function value: -1.483908\n",
      "         Iterations: 6\n",
      "         Function evaluations: 851\n"
     ]
    },
    {
     "name": "stderr",
     "output_type": "stream",
     "text": [
      "\u001b[32m[I 2022-03-09 23:52:01,698]\u001b[0m Trial 46 finished with value: 0.8044289524914268 and parameters: {'p': 2, 'd': 0, 'q': 4, 'P': 2, 'D': 1, 'Q': 2}. Best is trial 0 with value: 0.8062274959957523.\u001b[0m\n",
      "\u001b[32m[I 2022-03-09 23:52:02,033]\u001b[0m Trial 47 finished with value: 0.7856694897093323 and parameters: {'p': 1, 'd': 0, 'q': 3, 'P': 1, 'D': 1, 'Q': 0}. Best is trial 0 with value: 0.8062274959957523.\u001b[0m\n"
     ]
    },
    {
     "name": "stdout",
     "output_type": "stream",
     "text": [
      "Optimization terminated successfully.\n",
      "         Current function value: -1.491056\n",
      "         Iterations: 2\n",
      "         Function evaluations: 153\n",
      "Optimization terminated successfully.\n",
      "         Current function value: -1.428696\n",
      "         Iterations: 4\n",
      "         Function evaluations: 541\n"
     ]
    },
    {
     "name": "stderr",
     "output_type": "stream",
     "text": [
      "\u001b[32m[I 2022-03-09 23:52:08,293]\u001b[0m Trial 48 finished with value: 0.8031478595598536 and parameters: {'p': 3, 'd': 0, 'q': 4, 'P': 0, 'D': 1, 'Q': 3}. Best is trial 0 with value: 0.8062274959957523.\u001b[0m\n"
     ]
    },
    {
     "name": "stdout",
     "output_type": "stream",
     "text": [
      "Optimization terminated successfully.\n",
      "         Current function value: -1.443341\n",
      "         Iterations: 8\n",
      "         Function evaluations: 1027\n"
     ]
    },
    {
     "name": "stderr",
     "output_type": "stream",
     "text": [
      "\u001b[32m[I 2022-03-09 23:52:18,683]\u001b[0m Trial 49 finished with value: 0.8037409227414143 and parameters: {'p': 2, 'd': 0, 'q': 3, 'P': 2, 'D': 1, 'Q': 3}. Best is trial 0 with value: 0.8062274959957523.\u001b[0m\n",
      "\u001b[32m[I 2022-03-09 23:52:18,731]\u001b[0m A new study created in memory with name: no-name-da32252a-b8ba-454e-a9ef-f42606193c29\u001b[0m\n"
     ]
    },
    {
     "name": "stdout",
     "output_type": "stream",
     "text": [
      "Optimization terminated successfully.\n",
      "         Current function value: -1.407176\n",
      "         Iterations: 11\n",
      "         Function evaluations: 2911\n"
     ]
    },
    {
     "name": "stderr",
     "output_type": "stream",
     "text": [
      "\u001b[32m[I 2022-03-09 23:52:47,822]\u001b[0m Trial 0 finished with value: 0.6475543100466425 and parameters: {'p': 7, 'd': 1, 'q': 8, 'P': 3, 'D': 0, 'Q': 3}. Best is trial 0 with value: 0.6475543100466425.\u001b[0m\n",
      "\u001b[32m[I 2022-03-09 23:52:56,972]\u001b[0m Trial 1 finished with value: 0.677975272205863 and parameters: {'p': 6, 'd': 1, 'q': 4, 'P': 1, 'D': 1, 'Q': 0}. Best is trial 1 with value: 0.677975272205863.\u001b[0m\n"
     ]
    },
    {
     "name": "stdout",
     "output_type": "stream",
     "text": [
      "Optimization terminated successfully.\n",
      "         Current function value: -1.357535\n",
      "         Iterations: 9\n",
      "         Function evaluations: 1564\n",
      "Optimization terminated successfully.\n",
      "         Current function value: -1.377630\n",
      "         Iterations: 4\n",
      "         Function evaluations: 386\n"
     ]
    },
    {
     "name": "stderr",
     "output_type": "stream",
     "text": [
      "\u001b[32m[I 2022-03-09 23:53:01,188]\u001b[0m Trial 2 finished with value: 0.6533189051134458 and parameters: {'p': 1, 'd': 0, 'q': 2, 'P': 0, 'D': 1, 'Q': 3}. Best is trial 1 with value: 0.677975272205863.\u001b[0m\n",
      "\u001b[32m[I 2022-03-09 23:53:11,341]\u001b[0m Trial 3 finished with value: 0.6185613671597732 and parameters: {'p': 6, 'd': 1, 'q': 3, 'P': 0, 'D': 1, 'Q': 1}. Best is trial 1 with value: 0.677975272205863.\u001b[0m\n"
     ]
    },
    {
     "name": "stdout",
     "output_type": "stream",
     "text": [
      "Optimization terminated successfully.\n",
      "         Current function value: -1.478290\n",
      "         Iterations: 12\n",
      "         Function evaluations: 1707\n"
     ]
    },
    {
     "name": "stderr",
     "output_type": "stream",
     "text": [
      "\u001b[32m[I 2022-03-09 23:53:16,409]\u001b[0m Trial 4 finished with value: 0.6305479088049377 and parameters: {'p': 8, 'd': 1, 'q': 2, 'P': 0, 'D': 1, 'Q': 1}. Best is trial 1 with value: 0.677975272205863.\u001b[0m\n"
     ]
    },
    {
     "name": "stdout",
     "output_type": "stream",
     "text": [
      "Optimization terminated successfully.\n",
      "         Current function value: -1.477959\n",
      "         Iterations: 7\n",
      "         Function evaluations: 985\n",
      "Optimization terminated successfully.\n",
      "         Current function value: -1.419928\n",
      "         Iterations: 5\n",
      "         Function evaluations: 858\n"
     ]
    },
    {
     "name": "stderr",
     "output_type": "stream",
     "text": [
      "\u001b[32m[I 2022-03-09 23:53:24,616]\u001b[0m Trial 5 finished with value: 0.643642240763894 and parameters: {'p': 3, 'd': 1, 'q': 5, 'P': 2, 'D': 1, 'Q': 2}. Best is trial 1 with value: 0.677975272205863.\u001b[0m\n",
      "\u001b[32m[I 2022-03-09 23:53:25,073]\u001b[0m Trial 6 finished with value: 0.657009862565291 and parameters: {'p': 0, 'd': 0, 'q': 3, 'P': 2, 'D': 1, 'Q': 0}. Best is trial 1 with value: 0.677975272205863.\u001b[0m\n"
     ]
    },
    {
     "name": "stdout",
     "output_type": "stream",
     "text": [
      "Optimization terminated successfully.\n",
      "         Current function value: -1.381377\n",
      "         Iterations: 2\n",
      "         Function evaluations: 149\n"
     ]
    },
    {
     "name": "stderr",
     "output_type": "stream",
     "text": [
      "\u001b[32m[I 2022-03-09 23:53:26,662]\u001b[0m Trial 7 finished with value: 0.08211241247867407 and parameters: {'p': 7, 'd': 0, 'q': 6, 'P': 0, 'D': 0, 'Q': 1}. Best is trial 1 with value: 0.677975272205863.\u001b[0m\n"
     ]
    },
    {
     "name": "stdout",
     "output_type": "stream",
     "text": [
      "Optimization terminated successfully.\n",
      "         Current function value: -1.342911\n",
      "         Iterations: 3\n",
      "         Function evaluations: 604\n",
      "Optimization terminated successfully.\n",
      "         Current function value: -1.430430\n",
      "         Iterations: 7\n",
      "         Function evaluations: 855\n"
     ]
    },
    {
     "name": "stderr",
     "output_type": "stream",
     "text": [
      "\u001b[32m[I 2022-03-09 23:53:32,457]\u001b[0m Trial 8 finished with value: 0.5977403441997868 and parameters: {'p': 1, 'd': 1, 'q': 3, 'P': 3, 'D': 0, 'Q': 1}. Best is trial 1 with value: 0.677975272205863.\u001b[0m\n"
     ]
    },
    {
     "name": "stdout",
     "output_type": "stream",
     "text": [
      "Optimization terminated successfully.\n",
      "         Current function value: -1.281155\n",
      "         Iterations: 5\n",
      "         Function evaluations: 846\n"
     ]
    },
    {
     "name": "stderr",
     "output_type": "stream",
     "text": [
      "\u001b[32m[I 2022-03-09 23:53:38,169]\u001b[0m Trial 9 finished with value: 0.23074923651242696 and parameters: {'p': 1, 'd': 1, 'q': 6, 'P': 0, 'D': 0, 'Q': 3}. Best is trial 1 with value: 0.677975272205863.\u001b[0m\n",
      "\u001b[32m[I 2022-03-09 23:53:38,476]\u001b[0m Trial 10 finished with value: 0.6816978370704987 and parameters: {'p': 4, 'd': 0, 'q': 0, 'P': 1, 'D': 1, 'Q': 0}. Best is trial 10 with value: 0.6816978370704987.\u001b[0m\n"
     ]
    },
    {
     "name": "stdout",
     "output_type": "stream",
     "text": [
      "Optimization terminated successfully.\n",
      "         Current function value: -1.372166\n",
      "         Iterations: 2\n",
      "         Function evaluations: 150\n"
     ]
    },
    {
     "name": "stderr",
     "output_type": "stream",
     "text": [
      "\u001b[32m[I 2022-03-09 23:53:38,826]\u001b[0m Trial 11 finished with value: 0.6816978370704987 and parameters: {'p': 4, 'd': 0, 'q': 0, 'P': 1, 'D': 1, 'Q': 0}. Best is trial 10 with value: 0.6816978370704987.\u001b[0m\n"
     ]
    },
    {
     "name": "stdout",
     "output_type": "stream",
     "text": [
      "Optimization terminated successfully.\n",
      "         Current function value: -1.372166\n",
      "         Iterations: 2\n",
      "         Function evaluations: 150\n"
     ]
    },
    {
     "name": "stderr",
     "output_type": "stream",
     "text": [
      "\u001b[32m[I 2022-03-09 23:53:39,123]\u001b[0m Trial 12 finished with value: 0.6816978370704987 and parameters: {'p': 4, 'd': 0, 'q': 0, 'P': 1, 'D': 1, 'Q': 0}. Best is trial 10 with value: 0.6816978370704987.\u001b[0m\n"
     ]
    },
    {
     "name": "stdout",
     "output_type": "stream",
     "text": [
      "Optimization terminated successfully.\n",
      "         Current function value: -1.372166\n",
      "         Iterations: 2\n",
      "         Function evaluations: 150\n"
     ]
    },
    {
     "name": "stderr",
     "output_type": "stream",
     "text": [
      "\u001b[32m[I 2022-03-09 23:53:39,376]\u001b[0m Trial 13 finished with value: 0.6817607063871832 and parameters: {'p': 3, 'd': 0, 'q': 0, 'P': 1, 'D': 1, 'Q': 0}. Best is trial 13 with value: 0.6817607063871832.\u001b[0m\n"
     ]
    },
    {
     "name": "stdout",
     "output_type": "stream",
     "text": [
      "Optimization terminated successfully.\n",
      "         Current function value: -1.376332\n",
      "         Iterations: 2\n",
      "         Function evaluations: 127\n"
     ]
    },
    {
     "name": "stderr",
     "output_type": "stream",
     "text": [
      "\u001b[32m[I 2022-03-09 23:53:45,952]\u001b[0m Trial 14 finished with value: 0.6591184939262625 and parameters: {'p': 3, 'd': 0, 'q': 1, 'P': 2, 'D': 1, 'Q': 2}. Best is trial 13 with value: 0.6817607063871832.\u001b[0m\n"
     ]
    },
    {
     "name": "stdout",
     "output_type": "stream",
     "text": [
      "Optimization terminated successfully.\n",
      "         Current function value: -1.432994\n",
      "         Iterations: 8\n",
      "         Function evaluations: 840\n"
     ]
    },
    {
     "name": "stderr",
     "output_type": "stream",
     "text": [
      "\u001b[32m[I 2022-03-09 23:53:46,307]\u001b[0m Trial 15 finished with value: 0.6817607063871832 and parameters: {'p': 3, 'd': 0, 'q': 0, 'P': 1, 'D': 1, 'Q': 0}. Best is trial 13 with value: 0.6817607063871832.\u001b[0m\n"
     ]
    },
    {
     "name": "stdout",
     "output_type": "stream",
     "text": [
      "Optimization terminated successfully.\n",
      "         Current function value: -1.376332\n",
      "         Iterations: 2\n",
      "         Function evaluations: 127\n"
     ]
    },
    {
     "name": "stderr",
     "output_type": "stream",
     "text": [
      "\u001b[32m[I 2022-03-09 23:53:46,645]\u001b[0m Trial 16 finished with value: 0.6817353803584169 and parameters: {'p': 2, 'd': 0, 'q': 1, 'P': 1, 'D': 1, 'Q': 0}. Best is trial 13 with value: 0.6817607063871832.\u001b[0m\n"
     ]
    },
    {
     "name": "stdout",
     "output_type": "stream",
     "text": [
      "Optimization terminated successfully.\n",
      "         Current function value: -1.381053\n",
      "         Iterations: 2\n",
      "         Function evaluations: 130\n"
     ]
    },
    {
     "name": "stderr",
     "output_type": "stream",
     "text": [
      "\u001b[32m[I 2022-03-09 23:53:49,328]\u001b[0m Trial 17 finished with value: 0.6243378313997596 and parameters: {'p': 5, 'd': 0, 'q': 1, 'P': 2, 'D': 0, 'Q': 2}. Best is trial 13 with value: 0.6817607063871832.\u001b[0m\n"
     ]
    },
    {
     "name": "stdout",
     "output_type": "stream",
     "text": [
      "Optimization terminated successfully.\n",
      "         Current function value: -1.480286\n",
      "         Iterations: 4\n",
      "         Function evaluations: 496\n"
     ]
    },
    {
     "name": "stderr",
     "output_type": "stream",
     "text": [
      "\u001b[32m[I 2022-03-09 23:53:52,540]\u001b[0m Trial 18 finished with value: 0.6637906493481265 and parameters: {'p': 3, 'd': 0, 'q': 2, 'P': 1, 'D': 1, 'Q': 1}. Best is trial 13 with value: 0.6817607063871832.\u001b[0m\n"
     ]
    },
    {
     "name": "stdout",
     "output_type": "stream",
     "text": [
      "Optimization terminated successfully.\n",
      "         Current function value: -1.475250\n",
      "         Iterations: 7\n",
      "         Function evaluations: 690\n"
     ]
    },
    {
     "name": "stderr",
     "output_type": "stream",
     "text": [
      "\u001b[32m[I 2022-03-09 23:53:52,957]\u001b[0m Trial 19 finished with value: 0.6567366968244831 and parameters: {'p': 2, 'd': 0, 'q': 0, 'P': 2, 'D': 1, 'Q': 0}. Best is trial 13 with value: 0.6817607063871832.\u001b[0m\n"
     ]
    },
    {
     "name": "stdout",
     "output_type": "stream",
     "text": [
      "Optimization terminated successfully.\n",
      "         Current function value: -1.370525\n",
      "         Iterations: 2\n",
      "         Function evaluations: 119\n"
     ]
    },
    {
     "name": "stderr",
     "output_type": "stream",
     "text": [
      "\u001b[32m[I 2022-03-09 23:54:04,163]\u001b[0m Trial 20 finished with value: 0.6351144897113039 and parameters: {'p': 5, 'd': 0, 'q': 8, 'P': 1, 'D': 0, 'Q': 1}. Best is trial 13 with value: 0.6817607063871832.\u001b[0m\n"
     ]
    },
    {
     "name": "stdout",
     "output_type": "stream",
     "text": [
      "Optimization terminated successfully.\n",
      "         Current function value: -1.509573\n",
      "         Iterations: 13\n",
      "         Function evaluations: 2620\n"
     ]
    },
    {
     "name": "stderr",
     "output_type": "stream",
     "text": [
      "\u001b[32m[I 2022-03-09 23:54:04,443]\u001b[0m Trial 21 finished with value: 0.6817353803584169 and parameters: {'p': 2, 'd': 0, 'q': 1, 'P': 1, 'D': 1, 'Q': 0}. Best is trial 13 with value: 0.6817607063871832.\u001b[0m\n"
     ]
    },
    {
     "name": "stdout",
     "output_type": "stream",
     "text": [
      "Optimization terminated successfully.\n",
      "         Current function value: -1.381053\n",
      "         Iterations: 2\n",
      "         Function evaluations: 130\n"
     ]
    },
    {
     "name": "stderr",
     "output_type": "stream",
     "text": [
      "\u001b[32m[I 2022-03-09 23:54:04,720]\u001b[0m Trial 22 finished with value: 0.6817353803584169 and parameters: {'p': 2, 'd': 0, 'q': 1, 'P': 1, 'D': 1, 'Q': 0}. Best is trial 13 with value: 0.6817607063871832.\u001b[0m\n",
      "\u001b[32m[I 2022-03-09 23:54:04,822]\u001b[0m Trial 23 finished with value: 0.6806049494668338 and parameters: {'p': 0, 'd': 0, 'q': 0, 'P': 1, 'D': 1, 'Q': 0}. Best is trial 13 with value: 0.6817607063871832.\u001b[0m\n"
     ]
    },
    {
     "name": "stdout",
     "output_type": "stream",
     "text": [
      "Optimization terminated successfully.\n",
      "         Current function value: -1.381053\n",
      "         Iterations: 2\n",
      "         Function evaluations: 130\n",
      "Optimization terminated successfully.\n",
      "         Current function value: -1.382083\n",
      "         Iterations: 1\n",
      "         Function evaluations: 43\n"
     ]
    },
    {
     "name": "stderr",
     "output_type": "stream",
     "text": [
      "\u001b[32m[I 2022-03-09 23:54:05,404]\u001b[0m Trial 24 finished with value: 0.6568855015821016 and parameters: {'p': 3, 'd': 0, 'q': 1, 'P': 2, 'D': 1, 'Q': 0}. Best is trial 13 with value: 0.6817607063871832.\u001b[0m\n"
     ]
    },
    {
     "name": "stdout",
     "output_type": "stream",
     "text": [
      "Optimization terminated successfully.\n",
      "         Current function value: -1.365153\n",
      "         Iterations: 2\n",
      "         Function evaluations: 174\n"
     ]
    },
    {
     "name": "stderr",
     "output_type": "stream",
     "text": [
      "\u001b[32m[I 2022-03-09 23:54:07,124]\u001b[0m Trial 25 finished with value: 0.6630002135989391 and parameters: {'p': 2, 'd': 0, 'q': 2, 'P': 1, 'D': 1, 'Q': 1}. Best is trial 13 with value: 0.6817607063871832.\u001b[0m\n"
     ]
    },
    {
     "name": "stdout",
     "output_type": "stream",
     "text": [
      "Optimization terminated successfully.\n",
      "         Current function value: -1.475827\n",
      "         Iterations: 4\n",
      "         Function evaluations: 372\n"
     ]
    },
    {
     "name": "stderr",
     "output_type": "stream",
     "text": [
      "\u001b[32m[I 2022-03-09 23:54:07,312]\u001b[0m Trial 26 finished with value: 0.6983348323035307 and parameters: {'p': 4, 'd': 0, 'q': 0, 'P': 0, 'D': 1, 'Q': 0}. Best is trial 26 with value: 0.6983348323035307.\u001b[0m\n"
     ]
    },
    {
     "name": "stdout",
     "output_type": "stream",
     "text": [
      "Optimization terminated successfully.\n",
      "         Current function value: -1.273219\n",
      "         Iterations: 1\n",
      "         Function evaluations: 188\n"
     ]
    },
    {
     "name": "stderr",
     "output_type": "stream",
     "text": [
      "\u001b[32m[I 2022-03-09 23:54:08,494]\u001b[0m Trial 27 finished with value: 0.67352166146488 and parameters: {'p': 5, 'd': 0, 'q': 0, 'P': 0, 'D': 1, 'Q': 1}. Best is trial 26 with value: 0.6983348323035307.\u001b[0m\n"
     ]
    },
    {
     "name": "stdout",
     "output_type": "stream",
     "text": [
      "Optimization terminated successfully.\n",
      "         Current function value: -1.482638\n",
      "         Iterations: 3\n",
      "         Function evaluations: 249\n"
     ]
    },
    {
     "name": "stderr",
     "output_type": "stream",
     "text": [
      "\u001b[32m[I 2022-03-09 23:54:12,342]\u001b[0m Trial 28 finished with value: 0.6831533749145022 and parameters: {'p': 4, 'd': 0, 'q': 4, 'P': 0, 'D': 1, 'Q': 0}. Best is trial 26 with value: 0.6983348323035307.\u001b[0m\n"
     ]
    },
    {
     "name": "stdout",
     "output_type": "stream",
     "text": [
      "Optimization terminated successfully.\n",
      "         Current function value: -1.292056\n",
      "         Iterations: 10\n",
      "         Function evaluations: 1236\n"
     ]
    },
    {
     "name": "stderr",
     "output_type": "stream",
     "text": [
      "\u001b[32m[I 2022-03-09 23:54:16,974]\u001b[0m Trial 29 finished with value: 0.16777311530646877 and parameters: {'p': 6, 'd': 0, 'q': 8, 'P': 0, 'D': 0, 'Q': 2}. Best is trial 26 with value: 0.6983348323035307.\u001b[0m\n"
     ]
    },
    {
     "name": "stdout",
     "output_type": "stream",
     "text": [
      "Optimization terminated successfully.\n",
      "         Current function value: -1.333965\n",
      "         Iterations: 4\n",
      "         Function evaluations: 988\n",
      "Optimization terminated successfully.\n",
      "         Current function value: -1.367838\n",
      "         Iterations: 4\n",
      "         Function evaluations: 725\n"
     ]
    },
    {
     "name": "stderr",
     "output_type": "stream",
     "text": [
      "\u001b[32m[I 2022-03-09 23:54:20,917]\u001b[0m Trial 30 finished with value: 0.6419103923065221 and parameters: {'p': 5, 'd': 0, 'q': 7, 'P': 3, 'D': 1, 'Q': 0}. Best is trial 26 with value: 0.6983348323035307.\u001b[0m\n",
      "\u001b[32m[I 2022-03-09 23:54:22,956]\u001b[0m Trial 31 finished with value: 0.6990038829133738 and parameters: {'p': 4, 'd': 0, 'q': 5, 'P': 0, 'D': 1, 'Q': 0}. Best is trial 31 with value: 0.6990038829133738.\u001b[0m\n"
     ]
    },
    {
     "name": "stdout",
     "output_type": "stream",
     "text": [
      "Optimization terminated successfully.\n",
      "         Current function value: -1.276547\n",
      "         Iterations: 12\n",
      "         Function evaluations: 1442\n"
     ]
    },
    {
     "name": "stderr",
     "output_type": "stream",
     "text": [
      "\u001b[32m[I 2022-03-09 23:54:25,345]\u001b[0m Trial 32 finished with value: 0.6990038829133738 and parameters: {'p': 4, 'd': 0, 'q': 5, 'P': 0, 'D': 1, 'Q': 0}. Best is trial 31 with value: 0.6990038829133738.\u001b[0m\n"
     ]
    },
    {
     "name": "stdout",
     "output_type": "stream",
     "text": [
      "Optimization terminated successfully.\n",
      "         Current function value: -1.276547\n",
      "         Iterations: 12\n",
      "         Function evaluations: 1442\n"
     ]
    },
    {
     "name": "stderr",
     "output_type": "stream",
     "text": [
      "\u001b[32m[I 2022-03-09 23:54:27,449]\u001b[0m Trial 33 finished with value: 0.6990038829133738 and parameters: {'p': 4, 'd': 0, 'q': 5, 'P': 0, 'D': 1, 'Q': 0}. Best is trial 31 with value: 0.6990038829133738.\u001b[0m\n"
     ]
    },
    {
     "name": "stdout",
     "output_type": "stream",
     "text": [
      "Optimization terminated successfully.\n",
      "         Current function value: -1.276547\n",
      "         Iterations: 12\n",
      "         Function evaluations: 1442\n"
     ]
    },
    {
     "name": "stderr",
     "output_type": "stream",
     "text": [
      "\u001b[32m[I 2022-03-09 23:54:29,534]\u001b[0m Trial 34 finished with value: 0.6990038829133738 and parameters: {'p': 4, 'd': 0, 'q': 5, 'P': 0, 'D': 1, 'Q': 0}. Best is trial 31 with value: 0.6990038829133738.\u001b[0m\n"
     ]
    },
    {
     "name": "stdout",
     "output_type": "stream",
     "text": [
      "Optimization terminated successfully.\n",
      "         Current function value: -1.276547\n",
      "         Iterations: 12\n",
      "         Function evaluations: 1442\n",
      "Optimization terminated successfully.\n",
      "         Current function value: -1.464166\n",
      "         Iterations: 9\n",
      "         Function evaluations: 1525\n"
     ]
    },
    {
     "name": "stderr",
     "output_type": "stream",
     "text": [
      "\u001b[32m[I 2022-03-09 23:54:39,011]\u001b[0m Trial 35 finished with value: 0.6320781621392095 and parameters: {'p': 6, 'd': 1, 'q': 5, 'P': 0, 'D': 1, 'Q': 1}. Best is trial 31 with value: 0.6990038829133738.\u001b[0m\n"
     ]
    },
    {
     "name": "stdout",
     "output_type": "stream",
     "text": [
      "Optimization terminated successfully.\n",
      "         Current function value: -1.367802\n",
      "         Iterations: 16\n",
      "         Function evaluations: 2829\n"
     ]
    },
    {
     "name": "stderr",
     "output_type": "stream",
     "text": [
      "\u001b[32m[I 2022-03-09 23:55:09,470]\u001b[0m Trial 36 finished with value: 0.6495135813328952 and parameters: {'p': 5, 'd': 0, 'q': 5, 'P': 0, 'D': 1, 'Q': 3}. Best is trial 31 with value: 0.6990038829133738.\u001b[0m\n",
      "\u001b[32m[I 2022-03-09 23:55:13,269]\u001b[0m Trial 37 finished with value: 0.6831533749145022 and parameters: {'p': 4, 'd': 0, 'q': 4, 'P': 0, 'D': 1, 'Q': 0}. Best is trial 31 with value: 0.6990038829133738.\u001b[0m\n"
     ]
    },
    {
     "name": "stdout",
     "output_type": "stream",
     "text": [
      "Optimization terminated successfully.\n",
      "         Current function value: -1.292056\n",
      "         Iterations: 10\n",
      "         Function evaluations: 1236\n",
      "Optimization terminated successfully.\n",
      "         Current function value: -1.474056\n",
      "         Iterations: 12\n",
      "         Function evaluations: 2197\n"
     ]
    },
    {
     "name": "stderr",
     "output_type": "stream",
     "text": [
      "\u001b[32m[I 2022-03-09 23:55:25,559]\u001b[0m Trial 38 finished with value: 0.6146425384063527 and parameters: {'p': 7, 'd': 1, 'q': 6, 'P': 0, 'D': 1, 'Q': 1}. Best is trial 31 with value: 0.6990038829133738.\u001b[0m\n",
      "\u001b[32m[I 2022-03-09 23:55:32,381]\u001b[0m Trial 39 finished with value: 0.6800066568377618 and parameters: {'p': 5, 'd': 0, 'q': 5, 'P': 0, 'D': 1, 'Q': 0}. Best is trial 31 with value: 0.6990038829133738.\u001b[0m\n"
     ]
    },
    {
     "name": "stdout",
     "output_type": "stream",
     "text": [
      "Optimization terminated successfully.\n",
      "         Current function value: -1.314714\n",
      "         Iterations: 16\n",
      "         Function evaluations: 2354\n",
      "Optimization terminated successfully.\n",
      "         Current function value: -1.476592\n",
      "         Iterations: 14\n",
      "         Function evaluations: 2614\n"
     ]
    },
    {
     "name": "stderr",
     "output_type": "stream",
     "text": [
      "\u001b[32m[I 2022-03-09 23:55:46,592]\u001b[0m Trial 40 finished with value: 0.6202679665937478 and parameters: {'p': 8, 'd': 1, 'q': 6, 'P': 0, 'D': 1, 'Q': 1}. Best is trial 31 with value: 0.6990038829133738.\u001b[0m\n",
      "\u001b[32m[I 2022-03-09 23:55:50,426]\u001b[0m Trial 41 finished with value: 0.6831533749145022 and parameters: {'p': 4, 'd': 0, 'q': 4, 'P': 0, 'D': 1, 'Q': 0}. Best is trial 31 with value: 0.6990038829133738.\u001b[0m\n"
     ]
    },
    {
     "name": "stdout",
     "output_type": "stream",
     "text": [
      "Optimization terminated successfully.\n",
      "         Current function value: -1.292056\n",
      "         Iterations: 10\n",
      "         Function evaluations: 1236\n"
     ]
    },
    {
     "name": "stderr",
     "output_type": "stream",
     "text": [
      "\u001b[32m[I 2022-03-09 23:55:52,453]\u001b[0m Trial 42 finished with value: 0.6990038829133738 and parameters: {'p': 4, 'd': 0, 'q': 5, 'P': 0, 'D': 1, 'Q': 0}. Best is trial 31 with value: 0.6990038829133738.\u001b[0m\n"
     ]
    },
    {
     "name": "stdout",
     "output_type": "stream",
     "text": [
      "Optimization terminated successfully.\n",
      "         Current function value: -1.276547\n",
      "         Iterations: 12\n",
      "         Function evaluations: 1442\n"
     ]
    },
    {
     "name": "stderr",
     "output_type": "stream",
     "text": [
      "\u001b[32m[I 2022-03-09 23:55:54,473]\u001b[0m Trial 43 finished with value: 0.6990038829133738 and parameters: {'p': 4, 'd': 0, 'q': 5, 'P': 0, 'D': 1, 'Q': 0}. Best is trial 31 with value: 0.6990038829133738.\u001b[0m\n"
     ]
    },
    {
     "name": "stdout",
     "output_type": "stream",
     "text": [
      "Optimization terminated successfully.\n",
      "         Current function value: -1.276547\n",
      "         Iterations: 12\n",
      "         Function evaluations: 1442\n"
     ]
    },
    {
     "name": "stderr",
     "output_type": "stream",
     "text": [
      "\u001b[32m[I 2022-03-09 23:56:00,350]\u001b[0m Trial 44 finished with value: 0.6670908541823514 and parameters: {'p': 3, 'd': 0, 'q': 7, 'P': 0, 'D': 1, 'Q': 0}. Best is trial 31 with value: 0.6990038829133738.\u001b[0m\n"
     ]
    },
    {
     "name": "stdout",
     "output_type": "stream",
     "text": [
      "Optimization terminated successfully.\n",
      "         Current function value: -1.309168\n",
      "         Iterations: 13\n",
      "         Function evaluations: 1896\n"
     ]
    },
    {
     "name": "stderr",
     "output_type": "stream",
     "text": [
      "\u001b[32m[I 2022-03-09 23:56:10,006]\u001b[0m Trial 45 finished with value: 0.6898704594703202 and parameters: {'p': 6, 'd': 0, 'q': 4, 'P': 0, 'D': 1, 'Q': 0}. Best is trial 31 with value: 0.6990038829133738.\u001b[0m\n"
     ]
    },
    {
     "name": "stdout",
     "output_type": "stream",
     "text": [
      "Optimization terminated successfully.\n",
      "         Current function value: -1.280280\n",
      "         Iterations: 21\n",
      "         Function evaluations: 2986\n"
     ]
    },
    {
     "name": "stderr",
     "output_type": "stream",
     "text": [
      "\u001b[32m[I 2022-03-09 23:56:14,785]\u001b[0m Trial 46 finished with value: 0.672994979131188 and parameters: {'p': 4, 'd': 0, 'q': 6, 'P': 0, 'D': 1, 'Q': 0}. Best is trial 31 with value: 0.6990038829133738.\u001b[0m\n"
     ]
    },
    {
     "name": "stdout",
     "output_type": "stream",
     "text": [
      "Optimization terminated successfully.\n",
      "         Current function value: -1.307022\n",
      "         Iterations: 11\n",
      "         Function evaluations: 1553\n"
     ]
    },
    {
     "name": "stderr",
     "output_type": "stream",
     "text": [
      "\u001b[32m[I 2022-03-09 23:56:21,278]\u001b[0m Trial 47 finished with value: 0.6800066568377618 and parameters: {'p': 5, 'd': 0, 'q': 5, 'P': 0, 'D': 1, 'Q': 0}. Best is trial 31 with value: 0.6990038829133738.\u001b[0m\n"
     ]
    },
    {
     "name": "stdout",
     "output_type": "stream",
     "text": [
      "Optimization terminated successfully.\n",
      "         Current function value: -1.314714\n",
      "         Iterations: 16\n",
      "         Function evaluations: 2354\n"
     ]
    },
    {
     "name": "stderr",
     "output_type": "stream",
     "text": [
      "\u001b[32m[I 2022-03-09 23:56:23,371]\u001b[0m Trial 48 finished with value: 0.6723909037981124 and parameters: {'p': 3, 'd': 0, 'q': 3, 'P': 0, 'D': 1, 'Q': 1}. Best is trial 31 with value: 0.6990038829133738.\u001b[0m\n"
     ]
    },
    {
     "name": "stdout",
     "output_type": "stream",
     "text": [
      "Optimization terminated successfully.\n",
      "         Current function value: -1.471601\n",
      "         Iterations: 4\n",
      "         Function evaluations: 428\n"
     ]
    },
    {
     "name": "stderr",
     "output_type": "stream",
     "text": [
      "\u001b[32m[I 2022-03-09 23:56:24,349]\u001b[0m Trial 49 finished with value: -0.0995199200392134 and parameters: {'p': 4, 'd': 0, 'q': 7, 'P': 0, 'D': 0, 'Q': 0}. Best is trial 31 with value: 0.6990038829133738.\u001b[0m\n",
      "\u001b[32m[I 2022-03-09 23:56:24,377]\u001b[0m A new study created in memory with name: no-name-b78e5cc8-6e1e-4755-b56d-4834b3bae835\u001b[0m\n"
     ]
    },
    {
     "name": "stdout",
     "output_type": "stream",
     "text": [
      "Optimization terminated successfully.\n",
      "         Current function value: -1.339736\n",
      "         Iterations: 11\n",
      "         Function evaluations: 1761\n",
      "Warning: Maximum number of iterations has been exceeded.\n"
     ]
    },
    {
     "name": "stderr",
     "output_type": "stream",
     "text": [
      "/home/elasive/miniconda3/envs/SERF/lib/python3.7/site-packages/statsmodels/base/model.py:606: ConvergenceWarning: Maximum Likelihood optimization failed to converge. Check mle_retvals\n",
      "  ConvergenceWarning)\n",
      "\u001b[32m[I 2022-03-09 23:57:37,265]\u001b[0m Trial 0 finished with value: 0.7085256479533967 and parameters: {'p': 8, 'd': 0, 'q': 4, 'P': 1, 'D': 1, 'Q': 2}. Best is trial 0 with value: 0.7085256479533967.\u001b[0m\n",
      "\u001b[32m[I 2022-03-09 23:57:46,881]\u001b[0m Trial 1 finished with value: 0.7517451694551773 and parameters: {'p': 7, 'd': 0, 'q': 5, 'P': 1, 'D': 1, 'Q': 0}. Best is trial 1 with value: 0.7517451694551773.\u001b[0m\n"
     ]
    },
    {
     "name": "stdout",
     "output_type": "stream",
     "text": [
      "Optimization terminated successfully.\n",
      "         Current function value: -1.403459\n",
      "         Iterations: 17\n",
      "         Function evaluations: 2967\n",
      "Optimization terminated successfully.\n",
      "         Current function value: -1.416803\n",
      "         Iterations: 15\n",
      "         Function evaluations: 2756\n"
     ]
    },
    {
     "name": "stderr",
     "output_type": "stream",
     "text": [
      "\u001b[32m[I 2022-03-09 23:58:10,012]\u001b[0m Trial 2 finished with value: 0.7347383093790514 and parameters: {'p': 2, 'd': 1, 'q': 6, 'P': 1, 'D': 0, 'Q': 3}. Best is trial 1 with value: 0.7517451694551773.\u001b[0m\n"
     ]
    },
    {
     "name": "stdout",
     "output_type": "stream",
     "text": [
      "Optimization terminated successfully.\n",
      "         Current function value: -1.441223\n",
      "         Iterations: 6\n",
      "         Function evaluations: 1121\n"
     ]
    },
    {
     "name": "stderr",
     "output_type": "stream",
     "text": [
      "\u001b[32m[I 2022-03-09 23:58:20,910]\u001b[0m Trial 3 finished with value: 0.7242061745785316 and parameters: {'p': 2, 'd': 0, 'q': 6, 'P': 3, 'D': 0, 'Q': 3}. Best is trial 1 with value: 0.7517451694551773.\u001b[0m\n",
      "\u001b[32m[I 2022-03-09 23:58:27,448]\u001b[0m Trial 4 finished with value: 0.721682601146162 and parameters: {'p': 2, 'd': 0, 'q': 4, 'P': 2, 'D': 0, 'Q': 2}. Best is trial 1 with value: 0.7517451694551773.\u001b[0m\n"
     ]
    },
    {
     "name": "stdout",
     "output_type": "stream",
     "text": [
      "Optimization terminated successfully.\n",
      "         Current function value: -1.502905\n",
      "         Iterations: 8\n",
      "         Function evaluations: 1079\n",
      "Optimization terminated successfully.\n",
      "         Current function value: -1.388417\n",
      "         Iterations: 9\n",
      "         Function evaluations: 1259\n"
     ]
    },
    {
     "name": "stderr",
     "output_type": "stream",
     "text": [
      "\u001b[32m[I 2022-03-09 23:58:40,883]\u001b[0m Trial 5 finished with value: 0.6917912111646493 and parameters: {'p': 4, 'd': 1, 'q': 3, 'P': 3, 'D': 1, 'Q': 1}. Best is trial 1 with value: 0.7517451694551773.\u001b[0m\n",
      "\u001b[32m[I 2022-03-09 23:58:42,458]\u001b[0m Trial 6 finished with value: 0.7346092517003591 and parameters: {'p': 0, 'd': 0, 'q': 0, 'P': 2, 'D': 1, 'Q': 2}. Best is trial 1 with value: 0.7517451694551773.\u001b[0m\n"
     ]
    },
    {
     "name": "stdout",
     "output_type": "stream",
     "text": [
      "Optimization terminated successfully.\n",
      "         Current function value: -1.457572\n",
      "         Iterations: 3\n",
      "         Function evaluations: 215\n",
      "Optimization terminated successfully.\n",
      "         Current function value: -1.395845\n",
      "         Iterations: 12\n",
      "         Function evaluations: 2341\n"
     ]
    },
    {
     "name": "stderr",
     "output_type": "stream",
     "text": [
      "\u001b[32m[I 2022-03-09 23:59:11,288]\u001b[0m Trial 7 finished with value: 0.7400348604254117 and parameters: {'p': 5, 'd': 0, 'q': 5, 'P': 2, 'D': 1, 'Q': 3}. Best is trial 1 with value: 0.7517451694551773.\u001b[0m\n",
      "\u001b[32m[I 2022-03-09 23:59:13,068]\u001b[0m Trial 8 finished with value: 0.7193317831788792 and parameters: {'p': 3, 'd': 0, 'q': 4, 'P': 2, 'D': 1, 'Q': 0}. Best is trial 1 with value: 0.7517451694551773.\u001b[0m\n"
     ]
    },
    {
     "name": "stdout",
     "output_type": "stream",
     "text": [
      "Optimization terminated successfully.\n",
      "         Current function value: -1.392087\n",
      "         Iterations: 4\n",
      "         Function evaluations: 472\n"
     ]
    },
    {
     "name": "stderr",
     "output_type": "stream",
     "text": [
      "\u001b[32m[I 2022-03-09 23:59:14,341]\u001b[0m Trial 9 finished with value: 0.7163218816562049 and parameters: {'p': 1, 'd': 0, 'q': 1, 'P': 2, 'D': 0, 'Q': 2}. Best is trial 1 with value: 0.7517451694551773.\u001b[0m\n"
     ]
    },
    {
     "name": "stdout",
     "output_type": "stream",
     "text": [
      "Optimization terminated successfully.\n",
      "         Current function value: -1.518867\n",
      "         Iterations: 3\n",
      "         Function evaluations: 253\n"
     ]
    },
    {
     "name": "stderr",
     "output_type": "stream",
     "text": [
      "\u001b[32m[I 2022-03-09 23:59:31,484]\u001b[0m Trial 10 finished with value: 0.7579698022092953 and parameters: {'p': 8, 'd': 1, 'q': 8, 'P': 0, 'D': 1, 'Q': 0}. Best is trial 10 with value: 0.7579698022092953.\u001b[0m\n"
     ]
    },
    {
     "name": "stdout",
     "output_type": "stream",
     "text": [
      "Optimization terminated successfully.\n",
      "         Current function value: -1.362843\n",
      "         Iterations: 21\n",
      "         Function evaluations: 4290\n"
     ]
    },
    {
     "name": "stderr",
     "output_type": "stream",
     "text": [
      "\u001b[32m[I 2022-03-09 23:59:48,454]\u001b[0m Trial 11 finished with value: 0.7579698022092953 and parameters: {'p': 8, 'd': 1, 'q': 8, 'P': 0, 'D': 1, 'Q': 0}. Best is trial 10 with value: 0.7579698022092953.\u001b[0m\n"
     ]
    },
    {
     "name": "stdout",
     "output_type": "stream",
     "text": [
      "Optimization terminated successfully.\n",
      "         Current function value: -1.362843\n",
      "         Iterations: 21\n",
      "         Function evaluations: 4290\n"
     ]
    },
    {
     "name": "stderr",
     "output_type": "stream",
     "text": [
      "\u001b[32m[I 2022-03-10 00:00:03,830]\u001b[0m Trial 12 finished with value: 0.7582384051338736 and parameters: {'p': 6, 'd': 1, 'q': 8, 'P': 0, 'D': 1, 'Q': 0}. Best is trial 12 with value: 0.7582384051338736.\u001b[0m\n"
     ]
    },
    {
     "name": "stdout",
     "output_type": "stream",
     "text": [
      "Optimization terminated successfully.\n",
      "         Current function value: -1.326278\n",
      "         Iterations: 21\n",
      "         Function evaluations: 3905\n",
      "Optimization terminated successfully.\n",
      "         Current function value: -1.502962\n",
      "         Iterations: 23\n",
      "         Function evaluations: 4641\n"
     ]
    },
    {
     "name": "stderr",
     "output_type": "stream",
     "text": [
      "\u001b[32m[I 2022-03-10 00:00:33,415]\u001b[0m Trial 13 finished with value: 0.6960354877611612 and parameters: {'p': 6, 'd': 1, 'q': 8, 'P': 0, 'D': 1, 'Q': 1}. Best is trial 12 with value: 0.7582384051338736.\u001b[0m\n"
     ]
    },
    {
     "name": "stdout",
     "output_type": "stream",
     "text": [
      "Optimization terminated successfully.\n",
      "         Current function value: -1.487205\n",
      "         Iterations: 4\n",
      "         Function evaluations: 694\n"
     ]
    },
    {
     "name": "stderr",
     "output_type": "stream",
     "text": [
      "\u001b[32m[I 2022-03-10 00:00:37,903]\u001b[0m Trial 14 finished with value: 0.7107587990566973 and parameters: {'p': 6, 'd': 1, 'q': 7, 'P': 0, 'D': 1, 'Q': 1}. Best is trial 12 with value: 0.7582384051338736.\u001b[0m\n",
      "\u001b[32m[I 2022-03-10 00:01:02,504]\u001b[0m Trial 15 finished with value: 0.772673243516034 and parameters: {'p': 7, 'd': 1, 'q': 8, 'P': 0, 'D': 1, 'Q': 0}. Best is trial 15 with value: 0.772673243516034.\u001b[0m\n"
     ]
    },
    {
     "name": "stdout",
     "output_type": "stream",
     "text": [
      "Optimization terminated successfully.\n",
      "         Current function value: -1.369319\n",
      "         Iterations: 31\n",
      "         Function evaluations: 6162\n",
      "Optimization terminated successfully.\n",
      "         Current function value: -1.487205\n",
      "         Iterations: 4\n",
      "         Function evaluations: 694\n"
     ]
    },
    {
     "name": "stderr",
     "output_type": "stream",
     "text": [
      "\u001b[32m[I 2022-03-10 00:01:07,666]\u001b[0m Trial 16 finished with value: 0.7107587990566973 and parameters: {'p': 6, 'd': 1, 'q': 7, 'P': 0, 'D': 1, 'Q': 1}. Best is trial 15 with value: 0.772673243516034.\u001b[0m\n",
      "\u001b[32m[I 2022-03-10 00:01:10,447]\u001b[0m Trial 17 finished with value: 0.39968570805111026 and parameters: {'p': 5, 'd': 1, 'q': 2, 'P': 1, 'D': 0, 'Q': 0}. Best is trial 15 with value: 0.772673243516034.\u001b[0m\n"
     ]
    },
    {
     "name": "stdout",
     "output_type": "stream",
     "text": [
      "Optimization terminated successfully.\n",
      "         Current function value: -1.366249\n",
      "         Iterations: 7\n",
      "         Function evaluations: 734\n"
     ]
    },
    {
     "name": "stderr",
     "output_type": "stream",
     "text": [
      "\u001b[32m[I 2022-03-10 00:01:15,931]\u001b[0m Trial 18 finished with value: 0.7581664092234378 and parameters: {'p': 7, 'd': 1, 'q': 7, 'P': 0, 'D': 1, 'Q': 0}. Best is trial 15 with value: 0.772673243516034.\u001b[0m\n"
     ]
    },
    {
     "name": "stdout",
     "output_type": "stream",
     "text": [
      "Optimization terminated successfully.\n",
      "         Current function value: -1.282956\n",
      "         Iterations: 7\n",
      "         Function evaluations: 1252\n",
      "Optimization terminated successfully.\n",
      "         Current function value: -1.485030\n",
      "         Iterations: 6\n",
      "         Function evaluations: 1065\n"
     ]
    },
    {
     "name": "stderr",
     "output_type": "stream",
     "text": [
      "\u001b[32m[I 2022-03-10 00:01:22,567]\u001b[0m Trial 19 finished with value: 0.6983997441994876 and parameters: {'p': 4, 'd': 1, 'q': 6, 'P': 1, 'D': 1, 'Q': 1}. Best is trial 15 with value: 0.772673243516034.\u001b[0m\n",
      "\u001b[32m[I 2022-03-10 00:01:23,880]\u001b[0m Trial 20 finished with value: 0.7252348196738002 and parameters: {'p': 7, 'd': 1, 'q': 8, 'P': 0, 'D': 0, 'Q': 0}. Best is trial 15 with value: 0.772673243516034.\u001b[0m\n"
     ]
    },
    {
     "name": "stdout",
     "output_type": "stream",
     "text": [
      "Optimization terminated successfully.\n",
      "         Current function value: -1.550893\n",
      "         Iterations: 8\n",
      "         Function evaluations: 1632\n"
     ]
    },
    {
     "name": "stderr",
     "output_type": "stream",
     "text": [
      "\u001b[32m[I 2022-03-10 00:01:29,311]\u001b[0m Trial 21 finished with value: 0.7581664092234378 and parameters: {'p': 7, 'd': 1, 'q': 7, 'P': 0, 'D': 1, 'Q': 0}. Best is trial 15 with value: 0.772673243516034.\u001b[0m\n"
     ]
    },
    {
     "name": "stdout",
     "output_type": "stream",
     "text": [
      "Optimization terminated successfully.\n",
      "         Current function value: -1.282956\n",
      "         Iterations: 7\n",
      "         Function evaluations: 1252\n"
     ]
    },
    {
     "name": "stderr",
     "output_type": "stream",
     "text": [
      "\u001b[32m[I 2022-03-10 00:01:42,793]\u001b[0m Trial 22 finished with value: 0.769301791834146 and parameters: {'p': 5, 'd': 1, 'q': 7, 'P': 0, 'D': 1, 'Q': 0}. Best is trial 15 with value: 0.772673243516034.\u001b[0m\n"
     ]
    },
    {
     "name": "stdout",
     "output_type": "stream",
     "text": [
      "Optimization terminated successfully.\n",
      "         Current function value: -1.321911\n",
      "         Iterations: 22\n",
      "         Function evaluations: 3552\n",
      "Optimization terminated successfully.\n",
      "         Current function value: -1.484141\n",
      "         Iterations: 14\n",
      "         Function evaluations: 2824\n"
     ]
    },
    {
     "name": "stderr",
     "output_type": "stream",
     "text": [
      "\u001b[32m[I 2022-03-10 00:02:00,577]\u001b[0m Trial 23 finished with value: 0.6921927774716484 and parameters: {'p': 5, 'd': 1, 'q': 8, 'P': 1, 'D': 1, 'Q': 1}. Best is trial 15 with value: 0.772673243516034.\u001b[0m\n",
      "\u001b[32m[I 2022-03-10 00:02:11,709]\u001b[0m Trial 24 finished with value: 0.7430363779086683 and parameters: {'p': 4, 'd': 1, 'q': 7, 'P': 0, 'D': 1, 'Q': 0}. Best is trial 15 with value: 0.772673243516034.\u001b[0m\n"
     ]
    },
    {
     "name": "stdout",
     "output_type": "stream",
     "text": [
      "Optimization terminated successfully.\n",
      "         Current function value: -1.307548\n",
      "         Iterations: 16\n",
      "         Function evaluations: 2494\n"
     ]
    },
    {
     "name": "stderr",
     "output_type": "stream",
     "text": [
      "\u001b[32m[I 2022-03-10 00:02:17,200]\u001b[0m Trial 25 finished with value: 0.7577099994713817 and parameters: {'p': 6, 'd': 1, 'q': 6, 'P': 0, 'D': 1, 'Q': 0}. Best is trial 15 with value: 0.772673243516034.\u001b[0m\n"
     ]
    },
    {
     "name": "stdout",
     "output_type": "stream",
     "text": [
      "Optimization terminated successfully.\n",
      "         Current function value: -1.365178\n",
      "         Iterations: 9\n",
      "         Function evaluations: 1404\n",
      "Optimization terminated successfully.\n",
      "         Current function value: -1.484833\n",
      "         Iterations: 6\n",
      "         Function evaluations: 1020\n"
     ]
    },
    {
     "name": "stderr",
     "output_type": "stream",
     "text": [
      "\u001b[32m[I 2022-03-10 00:02:23,133]\u001b[0m Trial 26 finished with value: 0.7002314382723946 and parameters: {'p': 5, 'd': 1, 'q': 5, 'P': 1, 'D': 1, 'Q': 1}. Best is trial 15 with value: 0.772673243516034.\u001b[0m\n",
      "\u001b[32m[I 2022-03-10 00:02:33,649]\u001b[0m Trial 27 finished with value: 0.7510341244410756 and parameters: {'p': 3, 'd': 1, 'q': 8, 'P': 0, 'D': 1, 'Q': 0}. Best is trial 15 with value: 0.772673243516034.\u001b[0m\n"
     ]
    },
    {
     "name": "stdout",
     "output_type": "stream",
     "text": [
      "Optimization terminated successfully.\n",
      "         Current function value: -1.302560\n",
      "         Iterations: 17\n",
      "         Function evaluations: 2620\n",
      "Optimization terminated successfully.\n",
      "         Current function value: -1.489039\n",
      "         Iterations: 11\n",
      "         Function evaluations: 2032\n"
     ]
    },
    {
     "name": "stderr",
     "output_type": "stream",
     "text": [
      "\u001b[32m[I 2022-03-10 00:02:45,784]\u001b[0m Trial 28 finished with value: 0.688797974659119 and parameters: {'p': 6, 'd': 1, 'q': 7, 'P': 1, 'D': 1, 'Q': 1}. Best is trial 15 with value: 0.772673243516034.\u001b[0m\n",
      "\u001b[32m[I 2022-03-10 00:02:53,024]\u001b[0m Trial 29 finished with value: 0.7620349876129928 and parameters: {'p': 8, 'd': 1, 'q': 3, 'P': 0, 'D': 1, 'Q': 0}. Best is trial 15 with value: 0.772673243516034.\u001b[0m\n"
     ]
    },
    {
     "name": "stdout",
     "output_type": "stream",
     "text": [
      "Optimization terminated successfully.\n",
      "         Current function value: -1.286670\n",
      "         Iterations: 13\n",
      "         Function evaluations: 1903\n",
      "Optimization terminated successfully.\n",
      "         Current function value: -1.381038\n",
      "         Iterations: 9\n",
      "         Function evaluations: 1446\n"
     ]
    },
    {
     "name": "stderr",
     "output_type": "stream",
     "text": [
      "\u001b[32m[I 2022-03-10 00:03:02,389]\u001b[0m Trial 30 finished with value: 0.7432622346008779 and parameters: {'p': 8, 'd': 1, 'q': 3, 'P': 1, 'D': 1, 'Q': 0}. Best is trial 15 with value: 0.772673243516034.\u001b[0m\n",
      "\u001b[32m[I 2022-03-10 00:03:10,473]\u001b[0m Trial 31 finished with value: 0.7620349876129928 and parameters: {'p': 8, 'd': 1, 'q': 3, 'P': 0, 'D': 1, 'Q': 0}. Best is trial 15 with value: 0.772673243516034.\u001b[0m\n"
     ]
    },
    {
     "name": "stdout",
     "output_type": "stream",
     "text": [
      "Optimization terminated successfully.\n",
      "         Current function value: -1.286670\n",
      "         Iterations: 13\n",
      "         Function evaluations: 1903\n"
     ]
    },
    {
     "name": "stderr",
     "output_type": "stream",
     "text": [
      "\u001b[32m[I 2022-03-10 00:03:18,589]\u001b[0m Trial 32 finished with value: 0.7620349876129928 and parameters: {'p': 8, 'd': 1, 'q': 3, 'P': 0, 'D': 1, 'Q': 0}. Best is trial 15 with value: 0.772673243516034.\u001b[0m\n"
     ]
    },
    {
     "name": "stdout",
     "output_type": "stream",
     "text": [
      "Optimization terminated successfully.\n",
      "         Current function value: -1.286670\n",
      "         Iterations: 13\n",
      "         Function evaluations: 1903\n"
     ]
    },
    {
     "name": "stderr",
     "output_type": "stream",
     "text": [
      "\u001b[32m[I 2022-03-10 00:03:21,175]\u001b[0m Trial 33 finished with value: 0.7560645493395823 and parameters: {'p': 7, 'd': 1, 'q': 2, 'P': 0, 'D': 1, 'Q': 0}. Best is trial 15 with value: 0.772673243516034.\u001b[0m\n"
     ]
    },
    {
     "name": "stdout",
     "output_type": "stream",
     "text": [
      "Optimization terminated successfully.\n",
      "         Current function value: -1.265726\n",
      "         Iterations: 5\n",
      "         Function evaluations: 655\n"
     ]
    },
    {
     "name": "stderr",
     "output_type": "stream",
     "text": [
      "\u001b[32m[I 2022-03-10 00:03:29,992]\u001b[0m Trial 34 finished with value: 0.7432622346008779 and parameters: {'p': 8, 'd': 1, 'q': 3, 'P': 1, 'D': 1, 'Q': 0}. Best is trial 15 with value: 0.772673243516034.\u001b[0m\n"
     ]
    },
    {
     "name": "stdout",
     "output_type": "stream",
     "text": [
      "Optimization terminated successfully.\n",
      "         Current function value: -1.381038\n",
      "         Iterations: 9\n",
      "         Function evaluations: 1446\n"
     ]
    },
    {
     "name": "stderr",
     "output_type": "stream",
     "text": [
      "\u001b[32m[I 2022-03-10 00:03:33,622]\u001b[0m Trial 35 finished with value: 0.7135402645740507 and parameters: {'p': 7, 'd': 1, 'q': 2, 'P': 0, 'D': 1, 'Q': 1}. Best is trial 15 with value: 0.772673243516034.\u001b[0m\n"
     ]
    },
    {
     "name": "stdout",
     "output_type": "stream",
     "text": [
      "Optimization terminated successfully.\n",
      "         Current function value: -1.502932\n",
      "         Iterations: 6\n",
      "         Function evaluations: 747\n",
      "Optimization terminated successfully.\n",
      "         Current function value: -1.375121\n",
      "         Iterations: 7\n",
      "         Function evaluations: 1314\n"
     ]
    },
    {
     "name": "stderr",
     "output_type": "stream",
     "text": [
      "\u001b[32m[I 2022-03-10 00:03:44,123]\u001b[0m Trial 36 finished with value: 0.6960796697799935 and parameters: {'p': 8, 'd': 1, 'q': 4, 'P': 3, 'D': 0, 'Q': 0}. Best is trial 15 with value: 0.772673243516034.\u001b[0m\n"
     ]
    },
    {
     "name": "stdout",
     "output_type": "stream",
     "text": [
      "Optimization terminated successfully.\n",
      "         Current function value: -1.408733\n",
      "         Iterations: 7\n",
      "         Function evaluations: 1013\n"
     ]
    },
    {
     "name": "stderr",
     "output_type": "stream",
     "text": [
      "\u001b[32m[I 2022-03-10 00:03:55,351]\u001b[0m Trial 37 finished with value: 0.7179660903599032 and parameters: {'p': 7, 'd': 1, 'q': 1, 'P': 1, 'D': 1, 'Q': 3}. Best is trial 15 with value: 0.772673243516034.\u001b[0m\n",
      "\u001b[32m[I 2022-03-10 00:04:09,366]\u001b[0m Trial 38 finished with value: 0.716595313980842 and parameters: {'p': 8, 'd': 0, 'q': 5, 'P': 0, 'D': 1, 'Q': 0}. Best is trial 15 with value: 0.772673243516034.\u001b[0m\n"
     ]
    },
    {
     "name": "stdout",
     "output_type": "stream",
     "text": [
      "Optimization terminated successfully.\n",
      "         Current function value: -1.341007\n",
      "         Iterations: 30\n",
      "         Function evaluations: 5459\n",
      "Optimization terminated successfully.\n",
      "         Current function value: -1.487229\n",
      "         Iterations: 11\n",
      "         Function evaluations: 1962\n"
     ]
    },
    {
     "name": "stderr",
     "output_type": "stream",
     "text": [
      "\u001b[32m[I 2022-03-10 00:04:21,859]\u001b[0m Trial 39 finished with value: 0.7099349277926748 and parameters: {'p': 7, 'd': 1, 'q': 4, 'P': 0, 'D': 1, 'Q': 1}. Best is trial 15 with value: 0.772673243516034.\u001b[0m\n",
      "\u001b[32m[I 2022-03-10 00:04:22,567]\u001b[0m Trial 40 finished with value: 0.39524983454434903 and parameters: {'p': 3, 'd': 0, 'q': 3, 'P': 1, 'D': 0, 'Q': 0}. Best is trial 15 with value: 0.772673243516034.\u001b[0m\n"
     ]
    },
    {
     "name": "stdout",
     "output_type": "stream",
     "text": [
      "Optimization terminated successfully.\n",
      "         Current function value: -1.373105\n",
      "         Iterations: 5\n",
      "         Function evaluations: 479\n",
      "Optimization terminated successfully.\n",
      "         Current function value: -1.286670\n",
      "         Iterations: 13\n",
      "         Function evaluations: 1903\n"
     ]
    },
    {
     "name": "stderr",
     "output_type": "stream",
     "text": [
      "\u001b[32m[I 2022-03-10 00:04:31,051]\u001b[0m Trial 41 finished with value: 0.7620349876129928 and parameters: {'p': 8, 'd': 1, 'q': 3, 'P': 0, 'D': 1, 'Q': 0}. Best is trial 15 with value: 0.772673243516034.\u001b[0m\n",
      "\u001b[32m[I 2022-03-10 00:04:34,385]\u001b[0m Trial 42 finished with value: 0.75816428542778 and parameters: {'p': 8, 'd': 1, 'q': 2, 'P': 0, 'D': 1, 'Q': 0}. Best is trial 15 with value: 0.772673243516034.\u001b[0m\n"
     ]
    },
    {
     "name": "stdout",
     "output_type": "stream",
     "text": [
      "Optimization terminated successfully.\n",
      "         Current function value: -1.261021\n",
      "         Iterations: 5\n",
      "         Function evaluations: 790\n"
     ]
    },
    {
     "name": "stderr",
     "output_type": "stream",
     "text": [
      "\u001b[32m[I 2022-03-10 00:04:42,306]\u001b[0m Trial 43 finished with value: 0.7620349876129928 and parameters: {'p': 8, 'd': 1, 'q': 3, 'P': 0, 'D': 1, 'Q': 0}. Best is trial 15 with value: 0.772673243516034.\u001b[0m\n"
     ]
    },
    {
     "name": "stdout",
     "output_type": "stream",
     "text": [
      "Optimization terminated successfully.\n",
      "         Current function value: -1.286670\n",
      "         Iterations: 13\n",
      "         Function evaluations: 1903\n",
      "Optimization terminated successfully.\n",
      "         Current function value: -1.454224\n",
      "         Iterations: 9\n",
      "         Function evaluations: 1196\n"
     ]
    },
    {
     "name": "stderr",
     "output_type": "stream",
     "text": [
      "\u001b[32m[I 2022-03-10 00:04:52,291]\u001b[0m Trial 44 finished with value: 0.705613972440549 and parameters: {'p': 7, 'd': 1, 'q': 1, 'P': 0, 'D': 1, 'Q': 2}. Best is trial 15 with value: 0.772673243516034.\u001b[0m\n",
      "\u001b[32m[I 2022-03-10 00:04:59,921]\u001b[0m Trial 45 finished with value: 0.7605977325837497 and parameters: {'p': 8, 'd': 1, 'q': 4, 'P': 0, 'D': 1, 'Q': 0}. Best is trial 15 with value: 0.772673243516034.\u001b[0m\n"
     ]
    },
    {
     "name": "stdout",
     "output_type": "stream",
     "text": [
      "Optimization terminated successfully.\n",
      "         Current function value: -1.261361\n",
      "         Iterations: 10\n",
      "         Function evaluations: 1838\n",
      "Optimization terminated successfully.\n",
      "         Current function value: -1.387381\n",
      "         Iterations: 4\n",
      "         Function evaluations: 579\n"
     ]
    },
    {
     "name": "stderr",
     "output_type": "stream",
     "text": [
      "\u001b[32m[I 2022-03-10 00:05:05,532]\u001b[0m Trial 46 finished with value: 0.7029389914133233 and parameters: {'p': 1, 'd': 1, 'q': 6, 'P': 3, 'D': 1, 'Q': 0}. Best is trial 15 with value: 0.772673243516034.\u001b[0m\n",
      "\u001b[32m[I 2022-03-10 00:05:14,923]\u001b[0m Trial 47 finished with value: 0.7577479149105196 and parameters: {'p': 7, 'd': 1, 'q': 4, 'P': 0, 'D': 1, 'Q': 0}. Best is trial 15 with value: 0.772673243516034.\u001b[0m\n"
     ]
    },
    {
     "name": "stdout",
     "output_type": "stream",
     "text": [
      "Optimization terminated successfully.\n",
      "         Current function value: -1.265286\n",
      "         Iterations: 15\n",
      "         Function evaluations: 2627\n"
     ]
    },
    {
     "name": "stderr",
     "output_type": "stream",
     "text": [
      "\u001b[32m[I 2022-03-10 00:05:42,136]\u001b[0m Trial 48 finished with value: 0.7223938455825042 and parameters: {'p': 8, 'd': 0, 'q': 3, 'P': 0, 'D': 1, 'Q': 1}. Best is trial 15 with value: 0.772673243516034.\u001b[0m\n"
     ]
    },
    {
     "name": "stdout",
     "output_type": "stream",
     "text": [
      "Optimization terminated successfully.\n",
      "         Current function value: -1.501535\n",
      "         Iterations: 35\n",
      "         Function evaluations: 5575\n",
      "Optimization terminated successfully.\n",
      "         Current function value: -1.377044\n",
      "         Iterations: 7\n",
      "         Function evaluations: 1209\n"
     ]
    },
    {
     "name": "stderr",
     "output_type": "stream",
     "text": [
      "\u001b[32m[I 2022-03-10 00:05:49,349]\u001b[0m Trial 49 finished with value: 0.7106698943421832 and parameters: {'p': 6, 'd': 1, 'q': 5, 'P': 2, 'D': 1, 'Q': 0}. Best is trial 15 with value: 0.772673243516034.\u001b[0m\n",
      "\u001b[32m[I 2022-03-10 00:05:49,385]\u001b[0m A new study created in memory with name: no-name-bdf1d969-ea6c-446d-8c6c-b38c00e6a415\u001b[0m\n"
     ]
    },
    {
     "name": "stdout",
     "output_type": "stream",
     "text": [
      "Optimization terminated successfully.\n",
      "         Current function value: -1.384737\n",
      "         Iterations: 3\n",
      "         Function evaluations: 637\n"
     ]
    },
    {
     "name": "stderr",
     "output_type": "stream",
     "text": [
      "\u001b[32m[I 2022-03-10 00:05:57,522]\u001b[0m Trial 0 finished with value: 0.7383956096337301 and parameters: {'p': 5, 'd': 0, 'q': 7, 'P': 2, 'D': 1, 'Q': 3}. Best is trial 0 with value: 0.7383956096337301.\u001b[0m\n"
     ]
    },
    {
     "name": "stdout",
     "output_type": "stream",
     "text": [
      "Optimization terminated successfully.\n",
      "         Current function value: -1.373856\n",
      "         Iterations: 12\n",
      "         Function evaluations: 1918\n"
     ]
    },
    {
     "name": "stderr",
     "output_type": "stream",
     "text": [
      "\u001b[32m[I 2022-03-10 00:06:07,416]\u001b[0m Trial 1 finished with value: 0.7176555557513207 and parameters: {'p': 6, 'd': 0, 'q': 3, 'P': 3, 'D': 1, 'Q': 0}. Best is trial 0 with value: 0.7383956096337301.\u001b[0m\n"
     ]
    },
    {
     "name": "stdout",
     "output_type": "stream",
     "text": [
      "Optimization terminated successfully.\n",
      "         Current function value: -1.413590\n",
      "         Iterations: 5\n",
      "         Function evaluations: 650\n"
     ]
    },
    {
     "name": "stderr",
     "output_type": "stream",
     "text": [
      "\u001b[32m[I 2022-03-10 00:06:13,741]\u001b[0m Trial 2 finished with value: 0.7260432381556139 and parameters: {'p': 3, 'd': 0, 'q': 2, 'P': 3, 'D': 1, 'Q': 2}. Best is trial 0 with value: 0.7383956096337301.\u001b[0m\n"
     ]
    },
    {
     "name": "stdout",
     "output_type": "stream",
     "text": [
      "Optimization terminated successfully.\n",
      "         Current function value: -1.402615\n",
      "         Iterations: 15\n",
      "         Function evaluations: 3552\n"
     ]
    },
    {
     "name": "stderr",
     "output_type": "stream",
     "text": [
      "\u001b[32m[I 2022-03-10 00:06:55,569]\u001b[0m Trial 3 finished with value: 0.7393272575939085 and parameters: {'p': 6, 'd': 0, 'q': 7, 'P': 3, 'D': 1, 'Q': 3}. Best is trial 3 with value: 0.7393272575939085.\u001b[0m\n",
      "\u001b[32m[I 2022-03-10 00:06:58,262]\u001b[0m Trial 4 finished with value: 0.7433294994117865 and parameters: {'p': 8, 'd': 1, 'q': 8, 'P': 0, 'D': 0, 'Q': 0}. Best is trial 4 with value: 0.7433294994117865.\u001b[0m\n"
     ]
    },
    {
     "name": "stdout",
     "output_type": "stream",
     "text": [
      "Optimization terminated successfully.\n",
      "         Current function value: -1.531316\n",
      "         Iterations: 17\n",
      "         Function evaluations: 3562\n",
      "Optimization terminated successfully.\n",
      "         Current function value: -1.411004\n",
      "         Iterations: 23\n",
      "         Function evaluations: 5111\n"
     ]
    },
    {
     "name": "stderr",
     "output_type": "stream",
     "text": [
      "\u001b[32m[I 2022-03-10 00:08:04,995]\u001b[0m Trial 5 finished with value: 0.7497753855006644 and parameters: {'p': 6, 'd': 0, 'q': 6, 'P': 2, 'D': 1, 'Q': 3}. Best is trial 5 with value: 0.7497753855006644.\u001b[0m\n"
     ]
    },
    {
     "name": "stdout",
     "output_type": "stream",
     "text": [
      "Optimization terminated successfully.\n",
      "         Current function value: -1.382688\n",
      "         Iterations: 11\n",
      "         Function evaluations: 1920\n"
     ]
    },
    {
     "name": "stderr",
     "output_type": "stream",
     "text": [
      "\u001b[32m[I 2022-03-10 00:08:19,210]\u001b[0m Trial 6 finished with value: 0.693911505936538 and parameters: {'p': 8, 'd': 0, 'q': 4, 'P': 3, 'D': 0, 'Q': 0}. Best is trial 5 with value: 0.7497753855006644.\u001b[0m\n",
      "\u001b[32m[I 2022-03-10 00:08:21,623]\u001b[0m Trial 7 finished with value: 0.7330607905066464 and parameters: {'p': 3, 'd': 1, 'q': 6, 'P': 1, 'D': 0, 'Q': 0}. Best is trial 5 with value: 0.7497753855006644.\u001b[0m\n"
     ]
    },
    {
     "name": "stdout",
     "output_type": "stream",
     "text": [
      "Optimization terminated successfully.\n",
      "         Current function value: -1.460390\n",
      "         Iterations: 13\n",
      "         Function evaluations: 1998\n"
     ]
    },
    {
     "name": "stderr",
     "output_type": "stream",
     "text": [
      "\u001b[32m[I 2022-03-10 00:08:29,732]\u001b[0m Trial 8 finished with value: 0.7533713356062498 and parameters: {'p': 7, 'd': 1, 'q': 4, 'P': 1, 'D': 1, 'Q': 0}. Best is trial 8 with value: 0.7533713356062498.\u001b[0m\n"
     ]
    },
    {
     "name": "stdout",
     "output_type": "stream",
     "text": [
      "Optimization terminated successfully.\n",
      "         Current function value: -1.377172\n",
      "         Iterations: 8\n",
      "         Function evaluations: 1596\n",
      "Optimization terminated successfully.\n",
      "         Current function value: -1.445202\n",
      "         Iterations: 11\n",
      "         Function evaluations: 2275\n"
     ]
    },
    {
     "name": "stderr",
     "output_type": "stream",
     "text": [
      "\u001b[32m[I 2022-03-10 00:08:51,665]\u001b[0m Trial 9 finished with value: 0.7315791328766637 and parameters: {'p': 2, 'd': 0, 'q': 8, 'P': 2, 'D': 0, 'Q': 3}. Best is trial 8 with value: 0.7533713356062498.\u001b[0m\n",
      "\u001b[32m[I 2022-03-10 00:08:52,325]\u001b[0m Trial 10 finished with value: 0.2524783782319082 and parameters: {'p': 0, 'd': 1, 'q': 0, 'P': 0, 'D': 1, 'Q': 1}. Best is trial 8 with value: 0.7533713356062498.\u001b[0m\n"
     ]
    },
    {
     "name": "stdout",
     "output_type": "stream",
     "text": [
      "Optimization terminated successfully.\n",
      "         Current function value: -1.255036\n",
      "         Iterations: 3\n",
      "         Function evaluations: 126\n",
      "Optimization terminated successfully.\n",
      "         Current function value: -1.445639\n",
      "         Iterations: 7\n",
      "         Function evaluations: 1335\n"
     ]
    },
    {
     "name": "stderr",
     "output_type": "stream",
     "text": [
      "\u001b[32m[I 2022-03-10 00:09:04,622]\u001b[0m Trial 11 finished with value: 0.7144784512360244 and parameters: {'p': 7, 'd': 1, 'q': 5, 'P': 1, 'D': 1, 'Q': 2}. Best is trial 8 with value: 0.7533713356062498.\u001b[0m\n",
      "\u001b[32m[I 2022-03-10 00:09:10,683]\u001b[0m Trial 12 finished with value: 0.7002314382723946 and parameters: {'p': 5, 'd': 1, 'q': 5, 'P': 1, 'D': 1, 'Q': 1}. Best is trial 8 with value: 0.7533713356062498.\u001b[0m\n"
     ]
    },
    {
     "name": "stdout",
     "output_type": "stream",
     "text": [
      "Optimization terminated successfully.\n",
      "         Current function value: -1.484833\n",
      "         Iterations: 6\n",
      "         Function evaluations: 1020\n",
      "Optimization terminated successfully.\n",
      "         Current function value: -1.437506\n",
      "         Iterations: 6\n",
      "         Function evaluations: 1043\n"
     ]
    },
    {
     "name": "stderr",
     "output_type": "stream",
     "text": [
      "\u001b[32m[I 2022-03-10 00:09:19,720]\u001b[0m Trial 13 finished with value: 0.715358295607476 and parameters: {'p': 7, 'd': 1, 'q': 2, 'P': 2, 'D': 1, 'Q': 2}. Best is trial 8 with value: 0.7533713356062498.\u001b[0m\n",
      "\u001b[32m[I 2022-03-10 00:09:25,746]\u001b[0m Trial 14 finished with value: 0.7002314382723946 and parameters: {'p': 5, 'd': 1, 'q': 5, 'P': 1, 'D': 1, 'Q': 1}. Best is trial 8 with value: 0.7533713356062498.\u001b[0m\n"
     ]
    },
    {
     "name": "stdout",
     "output_type": "stream",
     "text": [
      "Optimization terminated successfully.\n",
      "         Current function value: -1.484833\n",
      "         Iterations: 6\n",
      "         Function evaluations: 1020\n",
      "Optimization terminated successfully.\n",
      "         Current function value: -1.446493\n",
      "         Iterations: 22\n",
      "         Function evaluations: 4255\n"
     ]
    },
    {
     "name": "stderr",
     "output_type": "stream",
     "text": [
      "\u001b[32m[I 2022-03-10 00:10:04,017]\u001b[0m Trial 15 finished with value: 0.7218932417839219 and parameters: {'p': 7, 'd': 0, 'q': 4, 'P': 2, 'D': 1, 'Q': 2}. Best is trial 8 with value: 0.7533713356062498.\u001b[0m\n",
      "\u001b[32m[I 2022-03-10 00:10:05,073]\u001b[0m Trial 16 finished with value: 0.7406811346293485 and parameters: {'p': 4, 'd': 0, 'q': 0, 'P': 0, 'D': 1, 'Q': 1}. Best is trial 8 with value: 0.7533713356062498.\u001b[0m\n"
     ]
    },
    {
     "name": "stdout",
     "output_type": "stream",
     "text": [
      "Optimization terminated successfully.\n",
      "         Current function value: -1.515947\n",
      "         Iterations: 3\n",
      "         Function evaluations: 227\n",
      "Optimization terminated successfully.\n",
      "         Current function value: -1.430626\n",
      "         Iterations: 14\n",
      "         Function evaluations: 3084\n"
     ]
    },
    {
     "name": "stderr",
     "output_type": "stream",
     "text": [
      "\u001b[32m[I 2022-03-10 00:10:28,750]\u001b[0m Trial 17 finished with value: 0.7084892665629839 and parameters: {'p': 6, 'd': 1, 'q': 6, 'P': 1, 'D': 0, 'Q': 3}. Best is trial 8 with value: 0.7533713356062498.\u001b[0m\n"
     ]
    },
    {
     "name": "stdout",
     "output_type": "stream",
     "text": [
      "Optimization terminated successfully.\n",
      "         Current function value: -1.432189\n",
      "         Iterations: 14\n",
      "         Function evaluations: 2458\n"
     ]
    },
    {
     "name": "stderr",
     "output_type": "stream",
     "text": [
      "\u001b[32m[I 2022-03-10 00:10:47,504]\u001b[0m Trial 18 finished with value: 0.7017666003892937 and parameters: {'p': 8, 'd': 0, 'q': 3, 'P': 2, 'D': 1, 'Q': 1}. Best is trial 8 with value: 0.7533713356062498.\u001b[0m\n"
     ]
    },
    {
     "name": "stdout",
     "output_type": "stream",
     "text": [
      "Optimization terminated successfully.\n",
      "         Current function value: -1.437062\n",
      "         Iterations: 6\n",
      "         Function evaluations: 899\n"
     ]
    },
    {
     "name": "stderr",
     "output_type": "stream",
     "text": [
      "\u001b[32m[I 2022-03-10 00:10:55,154]\u001b[0m Trial 19 finished with value: 0.7102420037480469 and parameters: {'p': 0, 'd': 1, 'q': 6, 'P': 1, 'D': 1, 'Q': 2}. Best is trial 8 with value: 0.7533713356062498.\u001b[0m\n"
     ]
    },
    {
     "name": "stdout",
     "output_type": "stream",
     "text": [
      "Optimization terminated successfully.\n",
      "         Current function value: -1.459228\n",
      "         Iterations: 5\n",
      "         Function evaluations: 702\n"
     ]
    },
    {
     "name": "stderr",
     "output_type": "stream",
     "text": [
      "\u001b[32m[I 2022-03-10 00:11:00,576]\u001b[0m Trial 20 finished with value: 0.713819474248377 and parameters: {'p': 4, 'd': 0, 'q': 2, 'P': 2, 'D': 0, 'Q': 3}. Best is trial 8 with value: 0.7533713356062498.\u001b[0m\n",
      "\u001b[32m[I 2022-03-10 00:11:03,153]\u001b[0m Trial 21 finished with value: 0.7433294994117865 and parameters: {'p': 8, 'd': 1, 'q': 8, 'P': 0, 'D': 0, 'Q': 0}. Best is trial 8 with value: 0.7533713356062498.\u001b[0m\n"
     ]
    },
    {
     "name": "stdout",
     "output_type": "stream",
     "text": [
      "Optimization terminated successfully.\n",
      "         Current function value: -1.531316\n",
      "         Iterations: 17\n",
      "         Function evaluations: 3562\n"
     ]
    },
    {
     "name": "stderr",
     "output_type": "stream",
     "text": [
      "\u001b[32m[I 2022-03-10 00:11:05,035]\u001b[0m Trial 22 finished with value: 0.7328447892068063 and parameters: {'p': 7, 'd': 1, 'q': 7, 'P': 0, 'D': 0, 'Q': 0}. Best is trial 8 with value: 0.7533713356062498.\u001b[0m\n"
     ]
    },
    {
     "name": "stdout",
     "output_type": "stream",
     "text": [
      "Optimization terminated successfully.\n",
      "         Current function value: -1.523841\n",
      "         Iterations: 16\n",
      "         Function evaluations: 3061\n"
     ]
    },
    {
     "name": "stderr",
     "output_type": "stream",
     "text": [
      "\u001b[32m[I 2022-03-10 00:11:07,564]\u001b[0m Trial 23 finished with value: 0.7433294994117865 and parameters: {'p': 8, 'd': 1, 'q': 8, 'P': 0, 'D': 0, 'Q': 0}. Best is trial 8 with value: 0.7533713356062498.\u001b[0m\n"
     ]
    },
    {
     "name": "stdout",
     "output_type": "stream",
     "text": [
      "Optimization terminated successfully.\n",
      "         Current function value: -1.531316\n",
      "         Iterations: 17\n",
      "         Function evaluations: 3562\n"
     ]
    },
    {
     "name": "stderr",
     "output_type": "stream",
     "text": [
      "\u001b[32m[I 2022-03-10 00:11:08,994]\u001b[0m Trial 24 finished with value: 0.7254656396378231 and parameters: {'p': 6, 'd': 1, 'q': 7, 'P': 0, 'D': 0, 'Q': 0}. Best is trial 8 with value: 0.7533713356062498.\u001b[0m\n"
     ]
    },
    {
     "name": "stdout",
     "output_type": "stream",
     "text": [
      "Optimization terminated successfully.\n",
      "         Current function value: -1.547718\n",
      "         Iterations: 11\n",
      "         Function evaluations: 2014\n",
      "Optimization terminated successfully.\n",
      "         Current function value: -1.489692\n",
      "         Iterations: 14\n",
      "         Function evaluations: 2691\n"
     ]
    },
    {
     "name": "stderr",
     "output_type": "stream",
     "text": [
      "\u001b[32m[I 2022-03-10 00:11:23,805]\u001b[0m Trial 25 finished with value: 0.6926459760178139 and parameters: {'p': 7, 'd': 1, 'q': 6, 'P': 1, 'D': 1, 'Q': 1}. Best is trial 8 with value: 0.7533713356062498.\u001b[0m\n"
     ]
    },
    {
     "name": "stdout",
     "output_type": "stream",
     "text": [
      "Optimization terminated successfully.\n",
      "         Current function value: -1.402175\n",
      "         Iterations: 7\n",
      "         Function evaluations: 1193\n"
     ]
    },
    {
     "name": "stderr",
     "output_type": "stream",
     "text": [
      "\u001b[32m[I 2022-03-10 00:11:30,914]\u001b[0m Trial 26 finished with value: 0.6783766809706568 and parameters: {'p': 8, 'd': 1, 'q': 4, 'P': 2, 'D': 0, 'Q': 0}. Best is trial 8 with value: 0.7533713356062498.\u001b[0m\n"
     ]
    },
    {
     "name": "stdout",
     "output_type": "stream",
     "text": [
      "Optimization terminated successfully.\n",
      "         Current function value: -1.483548\n",
      "         Iterations: 10\n",
      "         Function evaluations: 1936\n"
     ]
    },
    {
     "name": "stderr",
     "output_type": "stream",
     "text": [
      "\u001b[32m[I 2022-03-10 00:11:42,337]\u001b[0m Trial 27 finished with value: 0.7036968991917243 and parameters: {'p': 6, 'd': 1, 'q': 5, 'P': 1, 'D': 1, 'Q': 1}. Best is trial 8 with value: 0.7533713356062498.\u001b[0m\n",
      "\u001b[32m[I 2022-03-10 00:11:43,828]\u001b[0m Trial 28 finished with value: -2124.355898192738 and parameters: {'p': 5, 'd': 0, 'q': 3, 'P': 0, 'D': 0, 'Q': 0}. Best is trial 8 with value: 0.7533713356062498.\u001b[0m\n"
     ]
    },
    {
     "name": "stdout",
     "output_type": "stream",
     "text": [
      "Optimization terminated successfully.\n",
      "         Current function value: -0.951653\n",
      "         Iterations: 23\n",
      "         Function evaluations: 2549\n",
      "Optimization terminated successfully.\n",
      "         Current function value: -1.401626\n",
      "         Iterations: 16\n",
      "         Function evaluations: 3962\n"
     ]
    },
    {
     "name": "stderr",
     "output_type": "stream",
     "text": [
      "\u001b[32m[I 2022-03-10 00:12:37,967]\u001b[0m Trial 29 finished with value: 0.711475456789941 and parameters: {'p': 7, 'd': 1, 'q': 8, 'P': 2, 'D': 1, 'Q': 3}. Best is trial 8 with value: 0.7533713356062498.\u001b[0m\n"
     ]
    },
    {
     "name": "stdout",
     "output_type": "stream",
     "text": [
      "Optimization terminated successfully.\n",
      "         Current function value: -1.436162\n",
      "         Iterations: 3\n",
      "         Function evaluations: 573\n"
     ]
    },
    {
     "name": "stderr",
     "output_type": "stream",
     "text": [
      "\u001b[32m[I 2022-03-10 00:12:43,065]\u001b[0m Trial 30 finished with value: 0.7368854581539924 and parameters: {'p': 5, 'd': 0, 'q': 7, 'P': 1, 'D': 1, 'Q': 2}. Best is trial 8 with value: 0.7533713356062498.\u001b[0m\n",
      "\u001b[32m[I 2022-03-10 00:12:45,581]\u001b[0m Trial 31 finished with value: 0.7433294994117865 and parameters: {'p': 8, 'd': 1, 'q': 8, 'P': 0, 'D': 0, 'Q': 0}. Best is trial 8 with value: 0.7533713356062498.\u001b[0m\n"
     ]
    },
    {
     "name": "stdout",
     "output_type": "stream",
     "text": [
      "Optimization terminated successfully.\n",
      "         Current function value: -1.531316\n",
      "         Iterations: 17\n",
      "         Function evaluations: 3562\n"
     ]
    },
    {
     "name": "stderr",
     "output_type": "stream",
     "text": [
      "\u001b[32m[I 2022-03-10 00:12:51,082]\u001b[0m Trial 32 finished with value: 0.7342450309017632 and parameters: {'p': 8, 'd': 1, 'q': 7, 'P': 0, 'D': 0, 'Q': 0}. Best is trial 8 with value: 0.7533713356062498.\u001b[0m\n"
     ]
    },
    {
     "name": "stdout",
     "output_type": "stream",
     "text": [
      "Optimization terminated successfully.\n",
      "         Current function value: -1.608172\n",
      "         Iterations: 44\n",
      "         Function evaluations: 8765\n"
     ]
    },
    {
     "name": "stderr",
     "output_type": "stream",
     "text": [
      "\u001b[32m[I 2022-03-10 00:12:52,320]\u001b[0m Trial 33 finished with value: 0.7252348196738002 and parameters: {'p': 7, 'd': 1, 'q': 8, 'P': 0, 'D': 0, 'Q': 0}. Best is trial 8 with value: 0.7533713356062498.\u001b[0m\n"
     ]
    },
    {
     "name": "stdout",
     "output_type": "stream",
     "text": [
      "Optimization terminated successfully.\n",
      "         Current function value: -1.550893\n",
      "         Iterations: 8\n",
      "         Function evaluations: 1632\n",
      "Optimization terminated successfully.\n",
      "         Current function value: -1.390114\n",
      "         Iterations: 12\n",
      "         Function evaluations: 2476\n"
     ]
    },
    {
     "name": "stderr",
     "output_type": "stream",
     "text": [
      "\u001b[32m[I 2022-03-10 00:13:11,300]\u001b[0m Trial 34 finished with value: 0.7027566869225654 and parameters: {'p': 8, 'd': 1, 'q': 6, 'P': 3, 'D': 0, 'Q': 0}. Best is trial 8 with value: 0.7533713356062498.\u001b[0m\n",
      "\u001b[32m[I 2022-03-10 00:13:12,802]\u001b[0m Trial 35 finished with value: 0.7245379077996168 and parameters: {'p': 6, 'd': 1, 'q': 8, 'P': 0, 'D': 0, 'Q': 0}. Best is trial 8 with value: 0.7533713356062498.\u001b[0m\n"
     ]
    },
    {
     "name": "stdout",
     "output_type": "stream",
     "text": [
      "Optimization terminated successfully.\n",
      "         Current function value: -1.542618\n",
      "         Iterations: 10\n",
      "         Function evaluations: 1962\n"
     ]
    },
    {
     "name": "stderr",
     "output_type": "stream",
     "text": [
      "\u001b[32m[I 2022-03-10 00:13:39,998]\u001b[0m Trial 36 finished with value: 0.7223938455825042 and parameters: {'p': 8, 'd': 0, 'q': 3, 'P': 0, 'D': 1, 'Q': 1}. Best is trial 8 with value: 0.7533713356062498.\u001b[0m\n"
     ]
    },
    {
     "name": "stdout",
     "output_type": "stream",
     "text": [
      "Optimization terminated successfully.\n",
      "         Current function value: -1.501535\n",
      "         Iterations: 35\n",
      "         Function evaluations: 5575\n",
      "Optimization terminated successfully.\n",
      "         Current function value: -1.377080\n",
      "         Iterations: 19\n",
      "         Function evaluations: 4204\n"
     ]
    },
    {
     "name": "stderr",
     "output_type": "stream",
     "text": [
      "\u001b[32m[I 2022-03-10 00:13:59,947]\u001b[0m Trial 37 finished with value: 0.750180391917588 and parameters: {'p': 7, 'd': 1, 'q': 7, 'P': 3, 'D': 0, 'Q': 0}. Best is trial 8 with value: 0.7533713356062498.\u001b[0m\n",
      "\u001b[32m[I 2022-03-10 00:14:06,200]\u001b[0m Trial 38 finished with value: 0.7287227071991322 and parameters: {'p': 3, 'd': 0, 'q': 7, 'P': 3, 'D': 0, 'Q': 0}. Best is trial 8 with value: 0.7533713356062498.\u001b[0m\n"
     ]
    },
    {
     "name": "stdout",
     "output_type": "stream",
     "text": [
      "Optimization terminated successfully.\n",
      "         Current function value: -1.397559\n",
      "         Iterations: 10\n",
      "         Function evaluations: 1729\n",
      "Optimization terminated successfully.\n",
      "         Current function value: -1.395867\n",
      "         Iterations: 9\n",
      "         Function evaluations: 2182\n"
     ]
    },
    {
     "name": "stderr",
     "output_type": "stream",
     "text": [
      "\u001b[32m[I 2022-03-10 00:14:34,844]\u001b[0m Trial 39 finished with value: 0.7111518507024575 and parameters: {'p': 6, 'd': 1, 'q': 4, 'P': 3, 'D': 1, 'Q': 3}. Best is trial 8 with value: 0.7533713356062498.\u001b[0m\n"
     ]
    },
    {
     "name": "stdout",
     "output_type": "stream",
     "text": [
      "Optimization terminated successfully.\n",
      "         Current function value: -1.430471\n",
      "         Iterations: 16\n",
      "         Function evaluations: 3674\n"
     ]
    },
    {
     "name": "stderr",
     "output_type": "stream",
     "text": [
      "\u001b[32m[I 2022-03-10 00:15:03,339]\u001b[0m Trial 40 finished with value: 0.6911792828832435 and parameters: {'p': 7, 'd': 1, 'q': 7, 'P': 3, 'D': 0, 'Q': 1}. Best is trial 8 with value: 0.7533713356062498.\u001b[0m\n"
     ]
    },
    {
     "name": "stdout",
     "output_type": "stream",
     "text": [
      "Optimization terminated successfully.\n",
      "         Current function value: -1.431827\n",
      "         Iterations: 20\n",
      "         Function evaluations: 4793\n"
     ]
    },
    {
     "name": "stderr",
     "output_type": "stream",
     "text": [
      "\u001b[32m[I 2022-03-10 00:15:29,853]\u001b[0m Trial 41 finished with value: 0.6952782740183012 and parameters: {'p': 8, 'd': 1, 'q': 8, 'P': 2, 'D': 0, 'Q': 0}. Best is trial 8 with value: 0.7533713356062498.\u001b[0m\n"
     ]
    },
    {
     "name": "stdout",
     "output_type": "stream",
     "text": [
      "Optimization terminated successfully.\n",
      "         Current function value: -1.405870\n",
      "         Iterations: 26\n",
      "         Function evaluations: 6224\n"
     ]
    },
    {
     "name": "stderr",
     "output_type": "stream",
     "text": [
      "\u001b[32m[I 2022-03-10 00:16:21,672]\u001b[0m Trial 42 finished with value: 0.6668195925708416 and parameters: {'p': 7, 'd': 1, 'q': 8, 'P': 3, 'D': 0, 'Q': 0}. Best is trial 8 with value: 0.7533713356062498.\u001b[0m\n",
      "\u001b[32m[I 2022-03-10 00:16:23,173]\u001b[0m Trial 43 finished with value: 0.7254656396378231 and parameters: {'p': 6, 'd': 1, 'q': 7, 'P': 0, 'D': 0, 'Q': 0}. Best is trial 8 with value: 0.7533713356062498.\u001b[0m\n"
     ]
    },
    {
     "name": "stdout",
     "output_type": "stream",
     "text": [
      "Optimization terminated successfully.\n",
      "         Current function value: -1.547718\n",
      "         Iterations: 11\n",
      "         Function evaluations: 2014\n"
     ]
    },
    {
     "name": "stderr",
     "output_type": "stream",
     "text": [
      "\u001b[32m[I 2022-03-10 00:16:33,416]\u001b[0m Trial 44 finished with value: 0.6819201156091692 and parameters: {'p': 7, 'd': 1, 'q': 6, 'P': 1, 'D': 0, 'Q': 0}. Best is trial 8 with value: 0.7533713356062498.\u001b[0m\n"
     ]
    },
    {
     "name": "stdout",
     "output_type": "stream",
     "text": [
      "Optimization terminated successfully.\n",
      "         Current function value: -1.454911\n",
      "         Iterations: 21\n",
      "         Function evaluations: 3959\n",
      "Optimization terminated successfully.\n",
      "         Current function value: -1.378450\n",
      "         Iterations: 21\n",
      "         Function evaluations: 3813\n"
     ]
    },
    {
     "name": "stderr",
     "output_type": "stream",
     "text": [
      "\u001b[32m[I 2022-03-10 00:16:56,774]\u001b[0m Trial 45 finished with value: 0.7233349718031687 and parameters: {'p': 8, 'd': 1, 'q': 5, 'P': 2, 'D': 1, 'Q': 0}. Best is trial 8 with value: 0.7533713356062498.\u001b[0m\n"
     ]
    },
    {
     "name": "stdout",
     "output_type": "stream",
     "text": [
      "Optimization terminated successfully.\n",
      "         Current function value: -1.428094\n",
      "         Iterations: 14\n",
      "         Function evaluations: 2108\n"
     ]
    },
    {
     "name": "stderr",
     "output_type": "stream",
     "text": [
      "\u001b[32m[I 2022-03-10 00:17:12,142]\u001b[0m Trial 46 finished with value: 0.7061129763846574 and parameters: {'p': 7, 'd': 1, 'q': 1, 'P': 3, 'D': 0, 'Q': 1}. Best is trial 8 with value: 0.7533713356062498.\u001b[0m\n",
      "\u001b[32m[I 2022-03-10 00:17:22,491]\u001b[0m Trial 47 finished with value: 0.7395009015354175 and parameters: {'p': 8, 'd': 1, 'q': 8, 'P': 1, 'D': 0, 'Q': 0}. Best is trial 8 with value: 0.7533713356062498.\u001b[0m\n"
     ]
    },
    {
     "name": "stdout",
     "output_type": "stream",
     "text": [
      "Optimization terminated successfully.\n",
      "         Current function value: -1.476475\n",
      "         Iterations: 17\n",
      "         Function evaluations: 3893\n"
     ]
    },
    {
     "name": "stderr",
     "output_type": "stream",
     "text": [
      "\u001b[32m[I 2022-03-10 00:17:28,365]\u001b[0m Trial 48 finished with value: 0.7354501055626262 and parameters: {'p': 5, 'd': 0, 'q': 7, 'P': 0, 'D': 1, 'Q': 0}. Best is trial 8 with value: 0.7533713356062498.\u001b[0m\n"
     ]
    },
    {
     "name": "stdout",
     "output_type": "stream",
     "text": [
      "Optimization terminated successfully.\n",
      "         Current function value: -1.330984\n",
      "         Iterations: 14\n",
      "         Function evaluations: 2219\n",
      "Optimization terminated successfully.\n",
      "         Current function value: -1.439780\n",
      "         Iterations: 12\n",
      "         Function evaluations: 2806\n"
     ]
    },
    {
     "name": "stderr",
     "output_type": "stream",
     "text": [
      "\u001b[32m[I 2022-03-10 00:17:51,986]\u001b[0m Trial 49 finished with value: 0.7069078342353663 and parameters: {'p': 7, 'd': 1, 'q': 6, 'P': 2, 'D': 1, 'Q': 2}. Best is trial 8 with value: 0.7533713356062498.\u001b[0m\n",
      "\u001b[32m[I 2022-03-10 00:17:52,022]\u001b[0m A new study created in memory with name: no-name-fabc8dc6-cbb3-4f8d-8acc-c2aa773c9100\u001b[0m\n"
     ]
    },
    {
     "name": "stdout",
     "output_type": "stream",
     "text": [
      "Optimization terminated successfully.\n",
      "         Current function value: -1.178911\n",
      "         Iterations: 18\n",
      "         Function evaluations: 2706\n"
     ]
    },
    {
     "name": "stderr",
     "output_type": "stream",
     "text": [
      "\u001b[32m[I 2022-03-10 00:18:10,728]\u001b[0m Trial 0 finished with value: 0.6388418568118317 and parameters: {'p': 5, 'd': 0, 'q': 3, 'P': 3, 'D': 0, 'Q': 1}. Best is trial 0 with value: 0.6388418568118317.\u001b[0m\n"
     ]
    },
    {
     "name": "stdout",
     "output_type": "stream",
     "text": [
      "Optimization terminated successfully.\n",
      "         Current function value: -1.347778\n",
      "         Iterations: 7\n",
      "         Function evaluations: 1175\n"
     ]
    },
    {
     "name": "stderr",
     "output_type": "stream",
     "text": [
      "\u001b[32m[I 2022-03-10 00:18:17,814]\u001b[0m Trial 1 finished with value: 0.6938673624438045 and parameters: {'p': 8, 'd': 1, 'q': 2, 'P': 1, 'D': 1, 'Q': 1}. Best is trial 1 with value: 0.6938673624438045.\u001b[0m\n"
     ]
    },
    {
     "name": "stdout",
     "output_type": "stream",
     "text": [
      "Optimization terminated successfully.\n",
      "         Current function value: -1.262260\n",
      "         Iterations: 11\n",
      "         Function evaluations: 2684\n"
     ]
    },
    {
     "name": "stderr",
     "output_type": "stream",
     "text": [
      "\u001b[32m[I 2022-03-10 00:18:59,087]\u001b[0m Trial 2 finished with value: 0.6898931828872977 and parameters: {'p': 8, 'd': 1, 'q': 8, 'P': 1, 'D': 1, 'Q': 3}. Best is trial 1 with value: 0.6938673624438045.\u001b[0m\n",
      "\u001b[32m[I 2022-03-10 00:19:01,342]\u001b[0m Trial 3 finished with value: 0.6681390596300758 and parameters: {'p': 0, 'd': 0, 'q': 8, 'P': 1, 'D': 0, 'Q': 1}. Best is trial 1 with value: 0.6938673624438045.\u001b[0m\n"
     ]
    },
    {
     "name": "stdout",
     "output_type": "stream",
     "text": [
      "Optimization terminated successfully.\n",
      "         Current function value: -1.387351\n",
      "         Iterations: 5\n",
      "         Function evaluations: 642\n"
     ]
    },
    {
     "name": "stderr",
     "output_type": "stream",
     "text": [
      "\u001b[32m[I 2022-03-10 00:19:06,670]\u001b[0m Trial 4 finished with value: 0.6410834177984351 and parameters: {'p': 8, 'd': 1, 'q': 1, 'P': 2, 'D': 1, 'Q': 0}. Best is trial 1 with value: 0.6938673624438045.\u001b[0m\n"
     ]
    },
    {
     "name": "stdout",
     "output_type": "stream",
     "text": [
      "Optimization terminated successfully.\n",
      "         Current function value: -1.258734\n",
      "         Iterations: 9\n",
      "         Function evaluations: 1276\n",
      "Optimization terminated successfully.\n",
      "         Current function value: -1.284403\n",
      "         Iterations: 4\n",
      "         Function evaluations: 569\n"
     ]
    },
    {
     "name": "stderr",
     "output_type": "stream",
     "text": [
      "\u001b[32m[I 2022-03-10 00:19:11,184]\u001b[0m Trial 5 finished with value: 0.6622113013715174 and parameters: {'p': 2, 'd': 0, 'q': 4, 'P': 3, 'D': 1, 'Q': 2}. Best is trial 1 with value: 0.6938673624438045.\u001b[0m\n",
      "\u001b[32m[I 2022-03-10 00:19:21,427]\u001b[0m Trial 6 finished with value: 0.6791493922956164 and parameters: {'p': 3, 'd': 1, 'q': 3, 'P': 0, 'D': 1, 'Q': 2}. Best is trial 1 with value: 0.6938673624438045.\u001b[0m\n"
     ]
    },
    {
     "name": "stdout",
     "output_type": "stream",
     "text": [
      "Optimization terminated successfully.\n",
      "         Current function value: -1.313074\n",
      "         Iterations: 11\n",
      "         Function evaluations: 1314\n",
      "Optimization terminated successfully.\n",
      "         Current function value: -1.282893\n",
      "         Iterations: 6\n",
      "         Function evaluations: 712\n"
     ]
    },
    {
     "name": "stderr",
     "output_type": "stream",
     "text": [
      "\u001b[32m[I 2022-03-10 00:19:27,655]\u001b[0m Trial 7 finished with value: 0.686822820182682 and parameters: {'p': 4, 'd': 0, 'q': 0, 'P': 2, 'D': 1, 'Q': 3}. Best is trial 1 with value: 0.6938673624438045.\u001b[0m\n",
      "\u001b[32m[I 2022-03-10 00:19:28,236]\u001b[0m Trial 8 finished with value: 0.051667561783595106 and parameters: {'p': 2, 'd': 0, 'q': 1, 'P': 0, 'D': 0, 'Q': 1}. Best is trial 1 with value: 0.6938673624438045.\u001b[0m\n"
     ]
    },
    {
     "name": "stdout",
     "output_type": "stream",
     "text": [
      "Optimization terminated successfully.\n",
      "         Current function value: -1.160358\n",
      "         Iterations: 7\n",
      "         Function evaluations: 477\n"
     ]
    },
    {
     "name": "stderr",
     "output_type": "stream",
     "text": [
      "\u001b[32m[I 2022-03-10 00:19:35,586]\u001b[0m Trial 9 finished with value: 0.6743152924011453 and parameters: {'p': 5, 'd': 1, 'q': 2, 'P': 1, 'D': 1, 'Q': 1}. Best is trial 1 with value: 0.6938673624438045.\u001b[0m\n"
     ]
    },
    {
     "name": "stdout",
     "output_type": "stream",
     "text": [
      "Optimization terminated successfully.\n",
      "         Current function value: -1.343973\n",
      "         Iterations: 10\n",
      "         Function evaluations: 1380\n"
     ]
    },
    {
     "name": "stderr",
     "output_type": "stream",
     "text": [
      "\u001b[32m[I 2022-03-10 00:19:37,682]\u001b[0m Trial 10 finished with value: 0.6763763589703525 and parameters: {'p': 7, 'd': 1, 'q': 6, 'P': 0, 'D': 0, 'Q': 0}. Best is trial 1 with value: 0.6938673624438045.\u001b[0m\n"
     ]
    },
    {
     "name": "stdout",
     "output_type": "stream",
     "text": [
      "Optimization terminated successfully.\n",
      "         Current function value: -1.379677\n",
      "         Iterations: 23\n",
      "         Function evaluations: 3940\n",
      "Optimization terminated successfully.\n",
      "         Current function value: -1.260730\n",
      "         Iterations: 10\n",
      "         Function evaluations: 2196\n"
     ]
    },
    {
     "name": "stderr",
     "output_type": "stream",
     "text": [
      "\u001b[32m[I 2022-03-10 00:20:04,294]\u001b[0m Trial 11 finished with value: 0.6900561012637949 and parameters: {'p': 8, 'd': 1, 'q': 6, 'P': 1, 'D': 1, 'Q': 3}. Best is trial 1 with value: 0.6938673624438045.\u001b[0m\n"
     ]
    },
    {
     "name": "stdout",
     "output_type": "stream",
     "text": [
      "Optimization terminated successfully.\n",
      "         Current function value: -1.313228\n",
      "         Iterations: 14\n",
      "         Function evaluations: 2764\n"
     ]
    },
    {
     "name": "stderr",
     "output_type": "stream",
     "text": [
      "\u001b[32m[I 2022-03-10 00:20:28,238]\u001b[0m Trial 12 finished with value: 0.6678155812868336 and parameters: {'p': 6, 'd': 1, 'q': 6, 'P': 1, 'D': 1, 'Q': 2}. Best is trial 1 with value: 0.6938673624438045.\u001b[0m\n"
     ]
    },
    {
     "name": "stdout",
     "output_type": "stream",
     "text": [
      "Optimization terminated successfully.\n",
      "         Current function value: -1.267334\n",
      "         Iterations: 14\n",
      "         Function evaluations: 3194\n"
     ]
    },
    {
     "name": "stderr",
     "output_type": "stream",
     "text": [
      "\u001b[32m[I 2022-03-10 00:21:06,404]\u001b[0m Trial 13 finished with value: 0.6601359278015873 and parameters: {'p': 7, 'd': 1, 'q': 6, 'P': 2, 'D': 1, 'Q': 3}. Best is trial 1 with value: 0.6938673624438045.\u001b[0m\n"
     ]
    },
    {
     "name": "stdout",
     "output_type": "stream",
     "text": [
      "Optimization terminated successfully.\n",
      "         Current function value: -1.318820\n",
      "         Iterations: 10\n",
      "         Function evaluations: 2091\n"
     ]
    },
    {
     "name": "stderr",
     "output_type": "stream",
     "text": [
      "\u001b[32m[I 2022-03-10 00:21:24,894]\u001b[0m Trial 14 finished with value: 0.7060838919926664 and parameters: {'p': 8, 'd': 1, 'q': 5, 'P': 1, 'D': 1, 'Q': 2}. Best is trial 14 with value: 0.7060838919926664.\u001b[0m\n"
     ]
    },
    {
     "name": "stdout",
     "output_type": "stream",
     "text": [
      "Optimization terminated successfully.\n",
      "         Current function value: -1.304275\n",
      "         Iterations: 10\n",
      "         Function evaluations: 1931\n"
     ]
    },
    {
     "name": "stderr",
     "output_type": "stream",
     "text": [
      "\u001b[32m[I 2022-03-10 00:21:42,222]\u001b[0m Trial 15 finished with value: 0.7059972721715065 and parameters: {'p': 6, 'd': 1, 'q': 4, 'P': 2, 'D': 1, 'Q': 2}. Best is trial 14 with value: 0.7060838919926664.\u001b[0m\n"
     ]
    },
    {
     "name": "stdout",
     "output_type": "stream",
     "text": [
      "Optimization terminated successfully.\n",
      "         Current function value: -1.303943\n",
      "         Iterations: 7\n",
      "         Function evaluations: 1339\n"
     ]
    },
    {
     "name": "stderr",
     "output_type": "stream",
     "text": [
      "\u001b[32m[I 2022-03-10 00:21:53,322]\u001b[0m Trial 16 finished with value: 0.6732162279287484 and parameters: {'p': 6, 'd': 1, 'q': 5, 'P': 2, 'D': 1, 'Q': 2}. Best is trial 14 with value: 0.7060838919926664.\u001b[0m\n"
     ]
    },
    {
     "name": "stdout",
     "output_type": "stream",
     "text": [
      "Optimization terminated successfully.\n",
      "         Current function value: -1.301805\n",
      "         Iterations: 10\n",
      "         Function evaluations: 1978\n"
     ]
    },
    {
     "name": "stderr",
     "output_type": "stream",
     "text": [
      "\u001b[32m[I 2022-03-10 00:22:09,165]\u001b[0m Trial 17 finished with value: 0.6822447118407868 and parameters: {'p': 6, 'd': 1, 'q': 4, 'P': 3, 'D': 0, 'Q': 2}. Best is trial 14 with value: 0.7060838919926664.\u001b[0m\n"
     ]
    },
    {
     "name": "stdout",
     "output_type": "stream",
     "text": [
      "Optimization terminated successfully.\n",
      "         Current function value: -1.302429\n",
      "         Iterations: 19\n",
      "         Function evaluations: 3953\n"
     ]
    },
    {
     "name": "stderr",
     "output_type": "stream",
     "text": [
      "\u001b[32m[I 2022-03-10 00:22:42,395]\u001b[0m Trial 18 finished with value: 0.680968538090126 and parameters: {'p': 7, 'd': 1, 'q': 5, 'P': 2, 'D': 1, 'Q': 2}. Best is trial 14 with value: 0.7060838919926664.\u001b[0m\n"
     ]
    },
    {
     "name": "stdout",
     "output_type": "stream",
     "text": [
      "Optimization terminated successfully.\n",
      "         Current function value: -1.261402\n",
      "         Iterations: 14\n",
      "         Function evaluations: 3045\n"
     ]
    },
    {
     "name": "stderr",
     "output_type": "stream",
     "text": [
      "\u001b[32m[I 2022-03-10 00:23:27,404]\u001b[0m Trial 19 finished with value: 0.6688481219625331 and parameters: {'p': 5, 'd': 1, 'q': 7, 'P': 2, 'D': 1, 'Q': 3}. Best is trial 14 with value: 0.7060838919926664.\u001b[0m\n",
      "\u001b[32m[I 2022-03-10 00:23:30,632]\u001b[0m Trial 20 finished with value: -78.93925629645554 and parameters: {'p': 4, 'd': 0, 'q': 3, 'P': 0, 'D': 0, 'Q': 2}. Best is trial 14 with value: 0.7060838919926664.\u001b[0m\n"
     ]
    },
    {
     "name": "stdout",
     "output_type": "stream",
     "text": [
      "Optimization terminated successfully.\n",
      "         Current function value: -0.873721\n",
      "         Iterations: 6\n",
      "         Function evaluations: 716\n",
      "Optimization terminated successfully.\n",
      "         Current function value: -1.341308\n",
      "         Iterations: 13\n",
      "         Function evaluations: 3051\n"
     ]
    },
    {
     "name": "stderr",
     "output_type": "stream",
     "text": [
      "\u001b[32m[I 2022-03-10 00:23:49,109]\u001b[0m Trial 21 finished with value: 0.7051285954875324 and parameters: {'p': 8, 'd': 1, 'q': 4, 'P': 1, 'D': 1, 'Q': 1}. Best is trial 14 with value: 0.7060838919926664.\u001b[0m\n"
     ]
    },
    {
     "name": "stdout",
     "output_type": "stream",
     "text": [
      "Optimization terminated successfully.\n",
      "         Current function value: -1.309434\n",
      "         Iterations: 21\n",
      "         Function evaluations: 3778\n"
     ]
    },
    {
     "name": "stderr",
     "output_type": "stream",
     "text": [
      "\u001b[32m[I 2022-03-10 00:24:10,860]\u001b[0m Trial 22 finished with value: 0.6863351423070918 and parameters: {'p': 7, 'd': 1, 'q': 5, 'P': 1, 'D': 1, 'Q': 0}. Best is trial 14 with value: 0.7060838919926664.\u001b[0m\n"
     ]
    },
    {
     "name": "stdout",
     "output_type": "stream",
     "text": [
      "Optimization terminated successfully.\n",
      "         Current function value: -1.339918\n",
      "         Iterations: 7\n",
      "         Function evaluations: 1179\n"
     ]
    },
    {
     "name": "stderr",
     "output_type": "stream",
     "text": [
      "\u001b[32m[I 2022-03-10 00:24:17,848]\u001b[0m Trial 23 finished with value: 0.70103858213838 and parameters: {'p': 6, 'd': 1, 'q': 4, 'P': 1, 'D': 1, 'Q': 1}. Best is trial 14 with value: 0.7060838919926664.\u001b[0m\n"
     ]
    },
    {
     "name": "stdout",
     "output_type": "stream",
     "text": [
      "Optimization terminated successfully.\n",
      "         Current function value: -1.311529\n",
      "         Iterations: 8\n",
      "         Function evaluations: 1677\n"
     ]
    },
    {
     "name": "stderr",
     "output_type": "stream",
     "text": [
      "\u001b[32m[I 2022-03-10 00:24:33,220]\u001b[0m Trial 24 finished with value: 0.7036199766724502 and parameters: {'p': 7, 'd': 1, 'q': 4, 'P': 2, 'D': 1, 'Q': 2}. Best is trial 14 with value: 0.7060838919926664.\u001b[0m\n"
     ]
    },
    {
     "name": "stdout",
     "output_type": "stream",
     "text": [
      "Optimization terminated successfully.\n",
      "         Current function value: -1.359146\n",
      "         Iterations: 10\n",
      "         Function evaluations: 2215\n"
     ]
    },
    {
     "name": "stderr",
     "output_type": "stream",
     "text": [
      "\u001b[32m[I 2022-03-10 00:24:47,362]\u001b[0m Trial 25 finished with value: 0.705921587309436 and parameters: {'p': 8, 'd': 1, 'q': 5, 'P': 1, 'D': 1, 'Q': 1}. Best is trial 14 with value: 0.7060838919926664.\u001b[0m\n"
     ]
    },
    {
     "name": "stdout",
     "output_type": "stream",
     "text": [
      "Optimization terminated successfully.\n",
      "         Current function value: -1.323076\n",
      "         Iterations: 16\n",
      "         Function evaluations: 3360\n"
     ]
    },
    {
     "name": "stderr",
     "output_type": "stream",
     "text": [
      "\u001b[32m[I 2022-03-10 00:25:18,997]\u001b[0m Trial 26 finished with value: 0.6720663548069565 and parameters: {'p': 7, 'd': 1, 'q': 7, 'P': 0, 'D': 1, 'Q': 2}. Best is trial 14 with value: 0.7060838919926664.\u001b[0m\n"
     ]
    },
    {
     "name": "stdout",
     "output_type": "stream",
     "text": [
      "Optimization terminated successfully.\n",
      "         Current function value: -1.297528\n",
      "         Iterations: 10\n",
      "         Function evaluations: 1928\n"
     ]
    },
    {
     "name": "stderr",
     "output_type": "stream",
     "text": [
      "\u001b[32m[I 2022-03-10 00:25:34,355]\u001b[0m Trial 27 finished with value: 0.6860902968028413 and parameters: {'p': 6, 'd': 1, 'q': 5, 'P': 2, 'D': 1, 'Q': 1}. Best is trial 14 with value: 0.7060838919926664.\u001b[0m\n"
     ]
    },
    {
     "name": "stdout",
     "output_type": "stream",
     "text": [
      "Optimization terminated successfully.\n",
      "         Current function value: -1.266328\n",
      "         Iterations: 15\n",
      "         Function evaluations: 3291\n"
     ]
    },
    {
     "name": "stderr",
     "output_type": "stream",
     "text": [
      "\u001b[32m[I 2022-03-10 00:26:17,323]\u001b[0m Trial 28 finished with value: 0.6473951617367373 and parameters: {'p': 8, 'd': 1, 'q': 7, 'P': 3, 'D': 1, 'Q': 0}. Best is trial 14 with value: 0.7060838919926664.\u001b[0m\n"
     ]
    },
    {
     "name": "stdout",
     "output_type": "stream",
     "text": [
      "Optimization terminated successfully.\n",
      "         Current function value: -1.215648\n",
      "         Iterations: 22\n",
      "         Function evaluations: 3659\n"
     ]
    },
    {
     "name": "stderr",
     "output_type": "stream",
     "text": [
      "\u001b[32m[I 2022-03-10 00:26:48,998]\u001b[0m Trial 29 finished with value: 0.686852791200335 and parameters: {'p': 5, 'd': 0, 'q': 3, 'P': 3, 'D': 0, 'Q': 2}. Best is trial 14 with value: 0.7060838919926664.\u001b[0m\n"
     ]
    },
    {
     "name": "stdout",
     "output_type": "stream",
     "text": [
      "Optimization terminated successfully.\n",
      "         Current function value: -1.338660\n",
      "         Iterations: 6\n",
      "         Function evaluations: 940\n"
     ]
    },
    {
     "name": "stderr",
     "output_type": "stream",
     "text": [
      "\u001b[32m[I 2022-03-10 00:26:54,201]\u001b[0m Trial 30 finished with value: 0.6748920645149081 and parameters: {'p': 5, 'd': 1, 'q': 5, 'P': 1, 'D': 1, 'Q': 1}. Best is trial 14 with value: 0.7060838919926664.\u001b[0m\n"
     ]
    },
    {
     "name": "stdout",
     "output_type": "stream",
     "text": [
      "Optimization terminated successfully.\n",
      "         Current function value: -1.341308\n",
      "         Iterations: 13\n",
      "         Function evaluations: 3051\n"
     ]
    },
    {
     "name": "stderr",
     "output_type": "stream",
     "text": [
      "\u001b[32m[I 2022-03-10 00:27:13,758]\u001b[0m Trial 31 finished with value: 0.7051285954875324 and parameters: {'p': 8, 'd': 1, 'q': 4, 'P': 1, 'D': 1, 'Q': 1}. Best is trial 14 with value: 0.7060838919926664.\u001b[0m\n"
     ]
    },
    {
     "name": "stdout",
     "output_type": "stream",
     "text": [
      "Optimization terminated successfully.\n",
      "         Current function value: -1.347778\n",
      "         Iterations: 7\n",
      "         Function evaluations: 1175\n"
     ]
    },
    {
     "name": "stderr",
     "output_type": "stream",
     "text": [
      "\u001b[32m[I 2022-03-10 00:27:20,570]\u001b[0m Trial 32 finished with value: 0.6938673624438045 and parameters: {'p': 8, 'd': 1, 'q': 2, 'P': 1, 'D': 1, 'Q': 1}. Best is trial 14 with value: 0.7060838919926664.\u001b[0m\n"
     ]
    },
    {
     "name": "stdout",
     "output_type": "stream",
     "text": [
      "Optimization terminated successfully.\n",
      "         Current function value: -1.341308\n",
      "         Iterations: 13\n",
      "         Function evaluations: 3051\n"
     ]
    },
    {
     "name": "stderr",
     "output_type": "stream",
     "text": [
      "\u001b[32m[I 2022-03-10 00:27:38,949]\u001b[0m Trial 33 finished with value: 0.7051285954875324 and parameters: {'p': 8, 'd': 1, 'q': 4, 'P': 1, 'D': 1, 'Q': 1}. Best is trial 14 with value: 0.7060838919926664.\u001b[0m\n",
      "\u001b[32m[I 2022-03-10 00:27:51,617]\u001b[0m Trial 34 finished with value: 0.6819261063751283 and parameters: {'p': 7, 'd': 1, 'q': 3, 'P': 1, 'D': 1, 'Q': 1}. Best is trial 14 with value: 0.7060838919926664.\u001b[0m\n"
     ]
    },
    {
     "name": "stdout",
     "output_type": "stream",
     "text": [
      "Optimization terminated successfully.\n",
      "         Current function value: -1.349187\n",
      "         Iterations: 13\n",
      "         Function evaluations: 2272\n"
     ]
    },
    {
     "name": "stderr",
     "output_type": "stream",
     "text": [
      "\u001b[32m[I 2022-03-10 00:27:56,175]\u001b[0m Trial 35 finished with value: 0.6651483630561276 and parameters: {'p': 0, 'd': 1, 'q': 5, 'P': 2, 'D': 1, 'Q': 0}. Best is trial 14 with value: 0.7060838919926664.\u001b[0m\n"
     ]
    },
    {
     "name": "stdout",
     "output_type": "stream",
     "text": [
      "Optimization terminated successfully.\n",
      "         Current function value: -1.293608\n",
      "         Iterations: 7\n",
      "         Function evaluations: 750\n",
      "Optimization terminated successfully.\n",
      "         Current function value: -1.341308\n",
      "         Iterations: 13\n",
      "         Function evaluations: 3051\n"
     ]
    },
    {
     "name": "stderr",
     "output_type": "stream",
     "text": [
      "\u001b[32m[I 2022-03-10 00:28:14,396]\u001b[0m Trial 36 finished with value: 0.7051285954875324 and parameters: {'p': 8, 'd': 1, 'q': 4, 'P': 1, 'D': 1, 'Q': 1}. Best is trial 14 with value: 0.7060838919926664.\u001b[0m\n"
     ]
    },
    {
     "name": "stdout",
     "output_type": "stream",
     "text": [
      "Optimization terminated successfully.\n",
      "         Current function value: -1.311380\n",
      "         Iterations: 17\n",
      "         Function evaluations: 3710\n"
     ]
    },
    {
     "name": "stderr",
     "output_type": "stream",
     "text": [
      "\u001b[32m[I 2022-03-10 00:28:45,460]\u001b[0m Trial 37 finished with value: 0.6839516530062177 and parameters: {'p': 8, 'd': 1, 'q': 6, 'P': 1, 'D': 1, 'Q': 2}. Best is trial 14 with value: 0.7060838919926664.\u001b[0m\n"
     ]
    },
    {
     "name": "stdout",
     "output_type": "stream",
     "text": [
      "Optimization terminated successfully.\n",
      "         Current function value: -1.315950\n",
      "         Iterations: 12\n",
      "         Function evaluations: 1830\n"
     ]
    },
    {
     "name": "stderr",
     "output_type": "stream",
     "text": [
      "\u001b[32m[I 2022-03-10 00:28:58,900]\u001b[0m Trial 38 finished with value: 0.6819922282202513 and parameters: {'p': 7, 'd': 0, 'q': 3, 'P': 0, 'D': 1, 'Q': 2}. Best is trial 14 with value: 0.7060838919926664.\u001b[0m\n"
     ]
    },
    {
     "name": "stdout",
     "output_type": "stream",
     "text": [
      "Optimization terminated successfully.\n",
      "         Current function value: -1.260737\n",
      "         Iterations: 8\n",
      "         Function evaluations: 1346\n"
     ]
    },
    {
     "name": "stderr",
     "output_type": "stream",
     "text": [
      "\u001b[32m[I 2022-03-10 00:29:18,958]\u001b[0m Trial 39 finished with value: 0.6820806346338514 and parameters: {'p': 3, 'd': 1, 'q': 5, 'P': 2, 'D': 1, 'Q': 3}. Best is trial 14 with value: 0.7060838919926664.\u001b[0m\n",
      "\u001b[32m[I 2022-03-10 00:29:22,880]\u001b[0m Trial 40 finished with value: 0.6736171392421203 and parameters: {'p': 4, 'd': 1, 'q': 2, 'P': 1, 'D': 1, 'Q': 1}. Best is trial 14 with value: 0.7060838919926664.\u001b[0m\n"
     ]
    },
    {
     "name": "stdout",
     "output_type": "stream",
     "text": [
      "Optimization terminated successfully.\n",
      "         Current function value: -1.340298\n",
      "         Iterations: 6\n",
      "         Function evaluations: 696\n",
      "Optimization terminated successfully.\n",
      "         Current function value: -1.341308\n",
      "         Iterations: 13\n",
      "         Function evaluations: 3051\n"
     ]
    },
    {
     "name": "stderr",
     "output_type": "stream",
     "text": [
      "\u001b[32m[I 2022-03-10 00:29:44,128]\u001b[0m Trial 41 finished with value: 0.7051285954875324 and parameters: {'p': 8, 'd': 1, 'q': 4, 'P': 1, 'D': 1, 'Q': 1}. Best is trial 14 with value: 0.7060838919926664.\u001b[0m\n"
     ]
    },
    {
     "name": "stdout",
     "output_type": "stream",
     "text": [
      "Optimization terminated successfully.\n",
      "         Current function value: -1.341308\n",
      "         Iterations: 13\n",
      "         Function evaluations: 3051\n"
     ]
    },
    {
     "name": "stderr",
     "output_type": "stream",
     "text": [
      "\u001b[32m[I 2022-03-10 00:30:04,189]\u001b[0m Trial 42 finished with value: 0.7051285954875324 and parameters: {'p': 8, 'd': 1, 'q': 4, 'P': 1, 'D': 1, 'Q': 1}. Best is trial 14 with value: 0.7060838919926664.\u001b[0m\n"
     ]
    },
    {
     "name": "stdout",
     "output_type": "stream",
     "text": [
      "Optimization terminated successfully.\n",
      "         Current function value: -1.348157\n",
      "         Iterations: 15\n",
      "         Function evaluations: 2698\n"
     ]
    },
    {
     "name": "stderr",
     "output_type": "stream",
     "text": [
      "\u001b[32m[I 2022-03-10 00:30:22,668]\u001b[0m Trial 43 finished with value: 0.6943033060658567 and parameters: {'p': 8, 'd': 1, 'q': 3, 'P': 1, 'D': 1, 'Q': 1}. Best is trial 14 with value: 0.7060838919926664.\u001b[0m\n",
      "\u001b[32m[I 2022-03-10 00:30:32,669]\u001b[0m Trial 44 finished with value: 0.6713948314519246 and parameters: {'p': 7, 'd': 1, 'q': 5, 'P': 1, 'D': 1, 'Q': 1}. Best is trial 14 with value: 0.7060838919926664.\u001b[0m\n"
     ]
    },
    {
     "name": "stdout",
     "output_type": "stream",
     "text": [
      "Optimization terminated successfully.\n",
      "         Current function value: -1.344111\n",
      "         Iterations: 11\n",
      "         Function evaluations: 2109\n"
     ]
    },
    {
     "name": "stderr",
     "output_type": "stream",
     "text": [
      "\u001b[32m[I 2022-03-10 00:30:42,025]\u001b[0m Trial 45 finished with value: 0.6831338711861465 and parameters: {'p': 8, 'd': 1, 'q': 4, 'P': 0, 'D': 1, 'Q': 0}. Best is trial 14 with value: 0.7060838919926664.\u001b[0m\n"
     ]
    },
    {
     "name": "stdout",
     "output_type": "stream",
     "text": [
      "Optimization terminated successfully.\n",
      "         Current function value: -1.199631\n",
      "         Iterations: 16\n",
      "         Function evaluations: 2772\n",
      "Optimization terminated successfully.\n",
      "         Current function value: -1.313228\n",
      "         Iterations: 14\n",
      "         Function evaluations: 2764\n"
     ]
    },
    {
     "name": "stderr",
     "output_type": "stream",
     "text": [
      "\u001b[32m[I 2022-03-10 00:31:04,518]\u001b[0m Trial 46 finished with value: 0.6678155812868336 and parameters: {'p': 6, 'd': 1, 'q': 6, 'P': 1, 'D': 1, 'Q': 2}. Best is trial 14 with value: 0.7060838919926664.\u001b[0m\n",
      "\u001b[32m[I 2022-03-10 00:31:15,050]\u001b[0m Trial 47 finished with value: 0.675695634717398 and parameters: {'p': 7, 'd': 1, 'q': 3, 'P': 2, 'D': 0, 'Q': 1}. Best is trial 14 with value: 0.7060838919926664.\u001b[0m\n"
     ]
    },
    {
     "name": "stdout",
     "output_type": "stream",
     "text": [
      "Optimization terminated successfully.\n",
      "         Current function value: -1.336633\n",
      "         Iterations: 14\n",
      "         Function evaluations: 2214\n",
      "Optimization terminated successfully.\n",
      "         Current function value: -1.332017\n",
      "         Iterations: 13\n",
      "         Function evaluations: 2617\n"
     ]
    },
    {
     "name": "stderr",
     "output_type": "stream",
     "text": [
      "\u001b[32m[I 2022-03-10 00:31:35,440]\u001b[0m Trial 48 finished with value: 0.7023921263726229 and parameters: {'p': 8, 'd': 0, 'q': 5, 'P': 1, 'D': 1, 'Q': 2}. Best is trial 14 with value: 0.7060838919926664.\u001b[0m\n",
      "\u001b[32m[I 2022-03-10 00:31:38,584]\u001b[0m Trial 49 finished with value: 0.6739729490867252 and parameters: {'p': 6, 'd': 1, 'q': 0, 'P': 0, 'D': 1, 'Q': 2}. Best is trial 14 with value: 0.7060838919926664.\u001b[0m\n"
     ]
    },
    {
     "name": "stdout",
     "output_type": "stream",
     "text": [
      "Optimization terminated successfully.\n",
      "         Current function value: -1.266047\n",
      "         Iterations: 4\n",
      "         Function evaluations: 425\n"
     ]
    },
    {
     "name": "stderr",
     "output_type": "stream",
     "text": [
      "\u001b[32m[I 2022-03-10 00:31:38,635]\u001b[0m A new study created in memory with name: no-name-726992af-98bd-4d80-ae23-8f7b46ff5c62\u001b[0m\n",
      "\u001b[32m[I 2022-03-10 00:31:39,329]\u001b[0m Trial 0 finished with value: 0.451283905405794 and parameters: {'p': 2, 'd': 1, 'q': 2, 'P': 1, 'D': 0, 'Q': 0}. Best is trial 0 with value: 0.451283905405794.\u001b[0m\n"
     ]
    },
    {
     "name": "stdout",
     "output_type": "stream",
     "text": [
      "Optimization terminated successfully.\n",
      "         Current function value: -1.375250\n",
      "         Iterations: 5\n",
      "         Function evaluations: 409\n"
     ]
    },
    {
     "name": "stderr",
     "output_type": "stream",
     "text": [
      "\u001b[32m[I 2022-03-10 00:31:39,806]\u001b[0m Trial 1 finished with value: 0.749291682814002 and parameters: {'p': 4, 'd': 0, 'q': 3, 'P': 0, 'D': 1, 'Q': 0}. Best is trial 1 with value: 0.749291682814002.\u001b[0m\n"
     ]
    },
    {
     "name": "stdout",
     "output_type": "stream",
     "text": [
      "Optimization terminated successfully.\n",
      "         Current function value: -1.300938\n",
      "         Iterations: 4\n",
      "         Function evaluations: 415\n",
      "Optimization terminated successfully.\n",
      "         Current function value: -1.447124\n",
      "         Iterations: 8\n",
      "         Function evaluations: 1278\n"
     ]
    },
    {
     "name": "stderr",
     "output_type": "stream",
     "text": [
      "\u001b[32m[I 2022-03-10 00:31:50,990]\u001b[0m Trial 2 finished with value: 0.7130174985720134 and parameters: {'p': 3, 'd': 1, 'q': 3, 'P': 3, 'D': 0, 'Q': 3}. Best is trial 1 with value: 0.749291682814002.\u001b[0m\n"
     ]
    },
    {
     "name": "stdout",
     "output_type": "stream",
     "text": [
      "Optimization terminated successfully.\n",
      "         Current function value: -1.400499\n",
      "         Iterations: 6\n",
      "         Function evaluations: 979\n"
     ]
    },
    {
     "name": "stderr",
     "output_type": "stream",
     "text": [
      "\u001b[32m[I 2022-03-10 00:32:03,814]\u001b[0m Trial 3 finished with value: 0.7151885448154007 and parameters: {'p': 5, 'd': 1, 'q': 3, 'P': 2, 'D': 1, 'Q': 3}. Best is trial 1 with value: 0.749291682814002.\u001b[0m\n"
     ]
    },
    {
     "name": "stdout",
     "output_type": "stream",
     "text": [
      "Optimization terminated successfully.\n",
      "         Current function value: -1.456597\n",
      "         Iterations: 4\n",
      "         Function evaluations: 649\n"
     ]
    },
    {
     "name": "stderr",
     "output_type": "stream",
     "text": [
      "\u001b[32m[I 2022-03-10 00:32:09,543]\u001b[0m Trial 4 finished with value: 0.7171091986425686 and parameters: {'p': 7, 'd': 0, 'q': 2, 'P': 2, 'D': 0, 'Q': 3}. Best is trial 1 with value: 0.749291682814002.\u001b[0m\n"
     ]
    },
    {
     "name": "stdout",
     "output_type": "stream",
     "text": [
      "Optimization terminated successfully.\n",
      "         Current function value: -1.497532\n",
      "         Iterations: 12\n",
      "         Function evaluations: 1912\n"
     ]
    },
    {
     "name": "stderr",
     "output_type": "stream",
     "text": [
      "\u001b[32m[I 2022-03-10 00:32:21,111]\u001b[0m Trial 5 finished with value: 0.7134222300436611 and parameters: {'p': 6, 'd': 0, 'q': 4, 'P': 1, 'D': 0, 'Q': 2}. Best is trial 1 with value: 0.749291682814002.\u001b[0m\n"
     ]
    },
    {
     "name": "stdout",
     "output_type": "stream",
     "text": [
      "Optimization terminated successfully.\n",
      "         Current function value: -1.389508\n",
      "         Iterations: 4\n",
      "         Function evaluations: 457\n"
     ]
    },
    {
     "name": "stderr",
     "output_type": "stream",
     "text": [
      "\u001b[32m[I 2022-03-10 00:32:27,098]\u001b[0m Trial 6 finished with value: 0.7310398498495623 and parameters: {'p': 0, 'd': 0, 'q': 5, 'P': 0, 'D': 1, 'Q': 3}. Best is trial 1 with value: 0.749291682814002.\u001b[0m\n"
     ]
    },
    {
     "name": "stdout",
     "output_type": "stream",
     "text": [
      "Optimization terminated successfully.\n",
      "         Current function value: -1.477737\n",
      "         Iterations: 5\n",
      "         Function evaluations: 975\n"
     ]
    },
    {
     "name": "stderr",
     "output_type": "stream",
     "text": [
      "\u001b[32m[I 2022-03-10 00:32:33,415]\u001b[0m Trial 7 finished with value: 0.6977571871260273 and parameters: {'p': 4, 'd': 1, 'q': 8, 'P': 1, 'D': 1, 'Q': 1}. Best is trial 1 with value: 0.749291682814002.\u001b[0m\n",
      "\u001b[32m[I 2022-03-10 00:32:37,533]\u001b[0m Trial 8 finished with value: 0.7104016650455417 and parameters: {'p': 6, 'd': 1, 'q': 1, 'P': 1, 'D': 0, 'Q': 1}. Best is trial 1 with value: 0.749291682814002.\u001b[0m\n"
     ]
    },
    {
     "name": "stdout",
     "output_type": "stream",
     "text": [
      "Optimization terminated successfully.\n",
      "         Current function value: -1.534813\n",
      "         Iterations: 10\n",
      "         Function evaluations: 1095\n"
     ]
    },
    {
     "name": "stderr",
     "output_type": "stream",
     "text": [
      "\u001b[32m[I 2022-03-10 00:32:41,242]\u001b[0m Trial 9 finished with value: 0.6877575461758794 and parameters: {'p': 2, 'd': 1, 'q': 1, 'P': 2, 'D': 0, 'Q': 1}. Best is trial 1 with value: 0.749291682814002.\u001b[0m\n"
     ]
    },
    {
     "name": "stdout",
     "output_type": "stream",
     "text": [
      "Optimization terminated successfully.\n",
      "         Current function value: -1.496991\n",
      "         Iterations: 8\n",
      "         Function evaluations: 836\n"
     ]
    },
    {
     "name": "stderr",
     "output_type": "stream",
     "text": [
      "\u001b[32m[I 2022-03-10 00:32:51,203]\u001b[0m Trial 10 finished with value: 0.7570734662620422 and parameters: {'p': 8, 'd': 0, 'q': 6, 'P': 0, 'D': 1, 'Q': 0}. Best is trial 10 with value: 0.7570734662620422.\u001b[0m\n"
     ]
    },
    {
     "name": "stdout",
     "output_type": "stream",
     "text": [
      "Optimization terminated successfully.\n",
      "         Current function value: -1.380526\n",
      "         Iterations: 16\n",
      "         Function evaluations: 2809\n"
     ]
    },
    {
     "name": "stderr",
     "output_type": "stream",
     "text": [
      "\u001b[32m[I 2022-03-10 00:33:00,781]\u001b[0m Trial 11 finished with value: 0.7570734662620422 and parameters: {'p': 8, 'd': 0, 'q': 6, 'P': 0, 'D': 1, 'Q': 0}. Best is trial 10 with value: 0.7570734662620422.\u001b[0m\n"
     ]
    },
    {
     "name": "stdout",
     "output_type": "stream",
     "text": [
      "Optimization terminated successfully.\n",
      "         Current function value: -1.380526\n",
      "         Iterations: 16\n",
      "         Function evaluations: 2809\n"
     ]
    },
    {
     "name": "stderr",
     "output_type": "stream",
     "text": [
      "\u001b[32m[I 2022-03-10 00:33:16,787]\u001b[0m Trial 12 finished with value: 0.7458135595075743 and parameters: {'p': 8, 'd': 0, 'q': 7, 'P': 0, 'D': 1, 'Q': 0}. Best is trial 10 with value: 0.7570734662620422.\u001b[0m\n"
     ]
    },
    {
     "name": "stdout",
     "output_type": "stream",
     "text": [
      "Optimization terminated successfully.\n",
      "         Current function value: -1.371109\n",
      "         Iterations: 26\n",
      "         Function evaluations: 4923\n"
     ]
    },
    {
     "name": "stderr",
     "output_type": "stream",
     "text": [
      "\u001b[32m[I 2022-03-10 00:33:26,551]\u001b[0m Trial 13 finished with value: 0.7570734662620422 and parameters: {'p': 8, 'd': 0, 'q': 6, 'P': 0, 'D': 1, 'Q': 0}. Best is trial 10 with value: 0.7570734662620422.\u001b[0m\n"
     ]
    },
    {
     "name": "stdout",
     "output_type": "stream",
     "text": [
      "Optimization terminated successfully.\n",
      "         Current function value: -1.380526\n",
      "         Iterations: 16\n",
      "         Function evaluations: 2809\n",
      "Optimization terminated successfully.\n",
      "         Current function value: -1.438763\n",
      "         Iterations: 4\n",
      "         Function evaluations: 752\n"
     ]
    },
    {
     "name": "stderr",
     "output_type": "stream",
     "text": [
      "\u001b[32m[I 2022-03-10 00:33:33,746]\u001b[0m Trial 14 finished with value: 0.7299085147789046 and parameters: {'p': 8, 'd': 0, 'q': 6, 'P': 0, 'D': 1, 'Q': 2}. Best is trial 10 with value: 0.7570734662620422.\u001b[0m\n"
     ]
    },
    {
     "name": "stdout",
     "output_type": "stream",
     "text": [
      "Optimization terminated successfully.\n",
      "         Current function value: -1.410914\n",
      "         Iterations: 19\n",
      "         Function evaluations: 4536\n"
     ]
    },
    {
     "name": "stderr",
     "output_type": "stream",
     "text": [
      "\u001b[32m[I 2022-03-10 00:34:21,155]\u001b[0m Trial 15 finished with value: 0.741744180178788 and parameters: {'p': 6, 'd': 0, 'q': 8, 'P': 3, 'D': 1, 'Q': 1}. Best is trial 10 with value: 0.7570734662620422.\u001b[0m\n",
      "\u001b[32m[I 2022-03-10 00:34:37,989]\u001b[0m Trial 16 finished with value: 0.716595313980842 and parameters: {'p': 8, 'd': 0, 'q': 5, 'P': 0, 'D': 1, 'Q': 0}. Best is trial 10 with value: 0.7570734662620422.\u001b[0m\n"
     ]
    },
    {
     "name": "stdout",
     "output_type": "stream",
     "text": [
      "Optimization terminated successfully.\n",
      "         Current function value: -1.341007\n",
      "         Iterations: 30\n",
      "         Function evaluations: 5459\n",
      "Optimization terminated successfully.\n",
      "         Current function value: -1.414988\n",
      "         Iterations: 9\n",
      "         Function evaluations: 1616\n"
     ]
    },
    {
     "name": "stderr",
     "output_type": "stream",
     "text": [
      "\u001b[32m[I 2022-03-10 00:34:45,542]\u001b[0m Trial 17 finished with value: 0.7513894352402478 and parameters: {'p': 7, 'd': 0, 'q': 6, 'P': 1, 'D': 1, 'Q': 0}. Best is trial 10 with value: 0.7570734662620422.\u001b[0m\n"
     ]
    },
    {
     "name": "stdout",
     "output_type": "stream",
     "text": [
      "Optimization terminated successfully.\n",
      "         Current function value: -1.439033\n",
      "         Iterations: 7\n",
      "         Function evaluations: 1421\n"
     ]
    },
    {
     "name": "stderr",
     "output_type": "stream",
     "text": [
      "\u001b[32m[I 2022-03-10 00:34:59,479]\u001b[0m Trial 18 finished with value: 0.7359547612688918 and parameters: {'p': 7, 'd': 0, 'q': 7, 'P': 0, 'D': 1, 'Q': 2}. Best is trial 10 with value: 0.7570734662620422.\u001b[0m\n"
     ]
    },
    {
     "name": "stdout",
     "output_type": "stream",
     "text": [
      "Optimization terminated successfully.\n",
      "         Current function value: -1.499388\n",
      "         Iterations: 12\n",
      "         Function evaluations: 2038\n"
     ]
    },
    {
     "name": "stderr",
     "output_type": "stream",
     "text": [
      "\u001b[32m[I 2022-03-10 00:35:12,698]\u001b[0m Trial 19 finished with value: 0.7256524252971599 and parameters: {'p': 5, 'd': 0, 'q': 5, 'P': 1, 'D': 1, 'Q': 1}. Best is trial 10 with value: 0.7570734662620422.\u001b[0m\n",
      "\u001b[32m[I 2022-03-10 00:35:20,036]\u001b[0m Trial 20 finished with value: 0.7354501055626262 and parameters: {'p': 5, 'd': 0, 'q': 7, 'P': 0, 'D': 1, 'Q': 0}. Best is trial 10 with value: 0.7570734662620422.\u001b[0m\n"
     ]
    },
    {
     "name": "stdout",
     "output_type": "stream",
     "text": [
      "Optimization terminated successfully.\n",
      "         Current function value: -1.330984\n",
      "         Iterations: 14\n",
      "         Function evaluations: 2219\n"
     ]
    },
    {
     "name": "stderr",
     "output_type": "stream",
     "text": [
      "\u001b[32m[I 2022-03-10 00:35:31,671]\u001b[0m Trial 21 finished with value: 0.7570734662620422 and parameters: {'p': 8, 'd': 0, 'q': 6, 'P': 0, 'D': 1, 'Q': 0}. Best is trial 10 with value: 0.7570734662620422.\u001b[0m\n"
     ]
    },
    {
     "name": "stdout",
     "output_type": "stream",
     "text": [
      "Optimization terminated successfully.\n",
      "         Current function value: -1.380526\n",
      "         Iterations: 16\n",
      "         Function evaluations: 2809\n"
     ]
    },
    {
     "name": "stderr",
     "output_type": "stream",
     "text": [
      "\u001b[32m[I 2022-03-10 00:35:41,309]\u001b[0m Trial 22 finished with value: 0.756709074369887 and parameters: {'p': 7, 'd': 0, 'q': 6, 'P': 0, 'D': 1, 'Q': 0}. Best is trial 10 with value: 0.7570734662620422.\u001b[0m\n"
     ]
    },
    {
     "name": "stdout",
     "output_type": "stream",
     "text": [
      "Optimization terminated successfully.\n",
      "         Current function value: -1.383442\n",
      "         Iterations: 15\n",
      "         Function evaluations: 2493\n"
     ]
    },
    {
     "name": "stderr",
     "output_type": "stream",
     "text": [
      "\u001b[32m[I 2022-03-10 00:35:44,413]\u001b[0m Trial 23 finished with value: -1.2239365875514808e+119 and parameters: {'p': 8, 'd': 0, 'q': 4, 'P': 0, 'D': 1, 'Q': 1}. Best is trial 10 with value: 0.7570734662620422.\u001b[0m\n"
     ]
    },
    {
     "name": "stdout",
     "output_type": "stream",
     "text": [
      "Optimization terminated successfully.\n",
      "         Current function value: 4.005795\n",
      "         Iterations: 3\n",
      "         Function evaluations: 498\n",
      "Optimization terminated successfully.\n",
      "         Current function value: -1.413911\n",
      "         Iterations: 17\n",
      "         Function evaluations: 3338\n"
     ]
    },
    {
     "name": "stderr",
     "output_type": "stream",
     "text": [
      "\u001b[32m[I 2022-03-10 00:36:00,236]\u001b[0m Trial 24 finished with value: 0.7672919433353673 and parameters: {'p': 7, 'd': 0, 'q': 7, 'P': 1, 'D': 1, 'Q': 0}. Best is trial 24 with value: 0.7672919433353673.\u001b[0m\n"
     ]
    },
    {
     "name": "stdout",
     "output_type": "stream",
     "text": [
      "Optimization terminated successfully.\n",
      "         Current function value: -1.437283\n",
      "         Iterations: 15\n",
      "         Function evaluations: 3103\n"
     ]
    },
    {
     "name": "stderr",
     "output_type": "stream",
     "text": [
      "\u001b[32m[I 2022-03-10 00:36:17,460]\u001b[0m Trial 25 finished with value: 0.7397168383801536 and parameters: {'p': 7, 'd': 0, 'q': 8, 'P': 1, 'D': 1, 'Q': 0}. Best is trial 24 with value: 0.7672919433353673.\u001b[0m\n"
     ]
    },
    {
     "name": "stdout",
     "output_type": "stream",
     "text": [
      "Optimization terminated successfully.\n",
      "         Current function value: -1.443177\n",
      "         Iterations: 5\n",
      "         Function evaluations: 973\n"
     ]
    },
    {
     "name": "stderr",
     "output_type": "stream",
     "text": [
      "\u001b[32m[I 2022-03-10 00:36:25,520]\u001b[0m Trial 26 finished with value: 0.7223121407328477 and parameters: {'p': 6, 'd': 0, 'q': 7, 'P': 2, 'D': 1, 'Q': 1}. Best is trial 24 with value: 0.7672919433353673.\u001b[0m\n",
      "\u001b[32m[I 2022-03-10 00:36:25,939]\u001b[0m Trial 27 finished with value: 0.7529346525021205 and parameters: {'p': 0, 'd': 0, 'q': 5, 'P': 1, 'D': 1, 'Q': 0}. Best is trial 24 with value: 0.7672919433353673.\u001b[0m\n"
     ]
    },
    {
     "name": "stdout",
     "output_type": "stream",
     "text": [
      "Optimization terminated successfully.\n",
      "         Current function value: -1.417649\n",
      "         Iterations: 2\n",
      "         Function evaluations: 171\n",
      "Optimization terminated successfully.\n",
      "         Current function value: -1.492243\n",
      "         Iterations: 9\n",
      "         Function evaluations: 1762\n"
     ]
    },
    {
     "name": "stderr",
     "output_type": "stream",
     "text": [
      "\u001b[32m[I 2022-03-10 00:36:37,019]\u001b[0m Trial 28 finished with value: 0.7288591542712973 and parameters: {'p': 7, 'd': 0, 'q': 7, 'P': 1, 'D': 1, 'Q': 1}. Best is trial 24 with value: 0.7672919433353673.\u001b[0m\n",
      "\u001b[32m[I 2022-03-10 00:36:38,204]\u001b[0m Trial 29 finished with value: 0.4471677708614926 and parameters: {'p': 1, 'd': 1, 'q': 4, 'P': 1, 'D': 0, 'Q': 0}. Best is trial 24 with value: 0.7672919433353673.\u001b[0m\n"
     ]
    },
    {
     "name": "stdout",
     "output_type": "stream",
     "text": [
      "Optimization terminated successfully.\n",
      "         Current function value: -1.380635\n",
      "         Iterations: 9\n",
      "         Function evaluations: 833\n",
      "Optimization terminated successfully.\n",
      "         Current function value: -1.401660\n",
      "         Iterations: 16\n",
      "         Function evaluations: 3292\n"
     ]
    },
    {
     "name": "stderr",
     "output_type": "stream",
     "text": [
      "\u001b[32m[I 2022-03-10 00:36:58,243]\u001b[0m Trial 30 finished with value: 0.7254920133196656 and parameters: {'p': 6, 'd': 0, 'q': 8, 'P': 2, 'D': 1, 'Q': 0}. Best is trial 24 with value: 0.7672919433353673.\u001b[0m\n",
      "\u001b[32m[I 2022-03-10 00:37:09,334]\u001b[0m Trial 31 finished with value: 0.7570734662620422 and parameters: {'p': 8, 'd': 0, 'q': 6, 'P': 0, 'D': 1, 'Q': 0}. Best is trial 24 with value: 0.7672919433353673.\u001b[0m\n"
     ]
    },
    {
     "name": "stdout",
     "output_type": "stream",
     "text": [
      "Optimization terminated successfully.\n",
      "         Current function value: -1.380526\n",
      "         Iterations: 16\n",
      "         Function evaluations: 2809\n"
     ]
    },
    {
     "name": "stderr",
     "output_type": "stream",
     "text": [
      "\u001b[32m[I 2022-03-10 00:37:20,060]\u001b[0m Trial 32 finished with value: 0.7570734662620422 and parameters: {'p': 8, 'd': 0, 'q': 6, 'P': 0, 'D': 1, 'Q': 0}. Best is trial 24 with value: 0.7672919433353673.\u001b[0m\n"
     ]
    },
    {
     "name": "stdout",
     "output_type": "stream",
     "text": [
      "Optimization terminated successfully.\n",
      "         Current function value: -1.380526\n",
      "         Iterations: 16\n",
      "         Function evaluations: 2809\n"
     ]
    },
    {
     "name": "stderr",
     "output_type": "stream",
     "text": [
      "\u001b[32m[I 2022-03-10 00:37:25,274]\u001b[0m Trial 33 finished with value: 0.7150554898470897 and parameters: {'p': 7, 'd': 0, 'q': 5, 'P': 0, 'D': 1, 'Q': 0}. Best is trial 24 with value: 0.7672919433353673.\u001b[0m\n"
     ]
    },
    {
     "name": "stdout",
     "output_type": "stream",
     "text": [
      "Optimization terminated successfully.\n",
      "         Current function value: -1.308776\n",
      "         Iterations: 15\n",
      "         Function evaluations: 2576\n"
     ]
    },
    {
     "name": "stderr",
     "output_type": "stream",
     "text": [
      "\u001b[32m[I 2022-03-10 00:37:43,681]\u001b[0m Trial 34 finished with value: 0.7458135595075743 and parameters: {'p': 8, 'd': 0, 'q': 7, 'P': 0, 'D': 1, 'Q': 0}. Best is trial 24 with value: 0.7672919433353673.\u001b[0m\n"
     ]
    },
    {
     "name": "stdout",
     "output_type": "stream",
     "text": [
      "Optimization terminated successfully.\n",
      "         Current function value: -1.371109\n",
      "         Iterations: 26\n",
      "         Function evaluations: 4923\n"
     ]
    },
    {
     "name": "stderr",
     "output_type": "stream",
     "text": [
      "\u001b[32m[I 2022-03-10 00:37:49,609]\u001b[0m Trial 35 finished with value: 0.7398508842447054 and parameters: {'p': 4, 'd': 0, 'q': 4, 'P': 0, 'D': 1, 'Q': 0}. Best is trial 24 with value: 0.7672919433353673.\u001b[0m\n"
     ]
    },
    {
     "name": "stdout",
     "output_type": "stream",
     "text": [
      "Optimization terminated successfully.\n",
      "         Current function value: -1.324039\n",
      "         Iterations: 16\n",
      "         Function evaluations: 1808\n",
      "Optimization terminated successfully.\n",
      "         Current function value: -1.377732\n",
      "         Iterations: 11\n",
      "         Function evaluations: 2133\n"
     ]
    },
    {
     "name": "stderr",
     "output_type": "stream",
     "text": [
      "\u001b[32m[I 2022-03-10 00:38:12,165]\u001b[0m Trial 36 finished with value: 0.7224531216735978 and parameters: {'p': 7, 'd': 0, 'q': 6, 'P': 3, 'D': 1, 'Q': 0}. Best is trial 24 with value: 0.7672919433353673.\u001b[0m\n",
      "\u001b[32m[I 2022-03-10 00:38:16,021]\u001b[0m Trial 37 finished with value: 0.7296784936789376 and parameters: {'p': 8, 'd': 1, 'q': 0, 'P': 1, 'D': 0, 'Q': 1}. Best is trial 24 with value: 0.7672919433353673.\u001b[0m\n"
     ]
    },
    {
     "name": "stdout",
     "output_type": "stream",
     "text": [
      "Optimization terminated successfully.\n",
      "         Current function value: -1.495488\n",
      "         Iterations: 8\n",
      "         Function evaluations: 955\n"
     ]
    },
    {
     "name": "stderr",
     "output_type": "stream",
     "text": [
      "\u001b[32m[I 2022-03-10 00:38:18,904]\u001b[0m Trial 38 finished with value: 0.731502547953035 and parameters: {'p': 3, 'd': 0, 'q': 3, 'P': 0, 'D': 1, 'Q': 2}. Best is trial 24 with value: 0.7672919433353673.\u001b[0m\n"
     ]
    },
    {
     "name": "stdout",
     "output_type": "stream",
     "text": [
      "Optimization terminated successfully.\n",
      "         Current function value: -1.450165\n",
      "         Iterations: 3\n",
      "         Function evaluations: 331\n",
      "Optimization terminated successfully.\n",
      "         Current function value: -1.416602\n",
      "         Iterations: 18\n",
      "         Function evaluations: 3061\n"
     ]
    },
    {
     "name": "stderr",
     "output_type": "stream",
     "text": [
      "\u001b[32m[I 2022-03-10 00:38:32,055]\u001b[0m Trial 39 finished with value: 0.7260728426779782 and parameters: {'p': 6, 'd': 0, 'q': 5, 'P': 1, 'D': 1, 'Q': 0}. Best is trial 24 with value: 0.7672919433353673.\u001b[0m\n",
      "\u001b[32m[I 2022-03-10 00:38:44,936]\u001b[0m Trial 40 finished with value: 0.7333952470285167 and parameters: {'p': 7, 'd': 1, 'q': 7, 'P': 0, 'D': 0, 'Q': 1}. Best is trial 24 with value: 0.7672919433353673.\u001b[0m\n"
     ]
    },
    {
     "name": "stdout",
     "output_type": "stream",
     "text": [
      "Optimization terminated successfully.\n",
      "         Current function value: -1.502035\n",
      "         Iterations: 24\n",
      "         Function evaluations: 4782\n"
     ]
    },
    {
     "name": "stderr",
     "output_type": "stream",
     "text": [
      "\u001b[32m[I 2022-03-10 00:38:54,425]\u001b[0m Trial 41 finished with value: 0.7570734662620422 and parameters: {'p': 8, 'd': 0, 'q': 6, 'P': 0, 'D': 1, 'Q': 0}. Best is trial 24 with value: 0.7672919433353673.\u001b[0m\n"
     ]
    },
    {
     "name": "stdout",
     "output_type": "stream",
     "text": [
      "Optimization terminated successfully.\n",
      "         Current function value: -1.380526\n",
      "         Iterations: 16\n",
      "         Function evaluations: 2809\n"
     ]
    },
    {
     "name": "stderr",
     "output_type": "stream",
     "text": [
      "\u001b[32m[I 2022-03-10 00:39:03,849]\u001b[0m Trial 42 finished with value: 0.7570734662620422 and parameters: {'p': 8, 'd': 0, 'q': 6, 'P': 0, 'D': 1, 'Q': 0}. Best is trial 24 with value: 0.7672919433353673.\u001b[0m\n"
     ]
    },
    {
     "name": "stdout",
     "output_type": "stream",
     "text": [
      "Optimization terminated successfully.\n",
      "         Current function value: -1.380526\n",
      "         Iterations: 16\n",
      "         Function evaluations: 2809\n"
     ]
    },
    {
     "name": "stderr",
     "output_type": "stream",
     "text": [
      "\u001b[32m[I 2022-03-10 00:39:18,536]\u001b[0m Trial 43 finished with value: 0.716595313980842 and parameters: {'p': 8, 'd': 0, 'q': 5, 'P': 0, 'D': 1, 'Q': 0}. Best is trial 24 with value: 0.7672919433353673.\u001b[0m\n"
     ]
    },
    {
     "name": "stdout",
     "output_type": "stream",
     "text": [
      "Optimization terminated successfully.\n",
      "         Current function value: -1.341007\n",
      "         Iterations: 30\n",
      "         Function evaluations: 5459\n"
     ]
    },
    {
     "name": "stderr",
     "output_type": "stream",
     "text": [
      "\u001b[32m[I 2022-03-10 00:39:47,014]\u001b[0m Trial 44 finished with value: 0.7584486349199613 and parameters: {'p': 8, 'd': 0, 'q': 8, 'P': 0, 'D': 1, 'Q': 0}. Best is trial 24 with value: 0.7672919433353673.\u001b[0m\n"
     ]
    },
    {
     "name": "stdout",
     "output_type": "stream",
     "text": [
      "Optimization terminated successfully.\n",
      "         Current function value: -1.394567\n",
      "         Iterations: 35\n",
      "         Function evaluations: 7256\n",
      "Optimization terminated successfully.\n",
      "         Current function value: -1.392076\n",
      "         Iterations: 8\n",
      "         Function evaluations: 1656\n"
     ]
    },
    {
     "name": "stderr",
     "output_type": "stream",
     "text": [
      "\u001b[32m[I 2022-03-10 00:39:56,177]\u001b[0m Trial 45 finished with value: 0.7125939134159853 and parameters: {'p': 7, 'd': 0, 'q': 8, 'P': 2, 'D': 1, 'Q': 0}. Best is trial 24 with value: 0.7672919433353673.\u001b[0m\n"
     ]
    },
    {
     "name": "stdout",
     "output_type": "stream",
     "text": [
      "Optimization terminated successfully.\n",
      "         Current function value: -1.384164\n",
      "         Iterations: 4\n",
      "         Function evaluations: 908\n"
     ]
    },
    {
     "name": "stderr",
     "output_type": "stream",
     "text": [
      "\u001b[32m[I 2022-03-10 00:40:11,048]\u001b[0m Trial 46 finished with value: 0.7358945491828396 and parameters: {'p': 7, 'd': 0, 'q': 8, 'P': 1, 'D': 1, 'Q': 3}. Best is trial 24 with value: 0.7672919433353673.\u001b[0m\n",
      "\u001b[32m[I 2022-03-10 00:40:29,681]\u001b[0m Trial 47 finished with value: 0.7458135595075743 and parameters: {'p': 8, 'd': 0, 'q': 7, 'P': 0, 'D': 1, 'Q': 0}. Best is trial 24 with value: 0.7672919433353673.\u001b[0m\n"
     ]
    },
    {
     "name": "stdout",
     "output_type": "stream",
     "text": [
      "Optimization terminated successfully.\n",
      "         Current function value: -1.371109\n",
      "         Iterations: 26\n",
      "         Function evaluations: 4923\n"
     ]
    },
    {
     "name": "stderr",
     "output_type": "stream",
     "text": [
      "\u001b[32m[I 2022-03-10 00:40:37,767]\u001b[0m Trial 48 finished with value: 0.7539430295156109 and parameters: {'p': 6, 'd': 0, 'q': 7, 'P': 0, 'D': 1, 'Q': 0}. Best is trial 24 with value: 0.7672919433353673.\u001b[0m\n"
     ]
    },
    {
     "name": "stdout",
     "output_type": "stream",
     "text": [
      "Optimization terminated successfully.\n",
      "         Current function value: -1.382882\n",
      "         Iterations: 12\n",
      "         Function evaluations: 1974\n",
      "Optimization terminated successfully.\n",
      "         Current function value: -1.494691\n",
      "         Iterations: 14\n",
      "         Function evaluations: 3040\n"
     ]
    },
    {
     "name": "stderr",
     "output_type": "stream",
     "text": [
      "\u001b[32m[I 2022-03-10 00:40:57,874]\u001b[0m Trial 49 finished with value: 0.7483135094713156 and parameters: {'p': 8, 'd': 0, 'q': 8, 'P': 0, 'D': 1, 'Q': 1}. Best is trial 24 with value: 0.7672919433353673.\u001b[0m\n",
      "\u001b[32m[I 2022-03-10 00:40:57,920]\u001b[0m A new study created in memory with name: no-name-e6ed92e0-e7ba-48d6-be18-8773b1c6b431\u001b[0m\n",
      "\u001b[32m[I 2022-03-10 00:41:07,190]\u001b[0m Trial 0 finished with value: 0.6210880925491615 and parameters: {'p': 6, 'd': 0, 'q': 4, 'P': 2, 'D': 1, 'Q': 0}. Best is trial 0 with value: 0.6210880925491615.\u001b[0m\n"
     ]
    },
    {
     "name": "stdout",
     "output_type": "stream",
     "text": [
      "Optimization terminated successfully.\n",
      "         Current function value: -1.333215\n",
      "         Iterations: 14\n",
      "         Function evaluations: 2180\n",
      "Optimization terminated successfully.\n",
      "         Current function value: -1.310884\n",
      "         Iterations: 7\n",
      "         Function evaluations: 1215\n"
     ]
    },
    {
     "name": "stderr",
     "output_type": "stream",
     "text": [
      "\u001b[32m[I 2022-03-10 00:41:20,203]\u001b[0m Trial 1 finished with value: 0.6538128894975178 and parameters: {'p': 0, 'd': 1, 'q': 6, 'P': 3, 'D': 1, 'Q': 3}. Best is trial 1 with value: 0.6538128894975178.\u001b[0m\n"
     ]
    },
    {
     "name": "stdout",
     "output_type": "stream",
     "text": [
      "Optimization terminated successfully.\n",
      "         Current function value: -1.332268\n",
      "         Iterations: 7\n",
      "         Function evaluations: 889\n"
     ]
    },
    {
     "name": "stderr",
     "output_type": "stream",
     "text": [
      "\u001b[32m[I 2022-03-10 00:41:26,580]\u001b[0m Trial 2 finished with value: 0.6594018983440553 and parameters: {'p': 1, 'd': 1, 'q': 3, 'P': 3, 'D': 1, 'Q': 2}. Best is trial 2 with value: 0.6594018983440553.\u001b[0m\n"
     ]
    },
    {
     "name": "stdout",
     "output_type": "stream",
     "text": [
      "Optimization terminated successfully.\n",
      "         Current function value: -1.319418\n",
      "         Iterations: 8\n",
      "         Function evaluations: 2028\n"
     ]
    },
    {
     "name": "stderr",
     "output_type": "stream",
     "text": [
      "\u001b[32m[I 2022-03-10 00:41:53,320]\u001b[0m Trial 3 finished with value: 0.670171699762881 and parameters: {'p': 8, 'd': 1, 'q': 8, 'P': 2, 'D': 1, 'Q': 3}. Best is trial 3 with value: 0.670171699762881.\u001b[0m\n",
      "\u001b[32m[I 2022-03-10 00:41:55,864]\u001b[0m Trial 4 finished with value: 0.6066928598956636 and parameters: {'p': 5, 'd': 0, 'q': 1, 'P': 3, 'D': 0, 'Q': 1}. Best is trial 3 with value: 0.670171699762881.\u001b[0m\n"
     ]
    },
    {
     "name": "stdout",
     "output_type": "stream",
     "text": [
      "Optimization terminated successfully.\n",
      "         Current function value: -1.363811\n",
      "         Iterations: 4\n",
      "         Function evaluations: 478\n",
      "Optimization terminated successfully.\n",
      "         Current function value: -1.333337\n",
      "         Iterations: 14\n",
      "         Function evaluations: 2708\n"
     ]
    },
    {
     "name": "stderr",
     "output_type": "stream",
     "text": [
      "\u001b[32m[I 2022-03-10 00:42:10,593]\u001b[0m Trial 5 finished with value: 0.6231398451945234 and parameters: {'p': 4, 'd': 0, 'q': 8, 'P': 3, 'D': 1, 'Q': 0}. Best is trial 3 with value: 0.670171699762881.\u001b[0m\n",
      "\u001b[32m[I 2022-03-10 00:42:11,685]\u001b[0m Trial 6 finished with value: 0.6127505387057827 and parameters: {'p': 5, 'd': 0, 'q': 0, 'P': 2, 'D': 0, 'Q': 1}. Best is trial 3 with value: 0.670171699762881.\u001b[0m\n"
     ]
    },
    {
     "name": "stdout",
     "output_type": "stream",
     "text": [
      "Optimization terminated successfully.\n",
      "         Current function value: -1.403890\n",
      "         Iterations: 3\n",
      "         Function evaluations: 286\n"
     ]
    },
    {
     "name": "stderr",
     "output_type": "stream",
     "text": [
      "\u001b[32m[I 2022-03-10 00:42:13,871]\u001b[0m Trial 7 finished with value: 0.585410054887687 and parameters: {'p': 8, 'd': 0, 'q': 2, 'P': 1, 'D': 0, 'Q': 0}. Best is trial 3 with value: 0.670171699762881.\u001b[0m\n"
     ]
    },
    {
     "name": "stdout",
     "output_type": "stream",
     "text": [
      "Optimization terminated successfully.\n",
      "         Current function value: -1.285833\n",
      "         Iterations: 9\n",
      "         Function evaluations: 1160\n",
      "Optimization terminated successfully.\n",
      "         Current function value: -1.312567\n",
      "         Iterations: 6\n",
      "         Function evaluations: 914\n"
     ]
    },
    {
     "name": "stderr",
     "output_type": "stream",
     "text": [
      "\u001b[32m[I 2022-03-10 00:42:19,009]\u001b[0m Trial 8 finished with value: 0.6395607033206114 and parameters: {'p': 5, 'd': 0, 'q': 4, 'P': 3, 'D': 1, 'Q': 0}. Best is trial 3 with value: 0.670171699762881.\u001b[0m\n"
     ]
    },
    {
     "name": "stdout",
     "output_type": "stream",
     "text": [
      "Optimization terminated successfully.\n",
      "         Current function value: -1.336403\n",
      "         Iterations: 9\n",
      "         Function evaluations: 973\n"
     ]
    },
    {
     "name": "stderr",
     "output_type": "stream",
     "text": [
      "\u001b[32m[I 2022-03-10 00:42:26,263]\u001b[0m Trial 9 finished with value: 0.649919768298271 and parameters: {'p': 1, 'd': 0, 'q': 1, 'P': 3, 'D': 1, 'Q': 3}. Best is trial 3 with value: 0.670171699762881.\u001b[0m\n"
     ]
    },
    {
     "name": "stdout",
     "output_type": "stream",
     "text": [
      "Optimization terminated successfully.\n",
      "         Current function value: -1.427304\n",
      "         Iterations: 42\n",
      "         Function evaluations: 9345\n"
     ]
    },
    {
     "name": "stderr",
     "output_type": "stream",
     "text": [
      "\u001b[32m[I 2022-03-10 00:43:09,492]\u001b[0m Trial 10 finished with value: 0.6934386226423223 and parameters: {'p': 8, 'd': 1, 'q': 8, 'P': 0, 'D': 0, 'Q': 2}. Best is trial 10 with value: 0.6934386226423223.\u001b[0m\n"
     ]
    },
    {
     "name": "stdout",
     "output_type": "stream",
     "text": [
      "Optimization terminated successfully.\n",
      "         Current function value: -1.427304\n",
      "         Iterations: 42\n",
      "         Function evaluations: 9345\n"
     ]
    },
    {
     "name": "stderr",
     "output_type": "stream",
     "text": [
      "\u001b[32m[I 2022-03-10 00:43:54,819]\u001b[0m Trial 11 finished with value: 0.6934386226423223 and parameters: {'p': 8, 'd': 1, 'q': 8, 'P': 0, 'D': 0, 'Q': 2}. Best is trial 10 with value: 0.6934386226423223.\u001b[0m\n",
      "\u001b[32m[I 2022-03-10 00:44:11,345]\u001b[0m Trial 12 finished with value: 0.5414351850592813 and parameters: {'p': 7, 'd': 1, 'q': 6, 'P': 0, 'D': 0, 'Q': 2}. Best is trial 10 with value: 0.6934386226423223.\u001b[0m\n"
     ]
    },
    {
     "name": "stdout",
     "output_type": "stream",
     "text": [
      "Optimization terminated successfully.\n",
      "         Current function value: -1.381001\n",
      "         Iterations: 28\n",
      "         Function evaluations: 5226\n"
     ]
    },
    {
     "name": "stderr",
     "output_type": "stream",
     "text": [
      "\u001b[32m[I 2022-03-10 00:44:21,453]\u001b[0m Trial 13 finished with value: 0.5317871004458532 and parameters: {'p': 3, 'd': 1, 'q': 6, 'P': 0, 'D': 0, 'Q': 2}. Best is trial 10 with value: 0.6934386226423223.\u001b[0m\n"
     ]
    },
    {
     "name": "stdout",
     "output_type": "stream",
     "text": [
      "Optimization terminated successfully.\n",
      "         Current function value: -1.356605\n",
      "         Iterations: 15\n",
      "         Function evaluations: 2485\n",
      "Optimization terminated successfully.\n",
      "         Current function value: -1.395995\n",
      "         Iterations: 14\n",
      "         Function evaluations: 3286\n"
     ]
    },
    {
     "name": "stderr",
     "output_type": "stream",
     "text": [
      "\u001b[32m[I 2022-03-10 00:44:38,857]\u001b[0m Trial 14 finished with value: 0.6551834136475384 and parameters: {'p': 7, 'd': 1, 'q': 7, 'P': 1, 'D': 0, 'Q': 2}. Best is trial 10 with value: 0.6934386226423223.\u001b[0m\n",
      "\u001b[32m[I 2022-03-10 00:44:49,538]\u001b[0m Trial 15 finished with value: 0.6115999234840115 and parameters: {'p': 8, 'd': 1, 'q': 7, 'P': 0, 'D': 0, 'Q': 1}. Best is trial 10 with value: 0.6934386226423223.\u001b[0m\n"
     ]
    },
    {
     "name": "stdout",
     "output_type": "stream",
     "text": [
      "Optimization terminated successfully.\n",
      "         Current function value: -1.423584\n",
      "         Iterations: 22\n",
      "         Function evaluations: 4453\n",
      "Optimization terminated successfully.\n",
      "         Current function value: -1.405095\n",
      "         Iterations: 13\n",
      "         Function evaluations: 2687\n"
     ]
    },
    {
     "name": "stderr",
     "output_type": "stream",
     "text": [
      "\u001b[32m[I 2022-03-10 00:45:03,600]\u001b[0m Trial 16 finished with value: 0.6794288010868383 and parameters: {'p': 7, 'd': 1, 'q': 5, 'P': 1, 'D': 0, 'Q': 2}. Best is trial 10 with value: 0.6934386226423223.\u001b[0m\n",
      "\u001b[32m[I 2022-03-10 00:45:10,452]\u001b[0m Trial 17 finished with value: 0.12215540006815295 and parameters: {'p': 3, 'd': 1, 'q': 8, 'P': 0, 'D': 0, 'Q': 1}. Best is trial 10 with value: 0.6934386226423223.\u001b[0m\n"
     ]
    },
    {
     "name": "stdout",
     "output_type": "stream",
     "text": [
      "Optimization terminated successfully.\n",
      "         Current function value: -1.307401\n",
      "         Iterations: 14\n",
      "         Function evaluations: 2546\n",
      "Optimization terminated successfully.\n",
      "         Current function value: -1.362995\n",
      "         Iterations: 18\n",
      "         Function evaluations: 4090\n"
     ]
    },
    {
     "name": "stderr",
     "output_type": "stream",
     "text": [
      "\u001b[32m[I 2022-03-10 00:45:46,012]\u001b[0m Trial 18 finished with value: 0.6714848568405583 and parameters: {'p': 6, 'd': 1, 'q': 7, 'P': 1, 'D': 0, 'Q': 3}. Best is trial 10 with value: 0.6934386226423223.\u001b[0m\n",
      "\u001b[32m[I 2022-03-10 00:45:55,294]\u001b[0m Trial 19 finished with value: 0.2612877709881324 and parameters: {'p': 8, 'd': 1, 'q': 5, 'P': 0, 'D': 0, 'Q': 2}. Best is trial 10 with value: 0.6934386226423223.\u001b[0m\n"
     ]
    },
    {
     "name": "stdout",
     "output_type": "stream",
     "text": [
      "Optimization terminated successfully.\n",
      "         Current function value: -1.337565\n",
      "         Iterations: 11\n",
      "         Function evaluations: 2095\n"
     ]
    },
    {
     "name": "stderr",
     "output_type": "stream",
     "text": [
      "\u001b[32m[I 2022-03-10 00:46:11,542]\u001b[0m Trial 20 finished with value: 0.550490085456188 and parameters: {'p': 6, 'd': 1, 'q': 8, 'P': 0, 'D': 0, 'Q': 1}. Best is trial 10 with value: 0.6934386226423223.\u001b[0m\n"
     ]
    },
    {
     "name": "stdout",
     "output_type": "stream",
     "text": [
      "Optimization terminated successfully.\n",
      "         Current function value: -1.383092\n",
      "         Iterations: 23\n",
      "         Function evaluations: 4590\n",
      "Optimization terminated successfully.\n",
      "         Current function value: -1.405095\n",
      "         Iterations: 13\n",
      "         Function evaluations: 2687\n"
     ]
    },
    {
     "name": "stderr",
     "output_type": "stream",
     "text": [
      "\u001b[32m[I 2022-03-10 00:46:27,774]\u001b[0m Trial 21 finished with value: 0.6794288010868383 and parameters: {'p': 7, 'd': 1, 'q': 5, 'P': 1, 'D': 0, 'Q': 2}. Best is trial 10 with value: 0.6934386226423223.\u001b[0m\n"
     ]
    },
    {
     "name": "stdout",
     "output_type": "stream",
     "text": [
      "Optimization terminated successfully.\n",
      "         Current function value: -1.405095\n",
      "         Iterations: 13\n",
      "         Function evaluations: 2687\n"
     ]
    },
    {
     "name": "stderr",
     "output_type": "stream",
     "text": [
      "\u001b[32m[I 2022-03-10 00:46:43,740]\u001b[0m Trial 22 finished with value: 0.6794288010868383 and parameters: {'p': 7, 'd': 1, 'q': 5, 'P': 1, 'D': 0, 'Q': 2}. Best is trial 10 with value: 0.6934386226423223.\u001b[0m\n"
     ]
    },
    {
     "name": "stdout",
     "output_type": "stream",
     "text": [
      "Optimization terminated successfully.\n",
      "         Current function value: -1.391586\n",
      "         Iterations: 17\n",
      "         Function evaluations: 3622\n"
     ]
    },
    {
     "name": "stderr",
     "output_type": "stream",
     "text": [
      "\u001b[32m[I 2022-03-10 00:47:01,612]\u001b[0m Trial 23 finished with value: 0.5388222062345731 and parameters: {'p': 8, 'd': 1, 'q': 7, 'P': 0, 'D': 0, 'Q': 2}. Best is trial 10 with value: 0.6934386226423223.\u001b[0m\n"
     ]
    },
    {
     "name": "stdout",
     "output_type": "stream",
     "text": [
      "Optimization terminated successfully.\n",
      "         Current function value: -1.360515\n",
      "         Iterations: 27\n",
      "         Function evaluations: 5080\n"
     ]
    },
    {
     "name": "stderr",
     "output_type": "stream",
     "text": [
      "\u001b[32m[I 2022-03-10 00:47:45,273]\u001b[0m Trial 24 finished with value: 0.6741649510525536 and parameters: {'p': 7, 'd': 1, 'q': 3, 'P': 1, 'D': 0, 'Q': 3}. Best is trial 10 with value: 0.6934386226423223.\u001b[0m\n",
      "\u001b[32m[I 2022-03-10 00:47:54,948]\u001b[0m Trial 25 finished with value: 0.2578446380416858 and parameters: {'p': 6, 'd': 1, 'q': 6, 'P': 0, 'D': 0, 'Q': 2}. Best is trial 10 with value: 0.6934386226423223.\u001b[0m\n"
     ]
    },
    {
     "name": "stdout",
     "output_type": "stream",
     "text": [
      "Optimization terminated successfully.\n",
      "         Current function value: -1.318850\n",
      "         Iterations: 11\n",
      "         Function evaluations: 2162\n"
     ]
    },
    {
     "name": "stderr",
     "output_type": "stream",
     "text": [
      "\u001b[32m[I 2022-03-10 00:48:08,795]\u001b[0m Trial 26 finished with value: 0.5825045441517873 and parameters: {'p': 8, 'd': 1, 'q': 7, 'P': 1, 'D': 0, 'Q': 1}. Best is trial 10 with value: 0.6934386226423223.\u001b[0m\n"
     ]
    },
    {
     "name": "stdout",
     "output_type": "stream",
     "text": [
      "Optimization terminated successfully.\n",
      "         Current function value: -1.427731\n",
      "         Iterations: 25\n",
      "         Function evaluations: 5314\n",
      "Optimization terminated successfully.\n",
      "         Current function value: -1.364465\n",
      "         Iterations: 16\n",
      "         Function evaluations: 3652\n"
     ]
    },
    {
     "name": "stderr",
     "output_type": "stream",
     "text": [
      "\u001b[32m[I 2022-03-10 00:48:28,510]\u001b[0m Trial 27 finished with value: 0.6340893452442862 and parameters: {'p': 7, 'd': 1, 'q': 8, 'P': 0, 'D': 0, 'Q': 2}. Best is trial 10 with value: 0.6934386226423223.\u001b[0m\n"
     ]
    },
    {
     "name": "stdout",
     "output_type": "stream",
     "text": [
      "Optimization terminated successfully.\n",
      "         Current function value: -1.364900\n",
      "         Iterations: 8\n",
      "         Function evaluations: 1246\n"
     ]
    },
    {
     "name": "stderr",
     "output_type": "stream",
     "text": [
      "\u001b[32m[I 2022-03-10 00:48:39,465]\u001b[0m Trial 28 finished with value: 0.6692438823363296 and parameters: {'p': 4, 'd': 1, 'q': 3, 'P': 2, 'D': 0, 'Q': 3}. Best is trial 10 with value: 0.6934386226423223.\u001b[0m\n",
      "\u001b[32m[I 2022-03-10 00:48:47,059]\u001b[0m Trial 29 finished with value: 0.6552760252411021 and parameters: {'p': 6, 'd': 1, 'q': 4, 'P': 1, 'D': 0, 'Q': 2}. Best is trial 10 with value: 0.6934386226423223.\u001b[0m\n"
     ]
    },
    {
     "name": "stdout",
     "output_type": "stream",
     "text": [
      "Optimization terminated successfully.\n",
      "         Current function value: -1.395853\n",
      "         Iterations: 8\n",
      "         Function evaluations: 1373\n"
     ]
    },
    {
     "name": "stderr",
     "output_type": "stream",
     "text": [
      "\u001b[32m[I 2022-03-10 00:48:49,022]\u001b[0m Trial 30 finished with value: 0.11091953754011752 and parameters: {'p': 6, 'd': 1, 'q': 5, 'P': 0, 'D': 0, 'Q': 1}. Best is trial 10 with value: 0.6934386226423223.\u001b[0m\n"
     ]
    },
    {
     "name": "stdout",
     "output_type": "stream",
     "text": [
      "Optimization terminated successfully.\n",
      "         Current function value: -1.322849\n",
      "         Iterations: 6\n",
      "         Function evaluations: 1060\n",
      "Optimization terminated successfully.\n",
      "         Current function value: -1.405095\n",
      "         Iterations: 13\n",
      "         Function evaluations: 2687\n"
     ]
    },
    {
     "name": "stderr",
     "output_type": "stream",
     "text": [
      "\u001b[32m[I 2022-03-10 00:49:04,084]\u001b[0m Trial 31 finished with value: 0.6794288010868383 and parameters: {'p': 7, 'd': 1, 'q': 5, 'P': 1, 'D': 0, 'Q': 2}. Best is trial 10 with value: 0.6934386226423223.\u001b[0m\n"
     ]
    },
    {
     "name": "stdout",
     "output_type": "stream",
     "text": [
      "Optimization terminated successfully.\n",
      "         Current function value: -1.400141\n",
      "         Iterations: 25\n",
      "         Function evaluations: 5245\n"
     ]
    },
    {
     "name": "stderr",
     "output_type": "stream",
     "text": [
      "\u001b[32m[I 2022-03-10 00:49:28,714]\u001b[0m Trial 32 finished with value: 0.4887230642072201 and parameters: {'p': 8, 'd': 1, 'q': 6, 'P': 1, 'D': 0, 'Q': 2}. Best is trial 10 with value: 0.6934386226423223.\u001b[0m\n"
     ]
    },
    {
     "name": "stdout",
     "output_type": "stream",
     "text": [
      "Optimization terminated successfully.\n",
      "         Current function value: -1.405984\n",
      "         Iterations: 10\n",
      "         Function evaluations: 1878\n"
     ]
    },
    {
     "name": "stderr",
     "output_type": "stream",
     "text": [
      "\u001b[32m[I 2022-03-10 00:49:40,488]\u001b[0m Trial 33 finished with value: 0.6783552878587154 and parameters: {'p': 7, 'd': 1, 'q': 4, 'P': 2, 'D': 0, 'Q': 2}. Best is trial 10 with value: 0.6934386226423223.\u001b[0m\n"
     ]
    },
    {
     "name": "stdout",
     "output_type": "stream",
     "text": [
      "Optimization terminated successfully.\n",
      "         Current function value: -1.369645\n",
      "         Iterations: 21\n",
      "         Function evaluations: 4471\n"
     ]
    },
    {
     "name": "stderr",
     "output_type": "stream",
     "text": [
      "\u001b[32m[I 2022-03-10 00:50:19,533]\u001b[0m Trial 34 finished with value: 0.6822865376771103 and parameters: {'p': 8, 'd': 1, 'q': 6, 'P': 1, 'D': 1, 'Q': 2}. Best is trial 10 with value: 0.6934386226423223.\u001b[0m\n"
     ]
    },
    {
     "name": "stdout",
     "output_type": "stream",
     "text": [
      "Optimization terminated successfully.\n",
      "         Current function value: -1.331514\n",
      "         Iterations: 19\n",
      "         Function evaluations: 4101\n"
     ]
    },
    {
     "name": "stderr",
     "output_type": "stream",
     "text": [
      "\u001b[32m[I 2022-03-10 00:51:10,233]\u001b[0m Trial 35 finished with value: 0.6720540703705433 and parameters: {'p': 8, 'd': 1, 'q': 6, 'P': 0, 'D': 1, 'Q': 3}. Best is trial 10 with value: 0.6934386226423223.\u001b[0m\n"
     ]
    },
    {
     "name": "stdout",
     "output_type": "stream",
     "text": [
      "Optimization terminated successfully.\n",
      "         Current function value: -1.319418\n",
      "         Iterations: 8\n",
      "         Function evaluations: 2028\n"
     ]
    },
    {
     "name": "stderr",
     "output_type": "stream",
     "text": [
      "\u001b[32m[I 2022-03-10 00:51:40,911]\u001b[0m Trial 36 finished with value: 0.670171699762881 and parameters: {'p': 8, 'd': 1, 'q': 8, 'P': 2, 'D': 1, 'Q': 3}. Best is trial 10 with value: 0.6934386226423223.\u001b[0m\n"
     ]
    },
    {
     "name": "stdout",
     "output_type": "stream",
     "text": [
      "Optimization terminated successfully.\n",
      "         Current function value: -1.355930\n",
      "         Iterations: 7\n",
      "         Function evaluations: 1099\n"
     ]
    },
    {
     "name": "stderr",
     "output_type": "stream",
     "text": [
      "\u001b[32m[I 2022-03-10 00:51:51,681]\u001b[0m Trial 37 finished with value: 0.6615936770774504 and parameters: {'p': 0, 'd': 1, 'q': 7, 'P': 1, 'D': 1, 'Q': 2}. Best is trial 10 with value: 0.6934386226423223.\u001b[0m\n"
     ]
    },
    {
     "name": "stdout",
     "output_type": "stream",
     "text": [
      "Optimization terminated successfully.\n",
      "         Current function value: -1.416571\n",
      "         Iterations: 11\n",
      "         Function evaluations: 2472\n"
     ]
    },
    {
     "name": "stderr",
     "output_type": "stream",
     "text": [
      "\u001b[32m[I 2022-03-10 00:52:06,156]\u001b[0m Trial 38 finished with value: 0.6684982471687746 and parameters: {'p': 8, 'd': 0, 'q': 8, 'P': 0, 'D': 1, 'Q': 1}. Best is trial 10 with value: 0.6934386226423223.\u001b[0m\n"
     ]
    },
    {
     "name": "stdout",
     "output_type": "stream",
     "text": [
      "Optimization terminated successfully.\n",
      "         Current function value: -1.369589\n",
      "         Iterations: 12\n",
      "         Function evaluations: 2721\n"
     ]
    },
    {
     "name": "stderr",
     "output_type": "stream",
     "text": [
      "\u001b[32m[I 2022-03-10 00:52:31,212]\u001b[0m Trial 39 finished with value: 0.6699609659504657 and parameters: {'p': 5, 'd': 1, 'q': 6, 'P': 2, 'D': 1, 'Q': 2}. Best is trial 10 with value: 0.6934386226423223.\u001b[0m\n"
     ]
    },
    {
     "name": "stdout",
     "output_type": "stream",
     "text": [
      "Optimization terminated successfully.\n",
      "         Current function value: -1.305514\n",
      "         Iterations: 4\n",
      "         Function evaluations: 700\n"
     ]
    },
    {
     "name": "stderr",
     "output_type": "stream",
     "text": [
      "\u001b[32m[I 2022-03-10 00:52:40,120]\u001b[0m Trial 40 finished with value: 0.6656490793776646 and parameters: {'p': 2, 'd': 0, 'q': 7, 'P': 1, 'D': 1, 'Q': 3}. Best is trial 10 with value: 0.6934386226423223.\u001b[0m\n"
     ]
    },
    {
     "name": "stdout",
     "output_type": "stream",
     "text": [
      "Optimization terminated successfully.\n",
      "         Current function value: -1.405095\n",
      "         Iterations: 13\n",
      "         Function evaluations: 2687\n"
     ]
    },
    {
     "name": "stderr",
     "output_type": "stream",
     "text": [
      "\u001b[32m[I 2022-03-10 00:52:56,182]\u001b[0m Trial 41 finished with value: 0.6794288010868383 and parameters: {'p': 7, 'd': 1, 'q': 5, 'P': 1, 'D': 0, 'Q': 2}. Best is trial 10 with value: 0.6934386226423223.\u001b[0m\n"
     ]
    },
    {
     "name": "stdout",
     "output_type": "stream",
     "text": [
      "Optimization terminated successfully.\n",
      "         Current function value: -1.398930\n",
      "         Iterations: 9\n",
      "         Function evaluations: 1615\n"
     ]
    },
    {
     "name": "stderr",
     "output_type": "stream",
     "text": [
      "\u001b[32m[I 2022-03-10 00:53:05,172]\u001b[0m Trial 42 finished with value: 0.6643273019699374 and parameters: {'p': 7, 'd': 1, 'q': 4, 'P': 1, 'D': 0, 'Q': 2}. Best is trial 10 with value: 0.6934386226423223.\u001b[0m\n"
     ]
    },
    {
     "name": "stdout",
     "output_type": "stream",
     "text": [
      "Optimization terminated successfully.\n",
      "         Current function value: -1.410837\n",
      "         Iterations: 18\n",
      "         Function evaluations: 3839\n"
     ]
    },
    {
     "name": "stderr",
     "output_type": "stream",
     "text": [
      "\u001b[32m[I 2022-03-10 00:53:28,641]\u001b[0m Trial 43 finished with value: 0.6810882696239531 and parameters: {'p': 8, 'd': 1, 'q': 5, 'P': 1, 'D': 0, 'Q': 2}. Best is trial 10 with value: 0.6934386226423223.\u001b[0m\n"
     ]
    },
    {
     "name": "stdout",
     "output_type": "stream",
     "text": [
      "Optimization terminated successfully.\n",
      "         Current function value: -1.369645\n",
      "         Iterations: 21\n",
      "         Function evaluations: 4471\n"
     ]
    },
    {
     "name": "stderr",
     "output_type": "stream",
     "text": [
      "\u001b[32m[I 2022-03-10 00:54:08,502]\u001b[0m Trial 44 finished with value: 0.6822865376771103 and parameters: {'p': 8, 'd': 1, 'q': 6, 'P': 1, 'D': 1, 'Q': 2}. Best is trial 10 with value: 0.6934386226423223.\u001b[0m\n"
     ]
    },
    {
     "name": "stdout",
     "output_type": "stream",
     "text": [
      "Optimization terminated successfully.\n",
      "         Current function value: -1.380302\n",
      "         Iterations: 23\n",
      "         Function evaluations: 4743\n"
     ]
    },
    {
     "name": "stderr",
     "output_type": "stream",
     "text": [
      "\u001b[32m[I 2022-03-10 00:54:46,433]\u001b[0m Trial 45 finished with value: 0.6612422589807423 and parameters: {'p': 8, 'd': 1, 'q': 6, 'P': 0, 'D': 1, 'Q': 2}. Best is trial 10 with value: 0.6934386226423223.\u001b[0m\n"
     ]
    },
    {
     "name": "stdout",
     "output_type": "stream",
     "text": [
      "Optimization terminated successfully.\n",
      "         Current function value: -1.374109\n",
      "         Iterations: 16\n",
      "         Function evaluations: 4218\n"
     ]
    },
    {
     "name": "stderr",
     "output_type": "stream",
     "text": [
      "\u001b[32m[I 2022-03-10 00:55:25,845]\u001b[0m Trial 46 finished with value: 0.6536209034104309 and parameters: {'p': 8, 'd': 1, 'q': 8, 'P': 2, 'D': 1, 'Q': 2}. Best is trial 10 with value: 0.6934386226423223.\u001b[0m\n"
     ]
    },
    {
     "name": "stdout",
     "output_type": "stream",
     "text": [
      "Optimization terminated successfully.\n",
      "         Current function value: -1.420853\n",
      "         Iterations: 26\n",
      "         Function evaluations: 5458\n"
     ]
    },
    {
     "name": "stderr",
     "output_type": "stream",
     "text": [
      "\u001b[32m[I 2022-03-10 00:56:04,674]\u001b[0m Trial 47 finished with value: 0.624516403722384 and parameters: {'p': 8, 'd': 1, 'q': 7, 'P': 0, 'D': 1, 'Q': 1}. Best is trial 10 with value: 0.6934386226423223.\u001b[0m\n"
     ]
    },
    {
     "name": "stdout",
     "output_type": "stream",
     "text": [
      "Optimization terminated successfully.\n",
      "         Current function value: -1.378864\n",
      "         Iterations: 3\n",
      "         Function evaluations: 419\n"
     ]
    },
    {
     "name": "stderr",
     "output_type": "stream",
     "text": [
      "\u001b[32m[I 2022-03-10 00:56:08,014]\u001b[0m Trial 48 finished with value: 0.6573496646619922 and parameters: {'p': 6, 'd': 0, 'q': 2, 'P': 1, 'D': 1, 'Q': 2}. Best is trial 10 with value: 0.6934386226423223.\u001b[0m\n"
     ]
    },
    {
     "name": "stdout",
     "output_type": "stream",
     "text": [
      "Optimization terminated successfully.\n",
      "         Current function value: -1.334695\n",
      "         Iterations: 25\n",
      "         Function evaluations: 5790\n"
     ]
    },
    {
     "name": "stderr",
     "output_type": "stream",
     "text": [
      "\u001b[32m[I 2022-03-10 00:57:30,435]\u001b[0m Trial 49 finished with value: 0.6820747862506265 and parameters: {'p': 8, 'd': 1, 'q': 6, 'P': 1, 'D': 1, 'Q': 3}. Best is trial 10 with value: 0.6934386226423223.\u001b[0m\n",
      "\u001b[32m[I 2022-03-10 00:57:30,493]\u001b[0m A new study created in memory with name: no-name-456f3adc-88e5-4528-8a90-52acb0611362\u001b[0m\n"
     ]
    },
    {
     "name": "stdout",
     "output_type": "stream",
     "text": [
      "Optimization terminated successfully.\n",
      "         Current function value: -1.370887\n",
      "         Iterations: 12\n",
      "         Function evaluations: 2341\n"
     ]
    },
    {
     "name": "stderr",
     "output_type": "stream",
     "text": [
      "\u001b[32m[I 2022-03-10 00:58:01,729]\u001b[0m Trial 0 finished with value: 0.6854749554830488 and parameters: {'p': 6, 'd': 1, 'q': 7, 'P': 3, 'D': 1, 'Q': 0}. Best is trial 0 with value: 0.6854749554830488.\u001b[0m\n",
      "\u001b[32m[I 2022-03-10 00:58:02,177]\u001b[0m Trial 1 finished with value: 0.7234105257867924 and parameters: {'p': 0, 'd': 0, 'q': 1, 'P': 1, 'D': 0, 'Q': 1}. Best is trial 1 with value: 0.7234105257867924.\u001b[0m\n"
     ]
    },
    {
     "name": "stdout",
     "output_type": "stream",
     "text": [
      "Optimization terminated successfully.\n",
      "         Current function value: -1.564141\n",
      "         Iterations: 5\n",
      "         Function evaluations: 283\n",
      "Optimization terminated successfully.\n",
      "         Current function value: -1.487625\n",
      "         Iterations: 9\n",
      "         Function evaluations: 1749\n"
     ]
    },
    {
     "name": "stderr",
     "output_type": "stream",
     "text": [
      "\u001b[32m[I 2022-03-10 00:58:14,073]\u001b[0m Trial 2 finished with value: 0.7360857333725344 and parameters: {'p': 4, 'd': 0, 'q': 7, 'P': 2, 'D': 0, 'Q': 2}. Best is trial 2 with value: 0.7360857333725344.\u001b[0m\n"
     ]
    },
    {
     "name": "stdout",
     "output_type": "stream",
     "text": [
      "Optimization terminated successfully.\n",
      "         Current function value: -1.495240\n",
      "         Iterations: 10\n",
      "         Function evaluations: 1829\n"
     ]
    },
    {
     "name": "stderr",
     "output_type": "stream",
     "text": [
      "\u001b[32m[I 2022-03-10 00:58:25,186]\u001b[0m Trial 3 finished with value: 0.7416758064233281 and parameters: {'p': 8, 'd': 0, 'q': 5, 'P': 0, 'D': 1, 'Q': 1}. Best is trial 3 with value: 0.7416758064233281.\u001b[0m\n"
     ]
    },
    {
     "name": "stdout",
     "output_type": "stream",
     "text": [
      "Optimization terminated successfully.\n",
      "         Current function value: -1.417302\n",
      "         Iterations: 7\n",
      "         Function evaluations: 868\n"
     ]
    },
    {
     "name": "stderr",
     "output_type": "stream",
     "text": [
      "\u001b[32m[I 2022-03-10 00:58:35,033]\u001b[0m Trial 4 finished with value: 0.735731310727757 and parameters: {'p': 3, 'd': 0, 'q': 1, 'P': 3, 'D': 1, 'Q': 3}. Best is trial 3 with value: 0.7416758064233281.\u001b[0m\n"
     ]
    },
    {
     "name": "stdout",
     "output_type": "stream",
     "text": [
      "Optimization terminated successfully.\n",
      "         Current function value: -1.384498\n",
      "         Iterations: 6\n",
      "         Function evaluations: 712\n"
     ]
    },
    {
     "name": "stderr",
     "output_type": "stream",
     "text": [
      "\u001b[32m[I 2022-03-10 00:58:41,089]\u001b[0m Trial 5 finished with value: 0.7040954326397357 and parameters: {'p': 4, 'd': 1, 'q': 2, 'P': 3, 'D': 0, 'Q': 0}. Best is trial 3 with value: 0.7416758064233281.\u001b[0m\n",
      "\u001b[32m[I 2022-03-10 00:58:45,410]\u001b[0m Trial 6 finished with value: 0.6724061667256742 and parameters: {'p': 8, 'd': 1, 'q': 2, 'P': 2, 'D': 0, 'Q': 0}. Best is trial 3 with value: 0.7416758064233281.\u001b[0m\n"
     ]
    },
    {
     "name": "stdout",
     "output_type": "stream",
     "text": [
      "Optimization terminated successfully.\n",
      "         Current function value: -1.403820\n",
      "         Iterations: 7\n",
      "         Function evaluations: 1006\n"
     ]
    },
    {
     "name": "stderr",
     "output_type": "stream",
     "text": [
      "\u001b[32m[I 2022-03-10 00:58:46,243]\u001b[0m Trial 7 finished with value: 0.41554655059253054 and parameters: {'p': 4, 'd': 0, 'q': 4, 'P': 1, 'D': 0, 'Q': 0}. Best is trial 3 with value: 0.7416758064233281.\u001b[0m\n"
     ]
    },
    {
     "name": "stdout",
     "output_type": "stream",
     "text": [
      "Optimization terminated successfully.\n",
      "         Current function value: -1.360200\n",
      "         Iterations: 6\n",
      "         Function evaluations: 732\n",
      "Optimization terminated successfully.\n",
      "         Current function value: -1.456093\n",
      "         Iterations: 15\n",
      "         Function evaluations: 2699\n"
     ]
    },
    {
     "name": "stderr",
     "output_type": "stream",
     "text": [
      "\u001b[32m[I 2022-03-10 00:59:08,474]\u001b[0m Trial 8 finished with value: 0.7322414786177256 and parameters: {'p': 6, 'd': 0, 'q': 5, 'P': 1, 'D': 1, 'Q': 2}. Best is trial 3 with value: 0.7416758064233281.\u001b[0m\n",
      "\u001b[32m[I 2022-03-10 00:59:08,993]\u001b[0m Trial 9 finished with value: -0.024286871778229857 and parameters: {'p': 5, 'd': 0, 'q': 5, 'P': 0, 'D': 0, 'Q': 0}. Best is trial 3 with value: 0.7416758064233281.\u001b[0m\n"
     ]
    },
    {
     "name": "stdout",
     "output_type": "stream",
     "text": [
      "Optimization terminated successfully.\n",
      "         Current function value: -1.316303\n",
      "         Iterations: 6\n",
      "         Function evaluations: 865\n",
      "Optimization terminated successfully.\n",
      "         Current function value: -1.490161\n",
      "         Iterations: 12\n",
      "         Function evaluations: 2610\n"
     ]
    },
    {
     "name": "stderr",
     "output_type": "stream",
     "text": [
      "\u001b[32m[I 2022-03-10 00:59:26,107]\u001b[0m Trial 10 finished with value: 0.7141476990451813 and parameters: {'p': 8, 'd': 1, 'q': 8, 'P': 0, 'D': 1, 'Q': 1}. Best is trial 3 with value: 0.7416758064233281.\u001b[0m\n"
     ]
    },
    {
     "name": "stdout",
     "output_type": "stream",
     "text": [
      "Optimization terminated successfully.\n",
      "         Current function value: -1.441400\n",
      "         Iterations: 4\n",
      "         Function evaluations: 634\n"
     ]
    },
    {
     "name": "stderr",
     "output_type": "stream",
     "text": [
      "\u001b[32m[I 2022-03-10 00:59:31,677]\u001b[0m Trial 11 finished with value: 0.7322216051284456 and parameters: {'p': 2, 'd': 0, 'q': 6, 'P': 2, 'D': 1, 'Q': 2}. Best is trial 3 with value: 0.7416758064233281.\u001b[0m\n"
     ]
    },
    {
     "name": "stdout",
     "output_type": "stream",
     "text": [
      "Optimization terminated successfully.\n",
      "         Current function value: -1.444968\n",
      "         Iterations: 5\n",
      "         Function evaluations: 925\n"
     ]
    },
    {
     "name": "stderr",
     "output_type": "stream",
     "text": [
      "\u001b[32m[I 2022-03-10 00:59:40,574]\u001b[0m Trial 12 finished with value: 0.7171706022165643 and parameters: {'p': 1, 'd': 0, 'q': 8, 'P': 2, 'D': 0, 'Q': 3}. Best is trial 3 with value: 0.7416758064233281.\u001b[0m\n"
     ]
    },
    {
     "name": "stdout",
     "output_type": "stream",
     "text": [
      "Optimization terminated successfully.\n",
      "         Current function value: -1.444321\n",
      "         Iterations: 19\n",
      "         Function evaluations: 3154\n"
     ]
    },
    {
     "name": "stderr",
     "output_type": "stream",
     "text": [
      "\u001b[32m[I 2022-03-10 01:00:05,173]\u001b[0m Trial 13 finished with value: 0.7363377109523008 and parameters: {'p': 6, 'd': 0, 'q': 4, 'P': 0, 'D': 1, 'Q': 2}. Best is trial 3 with value: 0.7416758064233281.\u001b[0m\n",
      "\u001b[32m[I 2022-03-10 01:00:08,585]\u001b[0m Trial 14 finished with value: 0.7406682650612436 and parameters: {'p': 7, 'd': 0, 'q': 3, 'P': 0, 'D': 1, 'Q': 1}. Best is trial 3 with value: 0.7416758064233281.\u001b[0m\n"
     ]
    },
    {
     "name": "stdout",
     "output_type": "stream",
     "text": [
      "Optimization terminated successfully.\n",
      "         Current function value: -1.504778\n",
      "         Iterations: 5\n",
      "         Function evaluations: 769\n"
     ]
    },
    {
     "name": "stderr",
     "output_type": "stream",
     "text": [
      "\u001b[32m[I 2022-03-10 01:00:12,015]\u001b[0m Trial 15 finished with value: 0.7406682650612436 and parameters: {'p': 7, 'd': 0, 'q': 3, 'P': 0, 'D': 1, 'Q': 1}. Best is trial 3 with value: 0.7416758064233281.\u001b[0m\n"
     ]
    },
    {
     "name": "stdout",
     "output_type": "stream",
     "text": [
      "Optimization terminated successfully.\n",
      "         Current function value: -1.504778\n",
      "         Iterations: 5\n",
      "         Function evaluations: 769\n"
     ]
    },
    {
     "name": "stderr",
     "output_type": "stream",
     "text": [
      "\u001b[32m[I 2022-03-10 01:00:15,871]\u001b[0m Trial 16 finished with value: 0.7264454127435722 and parameters: {'p': 8, 'd': 0, 'q': 0, 'P': 1, 'D': 1, 'Q': 1}. Best is trial 3 with value: 0.7416758064233281.\u001b[0m\n"
     ]
    },
    {
     "name": "stdout",
     "output_type": "stream",
     "text": [
      "Optimization terminated successfully.\n",
      "         Current function value: -1.489743\n",
      "         Iterations: 5\n",
      "         Function evaluations: 703\n"
     ]
    },
    {
     "name": "stderr",
     "output_type": "stream",
     "text": [
      "\u001b[32m[I 2022-03-10 01:00:21,263]\u001b[0m Trial 17 finished with value: 0.7118495248993854 and parameters: {'p': 6, 'd': 1, 'q': 3, 'P': 0, 'D': 1, 'Q': 1}. Best is trial 3 with value: 0.7416758064233281.\u001b[0m\n"
     ]
    },
    {
     "name": "stdout",
     "output_type": "stream",
     "text": [
      "Optimization terminated successfully.\n",
      "         Current function value: -1.500191\n",
      "         Iterations: 7\n",
      "         Function evaluations: 944\n",
      "Optimization terminated successfully.\n",
      "         Current function value: -1.494451\n",
      "         Iterations: 12\n",
      "         Function evaluations: 2109\n"
     ]
    },
    {
     "name": "stderr",
     "output_type": "stream",
     "text": [
      "\u001b[32m[I 2022-03-10 01:00:33,394]\u001b[0m Trial 18 finished with value: 0.738848428347791 and parameters: {'p': 7, 'd': 0, 'q': 5, 'P': 0, 'D': 1, 'Q': 1}. Best is trial 3 with value: 0.7416758064233281.\u001b[0m\n"
     ]
    },
    {
     "name": "stdout",
     "output_type": "stream",
     "text": [
      "Optimization terminated successfully.\n",
      "         Current function value: -1.454568\n",
      "         Iterations: 8\n",
      "         Function evaluations: 1271\n"
     ]
    },
    {
     "name": "stderr",
     "output_type": "stream",
     "text": [
      "\u001b[32m[I 2022-03-10 01:00:42,117]\u001b[0m Trial 19 finished with value: 0.7342123030122822 and parameters: {'p': 7, 'd': 0, 'q': 3, 'P': 1, 'D': 1, 'Q': 2}. Best is trial 3 with value: 0.7416758064233281.\u001b[0m\n"
     ]
    },
    {
     "name": "stdout",
     "output_type": "stream",
     "text": [
      "Optimization terminated successfully.\n",
      "         Current function value: -1.500265\n",
      "         Iterations: 11\n",
      "         Function evaluations: 1755\n"
     ]
    },
    {
     "name": "stderr",
     "output_type": "stream",
     "text": [
      "\u001b[32m[I 2022-03-10 01:00:52,322]\u001b[0m Trial 20 finished with value: 0.7044779321444804 and parameters: {'p': 5, 'd': 1, 'q': 6, 'P': 0, 'D': 1, 'Q': 1}. Best is trial 3 with value: 0.7416758064233281.\u001b[0m\n",
      "\u001b[32m[I 2022-03-10 01:00:55,745]\u001b[0m Trial 21 finished with value: 0.7406682650612436 and parameters: {'p': 7, 'd': 0, 'q': 3, 'P': 0, 'D': 1, 'Q': 1}. Best is trial 3 with value: 0.7416758064233281.\u001b[0m\n"
     ]
    },
    {
     "name": "stdout",
     "output_type": "stream",
     "text": [
      "Optimization terminated successfully.\n",
      "         Current function value: -1.504778\n",
      "         Iterations: 5\n",
      "         Function evaluations: 769\n"
     ]
    },
    {
     "name": "stderr",
     "output_type": "stream",
     "text": [
      "\u001b[32m[I 2022-03-10 01:00:57,853]\u001b[0m Trial 22 finished with value: 0.7384644721211269 and parameters: {'p': 8, 'd': 0, 'q': 2, 'P': 0, 'D': 1, 'Q': 1}. Best is trial 3 with value: 0.7416758064233281.\u001b[0m\n"
     ]
    },
    {
     "name": "stdout",
     "output_type": "stream",
     "text": [
      "Optimization terminated successfully.\n",
      "         Current function value: -1.509745\n",
      "         Iterations: 3\n",
      "         Function evaluations: 400\n",
      "Warning: Maximum number of iterations has been exceeded.\n"
     ]
    },
    {
     "name": "stderr",
     "output_type": "stream",
     "text": [
      "/home/elasive/miniconda3/envs/SERF/lib/python3.7/site-packages/statsmodels/base/model.py:606: ConvergenceWarning: Maximum Likelihood optimization failed to converge. Check mle_retvals\n",
      "  ConvergenceWarning)\n",
      "\u001b[32m[I 2022-03-10 01:01:55,422]\u001b[0m Trial 23 finished with value: 0.7269637078015083 and parameters: {'p': 7, 'd': 0, 'q': 4, 'P': 1, 'D': 1, 'Q': 1}. Best is trial 3 with value: 0.7416758064233281.\u001b[0m\n"
     ]
    },
    {
     "name": "stdout",
     "output_type": "stream",
     "text": [
      "Optimization terminated successfully.\n",
      "         Current function value: -1.455219\n",
      "         Iterations: 13\n",
      "         Function evaluations: 1950\n"
     ]
    },
    {
     "name": "stderr",
     "output_type": "stream",
     "text": [
      "\u001b[32m[I 2022-03-10 01:02:09,059]\u001b[0m Trial 24 finished with value: 0.7351746574784099 and parameters: {'p': 7, 'd': 0, 'q': 3, 'P': 0, 'D': 1, 'Q': 2}. Best is trial 3 with value: 0.7416758064233281.\u001b[0m\n",
      "\u001b[32m[I 2022-03-10 01:02:14,830]\u001b[0m Trial 25 finished with value: 0.7406564369486166 and parameters: {'p': 5, 'd': 0, 'q': 4, 'P': 0, 'D': 1, 'Q': 1}. Best is trial 3 with value: 0.7416758064233281.\u001b[0m\n"
     ]
    },
    {
     "name": "stdout",
     "output_type": "stream",
     "text": [
      "Optimization terminated successfully.\n",
      "         Current function value: -1.498364\n",
      "         Iterations: 7\n",
      "         Function evaluations: 918\n",
      "Optimization terminated successfully.\n",
      "         Current function value: -1.413531\n",
      "         Iterations: 16\n",
      "         Function evaluations: 3073\n"
     ]
    },
    {
     "name": "stderr",
     "output_type": "stream",
     "text": [
      "\u001b[32m[I 2022-03-10 01:02:28,286]\u001b[0m Trial 26 finished with value: 0.7678642815209912 and parameters: {'p': 8, 'd': 0, 'q': 6, 'P': 1, 'D': 1, 'Q': 0}. Best is trial 26 with value: 0.7678642815209912.\u001b[0m\n"
     ]
    },
    {
     "name": "stdout",
     "output_type": "stream",
     "text": [
      "Optimization terminated successfully.\n",
      "         Current function value: -1.413531\n",
      "         Iterations: 16\n",
      "         Function evaluations: 3073\n"
     ]
    },
    {
     "name": "stderr",
     "output_type": "stream",
     "text": [
      "\u001b[32m[I 2022-03-10 01:02:41,027]\u001b[0m Trial 27 finished with value: 0.7678642815209912 and parameters: {'p': 8, 'd': 0, 'q': 6, 'P': 1, 'D': 1, 'Q': 0}. Best is trial 26 with value: 0.7678642815209912.\u001b[0m\n"
     ]
    },
    {
     "name": "stdout",
     "output_type": "stream",
     "text": [
      "Optimization terminated successfully.\n",
      "         Current function value: -1.413531\n",
      "         Iterations: 16\n",
      "         Function evaluations: 3073\n"
     ]
    },
    {
     "name": "stderr",
     "output_type": "stream",
     "text": [
      "\u001b[32m[I 2022-03-10 01:02:53,585]\u001b[0m Trial 28 finished with value: 0.7678642815209912 and parameters: {'p': 8, 'd': 0, 'q': 6, 'P': 1, 'D': 1, 'Q': 0}. Best is trial 26 with value: 0.7678642815209912.\u001b[0m\n"
     ]
    },
    {
     "name": "stdout",
     "output_type": "stream",
     "text": [
      "Optimization terminated successfully.\n",
      "         Current function value: -1.409557\n",
      "         Iterations: 16\n",
      "         Function evaluations: 2891\n"
     ]
    },
    {
     "name": "stderr",
     "output_type": "stream",
     "text": [
      "\u001b[32m[I 2022-03-10 01:03:10,209]\u001b[0m Trial 29 finished with value: 0.7247447085117824 and parameters: {'p': 6, 'd': 1, 'q': 7, 'P': 1, 'D': 1, 'Q': 0}. Best is trial 26 with value: 0.7678642815209912.\u001b[0m\n"
     ]
    },
    {
     "name": "stdout",
     "output_type": "stream",
     "text": [
      "Optimization terminated successfully.\n",
      "         Current function value: -1.413531\n",
      "         Iterations: 16\n",
      "         Function evaluations: 3073\n"
     ]
    },
    {
     "name": "stderr",
     "output_type": "stream",
     "text": [
      "\u001b[32m[I 2022-03-10 01:03:22,509]\u001b[0m Trial 30 finished with value: 0.7678642815209912 and parameters: {'p': 8, 'd': 0, 'q': 6, 'P': 1, 'D': 1, 'Q': 0}. Best is trial 26 with value: 0.7678642815209912.\u001b[0m\n"
     ]
    },
    {
     "name": "stdout",
     "output_type": "stream",
     "text": [
      "Optimization terminated successfully.\n",
      "         Current function value: -1.413531\n",
      "         Iterations: 16\n",
      "         Function evaluations: 3073\n"
     ]
    },
    {
     "name": "stderr",
     "output_type": "stream",
     "text": [
      "\u001b[32m[I 2022-03-10 01:03:34,634]\u001b[0m Trial 31 finished with value: 0.7678642815209912 and parameters: {'p': 8, 'd': 0, 'q': 6, 'P': 1, 'D': 1, 'Q': 0}. Best is trial 26 with value: 0.7678642815209912.\u001b[0m\n"
     ]
    },
    {
     "name": "stdout",
     "output_type": "stream",
     "text": [
      "Optimization terminated successfully.\n",
      "         Current function value: -1.413531\n",
      "         Iterations: 16\n",
      "         Function evaluations: 3073\n"
     ]
    },
    {
     "name": "stderr",
     "output_type": "stream",
     "text": [
      "\u001b[32m[I 2022-03-10 01:03:47,529]\u001b[0m Trial 32 finished with value: 0.7678642815209912 and parameters: {'p': 8, 'd': 0, 'q': 6, 'P': 1, 'D': 1, 'Q': 0}. Best is trial 26 with value: 0.7678642815209912.\u001b[0m\n"
     ]
    },
    {
     "name": "stdout",
     "output_type": "stream",
     "text": [
      "Optimization terminated successfully.\n",
      "         Current function value: -1.399212\n",
      "         Iterations: 12\n",
      "         Function evaluations: 2528\n"
     ]
    },
    {
     "name": "stderr",
     "output_type": "stream",
     "text": [
      "\u001b[32m[I 2022-03-10 01:04:03,926]\u001b[0m Trial 33 finished with value: 0.7205623768049059 and parameters: {'p': 8, 'd': 0, 'q': 7, 'P': 2, 'D': 1, 'Q': 0}. Best is trial 26 with value: 0.7678642815209912.\u001b[0m\n",
      "\u001b[32m[I 2022-03-10 01:04:04,442]\u001b[0m Trial 34 finished with value: 0.751230027679584 and parameters: {'p': 0, 'd': 0, 'q': 7, 'P': 1, 'D': 1, 'Q': 0}. Best is trial 26 with value: 0.7678642815209912.\u001b[0m\n"
     ]
    },
    {
     "name": "stdout",
     "output_type": "stream",
     "text": [
      "Optimization terminated successfully.\n",
      "         Current function value: -1.418431\n",
      "         Iterations: 2\n",
      "         Function evaluations: 227\n",
      "Optimization terminated successfully.\n",
      "         Current function value: -1.413531\n",
      "         Iterations: 16\n",
      "         Function evaluations: 3073\n"
     ]
    },
    {
     "name": "stderr",
     "output_type": "stream",
     "text": [
      "\u001b[32m[I 2022-03-10 01:04:17,510]\u001b[0m Trial 35 finished with value: 0.7678642815209912 and parameters: {'p': 8, 'd': 0, 'q': 6, 'P': 1, 'D': 1, 'Q': 0}. Best is trial 26 with value: 0.7678642815209912.\u001b[0m\n"
     ]
    },
    {
     "name": "stdout",
     "output_type": "stream",
     "text": [
      "Optimization terminated successfully.\n",
      "         Current function value: -1.397759\n",
      "         Iterations: 7\n",
      "         Function evaluations: 1312\n"
     ]
    },
    {
     "name": "stderr",
     "output_type": "stream",
     "text": [
      "\u001b[32m[I 2022-03-10 01:04:25,279]\u001b[0m Trial 36 finished with value: 0.7030337278731031 and parameters: {'p': 6, 'd': 0, 'q': 7, 'P': 2, 'D': 1, 'Q': 0}. Best is trial 26 with value: 0.7678642815209912.\u001b[0m\n",
      "\u001b[32m[I 2022-03-10 01:04:26,461]\u001b[0m Trial 37 finished with value: 0.7524682109155643 and parameters: {'p': 3, 'd': 0, 'q': 8, 'P': 1, 'D': 1, 'Q': 0}. Best is trial 26 with value: 0.7678642815209912.\u001b[0m\n"
     ]
    },
    {
     "name": "stdout",
     "output_type": "stream",
     "text": [
      "Optimization terminated successfully.\n",
      "         Current function value: -1.407786\n",
      "         Iterations: 3\n",
      "         Function evaluations: 496\n",
      "Optimization terminated successfully.\n",
      "         Current function value: -1.395346\n",
      "         Iterations: 9\n",
      "         Function evaluations: 1477\n"
     ]
    },
    {
     "name": "stderr",
     "output_type": "stream",
     "text": [
      "\u001b[32m[I 2022-03-10 01:04:32,560]\u001b[0m Trial 38 finished with value: 0.7275977552972149 and parameters: {'p': 7, 'd': 0, 'q': 5, 'P': 2, 'D': 0, 'Q': 0}. Best is trial 26 with value: 0.7678642815209912.\u001b[0m\n"
     ]
    },
    {
     "name": "stdout",
     "output_type": "stream",
     "text": [
      "Optimization terminated successfully.\n",
      "         Current function value: -1.413531\n",
      "         Iterations: 16\n",
      "         Function evaluations: 3073\n"
     ]
    },
    {
     "name": "stderr",
     "output_type": "stream",
     "text": [
      "\u001b[32m[I 2022-03-10 01:04:45,030]\u001b[0m Trial 39 finished with value: 0.7678642815209912 and parameters: {'p': 8, 'd': 0, 'q': 6, 'P': 1, 'D': 1, 'Q': 0}. Best is trial 26 with value: 0.7678642815209912.\u001b[0m\n",
      "\u001b[32m[I 2022-03-10 01:04:53,042]\u001b[0m Trial 40 finished with value: 0.7034724765834224 and parameters: {'p': 8, 'd': 1, 'q': 5, 'P': 1, 'D': 0, 'Q': 0}. Best is trial 26 with value: 0.7678642815209912.\u001b[0m\n"
     ]
    },
    {
     "name": "stdout",
     "output_type": "stream",
     "text": [
      "Optimization terminated successfully.\n",
      "         Current function value: -1.454402\n",
      "         Iterations: 17\n",
      "         Function evaluations: 3075\n",
      "Optimization terminated successfully.\n",
      "         Current function value: -1.413531\n",
      "         Iterations: 16\n",
      "         Function evaluations: 3073\n"
     ]
    },
    {
     "name": "stderr",
     "output_type": "stream",
     "text": [
      "\u001b[32m[I 2022-03-10 01:05:05,072]\u001b[0m Trial 41 finished with value: 0.7678642815209912 and parameters: {'p': 8, 'd': 0, 'q': 6, 'P': 1, 'D': 1, 'Q': 0}. Best is trial 26 with value: 0.7678642815209912.\u001b[0m\n"
     ]
    },
    {
     "name": "stdout",
     "output_type": "stream",
     "text": [
      "Optimization terminated successfully.\n",
      "         Current function value: -1.413531\n",
      "         Iterations: 16\n",
      "         Function evaluations: 3073\n"
     ]
    },
    {
     "name": "stderr",
     "output_type": "stream",
     "text": [
      "\u001b[32m[I 2022-03-10 01:05:18,116]\u001b[0m Trial 42 finished with value: 0.7678642815209912 and parameters: {'p': 8, 'd': 0, 'q': 6, 'P': 1, 'D': 1, 'Q': 0}. Best is trial 26 with value: 0.7678642815209912.\u001b[0m\n"
     ]
    },
    {
     "name": "stdout",
     "output_type": "stream",
     "text": [
      "Optimization terminated successfully.\n",
      "         Current function value: -1.413911\n",
      "         Iterations: 17\n",
      "         Function evaluations: 3338\n"
     ]
    },
    {
     "name": "stderr",
     "output_type": "stream",
     "text": [
      "\u001b[32m[I 2022-03-10 01:05:34,668]\u001b[0m Trial 43 finished with value: 0.7672919433353673 and parameters: {'p': 7, 'd': 0, 'q': 7, 'P': 1, 'D': 1, 'Q': 0}. Best is trial 26 with value: 0.7678642815209912.\u001b[0m\n"
     ]
    },
    {
     "name": "stdout",
     "output_type": "stream",
     "text": [
      "Optimization terminated successfully.\n",
      "         Current function value: -1.418736\n",
      "         Iterations: 13\n",
      "         Function evaluations: 2658\n"
     ]
    },
    {
     "name": "stderr",
     "output_type": "stream",
     "text": [
      "\u001b[32m[I 2022-03-10 01:05:45,548]\u001b[0m Trial 44 finished with value: 0.7187527815747391 and parameters: {'p': 8, 'd': 0, 'q': 7, 'P': 1, 'D': 1, 'Q': 0}. Best is trial 26 with value: 0.7678642815209912.\u001b[0m\n",
      "\u001b[32m[I 2022-03-10 01:05:55,440]\u001b[0m Trial 45 finished with value: 0.7172599775374912 and parameters: {'p': 6, 'd': 0, 'q': 5, 'P': 2, 'D': 1, 'Q': 0}. Best is trial 26 with value: 0.7678642815209912.\u001b[0m\n"
     ]
    },
    {
     "name": "stdout",
     "output_type": "stream",
     "text": [
      "Optimization terminated successfully.\n",
      "         Current function value: -1.392542\n",
      "         Iterations: 13\n",
      "         Function evaluations: 2446\n",
      "Optimization terminated successfully.\n",
      "         Current function value: -1.437283\n",
      "         Iterations: 15\n",
      "         Function evaluations: 3103\n"
     ]
    },
    {
     "name": "stderr",
     "output_type": "stream",
     "text": [
      "\u001b[32m[I 2022-03-10 01:06:13,937]\u001b[0m Trial 46 finished with value: 0.7397168383801536 and parameters: {'p': 7, 'd': 0, 'q': 8, 'P': 1, 'D': 1, 'Q': 0}. Best is trial 26 with value: 0.7678642815209912.\u001b[0m\n"
     ]
    },
    {
     "name": "stdout",
     "output_type": "stream",
     "text": [
      "Optimization terminated successfully.\n",
      "         Current function value: -1.397592\n",
      "         Iterations: 8\n",
      "         Function evaluations: 1467\n"
     ]
    },
    {
     "name": "stderr",
     "output_type": "stream",
     "text": [
      "\u001b[32m[I 2022-03-10 01:06:34,540]\u001b[0m Trial 47 finished with value: 0.7341249129610087 and parameters: {'p': 3, 'd': 0, 'q': 6, 'P': 3, 'D': 1, 'Q': 3}. Best is trial 26 with value: 0.7678642815209912.\u001b[0m\n",
      "\u001b[32m[I 2022-03-10 01:06:43,575]\u001b[0m Trial 48 finished with value: 0.7484360150327307 and parameters: {'p': 8, 'd': 0, 'q': 5, 'P': 1, 'D': 1, 'Q': 0}. Best is trial 26 with value: 0.7678642815209912.\u001b[0m\n"
     ]
    },
    {
     "name": "stdout",
     "output_type": "stream",
     "text": [
      "Optimization terminated successfully.\n",
      "         Current function value: -1.401896\n",
      "         Iterations: 16\n",
      "         Function evaluations: 2936\n"
     ]
    },
    {
     "name": "stderr",
     "output_type": "stream",
     "text": [
      "\u001b[32m[I 2022-03-10 01:06:47,032]\u001b[0m Trial 49 finished with value: 0.7327337968301689 and parameters: {'p': 5, 'd': 0, 'q': 6, 'P': 2, 'D': 0, 'Q': 0}. Best is trial 26 with value: 0.7678642815209912.\u001b[0m\n",
      "\u001b[32m[I 2022-03-10 01:06:47,078]\u001b[0m A new study created in memory with name: no-name-bf11fc34-7252-460e-8cc5-f77ded69f274\u001b[0m\n"
     ]
    },
    {
     "name": "stdout",
     "output_type": "stream",
     "text": [
      "Optimization terminated successfully.\n",
      "         Current function value: -1.401128\n",
      "         Iterations: 7\n",
      "         Function evaluations: 1201\n",
      "Optimization terminated successfully.\n",
      "         Current function value: -1.270956\n",
      "         Iterations: 14\n",
      "         Function evaluations: 1487\n"
     ]
    },
    {
     "name": "stderr",
     "output_type": "stream",
     "text": [
      "\u001b[32m[I 2022-03-10 01:06:56,077]\u001b[0m Trial 0 finished with value: 0.6752077260895508 and parameters: {'p': 4, 'd': 0, 'q': 0, 'P': 3, 'D': 1, 'Q': 1}. Best is trial 0 with value: 0.6752077260895508.\u001b[0m\n",
      "\u001b[32m[I 2022-03-10 01:06:56,417]\u001b[0m Trial 1 finished with value: 0.06697050403540528 and parameters: {'p': 2, 'd': 1, 'q': 2, 'P': 0, 'D': 0, 'Q': 1}. Best is trial 0 with value: 0.6752077260895508.\u001b[0m\n"
     ]
    },
    {
     "name": "stdout",
     "output_type": "stream",
     "text": [
      "Optimization terminated successfully.\n",
      "         Current function value: -1.198312\n",
      "         Iterations: 3\n",
      "         Function evaluations: 232\n",
      "Optimization terminated successfully.\n",
      "         Current function value: -1.349538\n",
      "         Iterations: 6\n",
      "         Function evaluations: 1303\n"
     ]
    },
    {
     "name": "stderr",
     "output_type": "stream",
     "text": [
      "\u001b[32m[I 2022-03-10 01:07:05,697]\u001b[0m Trial 2 finished with value: 0.685141556052443 and parameters: {'p': 3, 'd': 1, 'q': 8, 'P': 2, 'D': 0, 'Q': 2}. Best is trial 2 with value: 0.685141556052443.\u001b[0m\n"
     ]
    },
    {
     "name": "stdout",
     "output_type": "stream",
     "text": [
      "Optimization terminated successfully.\n",
      "         Current function value: -1.312499\n",
      "         Iterations: 11\n",
      "         Function evaluations: 1658\n"
     ]
    },
    {
     "name": "stderr",
     "output_type": "stream",
     "text": [
      "\u001b[32m[I 2022-03-10 01:07:19,988]\u001b[0m Trial 3 finished with value: 0.68253778077069 and parameters: {'p': 4, 'd': 0, 'q': 5, 'P': 0, 'D': 1, 'Q': 2}. Best is trial 2 with value: 0.685141556052443.\u001b[0m\n"
     ]
    },
    {
     "name": "stdout",
     "output_type": "stream",
     "text": [
      "Optimization terminated successfully.\n",
      "         Current function value: -1.252880\n",
      "         Iterations: 6\n",
      "         Function evaluations: 1001\n"
     ]
    },
    {
     "name": "stderr",
     "output_type": "stream",
     "text": [
      "\u001b[32m[I 2022-03-10 01:07:35,333]\u001b[0m Trial 4 finished with value: 0.6933419836265429 and parameters: {'p': 1, 'd': 1, 'q': 7, 'P': 0, 'D': 1, 'Q': 3}. Best is trial 4 with value: 0.6933419836265429.\u001b[0m\n"
     ]
    },
    {
     "name": "stdout",
     "output_type": "stream",
     "text": [
      "Optimization terminated successfully.\n",
      "         Current function value: -1.268411\n",
      "         Iterations: 6\n",
      "         Function evaluations: 757\n"
     ]
    },
    {
     "name": "stderr",
     "output_type": "stream",
     "text": [
      "\u001b[32m[I 2022-03-10 01:07:45,738]\u001b[0m Trial 5 finished with value: 0.6698265278618125 and parameters: {'p': 0, 'd': 1, 'q': 3, 'P': 3, 'D': 1, 'Q': 3}. Best is trial 4 with value: 0.6933419836265429.\u001b[0m\n",
      "\u001b[32m[I 2022-03-10 01:07:50,340]\u001b[0m Trial 6 finished with value: 0.6861040722059859 and parameters: {'p': 7, 'd': 1, 'q': 2, 'P': 1, 'D': 0, 'Q': 1}. Best is trial 4 with value: 0.6933419836265429.\u001b[0m\n"
     ]
    },
    {
     "name": "stdout",
     "output_type": "stream",
     "text": [
      "Optimization terminated successfully.\n",
      "         Current function value: -1.386484\n",
      "         Iterations: 7\n",
      "         Function evaluations: 972\n",
      "Optimization terminated successfully.\n",
      "         Current function value: -1.314349\n",
      "         Iterations: 13\n",
      "         Function evaluations: 2385\n"
     ]
    },
    {
     "name": "stderr",
     "output_type": "stream",
     "text": [
      "\u001b[32m[I 2022-03-10 01:08:15,790]\u001b[0m Trial 7 finished with value: 0.6769659214181645 and parameters: {'p': 5, 'd': 1, 'q': 6, 'P': 1, 'D': 1, 'Q': 2}. Best is trial 4 with value: 0.6933419836265429.\u001b[0m\n",
      "\u001b[32m[I 2022-03-10 01:08:18,159]\u001b[0m Trial 8 finished with value: 0.679984950202238 and parameters: {'p': 0, 'd': 0, 'q': 5, 'P': 1, 'D': 1, 'Q': 1}. Best is trial 4 with value: 0.6933419836265429.\u001b[0m\n"
     ]
    },
    {
     "name": "stdout",
     "output_type": "stream",
     "text": [
      "Optimization terminated successfully.\n",
      "         Current function value: -1.337792\n",
      "         Iterations: 5\n",
      "         Function evaluations: 521\n",
      "Optimization terminated successfully.\n",
      "         Current function value: -1.298618\n",
      "         Iterations: 4\n",
      "         Function evaluations: 727\n"
     ]
    },
    {
     "name": "stderr",
     "output_type": "stream",
     "text": [
      "\u001b[32m[I 2022-03-10 01:08:25,024]\u001b[0m Trial 9 finished with value: 0.6791145288441554 and parameters: {'p': 4, 'd': 1, 'q': 5, 'P': 2, 'D': 0, 'Q': 3}. Best is trial 4 with value: 0.6933419836265429.\u001b[0m\n",
      "\u001b[32m[I 2022-03-10 01:08:30,311]\u001b[0m Trial 10 finished with value: 0.5649194603327743 and parameters: {'p': 1, 'd': 0, 'q': 8, 'P': 0, 'D': 1, 'Q': 0}. Best is trial 4 with value: 0.6933419836265429.\u001b[0m\n"
     ]
    },
    {
     "name": "stdout",
     "output_type": "stream",
     "text": [
      "Optimization terminated successfully.\n",
      "         Current function value: -1.228691\n",
      "         Iterations: 12\n",
      "         Function evaluations: 1576\n"
     ]
    },
    {
     "name": "stderr",
     "output_type": "stream",
     "text": [
      "\u001b[32m[I 2022-03-10 01:08:32,264]\u001b[0m Trial 11 finished with value: 0.3847726837456009 and parameters: {'p': 8, 'd': 1, 'q': 1, 'P': 1, 'D': 0, 'Q': 0}. Best is trial 4 with value: 0.6933419836265429.\u001b[0m\n"
     ]
    },
    {
     "name": "stdout",
     "output_type": "stream",
     "text": [
      "Optimization terminated successfully.\n",
      "         Current function value: -1.310433\n",
      "         Iterations: 9\n",
      "         Function evaluations: 1036\n",
      "Optimization terminated successfully.\n",
      "         Current function value: -1.223217\n",
      "         Iterations: 9\n",
      "         Function evaluations: 1439\n"
     ]
    },
    {
     "name": "stderr",
     "output_type": "stream",
     "text": [
      "\u001b[32m[I 2022-03-10 01:08:42,706]\u001b[0m Trial 12 finished with value: 0.31123569625932035 and parameters: {'p': 7, 'd': 1, 'q': 3, 'P': 0, 'D': 0, 'Q': 3}. Best is trial 4 with value: 0.6933419836265429.\u001b[0m\n",
      "\u001b[32m[I 2022-03-10 01:08:55,756]\u001b[0m Trial 13 finished with value: 0.7026639318459089 and parameters: {'p': 6, 'd': 1, 'q': 7, 'P': 1, 'D': 0, 'Q': 1}. Best is trial 13 with value: 0.7026639318459089.\u001b[0m\n"
     ]
    },
    {
     "name": "stdout",
     "output_type": "stream",
     "text": [
      "Optimization terminated successfully.\n",
      "         Current function value: -1.391006\n",
      "         Iterations: 15\n",
      "         Function evaluations: 3074\n",
      "Optimization terminated successfully.\n",
      "         Current function value: -1.352549\n",
      "         Iterations: 14\n",
      "         Function evaluations: 3115\n"
     ]
    },
    {
     "name": "stderr",
     "output_type": "stream",
     "text": [
      "\u001b[32m[I 2022-03-10 01:09:17,755]\u001b[0m Trial 14 finished with value: 0.7013359229498111 and parameters: {'p': 6, 'd': 1, 'q': 7, 'P': 2, 'D': 0, 'Q': 2}. Best is trial 13 with value: 0.7026639318459089.\u001b[0m\n"
     ]
    },
    {
     "name": "stdout",
     "output_type": "stream",
     "text": [
      "Optimization terminated successfully.\n",
      "         Current function value: -1.352549\n",
      "         Iterations: 14\n",
      "         Function evaluations: 3115\n"
     ]
    },
    {
     "name": "stderr",
     "output_type": "stream",
     "text": [
      "\u001b[32m[I 2022-03-10 01:09:37,949]\u001b[0m Trial 15 finished with value: 0.7013359229498111 and parameters: {'p': 6, 'd': 1, 'q': 7, 'P': 2, 'D': 0, 'Q': 2}. Best is trial 13 with value: 0.7026639318459089.\u001b[0m\n",
      "\u001b[32m[I 2022-03-10 01:10:04,092]\u001b[0m Trial 16 finished with value: 0.7066152910077081 and parameters: {'p': 6, 'd': 1, 'q': 7, 'P': 2, 'D': 0, 'Q': 0}. Best is trial 16 with value: 0.7066152910077081.\u001b[0m\n"
     ]
    },
    {
     "name": "stdout",
     "output_type": "stream",
     "text": [
      "Optimization terminated successfully.\n",
      "         Current function value: -1.334994\n",
      "         Iterations: 24\n",
      "         Function evaluations: 5035\n",
      "Optimization terminated successfully.\n",
      "         Current function value: -1.270718\n",
      "         Iterations: 9\n",
      "         Function evaluations: 1887\n"
     ]
    },
    {
     "name": "stderr",
     "output_type": "stream",
     "text": [
      "\u001b[32m[I 2022-03-10 01:10:16,447]\u001b[0m Trial 17 finished with value: 0.6148373896818875 and parameters: {'p': 8, 'd': 0, 'q': 6, 'P': 3, 'D': 0, 'Q': 0}. Best is trial 16 with value: 0.7066152910077081.\u001b[0m\n",
      "\u001b[32m[I 2022-03-10 01:10:26,074]\u001b[0m Trial 18 finished with value: 0.6247783738440421 and parameters: {'p': 6, 'd': 1, 'q': 4, 'P': 2, 'D': 0, 'Q': 0}. Best is trial 16 with value: 0.7066152910077081.\u001b[0m\n"
     ]
    },
    {
     "name": "stdout",
     "output_type": "stream",
     "text": [
      "Optimization terminated successfully.\n",
      "         Current function value: -1.323017\n",
      "         Iterations: 13\n",
      "         Function evaluations: 1934\n"
     ]
    },
    {
     "name": "stderr",
     "output_type": "stream",
     "text": [
      "\u001b[32m[I 2022-03-10 01:10:31,570]\u001b[0m Trial 19 finished with value: 0.3869322768241005 and parameters: {'p': 5, 'd': 1, 'q': 8, 'P': 1, 'D': 0, 'Q': 0}. Best is trial 16 with value: 0.7066152910077081.\u001b[0m\n"
     ]
    },
    {
     "name": "stdout",
     "output_type": "stream",
     "text": [
      "Optimization terminated successfully.\n",
      "         Current function value: -1.300644\n",
      "         Iterations: 11\n",
      "         Function evaluations: 2286\n"
     ]
    },
    {
     "name": "stderr",
     "output_type": "stream",
     "text": [
      "\u001b[32m[I 2022-03-10 01:10:45,946]\u001b[0m Trial 20 finished with value: 0.6703077580917778 and parameters: {'p': 7, 'd': 0, 'q': 6, 'P': 2, 'D': 0, 'Q': 1}. Best is trial 16 with value: 0.7066152910077081.\u001b[0m\n"
     ]
    },
    {
     "name": "stdout",
     "output_type": "stream",
     "text": [
      "Optimization terminated successfully.\n",
      "         Current function value: -1.357471\n",
      "         Iterations: 14\n",
      "         Function evaluations: 2880\n",
      "Optimization terminated successfully.\n",
      "         Current function value: -1.352549\n",
      "         Iterations: 14\n",
      "         Function evaluations: 3115\n"
     ]
    },
    {
     "name": "stderr",
     "output_type": "stream",
     "text": [
      "\u001b[32m[I 2022-03-10 01:11:04,506]\u001b[0m Trial 21 finished with value: 0.7013359229498111 and parameters: {'p': 6, 'd': 1, 'q': 7, 'P': 2, 'D': 0, 'Q': 2}. Best is trial 16 with value: 0.7066152910077081.\u001b[0m\n"
     ]
    },
    {
     "name": "stdout",
     "output_type": "stream",
     "text": [
      "Optimization terminated successfully.\n",
      "         Current function value: -1.347700\n",
      "         Iterations: 13\n",
      "         Function evaluations: 2748\n"
     ]
    },
    {
     "name": "stderr",
     "output_type": "stream",
     "text": [
      "\u001b[32m[I 2022-03-10 01:11:18,255]\u001b[0m Trial 22 finished with value: 0.6837490828220003 and parameters: {'p': 5, 'd': 1, 'q': 7, 'P': 2, 'D': 0, 'Q': 1}. Best is trial 16 with value: 0.7066152910077081.\u001b[0m\n"
     ]
    },
    {
     "name": "stdout",
     "output_type": "stream",
     "text": [
      "Optimization terminated successfully.\n",
      "         Current function value: -1.345529\n",
      "         Iterations: 8\n",
      "         Function evaluations: 1734\n"
     ]
    },
    {
     "name": "stderr",
     "output_type": "stream",
     "text": [
      "\u001b[32m[I 2022-03-10 01:11:26,542]\u001b[0m Trial 23 finished with value: 0.6870485869915623 and parameters: {'p': 6, 'd': 1, 'q': 6, 'P': 1, 'D': 0, 'Q': 2}. Best is trial 16 with value: 0.7066152910077081.\u001b[0m\n"
     ]
    },
    {
     "name": "stdout",
     "output_type": "stream",
     "text": [
      "Optimization terminated successfully.\n",
      "         Current function value: -1.289923\n",
      "         Iterations: 6\n",
      "         Function evaluations: 1300\n"
     ]
    },
    {
     "name": "stderr",
     "output_type": "stream",
     "text": [
      "\u001b[32m[I 2022-03-10 01:11:35,228]\u001b[0m Trial 24 finished with value: 0.6513556872664539 and parameters: {'p': 5, 'd': 1, 'q': 8, 'P': 3, 'D': 0, 'Q': 0}. Best is trial 16 with value: 0.7066152910077081.\u001b[0m\n",
      "\u001b[32m[I 2022-03-10 01:11:48,318]\u001b[0m Trial 25 finished with value: 0.6599448459258945 and parameters: {'p': 7, 'd': 1, 'q': 7, 'P': 2, 'D': 0, 'Q': 1}. Best is trial 16 with value: 0.7066152910077081.\u001b[0m\n"
     ]
    },
    {
     "name": "stdout",
     "output_type": "stream",
     "text": [
      "Optimization terminated successfully.\n",
      "         Current function value: -1.331931\n",
      "         Iterations: 13\n",
      "         Function evaluations: 2930\n",
      "Optimization terminated successfully.\n",
      "         Current function value: -1.361504\n",
      "         Iterations: 16\n",
      "         Function evaluations: 3139\n"
     ]
    },
    {
     "name": "stderr",
     "output_type": "stream",
     "text": [
      "\u001b[32m[I 2022-03-10 01:12:06,166]\u001b[0m Trial 26 finished with value: 0.7024382315017939 and parameters: {'p': 8, 'd': 1, 'q': 4, 'P': 1, 'D': 0, 'Q': 2}. Best is trial 16 with value: 0.7066152910077081.\u001b[0m\n",
      "\u001b[32m[I 2022-03-10 01:12:13,141]\u001b[0m Trial 27 finished with value: 0.6890785827011634 and parameters: {'p': 8, 'd': 1, 'q': 4, 'P': 1, 'D': 0, 'Q': 1}. Best is trial 16 with value: 0.7066152910077081.\u001b[0m\n"
     ]
    },
    {
     "name": "stdout",
     "output_type": "stream",
     "text": [
      "Optimization terminated successfully.\n",
      "         Current function value: -1.385828\n",
      "         Iterations: 8\n",
      "         Function evaluations: 1523\n"
     ]
    },
    {
     "name": "stderr",
     "output_type": "stream",
     "text": [
      "\u001b[32m[I 2022-03-10 01:12:27,469]\u001b[0m Trial 28 finished with value: 0.4043141900653734 and parameters: {'p': 8, 'd': 1, 'q': 3, 'P': 1, 'D': 0, 'Q': 0}. Best is trial 16 with value: 0.7066152910077081.\u001b[0m\n"
     ]
    },
    {
     "name": "stdout",
     "output_type": "stream",
     "text": [
      "Optimization terminated successfully.\n",
      "         Current function value: -1.303725\n",
      "         Iterations: 22\n",
      "         Function evaluations: 3537\n"
     ]
    },
    {
     "name": "stderr",
     "output_type": "stream",
     "text": [
      "\u001b[32m[I 2022-03-10 01:12:27,824]\u001b[0m Trial 29 finished with value: 0.6726766514644186 and parameters: {'p': 3, 'd': 0, 'q': 0, 'P': 1, 'D': 0, 'Q': 1}. Best is trial 16 with value: 0.7066152910077081.\u001b[0m\n"
     ]
    },
    {
     "name": "stdout",
     "output_type": "stream",
     "text": [
      "Optimization terminated successfully.\n",
      "         Current function value: -1.410730\n",
      "         Iterations: 3\n",
      "         Function evaluations: 210\n",
      "Optimization terminated successfully.\n",
      "         Current function value: -1.308853\n",
      "         Iterations: 15\n",
      "         Function evaluations: 3199\n"
     ]
    },
    {
     "name": "stderr",
     "output_type": "stream",
     "text": [
      "\u001b[32m[I 2022-03-10 01:12:54,036]\u001b[0m Trial 30 finished with value: 0.676139222274258 and parameters: {'p': 7, 'd': 1, 'q': 5, 'P': 3, 'D': 0, 'Q': 2}. Best is trial 16 with value: 0.7066152910077081.\u001b[0m\n"
     ]
    },
    {
     "name": "stdout",
     "output_type": "stream",
     "text": [
      "Optimization terminated successfully.\n",
      "         Current function value: -1.367067\n",
      "         Iterations: 23\n",
      "         Function evaluations: 4783\n"
     ]
    },
    {
     "name": "stderr",
     "output_type": "stream",
     "text": [
      "\u001b[32m[I 2022-03-10 01:13:23,700]\u001b[0m Trial 31 finished with value: 0.7017213391531385 and parameters: {'p': 6, 'd': 1, 'q': 6, 'P': 2, 'D': 0, 'Q': 2}. Best is trial 16 with value: 0.7066152910077081.\u001b[0m\n"
     ]
    },
    {
     "name": "stdout",
     "output_type": "stream",
     "text": [
      "Optimization terminated successfully.\n",
      "         Current function value: -1.368545\n",
      "         Iterations: 20\n",
      "         Function evaluations: 4065\n"
     ]
    },
    {
     "name": "stderr",
     "output_type": "stream",
     "text": [
      "\u001b[32m[I 2022-03-10 01:13:46,067]\u001b[0m Trial 32 finished with value: 0.6954362459495685 and parameters: {'p': 5, 'd': 1, 'q': 6, 'P': 2, 'D': 0, 'Q': 2}. Best is trial 16 with value: 0.7066152910077081.\u001b[0m\n",
      "\u001b[32m[I 2022-03-10 01:13:51,088]\u001b[0m Trial 33 finished with value: 0.6782419578739332 and parameters: {'p': 3, 'd': 1, 'q': 4, 'P': 1, 'D': 0, 'Q': 2}. Best is trial 16 with value: 0.7066152910077081.\u001b[0m\n"
     ]
    },
    {
     "name": "stdout",
     "output_type": "stream",
     "text": [
      "Optimization terminated successfully.\n",
      "         Current function value: -1.329336\n",
      "         Iterations: 7\n",
      "         Function evaluations: 1107\n"
     ]
    },
    {
     "name": "stderr",
     "output_type": "stream",
     "text": [
      "\u001b[32m[I 2022-03-10 01:13:59,805]\u001b[0m Trial 34 finished with value: 0.6710403008294561 and parameters: {'p': 4, 'd': 1, 'q': 5, 'P': 2, 'D': 0, 'Q': 1}. Best is trial 16 with value: 0.7066152910077081.\u001b[0m\n"
     ]
    },
    {
     "name": "stdout",
     "output_type": "stream",
     "text": [
      "Optimization terminated successfully.\n",
      "         Current function value: -1.338499\n",
      "         Iterations: 10\n",
      "         Function evaluations: 1741\n"
     ]
    },
    {
     "name": "stderr",
     "output_type": "stream",
     "text": [
      "\u001b[32m[I 2022-03-10 01:14:06,409]\u001b[0m Trial 35 finished with value: 0.680039572768846 and parameters: {'p': 7, 'd': 1, 'q': 8, 'P': 0, 'D': 0, 'Q': 2}. Best is trial 16 with value: 0.7066152910077081.\u001b[0m\n"
     ]
    },
    {
     "name": "stdout",
     "output_type": "stream",
     "text": [
      "Optimization terminated successfully.\n",
      "         Current function value: -1.330899\n",
      "         Iterations: 7\n",
      "         Function evaluations: 1583\n",
      "Optimization terminated successfully.\n",
      "         Current function value: -1.297111\n",
      "         Iterations: 9\n",
      "         Function evaluations: 2098\n"
     ]
    },
    {
     "name": "stderr",
     "output_type": "stream",
     "text": [
      "\u001b[32m[I 2022-03-10 01:14:21,008]\u001b[0m Trial 36 finished with value: 0.7025344538562814 and parameters: {'p': 6, 'd': 1, 'q': 6, 'P': 1, 'D': 0, 'Q': 3}. Best is trial 16 with value: 0.7066152910077081.\u001b[0m\n"
     ]
    },
    {
     "name": "stdout",
     "output_type": "stream",
     "text": [
      "Optimization terminated successfully.\n",
      "         Current function value: -1.264106\n",
      "         Iterations: 17\n",
      "         Function evaluations: 3992\n"
     ]
    },
    {
     "name": "stderr",
     "output_type": "stream",
     "text": [
      "\u001b[32m[I 2022-03-10 01:15:14,882]\u001b[0m Trial 37 finished with value: 0.6851398053548228 and parameters: {'p': 8, 'd': 1, 'q': 7, 'P': 1, 'D': 1, 'Q': 3}. Best is trial 16 with value: 0.7066152910077081.\u001b[0m\n"
     ]
    },
    {
     "name": "stdout",
     "output_type": "stream",
     "text": [
      "Optimization terminated successfully.\n",
      "         Current function value: -1.196648\n",
      "         Iterations: 7\n",
      "         Function evaluations: 1013\n"
     ]
    },
    {
     "name": "stderr",
     "output_type": "stream",
     "text": [
      "\u001b[32m[I 2022-03-10 01:15:22,672]\u001b[0m Trial 38 finished with value: 0.279095735075661 and parameters: {'p': 4, 'd': 1, 'q': 4, 'P': 0, 'D': 0, 'Q': 3}. Best is trial 16 with value: 0.7066152910077081.\u001b[0m\n"
     ]
    },
    {
     "name": "stdout",
     "output_type": "stream",
     "text": [
      "Optimization terminated successfully.\n",
      "         Current function value: -1.268207\n",
      "         Iterations: 13\n",
      "         Function evaluations: 1682\n"
     ]
    },
    {
     "name": "stderr",
     "output_type": "stream",
     "text": [
      "\u001b[32m[I 2022-03-10 01:15:43,016]\u001b[0m Trial 39 finished with value: 0.6867686363320203 and parameters: {'p': 2, 'd': 1, 'q': 3, 'P': 1, 'D': 1, 'Q': 3}. Best is trial 16 with value: 0.7066152910077081.\u001b[0m\n"
     ]
    },
    {
     "name": "stdout",
     "output_type": "stream",
     "text": [
      "Optimization terminated successfully.\n",
      "         Current function value: -1.304806\n",
      "         Iterations: 9\n",
      "         Function evaluations: 1338\n"
     ]
    },
    {
     "name": "stderr",
     "output_type": "stream",
     "text": [
      "\u001b[32m[I 2022-03-10 01:15:52,367]\u001b[0m Trial 40 finished with value: 0.6829804712554726 and parameters: {'p': 5, 'd': 1, 'q': 2, 'P': 1, 'D': 0, 'Q': 3}. Best is trial 16 with value: 0.7066152910077081.\u001b[0m\n"
     ]
    },
    {
     "name": "stdout",
     "output_type": "stream",
     "text": [
      "Optimization terminated successfully.\n",
      "         Current function value: -1.345529\n",
      "         Iterations: 8\n",
      "         Function evaluations: 1734\n"
     ]
    },
    {
     "name": "stderr",
     "output_type": "stream",
     "text": [
      "\u001b[32m[I 2022-03-10 01:16:01,250]\u001b[0m Trial 41 finished with value: 0.6870485869915623 and parameters: {'p': 6, 'd': 1, 'q': 6, 'P': 1, 'D': 0, 'Q': 2}. Best is trial 16 with value: 0.7066152910077081.\u001b[0m\n"
     ]
    },
    {
     "name": "stdout",
     "output_type": "stream",
     "text": [
      "Optimization terminated successfully.\n",
      "         Current function value: -1.341424\n",
      "         Iterations: 5\n",
      "         Function evaluations: 978\n"
     ]
    },
    {
     "name": "stderr",
     "output_type": "stream",
     "text": [
      "\u001b[32m[I 2022-03-10 01:16:07,138]\u001b[0m Trial 42 finished with value: 0.6829053183801863 and parameters: {'p': 6, 'd': 1, 'q': 5, 'P': 2, 'D': 0, 'Q': 2}. Best is trial 16 with value: 0.7066152910077081.\u001b[0m\n",
      "\u001b[32m[I 2022-03-10 01:16:20,133]\u001b[0m Trial 43 finished with value: 0.6949704470519213 and parameters: {'p': 7, 'd': 1, 'q': 6, 'P': 1, 'D': 0, 'Q': 1}. Best is trial 16 with value: 0.7066152910077081.\u001b[0m\n"
     ]
    },
    {
     "name": "stdout",
     "output_type": "stream",
     "text": [
      "Optimization terminated successfully.\n",
      "         Current function value: -1.388879\n",
      "         Iterations: 16\n",
      "         Function evaluations: 3173\n",
      "Optimization terminated successfully.\n",
      "         Current function value: -1.301069\n",
      "         Iterations: 5\n",
      "         Function evaluations: 1027\n"
     ]
    },
    {
     "name": "stderr",
     "output_type": "stream",
     "text": [
      "\u001b[32m[I 2022-03-10 01:16:29,526]\u001b[0m Trial 44 finished with value: 0.6855205762698493 and parameters: {'p': 5, 'd': 1, 'q': 5, 'P': 2, 'D': 0, 'Q': 3}. Best is trial 16 with value: 0.7066152910077081.\u001b[0m\n"
     ]
    },
    {
     "name": "stdout",
     "output_type": "stream",
     "text": [
      "Optimization terminated successfully.\n",
      "         Current function value: -1.343574\n",
      "         Iterations: 18\n",
      "         Function evaluations: 3997\n"
     ]
    },
    {
     "name": "stderr",
     "output_type": "stream",
     "text": [
      "\u001b[32m[I 2022-03-10 01:16:52,181]\u001b[0m Trial 45 finished with value: 0.7002861100561717 and parameters: {'p': 7, 'd': 1, 'q': 7, 'P': 1, 'D': 0, 'Q': 2}. Best is trial 16 with value: 0.7066152910077081.\u001b[0m\n",
      "\u001b[32m[I 2022-03-10 01:16:54,156]\u001b[0m Trial 46 finished with value: 0.6554358965452747 and parameters: {'p': 6, 'd': 1, 'q': 8, 'P': 0, 'D': 0, 'Q': 0}. Best is trial 16 with value: 0.7066152910077081.\u001b[0m\n"
     ]
    },
    {
     "name": "stdout",
     "output_type": "stream",
     "text": [
      "Optimization terminated successfully.\n",
      "         Current function value: -1.395790\n",
      "         Iterations: 15\n",
      "         Function evaluations: 2833\n",
      "Optimization terminated successfully.\n",
      "         Current function value: -1.305281\n",
      "         Iterations: 14\n",
      "         Function evaluations: 3330\n"
     ]
    },
    {
     "name": "stderr",
     "output_type": "stream",
     "text": [
      "\u001b[32m[I 2022-03-10 01:17:16,960]\u001b[0m Trial 47 finished with value: 0.6685534349456674 and parameters: {'p': 8, 'd': 0, 'q': 6, 'P': 2, 'D': 1, 'Q': 1}. Best is trial 16 with value: 0.7066152910077081.\u001b[0m\n"
     ]
    },
    {
     "name": "stdout",
     "output_type": "stream",
     "text": [
      "Optimization terminated successfully.\n",
      "         Current function value: -1.298804\n",
      "         Iterations: 7\n",
      "         Function evaluations: 1453\n"
     ]
    },
    {
     "name": "stderr",
     "output_type": "stream",
     "text": [
      "\u001b[32m[I 2022-03-10 01:17:27,864]\u001b[0m Trial 48 finished with value: 0.6842930073544812 and parameters: {'p': 6, 'd': 1, 'q': 5, 'P': 3, 'D': 0, 'Q': 2}. Best is trial 16 with value: 0.7066152910077081.\u001b[0m\n"
     ]
    },
    {
     "name": "stdout",
     "output_type": "stream",
     "text": [
      "Optimization terminated successfully.\n",
      "         Current function value: -1.303936\n",
      "         Iterations: 11\n",
      "         Function evaluations: 2331\n"
     ]
    },
    {
     "name": "stderr",
     "output_type": "stream",
     "text": [
      "\u001b[32m[I 2022-03-10 01:17:49,630]\u001b[0m Trial 49 finished with value: 0.7033771563652644 and parameters: {'p': 4, 'd': 1, 'q': 7, 'P': 1, 'D': 0, 'Q': 3}. Best is trial 16 with value: 0.7066152910077081.\u001b[0m\n",
      "\u001b[32m[I 2022-03-10 01:17:49,698]\u001b[0m A new study created in memory with name: no-name-7f3a9e03-9e60-4823-a13f-ea8eb10855a4\u001b[0m\n",
      "\u001b[32m[I 2022-03-10 01:17:53,771]\u001b[0m Trial 0 finished with value: 0.6501594482193145 and parameters: {'p': 2, 'd': 1, 'q': 1, 'P': 2, 'D': 0, 'Q': 1}. Best is trial 0 with value: 0.6501594482193145.\u001b[0m\n"
     ]
    },
    {
     "name": "stdout",
     "output_type": "stream",
     "text": [
      "Optimization terminated successfully.\n",
      "         Current function value: -1.457644\n",
      "         Iterations: 8\n",
      "         Function evaluations: 719\n"
     ]
    },
    {
     "name": "stderr",
     "output_type": "stream",
     "text": [
      "\u001b[32m[I 2022-03-10 01:17:55,475]\u001b[0m Trial 1 finished with value: 0.5948442973523438 and parameters: {'p': 2, 'd': 1, 'q': 2, 'P': 1, 'D': 1, 'Q': 0}. Best is trial 0 with value: 0.6501594482193145.\u001b[0m\n"
     ]
    },
    {
     "name": "stdout",
     "output_type": "stream",
     "text": [
      "Optimization terminated successfully.\n",
      "         Current function value: -1.398819\n",
      "         Iterations: 4\n",
      "         Function evaluations: 346\n"
     ]
    },
    {
     "name": "stderr",
     "output_type": "stream",
     "text": [
      "\u001b[32m[I 2022-03-10 01:18:03,205]\u001b[0m Trial 2 finished with value: 0.5970294056741035 and parameters: {'p': 6, 'd': 1, 'q': 3, 'P': 1, 'D': 1, 'Q': 0}. Best is trial 0 with value: 0.6501594482193145.\u001b[0m\n"
     ]
    },
    {
     "name": "stdout",
     "output_type": "stream",
     "text": [
      "Optimization terminated successfully.\n",
      "         Current function value: -1.397273\n",
      "         Iterations: 9\n",
      "         Function evaluations: 1267\n"
     ]
    },
    {
     "name": "stderr",
     "output_type": "stream",
     "text": [
      "\u001b[32m[I 2022-03-10 01:18:05,744]\u001b[0m Trial 3 finished with value: 0.6566985994746146 and parameters: {'p': 0, 'd': 0, 'q': 2, 'P': 2, 'D': 0, 'Q': 3}. Best is trial 3 with value: 0.6566985994746146.\u001b[0m\n"
     ]
    },
    {
     "name": "stdout",
     "output_type": "stream",
     "text": [
      "Optimization terminated successfully.\n",
      "         Current function value: -1.425536\n",
      "         Iterations: 4\n",
      "         Function evaluations: 377\n",
      "Optimization terminated successfully.\n",
      "         Current function value: -1.366497\n",
      "         Iterations: 8\n",
      "         Function evaluations: 1136\n"
     ]
    },
    {
     "name": "stderr",
     "output_type": "stream",
     "text": [
      "\u001b[32m[I 2022-03-10 01:18:20,583]\u001b[0m Trial 4 finished with value: 0.6486520875674502 and parameters: {'p': 0, 'd': 1, 'q': 5, 'P': 1, 'D': 1, 'Q': 3}. Best is trial 3 with value: 0.6566985994746146.\u001b[0m\n",
      "\u001b[32m[I 2022-03-10 01:18:21,103]\u001b[0m Trial 5 finished with value: 0.18075626039654535 and parameters: {'p': 3, 'd': 1, 'q': 0, 'P': 2, 'D': 0, 'Q': 0}. Best is trial 3 with value: 0.6566985994746146.\u001b[0m\n"
     ]
    },
    {
     "name": "stdout",
     "output_type": "stream",
     "text": [
      "Optimization terminated successfully.\n",
      "         Current function value: -1.340339\n",
      "         Iterations: 4\n",
      "         Function evaluations: 275\n"
     ]
    },
    {
     "name": "stderr",
     "output_type": "stream",
     "text": [
      "\u001b[32m[I 2022-03-10 01:18:32,928]\u001b[0m Trial 6 finished with value: 0.6104334085826899 and parameters: {'p': 7, 'd': 1, 'q': 8, 'P': 0, 'D': 0, 'Q': 1}. Best is trial 3 with value: 0.6566985994746146.\u001b[0m\n"
     ]
    },
    {
     "name": "stdout",
     "output_type": "stream",
     "text": [
      "Optimization terminated successfully.\n",
      "         Current function value: -1.528744\n",
      "         Iterations: 18\n",
      "         Function evaluations: 3860\n"
     ]
    },
    {
     "name": "stderr",
     "output_type": "stream",
     "text": [
      "\u001b[32m[I 2022-03-10 01:18:35,953]\u001b[0m Trial 7 finished with value: 0.6502289975239283 and parameters: {'p': 1, 'd': 0, 'q': 4, 'P': 3, 'D': 0, 'Q': 2}. Best is trial 3 with value: 0.6566985994746146.\u001b[0m\n"
     ]
    },
    {
     "name": "stdout",
     "output_type": "stream",
     "text": [
      "Optimization terminated successfully.\n",
      "         Current function value: -1.436066\n",
      "         Iterations: 4\n",
      "         Function evaluations: 527\n",
      "Optimization terminated successfully.\n",
      "         Current function value: 0.870156\n",
      "         Iterations: 10\n",
      "         Function evaluations: 1721\n"
     ]
    },
    {
     "name": "stderr",
     "output_type": "stream",
     "text": [
      "\u001b[32m[I 2022-03-10 01:18:48,811]\u001b[0m Trial 8 finished with value: -3.1174638860903944e+37 and parameters: {'p': 8, 'd': 0, 'q': 4, 'P': 0, 'D': 0, 'Q': 3}. Best is trial 3 with value: 0.6566985994746146.\u001b[0m\n",
      "\u001b[32m[I 2022-03-10 01:18:49,113]\u001b[0m Trial 9 finished with value: 0.6131729315598444 and parameters: {'p': 0, 'd': 0, 'q': 0, 'P': 3, 'D': 0, 'Q': 0}. Best is trial 3 with value: 0.6566985994746146.\u001b[0m\n"
     ]
    },
    {
     "name": "stdout",
     "output_type": "stream",
     "text": [
      "Optimization terminated successfully.\n",
      "         Current function value: -1.402798\n",
      "         Iterations: 1\n",
      "         Function evaluations: 102\n",
      "Optimization terminated successfully.\n",
      "         Current function value: -1.427198\n",
      "         Iterations: 9\n",
      "         Function evaluations: 1802\n"
     ]
    },
    {
     "name": "stderr",
     "output_type": "stream",
     "text": [
      "\u001b[32m[I 2022-03-10 01:19:02,189]\u001b[0m Trial 10 finished with value: 0.6503649961998934 and parameters: {'p': 5, 'd': 0, 'q': 6, 'P': 2, 'D': 1, 'Q': 2}. Best is trial 3 with value: 0.6566985994746146.\u001b[0m\n"
     ]
    },
    {
     "name": "stdout",
     "output_type": "stream",
     "text": [
      "Optimization terminated successfully.\n",
      "         Current function value: -1.428458\n",
      "         Iterations: 11\n",
      "         Function evaluations: 2482\n"
     ]
    },
    {
     "name": "stderr",
     "output_type": "stream",
     "text": [
      "\u001b[32m[I 2022-03-10 01:19:19,424]\u001b[0m Trial 11 finished with value: 0.6612938232316765 and parameters: {'p': 5, 'd': 0, 'q': 7, 'P': 2, 'D': 1, 'Q': 2}. Best is trial 11 with value: 0.6612938232316765.\u001b[0m\n"
     ]
    },
    {
     "name": "stdout",
     "output_type": "stream",
     "text": [
      "Optimization terminated successfully.\n",
      "         Current function value: -1.391733\n",
      "         Iterations: 19\n",
      "         Function evaluations: 4299\n"
     ]
    },
    {
     "name": "stderr",
     "output_type": "stream",
     "text": [
      "\u001b[32m[I 2022-03-10 01:20:14,961]\u001b[0m Trial 12 finished with value: 0.6415044438290023 and parameters: {'p': 4, 'd': 0, 'q': 8, 'P': 2, 'D': 1, 'Q': 3}. Best is trial 11 with value: 0.6612938232316765.\u001b[0m\n"
     ]
    },
    {
     "name": "stdout",
     "output_type": "stream",
     "text": [
      "Optimization terminated successfully.\n",
      "         Current function value: -1.393460\n",
      "         Iterations: 8\n",
      "         Function evaluations: 1507\n"
     ]
    },
    {
     "name": "stderr",
     "output_type": "stream",
     "text": [
      "\u001b[32m[I 2022-03-10 01:20:26,588]\u001b[0m Trial 13 finished with value: 0.6431531662203835 and parameters: {'p': 4, 'd': 0, 'q': 6, 'P': 3, 'D': 1, 'Q': 2}. Best is trial 11 with value: 0.6612938232316765.\u001b[0m\n"
     ]
    },
    {
     "name": "stdout",
     "output_type": "stream",
     "text": [
      "Optimization terminated successfully.\n",
      "         Current function value: -1.391653\n",
      "         Iterations: 5\n",
      "         Function evaluations: 852\n"
     ]
    },
    {
     "name": "stderr",
     "output_type": "stream",
     "text": [
      "\u001b[32m[I 2022-03-10 01:20:34,531]\u001b[0m Trial 14 finished with value: 0.6530902443671075 and parameters: {'p': 6, 'd': 0, 'q': 2, 'P': 2, 'D': 1, 'Q': 3}. Best is trial 11 with value: 0.6612938232316765.\u001b[0m\n"
     ]
    },
    {
     "name": "stdout",
     "output_type": "stream",
     "text": [
      "Optimization terminated successfully.\n",
      "         Current function value: -1.459339\n",
      "         Iterations: 9\n",
      "         Function evaluations: 1773\n"
     ]
    },
    {
     "name": "stderr",
     "output_type": "stream",
     "text": [
      "\u001b[32m[I 2022-03-10 01:20:44,294]\u001b[0m Trial 15 finished with value: 0.6583222391163015 and parameters: {'p': 5, 'd': 0, 'q': 7, 'P': 1, 'D': 0, 'Q': 2}. Best is trial 11 with value: 0.6612938232316765.\u001b[0m\n",
      "\u001b[32m[I 2022-03-10 01:20:49,432]\u001b[0m Trial 16 finished with value: 0.6710795996087547 and parameters: {'p': 5, 'd': 0, 'q': 7, 'P': 1, 'D': 0, 'Q': 1}. Best is trial 16 with value: 0.6710795996087547.\u001b[0m\n"
     ]
    },
    {
     "name": "stdout",
     "output_type": "stream",
     "text": [
      "Optimization terminated successfully.\n",
      "         Current function value: -1.512732\n",
      "         Iterations: 7\n",
      "         Function evaluations: 1326\n"
     ]
    },
    {
     "name": "stderr",
     "output_type": "stream",
     "text": [
      "\u001b[32m[I 2022-03-10 01:20:54,402]\u001b[0m Trial 17 finished with value: 0.6623534202009663 and parameters: {'p': 5, 'd': 0, 'q': 7, 'P': 0, 'D': 1, 'Q': 1}. Best is trial 16 with value: 0.6710795996087547.\u001b[0m\n"
     ]
    },
    {
     "name": "stdout",
     "output_type": "stream",
     "text": [
      "Optimization terminated successfully.\n",
      "         Current function value: -1.469926\n",
      "         Iterations: 6\n",
      "         Function evaluations: 1041\n"
     ]
    },
    {
     "name": "stderr",
     "output_type": "stream",
     "text": [
      "\u001b[32m[I 2022-03-10 01:20:57,655]\u001b[0m Trial 18 finished with value: 0.08308952635705025 and parameters: {'p': 8, 'd': 0, 'q': 6, 'P': 0, 'D': 0, 'Q': 1}. Best is trial 16 with value: 0.6710795996087547.\u001b[0m\n"
     ]
    },
    {
     "name": "stdout",
     "output_type": "stream",
     "text": [
      "Optimization terminated successfully.\n",
      "         Current function value: -1.339589\n",
      "         Iterations: 5\n",
      "         Function evaluations: 969\n"
     ]
    },
    {
     "name": "stderr",
     "output_type": "stream",
     "text": [
      "\u001b[32m[I 2022-03-10 01:21:03,121]\u001b[0m Trial 19 finished with value: 0.6612580068310168 and parameters: {'p': 6, 'd': 0, 'q': 7, 'P': 0, 'D': 1, 'Q': 1}. Best is trial 16 with value: 0.6710795996087547.\u001b[0m\n"
     ]
    },
    {
     "name": "stdout",
     "output_type": "stream",
     "text": [
      "Optimization terminated successfully.\n",
      "         Current function value: -1.469322\n",
      "         Iterations: 6\n",
      "         Function evaluations: 1105\n"
     ]
    },
    {
     "name": "stderr",
     "output_type": "stream",
     "text": [
      "\u001b[32m[I 2022-03-10 01:21:07,564]\u001b[0m Trial 20 finished with value: -21.392242796523764 and parameters: {'p': 7, 'd': 0, 'q': 5, 'P': 0, 'D': 0, 'Q': 1}. Best is trial 16 with value: 0.6710795996087547.\u001b[0m\n"
     ]
    },
    {
     "name": "stdout",
     "output_type": "stream",
     "text": [
      "Optimization terminated successfully.\n",
      "         Current function value: -1.237999\n",
      "         Iterations: 9\n",
      "         Function evaluations: 1622\n",
      "Optimization terminated successfully.\n",
      "         Current function value: -1.428754\n",
      "         Iterations: 11\n",
      "         Function evaluations: 2132\n"
     ]
    },
    {
     "name": "stderr",
     "output_type": "stream",
     "text": [
      "\u001b[32m[I 2022-03-10 01:21:22,747]\u001b[0m Trial 21 finished with value: 0.6615328117095169 and parameters: {'p': 5, 'd': 0, 'q': 7, 'P': 1, 'D': 1, 'Q': 2}. Best is trial 16 with value: 0.6710795996087547.\u001b[0m\n",
      "\u001b[32m[I 2022-03-10 01:21:29,451]\u001b[0m Trial 22 finished with value: 0.6410586209425265 and parameters: {'p': 4, 'd': 0, 'q': 8, 'P': 1, 'D': 1, 'Q': 1}. Best is trial 16 with value: 0.6710795996087547.\u001b[0m\n"
     ]
    },
    {
     "name": "stdout",
     "output_type": "stream",
     "text": [
      "Optimization terminated successfully.\n",
      "         Current function value: -1.458948\n",
      "         Iterations: 8\n",
      "         Function evaluations: 1421\n"
     ]
    },
    {
     "name": "stderr",
     "output_type": "stream",
     "text": [
      "\u001b[32m[I 2022-03-10 01:21:33,302]\u001b[0m Trial 23 finished with value: 0.6517849905206006 and parameters: {'p': 3, 'd': 0, 'q': 7, 'P': 1, 'D': 1, 'Q': 1}. Best is trial 16 with value: 0.6710795996087547.\u001b[0m\n"
     ]
    },
    {
     "name": "stdout",
     "output_type": "stream",
     "text": [
      "Optimization terminated successfully.\n",
      "         Current function value: -1.459719\n",
      "         Iterations: 6\n",
      "         Function evaluations: 944\n",
      "Optimization terminated successfully.\n",
      "         Current function value: -1.433328\n",
      "         Iterations: 15\n",
      "         Function evaluations: 2423\n"
     ]
    },
    {
     "name": "stderr",
     "output_type": "stream",
     "text": [
      "\u001b[32m[I 2022-03-10 01:21:51,571]\u001b[0m Trial 24 finished with value: 0.6359296242392556 and parameters: {'p': 5, 'd': 0, 'q': 5, 'P': 0, 'D': 1, 'Q': 2}. Best is trial 16 with value: 0.6710795996087547.\u001b[0m\n",
      "\u001b[32m[I 2022-03-10 01:21:56,443]\u001b[0m Trial 25 finished with value: 0.6503418538600534 and parameters: {'p': 3, 'd': 0, 'q': 6, 'P': 1, 'D': 1, 'Q': 1}. Best is trial 16 with value: 0.6710795996087547.\u001b[0m\n"
     ]
    },
    {
     "name": "stdout",
     "output_type": "stream",
     "text": [
      "Optimization terminated successfully.\n",
      "         Current function value: -1.461920\n",
      "         Iterations: 7\n",
      "         Function evaluations: 1036\n",
      "Optimization terminated successfully.\n",
      "         Current function value: -1.434162\n",
      "         Iterations: 10\n",
      "         Function evaluations: 2255\n"
     ]
    },
    {
     "name": "stderr",
     "output_type": "stream",
     "text": [
      "\u001b[32m[I 2022-03-10 01:22:15,519]\u001b[0m Trial 26 finished with value: 0.6621538025558638 and parameters: {'p': 7, 'd': 0, 'q': 8, 'P': 1, 'D': 1, 'Q': 2}. Best is trial 16 with value: 0.6710795996087547.\u001b[0m\n"
     ]
    },
    {
     "name": "stdout",
     "output_type": "stream",
     "text": [
      "Optimization terminated successfully.\n",
      "         Current function value: -1.484583\n",
      "         Iterations: 23\n",
      "         Function evaluations: 4857\n"
     ]
    },
    {
     "name": "stderr",
     "output_type": "stream",
     "text": [
      "\u001b[32m[I 2022-03-10 01:22:43,899]\u001b[0m Trial 27 finished with value: 0.6742078264125284 and parameters: {'p': 7, 'd': 0, 'q': 8, 'P': 0, 'D': 1, 'Q': 1}. Best is trial 27 with value: 0.6742078264125284.\u001b[0m\n",
      "\u001b[32m[I 2022-03-10 01:22:45,435]\u001b[0m Trial 28 finished with value: 0.005662472699599075 and parameters: {'p': 6, 'd': 0, 'q': 8, 'P': 0, 'D': 0, 'Q': 0}. Best is trial 27 with value: 0.6742078264125284.\u001b[0m\n"
     ]
    },
    {
     "name": "stdout",
     "output_type": "stream",
     "text": [
      "Optimization terminated successfully.\n",
      "         Current function value: -1.371957\n",
      "         Iterations: 12\n",
      "         Function evaluations: 2346\n",
      "Optimization terminated successfully.\n",
      "         Current function value: -1.472843\n",
      "         Iterations: 7\n",
      "         Function evaluations: 1316\n"
     ]
    },
    {
     "name": "stderr",
     "output_type": "stream",
     "text": [
      "\u001b[32m[I 2022-03-10 01:22:53,834]\u001b[0m Trial 29 finished with value: 0.65888236148292 and parameters: {'p': 7, 'd': 1, 'q': 7, 'P': 0, 'D': 1, 'Q': 1}. Best is trial 27 with value: 0.6742078264125284.\u001b[0m\n",
      "\u001b[32m[I 2022-03-10 01:22:59,037]\u001b[0m Trial 30 finished with value: -1.5471746425983774e+38 and parameters: {'p': 8, 'd': 0, 'q': 4, 'P': 0, 'D': 0, 'Q': 1}. Best is trial 27 with value: 0.6742078264125284.\u001b[0m\n"
     ]
    },
    {
     "name": "stdout",
     "output_type": "stream",
     "text": [
      "Optimization terminated successfully.\n",
      "         Current function value: 1.007951\n",
      "         Iterations: 10\n",
      "         Function evaluations: 1533\n",
      "Optimization terminated successfully.\n",
      "         Current function value: -1.483581\n",
      "         Iterations: 20\n",
      "         Function evaluations: 4908\n"
     ]
    },
    {
     "name": "stderr",
     "output_type": "stream",
     "text": [
      "\u001b[32m[I 2022-03-10 01:23:25,864]\u001b[0m Trial 31 finished with value: 0.6676888830091426 and parameters: {'p': 7, 'd': 0, 'q': 8, 'P': 1, 'D': 1, 'Q': 1}. Best is trial 27 with value: 0.6742078264125284.\u001b[0m\n"
     ]
    },
    {
     "name": "stdout",
     "output_type": "stream",
     "text": [
      "Optimization terminated successfully.\n",
      "         Current function value: -1.479377\n",
      "         Iterations: 18\n",
      "         Function evaluations: 4136\n"
     ]
    },
    {
     "name": "stderr",
     "output_type": "stream",
     "text": [
      "\u001b[32m[I 2022-03-10 01:23:47,952]\u001b[0m Trial 32 finished with value: 0.6327533728020187 and parameters: {'p': 6, 'd': 0, 'q': 8, 'P': 1, 'D': 1, 'Q': 1}. Best is trial 27 with value: 0.6742078264125284.\u001b[0m\n",
      "\u001b[32m[I 2022-03-10 01:23:58,636]\u001b[0m Trial 33 finished with value: 0.6098608353926478 and parameters: {'p': 7, 'd': 0, 'q': 6, 'P': 0, 'D': 1, 'Q': 0}. Best is trial 27 with value: 0.6742078264125284.\u001b[0m\n"
     ]
    },
    {
     "name": "stdout",
     "output_type": "stream",
     "text": [
      "Optimization terminated successfully.\n",
      "         Current function value: -1.388746\n",
      "         Iterations: 18\n",
      "         Function evaluations: 2954\n",
      "Optimization terminated successfully.\n",
      "         Current function value: -1.479377\n",
      "         Iterations: 18\n",
      "         Function evaluations: 4136\n"
     ]
    },
    {
     "name": "stderr",
     "output_type": "stream",
     "text": [
      "\u001b[32m[I 2022-03-10 01:24:20,759]\u001b[0m Trial 34 finished with value: 0.6327533728020187 and parameters: {'p': 6, 'd': 0, 'q': 8, 'P': 1, 'D': 1, 'Q': 1}. Best is trial 27 with value: 0.6742078264125284.\u001b[0m\n",
      "\u001b[32m[I 2022-03-10 01:24:22,969]\u001b[0m Trial 35 finished with value: 0.5847664336589498 and parameters: {'p': 2, 'd': 1, 'q': 7, 'P': 1, 'D': 1, 'Q': 0}. Best is trial 27 with value: 0.6742078264125284.\u001b[0m\n"
     ]
    },
    {
     "name": "stdout",
     "output_type": "stream",
     "text": [
      "Optimization terminated successfully.\n",
      "         Current function value: -1.407053\n",
      "         Iterations: 3\n",
      "         Function evaluations: 458\n",
      "Optimization terminated successfully.\n",
      "         Current function value: -1.474672\n",
      "         Iterations: 12\n",
      "         Function evaluations: 2188\n"
     ]
    },
    {
     "name": "stderr",
     "output_type": "stream",
     "text": [
      "\u001b[32m[I 2022-03-10 01:24:36,068]\u001b[0m Trial 36 finished with value: 0.6481100805694193 and parameters: {'p': 4, 'd': 0, 'q': 8, 'P': 0, 'D': 1, 'Q': 1}. Best is trial 27 with value: 0.6742078264125284.\u001b[0m\n"
     ]
    },
    {
     "name": "stdout",
     "output_type": "stream",
     "text": [
      "Optimization terminated successfully.\n",
      "         Current function value: -1.417192\n",
      "         Iterations: 14\n",
      "         Function evaluations: 2870\n"
     ]
    },
    {
     "name": "stderr",
     "output_type": "stream",
     "text": [
      "\u001b[32m[I 2022-03-10 01:24:52,115]\u001b[0m Trial 37 finished with value: 0.588273191391734 and parameters: {'p': 8, 'd': 1, 'q': 7, 'P': 1, 'D': 1, 'Q': 0}. Best is trial 27 with value: 0.6742078264125284.\u001b[0m\n",
      "\u001b[32m[I 2022-03-10 01:25:04,515]\u001b[0m Trial 38 finished with value: 0.6526387685011166 and parameters: {'p': 7, 'd': 0, 'q': 5, 'P': 0, 'D': 1, 'Q': 1}. Best is trial 27 with value: 0.6742078264125284.\u001b[0m\n"
     ]
    },
    {
     "name": "stdout",
     "output_type": "stream",
     "text": [
      "Optimization terminated successfully.\n",
      "         Current function value: -1.472872\n",
      "         Iterations: 15\n",
      "         Function evaluations: 2518\n"
     ]
    },
    {
     "name": "stderr",
     "output_type": "stream",
     "text": [
      "\u001b[32m[I 2022-03-10 01:25:09,108]\u001b[0m Trial 39 finished with value: 0.6604089503519763 and parameters: {'p': 6, 'd': 0, 'q': 3, 'P': 1, 'D': 0, 'Q': 1}. Best is trial 27 with value: 0.6742078264125284.\u001b[0m\n"
     ]
    },
    {
     "name": "stdout",
     "output_type": "stream",
     "text": [
      "Optimization terminated successfully.\n",
      "         Current function value: -1.517862\n",
      "         Iterations: 10\n",
      "         Function evaluations: 1370\n"
     ]
    },
    {
     "name": "stderr",
     "output_type": "stream",
     "text": [
      "\u001b[32m[I 2022-03-10 01:25:15,400]\u001b[0m Trial 40 finished with value: 0.6195097825376125 and parameters: {'p': 5, 'd': 1, 'q': 6, 'P': 0, 'D': 1, 'Q': 0}. Best is trial 27 with value: 0.6742078264125284.\u001b[0m\n"
     ]
    },
    {
     "name": "stdout",
     "output_type": "stream",
     "text": [
      "Optimization terminated successfully.\n",
      "         Current function value: -1.364084\n",
      "         Iterations: 12\n",
      "         Function evaluations: 1757\n",
      "Optimization terminated successfully.\n",
      "         Current function value: -1.434162\n",
      "         Iterations: 10\n",
      "         Function evaluations: 2255\n"
     ]
    },
    {
     "name": "stderr",
     "output_type": "stream",
     "text": [
      "\u001b[32m[I 2022-03-10 01:25:34,359]\u001b[0m Trial 41 finished with value: 0.6621538025558638 and parameters: {'p': 7, 'd': 0, 'q': 8, 'P': 1, 'D': 1, 'Q': 2}. Best is trial 27 with value: 0.6742078264125284.\u001b[0m\n"
     ]
    },
    {
     "name": "stdout",
     "output_type": "stream",
     "text": [
      "Optimization terminated successfully.\n",
      "         Current function value: -1.483581\n",
      "         Iterations: 20\n",
      "         Function evaluations: 4908\n"
     ]
    },
    {
     "name": "stderr",
     "output_type": "stream",
     "text": [
      "\u001b[32m[I 2022-03-10 01:26:01,058]\u001b[0m Trial 42 finished with value: 0.6676888830091426 and parameters: {'p': 7, 'd': 0, 'q': 8, 'P': 1, 'D': 1, 'Q': 1}. Best is trial 27 with value: 0.6742078264125284.\u001b[0m\n"
     ]
    },
    {
     "name": "stdout",
     "output_type": "stream",
     "text": [
      "Optimization terminated successfully.\n",
      "         Current function value: -1.429039\n",
      "         Iterations: 17\n",
      "         Function evaluations: 4034\n"
     ]
    },
    {
     "name": "stderr",
     "output_type": "stream",
     "text": [
      "\u001b[32m[I 2022-03-10 01:26:29,928]\u001b[0m Trial 43 finished with value: 0.6498988280486545 and parameters: {'p': 8, 'd': 0, 'q': 7, 'P': 2, 'D': 1, 'Q': 1}. Best is trial 27 with value: 0.6742078264125284.\u001b[0m\n"
     ]
    },
    {
     "name": "stdout",
     "output_type": "stream",
     "text": [
      "Optimization terminated successfully.\n",
      "         Current function value: -1.479377\n",
      "         Iterations: 18\n",
      "         Function evaluations: 4136\n"
     ]
    },
    {
     "name": "stderr",
     "output_type": "stream",
     "text": [
      "\u001b[32m[I 2022-03-10 01:26:51,456]\u001b[0m Trial 44 finished with value: 0.6327533728020187 and parameters: {'p': 6, 'd': 0, 'q': 8, 'P': 1, 'D': 1, 'Q': 1}. Best is trial 27 with value: 0.6742078264125284.\u001b[0m\n"
     ]
    },
    {
     "name": "stdout",
     "output_type": "stream",
     "text": [
      "Optimization terminated successfully.\n",
      "         Current function value: -1.483581\n",
      "         Iterations: 20\n",
      "         Function evaluations: 4908\n"
     ]
    },
    {
     "name": "stderr",
     "output_type": "stream",
     "text": [
      "\u001b[32m[I 2022-03-10 01:27:18,362]\u001b[0m Trial 45 finished with value: 0.6676888830091426 and parameters: {'p': 7, 'd': 0, 'q': 8, 'P': 1, 'D': 1, 'Q': 1}. Best is trial 27 with value: 0.6742078264125284.\u001b[0m\n",
      "\u001b[32m[I 2022-03-10 01:27:26,608]\u001b[0m Trial 46 finished with value: 0.6268027924465478 and parameters: {'p': 7, 'd': 0, 'q': 8, 'P': 1, 'D': 0, 'Q': 1}. Best is trial 27 with value: 0.6742078264125284.\u001b[0m\n"
     ]
    },
    {
     "name": "stdout",
     "output_type": "stream",
     "text": [
      "Optimization terminated successfully.\n",
      "         Current function value: -1.495458\n",
      "         Iterations: 8\n",
      "         Function evaluations: 1817\n",
      "Optimization terminated successfully.\n",
      "         Current function value: -1.429314\n",
      "         Iterations: 18\n",
      "         Function evaluations: 4703\n"
     ]
    },
    {
     "name": "stderr",
     "output_type": "stream",
     "text": [
      "\u001b[32m[I 2022-03-10 01:27:59,720]\u001b[0m Trial 47 finished with value: 0.6412463001169622 and parameters: {'p': 8, 'd': 0, 'q': 8, 'P': 2, 'D': 1, 'Q': 1}. Best is trial 27 with value: 0.6742078264125284.\u001b[0m\n",
      "\u001b[32m[I 2022-03-10 01:28:00,219]\u001b[0m Trial 48 finished with value: 0.582183678914526 and parameters: {'p': 7, 'd': 0, 'q': 1, 'P': 1, 'D': 1, 'Q': 0}. Best is trial 27 with value: 0.6742078264125284.\u001b[0m\n"
     ]
    },
    {
     "name": "stdout",
     "output_type": "stream",
     "text": [
      "Optimization terminated successfully.\n",
      "         Current function value: -1.404631\n",
      "         Iterations: 2\n",
      "         Function evaluations: 215\n",
      "Optimization terminated successfully.\n",
      "         Current function value: -1.465380\n",
      "         Iterations: 20\n",
      "         Function evaluations: 4854\n"
     ]
    },
    {
     "name": "stderr",
     "output_type": "stream",
     "text": [
      "\u001b[32m[I 2022-03-10 01:28:27,941]\u001b[0m Trial 49 finished with value: 0.6640541864862896 and parameters: {'p': 8, 'd': 0, 'q': 8, 'P': 2, 'D': 0, 'Q': 1}. Best is trial 27 with value: 0.6742078264125284.\u001b[0m\n",
      "\u001b[32m[I 2022-03-10 01:28:27,997]\u001b[0m A new study created in memory with name: no-name-4cc1a264-1f5a-4e0a-9ec6-d97a1ce3e8e3\u001b[0m\n"
     ]
    },
    {
     "name": "stdout",
     "output_type": "stream",
     "text": [
      "Optimization terminated successfully.\n",
      "         Current function value: -1.298224\n",
      "         Iterations: 7\n",
      "         Function evaluations: 973\n"
     ]
    },
    {
     "name": "stderr",
     "output_type": "stream",
     "text": [
      "\u001b[32m[I 2022-03-10 01:28:38,318]\u001b[0m Trial 0 finished with value: 0.644156502810984 and parameters: {'p': 2, 'd': 0, 'q': 4, 'P': 1, 'D': 1, 'Q': 3}. Best is trial 0 with value: 0.644156502810984.\u001b[0m\n"
     ]
    },
    {
     "name": "stdout",
     "output_type": "stream",
     "text": [
      "Optimization terminated successfully.\n",
      "         Current function value: -1.403430\n",
      "         Iterations: 11\n",
      "         Function evaluations: 1869\n"
     ]
    },
    {
     "name": "stderr",
     "output_type": "stream",
     "text": [
      "\u001b[32m[I 2022-03-10 01:28:49,918]\u001b[0m Trial 1 finished with value: 0.6116322064651586 and parameters: {'p': 3, 'd': 0, 'q': 6, 'P': 1, 'D': 0, 'Q': 2}. Best is trial 0 with value: 0.644156502810984.\u001b[0m\n"
     ]
    },
    {
     "name": "stdout",
     "output_type": "stream",
     "text": [
      "Optimization terminated successfully.\n",
      "         Current function value: -1.379968\n",
      "         Iterations: 11\n",
      "         Function evaluations: 1868\n"
     ]
    },
    {
     "name": "stderr",
     "output_type": "stream",
     "text": [
      "\u001b[32m[I 2022-03-10 01:29:03,879]\u001b[0m Trial 2 finished with value: 0.6058536137735859 and parameters: {'p': 8, 'd': 0, 'q': 2, 'P': 1, 'D': 0, 'Q': 3}. Best is trial 0 with value: 0.644156502810984.\u001b[0m\n",
      "\u001b[32m[I 2022-03-10 01:29:03,939]\u001b[0m Trial 3 finished with value: -20.095001610033815 and parameters: {'p': 0, 'd': 0, 'q': 1, 'P': 0, 'D': 0, 'Q': 0}. Best is trial 0 with value: 0.644156502810984.\u001b[0m\n"
     ]
    },
    {
     "name": "stdout",
     "output_type": "stream",
     "text": [
      "Optimization terminated successfully.\n",
      "         Current function value: 0.118118\n",
      "         Iterations: 3\n",
      "         Function evaluations: 105\n",
      "Optimization terminated successfully.\n",
      "         Current function value: -1.292044\n",
      "         Iterations: 7\n",
      "         Function evaluations: 1221\n"
     ]
    },
    {
     "name": "stderr",
     "output_type": "stream",
     "text": [
      "\u001b[32m[I 2022-03-10 01:29:12,080]\u001b[0m Trial 4 finished with value: 0.6149303953725973 and parameters: {'p': 7, 'd': 1, 'q': 5, 'P': 2, 'D': 1, 'Q': 0}. Best is trial 0 with value: 0.644156502810984.\u001b[0m\n",
      "\u001b[32m[I 2022-03-10 01:29:16,094]\u001b[0m Trial 5 finished with value: 0.5967061604798581 and parameters: {'p': 1, 'd': 0, 'q': 1, 'P': 2, 'D': 0, 'Q': 3}. Best is trial 0 with value: 0.644156502810984.\u001b[0m\n"
     ]
    },
    {
     "name": "stdout",
     "output_type": "stream",
     "text": [
      "Optimization terminated successfully.\n",
      "         Current function value: -1.375701\n",
      "         Iterations: 6\n",
      "         Function evaluations: 607\n",
      "Optimization terminated successfully.\n",
      "         Current function value: -1.314027\n",
      "         Iterations: 4\n",
      "         Function evaluations: 408\n"
     ]
    },
    {
     "name": "stderr",
     "output_type": "stream",
     "text": [
      "\u001b[32m[I 2022-03-10 01:29:20,505]\u001b[0m Trial 6 finished with value: 0.6438232889392222 and parameters: {'p': 2, 'd': 1, 'q': 1, 'P': 1, 'D': 1, 'Q': 3}. Best is trial 0 with value: 0.644156502810984.\u001b[0m\n",
      "\u001b[32m[I 2022-03-10 01:29:29,429]\u001b[0m Trial 7 finished with value: 0.6440793272758744 and parameters: {'p': 5, 'd': 1, 'q': 1, 'P': 2, 'D': 0, 'Q': 1}. Best is trial 0 with value: 0.644156502810984.\u001b[0m\n"
     ]
    },
    {
     "name": "stdout",
     "output_type": "stream",
     "text": [
      "Optimization terminated successfully.\n",
      "         Current function value: -1.405121\n",
      "         Iterations: 14\n",
      "         Function evaluations: 1689\n"
     ]
    },
    {
     "name": "stderr",
     "output_type": "stream",
     "text": [
      "\u001b[32m[I 2022-03-10 01:29:30,801]\u001b[0m Trial 8 finished with value: 0.6423657146200248 and parameters: {'p': 4, 'd': 0, 'q': 5, 'P': 2, 'D': 0, 'Q': 0}. Best is trial 0 with value: 0.644156502810984.\u001b[0m\n"
     ]
    },
    {
     "name": "stdout",
     "output_type": "stream",
     "text": [
      "Optimization terminated successfully.\n",
      "         Current function value: -1.321632\n",
      "         Iterations: 4\n",
      "         Function evaluations: 545\n"
     ]
    },
    {
     "name": "stderr",
     "output_type": "stream",
     "text": [
      "\u001b[32m[I 2022-03-10 01:29:31,617]\u001b[0m Trial 9 finished with value: 0.6535884653560605 and parameters: {'p': 0, 'd': 0, 'q': 2, 'P': 0, 'D': 1, 'Q': 1}. Best is trial 9 with value: 0.6535884653560605.\u001b[0m\n"
     ]
    },
    {
     "name": "stdout",
     "output_type": "stream",
     "text": [
      "Optimization terminated successfully.\n",
      "         Current function value: -1.401108\n",
      "         Iterations: 3\n",
      "         Function evaluations: 177\n"
     ]
    },
    {
     "name": "stderr",
     "output_type": "stream",
     "text": [
      "\u001b[32m[I 2022-03-10 01:29:35,478]\u001b[0m Trial 10 finished with value: 0.6565394320604389 and parameters: {'p': 0, 'd': 1, 'q': 8, 'P': 0, 'D': 1, 'Q': 1}. Best is trial 10 with value: 0.6565394320604389.\u001b[0m\n"
     ]
    },
    {
     "name": "stdout",
     "output_type": "stream",
     "text": [
      "Optimization terminated successfully.\n",
      "         Current function value: -1.401936\n",
      "         Iterations: 4\n",
      "         Function evaluations: 619\n"
     ]
    },
    {
     "name": "stderr",
     "output_type": "stream",
     "text": [
      "\u001b[32m[I 2022-03-10 01:29:39,518]\u001b[0m Trial 11 finished with value: 0.6565394320604389 and parameters: {'p': 0, 'd': 1, 'q': 8, 'P': 0, 'D': 1, 'Q': 1}. Best is trial 10 with value: 0.6565394320604389.\u001b[0m\n"
     ]
    },
    {
     "name": "stdout",
     "output_type": "stream",
     "text": [
      "Optimization terminated successfully.\n",
      "         Current function value: -1.401936\n",
      "         Iterations: 4\n",
      "         Function evaluations: 619\n"
     ]
    },
    {
     "name": "stderr",
     "output_type": "stream",
     "text": [
      "\u001b[32m[I 2022-03-10 01:29:43,366]\u001b[0m Trial 12 finished with value: 0.6565394320604389 and parameters: {'p': 0, 'd': 1, 'q': 8, 'P': 0, 'D': 1, 'Q': 1}. Best is trial 10 with value: 0.6565394320604389.\u001b[0m\n"
     ]
    },
    {
     "name": "stdout",
     "output_type": "stream",
     "text": [
      "Optimization terminated successfully.\n",
      "         Current function value: -1.401936\n",
      "         Iterations: 4\n",
      "         Function evaluations: 619\n",
      "Optimization terminated successfully.\n",
      "         Current function value: -1.330283\n",
      "         Iterations: 9\n",
      "         Function evaluations: 1847\n"
     ]
    },
    {
     "name": "stderr",
     "output_type": "stream",
     "text": [
      "\u001b[32m[I 2022-03-10 01:30:00,503]\u001b[0m Trial 13 finished with value: 0.6273810192966598 and parameters: {'p': 2, 'd': 1, 'q': 8, 'P': 3, 'D': 1, 'Q': 2}. Best is trial 10 with value: 0.6565394320604389.\u001b[0m\n"
     ]
    },
    {
     "name": "stdout",
     "output_type": "stream",
     "text": [
      "Optimization terminated successfully.\n",
      "         Current function value: -1.413442\n",
      "         Iterations: 8\n",
      "         Function evaluations: 1424\n"
     ]
    },
    {
     "name": "stderr",
     "output_type": "stream",
     "text": [
      "\u001b[32m[I 2022-03-10 01:30:09,645]\u001b[0m Trial 14 finished with value: 0.625636585207104 and parameters: {'p': 5, 'd': 1, 'q': 7, 'P': 0, 'D': 1, 'Q': 1}. Best is trial 10 with value: 0.6565394320604389.\u001b[0m\n"
     ]
    },
    {
     "name": "stdout",
     "output_type": "stream",
     "text": [
      "Optimization terminated successfully.\n",
      "         Current function value: -1.341869\n",
      "         Iterations: 5\n",
      "         Function evaluations: 765\n"
     ]
    },
    {
     "name": "stderr",
     "output_type": "stream",
     "text": [
      "\u001b[32m[I 2022-03-10 01:30:17,308]\u001b[0m Trial 15 finished with value: 0.6424907569738956 and parameters: {'p': 1, 'd': 1, 'q': 7, 'P': 0, 'D': 1, 'Q': 2}. Best is trial 10 with value: 0.6565394320604389.\u001b[0m\n"
     ]
    },
    {
     "name": "stdout",
     "output_type": "stream",
     "text": [
      "Optimization terminated successfully.\n",
      "         Current function value: -1.332516\n",
      "         Iterations: 7\n",
      "         Function evaluations: 1190\n"
     ]
    },
    {
     "name": "stderr",
     "output_type": "stream",
     "text": [
      "\u001b[32m[I 2022-03-10 01:30:27,028]\u001b[0m Trial 16 finished with value: 0.630597433828386 and parameters: {'p': 1, 'd': 1, 'q': 7, 'P': 3, 'D': 1, 'Q': 1}. Best is trial 10 with value: 0.6565394320604389.\u001b[0m\n"
     ]
    },
    {
     "name": "stdout",
     "output_type": "stream",
     "text": [
      "Optimization terminated successfully.\n",
      "         Current function value: -1.357107\n",
      "         Iterations: 4\n",
      "         Function evaluations: 556\n"
     ]
    },
    {
     "name": "stderr",
     "output_type": "stream",
     "text": [
      "\u001b[32m[I 2022-03-10 01:30:31,523]\u001b[0m Trial 17 finished with value: 0.6456538313025035 and parameters: {'p': 3, 'd': 1, 'q': 4, 'P': 0, 'D': 1, 'Q': 2}. Best is trial 10 with value: 0.6565394320604389.\u001b[0m\n"
     ]
    },
    {
     "name": "stdout",
     "output_type": "stream",
     "text": [
      "Optimization terminated successfully.\n",
      "         Current function value: -1.354497\n",
      "         Iterations: 22\n",
      "         Function evaluations: 4227\n"
     ]
    },
    {
     "name": "stderr",
     "output_type": "stream",
     "text": [
      "\u001b[32m[I 2022-03-10 01:30:56,133]\u001b[0m Trial 18 finished with value: 0.6298611148385237 and parameters: {'p': 6, 'd': 1, 'q': 8, 'P': 1, 'D': 1, 'Q': 0}. Best is trial 10 with value: 0.6565394320604389.\u001b[0m\n",
      "\u001b[32m[I 2022-03-10 01:30:59,375]\u001b[0m Trial 19 finished with value: 0.6488340968261003 and parameters: {'p': 0, 'd': 1, 'q': 6, 'P': 0, 'D': 1, 'Q': 1}. Best is trial 10 with value: 0.6565394320604389.\u001b[0m\n"
     ]
    },
    {
     "name": "stdout",
     "output_type": "stream",
     "text": [
      "Optimization terminated successfully.\n",
      "         Current function value: -1.406084\n",
      "         Iterations: 4\n",
      "         Function evaluations: 519\n"
     ]
    },
    {
     "name": "stderr",
     "output_type": "stream",
     "text": [
      "\u001b[32m[I 2022-03-10 01:31:13,845]\u001b[0m Trial 20 finished with value: 0.6420911234734332 and parameters: {'p': 3, 'd': 1, 'q': 3, 'P': 1, 'D': 1, 'Q': 2}. Best is trial 10 with value: 0.6565394320604389.\u001b[0m\n"
     ]
    },
    {
     "name": "stdout",
     "output_type": "stream",
     "text": [
      "Optimization terminated successfully.\n",
      "         Current function value: -1.374889\n",
      "         Iterations: 15\n",
      "         Function evaluations: 1896\n"
     ]
    },
    {
     "name": "stderr",
     "output_type": "stream",
     "text": [
      "\u001b[32m[I 2022-03-10 01:31:17,770]\u001b[0m Trial 21 finished with value: 0.6565394320604389 and parameters: {'p': 0, 'd': 1, 'q': 8, 'P': 0, 'D': 1, 'Q': 1}. Best is trial 10 with value: 0.6565394320604389.\u001b[0m\n"
     ]
    },
    {
     "name": "stdout",
     "output_type": "stream",
     "text": [
      "Optimization terminated successfully.\n",
      "         Current function value: -1.401936\n",
      "         Iterations: 4\n",
      "         Function evaluations: 619\n"
     ]
    },
    {
     "name": "stderr",
     "output_type": "stream",
     "text": [
      "\u001b[32m[I 2022-03-10 01:31:22,119]\u001b[0m Trial 22 finished with value: 0.6557352052624809 and parameters: {'p': 1, 'd': 1, 'q': 8, 'P': 0, 'D': 1, 'Q': 1}. Best is trial 10 with value: 0.6565394320604389.\u001b[0m\n"
     ]
    },
    {
     "name": "stdout",
     "output_type": "stream",
     "text": [
      "Optimization terminated successfully.\n",
      "         Current function value: -1.402613\n",
      "         Iterations: 4\n",
      "         Function evaluations: 656\n"
     ]
    },
    {
     "name": "stderr",
     "output_type": "stream",
     "text": [
      "\u001b[32m[I 2022-03-10 01:31:25,010]\u001b[0m Trial 23 finished with value: 0.6488340968261003 and parameters: {'p': 0, 'd': 1, 'q': 6, 'P': 0, 'D': 1, 'Q': 1}. Best is trial 10 with value: 0.6565394320604389.\u001b[0m\n"
     ]
    },
    {
     "name": "stdout",
     "output_type": "stream",
     "text": [
      "Optimization terminated successfully.\n",
      "         Current function value: -1.406084\n",
      "         Iterations: 4\n",
      "         Function evaluations: 519\n"
     ]
    },
    {
     "name": "stderr",
     "output_type": "stream",
     "text": [
      "\u001b[32m[I 2022-03-10 01:31:27,490]\u001b[0m Trial 24 finished with value: 0.6574139021232299 and parameters: {'p': 1, 'd': 1, 'q': 7, 'P': 0, 'D': 1, 'Q': 0}. Best is trial 24 with value: 0.6574139021232299.\u001b[0m\n"
     ]
    },
    {
     "name": "stdout",
     "output_type": "stream",
     "text": [
      "Optimization terminated successfully.\n",
      "         Current function value: -1.192486\n",
      "         Iterations: 5\n",
      "         Function evaluations: 654\n"
     ]
    },
    {
     "name": "stderr",
     "output_type": "stream",
     "text": [
      "\u001b[32m[I 2022-03-10 01:31:30,509]\u001b[0m Trial 25 finished with value: 0.6455913682793613 and parameters: {'p': 1, 'd': 1, 'q': 7, 'P': 1, 'D': 1, 'Q': 0}. Best is trial 24 with value: 0.6574139021232299.\u001b[0m\n"
     ]
    },
    {
     "name": "stdout",
     "output_type": "stream",
     "text": [
      "Optimization terminated successfully.\n",
      "         Current function value: -1.324819\n",
      "         Iterations: 5\n",
      "         Function evaluations: 694\n"
     ]
    },
    {
     "name": "stderr",
     "output_type": "stream",
     "text": [
      "\u001b[32m[I 2022-03-10 01:31:34,513]\u001b[0m Trial 26 finished with value: 0.6497579447462188 and parameters: {'p': 2, 'd': 1, 'q': 7, 'P': 0, 'D': 1, 'Q': 0}. Best is trial 24 with value: 0.6574139021232299.\u001b[0m\n"
     ]
    },
    {
     "name": "stdout",
     "output_type": "stream",
     "text": [
      "Optimization terminated successfully.\n",
      "         Current function value: -1.194810\n",
      "         Iterations: 8\n",
      "         Function evaluations: 1064\n"
     ]
    },
    {
     "name": "stderr",
     "output_type": "stream",
     "text": [
      "\u001b[32m[I 2022-03-10 01:31:38,078]\u001b[0m Trial 27 finished with value: 0.6612277735560252 and parameters: {'p': 1, 'd': 1, 'q': 5, 'P': 1, 'D': 1, 'Q': 0}. Best is trial 27 with value: 0.6612277735560252.\u001b[0m\n"
     ]
    },
    {
     "name": "stdout",
     "output_type": "stream",
     "text": [
      "Optimization terminated successfully.\n",
      "         Current function value: -1.304734\n",
      "         Iterations: 7\n",
      "         Function evaluations: 850\n"
     ]
    },
    {
     "name": "stderr",
     "output_type": "stream",
     "text": [
      "\u001b[32m[I 2022-03-10 01:31:46,914]\u001b[0m Trial 28 finished with value: 0.6463001085612785 and parameters: {'p': 4, 'd': 1, 'q': 5, 'P': 1, 'D': 1, 'Q': 0}. Best is trial 27 with value: 0.6612277735560252.\u001b[0m\n"
     ]
    },
    {
     "name": "stdout",
     "output_type": "stream",
     "text": [
      "Optimization terminated successfully.\n",
      "         Current function value: -1.309524\n",
      "         Iterations: 13\n",
      "         Function evaluations: 1767\n"
     ]
    },
    {
     "name": "stderr",
     "output_type": "stream",
     "text": [
      "\u001b[32m[I 2022-03-10 01:31:49,142]\u001b[0m Trial 29 finished with value: 0.6447348198480529 and parameters: {'p': 2, 'd': 1, 'q': 5, 'P': 1, 'D': 1, 'Q': 0}. Best is trial 27 with value: 0.6612277735560252.\u001b[0m\n"
     ]
    },
    {
     "name": "stdout",
     "output_type": "stream",
     "text": [
      "Optimization terminated successfully.\n",
      "         Current function value: -1.313068\n",
      "         Iterations: 4\n",
      "         Function evaluations: 495\n"
     ]
    },
    {
     "name": "stderr",
     "output_type": "stream",
     "text": [
      "\u001b[32m[I 2022-03-10 01:31:52,913]\u001b[0m Trial 30 finished with value: 0.6810553509059212 and parameters: {'p': 3, 'd': 1, 'q': 3, 'P': 1, 'D': 1, 'Q': 0}. Best is trial 30 with value: 0.6810553509059212.\u001b[0m\n"
     ]
    },
    {
     "name": "stdout",
     "output_type": "stream",
     "text": [
      "Optimization terminated successfully.\n",
      "         Current function value: -1.326823\n",
      "         Iterations: 8\n",
      "         Function evaluations: 804\n"
     ]
    },
    {
     "name": "stderr",
     "output_type": "stream",
     "text": [
      "\u001b[32m[I 2022-03-10 01:31:56,630]\u001b[0m Trial 31 finished with value: 0.6810553509059212 and parameters: {'p': 3, 'd': 1, 'q': 3, 'P': 1, 'D': 1, 'Q': 0}. Best is trial 30 with value: 0.6810553509059212.\u001b[0m\n"
     ]
    },
    {
     "name": "stdout",
     "output_type": "stream",
     "text": [
      "Optimization terminated successfully.\n",
      "         Current function value: -1.326823\n",
      "         Iterations: 8\n",
      "         Function evaluations: 804\n"
     ]
    },
    {
     "name": "stderr",
     "output_type": "stream",
     "text": [
      "\u001b[32m[I 2022-03-10 01:32:03,770]\u001b[0m Trial 32 finished with value: 0.6355715290908232 and parameters: {'p': 4, 'd': 1, 'q': 3, 'P': 1, 'D': 1, 'Q': 0}. Best is trial 30 with value: 0.6810553509059212.\u001b[0m\n"
     ]
    },
    {
     "name": "stdout",
     "output_type": "stream",
     "text": [
      "Optimization terminated successfully.\n",
      "         Current function value: -1.322070\n",
      "         Iterations: 13\n",
      "         Function evaluations: 1455\n"
     ]
    },
    {
     "name": "stderr",
     "output_type": "stream",
     "text": [
      "\u001b[32m[I 2022-03-10 01:32:11,389]\u001b[0m Trial 33 finished with value: 0.6502242585043221 and parameters: {'p': 3, 'd': 1, 'q': 3, 'P': 2, 'D': 1, 'Q': 0}. Best is trial 30 with value: 0.6810553509059212.\u001b[0m\n"
     ]
    },
    {
     "name": "stdout",
     "output_type": "stream",
     "text": [
      "Optimization terminated successfully.\n",
      "         Current function value: -1.310628\n",
      "         Iterations: 10\n",
      "         Function evaluations: 1099\n"
     ]
    },
    {
     "name": "stderr",
     "output_type": "stream",
     "text": [
      "\u001b[32m[I 2022-03-10 01:32:12,251]\u001b[0m Trial 34 finished with value: 0.5976470676237339 and parameters: {'p': 3, 'd': 0, 'q': 2, 'P': 1, 'D': 0, 'Q': 0}. Best is trial 30 with value: 0.6810553509059212.\u001b[0m\n"
     ]
    },
    {
     "name": "stdout",
     "output_type": "stream",
     "text": [
      "Optimization terminated successfully.\n",
      "         Current function value: -1.229398\n",
      "         Iterations: 7\n",
      "         Function evaluations: 591\n"
     ]
    },
    {
     "name": "stderr",
     "output_type": "stream",
     "text": [
      "\u001b[32m[I 2022-03-10 01:32:16,529]\u001b[0m Trial 35 finished with value: 0.6480178417492413 and parameters: {'p': 5, 'd': 1, 'q': 4, 'P': 1, 'D': 1, 'Q': 0}. Best is trial 30 with value: 0.6810553509059212.\u001b[0m\n"
     ]
    },
    {
     "name": "stdout",
     "output_type": "stream",
     "text": [
      "Optimization terminated successfully.\n",
      "         Current function value: -1.302141\n",
      "         Iterations: 6\n",
      "         Function evaluations: 903\n"
     ]
    },
    {
     "name": "stderr",
     "output_type": "stream",
     "text": [
      "\u001b[32m[I 2022-03-10 01:32:16,945]\u001b[0m Trial 36 finished with value: -0.40818257439150685 and parameters: {'p': 2, 'd': 1, 'q': 0, 'P': 1, 'D': 1, 'Q': 0}. Best is trial 30 with value: 0.6810553509059212.\u001b[0m\n"
     ]
    },
    {
     "name": "stdout",
     "output_type": "stream",
     "text": [
      "Optimization terminated successfully.\n",
      "         Current function value: -1.224588\n",
      "         Iterations: 3\n",
      "         Function evaluations: 197\n",
      "Optimization terminated successfully.\n",
      "         Current function value: -1.286027\n",
      "         Iterations: 12\n",
      "         Function evaluations: 1805\n"
     ]
    },
    {
     "name": "stderr",
     "output_type": "stream",
     "text": [
      "\u001b[32m[I 2022-03-10 01:32:26,348]\u001b[0m Trial 37 finished with value: 0.4641834429347772 and parameters: {'p': 8, 'd': 0, 'q': 3, 'P': 2, 'D': 0, 'Q': 0}. Best is trial 30 with value: 0.6810553509059212.\u001b[0m\n",
      "\u001b[32m[I 2022-03-10 01:32:28,454]\u001b[0m Trial 38 finished with value: 0.6496166253096896 and parameters: {'p': 3, 'd': 1, 'q': 4, 'P': 1, 'D': 1, 'Q': 0}. Best is trial 30 with value: 0.6810553509059212.\u001b[0m\n"
     ]
    },
    {
     "name": "stdout",
     "output_type": "stream",
     "text": [
      "Optimization terminated successfully.\n",
      "         Current function value: -1.310449\n",
      "         Iterations: 4\n",
      "         Function evaluations: 493\n"
     ]
    },
    {
     "name": "stderr",
     "output_type": "stream",
     "text": [
      "\u001b[32m[I 2022-03-10 01:32:29,824]\u001b[0m Trial 39 finished with value: 0.5694553172242749 and parameters: {'p': 1, 'd': 1, 'q': 2, 'P': 2, 'D': 0, 'Q': 0}. Best is trial 30 with value: 0.6810553509059212.\u001b[0m\n"
     ]
    },
    {
     "name": "stdout",
     "output_type": "stream",
     "text": [
      "Optimization terminated successfully.\n",
      "         Current function value: -1.351890\n",
      "         Iterations: 4\n",
      "         Function evaluations: 322\n"
     ]
    },
    {
     "name": "stderr",
     "output_type": "stream",
     "text": [
      "\u001b[32m[I 2022-03-10 01:32:31,361]\u001b[0m Trial 40 finished with value: 0.6452714948642222 and parameters: {'p': 4, 'd': 0, 'q': 6, 'P': 1, 'D': 1, 'Q': 0}. Best is trial 30 with value: 0.6810553509059212.\u001b[0m\n"
     ]
    },
    {
     "name": "stdout",
     "output_type": "stream",
     "text": [
      "Optimization terminated successfully.\n",
      "         Current function value: -1.323265\n",
      "         Iterations: 5\n",
      "         Function evaluations: 710\n"
     ]
    },
    {
     "name": "stderr",
     "output_type": "stream",
     "text": [
      "\u001b[32m[I 2022-03-10 01:32:34,817]\u001b[0m Trial 41 finished with value: 0.6612277735560252 and parameters: {'p': 1, 'd': 1, 'q': 5, 'P': 1, 'D': 1, 'Q': 0}. Best is trial 30 with value: 0.6810553509059212.\u001b[0m\n"
     ]
    },
    {
     "name": "stdout",
     "output_type": "stream",
     "text": [
      "Optimization terminated successfully.\n",
      "         Current function value: -1.304734\n",
      "         Iterations: 7\n",
      "         Function evaluations: 850\n"
     ]
    },
    {
     "name": "stderr",
     "output_type": "stream",
     "text": [
      "\u001b[32m[I 2022-03-10 01:32:38,110]\u001b[0m Trial 42 finished with value: 0.6612277735560252 and parameters: {'p': 1, 'd': 1, 'q': 5, 'P': 1, 'D': 1, 'Q': 0}. Best is trial 30 with value: 0.6810553509059212.\u001b[0m\n"
     ]
    },
    {
     "name": "stdout",
     "output_type": "stream",
     "text": [
      "Optimization terminated successfully.\n",
      "         Current function value: -1.304734\n",
      "         Iterations: 7\n",
      "         Function evaluations: 850\n"
     ]
    },
    {
     "name": "stderr",
     "output_type": "stream",
     "text": [
      "\u001b[32m[I 2022-03-10 01:32:40,331]\u001b[0m Trial 43 finished with value: 0.6447348198480529 and parameters: {'p': 2, 'd': 1, 'q': 5, 'P': 1, 'D': 1, 'Q': 0}. Best is trial 30 with value: 0.6810553509059212.\u001b[0m\n"
     ]
    },
    {
     "name": "stdout",
     "output_type": "stream",
     "text": [
      "Optimization terminated successfully.\n",
      "         Current function value: -1.313068\n",
      "         Iterations: 4\n",
      "         Function evaluations: 495\n"
     ]
    },
    {
     "name": "stderr",
     "output_type": "stream",
     "text": [
      "\u001b[32m[I 2022-03-10 01:32:42,619]\u001b[0m Trial 44 finished with value: 0.6447348198480529 and parameters: {'p': 2, 'd': 1, 'q': 5, 'P': 1, 'D': 1, 'Q': 0}. Best is trial 30 with value: 0.6810553509059212.\u001b[0m\n"
     ]
    },
    {
     "name": "stdout",
     "output_type": "stream",
     "text": [
      "Optimization terminated successfully.\n",
      "         Current function value: -1.313068\n",
      "         Iterations: 4\n",
      "         Function evaluations: 495\n"
     ]
    },
    {
     "name": "stderr",
     "output_type": "stream",
     "text": [
      "\u001b[32m[I 2022-03-10 01:32:46,018]\u001b[0m Trial 45 finished with value: 0.6498252818678503 and parameters: {'p': 1, 'd': 1, 'q': 4, 'P': 1, 'D': 1, 'Q': 0}. Best is trial 30 with value: 0.6810553509059212.\u001b[0m\n"
     ]
    },
    {
     "name": "stdout",
     "output_type": "stream",
     "text": [
      "Optimization terminated successfully.\n",
      "         Current function value: -1.321751\n",
      "         Iterations: 8\n",
      "         Function evaluations: 751\n",
      "Optimization terminated successfully.\n",
      "         Current function value: -1.309571\n",
      "         Iterations: 8\n",
      "         Function evaluations: 1581\n"
     ]
    },
    {
     "name": "stderr",
     "output_type": "stream",
     "text": [
      "\u001b[32m[I 2022-03-10 01:33:06,713]\u001b[0m Trial 46 finished with value: 0.6730247071186476 and parameters: {'p': 6, 'd': 1, 'q': 5, 'P': 1, 'D': 1, 'Q': 3}. Best is trial 30 with value: 0.6810553509059212.\u001b[0m\n"
     ]
    },
    {
     "name": "stdout",
     "output_type": "stream",
     "text": [
      "Optimization terminated successfully.\n",
      "         Current function value: -1.310454\n",
      "         Iterations: 13\n",
      "         Function evaluations: 2759\n"
     ]
    },
    {
     "name": "stderr",
     "output_type": "stream",
     "text": [
      "\u001b[32m[I 2022-03-10 01:33:38,989]\u001b[0m Trial 47 finished with value: 0.6765491997522104 and parameters: {'p': 7, 'd': 1, 'q': 4, 'P': 2, 'D': 1, 'Q': 3}. Best is trial 30 with value: 0.6810553509059212.\u001b[0m\n"
     ]
    },
    {
     "name": "stdout",
     "output_type": "stream",
     "text": [
      "Optimization terminated successfully.\n",
      "         Current function value: -1.310454\n",
      "         Iterations: 13\n",
      "         Function evaluations: 2759\n"
     ]
    },
    {
     "name": "stderr",
     "output_type": "stream",
     "text": [
      "\u001b[32m[I 2022-03-10 01:34:12,164]\u001b[0m Trial 48 finished with value: 0.6765491997522104 and parameters: {'p': 7, 'd': 1, 'q': 4, 'P': 2, 'D': 1, 'Q': 3}. Best is trial 30 with value: 0.6810553509059212.\u001b[0m\n"
     ]
    },
    {
     "name": "stdout",
     "output_type": "stream",
     "text": [
      "Optimization terminated successfully.\n",
      "         Current function value: -1.310454\n",
      "         Iterations: 13\n",
      "         Function evaluations: 2759\n"
     ]
    },
    {
     "name": "stderr",
     "output_type": "stream",
     "text": [
      "\u001b[32m[I 2022-03-10 01:34:45,064]\u001b[0m Trial 49 finished with value: 0.6765491997522104 and parameters: {'p': 7, 'd': 1, 'q': 4, 'P': 2, 'D': 1, 'Q': 3}. Best is trial 30 with value: 0.6810553509059212.\u001b[0m\n"
     ]
    }
   ],
   "source": [
    "for k in range(len(arr)):\n",
    "#pick the location of the geojson\n",
    "    filename = arr[k]\n",
    "\n",
    "# this section is to prepare the data\n",
    "    df = loadjson(filename)\n",
    "    df = rm13(df)\n",
    "    df = Prophet_preproc(df)\n",
    "\n",
    "# extract the train, validation, and test data using time series splits\n",
    "    X_dict, y_dict = TSS(df)\n",
    "\n",
    "# extract just the tain and validation data\n",
    "    y_train = y_dict['y_train']\n",
    "    y_val = y_dict['y_val']\n",
    "\n",
    "#Use this code to optimize the hyperparameters\n",
    "    argfunction = lambda trial: objective(trial,y_train,y_val)\n",
    "    study = optuna.create_study(sampler=optuna.samplers.TPESampler(), direction='maximize')\n",
    "    study.optimize(argfunction, n_trials=50)\n",
    "\n",
    "    results = study.trials_dataframe()\n",
    "\n",
    "#load the results into a csv in the location of your choosing\n",
    "    results.to_csv('../../hyperparameters/SARIMAX_hyperparameter_results_' + str(k) + '.csv')"
   ]
  },
  {
   "cell_type": "code",
   "execution_count": 14,
   "id": "58c6cb5f",
   "metadata": {},
   "outputs": [],
   "source": []
  },
  {
   "cell_type": "code",
   "execution_count": null,
   "id": "5641dcf4",
   "metadata": {},
   "outputs": [],
   "source": []
  },
  {
   "cell_type": "code",
   "execution_count": 15,
   "id": "2b9084f4",
   "metadata": {},
   "outputs": [],
   "source": []
  },
  {
   "cell_type": "code",
   "execution_count": null,
   "id": "dc3a5aab",
   "metadata": {
    "scrolled": true
   },
   "outputs": [],
   "source": []
  },
  {
   "cell_type": "code",
   "execution_count": 16,
   "id": "abf1d434",
   "metadata": {},
   "outputs": [],
   "source": []
  },
  {
   "cell_type": "code",
   "execution_count": 17,
   "id": "90aee7bf",
   "metadata": {
    "scrolled": true
   },
   "outputs": [
    {
     "name": "stderr",
     "output_type": "stream",
     "text": [
      "\u001b[32m[I 2022-03-08 21:28:47,673]\u001b[0m A new study created in memory with name: no-name-f961499b-0cd2-41a5-84e6-651fdab2abed\u001b[0m\n"
     ]
    },
    {
     "name": "stdout",
     "output_type": "stream",
     "text": [
      "Optimization terminated successfully.\n",
      "         Current function value: -1.451767\n",
      "         Iterations: 27\n",
      "         Function evaluations: 4916\n"
     ]
    },
    {
     "name": "stderr",
     "output_type": "stream",
     "text": [
      "\u001b[32m[I 2022-03-08 21:29:18,289]\u001b[0m Trial 0 finished with value: 0.7357497900655356 and parameters: {'p': 6, 'd': 3, 'q': 5, 'P': 2, 'D': 0, 'Q': 1}. Best is trial 0 with value: 0.7357497900655356.\u001b[0m\n"
     ]
    },
    {
     "name": "stdout",
     "output_type": "stream",
     "text": [
      "Optimization terminated successfully.\n",
      "         Current function value: -1.483059\n",
      "         Iterations: 4\n",
      "         Function evaluations: 508\n"
     ]
    },
    {
     "name": "stderr",
     "output_type": "stream",
     "text": [
      "\u001b[32m[I 2022-03-08 21:29:24,681]\u001b[0m Trial 1 finished with value: 0.8363155474276592 and parameters: {'p': 0, 'd': 1, 'q': 4, 'P': 1, 'D': 1, 'Q': 3}. Best is trial 1 with value: 0.8363155474276592.\u001b[0m\n",
      "\u001b[32m[I 2022-03-08 21:29:27,797]\u001b[0m Trial 2 finished with value: 0.14518864682078458 and parameters: {'p': 1, 'd': 0, 'q': 5, 'P': 0, 'D': 0, 'Q': 1}. Best is trial 1 with value: 0.8363155474276592.\u001b[0m\n"
     ]
    },
    {
     "name": "stdout",
     "output_type": "stream",
     "text": [
      "Optimization terminated successfully.\n",
      "         Current function value: -1.328977\n",
      "         Iterations: 10\n",
      "         Function evaluations: 1054\n",
      "Optimization terminated successfully.\n",
      "         Current function value: -1.540620\n",
      "         Iterations: 22\n",
      "         Function evaluations: 4627\n"
     ]
    },
    {
     "name": "stderr",
     "output_type": "stream",
     "text": [
      "\u001b[32m[I 2022-03-08 21:30:06,603]\u001b[0m Trial 3 finished with value: 0.8336901010501897 and parameters: {'p': 8, 'd': 0, 'q': 5, 'P': 2, 'D': 1, 'Q': 1}. Best is trial 1 with value: 0.8363155474276592.\u001b[0m\n"
     ]
    },
    {
     "name": "stdout",
     "output_type": "stream",
     "text": [
      "Optimization terminated successfully.\n",
      "         Current function value: -1.507495\n",
      "         Iterations: 17\n",
      "         Function evaluations: 2440\n"
     ]
    },
    {
     "name": "stderr",
     "output_type": "stream",
     "text": [
      "\u001b[32m[I 2022-03-08 21:30:29,317]\u001b[0m Trial 4 finished with value: 0.8115855404465977 and parameters: {'p': 0, 'd': 2, 'q': 4, 'P': 2, 'D': 0, 'Q': 3}. Best is trial 1 with value: 0.8363155474276592.\u001b[0m\n"
     ]
    },
    {
     "name": "stdout",
     "output_type": "stream",
     "text": [
      "Optimization terminated successfully.\n",
      "         Current function value: -1.184971\n",
      "         Iterations: 3\n",
      "         Function evaluations: 367\n"
     ]
    },
    {
     "name": "stderr",
     "output_type": "stream",
     "text": [
      "\u001b[32m[I 2022-03-08 21:30:31,699]\u001b[0m Trial 5 finished with value: 0.5476721693051104 and parameters: {'p': 8, 'd': 0, 'q': 0, 'P': 2, 'D': 2, 'Q': 0}. Best is trial 1 with value: 0.8363155474276592.\u001b[0m\n"
     ]
    },
    {
     "name": "stdout",
     "output_type": "stream",
     "text": [
      "Optimization terminated successfully.\n",
      "         Current function value: -1.442936\n",
      "         Iterations: 25\n",
      "         Function evaluations: 6145\n"
     ]
    },
    {
     "name": "stderr",
     "output_type": "stream",
     "text": [
      "\u001b[32m[I 2022-03-08 21:31:12,805]\u001b[0m Trial 6 finished with value: 0.777426000106528 and parameters: {'p': 7, 'd': 3, 'q': 6, 'P': 2, 'D': 0, 'Q': 1}. Best is trial 1 with value: 0.8363155474276592.\u001b[0m\n"
     ]
    },
    {
     "name": "stdout",
     "output_type": "stream",
     "text": [
      "Optimization terminated successfully.\n",
      "         Current function value: -1.468570\n",
      "         Iterations: 12\n",
      "         Function evaluations: 3330\n"
     ]
    },
    {
     "name": "stderr",
     "output_type": "stream",
     "text": [
      "\u001b[32m[I 2022-03-08 21:31:55,960]\u001b[0m Trial 7 finished with value: 0.828261448936386 and parameters: {'p': 9, 'd': 1, 'q': 5, 'P': 3, 'D': 1, 'Q': 2}. Best is trial 1 with value: 0.8363155474276592.\u001b[0m\n",
      "\u001b[32m[I 2022-03-08 21:31:59,189]\u001b[0m Trial 8 finished with value: -497.0666375008218 and parameters: {'p': 2, 'd': 3, 'q': 0, 'P': 2, 'D': 0, 'Q': 2}. Best is trial 1 with value: 0.8363155474276592.\u001b[0m\n"
     ]
    },
    {
     "name": "stdout",
     "output_type": "stream",
     "text": [
      "Optimization terminated successfully.\n",
      "         Current function value: -0.804406\n",
      "         Iterations: 8\n",
      "         Function evaluations: 690\n"
     ]
    },
    {
     "name": "stderr",
     "output_type": "stream",
     "text": [
      "\u001b[32m[I 2022-03-08 21:32:01,077]\u001b[0m Trial 9 finished with value: 0.7879114275090604 and parameters: {'p': 4, 'd': 2, 'q': 1, 'P': 0, 'D': 1, 'Q': 1}. Best is trial 1 with value: 0.8363155474276592.\u001b[0m\n"
     ]
    },
    {
     "name": "stdout",
     "output_type": "stream",
     "text": [
      "Optimization terminated successfully.\n",
      "         Current function value: -1.490650\n",
      "         Iterations: 4\n",
      "         Function evaluations: 382\n",
      "Optimization terminated successfully.\n",
      "         Current function value: -1.366886\n",
      "         Iterations: 17\n",
      "         Function evaluations: 2096\n"
     ]
    },
    {
     "name": "stderr",
     "output_type": "stream",
     "text": [
      "\u001b[32m[I 2022-03-08 21:32:41,718]\u001b[0m Trial 10 finished with value: 0.8197865565155643 and parameters: {'p': 3, 'd': 1, 'q': 2, 'P': 1, 'D': 2, 'Q': 3}. Best is trial 1 with value: 0.8363155474276592.\u001b[0m\n",
      "\u001b[32m[I 2022-03-08 21:32:46,498]\u001b[0m Trial 11 finished with value: 0.8334561701391381 and parameters: {'p': 6, 'd': 0, 'q': 3, 'P': 1, 'D': 1, 'Q': 0}. Best is trial 1 with value: 0.8363155474276592.\u001b[0m\n"
     ]
    },
    {
     "name": "stdout",
     "output_type": "stream",
     "text": [
      "Optimization terminated successfully.\n",
      "         Current function value: -1.522385\n",
      "         Iterations: 11\n",
      "         Function evaluations: 1559\n",
      "Optimization terminated successfully.\n",
      "         Current function value: -1.481182\n",
      "         Iterations: 6\n",
      "         Function evaluations: 978\n"
     ]
    },
    {
     "name": "stderr",
     "output_type": "stream",
     "text": [
      "\u001b[32m[I 2022-03-08 21:32:58,500]\u001b[0m Trial 12 finished with value: 0.832119430652335 and parameters: {'p': 5, 'd': 1, 'q': 3, 'P': 3, 'D': 1, 'Q': 2}. Best is trial 1 with value: 0.8363155474276592.\u001b[0m\n"
     ]
    },
    {
     "name": "stdout",
     "output_type": "stream",
     "text": [
      "Optimization terminated successfully.\n",
      "         Current function value: -1.374779\n",
      "         Iterations: 7\n",
      "         Function evaluations: 864\n"
     ]
    },
    {
     "name": "stderr",
     "output_type": "stream",
     "text": [
      "\u001b[32m[I 2022-03-08 21:33:15,866]\u001b[0m Trial 13 finished with value: 0.8295771016304412 and parameters: {'p': 0, 'd': 0, 'q': 4, 'P': 1, 'D': 2, 'Q': 3}. Best is trial 1 with value: 0.8363155474276592.\u001b[0m\n"
     ]
    },
    {
     "name": "stdout",
     "output_type": "stream",
     "text": [
      "Optimization terminated successfully.\n",
      "         Current function value: -1.504290\n",
      "         Iterations: 25\n",
      "         Function evaluations: 5898\n"
     ]
    },
    {
     "name": "stderr",
     "output_type": "stream",
     "text": [
      "\u001b[32m[I 2022-03-08 21:34:06,256]\u001b[0m Trial 14 finished with value: 0.8403786535811981 and parameters: {'p': 9, 'd': 1, 'q': 6, 'P': 1, 'D': 1, 'Q': 2}. Best is trial 14 with value: 0.8403786535811981.\u001b[0m\n"
     ]
    },
    {
     "name": "stdout",
     "output_type": "stream",
     "text": [
      "Optimization terminated successfully.\n",
      "         Current function value: -1.448774\n",
      "         Iterations: 11\n",
      "         Function evaluations: 2057\n"
     ]
    },
    {
     "name": "stderr",
     "output_type": "stream",
     "text": [
      "\u001b[32m[I 2022-03-08 21:34:34,663]\u001b[0m Trial 15 finished with value: 0.8356841062217534 and parameters: {'p': 3, 'd': 2, 'q': 6, 'P': 0, 'D': 1, 'Q': 3}. Best is trial 14 with value: 0.8403786535811981.\u001b[0m\n"
     ]
    },
    {
     "name": "stdout",
     "output_type": "stream",
     "text": [
      "Optimization terminated successfully.\n",
      "         Current function value: -1.392957\n",
      "         Iterations: 20\n",
      "         Function evaluations: 4413\n"
     ]
    },
    {
     "name": "stderr",
     "output_type": "stream",
     "text": [
      "\u001b[32m[I 2022-03-08 21:35:26,944]\u001b[0m Trial 16 finished with value: 0.820698144755392 and parameters: {'p': 9, 'd': 1, 'q': 4, 'P': 1, 'D': 2, 'Q': 2}. Best is trial 14 with value: 0.8403786535811981.\u001b[0m\n"
     ]
    },
    {
     "name": "stdout",
     "output_type": "stream",
     "text": [
      "Optimization terminated successfully.\n",
      "         Current function value: -1.473071\n",
      "         Iterations: 5\n",
      "         Function evaluations: 929\n"
     ]
    },
    {
     "name": "stderr",
     "output_type": "stream",
     "text": [
      "\u001b[32m[I 2022-03-08 21:35:39,012]\u001b[0m Trial 17 finished with value: 0.8364934363184522 and parameters: {'p': 4, 'd': 1, 'q': 6, 'P': 1, 'D': 1, 'Q': 3}. Best is trial 14 with value: 0.8403786535811981.\u001b[0m\n"
     ]
    },
    {
     "name": "stdout",
     "output_type": "stream",
     "text": [
      "Optimization terminated successfully.\n",
      "         Current function value: -1.379662\n",
      "         Iterations: 13\n",
      "         Function evaluations: 2917\n"
     ]
    },
    {
     "name": "stderr",
     "output_type": "stream",
     "text": [
      "\u001b[32m[I 2022-03-08 21:36:18,972]\u001b[0m Trial 18 finished with value: 0.8180579395132577 and parameters: {'p': 5, 'd': 2, 'q': 6, 'P': 0, 'D': 2, 'Q': 2}. Best is trial 14 with value: 0.8403786535811981.\u001b[0m\n"
     ]
    },
    {
     "name": "stdout",
     "output_type": "stream",
     "text": [
      "Optimization terminated successfully.\n",
      "         Current function value: -1.473071\n",
      "         Iterations: 5\n",
      "         Function evaluations: 929\n"
     ]
    },
    {
     "name": "stderr",
     "output_type": "stream",
     "text": [
      "\u001b[32m[I 2022-03-08 21:36:30,481]\u001b[0m Trial 19 finished with value: 0.8364934363184522 and parameters: {'p': 4, 'd': 1, 'q': 6, 'P': 1, 'D': 1, 'Q': 3}. Best is trial 14 with value: 0.8403786535811981.\u001b[0m\n"
     ]
    },
    {
     "name": "stdout",
     "output_type": "stream",
     "text": [
      "Optimization terminated successfully.\n",
      "         Current function value: -1.452081\n",
      "         Iterations: 8\n",
      "         Function evaluations: 1098\n"
     ]
    },
    {
     "name": "stderr",
     "output_type": "stream",
     "text": [
      "\u001b[32m[I 2022-03-08 21:36:39,098]\u001b[0m Trial 20 finished with value: 0.8211264340816209 and parameters: {'p': 6, 'd': 2, 'q': 2, 'P': 0, 'D': 1, 'Q': 2}. Best is trial 14 with value: 0.8403786535811981.\u001b[0m\n"
     ]
    },
    {
     "name": "stdout",
     "output_type": "stream",
     "text": [
      "Optimization terminated successfully.\n",
      "         Current function value: -1.473071\n",
      "         Iterations: 5\n",
      "         Function evaluations: 929\n"
     ]
    },
    {
     "name": "stderr",
     "output_type": "stream",
     "text": [
      "\u001b[32m[I 2022-03-08 21:36:50,525]\u001b[0m Trial 21 finished with value: 0.8364934363184522 and parameters: {'p': 4, 'd': 1, 'q': 6, 'P': 1, 'D': 1, 'Q': 3}. Best is trial 14 with value: 0.8403786535811981.\u001b[0m\n"
     ]
    },
    {
     "name": "stdout",
     "output_type": "stream",
     "text": [
      "Optimization terminated successfully.\n",
      "         Current function value: -1.472902\n",
      "         Iterations: 4\n",
      "         Function evaluations: 677\n"
     ]
    },
    {
     "name": "stderr",
     "output_type": "stream",
     "text": [
      "\u001b[32m[I 2022-03-08 21:36:58,933]\u001b[0m Trial 22 finished with value: 0.8366886933876555 and parameters: {'p': 3, 'd': 1, 'q': 6, 'P': 1, 'D': 1, 'Q': 3}. Best is trial 14 with value: 0.8403786535811981.\u001b[0m\n"
     ]
    },
    {
     "name": "stdout",
     "output_type": "stream",
     "text": [
      "Optimization terminated successfully.\n",
      "         Current function value: -1.480803\n",
      "         Iterations: 7\n",
      "         Function evaluations: 1164\n"
     ]
    },
    {
     "name": "stderr",
     "output_type": "stream",
     "text": [
      "\u001b[32m[I 2022-03-08 21:37:13,742]\u001b[0m Trial 23 finished with value: 0.8360116439569971 and parameters: {'p': 2, 'd': 1, 'q': 5, 'P': 1, 'D': 1, 'Q': 3}. Best is trial 14 with value: 0.8403786535811981.\u001b[0m\n"
     ]
    },
    {
     "name": "stdout",
     "output_type": "stream",
     "text": [
      "Optimization terminated successfully.\n",
      "         Current function value: -1.521634\n",
      "         Iterations: 5\n",
      "         Function evaluations: 794\n"
     ]
    },
    {
     "name": "stderr",
     "output_type": "stream",
     "text": [
      "\u001b[32m[I 2022-03-08 21:37:20,579]\u001b[0m Trial 24 finished with value: 0.8373005797441747 and parameters: {'p': 3, 'd': 1, 'q': 6, 'P': 1, 'D': 1, 'Q': 2}. Best is trial 14 with value: 0.8403786535811981.\u001b[0m\n",
      "\u001b[32m[I 2022-03-08 21:37:34,254]\u001b[0m Trial 25 finished with value: 0.8135303088266924 and parameters: {'p': 2, 'd': 2, 'q': 5, 'P': 1, 'D': 0, 'Q': 2}. Best is trial 14 with value: 0.8403786535811981.\u001b[0m\n"
     ]
    },
    {
     "name": "stdout",
     "output_type": "stream",
     "text": [
      "Optimization terminated successfully.\n",
      "         Current function value: -1.553036\n",
      "         Iterations: 16\n",
      "         Function evaluations: 2525\n",
      "Optimization terminated successfully.\n",
      "         Current function value: -1.399303\n",
      "         Iterations: 8\n",
      "         Function evaluations: 1229\n"
     ]
    },
    {
     "name": "stderr",
     "output_type": "stream",
     "text": [
      "\u001b[32m[I 2022-03-08 21:37:49,156]\u001b[0m Trial 26 finished with value: 0.820367888912484 and parameters: {'p': 3, 'd': 1, 'q': 6, 'P': 0, 'D': 2, 'Q': 2}. Best is trial 14 with value: 0.8403786535811981.\u001b[0m\n"
     ]
    },
    {
     "name": "stdout",
     "output_type": "stream",
     "text": [
      "Optimization terminated successfully.\n",
      "         Current function value: -1.543003\n",
      "         Iterations: 4\n",
      "         Function evaluations: 587\n"
     ]
    },
    {
     "name": "stderr",
     "output_type": "stream",
     "text": [
      "\u001b[32m[I 2022-03-08 21:37:53,741]\u001b[0m Trial 27 finished with value: 0.8400302472465953 and parameters: {'p': 1, 'd': 0, 'q': 5, 'P': 1, 'D': 1, 'Q': 2}. Best is trial 14 with value: 0.8403786535811981.\u001b[0m\n"
     ]
    },
    {
     "name": "stdout",
     "output_type": "stream",
     "text": [
      "Optimization terminated successfully.\n",
      "         Current function value: -1.543648\n",
      "         Iterations: 6\n",
      "         Function evaluations: 1001\n"
     ]
    },
    {
     "name": "stderr",
     "output_type": "stream",
     "text": [
      "\u001b[32m[I 2022-03-08 21:38:01,283]\u001b[0m Trial 28 finished with value: 0.8402319118306592 and parameters: {'p': 1, 'd': 0, 'q': 5, 'P': 2, 'D': 1, 'Q': 2}. Best is trial 14 with value: 0.8403786535811981.\u001b[0m\n",
      "\u001b[32m[I 2022-03-08 21:38:04,666]\u001b[0m Trial 29 finished with value: 0.8393275899829942 and parameters: {'p': 1, 'd': 0, 'q': 4, 'P': 3, 'D': 0, 'Q': 1}. Best is trial 14 with value: 0.8403786535811981.\u001b[0m\n"
     ]
    },
    {
     "name": "stdout",
     "output_type": "stream",
     "text": [
      "Optimization terminated successfully.\n",
      "         Current function value: -1.562493\n",
      "         Iterations: 4\n",
      "         Function evaluations: 485\n",
      "Optimization terminated successfully.\n",
      "         Current function value: -1.543648\n",
      "         Iterations: 6\n",
      "         Function evaluations: 1001\n"
     ]
    },
    {
     "name": "stderr",
     "output_type": "stream",
     "text": [
      "\u001b[32m[I 2022-03-08 21:38:12,063]\u001b[0m Trial 30 finished with value: 0.8402319118306592 and parameters: {'p': 1, 'd': 0, 'q': 5, 'P': 2, 'D': 1, 'Q': 2}. Best is trial 14 with value: 0.8403786535811981.\u001b[0m\n"
     ]
    },
    {
     "name": "stdout",
     "output_type": "stream",
     "text": [
      "Optimization terminated successfully.\n",
      "         Current function value: -1.543648\n",
      "         Iterations: 6\n",
      "         Function evaluations: 1001\n"
     ]
    },
    {
     "name": "stderr",
     "output_type": "stream",
     "text": [
      "\u001b[32m[I 2022-03-08 21:38:19,519]\u001b[0m Trial 31 finished with value: 0.8402319118306592 and parameters: {'p': 1, 'd': 0, 'q': 5, 'P': 2, 'D': 1, 'Q': 2}. Best is trial 14 with value: 0.8403786535811981.\u001b[0m\n"
     ]
    },
    {
     "name": "stdout",
     "output_type": "stream",
     "text": [
      "Optimization terminated successfully.\n",
      "         Current function value: -1.543648\n",
      "         Iterations: 6\n",
      "         Function evaluations: 1001\n"
     ]
    },
    {
     "name": "stderr",
     "output_type": "stream",
     "text": [
      "\u001b[32m[I 2022-03-08 21:38:27,016]\u001b[0m Trial 32 finished with value: 0.8402319118306592 and parameters: {'p': 1, 'd': 0, 'q': 5, 'P': 2, 'D': 1, 'Q': 2}. Best is trial 14 with value: 0.8403786535811981.\u001b[0m\n",
      "\u001b[32m[I 2022-03-08 21:38:30,363]\u001b[0m Trial 33 finished with value: 0.8393459637845149 and parameters: {'p': 0, 'd': 0, 'q': 4, 'P': 2, 'D': 1, 'Q': 2}. Best is trial 14 with value: 0.8403786535811981.\u001b[0m\n"
     ]
    },
    {
     "name": "stdout",
     "output_type": "stream",
     "text": [
      "Optimization terminated successfully.\n",
      "         Current function value: -1.543994\n",
      "         Iterations: 4\n",
      "         Function evaluations: 448\n",
      "Optimization terminated successfully.\n",
      "         Current function value: -1.499583\n",
      "         Iterations: 8\n",
      "         Function evaluations: 1263\n"
     ]
    },
    {
     "name": "stderr",
     "output_type": "stream",
     "text": [
      "\u001b[32m[I 2022-03-08 21:38:39,372]\u001b[0m Trial 34 finished with value: 0.8355439939570148 and parameters: {'p': 2, 'd': 0, 'q': 5, 'P': 3, 'D': 1, 'Q': 1}. Best is trial 14 with value: 0.8403786535811981.\u001b[0m\n",
      "\u001b[32m[I 2022-03-08 21:38:42,145]\u001b[0m Trial 35 finished with value: 0.8388559312068379 and parameters: {'p': 1, 'd': 0, 'q': 3, 'P': 2, 'D': 1, 'Q': 2}. Best is trial 14 with value: 0.8403786535811981.\u001b[0m\n"
     ]
    },
    {
     "name": "stdout",
     "output_type": "stream",
     "text": [
      "Optimization terminated successfully.\n",
      "         Current function value: -1.549273\n",
      "         Iterations: 4\n",
      "         Function evaluations: 430\n"
     ]
    },
    {
     "name": "stderr",
     "output_type": "stream",
     "text": [
      "\u001b[32m[I 2022-03-08 21:38:44,290]\u001b[0m Trial 36 finished with value: 0.8348634622960696 and parameters: {'p': 0, 'd': 0, 'q': 4, 'P': 2, 'D': 0, 'Q': 1}. Best is trial 14 with value: 0.8403786535811981.\u001b[0m\n"
     ]
    },
    {
     "name": "stdout",
     "output_type": "stream",
     "text": [
      "Optimization terminated successfully.\n",
      "         Current function value: -1.613964\n",
      "         Iterations: 6\n",
      "         Function evaluations: 584\n",
      "Optimization terminated successfully.\n",
      "         Current function value: -0.658266\n",
      "         Iterations: 24\n",
      "         Function evaluations: 5898\n"
     ]
    },
    {
     "name": "stderr",
     "output_type": "stream",
     "text": [
      "\u001b[32m[I 2022-03-08 21:39:37,035]\u001b[0m Trial 37 finished with value: -3.0335765236210605e+28 and parameters: {'p': 7, 'd': 0, 'q': 5, 'P': 2, 'D': 1, 'Q': 2}. Best is trial 14 with value: 0.8403786535811981.\u001b[0m\n",
      "\u001b[32m[I 2022-03-08 21:39:42,456]\u001b[0m Trial 38 finished with value: 0.8390799371538129 and parameters: {'p': 1, 'd': 0, 'q': 5, 'P': 2, 'D': 1, 'Q': 1}. Best is trial 14 with value: 0.8403786535811981.\u001b[0m\n"
     ]
    },
    {
     "name": "stdout",
     "output_type": "stream",
     "text": [
      "Optimization terminated successfully.\n",
      "         Current function value: -1.568475\n",
      "         Iterations: 6\n",
      "         Function evaluations: 941\n",
      "Optimization terminated successfully.\n",
      "         Current function value: -1.349061\n",
      "         Iterations: 51\n",
      "         Function evaluations: 8094\n"
     ]
    },
    {
     "name": "stderr",
     "output_type": "stream",
     "text": [
      "\u001b[32m[I 2022-03-08 21:40:50,472]\u001b[0m Trial 39 finished with value: 0.8090371674824713 and parameters: {'p': 8, 'd': 0, 'q': 3, 'P': 3, 'D': 0, 'Q': 0}. Best is trial 14 with value: 0.8403786535811981.\u001b[0m\n"
     ]
    },
    {
     "name": "stdout",
     "output_type": "stream",
     "text": [
      "Optimization terminated successfully.\n",
      "         Current function value: -1.400579\n",
      "         Iterations: 9\n",
      "         Function evaluations: 1014\n"
     ]
    },
    {
     "name": "stderr",
     "output_type": "stream",
     "text": [
      "\u001b[32m[I 2022-03-08 21:41:02,464]\u001b[0m Trial 40 finished with value: 0.829178193339726 and parameters: {'p': 0, 'd': 0, 'q': 4, 'P': 2, 'D': 2, 'Q': 2}. Best is trial 14 with value: 0.8403786535811981.\u001b[0m\n"
     ]
    },
    {
     "name": "stdout",
     "output_type": "stream",
     "text": [
      "Optimization terminated successfully.\n",
      "         Current function value: -1.541758\n",
      "         Iterations: 9\n",
      "         Function evaluations: 1575\n"
     ]
    },
    {
     "name": "stderr",
     "output_type": "stream",
     "text": [
      "\u001b[32m[I 2022-03-08 21:41:15,263]\u001b[0m Trial 41 finished with value: 0.8393076205914691 and parameters: {'p': 2, 'd': 0, 'q': 5, 'P': 2, 'D': 1, 'Q': 2}. Best is trial 14 with value: 0.8403786535811981.\u001b[0m\n"
     ]
    },
    {
     "name": "stdout",
     "output_type": "stream",
     "text": [
      "Optimization terminated successfully.\n",
      "         Current function value: -1.543648\n",
      "         Iterations: 6\n",
      "         Function evaluations: 1001\n"
     ]
    },
    {
     "name": "stderr",
     "output_type": "stream",
     "text": [
      "\u001b[32m[I 2022-03-08 21:41:23,159]\u001b[0m Trial 42 finished with value: 0.8402319118306592 and parameters: {'p': 1, 'd': 0, 'q': 5, 'P': 2, 'D': 1, 'Q': 2}. Best is trial 14 with value: 0.8403786535811981.\u001b[0m\n"
     ]
    },
    {
     "name": "stdout",
     "output_type": "stream",
     "text": [
      "Optimization terminated successfully.\n",
      "         Current function value: -1.541758\n",
      "         Iterations: 9\n",
      "         Function evaluations: 1575\n"
     ]
    },
    {
     "name": "stderr",
     "output_type": "stream",
     "text": [
      "\u001b[32m[I 2022-03-08 21:41:35,902]\u001b[0m Trial 43 finished with value: 0.8393076205914691 and parameters: {'p': 2, 'd': 0, 'q': 5, 'P': 2, 'D': 1, 'Q': 2}. Best is trial 14 with value: 0.8403786535811981.\u001b[0m\n"
     ]
    },
    {
     "name": "stdout",
     "output_type": "stream",
     "text": [
      "Optimization terminated successfully.\n",
      "         Current function value: -1.538844\n",
      "         Iterations: 4\n",
      "         Function evaluations: 615\n"
     ]
    },
    {
     "name": "stderr",
     "output_type": "stream",
     "text": [
      "\u001b[32m[I 2022-03-08 21:41:41,038]\u001b[0m Trial 44 finished with value: 0.8396922110493824 and parameters: {'p': 1, 'd': 0, 'q': 6, 'P': 2, 'D': 1, 'Q': 2}. Best is trial 14 with value: 0.8403786535811981.\u001b[0m\n"
     ]
    },
    {
     "name": "stdout",
     "output_type": "stream",
     "text": [
      "Optimization terminated successfully.\n",
      "         Current function value: -1.452355\n",
      "         Iterations: 21\n",
      "         Function evaluations: 2820\n"
     ]
    },
    {
     "name": "stderr",
     "output_type": "stream",
     "text": [
      "\u001b[32m[I 2022-03-08 21:42:05,726]\u001b[0m Trial 45 finished with value: 0.7776152865590984 and parameters: {'p': 0, 'd': 3, 'q': 4, 'P': 2, 'D': 1, 'Q': 2}. Best is trial 14 with value: 0.8403786535811981.\u001b[0m\n",
      "\u001b[32m[I 2022-03-08 21:42:11,116]\u001b[0m Trial 46 finished with value: 0.8390799371538129 and parameters: {'p': 1, 'd': 0, 'q': 5, 'P': 2, 'D': 1, 'Q': 1}. Best is trial 14 with value: 0.8403786535811981.\u001b[0m\n"
     ]
    },
    {
     "name": "stdout",
     "output_type": "stream",
     "text": [
      "Optimization terminated successfully.\n",
      "         Current function value: -1.568475\n",
      "         Iterations: 6\n",
      "         Function evaluations: 941\n",
      "Optimization terminated successfully.\n",
      "         Current function value: -1.510802\n",
      "         Iterations: 5\n",
      "         Function evaluations: 482\n"
     ]
    },
    {
     "name": "stderr",
     "output_type": "stream",
     "text": [
      "\u001b[32m[I 2022-03-08 21:42:14,864]\u001b[0m Trial 47 finished with value: 0.8362010317360907 and parameters: {'p': 0, 'd': 0, 'q': 2, 'P': 3, 'D': 1, 'Q': 2}. Best is trial 14 with value: 0.8403786535811981.\u001b[0m\n"
     ]
    },
    {
     "name": "stdout",
     "output_type": "stream",
     "text": [
      "Optimization terminated successfully.\n",
      "         Current function value: -1.541758\n",
      "         Iterations: 9\n",
      "         Function evaluations: 1575\n"
     ]
    },
    {
     "name": "stderr",
     "output_type": "stream",
     "text": [
      "\u001b[32m[I 2022-03-08 21:42:27,157]\u001b[0m Trial 48 finished with value: 0.8393076205914691 and parameters: {'p': 2, 'd': 0, 'q': 5, 'P': 2, 'D': 1, 'Q': 2}. Best is trial 14 with value: 0.8403786535811981.\u001b[0m\n"
     ]
    },
    {
     "name": "stdout",
     "output_type": "stream",
     "text": [
      "Optimization terminated successfully.\n",
      "         Current function value: -1.472806\n",
      "         Iterations: 15\n",
      "         Function evaluations: 2780\n"
     ]
    },
    {
     "name": "stderr",
     "output_type": "stream",
     "text": [
      "\u001b[32m[I 2022-03-08 21:42:59,454]\u001b[0m Trial 49 finished with value: 0.8347209765328292 and parameters: {'p': 7, 'd': 1, 'q': 1, 'P': 3, 'D': 1, 'Q': 2}. Best is trial 14 with value: 0.8403786535811981.\u001b[0m\n"
     ]
    }
   ],
   "source": []
  },
  {
   "cell_type": "code",
   "execution_count": 18,
   "id": "75be3f1e",
   "metadata": {},
   "outputs": [],
   "source": []
  },
  {
   "cell_type": "code",
   "execution_count": null,
   "id": "d378944d",
   "metadata": {},
   "outputs": [],
   "source": []
  }
 ],
 "metadata": {
  "kernelspec": {
   "display_name": "Python 3 (ipykernel)",
   "language": "python",
   "name": "python3"
  },
  "language_info": {
   "codemirror_mode": {
    "name": "ipython",
    "version": 3
   },
   "file_extension": ".py",
   "mimetype": "text/x-python",
   "name": "python",
   "nbconvert_exporter": "python",
   "pygments_lexer": "ipython3",
   "version": "3.7.11"
  }
 },
 "nbformat": 4,
 "nbformat_minor": 5
}
