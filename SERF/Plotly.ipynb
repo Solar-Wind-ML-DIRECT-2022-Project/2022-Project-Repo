{
 "cells": [
  {
   "cell_type": "code",
   "execution_count": 1,
   "id": "0393f15c",
   "metadata": {},
   "outputs": [],
   "source": [
    "import geopandas as gpd\n",
    "import pandas as pd\n",
    "import matplotlib\n",
    "import plotly.express as px\n",
    "from matplotlib import pyplot as plt\n",
    "from prophet import Prophet\n",
    "from statsmodels.tsa.arima.model import ARIMA\n",
    "from statsmodels.graphics.tsaplots import plot_pacf\n",
    "from statsmodels.graphics.tsaplots import plot_acf\n",
    "from statsmodels.tsa.statespace.sarimax import SARIMAX\n",
    "from statsmodels.tsa.holtwinters import ExponentialSmoothing\n",
    "from statsmodels.tsa.stattools import adfuller"
   ]
  },
  {
   "cell_type": "code",
   "execution_count": 2,
   "id": "ba3dbae8",
   "metadata": {},
   "outputs": [
    {
     "data": {
      "text/html": [
       "<div>\n",
       "<style scoped>\n",
       "    .dataframe tbody tr th:only-of-type {\n",
       "        vertical-align: middle;\n",
       "    }\n",
       "\n",
       "    .dataframe tbody tr th {\n",
       "        vertical-align: top;\n",
       "    }\n",
       "\n",
       "    .dataframe thead th {\n",
       "        text-align: right;\n",
       "    }\n",
       "</style>\n",
       "<table border=\"1\" class=\"dataframe\">\n",
       "  <thead>\n",
       "    <tr style=\"text-align: right;\">\n",
       "      <th></th>\n",
       "      <th>ALLSKY_KT</th>\n",
       "      <th>CLOUD_AMT</th>\n",
       "      <th>CLRSKY_KT</th>\n",
       "      <th>TOA_SW_DWN</th>\n",
       "      <th>ALLSKY_SFC_UVA</th>\n",
       "      <th>ALLSKY_SFC_UVB</th>\n",
       "      <th>ALLSKY_SRF_ALB</th>\n",
       "      <th>ALLSKY_SFC_SW_DNI</th>\n",
       "      <th>ALLSKY_SFC_SW_DWN</th>\n",
       "      <th>CLRSKY_SFC_SW_DWN</th>\n",
       "      <th>ALLSKY_SFC_PAR_TOT</th>\n",
       "      <th>ALLSKY_SFC_SW_DIFF</th>\n",
       "      <th>CLRSKY_SFC_PAR_TOT</th>\n",
       "      <th>ALLSKY_SFC_UV_INDEX</th>\n",
       "    </tr>\n",
       "  </thead>\n",
       "  <tbody>\n",
       "    <tr>\n",
       "      <th>198401</th>\n",
       "      <td>0.49</td>\n",
       "      <td>70.70</td>\n",
       "      <td>0.71</td>\n",
       "      <td>2.96</td>\n",
       "      <td>-999.00</td>\n",
       "      <td>-999.00</td>\n",
       "      <td>0.28</td>\n",
       "      <td>-999.00</td>\n",
       "      <td>1.47</td>\n",
       "      <td>2.10</td>\n",
       "      <td>-999.00</td>\n",
       "      <td>-999.00</td>\n",
       "      <td>-999.00</td>\n",
       "      <td>-999</td>\n",
       "    </tr>\n",
       "    <tr>\n",
       "      <th>198402</th>\n",
       "      <td>0.51</td>\n",
       "      <td>68.62</td>\n",
       "      <td>0.72</td>\n",
       "      <td>4.52</td>\n",
       "      <td>-999.00</td>\n",
       "      <td>-999.00</td>\n",
       "      <td>0.29</td>\n",
       "      <td>-999.00</td>\n",
       "      <td>2.28</td>\n",
       "      <td>3.26</td>\n",
       "      <td>-999.00</td>\n",
       "      <td>-999.00</td>\n",
       "      <td>-999.00</td>\n",
       "      <td>-999</td>\n",
       "    </tr>\n",
       "    <tr>\n",
       "      <th>198403</th>\n",
       "      <td>0.52</td>\n",
       "      <td>72.22</td>\n",
       "      <td>0.76</td>\n",
       "      <td>6.77</td>\n",
       "      <td>-999.00</td>\n",
       "      <td>-999.00</td>\n",
       "      <td>0.28</td>\n",
       "      <td>-999.00</td>\n",
       "      <td>3.52</td>\n",
       "      <td>5.12</td>\n",
       "      <td>-999.00</td>\n",
       "      <td>-999.00</td>\n",
       "      <td>-999.00</td>\n",
       "      <td>-999</td>\n",
       "    </tr>\n",
       "    <tr>\n",
       "      <th>198404</th>\n",
       "      <td>0.53</td>\n",
       "      <td>75.34</td>\n",
       "      <td>0.77</td>\n",
       "      <td>9.07</td>\n",
       "      <td>-999.00</td>\n",
       "      <td>-999.00</td>\n",
       "      <td>0.19</td>\n",
       "      <td>-999.00</td>\n",
       "      <td>4.78</td>\n",
       "      <td>6.99</td>\n",
       "      <td>-999.00</td>\n",
       "      <td>-999.00</td>\n",
       "      <td>-999.00</td>\n",
       "      <td>-999</td>\n",
       "    </tr>\n",
       "    <tr>\n",
       "      <th>198405</th>\n",
       "      <td>0.51</td>\n",
       "      <td>78.25</td>\n",
       "      <td>0.77</td>\n",
       "      <td>10.79</td>\n",
       "      <td>-999.00</td>\n",
       "      <td>-999.00</td>\n",
       "      <td>0.17</td>\n",
       "      <td>-999.00</td>\n",
       "      <td>5.48</td>\n",
       "      <td>8.24</td>\n",
       "      <td>-999.00</td>\n",
       "      <td>-999.00</td>\n",
       "      <td>-999.00</td>\n",
       "      <td>-999</td>\n",
       "    </tr>\n",
       "    <tr>\n",
       "      <th>...</th>\n",
       "      <td>...</td>\n",
       "      <td>...</td>\n",
       "      <td>...</td>\n",
       "      <td>...</td>\n",
       "      <td>...</td>\n",
       "      <td>...</td>\n",
       "      <td>...</td>\n",
       "      <td>...</td>\n",
       "      <td>...</td>\n",
       "      <td>...</td>\n",
       "      <td>...</td>\n",
       "      <td>...</td>\n",
       "      <td>...</td>\n",
       "      <td>...</td>\n",
       "    </tr>\n",
       "    <tr>\n",
       "      <th>202009</th>\n",
       "      <td>0.56</td>\n",
       "      <td>45.03</td>\n",
       "      <td>0.65</td>\n",
       "      <td>7.46</td>\n",
       "      <td>9.27</td>\n",
       "      <td>0.19</td>\n",
       "      <td>0.13</td>\n",
       "      <td>5.44</td>\n",
       "      <td>4.17</td>\n",
       "      <td>4.82</td>\n",
       "      <td>75.07</td>\n",
       "      <td>1.41</td>\n",
       "      <td>86.34</td>\n",
       "      <td>-999</td>\n",
       "    </tr>\n",
       "    <tr>\n",
       "      <th>202010</th>\n",
       "      <td>0.52</td>\n",
       "      <td>57.19</td>\n",
       "      <td>0.70</td>\n",
       "      <td>5.16</td>\n",
       "      <td>6.04</td>\n",
       "      <td>0.10</td>\n",
       "      <td>0.16</td>\n",
       "      <td>4.03</td>\n",
       "      <td>2.71</td>\n",
       "      <td>3.60</td>\n",
       "      <td>48.59</td>\n",
       "      <td>1.09</td>\n",
       "      <td>65.12</td>\n",
       "      <td>-999</td>\n",
       "    </tr>\n",
       "    <tr>\n",
       "      <th>202011</th>\n",
       "      <td>0.38</td>\n",
       "      <td>76.91</td>\n",
       "      <td>0.70</td>\n",
       "      <td>3.34</td>\n",
       "      <td>2.84</td>\n",
       "      <td>0.03</td>\n",
       "      <td>0.13</td>\n",
       "      <td>2.03</td>\n",
       "      <td>1.24</td>\n",
       "      <td>2.31</td>\n",
       "      <td>22.24</td>\n",
       "      <td>0.63</td>\n",
       "      <td>41.19</td>\n",
       "      <td>-999</td>\n",
       "    </tr>\n",
       "    <tr>\n",
       "      <th>202012</th>\n",
       "      <td>0.37</td>\n",
       "      <td>74.83</td>\n",
       "      <td>0.67</td>\n",
       "      <td>2.54</td>\n",
       "      <td>2.08</td>\n",
       "      <td>0.02</td>\n",
       "      <td>0.15</td>\n",
       "      <td>1.92</td>\n",
       "      <td>0.94</td>\n",
       "      <td>1.71</td>\n",
       "      <td>16.65</td>\n",
       "      <td>0.48</td>\n",
       "      <td>30.00</td>\n",
       "      <td>-999</td>\n",
       "    </tr>\n",
       "    <tr>\n",
       "      <th>202013</th>\n",
       "      <td>0.54</td>\n",
       "      <td>63.04</td>\n",
       "      <td>0.73</td>\n",
       "      <td>7.09</td>\n",
       "      <td>9.20</td>\n",
       "      <td>0.17</td>\n",
       "      <td>0.15</td>\n",
       "      <td>4.51</td>\n",
       "      <td>3.83</td>\n",
       "      <td>5.16</td>\n",
       "      <td>70.21</td>\n",
       "      <td>1.47</td>\n",
       "      <td>93.47</td>\n",
       "      <td>-999</td>\n",
       "    </tr>\n",
       "  </tbody>\n",
       "</table>\n",
       "<p>481 rows × 14 columns</p>\n",
       "</div>"
      ],
      "text/plain": [
       "        ALLSKY_KT  CLOUD_AMT  CLRSKY_KT  TOA_SW_DWN  ALLSKY_SFC_UVA  \\\n",
       "198401       0.49      70.70       0.71        2.96         -999.00   \n",
       "198402       0.51      68.62       0.72        4.52         -999.00   \n",
       "198403       0.52      72.22       0.76        6.77         -999.00   \n",
       "198404       0.53      75.34       0.77        9.07         -999.00   \n",
       "198405       0.51      78.25       0.77       10.79         -999.00   \n",
       "...           ...        ...        ...         ...             ...   \n",
       "202009       0.56      45.03       0.65        7.46            9.27   \n",
       "202010       0.52      57.19       0.70        5.16            6.04   \n",
       "202011       0.38      76.91       0.70        3.34            2.84   \n",
       "202012       0.37      74.83       0.67        2.54            2.08   \n",
       "202013       0.54      63.04       0.73        7.09            9.20   \n",
       "\n",
       "        ALLSKY_SFC_UVB  ALLSKY_SRF_ALB  ALLSKY_SFC_SW_DNI  ALLSKY_SFC_SW_DWN  \\\n",
       "198401         -999.00            0.28            -999.00               1.47   \n",
       "198402         -999.00            0.29            -999.00               2.28   \n",
       "198403         -999.00            0.28            -999.00               3.52   \n",
       "198404         -999.00            0.19            -999.00               4.78   \n",
       "198405         -999.00            0.17            -999.00               5.48   \n",
       "...                ...             ...                ...                ...   \n",
       "202009            0.19            0.13               5.44               4.17   \n",
       "202010            0.10            0.16               4.03               2.71   \n",
       "202011            0.03            0.13               2.03               1.24   \n",
       "202012            0.02            0.15               1.92               0.94   \n",
       "202013            0.17            0.15               4.51               3.83   \n",
       "\n",
       "        CLRSKY_SFC_SW_DWN  ALLSKY_SFC_PAR_TOT  ALLSKY_SFC_SW_DIFF  \\\n",
       "198401               2.10             -999.00             -999.00   \n",
       "198402               3.26             -999.00             -999.00   \n",
       "198403               5.12             -999.00             -999.00   \n",
       "198404               6.99             -999.00             -999.00   \n",
       "198405               8.24             -999.00             -999.00   \n",
       "...                   ...                 ...                 ...   \n",
       "202009               4.82               75.07                1.41   \n",
       "202010               3.60               48.59                1.09   \n",
       "202011               2.31               22.24                0.63   \n",
       "202012               1.71               16.65                0.48   \n",
       "202013               5.16               70.21                1.47   \n",
       "\n",
       "        CLRSKY_SFC_PAR_TOT  ALLSKY_SFC_UV_INDEX  \n",
       "198401             -999.00                 -999  \n",
       "198402             -999.00                 -999  \n",
       "198403             -999.00                 -999  \n",
       "198404             -999.00                 -999  \n",
       "198405             -999.00                 -999  \n",
       "...                    ...                  ...  \n",
       "202009               86.34                 -999  \n",
       "202010               65.12                 -999  \n",
       "202011               41.19                 -999  \n",
       "202012               30.00                 -999  \n",
       "202013               93.47                 -999  \n",
       "\n",
       "[481 rows x 14 columns]"
      ]
     },
     "execution_count": 2,
     "metadata": {},
     "output_type": "execute_result"
    }
   ],
   "source": [
    "# Spokane coordinates: 47.6748 N, 117.3698 W\n",
    "spokane = 'NASA/POWER_Point_Monthly_Timeseries_1981_2020_047d6748N_117d3698W_LST.json'\n",
    "df1 = gpd.read_file(spokane)\n",
    "dict1 = df1['parameter'][0]\n",
    "Idf1 =  pd.DataFrame.from_dict(dict1)\n",
    "allsky = pd.DataFrame(Idf1['ALLSKY_KT'])\n",
    "#allsky\n",
    "Idf1"
   ]
  },
  {
   "cell_type": "code",
   "execution_count": 9,
   "id": "975f3779",
   "metadata": {},
   "outputs": [],
   "source": [
    "# Removing the annual average from the dataframe\n",
    "\n",
    "allsky = allsky.drop(allsky.index[12::13])"
   ]
  },
  {
   "cell_type": "code",
   "execution_count": 11,
   "id": "4177c8aa",
   "metadata": {},
   "outputs": [],
   "source": [
    "# Renaming the y axis\n",
    "\n",
    "allsky = allsky.rename(columns={\"ALLSKY_KT\": \"Solar Ratio\"})"
   ]
  },
  {
   "cell_type": "code",
   "execution_count": 34,
   "id": "56ea5f4b",
   "metadata": {},
   "outputs": [
    {
     "name": "stdout",
     "output_type": "stream",
     "text": [
      "(444, 3)\n"
     ]
    },
    {
     "data": {
      "text/html": [
       "<div>\n",
       "<style scoped>\n",
       "    .dataframe tbody tr th:only-of-type {\n",
       "        vertical-align: middle;\n",
       "    }\n",
       "\n",
       "    .dataframe tbody tr th {\n",
       "        vertical-align: top;\n",
       "    }\n",
       "\n",
       "    .dataframe thead th {\n",
       "        text-align: right;\n",
       "    }\n",
       "</style>\n",
       "<table border=\"1\" class=\"dataframe\">\n",
       "  <thead>\n",
       "    <tr style=\"text-align: right;\">\n",
       "      <th></th>\n",
       "      <th>Solar Ratio</th>\n",
       "      <th>Year</th>\n",
       "      <th>Date</th>\n",
       "    </tr>\n",
       "  </thead>\n",
       "  <tbody>\n",
       "    <tr>\n",
       "      <th>198401</th>\n",
       "      <td>0.49</td>\n",
       "      <td>1984-01-01</td>\n",
       "      <td>1984-01</td>\n",
       "    </tr>\n",
       "    <tr>\n",
       "      <th>198402</th>\n",
       "      <td>0.51</td>\n",
       "      <td>1984-02-01</td>\n",
       "      <td>1984-02</td>\n",
       "    </tr>\n",
       "    <tr>\n",
       "      <th>198403</th>\n",
       "      <td>0.52</td>\n",
       "      <td>1984-03-01</td>\n",
       "      <td>1984-03</td>\n",
       "    </tr>\n",
       "    <tr>\n",
       "      <th>198404</th>\n",
       "      <td>0.53</td>\n",
       "      <td>1984-04-01</td>\n",
       "      <td>1984-04</td>\n",
       "    </tr>\n",
       "    <tr>\n",
       "      <th>198405</th>\n",
       "      <td>0.51</td>\n",
       "      <td>1984-05-01</td>\n",
       "      <td>1984-05</td>\n",
       "    </tr>\n",
       "    <tr>\n",
       "      <th>...</th>\n",
       "      <td>...</td>\n",
       "      <td>...</td>\n",
       "      <td>...</td>\n",
       "    </tr>\n",
       "    <tr>\n",
       "      <th>202008</th>\n",
       "      <td>0.66</td>\n",
       "      <td>2020-08-01</td>\n",
       "      <td>2020-08</td>\n",
       "    </tr>\n",
       "    <tr>\n",
       "      <th>202009</th>\n",
       "      <td>0.56</td>\n",
       "      <td>2020-09-01</td>\n",
       "      <td>2020-09</td>\n",
       "    </tr>\n",
       "    <tr>\n",
       "      <th>202010</th>\n",
       "      <td>0.52</td>\n",
       "      <td>2020-10-01</td>\n",
       "      <td>2020-10</td>\n",
       "    </tr>\n",
       "    <tr>\n",
       "      <th>202011</th>\n",
       "      <td>0.38</td>\n",
       "      <td>2020-11-01</td>\n",
       "      <td>2020-11</td>\n",
       "    </tr>\n",
       "    <tr>\n",
       "      <th>202012</th>\n",
       "      <td>0.37</td>\n",
       "      <td>2020-12-01</td>\n",
       "      <td>2020-12</td>\n",
       "    </tr>\n",
       "  </tbody>\n",
       "</table>\n",
       "<p>444 rows × 3 columns</p>\n",
       "</div>"
      ],
      "text/plain": [
       "        Solar Ratio       Year     Date\n",
       "198401         0.49 1984-01-01  1984-01\n",
       "198402         0.51 1984-02-01  1984-02\n",
       "198403         0.52 1984-03-01  1984-03\n",
       "198404         0.53 1984-04-01  1984-04\n",
       "198405         0.51 1984-05-01  1984-05\n",
       "...             ...        ...      ...\n",
       "202008         0.66 2020-08-01  2020-08\n",
       "202009         0.56 2020-09-01  2020-09\n",
       "202010         0.52 2020-10-01  2020-10\n",
       "202011         0.38 2020-11-01  2020-11\n",
       "202012         0.37 2020-12-01  2020-12\n",
       "\n",
       "[444 rows x 3 columns]"
      ]
     },
     "execution_count": 34,
     "metadata": {},
     "output_type": "execute_result"
    }
   ],
   "source": [
    "# Getting time stamp for each data point\n",
    "\n",
    "def append(dfseries):\n",
    "    dfseries = dfseries[:4] + '-' + dfseries[4:]\n",
    "    return dfseries\n",
    "\n",
    "# Creating a column with the time data\n",
    "\n",
    "allsky['Date'] = allsky.index \n",
    "allsky['Date'] = allsky['Date'].apply(append)\n",
    "\n",
    "# Creating a column called 'Year'\n",
    "# Use this column for Plotly\n",
    "\n",
    "allsky['Year'] = allsky.index\n",
    "allsky['Year'] = pd.to_datetime(allsky['Date'])\n",
    "allsky"
   ]
  },
  {
   "cell_type": "markdown",
   "id": "2ceaf624",
   "metadata": {},
   "source": [
    "## ARIMA"
   ]
  },
  {
   "cell_type": "code",
   "execution_count": 46,
   "id": "f0510601",
   "metadata": {},
   "outputs": [],
   "source": [
    "model = ARIMA(allsky['Solar Ratio'].values, order=(1,1,0), seasonal_order=(1,1,1,12))\n",
    "model_fit = model.fit()\n",
    "\n",
    "pred_sol1 = model_fit.predict(start = 0, end = 600)"
   ]
  },
  {
   "cell_type": "code",
   "execution_count": 77,
   "id": "625ce5e5",
   "metadata": {},
   "outputs": [
    {
     "data": {
      "text/html": [
       "<div>\n",
       "<style scoped>\n",
       "    .dataframe tbody tr th:only-of-type {\n",
       "        vertical-align: middle;\n",
       "    }\n",
       "\n",
       "    .dataframe tbody tr th {\n",
       "        vertical-align: top;\n",
       "    }\n",
       "\n",
       "    .dataframe thead th {\n",
       "        text-align: right;\n",
       "    }\n",
       "</style>\n",
       "<table border=\"1\" class=\"dataframe\">\n",
       "  <thead>\n",
       "    <tr style=\"text-align: right;\">\n",
       "      <th></th>\n",
       "      <th>Solar Ratio</th>\n",
       "      <th>Year</th>\n",
       "    </tr>\n",
       "  </thead>\n",
       "  <tbody>\n",
       "    <tr>\n",
       "      <th>1</th>\n",
       "      <td>0.490000</td>\n",
       "      <td>1984-02-01</td>\n",
       "    </tr>\n",
       "    <tr>\n",
       "      <th>2</th>\n",
       "      <td>0.510000</td>\n",
       "      <td>1984-03-01</td>\n",
       "    </tr>\n",
       "    <tr>\n",
       "      <th>3</th>\n",
       "      <td>0.520000</td>\n",
       "      <td>1984-04-01</td>\n",
       "    </tr>\n",
       "    <tr>\n",
       "      <th>4</th>\n",
       "      <td>0.530000</td>\n",
       "      <td>1984-05-01</td>\n",
       "    </tr>\n",
       "    <tr>\n",
       "      <th>5</th>\n",
       "      <td>0.510000</td>\n",
       "      <td>1984-06-01</td>\n",
       "    </tr>\n",
       "    <tr>\n",
       "      <th>...</th>\n",
       "      <td>...</td>\n",
       "      <td>...</td>\n",
       "    </tr>\n",
       "    <tr>\n",
       "      <th>596</th>\n",
       "      <td>0.597644</td>\n",
       "      <td>2034-10-01</td>\n",
       "    </tr>\n",
       "    <tr>\n",
       "      <th>597</th>\n",
       "      <td>0.537509</td>\n",
       "      <td>2034-11-01</td>\n",
       "    </tr>\n",
       "    <tr>\n",
       "      <th>598</th>\n",
       "      <td>0.428520</td>\n",
       "      <td>2035-01-01</td>\n",
       "    </tr>\n",
       "    <tr>\n",
       "      <th>599</th>\n",
       "      <td>0.375433</td>\n",
       "      <td>2035-02-01</td>\n",
       "    </tr>\n",
       "    <tr>\n",
       "      <th>600</th>\n",
       "      <td>0.405068</td>\n",
       "      <td>2035-03-01</td>\n",
       "    </tr>\n",
       "  </tbody>\n",
       "</table>\n",
       "<p>600 rows × 2 columns</p>\n",
       "</div>"
      ],
      "text/plain": [
       "     Solar Ratio       Year\n",
       "1       0.490000 1984-02-01\n",
       "2       0.510000 1984-03-01\n",
       "3       0.520000 1984-04-01\n",
       "4       0.530000 1984-05-01\n",
       "5       0.510000 1984-06-01\n",
       "..           ...        ...\n",
       "596     0.597644 2034-10-01\n",
       "597     0.537509 2034-11-01\n",
       "598     0.428520 2035-01-01\n",
       "599     0.375433 2035-02-01\n",
       "600     0.405068 2035-03-01\n",
       "\n",
       "[600 rows x 2 columns]"
      ]
     },
     "execution_count": 77,
     "metadata": {},
     "output_type": "execute_result"
    }
   ],
   "source": [
    "import datetime\n",
    "\n",
    "# Converting the data prediction from ARIMA into a dataframe\n",
    "\n",
    "df = pd.DataFrame()\n",
    "df['Solar Ratio'] = pred_sol1\n",
    "\n",
    "# Associating a year and a month with the ARIMA predictions\n",
    "# Used the 'Year' from the previous data frame and added the additional years predicted by ARIMA \n",
    "\n",
    "years = allsky['Year'].tolist()\n",
    "year = 2021\n",
    "month = 1\n",
    "day = 1\n",
    "for x in range(157):\n",
    "    if month == 12:\n",
    "        year += 1 \n",
    "        month = 1\n",
    "    years.append(datetime.date(year, month, day))\n",
    "    month += 1\n",
    "\n",
    "# Adding the time column 'Years' to the ARIMA dataframe \n",
    "\n",
    "df['Year'] = years\n",
    "df.drop([0], axis=0, inplace=True)\n",
    "df"
   ]
  },
  {
   "cell_type": "code",
   "execution_count": 48,
   "id": "f44a7bb1",
   "metadata": {
    "scrolled": false
   },
   "outputs": [
    {
     "data": {
      "text/plain": [
       "<matplotlib.legend.Legend at 0x7f88bb9f5690>"
      ]
     },
     "execution_count": 48,
     "metadata": {},
     "output_type": "execute_result"
    },
    {
     "data": {
      "image/png": "[encoded data removed]",
      "text/plain": [
       "<Figure size 720x576 with 1 Axes>"
      ]
     },
     "metadata": {
      "needs_background": "light"
     },
     "output_type": "display_data"
    }
   ],
   "source": [
    "fig, ax = plt.subplots(figsize = (10,8))\n",
    "ax.plot(allsky['Solar Ratio'].values,label = 'Real Data')\n",
    "ax.plot(pred_sol1, label = 'Arima')\n",
    "ax.set_xlabel('Year')\n",
    "ax.set_ylabel('Solar Input Ratio')\n",
    "ax.legend()"
   ]
  },
  {
   "cell_type": "markdown",
   "id": "dae45c98",
   "metadata": {},
   "source": [
    "## Plotly\n",
    "\n",
    "Plotly needs an x and a y argument, therefore I'm having trouble with basic plots because of the way the data is formatted."
   ]
  },
  {
   "cell_type": "code",
   "execution_count": 80,
   "id": "76dbc230",
   "metadata": {},
   "outputs": [
    {
     "data": {
      "application/vnd.plotly.v1+json": {
       "config": {
        "plotlyServerURL": "https://plot.ly"
       },
       "data": [
        {
         "hovertemplate": "Year=%{x}<br>Solar Ratio=%{y}<extra></extra>",
         "legendgroup": "",
         "marker": {
          "color": "#636efa",
          "symbol": "circle"
         },
         "mode": "markers",
         "name": "",
         "orientation": "v",
         "showlegend": false,
         "type": "scatter",
         "x": [
          "1984-02-01T00:00:00",
          "1984-03-01T00:00:00",
          "1984-04-01T00:00:00",
          "1984-05-01T00:00:00",
          "1984-06-01T00:00:00",
          "1984-07-01T00:00:00",
          "1984-08-01T00:00:00",
          "1984-09-01T00:00:00",
          "1984-10-01T00:00:00",
          "1984-11-01T00:00:00",
          "1984-12-01T00:00:00",
          "1985-01-01T00:00:00",
          "1985-02-01T00:00:00",
          "1985-03-01T00:00:00",
          "1985-04-01T00:00:00",
          "1985-05-01T00:00:00",
          "1985-06-01T00:00:00",
          "1985-07-01T00:00:00",
          "1985-08-01T00:00:00",
          "1985-09-01T00:00:00",
          "1985-10-01T00:00:00",
          "1985-11-01T00:00:00",
          "1985-12-01T00:00:00",
          "1986-01-01T00:00:00",
          "1986-02-01T00:00:00",
          "1986-03-01T00:00:00",
          "1986-04-01T00:00:00",
          "1986-05-01T00:00:00",
          "1986-06-01T00:00:00",
          "1986-07-01T00:00:00",
          "1986-08-01T00:00:00",
          "1986-09-01T00:00:00",
          "1986-10-01T00:00:00",
          "1986-11-01T00:00:00",
          "1986-12-01T00:00:00",
          "1987-01-01T00:00:00",
          "1987-02-01T00:00:00",
          "1987-03-01T00:00:00",
          "1987-04-01T00:00:00",
          "1987-05-01T00:00:00",
          "1987-06-01T00:00:00",
          "1987-07-01T00:00:00",
          "1987-08-01T00:00:00",
          "1987-09-01T00:00:00",
          "1987-10-01T00:00:00",
          "1987-11-01T00:00:00",
          "1987-12-01T00:00:00",
          "1988-01-01T00:00:00",
          "1988-02-01T00:00:00",
          "1988-03-01T00:00:00",
          "1988-04-01T00:00:00",
          "1988-05-01T00:00:00",
          "1988-06-01T00:00:00",
          "1988-07-01T00:00:00",
          "1988-08-01T00:00:00",
          "1988-09-01T00:00:00",
          "1988-10-01T00:00:00",
          "1988-11-01T00:00:00",
          "1988-12-01T00:00:00",
          "1989-01-01T00:00:00",
          "1989-02-01T00:00:00",
          "1989-03-01T00:00:00",
          "1989-04-01T00:00:00",
          "1989-05-01T00:00:00",
          "1989-06-01T00:00:00",
          "1989-07-01T00:00:00",
          "1989-08-01T00:00:00",
          "1989-09-01T00:00:00",
          "1989-10-01T00:00:00",
          "1989-11-01T00:00:00",
          "1989-12-01T00:00:00",
          "1990-01-01T00:00:00",
          "1990-02-01T00:00:00",
          "1990-03-01T00:00:00",
          "1990-04-01T00:00:00",
          "1990-05-01T00:00:00",
          "1990-06-01T00:00:00",
          "1990-07-01T00:00:00",
          "1990-08-01T00:00:00",
          "1990-09-01T00:00:00",
          "1990-10-01T00:00:00",
          "1990-11-01T00:00:00",
          "1990-12-01T00:00:00",
          "1991-01-01T00:00:00",
          "1991-02-01T00:00:00",
          "1991-03-01T00:00:00",
          "1991-04-01T00:00:00",
          "1991-05-01T00:00:00",
          "1991-06-01T00:00:00",
          "1991-07-01T00:00:00",
          "1991-08-01T00:00:00",
          "1991-09-01T00:00:00",
          "1991-10-01T00:00:00",
          "1991-11-01T00:00:00",
          "1991-12-01T00:00:00",
          "1992-01-01T00:00:00",
          "1992-02-01T00:00:00",
          "1992-03-01T00:00:00",
          "1992-04-01T00:00:00",
          "1992-05-01T00:00:00",
          "1992-06-01T00:00:00",
          "1992-07-01T00:00:00",
          "1992-08-01T00:00:00",
          "1992-09-01T00:00:00",
          "1992-10-01T00:00:00",
          "1992-11-01T00:00:00",
          "1992-12-01T00:00:00",
          "1993-01-01T00:00:00",
          "1993-02-01T00:00:00",
          "1993-03-01T00:00:00",
          "1993-04-01T00:00:00",
          "1993-05-01T00:00:00",
          "1993-06-01T00:00:00",
          "1993-07-01T00:00:00",
          "1993-08-01T00:00:00",
          "1993-09-01T00:00:00",
          "1993-10-01T00:00:00",
          "1993-11-01T00:00:00",
          "1993-12-01T00:00:00",
          "1994-01-01T00:00:00",
          "1994-02-01T00:00:00",
          "1994-03-01T00:00:00",
          "1994-04-01T00:00:00",
          "1994-05-01T00:00:00",
          "1994-06-01T00:00:00",
          "1994-07-01T00:00:00",
          "1994-08-01T00:00:00",
          "1994-09-01T00:00:00",
          "1994-10-01T00:00:00",
          "1994-11-01T00:00:00",
          "1994-12-01T00:00:00",
          "1995-01-01T00:00:00",
          "1995-02-01T00:00:00",
          "1995-03-01T00:00:00",
          "1995-04-01T00:00:00",
          "1995-05-01T00:00:00",
          "1995-06-01T00:00:00",
          "1995-07-01T00:00:00",
          "1995-08-01T00:00:00",
          "1995-09-01T00:00:00",
          "1995-10-01T00:00:00",
          "1995-11-01T00:00:00",
          "1995-12-01T00:00:00",
          "1996-01-01T00:00:00",
          "1996-02-01T00:00:00",
          "1996-03-01T00:00:00",
          "1996-04-01T00:00:00",
          "1996-05-01T00:00:00",
          "1996-06-01T00:00:00",
          "1996-07-01T00:00:00",
          "1996-08-01T00:00:00",
          "1996-09-01T00:00:00",
          "1996-10-01T00:00:00",
          "1996-11-01T00:00:00",
          "1996-12-01T00:00:00",
          "1997-01-01T00:00:00",
          "1997-02-01T00:00:00",
          "1997-03-01T00:00:00",
          "1997-04-01T00:00:00",
          "1997-05-01T00:00:00",
          "1997-06-01T00:00:00",
          "1997-07-01T00:00:00",
          "1997-08-01T00:00:00",
          "1997-09-01T00:00:00",
          "1997-10-01T00:00:00",
          "1997-11-01T00:00:00",
          "1997-12-01T00:00:00",
          "1998-01-01T00:00:00",
          "1998-02-01T00:00:00",
          "1998-03-01T00:00:00",
          "1998-04-01T00:00:00",
          "1998-05-01T00:00:00",
          "1998-06-01T00:00:00",
          "1998-07-01T00:00:00",
          "1998-08-01T00:00:00",
          "1998-09-01T00:00:00",
          "1998-10-01T00:00:00",
          "1998-11-01T00:00:00",
          "1998-12-01T00:00:00",
          "1999-01-01T00:00:00",
          "1999-02-01T00:00:00",
          "1999-03-01T00:00:00",
          "1999-04-01T00:00:00",
          "1999-05-01T00:00:00",
          "1999-06-01T00:00:00",
          "1999-07-01T00:00:00",
          "1999-08-01T00:00:00",
          "1999-09-01T00:00:00",
          "1999-10-01T00:00:00",
          "1999-11-01T00:00:00",
          "1999-12-01T00:00:00",
          "2000-01-01T00:00:00",
          "2000-02-01T00:00:00",
          "2000-03-01T00:00:00",
          "2000-04-01T00:00:00",
          "2000-05-01T00:00:00",
          "2000-06-01T00:00:00",
          "2000-07-01T00:00:00",
          "2000-08-01T00:00:00",
          "2000-09-01T00:00:00",
          "2000-10-01T00:00:00",
          "2000-11-01T00:00:00",
          "2000-12-01T00:00:00",
          "2001-01-01T00:00:00",
          "2001-02-01T00:00:00",
          "2001-03-01T00:00:00",
          "2001-04-01T00:00:00",
          "2001-05-01T00:00:00",
          "2001-06-01T00:00:00",
          "2001-07-01T00:00:00",
          "2001-08-01T00:00:00",
          "2001-09-01T00:00:00",
          "2001-10-01T00:00:00",
          "2001-11-01T00:00:00",
          "2001-12-01T00:00:00",
          "2002-01-01T00:00:00",
          "2002-02-01T00:00:00",
          "2002-03-01T00:00:00",
          "2002-04-01T00:00:00",
          "2002-05-01T00:00:00",
          "2002-06-01T00:00:00",
          "2002-07-01T00:00:00",
          "2002-08-01T00:00:00",
          "2002-09-01T00:00:00",
          "2002-10-01T00:00:00",
          "2002-11-01T00:00:00",
          "2002-12-01T00:00:00",
          "2003-01-01T00:00:00",
          "2003-02-01T00:00:00",
          "2003-03-01T00:00:00",
          "2003-04-01T00:00:00",
          "2003-05-01T00:00:00",
          "2003-06-01T00:00:00",
          "2003-07-01T00:00:00",
          "2003-08-01T00:00:00",
          "2003-09-01T00:00:00",
          "2003-10-01T00:00:00",
          "2003-11-01T00:00:00",
          "2003-12-01T00:00:00",
          "2004-01-01T00:00:00",
          "2004-02-01T00:00:00",
          "2004-03-01T00:00:00",
          "2004-04-01T00:00:00",
          "2004-05-01T00:00:00",
          "2004-06-01T00:00:00",
          "2004-07-01T00:00:00",
          "2004-08-01T00:00:00",
          "2004-09-01T00:00:00",
          "2004-10-01T00:00:00",
          "2004-11-01T00:00:00",
          "2004-12-01T00:00:00",
          "2005-01-01T00:00:00",
          "2005-02-01T00:00:00",
          "2005-03-01T00:00:00",
          "2005-04-01T00:00:00",
          "2005-05-01T00:00:00",
          "2005-06-01T00:00:00",
          "2005-07-01T00:00:00",
          "2005-08-01T00:00:00",
          "2005-09-01T00:00:00",
          "2005-10-01T00:00:00",
          "2005-11-01T00:00:00",
          "2005-12-01T00:00:00",
          "2006-01-01T00:00:00",
          "2006-02-01T00:00:00",
          "2006-03-01T00:00:00",
          "2006-04-01T00:00:00",
          "2006-05-01T00:00:00",
          "2006-06-01T00:00:00",
          "2006-07-01T00:00:00",
          "2006-08-01T00:00:00",
          "2006-09-01T00:00:00",
          "2006-10-01T00:00:00",
          "2006-11-01T00:00:00",
          "2006-12-01T00:00:00",
          "2007-01-01T00:00:00",
          "2007-02-01T00:00:00",
          "2007-03-01T00:00:00",
          "2007-04-01T00:00:00",
          "2007-05-01T00:00:00",
          "2007-06-01T00:00:00",
          "2007-07-01T00:00:00",
          "2007-08-01T00:00:00",
          "2007-09-01T00:00:00",
          "2007-10-01T00:00:00",
          "2007-11-01T00:00:00",
          "2007-12-01T00:00:00",
          "2008-01-01T00:00:00",
          "2008-02-01T00:00:00",
          "2008-03-01T00:00:00",
          "2008-04-01T00:00:00",
          "2008-05-01T00:00:00",
          "2008-06-01T00:00:00",
          "2008-07-01T00:00:00",
          "2008-08-01T00:00:00",
          "2008-09-01T00:00:00",
          "2008-10-01T00:00:00",
          "2008-11-01T00:00:00",
          "2008-12-01T00:00:00",
          "2009-01-01T00:00:00",
          "2009-02-01T00:00:00",
          "2009-03-01T00:00:00",
          "2009-04-01T00:00:00",
          "2009-05-01T00:00:00",
          "2009-06-01T00:00:00",
          "2009-07-01T00:00:00",
          "2009-08-01T00:00:00",
          "2009-09-01T00:00:00",
          "2009-10-01T00:00:00",
          "2009-11-01T00:00:00",
          "2009-12-01T00:00:00",
          "2010-01-01T00:00:00",
          "2010-02-01T00:00:00",
          "2010-03-01T00:00:00",
          "2010-04-01T00:00:00",
          "2010-05-01T00:00:00",
          "2010-06-01T00:00:00",
          "2010-07-01T00:00:00",
          "2010-08-01T00:00:00",
          "2010-09-01T00:00:00",
          "2010-10-01T00:00:00",
          "2010-11-01T00:00:00",
          "2010-12-01T00:00:00",
          "2011-01-01T00:00:00",
          "2011-02-01T00:00:00",
          "2011-03-01T00:00:00",
          "2011-04-01T00:00:00",
          "2011-05-01T00:00:00",
          "2011-06-01T00:00:00",
          "2011-07-01T00:00:00",
          "2011-08-01T00:00:00",
          "2011-09-01T00:00:00",
          "2011-10-01T00:00:00",
          "2011-11-01T00:00:00",
          "2011-12-01T00:00:00",
          "2012-01-01T00:00:00",
          "2012-02-01T00:00:00",
          "2012-03-01T00:00:00",
          "2012-04-01T00:00:00",
          "2012-05-01T00:00:00",
          "2012-06-01T00:00:00",
          "2012-07-01T00:00:00",
          "2012-08-01T00:00:00",
          "2012-09-01T00:00:00",
          "2012-10-01T00:00:00",
          "2012-11-01T00:00:00",
          "2012-12-01T00:00:00",
          "2013-01-01T00:00:00",
          "2013-02-01T00:00:00",
          "2013-03-01T00:00:00",
          "2013-04-01T00:00:00",
          "2013-05-01T00:00:00",
          "2013-06-01T00:00:00",
          "2013-07-01T00:00:00",
          "2013-08-01T00:00:00",
          "2013-09-01T00:00:00",
          "2013-10-01T00:00:00",
          "2013-11-01T00:00:00",
          "2013-12-01T00:00:00",
          "2014-01-01T00:00:00",
          "2014-02-01T00:00:00",
          "2014-03-01T00:00:00",
          "2014-04-01T00:00:00",
          "2014-05-01T00:00:00",
          "2014-06-01T00:00:00",
          "2014-07-01T00:00:00",
          "2014-08-01T00:00:00",
          "2014-09-01T00:00:00",
          "2014-10-01T00:00:00",
          "2014-11-01T00:00:00",
          "2014-12-01T00:00:00",
          "2015-01-01T00:00:00",
          "2015-02-01T00:00:00",
          "2015-03-01T00:00:00",
          "2015-04-01T00:00:00",
          "2015-05-01T00:00:00",
          "2015-06-01T00:00:00",
          "2015-07-01T00:00:00",
          "2015-08-01T00:00:00",
          "2015-09-01T00:00:00",
          "2015-10-01T00:00:00",
          "2015-11-01T00:00:00",
          "2015-12-01T00:00:00",
          "2016-01-01T00:00:00",
          "2016-02-01T00:00:00",
          "2016-03-01T00:00:00",
          "2016-04-01T00:00:00",
          "2016-05-01T00:00:00",
          "2016-06-01T00:00:00",
          "2016-07-01T00:00:00",
          "2016-08-01T00:00:00",
          "2016-09-01T00:00:00",
          "2016-10-01T00:00:00",
          "2016-11-01T00:00:00",
          "2016-12-01T00:00:00",
          "2017-01-01T00:00:00",
          "2017-02-01T00:00:00",
          "2017-03-01T00:00:00",
          "2017-04-01T00:00:00",
          "2017-05-01T00:00:00",
          "2017-06-01T00:00:00",
          "2017-07-01T00:00:00",
          "2017-08-01T00:00:00",
          "2017-09-01T00:00:00",
          "2017-10-01T00:00:00",
          "2017-11-01T00:00:00",
          "2017-12-01T00:00:00",
          "2018-01-01T00:00:00",
          "2018-02-01T00:00:00",
          "2018-03-01T00:00:00",
          "2018-04-01T00:00:00",
          "2018-05-01T00:00:00",
          "2018-06-01T00:00:00",
          "2018-07-01T00:00:00",
          "2018-08-01T00:00:00",
          "2018-09-01T00:00:00",
          "2018-10-01T00:00:00",
          "2018-11-01T00:00:00",
          "2018-12-01T00:00:00",
          "2019-01-01T00:00:00",
          "2019-02-01T00:00:00",
          "2019-03-01T00:00:00",
          "2019-04-01T00:00:00",
          "2019-05-01T00:00:00",
          "2019-06-01T00:00:00",
          "2019-07-01T00:00:00",
          "2019-08-01T00:00:00",
          "2019-09-01T00:00:00",
          "2019-10-01T00:00:00",
          "2019-11-01T00:00:00",
          "2019-12-01T00:00:00",
          "2020-01-01T00:00:00",
          "2020-02-01T00:00:00",
          "2020-03-01T00:00:00",
          "2020-04-01T00:00:00",
          "2020-05-01T00:00:00",
          "2020-06-01T00:00:00",
          "2020-07-01T00:00:00",
          "2020-08-01T00:00:00",
          "2020-09-01T00:00:00",
          "2020-10-01T00:00:00",
          "2020-11-01T00:00:00",
          "2020-12-01T00:00:00",
          "2021-01-01T00:00:00",
          "2021-02-01T00:00:00",
          "2021-03-01T00:00:00",
          "2021-04-01T00:00:00",
          "2021-05-01T00:00:00",
          "2021-06-01T00:00:00",
          "2021-07-01T00:00:00",
          "2021-08-01T00:00:00",
          "2021-09-01T00:00:00",
          "2021-10-01T00:00:00",
          "2021-11-01T00:00:00",
          "2022-01-01T00:00:00",
          "2022-02-01T00:00:00",
          "2022-03-01T00:00:00",
          "2022-04-01T00:00:00",
          "2022-05-01T00:00:00",
          "2022-06-01T00:00:00",
          "2022-07-01T00:00:00",
          "2022-08-01T00:00:00",
          "2022-09-01T00:00:00",
          "2022-10-01T00:00:00",
          "2022-11-01T00:00:00",
          "2023-01-01T00:00:00",
          "2023-02-01T00:00:00",
          "2023-03-01T00:00:00",
          "2023-04-01T00:00:00",
          "2023-05-01T00:00:00",
          "2023-06-01T00:00:00",
          "2023-07-01T00:00:00",
          "2023-08-01T00:00:00",
          "2023-09-01T00:00:00",
          "2023-10-01T00:00:00",
          "2023-11-01T00:00:00",
          "2024-01-01T00:00:00",
          "2024-02-01T00:00:00",
          "2024-03-01T00:00:00",
          "2024-04-01T00:00:00",
          "2024-05-01T00:00:00",
          "2024-06-01T00:00:00",
          "2024-07-01T00:00:00",
          "2024-08-01T00:00:00",
          "2024-09-01T00:00:00",
          "2024-10-01T00:00:00",
          "2024-11-01T00:00:00",
          "2025-01-01T00:00:00",
          "2025-02-01T00:00:00",
          "2025-03-01T00:00:00",
          "2025-04-01T00:00:00",
          "2025-05-01T00:00:00",
          "2025-06-01T00:00:00",
          "2025-07-01T00:00:00",
          "2025-08-01T00:00:00",
          "2025-09-01T00:00:00",
          "2025-10-01T00:00:00",
          "2025-11-01T00:00:00",
          "2026-01-01T00:00:00",
          "2026-02-01T00:00:00",
          "2026-03-01T00:00:00",
          "2026-04-01T00:00:00",
          "2026-05-01T00:00:00",
          "2026-06-01T00:00:00",
          "2026-07-01T00:00:00",
          "2026-08-01T00:00:00",
          "2026-09-01T00:00:00",
          "2026-10-01T00:00:00",
          "2026-11-01T00:00:00",
          "2027-01-01T00:00:00",
          "2027-02-01T00:00:00",
          "2027-03-01T00:00:00",
          "2027-04-01T00:00:00",
          "2027-05-01T00:00:00",
          "2027-06-01T00:00:00",
          "2027-07-01T00:00:00",
          "2027-08-01T00:00:00",
          "2027-09-01T00:00:00",
          "2027-10-01T00:00:00",
          "2027-11-01T00:00:00",
          "2028-01-01T00:00:00",
          "2028-02-01T00:00:00",
          "2028-03-01T00:00:00",
          "2028-04-01T00:00:00",
          "2028-05-01T00:00:00",
          "2028-06-01T00:00:00",
          "2028-07-01T00:00:00",
          "2028-08-01T00:00:00",
          "2028-09-01T00:00:00",
          "2028-10-01T00:00:00",
          "2028-11-01T00:00:00",
          "2029-01-01T00:00:00",
          "2029-02-01T00:00:00",
          "2029-03-01T00:00:00",
          "2029-04-01T00:00:00",
          "2029-05-01T00:00:00",
          "2029-06-01T00:00:00",
          "2029-07-01T00:00:00",
          "2029-08-01T00:00:00",
          "2029-09-01T00:00:00",
          "2029-10-01T00:00:00",
          "2029-11-01T00:00:00",
          "2030-01-01T00:00:00",
          "2030-02-01T00:00:00",
          "2030-03-01T00:00:00",
          "2030-04-01T00:00:00",
          "2030-05-01T00:00:00",
          "2030-06-01T00:00:00",
          "2030-07-01T00:00:00",
          "2030-08-01T00:00:00",
          "2030-09-01T00:00:00",
          "2030-10-01T00:00:00",
          "2030-11-01T00:00:00",
          "2031-01-01T00:00:00",
          "2031-02-01T00:00:00",
          "2031-03-01T00:00:00",
          "2031-04-01T00:00:00",
          "2031-05-01T00:00:00",
          "2031-06-01T00:00:00",
          "2031-07-01T00:00:00",
          "2031-08-01T00:00:00",
          "2031-09-01T00:00:00",
          "2031-10-01T00:00:00",
          "2031-11-01T00:00:00",
          "2032-01-01T00:00:00",
          "2032-02-01T00:00:00",
          "2032-03-01T00:00:00",
          "2032-04-01T00:00:00",
          "2032-05-01T00:00:00",
          "2032-06-01T00:00:00",
          "2032-07-01T00:00:00",
          "2032-08-01T00:00:00",
          "2032-09-01T00:00:00",
          "2032-10-01T00:00:00",
          "2032-11-01T00:00:00",
          "2033-01-01T00:00:00",
          "2033-02-01T00:00:00",
          "2033-03-01T00:00:00",
          "2033-04-01T00:00:00",
          "2033-05-01T00:00:00",
          "2033-06-01T00:00:00",
          "2033-07-01T00:00:00",
          "2033-08-01T00:00:00",
          "2033-09-01T00:00:00",
          "2033-10-01T00:00:00",
          "2033-11-01T00:00:00",
          "2034-01-01T00:00:00",
          "2034-02-01T00:00:00",
          "2034-03-01T00:00:00",
          "2034-04-01T00:00:00",
          "2034-05-01T00:00:00",
          "2034-06-01T00:00:00",
          "2034-07-01T00:00:00",
          "2034-08-01T00:00:00",
          "2034-09-01T00:00:00",
          "2034-10-01T00:00:00",
          "2034-11-01T00:00:00",
          "2035-01-01T00:00:00",
          "2035-02-01T00:00:00",
          "2035-03-01T00:00:00"
         ],
         "xaxis": "x",
         "y": [
          0.4899999992061977,
          0.5100000002612657,
          0.5199999998604972,
          0.5300000000243063,
          0.5100000000563062,
          0.5399999998760381,
          0.6499999997033453,
          0.6000000002624057,
          0.5400000001388995,
          0.4899999999776191,
          0.4200000005458458,
          0.7549999997541201,
          0.600000001322633,
          0.5746525791520277,
          0.5894583626085821,
          0.5782099129018329,
          0.6118016552675074,
          0.7181701886768073,
          0.648334239139377,
          0.5384791351129022,
          0.4606888196606977,
          0.38832336124073863,
          0.5491370515872837,
          0.6198680910557116,
          0.4942722455775722,
          0.5030649892082484,
          0.5356280944430392,
          0.5519617003859892,
          0.5857152496704109,
          0.6895469126811626,
          0.5272451786398844,
          0.5057701188434514,
          0.4495380106590822,
          0.4980956584519741,
          0.5439428229709053,
          0.4788628203818368,
          0.5214879211853173,
          0.5938920999668608,
          0.582688667036566,
          0.5860415267929033,
          0.5979140173888604,
          0.6565887376092429,
          0.5714936706438722,
          0.4700063070817237,
          0.6098532605695537,
          0.5592512604736598,
          0.5363051327449238,
          0.520382185836567,
          0.5304181550656093,
          0.5989525097341986,
          0.6006542939864052,
          0.5212280337384837,
          0.54954280523515,
          0.5563435864428321,
          0.5637830475676728,
          0.5505434973694809,
          0.5456712446559535,
          0.43299753384667716,
          0.5159063772050219,
          0.5186751376416379,
          0.5108754052951182,
          0.5433080622609927,
          0.5287649146950987,
          0.5403017923655066,
          0.5707800671175048,
          0.6190536678119094,
          0.6399862191946851,
          0.5006663036550305,
          0.5762617687594642,
          0.46944587822755846,
          0.49677500619135506,
          0.4755022077609813,
          0.49633666758353523,
          0.5105736119755658,
          0.6075414943526195,
          0.5795670983537811,
          0.5420928096026475,
          0.5651074293662569,
          0.5785577350651172,
          0.5430172980441735,
          0.5901833412778484,
          0.43327841638119563,
          0.47833478545950414,
          0.44758608168735453,
          0.4921100579328148,
          0.5769865037243398,
          0.5825165319896219,
          0.5426667879890673,
          0.5513376521035784,
          0.5445332603766707,
          0.5794256715549292,
          0.6182191939464994,
          0.5697232860818193,
          0.4544539339994803,
          0.5269474483911394,
          0.5046266329425368,
          0.5232353846534087,
          0.5484550027208772,
          0.6251756548711255,
          0.5279955508957233,
          0.6069472506522268,
          0.676770516052311,
          0.5555122415172671,
          0.5733212403080231,
          0.526392804030012,
          0.3917818193171481,
          0.47639134444085135,
          0.46177176417954935,
          0.5577501944200323,
          0.6042583293549925,
          0.5393471153079414,
          0.4882693564938954,
          0.5592554944078423,
          0.5784827634912224,
          0.4807491415298537,
          0.5160254108710757,
          0.5490155173412046,
          0.462755581545427,
          0.554092536897571,
          0.5075450335520222,
          0.4906080599432649,
          0.4997850402800973,
          0.5423828099120509,
          0.5432937544387678,
          0.5338867789516523,
          0.5767993872638445,
          0.6473821957997224,
          0.6520690164645646,
          0.5467353244802565,
          0.4458060548458218,
          0.4933496373677341,
          0.5344376691070988,
          0.5710342785427738,
          0.5866060550547927,
          0.5561436525479638,
          0.5684070575866043,
          0.6052002873828984,
          0.5924665996269082,
          0.6002967787238859,
          0.5701621871351429,
          0.5009756831661706,
          0.41119284081037155,
          0.4518096799010622,
          0.4927988572823204,
          0.5099112667160246,
          0.5359814564422734,
          0.5305448825458183,
          0.5278055906127347,
          0.5110087071634161,
          0.6237000723656977,
          0.6606196207422707,
          0.6304322212903098,
          0.48940187774502414,
          0.40265598837348093,
          0.4879857324682647,
          0.4904549353914407,
          0.5331887182226009,
          0.5809955668932244,
          0.5330696818856316,
          0.5353076904870973,
          0.572504391159893,
          0.6204129833696653,
          0.6104969280677012,
          0.6012709524945888,
          0.5058792700453871,
          0.42336024378894394,
          0.5064178527553223,
          0.5445150598892756,
          0.5503387347959241,
          0.5449312275086053,
          0.5354899657311082,
          0.5729524361678711,
          0.5573975708118386,
          0.611006901548373,
          0.62848840725402,
          0.6087212848731374,
          0.5527007732709666,
          0.46104314808726643,
          0.4342956085245592,
          0.4195730156138072,
          0.4837018509276677,
          0.49150693414260477,
          0.5095536225235111,
          0.5477987318089033,
          0.5899039299659481,
          0.5975480665797431,
          0.6088675000559238,
          0.578684216205094,
          0.5281020390928727,
          0.4812351845616298,
          0.4583114873469598,
          0.45736319427086036,
          0.5378107083297905,
          0.5561296199924464,
          0.5391490140546076,
          0.5656775487975619,
          0.5684803933948354,
          0.6213374670734794,
          0.6318687853059425,
          0.63833110150543,
          0.4724236542904454,
          0.4045965216695114,
          0.5003493820375913,
          0.5412712240809203,
          0.4916894588700438,
          0.4901709188829834,
          0.5147095735353439,
          0.4637178711175827,
          0.5535250671793362,
          0.6246563176181505,
          0.6001676916290611,
          0.5993407614163804,
          0.5847468388525903,
          0.477445002048057,
          0.43245540396658494,
          0.3759776540842448,
          0.36308772760585956,
          0.425887411681772,
          0.42800758249055515,
          0.48955924319484057,
          0.5120223065355691,
          0.6018012284053316,
          0.645059684024343,
          0.618124675451242,
          0.5217510230143212,
          0.5170658463772458,
          0.5115853308613836,
          0.36689719876584453,
          0.3784968430083583,
          0.46184504493334777,
          0.4703990138310677,
          0.4709811486913299,
          0.4980211210494973,
          0.6468298068801761,
          0.7222734060154044,
          0.6455193654634679,
          0.5452461964427734,
          0.45417528659677325,
          0.40955068455582866,
          0.3357050516920522,
          0.3632993995209577,
          0.38469485992675895,
          0.5024624897589627,
          0.5853257731625479,
          0.5521214988106443,
          0.6277952893403034,
          0.6542353710481527,
          0.5567717959799682,
          0.4614186212758462,
          0.42504977565490365,
          0.3990593680548968,
          0.3567230379256985,
          0.45002132797948297,
          0.5707984644325161,
          0.6086614507100457,
          0.5306541611412706,
          0.550980696156601,
          0.6010068248805893,
          0.6204568128491053,
          0.6320625704712057,
          0.563453193368945,
          0.40495546046897773,
          0.3423340215843699,
          0.3490637848559666,
          0.44880905914239,
          0.46938118448298993,
          0.4905895843518246,
          0.47591811396396705,
          0.5667252578645857,
          0.6614955868214931,
          0.6671756020468006,
          0.6278455221411102,
          0.5357803564787568,
          0.46007141287930725,
          0.36190441049473904,
          0.3468654247004983,
          0.5035514073172507,
          0.39416172004883876,
          0.4378982037912394,
          0.5188641991375644,
          0.5828658473675121,
          0.6722104011825614,
          0.6547845383099508,
          0.6097380025853542,
          0.5534085113413142,
          0.41211041382420355,
          0.3713145805468199,
          0.33166589500091903,
          0.4506981505077563,
          0.4786350896497615,
          0.5005325563458314,
          0.5051862157204322,
          0.5201464987233849,
          0.6573245980107348,
          0.6520005279161436,
          0.5816829501681307,
          0.5366801034635142,
          0.46149722723829384,
          0.3529002720268407,
          0.32329380644576866,
          0.48388866180510665,
          0.4542257973779852,
          0.4771582238406499,
          0.5341093604105907,
          0.6040821149733998,
          0.7178449406872301,
          0.6531743726406555,
          0.5883207727364461,
          0.5399848954793898,
          0.400822069109825,
          0.3536552697347343,
          0.44233207364255245,
          0.5015264179288514,
          0.4686125863139703,
          0.540279547995363,
          0.5488428184679662,
          0.5155205358208985,
          0.6177357913865713,
          0.6195445076685445,
          0.6090044159358591,
          0.4793992473822506,
          0.3674020041856384,
          0.33708381115001307,
          0.3500654762603216,
          0.425418410439295,
          0.4268434726975432,
          0.4386233786519835,
          0.47260674012534726,
          0.49969465230054544,
          0.6036956931460644,
          0.6051660873608862,
          0.6355981063685965,
          0.5697256212243398,
          0.38054349162033524,
          0.3551229825570984,
          0.4224668135033246,
          0.4918157943521653,
          0.45223778059927083,
          0.4337246609035075,
          0.4856169106244342,
          0.5530816530068713,
          0.6275200880768144,
          0.6194857857444329,
          0.6370537110638747,
          0.5578829801255927,
          0.4335769610961831,
          0.3589635230756604,
          0.3133345726958553,
          0.4052559260744549,
          0.41685101673720043,
          0.4917404610011276,
          0.5502607428268532,
          0.5435789535874865,
          0.67505344116159,
          0.7049655972861429,
          0.6120263231646546,
          0.40650472831129403,
          0.3913100853507009,
          0.4074984861964899,
          0.4155503713553107,
          0.4666281590712915,
          0.4540973837727056,
          0.49289159428520796,
          0.5702827515598488,
          0.5914912273722517,
          0.6939612996557146,
          0.6413476742382533,
          0.5571151780766382,
          0.5109038670496917,
          0.3870688230136977,
          0.3958717488664372,
          0.4266460099414894,
          0.44491700380230326,
          0.48120983106574133,
          0.5560932016427127,
          0.6234536912430486,
          0.6168715691329502,
          0.7606152726470816,
          0.6798662710272283,
          0.569191798295408,
          0.47665868560239233,
          0.3928053278581334,
          0.401498659429723,
          0.35630773004009964,
          0.3822401473353306,
          0.4534279851563522,
          0.5305123856690656,
          0.5927499986423264,
          0.5809294473811019,
          0.68486056927958,
          0.6179517224064413,
          0.5931718268106548,
          0.525944598809516,
          0.31784307274631785,
          0.31603585222992026,
          0.37813609614505894,
          0.4751904926533573,
          0.4672886462789056,
          0.4583540118390159,
          0.4683690138630184,
          0.5299314724262613,
          0.670070159207856,
          0.6868706513542824,
          0.6083722115494479,
          0.4397253153615567,
          0.3992571941574506,
          0.32260672099505583,
          0.3417513490834446,
          0.42952812500972803,
          0.44430602029877453,
          0.533340767668832,
          0.5451170067030385,
          0.5693334796353795,
          0.6813549371916912,
          0.6479149847783461,
          0.5759124168729379,
          0.5071274405260737,
          0.41429748862629334,
          0.3739860680196855,
          0.3883850437041253,
          0.4613523512752299,
          0.4267997991121759,
          0.5490874565082927,
          0.5864696779463179,
          0.5743831447458401,
          0.71112162707396,
          0.616560719203767,
          0.5658325483358216,
          0.4468200563372899,
          0.36404890542739926,
          0.4287377803320773,
          0.3971655156966495,
          0.36432702937010786,
          0.47902697254613424,
          0.535043915721348,
          0.5907251571916727,
          0.5617493709257279,
          0.6118023527047539,
          0.6044748349006799,
          0.5930603573491002,
          0.5175562629421175,
          0.40915575469350846,
          0.3318727385641205,
          0.38054218555138025,
          0.46196679973503274,
          0.483505923364405,
          0.5250006401252371,
          0.5643184470293185,
          0.5761651096248656,
          0.6778878542022468,
          0.6411392016604585,
          0.5810256928278846,
          0.521274321387479,
          0.4117009140881959,
          0.35942255664390005,
          0.3886991700802578,
          0.4603190982880608,
          0.48582936576769364,
          0.5254780974995001,
          0.5668208532053847,
          0.5784805936619938,
          0.6793899875997714,
          0.6421028560443579,
          0.5827519030208902,
          0.5226242173057835,
          0.41362338179118774,
          0.3605519636152476,
          0.39017996456022025,
          0.46161604294398184,
          0.48720077527305744,
          0.5268148960323144,
          0.5681955973104229,
          0.57985183104932,
          0.6807459907111161,
          0.6434487710368716,
          0.5841121032213116,
          0.5239773679169573,
          0.4149872583700802,
          0.36190098387304864,
          0.3915355673215005,
          0.4629682016679067,
          0.4885543289383644,
          0.5281678013343819,
          0.5695492134419071,
          0.5812053814898301,
          0.6820992557701017,
          0.64480184711651,
          0.5854654469037713,
          0.5253305795404386,
          0.4163406709216246,
          0.3632541181231955,
          0.39288882488076987,
          0.4643213947105031,
          0.4899075481122038,
          0.5295210083625228,
          0.5709024337859167,
          0.5825586006032598,
          0.6834524695375189,
          0.6461550573438034,
          0.5868186621440312,
          0.526683792306856,
          0.4176938874519995,
          0.364607329440189,
          0.39424203850769596,
          0.46567460712884734,
          0.49126076102006094,
          0.5308742210428563,
          0.5722556467156945,
          0.5839118135099854,
          0.6848056823440984,
          0.6475082700840663,
          0.5881718749782013,
          0.528037005094684,
          0.41904710031033715,
          0.3659605422008651,
          0.3955952513116438,
          0.46702781991015496,
          0.49261397381053856,
          0.5322274338290718,
          0.5736088595065828,
          0.5852650263004419,
          0.6861588951326789,
          0.6488614828714044,
          0.5895250877672986,
          0.5293902178829132,
          0.4204003130998872,
          0.36731375498858565,
          0.3969484641001749,
          0.468381032698262,
          0.4939671865988174,
          0.5335806466172708,
          0.5749620722948693,
          0.5866182390887202,
          0.6875121079209221,
          0.6502146956596244,
          0.5908783005555516,
          0.5307434306711499,
          0.4217535258881487,
          0.3686669677768129,
          0.3983016768884174,
          0.4697342454864965,
          0.4953203993870551,
          0.534933859405507,
          0.5763152850831071,
          0.587971451876958,
          0.6888653207091592,
          0.651567908447861,
          0.5922315133437889,
          0.5320966434593868,
          0.423106738676386,
          0.37002018056504954,
          0.39965488967665425,
          0.4710874582747332,
          0.4966736121752918,
          0.5362870721937436,
          0.5776684978713438,
          0.5893246646651946,
          0.6902185334973958,
          0.6529211212360977,
          0.5935847261320254,
          0.5334498562476233,
          0.4244599514646225,
          0.37137339335328606,
          0.40100810246489077,
          0.4724406710629697,
          0.49802682496352835,
          0.5376402849819801,
          0.5790217106595803,
          0.5906778774534311,
          0.6915717462856323,
          0.6542743340243342,
          0.5949379389202619,
          0.5348030690358598,
          0.42581316425285903,
          0.3727266061415226,
          0.40236131525312735,
          0.4737938838512063,
          0.4993800377517649,
          0.5389934977702168,
          0.5803749234478169,
          0.5920310902416678,
          0.692924959073869,
          0.6556275468125708,
          0.5962911517084986,
          0.5361562818240965,
          0.42716637704109567,
          0.3740798189297592,
          0.403714528041364,
          0.47514709663944293,
          0.5007332505400016,
          0.5403467105584534,
          0.5817281362360536,
          0.5933843030299044,
          0.6942781718621056,
          0.6569807596008075,
          0.5976443644967352,
          0.5375094946123331,
          0.4285195898293323,
          0.37543303171799586,
          0.4050677408296006
         ],
         "yaxis": "y"
        },
        {
         "hovertemplate": "<b>OLS trendline</b><br>Solar Ratio = -1.93088e-11 * Year + 0.546619<br>R<sup>2</sup>=0.009870<br><br>Year=%{x}<br>Solar Ratio=%{y} <b>(trend)</b><extra></extra>",
         "legendgroup": "Overall Trendline",
         "line": {
          "color": "#EF553B"
         },
         "mode": "lines",
         "name": "Overall Trendline",
         "showlegend": true,
         "type": "scatter",
         "x": [
          "1984-02-01T00:00:00",
          "1984-03-01T00:00:00",
          "1984-04-01T00:00:00",
          "1984-05-01T00:00:00",
          "1984-06-01T00:00:00",
          "1984-07-01T00:00:00",
          "1984-08-01T00:00:00",
          "1984-09-01T00:00:00",
          "1984-10-01T00:00:00",
          "1984-11-01T00:00:00",
          "1984-12-01T00:00:00",
          "1985-01-01T00:00:00",
          "1985-02-01T00:00:00",
          "1985-03-01T00:00:00",
          "1985-04-01T00:00:00",
          "1985-05-01T00:00:00",
          "1985-06-01T00:00:00",
          "1985-07-01T00:00:00",
          "1985-08-01T00:00:00",
          "1985-09-01T00:00:00",
          "1985-10-01T00:00:00",
          "1985-11-01T00:00:00",
          "1985-12-01T00:00:00",
          "1986-01-01T00:00:00",
          "1986-02-01T00:00:00",
          "1986-03-01T00:00:00",
          "1986-04-01T00:00:00",
          "1986-05-01T00:00:00",
          "1986-06-01T00:00:00",
          "1986-07-01T00:00:00",
          "1986-08-01T00:00:00",
          "1986-09-01T00:00:00",
          "1986-10-01T00:00:00",
          "1986-11-01T00:00:00",
          "1986-12-01T00:00:00",
          "1987-01-01T00:00:00",
          "1987-02-01T00:00:00",
          "1987-03-01T00:00:00",
          "1987-04-01T00:00:00",
          "1987-05-01T00:00:00",
          "1987-06-01T00:00:00",
          "1987-07-01T00:00:00",
          "1987-08-01T00:00:00",
          "1987-09-01T00:00:00",
          "1987-10-01T00:00:00",
          "1987-11-01T00:00:00",
          "1987-12-01T00:00:00",
          "1988-01-01T00:00:00",
          "1988-02-01T00:00:00",
          "1988-03-01T00:00:00",
          "1988-04-01T00:00:00",
          "1988-05-01T00:00:00",
          "1988-06-01T00:00:00",
          "1988-07-01T00:00:00",
          "1988-08-01T00:00:00",
          "1988-09-01T00:00:00",
          "1988-10-01T00:00:00",
          "1988-11-01T00:00:00",
          "1988-12-01T00:00:00",
          "1989-01-01T00:00:00",
          "1989-02-01T00:00:00",
          "1989-03-01T00:00:00",
          "1989-04-01T00:00:00",
          "1989-05-01T00:00:00",
          "1989-06-01T00:00:00",
          "1989-07-01T00:00:00",
          "1989-08-01T00:00:00",
          "1989-09-01T00:00:00",
          "1989-10-01T00:00:00",
          "1989-11-01T00:00:00",
          "1989-12-01T00:00:00",
          "1990-01-01T00:00:00",
          "1990-02-01T00:00:00",
          "1990-03-01T00:00:00",
          "1990-04-01T00:00:00",
          "1990-05-01T00:00:00",
          "1990-06-01T00:00:00",
          "1990-07-01T00:00:00",
          "1990-08-01T00:00:00",
          "1990-09-01T00:00:00",
          "1990-10-01T00:00:00",
          "1990-11-01T00:00:00",
          "1990-12-01T00:00:00",
          "1991-01-01T00:00:00",
          "1991-02-01T00:00:00",
          "1991-03-01T00:00:00",
          "1991-04-01T00:00:00",
          "1991-05-01T00:00:00",
          "1991-06-01T00:00:00",
          "1991-07-01T00:00:00",
          "1991-08-01T00:00:00",
          "1991-09-01T00:00:00",
          "1991-10-01T00:00:00",
          "1991-11-01T00:00:00",
          "1991-12-01T00:00:00",
          "1992-01-01T00:00:00",
          "1992-02-01T00:00:00",
          "1992-03-01T00:00:00",
          "1992-04-01T00:00:00",
          "1992-05-01T00:00:00",
          "1992-06-01T00:00:00",
          "1992-07-01T00:00:00",
          "1992-08-01T00:00:00",
          "1992-09-01T00:00:00",
          "1992-10-01T00:00:00",
          "1992-11-01T00:00:00",
          "1992-12-01T00:00:00",
          "1993-01-01T00:00:00",
          "1993-02-01T00:00:00",
          "1993-03-01T00:00:00",
          "1993-04-01T00:00:00",
          "1993-05-01T00:00:00",
          "1993-06-01T00:00:00",
          "1993-07-01T00:00:00",
          "1993-08-01T00:00:00",
          "1993-09-01T00:00:00",
          "1993-10-01T00:00:00",
          "1993-11-01T00:00:00",
          "1993-12-01T00:00:00",
          "1994-01-01T00:00:00",
          "1994-02-01T00:00:00",
          "1994-03-01T00:00:00",
          "1994-04-01T00:00:00",
          "1994-05-01T00:00:00",
          "1994-06-01T00:00:00",
          "1994-07-01T00:00:00",
          "1994-08-01T00:00:00",
          "1994-09-01T00:00:00",
          "1994-10-01T00:00:00",
          "1994-11-01T00:00:00",
          "1994-12-01T00:00:00",
          "1995-01-01T00:00:00",
          "1995-02-01T00:00:00",
          "1995-03-01T00:00:00",
          "1995-04-01T00:00:00",
          "1995-05-01T00:00:00",
          "1995-06-01T00:00:00",
          "1995-07-01T00:00:00",
          "1995-08-01T00:00:00",
          "1995-09-01T00:00:00",
          "1995-10-01T00:00:00",
          "1995-11-01T00:00:00",
          "1995-12-01T00:00:00",
          "1996-01-01T00:00:00",
          "1996-02-01T00:00:00",
          "1996-03-01T00:00:00",
          "1996-04-01T00:00:00",
          "1996-05-01T00:00:00",
          "1996-06-01T00:00:00",
          "1996-07-01T00:00:00",
          "1996-08-01T00:00:00",
          "1996-09-01T00:00:00",
          "1996-10-01T00:00:00",
          "1996-11-01T00:00:00",
          "1996-12-01T00:00:00",
          "1997-01-01T00:00:00",
          "1997-02-01T00:00:00",
          "1997-03-01T00:00:00",
          "1997-04-01T00:00:00",
          "1997-05-01T00:00:00",
          "1997-06-01T00:00:00",
          "1997-07-01T00:00:00",
          "1997-08-01T00:00:00",
          "1997-09-01T00:00:00",
          "1997-10-01T00:00:00",
          "1997-11-01T00:00:00",
          "1997-12-01T00:00:00",
          "1998-01-01T00:00:00",
          "1998-02-01T00:00:00",
          "1998-03-01T00:00:00",
          "1998-04-01T00:00:00",
          "1998-05-01T00:00:00",
          "1998-06-01T00:00:00",
          "1998-07-01T00:00:00",
          "1998-08-01T00:00:00",
          "1998-09-01T00:00:00",
          "1998-10-01T00:00:00",
          "1998-11-01T00:00:00",
          "1998-12-01T00:00:00",
          "1999-01-01T00:00:00",
          "1999-02-01T00:00:00",
          "1999-03-01T00:00:00",
          "1999-04-01T00:00:00",
          "1999-05-01T00:00:00",
          "1999-06-01T00:00:00",
          "1999-07-01T00:00:00",
          "1999-08-01T00:00:00",
          "1999-09-01T00:00:00",
          "1999-10-01T00:00:00",
          "1999-11-01T00:00:00",
          "1999-12-01T00:00:00",
          "2000-01-01T00:00:00",
          "2000-02-01T00:00:00",
          "2000-03-01T00:00:00",
          "2000-04-01T00:00:00",
          "2000-05-01T00:00:00",
          "2000-06-01T00:00:00",
          "2000-07-01T00:00:00",
          "2000-08-01T00:00:00",
          "2000-09-01T00:00:00",
          "2000-10-01T00:00:00",
          "2000-11-01T00:00:00",
          "2000-12-01T00:00:00",
          "2001-01-01T00:00:00",
          "2001-02-01T00:00:00",
          "2001-03-01T00:00:00",
          "2001-04-01T00:00:00",
          "2001-05-01T00:00:00",
          "2001-06-01T00:00:00",
          "2001-07-01T00:00:00",
          "2001-08-01T00:00:00",
          "2001-09-01T00:00:00",
          "2001-10-01T00:00:00",
          "2001-11-01T00:00:00",
          "2001-12-01T00:00:00",
          "2002-01-01T00:00:00",
          "2002-02-01T00:00:00",
          "2002-03-01T00:00:00",
          "2002-04-01T00:00:00",
          "2002-05-01T00:00:00",
          "2002-06-01T00:00:00",
          "2002-07-01T00:00:00",
          "2002-08-01T00:00:00",
          "2002-09-01T00:00:00",
          "2002-10-01T00:00:00",
          "2002-11-01T00:00:00",
          "2002-12-01T00:00:00",
          "2003-01-01T00:00:00",
          "2003-02-01T00:00:00",
          "2003-03-01T00:00:00",
          "2003-04-01T00:00:00",
          "2003-05-01T00:00:00",
          "2003-06-01T00:00:00",
          "2003-07-01T00:00:00",
          "2003-08-01T00:00:00",
          "2003-09-01T00:00:00",
          "2003-10-01T00:00:00",
          "2003-11-01T00:00:00",
          "2003-12-01T00:00:00",
          "2004-01-01T00:00:00",
          "2004-02-01T00:00:00",
          "2004-03-01T00:00:00",
          "2004-04-01T00:00:00",
          "2004-05-01T00:00:00",
          "2004-06-01T00:00:00",
          "2004-07-01T00:00:00",
          "2004-08-01T00:00:00",
          "2004-09-01T00:00:00",
          "2004-10-01T00:00:00",
          "2004-11-01T00:00:00",
          "2004-12-01T00:00:00",
          "2005-01-01T00:00:00",
          "2005-02-01T00:00:00",
          "2005-03-01T00:00:00",
          "2005-04-01T00:00:00",
          "2005-05-01T00:00:00",
          "2005-06-01T00:00:00",
          "2005-07-01T00:00:00",
          "2005-08-01T00:00:00",
          "2005-09-01T00:00:00",
          "2005-10-01T00:00:00",
          "2005-11-01T00:00:00",
          "2005-12-01T00:00:00",
          "2006-01-01T00:00:00",
          "2006-02-01T00:00:00",
          "2006-03-01T00:00:00",
          "2006-04-01T00:00:00",
          "2006-05-01T00:00:00",
          "2006-06-01T00:00:00",
          "2006-07-01T00:00:00",
          "2006-08-01T00:00:00",
          "2006-09-01T00:00:00",
          "2006-10-01T00:00:00",
          "2006-11-01T00:00:00",
          "2006-12-01T00:00:00",
          "2007-01-01T00:00:00",
          "2007-02-01T00:00:00",
          "2007-03-01T00:00:00",
          "2007-04-01T00:00:00",
          "2007-05-01T00:00:00",
          "2007-06-01T00:00:00",
          "2007-07-01T00:00:00",
          "2007-08-01T00:00:00",
          "2007-09-01T00:00:00",
          "2007-10-01T00:00:00",
          "2007-11-01T00:00:00",
          "2007-12-01T00:00:00",
          "2008-01-01T00:00:00",
          "2008-02-01T00:00:00",
          "2008-03-01T00:00:00",
          "2008-04-01T00:00:00",
          "2008-05-01T00:00:00",
          "2008-06-01T00:00:00",
          "2008-07-01T00:00:00",
          "2008-08-01T00:00:00",
          "2008-09-01T00:00:00",
          "2008-10-01T00:00:00",
          "2008-11-01T00:00:00",
          "2008-12-01T00:00:00",
          "2009-01-01T00:00:00",
          "2009-02-01T00:00:00",
          "2009-03-01T00:00:00",
          "2009-04-01T00:00:00",
          "2009-05-01T00:00:00",
          "2009-06-01T00:00:00",
          "2009-07-01T00:00:00",
          "2009-08-01T00:00:00",
          "2009-09-01T00:00:00",
          "2009-10-01T00:00:00",
          "2009-11-01T00:00:00",
          "2009-12-01T00:00:00",
          "2010-01-01T00:00:00",
          "2010-02-01T00:00:00",
          "2010-03-01T00:00:00",
          "2010-04-01T00:00:00",
          "2010-05-01T00:00:00",
          "2010-06-01T00:00:00",
          "2010-07-01T00:00:00",
          "2010-08-01T00:00:00",
          "2010-09-01T00:00:00",
          "2010-10-01T00:00:00",
          "2010-11-01T00:00:00",
          "2010-12-01T00:00:00",
          "2011-01-01T00:00:00",
          "2011-02-01T00:00:00",
          "2011-03-01T00:00:00",
          "2011-04-01T00:00:00",
          "2011-05-01T00:00:00",
          "2011-06-01T00:00:00",
          "2011-07-01T00:00:00",
          "2011-08-01T00:00:00",
          "2011-09-01T00:00:00",
          "2011-10-01T00:00:00",
          "2011-11-01T00:00:00",
          "2011-12-01T00:00:00",
          "2012-01-01T00:00:00",
          "2012-02-01T00:00:00",
          "2012-03-01T00:00:00",
          "2012-04-01T00:00:00",
          "2012-05-01T00:00:00",
          "2012-06-01T00:00:00",
          "2012-07-01T00:00:00",
          "2012-08-01T00:00:00",
          "2012-09-01T00:00:00",
          "2012-10-01T00:00:00",
          "2012-11-01T00:00:00",
          "2012-12-01T00:00:00",
          "2013-01-01T00:00:00",
          "2013-02-01T00:00:00",
          "2013-03-01T00:00:00",
          "2013-04-01T00:00:00",
          "2013-05-01T00:00:00",
          "2013-06-01T00:00:00",
          "2013-07-01T00:00:00",
          "2013-08-01T00:00:00",
          "2013-09-01T00:00:00",
          "2013-10-01T00:00:00",
          "2013-11-01T00:00:00",
          "2013-12-01T00:00:00",
          "2014-01-01T00:00:00",
          "2014-02-01T00:00:00",
          "2014-03-01T00:00:00",
          "2014-04-01T00:00:00",
          "2014-05-01T00:00:00",
          "2014-06-01T00:00:00",
          "2014-07-01T00:00:00",
          "2014-08-01T00:00:00",
          "2014-09-01T00:00:00",
          "2014-10-01T00:00:00",
          "2014-11-01T00:00:00",
          "2014-12-01T00:00:00",
          "2015-01-01T00:00:00",
          "2015-02-01T00:00:00",
          "2015-03-01T00:00:00",
          "2015-04-01T00:00:00",
          "2015-05-01T00:00:00",
          "2015-06-01T00:00:00",
          "2015-07-01T00:00:00",
          "2015-08-01T00:00:00",
          "2015-09-01T00:00:00",
          "2015-10-01T00:00:00",
          "2015-11-01T00:00:00",
          "2015-12-01T00:00:00",
          "2016-01-01T00:00:00",
          "2016-02-01T00:00:00",
          "2016-03-01T00:00:00",
          "2016-04-01T00:00:00",
          "2016-05-01T00:00:00",
          "2016-06-01T00:00:00",
          "2016-07-01T00:00:00",
          "2016-08-01T00:00:00",
          "2016-09-01T00:00:00",
          "2016-10-01T00:00:00",
          "2016-11-01T00:00:00",
          "2016-12-01T00:00:00",
          "2017-01-01T00:00:00",
          "2017-02-01T00:00:00",
          "2017-03-01T00:00:00",
          "2017-04-01T00:00:00",
          "2017-05-01T00:00:00",
          "2017-06-01T00:00:00",
          "2017-07-01T00:00:00",
          "2017-08-01T00:00:00",
          "2017-09-01T00:00:00",
          "2017-10-01T00:00:00",
          "2017-11-01T00:00:00",
          "2017-12-01T00:00:00",
          "2018-01-01T00:00:00",
          "2018-02-01T00:00:00",
          "2018-03-01T00:00:00",
          "2018-04-01T00:00:00",
          "2018-05-01T00:00:00",
          "2018-06-01T00:00:00",
          "2018-07-01T00:00:00",
          "2018-08-01T00:00:00",
          "2018-09-01T00:00:00",
          "2018-10-01T00:00:00",
          "2018-11-01T00:00:00",
          "2018-12-01T00:00:00",
          "2019-01-01T00:00:00",
          "2019-02-01T00:00:00",
          "2019-03-01T00:00:00",
          "2019-04-01T00:00:00",
          "2019-05-01T00:00:00",
          "2019-06-01T00:00:00",
          "2019-07-01T00:00:00",
          "2019-08-01T00:00:00",
          "2019-09-01T00:00:00",
          "2019-10-01T00:00:00",
          "2019-11-01T00:00:00",
          "2019-12-01T00:00:00",
          "2020-01-01T00:00:00",
          "2020-02-01T00:00:00",
          "2020-03-01T00:00:00",
          "2020-04-01T00:00:00",
          "2020-05-01T00:00:00",
          "2020-06-01T00:00:00",
          "2020-07-01T00:00:00",
          "2020-08-01T00:00:00",
          "2020-09-01T00:00:00",
          "2020-10-01T00:00:00",
          "2020-11-01T00:00:00",
          "2020-12-01T00:00:00",
          "2021-01-01T00:00:00",
          "2021-02-01T00:00:00",
          "2021-03-01T00:00:00",
          "2021-04-01T00:00:00",
          "2021-05-01T00:00:00",
          "2021-06-01T00:00:00",
          "2021-07-01T00:00:00",
          "2021-08-01T00:00:00",
          "2021-09-01T00:00:00",
          "2021-10-01T00:00:00",
          "2021-11-01T00:00:00",
          "2022-01-01T00:00:00",
          "2022-02-01T00:00:00",
          "2022-03-01T00:00:00",
          "2022-04-01T00:00:00",
          "2022-05-01T00:00:00",
          "2022-06-01T00:00:00",
          "2022-07-01T00:00:00",
          "2022-08-01T00:00:00",
          "2022-09-01T00:00:00",
          "2022-10-01T00:00:00",
          "2022-11-01T00:00:00",
          "2023-01-01T00:00:00",
          "2023-02-01T00:00:00",
          "2023-03-01T00:00:00",
          "2023-04-01T00:00:00",
          "2023-05-01T00:00:00",
          "2023-06-01T00:00:00",
          "2023-07-01T00:00:00",
          "2023-08-01T00:00:00",
          "2023-09-01T00:00:00",
          "2023-10-01T00:00:00",
          "2023-11-01T00:00:00",
          "2024-01-01T00:00:00",
          "2024-02-01T00:00:00",
          "2024-03-01T00:00:00",
          "2024-04-01T00:00:00",
          "2024-05-01T00:00:00",
          "2024-06-01T00:00:00",
          "2024-07-01T00:00:00",
          "2024-08-01T00:00:00",
          "2024-09-01T00:00:00",
          "2024-10-01T00:00:00",
          "2024-11-01T00:00:00",
          "2025-01-01T00:00:00",
          "2025-02-01T00:00:00",
          "2025-03-01T00:00:00",
          "2025-04-01T00:00:00",
          "2025-05-01T00:00:00",
          "2025-06-01T00:00:00",
          "2025-07-01T00:00:00",
          "2025-08-01T00:00:00",
          "2025-09-01T00:00:00",
          "2025-10-01T00:00:00",
          "2025-11-01T00:00:00",
          "2026-01-01T00:00:00",
          "2026-02-01T00:00:00",
          "2026-03-01T00:00:00",
          "2026-04-01T00:00:00",
          "2026-05-01T00:00:00",
          "2026-06-01T00:00:00",
          "2026-07-01T00:00:00",
          "2026-08-01T00:00:00",
          "2026-09-01T00:00:00",
          "2026-10-01T00:00:00",
          "2026-11-01T00:00:00",
          "2027-01-01T00:00:00",
          "2027-02-01T00:00:00",
          "2027-03-01T00:00:00",
          "2027-04-01T00:00:00",
          "2027-05-01T00:00:00",
          "2027-06-01T00:00:00",
          "2027-07-01T00:00:00",
          "2027-08-01T00:00:00",
          "2027-09-01T00:00:00",
          "2027-10-01T00:00:00",
          "2027-11-01T00:00:00",
          "2028-01-01T00:00:00",
          "2028-02-01T00:00:00",
          "2028-03-01T00:00:00",
          "2028-04-01T00:00:00",
          "2028-05-01T00:00:00",
          "2028-06-01T00:00:00",
          "2028-07-01T00:00:00",
          "2028-08-01T00:00:00",
          "2028-09-01T00:00:00",
          "2028-10-01T00:00:00",
          "2028-11-01T00:00:00",
          "2029-01-01T00:00:00",
          "2029-02-01T00:00:00",
          "2029-03-01T00:00:00",
          "2029-04-01T00:00:00",
          "2029-05-01T00:00:00",
          "2029-06-01T00:00:00",
          "2029-07-01T00:00:00",
          "2029-08-01T00:00:00",
          "2029-09-01T00:00:00",
          "2029-10-01T00:00:00",
          "2029-11-01T00:00:00",
          "2030-01-01T00:00:00",
          "2030-02-01T00:00:00",
          "2030-03-01T00:00:00",
          "2030-04-01T00:00:00",
          "2030-05-01T00:00:00",
          "2030-06-01T00:00:00",
          "2030-07-01T00:00:00",
          "2030-08-01T00:00:00",
          "2030-09-01T00:00:00",
          "2030-10-01T00:00:00",
          "2030-11-01T00:00:00",
          "2031-01-01T00:00:00",
          "2031-02-01T00:00:00",
          "2031-03-01T00:00:00",
          "2031-04-01T00:00:00",
          "2031-05-01T00:00:00",
          "2031-06-01T00:00:00",
          "2031-07-01T00:00:00",
          "2031-08-01T00:00:00",
          "2031-09-01T00:00:00",
          "2031-10-01T00:00:00",
          "2031-11-01T00:00:00",
          "2032-01-01T00:00:00",
          "2032-02-01T00:00:00",
          "2032-03-01T00:00:00",
          "2032-04-01T00:00:00",
          "2032-05-01T00:00:00",
          "2032-06-01T00:00:00",
          "2032-07-01T00:00:00",
          "2032-08-01T00:00:00",
          "2032-09-01T00:00:00",
          "2032-10-01T00:00:00",
          "2032-11-01T00:00:00",
          "2033-01-01T00:00:00",
          "2033-02-01T00:00:00",
          "2033-03-01T00:00:00",
          "2033-04-01T00:00:00",
          "2033-05-01T00:00:00",
          "2033-06-01T00:00:00",
          "2033-07-01T00:00:00",
          "2033-08-01T00:00:00",
          "2033-09-01T00:00:00",
          "2033-10-01T00:00:00",
          "2033-11-01T00:00:00",
          "2034-01-01T00:00:00",
          "2034-02-01T00:00:00",
          "2034-03-01T00:00:00",
          "2034-04-01T00:00:00",
          "2034-05-01T00:00:00",
          "2034-06-01T00:00:00",
          "2034-07-01T00:00:00",
          "2034-08-01T00:00:00",
          "2034-09-01T00:00:00",
          "2034-10-01T00:00:00",
          "2034-11-01T00:00:00",
          "2035-01-01T00:00:00",
          "2035-02-01T00:00:00",
          "2035-03-01T00:00:00"
         ],
         "xaxis": "x",
         "y": [
          0.538037542377502,
          0.5379891622661441,
          0.5379374455953824,
          0.5378873972043225,
          0.5378356805335607,
          0.5377856321425009,
          0.5377339154717391,
          0.5376821988009772,
          0.5376321504099174,
          0.5375804337391556,
          0.5375303853480958,
          0.537478668677334,
          0.5374269520065722,
          0.5373802401749164,
          0.5373285235041546,
          0.5372784751130948,
          0.5372267584423329,
          0.5371767100512731,
          0.5371249933805113,
          0.5370732767097495,
          0.5370232283186896,
          0.5369715116479279,
          0.5369214632568681,
          0.5368697465861062,
          0.5368180299153444,
          0.5367713180836886,
          0.5367196014129268,
          0.536669553021867,
          0.5366178363511052,
          0.5365677879600453,
          0.5365160712892836,
          0.5364643546185217,
          0.5364143062274619,
          0.5363625895567001,
          0.5363125411656403,
          0.5362608244948784,
          0.5362091078241167,
          0.5361623959924608,
          0.536110679321699,
          0.5360606309306393,
          0.5360089142598774,
          0.5359588658688176,
          0.5359071491980558,
          0.535855432527294,
          0.5358053841362341,
          0.5357536674654724,
          0.5357036190744126,
          0.5356519024036507,
          0.5356001857328889,
          0.535551805621531,
          0.5355000889507693,
          0.5354500405597095,
          0.5353983238889477,
          0.5353482754978879,
          0.535296558827126,
          0.5352448421563643,
          0.5351947937653044,
          0.5351430770945426,
          0.5350930287034827,
          0.535041312032721,
          0.5349895953619591,
          0.5349428835303033,
          0.5348911668595415,
          0.5348411184684817,
          0.5347894017977198,
          0.5347393534066601,
          0.5346876367358983,
          0.5346359200651365,
          0.5345858716740767,
          0.5345341550033148,
          0.534484106612255,
          0.5344323899414932,
          0.5343806732707314,
          0.5343339614390755,
          0.5342822447683138,
          0.5342321963772539,
          0.5341804797064921,
          0.5341304313154323,
          0.5340787146446705,
          0.5340269979739087,
          0.5339769495828489,
          0.533925232912087,
          0.5338751845210272,
          0.5338234678502655,
          0.5337717511795036,
          0.5337250393478478,
          0.533673322677086,
          0.5336232742860262,
          0.5335715576152643,
          0.5335215092242045,
          0.5334697925534427,
          0.533418075882681,
          0.5333680274916212,
          0.5333163108208593,
          0.5332662624297995,
          0.5332145457590377,
          0.5331628290882758,
          0.5331144489769181,
          0.5330627323061562,
          0.5330126839150964,
          0.5329609672443346,
          0.5329109188532748,
          0.5328592021825129,
          0.5328074855117512,
          0.5327574371206913,
          0.5327057204499296,
          0.5326556720588698,
          0.5326039553881079,
          0.5325522387173461,
          0.5325055268856903,
          0.5324538102149284,
          0.5324037618238686,
          0.5323520451531069,
          0.532301996762047,
          0.5322502800912852,
          0.5321985634205234,
          0.5321485150294636,
          0.5320967983587018,
          0.532046749967642,
          0.5319950332968801,
          0.5319433166261184,
          0.5318966047944625,
          0.5318448881237007,
          0.5317948397326409,
          0.5317431230618791,
          0.5316930746708193,
          0.5316413580000574,
          0.5315896413292956,
          0.5315395929382358,
          0.531487876267474,
          0.5314378278764142,
          0.5313861112056524,
          0.5313343945348906,
          0.5312876827032348,
          0.5312359660324729,
          0.5311859176414131,
          0.5311342009706513,
          0.5310841525795915,
          0.5310324359088296,
          0.5309807192380679,
          0.5309306708470081,
          0.5308789541762462,
          0.5308289057851865,
          0.5307771891144246,
          0.5307254724436629,
          0.530677092332305,
          0.5306253756615432,
          0.5305753272704834,
          0.5305236105997215,
          0.5304735622086617,
          0.5304218455379,
          0.5303701288671381,
          0.5303200804760783,
          0.5302683638053165,
          0.5302183154142567,
          0.5301665987434949,
          0.530114882072733,
          0.5300681702410772,
          0.5300164535703155,
          0.5299664051792556,
          0.5299146885084938,
          0.529864640117434,
          0.5298129234466722,
          0.5297612067759103,
          0.5297111583848505,
          0.5296594417140887,
          0.5296093933230289,
          0.529557676652267,
          0.5295059599815053,
          0.5294592481498495,
          0.5294075314790877,
          0.5293574830880279,
          0.529305766417266,
          0.5292557180262062,
          0.5292040013554444,
          0.5291522846846826,
          0.5291022362936227,
          0.529050519622861,
          0.5290004712318012,
          0.5289487545610393,
          0.5288970378902775,
          0.5288503260586217,
          0.5287986093878599,
          0.5287485609968001,
          0.5286968443260383,
          0.5286467959349784,
          0.5285950792642167,
          0.5285433625934548,
          0.528493314202395,
          0.5284415975316332,
          0.5283915491405734,
          0.5283398324698115,
          0.5282881157990498,
          0.5282397356876919,
          0.5281880190169301,
          0.5281379706258703,
          0.5280862539551086,
          0.5280362055640487,
          0.5279844888932869,
          0.5279327722225251,
          0.5278827238314653,
          0.5278310071607034,
          0.5277809587696436,
          0.5277292420988818,
          0.52767752542812,
          0.5276308135964641,
          0.5275790969257024,
          0.5275290485346426,
          0.5274773318638808,
          0.527427283472821,
          0.5273755668020591,
          0.5273238501312973,
          0.5272738017402375,
          0.5272220850694757,
          0.5271720366784158,
          0.5271203200076541,
          0.5270686033368922,
          0.5270218915052364,
          0.5269701748344746,
          0.5269201264434148,
          0.526868409772653,
          0.5268183613815932,
          0.5267666447108313,
          0.5267149280400696,
          0.5266648796490098,
          0.5266131629782479,
          0.5265631145871881,
          0.5265113979164263,
          0.5264596812456644,
          0.5264129694140086,
          0.5263612527432469,
          0.526311204352187,
          0.5262594876814252,
          0.5262094392903653,
          0.5261577226196036,
          0.5261060059488418,
          0.526055957557782,
          0.5260042408870201,
          0.5259541924959603,
          0.5259024758251986,
          0.5258507591544367,
          0.5258023790430789,
          0.525750662372317,
          0.5257006139812572,
          0.5256488973104955,
          0.5255988489194356,
          0.5255471322486738,
          0.525495415577912,
          0.5254453671868522,
          0.5253936505160904,
          0.5253436021250306,
          0.5252918854542687,
          0.525240168783507,
          0.5251934569518512,
          0.5251417402810893,
          0.5250916918900295,
          0.5250399752192677,
          0.5249899268282079,
          0.524938210157446,
          0.5248864934866843,
          0.5248364450956244,
          0.5247847284248627,
          0.5247346800338029,
          0.524682963363041,
          0.5246312466922792,
          0.5245845348606234,
          0.5245328181898615,
          0.5244827697988017,
          0.52443105312804,
          0.5243810047369801,
          0.5243292880662183,
          0.5242775713954565,
          0.5242275230043967,
          0.5241758063336349,
          0.5241257579425751,
          0.5240740412718132,
          0.5240223246010515,
          0.5239756127693956,
          0.5239238960986338,
          0.523873847707574,
          0.5238221310368122,
          0.5237720826457524,
          0.5237203659749905,
          0.5236686493042287,
          0.5236186009131689,
          0.5235668842424072,
          0.5235168358513473,
          0.5234651191805855,
          0.5234134025098237,
          0.5233650223984658,
          0.5233133057277041,
          0.5232632573366442,
          0.5232115406658824,
          0.5231614922748226,
          0.5231097756040608,
          0.5230580589332989,
          0.5230080105422391,
          0.5229562938714774,
          0.5229062454804175,
          0.5228545288096558,
          0.5228028121388939,
          0.5227561003072381,
          0.5227043836364763,
          0.5226543352454165,
          0.5226026185746546,
          0.5225525701835948,
          0.522500853512833,
          0.5224491368420712,
          0.5223990884510114,
          0.5223473717802496,
          0.5222973233891898,
          0.522245606718428,
          0.5221938900476661,
          0.5221471782160103,
          0.5220954615452486,
          0.5220454131541887,
          0.5219936964834269,
          0.521943648092367,
          0.5218919314216053,
          0.5218402147508434,
          0.5217901663597836,
          0.5217384496890218,
          0.521688401297962,
          0.5216366846272003,
          0.5215849679564384,
          0.5215382561247826,
          0.5214865394540208,
          0.521436491062961,
          0.5213847743921991,
          0.5213347260011393,
          0.5212830093303775,
          0.5212312926596157,
          0.5211812442685558,
          0.5211295275977941,
          0.5210794792067343,
          0.5210277625359724,
          0.5209760458652106,
          0.5209276657538529,
          0.520875949083091,
          0.5208259006920312,
          0.5207741840212694,
          0.5207241356302096,
          0.5206724189594477,
          0.520620702288686,
          0.5205706538976261,
          0.5205189372268643,
          0.5204688888358044,
          0.5204171721650427,
          0.5203654554942808,
          0.5203187436626251,
          0.5202670269918632,
          0.5202169786008034,
          0.5201652619300416,
          0.5201152135389818,
          0.52006349686822,
          0.5200117801974582,
          0.5199617318063984,
          0.5199100151356365,
          0.5198599667445767,
          0.5198082500738149,
          0.5197565334030531,
          0.5197098215713972,
          0.5196581049006355,
          0.5196080565095756,
          0.5195563398388139,
          0.5195062914477541,
          0.5194545747769922,
          0.5194028581062304,
          0.5193528097151706,
          0.5193010930444087,
          0.5192510446533489,
          0.5191993279825872,
          0.5191476113118253,
          0.5191008994801695,
          0.5190491828094077,
          0.5189991344183479,
          0.5189474177475861,
          0.5188973693565263,
          0.5188456526857644,
          0.5187939360150027,
          0.5187438876239429,
          0.518692170953181,
          0.5186421225621212,
          0.5185904058913594,
          0.5185386892205975,
          0.5184903091092398,
          0.5184385924384779,
          0.5183885440474181,
          0.5183368273766563,
          0.5182867789855965,
          0.5182350623148347,
          0.5181833456440729,
          0.518133297253013,
          0.5180815805822513,
          0.5180315321911915,
          0.5179798155204296,
          0.5179280988496678,
          0.517881387018012,
          0.5178296703472501,
          0.5177796219561903,
          0.5177279052854286,
          0.5176778568943687,
          0.517626140223607,
          0.5175744235528451,
          0.5175243751617853,
          0.5174726584910235,
          0.5174226100999637,
          0.5173708934292018,
          0.5173191767584401,
          0.5172724649267842,
          0.5172207482560224,
          0.5171706998649626,
          0.5171189831942008,
          0.517068934803141,
          0.5170172181323791,
          0.5169655014616173,
          0.5169154530705575,
          0.5168637363997958,
          0.516813688008736,
          0.5167619713379741,
          0.5167102546672123,
          0.5166635428355565,
          0.5166118261647946,
          0.5165617777737348,
          0.516510061102973,
          0.5164600127119132,
          0.5164082960411513,
          0.5163565793703896,
          0.5163065309793298,
          0.516254814308568,
          0.5162047659175082,
          0.5161530492467463,
          0.5161013325759846,
          0.5160529524646267,
          0.5160012357938649,
          0.5159511874028051,
          0.5158994707320432,
          0.5158494223409834,
          0.5157977056702217,
          0.5157459889994598,
          0.5156959406084001,
          0.5156442239376382,
          0.5155941755465784,
          0.5155424588758166,
          0.5154907422050548,
          0.5154440303733989,
          0.5153923137026372,
          0.5153422653115773,
          0.5152905486408155,
          0.5152405002497557,
          0.5151887835789939,
          0.515137066908232,
          0.5150870185171722,
          0.5150353018464104,
          0.5149335367845889,
          0.514881820113827,
          0.5148351082821712,
          0.5147833916114094,
          0.5147333432203496,
          0.5146816265495877,
          0.5146315781585279,
          0.5145798614877661,
          0.5145281448170043,
          0.5144780964259444,
          0.5144263797551827,
          0.5143246146933611,
          0.5142728980225992,
          0.5142261861909434,
          0.5141744695201816,
          0.5141244211291218,
          0.51407270445836,
          0.5140226560673001,
          0.5139709393965384,
          0.5139192227257765,
          0.5138691743347167,
          0.5138174576639549,
          0.5137156926021333,
          0.5136639759313715,
          0.5136155958200137,
          0.5135638791492518,
          0.513513830758192,
          0.5134621140874303,
          0.5134120656963704,
          0.5133603490256086,
          0.5133086323548468,
          0.513258583963787,
          0.5132068672930251,
          0.5131051022312035,
          0.5130533855604418,
          0.513006673728786,
          0.5129549570580241,
          0.5129049086669643,
          0.5128531919962025,
          0.5128031436051427,
          0.5127514269343808,
          0.512699710263619,
          0.5126496618725592,
          0.5125979452017974,
          0.5124961801399758,
          0.512444463469214,
          0.5123977516375582,
          0.5123460349667963,
          0.5122959865757365,
          0.5122442699049747,
          0.5121942215139149,
          0.512142504843153,
          0.5120907881723913,
          0.5120407397813315,
          0.5119890231105696,
          0.511887258048748,
          0.5118355413779861,
          0.5117888295463303,
          0.5117371128755686,
          0.5116870644845087,
          0.511635347813747,
          0.5115852994226872,
          0.5115335827519253,
          0.5114818660811635,
          0.5114318176901037,
          0.5113801010193418,
          0.5112783359575203,
          0.5112266192867584,
          0.5111782391754006,
          0.5111265225046389,
          0.5110764741135789,
          0.5110247574428172,
          0.5109747090517573,
          0.5109229923809956,
          0.5108712757102337,
          0.5108212273191739,
          0.5107695106484121,
          0.5106677455865904,
          0.5106160289158287,
          0.5105693170841729,
          0.510517600413411,
          0.5104675520223512,
          0.5104158353515894,
          0.5103657869605296,
          0.5103140702897678,
          0.510262353619006,
          0.5102123052279461,
          0.5101605885571844,
          0.5100588234953627,
          0.5100071068246009,
          0.5099603949929451,
          0.5099086783221832,
          0.5098586299311234,
          0.5098069132603616,
          0.5097568648693018,
          0.5097051481985401,
          0.5096534315277782,
          0.5096033831367184,
          0.5095516664659566,
          0.5094499014041349,
          0.5093981847333732,
          0.5093514729017173,
          0.5092997562309555,
          0.5092497078398956,
          0.5091979911691339,
          0.5091479427780741,
          0.5090962261073122,
          0.5090445094365504,
          0.5089944610454906,
          0.5089427443747289,
          0.5088409793129072,
          0.5087892626421454,
          0.5087408825307875,
          0.5086891658600258,
          0.508639117468966,
          0.5085874007982041,
          0.5085373524071443,
          0.5084856357363825,
          0.5084339190656206,
          0.5083838706745609,
          0.508332154003799,
          0.5082303889419775,
          0.5081786722712156,
          0.5081319604395598,
          0.508080243768798,
          0.5080301953777382,
          0.5079784787069763,
          0.5079284303159165,
          0.5078767136451547,
          0.5078249969743929,
          0.5077749485833332,
          0.5077232319125713,
          0.5076214668507497,
          0.5075697501799878,
          0.507523038348332,
          0.5074713216775703,
          0.5074212732865104,
          0.5073695566157486,
          0.5073195082246887,
          0.507267791553927,
          0.5072160748831651,
          0.5071660264921054,
          0.5071143098213435,
          0.507012544759522,
          0.5069608280887601,
          0.5069141162571043
         ],
         "yaxis": "y"
        }
       ],
       "layout": {
        "legend": {
         "tracegroupgap": 0
        },
        "margin": {
         "t": 60
        },
        "template": {
         "data": {
          "bar": [
           {
            "error_x": {
             "color": "#2a3f5f"
            },
            "error_y": {
             "color": "#2a3f5f"
            },
            "marker": {
             "line": {
              "color": "#E5ECF6",
              "width": 0.5
             },
             "pattern": {
              "fillmode": "overlay",
              "size": 10,
              "solidity": 0.2
             }
            },
            "type": "bar"
           }
          ],
          "barpolar": [
           {
            "marker": {
             "line": {
              "color": "#E5ECF6",
              "width": 0.5
             },
             "pattern": {
              "fillmode": "overlay",
              "size": 10,
              "solidity": 0.2
             }
            },
            "type": "barpolar"
           }
          ],
          "carpet": [
           {
            "aaxis": {
             "endlinecolor": "#2a3f5f",
             "gridcolor": "white",
             "linecolor": "white",
             "minorgridcolor": "white",
             "startlinecolor": "#2a3f5f"
            },
            "baxis": {
             "endlinecolor": "#2a3f5f",
             "gridcolor": "white",
             "linecolor": "white",
             "minorgridcolor": "white",
             "startlinecolor": "#2a3f5f"
            },
            "type": "carpet"
           }
          ],
          "choropleth": [
           {
            "colorbar": {
             "outlinewidth": 0,
             "ticks": ""
            },
            "type": "choropleth"
           }
          ],
          "contour": [
           {
            "colorbar": {
             "outlinewidth": 0,
             "ticks": ""
            },
            "colorscale": [
             [
              0,
              "#0d0887"
             ],
             [
              0.1111111111111111,
              "#46039f"
             ],
             [
              0.2222222222222222,
              "#7201a8"
             ],
             [
              0.3333333333333333,
              "#9c179e"
             ],
             [
              0.4444444444444444,
              "#bd3786"
             ],
             [
              0.5555555555555556,
              "#d8576b"
             ],
             [
              0.6666666666666666,
              "#ed7953"
             ],
             [
              0.7777777777777778,
              "#fb9f3a"
             ],
             [
              0.8888888888888888,
              "#fdca26"
             ],
             [
              1,
              "#f0f921"
             ]
            ],
            "type": "contour"
           }
          ],
          "contourcarpet": [
           {
            "colorbar": {
             "outlinewidth": 0,
             "ticks": ""
            },
            "type": "contourcarpet"
           }
          ],
          "heatmap": [
           {
            "colorbar": {
             "outlinewidth": 0,
             "ticks": ""
            },
            "colorscale": [
             [
              0,
              "#0d0887"
             ],
             [
              0.1111111111111111,
              "#46039f"
             ],
             [
              0.2222222222222222,
              "#7201a8"
             ],
             [
              0.3333333333333333,
              "#9c179e"
             ],
             [
              0.4444444444444444,
              "#bd3786"
             ],
             [
              0.5555555555555556,
              "#d8576b"
             ],
             [
              0.6666666666666666,
              "#ed7953"
             ],
             [
              0.7777777777777778,
              "#fb9f3a"
             ],
             [
              0.8888888888888888,
              "#fdca26"
             ],
             [
              1,
              "#f0f921"
             ]
            ],
            "type": "heatmap"
           }
          ],
          "heatmapgl": [
           {
            "colorbar": {
             "outlinewidth": 0,
             "ticks": ""
            },
            "colorscale": [
             [
              0,
              "#0d0887"
             ],
             [
              0.1111111111111111,
              "#46039f"
             ],
             [
              0.2222222222222222,
              "#7201a8"
             ],
             [
              0.3333333333333333,
              "#9c179e"
             ],
             [
              0.4444444444444444,
              "#bd3786"
             ],
             [
              0.5555555555555556,
              "#d8576b"
             ],
             [
              0.6666666666666666,
              "#ed7953"
             ],
             [
              0.7777777777777778,
              "#fb9f3a"
             ],
             [
              0.8888888888888888,
              "#fdca26"
             ],
             [
              1,
              "#f0f921"
             ]
            ],
            "type": "heatmapgl"
           }
          ],
          "histogram": [
           {
            "marker": {
             "pattern": {
              "fillmode": "overlay",
              "size": 10,
              "solidity": 0.2
             }
            },
            "type": "histogram"
           }
          ],
          "histogram2d": [
           {
            "colorbar": {
             "outlinewidth": 0,
             "ticks": ""
            },
            "colorscale": [
             [
              0,
              "#0d0887"
             ],
             [
              0.1111111111111111,
              "#46039f"
             ],
             [
              0.2222222222222222,
              "#7201a8"
             ],
             [
              0.3333333333333333,
              "#9c179e"
             ],
             [
              0.4444444444444444,
              "#bd3786"
             ],
             [
              0.5555555555555556,
              "#d8576b"
             ],
             [
              0.6666666666666666,
              "#ed7953"
             ],
             [
              0.7777777777777778,
              "#fb9f3a"
             ],
             [
              0.8888888888888888,
              "#fdca26"
             ],
             [
              1,
              "#f0f921"
             ]
            ],
            "type": "histogram2d"
           }
          ],
          "histogram2dcontour": [
           {
            "colorbar": {
             "outlinewidth": 0,
             "ticks": ""
            },
            "colorscale": [
             [
              0,
              "#0d0887"
             ],
             [
              0.1111111111111111,
              "#46039f"
             ],
             [
              0.2222222222222222,
              "#7201a8"
             ],
             [
              0.3333333333333333,
              "#9c179e"
             ],
             [
              0.4444444444444444,
              "#bd3786"
             ],
             [
              0.5555555555555556,
              "#d8576b"
             ],
             [
              0.6666666666666666,
              "#ed7953"
             ],
             [
              0.7777777777777778,
              "#fb9f3a"
             ],
             [
              0.8888888888888888,
              "#fdca26"
             ],
             [
              1,
              "#f0f921"
             ]
            ],
            "type": "histogram2dcontour"
           }
          ],
          "mesh3d": [
           {
            "colorbar": {
             "outlinewidth": 0,
             "ticks": ""
            },
            "type": "mesh3d"
           }
          ],
          "parcoords": [
           {
            "line": {
             "colorbar": {
              "outlinewidth": 0,
              "ticks": ""
             }
            },
            "type": "parcoords"
           }
          ],
          "pie": [
           {
            "automargin": true,
            "type": "pie"
           }
          ],
          "scatter": [
           {
            "marker": {
             "colorbar": {
              "outlinewidth": 0,
              "ticks": ""
             }
            },
            "type": "scatter"
           }
          ],
          "scatter3d": [
           {
            "line": {
             "colorbar": {
              "outlinewidth": 0,
              "ticks": ""
             }
            },
            "marker": {
             "colorbar": {
              "outlinewidth": 0,
              "ticks": ""
             }
            },
            "type": "scatter3d"
           }
          ],
          "scattercarpet": [
           {
            "marker": {
             "colorbar": {
              "outlinewidth": 0,
              "ticks": ""
             }
            },
            "type": "scattercarpet"
           }
          ],
          "scattergeo": [
           {
            "marker": {
             "colorbar": {
              "outlinewidth": 0,
              "ticks": ""
             }
            },
            "type": "scattergeo"
           }
          ],
          "scattergl": [
           {
            "marker": {
             "colorbar": {
              "outlinewidth": 0,
              "ticks": ""
             }
            },
            "type": "scattergl"
           }
          ],
          "scattermapbox": [
           {
            "marker": {
             "colorbar": {
              "outlinewidth": 0,
              "ticks": ""
             }
            },
            "type": "scattermapbox"
           }
          ],
          "scatterpolar": [
           {
            "marker": {
             "colorbar": {
              "outlinewidth": 0,
              "ticks": ""
             }
            },
            "type": "scatterpolar"
           }
          ],
          "scatterpolargl": [
           {
            "marker": {
             "colorbar": {
              "outlinewidth": 0,
              "ticks": ""
             }
            },
            "type": "scatterpolargl"
           }
          ],
          "scatterternary": [
           {
            "marker": {
             "colorbar": {
              "outlinewidth": 0,
              "ticks": ""
             }
            },
            "type": "scatterternary"
           }
          ],
          "surface": [
           {
            "colorbar": {
             "outlinewidth": 0,
             "ticks": ""
            },
            "colorscale": [
             [
              0,
              "#0d0887"
             ],
             [
              0.1111111111111111,
              "#46039f"
             ],
             [
              0.2222222222222222,
              "#7201a8"
             ],
             [
              0.3333333333333333,
              "#9c179e"
             ],
             [
              0.4444444444444444,
              "#bd3786"
             ],
             [
              0.5555555555555556,
              "#d8576b"
             ],
             [
              0.6666666666666666,
              "#ed7953"
             ],
             [
              0.7777777777777778,
              "#fb9f3a"
             ],
             [
              0.8888888888888888,
              "#fdca26"
             ],
             [
              1,
              "#f0f921"
             ]
            ],
            "type": "surface"
           }
          ],
          "table": [
           {
            "cells": {
             "fill": {
              "color": "#EBF0F8"
             },
             "line": {
              "color": "white"
             }
            },
            "header": {
             "fill": {
              "color": "#C8D4E3"
             },
             "line": {
              "color": "white"
             }
            },
            "type": "table"
           }
          ]
         },
         "layout": {
          "annotationdefaults": {
           "arrowcolor": "#2a3f5f",
           "arrowhead": 0,
           "arrowwidth": 1
          },
          "autotypenumbers": "strict",
          "coloraxis": {
           "colorbar": {
            "outlinewidth": 0,
            "ticks": ""
           }
          },
          "colorscale": {
           "diverging": [
            [
             0,
             "#8e0152"
            ],
            [
             0.1,
             "#c51b7d"
            ],
            [
             0.2,
             "#de77ae"
            ],
            [
             0.3,
             "#f1b6da"
            ],
            [
             0.4,
             "#fde0ef"
            ],
            [
             0.5,
             "#f7f7f7"
            ],
            [
             0.6,
             "#e6f5d0"
            ],
            [
             0.7,
             "#b8e186"
            ],
            [
             0.8,
             "#7fbc41"
            ],
            [
             0.9,
             "#4d9221"
            ],
            [
             1,
             "#276419"
            ]
           ],
           "sequential": [
            [
             0,
             "#0d0887"
            ],
            [
             0.1111111111111111,
             "#46039f"
            ],
            [
             0.2222222222222222,
             "#7201a8"
            ],
            [
             0.3333333333333333,
             "#9c179e"
            ],
            [
             0.4444444444444444,
             "#bd3786"
            ],
            [
             0.5555555555555556,
             "#d8576b"
            ],
            [
             0.6666666666666666,
             "#ed7953"
            ],
            [
             0.7777777777777778,
             "#fb9f3a"
            ],
            [
             0.8888888888888888,
             "#fdca26"
            ],
            [
             1,
             "#f0f921"
            ]
           ],
           "sequentialminus": [
            [
             0,
             "#0d0887"
            ],
            [
             0.1111111111111111,
             "#46039f"
            ],
            [
             0.2222222222222222,
             "#7201a8"
            ],
            [
             0.3333333333333333,
             "#9c179e"
            ],
            [
             0.4444444444444444,
             "#bd3786"
            ],
            [
             0.5555555555555556,
             "#d8576b"
            ],
            [
             0.6666666666666666,
             "#ed7953"
            ],
            [
             0.7777777777777778,
             "#fb9f3a"
            ],
            [
             0.8888888888888888,
             "#fdca26"
            ],
            [
             1,
             "#f0f921"
            ]
           ]
          },
          "colorway": [
           "#636efa",
           "#EF553B",
           "#00cc96",
           "#ab63fa",
           "#FFA15A",
           "#19d3f3",
           "#FF6692",
           "#B6E880",
           "#FF97FF",
           "#FECB52"
          ],
          "font": {
           "color": "#2a3f5f"
          },
          "geo": {
           "bgcolor": "white",
           "lakecolor": "white",
           "landcolor": "#E5ECF6",
           "showlakes": true,
           "showland": true,
           "subunitcolor": "white"
          },
          "hoverlabel": {
           "align": "left"
          },
          "hovermode": "closest",
          "mapbox": {
           "style": "light"
          },
          "paper_bgcolor": "white",
          "plot_bgcolor": "#E5ECF6",
          "polar": {
           "angularaxis": {
            "gridcolor": "white",
            "linecolor": "white",
            "ticks": ""
           },
           "bgcolor": "#E5ECF6",
           "radialaxis": {
            "gridcolor": "white",
            "linecolor": "white",
            "ticks": ""
           }
          },
          "scene": {
           "xaxis": {
            "backgroundcolor": "#E5ECF6",
            "gridcolor": "white",
            "gridwidth": 2,
            "linecolor": "white",
            "showbackground": true,
            "ticks": "",
            "zerolinecolor": "white"
           },
           "yaxis": {
            "backgroundcolor": "#E5ECF6",
            "gridcolor": "white",
            "gridwidth": 2,
            "linecolor": "white",
            "showbackground": true,
            "ticks": "",
            "zerolinecolor": "white"
           },
           "zaxis": {
            "backgroundcolor": "#E5ECF6",
            "gridcolor": "white",
            "gridwidth": 2,
            "linecolor": "white",
            "showbackground": true,
            "ticks": "",
            "zerolinecolor": "white"
           }
          },
          "shapedefaults": {
           "line": {
            "color": "#2a3f5f"
           }
          },
          "ternary": {
           "aaxis": {
            "gridcolor": "white",
            "linecolor": "white",
            "ticks": ""
           },
           "baxis": {
            "gridcolor": "white",
            "linecolor": "white",
            "ticks": ""
           },
           "bgcolor": "#E5ECF6",
           "caxis": {
            "gridcolor": "white",
            "linecolor": "white",
            "ticks": ""
           }
          },
          "title": {
           "x": 0.05
          },
          "xaxis": {
           "automargin": true,
           "gridcolor": "white",
           "linecolor": "white",
           "ticks": "",
           "title": {
            "standoff": 15
           },
           "zerolinecolor": "white",
           "zerolinewidth": 2
          },
          "yaxis": {
           "automargin": true,
           "gridcolor": "white",
           "linecolor": "white",
           "ticks": "",
           "title": {
            "standoff": 15
           },
           "zerolinecolor": "white",
           "zerolinewidth": 2
          }
         }
        },
        "xaxis": {
         "anchor": "y",
         "domain": [
          0,
          1
         ],
         "title": {
          "text": "Year"
         }
        },
        "yaxis": {
         "anchor": "x",
         "domain": [
          0,
          1
         ],
         "title": {
          "text": "Solar Ratio"
         }
        }
       }
      },
      "text/html": [
       "<div>                            <div id=\"6a9c7d96-4df9-447a-b153-eb05c7d79bd9\" class=\"plotly-graph-div\" style=\"height:525px; width:100%;\"></div>            <script type=\"text/javascript\">                require([\"plotly\"], function(Plotly) {                    window.PLOTLYENV=window.PLOTLYENV || {};                                    if (document.getElementById(\"6a9c7d96-4df9-447a-b153-eb05c7d79bd9\")) {                    Plotly.newPlot(                        \"6a9c7d96-4df9-447a-b153-eb05c7d79bd9\",                        [{\"hovertemplate\":\"Year=%{x}<br>Solar Ratio=%{y}<extra></extra>\",\"legendgroup\":\"\",\"marker\":{\"color\":\"#636efa\",\"symbol\":\"circle\"},\"mode\":\"markers\",\"name\":\"\",\"orientation\":\"v\",\"showlegend\":false,\"x\":[\"1984-02-01T00:00:00\",\"1984-03-01T00:00:00\",\"1984-04-01T00:00:00\",\"1984-05-01T00:00:00\",\"1984-06-01T00:00:00\",\"1984-07-01T00:00:00\",\"1984-08-01T00:00:00\",\"1984-09-01T00:00:00\",\"1984-10-01T00:00:00\",\"1984-11-01T00:00:00\",\"1984-12-01T00:00:00\",\"1985-01-01T00:00:00\",\"1985-02-01T00:00:00\",\"1985-03-01T00:00:00\",\"1985-04-01T00:00:00\",\"1985-05-01T00:00:00\",\"1985-06-01T00:00:00\",\"1985-07-01T00:00:00\",\"1985-08-01T00:00:00\",\"1985-09-01T00:00:00\",\"1985-10-01T00:00:00\",\"1985-11-01T00:00:00\",\"1985-12-01T00:00:00\",\"1986-01-01T00:00:00\",\"1986-02-01T00:00:00\",\"1986-03-01T00:00:00\",\"1986-04-01T00:00:00\",\"1986-05-01T00:00:00\",\"1986-06-01T00:00:00\",\"1986-07-01T00:00:00\",\"1986-08-01T00:00:00\",\"1986-09-01T00:00:00\",\"1986-10-01T00:00:00\",\"1986-11-01T00:00:00\",\"1986-12-01T00:00:00\",\"1987-01-01T00:00:00\",\"1987-02-01T00:00:00\",\"1987-03-01T00:00:00\",\"1987-04-01T00:00:00\",\"1987-05-01T00:00:00\",\"1987-06-01T00:00:00\",\"1987-07-01T00:00:00\",\"1987-08-01T00:00:00\",\"1987-09-01T00:00:00\",\"1987-10-01T00:00:00\",\"1987-11-01T00:00:00\",\"1987-12-01T00:00:00\",\"1988-01-01T00:00:00\",\"1988-02-01T00:00:00\",\"1988-03-01T00:00:00\",\"1988-04-01T00:00:00\",\"1988-05-01T00:00:00\",\"1988-06-01T00:00:00\",\"1988-07-01T00:00:00\",\"1988-08-01T00:00:00\",\"1988-09-01T00:00:00\",\"1988-10-01T00:00:00\",\"1988-11-01T00:00:00\",\"1988-12-01T00:00:00\",\"1989-01-01T00:00:00\",\"1989-02-01T00:00:00\",\"1989-03-01T00:00:00\",\"1989-04-01T00:00:00\",\"1989-05-01T00:00:00\",\"1989-06-01T00:00:00\",\"1989-07-01T00:00:00\",\"1989-08-01T00:00:00\",\"1989-09-01T00:00:00\",\"1989-10-01T00:00:00\",\"1989-11-01T00:00:00\",\"1989-12-01T00:00:00\",\"1990-01-01T00:00:00\",\"1990-02-01T00:00:00\",\"1990-03-01T00:00:00\",\"1990-04-01T00:00:00\",\"1990-05-01T00:00:00\",\"1990-06-01T00:00:00\",\"1990-07-01T00:00:00\",\"1990-08-01T00:00:00\",\"1990-09-01T00:00:00\",\"1990-10-01T00:00:00\",\"1990-11-01T00:00:00\",\"1990-12-01T00:00:00\",\"1991-01-01T00:00:00\",\"1991-02-01T00:00:00\",\"1991-03-01T00:00:00\",\"1991-04-01T00:00:00\",\"1991-05-01T00:00:00\",\"1991-06-01T00:00:00\",\"1991-07-01T00:00:00\",\"1991-08-01T00:00:00\",\"1991-09-01T00:00:00\",\"1991-10-01T00:00:00\",\"1991-11-01T00:00:00\",\"1991-12-01T00:00:00\",\"1992-01-01T00:00:00\",\"1992-02-01T00:00:00\",\"1992-03-01T00:00:00\",\"1992-04-01T00:00:00\",\"1992-05-01T00:00:00\",\"1992-06-01T00:00:00\",\"1992-07-01T00:00:00\",\"1992-08-01T00:00:00\",\"1992-09-01T00:00:00\",\"1992-10-01T00:00:00\",\"1992-11-01T00:00:00\",\"1992-12-01T00:00:00\",\"1993-01-01T00:00:00\",\"1993-02-01T00:00:00\",\"1993-03-01T00:00:00\",\"1993-04-01T00:00:00\",\"1993-05-01T00:00:00\",\"1993-06-01T00:00:00\",\"1993-07-01T00:00:00\",\"1993-08-01T00:00:00\",\"1993-09-01T00:00:00\",\"1993-10-01T00:00:00\",\"1993-11-01T00:00:00\",\"1993-12-01T00:00:00\",\"1994-01-01T00:00:00\",\"1994-02-01T00:00:00\",\"1994-03-01T00:00:00\",\"1994-04-01T00:00:00\",\"1994-05-01T00:00:00\",\"1994-06-01T00:00:00\",\"1994-07-01T00:00:00\",\"1994-08-01T00:00:00\",\"1994-09-01T00:00:00\",\"1994-10-01T00:00:00\",\"1994-11-01T00:00:00\",\"1994-12-01T00:00:00\",\"1995-01-01T00:00:00\",\"1995-02-01T00:00:00\",\"1995-03-01T00:00:00\",\"1995-04-01T00:00:00\",\"1995-05-01T00:00:00\",\"1995-06-01T00:00:00\",\"1995-07-01T00:00:00\",\"1995-08-01T00:00:00\",\"1995-09-01T00:00:00\",\"1995-10-01T00:00:00\",\"1995-11-01T00:00:00\",\"1995-12-01T00:00:00\",\"1996-01-01T00:00:00\",\"1996-02-01T00:00:00\",\"1996-03-01T00:00:00\",\"1996-04-01T00:00:00\",\"1996-05-01T00:00:00\",\"1996-06-01T00:00:00\",\"1996-07-01T00:00:00\",\"1996-08-01T00:00:00\",\"1996-09-01T00:00:00\",\"1996-10-01T00:00:00\",\"1996-11-01T00:00:00\",\"1996-12-01T00:00:00\",\"1997-01-01T00:00:00\",\"1997-02-01T00:00:00\",\"1997-03-01T00:00:00\",\"1997-04-01T00:00:00\",\"1997-05-01T00:00:00\",\"1997-06-01T00:00:00\",\"1997-07-01T00:00:00\",\"1997-08-01T00:00:00\",\"1997-09-01T00:00:00\",\"1997-10-01T00:00:00\",\"1997-11-01T00:00:00\",\"1997-12-01T00:00:00\",\"1998-01-01T00:00:00\",\"1998-02-01T00:00:00\",\"1998-03-01T00:00:00\",\"1998-04-01T00:00:00\",\"1998-05-01T00:00:00\",\"1998-06-01T00:00:00\",\"1998-07-01T00:00:00\",\"1998-08-01T00:00:00\",\"1998-09-01T00:00:00\",\"1998-10-01T00:00:00\",\"1998-11-01T00:00:00\",\"1998-12-01T00:00:00\",\"1999-01-01T00:00:00\",\"1999-02-01T00:00:00\",\"1999-03-01T00:00:00\",\"1999-04-01T00:00:00\",\"1999-05-01T00:00:00\",\"1999-06-01T00:00:00\",\"1999-07-01T00:00:00\",\"1999-08-01T00:00:00\",\"1999-09-01T00:00:00\",\"1999-10-01T00:00:00\",\"1999-11-01T00:00:00\",\"1999-12-01T00:00:00\",\"2000-01-01T00:00:00\",\"2000-02-01T00:00:00\",\"2000-03-01T00:00:00\",\"2000-04-01T00:00:00\",\"2000-05-01T00:00:00\",\"2000-06-01T00:00:00\",\"2000-07-01T00:00:00\",\"2000-08-01T00:00:00\",\"2000-09-01T00:00:00\",\"2000-10-01T00:00:00\",\"2000-11-01T00:00:00\",\"2000-12-01T00:00:00\",\"2001-01-01T00:00:00\",\"2001-02-01T00:00:00\",\"2001-03-01T00:00:00\",\"2001-04-01T00:00:00\",\"2001-05-01T00:00:00\",\"2001-06-01T00:00:00\",\"2001-07-01T00:00:00\",\"2001-08-01T00:00:00\",\"2001-09-01T00:00:00\",\"2001-10-01T00:00:00\",\"2001-11-01T00:00:00\",\"2001-12-01T00:00:00\",\"2002-01-01T00:00:00\",\"2002-02-01T00:00:00\",\"2002-03-01T00:00:00\",\"2002-04-01T00:00:00\",\"2002-05-01T00:00:00\",\"2002-06-01T00:00:00\",\"2002-07-01T00:00:00\",\"2002-08-01T00:00:00\",\"2002-09-01T00:00:00\",\"2002-10-01T00:00:00\",\"2002-11-01T00:00:00\",\"2002-12-01T00:00:00\",\"2003-01-01T00:00:00\",\"2003-02-01T00:00:00\",\"2003-03-01T00:00:00\",\"2003-04-01T00:00:00\",\"2003-05-01T00:00:00\",\"2003-06-01T00:00:00\",\"2003-07-01T00:00:00\",\"2003-08-01T00:00:00\",\"2003-09-01T00:00:00\",\"2003-10-01T00:00:00\",\"2003-11-01T00:00:00\",\"2003-12-01T00:00:00\",\"2004-01-01T00:00:00\",\"2004-02-01T00:00:00\",\"2004-03-01T00:00:00\",\"2004-04-01T00:00:00\",\"2004-05-01T00:00:00\",\"2004-06-01T00:00:00\",\"2004-07-01T00:00:00\",\"2004-08-01T00:00:00\",\"2004-09-01T00:00:00\",\"2004-10-01T00:00:00\",\"2004-11-01T00:00:00\",\"2004-12-01T00:00:00\",\"2005-01-01T00:00:00\",\"2005-02-01T00:00:00\",\"2005-03-01T00:00:00\",\"2005-04-01T00:00:00\",\"2005-05-01T00:00:00\",\"2005-06-01T00:00:00\",\"2005-07-01T00:00:00\",\"2005-08-01T00:00:00\",\"2005-09-01T00:00:00\",\"2005-10-01T00:00:00\",\"2005-11-01T00:00:00\",\"2005-12-01T00:00:00\",\"2006-01-01T00:00:00\",\"2006-02-01T00:00:00\",\"2006-03-01T00:00:00\",\"2006-04-01T00:00:00\",\"2006-05-01T00:00:00\",\"2006-06-01T00:00:00\",\"2006-07-01T00:00:00\",\"2006-08-01T00:00:00\",\"2006-09-01T00:00:00\",\"2006-10-01T00:00:00\",\"2006-11-01T00:00:00\",\"2006-12-01T00:00:00\",\"2007-01-01T00:00:00\",\"2007-02-01T00:00:00\",\"2007-03-01T00:00:00\",\"2007-04-01T00:00:00\",\"2007-05-01T00:00:00\",\"2007-06-01T00:00:00\",\"2007-07-01T00:00:00\",\"2007-08-01T00:00:00\",\"2007-09-01T00:00:00\",\"2007-10-01T00:00:00\",\"2007-11-01T00:00:00\",\"2007-12-01T00:00:00\",\"2008-01-01T00:00:00\",\"2008-02-01T00:00:00\",\"2008-03-01T00:00:00\",\"2008-04-01T00:00:00\",\"2008-05-01T00:00:00\",\"2008-06-01T00:00:00\",\"2008-07-01T00:00:00\",\"2008-08-01T00:00:00\",\"2008-09-01T00:00:00\",\"2008-10-01T00:00:00\",\"2008-11-01T00:00:00\",\"2008-12-01T00:00:00\",\"2009-01-01T00:00:00\",\"2009-02-01T00:00:00\",\"2009-03-01T00:00:00\",\"2009-04-01T00:00:00\",\"2009-05-01T00:00:00\",\"2009-06-01T00:00:00\",\"2009-07-01T00:00:00\",\"2009-08-01T00:00:00\",\"2009-09-01T00:00:00\",\"2009-10-01T00:00:00\",\"2009-11-01T00:00:00\",\"2009-12-01T00:00:00\",\"2010-01-01T00:00:00\",\"2010-02-01T00:00:00\",\"2010-03-01T00:00:00\",\"2010-04-01T00:00:00\",\"2010-05-01T00:00:00\",\"2010-06-01T00:00:00\",\"2010-07-01T00:00:00\",\"2010-08-01T00:00:00\",\"2010-09-01T00:00:00\",\"2010-10-01T00:00:00\",\"2010-11-01T00:00:00\",\"2010-12-01T00:00:00\",\"2011-01-01T00:00:00\",\"2011-02-01T00:00:00\",\"2011-03-01T00:00:00\",\"2011-04-01T00:00:00\",\"2011-05-01T00:00:00\",\"2011-06-01T00:00:00\",\"2011-07-01T00:00:00\",\"2011-08-01T00:00:00\",\"2011-09-01T00:00:00\",\"2011-10-01T00:00:00\",\"2011-11-01T00:00:00\",\"2011-12-01T00:00:00\",\"2012-01-01T00:00:00\",\"2012-02-01T00:00:00\",\"2012-03-01T00:00:00\",\"2012-04-01T00:00:00\",\"2012-05-01T00:00:00\",\"2012-06-01T00:00:00\",\"2012-07-01T00:00:00\",\"2012-08-01T00:00:00\",\"2012-09-01T00:00:00\",\"2012-10-01T00:00:00\",\"2012-11-01T00:00:00\",\"2012-12-01T00:00:00\",\"2013-01-01T00:00:00\",\"2013-02-01T00:00:00\",\"2013-03-01T00:00:00\",\"2013-04-01T00:00:00\",\"2013-05-01T00:00:00\",\"2013-06-01T00:00:00\",\"2013-07-01T00:00:00\",\"2013-08-01T00:00:00\",\"2013-09-01T00:00:00\",\"2013-10-01T00:00:00\",\"2013-11-01T00:00:00\",\"2013-12-01T00:00:00\",\"2014-01-01T00:00:00\",\"2014-02-01T00:00:00\",\"2014-03-01T00:00:00\",\"2014-04-01T00:00:00\",\"2014-05-01T00:00:00\",\"2014-06-01T00:00:00\",\"2014-07-01T00:00:00\",\"2014-08-01T00:00:00\",\"2014-09-01T00:00:00\",\"2014-10-01T00:00:00\",\"2014-11-01T00:00:00\",\"2014-12-01T00:00:00\",\"2015-01-01T00:00:00\",\"2015-02-01T00:00:00\",\"2015-03-01T00:00:00\",\"2015-04-01T00:00:00\",\"2015-05-01T00:00:00\",\"2015-06-01T00:00:00\",\"2015-07-01T00:00:00\",\"2015-08-01T00:00:00\",\"2015-09-01T00:00:00\",\"2015-10-01T00:00:00\",\"2015-11-01T00:00:00\",\"2015-12-01T00:00:00\",\"2016-01-01T00:00:00\",\"2016-02-01T00:00:00\",\"2016-03-01T00:00:00\",\"2016-04-01T00:00:00\",\"2016-05-01T00:00:00\",\"2016-06-01T00:00:00\",\"2016-07-01T00:00:00\",\"2016-08-01T00:00:00\",\"2016-09-01T00:00:00\",\"2016-10-01T00:00:00\",\"2016-11-01T00:00:00\",\"2016-12-01T00:00:00\",\"2017-01-01T00:00:00\",\"2017-02-01T00:00:00\",\"2017-03-01T00:00:00\",\"2017-04-01T00:00:00\",\"2017-05-01T00:00:00\",\"2017-06-01T00:00:00\",\"2017-07-01T00:00:00\",\"2017-08-01T00:00:00\",\"2017-09-01T00:00:00\",\"2017-10-01T00:00:00\",\"2017-11-01T00:00:00\",\"2017-12-01T00:00:00\",\"2018-01-01T00:00:00\",\"2018-02-01T00:00:00\",\"2018-03-01T00:00:00\",\"2018-04-01T00:00:00\",\"2018-05-01T00:00:00\",\"2018-06-01T00:00:00\",\"2018-07-01T00:00:00\",\"2018-08-01T00:00:00\",\"2018-09-01T00:00:00\",\"2018-10-01T00:00:00\",\"2018-11-01T00:00:00\",\"2018-12-01T00:00:00\",\"2019-01-01T00:00:00\",\"2019-02-01T00:00:00\",\"2019-03-01T00:00:00\",\"2019-04-01T00:00:00\",\"2019-05-01T00:00:00\",\"2019-06-01T00:00:00\",\"2019-07-01T00:00:00\",\"2019-08-01T00:00:00\",\"2019-09-01T00:00:00\",\"2019-10-01T00:00:00\",\"2019-11-01T00:00:00\",\"2019-12-01T00:00:00\",\"2020-01-01T00:00:00\",\"2020-02-01T00:00:00\",\"2020-03-01T00:00:00\",\"2020-04-01T00:00:00\",\"2020-05-01T00:00:00\",\"2020-06-01T00:00:00\",\"2020-07-01T00:00:00\",\"2020-08-01T00:00:00\",\"2020-09-01T00:00:00\",\"2020-10-01T00:00:00\",\"2020-11-01T00:00:00\",\"2020-12-01T00:00:00\",\"2021-01-01T00:00:00\",\"2021-02-01T00:00:00\",\"2021-03-01T00:00:00\",\"2021-04-01T00:00:00\",\"2021-05-01T00:00:00\",\"2021-06-01T00:00:00\",\"2021-07-01T00:00:00\",\"2021-08-01T00:00:00\",\"2021-09-01T00:00:00\",\"2021-10-01T00:00:00\",\"2021-11-01T00:00:00\",\"2022-01-01T00:00:00\",\"2022-02-01T00:00:00\",\"2022-03-01T00:00:00\",\"2022-04-01T00:00:00\",\"2022-05-01T00:00:00\",\"2022-06-01T00:00:00\",\"2022-07-01T00:00:00\",\"2022-08-01T00:00:00\",\"2022-09-01T00:00:00\",\"2022-10-01T00:00:00\",\"2022-11-01T00:00:00\",\"2023-01-01T00:00:00\",\"2023-02-01T00:00:00\",\"2023-03-01T00:00:00\",\"2023-04-01T00:00:00\",\"2023-05-01T00:00:00\",\"2023-06-01T00:00:00\",\"2023-07-01T00:00:00\",\"2023-08-01T00:00:00\",\"2023-09-01T00:00:00\",\"2023-10-01T00:00:00\",\"2023-11-01T00:00:00\",\"2024-01-01T00:00:00\",\"2024-02-01T00:00:00\",\"2024-03-01T00:00:00\",\"2024-04-01T00:00:00\",\"2024-05-01T00:00:00\",\"2024-06-01T00:00:00\",\"2024-07-01T00:00:00\",\"2024-08-01T00:00:00\",\"2024-09-01T00:00:00\",\"2024-10-01T00:00:00\",\"2024-11-01T00:00:00\",\"2025-01-01T00:00:00\",\"2025-02-01T00:00:00\",\"2025-03-01T00:00:00\",\"2025-04-01T00:00:00\",\"2025-05-01T00:00:00\",\"2025-06-01T00:00:00\",\"2025-07-01T00:00:00\",\"2025-08-01T00:00:00\",\"2025-09-01T00:00:00\",\"2025-10-01T00:00:00\",\"2025-11-01T00:00:00\",\"2026-01-01T00:00:00\",\"2026-02-01T00:00:00\",\"2026-03-01T00:00:00\",\"2026-04-01T00:00:00\",\"2026-05-01T00:00:00\",\"2026-06-01T00:00:00\",\"2026-07-01T00:00:00\",\"2026-08-01T00:00:00\",\"2026-09-01T00:00:00\",\"2026-10-01T00:00:00\",\"2026-11-01T00:00:00\",\"2027-01-01T00:00:00\",\"2027-02-01T00:00:00\",\"2027-03-01T00:00:00\",\"2027-04-01T00:00:00\",\"2027-05-01T00:00:00\",\"2027-06-01T00:00:00\",\"2027-07-01T00:00:00\",\"2027-08-01T00:00:00\",\"2027-09-01T00:00:00\",\"2027-10-01T00:00:00\",\"2027-11-01T00:00:00\",\"2028-01-01T00:00:00\",\"2028-02-01T00:00:00\",\"2028-03-01T00:00:00\",\"2028-04-01T00:00:00\",\"2028-05-01T00:00:00\",\"2028-06-01T00:00:00\",\"2028-07-01T00:00:00\",\"2028-08-01T00:00:00\",\"2028-09-01T00:00:00\",\"2028-10-01T00:00:00\",\"2028-11-01T00:00:00\",\"2029-01-01T00:00:00\",\"2029-02-01T00:00:00\",\"2029-03-01T00:00:00\",\"2029-04-01T00:00:00\",\"2029-05-01T00:00:00\",\"2029-06-01T00:00:00\",\"2029-07-01T00:00:00\",\"2029-08-01T00:00:00\",\"2029-09-01T00:00:00\",\"2029-10-01T00:00:00\",\"2029-11-01T00:00:00\",\"2030-01-01T00:00:00\",\"2030-02-01T00:00:00\",\"2030-03-01T00:00:00\",\"2030-04-01T00:00:00\",\"2030-05-01T00:00:00\",\"2030-06-01T00:00:00\",\"2030-07-01T00:00:00\",\"2030-08-01T00:00:00\",\"2030-09-01T00:00:00\",\"2030-10-01T00:00:00\",\"2030-11-01T00:00:00\",\"2031-01-01T00:00:00\",\"2031-02-01T00:00:00\",\"2031-03-01T00:00:00\",\"2031-04-01T00:00:00\",\"2031-05-01T00:00:00\",\"2031-06-01T00:00:00\",\"2031-07-01T00:00:00\",\"2031-08-01T00:00:00\",\"2031-09-01T00:00:00\",\"2031-10-01T00:00:00\",\"2031-11-01T00:00:00\",\"2032-01-01T00:00:00\",\"2032-02-01T00:00:00\",\"2032-03-01T00:00:00\",\"2032-04-01T00:00:00\",\"2032-05-01T00:00:00\",\"2032-06-01T00:00:00\",\"2032-07-01T00:00:00\",\"2032-08-01T00:00:00\",\"2032-09-01T00:00:00\",\"2032-10-01T00:00:00\",\"2032-11-01T00:00:00\",\"2033-01-01T00:00:00\",\"2033-02-01T00:00:00\",\"2033-03-01T00:00:00\",\"2033-04-01T00:00:00\",\"2033-05-01T00:00:00\",\"2033-06-01T00:00:00\",\"2033-07-01T00:00:00\",\"2033-08-01T00:00:00\",\"2033-09-01T00:00:00\",\"2033-10-01T00:00:00\",\"2033-11-01T00:00:00\",\"2034-01-01T00:00:00\",\"2034-02-01T00:00:00\",\"2034-03-01T00:00:00\",\"2034-04-01T00:00:00\",\"2034-05-01T00:00:00\",\"2034-06-01T00:00:00\",\"2034-07-01T00:00:00\",\"2034-08-01T00:00:00\",\"2034-09-01T00:00:00\",\"2034-10-01T00:00:00\",\"2034-11-01T00:00:00\",\"2035-01-01T00:00:00\",\"2035-02-01T00:00:00\",\"2035-03-01T00:00:00\"],\"xaxis\":\"x\",\"y\":[0.4899999992061977,0.5100000002612657,0.5199999998604972,0.5300000000243063,0.5100000000563062,0.5399999998760381,0.6499999997033453,0.6000000002624057,0.5400000001388995,0.4899999999776191,0.4200000005458458,0.7549999997541201,0.600000001322633,0.5746525791520277,0.5894583626085821,0.5782099129018329,0.6118016552675074,0.7181701886768073,0.648334239139377,0.5384791351129022,0.4606888196606977,0.38832336124073863,0.5491370515872837,0.6198680910557116,0.4942722455775722,0.5030649892082484,0.5356280944430392,0.5519617003859892,0.5857152496704109,0.6895469126811626,0.5272451786398844,0.5057701188434514,0.4495380106590822,0.4980956584519741,0.5439428229709053,0.4788628203818368,0.5214879211853173,0.5938920999668608,0.582688667036566,0.5860415267929033,0.5979140173888604,0.6565887376092429,0.5714936706438722,0.4700063070817237,0.6098532605695537,0.5592512604736598,0.5363051327449238,0.520382185836567,0.5304181550656093,0.5989525097341986,0.6006542939864052,0.5212280337384837,0.54954280523515,0.5563435864428321,0.5637830475676728,0.5505434973694809,0.5456712446559535,0.43299753384667716,0.5159063772050219,0.5186751376416379,0.5108754052951182,0.5433080622609927,0.5287649146950987,0.5403017923655066,0.5707800671175048,0.6190536678119094,0.6399862191946851,0.5006663036550305,0.5762617687594642,0.46944587822755846,0.49677500619135506,0.4755022077609813,0.49633666758353523,0.5105736119755658,0.6075414943526195,0.5795670983537811,0.5420928096026475,0.5651074293662569,0.5785577350651172,0.5430172980441735,0.5901833412778484,0.43327841638119563,0.47833478545950414,0.44758608168735453,0.4921100579328148,0.5769865037243398,0.5825165319896219,0.5426667879890673,0.5513376521035784,0.5445332603766707,0.5794256715549292,0.6182191939464994,0.5697232860818193,0.4544539339994803,0.5269474483911394,0.5046266329425368,0.5232353846534087,0.5484550027208772,0.6251756548711255,0.5279955508957233,0.6069472506522268,0.676770516052311,0.5555122415172671,0.5733212403080231,0.526392804030012,0.3917818193171481,0.47639134444085135,0.46177176417954935,0.5577501944200323,0.6042583293549925,0.5393471153079414,0.4882693564938954,0.5592554944078423,0.5784827634912224,0.4807491415298537,0.5160254108710757,0.5490155173412046,0.462755581545427,0.554092536897571,0.5075450335520222,0.4906080599432649,0.4997850402800973,0.5423828099120509,0.5432937544387678,0.5338867789516523,0.5767993872638445,0.6473821957997224,0.6520690164645646,0.5467353244802565,0.4458060548458218,0.4933496373677341,0.5344376691070988,0.5710342785427738,0.5866060550547927,0.5561436525479638,0.5684070575866043,0.6052002873828984,0.5924665996269082,0.6002967787238859,0.5701621871351429,0.5009756831661706,0.41119284081037155,0.4518096799010622,0.4927988572823204,0.5099112667160246,0.5359814564422734,0.5305448825458183,0.5278055906127347,0.5110087071634161,0.6237000723656977,0.6606196207422707,0.6304322212903098,0.48940187774502414,0.40265598837348093,0.4879857324682647,0.4904549353914407,0.5331887182226009,0.5809955668932244,0.5330696818856316,0.5353076904870973,0.572504391159893,0.6204129833696653,0.6104969280677012,0.6012709524945888,0.5058792700453871,0.42336024378894394,0.5064178527553223,0.5445150598892756,0.5503387347959241,0.5449312275086053,0.5354899657311082,0.5729524361678711,0.5573975708118386,0.611006901548373,0.62848840725402,0.6087212848731374,0.5527007732709666,0.46104314808726643,0.4342956085245592,0.4195730156138072,0.4837018509276677,0.49150693414260477,0.5095536225235111,0.5477987318089033,0.5899039299659481,0.5975480665797431,0.6088675000559238,0.578684216205094,0.5281020390928727,0.4812351845616298,0.4583114873469598,0.45736319427086036,0.5378107083297905,0.5561296199924464,0.5391490140546076,0.5656775487975619,0.5684803933948354,0.6213374670734794,0.6318687853059425,0.63833110150543,0.4724236542904454,0.4045965216695114,0.5003493820375913,0.5412712240809203,0.4916894588700438,0.4901709188829834,0.5147095735353439,0.4637178711175827,0.5535250671793362,0.6246563176181505,0.6001676916290611,0.5993407614163804,0.5847468388525903,0.477445002048057,0.43245540396658494,0.3759776540842448,0.36308772760585956,0.425887411681772,0.42800758249055515,0.48955924319484057,0.5120223065355691,0.6018012284053316,0.645059684024343,0.618124675451242,0.5217510230143212,0.5170658463772458,0.5115853308613836,0.36689719876584453,0.3784968430083583,0.46184504493334777,0.4703990138310677,0.4709811486913299,0.4980211210494973,0.6468298068801761,0.7222734060154044,0.6455193654634679,0.5452461964427734,0.45417528659677325,0.40955068455582866,0.3357050516920522,0.3632993995209577,0.38469485992675895,0.5024624897589627,0.5853257731625479,0.5521214988106443,0.6277952893403034,0.6542353710481527,0.5567717959799682,0.4614186212758462,0.42504977565490365,0.3990593680548968,0.3567230379256985,0.45002132797948297,0.5707984644325161,0.6086614507100457,0.5306541611412706,0.550980696156601,0.6010068248805893,0.6204568128491053,0.6320625704712057,0.563453193368945,0.40495546046897773,0.3423340215843699,0.3490637848559666,0.44880905914239,0.46938118448298993,0.4905895843518246,0.47591811396396705,0.5667252578645857,0.6614955868214931,0.6671756020468006,0.6278455221411102,0.5357803564787568,0.46007141287930725,0.36190441049473904,0.3468654247004983,0.5035514073172507,0.39416172004883876,0.4378982037912394,0.5188641991375644,0.5828658473675121,0.6722104011825614,0.6547845383099508,0.6097380025853542,0.5534085113413142,0.41211041382420355,0.3713145805468199,0.33166589500091903,0.4506981505077563,0.4786350896497615,0.5005325563458314,0.5051862157204322,0.5201464987233849,0.6573245980107348,0.6520005279161436,0.5816829501681307,0.5366801034635142,0.46149722723829384,0.3529002720268407,0.32329380644576866,0.48388866180510665,0.4542257973779852,0.4771582238406499,0.5341093604105907,0.6040821149733998,0.7178449406872301,0.6531743726406555,0.5883207727364461,0.5399848954793898,0.400822069109825,0.3536552697347343,0.44233207364255245,0.5015264179288514,0.4686125863139703,0.540279547995363,0.5488428184679662,0.5155205358208985,0.6177357913865713,0.6195445076685445,0.6090044159358591,0.4793992473822506,0.3674020041856384,0.33708381115001307,0.3500654762603216,0.425418410439295,0.4268434726975432,0.4386233786519835,0.47260674012534726,0.49969465230054544,0.6036956931460644,0.6051660873608862,0.6355981063685965,0.5697256212243398,0.38054349162033524,0.3551229825570984,0.4224668135033246,0.4918157943521653,0.45223778059927083,0.4337246609035075,0.4856169106244342,0.5530816530068713,0.6275200880768144,0.6194857857444329,0.6370537110638747,0.5578829801255927,0.4335769610961831,0.3589635230756604,0.3133345726958553,0.4052559260744549,0.41685101673720043,0.4917404610011276,0.5502607428268532,0.5435789535874865,0.67505344116159,0.7049655972861429,0.6120263231646546,0.40650472831129403,0.3913100853507009,0.4074984861964899,0.4155503713553107,0.4666281590712915,0.4540973837727056,0.49289159428520796,0.5702827515598488,0.5914912273722517,0.6939612996557146,0.6413476742382533,0.5571151780766382,0.5109038670496917,0.3870688230136977,0.3958717488664372,0.4266460099414894,0.44491700380230326,0.48120983106574133,0.5560932016427127,0.6234536912430486,0.6168715691329502,0.7606152726470816,0.6798662710272283,0.569191798295408,0.47665868560239233,0.3928053278581334,0.401498659429723,0.35630773004009964,0.3822401473353306,0.4534279851563522,0.5305123856690656,0.5927499986423264,0.5809294473811019,0.68486056927958,0.6179517224064413,0.5931718268106548,0.525944598809516,0.31784307274631785,0.31603585222992026,0.37813609614505894,0.4751904926533573,0.4672886462789056,0.4583540118390159,0.4683690138630184,0.5299314724262613,0.670070159207856,0.6868706513542824,0.6083722115494479,0.4397253153615567,0.3992571941574506,0.32260672099505583,0.3417513490834446,0.42952812500972803,0.44430602029877453,0.533340767668832,0.5451170067030385,0.5693334796353795,0.6813549371916912,0.6479149847783461,0.5759124168729379,0.5071274405260737,0.41429748862629334,0.3739860680196855,0.3883850437041253,0.4613523512752299,0.4267997991121759,0.5490874565082927,0.5864696779463179,0.5743831447458401,0.71112162707396,0.616560719203767,0.5658325483358216,0.4468200563372899,0.36404890542739926,0.4287377803320773,0.3971655156966495,0.36432702937010786,0.47902697254613424,0.535043915721348,0.5907251571916727,0.5617493709257279,0.6118023527047539,0.6044748349006799,0.5930603573491002,0.5175562629421175,0.40915575469350846,0.3318727385641205,0.38054218555138025,0.46196679973503274,0.483505923364405,0.5250006401252371,0.5643184470293185,0.5761651096248656,0.6778878542022468,0.6411392016604585,0.5810256928278846,0.521274321387479,0.4117009140881959,0.35942255664390005,0.3886991700802578,0.4603190982880608,0.48582936576769364,0.5254780974995001,0.5668208532053847,0.5784805936619938,0.6793899875997714,0.6421028560443579,0.5827519030208902,0.5226242173057835,0.41362338179118774,0.3605519636152476,0.39017996456022025,0.46161604294398184,0.48720077527305744,0.5268148960323144,0.5681955973104229,0.57985183104932,0.6807459907111161,0.6434487710368716,0.5841121032213116,0.5239773679169573,0.4149872583700802,0.36190098387304864,0.3915355673215005,0.4629682016679067,0.4885543289383644,0.5281678013343819,0.5695492134419071,0.5812053814898301,0.6820992557701017,0.64480184711651,0.5854654469037713,0.5253305795404386,0.4163406709216246,0.3632541181231955,0.39288882488076987,0.4643213947105031,0.4899075481122038,0.5295210083625228,0.5709024337859167,0.5825586006032598,0.6834524695375189,0.6461550573438034,0.5868186621440312,0.526683792306856,0.4176938874519995,0.364607329440189,0.39424203850769596,0.46567460712884734,0.49126076102006094,0.5308742210428563,0.5722556467156945,0.5839118135099854,0.6848056823440984,0.6475082700840663,0.5881718749782013,0.528037005094684,0.41904710031033715,0.3659605422008651,0.3955952513116438,0.46702781991015496,0.49261397381053856,0.5322274338290718,0.5736088595065828,0.5852650263004419,0.6861588951326789,0.6488614828714044,0.5895250877672986,0.5293902178829132,0.4204003130998872,0.36731375498858565,0.3969484641001749,0.468381032698262,0.4939671865988174,0.5335806466172708,0.5749620722948693,0.5866182390887202,0.6875121079209221,0.6502146956596244,0.5908783005555516,0.5307434306711499,0.4217535258881487,0.3686669677768129,0.3983016768884174,0.4697342454864965,0.4953203993870551,0.534933859405507,0.5763152850831071,0.587971451876958,0.6888653207091592,0.651567908447861,0.5922315133437889,0.5320966434593868,0.423106738676386,0.37002018056504954,0.39965488967665425,0.4710874582747332,0.4966736121752918,0.5362870721937436,0.5776684978713438,0.5893246646651946,0.6902185334973958,0.6529211212360977,0.5935847261320254,0.5334498562476233,0.4244599514646225,0.37137339335328606,0.40100810246489077,0.4724406710629697,0.49802682496352835,0.5376402849819801,0.5790217106595803,0.5906778774534311,0.6915717462856323,0.6542743340243342,0.5949379389202619,0.5348030690358598,0.42581316425285903,0.3727266061415226,0.40236131525312735,0.4737938838512063,0.4993800377517649,0.5389934977702168,0.5803749234478169,0.5920310902416678,0.692924959073869,0.6556275468125708,0.5962911517084986,0.5361562818240965,0.42716637704109567,0.3740798189297592,0.403714528041364,0.47514709663944293,0.5007332505400016,0.5403467105584534,0.5817281362360536,0.5933843030299044,0.6942781718621056,0.6569807596008075,0.5976443644967352,0.5375094946123331,0.4285195898293323,0.37543303171799586,0.4050677408296006],\"yaxis\":\"y\",\"type\":\"scatter\"},{\"hovertemplate\":\"<b>OLS trendline</b><br>Solar Ratio = -1.93088e-11 * Year + 0.546619<br>R<sup>2</sup>=0.009870<br><br>Year=%{x}<br>Solar Ratio=%{y} <b>(trend)</b><extra></extra>\",\"legendgroup\":\"Overall Trendline\",\"line\":{\"color\":\"#EF553B\"},\"mode\":\"lines\",\"name\":\"Overall Trendline\",\"showlegend\":true,\"x\":[\"1984-02-01T00:00:00\",\"1984-03-01T00:00:00\",\"1984-04-01T00:00:00\",\"1984-05-01T00:00:00\",\"1984-06-01T00:00:00\",\"1984-07-01T00:00:00\",\"1984-08-01T00:00:00\",\"1984-09-01T00:00:00\",\"1984-10-01T00:00:00\",\"1984-11-01T00:00:00\",\"1984-12-01T00:00:00\",\"1985-01-01T00:00:00\",\"1985-02-01T00:00:00\",\"1985-03-01T00:00:00\",\"1985-04-01T00:00:00\",\"1985-05-01T00:00:00\",\"1985-06-01T00:00:00\",\"1985-07-01T00:00:00\",\"1985-08-01T00:00:00\",\"1985-09-01T00:00:00\",\"1985-10-01T00:00:00\",\"1985-11-01T00:00:00\",\"1985-12-01T00:00:00\",\"1986-01-01T00:00:00\",\"1986-02-01T00:00:00\",\"1986-03-01T00:00:00\",\"1986-04-01T00:00:00\",\"1986-05-01T00:00:00\",\"1986-06-01T00:00:00\",\"1986-07-01T00:00:00\",\"1986-08-01T00:00:00\",\"1986-09-01T00:00:00\",\"1986-10-01T00:00:00\",\"1986-11-01T00:00:00\",\"1986-12-01T00:00:00\",\"1987-01-01T00:00:00\",\"1987-02-01T00:00:00\",\"1987-03-01T00:00:00\",\"1987-04-01T00:00:00\",\"1987-05-01T00:00:00\",\"1987-06-01T00:00:00\",\"1987-07-01T00:00:00\",\"1987-08-01T00:00:00\",\"1987-09-01T00:00:00\",\"1987-10-01T00:00:00\",\"1987-11-01T00:00:00\",\"1987-12-01T00:00:00\",\"1988-01-01T00:00:00\",\"1988-02-01T00:00:00\",\"1988-03-01T00:00:00\",\"1988-04-01T00:00:00\",\"1988-05-01T00:00:00\",\"1988-06-01T00:00:00\",\"1988-07-01T00:00:00\",\"1988-08-01T00:00:00\",\"1988-09-01T00:00:00\",\"1988-10-01T00:00:00\",\"1988-11-01T00:00:00\",\"1988-12-01T00:00:00\",\"1989-01-01T00:00:00\",\"1989-02-01T00:00:00\",\"1989-03-01T00:00:00\",\"1989-04-01T00:00:00\",\"1989-05-01T00:00:00\",\"1989-06-01T00:00:00\",\"1989-07-01T00:00:00\",\"1989-08-01T00:00:00\",\"1989-09-01T00:00:00\",\"1989-10-01T00:00:00\",\"1989-11-01T00:00:00\",\"1989-12-01T00:00:00\",\"1990-01-01T00:00:00\",\"1990-02-01T00:00:00\",\"1990-03-01T00:00:00\",\"1990-04-01T00:00:00\",\"1990-05-01T00:00:00\",\"1990-06-01T00:00:00\",\"1990-07-01T00:00:00\",\"1990-08-01T00:00:00\",\"1990-09-01T00:00:00\",\"1990-10-01T00:00:00\",\"1990-11-01T00:00:00\",\"1990-12-01T00:00:00\",\"1991-01-01T00:00:00\",\"1991-02-01T00:00:00\",\"1991-03-01T00:00:00\",\"1991-04-01T00:00:00\",\"1991-05-01T00:00:00\",\"1991-06-01T00:00:00\",\"1991-07-01T00:00:00\",\"1991-08-01T00:00:00\",\"1991-09-01T00:00:00\",\"1991-10-01T00:00:00\",\"1991-11-01T00:00:00\",\"1991-12-01T00:00:00\",\"1992-01-01T00:00:00\",\"1992-02-01T00:00:00\",\"1992-03-01T00:00:00\",\"1992-04-01T00:00:00\",\"1992-05-01T00:00:00\",\"1992-06-01T00:00:00\",\"1992-07-01T00:00:00\",\"1992-08-01T00:00:00\",\"1992-09-01T00:00:00\",\"1992-10-01T00:00:00\",\"1992-11-01T00:00:00\",\"1992-12-01T00:00:00\",\"1993-01-01T00:00:00\",\"1993-02-01T00:00:00\",\"1993-03-01T00:00:00\",\"1993-04-01T00:00:00\",\"1993-05-01T00:00:00\",\"1993-06-01T00:00:00\",\"1993-07-01T00:00:00\",\"1993-08-01T00:00:00\",\"1993-09-01T00:00:00\",\"1993-10-01T00:00:00\",\"1993-11-01T00:00:00\",\"1993-12-01T00:00:00\",\"1994-01-01T00:00:00\",\"1994-02-01T00:00:00\",\"1994-03-01T00:00:00\",\"1994-04-01T00:00:00\",\"1994-05-01T00:00:00\",\"1994-06-01T00:00:00\",\"1994-07-01T00:00:00\",\"1994-08-01T00:00:00\",\"1994-09-01T00:00:00\",\"1994-10-01T00:00:00\",\"1994-11-01T00:00:00\",\"1994-12-01T00:00:00\",\"1995-01-01T00:00:00\",\"1995-02-01T00:00:00\",\"1995-03-01T00:00:00\",\"1995-04-01T00:00:00\",\"1995-05-01T00:00:00\",\"1995-06-01T00:00:00\",\"1995-07-01T00:00:00\",\"1995-08-01T00:00:00\",\"1995-09-01T00:00:00\",\"1995-10-01T00:00:00\",\"1995-11-01T00:00:00\",\"1995-12-01T00:00:00\",\"1996-01-01T00:00:00\",\"1996-02-01T00:00:00\",\"1996-03-01T00:00:00\",\"1996-04-01T00:00:00\",\"1996-05-01T00:00:00\",\"1996-06-01T00:00:00\",\"1996-07-01T00:00:00\",\"1996-08-01T00:00:00\",\"1996-09-01T00:00:00\",\"1996-10-01T00:00:00\",\"1996-11-01T00:00:00\",\"1996-12-01T00:00:00\",\"1997-01-01T00:00:00\",\"1997-02-01T00:00:00\",\"1997-03-01T00:00:00\",\"1997-04-01T00:00:00\",\"1997-05-01T00:00:00\",\"1997-06-01T00:00:00\",\"1997-07-01T00:00:00\",\"1997-08-01T00:00:00\",\"1997-09-01T00:00:00\",\"1997-10-01T00:00:00\",\"1997-11-01T00:00:00\",\"1997-12-01T00:00:00\",\"1998-01-01T00:00:00\",\"1998-02-01T00:00:00\",\"1998-03-01T00:00:00\",\"1998-04-01T00:00:00\",\"1998-05-01T00:00:00\",\"1998-06-01T00:00:00\",\"1998-07-01T00:00:00\",\"1998-08-01T00:00:00\",\"1998-09-01T00:00:00\",\"1998-10-01T00:00:00\",\"1998-11-01T00:00:00\",\"1998-12-01T00:00:00\",\"1999-01-01T00:00:00\",\"1999-02-01T00:00:00\",\"1999-03-01T00:00:00\",\"1999-04-01T00:00:00\",\"1999-05-01T00:00:00\",\"1999-06-01T00:00:00\",\"1999-07-01T00:00:00\",\"1999-08-01T00:00:00\",\"1999-09-01T00:00:00\",\"1999-10-01T00:00:00\",\"1999-11-01T00:00:00\",\"1999-12-01T00:00:00\",\"2000-01-01T00:00:00\",\"2000-02-01T00:00:00\",\"2000-03-01T00:00:00\",\"2000-04-01T00:00:00\",\"2000-05-01T00:00:00\",\"2000-06-01T00:00:00\",\"2000-07-01T00:00:00\",\"2000-08-01T00:00:00\",\"2000-09-01T00:00:00\",\"2000-10-01T00:00:00\",\"2000-11-01T00:00:00\",\"2000-12-01T00:00:00\",\"2001-01-01T00:00:00\",\"2001-02-01T00:00:00\",\"2001-03-01T00:00:00\",\"2001-04-01T00:00:00\",\"2001-05-01T00:00:00\",\"2001-06-01T00:00:00\",\"2001-07-01T00:00:00\",\"2001-08-01T00:00:00\",\"2001-09-01T00:00:00\",\"2001-10-01T00:00:00\",\"2001-11-01T00:00:00\",\"2001-12-01T00:00:00\",\"2002-01-01T00:00:00\",\"2002-02-01T00:00:00\",\"2002-03-01T00:00:00\",\"2002-04-01T00:00:00\",\"2002-05-01T00:00:00\",\"2002-06-01T00:00:00\",\"2002-07-01T00:00:00\",\"2002-08-01T00:00:00\",\"2002-09-01T00:00:00\",\"2002-10-01T00:00:00\",\"2002-11-01T00:00:00\",\"2002-12-01T00:00:00\",\"2003-01-01T00:00:00\",\"2003-02-01T00:00:00\",\"2003-03-01T00:00:00\",\"2003-04-01T00:00:00\",\"2003-05-01T00:00:00\",\"2003-06-01T00:00:00\",\"2003-07-01T00:00:00\",\"2003-08-01T00:00:00\",\"2003-09-01T00:00:00\",\"2003-10-01T00:00:00\",\"2003-11-01T00:00:00\",\"2003-12-01T00:00:00\",\"2004-01-01T00:00:00\",\"2004-02-01T00:00:00\",\"2004-03-01T00:00:00\",\"2004-04-01T00:00:00\",\"2004-05-01T00:00:00\",\"2004-06-01T00:00:00\",\"2004-07-01T00:00:00\",\"2004-08-01T00:00:00\",\"2004-09-01T00:00:00\",\"2004-10-01T00:00:00\",\"2004-11-01T00:00:00\",\"2004-12-01T00:00:00\",\"2005-01-01T00:00:00\",\"2005-02-01T00:00:00\",\"2005-03-01T00:00:00\",\"2005-04-01T00:00:00\",\"2005-05-01T00:00:00\",\"2005-06-01T00:00:00\",\"2005-07-01T00:00:00\",\"2005-08-01T00:00:00\",\"2005-09-01T00:00:00\",\"2005-10-01T00:00:00\",\"2005-11-01T00:00:00\",\"2005-12-01T00:00:00\",\"2006-01-01T00:00:00\",\"2006-02-01T00:00:00\",\"2006-03-01T00:00:00\",\"2006-04-01T00:00:00\",\"2006-05-01T00:00:00\",\"2006-06-01T00:00:00\",\"2006-07-01T00:00:00\",\"2006-08-01T00:00:00\",\"2006-09-01T00:00:00\",\"2006-10-01T00:00:00\",\"2006-11-01T00:00:00\",\"2006-12-01T00:00:00\",\"2007-01-01T00:00:00\",\"2007-02-01T00:00:00\",\"2007-03-01T00:00:00\",\"2007-04-01T00:00:00\",\"2007-05-01T00:00:00\",\"2007-06-01T00:00:00\",\"2007-07-01T00:00:00\",\"2007-08-01T00:00:00\",\"2007-09-01T00:00:00\",\"2007-10-01T00:00:00\",\"2007-11-01T00:00:00\",\"2007-12-01T00:00:00\",\"2008-01-01T00:00:00\",\"2008-02-01T00:00:00\",\"2008-03-01T00:00:00\",\"2008-04-01T00:00:00\",\"2008-05-01T00:00:00\",\"2008-06-01T00:00:00\",\"2008-07-01T00:00:00\",\"2008-08-01T00:00:00\",\"2008-09-01T00:00:00\",\"2008-10-01T00:00:00\",\"2008-11-01T00:00:00\",\"2008-12-01T00:00:00\",\"2009-01-01T00:00:00\",\"2009-02-01T00:00:00\",\"2009-03-01T00:00:00\",\"2009-04-01T00:00:00\",\"2009-05-01T00:00:00\",\"2009-06-01T00:00:00\",\"2009-07-01T00:00:00\",\"2009-08-01T00:00:00\",\"2009-09-01T00:00:00\",\"2009-10-01T00:00:00\",\"2009-11-01T00:00:00\",\"2009-12-01T00:00:00\",\"2010-01-01T00:00:00\",\"2010-02-01T00:00:00\",\"2010-03-01T00:00:00\",\"2010-04-01T00:00:00\",\"2010-05-01T00:00:00\",\"2010-06-01T00:00:00\",\"2010-07-01T00:00:00\",\"2010-08-01T00:00:00\",\"2010-09-01T00:00:00\",\"2010-10-01T00:00:00\",\"2010-11-01T00:00:00\",\"2010-12-01T00:00:00\",\"2011-01-01T00:00:00\",\"2011-02-01T00:00:00\",\"2011-03-01T00:00:00\",\"2011-04-01T00:00:00\",\"2011-05-01T00:00:00\",\"2011-06-01T00:00:00\",\"2011-07-01T00:00:00\",\"2011-08-01T00:00:00\",\"2011-09-01T00:00:00\",\"2011-10-01T00:00:00\",\"2011-11-01T00:00:00\",\"2011-12-01T00:00:00\",\"2012-01-01T00:00:00\",\"2012-02-01T00:00:00\",\"2012-03-01T00:00:00\",\"2012-04-01T00:00:00\",\"2012-05-01T00:00:00\",\"2012-06-01T00:00:00\",\"2012-07-01T00:00:00\",\"2012-08-01T00:00:00\",\"2012-09-01T00:00:00\",\"2012-10-01T00:00:00\",\"2012-11-01T00:00:00\",\"2012-12-01T00:00:00\",\"2013-01-01T00:00:00\",\"2013-02-01T00:00:00\",\"2013-03-01T00:00:00\",\"2013-04-01T00:00:00\",\"2013-05-01T00:00:00\",\"2013-06-01T00:00:00\",\"2013-07-01T00:00:00\",\"2013-08-01T00:00:00\",\"2013-09-01T00:00:00\",\"2013-10-01T00:00:00\",\"2013-11-01T00:00:00\",\"2013-12-01T00:00:00\",\"2014-01-01T00:00:00\",\"2014-02-01T00:00:00\",\"2014-03-01T00:00:00\",\"2014-04-01T00:00:00\",\"2014-05-01T00:00:00\",\"2014-06-01T00:00:00\",\"2014-07-01T00:00:00\",\"2014-08-01T00:00:00\",\"2014-09-01T00:00:00\",\"2014-10-01T00:00:00\",\"2014-11-01T00:00:00\",\"2014-12-01T00:00:00\",\"2015-01-01T00:00:00\",\"2015-02-01T00:00:00\",\"2015-03-01T00:00:00\",\"2015-04-01T00:00:00\",\"2015-05-01T00:00:00\",\"2015-06-01T00:00:00\",\"2015-07-01T00:00:00\",\"2015-08-01T00:00:00\",\"2015-09-01T00:00:00\",\"2015-10-01T00:00:00\",\"2015-11-01T00:00:00\",\"2015-12-01T00:00:00\",\"2016-01-01T00:00:00\",\"2016-02-01T00:00:00\",\"2016-03-01T00:00:00\",\"2016-04-01T00:00:00\",\"2016-05-01T00:00:00\",\"2016-06-01T00:00:00\",\"2016-07-01T00:00:00\",\"2016-08-01T00:00:00\",\"2016-09-01T00:00:00\",\"2016-10-01T00:00:00\",\"2016-11-01T00:00:00\",\"2016-12-01T00:00:00\",\"2017-01-01T00:00:00\",\"2017-02-01T00:00:00\",\"2017-03-01T00:00:00\",\"2017-04-01T00:00:00\",\"2017-05-01T00:00:00\",\"2017-06-01T00:00:00\",\"2017-07-01T00:00:00\",\"2017-08-01T00:00:00\",\"2017-09-01T00:00:00\",\"2017-10-01T00:00:00\",\"2017-11-01T00:00:00\",\"2017-12-01T00:00:00\",\"2018-01-01T00:00:00\",\"2018-02-01T00:00:00\",\"2018-03-01T00:00:00\",\"2018-04-01T00:00:00\",\"2018-05-01T00:00:00\",\"2018-06-01T00:00:00\",\"2018-07-01T00:00:00\",\"2018-08-01T00:00:00\",\"2018-09-01T00:00:00\",\"2018-10-01T00:00:00\",\"2018-11-01T00:00:00\",\"2018-12-01T00:00:00\",\"2019-01-01T00:00:00\",\"2019-02-01T00:00:00\",\"2019-03-01T00:00:00\",\"2019-04-01T00:00:00\",\"2019-05-01T00:00:00\",\"2019-06-01T00:00:00\",\"2019-07-01T00:00:00\",\"2019-08-01T00:00:00\",\"2019-09-01T00:00:00\",\"2019-10-01T00:00:00\",\"2019-11-01T00:00:00\",\"2019-12-01T00:00:00\",\"2020-01-01T00:00:00\",\"2020-02-01T00:00:00\",\"2020-03-01T00:00:00\",\"2020-04-01T00:00:00\",\"2020-05-01T00:00:00\",\"2020-06-01T00:00:00\",\"2020-07-01T00:00:00\",\"2020-08-01T00:00:00\",\"2020-09-01T00:00:00\",\"2020-10-01T00:00:00\",\"2020-11-01T00:00:00\",\"2020-12-01T00:00:00\",\"2021-01-01T00:00:00\",\"2021-02-01T00:00:00\",\"2021-03-01T00:00:00\",\"2021-04-01T00:00:00\",\"2021-05-01T00:00:00\",\"2021-06-01T00:00:00\",\"2021-07-01T00:00:00\",\"2021-08-01T00:00:00\",\"2021-09-01T00:00:00\",\"2021-10-01T00:00:00\",\"2021-11-01T00:00:00\",\"2022-01-01T00:00:00\",\"2022-02-01T00:00:00\",\"2022-03-01T00:00:00\",\"2022-04-01T00:00:00\",\"2022-05-01T00:00:00\",\"2022-06-01T00:00:00\",\"2022-07-01T00:00:00\",\"2022-08-01T00:00:00\",\"2022-09-01T00:00:00\",\"2022-10-01T00:00:00\",\"2022-11-01T00:00:00\",\"2023-01-01T00:00:00\",\"2023-02-01T00:00:00\",\"2023-03-01T00:00:00\",\"2023-04-01T00:00:00\",\"2023-05-01T00:00:00\",\"2023-06-01T00:00:00\",\"2023-07-01T00:00:00\",\"2023-08-01T00:00:00\",\"2023-09-01T00:00:00\",\"2023-10-01T00:00:00\",\"2023-11-01T00:00:00\",\"2024-01-01T00:00:00\",\"2024-02-01T00:00:00\",\"2024-03-01T00:00:00\",\"2024-04-01T00:00:00\",\"2024-05-01T00:00:00\",\"2024-06-01T00:00:00\",\"2024-07-01T00:00:00\",\"2024-08-01T00:00:00\",\"2024-09-01T00:00:00\",\"2024-10-01T00:00:00\",\"2024-11-01T00:00:00\",\"2025-01-01T00:00:00\",\"2025-02-01T00:00:00\",\"2025-03-01T00:00:00\",\"2025-04-01T00:00:00\",\"2025-05-01T00:00:00\",\"2025-06-01T00:00:00\",\"2025-07-01T00:00:00\",\"2025-08-01T00:00:00\",\"2025-09-01T00:00:00\",\"2025-10-01T00:00:00\",\"2025-11-01T00:00:00\",\"2026-01-01T00:00:00\",\"2026-02-01T00:00:00\",\"2026-03-01T00:00:00\",\"2026-04-01T00:00:00\",\"2026-05-01T00:00:00\",\"2026-06-01T00:00:00\",\"2026-07-01T00:00:00\",\"2026-08-01T00:00:00\",\"2026-09-01T00:00:00\",\"2026-10-01T00:00:00\",\"2026-11-01T00:00:00\",\"2027-01-01T00:00:00\",\"2027-02-01T00:00:00\",\"2027-03-01T00:00:00\",\"2027-04-01T00:00:00\",\"2027-05-01T00:00:00\",\"2027-06-01T00:00:00\",\"2027-07-01T00:00:00\",\"2027-08-01T00:00:00\",\"2027-09-01T00:00:00\",\"2027-10-01T00:00:00\",\"2027-11-01T00:00:00\",\"2028-01-01T00:00:00\",\"2028-02-01T00:00:00\",\"2028-03-01T00:00:00\",\"2028-04-01T00:00:00\",\"2028-05-01T00:00:00\",\"2028-06-01T00:00:00\",\"2028-07-01T00:00:00\",\"2028-08-01T00:00:00\",\"2028-09-01T00:00:00\",\"2028-10-01T00:00:00\",\"2028-11-01T00:00:00\",\"2029-01-01T00:00:00\",\"2029-02-01T00:00:00\",\"2029-03-01T00:00:00\",\"2029-04-01T00:00:00\",\"2029-05-01T00:00:00\",\"2029-06-01T00:00:00\",\"2029-07-01T00:00:00\",\"2029-08-01T00:00:00\",\"2029-09-01T00:00:00\",\"2029-10-01T00:00:00\",\"2029-11-01T00:00:00\",\"2030-01-01T00:00:00\",\"2030-02-01T00:00:00\",\"2030-03-01T00:00:00\",\"2030-04-01T00:00:00\",\"2030-05-01T00:00:00\",\"2030-06-01T00:00:00\",\"2030-07-01T00:00:00\",\"2030-08-01T00:00:00\",\"2030-09-01T00:00:00\",\"2030-10-01T00:00:00\",\"2030-11-01T00:00:00\",\"2031-01-01T00:00:00\",\"2031-02-01T00:00:00\",\"2031-03-01T00:00:00\",\"2031-04-01T00:00:00\",\"2031-05-01T00:00:00\",\"2031-06-01T00:00:00\",\"2031-07-01T00:00:00\",\"2031-08-01T00:00:00\",\"2031-09-01T00:00:00\",\"2031-10-01T00:00:00\",\"2031-11-01T00:00:00\",\"2032-01-01T00:00:00\",\"2032-02-01T00:00:00\",\"2032-03-01T00:00:00\",\"2032-04-01T00:00:00\",\"2032-05-01T00:00:00\",\"2032-06-01T00:00:00\",\"2032-07-01T00:00:00\",\"2032-08-01T00:00:00\",\"2032-09-01T00:00:00\",\"2032-10-01T00:00:00\",\"2032-11-01T00:00:00\",\"2033-01-01T00:00:00\",\"2033-02-01T00:00:00\",\"2033-03-01T00:00:00\",\"2033-04-01T00:00:00\",\"2033-05-01T00:00:00\",\"2033-06-01T00:00:00\",\"2033-07-01T00:00:00\",\"2033-08-01T00:00:00\",\"2033-09-01T00:00:00\",\"2033-10-01T00:00:00\",\"2033-11-01T00:00:00\",\"2034-01-01T00:00:00\",\"2034-02-01T00:00:00\",\"2034-03-01T00:00:00\",\"2034-04-01T00:00:00\",\"2034-05-01T00:00:00\",\"2034-06-01T00:00:00\",\"2034-07-01T00:00:00\",\"2034-08-01T00:00:00\",\"2034-09-01T00:00:00\",\"2034-10-01T00:00:00\",\"2034-11-01T00:00:00\",\"2035-01-01T00:00:00\",\"2035-02-01T00:00:00\",\"2035-03-01T00:00:00\"],\"y\":[0.538037542377502,0.5379891622661441,0.5379374455953824,0.5378873972043225,0.5378356805335607,0.5377856321425009,0.5377339154717391,0.5376821988009772,0.5376321504099174,0.5375804337391556,0.5375303853480958,0.537478668677334,0.5374269520065722,0.5373802401749164,0.5373285235041546,0.5372784751130948,0.5372267584423329,0.5371767100512731,0.5371249933805113,0.5370732767097495,0.5370232283186896,0.5369715116479279,0.5369214632568681,0.5368697465861062,0.5368180299153444,0.5367713180836886,0.5367196014129268,0.536669553021867,0.5366178363511052,0.5365677879600453,0.5365160712892836,0.5364643546185217,0.5364143062274619,0.5363625895567001,0.5363125411656403,0.5362608244948784,0.5362091078241167,0.5361623959924608,0.536110679321699,0.5360606309306393,0.5360089142598774,0.5359588658688176,0.5359071491980558,0.535855432527294,0.5358053841362341,0.5357536674654724,0.5357036190744126,0.5356519024036507,0.5356001857328889,0.535551805621531,0.5355000889507693,0.5354500405597095,0.5353983238889477,0.5353482754978879,0.535296558827126,0.5352448421563643,0.5351947937653044,0.5351430770945426,0.5350930287034827,0.535041312032721,0.5349895953619591,0.5349428835303033,0.5348911668595415,0.5348411184684817,0.5347894017977198,0.5347393534066601,0.5346876367358983,0.5346359200651365,0.5345858716740767,0.5345341550033148,0.534484106612255,0.5344323899414932,0.5343806732707314,0.5343339614390755,0.5342822447683138,0.5342321963772539,0.5341804797064921,0.5341304313154323,0.5340787146446705,0.5340269979739087,0.5339769495828489,0.533925232912087,0.5338751845210272,0.5338234678502655,0.5337717511795036,0.5337250393478478,0.533673322677086,0.5336232742860262,0.5335715576152643,0.5335215092242045,0.5334697925534427,0.533418075882681,0.5333680274916212,0.5333163108208593,0.5332662624297995,0.5332145457590377,0.5331628290882758,0.5331144489769181,0.5330627323061562,0.5330126839150964,0.5329609672443346,0.5329109188532748,0.5328592021825129,0.5328074855117512,0.5327574371206913,0.5327057204499296,0.5326556720588698,0.5326039553881079,0.5325522387173461,0.5325055268856903,0.5324538102149284,0.5324037618238686,0.5323520451531069,0.532301996762047,0.5322502800912852,0.5321985634205234,0.5321485150294636,0.5320967983587018,0.532046749967642,0.5319950332968801,0.5319433166261184,0.5318966047944625,0.5318448881237007,0.5317948397326409,0.5317431230618791,0.5316930746708193,0.5316413580000574,0.5315896413292956,0.5315395929382358,0.531487876267474,0.5314378278764142,0.5313861112056524,0.5313343945348906,0.5312876827032348,0.5312359660324729,0.5311859176414131,0.5311342009706513,0.5310841525795915,0.5310324359088296,0.5309807192380679,0.5309306708470081,0.5308789541762462,0.5308289057851865,0.5307771891144246,0.5307254724436629,0.530677092332305,0.5306253756615432,0.5305753272704834,0.5305236105997215,0.5304735622086617,0.5304218455379,0.5303701288671381,0.5303200804760783,0.5302683638053165,0.5302183154142567,0.5301665987434949,0.530114882072733,0.5300681702410772,0.5300164535703155,0.5299664051792556,0.5299146885084938,0.529864640117434,0.5298129234466722,0.5297612067759103,0.5297111583848505,0.5296594417140887,0.5296093933230289,0.529557676652267,0.5295059599815053,0.5294592481498495,0.5294075314790877,0.5293574830880279,0.529305766417266,0.5292557180262062,0.5292040013554444,0.5291522846846826,0.5291022362936227,0.529050519622861,0.5290004712318012,0.5289487545610393,0.5288970378902775,0.5288503260586217,0.5287986093878599,0.5287485609968001,0.5286968443260383,0.5286467959349784,0.5285950792642167,0.5285433625934548,0.528493314202395,0.5284415975316332,0.5283915491405734,0.5283398324698115,0.5282881157990498,0.5282397356876919,0.5281880190169301,0.5281379706258703,0.5280862539551086,0.5280362055640487,0.5279844888932869,0.5279327722225251,0.5278827238314653,0.5278310071607034,0.5277809587696436,0.5277292420988818,0.52767752542812,0.5276308135964641,0.5275790969257024,0.5275290485346426,0.5274773318638808,0.527427283472821,0.5273755668020591,0.5273238501312973,0.5272738017402375,0.5272220850694757,0.5271720366784158,0.5271203200076541,0.5270686033368922,0.5270218915052364,0.5269701748344746,0.5269201264434148,0.526868409772653,0.5268183613815932,0.5267666447108313,0.5267149280400696,0.5266648796490098,0.5266131629782479,0.5265631145871881,0.5265113979164263,0.5264596812456644,0.5264129694140086,0.5263612527432469,0.526311204352187,0.5262594876814252,0.5262094392903653,0.5261577226196036,0.5261060059488418,0.526055957557782,0.5260042408870201,0.5259541924959603,0.5259024758251986,0.5258507591544367,0.5258023790430789,0.525750662372317,0.5257006139812572,0.5256488973104955,0.5255988489194356,0.5255471322486738,0.525495415577912,0.5254453671868522,0.5253936505160904,0.5253436021250306,0.5252918854542687,0.525240168783507,0.5251934569518512,0.5251417402810893,0.5250916918900295,0.5250399752192677,0.5249899268282079,0.524938210157446,0.5248864934866843,0.5248364450956244,0.5247847284248627,0.5247346800338029,0.524682963363041,0.5246312466922792,0.5245845348606234,0.5245328181898615,0.5244827697988017,0.52443105312804,0.5243810047369801,0.5243292880662183,0.5242775713954565,0.5242275230043967,0.5241758063336349,0.5241257579425751,0.5240740412718132,0.5240223246010515,0.5239756127693956,0.5239238960986338,0.523873847707574,0.5238221310368122,0.5237720826457524,0.5237203659749905,0.5236686493042287,0.5236186009131689,0.5235668842424072,0.5235168358513473,0.5234651191805855,0.5234134025098237,0.5233650223984658,0.5233133057277041,0.5232632573366442,0.5232115406658824,0.5231614922748226,0.5231097756040608,0.5230580589332989,0.5230080105422391,0.5229562938714774,0.5229062454804175,0.5228545288096558,0.5228028121388939,0.5227561003072381,0.5227043836364763,0.5226543352454165,0.5226026185746546,0.5225525701835948,0.522500853512833,0.5224491368420712,0.5223990884510114,0.5223473717802496,0.5222973233891898,0.522245606718428,0.5221938900476661,0.5221471782160103,0.5220954615452486,0.5220454131541887,0.5219936964834269,0.521943648092367,0.5218919314216053,0.5218402147508434,0.5217901663597836,0.5217384496890218,0.521688401297962,0.5216366846272003,0.5215849679564384,0.5215382561247826,0.5214865394540208,0.521436491062961,0.5213847743921991,0.5213347260011393,0.5212830093303775,0.5212312926596157,0.5211812442685558,0.5211295275977941,0.5210794792067343,0.5210277625359724,0.5209760458652106,0.5209276657538529,0.520875949083091,0.5208259006920312,0.5207741840212694,0.5207241356302096,0.5206724189594477,0.520620702288686,0.5205706538976261,0.5205189372268643,0.5204688888358044,0.5204171721650427,0.5203654554942808,0.5203187436626251,0.5202670269918632,0.5202169786008034,0.5201652619300416,0.5201152135389818,0.52006349686822,0.5200117801974582,0.5199617318063984,0.5199100151356365,0.5198599667445767,0.5198082500738149,0.5197565334030531,0.5197098215713972,0.5196581049006355,0.5196080565095756,0.5195563398388139,0.5195062914477541,0.5194545747769922,0.5194028581062304,0.5193528097151706,0.5193010930444087,0.5192510446533489,0.5191993279825872,0.5191476113118253,0.5191008994801695,0.5190491828094077,0.5189991344183479,0.5189474177475861,0.5188973693565263,0.5188456526857644,0.5187939360150027,0.5187438876239429,0.518692170953181,0.5186421225621212,0.5185904058913594,0.5185386892205975,0.5184903091092398,0.5184385924384779,0.5183885440474181,0.5183368273766563,0.5182867789855965,0.5182350623148347,0.5181833456440729,0.518133297253013,0.5180815805822513,0.5180315321911915,0.5179798155204296,0.5179280988496678,0.517881387018012,0.5178296703472501,0.5177796219561903,0.5177279052854286,0.5176778568943687,0.517626140223607,0.5175744235528451,0.5175243751617853,0.5174726584910235,0.5174226100999637,0.5173708934292018,0.5173191767584401,0.5172724649267842,0.5172207482560224,0.5171706998649626,0.5171189831942008,0.517068934803141,0.5170172181323791,0.5169655014616173,0.5169154530705575,0.5168637363997958,0.516813688008736,0.5167619713379741,0.5167102546672123,0.5166635428355565,0.5166118261647946,0.5165617777737348,0.516510061102973,0.5164600127119132,0.5164082960411513,0.5163565793703896,0.5163065309793298,0.516254814308568,0.5162047659175082,0.5161530492467463,0.5161013325759846,0.5160529524646267,0.5160012357938649,0.5159511874028051,0.5158994707320432,0.5158494223409834,0.5157977056702217,0.5157459889994598,0.5156959406084001,0.5156442239376382,0.5155941755465784,0.5155424588758166,0.5154907422050548,0.5154440303733989,0.5153923137026372,0.5153422653115773,0.5152905486408155,0.5152405002497557,0.5151887835789939,0.515137066908232,0.5150870185171722,0.5150353018464104,0.5149335367845889,0.514881820113827,0.5148351082821712,0.5147833916114094,0.5147333432203496,0.5146816265495877,0.5146315781585279,0.5145798614877661,0.5145281448170043,0.5144780964259444,0.5144263797551827,0.5143246146933611,0.5142728980225992,0.5142261861909434,0.5141744695201816,0.5141244211291218,0.51407270445836,0.5140226560673001,0.5139709393965384,0.5139192227257765,0.5138691743347167,0.5138174576639549,0.5137156926021333,0.5136639759313715,0.5136155958200137,0.5135638791492518,0.513513830758192,0.5134621140874303,0.5134120656963704,0.5133603490256086,0.5133086323548468,0.513258583963787,0.5132068672930251,0.5131051022312035,0.5130533855604418,0.513006673728786,0.5129549570580241,0.5129049086669643,0.5128531919962025,0.5128031436051427,0.5127514269343808,0.512699710263619,0.5126496618725592,0.5125979452017974,0.5124961801399758,0.512444463469214,0.5123977516375582,0.5123460349667963,0.5122959865757365,0.5122442699049747,0.5121942215139149,0.512142504843153,0.5120907881723913,0.5120407397813315,0.5119890231105696,0.511887258048748,0.5118355413779861,0.5117888295463303,0.5117371128755686,0.5116870644845087,0.511635347813747,0.5115852994226872,0.5115335827519253,0.5114818660811635,0.5114318176901037,0.5113801010193418,0.5112783359575203,0.5112266192867584,0.5111782391754006,0.5111265225046389,0.5110764741135789,0.5110247574428172,0.5109747090517573,0.5109229923809956,0.5108712757102337,0.5108212273191739,0.5107695106484121,0.5106677455865904,0.5106160289158287,0.5105693170841729,0.510517600413411,0.5104675520223512,0.5104158353515894,0.5103657869605296,0.5103140702897678,0.510262353619006,0.5102123052279461,0.5101605885571844,0.5100588234953627,0.5100071068246009,0.5099603949929451,0.5099086783221832,0.5098586299311234,0.5098069132603616,0.5097568648693018,0.5097051481985401,0.5096534315277782,0.5096033831367184,0.5095516664659566,0.5094499014041349,0.5093981847333732,0.5093514729017173,0.5092997562309555,0.5092497078398956,0.5091979911691339,0.5091479427780741,0.5090962261073122,0.5090445094365504,0.5089944610454906,0.5089427443747289,0.5088409793129072,0.5087892626421454,0.5087408825307875,0.5086891658600258,0.508639117468966,0.5085874007982041,0.5085373524071443,0.5084856357363825,0.5084339190656206,0.5083838706745609,0.508332154003799,0.5082303889419775,0.5081786722712156,0.5081319604395598,0.508080243768798,0.5080301953777382,0.5079784787069763,0.5079284303159165,0.5078767136451547,0.5078249969743929,0.5077749485833332,0.5077232319125713,0.5076214668507497,0.5075697501799878,0.507523038348332,0.5074713216775703,0.5074212732865104,0.5073695566157486,0.5073195082246887,0.507267791553927,0.5072160748831651,0.5071660264921054,0.5071143098213435,0.507012544759522,0.5069608280887601,0.5069141162571043],\"type\":\"scatter\",\"xaxis\":\"x\",\"yaxis\":\"y\"}],                        {\"template\":{\"data\":{\"bar\":[{\"error_x\":{\"color\":\"#2a3f5f\"},\"error_y\":{\"color\":\"#2a3f5f\"},\"marker\":{\"line\":{\"color\":\"#E5ECF6\",\"width\":0.5},\"pattern\":{\"fillmode\":\"overlay\",\"size\":10,\"solidity\":0.2}},\"type\":\"bar\"}],\"barpolar\":[{\"marker\":{\"line\":{\"color\":\"#E5ECF6\",\"width\":0.5},\"pattern\":{\"fillmode\":\"overlay\",\"size\":10,\"solidity\":0.2}},\"type\":\"barpolar\"}],\"carpet\":[{\"aaxis\":{\"endlinecolor\":\"#2a3f5f\",\"gridcolor\":\"white\",\"linecolor\":\"white\",\"minorgridcolor\":\"white\",\"startlinecolor\":\"#2a3f5f\"},\"baxis\":{\"endlinecolor\":\"#2a3f5f\",\"gridcolor\":\"white\",\"linecolor\":\"white\",\"minorgridcolor\":\"white\",\"startlinecolor\":\"#2a3f5f\"},\"type\":\"carpet\"}],\"choropleth\":[{\"colorbar\":{\"outlinewidth\":0,\"ticks\":\"\"},\"type\":\"choropleth\"}],\"contour\":[{\"colorbar\":{\"outlinewidth\":0,\"ticks\":\"\"},\"colorscale\":[[0.0,\"#0d0887\"],[0.1111111111111111,\"#46039f\"],[0.2222222222222222,\"#7201a8\"],[0.3333333333333333,\"#9c179e\"],[0.4444444444444444,\"#bd3786\"],[0.5555555555555556,\"#d8576b\"],[0.6666666666666666,\"#ed7953\"],[0.7777777777777778,\"#fb9f3a\"],[0.8888888888888888,\"#fdca26\"],[1.0,\"#f0f921\"]],\"type\":\"contour\"}],\"contourcarpet\":[{\"colorbar\":{\"outlinewidth\":0,\"ticks\":\"\"},\"type\":\"contourcarpet\"}],\"heatmap\":[{\"colorbar\":{\"outlinewidth\":0,\"ticks\":\"\"},\"colorscale\":[[0.0,\"#0d0887\"],[0.1111111111111111,\"#46039f\"],[0.2222222222222222,\"#7201a8\"],[0.3333333333333333,\"#9c179e\"],[0.4444444444444444,\"#bd3786\"],[0.5555555555555556,\"#d8576b\"],[0.6666666666666666,\"#ed7953\"],[0.7777777777777778,\"#fb9f3a\"],[0.8888888888888888,\"#fdca26\"],[1.0,\"#f0f921\"]],\"type\":\"heatmap\"}],\"heatmapgl\":[{\"colorbar\":{\"outlinewidth\":0,\"ticks\":\"\"},\"colorscale\":[[0.0,\"#0d0887\"],[0.1111111111111111,\"#46039f\"],[0.2222222222222222,\"#7201a8\"],[0.3333333333333333,\"#9c179e\"],[0.4444444444444444,\"#bd3786\"],[0.5555555555555556,\"#d8576b\"],[0.6666666666666666,\"#ed7953\"],[0.7777777777777778,\"#fb9f3a\"],[0.8888888888888888,\"#fdca26\"],[1.0,\"#f0f921\"]],\"type\":\"heatmapgl\"}],\"histogram\":[{\"marker\":{\"pattern\":{\"fillmode\":\"overlay\",\"size\":10,\"solidity\":0.2}},\"type\":\"histogram\"}],\"histogram2d\":[{\"colorbar\":{\"outlinewidth\":0,\"ticks\":\"\"},\"colorscale\":[[0.0,\"#0d0887\"],[0.1111111111111111,\"#46039f\"],[0.2222222222222222,\"#7201a8\"],[0.3333333333333333,\"#9c179e\"],[0.4444444444444444,\"#bd3786\"],[0.5555555555555556,\"#d8576b\"],[0.6666666666666666,\"#ed7953\"],[0.7777777777777778,\"#fb9f3a\"],[0.8888888888888888,\"#fdca26\"],[1.0,\"#f0f921\"]],\"type\":\"histogram2d\"}],\"histogram2dcontour\":[{\"colorbar\":{\"outlinewidth\":0,\"ticks\":\"\"},\"colorscale\":[[0.0,\"#0d0887\"],[0.1111111111111111,\"#46039f\"],[0.2222222222222222,\"#7201a8\"],[0.3333333333333333,\"#9c179e\"],[0.4444444444444444,\"#bd3786\"],[0.5555555555555556,\"#d8576b\"],[0.6666666666666666,\"#ed7953\"],[0.7777777777777778,\"#fb9f3a\"],[0.8888888888888888,\"#fdca26\"],[1.0,\"#f0f921\"]],\"type\":\"histogram2dcontour\"}],\"mesh3d\":[{\"colorbar\":{\"outlinewidth\":0,\"ticks\":\"\"},\"type\":\"mesh3d\"}],\"parcoords\":[{\"line\":{\"colorbar\":{\"outlinewidth\":0,\"ticks\":\"\"}},\"type\":\"parcoords\"}],\"pie\":[{\"automargin\":true,\"type\":\"pie\"}],\"scatter\":[{\"marker\":{\"colorbar\":{\"outlinewidth\":0,\"ticks\":\"\"}},\"type\":\"scatter\"}],\"scatter3d\":[{\"line\":{\"colorbar\":{\"outlinewidth\":0,\"ticks\":\"\"}},\"marker\":{\"colorbar\":{\"outlinewidth\":0,\"ticks\":\"\"}},\"type\":\"scatter3d\"}],\"scattercarpet\":[{\"marker\":{\"colorbar\":{\"outlinewidth\":0,\"ticks\":\"\"}},\"type\":\"scattercarpet\"}],\"scattergeo\":[{\"marker\":{\"colorbar\":{\"outlinewidth\":0,\"ticks\":\"\"}},\"type\":\"scattergeo\"}],\"scattergl\":[{\"marker\":{\"colorbar\":{\"outlinewidth\":0,\"ticks\":\"\"}},\"type\":\"scattergl\"}],\"scattermapbox\":[{\"marker\":{\"colorbar\":{\"outlinewidth\":0,\"ticks\":\"\"}},\"type\":\"scattermapbox\"}],\"scatterpolar\":[{\"marker\":{\"colorbar\":{\"outlinewidth\":0,\"ticks\":\"\"}},\"type\":\"scatterpolar\"}],\"scatterpolargl\":[{\"marker\":{\"colorbar\":{\"outlinewidth\":0,\"ticks\":\"\"}},\"type\":\"scatterpolargl\"}],\"scatterternary\":[{\"marker\":{\"colorbar\":{\"outlinewidth\":0,\"ticks\":\"\"}},\"type\":\"scatterternary\"}],\"surface\":[{\"colorbar\":{\"outlinewidth\":0,\"ticks\":\"\"},\"colorscale\":[[0.0,\"#0d0887\"],[0.1111111111111111,\"#46039f\"],[0.2222222222222222,\"#7201a8\"],[0.3333333333333333,\"#9c179e\"],[0.4444444444444444,\"#bd3786\"],[0.5555555555555556,\"#d8576b\"],[0.6666666666666666,\"#ed7953\"],[0.7777777777777778,\"#fb9f3a\"],[0.8888888888888888,\"#fdca26\"],[1.0,\"#f0f921\"]],\"type\":\"surface\"}],\"table\":[{\"cells\":{\"fill\":{\"color\":\"#EBF0F8\"},\"line\":{\"color\":\"white\"}},\"header\":{\"fill\":{\"color\":\"#C8D4E3\"},\"line\":{\"color\":\"white\"}},\"type\":\"table\"}]},\"layout\":{\"annotationdefaults\":{\"arrowcolor\":\"#2a3f5f\",\"arrowhead\":0,\"arrowwidth\":1},\"autotypenumbers\":\"strict\",\"coloraxis\":{\"colorbar\":{\"outlinewidth\":0,\"ticks\":\"\"}},\"colorscale\":{\"diverging\":[[0,\"#8e0152\"],[0.1,\"#c51b7d\"],[0.2,\"#de77ae\"],[0.3,\"#f1b6da\"],[0.4,\"#fde0ef\"],[0.5,\"#f7f7f7\"],[0.6,\"#e6f5d0\"],[0.7,\"#b8e186\"],[0.8,\"#7fbc41\"],[0.9,\"#4d9221\"],[1,\"#276419\"]],\"sequential\":[[0.0,\"#0d0887\"],[0.1111111111111111,\"#46039f\"],[0.2222222222222222,\"#7201a8\"],[0.3333333333333333,\"#9c179e\"],[0.4444444444444444,\"#bd3786\"],[0.5555555555555556,\"#d8576b\"],[0.6666666666666666,\"#ed7953\"],[0.7777777777777778,\"#fb9f3a\"],[0.8888888888888888,\"#fdca26\"],[1.0,\"#f0f921\"]],\"sequentialminus\":[[0.0,\"#0d0887\"],[0.1111111111111111,\"#46039f\"],[0.2222222222222222,\"#7201a8\"],[0.3333333333333333,\"#9c179e\"],[0.4444444444444444,\"#bd3786\"],[0.5555555555555556,\"#d8576b\"],[0.6666666666666666,\"#ed7953\"],[0.7777777777777778,\"#fb9f3a\"],[0.8888888888888888,\"#fdca26\"],[1.0,\"#f0f921\"]]},\"colorway\":[\"#636efa\",\"#EF553B\",\"#00cc96\",\"#ab63fa\",\"#FFA15A\",\"#19d3f3\",\"#FF6692\",\"#B6E880\",\"#FF97FF\",\"#FECB52\"],\"font\":{\"color\":\"#2a3f5f\"},\"geo\":{\"bgcolor\":\"white\",\"lakecolor\":\"white\",\"landcolor\":\"#E5ECF6\",\"showlakes\":true,\"showland\":true,\"subunitcolor\":\"white\"},\"hoverlabel\":{\"align\":\"left\"},\"hovermode\":\"closest\",\"mapbox\":{\"style\":\"light\"},\"paper_bgcolor\":\"white\",\"plot_bgcolor\":\"#E5ECF6\",\"polar\":{\"angularaxis\":{\"gridcolor\":\"white\",\"linecolor\":\"white\",\"ticks\":\"\"},\"bgcolor\":\"#E5ECF6\",\"radialaxis\":{\"gridcolor\":\"white\",\"linecolor\":\"white\",\"ticks\":\"\"}},\"scene\":{\"xaxis\":{\"backgroundcolor\":\"#E5ECF6\",\"gridcolor\":\"white\",\"gridwidth\":2,\"linecolor\":\"white\",\"showbackground\":true,\"ticks\":\"\",\"zerolinecolor\":\"white\"},\"yaxis\":{\"backgroundcolor\":\"#E5ECF6\",\"gridcolor\":\"white\",\"gridwidth\":2,\"linecolor\":\"white\",\"showbackground\":true,\"ticks\":\"\",\"zerolinecolor\":\"white\"},\"zaxis\":{\"backgroundcolor\":\"#E5ECF6\",\"gridcolor\":\"white\",\"gridwidth\":2,\"linecolor\":\"white\",\"showbackground\":true,\"ticks\":\"\",\"zerolinecolor\":\"white\"}},\"shapedefaults\":{\"line\":{\"color\":\"#2a3f5f\"}},\"ternary\":{\"aaxis\":{\"gridcolor\":\"white\",\"linecolor\":\"white\",\"ticks\":\"\"},\"baxis\":{\"gridcolor\":\"white\",\"linecolor\":\"white\",\"ticks\":\"\"},\"bgcolor\":\"#E5ECF6\",\"caxis\":{\"gridcolor\":\"white\",\"linecolor\":\"white\",\"ticks\":\"\"}},\"title\":{\"x\":0.05},\"xaxis\":{\"automargin\":true,\"gridcolor\":\"white\",\"linecolor\":\"white\",\"ticks\":\"\",\"title\":{\"standoff\":15},\"zerolinecolor\":\"white\",\"zerolinewidth\":2},\"yaxis\":{\"automargin\":true,\"gridcolor\":\"white\",\"linecolor\":\"white\",\"ticks\":\"\",\"title\":{\"standoff\":15},\"zerolinecolor\":\"white\",\"zerolinewidth\":2}}},\"xaxis\":{\"anchor\":\"y\",\"domain\":[0.0,1.0],\"title\":{\"text\":\"Year\"}},\"yaxis\":{\"anchor\":\"x\",\"domain\":[0.0,1.0],\"title\":{\"text\":\"Solar Ratio\"}},\"legend\":{\"tracegroupgap\":0},\"margin\":{\"t\":60}},                        {\"responsive\": true}                    ).then(function(){\n",
       "                            \n",
       "var gd = document.getElementById('6a9c7d96-4df9-447a-b153-eb05c7d79bd9');\n",
       "var x = new MutationObserver(function (mutations, observer) {{\n",
       "        var display = window.getComputedStyle(gd).display;\n",
       "        if (!display || display === 'none') {{\n",
       "            console.log([gd, 'removed!']);\n",
       "            Plotly.purge(gd);\n",
       "            observer.disconnect();\n",
       "        }}\n",
       "}});\n",
       "\n",
       "// Listen for the removal of the full notebook cells\n",
       "var notebookContainer = gd.closest('#notebook-container');\n",
       "if (notebookContainer) {{\n",
       "    x.observe(notebookContainer, {childList: true});\n",
       "}}\n",
       "\n",
       "// Listen for the clearing of the current output cell\n",
       "var outputEl = gd.closest('.output');\n",
       "if (outputEl) {{\n",
       "    x.observe(outputEl, {childList: true});\n",
       "}}\n",
       "\n",
       "                        })                };                });            </script>        </div>"
      ]
     },
     "metadata": {},
     "output_type": "display_data"
    }
   ],
   "source": [
    "#fig = px.scatter(allsky, x = \"Year\", y = \"Solar Ratio\", trendline=\"ols\",  trendline_scope=\"overall\") \n",
    "fig = px.scatter(df, x = 'Year', y = 'Solar Ratio', trendline=\"ols\",  trendline_scope=\"overall\")\n",
    "#px.plot(pred_sol1, label = 'arima', trendline=\"ols\")\n",
    "fig.show()"
   ]
  },
  {
   "cell_type": "markdown",
   "id": "940e9c28",
   "metadata": {},
   "source": [
    "There are some plots in Plotly that require access tokens. I'm not sure how to import an access token into python but there is still a lot of good graphs that can be used without the access token. "
   ]
  },
  {
   "cell_type": "code",
   "execution_count": 61,
   "id": "47f32d64",
   "metadata": {},
   "outputs": [],
   "source": [
    "#import mapbox\n",
    "#from mapbox import Geocoder\n",
    "#geocoder = Geocoder(access_token=\"pk.eyJ1IjoiaXBhY2giLCJhIjoiY2wwZnAxbzE4MHYwMzNib2R2cGtoYm9wYiJ9.glp4AyHutsNt476pL95ehQ\")\n",
    "#px.set_mapbox_access_token(open(\".mapbox_token\").read())"
   ]
  },
  {
   "cell_type": "markdown",
   "id": "2080dc62",
   "metadata": {},
   "source": [
    "Here I created a csv file with the latitude and longitude coordinates as well as the corresponding city or near by town. "
   ]
  },
  {
   "cell_type": "code",
   "execution_count": 7,
   "id": "2eaeddd7",
   "metadata": {},
   "outputs": [
    {
     "data": {
      "text/html": [
       "<div>\n",
       "<style scoped>\n",
       "    .dataframe tbody tr th:only-of-type {\n",
       "        vertical-align: middle;\n",
       "    }\n",
       "\n",
       "    .dataframe tbody tr th {\n",
       "        vertical-align: top;\n",
       "    }\n",
       "\n",
       "    .dataframe thead th {\n",
       "        text-align: right;\n",
       "    }\n",
       "</style>\n",
       "<table border=\"1\" class=\"dataframe\">\n",
       "  <thead>\n",
       "    <tr style=\"text-align: right;\">\n",
       "      <th></th>\n",
       "      <th>lat</th>\n",
       "      <th>lon</th>\n",
       "      <th>Place</th>\n",
       "    </tr>\n",
       "  </thead>\n",
       "  <tbody>\n",
       "    <tr>\n",
       "      <th>0</th>\n",
       "      <td>49.0362</td>\n",
       "      <td>-122.3247</td>\n",
       "      <td>Abbotsford, Canada</td>\n",
       "    </tr>\n",
       "    <tr>\n",
       "      <th>1</th>\n",
       "      <td>49.0362</td>\n",
       "      <td>-118.4245</td>\n",
       "      <td>Grand Forks, Canada</td>\n",
       "    </tr>\n",
       "    <tr>\n",
       "      <th>2</th>\n",
       "      <td>48.9289</td>\n",
       "      <td>-117.8306</td>\n",
       "      <td>Northport, WA</td>\n",
       "    </tr>\n",
       "    <tr>\n",
       "      <th>3</th>\n",
       "      <td>48.7835</td>\n",
       "      <td>-122.3357</td>\n",
       "      <td>Dewey, WA</td>\n",
       "    </tr>\n",
       "    <tr>\n",
       "      <th>4</th>\n",
       "      <td>48.7826</td>\n",
       "      <td>-121.7994</td>\n",
       "      <td>Mt. Baker, WA</td>\n",
       "    </tr>\n",
       "  </tbody>\n",
       "</table>\n",
       "</div>"
      ],
      "text/plain": [
       "       lat       lon                Place\n",
       "0  49.0362 -122.3247   Abbotsford, Canada\n",
       "1  49.0362 -118.4245  Grand Forks, Canada\n",
       "2  48.9289 -117.8306        Northport, WA\n",
       "3  48.7835 -122.3357            Dewey, WA\n",
       "4  48.7826 -121.7994        Mt. Baker, WA"
      ]
     },
     "execution_count": 7,
     "metadata": {},
     "output_type": "execute_result"
    }
   ],
   "source": [
    "locations = pd.read_csv('Locations.csv')\n",
    "locations.head()"
   ]
  },
  {
   "cell_type": "markdown",
   "id": "438fe5e8",
   "metadata": {},
   "source": [
    "## Maps\n",
    "\n",
    "First map example using Plotly. It only has the coordinates and location. Here I was beginning to get familiar with Plotly. This may be the best map because it already focuses on the PNW. "
   ]
  },
  {
   "cell_type": "code",
   "execution_count": 8,
   "id": "3a9d52f4",
   "metadata": {},
   "outputs": [
    {
     "data": {
      "application/vnd.plotly.v1+json": {
       "config": {
        "plotlyServerURL": "https://plot.ly"
       },
       "data": [
        {
         "hovertemplate": "<b>%{hovertext}</b><br><br>lat=%{lat}<br>lon=%{lon}<extra></extra>",
         "hovertext": [
          "Abbotsford, Canada",
          "Grand Forks, Canada",
          "Northport, WA",
          "Dewey, WA",
          "Mt. Baker, WA",
          "Shaw Island, WA",
          "Rudy, WA",
          "Metchosin, Canada",
          "Port Angeles, WA",
          "Everett,  WA",
          "Wilbur, WA",
          "Spokane, WA",
          "Bellevue, WA",
          "Seattle, WA",
          "Gorst, WA",
          "Snoqualmie, WA",
          "Wenatchee, WA",
          "Kent, WA",
          "Tacoma, WA",
          "Moses Lake, WA",
          "Olympia, WA",
          "Lewiston, ID",
          "Kennewick, WA",
          "Navy Heights, OR",
          "Kelso, WA",
          "Walla Walla, WA",
          "Portland, OR"
         ],
         "lat": [
          49.0362,
          49.0362,
          48.9289,
          48.7835,
          48.7826,
          48.5767,
          48.5085,
          48.4093,
          48.0139,
          47.9735,
          47.8695,
          47.6748,
          47.6202,
          47.6155,
          47.559,
          47.5053,
          47.4189,
          47.3855,
          47.2402,
          47.1095,
          47.0347,
          46.4134,
          46.2199,
          46.1704,
          46.1514,
          46.0562,
          45.4969
         ],
         "legendgroup": "",
         "lon": [
          -122.3247,
          -118.4245,
          -117.8306,
          -122.3357,
          -121.7994,
          -122.9509,
          -117.3252,
          -123.5716,
          -123.4453,
          -122.2038,
          -118.8001,
          -117.3698,
          -122.14,
          -122.2917,
          -122.7195,
          -121.8406,
          -120.3032,
          -122.1983,
          -122.4345,
          -119.232,
          -122.863,
          -117.0293,
          -119.0837,
          -123.7804,
          -122.8191,
          -118.3476,
          -122.5938
         ],
         "marker": {
          "color": "darkviolet"
         },
         "mode": "markers",
         "name": "",
         "showlegend": false,
         "subplot": "mapbox",
         "type": "scattermapbox"
        }
       ],
       "layout": {
        "height": 400,
        "legend": {
         "tracegroupgap": 0
        },
        "mapbox": {
         "center": {
          "lat": 47.57742962962963,
          "lon": -121.0391962962963
         },
         "domain": {
          "x": [
           0,
           1
          ],
          "y": [
           0,
           1
          ]
         },
         "style": "carto-positron",
         "zoom": 5.5
        },
        "margin": {
         "b": 0,
         "l": 0,
         "r": 0,
         "t": 0
        },
        "template": {
         "data": {
          "bar": [
           {
            "error_x": {
             "color": "#2a3f5f"
            },
            "error_y": {
             "color": "#2a3f5f"
            },
            "marker": {
             "line": {
              "color": "#E5ECF6",
              "width": 0.5
             },
             "pattern": {
              "fillmode": "overlay",
              "size": 10,
              "solidity": 0.2
             }
            },
            "type": "bar"
           }
          ],
          "barpolar": [
           {
            "marker": {
             "line": {
              "color": "#E5ECF6",
              "width": 0.5
             },
             "pattern": {
              "fillmode": "overlay",
              "size": 10,
              "solidity": 0.2
             }
            },
            "type": "barpolar"
           }
          ],
          "carpet": [
           {
            "aaxis": {
             "endlinecolor": "#2a3f5f",
             "gridcolor": "white",
             "linecolor": "white",
             "minorgridcolor": "white",
             "startlinecolor": "#2a3f5f"
            },
            "baxis": {
             "endlinecolor": "#2a3f5f",
             "gridcolor": "white",
             "linecolor": "white",
             "minorgridcolor": "white",
             "startlinecolor": "#2a3f5f"
            },
            "type": "carpet"
           }
          ],
          "choropleth": [
           {
            "colorbar": {
             "outlinewidth": 0,
             "ticks": ""
            },
            "type": "choropleth"
           }
          ],
          "contour": [
           {
            "colorbar": {
             "outlinewidth": 0,
             "ticks": ""
            },
            "colorscale": [
             [
              0,
              "#0d0887"
             ],
             [
              0.1111111111111111,
              "#46039f"
             ],
             [
              0.2222222222222222,
              "#7201a8"
             ],
             [
              0.3333333333333333,
              "#9c179e"
             ],
             [
              0.4444444444444444,
              "#bd3786"
             ],
             [
              0.5555555555555556,
              "#d8576b"
             ],
             [
              0.6666666666666666,
              "#ed7953"
             ],
             [
              0.7777777777777778,
              "#fb9f3a"
             ],
             [
              0.8888888888888888,
              "#fdca26"
             ],
             [
              1,
              "#f0f921"
             ]
            ],
            "type": "contour"
           }
          ],
          "contourcarpet": [
           {
            "colorbar": {
             "outlinewidth": 0,
             "ticks": ""
            },
            "type": "contourcarpet"
           }
          ],
          "heatmap": [
           {
            "colorbar": {
             "outlinewidth": 0,
             "ticks": ""
            },
            "colorscale": [
             [
              0,
              "#0d0887"
             ],
             [
              0.1111111111111111,
              "#46039f"
             ],
             [
              0.2222222222222222,
              "#7201a8"
             ],
             [
              0.3333333333333333,
              "#9c179e"
             ],
             [
              0.4444444444444444,
              "#bd3786"
             ],
             [
              0.5555555555555556,
              "#d8576b"
             ],
             [
              0.6666666666666666,
              "#ed7953"
             ],
             [
              0.7777777777777778,
              "#fb9f3a"
             ],
             [
              0.8888888888888888,
              "#fdca26"
             ],
             [
              1,
              "#f0f921"
             ]
            ],
            "type": "heatmap"
           }
          ],
          "heatmapgl": [
           {
            "colorbar": {
             "outlinewidth": 0,
             "ticks": ""
            },
            "colorscale": [
             [
              0,
              "#0d0887"
             ],
             [
              0.1111111111111111,
              "#46039f"
             ],
             [
              0.2222222222222222,
              "#7201a8"
             ],
             [
              0.3333333333333333,
              "#9c179e"
             ],
             [
              0.4444444444444444,
              "#bd3786"
             ],
             [
              0.5555555555555556,
              "#d8576b"
             ],
             [
              0.6666666666666666,
              "#ed7953"
             ],
             [
              0.7777777777777778,
              "#fb9f3a"
             ],
             [
              0.8888888888888888,
              "#fdca26"
             ],
             [
              1,
              "#f0f921"
             ]
            ],
            "type": "heatmapgl"
           }
          ],
          "histogram": [
           {
            "marker": {
             "pattern": {
              "fillmode": "overlay",
              "size": 10,
              "solidity": 0.2
             }
            },
            "type": "histogram"
           }
          ],
          "histogram2d": [
           {
            "colorbar": {
             "outlinewidth": 0,
             "ticks": ""
            },
            "colorscale": [
             [
              0,
              "#0d0887"
             ],
             [
              0.1111111111111111,
              "#46039f"
             ],
             [
              0.2222222222222222,
              "#7201a8"
             ],
             [
              0.3333333333333333,
              "#9c179e"
             ],
             [
              0.4444444444444444,
              "#bd3786"
             ],
             [
              0.5555555555555556,
              "#d8576b"
             ],
             [
              0.6666666666666666,
              "#ed7953"
             ],
             [
              0.7777777777777778,
              "#fb9f3a"
             ],
             [
              0.8888888888888888,
              "#fdca26"
             ],
             [
              1,
              "#f0f921"
             ]
            ],
            "type": "histogram2d"
           }
          ],
          "histogram2dcontour": [
           {
            "colorbar": {
             "outlinewidth": 0,
             "ticks": ""
            },
            "colorscale": [
             [
              0,
              "#0d0887"
             ],
             [
              0.1111111111111111,
              "#46039f"
             ],
             [
              0.2222222222222222,
              "#7201a8"
             ],
             [
              0.3333333333333333,
              "#9c179e"
             ],
             [
              0.4444444444444444,
              "#bd3786"
             ],
             [
              0.5555555555555556,
              "#d8576b"
             ],
             [
              0.6666666666666666,
              "#ed7953"
             ],
             [
              0.7777777777777778,
              "#fb9f3a"
             ],
             [
              0.8888888888888888,
              "#fdca26"
             ],
             [
              1,
              "#f0f921"
             ]
            ],
            "type": "histogram2dcontour"
           }
          ],
          "mesh3d": [
           {
            "colorbar": {
             "outlinewidth": 0,
             "ticks": ""
            },
            "type": "mesh3d"
           }
          ],
          "parcoords": [
           {
            "line": {
             "colorbar": {
              "outlinewidth": 0,
              "ticks": ""
             }
            },
            "type": "parcoords"
           }
          ],
          "pie": [
           {
            "automargin": true,
            "type": "pie"
           }
          ],
          "scatter": [
           {
            "marker": {
             "colorbar": {
              "outlinewidth": 0,
              "ticks": ""
             }
            },
            "type": "scatter"
           }
          ],
          "scatter3d": [
           {
            "line": {
             "colorbar": {
              "outlinewidth": 0,
              "ticks": ""
             }
            },
            "marker": {
             "colorbar": {
              "outlinewidth": 0,
              "ticks": ""
             }
            },
            "type": "scatter3d"
           }
          ],
          "scattercarpet": [
           {
            "marker": {
             "colorbar": {
              "outlinewidth": 0,
              "ticks": ""
             }
            },
            "type": "scattercarpet"
           }
          ],
          "scattergeo": [
           {
            "marker": {
             "colorbar": {
              "outlinewidth": 0,
              "ticks": ""
             }
            },
            "type": "scattergeo"
           }
          ],
          "scattergl": [
           {
            "marker": {
             "colorbar": {
              "outlinewidth": 0,
              "ticks": ""
             }
            },
            "type": "scattergl"
           }
          ],
          "scattermapbox": [
           {
            "marker": {
             "colorbar": {
              "outlinewidth": 0,
              "ticks": ""
             }
            },
            "type": "scattermapbox"
           }
          ],
          "scatterpolar": [
           {
            "marker": {
             "colorbar": {
              "outlinewidth": 0,
              "ticks": ""
             }
            },
            "type": "scatterpolar"
           }
          ],
          "scatterpolargl": [
           {
            "marker": {
             "colorbar": {
              "outlinewidth": 0,
              "ticks": ""
             }
            },
            "type": "scatterpolargl"
           }
          ],
          "scatterternary": [
           {
            "marker": {
             "colorbar": {
              "outlinewidth": 0,
              "ticks": ""
             }
            },
            "type": "scatterternary"
           }
          ],
          "surface": [
           {
            "colorbar": {
             "outlinewidth": 0,
             "ticks": ""
            },
            "colorscale": [
             [
              0,
              "#0d0887"
             ],
             [
              0.1111111111111111,
              "#46039f"
             ],
             [
              0.2222222222222222,
              "#7201a8"
             ],
             [
              0.3333333333333333,
              "#9c179e"
             ],
             [
              0.4444444444444444,
              "#bd3786"
             ],
             [
              0.5555555555555556,
              "#d8576b"
             ],
             [
              0.6666666666666666,
              "#ed7953"
             ],
             [
              0.7777777777777778,
              "#fb9f3a"
             ],
             [
              0.8888888888888888,
              "#fdca26"
             ],
             [
              1,
              "#f0f921"
             ]
            ],
            "type": "surface"
           }
          ],
          "table": [
           {
            "cells": {
             "fill": {
              "color": "#EBF0F8"
             },
             "line": {
              "color": "white"
             }
            },
            "header": {
             "fill": {
              "color": "#C8D4E3"
             },
             "line": {
              "color": "white"
             }
            },
            "type": "table"
           }
          ]
         },
         "layout": {
          "annotationdefaults": {
           "arrowcolor": "#2a3f5f",
           "arrowhead": 0,
           "arrowwidth": 1
          },
          "autotypenumbers": "strict",
          "coloraxis": {
           "colorbar": {
            "outlinewidth": 0,
            "ticks": ""
           }
          },
          "colorscale": {
           "diverging": [
            [
             0,
             "#8e0152"
            ],
            [
             0.1,
             "#c51b7d"
            ],
            [
             0.2,
             "#de77ae"
            ],
            [
             0.3,
             "#f1b6da"
            ],
            [
             0.4,
             "#fde0ef"
            ],
            [
             0.5,
             "#f7f7f7"
            ],
            [
             0.6,
             "#e6f5d0"
            ],
            [
             0.7,
             "#b8e186"
            ],
            [
             0.8,
             "#7fbc41"
            ],
            [
             0.9,
             "#4d9221"
            ],
            [
             1,
             "#276419"
            ]
           ],
           "sequential": [
            [
             0,
             "#0d0887"
            ],
            [
             0.1111111111111111,
             "#46039f"
            ],
            [
             0.2222222222222222,
             "#7201a8"
            ],
            [
             0.3333333333333333,
             "#9c179e"
            ],
            [
             0.4444444444444444,
             "#bd3786"
            ],
            [
             0.5555555555555556,
             "#d8576b"
            ],
            [
             0.6666666666666666,
             "#ed7953"
            ],
            [
             0.7777777777777778,
             "#fb9f3a"
            ],
            [
             0.8888888888888888,
             "#fdca26"
            ],
            [
             1,
             "#f0f921"
            ]
           ],
           "sequentialminus": [
            [
             0,
             "#0d0887"
            ],
            [
             0.1111111111111111,
             "#46039f"
            ],
            [
             0.2222222222222222,
             "#7201a8"
            ],
            [
             0.3333333333333333,
             "#9c179e"
            ],
            [
             0.4444444444444444,
             "#bd3786"
            ],
            [
             0.5555555555555556,
             "#d8576b"
            ],
            [
             0.6666666666666666,
             "#ed7953"
            ],
            [
             0.7777777777777778,
             "#fb9f3a"
            ],
            [
             0.8888888888888888,
             "#fdca26"
            ],
            [
             1,
             "#f0f921"
            ]
           ]
          },
          "colorway": [
           "#636efa",
           "#EF553B",
           "#00cc96",
           "#ab63fa",
           "#FFA15A",
           "#19d3f3",
           "#FF6692",
           "#B6E880",
           "#FF97FF",
           "#FECB52"
          ],
          "font": {
           "color": "#2a3f5f"
          },
          "geo": {
           "bgcolor": "white",
           "lakecolor": "white",
           "landcolor": "#E5ECF6",
           "showlakes": true,
           "showland": true,
           "subunitcolor": "white"
          },
          "hoverlabel": {
           "align": "left"
          },
          "hovermode": "closest",
          "mapbox": {
           "style": "light"
          },
          "paper_bgcolor": "white",
          "plot_bgcolor": "#E5ECF6",
          "polar": {
           "angularaxis": {
            "gridcolor": "white",
            "linecolor": "white",
            "ticks": ""
           },
           "bgcolor": "#E5ECF6",
           "radialaxis": {
            "gridcolor": "white",
            "linecolor": "white",
            "ticks": ""
           }
          },
          "scene": {
           "xaxis": {
            "backgroundcolor": "#E5ECF6",
            "gridcolor": "white",
            "gridwidth": 2,
            "linecolor": "white",
            "showbackground": true,
            "ticks": "",
            "zerolinecolor": "white"
           },
           "yaxis": {
            "backgroundcolor": "#E5ECF6",
            "gridcolor": "white",
            "gridwidth": 2,
            "linecolor": "white",
            "showbackground": true,
            "ticks": "",
            "zerolinecolor": "white"
           },
           "zaxis": {
            "backgroundcolor": "#E5ECF6",
            "gridcolor": "white",
            "gridwidth": 2,
            "linecolor": "white",
            "showbackground": true,
            "ticks": "",
            "zerolinecolor": "white"
           }
          },
          "shapedefaults": {
           "line": {
            "color": "#2a3f5f"
           }
          },
          "ternary": {
           "aaxis": {
            "gridcolor": "white",
            "linecolor": "white",
            "ticks": ""
           },
           "baxis": {
            "gridcolor": "white",
            "linecolor": "white",
            "ticks": ""
           },
           "bgcolor": "#E5ECF6",
           "caxis": {
            "gridcolor": "white",
            "linecolor": "white",
            "ticks": ""
           }
          },
          "title": {
           "x": 0.05
          },
          "xaxis": {
           "automargin": true,
           "gridcolor": "white",
           "linecolor": "white",
           "ticks": "",
           "title": {
            "standoff": 15
           },
           "zerolinecolor": "white",
           "zerolinewidth": 2
          },
          "yaxis": {
           "automargin": true,
           "gridcolor": "white",
           "linecolor": "white",
           "ticks": "",
           "title": {
            "standoff": 15
           },
           "zerolinecolor": "white",
           "zerolinewidth": 2
          }
         }
        },
        "width": 600
       }
      },
      "text/html": [
       "<div>                            <div id=\"fc8ca240-9a19-43f1-b0d9-c70fdf914a53\" class=\"plotly-graph-div\" style=\"height:400px; width:600px;\"></div>            <script type=\"text/javascript\">                require([\"plotly\"], function(Plotly) {                    window.PLOTLYENV=window.PLOTLYENV || {};                                    if (document.getElementById(\"fc8ca240-9a19-43f1-b0d9-c70fdf914a53\")) {                    Plotly.newPlot(                        \"fc8ca240-9a19-43f1-b0d9-c70fdf914a53\",                        [{\"hovertemplate\":\"<b>%{hovertext}</b><br><br>lat=%{lat}<br>lon=%{lon}<extra></extra>\",\"hovertext\":[\"Abbotsford, Canada\",\"Grand Forks, Canada\",\"Northport, WA\",\"Dewey, WA\",\"Mt. Baker, WA\",\"Shaw Island, WA\",\"Rudy, WA\",\"Metchosin, Canada\",\"Port Angeles, WA\",\"Everett,  WA\",\"Wilbur, WA\",\"Spokane, WA\",\"Bellevue, WA\",\"Seattle, WA\",\"Gorst, WA\",\"Snoqualmie, WA\",\"Wenatchee, WA\",\"Kent, WA\",\"Tacoma, WA\",\"Moses Lake, WA\",\"Olympia, WA\",\"Lewiston, ID\",\"Kennewick, WA\",\"Navy Heights, OR\",\"Kelso, WA\",\"Walla Walla, WA\",\"Portland, OR\"],\"lat\":[49.0362,49.0362,48.9289,48.7835,48.7826,48.5767,48.5085,48.4093,48.0139,47.9735,47.8695,47.6748,47.6202,47.6155,47.559,47.5053,47.4189,47.3855,47.2402,47.1095,47.0347,46.4134,46.2199,46.1704,46.1514,46.0562,45.4969],\"legendgroup\":\"\",\"lon\":[-122.3247,-118.4245,-117.8306,-122.3357,-121.7994,-122.9509,-117.3252,-123.5716,-123.4453,-122.2038,-118.8001,-117.3698,-122.14,-122.2917,-122.7195,-121.8406,-120.3032,-122.1983,-122.4345,-119.232,-122.863,-117.0293,-119.0837,-123.7804,-122.8191,-118.3476,-122.5938],\"marker\":{\"color\":\"darkviolet\"},\"mode\":\"markers\",\"name\":\"\",\"showlegend\":false,\"subplot\":\"mapbox\",\"type\":\"scattermapbox\"}],                        {\"template\":{\"data\":{\"bar\":[{\"error_x\":{\"color\":\"#2a3f5f\"},\"error_y\":{\"color\":\"#2a3f5f\"},\"marker\":{\"line\":{\"color\":\"#E5ECF6\",\"width\":0.5},\"pattern\":{\"fillmode\":\"overlay\",\"size\":10,\"solidity\":0.2}},\"type\":\"bar\"}],\"barpolar\":[{\"marker\":{\"line\":{\"color\":\"#E5ECF6\",\"width\":0.5},\"pattern\":{\"fillmode\":\"overlay\",\"size\":10,\"solidity\":0.2}},\"type\":\"barpolar\"}],\"carpet\":[{\"aaxis\":{\"endlinecolor\":\"#2a3f5f\",\"gridcolor\":\"white\",\"linecolor\":\"white\",\"minorgridcolor\":\"white\",\"startlinecolor\":\"#2a3f5f\"},\"baxis\":{\"endlinecolor\":\"#2a3f5f\",\"gridcolor\":\"white\",\"linecolor\":\"white\",\"minorgridcolor\":\"white\",\"startlinecolor\":\"#2a3f5f\"},\"type\":\"carpet\"}],\"choropleth\":[{\"colorbar\":{\"outlinewidth\":0,\"ticks\":\"\"},\"type\":\"choropleth\"}],\"contour\":[{\"colorbar\":{\"outlinewidth\":0,\"ticks\":\"\"},\"colorscale\":[[0.0,\"#0d0887\"],[0.1111111111111111,\"#46039f\"],[0.2222222222222222,\"#7201a8\"],[0.3333333333333333,\"#9c179e\"],[0.4444444444444444,\"#bd3786\"],[0.5555555555555556,\"#d8576b\"],[0.6666666666666666,\"#ed7953\"],[0.7777777777777778,\"#fb9f3a\"],[0.8888888888888888,\"#fdca26\"],[1.0,\"#f0f921\"]],\"type\":\"contour\"}],\"contourcarpet\":[{\"colorbar\":{\"outlinewidth\":0,\"ticks\":\"\"},\"type\":\"contourcarpet\"}],\"heatmap\":[{\"colorbar\":{\"outlinewidth\":0,\"ticks\":\"\"},\"colorscale\":[[0.0,\"#0d0887\"],[0.1111111111111111,\"#46039f\"],[0.2222222222222222,\"#7201a8\"],[0.3333333333333333,\"#9c179e\"],[0.4444444444444444,\"#bd3786\"],[0.5555555555555556,\"#d8576b\"],[0.6666666666666666,\"#ed7953\"],[0.7777777777777778,\"#fb9f3a\"],[0.8888888888888888,\"#fdca26\"],[1.0,\"#f0f921\"]],\"type\":\"heatmap\"}],\"heatmapgl\":[{\"colorbar\":{\"outlinewidth\":0,\"ticks\":\"\"},\"colorscale\":[[0.0,\"#0d0887\"],[0.1111111111111111,\"#46039f\"],[0.2222222222222222,\"#7201a8\"],[0.3333333333333333,\"#9c179e\"],[0.4444444444444444,\"#bd3786\"],[0.5555555555555556,\"#d8576b\"],[0.6666666666666666,\"#ed7953\"],[0.7777777777777778,\"#fb9f3a\"],[0.8888888888888888,\"#fdca26\"],[1.0,\"#f0f921\"]],\"type\":\"heatmapgl\"}],\"histogram\":[{\"marker\":{\"pattern\":{\"fillmode\":\"overlay\",\"size\":10,\"solidity\":0.2}},\"type\":\"histogram\"}],\"histogram2d\":[{\"colorbar\":{\"outlinewidth\":0,\"ticks\":\"\"},\"colorscale\":[[0.0,\"#0d0887\"],[0.1111111111111111,\"#46039f\"],[0.2222222222222222,\"#7201a8\"],[0.3333333333333333,\"#9c179e\"],[0.4444444444444444,\"#bd3786\"],[0.5555555555555556,\"#d8576b\"],[0.6666666666666666,\"#ed7953\"],[0.7777777777777778,\"#fb9f3a\"],[0.8888888888888888,\"#fdca26\"],[1.0,\"#f0f921\"]],\"type\":\"histogram2d\"}],\"histogram2dcontour\":[{\"colorbar\":{\"outlinewidth\":0,\"ticks\":\"\"},\"colorscale\":[[0.0,\"#0d0887\"],[0.1111111111111111,\"#46039f\"],[0.2222222222222222,\"#7201a8\"],[0.3333333333333333,\"#9c179e\"],[0.4444444444444444,\"#bd3786\"],[0.5555555555555556,\"#d8576b\"],[0.6666666666666666,\"#ed7953\"],[0.7777777777777778,\"#fb9f3a\"],[0.8888888888888888,\"#fdca26\"],[1.0,\"#f0f921\"]],\"type\":\"histogram2dcontour\"}],\"mesh3d\":[{\"colorbar\":{\"outlinewidth\":0,\"ticks\":\"\"},\"type\":\"mesh3d\"}],\"parcoords\":[{\"line\":{\"colorbar\":{\"outlinewidth\":0,\"ticks\":\"\"}},\"type\":\"parcoords\"}],\"pie\":[{\"automargin\":true,\"type\":\"pie\"}],\"scatter\":[{\"marker\":{\"colorbar\":{\"outlinewidth\":0,\"ticks\":\"\"}},\"type\":\"scatter\"}],\"scatter3d\":[{\"line\":{\"colorbar\":{\"outlinewidth\":0,\"ticks\":\"\"}},\"marker\":{\"colorbar\":{\"outlinewidth\":0,\"ticks\":\"\"}},\"type\":\"scatter3d\"}],\"scattercarpet\":[{\"marker\":{\"colorbar\":{\"outlinewidth\":0,\"ticks\":\"\"}},\"type\":\"scattercarpet\"}],\"scattergeo\":[{\"marker\":{\"colorbar\":{\"outlinewidth\":0,\"ticks\":\"\"}},\"type\":\"scattergeo\"}],\"scattergl\":[{\"marker\":{\"colorbar\":{\"outlinewidth\":0,\"ticks\":\"\"}},\"type\":\"scattergl\"}],\"scattermapbox\":[{\"marker\":{\"colorbar\":{\"outlinewidth\":0,\"ticks\":\"\"}},\"type\":\"scattermapbox\"}],\"scatterpolar\":[{\"marker\":{\"colorbar\":{\"outlinewidth\":0,\"ticks\":\"\"}},\"type\":\"scatterpolar\"}],\"scatterpolargl\":[{\"marker\":{\"colorbar\":{\"outlinewidth\":0,\"ticks\":\"\"}},\"type\":\"scatterpolargl\"}],\"scatterternary\":[{\"marker\":{\"colorbar\":{\"outlinewidth\":0,\"ticks\":\"\"}},\"type\":\"scatterternary\"}],\"surface\":[{\"colorbar\":{\"outlinewidth\":0,\"ticks\":\"\"},\"colorscale\":[[0.0,\"#0d0887\"],[0.1111111111111111,\"#46039f\"],[0.2222222222222222,\"#7201a8\"],[0.3333333333333333,\"#9c179e\"],[0.4444444444444444,\"#bd3786\"],[0.5555555555555556,\"#d8576b\"],[0.6666666666666666,\"#ed7953\"],[0.7777777777777778,\"#fb9f3a\"],[0.8888888888888888,\"#fdca26\"],[1.0,\"#f0f921\"]],\"type\":\"surface\"}],\"table\":[{\"cells\":{\"fill\":{\"color\":\"#EBF0F8\"},\"line\":{\"color\":\"white\"}},\"header\":{\"fill\":{\"color\":\"#C8D4E3\"},\"line\":{\"color\":\"white\"}},\"type\":\"table\"}]},\"layout\":{\"annotationdefaults\":{\"arrowcolor\":\"#2a3f5f\",\"arrowhead\":0,\"arrowwidth\":1},\"autotypenumbers\":\"strict\",\"coloraxis\":{\"colorbar\":{\"outlinewidth\":0,\"ticks\":\"\"}},\"colorscale\":{\"diverging\":[[0,\"#8e0152\"],[0.1,\"#c51b7d\"],[0.2,\"#de77ae\"],[0.3,\"#f1b6da\"],[0.4,\"#fde0ef\"],[0.5,\"#f7f7f7\"],[0.6,\"#e6f5d0\"],[0.7,\"#b8e186\"],[0.8,\"#7fbc41\"],[0.9,\"#4d9221\"],[1,\"#276419\"]],\"sequential\":[[0.0,\"#0d0887\"],[0.1111111111111111,\"#46039f\"],[0.2222222222222222,\"#7201a8\"],[0.3333333333333333,\"#9c179e\"],[0.4444444444444444,\"#bd3786\"],[0.5555555555555556,\"#d8576b\"],[0.6666666666666666,\"#ed7953\"],[0.7777777777777778,\"#fb9f3a\"],[0.8888888888888888,\"#fdca26\"],[1.0,\"#f0f921\"]],\"sequentialminus\":[[0.0,\"#0d0887\"],[0.1111111111111111,\"#46039f\"],[0.2222222222222222,\"#7201a8\"],[0.3333333333333333,\"#9c179e\"],[0.4444444444444444,\"#bd3786\"],[0.5555555555555556,\"#d8576b\"],[0.6666666666666666,\"#ed7953\"],[0.7777777777777778,\"#fb9f3a\"],[0.8888888888888888,\"#fdca26\"],[1.0,\"#f0f921\"]]},\"colorway\":[\"#636efa\",\"#EF553B\",\"#00cc96\",\"#ab63fa\",\"#FFA15A\",\"#19d3f3\",\"#FF6692\",\"#B6E880\",\"#FF97FF\",\"#FECB52\"],\"font\":{\"color\":\"#2a3f5f\"},\"geo\":{\"bgcolor\":\"white\",\"lakecolor\":\"white\",\"landcolor\":\"#E5ECF6\",\"showlakes\":true,\"showland\":true,\"subunitcolor\":\"white\"},\"hoverlabel\":{\"align\":\"left\"},\"hovermode\":\"closest\",\"mapbox\":{\"style\":\"light\"},\"paper_bgcolor\":\"white\",\"plot_bgcolor\":\"#E5ECF6\",\"polar\":{\"angularaxis\":{\"gridcolor\":\"white\",\"linecolor\":\"white\",\"ticks\":\"\"},\"bgcolor\":\"#E5ECF6\",\"radialaxis\":{\"gridcolor\":\"white\",\"linecolor\":\"white\",\"ticks\":\"\"}},\"scene\":{\"xaxis\":{\"backgroundcolor\":\"#E5ECF6\",\"gridcolor\":\"white\",\"gridwidth\":2,\"linecolor\":\"white\",\"showbackground\":true,\"ticks\":\"\",\"zerolinecolor\":\"white\"},\"yaxis\":{\"backgroundcolor\":\"#E5ECF6\",\"gridcolor\":\"white\",\"gridwidth\":2,\"linecolor\":\"white\",\"showbackground\":true,\"ticks\":\"\",\"zerolinecolor\":\"white\"},\"zaxis\":{\"backgroundcolor\":\"#E5ECF6\",\"gridcolor\":\"white\",\"gridwidth\":2,\"linecolor\":\"white\",\"showbackground\":true,\"ticks\":\"\",\"zerolinecolor\":\"white\"}},\"shapedefaults\":{\"line\":{\"color\":\"#2a3f5f\"}},\"ternary\":{\"aaxis\":{\"gridcolor\":\"white\",\"linecolor\":\"white\",\"ticks\":\"\"},\"baxis\":{\"gridcolor\":\"white\",\"linecolor\":\"white\",\"ticks\":\"\"},\"bgcolor\":\"#E5ECF6\",\"caxis\":{\"gridcolor\":\"white\",\"linecolor\":\"white\",\"ticks\":\"\"}},\"title\":{\"x\":0.05},\"xaxis\":{\"automargin\":true,\"gridcolor\":\"white\",\"linecolor\":\"white\",\"ticks\":\"\",\"title\":{\"standoff\":15},\"zerolinecolor\":\"white\",\"zerolinewidth\":2},\"yaxis\":{\"automargin\":true,\"gridcolor\":\"white\",\"linecolor\":\"white\",\"ticks\":\"\",\"title\":{\"standoff\":15},\"zerolinecolor\":\"white\",\"zerolinewidth\":2}}},\"mapbox\":{\"domain\":{\"x\":[0.0,1.0],\"y\":[0.0,1.0]},\"center\":{\"lat\":47.57742962962963,\"lon\":-121.0391962962963},\"zoom\":5.5,\"style\":\"carto-positron\"},\"legend\":{\"tracegroupgap\":0},\"margin\":{\"t\":0,\"r\":0,\"l\":0,\"b\":0},\"height\":400,\"width\":600},                        {\"responsive\": true}                    ).then(function(){\n",
       "                            \n",
       "var gd = document.getElementById('fc8ca240-9a19-43f1-b0d9-c70fdf914a53');\n",
       "var x = new MutationObserver(function (mutations, observer) {{\n",
       "        var display = window.getComputedStyle(gd).display;\n",
       "        if (!display || display === 'none') {{\n",
       "            console.log([gd, 'removed!']);\n",
       "            Plotly.purge(gd);\n",
       "            observer.disconnect();\n",
       "        }}\n",
       "}});\n",
       "\n",
       "// Listen for the removal of the full notebook cells\n",
       "var notebookContainer = gd.closest('#notebook-container');\n",
       "if (notebookContainer) {{\n",
       "    x.observe(notebookContainer, {childList: true});\n",
       "}}\n",
       "\n",
       "// Listen for the clearing of the current output cell\n",
       "var outputEl = gd.closest('.output');\n",
       "if (outputEl) {{\n",
       "    x.observe(outputEl, {childList: true});\n",
       "}}\n",
       "\n",
       "                        })                };                });            </script>        </div>"
      ]
     },
     "metadata": {},
     "output_type": "display_data"
    }
   ],
   "source": [
    "fig = px.scatter_mapbox(locations, lat=\"lat\", lon=\"lon\", hover_name = \"Place\", \n",
    "                        color_discrete_sequence=[\"darkviolet\"], zoom=5.5, height=400, width = 600)\n",
    "# styles: \"open-street-map\" or \"carto-positron\" are the best options \n",
    "fig.update_layout(mapbox_style=\"carto-positron\")\n",
    "fig.update_layout(margin={\"r\":0,\"t\":0,\"l\":0,\"b\":0})\n",
    "fig.show()"
   ]
  },
  {
   "cell_type": "markdown",
   "id": "7a1e0fd5",
   "metadata": {},
   "source": [
    "Here is another map through geopandas. There isn't any data associated with each location yet, which I think is the reason why the points aren't visible on the map yet. Also, I'm not sure how to focus on only the PNW. This one may be useful though because it automatically labels them with a color."
   ]
  },
  {
   "cell_type": "code",
   "execution_count": 5,
   "id": "ebe60792",
   "metadata": {},
   "outputs": [
    {
     "data": {
      "application/vnd.plotly.v1+json": {
       "config": {
        "plotlyServerURL": "https://plot.ly"
       },
       "data": [
        {
         "geo": "geo",
         "hovertemplate": "<b>%{hovertext}</b><br><br>Place=%{location}<br>lat=%{lat}<br>lon=%{lon}<extra></extra>",
         "hovertext": [
          "Abbotsford, Canada"
         ],
         "lat": [
          49.0362
         ],
         "legendgroup": "Abbotsford, Canada",
         "locations": [
          "Abbotsford, Canada"
         ],
         "lon": [
          -122.3247
         ],
         "marker": {
          "color": "#636efa",
          "symbol": "circle"
         },
         "mode": "markers",
         "name": "Abbotsford, Canada",
         "showlegend": true,
         "type": "scattergeo"
        },
        {
         "geo": "geo",
         "hovertemplate": "<b>%{hovertext}</b><br><br>Place=%{location}<br>lat=%{lat}<br>lon=%{lon}<extra></extra>",
         "hovertext": [
          "Grand Forks, Canada"
         ],
         "lat": [
          49.0362
         ],
         "legendgroup": "Grand Forks, Canada",
         "locations": [
          "Grand Forks, Canada"
         ],
         "lon": [
          -118.4245
         ],
         "marker": {
          "color": "#EF553B",
          "symbol": "circle"
         },
         "mode": "markers",
         "name": "Grand Forks, Canada",
         "showlegend": true,
         "type": "scattergeo"
        },
        {
         "geo": "geo",
         "hovertemplate": "<b>%{hovertext}</b><br><br>Place=%{location}<br>lat=%{lat}<br>lon=%{lon}<extra></extra>",
         "hovertext": [
          "Northport, WA"
         ],
         "lat": [
          48.9289
         ],
         "legendgroup": "Northport, WA",
         "locations": [
          "Northport, WA"
         ],
         "lon": [
          -117.8306
         ],
         "marker": {
          "color": "#00cc96",
          "symbol": "circle"
         },
         "mode": "markers",
         "name": "Northport, WA",
         "showlegend": true,
         "type": "scattergeo"
        },
        {
         "geo": "geo",
         "hovertemplate": "<b>%{hovertext}</b><br><br>Place=%{location}<br>lat=%{lat}<br>lon=%{lon}<extra></extra>",
         "hovertext": [
          "Dewey, WA"
         ],
         "lat": [
          48.7835
         ],
         "legendgroup": "Dewey, WA",
         "locations": [
          "Dewey, WA"
         ],
         "lon": [
          -122.3357
         ],
         "marker": {
          "color": "#ab63fa",
          "symbol": "circle"
         },
         "mode": "markers",
         "name": "Dewey, WA",
         "showlegend": true,
         "type": "scattergeo"
        },
        {
         "geo": "geo",
         "hovertemplate": "<b>%{hovertext}</b><br><br>Place=%{location}<br>lat=%{lat}<br>lon=%{lon}<extra></extra>",
         "hovertext": [
          "Mt. Baker, WA"
         ],
         "lat": [
          48.7826
         ],
         "legendgroup": "Mt. Baker, WA",
         "locations": [
          "Mt. Baker, WA"
         ],
         "lon": [
          -121.7994
         ],
         "marker": {
          "color": "#FFA15A",
          "symbol": "circle"
         },
         "mode": "markers",
         "name": "Mt. Baker, WA",
         "showlegend": true,
         "type": "scattergeo"
        },
        {
         "geo": "geo",
         "hovertemplate": "<b>%{hovertext}</b><br><br>Place=%{location}<br>lat=%{lat}<br>lon=%{lon}<extra></extra>",
         "hovertext": [
          "Shaw Island, WA"
         ],
         "lat": [
          48.5767
         ],
         "legendgroup": "Shaw Island, WA",
         "locations": [
          "Shaw Island, WA"
         ],
         "lon": [
          -122.9509
         ],
         "marker": {
          "color": "#19d3f3",
          "symbol": "circle"
         },
         "mode": "markers",
         "name": "Shaw Island, WA",
         "showlegend": true,
         "type": "scattergeo"
        },
        {
         "geo": "geo",
         "hovertemplate": "<b>%{hovertext}</b><br><br>Place=%{location}<br>lat=%{lat}<br>lon=%{lon}<extra></extra>",
         "hovertext": [
          "Rudy, WA"
         ],
         "lat": [
          48.5085
         ],
         "legendgroup": "Rudy, WA",
         "locations": [
          "Rudy, WA"
         ],
         "lon": [
          -117.3252
         ],
         "marker": {
          "color": "#FF6692",
          "symbol": "circle"
         },
         "mode": "markers",
         "name": "Rudy, WA",
         "showlegend": true,
         "type": "scattergeo"
        },
        {
         "geo": "geo",
         "hovertemplate": "<b>%{hovertext}</b><br><br>Place=%{location}<br>lat=%{lat}<br>lon=%{lon}<extra></extra>",
         "hovertext": [
          "Metchosin, Canada"
         ],
         "lat": [
          48.4093
         ],
         "legendgroup": "Metchosin, Canada",
         "locations": [
          "Metchosin, Canada"
         ],
         "lon": [
          -123.5716
         ],
         "marker": {
          "color": "#B6E880",
          "symbol": "circle"
         },
         "mode": "markers",
         "name": "Metchosin, Canada",
         "showlegend": true,
         "type": "scattergeo"
        },
        {
         "geo": "geo",
         "hovertemplate": "<b>%{hovertext}</b><br><br>Place=%{location}<br>lat=%{lat}<br>lon=%{lon}<extra></extra>",
         "hovertext": [
          "Port Angeles, WA"
         ],
         "lat": [
          48.0139
         ],
         "legendgroup": "Port Angeles, WA",
         "locations": [
          "Port Angeles, WA"
         ],
         "lon": [
          -123.4453
         ],
         "marker": {
          "color": "#FF97FF",
          "symbol": "circle"
         },
         "mode": "markers",
         "name": "Port Angeles, WA",
         "showlegend": true,
         "type": "scattergeo"
        },
        {
         "geo": "geo",
         "hovertemplate": "<b>%{hovertext}</b><br><br>Place=%{location}<br>lat=%{lat}<br>lon=%{lon}<extra></extra>",
         "hovertext": [
          "Everett,  WA"
         ],
         "lat": [
          47.9735
         ],
         "legendgroup": "Everett,  WA",
         "locations": [
          "Everett,  WA"
         ],
         "lon": [
          -122.2038
         ],
         "marker": {
          "color": "#FECB52",
          "symbol": "circle"
         },
         "mode": "markers",
         "name": "Everett,  WA",
         "showlegend": true,
         "type": "scattergeo"
        },
        {
         "geo": "geo",
         "hovertemplate": "<b>%{hovertext}</b><br><br>Place=%{location}<br>lat=%{lat}<br>lon=%{lon}<extra></extra>",
         "hovertext": [
          "Wilbur, WA"
         ],
         "lat": [
          47.8695
         ],
         "legendgroup": "Wilbur, WA",
         "locations": [
          "Wilbur, WA"
         ],
         "lon": [
          -118.8001
         ],
         "marker": {
          "color": "#636efa",
          "symbol": "circle"
         },
         "mode": "markers",
         "name": "Wilbur, WA",
         "showlegend": true,
         "type": "scattergeo"
        },
        {
         "geo": "geo",
         "hovertemplate": "<b>%{hovertext}</b><br><br>Place=%{location}<br>lat=%{lat}<br>lon=%{lon}<extra></extra>",
         "hovertext": [
          "Spokane, WA"
         ],
         "lat": [
          47.6748
         ],
         "legendgroup": "Spokane, WA",
         "locations": [
          "Spokane, WA"
         ],
         "lon": [
          -117.3698
         ],
         "marker": {
          "color": "#EF553B",
          "symbol": "circle"
         },
         "mode": "markers",
         "name": "Spokane, WA",
         "showlegend": true,
         "type": "scattergeo"
        },
        {
         "geo": "geo",
         "hovertemplate": "<b>%{hovertext}</b><br><br>Place=%{location}<br>lat=%{lat}<br>lon=%{lon}<extra></extra>",
         "hovertext": [
          "Bellevue, WA"
         ],
         "lat": [
          47.6202
         ],
         "legendgroup": "Bellevue, WA",
         "locations": [
          "Bellevue, WA"
         ],
         "lon": [
          -122.14
         ],
         "marker": {
          "color": "#00cc96",
          "symbol": "circle"
         },
         "mode": "markers",
         "name": "Bellevue, WA",
         "showlegend": true,
         "type": "scattergeo"
        },
        {
         "geo": "geo",
         "hovertemplate": "<b>%{hovertext}</b><br><br>Place=%{location}<br>lat=%{lat}<br>lon=%{lon}<extra></extra>",
         "hovertext": [
          "Seattle, WA"
         ],
         "lat": [
          47.6155
         ],
         "legendgroup": "Seattle, WA",
         "locations": [
          "Seattle, WA"
         ],
         "lon": [
          -122.2917
         ],
         "marker": {
          "color": "#ab63fa",
          "symbol": "circle"
         },
         "mode": "markers",
         "name": "Seattle, WA",
         "showlegend": true,
         "type": "scattergeo"
        },
        {
         "geo": "geo",
         "hovertemplate": "<b>%{hovertext}</b><br><br>Place=%{location}<br>lat=%{lat}<br>lon=%{lon}<extra></extra>",
         "hovertext": [
          "Gorst, WA"
         ],
         "lat": [
          47.559
         ],
         "legendgroup": "Gorst, WA",
         "locations": [
          "Gorst, WA"
         ],
         "lon": [
          -122.7195
         ],
         "marker": {
          "color": "#FFA15A",
          "symbol": "circle"
         },
         "mode": "markers",
         "name": "Gorst, WA",
         "showlegend": true,
         "type": "scattergeo"
        },
        {
         "geo": "geo",
         "hovertemplate": "<b>%{hovertext}</b><br><br>Place=%{location}<br>lat=%{lat}<br>lon=%{lon}<extra></extra>",
         "hovertext": [
          "Snoqualmie, WA"
         ],
         "lat": [
          47.5053
         ],
         "legendgroup": "Snoqualmie, WA",
         "locations": [
          "Snoqualmie, WA"
         ],
         "lon": [
          -121.8406
         ],
         "marker": {
          "color": "#19d3f3",
          "symbol": "circle"
         },
         "mode": "markers",
         "name": "Snoqualmie, WA",
         "showlegend": true,
         "type": "scattergeo"
        },
        {
         "geo": "geo",
         "hovertemplate": "<b>%{hovertext}</b><br><br>Place=%{location}<br>lat=%{lat}<br>lon=%{lon}<extra></extra>",
         "hovertext": [
          "Wenatchee, WA"
         ],
         "lat": [
          47.4189
         ],
         "legendgroup": "Wenatchee, WA",
         "locations": [
          "Wenatchee, WA"
         ],
         "lon": [
          -120.3032
         ],
         "marker": {
          "color": "#FF6692",
          "symbol": "circle"
         },
         "mode": "markers",
         "name": "Wenatchee, WA",
         "showlegend": true,
         "type": "scattergeo"
        },
        {
         "geo": "geo",
         "hovertemplate": "<b>%{hovertext}</b><br><br>Place=%{location}<br>lat=%{lat}<br>lon=%{lon}<extra></extra>",
         "hovertext": [
          "Kent, WA"
         ],
         "lat": [
          47.3855
         ],
         "legendgroup": "Kent, WA",
         "locations": [
          "Kent, WA"
         ],
         "lon": [
          -122.1983
         ],
         "marker": {
          "color": "#B6E880",
          "symbol": "circle"
         },
         "mode": "markers",
         "name": "Kent, WA",
         "showlegend": true,
         "type": "scattergeo"
        },
        {
         "geo": "geo",
         "hovertemplate": "<b>%{hovertext}</b><br><br>Place=%{location}<br>lat=%{lat}<br>lon=%{lon}<extra></extra>",
         "hovertext": [
          "Tacoma, WA"
         ],
         "lat": [
          47.2402
         ],
         "legendgroup": "Tacoma, WA",
         "locations": [
          "Tacoma, WA"
         ],
         "lon": [
          -122.4345
         ],
         "marker": {
          "color": "#FF97FF",
          "symbol": "circle"
         },
         "mode": "markers",
         "name": "Tacoma, WA",
         "showlegend": true,
         "type": "scattergeo"
        },
        {
         "geo": "geo",
         "hovertemplate": "<b>%{hovertext}</b><br><br>Place=%{location}<br>lat=%{lat}<br>lon=%{lon}<extra></extra>",
         "hovertext": [
          "Moses Lake, WA"
         ],
         "lat": [
          47.1095
         ],
         "legendgroup": "Moses Lake, WA",
         "locations": [
          "Moses Lake, WA"
         ],
         "lon": [
          -119.232
         ],
         "marker": {
          "color": "#FECB52",
          "symbol": "circle"
         },
         "mode": "markers",
         "name": "Moses Lake, WA",
         "showlegend": true,
         "type": "scattergeo"
        },
        {
         "geo": "geo",
         "hovertemplate": "<b>%{hovertext}</b><br><br>Place=%{location}<br>lat=%{lat}<br>lon=%{lon}<extra></extra>",
         "hovertext": [
          "Olympia, WA"
         ],
         "lat": [
          47.0347
         ],
         "legendgroup": "Olympia, WA",
         "locations": [
          "Olympia, WA"
         ],
         "lon": [
          -122.863
         ],
         "marker": {
          "color": "#636efa",
          "symbol": "circle"
         },
         "mode": "markers",
         "name": "Olympia, WA",
         "showlegend": true,
         "type": "scattergeo"
        },
        {
         "geo": "geo",
         "hovertemplate": "<b>%{hovertext}</b><br><br>Place=%{location}<br>lat=%{lat}<br>lon=%{lon}<extra></extra>",
         "hovertext": [
          "Lewiston, ID"
         ],
         "lat": [
          46.4134
         ],
         "legendgroup": "Lewiston, ID",
         "locations": [
          "Lewiston, ID"
         ],
         "lon": [
          -117.0293
         ],
         "marker": {
          "color": "#EF553B",
          "symbol": "circle"
         },
         "mode": "markers",
         "name": "Lewiston, ID",
         "showlegend": true,
         "type": "scattergeo"
        },
        {
         "geo": "geo",
         "hovertemplate": "<b>%{hovertext}</b><br><br>Place=%{location}<br>lat=%{lat}<br>lon=%{lon}<extra></extra>",
         "hovertext": [
          "Kennewick, WA"
         ],
         "lat": [
          46.2199
         ],
         "legendgroup": "Kennewick, WA",
         "locations": [
          "Kennewick, WA"
         ],
         "lon": [
          -119.0837
         ],
         "marker": {
          "color": "#00cc96",
          "symbol": "circle"
         },
         "mode": "markers",
         "name": "Kennewick, WA",
         "showlegend": true,
         "type": "scattergeo"
        },
        {
         "geo": "geo",
         "hovertemplate": "<b>%{hovertext}</b><br><br>Place=%{location}<br>lat=%{lat}<br>lon=%{lon}<extra></extra>",
         "hovertext": [
          "Navy Heights, OR"
         ],
         "lat": [
          46.1704
         ],
         "legendgroup": "Navy Heights, OR",
         "locations": [
          "Navy Heights, OR"
         ],
         "lon": [
          -123.7804
         ],
         "marker": {
          "color": "#ab63fa",
          "symbol": "circle"
         },
         "mode": "markers",
         "name": "Navy Heights, OR",
         "showlegend": true,
         "type": "scattergeo"
        },
        {
         "geo": "geo",
         "hovertemplate": "<b>%{hovertext}</b><br><br>Place=%{location}<br>lat=%{lat}<br>lon=%{lon}<extra></extra>",
         "hovertext": [
          "Kelso, WA"
         ],
         "lat": [
          46.1514
         ],
         "legendgroup": "Kelso, WA",
         "locations": [
          "Kelso, WA"
         ],
         "lon": [
          -122.8191
         ],
         "marker": {
          "color": "#FFA15A",
          "symbol": "circle"
         },
         "mode": "markers",
         "name": "Kelso, WA",
         "showlegend": true,
         "type": "scattergeo"
        },
        {
         "geo": "geo",
         "hovertemplate": "<b>%{hovertext}</b><br><br>Place=%{location}<br>lat=%{lat}<br>lon=%{lon}<extra></extra>",
         "hovertext": [
          "Walla Walla, WA"
         ],
         "lat": [
          46.0562
         ],
         "legendgroup": "Walla Walla, WA",
         "locations": [
          "Walla Walla, WA"
         ],
         "lon": [
          -118.3476
         ],
         "marker": {
          "color": "#19d3f3",
          "symbol": "circle"
         },
         "mode": "markers",
         "name": "Walla Walla, WA",
         "showlegend": true,
         "type": "scattergeo"
        },
        {
         "geo": "geo",
         "hovertemplate": "<b>%{hovertext}</b><br><br>Place=%{location}<br>lat=%{lat}<br>lon=%{lon}<extra></extra>",
         "hovertext": [
          "Portland, OR"
         ],
         "lat": [
          45.4969
         ],
         "legendgroup": "Portland, OR",
         "locations": [
          "Portland, OR"
         ],
         "lon": [
          -122.5938
         ],
         "marker": {
          "color": "#FF6692",
          "symbol": "circle"
         },
         "mode": "markers",
         "name": "Portland, OR",
         "showlegend": true,
         "type": "scattergeo"
        }
       ],
       "layout": {
        "geo": {
         "center": {},
         "domain": {
          "x": [
           0,
           1
          ],
          "y": [
           0,
           1
          ]
         },
         "scope": "usa"
        },
        "legend": {
         "title": {
          "text": "Place"
         },
         "tracegroupgap": 0
        },
        "margin": {
         "t": 60
        },
        "template": {
         "data": {
          "bar": [
           {
            "error_x": {
             "color": "#2a3f5f"
            },
            "error_y": {
             "color": "#2a3f5f"
            },
            "marker": {
             "line": {
              "color": "#E5ECF6",
              "width": 0.5
             },
             "pattern": {
              "fillmode": "overlay",
              "size": 10,
              "solidity": 0.2
             }
            },
            "type": "bar"
           }
          ],
          "barpolar": [
           {
            "marker": {
             "line": {
              "color": "#E5ECF6",
              "width": 0.5
             },
             "pattern": {
              "fillmode": "overlay",
              "size": 10,
              "solidity": 0.2
             }
            },
            "type": "barpolar"
           }
          ],
          "carpet": [
           {
            "aaxis": {
             "endlinecolor": "#2a3f5f",
             "gridcolor": "white",
             "linecolor": "white",
             "minorgridcolor": "white",
             "startlinecolor": "#2a3f5f"
            },
            "baxis": {
             "endlinecolor": "#2a3f5f",
             "gridcolor": "white",
             "linecolor": "white",
             "minorgridcolor": "white",
             "startlinecolor": "#2a3f5f"
            },
            "type": "carpet"
           }
          ],
          "choropleth": [
           {
            "colorbar": {
             "outlinewidth": 0,
             "ticks": ""
            },
            "type": "choropleth"
           }
          ],
          "contour": [
           {
            "colorbar": {
             "outlinewidth": 0,
             "ticks": ""
            },
            "colorscale": [
             [
              0,
              "#0d0887"
             ],
             [
              0.1111111111111111,
              "#46039f"
             ],
             [
              0.2222222222222222,
              "#7201a8"
             ],
             [
              0.3333333333333333,
              "#9c179e"
             ],
             [
              0.4444444444444444,
              "#bd3786"
             ],
             [
              0.5555555555555556,
              "#d8576b"
             ],
             [
              0.6666666666666666,
              "#ed7953"
             ],
             [
              0.7777777777777778,
              "#fb9f3a"
             ],
             [
              0.8888888888888888,
              "#fdca26"
             ],
             [
              1,
              "#f0f921"
             ]
            ],
            "type": "contour"
           }
          ],
          "contourcarpet": [
           {
            "colorbar": {
             "outlinewidth": 0,
             "ticks": ""
            },
            "type": "contourcarpet"
           }
          ],
          "heatmap": [
           {
            "colorbar": {
             "outlinewidth": 0,
             "ticks": ""
            },
            "colorscale": [
             [
              0,
              "#0d0887"
             ],
             [
              0.1111111111111111,
              "#46039f"
             ],
             [
              0.2222222222222222,
              "#7201a8"
             ],
             [
              0.3333333333333333,
              "#9c179e"
             ],
             [
              0.4444444444444444,
              "#bd3786"
             ],
             [
              0.5555555555555556,
              "#d8576b"
             ],
             [
              0.6666666666666666,
              "#ed7953"
             ],
             [
              0.7777777777777778,
              "#fb9f3a"
             ],
             [
              0.8888888888888888,
              "#fdca26"
             ],
             [
              1,
              "#f0f921"
             ]
            ],
            "type": "heatmap"
           }
          ],
          "heatmapgl": [
           {
            "colorbar": {
             "outlinewidth": 0,
             "ticks": ""
            },
            "colorscale": [
             [
              0,
              "#0d0887"
             ],
             [
              0.1111111111111111,
              "#46039f"
             ],
             [
              0.2222222222222222,
              "#7201a8"
             ],
             [
              0.3333333333333333,
              "#9c179e"
             ],
             [
              0.4444444444444444,
              "#bd3786"
             ],
             [
              0.5555555555555556,
              "#d8576b"
             ],
             [
              0.6666666666666666,
              "#ed7953"
             ],
             [
              0.7777777777777778,
              "#fb9f3a"
             ],
             [
              0.8888888888888888,
              "#fdca26"
             ],
             [
              1,
              "#f0f921"
             ]
            ],
            "type": "heatmapgl"
           }
          ],
          "histogram": [
           {
            "marker": {
             "pattern": {
              "fillmode": "overlay",
              "size": 10,
              "solidity": 0.2
             }
            },
            "type": "histogram"
           }
          ],
          "histogram2d": [
           {
            "colorbar": {
             "outlinewidth": 0,
             "ticks": ""
            },
            "colorscale": [
             [
              0,
              "#0d0887"
             ],
             [
              0.1111111111111111,
              "#46039f"
             ],
             [
              0.2222222222222222,
              "#7201a8"
             ],
             [
              0.3333333333333333,
              "#9c179e"
             ],
             [
              0.4444444444444444,
              "#bd3786"
             ],
             [
              0.5555555555555556,
              "#d8576b"
             ],
             [
              0.6666666666666666,
              "#ed7953"
             ],
             [
              0.7777777777777778,
              "#fb9f3a"
             ],
             [
              0.8888888888888888,
              "#fdca26"
             ],
             [
              1,
              "#f0f921"
             ]
            ],
            "type": "histogram2d"
           }
          ],
          "histogram2dcontour": [
           {
            "colorbar": {
             "outlinewidth": 0,
             "ticks": ""
            },
            "colorscale": [
             [
              0,
              "#0d0887"
             ],
             [
              0.1111111111111111,
              "#46039f"
             ],
             [
              0.2222222222222222,
              "#7201a8"
             ],
             [
              0.3333333333333333,
              "#9c179e"
             ],
             [
              0.4444444444444444,
              "#bd3786"
             ],
             [
              0.5555555555555556,
              "#d8576b"
             ],
             [
              0.6666666666666666,
              "#ed7953"
             ],
             [
              0.7777777777777778,
              "#fb9f3a"
             ],
             [
              0.8888888888888888,
              "#fdca26"
             ],
             [
              1,
              "#f0f921"
             ]
            ],
            "type": "histogram2dcontour"
           }
          ],
          "mesh3d": [
           {
            "colorbar": {
             "outlinewidth": 0,
             "ticks": ""
            },
            "type": "mesh3d"
           }
          ],
          "parcoords": [
           {
            "line": {
             "colorbar": {
              "outlinewidth": 0,
              "ticks": ""
             }
            },
            "type": "parcoords"
           }
          ],
          "pie": [
           {
            "automargin": true,
            "type": "pie"
           }
          ],
          "scatter": [
           {
            "marker": {
             "colorbar": {
              "outlinewidth": 0,
              "ticks": ""
             }
            },
            "type": "scatter"
           }
          ],
          "scatter3d": [
           {
            "line": {
             "colorbar": {
              "outlinewidth": 0,
              "ticks": ""
             }
            },
            "marker": {
             "colorbar": {
              "outlinewidth": 0,
              "ticks": ""
             }
            },
            "type": "scatter3d"
           }
          ],
          "scattercarpet": [
           {
            "marker": {
             "colorbar": {
              "outlinewidth": 0,
              "ticks": ""
             }
            },
            "type": "scattercarpet"
           }
          ],
          "scattergeo": [
           {
            "marker": {
             "colorbar": {
              "outlinewidth": 0,
              "ticks": ""
             }
            },
            "type": "scattergeo"
           }
          ],
          "scattergl": [
           {
            "marker": {
             "colorbar": {
              "outlinewidth": 0,
              "ticks": ""
             }
            },
            "type": "scattergl"
           }
          ],
          "scattermapbox": [
           {
            "marker": {
             "colorbar": {
              "outlinewidth": 0,
              "ticks": ""
             }
            },
            "type": "scattermapbox"
           }
          ],
          "scatterpolar": [
           {
            "marker": {
             "colorbar": {
              "outlinewidth": 0,
              "ticks": ""
             }
            },
            "type": "scatterpolar"
           }
          ],
          "scatterpolargl": [
           {
            "marker": {
             "colorbar": {
              "outlinewidth": 0,
              "ticks": ""
             }
            },
            "type": "scatterpolargl"
           }
          ],
          "scatterternary": [
           {
            "marker": {
             "colorbar": {
              "outlinewidth": 0,
              "ticks": ""
             }
            },
            "type": "scatterternary"
           }
          ],
          "surface": [
           {
            "colorbar": {
             "outlinewidth": 0,
             "ticks": ""
            },
            "colorscale": [
             [
              0,
              "#0d0887"
             ],
             [
              0.1111111111111111,
              "#46039f"
             ],
             [
              0.2222222222222222,
              "#7201a8"
             ],
             [
              0.3333333333333333,
              "#9c179e"
             ],
             [
              0.4444444444444444,
              "#bd3786"
             ],
             [
              0.5555555555555556,
              "#d8576b"
             ],
             [
              0.6666666666666666,
              "#ed7953"
             ],
             [
              0.7777777777777778,
              "#fb9f3a"
             ],
             [
              0.8888888888888888,
              "#fdca26"
             ],
             [
              1,
              "#f0f921"
             ]
            ],
            "type": "surface"
           }
          ],
          "table": [
           {
            "cells": {
             "fill": {
              "color": "#EBF0F8"
             },
             "line": {
              "color": "white"
             }
            },
            "header": {
             "fill": {
              "color": "#C8D4E3"
             },
             "line": {
              "color": "white"
             }
            },
            "type": "table"
           }
          ]
         },
         "layout": {
          "annotationdefaults": {
           "arrowcolor": "#2a3f5f",
           "arrowhead": 0,
           "arrowwidth": 1
          },
          "autotypenumbers": "strict",
          "coloraxis": {
           "colorbar": {
            "outlinewidth": 0,
            "ticks": ""
           }
          },
          "colorscale": {
           "diverging": [
            [
             0,
             "#8e0152"
            ],
            [
             0.1,
             "#c51b7d"
            ],
            [
             0.2,
             "#de77ae"
            ],
            [
             0.3,
             "#f1b6da"
            ],
            [
             0.4,
             "#fde0ef"
            ],
            [
             0.5,
             "#f7f7f7"
            ],
            [
             0.6,
             "#e6f5d0"
            ],
            [
             0.7,
             "#b8e186"
            ],
            [
             0.8,
             "#7fbc41"
            ],
            [
             0.9,
             "#4d9221"
            ],
            [
             1,
             "#276419"
            ]
           ],
           "sequential": [
            [
             0,
             "#0d0887"
            ],
            [
             0.1111111111111111,
             "#46039f"
            ],
            [
             0.2222222222222222,
             "#7201a8"
            ],
            [
             0.3333333333333333,
             "#9c179e"
            ],
            [
             0.4444444444444444,
             "#bd3786"
            ],
            [
             0.5555555555555556,
             "#d8576b"
            ],
            [
             0.6666666666666666,
             "#ed7953"
            ],
            [
             0.7777777777777778,
             "#fb9f3a"
            ],
            [
             0.8888888888888888,
             "#fdca26"
            ],
            [
             1,
             "#f0f921"
            ]
           ],
           "sequentialminus": [
            [
             0,
             "#0d0887"
            ],
            [
             0.1111111111111111,
             "#46039f"
            ],
            [
             0.2222222222222222,
             "#7201a8"
            ],
            [
             0.3333333333333333,
             "#9c179e"
            ],
            [
             0.4444444444444444,
             "#bd3786"
            ],
            [
             0.5555555555555556,
             "#d8576b"
            ],
            [
             0.6666666666666666,
             "#ed7953"
            ],
            [
             0.7777777777777778,
             "#fb9f3a"
            ],
            [
             0.8888888888888888,
             "#fdca26"
            ],
            [
             1,
             "#f0f921"
            ]
           ]
          },
          "colorway": [
           "#636efa",
           "#EF553B",
           "#00cc96",
           "#ab63fa",
           "#FFA15A",
           "#19d3f3",
           "#FF6692",
           "#B6E880",
           "#FF97FF",
           "#FECB52"
          ],
          "font": {
           "color": "#2a3f5f"
          },
          "geo": {
           "bgcolor": "white",
           "lakecolor": "white",
           "landcolor": "#E5ECF6",
           "showlakes": true,
           "showland": true,
           "subunitcolor": "white"
          },
          "hoverlabel": {
           "align": "left"
          },
          "hovermode": "closest",
          "mapbox": {
           "style": "light"
          },
          "paper_bgcolor": "white",
          "plot_bgcolor": "#E5ECF6",
          "polar": {
           "angularaxis": {
            "gridcolor": "white",
            "linecolor": "white",
            "ticks": ""
           },
           "bgcolor": "#E5ECF6",
           "radialaxis": {
            "gridcolor": "white",
            "linecolor": "white",
            "ticks": ""
           }
          },
          "scene": {
           "xaxis": {
            "backgroundcolor": "#E5ECF6",
            "gridcolor": "white",
            "gridwidth": 2,
            "linecolor": "white",
            "showbackground": true,
            "ticks": "",
            "zerolinecolor": "white"
           },
           "yaxis": {
            "backgroundcolor": "#E5ECF6",
            "gridcolor": "white",
            "gridwidth": 2,
            "linecolor": "white",
            "showbackground": true,
            "ticks": "",
            "zerolinecolor": "white"
           },
           "zaxis": {
            "backgroundcolor": "#E5ECF6",
            "gridcolor": "white",
            "gridwidth": 2,
            "linecolor": "white",
            "showbackground": true,
            "ticks": "",
            "zerolinecolor": "white"
           }
          },
          "shapedefaults": {
           "line": {
            "color": "#2a3f5f"
           }
          },
          "ternary": {
           "aaxis": {
            "gridcolor": "white",
            "linecolor": "white",
            "ticks": ""
           },
           "baxis": {
            "gridcolor": "white",
            "linecolor": "white",
            "ticks": ""
           },
           "bgcolor": "#E5ECF6",
           "caxis": {
            "gridcolor": "white",
            "linecolor": "white",
            "ticks": ""
           }
          },
          "title": {
           "x": 0.05
          },
          "xaxis": {
           "automargin": true,
           "gridcolor": "white",
           "linecolor": "white",
           "ticks": "",
           "title": {
            "standoff": 15
           },
           "zerolinecolor": "white",
           "zerolinewidth": 2
          },
          "yaxis": {
           "automargin": true,
           "gridcolor": "white",
           "linecolor": "white",
           "ticks": "",
           "title": {
            "standoff": 15
           },
           "zerolinecolor": "white",
           "zerolinewidth": 2
          }
         }
        }
       }
      },
      "text/html": [
       "<div>                            <div id=\"0fbd3106-f19b-4d25-aab3-ec241a7bdcf4\" class=\"plotly-graph-div\" style=\"height:525px; width:100%;\"></div>            <script type=\"text/javascript\">                require([\"plotly\"], function(Plotly) {                    window.PLOTLYENV=window.PLOTLYENV || {};                                    if (document.getElementById(\"0fbd3106-f19b-4d25-aab3-ec241a7bdcf4\")) {                    Plotly.newPlot(                        \"0fbd3106-f19b-4d25-aab3-ec241a7bdcf4\",                        [{\"geo\":\"geo\",\"hovertemplate\":\"<b>%{hovertext}</b><br><br>Place=%{location}<br>lat=%{lat}<br>lon=%{lon}<extra></extra>\",\"hovertext\":[\"Abbotsford, Canada\"],\"lat\":[49.0362],\"legendgroup\":\"Abbotsford, Canada\",\"locations\":[\"Abbotsford, Canada\"],\"lon\":[-122.3247],\"marker\":{\"color\":\"#636efa\",\"symbol\":\"circle\"},\"mode\":\"markers\",\"name\":\"Abbotsford, Canada\",\"showlegend\":true,\"type\":\"scattergeo\"},{\"geo\":\"geo\",\"hovertemplate\":\"<b>%{hovertext}</b><br><br>Place=%{location}<br>lat=%{lat}<br>lon=%{lon}<extra></extra>\",\"hovertext\":[\"Grand Forks, Canada\"],\"lat\":[49.0362],\"legendgroup\":\"Grand Forks, Canada\",\"locations\":[\"Grand Forks, Canada\"],\"lon\":[-118.4245],\"marker\":{\"color\":\"#EF553B\",\"symbol\":\"circle\"},\"mode\":\"markers\",\"name\":\"Grand Forks, Canada\",\"showlegend\":true,\"type\":\"scattergeo\"},{\"geo\":\"geo\",\"hovertemplate\":\"<b>%{hovertext}</b><br><br>Place=%{location}<br>lat=%{lat}<br>lon=%{lon}<extra></extra>\",\"hovertext\":[\"Northport, WA\"],\"lat\":[48.9289],\"legendgroup\":\"Northport, WA\",\"locations\":[\"Northport, WA\"],\"lon\":[-117.8306],\"marker\":{\"color\":\"#00cc96\",\"symbol\":\"circle\"},\"mode\":\"markers\",\"name\":\"Northport, WA\",\"showlegend\":true,\"type\":\"scattergeo\"},{\"geo\":\"geo\",\"hovertemplate\":\"<b>%{hovertext}</b><br><br>Place=%{location}<br>lat=%{lat}<br>lon=%{lon}<extra></extra>\",\"hovertext\":[\"Dewey, WA\"],\"lat\":[48.7835],\"legendgroup\":\"Dewey, WA\",\"locations\":[\"Dewey, WA\"],\"lon\":[-122.3357],\"marker\":{\"color\":\"#ab63fa\",\"symbol\":\"circle\"},\"mode\":\"markers\",\"name\":\"Dewey, WA\",\"showlegend\":true,\"type\":\"scattergeo\"},{\"geo\":\"geo\",\"hovertemplate\":\"<b>%{hovertext}</b><br><br>Place=%{location}<br>lat=%{lat}<br>lon=%{lon}<extra></extra>\",\"hovertext\":[\"Mt. Baker, WA\"],\"lat\":[48.7826],\"legendgroup\":\"Mt. Baker, WA\",\"locations\":[\"Mt. Baker, WA\"],\"lon\":[-121.7994],\"marker\":{\"color\":\"#FFA15A\",\"symbol\":\"circle\"},\"mode\":\"markers\",\"name\":\"Mt. Baker, WA\",\"showlegend\":true,\"type\":\"scattergeo\"},{\"geo\":\"geo\",\"hovertemplate\":\"<b>%{hovertext}</b><br><br>Place=%{location}<br>lat=%{lat}<br>lon=%{lon}<extra></extra>\",\"hovertext\":[\"Shaw Island, WA\"],\"lat\":[48.5767],\"legendgroup\":\"Shaw Island, WA\",\"locations\":[\"Shaw Island, WA\"],\"lon\":[-122.9509],\"marker\":{\"color\":\"#19d3f3\",\"symbol\":\"circle\"},\"mode\":\"markers\",\"name\":\"Shaw Island, WA\",\"showlegend\":true,\"type\":\"scattergeo\"},{\"geo\":\"geo\",\"hovertemplate\":\"<b>%{hovertext}</b><br><br>Place=%{location}<br>lat=%{lat}<br>lon=%{lon}<extra></extra>\",\"hovertext\":[\"Rudy, WA\"],\"lat\":[48.5085],\"legendgroup\":\"Rudy, WA\",\"locations\":[\"Rudy, WA\"],\"lon\":[-117.3252],\"marker\":{\"color\":\"#FF6692\",\"symbol\":\"circle\"},\"mode\":\"markers\",\"name\":\"Rudy, WA\",\"showlegend\":true,\"type\":\"scattergeo\"},{\"geo\":\"geo\",\"hovertemplate\":\"<b>%{hovertext}</b><br><br>Place=%{location}<br>lat=%{lat}<br>lon=%{lon}<extra></extra>\",\"hovertext\":[\"Metchosin, Canada\"],\"lat\":[48.4093],\"legendgroup\":\"Metchosin, Canada\",\"locations\":[\"Metchosin, Canada\"],\"lon\":[-123.5716],\"marker\":{\"color\":\"#B6E880\",\"symbol\":\"circle\"},\"mode\":\"markers\",\"name\":\"Metchosin, Canada\",\"showlegend\":true,\"type\":\"scattergeo\"},{\"geo\":\"geo\",\"hovertemplate\":\"<b>%{hovertext}</b><br><br>Place=%{location}<br>lat=%{lat}<br>lon=%{lon}<extra></extra>\",\"hovertext\":[\"Port Angeles, WA\"],\"lat\":[48.0139],\"legendgroup\":\"Port Angeles, WA\",\"locations\":[\"Port Angeles, WA\"],\"lon\":[-123.4453],\"marker\":{\"color\":\"#FF97FF\",\"symbol\":\"circle\"},\"mode\":\"markers\",\"name\":\"Port Angeles, WA\",\"showlegend\":true,\"type\":\"scattergeo\"},{\"geo\":\"geo\",\"hovertemplate\":\"<b>%{hovertext}</b><br><br>Place=%{location}<br>lat=%{lat}<br>lon=%{lon}<extra></extra>\",\"hovertext\":[\"Everett,  WA\"],\"lat\":[47.9735],\"legendgroup\":\"Everett,  WA\",\"locations\":[\"Everett,  WA\"],\"lon\":[-122.2038],\"marker\":{\"color\":\"#FECB52\",\"symbol\":\"circle\"},\"mode\":\"markers\",\"name\":\"Everett,  WA\",\"showlegend\":true,\"type\":\"scattergeo\"},{\"geo\":\"geo\",\"hovertemplate\":\"<b>%{hovertext}</b><br><br>Place=%{location}<br>lat=%{lat}<br>lon=%{lon}<extra></extra>\",\"hovertext\":[\"Wilbur, WA\"],\"lat\":[47.8695],\"legendgroup\":\"Wilbur, WA\",\"locations\":[\"Wilbur, WA\"],\"lon\":[-118.8001],\"marker\":{\"color\":\"#636efa\",\"symbol\":\"circle\"},\"mode\":\"markers\",\"name\":\"Wilbur, WA\",\"showlegend\":true,\"type\":\"scattergeo\"},{\"geo\":\"geo\",\"hovertemplate\":\"<b>%{hovertext}</b><br><br>Place=%{location}<br>lat=%{lat}<br>lon=%{lon}<extra></extra>\",\"hovertext\":[\"Spokane, WA\"],\"lat\":[47.6748],\"legendgroup\":\"Spokane, WA\",\"locations\":[\"Spokane, WA\"],\"lon\":[-117.3698],\"marker\":{\"color\":\"#EF553B\",\"symbol\":\"circle\"},\"mode\":\"markers\",\"name\":\"Spokane, WA\",\"showlegend\":true,\"type\":\"scattergeo\"},{\"geo\":\"geo\",\"hovertemplate\":\"<b>%{hovertext}</b><br><br>Place=%{location}<br>lat=%{lat}<br>lon=%{lon}<extra></extra>\",\"hovertext\":[\"Bellevue, WA\"],\"lat\":[47.6202],\"legendgroup\":\"Bellevue, WA\",\"locations\":[\"Bellevue, WA\"],\"lon\":[-122.14],\"marker\":{\"color\":\"#00cc96\",\"symbol\":\"circle\"},\"mode\":\"markers\",\"name\":\"Bellevue, WA\",\"showlegend\":true,\"type\":\"scattergeo\"},{\"geo\":\"geo\",\"hovertemplate\":\"<b>%{hovertext}</b><br><br>Place=%{location}<br>lat=%{lat}<br>lon=%{lon}<extra></extra>\",\"hovertext\":[\"Seattle, WA\"],\"lat\":[47.6155],\"legendgroup\":\"Seattle, WA\",\"locations\":[\"Seattle, WA\"],\"lon\":[-122.2917],\"marker\":{\"color\":\"#ab63fa\",\"symbol\":\"circle\"},\"mode\":\"markers\",\"name\":\"Seattle, WA\",\"showlegend\":true,\"type\":\"scattergeo\"},{\"geo\":\"geo\",\"hovertemplate\":\"<b>%{hovertext}</b><br><br>Place=%{location}<br>lat=%{lat}<br>lon=%{lon}<extra></extra>\",\"hovertext\":[\"Gorst, WA\"],\"lat\":[47.559],\"legendgroup\":\"Gorst, WA\",\"locations\":[\"Gorst, WA\"],\"lon\":[-122.7195],\"marker\":{\"color\":\"#FFA15A\",\"symbol\":\"circle\"},\"mode\":\"markers\",\"name\":\"Gorst, WA\",\"showlegend\":true,\"type\":\"scattergeo\"},{\"geo\":\"geo\",\"hovertemplate\":\"<b>%{hovertext}</b><br><br>Place=%{location}<br>lat=%{lat}<br>lon=%{lon}<extra></extra>\",\"hovertext\":[\"Snoqualmie, WA\"],\"lat\":[47.5053],\"legendgroup\":\"Snoqualmie, WA\",\"locations\":[\"Snoqualmie, WA\"],\"lon\":[-121.8406],\"marker\":{\"color\":\"#19d3f3\",\"symbol\":\"circle\"},\"mode\":\"markers\",\"name\":\"Snoqualmie, WA\",\"showlegend\":true,\"type\":\"scattergeo\"},{\"geo\":\"geo\",\"hovertemplate\":\"<b>%{hovertext}</b><br><br>Place=%{location}<br>lat=%{lat}<br>lon=%{lon}<extra></extra>\",\"hovertext\":[\"Wenatchee, WA\"],\"lat\":[47.4189],\"legendgroup\":\"Wenatchee, WA\",\"locations\":[\"Wenatchee, WA\"],\"lon\":[-120.3032],\"marker\":{\"color\":\"#FF6692\",\"symbol\":\"circle\"},\"mode\":\"markers\",\"name\":\"Wenatchee, WA\",\"showlegend\":true,\"type\":\"scattergeo\"},{\"geo\":\"geo\",\"hovertemplate\":\"<b>%{hovertext}</b><br><br>Place=%{location}<br>lat=%{lat}<br>lon=%{lon}<extra></extra>\",\"hovertext\":[\"Kent, WA\"],\"lat\":[47.3855],\"legendgroup\":\"Kent, WA\",\"locations\":[\"Kent, WA\"],\"lon\":[-122.1983],\"marker\":{\"color\":\"#B6E880\",\"symbol\":\"circle\"},\"mode\":\"markers\",\"name\":\"Kent, WA\",\"showlegend\":true,\"type\":\"scattergeo\"},{\"geo\":\"geo\",\"hovertemplate\":\"<b>%{hovertext}</b><br><br>Place=%{location}<br>lat=%{lat}<br>lon=%{lon}<extra></extra>\",\"hovertext\":[\"Tacoma, WA\"],\"lat\":[47.2402],\"legendgroup\":\"Tacoma, WA\",\"locations\":[\"Tacoma, WA\"],\"lon\":[-122.4345],\"marker\":{\"color\":\"#FF97FF\",\"symbol\":\"circle\"},\"mode\":\"markers\",\"name\":\"Tacoma, WA\",\"showlegend\":true,\"type\":\"scattergeo\"},{\"geo\":\"geo\",\"hovertemplate\":\"<b>%{hovertext}</b><br><br>Place=%{location}<br>lat=%{lat}<br>lon=%{lon}<extra></extra>\",\"hovertext\":[\"Moses Lake, WA\"],\"lat\":[47.1095],\"legendgroup\":\"Moses Lake, WA\",\"locations\":[\"Moses Lake, WA\"],\"lon\":[-119.232],\"marker\":{\"color\":\"#FECB52\",\"symbol\":\"circle\"},\"mode\":\"markers\",\"name\":\"Moses Lake, WA\",\"showlegend\":true,\"type\":\"scattergeo\"},{\"geo\":\"geo\",\"hovertemplate\":\"<b>%{hovertext}</b><br><br>Place=%{location}<br>lat=%{lat}<br>lon=%{lon}<extra></extra>\",\"hovertext\":[\"Olympia, WA\"],\"lat\":[47.0347],\"legendgroup\":\"Olympia, WA\",\"locations\":[\"Olympia, WA\"],\"lon\":[-122.863],\"marker\":{\"color\":\"#636efa\",\"symbol\":\"circle\"},\"mode\":\"markers\",\"name\":\"Olympia, WA\",\"showlegend\":true,\"type\":\"scattergeo\"},{\"geo\":\"geo\",\"hovertemplate\":\"<b>%{hovertext}</b><br><br>Place=%{location}<br>lat=%{lat}<br>lon=%{lon}<extra></extra>\",\"hovertext\":[\"Lewiston, ID\"],\"lat\":[46.4134],\"legendgroup\":\"Lewiston, ID\",\"locations\":[\"Lewiston, ID\"],\"lon\":[-117.0293],\"marker\":{\"color\":\"#EF553B\",\"symbol\":\"circle\"},\"mode\":\"markers\",\"name\":\"Lewiston, ID\",\"showlegend\":true,\"type\":\"scattergeo\"},{\"geo\":\"geo\",\"hovertemplate\":\"<b>%{hovertext}</b><br><br>Place=%{location}<br>lat=%{lat}<br>lon=%{lon}<extra></extra>\",\"hovertext\":[\"Kennewick, WA\"],\"lat\":[46.2199],\"legendgroup\":\"Kennewick, WA\",\"locations\":[\"Kennewick, WA\"],\"lon\":[-119.0837],\"marker\":{\"color\":\"#00cc96\",\"symbol\":\"circle\"},\"mode\":\"markers\",\"name\":\"Kennewick, WA\",\"showlegend\":true,\"type\":\"scattergeo\"},{\"geo\":\"geo\",\"hovertemplate\":\"<b>%{hovertext}</b><br><br>Place=%{location}<br>lat=%{lat}<br>lon=%{lon}<extra></extra>\",\"hovertext\":[\"Navy Heights, OR\"],\"lat\":[46.1704],\"legendgroup\":\"Navy Heights, OR\",\"locations\":[\"Navy Heights, OR\"],\"lon\":[-123.7804],\"marker\":{\"color\":\"#ab63fa\",\"symbol\":\"circle\"},\"mode\":\"markers\",\"name\":\"Navy Heights, OR\",\"showlegend\":true,\"type\":\"scattergeo\"},{\"geo\":\"geo\",\"hovertemplate\":\"<b>%{hovertext}</b><br><br>Place=%{location}<br>lat=%{lat}<br>lon=%{lon}<extra></extra>\",\"hovertext\":[\"Kelso, WA\"],\"lat\":[46.1514],\"legendgroup\":\"Kelso, WA\",\"locations\":[\"Kelso, WA\"],\"lon\":[-122.8191],\"marker\":{\"color\":\"#FFA15A\",\"symbol\":\"circle\"},\"mode\":\"markers\",\"name\":\"Kelso, WA\",\"showlegend\":true,\"type\":\"scattergeo\"},{\"geo\":\"geo\",\"hovertemplate\":\"<b>%{hovertext}</b><br><br>Place=%{location}<br>lat=%{lat}<br>lon=%{lon}<extra></extra>\",\"hovertext\":[\"Walla Walla, WA\"],\"lat\":[46.0562],\"legendgroup\":\"Walla Walla, WA\",\"locations\":[\"Walla Walla, WA\"],\"lon\":[-118.3476],\"marker\":{\"color\":\"#19d3f3\",\"symbol\":\"circle\"},\"mode\":\"markers\",\"name\":\"Walla Walla, WA\",\"showlegend\":true,\"type\":\"scattergeo\"},{\"geo\":\"geo\",\"hovertemplate\":\"<b>%{hovertext}</b><br><br>Place=%{location}<br>lat=%{lat}<br>lon=%{lon}<extra></extra>\",\"hovertext\":[\"Portland, OR\"],\"lat\":[45.4969],\"legendgroup\":\"Portland, OR\",\"locations\":[\"Portland, OR\"],\"lon\":[-122.5938],\"marker\":{\"color\":\"#FF6692\",\"symbol\":\"circle\"},\"mode\":\"markers\",\"name\":\"Portland, OR\",\"showlegend\":true,\"type\":\"scattergeo\"}],                        {\"template\":{\"data\":{\"bar\":[{\"error_x\":{\"color\":\"#2a3f5f\"},\"error_y\":{\"color\":\"#2a3f5f\"},\"marker\":{\"line\":{\"color\":\"#E5ECF6\",\"width\":0.5},\"pattern\":{\"fillmode\":\"overlay\",\"size\":10,\"solidity\":0.2}},\"type\":\"bar\"}],\"barpolar\":[{\"marker\":{\"line\":{\"color\":\"#E5ECF6\",\"width\":0.5},\"pattern\":{\"fillmode\":\"overlay\",\"size\":10,\"solidity\":0.2}},\"type\":\"barpolar\"}],\"carpet\":[{\"aaxis\":{\"endlinecolor\":\"#2a3f5f\",\"gridcolor\":\"white\",\"linecolor\":\"white\",\"minorgridcolor\":\"white\",\"startlinecolor\":\"#2a3f5f\"},\"baxis\":{\"endlinecolor\":\"#2a3f5f\",\"gridcolor\":\"white\",\"linecolor\":\"white\",\"minorgridcolor\":\"white\",\"startlinecolor\":\"#2a3f5f\"},\"type\":\"carpet\"}],\"choropleth\":[{\"colorbar\":{\"outlinewidth\":0,\"ticks\":\"\"},\"type\":\"choropleth\"}],\"contour\":[{\"colorbar\":{\"outlinewidth\":0,\"ticks\":\"\"},\"colorscale\":[[0.0,\"#0d0887\"],[0.1111111111111111,\"#46039f\"],[0.2222222222222222,\"#7201a8\"],[0.3333333333333333,\"#9c179e\"],[0.4444444444444444,\"#bd3786\"],[0.5555555555555556,\"#d8576b\"],[0.6666666666666666,\"#ed7953\"],[0.7777777777777778,\"#fb9f3a\"],[0.8888888888888888,\"#fdca26\"],[1.0,\"#f0f921\"]],\"type\":\"contour\"}],\"contourcarpet\":[{\"colorbar\":{\"outlinewidth\":0,\"ticks\":\"\"},\"type\":\"contourcarpet\"}],\"heatmap\":[{\"colorbar\":{\"outlinewidth\":0,\"ticks\":\"\"},\"colorscale\":[[0.0,\"#0d0887\"],[0.1111111111111111,\"#46039f\"],[0.2222222222222222,\"#7201a8\"],[0.3333333333333333,\"#9c179e\"],[0.4444444444444444,\"#bd3786\"],[0.5555555555555556,\"#d8576b\"],[0.6666666666666666,\"#ed7953\"],[0.7777777777777778,\"#fb9f3a\"],[0.8888888888888888,\"#fdca26\"],[1.0,\"#f0f921\"]],\"type\":\"heatmap\"}],\"heatmapgl\":[{\"colorbar\":{\"outlinewidth\":0,\"ticks\":\"\"},\"colorscale\":[[0.0,\"#0d0887\"],[0.1111111111111111,\"#46039f\"],[0.2222222222222222,\"#7201a8\"],[0.3333333333333333,\"#9c179e\"],[0.4444444444444444,\"#bd3786\"],[0.5555555555555556,\"#d8576b\"],[0.6666666666666666,\"#ed7953\"],[0.7777777777777778,\"#fb9f3a\"],[0.8888888888888888,\"#fdca26\"],[1.0,\"#f0f921\"]],\"type\":\"heatmapgl\"}],\"histogram\":[{\"marker\":{\"pattern\":{\"fillmode\":\"overlay\",\"size\":10,\"solidity\":0.2}},\"type\":\"histogram\"}],\"histogram2d\":[{\"colorbar\":{\"outlinewidth\":0,\"ticks\":\"\"},\"colorscale\":[[0.0,\"#0d0887\"],[0.1111111111111111,\"#46039f\"],[0.2222222222222222,\"#7201a8\"],[0.3333333333333333,\"#9c179e\"],[0.4444444444444444,\"#bd3786\"],[0.5555555555555556,\"#d8576b\"],[0.6666666666666666,\"#ed7953\"],[0.7777777777777778,\"#fb9f3a\"],[0.8888888888888888,\"#fdca26\"],[1.0,\"#f0f921\"]],\"type\":\"histogram2d\"}],\"histogram2dcontour\":[{\"colorbar\":{\"outlinewidth\":0,\"ticks\":\"\"},\"colorscale\":[[0.0,\"#0d0887\"],[0.1111111111111111,\"#46039f\"],[0.2222222222222222,\"#7201a8\"],[0.3333333333333333,\"#9c179e\"],[0.4444444444444444,\"#bd3786\"],[0.5555555555555556,\"#d8576b\"],[0.6666666666666666,\"#ed7953\"],[0.7777777777777778,\"#fb9f3a\"],[0.8888888888888888,\"#fdca26\"],[1.0,\"#f0f921\"]],\"type\":\"histogram2dcontour\"}],\"mesh3d\":[{\"colorbar\":{\"outlinewidth\":0,\"ticks\":\"\"},\"type\":\"mesh3d\"}],\"parcoords\":[{\"line\":{\"colorbar\":{\"outlinewidth\":0,\"ticks\":\"\"}},\"type\":\"parcoords\"}],\"pie\":[{\"automargin\":true,\"type\":\"pie\"}],\"scatter\":[{\"marker\":{\"colorbar\":{\"outlinewidth\":0,\"ticks\":\"\"}},\"type\":\"scatter\"}],\"scatter3d\":[{\"line\":{\"colorbar\":{\"outlinewidth\":0,\"ticks\":\"\"}},\"marker\":{\"colorbar\":{\"outlinewidth\":0,\"ticks\":\"\"}},\"type\":\"scatter3d\"}],\"scattercarpet\":[{\"marker\":{\"colorbar\":{\"outlinewidth\":0,\"ticks\":\"\"}},\"type\":\"scattercarpet\"}],\"scattergeo\":[{\"marker\":{\"colorbar\":{\"outlinewidth\":0,\"ticks\":\"\"}},\"type\":\"scattergeo\"}],\"scattergl\":[{\"marker\":{\"colorbar\":{\"outlinewidth\":0,\"ticks\":\"\"}},\"type\":\"scattergl\"}],\"scattermapbox\":[{\"marker\":{\"colorbar\":{\"outlinewidth\":0,\"ticks\":\"\"}},\"type\":\"scattermapbox\"}],\"scatterpolar\":[{\"marker\":{\"colorbar\":{\"outlinewidth\":0,\"ticks\":\"\"}},\"type\":\"scatterpolar\"}],\"scatterpolargl\":[{\"marker\":{\"colorbar\":{\"outlinewidth\":0,\"ticks\":\"\"}},\"type\":\"scatterpolargl\"}],\"scatterternary\":[{\"marker\":{\"colorbar\":{\"outlinewidth\":0,\"ticks\":\"\"}},\"type\":\"scatterternary\"}],\"surface\":[{\"colorbar\":{\"outlinewidth\":0,\"ticks\":\"\"},\"colorscale\":[[0.0,\"#0d0887\"],[0.1111111111111111,\"#46039f\"],[0.2222222222222222,\"#7201a8\"],[0.3333333333333333,\"#9c179e\"],[0.4444444444444444,\"#bd3786\"],[0.5555555555555556,\"#d8576b\"],[0.6666666666666666,\"#ed7953\"],[0.7777777777777778,\"#fb9f3a\"],[0.8888888888888888,\"#fdca26\"],[1.0,\"#f0f921\"]],\"type\":\"surface\"}],\"table\":[{\"cells\":{\"fill\":{\"color\":\"#EBF0F8\"},\"line\":{\"color\":\"white\"}},\"header\":{\"fill\":{\"color\":\"#C8D4E3\"},\"line\":{\"color\":\"white\"}},\"type\":\"table\"}]},\"layout\":{\"annotationdefaults\":{\"arrowcolor\":\"#2a3f5f\",\"arrowhead\":0,\"arrowwidth\":1},\"autotypenumbers\":\"strict\",\"coloraxis\":{\"colorbar\":{\"outlinewidth\":0,\"ticks\":\"\"}},\"colorscale\":{\"diverging\":[[0,\"#8e0152\"],[0.1,\"#c51b7d\"],[0.2,\"#de77ae\"],[0.3,\"#f1b6da\"],[0.4,\"#fde0ef\"],[0.5,\"#f7f7f7\"],[0.6,\"#e6f5d0\"],[0.7,\"#b8e186\"],[0.8,\"#7fbc41\"],[0.9,\"#4d9221\"],[1,\"#276419\"]],\"sequential\":[[0.0,\"#0d0887\"],[0.1111111111111111,\"#46039f\"],[0.2222222222222222,\"#7201a8\"],[0.3333333333333333,\"#9c179e\"],[0.4444444444444444,\"#bd3786\"],[0.5555555555555556,\"#d8576b\"],[0.6666666666666666,\"#ed7953\"],[0.7777777777777778,\"#fb9f3a\"],[0.8888888888888888,\"#fdca26\"],[1.0,\"#f0f921\"]],\"sequentialminus\":[[0.0,\"#0d0887\"],[0.1111111111111111,\"#46039f\"],[0.2222222222222222,\"#7201a8\"],[0.3333333333333333,\"#9c179e\"],[0.4444444444444444,\"#bd3786\"],[0.5555555555555556,\"#d8576b\"],[0.6666666666666666,\"#ed7953\"],[0.7777777777777778,\"#fb9f3a\"],[0.8888888888888888,\"#fdca26\"],[1.0,\"#f0f921\"]]},\"colorway\":[\"#636efa\",\"#EF553B\",\"#00cc96\",\"#ab63fa\",\"#FFA15A\",\"#19d3f3\",\"#FF6692\",\"#B6E880\",\"#FF97FF\",\"#FECB52\"],\"font\":{\"color\":\"#2a3f5f\"},\"geo\":{\"bgcolor\":\"white\",\"lakecolor\":\"white\",\"landcolor\":\"#E5ECF6\",\"showlakes\":true,\"showland\":true,\"subunitcolor\":\"white\"},\"hoverlabel\":{\"align\":\"left\"},\"hovermode\":\"closest\",\"mapbox\":{\"style\":\"light\"},\"paper_bgcolor\":\"white\",\"plot_bgcolor\":\"#E5ECF6\",\"polar\":{\"angularaxis\":{\"gridcolor\":\"white\",\"linecolor\":\"white\",\"ticks\":\"\"},\"bgcolor\":\"#E5ECF6\",\"radialaxis\":{\"gridcolor\":\"white\",\"linecolor\":\"white\",\"ticks\":\"\"}},\"scene\":{\"xaxis\":{\"backgroundcolor\":\"#E5ECF6\",\"gridcolor\":\"white\",\"gridwidth\":2,\"linecolor\":\"white\",\"showbackground\":true,\"ticks\":\"\",\"zerolinecolor\":\"white\"},\"yaxis\":{\"backgroundcolor\":\"#E5ECF6\",\"gridcolor\":\"white\",\"gridwidth\":2,\"linecolor\":\"white\",\"showbackground\":true,\"ticks\":\"\",\"zerolinecolor\":\"white\"},\"zaxis\":{\"backgroundcolor\":\"#E5ECF6\",\"gridcolor\":\"white\",\"gridwidth\":2,\"linecolor\":\"white\",\"showbackground\":true,\"ticks\":\"\",\"zerolinecolor\":\"white\"}},\"shapedefaults\":{\"line\":{\"color\":\"#2a3f5f\"}},\"ternary\":{\"aaxis\":{\"gridcolor\":\"white\",\"linecolor\":\"white\",\"ticks\":\"\"},\"baxis\":{\"gridcolor\":\"white\",\"linecolor\":\"white\",\"ticks\":\"\"},\"bgcolor\":\"#E5ECF6\",\"caxis\":{\"gridcolor\":\"white\",\"linecolor\":\"white\",\"ticks\":\"\"}},\"title\":{\"x\":0.05},\"xaxis\":{\"automargin\":true,\"gridcolor\":\"white\",\"linecolor\":\"white\",\"ticks\":\"\",\"title\":{\"standoff\":15},\"zerolinecolor\":\"white\",\"zerolinewidth\":2},\"yaxis\":{\"automargin\":true,\"gridcolor\":\"white\",\"linecolor\":\"white\",\"ticks\":\"\",\"title\":{\"standoff\":15},\"zerolinecolor\":\"white\",\"zerolinewidth\":2}}},\"geo\":{\"domain\":{\"x\":[0.0,1.0],\"y\":[0.0,1.0]},\"center\":{},\"scope\":\"usa\"},\"legend\":{\"title\":{\"text\":\"Place\"},\"tracegroupgap\":0},\"margin\":{\"t\":60}},                        {\"responsive\": true}                    ).then(function(){\n",
       "                            \n",
       "var gd = document.getElementById('0fbd3106-f19b-4d25-aab3-ec241a7bdcf4');\n",
       "var x = new MutationObserver(function (mutations, observer) {{\n",
       "        var display = window.getComputedStyle(gd).display;\n",
       "        if (!display || display === 'none') {{\n",
       "            console.log([gd, 'removed!']);\n",
       "            Plotly.purge(gd);\n",
       "            observer.disconnect();\n",
       "        }}\n",
       "}});\n",
       "\n",
       "// Listen for the removal of the full notebook cells\n",
       "var notebookContainer = gd.closest('#notebook-container');\n",
       "if (notebookContainer) {{\n",
       "    x.observe(notebookContainer, {childList: true});\n",
       "}}\n",
       "\n",
       "// Listen for the clearing of the current output cell\n",
       "var outputEl = gd.closest('.output');\n",
       "if (outputEl) {{\n",
       "    x.observe(outputEl, {childList: true});\n",
       "}}\n",
       "\n",
       "                        })                };                });            </script>        </div>"
      ]
     },
     "metadata": {},
     "output_type": "display_data"
    }
   ],
   "source": [
    "fig = px.scatter_geo(locations, lat=\"lat\", lon=\"lon\", locations=\"Place\", \n",
    "                     color=\"Place\", hover_name=\"Place\", scope=\"usa\")\n",
    "#fig.update_geos(fitbounds=\"locations\")\n",
    "fig.show()"
   ]
  },
  {
   "cell_type": "markdown",
   "id": "dd322274",
   "metadata": {},
   "source": [
    "Using a different plot type from Plotly"
   ]
  },
  {
   "cell_type": "code",
   "execution_count": 6,
   "id": "4f0ed0d1",
   "metadata": {},
   "outputs": [],
   "source": [
    "import plotly.graph_objects as go"
   ]
  },
  {
   "cell_type": "code",
   "execution_count": 7,
   "id": "6ee0d0b5",
   "metadata": {},
   "outputs": [
    {
     "data": {
      "application/vnd.plotly.v1+json": {
       "config": {
        "plotlyServerURL": "https://plot.ly"
       },
       "data": [
        {
         "lat": [
          49.0362,
          49.0362,
          48.9289,
          48.7835,
          48.7826,
          48.5767,
          48.5085,
          48.4093,
          48.0139,
          47.9735,
          47.8695,
          47.6748,
          47.6202,
          47.6155,
          47.559,
          47.5053,
          47.4189,
          47.3855,
          47.2402,
          47.1095,
          47.0347,
          46.4134,
          46.2199,
          46.1704,
          46.1514,
          46.0562,
          45.4969
         ],
         "lon": [
          -122.3247,
          -118.4245,
          -117.8306,
          -122.3357,
          -121.7994,
          -122.9509,
          -117.3252,
          -123.5716,
          -123.4453,
          -122.2038,
          -118.8001,
          -117.3698,
          -122.14,
          -122.2917,
          -122.7195,
          -121.8406,
          -120.3032,
          -122.1983,
          -122.4345,
          -119.232,
          -122.863,
          -117.0293,
          -119.0837,
          -123.7804,
          -122.8191,
          -118.3476,
          -122.5938
         ],
         "mode": "markers",
         "text": [
          "Abbotsford, Canada",
          "Grand Forks, Canada",
          "Northport, WA",
          "Dewey, WA",
          "Mt. Baker, WA",
          "Shaw Island, WA",
          "Rudy, WA",
          "Metchosin, Canada",
          "Port Angeles, WA",
          "Everett,  WA",
          "Wilbur, WA",
          "Spokane, WA",
          "Bellevue, WA",
          "Seattle, WA",
          "Gorst, WA",
          "Snoqualmie, WA",
          "Wenatchee, WA",
          "Kent, WA",
          "Tacoma, WA",
          "Moses Lake, WA",
          "Olympia, WA",
          "Lewiston, ID",
          "Kennewick, WA",
          "Navy Heights, OR",
          "Kelso, WA",
          "Walla Walla, WA",
          "Portland, OR"
         ],
         "type": "scattergeo"
        }
       ],
       "layout": {
        "geo": {
         "scope": "usa"
        },
        "template": {
         "data": {
          "bar": [
           {
            "error_x": {
             "color": "#2a3f5f"
            },
            "error_y": {
             "color": "#2a3f5f"
            },
            "marker": {
             "line": {
              "color": "#E5ECF6",
              "width": 0.5
             },
             "pattern": {
              "fillmode": "overlay",
              "size": 10,
              "solidity": 0.2
             }
            },
            "type": "bar"
           }
          ],
          "barpolar": [
           {
            "marker": {
             "line": {
              "color": "#E5ECF6",
              "width": 0.5
             },
             "pattern": {
              "fillmode": "overlay",
              "size": 10,
              "solidity": 0.2
             }
            },
            "type": "barpolar"
           }
          ],
          "carpet": [
           {
            "aaxis": {
             "endlinecolor": "#2a3f5f",
             "gridcolor": "white",
             "linecolor": "white",
             "minorgridcolor": "white",
             "startlinecolor": "#2a3f5f"
            },
            "baxis": {
             "endlinecolor": "#2a3f5f",
             "gridcolor": "white",
             "linecolor": "white",
             "minorgridcolor": "white",
             "startlinecolor": "#2a3f5f"
            },
            "type": "carpet"
           }
          ],
          "choropleth": [
           {
            "colorbar": {
             "outlinewidth": 0,
             "ticks": ""
            },
            "type": "choropleth"
           }
          ],
          "contour": [
           {
            "colorbar": {
             "outlinewidth": 0,
             "ticks": ""
            },
            "colorscale": [
             [
              0,
              "#0d0887"
             ],
             [
              0.1111111111111111,
              "#46039f"
             ],
             [
              0.2222222222222222,
              "#7201a8"
             ],
             [
              0.3333333333333333,
              "#9c179e"
             ],
             [
              0.4444444444444444,
              "#bd3786"
             ],
             [
              0.5555555555555556,
              "#d8576b"
             ],
             [
              0.6666666666666666,
              "#ed7953"
             ],
             [
              0.7777777777777778,
              "#fb9f3a"
             ],
             [
              0.8888888888888888,
              "#fdca26"
             ],
             [
              1,
              "#f0f921"
             ]
            ],
            "type": "contour"
           }
          ],
          "contourcarpet": [
           {
            "colorbar": {
             "outlinewidth": 0,
             "ticks": ""
            },
            "type": "contourcarpet"
           }
          ],
          "heatmap": [
           {
            "colorbar": {
             "outlinewidth": 0,
             "ticks": ""
            },
            "colorscale": [
             [
              0,
              "#0d0887"
             ],
             [
              0.1111111111111111,
              "#46039f"
             ],
             [
              0.2222222222222222,
              "#7201a8"
             ],
             [
              0.3333333333333333,
              "#9c179e"
             ],
             [
              0.4444444444444444,
              "#bd3786"
             ],
             [
              0.5555555555555556,
              "#d8576b"
             ],
             [
              0.6666666666666666,
              "#ed7953"
             ],
             [
              0.7777777777777778,
              "#fb9f3a"
             ],
             [
              0.8888888888888888,
              "#fdca26"
             ],
             [
              1,
              "#f0f921"
             ]
            ],
            "type": "heatmap"
           }
          ],
          "heatmapgl": [
           {
            "colorbar": {
             "outlinewidth": 0,
             "ticks": ""
            },
            "colorscale": [
             [
              0,
              "#0d0887"
             ],
             [
              0.1111111111111111,
              "#46039f"
             ],
             [
              0.2222222222222222,
              "#7201a8"
             ],
             [
              0.3333333333333333,
              "#9c179e"
             ],
             [
              0.4444444444444444,
              "#bd3786"
             ],
             [
              0.5555555555555556,
              "#d8576b"
             ],
             [
              0.6666666666666666,
              "#ed7953"
             ],
             [
              0.7777777777777778,
              "#fb9f3a"
             ],
             [
              0.8888888888888888,
              "#fdca26"
             ],
             [
              1,
              "#f0f921"
             ]
            ],
            "type": "heatmapgl"
           }
          ],
          "histogram": [
           {
            "marker": {
             "pattern": {
              "fillmode": "overlay",
              "size": 10,
              "solidity": 0.2
             }
            },
            "type": "histogram"
           }
          ],
          "histogram2d": [
           {
            "colorbar": {
             "outlinewidth": 0,
             "ticks": ""
            },
            "colorscale": [
             [
              0,
              "#0d0887"
             ],
             [
              0.1111111111111111,
              "#46039f"
             ],
             [
              0.2222222222222222,
              "#7201a8"
             ],
             [
              0.3333333333333333,
              "#9c179e"
             ],
             [
              0.4444444444444444,
              "#bd3786"
             ],
             [
              0.5555555555555556,
              "#d8576b"
             ],
             [
              0.6666666666666666,
              "#ed7953"
             ],
             [
              0.7777777777777778,
              "#fb9f3a"
             ],
             [
              0.8888888888888888,
              "#fdca26"
             ],
             [
              1,
              "#f0f921"
             ]
            ],
            "type": "histogram2d"
           }
          ],
          "histogram2dcontour": [
           {
            "colorbar": {
             "outlinewidth": 0,
             "ticks": ""
            },
            "colorscale": [
             [
              0,
              "#0d0887"
             ],
             [
              0.1111111111111111,
              "#46039f"
             ],
             [
              0.2222222222222222,
              "#7201a8"
             ],
             [
              0.3333333333333333,
              "#9c179e"
             ],
             [
              0.4444444444444444,
              "#bd3786"
             ],
             [
              0.5555555555555556,
              "#d8576b"
             ],
             [
              0.6666666666666666,
              "#ed7953"
             ],
             [
              0.7777777777777778,
              "#fb9f3a"
             ],
             [
              0.8888888888888888,
              "#fdca26"
             ],
             [
              1,
              "#f0f921"
             ]
            ],
            "type": "histogram2dcontour"
           }
          ],
          "mesh3d": [
           {
            "colorbar": {
             "outlinewidth": 0,
             "ticks": ""
            },
            "type": "mesh3d"
           }
          ],
          "parcoords": [
           {
            "line": {
             "colorbar": {
              "outlinewidth": 0,
              "ticks": ""
             }
            },
            "type": "parcoords"
           }
          ],
          "pie": [
           {
            "automargin": true,
            "type": "pie"
           }
          ],
          "scatter": [
           {
            "marker": {
             "colorbar": {
              "outlinewidth": 0,
              "ticks": ""
             }
            },
            "type": "scatter"
           }
          ],
          "scatter3d": [
           {
            "line": {
             "colorbar": {
              "outlinewidth": 0,
              "ticks": ""
             }
            },
            "marker": {
             "colorbar": {
              "outlinewidth": 0,
              "ticks": ""
             }
            },
            "type": "scatter3d"
           }
          ],
          "scattercarpet": [
           {
            "marker": {
             "colorbar": {
              "outlinewidth": 0,
              "ticks": ""
             }
            },
            "type": "scattercarpet"
           }
          ],
          "scattergeo": [
           {
            "marker": {
             "colorbar": {
              "outlinewidth": 0,
              "ticks": ""
             }
            },
            "type": "scattergeo"
           }
          ],
          "scattergl": [
           {
            "marker": {
             "colorbar": {
              "outlinewidth": 0,
              "ticks": ""
             }
            },
            "type": "scattergl"
           }
          ],
          "scattermapbox": [
           {
            "marker": {
             "colorbar": {
              "outlinewidth": 0,
              "ticks": ""
             }
            },
            "type": "scattermapbox"
           }
          ],
          "scatterpolar": [
           {
            "marker": {
             "colorbar": {
              "outlinewidth": 0,
              "ticks": ""
             }
            },
            "type": "scatterpolar"
           }
          ],
          "scatterpolargl": [
           {
            "marker": {
             "colorbar": {
              "outlinewidth": 0,
              "ticks": ""
             }
            },
            "type": "scatterpolargl"
           }
          ],
          "scatterternary": [
           {
            "marker": {
             "colorbar": {
              "outlinewidth": 0,
              "ticks": ""
             }
            },
            "type": "scatterternary"
           }
          ],
          "surface": [
           {
            "colorbar": {
             "outlinewidth": 0,
             "ticks": ""
            },
            "colorscale": [
             [
              0,
              "#0d0887"
             ],
             [
              0.1111111111111111,
              "#46039f"
             ],
             [
              0.2222222222222222,
              "#7201a8"
             ],
             [
              0.3333333333333333,
              "#9c179e"
             ],
             [
              0.4444444444444444,
              "#bd3786"
             ],
             [
              0.5555555555555556,
              "#d8576b"
             ],
             [
              0.6666666666666666,
              "#ed7953"
             ],
             [
              0.7777777777777778,
              "#fb9f3a"
             ],
             [
              0.8888888888888888,
              "#fdca26"
             ],
             [
              1,
              "#f0f921"
             ]
            ],
            "type": "surface"
           }
          ],
          "table": [
           {
            "cells": {
             "fill": {
              "color": "#EBF0F8"
             },
             "line": {
              "color": "white"
             }
            },
            "header": {
             "fill": {
              "color": "#C8D4E3"
             },
             "line": {
              "color": "white"
             }
            },
            "type": "table"
           }
          ]
         },
         "layout": {
          "annotationdefaults": {
           "arrowcolor": "#2a3f5f",
           "arrowhead": 0,
           "arrowwidth": 1
          },
          "autotypenumbers": "strict",
          "coloraxis": {
           "colorbar": {
            "outlinewidth": 0,
            "ticks": ""
           }
          },
          "colorscale": {
           "diverging": [
            [
             0,
             "#8e0152"
            ],
            [
             0.1,
             "#c51b7d"
            ],
            [
             0.2,
             "#de77ae"
            ],
            [
             0.3,
             "#f1b6da"
            ],
            [
             0.4,
             "#fde0ef"
            ],
            [
             0.5,
             "#f7f7f7"
            ],
            [
             0.6,
             "#e6f5d0"
            ],
            [
             0.7,
             "#b8e186"
            ],
            [
             0.8,
             "#7fbc41"
            ],
            [
             0.9,
             "#4d9221"
            ],
            [
             1,
             "#276419"
            ]
           ],
           "sequential": [
            [
             0,
             "#0d0887"
            ],
            [
             0.1111111111111111,
             "#46039f"
            ],
            [
             0.2222222222222222,
             "#7201a8"
            ],
            [
             0.3333333333333333,
             "#9c179e"
            ],
            [
             0.4444444444444444,
             "#bd3786"
            ],
            [
             0.5555555555555556,
             "#d8576b"
            ],
            [
             0.6666666666666666,
             "#ed7953"
            ],
            [
             0.7777777777777778,
             "#fb9f3a"
            ],
            [
             0.8888888888888888,
             "#fdca26"
            ],
            [
             1,
             "#f0f921"
            ]
           ],
           "sequentialminus": [
            [
             0,
             "#0d0887"
            ],
            [
             0.1111111111111111,
             "#46039f"
            ],
            [
             0.2222222222222222,
             "#7201a8"
            ],
            [
             0.3333333333333333,
             "#9c179e"
            ],
            [
             0.4444444444444444,
             "#bd3786"
            ],
            [
             0.5555555555555556,
             "#d8576b"
            ],
            [
             0.6666666666666666,
             "#ed7953"
            ],
            [
             0.7777777777777778,
             "#fb9f3a"
            ],
            [
             0.8888888888888888,
             "#fdca26"
            ],
            [
             1,
             "#f0f921"
            ]
           ]
          },
          "colorway": [
           "#636efa",
           "#EF553B",
           "#00cc96",
           "#ab63fa",
           "#FFA15A",
           "#19d3f3",
           "#FF6692",
           "#B6E880",
           "#FF97FF",
           "#FECB52"
          ],
          "font": {
           "color": "#2a3f5f"
          },
          "geo": {
           "bgcolor": "white",
           "lakecolor": "white",
           "landcolor": "#E5ECF6",
           "showlakes": true,
           "showland": true,
           "subunitcolor": "white"
          },
          "hoverlabel": {
           "align": "left"
          },
          "hovermode": "closest",
          "mapbox": {
           "style": "light"
          },
          "paper_bgcolor": "white",
          "plot_bgcolor": "#E5ECF6",
          "polar": {
           "angularaxis": {
            "gridcolor": "white",
            "linecolor": "white",
            "ticks": ""
           },
           "bgcolor": "#E5ECF6",
           "radialaxis": {
            "gridcolor": "white",
            "linecolor": "white",
            "ticks": ""
           }
          },
          "scene": {
           "xaxis": {
            "backgroundcolor": "#E5ECF6",
            "gridcolor": "white",
            "gridwidth": 2,
            "linecolor": "white",
            "showbackground": true,
            "ticks": "",
            "zerolinecolor": "white"
           },
           "yaxis": {
            "backgroundcolor": "#E5ECF6",
            "gridcolor": "white",
            "gridwidth": 2,
            "linecolor": "white",
            "showbackground": true,
            "ticks": "",
            "zerolinecolor": "white"
           },
           "zaxis": {
            "backgroundcolor": "#E5ECF6",
            "gridcolor": "white",
            "gridwidth": 2,
            "linecolor": "white",
            "showbackground": true,
            "ticks": "",
            "zerolinecolor": "white"
           }
          },
          "shapedefaults": {
           "line": {
            "color": "#2a3f5f"
           }
          },
          "ternary": {
           "aaxis": {
            "gridcolor": "white",
            "linecolor": "white",
            "ticks": ""
           },
           "baxis": {
            "gridcolor": "white",
            "linecolor": "white",
            "ticks": ""
           },
           "bgcolor": "#E5ECF6",
           "caxis": {
            "gridcolor": "white",
            "linecolor": "white",
            "ticks": ""
           }
          },
          "title": {
           "x": 0.05
          },
          "xaxis": {
           "automargin": true,
           "gridcolor": "white",
           "linecolor": "white",
           "ticks": "",
           "title": {
            "standoff": 15
           },
           "zerolinecolor": "white",
           "zerolinewidth": 2
          },
          "yaxis": {
           "automargin": true,
           "gridcolor": "white",
           "linecolor": "white",
           "ticks": "",
           "title": {
            "standoff": 15
           },
           "zerolinecolor": "white",
           "zerolinewidth": 2
          }
         }
        },
        "title": {
         "text": "Locations for Solar Forecasting"
        }
       }
      },
      "text/html": [
       "<div>                            <div id=\"822b669c-7577-41b0-8344-a40de2c88463\" class=\"plotly-graph-div\" style=\"height:525px; width:100%;\"></div>            <script type=\"text/javascript\">                require([\"plotly\"], function(Plotly) {                    window.PLOTLYENV=window.PLOTLYENV || {};                                    if (document.getElementById(\"822b669c-7577-41b0-8344-a40de2c88463\")) {                    Plotly.newPlot(                        \"822b669c-7577-41b0-8344-a40de2c88463\",                        [{\"lat\":[49.0362,49.0362,48.9289,48.7835,48.7826,48.5767,48.5085,48.4093,48.0139,47.9735,47.8695,47.6748,47.6202,47.6155,47.559,47.5053,47.4189,47.3855,47.2402,47.1095,47.0347,46.4134,46.2199,46.1704,46.1514,46.0562,45.4969],\"lon\":[-122.3247,-118.4245,-117.8306,-122.3357,-121.7994,-122.9509,-117.3252,-123.5716,-123.4453,-122.2038,-118.8001,-117.3698,-122.14,-122.2917,-122.7195,-121.8406,-120.3032,-122.1983,-122.4345,-119.232,-122.863,-117.0293,-119.0837,-123.7804,-122.8191,-118.3476,-122.5938],\"mode\":\"markers\",\"text\":[\"Abbotsford, Canada\",\"Grand Forks, Canada\",\"Northport, WA\",\"Dewey, WA\",\"Mt. Baker, WA\",\"Shaw Island, WA\",\"Rudy, WA\",\"Metchosin, Canada\",\"Port Angeles, WA\",\"Everett,  WA\",\"Wilbur, WA\",\"Spokane, WA\",\"Bellevue, WA\",\"Seattle, WA\",\"Gorst, WA\",\"Snoqualmie, WA\",\"Wenatchee, WA\",\"Kent, WA\",\"Tacoma, WA\",\"Moses Lake, WA\",\"Olympia, WA\",\"Lewiston, ID\",\"Kennewick, WA\",\"Navy Heights, OR\",\"Kelso, WA\",\"Walla Walla, WA\",\"Portland, OR\"],\"type\":\"scattergeo\"}],                        {\"template\":{\"data\":{\"bar\":[{\"error_x\":{\"color\":\"#2a3f5f\"},\"error_y\":{\"color\":\"#2a3f5f\"},\"marker\":{\"line\":{\"color\":\"#E5ECF6\",\"width\":0.5},\"pattern\":{\"fillmode\":\"overlay\",\"size\":10,\"solidity\":0.2}},\"type\":\"bar\"}],\"barpolar\":[{\"marker\":{\"line\":{\"color\":\"#E5ECF6\",\"width\":0.5},\"pattern\":{\"fillmode\":\"overlay\",\"size\":10,\"solidity\":0.2}},\"type\":\"barpolar\"}],\"carpet\":[{\"aaxis\":{\"endlinecolor\":\"#2a3f5f\",\"gridcolor\":\"white\",\"linecolor\":\"white\",\"minorgridcolor\":\"white\",\"startlinecolor\":\"#2a3f5f\"},\"baxis\":{\"endlinecolor\":\"#2a3f5f\",\"gridcolor\":\"white\",\"linecolor\":\"white\",\"minorgridcolor\":\"white\",\"startlinecolor\":\"#2a3f5f\"},\"type\":\"carpet\"}],\"choropleth\":[{\"colorbar\":{\"outlinewidth\":0,\"ticks\":\"\"},\"type\":\"choropleth\"}],\"contour\":[{\"colorbar\":{\"outlinewidth\":0,\"ticks\":\"\"},\"colorscale\":[[0.0,\"#0d0887\"],[0.1111111111111111,\"#46039f\"],[0.2222222222222222,\"#7201a8\"],[0.3333333333333333,\"#9c179e\"],[0.4444444444444444,\"#bd3786\"],[0.5555555555555556,\"#d8576b\"],[0.6666666666666666,\"#ed7953\"],[0.7777777777777778,\"#fb9f3a\"],[0.8888888888888888,\"#fdca26\"],[1.0,\"#f0f921\"]],\"type\":\"contour\"}],\"contourcarpet\":[{\"colorbar\":{\"outlinewidth\":0,\"ticks\":\"\"},\"type\":\"contourcarpet\"}],\"heatmap\":[{\"colorbar\":{\"outlinewidth\":0,\"ticks\":\"\"},\"colorscale\":[[0.0,\"#0d0887\"],[0.1111111111111111,\"#46039f\"],[0.2222222222222222,\"#7201a8\"],[0.3333333333333333,\"#9c179e\"],[0.4444444444444444,\"#bd3786\"],[0.5555555555555556,\"#d8576b\"],[0.6666666666666666,\"#ed7953\"],[0.7777777777777778,\"#fb9f3a\"],[0.8888888888888888,\"#fdca26\"],[1.0,\"#f0f921\"]],\"type\":\"heatmap\"}],\"heatmapgl\":[{\"colorbar\":{\"outlinewidth\":0,\"ticks\":\"\"},\"colorscale\":[[0.0,\"#0d0887\"],[0.1111111111111111,\"#46039f\"],[0.2222222222222222,\"#7201a8\"],[0.3333333333333333,\"#9c179e\"],[0.4444444444444444,\"#bd3786\"],[0.5555555555555556,\"#d8576b\"],[0.6666666666666666,\"#ed7953\"],[0.7777777777777778,\"#fb9f3a\"],[0.8888888888888888,\"#fdca26\"],[1.0,\"#f0f921\"]],\"type\":\"heatmapgl\"}],\"histogram\":[{\"marker\":{\"pattern\":{\"fillmode\":\"overlay\",\"size\":10,\"solidity\":0.2}},\"type\":\"histogram\"}],\"histogram2d\":[{\"colorbar\":{\"outlinewidth\":0,\"ticks\":\"\"},\"colorscale\":[[0.0,\"#0d0887\"],[0.1111111111111111,\"#46039f\"],[0.2222222222222222,\"#7201a8\"],[0.3333333333333333,\"#9c179e\"],[0.4444444444444444,\"#bd3786\"],[0.5555555555555556,\"#d8576b\"],[0.6666666666666666,\"#ed7953\"],[0.7777777777777778,\"#fb9f3a\"],[0.8888888888888888,\"#fdca26\"],[1.0,\"#f0f921\"]],\"type\":\"histogram2d\"}],\"histogram2dcontour\":[{\"colorbar\":{\"outlinewidth\":0,\"ticks\":\"\"},\"colorscale\":[[0.0,\"#0d0887\"],[0.1111111111111111,\"#46039f\"],[0.2222222222222222,\"#7201a8\"],[0.3333333333333333,\"#9c179e\"],[0.4444444444444444,\"#bd3786\"],[0.5555555555555556,\"#d8576b\"],[0.6666666666666666,\"#ed7953\"],[0.7777777777777778,\"#fb9f3a\"],[0.8888888888888888,\"#fdca26\"],[1.0,\"#f0f921\"]],\"type\":\"histogram2dcontour\"}],\"mesh3d\":[{\"colorbar\":{\"outlinewidth\":0,\"ticks\":\"\"},\"type\":\"mesh3d\"}],\"parcoords\":[{\"line\":{\"colorbar\":{\"outlinewidth\":0,\"ticks\":\"\"}},\"type\":\"parcoords\"}],\"pie\":[{\"automargin\":true,\"type\":\"pie\"}],\"scatter\":[{\"marker\":{\"colorbar\":{\"outlinewidth\":0,\"ticks\":\"\"}},\"type\":\"scatter\"}],\"scatter3d\":[{\"line\":{\"colorbar\":{\"outlinewidth\":0,\"ticks\":\"\"}},\"marker\":{\"colorbar\":{\"outlinewidth\":0,\"ticks\":\"\"}},\"type\":\"scatter3d\"}],\"scattercarpet\":[{\"marker\":{\"colorbar\":{\"outlinewidth\":0,\"ticks\":\"\"}},\"type\":\"scattercarpet\"}],\"scattergeo\":[{\"marker\":{\"colorbar\":{\"outlinewidth\":0,\"ticks\":\"\"}},\"type\":\"scattergeo\"}],\"scattergl\":[{\"marker\":{\"colorbar\":{\"outlinewidth\":0,\"ticks\":\"\"}},\"type\":\"scattergl\"}],\"scattermapbox\":[{\"marker\":{\"colorbar\":{\"outlinewidth\":0,\"ticks\":\"\"}},\"type\":\"scattermapbox\"}],\"scatterpolar\":[{\"marker\":{\"colorbar\":{\"outlinewidth\":0,\"ticks\":\"\"}},\"type\":\"scatterpolar\"}],\"scatterpolargl\":[{\"marker\":{\"colorbar\":{\"outlinewidth\":0,\"ticks\":\"\"}},\"type\":\"scatterpolargl\"}],\"scatterternary\":[{\"marker\":{\"colorbar\":{\"outlinewidth\":0,\"ticks\":\"\"}},\"type\":\"scatterternary\"}],\"surface\":[{\"colorbar\":{\"outlinewidth\":0,\"ticks\":\"\"},\"colorscale\":[[0.0,\"#0d0887\"],[0.1111111111111111,\"#46039f\"],[0.2222222222222222,\"#7201a8\"],[0.3333333333333333,\"#9c179e\"],[0.4444444444444444,\"#bd3786\"],[0.5555555555555556,\"#d8576b\"],[0.6666666666666666,\"#ed7953\"],[0.7777777777777778,\"#fb9f3a\"],[0.8888888888888888,\"#fdca26\"],[1.0,\"#f0f921\"]],\"type\":\"surface\"}],\"table\":[{\"cells\":{\"fill\":{\"color\":\"#EBF0F8\"},\"line\":{\"color\":\"white\"}},\"header\":{\"fill\":{\"color\":\"#C8D4E3\"},\"line\":{\"color\":\"white\"}},\"type\":\"table\"}]},\"layout\":{\"annotationdefaults\":{\"arrowcolor\":\"#2a3f5f\",\"arrowhead\":0,\"arrowwidth\":1},\"autotypenumbers\":\"strict\",\"coloraxis\":{\"colorbar\":{\"outlinewidth\":0,\"ticks\":\"\"}},\"colorscale\":{\"diverging\":[[0,\"#8e0152\"],[0.1,\"#c51b7d\"],[0.2,\"#de77ae\"],[0.3,\"#f1b6da\"],[0.4,\"#fde0ef\"],[0.5,\"#f7f7f7\"],[0.6,\"#e6f5d0\"],[0.7,\"#b8e186\"],[0.8,\"#7fbc41\"],[0.9,\"#4d9221\"],[1,\"#276419\"]],\"sequential\":[[0.0,\"#0d0887\"],[0.1111111111111111,\"#46039f\"],[0.2222222222222222,\"#7201a8\"],[0.3333333333333333,\"#9c179e\"],[0.4444444444444444,\"#bd3786\"],[0.5555555555555556,\"#d8576b\"],[0.6666666666666666,\"#ed7953\"],[0.7777777777777778,\"#fb9f3a\"],[0.8888888888888888,\"#fdca26\"],[1.0,\"#f0f921\"]],\"sequentialminus\":[[0.0,\"#0d0887\"],[0.1111111111111111,\"#46039f\"],[0.2222222222222222,\"#7201a8\"],[0.3333333333333333,\"#9c179e\"],[0.4444444444444444,\"#bd3786\"],[0.5555555555555556,\"#d8576b\"],[0.6666666666666666,\"#ed7953\"],[0.7777777777777778,\"#fb9f3a\"],[0.8888888888888888,\"#fdca26\"],[1.0,\"#f0f921\"]]},\"colorway\":[\"#636efa\",\"#EF553B\",\"#00cc96\",\"#ab63fa\",\"#FFA15A\",\"#19d3f3\",\"#FF6692\",\"#B6E880\",\"#FF97FF\",\"#FECB52\"],\"font\":{\"color\":\"#2a3f5f\"},\"geo\":{\"bgcolor\":\"white\",\"lakecolor\":\"white\",\"landcolor\":\"#E5ECF6\",\"showlakes\":true,\"showland\":true,\"subunitcolor\":\"white\"},\"hoverlabel\":{\"align\":\"left\"},\"hovermode\":\"closest\",\"mapbox\":{\"style\":\"light\"},\"paper_bgcolor\":\"white\",\"plot_bgcolor\":\"#E5ECF6\",\"polar\":{\"angularaxis\":{\"gridcolor\":\"white\",\"linecolor\":\"white\",\"ticks\":\"\"},\"bgcolor\":\"#E5ECF6\",\"radialaxis\":{\"gridcolor\":\"white\",\"linecolor\":\"white\",\"ticks\":\"\"}},\"scene\":{\"xaxis\":{\"backgroundcolor\":\"#E5ECF6\",\"gridcolor\":\"white\",\"gridwidth\":2,\"linecolor\":\"white\",\"showbackground\":true,\"ticks\":\"\",\"zerolinecolor\":\"white\"},\"yaxis\":{\"backgroundcolor\":\"#E5ECF6\",\"gridcolor\":\"white\",\"gridwidth\":2,\"linecolor\":\"white\",\"showbackground\":true,\"ticks\":\"\",\"zerolinecolor\":\"white\"},\"zaxis\":{\"backgroundcolor\":\"#E5ECF6\",\"gridcolor\":\"white\",\"gridwidth\":2,\"linecolor\":\"white\",\"showbackground\":true,\"ticks\":\"\",\"zerolinecolor\":\"white\"}},\"shapedefaults\":{\"line\":{\"color\":\"#2a3f5f\"}},\"ternary\":{\"aaxis\":{\"gridcolor\":\"white\",\"linecolor\":\"white\",\"ticks\":\"\"},\"baxis\":{\"gridcolor\":\"white\",\"linecolor\":\"white\",\"ticks\":\"\"},\"bgcolor\":\"#E5ECF6\",\"caxis\":{\"gridcolor\":\"white\",\"linecolor\":\"white\",\"ticks\":\"\"}},\"title\":{\"x\":0.05},\"xaxis\":{\"automargin\":true,\"gridcolor\":\"white\",\"linecolor\":\"white\",\"ticks\":\"\",\"title\":{\"standoff\":15},\"zerolinecolor\":\"white\",\"zerolinewidth\":2},\"yaxis\":{\"automargin\":true,\"gridcolor\":\"white\",\"linecolor\":\"white\",\"ticks\":\"\",\"title\":{\"standoff\":15},\"zerolinecolor\":\"white\",\"zerolinewidth\":2}}},\"geo\":{\"scope\":\"usa\"},\"title\":{\"text\":\"Locations for Solar Forecasting\"}},                        {\"responsive\": true}                    ).then(function(){\n",
       "                            \n",
       "var gd = document.getElementById('822b669c-7577-41b0-8344-a40de2c88463');\n",
       "var x = new MutationObserver(function (mutations, observer) {{\n",
       "        var display = window.getComputedStyle(gd).display;\n",
       "        if (!display || display === 'none') {{\n",
       "            console.log([gd, 'removed!']);\n",
       "            Plotly.purge(gd);\n",
       "            observer.disconnect();\n",
       "        }}\n",
       "}});\n",
       "\n",
       "// Listen for the removal of the full notebook cells\n",
       "var notebookContainer = gd.closest('#notebook-container');\n",
       "if (notebookContainer) {{\n",
       "    x.observe(notebookContainer, {childList: true});\n",
       "}}\n",
       "\n",
       "// Listen for the clearing of the current output cell\n",
       "var outputEl = gd.closest('.output');\n",
       "if (outputEl) {{\n",
       "    x.observe(outputEl, {childList: true});\n",
       "}}\n",
       "\n",
       "                        })                };                });            </script>        </div>"
      ]
     },
     "metadata": {},
     "output_type": "display_data"
    }
   ],
   "source": [
    "fig = go.Figure(data=go.Scattergeo(\n",
    "        lon = locations['lon'],\n",
    "        lat = locations['lat'],\n",
    "        text = locations['Place'],\n",
    "        mode = 'markers',\n",
    "        #marker_color = df['cnt'],\n",
    "        ))\n",
    "\n",
    "fig.update_layout(title = 'Locations for Solar Forecasting', geo_scope='usa')\n",
    "fig.show()"
   ]
  },
  {
   "cell_type": "code",
   "execution_count": null,
   "id": "b1907428",
   "metadata": {},
   "outputs": [],
   "source": []
  }
 ],
 "metadata": {
  "kernelspec": {
   "display_name": "Python 3 (ipykernel)",
   "language": "python",
   "name": "python3"
  },
  "language_info": {
   "codemirror_mode": {
    "name": "ipython",
    "version": 3
   },
   "file_extension": ".py",
   "mimetype": "text/x-python",
   "name": "python",
   "nbconvert_exporter": "python",
   "pygments_lexer": "ipython3",
   "version": "3.7.11"
  }
 },
 "nbformat": 4,
 "nbformat_minor": 5
}
