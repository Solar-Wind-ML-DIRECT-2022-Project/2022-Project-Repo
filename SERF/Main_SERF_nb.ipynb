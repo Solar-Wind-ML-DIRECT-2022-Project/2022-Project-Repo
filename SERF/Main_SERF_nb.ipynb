{
 "cells": [
  {
   "cell_type": "markdown",
   "id": "a7d0f9e6",
   "metadata": {},
   "source": [
    "# Solar Energy Resource Forecasting (SERF) Main Notebook\n",
    "-----"
   ]
  },
  {
   "cell_type": "markdown",
   "id": "b640ab2c",
   "metadata": {},
   "source": [
    "### Psuedocode explaination\n",
    "Notes: % = comments here <br>\n",
    "\n",
    "% unzip appropriate csv files - let's use pandas <br>\n",
    "zip_file = read_zip('nameofzipfile.zip)  <br>\n",
    "df = unzipper(zip_file)  <br>\n",
    "\n",
    "% extract appropriate data - main data files <br>\n",
    "set_1 = df['col1']  <br>\n",
    "set_2 = df['col2']  <br>\n",
    "set_3 = df['col3']  <br>\n",
    "...\n",
    "set_n = df['coln']  <br>\n",
    "\n",
    "\n",
    "% perhaps need to colate all data cross time to get one large dataset for each location across all considered time <br>\n",
    "code goes here for that  <br>\n",
    "\n",
    "\n",
    "%% apply machine learning algorith to individual location <br>\n",
    "\n",
    "% establish output forecast vectors (maybe need to be matrices) <br>\n",
    "srf_city_1 = blankvector <br>\n",
    "srf_city_2 = blankvector <br>\n",
    "srf_city_3 = blankvector <br>\n",
    "....\n",
    "srf_city_n = blankvector <br>\n",
    "\n",
    "% use sarima in scikit learn to create a solar forecast for all cities that we have in our region (perhaps a loop would be helpful or a function to quickly perform this analysis and output to the srf_vector) <br>\n",
    "\n",
    "for i in len(number_citiesofinterest): \n",
    "    X = solar resource  <br>\n",
    "    y = matrix of other data that we care about <br>\n",
    "    forecast_for_city_i = scikit_lear_sarima(X, y, other input variable) <br>\n",
    "    etc  <br>\n",
    "    etc  <br>\n",
    "    <br>\n",
    "OR<br>\n",
    "<br>\n",
    "def arima_forecast(city, cityname, df or data cols, etc, etc):  <br>\n",
    "    perform arima analysis (more detail)  <br>\n",
    "    return srf_city_cityname  <br>\n",
    "    \n",
    "    \n",
    "% overlay a specialized 2d map to  <br>\n",
    "xy_map = meshgrid(xdim, ydim)  <br>\n",
    "% fit a linear 2d xy map to the forecasting data for each forecast data point to get a comprehensive 3d (2 space variables, one time variable) for a specific region lying within our data  <br>\n",
    "\n",
    "fit xy_map over the output forecast data\n",
    "\n",
    "\n"
   ]
  },
  {
   "cell_type": "code",
   "execution_count": null,
   "id": "b3859704",
   "metadata": {},
   "outputs": [],
   "source": []
  },
  {
   "cell_type": "code",
   "execution_count": null,
   "id": "ae754692",
   "metadata": {},
   "outputs": [],
   "source": []
  },
  {
   "cell_type": "code",
   "execution_count": null,
   "id": "08f3f99e",
   "metadata": {},
   "outputs": [],
   "source": []
  },
  {
   "cell_type": "code",
   "execution_count": null,
   "id": "99c46535",
   "metadata": {},
   "outputs": [],
   "source": []
  },
  {
   "cell_type": "code",
   "execution_count": null,
   "id": "25e62276",
   "metadata": {},
   "outputs": [],
   "source": []
  },
  {
   "cell_type": "code",
   "execution_count": null,
   "id": "3bf57d20",
   "metadata": {},
   "outputs": [],
   "source": []
  },
  {
   "cell_type": "code",
   "execution_count": null,
   "id": "66f268fb",
   "metadata": {},
   "outputs": [],
   "source": []
  },
  {
   "cell_type": "code",
   "execution_count": null,
   "id": "6223e6a4",
   "metadata": {},
   "outputs": [],
   "source": []
  },
  {
   "cell_type": "code",
   "execution_count": null,
   "id": "22bd084f",
   "metadata": {},
   "outputs": [],
   "source": []
  },
  {
   "cell_type": "code",
   "execution_count": null,
   "id": "5d22b451",
   "metadata": {},
   "outputs": [],
   "source": []
  },
  {
   "cell_type": "code",
   "execution_count": null,
   "id": "7a08fa87",
   "metadata": {},
   "outputs": [],
   "source": []
  },
  {
   "cell_type": "code",
   "execution_count": null,
   "id": "4ac52c9f",
   "metadata": {},
   "outputs": [],
   "source": []
  },
  {
   "cell_type": "code",
   "execution_count": null,
   "id": "fbb13575",
   "metadata": {},
   "outputs": [],
   "source": []
  },
  {
   "cell_type": "code",
   "execution_count": null,
   "id": "fbe6239b",
   "metadata": {},
   "outputs": [],
   "source": []
  },
  {
   "cell_type": "code",
   "execution_count": null,
   "id": "4ce9dc4e",
   "metadata": {},
   "outputs": [],
   "source": []
  },
  {
   "cell_type": "code",
   "execution_count": null,
   "id": "ddf23ccb",
   "metadata": {},
   "outputs": [],
   "source": []
  },
  {
   "cell_type": "code",
   "execution_count": null,
   "id": "a55ae5dc",
   "metadata": {},
   "outputs": [],
   "source": []
  },
  {
   "cell_type": "code",
   "execution_count": null,
   "id": "c530155f",
   "metadata": {},
   "outputs": [],
   "source": []
  },
  {
   "cell_type": "code",
   "execution_count": null,
   "id": "febd4c96",
   "metadata": {},
   "outputs": [],
   "source": []
  },
  {
   "cell_type": "code",
   "execution_count": null,
   "id": "712dc334",
   "metadata": {},
   "outputs": [],
   "source": []
  },
  {
   "cell_type": "code",
   "execution_count": null,
   "id": "b497cd7b",
   "metadata": {},
   "outputs": [],
   "source": []
  },
  {
   "cell_type": "code",
   "execution_count": null,
   "id": "ab19723c",
   "metadata": {},
   "outputs": [],
   "source": []
  },
  {
   "cell_type": "code",
   "execution_count": null,
   "id": "e104921c",
   "metadata": {},
   "outputs": [],
   "source": []
  },
  {
   "cell_type": "code",
   "execution_count": null,
   "id": "cd792683",
   "metadata": {},
   "outputs": [],
   "source": []
  },
  {
   "cell_type": "code",
   "execution_count": null,
   "id": "0f250cd4",
   "metadata": {},
   "outputs": [],
   "source": []
  },
  {
   "cell_type": "code",
   "execution_count": null,
   "id": "5c7eb874",
   "metadata": {},
   "outputs": [],
   "source": []
  },
  {
   "cell_type": "code",
   "execution_count": null,
   "id": "5337880e",
   "metadata": {},
   "outputs": [],
   "source": []
  }
 ],
 "metadata": {
  "kernelspec": {
   "display_name": "Python 3",
   "language": "python",
   "name": "python3"
  },
  "language_info": {
   "codemirror_mode": {
    "name": "ipython",
    "version": 3
   },
   "file_extension": ".py",
   "mimetype": "text/x-python",
   "name": "python",
   "nbconvert_exporter": "python",
   "pygments_lexer": "ipython3",
   "version": "3.8.8"
  }
 },
 "nbformat": 4,
 "nbformat_minor": 5
}
